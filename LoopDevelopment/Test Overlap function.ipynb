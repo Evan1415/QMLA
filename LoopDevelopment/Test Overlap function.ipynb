{
 "cells": [
  {
   "cell_type": "code",
   "execution_count": 1,
   "metadata": {},
   "outputs": [
    {
     "name": "stderr",
     "output_type": "stream",
     "text": [
      "/usr/local/lib/python2.7/dist-packages/IPython/parallel.py:13: ShimWarning: The `IPython.parallel` package has been deprecated since IPython 4.0. You should import from ipyparallel instead.\n",
      "  \"You should import from ipyparallel instead.\", ShimWarning)\n",
      "/usr/local/lib/python2.7/dist-packages/qinfer/parallel.py:52: UserWarning: Could not import IPython parallel. Parallelization support will be disabled.\n",
      "  \"Could not import IPython parallel. \"\n"
     ]
    }
   ],
   "source": [
    "from __future__ import print_function # so print doesn't show brackets\n",
    "import qinfer as qi\n",
    "import qutip as qt\n",
    "import numpy as np\n",
    "import scipy as sp\n",
    "#import qutip as qt\n",
    "import sys as sys\n",
    "import os as os"
   ]
  },
  {
   "cell_type": "code",
   "execution_count": 2,
   "metadata": {},
   "outputs": [],
   "source": [
    "## Partial trace functionality\n",
    "\n",
    "def expectation_value(ham, t, state=None, choose_random_probe=False):\n",
    "# todo: list of probes, maybe 5 is enough? test with different values\n",
    "    if choose_random_probe is True: \n",
    "        num_qubits = int(np.log2(np.shape(ham)[0]))\n",
    "        state = random_probe(num_qubits)\n",
    "    elif random_probe is False and state is None: \n",
    "        print (\"expectation value function: you need to either pass a state or set choose_random_probe=True\")\n",
    "    u_psi = evolved_state(ham, t, state)\n",
    "    probe_bra = state.conj().T\n",
    "    psi_u_psi = np.dot(probe_bra, u_psi)\n",
    "    return np.abs(psi_u_psi**2)\n",
    "\n",
    "def evolved_state(ham, t, state):\n",
    "    import hamiltonian_exponentiation as h\n",
    "    unitary = h.exp_ham(ham, t)\n",
    "    return np.dot(unitary, state)\n",
    "\n",
    "\n",
    "def random_probe(num_qubits):\n",
    "    dim = 2**num_qubits\n",
    "    real = np.random.rand(1,dim)\n",
    "    imaginary = np.random.rand(1,dim)\n",
    "    complex_vectors = np.empty([1, dim])\n",
    "    complex_vectors = real +1.j*imaginary\n",
    "    norm_factor = np.linalg.norm(complex_vectors)\n",
    "    probe = complex_vectors/norm_factor\n",
    "    return probe[0][:]\n",
    "\n",
    "def trim_vector(state, final_num_qubits):\n",
    "#todo: renormalise\n",
    "    new_vec = state[:2**final_num_qubits]/np.linalg.norm(state[:2**final_num_qubits])\n",
    "    return new_vec\n",
    "\n",
    "def qutip_evolved_state(ham, t, state):\n",
    "    length = int(np.shape(ham)[0])\n",
    "    evolved = evolved_state(ham,t,state=state)\n",
    "    #density_mtx = np.kron(evolved.conj(), evolved).reshape(length, length)\n",
    "    return qt.Qobj(evolved)\n",
    "\n",
    "def outer_product(state, as_qutip_object=False):\n",
    "    dim = int((state.shape[0]))\n",
    "    if as_qutip_object:\n",
    "        return qt.Qobj(np.kron(state.conj(), state).reshape(dim, dim))\n",
    "    else: \n",
    "        return np.kron(state.conj(), state).reshape(dim, dim) \n",
    " \n",
    "\n",
    "def overlap(ham_true, ham_sim, t):\n",
    "    overlap_print =False\n",
    "    if overlap_print: print(\"overlap :\")\n",
    "    if overlap_print: print(\"ham true :\" , ham_true)\n",
    "    if overlap_print: print(\"ham sim :\", ham_sim)\n",
    "    if overlap_print: print(\"t=\", t)\n",
    "\n",
    "    true_dim = int(np.log2(np.shape(ham_true)[0])) \n",
    "    sim_dim = int(np.log2(np.shape(ham_sim)[0]))\n",
    "\n",
    "    \n",
    "    if true_dim == sim_dim:\n",
    "        joined_ham = ham_sim - ham_true\n",
    "        return expectation_value(joined_ham, t, choose_random_probe=True)\n",
    "\n",
    "    min_dim = min(true_dim, sim_dim)\n",
    "    max_dim = max(true_dim, sim_dim)\n",
    "    to_keep = range(min_dim)\n",
    "\n",
    "    probe = random_probe(max_dim)\n",
    "    reduced_probe = trim_vector(probe, final_num_qubits=min_dim)\n",
    "    \n",
    "    if sim_dim > min_dim: \n",
    "    #todo: remove partial trace when system is smallest one anyway\n",
    "    # if dims match -> don't go into qutip (expectation_value function); \n",
    "    # if one bigger -> ptrace on bigger Qobj on other -> get qt.expect\n",
    "        sim = qutip_evolved_state(ham_sim, t, probe)\n",
    "        sim.dims = [[2]*sim_dim, [1]*sim_dim]\n",
    "        sim_reduced = sim.ptrace(to_keep)\n",
    "    else:\n",
    "        sim =  evolved_state(ham_sim, t, reduced_probe)\n",
    "        #sim.dims = [[2]*sim_dim, [1]*sim_dim]\n",
    "        sim_reduced = outer_product(sim, as_qutip_object=True)\n",
    "    \n",
    "    if true_dim > min_dim: \n",
    "        true = qutip_evolved_state(ham_true, t, probe)\n",
    "        true.dims = [[2]*true_dim, [1]*true_dim]\n",
    "        true_reduced = true.ptrace(to_keep)\n",
    "    else: \n",
    "        true = evolved_state(ham_true, t, reduced_probe)\n",
    "        #true.dims = [[2]*true_dim, [1]*true_dim]\n",
    "        true_reduced = outer_product(true, as_qutip_object=True)\n",
    "        \n",
    "    #return true_reduced, sim_reduced\n",
    "    overlap = qt.expect(sim_reduced, true_reduced)\n",
    "    if overlap_print: print(\"overlap is \", overlap)\n",
    "    return overlap"
   ]
  },
  {
   "cell_type": "code",
   "execution_count": 6,
   "metadata": {},
   "outputs": [],
   "source": [
    "import qutip as qt\n",
    "import hamiltonian_exponentiation as h\n",
    "\n",
    "def iqle_evolve(ham_sim, ham_true,t):\n",
    "    true_dim = int(np.log2(np.shape(ham_true)[0])) \n",
    "    sim_dim = int(np.log2(np.shape(ham_sim)[0]))\n",
    "\n",
    "    \n",
    "    if true_dim == sim_dim: \n",
    "        ham = ham_sim - ham_true\n",
    "        probe = random_probe(true_dim)\n",
    "        reversed_evolved_probe = expectation_value(ham, t, state=probe) \n",
    "        return reversed_evolved_probe\n",
    "\n",
    "    elif true_dim > sim_dim:\n",
    "        dim = true_dim\n",
    "        smaller_dim = sim_dim\n",
    "        probe = random_probe(dim)\n",
    "        qt_probe = qt.Qobj(trim_vector(probe, final_num_qubits=smaller_dim))\n",
    "        print(\"qt probe: \", qt_probe)\n",
    "        to_keep = range(smaller_dim)\n",
    "        evolved_probe = evolved_state(ham=ham_true, t=1, state=probe)\n",
    "        evolved_qt_obj = qt.Qobj(evolved_probe)\n",
    "        evolved_qt_obj.dims = [[2]*dim, [1]*dim]\n",
    "        evolved_partial_trace = evolved_qt_obj.ptrace(sim_dim)[:]\n",
    "        sim_unitary = h.exp_ham(ham_sim, t, plus_or_minus=1)\n",
    "        sim_unitary_dagger = sim_unitary.conj().T # U_adjoint\n",
    "        Rho_U = np.dot(evolved_partial_trace, sim_unitary)\n",
    "        U_adjoint_Rho_U = qt.Qobj(np.dot(sim_unitary_dagger, Rho_U))\n",
    "        U_adjoint_Rho_U.dims = [[2]*smaller_dim, [2]*smaller_dim]\n",
    "        print(\"U_rho_U = \", U_adjoint_Rho_U)\n",
    "        expected_value = qt.expect(U_adjoint_Rho_U, qt_probe)\n",
    "        return expected_value"
   ]
  },
  {
   "cell_type": "code",
   "execution_count": 7,
   "metadata": {},
   "outputs": [],
   "source": [
    "ham_sim = h.random_hamiltonian(1)\n",
    "ham_true = h.random_hamiltonian(3)"
   ]
  },
  {
   "cell_type": "code",
   "execution_count": 8,
   "metadata": {},
   "outputs": [
    {
     "name": "stdout",
     "output_type": "stream",
     "text": [
      "qt probe:  Quantum object: dims = [[2], [1]], shape = (2, 1), type = ket\n",
      "Qobj data =\n",
      "[[ 0.64105256+0.63276171j]\n",
      " [ 0.03108044+0.43324155j]]\n",
      "U_rho_U =  Quantum object: dims = [[2], [2]], shape = (2, 2), type = oper, isherm = True\n",
      "Qobj data =\n",
      "[[ 0.61771249 +2.77555756e-17j  0.44092319 +1.34292077e-01j]\n",
      " [ 0.44092319 -1.34292077e-01j  0.38228751 +2.77555756e-17j]]\n"
     ]
    },
    {
     "data": {
      "text/plain": [
       "0.7633025580558671"
      ]
     },
     "execution_count": 8,
     "metadata": {},
     "output_type": "execute_result"
    }
   ],
   "source": [
    "iqle_evolve(ham_sim, ham_true, 1)"
   ]
  },
  {
   "cell_type": "code",
   "execution_count": 216,
   "metadata": {},
   "outputs": [],
   "source": [
    "u = np.array([[ 0.54253547 +0.00000000e+00j, -0.31389550 +3.69974963e-01j],\n",
    " [-0.31389550 -3.69974963e-01j,  0.45746453 +2.77555756e-17j]])"
   ]
  },
  {
   "cell_type": "code",
   "execution_count": 217,
   "metadata": {},
   "outputs": [],
   "source": [
    "qt_u = qt.Qobj(u)"
   ]
  },
  {
   "cell_type": "code",
   "execution_count": 218,
   "metadata": {},
   "outputs": [
    {
     "data": {
      "text/latex": [
       "Quantum object: dims = [[2], [2]], shape = (2, 2), type = oper, isherm = True\\begin{equation*}\\left(\\begin{array}{*{11}c}0.543 & (-0.314+0.370j)\\\\(-0.314-0.370j) & 0.457\\\\\\end{array}\\right)\\end{equation*}"
      ],
      "text/plain": [
       "Quantum object: dims = [[2], [2]], shape = (2, 2), type = oper, isherm = True\n",
       "Qobj data =\n",
       "[[ 0.54253547 +0.00000000e+00j -0.31389550 +3.69974963e-01j]\n",
       " [-0.31389550 -3.69974963e-01j  0.45746453 +2.77555756e-17j]]"
      ]
     },
     "execution_count": 218,
     "metadata": {},
     "output_type": "execute_result"
    }
   ],
   "source": [
    "qt_u"
   ]
  },
  {
   "cell_type": "code",
   "execution_count": null,
   "metadata": {},
   "outputs": [],
   "source": []
  }
 ],
 "metadata": {
  "anaconda-cloud": {},
  "kernelspec": {
   "display_name": "Python 3",
   "language": "python",
   "name": "python3"
  },
  "language_info": {
   "codemirror_mode": {
    "name": "ipython",
    "version": 2
   },
   "file_extension": ".py",
   "mimetype": "text/x-python",
   "name": "python",
   "nbconvert_exporter": "python",
   "pygments_lexer": "ipython2",
   "version": "2.7.12"
  }
 },
 "nbformat": 4,
 "nbformat_minor": 2
}
