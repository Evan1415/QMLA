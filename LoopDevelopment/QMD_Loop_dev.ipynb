{
 "cells": [
  {
   "cell_type": "code",
   "execution_count": 1,
   "metadata": {},
   "outputs": [
    {
     "name": "stderr",
     "output_type": "stream",
     "text": [
      "/usr/local/lib/python2.7/dist-packages/IPython/parallel.py:13: ShimWarning: The `IPython.parallel` package has been deprecated since IPython 4.0. You should import from ipyparallel instead.\n",
      "  \"You should import from ipyparallel instead.\", ShimWarning)\n",
      "/usr/local/lib/python2.7/dist-packages/qinfer/parallel.py:52: UserWarning: Could not import IPython parallel. Parallelization support will be disabled.\n",
      "  \"Could not import IPython parallel. \"\n"
     ]
    }
   ],
   "source": [
    "import numpy as np\n",
    "import itertools as itr\n",
    "\n",
    "import os as os\n",
    "import sys as sys \n",
    "import pandas as pd\n",
    "import warnings\n",
    "import time as time\n",
    "sys.path.append(os.path.join(\"..\",\"Libraries\",\"QML_lib\"))\n",
    "import Evo as evo\n",
    "import DataBase \n",
    "import QMD\n",
    "import QML\n",
    "import ModelGeneration\n",
    "\n",
    "import matplotlib.pyplot as plt\n",
    "\n",
    "global paulis_list\n",
    "paulis_list = {'i' : np.eye(2), 'x' : evo.sigmax(), 'y' : evo.sigmay(), 'z' : evo.sigmaz()}\n",
    "\n",
    "warnings.filterwarnings(\"ignore\", message='Negative weights occured', category=RuntimeWarning)"
   ]
  },
  {
   "cell_type": "markdown",
   "metadata": {},
   "source": [
    "## QMD loop\n",
    "* Initialise graph learning\n",
    "* Complete DB interface with model creation function\n",
    "* Complete the functions for model rejection\n",
    "* Loop\n",
    "- learn models from list\n",
    "- compare models\n",
    "* In loop: \n",
    "- create new models\n",
    "- learn new models\n",
    "- compare models\n",
    "- reject \n",
    "\n",
    "* TILL condition satisfied\n",
    "* Return best model"
   ]
  },
  {
   "cell_type": "markdown",
   "metadata": {},
   "source": [
    "## QMD Loop and QML launch"
   ]
  },
  {
   "cell_type": "code",
   "execution_count": null,
   "metadata": {},
   "outputs": [],
   "source": [
    "def launch_qml(\n",
    "                model_name,\n",
    "                n_particles=20,\n",
    "                n_experiments=4,\n",
    "                true_operator_list = [paulis_list['x'], paulis_list['y']],\n",
    "                true_param_list = np.array([[0.77, 0.64]]),\n",
    "                gaussian = True\n",
    "    ):\n",
    "\n",
    "    op = DataBase.operator(model_name)\n",
    "    constituent_list = np.asarray(op.constituents_operators)\n",
    "    sim_ops = np.array([])\n",
    "    for i in range(op.num_constituents):\n",
    "        sim_ops = np.append(sim_ops, 0.3)\n",
    "    #print(sim_ops)\n",
    "    #print(constituent_list)\n",
    "    qml_instance = QML.ModelLearningClass()\n",
    "    qml_instance.InitialiseNewModel(\n",
    "        trueoplist = true_operator_list,\n",
    "        modeltrueparams = true_param_list,\n",
    "        simoplist = constituent_list,\n",
    "        simparams = sim_ops,\n",
    "        numparticles = n_particles,\n",
    "        gaussian=gaussian\n",
    "    )\n",
    "    qml_instance.UpdateModel(\n",
    "        n_experiments = n_experiments\n",
    "    )\n",
    "\n",
    "    print(\"True Params: \", true_param_list)\n",
    "    print(\"Model \", model_name, \" finished. \\n ------- \\n\")\n",
    "    return qml_instance"
   ]
  },
  {
   "cell_type": "code",
   "execution_count": null,
   "metadata": {},
   "outputs": [],
   "source": [
    "n_particles"
   ]
  },
  {
   "cell_type": "code",
   "execution_count": null,
   "metadata": {},
   "outputs": [],
   "source": [
    "n_particles=20\n",
    "n_experiments=4,\n",
    "true_operator_list = [paulis_list['x'], paulis_list['y']],\n",
    "true_param_list = np.array([[0.77, 0.64]]),\n",
    "gaussian = True\n"
   ]
  },
  {
   "cell_type": "code",
   "execution_count": null,
   "metadata": {},
   "outputs": [],
   "source": [
    "from qinfer import NormalDistribution\n",
    "normal_dist=NormalDistribution(mean=0.5, var=0.05)  \n",
    "normal_dist_width = 0.25\n"
   ]
  },
  {
   "cell_type": "code",
   "execution_count": null,
   "metadata": {},
   "outputs": [],
   "source": [
    "normal_dist.sample()[0,0]"
   ]
  },
  {
   "cell_type": "code",
   "execution_count": null,
   "metadata": {},
   "outputs": [],
   "source": [
    "qml_instance = QML.ModelLearningClass()\n",
    "name = 'xPz'\n",
    "op = DataBase.operator(name)\n",
    "true_param_list =[]\n",
    "for j in range(np.shape(true_operator_list)[1]):\n",
    "    true_param_list.append(0.3)\n",
    "\n",
    "    \n",
    "#true_param_list = np.array([[0.77, 0.64]]),\n",
    "    \n",
    "sim_ops = []\n",
    "for j in range(op.num_constituents):\n",
    "    sim_ops.append(normal_dist.sample())\n"
   ]
  },
  {
   "cell_type": "code",
   "execution_count": null,
   "metadata": {},
   "outputs": [],
   "source": [
    "len(true_param_list)"
   ]
  },
  {
   "cell_type": "code",
   "execution_count": null,
   "metadata": {},
   "outputs": [],
   "source": [
    "np.shape(true_operator_list)[1]"
   ]
  },
  {
   "cell_type": "code",
   "execution_count": null,
   "metadata": {},
   "outputs": [],
   "source": [
    "true_operator_list[0]"
   ]
  },
  {
   "cell_type": "code",
   "execution_count": null,
   "metadata": {},
   "outputs": [],
   "source": [
    "qml_instance.InitialiseNewModel(\n",
    "  trueoplist = true_operator_list[0],\n",
    "  modeltrueparams = true_param_list,\n",
    "  simoplist = op.constituents_operators,\n",
    "  simparams = sim_ops,\n",
    "  numparticles = n_particles,\n",
    "  gaussian=False\n",
    ")\n"
   ]
  },
  {
   "cell_type": "code",
   "execution_count": null,
   "metadata": {},
   "outputs": [],
   "source": [
    "a=np.array([1,3])"
   ]
  },
  {
   "cell_type": "code",
   "execution_count": null,
   "metadata": {},
   "outputs": [],
   "source": [
    "def update_model(db, name, num_experiments):\n",
    "    qml_instance = DataBase.get_qml_instance(db, name)\n",
    "    qml_instance.UpdateModel(n_experiments=num_experiments)\n",
    "    "
   ]
  },
  {
   "cell_type": "code",
   "execution_count": 8,
   "metadata": {},
   "outputs": [
    {
     "data": {
      "text/html": [
       "<div>\n",
       "<style>\n",
       "    .dataframe thead tr:only-child th {\n",
       "        text-align: right;\n",
       "    }\n",
       "\n",
       "    .dataframe thead th {\n",
       "        text-align: left;\n",
       "    }\n",
       "\n",
       "    .dataframe tbody tr th {\n",
       "        vertical-align: top;\n",
       "    }\n",
       "</style>\n",
       "<table border=\"1\" class=\"dataframe\">\n",
       "  <thead>\n",
       "    <tr style=\"text-align: right;\">\n",
       "      <th></th>\n",
       "      <th>&lt;Name&gt;</th>\n",
       "      <th>Epoch_Start</th>\n",
       "      <th>Model_Class_Instance</th>\n",
       "      <th>Operator_Instance</th>\n",
       "      <th>Selected</th>\n",
       "      <th>Status</th>\n",
       "      <th>TreeID</th>\n",
       "    </tr>\n",
       "  </thead>\n",
       "  <tbody>\n",
       "    <tr>\n",
       "      <th>0</th>\n",
       "      <td>xPy</td>\n",
       "      <td>0</td>\n",
       "      <td>&lt;QML.ModelLearningClass instance at 0x7fec6a7a...</td>\n",
       "      <td>&lt;DataBase.operator instance at 0x7fec6a7a90e0&gt;</td>\n",
       "      <td>False</td>\n",
       "      <td>Ready</td>\n",
       "      <td>0</td>\n",
       "    </tr>\n",
       "    <tr>\n",
       "      <th>1</th>\n",
       "      <td>yPz</td>\n",
       "      <td>0</td>\n",
       "      <td>&lt;QML.ModelLearningClass instance at 0x7fec6a7a...</td>\n",
       "      <td>&lt;DataBase.operator instance at 0x7fec6a7a91b8&gt;</td>\n",
       "      <td>False</td>\n",
       "      <td>Ready</td>\n",
       "      <td>0</td>\n",
       "    </tr>\n",
       "  </tbody>\n",
       "</table>\n",
       "</div>"
      ],
      "text/plain": [
       "  <Name>  Epoch_Start                               Model_Class_Instance  \\\n",
       "0    xPy            0  <QML.ModelLearningClass instance at 0x7fec6a7a...   \n",
       "1    yPz            0  <QML.ModelLearningClass instance at 0x7fec6a7a...   \n",
       "\n",
       "                                Operator_Instance  Selected Status  TreeID  \n",
       "0  <DataBase.operator instance at 0x7fec6a7a90e0>     False  Ready       0  \n",
       "1  <DataBase.operator instance at 0x7fec6a7a91b8>     False  Ready       0  "
      ]
     },
     "execution_count": 8,
     "metadata": {},
     "output_type": "execute_result"
    }
   ],
   "source": [
    "db"
   ]
  },
  {
   "cell_type": "code",
   "execution_count": 19,
   "metadata": {},
   "outputs": [
    {
     "data": {
      "text/plain": [
       "[<QML.ModelLearningClass instance at 0x7fec6a7a9128>,\n",
       " <QML.ModelLearningClass instance at 0x7fec6a7a9200>]"
      ]
     },
     "execution_count": 19,
     "metadata": {},
     "output_type": "execute_result"
    }
   ],
   "source": [
    "list(db.loc[db[\"Status\"] == 'Ready'][\"Model_Class_Instance\"])"
   ]
  },
  {
   "cell_type": "code",
   "execution_count": 20,
   "metadata": {},
   "outputs": [],
   "source": [
    "tpool = np.random.rand(30)"
   ]
  },
  {
   "cell_type": "code",
   "execution_count": 33,
   "metadata": {},
   "outputs": [
    {
     "data": {
      "text/plain": [
       "array([ 0.58196068,  0.68558778,  0.04420763,  0.4421115 ,  0.26522079,\n",
       "        0.14544368,  0.36869502,  0.54827963,  0.13839559,  0.99563765,\n",
       "        0.67397706,  0.87500863,  0.19549534,  0.88613374,  0.05054768,\n",
       "        0.74679763,  0.06172594,  0.30909759,  0.40216003,  0.15945461,\n",
       "        0.48031213,  0.99482682,  0.54271864,  0.21226013,  0.33741782,\n",
       "        0.85972964,  0.46651747,  0.39360286,  0.65370284,  0.99271204])"
      ]
     },
     "execution_count": 33,
     "metadata": {},
     "output_type": "execute_result"
    }
   ],
   "source": [
    "tpool"
   ]
  },
  {
   "cell_type": "code",
   "execution_count": 34,
   "metadata": {},
   "outputs": [],
   "source": [
    "binbounds = np.histogram(tpool, 5)[1]"
   ]
  },
  {
   "cell_type": "code",
   "execution_count": 39,
   "metadata": {},
   "outputs": [],
   "source": [
    "output = []\n",
    "\n",
    "for i in range(len(binbounds)-1):\n",
    "    lowers = tpool > binbounds[i]\n",
    "    highers = tpool < binbounds[i+1]\n",
    "    candidates = np.logical_and(lowers, highers) \n",
    "    candidates = tpool[candidates]\n",
    "\n",
    "    output.append(candidates[int(len(candidates)*np.random.rand(1))])"
   ]
  },
  {
   "cell_type": "code",
   "execution_count": 42,
   "metadata": {},
   "outputs": [],
   "source": [
    "outut = np.array(output)"
   ]
  },
  {
   "cell_type": "code",
   "execution_count": 44,
   "metadata": {},
   "outputs": [
    {
     "data": {
      "text/plain": [
       "array([ 0.15945461,  0.54271864,  0.67397706,  0.88613374])"
      ]
     },
     "execution_count": 44,
     "metadata": {},
     "output_type": "execute_result"
    }
   ],
   "source": [
    "np.setdiff1d(outut, outut[1])"
   ]
  },
  {
   "cell_type": "code",
   "execution_count": null,
   "metadata": {},
   "outputs": [],
   "source": [
    "np.shape(qml_instance.SimOpList)"
   ]
  },
  {
   "cell_type": "code",
   "execution_count": null,
   "metadata": {},
   "outputs": [],
   "source": [
    "qml_instance.TrueOpList"
   ]
  },
  {
   "cell_type": "code",
   "execution_count": null,
   "metadata": {},
   "outputs": [],
   "source": [
    "np.shape(qml_instance.TrueOpList)"
   ]
  },
  {
   "cell_type": "code",
   "execution_count": null,
   "metadata": {},
   "outputs": [],
   "source": [
    "np.asarray(qml_instance.TrueOpList)"
   ]
  },
  {
   "cell_type": "code",
   "execution_count": null,
   "metadata": {},
   "outputs": [],
   "source": [
    "np.shape(qml_instance.SimParams)"
   ]
  },
  {
   "cell_type": "code",
   "execution_count": null,
   "metadata": {},
   "outputs": [],
   "source": [
    "qml_instance.Experiment"
   ]
  },
  {
   "cell_type": "code",
   "execution_count": null,
   "metadata": {},
   "outputs": [],
   "source": [
    "np.shape(qml_instance.SimOpList)"
   ]
  },
  {
   "cell_type": "code",
   "execution_count": null,
   "metadata": {},
   "outputs": [],
   "source": [
    "qml_instance=DataBase.get_qml_instance(db, 'yPz')"
   ]
  },
  {
   "cell_type": "code",
   "execution_count": null,
   "metadata": {},
   "outputs": [],
   "source": [
    "qml_instance.UpdateModel(n_experiments=10)"
   ]
  },
  {
   "cell_type": "code",
   "execution_count": 2,
   "metadata": {},
   "outputs": [
    {
     "name": "stdout",
     "output_type": "stream",
     "text": [
      "('Number in true params list : ', 2)\n",
      "('True params in DB : ', [0.3, 0.3])\n",
      "('Sim ops : ', [[0.22659607870910609, 0.54209503337649645]])\n",
      "('sim params inside QML class', array([[ 0.22659608,  0.54209503]]))\n",
      "Initialization Ready\n",
      "('Number in true params list : ', 2)\n",
      "('True params in DB : ', [0.3, 0.3])\n",
      "('Sim ops : ', [[0.53638587250766623, 0.60634837883391368]])\n",
      "('sim params inside QML class', array([[ 0.53638587,  0.60634838]]))\n",
      "Initialization Ready\n"
     ]
    }
   ],
   "source": [
    "# QMD -- database and launching QML instances\n",
    "import os as os\n",
    "import sys as sys \n",
    "import numpy as np\n",
    "sys.path.append(os.path.join(\"..\",\"Libraries\",\"QML_lib\"))\n",
    "import Evo as evo\n",
    "import DataBase \n",
    "import QMD\n",
    "global paulis_list\n",
    "paulis_list = {'i' : np.eye(2), 'x' : evo.sigmax(), 'y' : evo.sigmay(), 'z' : evo.sigmaz()}\n",
    "\n",
    "name1='xPy'\n",
    "name2='yPz'\n",
    "seed_models = [name1, name2]\n",
    "db, model_db, model_lists = DataBase.launch_db(gen_list=seed_models)"
   ]
  },
  {
   "cell_type": "code",
   "execution_count": 3,
   "metadata": {},
   "outputs": [
    {
     "data": {
      "text/html": [
       "<div>\n",
       "<style>\n",
       "    .dataframe thead tr:only-child th {\n",
       "        text-align: right;\n",
       "    }\n",
       "\n",
       "    .dataframe thead th {\n",
       "        text-align: left;\n",
       "    }\n",
       "\n",
       "    .dataframe tbody tr th {\n",
       "        vertical-align: top;\n",
       "    }\n",
       "</style>\n",
       "<table border=\"1\" class=\"dataframe\">\n",
       "  <thead>\n",
       "    <tr style=\"text-align: right;\">\n",
       "      <th></th>\n",
       "      <th>&lt;Name&gt;</th>\n",
       "      <th>Epoch_Start</th>\n",
       "      <th>Model_Class_Instance</th>\n",
       "      <th>Operator_Instance</th>\n",
       "      <th>Selected</th>\n",
       "      <th>Status</th>\n",
       "      <th>TreeID</th>\n",
       "    </tr>\n",
       "  </thead>\n",
       "  <tbody>\n",
       "    <tr>\n",
       "      <th>0</th>\n",
       "      <td>xPy</td>\n",
       "      <td>0</td>\n",
       "      <td>&lt;QML.ModelLearningClass instance at 0x7fb61463...</td>\n",
       "      <td>&lt;DataBase.operator instance at 0x7fb6146393f8&gt;</td>\n",
       "      <td>False</td>\n",
       "      <td>Ready</td>\n",
       "      <td>0</td>\n",
       "    </tr>\n",
       "    <tr>\n",
       "      <th>1</th>\n",
       "      <td>yPz</td>\n",
       "      <td>0</td>\n",
       "      <td>&lt;QML.ModelLearningClass instance at 0x7fb61463...</td>\n",
       "      <td>&lt;DataBase.operator instance at 0x7fb614639488&gt;</td>\n",
       "      <td>False</td>\n",
       "      <td>Ready</td>\n",
       "      <td>0</td>\n",
       "    </tr>\n",
       "  </tbody>\n",
       "</table>\n",
       "</div>"
      ],
      "text/plain": [
       "  <Name>  Epoch_Start                               Model_Class_Instance  \\\n",
       "0    xPy            0  <QML.ModelLearningClass instance at 0x7fb61463...   \n",
       "1    yPz            0  <QML.ModelLearningClass instance at 0x7fb61463...   \n",
       "\n",
       "                                Operator_Instance  Selected Status  TreeID  \n",
       "0  <DataBase.operator instance at 0x7fb6146393f8>     False  Ready       0  \n",
       "1  <DataBase.operator instance at 0x7fb614639488>     False  Ready       0  "
      ]
     },
     "execution_count": 3,
     "metadata": {},
     "output_type": "execute_result"
    }
   ],
   "source": [
    "db"
   ]
  },
  {
   "cell_type": "code",
   "execution_count": 22,
   "metadata": {},
   "outputs": [],
   "source": [
    "qmd = QMD.ModelsDevelopmentClass()"
   ]
  },
  {
   "cell_type": "code",
   "execution_count": 23,
   "metadata": {},
   "outputs": [
    {
     "name": "stdout",
     "output_type": "stream",
     "text": [
      "('sim params inside QML class', array([[ 0.20708863]]))\n",
      "Initialization Ready\n",
      "('sim params inside QML class', array([[ 0.52167474]]))\n",
      "Initialization Ready\n",
      "('sim params inside QML class', array([[ 0.20508325]]))\n",
      "Initialization Ready\n"
     ]
    }
   ],
   "source": [
    "qmd.InitialiseAllActiveModels()"
   ]
  },
  {
   "cell_type": "code",
   "execution_count": 24,
   "metadata": {},
   "outputs": [
    {
     "name": "stdout",
     "output_type": "stream",
     "text": [
      "Initial time selected > 0.797023618322\n"
     ]
    },
    {
     "name": "stderr",
     "output_type": "stream",
     "text": [
      "/usr/local/lib/python2.7/dist-packages/qinfer/smc.py:429: ApproximationWarning: Negative weights occured in particle approximation. Smallest weight observed == -6.68578879489e-18. Clipping weights.\n",
      "  warnings.warn(\"Negative weights occured in particle approximation. Smallest weight observed == {}. Clipping weights.\".format(np.min(weights)), ApproximationWarning)\n",
      "/usr/local/lib/python2.7/dist-packages/qinfer/smc.py:429: ApproximationWarning: Negative weights occured in particle approximation. Smallest weight observed == -1.02405037617e-17. Clipping weights.\n",
      "  warnings.warn(\"Negative weights occured in particle approximation. Smallest weight observed == {}. Clipping weights.\".format(np.min(weights)), ApproximationWarning)\n"
     ]
    },
    {
     "name": "stdout",
     "output_type": "stream",
     "text": [
      "Final time selected > 15.1876780219\n",
      "Final Parameters mean and stdev:[ 0.41524014  0.07182173]\n",
      "Batch single time 0 elapsed time: 4.94004\n",
      "Initial time selected > 0.590402215811\n"
     ]
    },
    {
     "name": "stderr",
     "output_type": "stream",
     "text": [
      "/usr/local/lib/python2.7/dist-packages/qinfer/smc.py:429: ApproximationWarning: Negative weights occured in particle approximation. Smallest weight observed == -2.53232451982e-18. Clipping weights.\n",
      "  warnings.warn(\"Negative weights occured in particle approximation. Smallest weight observed == {}. Clipping weights.\".format(np.min(weights)), ApproximationWarning)\n"
     ]
    },
    {
     "name": "stdout",
     "output_type": "stream",
     "text": [
      "Final time selected > 14.4470489087\n",
      "Final Parameters mean and stdev:[ 0.27722862  0.05581978]\n",
      "Batch single time 1 elapsed time: 5.114735\n",
      "Initial time selected > 1.57887989136\n"
     ]
    },
    {
     "name": "stderr",
     "output_type": "stream",
     "text": [
      "/usr/local/lib/python2.7/dist-packages/qinfer/smc.py:429: ApproximationWarning: Negative weights occured in particle approximation. Smallest weight observed == -2.78230609945e-18. Clipping weights.\n",
      "  warnings.warn(\"Negative weights occured in particle approximation. Smallest weight observed == {}. Clipping weights.\".format(np.min(weights)), ApproximationWarning)\n",
      "/usr/local/lib/python2.7/dist-packages/qinfer/smc.py:429: ApproximationWarning: Negative weights occured in particle approximation. Smallest weight observed == -2.54963431424e-18. Clipping weights.\n",
      "  warnings.warn(\"Negative weights occured in particle approximation. Smallest weight observed == {}. Clipping weights.\".format(np.min(weights)), ApproximationWarning)\n",
      "/usr/local/lib/python2.7/dist-packages/qinfer/smc.py:429: ApproximationWarning: Negative weights occured in particle approximation. Smallest weight observed == -2.84057419802e-18. Clipping weights.\n",
      "  warnings.warn(\"Negative weights occured in particle approximation. Smallest weight observed == {}. Clipping weights.\".format(np.min(weights)), ApproximationWarning)\n"
     ]
    },
    {
     "name": "stdout",
     "output_type": "stream",
     "text": [
      "Final time selected > 2.9373486407\n",
      "Final Parameters mean and stdev:[ 1.2678342   0.15488031]\n",
      "Batch single time 2 elapsed time: 7.480319\n"
     ]
    },
    {
     "ename": "TypeError",
     "evalue": "DataPool() takes exactly 3 arguments (2 given)",
     "output_type": "error",
     "traceback": [
      "\u001b[0;31m---------------------------------------------------------------------------\u001b[0m",
      "\u001b[0;31mTypeError\u001b[0m                                 Traceback (most recent call last)",
      "\u001b[0;32m<ipython-input-24-47e17ad2e823>\u001b[0m in \u001b[0;36m<module>\u001b[0;34m()\u001b[0m\n\u001b[0;32m----> 1\u001b[0;31m \u001b[0mqmd\u001b[0m\u001b[0;34m.\u001b[0m\u001b[0mUpdateAllActiveModels\u001b[0m\u001b[0;34m(\u001b[0m\u001b[0mexpnum\u001b[0m\u001b[0;34m=\u001b[0m\u001b[0;36m35\u001b[0m\u001b[0;34m)\u001b[0m\u001b[0;34m\u001b[0m\u001b[0m\n\u001b[0m",
      "\u001b[0;32m/home/bf16951/Dropbox/QML_share_stateofart/QMD/Libraries/QML_lib/QMD.py\u001b[0m in \u001b[0;36mUpdateAllActiveModels\u001b[0;34m(self, expnum, sigma_threshold, datalikesize)\u001b[0m\n\u001b[1;32m    161\u001b[0m             \u001b[0;31m# print('True parameters were: '+ str(self.TrueParamsList))\u001b[0m\u001b[0;34m\u001b[0m\u001b[0;34m\u001b[0m\u001b[0m\n\u001b[1;32m    162\u001b[0m             \u001b[0;32mprint\u001b[0m\u001b[0;34m(\u001b[0m\u001b[0;34m'Batch single time '\u001b[0m\u001b[0;34m+\u001b[0m \u001b[0mstr\u001b[0m\u001b[0;34m(\u001b[0m\u001b[0mi\u001b[0m\u001b[0;34m)\u001b[0m \u001b[0;34m+\u001b[0m\u001b[0;34m' elapsed time: '\u001b[0m \u001b[0;34m+\u001b[0m \u001b[0mstr\u001b[0m\u001b[0;34m(\u001b[0m\u001b[0mend\u001b[0m\u001b[0;34m-\u001b[0m\u001b[0mstart\u001b[0m\u001b[0;34m)\u001b[0m\u001b[0;34m)\u001b[0m\u001b[0;34m\u001b[0m\u001b[0m\n\u001b[0;32m--> 163\u001b[0;31m         \u001b[0mtpool\u001b[0m\u001b[0;34m=\u001b[0m \u001b[0mself\u001b[0m\u001b[0;34m.\u001b[0m\u001b[0mDataPool\u001b[0m\u001b[0;34m(\u001b[0m\u001b[0mdatalikesize\u001b[0m\u001b[0;34m)\u001b[0m\u001b[0;34m\u001b[0m\u001b[0m\n\u001b[0m\u001b[1;32m    164\u001b[0m         \u001b[0mself\u001b[0m\u001b[0;34m.\u001b[0m\u001b[0mUpdateAllLogLikelihoods\u001b[0m\u001b[0;34m(\u001b[0m\u001b[0mtpool\u001b[0m\u001b[0;34m)\u001b[0m\u001b[0;34m\u001b[0m\u001b[0m\n\u001b[1;32m    165\u001b[0m \u001b[0;34m\u001b[0m\u001b[0m\n",
      "\u001b[0;31mTypeError\u001b[0m: DataPool() takes exactly 3 arguments (2 given)"
     ]
    }
   ],
   "source": [
    "qmd.UpdateAllActiveModels(expnum=35)"
   ]
  },
  {
   "cell_type": "code",
   "execution_count": 15,
   "metadata": {},
   "outputs": [
    {
     "ename": "ValueError",
     "evalue": "could not broadcast input array from shape (0) into shape (30)",
     "output_type": "error",
     "traceback": [
      "\u001b[0;31m---------------------------------------------------------------------------\u001b[0m",
      "\u001b[0;31mValueError\u001b[0m                                Traceback (most recent call last)",
      "\u001b[0;32m<ipython-input-15-44b0ed1eb19a>\u001b[0m in \u001b[0;36m<module>\u001b[0;34m()\u001b[0m\n\u001b[0;32m----> 1\u001b[0;31m \u001b[0mqmd\u001b[0m\u001b[0;34m.\u001b[0m\u001b[0mDataPool\u001b[0m\u001b[0;34m(\u001b[0m\u001b[0mdb\u001b[0m\u001b[0;34m=\u001b[0m\u001b[0mdb\u001b[0m\u001b[0;34m,\u001b[0m \u001b[0mstepnum\u001b[0m\u001b[0;34m=\u001b[0m\u001b[0;36m30\u001b[0m\u001b[0;34m)\u001b[0m\u001b[0;34m\u001b[0m\u001b[0m\n\u001b[0m",
      "\u001b[0;32m/home/bf16951/Dropbox/QML_share_stateofart/QMD/Libraries/QML_lib/QMD.py\u001b[0m in \u001b[0;36mDataPool\u001b[0;34m(self, db, stepnum)\u001b[0m\n\u001b[1;32m    198\u001b[0m         \u001b[0mtpool\u001b[0m \u001b[0;34m=\u001b[0m \u001b[0mnp\u001b[0m\u001b[0;34m.\u001b[0m\u001b[0mempty\u001b[0m\u001b[0;34m(\u001b[0m\u001b[0;34m[\u001b[0m\u001b[0mlen\u001b[0m\u001b[0;34m(\u001b[0m\u001b[0mmyModelsList\u001b[0m\u001b[0;34m)\u001b[0m\u001b[0;34m,\u001b[0m \u001b[0mstepnum\u001b[0m\u001b[0;34m]\u001b[0m\u001b[0;34m)\u001b[0m\u001b[0;34m\u001b[0m\u001b[0m\n\u001b[1;32m    199\u001b[0m         \u001b[0;32mfor\u001b[0m \u001b[0mi\u001b[0m \u001b[0;32min\u001b[0m \u001b[0mrange\u001b[0m\u001b[0;34m(\u001b[0m\u001b[0mlen\u001b[0m\u001b[0;34m(\u001b[0m\u001b[0mmyModelsList\u001b[0m\u001b[0;34m)\u001b[0m\u001b[0;34m)\u001b[0m\u001b[0;34m:\u001b[0m\u001b[0;34m\u001b[0m\u001b[0m\n\u001b[0;32m--> 200\u001b[0;31m             \u001b[0mtpool\u001b[0m\u001b[0;34m[\u001b[0m\u001b[0mi\u001b[0m\u001b[0;34m,\u001b[0m\u001b[0;34m:\u001b[0m\u001b[0;34m]\u001b[0m \u001b[0;34m=\u001b[0m \u001b[0mmyModelsList\u001b[0m\u001b[0;34m[\u001b[0m\u001b[0mi\u001b[0m\u001b[0;34m]\u001b[0m\u001b[0;34m.\u001b[0m\u001b[0mTrackTime\u001b[0m\u001b[0;34m[\u001b[0m\u001b[0;34m-\u001b[0m\u001b[0mstepnum\u001b[0m\u001b[0;34m-\u001b[0m\u001b[0;36m1\u001b[0m\u001b[0;34m:\u001b[0m\u001b[0;34m-\u001b[0m\u001b[0;36m1\u001b[0m\u001b[0;34m]\u001b[0m\u001b[0;34m\u001b[0m\u001b[0m\n\u001b[0m\u001b[1;32m    201\u001b[0m \u001b[0;34m\u001b[0m\u001b[0m\n\u001b[1;32m    202\u001b[0m         \u001b[0mbinbounds\u001b[0m \u001b[0;34m=\u001b[0m \u001b[0mnp\u001b[0m\u001b[0;34m.\u001b[0m\u001b[0mhistogram\u001b[0m\u001b[0;34m(\u001b[0m\u001b[0mtpool\u001b[0m\u001b[0;34m,\u001b[0m \u001b[0mstepnum\u001b[0m\u001b[0;34m)\u001b[0m\u001b[0;34m[\u001b[0m\u001b[0;36m1\u001b[0m\u001b[0;34m]\u001b[0m\u001b[0;34m\u001b[0m\u001b[0m\n",
      "\u001b[0;31mValueError\u001b[0m: could not broadcast input array from shape (0) into shape (30)"
     ]
    }
   ],
   "source": [
    "qmd.DataPool(db=db, stepnum=30)"
   ]
  },
  {
   "cell_type": "code",
   "execution_count": 26,
   "metadata": {},
   "outputs": [
    {
     "data": {
      "text/plain": [
       "array([   0.79702362,    2.49919163,   16.2464763 ,    3.98965682,\n",
       "          3.77335577,    0.85956592,   17.17446618,    0.57391977,\n",
       "          4.22041719,    1.86088407,    3.69548318,   14.56003193,\n",
       "         22.477094  ,    1.42000263,    2.06980357,    2.93867043,\n",
       "          1.74002218,    2.90130562,    6.74504936,   80.66889421,\n",
       "        144.6220017 ,   10.57691827,    5.9646036 ,    1.10915377,\n",
       "          7.20098727,    7.72386629,   14.27442928,    3.78468424,\n",
       "         42.59421977,    2.99961059,    7.92233526,    4.25511872,\n",
       "         30.24893815,    6.72552073,   15.18767802])"
      ]
     },
     "execution_count": 26,
     "metadata": {},
     "output_type": "execute_result"
    }
   ],
   "source": [
    "qmd.ModelsList[0].TrackTime"
   ]
  },
  {
   "cell_type": "code",
   "execution_count": 52,
   "metadata": {},
   "outputs": [
    {
     "name": "stdout",
     "output_type": "stream",
     "text": [
      "[   3.77335577    0.85956592   17.17446618    4.22041719    1.86088407\n",
      "    3.69548318   14.56003193   22.477094      1.42000263    2.06980357\n",
      "    2.93867043    1.74002218    2.90130562    6.74504936   80.66889421\n",
      "  144.6220017    10.57691827    5.9646036     1.10915377    7.20098727\n",
      "    7.72386629   14.27442928    3.78468424   42.59421977    2.99961059\n",
      "    7.92233526    4.25511872   30.24893815    6.72552073    2.11078819\n",
      "    2.77853732   46.77086526    3.32341905    2.55203352   12.12512045\n",
      "    6.28622044  190.77465928    2.0535995     5.50782633   41.88333051\n",
      "   33.22061364    6.44053927    3.55073343   13.8759644    12.72197865\n",
      "    8.70018629    3.49636292    4.01633368    7.30280973    7.74396108\n",
      "   14.67230384   24.86578365   26.36918192    2.95669695    8.01799653\n",
      "   33.28273809  164.84872276    5.15071989   14.60577156   17.1786733\n",
      "    9.73341312   15.03633965    1.76657897   10.42018038    6.42399947\n",
      "    8.45039356   12.64847055   17.80925076   87.23998215   24.90526492\n",
      "   11.48351768   12.53020712    4.6544938    11.18120969   47.78886743\n",
      "   11.27408467   25.74898521    2.75156481  105.31727772   15.894149\n",
      "   52.45647619  139.79438415   16.30146989   10.11588024    2.21500453\n",
      "    8.74649476    5.47363801]\n",
      "[ 770.85863025]\n"
     ]
    }
   ],
   "source": [
    "myModelsList = qmd.ModelsList\n",
    "stepnum=30\n",
    "\n",
    "tpool = np.empty([len(myModelsList), stepnum])\n",
    "for i in range(len(myModelsList)):\n",
    "    tpool[i,:] = myModelsList[i].TrackTime[-stepnum-1:-1]\n",
    "\n",
    "tpool = tpool.flatten()\n",
    "binbounds = np.histogram(tpool, 2)[1]\n",
    "\n",
    "for i in range(len(binbounds)-1):\n",
    "    lowers = tpool > binbounds[i]\n",
    "    highers = tpool < binbounds[i+1]\n",
    "    candidates = np.logical_and(lowers, highers) \n",
    "    candidates = tpool[candidates]\n",
    "    print(candidates)\n",
    "\n",
    "    tpool = np.append(tpool, candidates[int(len(candidates)*np.random.rand(1))])\n",
    "\n",
    "    "
   ]
  },
  {
   "cell_type": "code",
   "execution_count": 36,
   "metadata": {},
   "outputs": [
    {
     "data": {
      "text/plain": [
       "[]"
      ]
     },
     "execution_count": 36,
     "metadata": {},
     "output_type": "execute_result"
    }
   ],
   "source": [
    "[ item for item in tpool ]"
   ]
  },
  {
   "cell_type": "code",
   "execution_count": 37,
   "metadata": {},
   "outputs": [
    {
     "data": {
      "text/plain": [
       "[]"
      ]
     },
     "execution_count": 37,
     "metadata": {},
     "output_type": "execute_result"
    }
   ],
   "source": [
    "tpool"
   ]
  },
  {
   "cell_type": "code",
   "execution_count": 20,
   "metadata": {},
   "outputs": [
    {
     "data": {
      "text/plain": [
       "array([], dtype=float64)"
      ]
     },
     "execution_count": 20,
     "metadata": {},
     "output_type": "execute_result"
    }
   ],
   "source": [
    "myModelsList[0].TrackTime"
   ]
  },
  {
   "cell_type": "code",
   "execution_count": 14,
   "metadata": {},
   "outputs": [
    {
     "data": {
      "text/html": [
       "<div>\n",
       "<style>\n",
       "    .dataframe thead tr:only-child th {\n",
       "        text-align: right;\n",
       "    }\n",
       "\n",
       "    .dataframe thead th {\n",
       "        text-align: left;\n",
       "    }\n",
       "\n",
       "    .dataframe tbody tr th {\n",
       "        vertical-align: top;\n",
       "    }\n",
       "</style>\n",
       "<table border=\"1\" class=\"dataframe\">\n",
       "  <thead>\n",
       "    <tr style=\"text-align: right;\">\n",
       "      <th></th>\n",
       "      <th>&lt;Name&gt;</th>\n",
       "      <th>Epoch_Start</th>\n",
       "      <th>Model_Class_Instance</th>\n",
       "      <th>Operator_Instance</th>\n",
       "      <th>Selected</th>\n",
       "      <th>Status</th>\n",
       "      <th>TreeID</th>\n",
       "    </tr>\n",
       "  </thead>\n",
       "  <tbody>\n",
       "    <tr>\n",
       "      <th>0</th>\n",
       "      <td>xPy</td>\n",
       "      <td>0</td>\n",
       "      <td>&lt;QML.ModelLearningClass instance at 0x7fe31467...</td>\n",
       "      <td>&lt;DataBase.operator instance at 0x7fe314653170&gt;</td>\n",
       "      <td>False</td>\n",
       "      <td>Ready</td>\n",
       "      <td>0</td>\n",
       "    </tr>\n",
       "    <tr>\n",
       "      <th>1</th>\n",
       "      <td>yPz</td>\n",
       "      <td>0</td>\n",
       "      <td>&lt;QML.ModelLearningClass instance at 0x7fe31467...</td>\n",
       "      <td>&lt;DataBase.operator instance at 0x7fe314670f80&gt;</td>\n",
       "      <td>False</td>\n",
       "      <td>Ready</td>\n",
       "      <td>0</td>\n",
       "    </tr>\n",
       "  </tbody>\n",
       "</table>\n",
       "</div>"
      ],
      "text/plain": [
       "  <Name>  Epoch_Start                               Model_Class_Instance  \\\n",
       "0    xPy            0  <QML.ModelLearningClass instance at 0x7fe31467...   \n",
       "1    yPz            0  <QML.ModelLearningClass instance at 0x7fe31467...   \n",
       "\n",
       "                                Operator_Instance  Selected Status  TreeID  \n",
       "0  <DataBase.operator instance at 0x7fe314653170>     False  Ready       0  \n",
       "1  <DataBase.operator instance at 0x7fe314670f80>     False  Ready       0  "
      ]
     },
     "execution_count": 14,
     "metadata": {},
     "output_type": "execute_result"
    }
   ],
   "source": [
    "db"
   ]
  },
  {
   "cell_type": "code",
   "execution_count": 2,
   "metadata": {},
   "outputs": [],
   "source": [
    "xpy_model = DataBase.get_qml_instance(db, 'xPy')"
   ]
  },
  {
   "cell_type": "code",
   "execution_count": 5,
   "metadata": {},
   "outputs": [
    {
     "name": "stdout",
     "output_type": "stream",
     "text": [
      "Initial time selected > 5.41567159947\n",
      "Final time selected > 1.82816429522\n",
      "Final Parameters mean and stdev:[ 0.18339645  0.21731771]\n",
      "Final Parameters mean and stdev:[ 0.27571985  0.27127236]\n"
     ]
    }
   ],
   "source": [
    "xpy_model.UpdateModel(n_experiments=30)"
   ]
  },
  {
   "cell_type": "code",
   "execution_count": null,
   "metadata": {},
   "outputs": [],
   "source": [
    "UpdateKLogTotLikelihood(xpy_model)"
   ]
  },
  {
   "cell_type": "code",
   "execution_count": 4,
   "metadata": {},
   "outputs": [
    {
     "data": {
      "text/plain": [
       "array([-0.23078951, -0.62063873])"
      ]
     },
     "execution_count": 4,
     "metadata": {},
     "output_type": "execute_result"
    }
   ],
   "source": [
    "xpy_model.TrackLogTotLikelihood"
   ]
  },
  {
   "cell_type": "code",
   "execution_count": null,
   "metadata": {},
   "outputs": [],
   "source": [
    "update_model(db=db, name='yPz', num_experiments=200)"
   ]
  },
  {
   "cell_type": "code",
   "execution_count": null,
   "metadata": {},
   "outputs": [],
   "source": [
    "qml_instance"
   ]
  },
  {
   "cell_type": "code",
   "execution_count": null,
   "metadata": {},
   "outputs": [],
   "source": [
    "launch_qml('xPy')"
   ]
  },
  {
   "cell_type": "code",
   "execution_count": null,
   "metadata": {},
   "outputs": [],
   "source": [
    "true_operator_list= np.array([[evo.sigmax(), evo.sigmay()]])\n",
    "print(len(true_operator_list[0]))"
   ]
  },
  {
   "cell_type": "code",
   "execution_count": null,
   "metadata": {},
   "outputs": [],
   "source": [
    "model_lists"
   ]
  },
  {
   "cell_type": "code",
   "execution_count": null,
   "metadata": {},
   "outputs": [],
   "source": [
    "model_db"
   ]
  },
  {
   "cell_type": "code",
   "execution_count": null,
   "metadata": {},
   "outputs": [],
   "source": [
    "DataBase.add_model('iTiPPiTiPPiTz', running_database=db, model_db=model_db, model_lists=model_lists)"
   ]
  },
  {
   "cell_type": "code",
   "execution_count": null,
   "metadata": {},
   "outputs": [],
   "source": [
    "db[\"Param_Estimates\"][2]"
   ]
  },
  {
   "cell_type": "code",
   "execution_count": null,
   "metadata": {},
   "outputs": [],
   "source": [
    "db[\"Model_Class_Instance\"][1].TrueParams"
   ]
  },
  {
   "cell_type": "code",
   "execution_count": null,
   "metadata": {},
   "outputs": [],
   "source": [
    "def get_qml_instance(db, name):\n",
    "    location = DataBase.get_location(db, name)\n",
    "    return db.loc[location][\"Model_Class_Instance\"]\n",
    "\n",
    "def get_operator_instance(db, name):\n",
    "    location = DataBase.get_location(db, name)\n",
    "    return db.loc[location][\"Operator_Instance\"]\n",
    "\n"
   ]
  },
  {
   "cell_type": "code",
   "execution_count": null,
   "metadata": {},
   "outputs": [],
   "source": [
    "ypz_model=DataBase.get_qml_instance(db, 'yPz')"
   ]
  },
  {
   "cell_type": "code",
   "execution_count": null,
   "metadata": {},
   "outputs": [],
   "source": [
    "ypz_op = DataBase.get_operator_instance(db, 'yPz')"
   ]
  },
  {
   "cell_type": "code",
   "execution_count": null,
   "metadata": {},
   "outputs": [],
   "source": [
    "ypz_model.UpdateModel(10)"
   ]
  },
  {
   "cell_type": "code",
   "execution_count": null,
   "metadata": {},
   "outputs": [],
   "source": [
    "ypz_model.LogTotLikelihood"
   ]
  },
  {
   "cell_type": "code",
   "execution_count": null,
   "metadata": {},
   "outputs": [],
   "source": [
    "ypz_model.Updater"
   ]
  },
  {
   "cell_type": "code",
   "execution_count": null,
   "metadata": {},
   "outputs": [],
   "source": [
    "ypz_op.constituents_operators"
   ]
  },
  {
   "cell_type": "code",
   "execution_count": null,
   "metadata": {},
   "outputs": [],
   "source": [
    "ypz_op.constituents_names"
   ]
  },
  {
   "cell_type": "code",
   "execution_count": null,
   "metadata": {},
   "outputs": [],
   "source": [
    "op = DataBase.operator('iTiPPiTiPPiTz')"
   ]
  },
  {
   "cell_type": "code",
   "execution_count": null,
   "metadata": {},
   "outputs": [],
   "source": [
    "import numpy as np\n",
    "np.dtype(op.constituents_operators[0])"
   ]
  },
  {
   "cell_type": "markdown",
   "metadata": {},
   "source": [
    "## QMD seems to mostly be a DB\n",
    "* Can we manage it all in a loop instead?\n",
    "* need to write new functions to replicate what QMd ones do\n",
    "* what steps/functions needed?\n",
    "    *  need\n",
    "        * UpdateAllLogLikelihoods\n",
    "        * UpdateAllLogLikelihoods\n",
    "        * DataPool\n",
    "        * ComputeAllBayesFactors\n",
    "        * ChampionPosition\n",
    "        * ChampionPruning\n",
    "        * BayesPruning\n",
    "            * takes models bw trees -- kill worst trees\n",
    "        \n",
    "        \n",
    "    * don't need \n",
    "        * updateAllActiveModels\n",
    "        * initialiseAllActiveModels\n",
    "* what other columns does DB need?\n",
    "    * best parameter currently -- sample at start --list of couples [value, sigma]\n",
    "        * assume distribution Gaussian\n",
    "        * How to generate/sample random initial values?\n",
    "            * build distribution and sample from it? return value and sigma\n",
    "            * gaussian distritbution about which value first? \n",
    "    \n",
    "    "
   ]
  },
  {
   "cell_type": "markdown",
   "metadata": {},
   "source": [
    "## Loop \n",
    "* initialise model\n",
    "* QML(model)\n",
    "* compute bayes with active models within tree\n",
    "* \n"
   ]
  },
  {
   "cell_type": "code",
   "execution_count": null,
   "metadata": {},
   "outputs": [],
   "source": [
    "from IPython.display import Latex"
   ]
  },
  {
   "cell_type": "code",
   "execution_count": null,
   "metadata": {},
   "outputs": [],
   "source": [
    "%%latex\n",
    "\n",
    "$$ H = \\sum_{i,j} x_{ij} \\sigma_z^i \\sigma_z^j$$\n",
    "From: http://iopscience.iop.org/article/10.1088/1367-2630/17/2/022005/pdf"
   ]
  },
  {
   "cell_type": "code",
   "execution_count": null,
   "metadata": {},
   "outputs": [],
   "source": []
  },
  {
   "cell_type": "code",
   "execution_count": null,
   "metadata": {},
   "outputs": [],
   "source": [
    "interaction_ham(qubit_list=[0,1,3], operator_list=['z', 'y','x'], num_qubits=4)"
   ]
  },
  {
   "cell_type": "code",
   "execution_count": null,
   "metadata": {},
   "outputs": [],
   "source": []
  },
  {
   "cell_type": "code",
   "execution_count": null,
   "metadata": {},
   "outputs": [],
   "source": [
    "test_list=[0,3]\n",
    "test_list.index(3)"
   ]
  },
  {
   "cell_type": "code",
   "execution_count": null,
   "metadata": {},
   "outputs": [],
   "source": [
    "if 0 in test_list:\n",
    "    \n",
    "    print(\"a\")"
   ]
  },
  {
   "cell_type": "code",
   "execution_count": null,
   "metadata": {},
   "outputs": [],
   "source": []
  },
  {
   "cell_type": "code",
   "execution_count": null,
   "metadata": {},
   "outputs": [],
   "source": [
    "ising_ham(4)"
   ]
  },
  {
   "cell_type": "markdown",
   "metadata": {},
   "source": [
    "### Parallelism"
   ]
  },
  {
   "cell_type": "code",
   "execution_count": null,
   "metadata": {},
   "outputs": [],
   "source": [
    "import ipyparallel as ipp"
   ]
  },
  {
   "cell_type": "code",
   "execution_count": null,
   "metadata": {},
   "outputs": [],
   "source": [
    "# remember to start the IPcluster first\n",
    "## ipcluster start -n 4\n",
    "\n",
    "c = ipp.Client()\n",
    "dview = c[:]\n",
    "\n",
    "c.ids"
   ]
  },
  {
   "cell_type": "code",
   "execution_count": null,
   "metadata": {},
   "outputs": [],
   "source": [
    "from multiprocessing import Pool\n",
    "\n",
    "def f(x):\n",
    "    return x*x\n",
    "\n",
    "if __name__ == '__main__':\n",
    "    with Pool(5) as p:\n",
    "        print(p.map(f, [1, 2, 3]))"
   ]
  },
  {
   "cell_type": "code",
   "execution_count": null,
   "metadata": {},
   "outputs": [],
   "source": [
    "import multiprocessing as mp\n",
    "\n",
    "def foo(q):\n",
    "    q.put('hello')"
   ]
  },
  {
   "cell_type": "code",
   "execution_count": null,
   "metadata": {},
   "outputs": [],
   "source": [
    "if __name__ == '__main__':\n",
    "    mp.set_start_method('spawn')\n",
    "    q = mp.Queue()\n",
    "    p = mp.Process(target=foo, args=(q,))\n",
    "    p.start()\n",
    "    print(q.get())\n",
    "    p.join()"
   ]
  },
  {
   "cell_type": "code",
   "execution_count": null,
   "metadata": {},
   "outputs": [],
   "source": [
    "import time\n",
    "from threading import Thread\n"
   ]
  },
  {
   "cell_type": "code",
   "execution_count": null,
   "metadata": {},
   "outputs": [],
   "source": [
    "def myfunc(i):\n",
    "    print( \"sleeping 5 sec from thread %d \\n\" % i)\n",
    "    time.sleep(5)\n",
    "    print( \"finished sleeping from thread %d \\n\" % i)\n",
    "\n",
    "for i in range(10):\n",
    "    t = Thread(target=myfunc, args=(i,))\n",
    "    t.start()\n"
   ]
  }
 ],
 "metadata": {
  "kernelspec": {
   "display_name": "Python 3",
   "language": "python",
   "name": "python3"
  },
  "language_info": {
   "codemirror_mode": {
    "name": "ipython",
    "version": 2
   },
   "file_extension": ".py",
   "mimetype": "text/x-python",
   "name": "python",
   "nbconvert_exporter": "python",
   "pygments_lexer": "ipython2",
   "version": "2.7.12"
  }
 },
 "nbformat": 4,
 "nbformat_minor": 2
}
