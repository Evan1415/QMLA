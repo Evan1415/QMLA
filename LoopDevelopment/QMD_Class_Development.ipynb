{
 "cells": [
  {
   "cell_type": "code",
   "execution_count": 1,
   "metadata": {},
   "outputs": [
    {
     "name": "stderr",
     "output_type": "stream",
     "text": [
      "/usr/local/lib/python2.7/dist-packages/IPython/parallel.py:13: ShimWarning: The `IPython.parallel` package has been deprecated since IPython 4.0. You should import from ipyparallel instead.\n",
      "  \"You should import from ipyparallel instead.\", ShimWarning)\n",
      "/usr/local/lib/python2.7/dist-packages/qinfer/parallel.py:52: UserWarning: Could not import IPython parallel. Parallelization support will be disabled.\n",
      "  \"Could not import IPython parallel. \"\n"
     ]
    }
   ],
   "source": [
    "import numpy as np\n",
    "import itertools as itr\n",
    "\n",
    "import os as os\n",
    "import sys as sys \n",
    "import pandas as pd\n",
    "import warnings\n",
    "import time as time\n",
    "import random\n",
    "\n",
    "sys.path.append(os.path.join(\"..\",\"Libraries\",\"QML_lib\"))\n",
    "import Evo as evo\n",
    "import DataBase \n",
    "import QMD\n",
    "import QML\n",
    "import ModelGeneration\n",
    "\n",
    "import matplotlib.pyplot as plt\n",
    "\n",
    "global paulis_list\n",
    "paulis_list = {'i' : np.eye(2), 'x' : evo.sigmax(), 'y' : evo.sigmay(), 'z' : evo.sigmaz()}\n",
    "\n",
    "warnings.filterwarnings(\"ignore\", message='Negative weights occured', category=RuntimeWarning)"
   ]
  },
  {
   "cell_type": "code",
   "execution_count": 2,
   "metadata": {},
   "outputs": [],
   "source": [
    "class NewQMDClass():\n",
    "    #TODO: rename as ModelsDevelopmentClass when finished\n",
    "    def __init__(self, initial_op_list, true_operator='x', maxmodnum=3, gaussian=True):\n",
    "#    def __init__(self, initial_op_list, true_op_list, true_param_list):\n",
    "\n",
    "        trueOp = DataBase.operator(true_operator)\n",
    "        self.InitialOpList = initial_op_list\n",
    "        self.TrueOpList = trueOp.constituents_operators\n",
    "        self.TrueParamsList = [random.random() for i in self.TrueOpList]\n",
    "        #self.TrueHam = evo.getH(self.TrueParamsList, self.TrueOpList)\n",
    "        self.TrueHam = np.tensordot(self.TrueParamsList, self.TrueOpList, axes=1)\n",
    "        self.initiateDB()\n",
    "        self.MaxModNum = maxmodnum #TODO: necessary?\n",
    "        self.gaussian = gaussian\n",
    "        \n",
    "    def initiateDB(self):\n",
    "        self.db, self.legacy_db, self.model_lists = \\\n",
    "            DataBase.launch_db(\n",
    "                gen_list = self.InitialOpList,\n",
    "                true_ops = self.TrueOpList,\n",
    "                true_params = self.TrueParamsList\n",
    "            )\n",
    "    def addModel(self, model):\n",
    "        DataBase.add_model(\n",
    "            model_name = model,\n",
    "            running_database = self.db,\n",
    "            model_lists = self.model_lists,\n",
    "            true_ops = self.TrueOpList,\n",
    "            true_params = self.TrueParamsList\n",
    "        )\n",
    "            \n",
    "            \n",
    "    def getModelInstance(self, name):\n",
    "        return DataBase.get_qml_instance(self.db, name)\n",
    "    def getOperatorInstance(self, name):\n",
    "        return DataBase.get_operator_instance(self.db, name)\n",
    "    def killModel(self, name):\n",
    "        if name not in list(self.db['<Name>']):\n",
    "            print(\"Cannot remove \", name, \"; not in \", list(self.db[\"<Name>\"]))\n",
    "        else: \n",
    "            # Add to legacy_db\n",
    "            DataBase.move_to_legacy(self.db, self.legacy_db, name)\n",
    "            # Remove from self.db\n",
    "            self.db = DataBase.remove_model(self.db, name)\n",
    "            # Plot -- QML method??\n",
    "            # delete model instance to clear memory -- what method in QML?\n",
    "    #TODO: functionality required by QMD class: \n",
    "    # - champion rules\n",
    "        "
   ]
  },
  {
   "cell_type": "code",
   "execution_count": 3,
   "metadata": {},
   "outputs": [
    {
     "name": "stdout",
     "output_type": "stream",
     "text": [
      "Gen sim IQLE has true Hamiltonian : \n",
      "[[ 0.00000000+0.j  0.26968166+0.j]\n",
      " [ 0.26968166+0.j  0.00000000+0.j]]\n",
      "Initialization Ready\n",
      "Gen sim IQLE has true Hamiltonian : \n",
      "[[ 0.00000000+0.j  0.26968166+0.j]\n",
      " [ 0.26968166+0.j  0.00000000+0.j]]\n",
      "Initialization Ready\n",
      "Gen sim IQLE has true Hamiltonian : \n",
      "[[ 0.00000000+0.j  0.26968166+0.j]\n",
      " [ 0.26968166+0.j  0.00000000+0.j]]\n",
      "Initialization Ready\n",
      "Gen sim IQLE has true Hamiltonian : \n",
      "[[ 0.00000000+0.j  0.26968166+0.j]\n",
      " [ 0.26968166+0.j  0.00000000+0.j]]\n",
      "Initialization Ready\n",
      "('Model ', 'x', ' not previously considered -- adding.')\n",
      "Gen sim IQLE has true Hamiltonian : \n",
      "[[ 0.00000000+0.j  0.26968166+0.j]\n",
      " [ 0.26968166+0.j  0.00000000+0.j]]\n",
      "Initialization Ready\n",
      "('Model ', 'xPy', ' not previously considered -- adding.')\n",
      "Gen sim IQLE has true Hamiltonian : \n",
      "[[ 0.00000000+0.j  0.26968166+0.j]\n",
      " [ 0.26968166+0.j  0.00000000+0.j]]\n",
      "Initialization Ready\n",
      "('Model ', 'yTz', ' not previously considered -- adding.')\n",
      "Gen sim IQLE has true Hamiltonian : \n",
      "[[ 0.00000000+0.j  0.26968166+0.j]\n",
      " [ 0.26968166+0.j  0.00000000+0.j]]\n",
      "Initialization Ready\n",
      "('Model', 'x', ' previously considered at location', 0)\n"
     ]
    }
   ],
   "source": [
    "generators = ['x', 'xPy', 'yTz', 'x']\n",
    "qmd= NewQMDClass(initial_op_list=generators, true_operator='x')"
   ]
  },
  {
   "cell_type": "code",
   "execution_count": 4,
   "metadata": {},
   "outputs": [
    {
     "name": "stdout",
     "output_type": "stream",
     "text": [
      "('Model instance : ', <QML.ModelLearningClass instance at 0x7f8f06ef2170>, ' for model ', 'x')\n"
     ]
    }
   ],
   "source": [
    "qmd.killModel('x')"
   ]
  },
  {
   "cell_type": "code",
   "execution_count": 5,
   "metadata": {},
   "outputs": [
    {
     "data": {
      "text/html": [
       "<div>\n",
       "<style>\n",
       "    .dataframe thead tr:only-child th {\n",
       "        text-align: right;\n",
       "    }\n",
       "\n",
       "    .dataframe thead th {\n",
       "        text-align: left;\n",
       "    }\n",
       "\n",
       "    .dataframe tbody tr th {\n",
       "        vertical-align: top;\n",
       "    }\n",
       "</style>\n",
       "<table border=\"1\" class=\"dataframe\">\n",
       "  <thead>\n",
       "    <tr style=\"text-align: right;\">\n",
       "      <th></th>\n",
       "      <th>&lt;Name&gt;</th>\n",
       "      <th>Epoch_Finish</th>\n",
       "      <th>Epoch_Start</th>\n",
       "      <th>Param_Est_Final</th>\n",
       "    </tr>\n",
       "  </thead>\n",
       "  <tbody>\n",
       "    <tr>\n",
       "      <th>0</th>\n",
       "      <td>x</td>\n",
       "      <td>10.0</td>\n",
       "      <td>0.0</td>\n",
       "      <td>[[1.17702075346, 1.20628752719]]</td>\n",
       "    </tr>\n",
       "  </tbody>\n",
       "</table>\n",
       "</div>"
      ],
      "text/plain": [
       "  <Name>  Epoch_Finish  Epoch_Start                   Param_Est_Final\n",
       "0      x          10.0          0.0  [[1.17702075346, 1.20628752719]]"
      ]
     },
     "execution_count": 5,
     "metadata": {},
     "output_type": "execute_result"
    }
   ],
   "source": [
    "qmd.legacy_db"
   ]
  },
  {
   "cell_type": "code",
   "execution_count": 10,
   "metadata": {},
   "outputs": [
    {
     "name": "stdout",
     "output_type": "stream",
     "text": [
      "('Model ', 'y', ' not previously considered -- adding.')\n",
      "Gen sim IQLE has true Hamiltonian : \n",
      "[[ 0.00000000+0.j  0.26968166+0.j]\n",
      " [ 0.26968166+0.j  0.00000000+0.j]]\n",
      "Initialization Ready\n",
      "Initial time selected > 0.457983239705\n",
      "Final time selected > 0.457983239705\n",
      "Final Parameters mean and stdev:[ 0.50343791  0.57573404]\n"
     ]
    }
   ],
   "source": [
    "qmd.addModel('y')\n",
    "y = qmd.getModelInstance('y')\n",
    "y.UpdateModel(1)"
   ]
  },
  {
   "cell_type": "code",
   "execution_count": 7,
   "metadata": {},
   "outputs": [
    {
     "name": "stdout",
     "output_type": "stream",
     "text": [
      "Initial time selected > 0.706551145002\n",
      "Final time selected > 0.706551145002\n",
      "Final Parameters mean and stdev:[ 0.9295726   0.46314252]\n",
      "Final Parameters mean and stdev:[ 0.15911693  0.49907704]\n"
     ]
    }
   ],
   "source": [
    "xpy.UpdateModel(1)"
   ]
  },
  {
   "cell_type": "code",
   "execution_count": null,
   "metadata": {},
   "outputs": [],
   "source": [
    "xpy.TrueParams"
   ]
  },
  {
   "cell_type": "code",
   "execution_count": null,
   "metadata": {},
   "outputs": [],
   "source": [
    "xpy.SimParams"
   ]
  },
  {
   "cell_type": "code",
   "execution_count": null,
   "metadata": {},
   "outputs": [],
   "source": [
    "x_instance = qmd.getModelInstance('x')"
   ]
  },
  {
   "cell_type": "code",
   "execution_count": null,
   "metadata": {},
   "outputs": [],
   "source": [
    "x_instance.UpdateModel(1)"
   ]
  },
  {
   "cell_type": "code",
   "execution_count": null,
   "metadata": {},
   "outputs": [],
   "source": [
    "init_op=qmd.InitialOpList\n",
    "true_ops = qmd.TrueOpList\n",
    "true_params = qmd.TrueParamsList"
   ]
  },
  {
   "cell_type": "code",
   "execution_count": null,
   "metadata": {},
   "outputs": [],
   "source": [
    "true_ops"
   ]
  },
  {
   "cell_type": "code",
   "execution_count": null,
   "metadata": {},
   "outputs": [],
   "source": [
    "true_params"
   ]
  },
  {
   "cell_type": "code",
   "execution_count": null,
   "metadata": {},
   "outputs": [],
   "source": []
  },
  {
   "cell_type": "code",
   "execution_count": null,
   "metadata": {},
   "outputs": [],
   "source": [
    "init_op = ['x', 'xPy', 'yTz']\n",
    "t_op = np.array([evo.sigmax()])\n",
    "t_par = [0.5]"
   ]
  },
  {
   "cell_type": "code",
   "execution_count": null,
   "metadata": {},
   "outputs": [],
   "source": [
    "DataBase.launch_db(\n",
    "                gen_list = init_op,\n",
    "                #true_ops = t_op,\n",
    "                #true_params = t_par\n",
    "            )"
   ]
  },
  {
   "cell_type": "code",
   "execution_count": null,
   "metadata": {},
   "outputs": [],
   "source": [
    "qmd= NewQMDClass(initial_op_list=generators, true_operator='x')"
   ]
  },
  {
   "cell_type": "code",
   "execution_count": null,
   "metadata": {},
   "outputs": [],
   "source": [
    "qmd.TrueHam"
   ]
  },
  {
   "cell_type": "code",
   "execution_count": null,
   "metadata": {},
   "outputs": [],
   "source": [
    "evo.getH(true_param_list, true_op_list)"
   ]
  },
  {
   "cell_type": "code",
   "execution_count": null,
   "metadata": {},
   "outputs": [],
   "source": [
    "name='yTz'\n",
    "mod = qmd.getModelInstance(name)\n",
    "mod.UpdateModel(1)"
   ]
  },
  {
   "cell_type": "code",
   "execution_count": null,
   "metadata": {},
   "outputs": [],
   "source": [
    "gen = mod.GenSimModel"
   ]
  },
  {
   "cell_type": "code",
   "execution_count": null,
   "metadata": {},
   "outputs": [],
   "source": [
    "xtx = DataBase.operator('xTx')"
   ]
  },
  {
   "cell_type": "code",
   "execution_count": null,
   "metadata": {},
   "outputs": [],
   "source": [
    "true_operator_list = np.array([evo.sigmax(), evo.sigmay()])"
   ]
  },
  {
   "cell_type": "code",
   "execution_count": null,
   "metadata": {},
   "outputs": [],
   "source": [
    "true_operator_list"
   ]
  },
  {
   "cell_type": "code",
   "execution_count": null,
   "metadata": {},
   "outputs": [],
   "source": [
    "xtx = DataBase.operator('xTx')\n",
    "yty = DataBase.operator('yTy')\n",
    "\n",
    "olist = np.array([xtx.matrix, yty.matrix] )\n"
   ]
  },
  {
   "cell_type": "code",
   "execution_count": null,
   "metadata": {},
   "outputs": [],
   "source": [
    "\n",
    "ytz = DataBase.operator('yTyz')\n",
    "\n",
    "true_operator_list = np.array([ ytz.matrix] )\n"
   ]
  },
  {
   "cell_type": "code",
   "execution_count": null,
   "metadata": {},
   "outputs": [],
   "source": [
    "evo.sigmax()"
   ]
  },
  {
   "cell_type": "code",
   "execution_count": null,
   "metadata": {},
   "outputs": [],
   "source": [
    "gen._true_oplist"
   ]
  },
  {
   "cell_type": "code",
   "execution_count": null,
   "metadata": {},
   "outputs": [],
   "source": [
    "gen._trueparams"
   ]
  },
  {
   "cell_type": "code",
   "execution_count": null,
   "metadata": {},
   "outputs": [],
   "source": [
    "gen._trueHam"
   ]
  },
  {
   "cell_type": "code",
   "execution_count": null,
   "metadata": {},
   "outputs": [],
   "source": [
    "np.tensordot(gen._trueparams, gen._true_oplist, axes=1)[0]"
   ]
  },
  {
   "cell_type": "code",
   "execution_count": null,
   "metadata": {},
   "outputs": [],
   "source": [
    "mod.SimParams"
   ]
  },
  {
   "cell_type": "code",
   "execution_count": null,
   "metadata": {},
   "outputs": [],
   "source": []
  },
  {
   "cell_type": "code",
   "execution_count": null,
   "metadata": {},
   "outputs": [],
   "source": [
    "name='x'\n",
    "#DataBase.move_to_legacy(qmd_new.db, qmd_new.legacy_db, name)\n",
    "#qmd.killModel(name)\n",
    "\n",
    "n_exp = 20\n",
    "for name in qmd.db['<Name>']:\n",
    "    mod = qmd.getModelInstance(name)\n",
    "    mod.UpdateModel(n_experiments=n_exp)\n",
    "    "
   ]
  },
  {
   "cell_type": "code",
   "execution_count": null,
   "metadata": {},
   "outputs": [],
   "source": [
    "qmd.db['<Name>']"
   ]
  },
  {
   "cell_type": "code",
   "execution_count": null,
   "metadata": {},
   "outputs": [],
   "source": [
    "op.constituents_names"
   ]
  },
  {
   "cell_type": "code",
   "execution_count": null,
   "metadata": {},
   "outputs": [],
   "source": [
    "len(mod.SimOpList)"
   ]
  },
  {
   "cell_type": "code",
   "execution_count": null,
   "metadata": {},
   "outputs": [],
   "source": [
    "len(mod.SimParams)"
   ]
  },
  {
   "cell_type": "code",
   "execution_count": null,
   "metadata": {},
   "outputs": [],
   "source": [
    "len(mod.SimParams[:,])"
   ]
  },
  {
   "cell_type": "code",
   "execution_count": null,
   "metadata": {},
   "outputs": [],
   "source": [
    "true_operator_list"
   ]
  },
  {
   "cell_type": "code",
   "execution_count": null,
   "metadata": {},
   "outputs": [],
   "source": [
    "len(mod.TrueParams)"
   ]
  },
  {
   "cell_type": "code",
   "execution_count": null,
   "metadata": {},
   "outputs": [],
   "source": [
    "mod.TrueOpList"
   ]
  },
  {
   "cell_type": "code",
   "execution_count": null,
   "metadata": {},
   "outputs": [],
   "source": [
    "mod.TrueHam"
   ]
  },
  {
   "cell_type": "code",
   "execution_count": null,
   "metadata": {},
   "outputs": [],
   "source": [
    "np.tensordot(mod.TrueParams, mod.TrueOpList, axes=1)"
   ]
  },
  {
   "cell_type": "code",
   "execution_count": null,
   "metadata": {},
   "outputs": [],
   "source": [
    "np.shape(mod.TrueParams)"
   ]
  },
  {
   "cell_type": "code",
   "execution_count": null,
   "metadata": {},
   "outputs": [],
   "source": [
    "np.shape(mod.TrueOpList)"
   ]
  },
  {
   "cell_type": "code",
   "execution_count": null,
   "metadata": {},
   "outputs": [],
   "source": [
    "np.shape(mod.TrueHam)"
   ]
  },
  {
   "cell_type": "code",
   "execution_count": null,
   "metadata": {},
   "outputs": [],
   "source": [
    "evo.getH(mod.TrueParams, mod.TrueOpList)"
   ]
  },
  {
   "cell_type": "code",
   "execution_count": null,
   "metadata": {},
   "outputs": [],
   "source": [
    "model_instance.UpdateModel(10)"
   ]
  },
  {
   "cell_type": "code",
   "execution_count": null,
   "metadata": {},
   "outputs": [],
   "source": [
    "qmd_new.db['<Name>'][1]"
   ]
  },
  {
   "cell_type": "code",
   "execution_count": null,
   "metadata": {},
   "outputs": [],
   "source": [
    "list(db['<Name>'])"
   ]
  },
  {
   "cell_type": "code",
   "execution_count": null,
   "metadata": {},
   "outputs": [],
   "source": [
    "'x' == db['<Name>'][0]"
   ]
  },
  {
   "cell_type": "code",
   "execution_count": null,
   "metadata": {},
   "outputs": [],
   "source": [
    "db = db[db['<Name>']!='xPy']"
   ]
  },
  {
   "cell_type": "code",
   "execution_count": null,
   "metadata": {},
   "outputs": [],
   "source": [
    "def run_iqle(model):\n",
    "    model_instance = qmd_new.getModelInstance(model)\n",
    "    model_instance.UpdateModel(n_exp)\n",
    "    model_instance.BayesOnModelsWithinTrees\n",
    "    model_instance.testSurvival # return whether to kill this model or make it remain active but saturated, etc.\n"
   ]
  },
  {
   "cell_type": "code",
   "execution_count": null,
   "metadata": {},
   "outputs": [],
   "source": [
    "for model in qmd_new.db[\"<Name>\"]:\n",
    "    run_iqle(model)"
   ]
  },
  {
   "cell_type": "code",
   "execution_count": null,
   "metadata": {},
   "outputs": [],
   "source": [
    "DataBase.add_model(running_database=qmd_new.db, model_name='y', model_lists=qmd_new.model_lists)"
   ]
  },
  {
   "cell_type": "code",
   "execution_count": null,
   "metadata": {},
   "outputs": [],
   "source": [
    "import hamiltonian_exponentiation as h\n"
   ]
  },
  {
   "cell_type": "code",
   "execution_count": null,
   "metadata": {},
   "outputs": [],
   "source": [
    "ham=mod.TrueHam\n",
    "t=1"
   ]
  },
  {
   "cell_type": "code",
   "execution_count": null,
   "metadata": {},
   "outputs": [],
   "source": [
    "h.exp_ham(ham,t)"
   ]
  },
  {
   "cell_type": "code",
   "execution_count": null,
   "metadata": {},
   "outputs": [],
   "source": [
    "np.shape(ham)"
   ]
  },
  {
   "cell_type": "code",
   "execution_count": null,
   "metadata": {},
   "outputs": [],
   "source": []
  }
 ],
 "metadata": {
  "kernelspec": {
   "display_name": "Python 3",
   "language": "python",
   "name": "python3"
  },
  "language_info": {
   "codemirror_mode": {
    "name": "ipython",
    "version": 2
   },
   "file_extension": ".py",
   "mimetype": "text/x-python",
   "name": "python",
   "nbconvert_exporter": "python",
   "pygments_lexer": "ipython2",
   "version": "2.7.12"
  }
 },
 "nbformat": 4,
 "nbformat_minor": 2
}
