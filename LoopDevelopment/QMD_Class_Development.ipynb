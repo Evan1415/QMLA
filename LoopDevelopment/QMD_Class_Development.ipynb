{
 "cells": [
  {
   "cell_type": "code",
   "execution_count": 1,
   "metadata": {},
   "outputs": [
    {
     "name": "stderr",
     "output_type": "stream",
     "text": [
      "/usr/local/lib/python2.7/dist-packages/IPython/parallel.py:13: ShimWarning: The `IPython.parallel` package has been deprecated since IPython 4.0. You should import from ipyparallel instead.\n",
      "  \"You should import from ipyparallel instead.\", ShimWarning)\n",
      "/usr/local/lib/python2.7/dist-packages/qinfer/parallel.py:52: UserWarning: Could not import IPython parallel. Parallelization support will be disabled.\n",
      "  \"Could not import IPython parallel. \"\n"
     ]
    }
   ],
   "source": [
    "import numpy as np\n",
    "import itertools as itr\n",
    "\n",
    "import os as os\n",
    "import sys as sys \n",
    "import pandas as pd\n",
    "import warnings\n",
    "import time as time\n",
    "import random\n",
    "\n",
    "sys.path.append(os.path.join(\"..\",\"Libraries\",\"QML_lib\"))\n",
    "import Evo as evo\n",
    "import DataBase \n",
    "import QMD\n",
    "import QML\n",
    "import ModelGeneration\n",
    "\n",
    "import matplotlib.pyplot as plt\n",
    "\n",
    "global paulis_list\n",
    "paulis_list = {'i' : np.eye(2), 'x' : evo.sigmax(), 'y' : evo.sigmay(), 'z' : evo.sigmaz()}\n",
    "\n",
    "warnings.filterwarnings(\"ignore\", message='Negative weights occured', category=RuntimeWarning)"
   ]
  },
  {
   "cell_type": "code",
   "execution_count": 52,
   "metadata": {},
   "outputs": [],
   "source": [
    "class NewQMDClass():\n",
    "    #TODO: rename as ModelsDevelopmentClass when finished\n",
    "    def __init__(self, initial_op_list, true_operator='x', maxmodnum=3, gaussian=True):\n",
    "#    def __init__(self, initial_op_list, true_op_list, true_param_list):\n",
    "\n",
    "        trueOp = DataBase.operator(true_operator)\n",
    "        self.InitialOpList = initial_op_list\n",
    "        self.TrueOpList = trueOp.constituents_operators\n",
    "        self.TrueParamsList = [random.random() for i in self.TrueOpList]\n",
    "        #self.TrueHam = evo.getH(self.TrueParamsList, self.TrueOpList)\n",
    "        self.TrueHam = np.tensordot(self.TrueParamsList, self.TrueOpList, axes=1)\n",
    "        self.initiateDB()\n",
    "        self.MaxModNum = maxmodnum #TODO: necessary?\n",
    "        self.gaussian = gaussian\n",
    "        \n",
    "    def initiateDB(self):\n",
    "        self.db, self.legacy_db, self.model_lists = \\\n",
    "            DataBase.launch_db(\n",
    "                gen_list = self.InitialOpList,\n",
    "                true_ops = self.TrueOpList,\n",
    "                true_params = self.TrueParamsList\n",
    "            )\n",
    "    def addModel(self, model):\n",
    "        DataBase.add_model(\n",
    "            model_name = model,\n",
    "            running_database = self.db,\n",
    "            model_lists = self.model_lists,\n",
    "            true_ops = self.TrueOpList,\n",
    "            true_params = self.TrueParamsList\n",
    "        )\n",
    "            \n",
    "            \n",
    "    def getModelInstance(self, name):\n",
    "        try: \n",
    "            instance = DataBase.get_qml_instance(self.db, name)\n",
    "            return instance\n",
    "        except: \n",
    "            if name in list(self.legacy_db['<Name>']):\n",
    "                print(\"Operator in legacy databse - retired. \")\n",
    "            else: \n",
    "                print(\"Model not found.\")\n",
    "    def getOperatorInstance(self, name):\n",
    "        try: \n",
    "            return DataBase.get_operator_instance(self.db, name)\n",
    "        except:\n",
    "            if name in list(self.legacy_db['<Name>']):\n",
    "                print(\"Operator in legacy databse - retired. \")\n",
    "            else: \n",
    "                print(\"Operator not found.\")\n",
    "            \n",
    "    def killModel(self, name):\n",
    "        if name not in list(self.db['<Name>']):\n",
    "            print(\"Cannot remove \", name, \"; not in \", list(self.db[\"<Name>\"]))\n",
    "        else: \n",
    "            # Add to legacy_db\n",
    "            DataBase.move_to_legacy(self.db, self.legacy_db, name)\n",
    "            model_instance = self.getModelInstance(name)\n",
    "            # Remove from self.db\n",
    "            self.db = DataBase.remove_model(self.db, name)\n",
    "            del model_instance\n",
    "    \n",
    "            #TODO: plot?\n",
    "    #TODO: functionality required by QMD class: \n",
    "    # - champion rules\n",
    "        "
   ]
  },
  {
   "cell_type": "code",
   "execution_count": 53,
   "metadata": {},
   "outputs": [
    {
     "name": "stdout",
     "output_type": "stream",
     "text": [
      "Initialization Ready\n",
      "Initialization Ready\n",
      "Initialization Ready\n",
      "Initialization Ready\n",
      "('Model ', 'x', ' not previously considered -- adding.')\n",
      "Initialization Ready\n",
      "('Model ', 'xPy', ' not previously considered -- adding.')\n",
      "Initialization Ready\n",
      "('Model ', 'yTz', ' not previously considered -- adding.')\n",
      "Initialization Ready\n",
      "('Model', 'x', ' previously considered at location', 0)\n"
     ]
    }
   ],
   "source": [
    "generators = ['x', 'xPy', 'yTz', 'x']\n",
    "qmd= NewQMDClass(initial_op_list=generators, true_operator='x')"
   ]
  },
  {
   "cell_type": "code",
   "execution_count": 57,
   "metadata": {},
   "outputs": [
    {
     "name": "stdout",
     "output_type": "stream",
     "text": [
      "Initialization Ready\n",
      "Initialization Ready\n",
      "Initialization Ready\n",
      "Initialization Ready\n",
      "('Model ', 'x', ' not previously considered -- adding.')\n",
      "Initialization Ready\n",
      "('Model ', 'xPy', ' not previously considered -- adding.')\n",
      "Initialization Ready\n",
      "('Model ', 'yTz', ' not previously considered -- adding.')\n",
      "Initialization Ready\n",
      "('Model', 'x', ' previously considered at location', 0)\n"
     ]
    }
   ],
   "source": [
    "generators = ['x', 'xPy', 'yTz', 'x']\n",
    "qmd= NewQMDClass(initial_op_list=generators, true_operator='yTz')"
   ]
  },
  {
   "cell_type": "code",
   "execution_count": 58,
   "metadata": {},
   "outputs": [],
   "source": [
    "a = qmd.getModelInstance('yTz')"
   ]
  },
  {
   "cell_type": "code",
   "execution_count": 59,
   "metadata": {},
   "outputs": [
    {
     "name": "stdout",
     "output_type": "stream",
     "text": [
      "Initial time selected > 0.926621640589\n",
      "Final time selected > 0.926621640589\n",
      "Final Parameters mean and stdev:[ 0.4967481   0.57443083]\n"
     ]
    }
   ],
   "source": [
    "a.UpdateModel(1)"
   ]
  },
  {
   "cell_type": "code",
   "execution_count": 60,
   "metadata": {},
   "outputs": [
    {
     "name": "stdout",
     "output_type": "stream",
     "text": [
      "Initial time selected > 0.509242188824\n"
     ]
    },
    {
     "ename": "ValueError",
     "evalue": "operands could not be broadcast together with shapes (4,4) (2,2) ",
     "output_type": "error",
     "traceback": [
      "\u001b[0;31m---------------------------------------------------------------------------\u001b[0m",
      "\u001b[0;31mValueError\u001b[0m                                Traceback (most recent call last)",
      "\u001b[0;32m<ipython-input-60-c026e2fcc3f1>\u001b[0m in \u001b[0;36m<module>\u001b[0;34m()\u001b[0m\n\u001b[1;32m      1\u001b[0m \u001b[0mx\u001b[0m \u001b[0;34m=\u001b[0m \u001b[0mqmd\u001b[0m\u001b[0;34m.\u001b[0m\u001b[0mgetModelInstance\u001b[0m\u001b[0;34m(\u001b[0m\u001b[0;34m'x'\u001b[0m\u001b[0;34m)\u001b[0m\u001b[0;34m\u001b[0m\u001b[0m\n\u001b[0;32m----> 2\u001b[0;31m \u001b[0mx\u001b[0m\u001b[0;34m.\u001b[0m\u001b[0mUpdateModel\u001b[0m\u001b[0;34m(\u001b[0m\u001b[0;36m1\u001b[0m\u001b[0;34m)\u001b[0m\u001b[0;34m\u001b[0m\u001b[0m\n\u001b[0m",
      "\u001b[0;32m/home/bf16951/Dropbox/QML_share_stateofart/QMD/Libraries/QML_lib/QML.pyc\u001b[0m in \u001b[0;36mUpdateModel\u001b[0;34m(self, n_experiments, sigma_threshold, checkloss)\u001b[0m\n\u001b[1;32m    162\u001b[0m             \u001b[0mself\u001b[0m\u001b[0;34m.\u001b[0m\u001b[0mTrackTime\u001b[0m\u001b[0;34m[\u001b[0m\u001b[0mistep\u001b[0m\u001b[0;34m]\u001b[0m \u001b[0;34m=\u001b[0m \u001b[0mself\u001b[0m\u001b[0;34m.\u001b[0m\u001b[0mExperiment\u001b[0m\u001b[0;34m[\u001b[0m\u001b[0;36m0\u001b[0m\u001b[0;34m]\u001b[0m\u001b[0;34m[\u001b[0m\u001b[0;36m0\u001b[0m\u001b[0;34m]\u001b[0m\u001b[0;34m\u001b[0m\u001b[0m\n\u001b[1;32m    163\u001b[0m \u001b[0;34m\u001b[0m\u001b[0m\n\u001b[0;32m--> 164\u001b[0;31m             \u001b[0mself\u001b[0m\u001b[0;34m.\u001b[0m\u001b[0mDatum\u001b[0m \u001b[0;34m=\u001b[0m \u001b[0mself\u001b[0m\u001b[0;34m.\u001b[0m\u001b[0mGenSimModel\u001b[0m\u001b[0;34m.\u001b[0m\u001b[0msimulate_experiment\u001b[0m\u001b[0;34m(\u001b[0m\u001b[0mself\u001b[0m\u001b[0;34m.\u001b[0m\u001b[0mSimParams\u001b[0m\u001b[0;34m,\u001b[0m \u001b[0mself\u001b[0m\u001b[0;34m.\u001b[0m\u001b[0mExperiment\u001b[0m\u001b[0;34m)\u001b[0m\u001b[0;34m\u001b[0m\u001b[0m\n\u001b[0m\u001b[1;32m    165\u001b[0m \u001b[0;34m\u001b[0m\u001b[0m\n\u001b[1;32m    166\u001b[0m             \u001b[0;31m#print(str(self.GenSimModel.ProbeState))\u001b[0m\u001b[0;34m\u001b[0m\u001b[0;34m\u001b[0m\u001b[0m\n",
      "\u001b[0;32m/usr/local/lib/python2.7/dist-packages/qinfer/abstract_model.pyc\u001b[0m in \u001b[0;36msimulate_experiment\u001b[0;34m(self, modelparams, expparams, repeat)\u001b[0m\n\u001b[1;32m    628\u001b[0m             \u001b[0;31m# In this case, all expparams have the same domain\u001b[0m\u001b[0;34m\u001b[0m\u001b[0;34m\u001b[0m\u001b[0m\n\u001b[1;32m    629\u001b[0m             \u001b[0mall_outcomes\u001b[0m \u001b[0;34m=\u001b[0m \u001b[0mself\u001b[0m\u001b[0;34m.\u001b[0m\u001b[0mdomain\u001b[0m\u001b[0;34m(\u001b[0m\u001b[0mNone\u001b[0m\u001b[0;34m)\u001b[0m\u001b[0;34m.\u001b[0m\u001b[0mvalues\u001b[0m\u001b[0;34m\u001b[0m\u001b[0m\n\u001b[0;32m--> 630\u001b[0;31m             \u001b[0mprobabilities\u001b[0m \u001b[0;34m=\u001b[0m \u001b[0mself\u001b[0m\u001b[0;34m.\u001b[0m\u001b[0mlikelihood\u001b[0m\u001b[0;34m(\u001b[0m\u001b[0mall_outcomes\u001b[0m\u001b[0;34m,\u001b[0m \u001b[0mmodelparams\u001b[0m\u001b[0;34m,\u001b[0m \u001b[0mexpparams\u001b[0m\u001b[0;34m)\u001b[0m\u001b[0;34m\u001b[0m\u001b[0m\n\u001b[0m\u001b[1;32m    631\u001b[0m             \u001b[0mcdf\u001b[0m \u001b[0;34m=\u001b[0m \u001b[0mnp\u001b[0m\u001b[0;34m.\u001b[0m\u001b[0mcumsum\u001b[0m\u001b[0;34m(\u001b[0m\u001b[0mprobabilities\u001b[0m\u001b[0;34m,\u001b[0m \u001b[0maxis\u001b[0m\u001b[0;34m=\u001b[0m\u001b[0;36m0\u001b[0m\u001b[0;34m)\u001b[0m\u001b[0;34m\u001b[0m\u001b[0m\n\u001b[1;32m    632\u001b[0m             \u001b[0mrandnum\u001b[0m \u001b[0;34m=\u001b[0m \u001b[0mnp\u001b[0m\u001b[0;34m.\u001b[0m\u001b[0mrandom\u001b[0m\u001b[0;34m.\u001b[0m\u001b[0mrandom\u001b[0m\u001b[0;34m(\u001b[0m\u001b[0;34m(\u001b[0m\u001b[0mrepeat\u001b[0m\u001b[0;34m,\u001b[0m \u001b[0;36m1\u001b[0m\u001b[0;34m,\u001b[0m \u001b[0mmodelparams\u001b[0m\u001b[0;34m.\u001b[0m\u001b[0mshape\u001b[0m\u001b[0;34m[\u001b[0m\u001b[0;36m0\u001b[0m\u001b[0;34m]\u001b[0m\u001b[0;34m,\u001b[0m \u001b[0mexpparams\u001b[0m\u001b[0;34m.\u001b[0m\u001b[0mshape\u001b[0m\u001b[0;34m[\u001b[0m\u001b[0;36m0\u001b[0m\u001b[0;34m]\u001b[0m\u001b[0;34m)\u001b[0m\u001b[0;34m)\u001b[0m\u001b[0;34m\u001b[0m\u001b[0m\n",
      "\u001b[0;32m/home/bf16951/Dropbox/QML_share_stateofart/QMD/Libraries/QML_lib/GenSimQMD_IQLE.pyc\u001b[0m in \u001b[0;36mlikelihood\u001b[0;34m(self, outcomes, modelparams, expparams)\u001b[0m\n\u001b[1;32m    190\u001b[0m             \u001b[0;31m#pr0[:, :] = pr0fromScipy(t, dw, self._oplist, probestate)\u001b[0m\u001b[0;34m\u001b[0m\u001b[0;34m\u001b[0m\u001b[0m\n\u001b[1;32m    191\u001b[0m             \u001b[0;31m#for all other models\u001b[0m\u001b[0;34m\u001b[0m\u001b[0;34m\u001b[0m\u001b[0m\n\u001b[0;32m--> 192\u001b[0;31m             \u001b[0mpr0\u001b[0m\u001b[0;34m[\u001b[0m\u001b[0;34m:\u001b[0m\u001b[0;34m,\u001b[0m \u001b[0;34m:\u001b[0m\u001b[0;34m]\u001b[0m \u001b[0;34m=\u001b[0m \u001b[0mpr0fromScipyNC\u001b[0m\u001b[0;34m(\u001b[0m\u001b[0mt\u001b[0m\u001b[0;34m,\u001b[0m \u001b[0mmodelparams\u001b[0m\u001b[0;34m[\u001b[0m\u001b[0;34m:\u001b[0m\u001b[0;34m,\u001b[0m\u001b[0;34m]\u001b[0m\u001b[0;34m,\u001b[0m \u001b[0mnp\u001b[0m\u001b[0;34m.\u001b[0m\u001b[0marray\u001b[0m\u001b[0;34m(\u001b[0m\u001b[0;34m[\u001b[0m\u001b[0mexpparams\u001b[0m\u001b[0;34m.\u001b[0m\u001b[0mitem\u001b[0m\u001b[0;34m(\u001b[0m\u001b[0;36m0\u001b[0m\u001b[0;34m)\u001b[0m\u001b[0;34m[\u001b[0m\u001b[0;36m1\u001b[0m\u001b[0;34m:\u001b[0m\u001b[0;34m]\u001b[0m\u001b[0;34m]\u001b[0m\u001b[0;34m)\u001b[0m\u001b[0;34m,\u001b[0m \u001b[0mself\u001b[0m\u001b[0;34m.\u001b[0m\u001b[0m_oplist\u001b[0m\u001b[0;34m,\u001b[0m \u001b[0mprobestate\u001b[0m\u001b[0;34m,\u001b[0m \u001b[0mHp\u001b[0m\u001b[0;34m=\u001b[0m\u001b[0mself\u001b[0m\u001b[0;34m.\u001b[0m\u001b[0m_trueHam\u001b[0m\u001b[0;34m,\u001b[0m \u001b[0mtrotterize\u001b[0m\u001b[0;34m=\u001b[0m\u001b[0mself\u001b[0m\u001b[0;34m.\u001b[0m\u001b[0m_trotter\u001b[0m\u001b[0;34m)\u001b[0m\u001b[0;34m\u001b[0m\u001b[0m\n\u001b[0m\u001b[1;32m    193\u001b[0m         \u001b[0;32melse\u001b[0m\u001b[0;34m:\u001b[0m\u001b[0;34m\u001b[0m\u001b[0m\n\u001b[1;32m    194\u001b[0m             \u001b[0;32mif\u001b[0m \u001b[0;34m(\u001b[0m\u001b[0mself\u001b[0m\u001b[0;34m.\u001b[0m\u001b[0m_solver\u001b[0m \u001b[0;34m==\u001b[0m \u001b[0;34m'qutip'\u001b[0m\u001b[0;34m)\u001b[0m\u001b[0;34m:\u001b[0m\u001b[0;34m\u001b[0m\u001b[0m\n",
      "\u001b[0;32m/home/bf16951/Dropbox/QML_share_stateofart/QMD/Libraries/QML_lib/Evo.pyc\u001b[0m in \u001b[0;36mpr0fromScipyNC\u001b[0;34m(tvec, modpar, exppar, oplist, probestate, Hp, trotterize, IQLE, use_exp_ham)\u001b[0m\n\u001b[1;32m    154\u001b[0m                     \u001b[0;32mif\u001b[0m \u001b[0muse_exp_ham\u001b[0m\u001b[0;34m:\u001b[0m\u001b[0;34m\u001b[0m\u001b[0m\n\u001b[1;32m    155\u001b[0m                         \u001b[0;31m#print(\"Using Exp ham custom\")\u001b[0m\u001b[0;34m\u001b[0m\u001b[0;34m\u001b[0m\u001b[0m\n\u001b[0;32m--> 156\u001b[0;31m                         \u001b[0mevostate\u001b[0m \u001b[0;34m=\u001b[0m \u001b[0mnp\u001b[0m\u001b[0;34m.\u001b[0m\u001b[0mdot\u001b[0m\u001b[0;34m(\u001b[0m\u001b[0mh\u001b[0m\u001b[0;34m.\u001b[0m\u001b[0mexp_ham\u001b[0m\u001b[0;34m(\u001b[0m\u001b[0mHp\u001b[0m\u001b[0;34m-\u001b[0m\u001b[0mHm\u001b[0m\u001b[0;34m,\u001b[0m \u001b[0mtvec\u001b[0m\u001b[0;34m[\u001b[0m\u001b[0midt\u001b[0m\u001b[0;34m]\u001b[0m\u001b[0;34m,\u001b[0m \u001b[0mplus_or_minus\u001b[0m\u001b[0;34m=\u001b[0m\u001b[0;36m1.0\u001b[0m\u001b[0;34m,\u001b[0m\u001b[0mprint_method\u001b[0m\u001b[0;34m=\u001b[0m\u001b[0mprint_exp_ham\u001b[0m\u001b[0;34m)\u001b[0m\u001b[0;34m,\u001b[0m \u001b[0mprobestate\u001b[0m\u001b[0;34m)\u001b[0m\u001b[0;34m\u001b[0m\u001b[0m\n\u001b[0m\u001b[1;32m    157\u001b[0m                     \u001b[0;32melse\u001b[0m\u001b[0;34m:\u001b[0m\u001b[0;34m\u001b[0m\u001b[0m\n\u001b[1;32m    158\u001b[0m                         \u001b[0mevostate\u001b[0m \u001b[0;34m=\u001b[0m \u001b[0mnp\u001b[0m\u001b[0;34m.\u001b[0m\u001b[0mdot\u001b[0m\u001b[0;34m(\u001b[0m\u001b[0msp\u001b[0m\u001b[0;34m.\u001b[0m\u001b[0mlinalg\u001b[0m\u001b[0;34m.\u001b[0m\u001b[0mexpm\u001b[0m\u001b[0;34m(\u001b[0m\u001b[0;34m-\u001b[0m\u001b[0;34m(\u001b[0m\u001b[0;36m1j\u001b[0m\u001b[0;34m)\u001b[0m\u001b[0;34m*\u001b[0m\u001b[0mtvec\u001b[0m\u001b[0;34m[\u001b[0m\u001b[0midt\u001b[0m\u001b[0;34m]\u001b[0m\u001b[0;34m*\u001b[0m\u001b[0;34m(\u001b[0m\u001b[0mHp\u001b[0m\u001b[0;34m-\u001b[0m\u001b[0mHm\u001b[0m\u001b[0;34m)\u001b[0m\u001b[0;34m)\u001b[0m\u001b[0;34m,\u001b[0m \u001b[0mprobestate\u001b[0m\u001b[0;34m)\u001b[0m\u001b[0;34m\u001b[0m\u001b[0m\n",
      "\u001b[0;31mValueError\u001b[0m: operands could not be broadcast together with shapes (4,4) (2,2) "
     ]
    }
   ],
   "source": [
    "x = qmd.getModelInstance('x')\n",
    "x.UpdateModel(1)"
   ]
  },
  {
   "cell_type": "code",
   "execution_count": 55,
   "metadata": {},
   "outputs": [
    {
     "name": "stdout",
     "output_type": "stream",
     "text": [
      "('Model instance : ', <QML.ModelLearningClass instance at 0x7f5fbf0b8ef0>, ' for model ', 'x')\n"
     ]
    }
   ],
   "source": [
    "qmd.killModel('x')"
   ]
  },
  {
   "cell_type": "code",
   "execution_count": 46,
   "metadata": {},
   "outputs": [
    {
     "name": "stdout",
     "output_type": "stream",
     "text": [
      "Model not found.\n"
     ]
    }
   ],
   "source": [
    "y = qmd.getModelInstance('x')"
   ]
  },
  {
   "cell_type": "code",
   "execution_count": null,
   "metadata": {},
   "outputs": [],
   "source": [
    "name='x'\n",
    "#DataBase.move_to_legacy(qmd_new.db, qmd_new.legacy_db, name)\n",
    "#qmd.killModel(name)\n",
    "\n",
    "n_exp = 20\n",
    "for name in qmd.db['<Name>']:\n",
    "    mod = qmd.getModelInstance(name)\n",
    "    mod.UpdateModel(n_experiments=n_exp)\n",
    "    "
   ]
  },
  {
   "cell_type": "code",
   "execution_count": 11,
   "metadata": {},
   "outputs": [],
   "source": [
    "def run_iqle(model, qmd, n_exp):\n",
    "    model_instance = qmd.getModelInstance(model)\n",
    "    model_instance.UpdateModel(n_exp)\n",
    "    #model_instance.BayesOnModelsWithinTrees\n",
    "    kill_this_model = model_instance.testSurvival # return whether to kill this model or make it remain active but saturated, etc.\n",
    "    if(kill_this_model):\n",
    "        qmd.killModel(model)"
   ]
  },
  {
   "cell_type": "code",
   "execution_count": 12,
   "metadata": {},
   "outputs": [
    {
     "name": "stdout",
     "output_type": "stream",
     "text": [
      "Initial time selected > 1.12315309631\n",
      "Final time selected > 1.12315309631\n",
      "Final Parameters mean and stdev:[ 0.47501394  0.58493952]\n",
      "('Model instance : ', <QML.ModelLearningClass instance at 0x7f5fbf44a248>, ' for model ', 'x')\n"
     ]
    }
   ],
   "source": [
    "run_iqle(model='x', qmd=qmd, n_exp=1)"
   ]
  },
  {
   "cell_type": "code",
   "execution_count": 13,
   "metadata": {},
   "outputs": [
    {
     "data": {
      "text/html": [
       "<div>\n",
       "<style>\n",
       "    .dataframe thead tr:only-child th {\n",
       "        text-align: right;\n",
       "    }\n",
       "\n",
       "    .dataframe thead th {\n",
       "        text-align: left;\n",
       "    }\n",
       "\n",
       "    .dataframe tbody tr th {\n",
       "        vertical-align: top;\n",
       "    }\n",
       "</style>\n",
       "<table border=\"1\" class=\"dataframe\">\n",
       "  <thead>\n",
       "    <tr style=\"text-align: right;\">\n",
       "      <th></th>\n",
       "      <th>&lt;Name&gt;</th>\n",
       "      <th>Epoch_Finish</th>\n",
       "      <th>Epoch_Start</th>\n",
       "      <th>Param_Est_Final</th>\n",
       "    </tr>\n",
       "  </thead>\n",
       "  <tbody>\n",
       "    <tr>\n",
       "      <th>0</th>\n",
       "      <td>x</td>\n",
       "      <td>10.0</td>\n",
       "      <td>0.0</td>\n",
       "      <td>[[0.475013940894, 0.584939519547]]</td>\n",
       "    </tr>\n",
       "  </tbody>\n",
       "</table>\n",
       "</div>"
      ],
      "text/plain": [
       "  <Name>  Epoch_Finish  Epoch_Start                     Param_Est_Final\n",
       "0      x          10.0          0.0  [[0.475013940894, 0.584939519547]]"
      ]
     },
     "execution_count": 13,
     "metadata": {},
     "output_type": "execute_result"
    }
   ],
   "source": [
    "qmd.legacy_db"
   ]
  },
  {
   "cell_type": "code",
   "execution_count": null,
   "metadata": {},
   "outputs": [],
   "source": []
  }
 ],
 "metadata": {
  "kernelspec": {
   "display_name": "Python 3",
   "language": "python",
   "name": "python3"
  },
  "language_info": {
   "codemirror_mode": {
    "name": "ipython",
    "version": 2
   },
   "file_extension": ".py",
   "mimetype": "text/x-python",
   "name": "python",
   "nbconvert_exporter": "python",
   "pygments_lexer": "ipython2",
   "version": "2.7.12"
  }
 },
 "nbformat": 4,
 "nbformat_minor": 2
}
