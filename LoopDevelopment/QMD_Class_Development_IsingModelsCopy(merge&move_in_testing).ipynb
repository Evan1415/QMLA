{
 "cells": [
  {
   "cell_type": "code",
   "execution_count": 8,
   "metadata": {},
   "outputs": [
    {
     "name": "stderr",
     "output_type": "stream",
     "text": [
      "/usr/local/lib/python2.7/dist-packages/IPython/parallel.py:13: ShimWarning: The `IPython.parallel` package has been deprecated since IPython 4.0. You should import from ipyparallel instead.\n",
      "  \"You should import from ipyparallel instead.\", ShimWarning)\n",
      "/usr/local/lib/python2.7/dist-packages/qinfer/parallel.py:52: UserWarning: Could not import IPython parallel. Parallelization support will be disabled.\n",
      "  \"Could not import IPython parallel. \"\n"
     ]
    }
   ],
   "source": [
    "import numpy as np\n",
    "import itertools as itr\n",
    "\n",
    "import os as os\n",
    "import sys as sys \n",
    "import pandas as pd\n",
    "import warnings\n",
    "import time as time\n",
    "import random\n",
    "from __future__ import print_function # so print doesn't show brackets\n",
    "\n",
    "sys.path.append(os.path.join(\"..\",\"Libraries\",\"QML_lib\"))\n",
    "global paulis_list\n",
    "import Evo as evo\n",
    "paulis_list = {'i' : np.eye(2), 'x' : evo.sigmax(), 'y' : evo.sigmay(), 'z' : evo.sigmaz()}\n",
    "\n",
    "from ModelGeneration import *"
   ]
  },
  {
   "cell_type": "markdown",
   "metadata": {},
   "source": [
    "I have tried to name functions that generate true models starting with 'generate_...' and functions used to expand the tree as \"expand_...\""
   ]
  },
  {
   "cell_type": "markdown",
   "metadata": {},
   "source": [
    "## Ising model - chain (1D) - nearest neighbour - 1 direction"
   ]
  },
  {
   "cell_type": "markdown",
   "metadata": {},
   "source": [
    "- we can probably assume the direction is 'x' in all cases for simplicity\n",
    "- we already start with the most complicated parametrization: being the $J_{i,j}$ terms randomly chosen, we are exploring what are known as \"random (transverse field) Ising models\", that are non exactly solvable\n",
    "- TODO: in literature frequently $J_{i,j} = J \\; \\forall \\{i,j\\}$ and we can choose J ~ 0.5 (after rescaling) improving a lot the learning process!"
   ]
  },
  {
   "cell_type": "code",
   "execution_count": 17,
   "metadata": {},
   "outputs": [],
   "source": [
    "def generate_nnIsing_1D(num_dimensions, mydir = 'x'):\n",
    "    \n",
    "    dir_list = [mydir, mydir]\n",
    "    # todo: make random choice of x,y,z\n",
    "    list_terms = []\n",
    "    for i in range(num_dimensions-1):\n",
    "        list_terms.append(interaction_ham([i,i+1], dir_list, num_dimensions))\n",
    "        \n",
    "    \n",
    "    finalname = (num_dimensions*\"P\").join(list_terms)\n",
    "        \n",
    "    # I am returning also the pure list for you to better check correspondency\n",
    "    return [finalname, list_terms]"
   ]
  },
  {
   "cell_type": "code",
   "execution_count": 18,
   "metadata": {},
   "outputs": [
    {
     "data": {
      "text/plain": [
       "['xTxTTiTTTiPPPPiTxTTxTTTiPPPPiTiTTxTTTx',\n",
       " ['xTxTTiTTTi', 'iTxTTxTTTi', 'iTiTTxTTTx']]"
      ]
     },
     "execution_count": 18,
     "metadata": {},
     "output_type": "execute_result"
    }
   ],
   "source": [
    "generate_nnIsing_1D(num_dimensions=4)"
   ]
  },
  {
   "cell_type": "code",
   "execution_count": 19,
   "metadata": {},
   "outputs": [
    {
     "data": {
      "text/plain": [
       "['xTxTTiTTTiTTTTiPPPPPiTxTTxTTTiTTTTiPPPPPiTiTTxTTTxTTTTiPPPPPiTiTTiTTTxTTTTx',\n",
       " ['xTxTTiTTTiTTTTi', 'iTxTTxTTTiTTTTi', 'iTiTTxTTTxTTTTi', 'iTiTTiTTTxTTTTx']]"
      ]
     },
     "execution_count": 19,
     "metadata": {},
     "output_type": "execute_result"
    }
   ],
   "source": [
    "result_gennnIsing1D = generate_nnIsing_1D(5)\n",
    "result_gennnIsing1D"
   ]
  },
  {
   "cell_type": "markdown",
   "metadata": {},
   "source": [
    "the expansion for this simpler model generates the new layer from the latest (\"name_toexpand\"), without knowing the direction of the new interaction term (genereates all ...jTj for $j \\in paulis$).\n",
    "\n",
    "stress-testing by expanding in bigger branches?\n",
    "- involving e.g. also \"something_xTx + something_yTy\" (in other words, the tree explores XY or XXZ models?)\n",
    "- relaxing the directionality of magnetic interactions even? i.e. add \"something_xTy\" ... "
   ]
  },
  {
   "cell_type": "code",
   "execution_count": 20,
   "metadata": {},
   "outputs": [],
   "source": [
    "def expand_nnIsing_1D(name_toexpand, paulis=['x', 'y', 'z']):\n",
    "    # AAG note: expanding with identity here will be of no use, so I did not use it - hope that makes sense\n",
    "    \n",
    "    newdim = 1\n",
    "    result = 1\n",
    "    while name_toexpand.count(newdim*\"T\") > 0:\n",
    "        newdim = newdim+1\n",
    "    ### AAG note: when embedding the database, you might want to catch the newdim from the DB entry\n",
    "    ### e.g. if you can add a default entry DB = None, then \n",
    "#     if DB is None: \n",
    "#         ... \"as above\" \n",
    "#     else:\n",
    "#         newdim = DB.loc...\n",
    "    \n",
    "    temp_list = name_toexpand.split(newdim*\"P\")\n",
    "    \n",
    "    for i in range(len(temp_list)):\n",
    "        temp_list[i] = temp_list[i] + newdim*\"T\" + \"i\"\n",
    "    \n",
    "    newterm = \"\"   # note AAG: maybe you have a function doing this sort of stuff already that you wanna call here?\n",
    "    for k in range(newdim-1):\n",
    "        newterm = newterm + \"i\" + (k+1)*\"T\"  \n",
    "    newterms = [newterm + op + newdim*\"T\" + op for op in paulis]\n",
    "    \n",
    "    # TODO: ok I was struggling to do it in a clever fashion and I ended up desperately sorting out like this.\n",
    "    # Feel free to improve\n",
    "    \n",
    "    newmodels = []\n",
    "    for newterm in newterms:\n",
    "        new_list = []\n",
    "        new_list.extend(temp_list)\n",
    "        new_list.append(newterm)\n",
    "#         print(new_list)\n",
    "        newmodels.append( (newdim*\"P\").join(new_list) ) \n",
    "\n",
    "    return [newmodels, newdim]"
   ]
  },
  {
   "cell_type": "code",
   "execution_count": 21,
   "metadata": {
    "scrolled": true
   },
   "outputs": [
    {
     "data": {
      "text/plain": [
       "[['xTxTTiTTTiTTTTiTTTTTiPPPPPiTxTTxTTTiTTTTiTTTTTiPPPPPiTiTTxTTTxTTTTiTTTTTiPPPPPiTiTTiTTTxTTTTxTTTTTiPPPPPiTiTTiTTTiTTTTxTTTTTx'],\n",
       " 5]"
      ]
     },
     "execution_count": 21,
     "metadata": {},
     "output_type": "execute_result"
    }
   ],
   "source": [
    "result_expnnIsing1D = expand_nnIsing_1D(result_gennnIsing1D[0], paulis=['x'])\n",
    "result_expnnIsing1D"
   ]
  },
  {
   "cell_type": "markdown",
   "metadata": {},
   "source": [
    "## Ising model - chain (1D) - nearest neighbour - \"transverse\""
   ]
  },
  {
   "cell_type": "markdown",
   "metadata": {},
   "source": [
    "- called 'x' the standard interaction direction and 'z' the transverse field direction in all cases for simplicity\n",
    "- TODO also here we can simplify $J_{i,j} = J \\; \\forall \\{i,j\\}$ and $B_i = B \\forall i$\n",
    "(in this case it is exactly solvable for 1D)"
   ]
  },
  {
   "cell_type": "code",
   "execution_count": 173,
   "metadata": {
    "collapsed": true
   },
   "outputs": [],
   "source": [
    "def generate_nnIsing_trans(num_dimensions, mydir = 'x', trandir = 'z'):\n",
    "    list_terms = generate_nnIsing_1D(num_dimensions, mydir)[1]\n",
    "    \n",
    "    for i in range(num_dimensions):\n",
    "        list_terms.append(interaction_ham([i], [trandir], num_dimensions))\n",
    "        \n",
    "    finalname = (num_dimensions*\"P\").join(list_terms)\n",
    "        \n",
    "    return [finalname, list_terms]"
   ]
  },
  {
   "cell_type": "code",
   "execution_count": 174,
   "metadata": {},
   "outputs": [
    {
     "data": {
      "text/plain": [
       "['xTxTTiTTTiTTTTiPPPPPiTxTTxTTTiTTTTiPPPPPiTiTTxTTTxTTTTiPPPPPiTiTTiTTTxTTTTxPPPPPzTiTTiTTTiTTTTiPPPPPiTzTTiTTTiTTTTiPPPPPiTiTTzTTTiTTTTiPPPPPiTiTTiTTTzTTTTiPPPPPiTiTTiTTTiTTTTz',\n",
       " ['xTxTTiTTTiTTTTi',\n",
       "  'iTxTTxTTTiTTTTi',\n",
       "  'iTiTTxTTTxTTTTi',\n",
       "  'iTiTTiTTTxTTTTx',\n",
       "  'zTiTTiTTTiTTTTi',\n",
       "  'iTzTTiTTTiTTTTi',\n",
       "  'iTiTTzTTTiTTTTi',\n",
       "  'iTiTTiTTTzTTTTi',\n",
       "  'iTiTTiTTTiTTTTz']]"
      ]
     },
     "execution_count": 174,
     "metadata": {},
     "output_type": "execute_result"
    }
   ],
   "source": [
    "result_gennnIsing_trans = generate_nnIsing_trans(5)\n",
    "result_gennnIsing_trans"
   ]
  },
  {
   "cell_type": "markdown",
   "metadata": {},
   "source": [
    "the expansion rule here generates the terms for the new branch as all possible magnetic interactions (xTx, yTy, zTz) and also all possible directions of an external magnetic field, where for relabelling sake we always assume that z would be the trasnverse to an x interaction, x to y, ..."
   ]
  },
  {
   "cell_type": "code",
   "execution_count": 175,
   "metadata": {},
   "outputs": [],
   "source": [
    "def expand_nnIsing_trans(name_toexpand, paulis=['x', 'y', 'z']):\n",
    "    \n",
    "    [newmodels, newdim] = expand_nnIsing_1D(name_toexpand, paulis)\n",
    "        \n",
    "    if len(paulis) is 1:\n",
    "        raise Exception(\"Cannot build transverse models out of a single direction\")\n",
    "    \n",
    "    \n",
    "    newterm = \"\"   # note AAG: maybe you have a function doing this sort of stuff already that you wanna call here?\n",
    "    for k in range(newdim):\n",
    "        newterm = newterm + \"i\" + (k+1)*\"T\"  \n",
    "    newterms = [newterm + op for op in paulis]\n",
    "    \n",
    "    newmodels_len = len(newmodels)\n",
    "    for l in range(newmodels_len):\n",
    "        lastdir = newmodels[l][-1]\n",
    "        trandir = paulis.index(lastdir) - 1\n",
    "        trandir = len(paulis) - 1 if trandir < 0 else trandir\n",
    "        \n",
    "        newmodels.append( (newdim*\"P\").join([newmodels[l], newterms[trandir]])  )   \n",
    "    \n",
    "    return [newmodels, newdim]"
   ]
  },
  {
   "cell_type": "code",
   "execution_count": 176,
   "metadata": {},
   "outputs": [
    {
     "data": {
      "text/plain": [
       "[['xTxTTiTTTiTTTTiTTTTTiPPPPPiTxTTxTTTiTTTTiTTTTTiPPPPPiTiTTxTTTxTTTTiTTTTTiPPPPPiTiTTiTTTxTTTTxTTTTTiPPPPPiTiTTiTTTiTTTTxTTTTTx',\n",
       "  'xTxTTiTTTiTTTTiTTTTTiPPPPPiTxTTxTTTiTTTTiTTTTTiPPPPPiTiTTxTTTxTTTTiTTTTTiPPPPPiTiTTiTTTxTTTTxTTTTTiPPPPPiTiTTiTTTiTTTTyTTTTTy',\n",
       "  'xTxTTiTTTiTTTTiTTTTTiPPPPPiTxTTxTTTiTTTTiTTTTTiPPPPPiTiTTxTTTxTTTTiTTTTTiPPPPPiTiTTiTTTxTTTTxTTTTTiPPPPPiTiTTiTTTiTTTTzTTTTTz',\n",
       "  'xTxTTiTTTiTTTTiTTTTTiPPPPPiTxTTxTTTiTTTTiTTTTTiPPPPPiTiTTxTTTxTTTTiTTTTTiPPPPPiTiTTiTTTxTTTTxTTTTTiPPPPPiTiTTiTTTiTTTTxTTTTTxPPPPPiTiTTiTTTiTTTTiTTTTTz',\n",
       "  'xTxTTiTTTiTTTTiTTTTTiPPPPPiTxTTxTTTiTTTTiTTTTTiPPPPPiTiTTxTTTxTTTTiTTTTTiPPPPPiTiTTiTTTxTTTTxTTTTTiPPPPPiTiTTiTTTiTTTTyTTTTTyPPPPPiTiTTiTTTiTTTTiTTTTTx',\n",
       "  'xTxTTiTTTiTTTTiTTTTTiPPPPPiTxTTxTTTiTTTTiTTTTTiPPPPPiTiTTxTTTxTTTTiTTTTTiPPPPPiTiTTiTTTxTTTTxTTTTTiPPPPPiTiTTiTTTiTTTTzTTTTTzPPPPPiTiTTiTTTiTTTTiTTTTTy'],\n",
       " 5]"
      ]
     },
     "execution_count": 176,
     "metadata": {},
     "output_type": "execute_result"
    }
   ],
   "source": [
    "expand_nnIsing_trans(result_gennnIsing1D[0])"
   ]
  },
  {
   "cell_type": "code",
   "execution_count": 1,
   "metadata": {},
   "outputs": [
    {
     "ename": "NameError",
     "evalue": "name 'expand_nnIsing_trans' is not defined",
     "output_type": "error",
     "traceback": [
      "\u001b[0;31m---------------------------------------------------------------------------\u001b[0m",
      "\u001b[0;31mNameError\u001b[0m                                 Traceback (most recent call last)",
      "\u001b[0;32m<ipython-input-1-81a3bf2a5bec>\u001b[0m in \u001b[0;36m<module>\u001b[0;34m()\u001b[0m\n\u001b[0;32m----> 1\u001b[0;31m \u001b[0mexpand_nnIsing_trans\u001b[0m\u001b[0;34m(\u001b[0m\u001b[0mresult_gennnIsing_trans\u001b[0m\u001b[0;34m[\u001b[0m\u001b[0;36m0\u001b[0m\u001b[0;34m]\u001b[0m\u001b[0;34m)\u001b[0m\u001b[0;34m\u001b[0m\u001b[0m\n\u001b[0m",
      "\u001b[0;31mNameError\u001b[0m: name 'expand_nnIsing_trans' is not defined"
     ]
    }
   ],
   "source": [
    "expand_nnIsing_trans(result_gennnIsing_trans[0])"
   ]
  },
  {
   "cell_type": "markdown",
   "metadata": {},
   "source": [
    "## XY model - chain (1D) - nearest neighbour"
   ]
  },
  {
   "cell_type": "markdown",
   "metadata": {},
   "source": [
    "$\\sum \\frac{1+k}{2} \\sigma^x_{i} \\otimes \\frac{1-k}{2} \\sigma^x_{i} $\n",
    "\n",
    "- also this is exactly solvable (McCoy 1971) - at least in 1D\n",
    "- called 'x' & 'y' the standard interaction direction and 'z' the transverse field direction in all cases for simplicity\n",
    "- TODO also here we can simplify $k_{i,j} = k \\; \\forall \\{i,j\\}$ as \"k\" is known as the anisotropy factor to be constant along the chain"
   ]
  },
  {
   "cell_type": "code",
   "execution_count": 188,
   "metadata": {
    "collapsed": true
   },
   "outputs": [],
   "source": [
    "def generate_nnXY(num_dimensions, mydirs = ['x', 'y']):\n",
    "    \n",
    "    list_terms = []\n",
    "    for mydir in mydirs:\n",
    "        list_terms.extend(generate_nnIsing_1D(num_dimensions, mydir)[1])\n",
    "        \n",
    "    finalname = (num_dimensions*\"P\").join(list_terms)\n",
    "        \n",
    "    return [finalname, list_terms]"
   ]
  },
  {
   "cell_type": "code",
   "execution_count": 189,
   "metadata": {},
   "outputs": [
    {
     "data": {
      "text/plain": [
       "['xTxTTiPPPiTxTTxPPPyTyTTiPPPiTyTTy', ['xTxTTi', 'iTxTTx', 'yTyTTi', 'iTyTTy']]"
      ]
     },
     "execution_count": 189,
     "metadata": {},
     "output_type": "execute_result"
    }
   ],
   "source": [
    "generate_nnXY(3)"
   ]
  },
  {
   "cell_type": "code",
   "execution_count": null,
   "metadata": {
    "collapsed": true
   },
   "outputs": [],
   "source": []
  }
 ],
 "metadata": {
  "anaconda-cloud": {},
  "kernelspec": {
   "display_name": "Python 3",
   "language": "python",
   "name": "python3"
  },
  "language_info": {
   "codemirror_mode": {
    "name": "ipython",
    "version": 2
   },
   "file_extension": ".py",
   "mimetype": "text/x-python",
   "name": "python",
   "nbconvert_exporter": "python",
   "pygments_lexer": "ipython2",
   "version": "2.7.12"
  }
 },
 "nbformat": 4,
 "nbformat_minor": 2
}
