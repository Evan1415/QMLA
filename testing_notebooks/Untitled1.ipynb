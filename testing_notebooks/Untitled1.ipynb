{
 "cells": [
  {
   "cell_type": "markdown",
   "metadata": {},
   "source": [
    "$\\textit{evolution only under Hp (Hahn echo operation not effectively included)}$\n",
    "- the evolution is strongly dependent on the choice of the initial (random) nuclei probestate. It is affected only by $\\sigma_z \\otimes \\sigma_z$ and $\\sigma_y \\otimes \\sigma_y$, therefore $A_{//,x}$ has no effect on the evolution. \n",
    "- Ignore this possibility, as it would be difficult to justify control/readout of the nuclei spin at the beginning/end of the evolution?\n",
    "\n",
    "$\\textit{evolution under Hp full Hahn echo}$\n",
    "\n",
    "with Hm = np.kron(np.pi/2*spinlst[2],np.eye(2)) we assume the nuclear spin is static throughout the whole evolution\n",
    "\n",
    "- evolution independent of the initial choice of the nuclear probe state (ideally because of the $\\pi$ flip on the equator, which should be good to us)\n",
    "- $A_{//,z}$ is of order 0.006 MHz to reproduce experimental periodicity of Seb's thesis. However seems not far from the 0.214 MHz value for Sangtawesin thesis... what units are used in the CSV of the Hahn data?\n",
    "\n",
    "\n",
    "- it is also well protected from \"noise\" introduced by altering the choice of the initial state at the beginning of each step in the evolution, unless errors in the Hahn angle rotation are introduced\n",
    "- as such, there is no way to reduce the \"visibility\" of the oscillations in $\\langle \\Psi | 0 \\rangle ^2 $ by clever choices of the probe state at the beginning\n",
    "- evolution depends only on the $\\sigma_z \\otimes \\sigma_z$ term of the $H_f$ interaction, so it is effectively a 1-parameter estimate. $A_{//,x}$ has no effect on the evolution as the system is prepared in $|+\\rangle$ (well, ideally), whereas $A_{//,y}$ is ruled out by the $\\pi$ flip\n",
    "- as such, the \"visibility\" cannot be altered either by beatings due to the choice of $A_{//,y}$ and $A_{\\perp,z}$\n",
    "- however, we can introduce an error in the $\\pi$ rotation to both simulate decoherence and visibility effects. This is not very useful to me, because: i) it must be a huge one to match experimental data (around $\\sim 0.2$ rad); ii) I do not see why this error should increase with time\n",
    "- more interestingly, $\\textit{visibility}$ can be reduced by introducing $\\sigma_x$ or $\\sigma_y$ terms in the nuclear Hamiltonian (i.e. they effectively undergo a precession). It can also adjust the frequency of the fringes.\n",
    "- if the trick as above is deemed unacceptable, then the $\\textit{offset}$ must be introduced artificially to decrease visibility... is that OK? \n",
    "\n",
    "Question 1: do we NOT expect full visibility at all (but full visibility naturally arises from the coupling to the additional spin, I see no other physical reason to reduce the expectetion value of $| \\langle 0 | \\Psi_{evo} \\rangle |^2$?\n",
    "\n",
    "- as for the $\\textit{decoherence}$, the most trivial way is to impose it as an external parameter $T_2$ straight in the final expectation value. However this brings no advantage to multi qubit model (it can be well implemented also in the 1 qubit one). \n",
    "- choosing the probestate at the beginning of the evolution, altering the ratio of the two Hahn echo sequences has no effect. Also, I do not see as above why this ratio should be more prone to errors for longer evolution times.\n",
    "- we have two ways of formalising decoherence in a less artificial manner. One is the usual \"operator sum\" description of a depolarising channel, but again, this gives no advantage to a multi qubit representation as it is a 1-qubit description.\n",
    "- the other way to describe a $\\textit{depolarising channel}$ is a unitary mapping... that ideally involves a 4-dim space for a single qubit, i.e. too big for our system. We may partially capture the effect with a smaller space, but I guess this would make referees annoyed by discrepancies between ideal case and experimentally accomplished case. Also, the Hamiltonian would NOT be anymore just the hyperfine interaction.\n",
    "\n",
    "Question 2: do we want to use decoherence as well to make less likely to succeed the 1-qubit models? I think the idea is a nice selling point, but at the expense of learning the hyperfine Hamiltonian. Or they would be two different competitive models. Also, is it ok to analyse just partially a depolarising channel? We can hope that simulations favour the 2-qubits but this is not granted."
   ]
  },
  {
   "cell_type": "code",
   "execution_count": null,
   "metadata": {
    "collapsed": true
   },
   "outputs": [],
   "source": []
  }
 ],
 "metadata": {
  "anaconda-cloud": {},
  "kernelspec": {
   "display_name": "Python [conda root]",
   "language": "python",
   "name": "conda-root-py"
  },
  "language_info": {
   "codemirror_mode": {
    "name": "ipython",
    "version": 3
   },
   "file_extension": ".py",
   "mimetype": "text/x-python",
   "name": "python",
   "nbconvert_exporter": "python",
   "pygments_lexer": "ipython3",
   "version": "3.5.2"
  }
 },
 "nbformat": 4,
 "nbformat_minor": 1
}
