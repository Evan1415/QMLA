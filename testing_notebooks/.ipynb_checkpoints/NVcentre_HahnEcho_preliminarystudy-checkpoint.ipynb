{
 "cells": [
  {
   "cell_type": "markdown",
   "metadata": {},
   "source": [
    "## Implementing and testing the Pr0 function for Hahn Echo measurements\n",
    "\n",
    "A. Gentile\n",
    "\n",
    "07/2017"
   ]
  },
  {
   "cell_type": "code",
   "execution_count": 77,
   "metadata": {
    "collapsed": true
   },
   "outputs": [],
   "source": [
    "import qinfer as qi\n",
    "import numpy as np\n",
    "import scipy as sp\n",
    "import qutip as qt"
   ]
  },
  {
   "cell_type": "code",
   "execution_count": 20,
   "metadata": {
    "collapsed": false
   },
   "outputs": [],
   "source": [
    "import matplotlib.pyplot as plt"
   ]
  },
  {
   "cell_type": "markdown",
   "metadata": {},
   "source": [
    "Plotting of expected outcomes from the NV centre Hahn echo measurement"
   ]
  },
  {
   "cell_type": "code",
   "execution_count": 21,
   "metadata": {
    "collapsed": false
   },
   "outputs": [],
   "source": [
    "tvec = (np.array(range(35)))\n",
    "T2 = 65\n",
    "pr0es = np.expm1(-(tvec/T2)**3)+1"
   ]
  },
  {
   "cell_type": "code",
   "execution_count": 33,
   "metadata": {
    "collapsed": false
   },
   "outputs": [
    {
     "data": {
      "image/png": "[encoded data removed]",
      "text/plain": [
       "<matplotlib.figure.Figure at 0xcb79a58>"
      ]
     },
     "metadata": {},
     "output_type": "display_data"
    }
   ],
   "source": [
    "plt.plot(tvec,pr0es, label='Pr0 from $e^{-(t/T_2)^3}$')\n",
    "#plt.scatter(tvec, datum[0][0], label='sim. exp.')\n",
    "plt.legend()\n",
    "plt.title('Hahn Echo likelihood')\n",
    "plt.xlabel(r'time $\\tau_1$')\n",
    "plt.ylabel(r'$\\langle \\Psi | 1 \\rangle ^2 $')\n",
    "\n",
    "plt.show()"
   ]
  },
  {
   "cell_type": "markdown",
   "metadata": {},
   "source": [
    "Preliminary observation of the 2-qubit dynamic"
   ]
  },
  {
   "cell_type": "code",
   "execution_count": 37,
   "metadata": {
    "collapsed": false
   },
   "outputs": [],
   "source": [
    "# Add personalized library to PYTHONPATH\n",
    "import sys, os\n",
    "sys.path.append(os.path.join(\"..\",\"Libraries\",\"QML_lib\"))"
   ]
  },
  {
   "cell_type": "code",
   "execution_count": 65,
   "metadata": {
    "collapsed": true
   },
   "outputs": [],
   "source": [
    "from Norms import *\n",
    "from IOfuncts import *\n",
    "from EvalLoss import *\n",
    "\n",
    "import ProbeStates as pros\n",
    "import multiPGH as mpgh\n",
    "import GenSimQMD as gsi\n",
    "import Evo as evo\n",
    "import Distrib as distr"
   ]
  },
  {
   "cell_type": "code",
   "execution_count": 101,
   "metadata": {
    "collapsed": false
   },
   "outputs": [
    {
     "data": {
      "text/plain": [
       "<module 'Distrib' from '..\\\\Libraries\\\\QML_lib\\\\Distrib.py'>"
      ]
     },
     "execution_count": 101,
     "metadata": {},
     "output_type": "execute_result"
    }
   ],
   "source": [
    "import importlib as imp\n",
    "\n",
    "imp.reload(pros)\n",
    "imp.reload(mpgh)\n",
    "imp.reload(gsi)\n",
    "imp.reload(evo)\n",
    "imp.reload(distr)"
   ]
  },
  {
   "cell_type": "code",
   "execution_count": 39,
   "metadata": {
    "collapsed": false
   },
   "outputs": [],
   "source": [
    "spinlst = [evo.sigmax(), evo.sigmay(), evo.sigmaz()]    "
   ]
  },
  {
   "cell_type": "code",
   "execution_count": 758,
   "metadata": {
    "collapsed": false
   },
   "outputs": [
    {
     "name": "stdout",
     "output_type": "stream",
     "text": [
      "Oplist: array([[[ 0.+0.j,  0.+0.j,  0.+0.j,  1.+0.j],\n",
      "        [ 0.+0.j,  0.+0.j,  1.+0.j,  0.+0.j],\n",
      "        [ 0.+0.j,  1.+0.j,  0.+0.j,  0.+0.j],\n",
      "        [ 1.+0.j,  0.+0.j,  0.+0.j,  0.+0.j]],\n",
      "\n",
      "       [[ 0.+0.j,  0.-0.j,  0.-0.j, -1.+0.j],\n",
      "        [ 0.+0.j,  0.+0.j,  1.-0.j,  0.-0.j],\n",
      "        [ 0.+0.j,  1.-0.j,  0.+0.j,  0.-0.j],\n",
      "        [-1.+0.j,  0.+0.j,  0.+0.j,  0.+0.j]],\n",
      "\n",
      "       [[ 1.+0.j,  0.+0.j,  0.+0.j,  0.+0.j],\n",
      "        [ 0.+0.j, -1.+0.j,  0.+0.j,  0.+0.j],\n",
      "        [ 0.+0.j,  0.+0.j, -1.+0.j,  0.+0.j],\n",
      "        [ 0.+0.j,  0.+0.j,  0.+0.j,  1.+0.j]]])\n"
     ]
    }
   ],
   "source": [
    "# Implement the NV centre spin- nuclear (iso)spin interaction term\n",
    "\n",
    "oplist = np.array(list(map(lambda j: np.kron(spinlst[j],spinlst[j]), range(len(spinlst)))))\n",
    "print('Oplist: ' + repr(oplist))\n",
    "\n",
    "# oplist = np.array(list(map(lambda j: np.kron(np.eye(2),spinlst[j]) + np.kron(spinlst[j],np.eye(2)) + np.kron(spinlst[j],spinlst[j]), range(len(spinlst)))))\n",
    "# print('Oplist: ' + repr(oplist))"
   ]
  },
  {
   "cell_type": "code",
   "execution_count": 759,
   "metadata": {
    "collapsed": false
   },
   "outputs": [
    {
     "name": "stdout",
     "output_type": "stream",
     "text": [
      "Chosen true_params: [[ 0.003  0.002  0.014]]\n"
     ]
    }
   ],
   "source": [
    "# True params are chosen according to Felton et al. PHYSICAL REVIEW B 79, 075203 2009\n",
    "# np.array([[0.27, 0.27, 0.214]])\n",
    "\n",
    "true_params = np.array([[0.003, 0.002, 0.014]])\n",
    "print('Chosen true_params: ' + str(true_params))"
   ]
  },
  {
   "cell_type": "code",
   "execution_count": 760,
   "metadata": {
    "collapsed": false
   },
   "outputs": [
    {
     "data": {
      "text/plain": [
       "array([[  2.01400000e+00+0.j,   0.00000000e+00+0.j,   0.00000000e+00+0.j,\n",
       "          1.00000000e-03+0.j],\n",
       "       [  0.00000000e+00+0.j,  -1.40000000e-02+0.j,   5.00000000e-03+0.j,\n",
       "          0.00000000e+00+0.j],\n",
       "       [  0.00000000e+00+0.j,   5.00000000e-03+0.j,  -1.40000000e-02+0.j,\n",
       "          0.00000000e+00+0.j],\n",
       "       [  1.00000000e-03+0.j,   0.00000000e+00+0.j,   0.00000000e+00+0.j,\n",
       "         -1.98600000e+00+0.j]])"
      ]
     },
     "execution_count": 760,
     "metadata": {},
     "output_type": "execute_result"
    }
   ],
   "source": [
    "Hp = evo.getH(true_params[0, np.newaxis], oplist)\n",
    "Hp = Hp + np.kron(np.eye(2),spinlst[2])\n",
    "Hp = Hp + np.kron(spinlst[2],np.eye(2))\n",
    "Hp"
   ]
  },
  {
   "cell_type": "code",
   "execution_count": 761,
   "metadata": {
    "collapsed": false
   },
   "outputs": [
    {
     "data": {
      "text/plain": [
       "array([-0.04759727-0.51895992j, -0.01945808-0.47753166j,\n",
       "       -0.04759727-0.51895992j, -0.01945808-0.47753166j])"
      ]
     },
     "execution_count": 761,
     "metadata": {},
     "output_type": "execute_result"
    }
   ],
   "source": [
    "probestate = np.kron(evo.plus(), pros.def_randomprobe(evo.sigmax()))\n",
    "probestate"
   ]
  },
  {
   "cell_type": "markdown",
   "metadata": {},
   "source": [
    "### tracing out the nuclear degree of freedom"
   ]
  },
  {
   "cell_type": "code",
   "execution_count": 762,
   "metadata": {
    "collapsed": false
   },
   "outputs": [
    {
     "data": {
      "text/latex": [
       "Quantum object: dims = [[2, 2], [1, 1]], shape = (4, 1), type = ket\\begin{equation*}\\left(\\begin{array}{*{11}c}(-0.048-0.519j)\\\\(-0.019-0.478j)\\\\(-0.048-0.519j)\\\\(-0.019-0.478j)\\\\\\end{array}\\right)\\end{equation*}"
      ],
      "text/plain": [
       "Quantum object: dims = [[2, 2], [1, 1]], shape = (4, 1), type = ket\n",
       "Qobj data =\n",
       "[[-0.04759727-0.51895992j]\n",
       " [-0.01945808-0.47753166j]\n",
       " [-0.04759727-0.51895992j]\n",
       " [-0.01945808-0.47753166j]]"
      ]
     },
     "execution_count": 762,
     "metadata": {},
     "output_type": "execute_result"
    }
   ],
   "source": [
    "qt_probestate = qt.Qobj(probestate)\n",
    "qt_probestate.dims = [[2,2],[1,1]]\n",
    "qt_probestate"
   ]
  },
  {
   "cell_type": "code",
   "execution_count": 763,
   "metadata": {
    "collapsed": false
   },
   "outputs": [
    {
     "data": {
      "text/latex": [
       "Quantum object: dims = [[2], [2]], shape = (2, 2), type = oper, isherm = True\\begin{equation*}\\left(\\begin{array}{*{11}c}0.500 & 0.500\\\\0.500 & 0.500\\\\\\end{array}\\right)\\end{equation*}"
      ],
      "text/plain": [
       "Quantum object: dims = [[2], [2]], shape = (2, 2), type = oper, isherm = True\n",
       "Qobj data =\n",
       "[[ 0.5  0.5]\n",
       " [ 0.5  0.5]]"
      ]
     },
     "execution_count": 763,
     "metadata": {},
     "output_type": "execute_result"
    }
   ],
   "source": [
    "qt_probestate.ptrace(0)"
   ]
  },
  {
   "cell_type": "code",
   "execution_count": 764,
   "metadata": {
    "collapsed": false
   },
   "outputs": [
    {
     "data": {
      "text/plain": [
       "0.9999999999999997"
      ]
     },
     "execution_count": 764,
     "metadata": {},
     "output_type": "execute_result"
    }
   ],
   "source": [
    "qt.expect(qt_probestate.ptrace(0), qt.Qobj(evo.plus()) )"
   ]
  },
  {
   "cell_type": "code",
   "execution_count": 765,
   "metadata": {
    "collapsed": true
   },
   "outputs": [],
   "source": [
    "tvec = np.linspace(0.,35,200)\n",
    "\n",
    "evolve = np.empty(len(tvec))\n",
    "for idt in range(len(tvec)):\n",
    "    Hp = evo.getH(true_params[0, np.newaxis], oplist)\n",
    "    #probestate = np.kron(evo.plus(), pros.def_randomprobe(evo.sigmax()))\n",
    "    evostate = np.dot(sp.linalg.expm(-(1j)*tvec[idt]*Hp), probestate)\n",
    "    \n",
    "    qt_evostate = qt.Qobj(evostate)\n",
    "    qt_evostate.dims = [[2,2],[1,1]]\n",
    "    \n",
    "    evolve[idt] = qt.expect(qt_evostate.ptrace(0), qt.Qobj(evo.plus()) )"
   ]
  },
  {
   "cell_type": "code",
   "execution_count": 766,
   "metadata": {
    "collapsed": false
   },
   "outputs": [
    {
     "data": {
      "image/png": "[encoded data removed]",
      "text/plain": [
       "<matplotlib.figure.Figure at 0xc9816d8>"
      ]
     },
     "metadata": {},
     "output_type": "display_data"
    }
   ],
   "source": [
    "plt.plot(tvec,evolve, label='Pr0 from 2-qubit evolution')\n",
    "#plt.scatter(tvec, datum[0][0], label='sim. exp.')\n",
    "plt.legend()\n",
    "plt.title('Hahn Echo likelihood')\n",
    "plt.xlabel(r'time $\\tau_1$')\n",
    "plt.ylabel(r'$\\langle \\Psi | 1 \\rangle ^2 $')\n",
    "\n",
    "plt.show()"
   ]
  },
  {
   "cell_type": "markdown",
   "metadata": {},
   "source": [
    "### standard evolution assuming global state known"
   ]
  },
  {
   "cell_type": "code",
   "execution_count": 704,
   "metadata": {
    "collapsed": false
   },
   "outputs": [],
   "source": [
    "tvec = np.linspace(0.,35,100)\n",
    "\n",
    "evolve = np.empty(len(tvec))\n",
    "for idt in range(len(tvec)):\n",
    "    Hp = evo.getH(true_params[0, np.newaxis], oplist)\n",
    "    #probestate = np.kron(evo.plus(), pros.def_randomprobe(evo.sigmax()))\n",
    "    evostate = np.dot(sp.linalg.expm(-(1j)*tvec[idt]*Hp), probestate)\n",
    "    evolve[idt] = np.abs(np.dot(evostate.conj(), probestate.T)) ** 2"
   ]
  },
  {
   "cell_type": "code",
   "execution_count": 705,
   "metadata": {
    "collapsed": false,
    "scrolled": true
   },
   "outputs": [
    {
     "data": {
      "image/png": "[encoded data removed]",
      "text/plain": [
       "<matplotlib.figure.Figure at 0xc9cbef0>"
      ]
     },
     "metadata": {},
     "output_type": "display_data"
    }
   ],
   "source": [
    "plt.plot(tvec,evolve, label='Pr0 from $e^{-(t/T_2)^3}$')\n",
    "#plt.scatter(tvec, datum[0][0], label='sim. exp.')\n",
    "plt.legend()\n",
    "plt.title('Hahn Echo likelihood')\n",
    "plt.xlabel(r'time $\\tau_1$')\n",
    "plt.ylabel(r'$\\langle \\Psi | 1 \\rangle ^2 $')\n",
    "\n",
    "plt.show()"
   ]
  },
  {
   "cell_type": "code",
   "execution_count": null,
   "metadata": {
    "collapsed": true
   },
   "outputs": [],
   "source": []
  }
 ],
 "metadata": {
  "anaconda-cloud": {},
  "kernelspec": {
   "display_name": "Python [conda root]",
   "language": "python",
   "name": "conda-root-py"
  },
  "language_info": {
   "codemirror_mode": {
    "name": "ipython",
    "version": 3
   },
   "file_extension": ".py",
   "mimetype": "text/x-python",
   "name": "python",
   "nbconvert_exporter": "python",
   "pygments_lexer": "ipython3",
   "version": "3.5.2"
  }
 },
 "nbformat": 4,
 "nbformat_minor": 1
}
