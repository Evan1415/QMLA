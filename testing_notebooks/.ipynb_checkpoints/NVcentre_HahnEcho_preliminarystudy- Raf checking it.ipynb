{
 "cells": [
  {
   "cell_type": "markdown",
   "metadata": {},
   "source": [
    "## Implementing and testing the Pr0 function for Hahn Echo measurements\n",
    "\n",
    "A. Gentile\n",
    "\n",
    "07/2017"
   ]
  },
  {
   "cell_type": "code",
   "execution_count": 1,
   "metadata": {
    "collapsed": false
   },
   "outputs": [
    {
     "name": "stdout",
     "output_type": "stream",
     "text": [
      "# Generating comtypes.gen.WbemScripting\n"
     ]
    }
   ],
   "source": [
    "import qinfer as qi\n",
    "import numpy as np\n",
    "import scipy as sp\n",
    "import qutip as qt"
   ]
  },
  {
   "cell_type": "code",
   "execution_count": 2,
   "metadata": {
    "collapsed": false
   },
   "outputs": [],
   "source": [
    "import matplotlib.pyplot as plt"
   ]
  },
  {
   "cell_type": "markdown",
   "metadata": {},
   "source": [
    "Plotting of expected outcomes from the NV centre Hahn echo measurement"
   ]
  },
  {
   "cell_type": "code",
   "execution_count": 3,
   "metadata": {
    "collapsed": false
   },
   "outputs": [],
   "source": [
    "tvec = (np.array(range(35)))\n",
    "T2 = 65\n",
    "pr0es = np.expm1(-(tvec/T2)**3)+1"
   ]
  },
  {
   "cell_type": "code",
   "execution_count": 4,
   "metadata": {
    "collapsed": false
   },
   "outputs": [
    {
     "data": {
      "image/png": "[encoded data removed]",
      "text/plain": [
       "<matplotlib.figure.Figure at 0x1ecd6173a58>"
      ]
     },
     "metadata": {},
     "output_type": "display_data"
    }
   ],
   "source": [
    "plt.plot(tvec,pr0es, label='Pr0 from $e^{-(t/T_2)^3}$')\n",
    "#plt.scatter(tvec, datum[0][0], label='sim. exp.')\n",
    "plt.legend()\n",
    "plt.title('Hahn Echo likelihood')\n",
    "plt.xlabel(r'time $\\tau_1$')\n",
    "plt.ylabel(r'$\\langle \\Psi | 1 \\rangle ^2 $')\n",
    "\n",
    "plt.show()"
   ]
  },
  {
   "cell_type": "markdown",
   "metadata": {},
   "source": [
    "Preliminary observation of the 2-qubit dynamic"
   ]
  },
  {
   "cell_type": "code",
   "execution_count": 5,
   "metadata": {
    "collapsed": false
   },
   "outputs": [],
   "source": [
    "# Add personalized library to PYTHONPATH\n",
    "import sys, os\n",
    "sys.path.append(os.path.join(\"..\",\"Libraries\",\"QML_lib\"))"
   ]
  },
  {
   "cell_type": "code",
   "execution_count": 6,
   "metadata": {
    "collapsed": true
   },
   "outputs": [],
   "source": [
    "from Norms import *\n",
    "from IOfuncts import *\n",
    "from EvalLoss import *\n",
    "\n",
    "import ProbeStates as pros\n",
    "import multiPGH as mpgh\n",
    "import GenSimQMD as gsi\n",
    "import Evo as evo\n",
    "import Distrib as distr"
   ]
  },
  {
   "cell_type": "code",
   "execution_count": 7,
   "metadata": {
    "collapsed": false
   },
   "outputs": [
    {
     "data": {
      "text/plain": [
       "<module 'Distrib' from '..\\\\Libraries\\\\QML_lib\\\\Distrib.py'>"
      ]
     },
     "execution_count": 7,
     "metadata": {},
     "output_type": "execute_result"
    }
   ],
   "source": [
    "import importlib as imp\n",
    "\n",
    "imp.reload(pros)\n",
    "imp.reload(mpgh)\n",
    "imp.reload(gsi)\n",
    "imp.reload(evo)\n",
    "imp.reload(distr)"
   ]
  },
  {
   "cell_type": "code",
   "execution_count": 8,
   "metadata": {
    "collapsed": false
   },
   "outputs": [],
   "source": [
    "spinlst = [evo.sigmax(), evo.sigmay(), evo.sigmaz()]    "
   ]
  },
  {
   "cell_type": "code",
   "execution_count": 73,
   "metadata": {
    "collapsed": false
   },
   "outputs": [
    {
     "name": "stdout",
     "output_type": "stream",
     "text": [
      "Oplist: array([[[ 0.+0.j,  0.+0.j,  0.+0.j,  1.+0.j],\n",
      "        [ 0.+0.j,  0.+0.j,  1.+0.j,  0.+0.j],\n",
      "        [ 0.+0.j,  1.+0.j,  0.+0.j,  0.+0.j],\n",
      "        [ 1.+0.j,  0.+0.j,  0.+0.j,  0.+0.j]],\n",
      "\n",
      "       [[ 0.+0.j,  0.-0.j,  0.-0.j, -1.+0.j],\n",
      "        [ 0.+0.j,  0.+0.j,  1.-0.j,  0.-0.j],\n",
      "        [ 0.+0.j,  1.-0.j,  0.+0.j,  0.-0.j],\n",
      "        [-1.+0.j,  0.+0.j,  0.+0.j,  0.+0.j]],\n",
      "\n",
      "       [[ 1.+0.j,  0.+0.j,  0.+0.j,  0.+0.j],\n",
      "        [ 0.+0.j, -1.+0.j,  0.+0.j,  0.+0.j],\n",
      "        [ 0.+0.j,  0.+0.j, -1.+0.j,  0.+0.j],\n",
      "        [ 0.+0.j,  0.+0.j,  0.+0.j,  1.+0.j]]])\n"
     ]
    }
   ],
   "source": [
    "# Implement the NV centre spin- nuclear (iso)spin interaction term\n",
    "\n",
    "oplist = np.array(list(map(lambda j: np.kron(spinlst[j],spinlst[j]), range(len(spinlst)))))\n",
    "print('Oplist: ' + repr(oplist))\n",
    "\n",
    "# oplist = np.array(list(map(lambda j: np.kron(np.eye(2),spinlst[j]) + np.kron(spinlst[j],np.eye(2)) + np.kron(spinlst[j],spinlst[j]), range(len(spinlst)))))\n",
    "# print('Oplist: ' + repr(oplist))"
   ]
  },
  {
   "cell_type": "markdown",
   "metadata": {},
   "source": [
    "Including the usual \"identity\" terms in Hp, we introduce unwanted beatings"
   ]
  },
  {
   "cell_type": "code",
   "execution_count": 304,
   "metadata": {
    "collapsed": false
   },
   "outputs": [
    {
     "data": {
      "text/plain": [
       "array([-0.34633024-0.50335763j,  0.17255255-0.31130706j,\n",
       "       -0.34633024-0.50335763j,  0.17255255-0.31130706j])"
      ]
     },
     "execution_count": 304,
     "metadata": {},
     "output_type": "execute_result"
    }
   ],
   "source": [
    "probestate = np.kron(evo.plus(), pros.def_randomprobe(evo.sigmax()))\n",
    "probestate"
   ]
  },
  {
   "cell_type": "markdown",
   "metadata": {},
   "source": [
    "checking that Hproj actually projects back to $|0\\rangle$ [evo.zero]"
   ]
  },
  {
   "cell_type": "code",
   "execution_count": 306,
   "metadata": {
    "collapsed": false
   },
   "outputs": [
    {
     "data": {
      "text/plain": [
       "0.0"
      ]
     },
     "execution_count": 306,
     "metadata": {},
     "output_type": "execute_result"
    }
   ],
   "source": [
    "evostate = np.dot(sp.linalg.expm(-(1j)*1*Hproj), probestate)\n",
    "qt_evostate = qt.Qobj(evostate)\n",
    "qt_evostate.dims = [[2,2],[1,1]]\n",
    "qt.expect(qt_evostate.ptrace(0), qt.Qobj(evo.zero()) )"
   ]
  },
  {
   "cell_type": "code",
   "execution_count": 307,
   "metadata": {
    "collapsed": false
   },
   "outputs": [
    {
     "data": {
      "text/latex": [
       "Quantum object: dims = [[2, 2], [1, 1]], shape = (4, 1), type = ket\\begin{equation*}\\left(\\begin{array}{*{11}c}(-0.346-0.503j)\\\\(0.173-0.311j)\\\\(-0.346-0.503j)\\\\(0.173-0.311j)\\\\\\end{array}\\right)\\end{equation*}"
      ],
      "text/plain": [
       "Quantum object: dims = [[2, 2], [1, 1]], shape = (4, 1), type = ket\n",
       "Qobj data =\n",
       "[[-0.34633024-0.50335763j]\n",
       " [ 0.17255255-0.31130706j]\n",
       " [-0.34633024-0.50335763j]\n",
       " [ 0.17255255-0.31130706j]]"
      ]
     },
     "execution_count": 307,
     "metadata": {},
     "output_type": "execute_result"
    }
   ],
   "source": [
    "qt_probestate = qt.Qobj(probestate)\n",
    "qt_probestate.dims = [[2,2],[1,1]]\n",
    "qt_probestate"
   ]
  },
  {
   "cell_type": "code",
   "execution_count": 308,
   "metadata": {
    "collapsed": false
   },
   "outputs": [
    {
     "data": {
      "text/latex": [
       "Quantum object: dims = [[2], [2]], shape = (2, 2), type = oper, isherm = True\\begin{equation*}\\left(\\begin{array}{*{11}c}0.500 & 0.500\\\\0.500 & 0.500\\\\\\end{array}\\right)\\end{equation*}"
      ],
      "text/plain": [
       "Quantum object: dims = [[2], [2]], shape = (2, 2), type = oper, isherm = True\n",
       "Qobj data =\n",
       "[[ 0.5  0.5]\n",
       " [ 0.5  0.5]]"
      ]
     },
     "execution_count": 308,
     "metadata": {},
     "output_type": "execute_result"
    }
   ],
   "source": [
    "qt_probestate.ptrace(0)"
   ]
  },
  {
   "cell_type": "code",
   "execution_count": 309,
   "metadata": {
    "collapsed": false
   },
   "outputs": [
    {
     "data": {
      "text/plain": [
       "0.9999999999999997"
      ]
     },
     "execution_count": 309,
     "metadata": {},
     "output_type": "execute_result"
    }
   ],
   "source": [
    "qt.expect(qt_probestate.ptrace(0), qt.Qobj(evo.plus()) )"
   ]
  },
  {
   "cell_type": "markdown",
   "metadata": {},
   "source": [
    "### tracing out the nuclear degree of freedom"
   ]
  },
  {
   "cell_type": "markdown",
   "metadata": {},
   "source": [
    "True params are chosen according to Felton et al. PHYSICAL REVIEW B 79, 075203 2009\n",
    "Values in $MHz$ give rise to $\\mu s$ time scales "
   ]
  },
  {
   "cell_type": "code",
   "execution_count": 609,
   "metadata": {
    "collapsed": false
   },
   "outputs": [
    {
     "name": "stdout",
     "output_type": "stream",
     "text": [
      "Chosen true_params: [[ 0.     0.     0.214]]\n"
     ]
    }
   ],
   "source": [
    "# np.array([[0.27, 0.27, 0.214]])\n",
    "# np.array([[0., 0., 0.007]])\n",
    "\n",
    "\n",
    "true_params = np.array([[0., 0., 0.214]])\n",
    "print('Chosen true_params: ' + str(true_params))"
   ]
  },
  {
   "cell_type": "code",
   "execution_count": 610,
   "metadata": {
    "collapsed": false
   },
   "outputs": [
    {
     "data": {
      "text/plain": [
       "array([[ 0.214+0.j,  0.000+0.j,  0.000+0.j,  0.000+0.j],\n",
       "       [ 0.000+0.j, -0.214+0.j,  0.000+0.j,  0.000+0.j],\n",
       "       [ 0.000+0.j,  0.000+0.j, -0.214+0.j,  0.000+0.j],\n",
       "       [ 0.000+0.j,  0.000+0.j,  0.000+0.j,  0.214+0.j]])"
      ]
     },
     "execution_count": 610,
     "metadata": {},
     "output_type": "execute_result"
    }
   ],
   "source": [
    "Hp = evo.getH(true_params[0, np.newaxis], oplist)\n",
    "#Hp = Hp + np.kron(np.eye(2),spinlst[2])\n",
    "#Hp = Hp + np.kron(spinlst[2],np.eye(2))\n",
    "#Hp = Hp + np.eye(4)\n",
    "Hp"
   ]
  },
  {
   "cell_type": "code",
   "execution_count": 611,
   "metadata": {
    "collapsed": false
   },
   "outputs": [],
   "source": [
    "Hproj = np.kron(np.pi/4*spinlst[1],np.eye(2))"
   ]
  },
  {
   "cell_type": "code",
   "execution_count": 628,
   "metadata": {
    "collapsed": false
   },
   "outputs": [
    {
     "data": {
      "text/plain": [
       "array([[ 1.67079633,  0.        ,  0.        ,  0.        ],\n",
       "       [ 0.        ,  1.67079633,  0.        ,  0.        ],\n",
       "       [ 0.        ,  0.        , -1.67079633, -0.        ],\n",
       "       [ 0.        ,  0.        , -0.        , -1.67079633]])"
      ]
     },
     "execution_count": 628,
     "metadata": {},
     "output_type": "execute_result"
    }
   ],
   "source": [
    "Hahn_angle = np.pi/2+0.1\n",
    "\n",
    "Hm = np.kron(Hahn_angle*spinlst[2],np.eye(2))\n",
    "#Hm = np.kron(np.pi/2*spinlst[2],np.eye(2)+2*spinlst[0])\n",
    "Hm"
   ]
  },
  {
   "cell_type": "code",
   "execution_count": 629,
   "metadata": {
    "collapsed": false
   },
   "outputs": [
    {
     "data": {
      "text/latex": [
       "Quantum object: dims = [[2], [2]], shape = (2, 2), type = oper, isherm = True\\begin{equation*}\\left(\\begin{array}{*{11}c}0.833 & (0.089-0.362j)\\\\(0.089+0.362j) & 0.167\\\\\\end{array}\\right)\\end{equation*}"
      ],
      "text/plain": [
       "Quantum object: dims = [[2], [2]], shape = (2, 2), type = oper, isherm = True\n",
       "Qobj data =\n",
       "[[ 0.83332502+0.j          0.08894914-0.36191502j]\n",
       " [ 0.08894914+0.36191502j  0.16667498+0.j        ]]"
      ]
     },
     "execution_count": 629,
     "metadata": {},
     "output_type": "execute_result"
    }
   ],
   "source": [
    "probestate = np.kron(evo.plus(), pros.def_randomprobe(evo.sigmax()))\n",
    "\n",
    "qt_probestate = qt.Qobj(probestate)\n",
    "qt_probestate.dims = [[2,2],[1,1]]\n",
    "qt_probestate.ptrace(1)"
   ]
  },
  {
   "cell_type": "code",
   "execution_count": 630,
   "metadata": {
    "collapsed": false
   },
   "outputs": [],
   "source": [
    "tvec = np.linspace(0.,100,400)\n",
    "evolve = np.empty(len(tvec))\n",
    "T2 = 3650\n",
    "offset = 0.\n",
    "\n",
    "for idt in range(len(tvec)):\n",
    "    \n",
    "    #probestate = np.kron(evo.plus(), pros.def_randomprobe(evo.sigmax()))\n",
    "    evostate = np.dot(sp.linalg.expm(-(1j)*tvec[idt]/2*Hp), probestate)\n",
    "    \n",
    "    evostate = np.dot(sp.linalg.expm(-(1j)*1*Hm), evostate)    \n",
    "    evostate = np.dot(sp.linalg.expm(-(1j)*tvec[idt]/2*Hp), evostate)\n",
    "    evostate = np.dot(sp.linalg.expm(-(1j)*1*Hproj), evostate)\n",
    "    \n",
    "    qt_evostate = qt.Qobj(evostate)\n",
    "    qt_evostate.dims = [[2,2],[1,1]]\n",
    "    \n",
    "    #evolve[idt] = qt.expect(qt_evostate.ptrace(0), qt.Qobj(evo.plus()) )\n",
    "    evolve[idt] = qt.expect(qt_evostate.ptrace(0), qt.Qobj(evo.zero()) )\n",
    "        \n",
    "    deco = np.expm1(-(tvec[idt]/T2)**3)+1\n",
    "    evolve[idt] = offset+deco*(evolve[idt]*(1-offset))"
   ]
  },
  {
   "cell_type": "code",
   "execution_count": 631,
   "metadata": {
    "collapsed": false
   },
   "outputs": [
    {
     "data": {
      "image/png": "[encoded data removed]",
      "text/plain": [
       "<matplotlib.figure.Figure at 0x1ecd68bada0>"
      ]
     },
     "metadata": {},
     "output_type": "display_data"
    }
   ],
   "source": [
    "plt.plot(2*tvec, evolve, label='Pr0 from 2-qubit evolution')\n",
    "\n",
    "plt.legend()\n",
    "plt.title('Hahn Echo likelihood')\n",
    "plt.xlabel(r'time $\\tau_1 (\\mu s)$')\n",
    "plt.ylabel(r'$\\langle \\Psi | 0 \\rangle ^2 $')\n",
    "\n",
    "plt.show()"
   ]
  },
  {
   "cell_type": "markdown",
   "metadata": {},
   "source": [
    "$\\textit{evolution only under Hp (Hahn echo operation not effectively included)}$\n",
    "- the evolution is strongly dependent on the choice of the initial (random) nuclei probestate. It is affected only by $\\sigma_z \\otimes \\sigma_z$ and $\\sigma_y \\otimes \\sigma_y$, therefore $A_{//,x}$ has no effect on the evolution. \n",
    "- Ignore this possibility, as it would be difficult to justify control/readout of the nuclei spin at the beginning/end of the evolution?\n",
    "\n",
    "$\\textit{evolution under Hp full Hahn echo}$\n",
    "\n",
    "with Hm = np.kron(np.pi/2*spinlst[2],np.eye(2)) we assume the nuclear spin is static throughout the whole evolution\n",
    "\n",
    "- evolution independent of the initial choice of the nuclear probe state (ideally because of the $\\pi$ flip on the equator, which should be good to us)\n",
    "- as such, there is no way to reduce the \"visibility\" of the oscillations in $\\langle \\Psi | 0 \\rangle ^2 $ by clever choices of the probe state at the beginning\n",
    "- it depends only on the $\\sigma_z \\otimes \\sigma_z$ term of the $H_f$ interaction, so it is effectively a 1-parameter estimate. $A_{//,x}$ has no effect on the evolution as the system is prepared in $|+\\rangle$ (well, ideally), whereas $A_{//,y}$ is ruled out by the $\\pi$ flip\n",
    "- as such, the \"visibility\" cannot be altered either by beatings due to the choice of $A_{//,y}$ and $A_{\\perp,z}$\n",
    "- $A_{//,z}$ is of order 0.006 MHz to reproduce experimental periodicity of Seb's thesis. However seems not far from the 0.214 MHz value for Sangtawesin thesis... what units are used in the CSV of the Hahn data?\n",
    "- the $\\textit{offset}$ must be introduced artificially to decrease visibility... is that OK? Or you would NOT expect full visibility at all (but that naturally arises from the coupling to the additional spin, I see no physical reason to reduce the expectetion value of $| \\langle 0 | \\Psi_{evo} \\rangle |^2$. Unless we introduce an error in the $\\pi$ rotation, but it must be a huge one (around $\\sim 0.2$)"
   ]
  },
  {
   "cell_type": "markdown",
   "metadata": {},
   "source": [
    "### standard evolution assuming global state known"
   ]
  },
  {
   "cell_type": "code",
   "execution_count": 704,
   "metadata": {
    "collapsed": false
   },
   "outputs": [],
   "source": [
    "tvec = np.linspace(0.,35,100)\n",
    "\n",
    "evolve = np.empty(len(tvec))\n",
    "for idt in range(len(tvec)):\n",
    "    Hp = evo.getH(true_params[0, np.newaxis], oplist)\n",
    "    #probestate = np.kron(evo.plus(), pros.def_randomprobe(evo.sigmax()))\n",
    "    evostate = np.dot(sp.linalg.expm(-(1j)*tvec[idt]*Hp), probestate)\n",
    "    evolve[idt] = np.abs(np.dot(evostate.conj(), probestate.T)) ** 2"
   ]
  },
  {
   "cell_type": "code",
   "execution_count": 705,
   "metadata": {
    "collapsed": false,
    "scrolled": true
   },
   "outputs": [
    {
     "data": {
      "image/png": "[encoded data removed]",
      "text/plain": [
       "<matplotlib.figure.Figure at 0xc9cbef0>"
      ]
     },
     "metadata": {},
     "output_type": "display_data"
    }
   ],
   "source": [
    "plt.plot(tvec,evolve, label='Pr0 from $e^{-(t/T_2)^3}$')\n",
    "#plt.scatter(tvec, datum[0][0], label='sim. exp.')\n",
    "plt.legend()\n",
    "plt.title('Hahn Echo likelihood')\n",
    "plt.xlabel(r'time $\\tau_1$')\n",
    "plt.ylabel(r'$\\langle \\Psi | 1 \\rangle ^2 $')\n",
    "\n",
    "plt.show()"
   ]
  },
  {
   "cell_type": "code",
   "execution_count": null,
   "metadata": {
    "collapsed": true
   },
   "outputs": [],
   "source": []
  }
 ],
 "metadata": {
  "anaconda-cloud": {},
  "kernelspec": {
   "display_name": "Python [conda root]",
   "language": "python",
   "name": "conda-root-py"
  },
  "language_info": {
   "codemirror_mode": {
    "name": "ipython",
    "version": 3
   },
   "file_extension": ".py",
   "mimetype": "text/x-python",
   "name": "python",
   "nbconvert_exporter": "python",
   "pygments_lexer": "ipython3",
   "version": "3.5.2"
  }
 },
 "nbformat": 4,
 "nbformat_minor": 1
}
