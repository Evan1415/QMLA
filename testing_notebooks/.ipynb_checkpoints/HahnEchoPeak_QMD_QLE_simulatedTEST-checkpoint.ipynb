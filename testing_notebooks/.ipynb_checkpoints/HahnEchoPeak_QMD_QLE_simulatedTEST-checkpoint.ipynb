{
 "cells": [
  {
   "cell_type": "markdown",
   "metadata": {},
   "source": [
    "# QMD class testing\n",
    "## for the QLE algorithm, reproducing Hahn-echo dynamics"
   ]
  },
  {
   "cell_type": "code",
   "execution_count": 6,
   "metadata": {
    "collapsed": false
   },
   "outputs": [],
   "source": [
    "%matplotlib inline\n",
    "import qinfer as qi\n",
    "import qutip as qt\n",
    "import numpy as np\n",
    "import scipy as sp\n",
    "import math as mth\n",
    "from IPython.display import display, Math, Latex\n",
    "from functools import partial\n",
    "import matplotlib.pyplot as plt"
   ]
  },
  {
   "cell_type": "code",
   "execution_count": 7,
   "metadata": {
    "collapsed": false
   },
   "outputs": [],
   "source": [
    "import datetime\n",
    "import os as os\n",
    "import time as time"
   ]
  },
  {
   "cell_type": "code",
   "execution_count": 8,
   "metadata": {
    "collapsed": true
   },
   "outputs": [],
   "source": [
    "import importlib as imp"
   ]
  },
  {
   "cell_type": "code",
   "execution_count": 9,
   "metadata": {
    "collapsed": false
   },
   "outputs": [],
   "source": [
    "import logging as logging\n",
    "import warnings as warnings\n",
    "import sys\n",
    "\n",
    "%run LoggingCode.py"
   ]
  },
  {
   "cell_type": "markdown",
   "metadata": {},
   "source": [
    "Importing Local Function for Hamiltonian learning"
   ]
  },
  {
   "cell_type": "code",
   "execution_count": 10,
   "metadata": {
    "collapsed": true
   },
   "outputs": [],
   "source": [
    "# Add personalized library to PYTHONPATH\n",
    "sys.path.append(os.path.join(\"..\",\"Libraries\",\"QML_lib\"))"
   ]
  },
  {
   "cell_type": "code",
   "execution_count": 11,
   "metadata": {
    "collapsed": false
   },
   "outputs": [],
   "source": [
    "from Norms import *\n",
    "from IOfuncts import *\n",
    "from EvalLoss import *\n",
    "\n",
    "import Distrib as dist\n",
    "import ProbeStates as pros\n",
    "import multiPGH as mpgh\n",
    "import HahnSimQMD as gsi\n",
    "import Evo as evo"
   ]
  },
  {
   "cell_type": "code",
   "execution_count": 322,
   "metadata": {
    "collapsed": false
   },
   "outputs": [],
   "source": [
    "\"\"\" filter only the Weight Clipping warning \"\"\"\n",
    "#SET LEVEL WARNINGS TO 0 In FINAL VERSION\n",
    "warnings.filterwarnings(\"ignore\", message='Negative weights occured', category=RuntimeWarning)"
   ]
  },
  {
   "cell_type": "markdown",
   "metadata": {
    "collapsed": true
   },
   "source": [
    "# Model learning functions\n"
   ]
  },
  {
   "cell_type": "code",
   "execution_count": 111,
   "metadata": {
    "collapsed": false
   },
   "outputs": [],
   "source": [
    "import Utils as uti\n",
    "import Models as mods\n",
    "import BayesF as bayf\n",
    "import ModLearn as mdl\n",
    "import QMD_Hahn as qmd\n",
    "import QML_Hahn as qml\n",
    "import QMD_Utils as quti"
   ]
  },
  {
   "cell_type": "markdown",
   "metadata": {},
   "source": [
    "## Reload when needed"
   ]
  },
  {
   "cell_type": "code",
   "execution_count": 121,
   "metadata": {
    "collapsed": false
   },
   "outputs": [
    {
     "data": {
      "text/plain": [
       "<module 'QML_Hahn' from '..\\\\Libraries\\\\QML_lib\\\\QML_Hahn.py'>"
      ]
     },
     "execution_count": 121,
     "metadata": {},
     "output_type": "execute_result"
    }
   ],
   "source": [
    "imp.reload(pros)\n",
    "imp.reload(dist)\n",
    "imp.reload(mpgh)\n",
    "imp.reload(gsi)\n",
    "imp.reload(evo)\n",
    "imp.reload(mdl)\n",
    "imp.reload(uti)\n",
    "imp.reload(mods)\n",
    "imp.reload(bayf)\n",
    "imp.reload(qmd)\n",
    "imp.reload(quti)\n",
    "imp.reload(qml)"
   ]
  },
  {
   "cell_type": "markdown",
   "metadata": {},
   "source": [
    "# MODEL LEARNING TEST\n",
    "\n",
    "## Simulated Data"
   ]
  },
  {
   "cell_type": "code",
   "execution_count": 122,
   "metadata": {
    "collapsed": true
   },
   "outputs": [],
   "source": [
    "spinlst = [evo.sigmax(), evo.sigmay(), evo.sigmaz()]"
   ]
  },
  {
   "cell_type": "code",
   "execution_count": 123,
   "metadata": {
    "collapsed": false
   },
   "outputs": [],
   "source": [
    "eoplist = list(map(lambda j: np.kron(spinlst[j],np.eye(2)) , range(len(spinlst))))\n",
    "\n",
    "HFoplist = list(map(lambda j: np.kron(spinlst[j],spinlst[j]), range(len(spinlst))))\n",
    "bathoplist = list(map(lambda j: np.kron(np.eye(2),spinlst[j]) , range(len(spinlst))))"
   ]
  },
  {
   "cell_type": "code",
   "execution_count": 124,
   "metadata": {
    "collapsed": false
   },
   "outputs": [],
   "source": [
    "TwoQlist = []\n",
    "TwoQlist.extend(HFoplist)\n",
    "TwoQlist.extend(bathoplist)"
   ]
  },
  {
   "cell_type": "code",
   "execution_count": 125,
   "metadata": {
    "collapsed": false
   },
   "outputs": [],
   "source": [
    "TwoQsample = []\n",
    "TwoQsample.append(HFoplist[0])\n",
    "TwoQsample.append(HFoplist[2])\n",
    "TwoQsample.append(bathoplist[1])"
   ]
  },
  {
   "cell_type": "code",
   "execution_count": 126,
   "metadata": {
    "collapsed": false
   },
   "outputs": [],
   "source": [
    "HahnTestingList = [np.array([eoplist[2]]), np.array([HFoplist[1]]), \n",
    "                   np.array(eoplist), np.array(HFoplist), np.array(TwoQsample), \n",
    "                   np.array(TwoQlist)]"
   ]
  },
  {
   "cell_type": "code",
   "execution_count": 127,
   "metadata": {
    "collapsed": true
   },
   "outputs": [],
   "source": [
    "allnameslist = ['1q_1p', '1q_full', '2qHF_1p', '2qHF_full', '2q_advanced', '2q_full']"
   ]
  },
  {
   "cell_type": "markdown",
   "metadata": {},
   "source": [
    "### Launch the learning"
   ]
  },
  {
   "cell_type": "code",
   "execution_count": 128,
   "metadata": {
    "collapsed": false,
    "scrolled": true
   },
   "outputs": [
    {
     "name": "stdout",
     "output_type": "stream",
     "text": [
      "2q_full\n"
     ]
    }
   ],
   "source": [
    "modeltest = qmd.ModelsDevelopmentClass(HahnTestingList, allnameslist, checkloss=True, gaussian = False, trotter=False, IQLE=False)\n",
    "\n",
    "\n",
    "print(modeltest.TrueNames)"
   ]
  },
  {
   "cell_type": "code",
   "execution_count": 129,
   "metadata": {
    "collapsed": false,
    "scrolled": false
   },
   "outputs": [
    {
     "name": "stdout",
     "output_type": "stream",
     "text": [
      "Initialization Ready\n",
      "Initialization Ready\n",
      "Initialization Ready\n",
      "Initialization Ready\n",
      "Initialization Ready\n",
      "Initialization Ready\n"
     ]
    },
    {
     "name": "stderr",
     "output_type": "stream",
     "text": [
      "..\\Libraries\\QML_lib\\QMD_Hahn.py:128: UserWarning: Did you adopt the corrct 'pr0fromHahn' definition???!!!\n",
      "  \n"
     ]
    }
   ],
   "source": [
    "modeltest.InitialiseAllActiveModels()"
   ]
  },
  {
   "cell_type": "code",
   "execution_count": 130,
   "metadata": {
    "collapsed": false
   },
   "outputs": [
    {
     "name": "stdout",
     "output_type": "stream",
     "text": [
      "ModelNames: ['1q_1p', '1q_full', '2qHF_1p', '2qHF_full', '2q_advanced', '2q_full']\n"
     ]
    }
   ],
   "source": [
    "print('ModelNames: ' + repr(modeltest.ModelNames))"
   ]
  },
  {
   "cell_type": "code",
   "execution_count": 131,
   "metadata": {
    "collapsed": false
   },
   "outputs": [
    {
     "data": {
      "text/plain": [
       "array([[-2.49895015, -2.42472382, -1.86953559,  4.72654829, -2.45428031,\n",
       "        -0.57291543]])"
      ]
     },
     "execution_count": 131,
     "metadata": {},
     "output_type": "execute_result"
    }
   ],
   "source": [
    "modeltest.TrueParamsList"
   ]
  },
  {
   "cell_type": "code",
   "execution_count": 132,
   "metadata": {
    "collapsed": false,
    "scrolled": true
   },
   "outputs": [
    {
     "name": "stdout",
     "output_type": "stream",
     "text": [
      "Initial time selected > 6.99865570586\n",
      "Final time selected > 2.55007448177\n",
      "Final Parameters mean and stdev:[-0.12194346  0.22463484]\n",
      "Batch single time 0 elapsed time: 62.36506475130591\n",
      "\n",
      "\n",
      "Initial time selected > 3.72843011274\n"
     ]
    },
    {
     "name": "stderr",
     "output_type": "stream",
     "text": [
      "C:\\Program Files\\Anaconda3\\lib\\site-packages\\qinfer\\smc.py:429: ApproximationWarning: Negative weights occured in particle approximation. Smallest weight observed == -0.0017582417582417628. Clipping weights.\n",
      "  warnings.warn(\"Negative weights occured in particle approximation. Smallest weight observed == {}. Clipping weights.\".format(np.min(weights)), ApproximationWarning)\n",
      "C:\\Program Files\\Anaconda3\\lib\\site-packages\\qinfer\\smc.py:429: ApproximationWarning: Negative weights occured in particle approximation. Smallest weight observed == -0.0010730436115582128. Clipping weights.\n",
      "  warnings.warn(\"Negative weights occured in particle approximation. Smallest weight observed == {}. Clipping weights.\".format(np.min(weights)), ApproximationWarning)\n",
      "C:\\Program Files\\Anaconda3\\lib\\site-packages\\qinfer\\smc.py:429: ApproximationWarning: Negative weights occured in particle approximation. Smallest weight observed == -0.004830593760483069. Clipping weights.\n",
      "  warnings.warn(\"Negative weights occured in particle approximation. Smallest weight observed == {}. Clipping weights.\".format(np.min(weights)), ApproximationWarning)\n",
      "C:\\Program Files\\Anaconda3\\lib\\site-packages\\qinfer\\smc.py:429: ApproximationWarning: Negative weights occured in particle approximation. Smallest weight observed == -0.0008580008580008578. Clipping weights.\n",
      "  warnings.warn(\"Negative weights occured in particle approximation. Smallest weight observed == {}. Clipping weights.\".format(np.min(weights)), ApproximationWarning)\n",
      "C:\\Program Files\\Anaconda3\\lib\\site-packages\\qinfer\\smc.py:429: ApproximationWarning: Negative weights occured in particle approximation. Smallest weight observed == -0.0016785212228027078. Clipping weights.\n",
      "  warnings.warn(\"Negative weights occured in particle approximation. Smallest weight observed == {}. Clipping weights.\".format(np.min(weights)), ApproximationWarning)\n",
      "C:\\Program Files\\Anaconda3\\lib\\site-packages\\qinfer\\smc.py:429: ApproximationWarning: Negative weights occured in particle approximation. Smallest weight observed == -0.01651287032540068. Clipping weights.\n",
      "  warnings.warn(\"Negative weights occured in particle approximation. Smallest weight observed == {}. Clipping weights.\".format(np.min(weights)), ApproximationWarning)\n",
      "C:\\Program Files\\Anaconda3\\lib\\site-packages\\qinfer\\utils.py:268: ApproximationWarning: Numerical error in covariance estimation causing positive semidefinite violation.\n",
      "  warnings.warn('Numerical error in covariance estimation causing positive semidefinite violation.', ApproximationWarning)\n",
      "C:\\Program Files\\Anaconda3\\lib\\site-packages\\qinfer\\smc.py:429: ApproximationWarning: Negative weights occured in particle approximation. Smallest weight observed == -0.0017913121361397232. Clipping weights.\n",
      "  warnings.warn(\"Negative weights occured in particle approximation. Smallest weight observed == {}. Clipping weights.\".format(np.min(weights)), ApproximationWarning)\n",
      "C:\\Program Files\\Anaconda3\\lib\\site-packages\\qinfer\\smc.py:429: ApproximationWarning: Negative weights occured in particle approximation. Smallest weight observed == -0.0018305007182172958. Clipping weights.\n",
      "  warnings.warn(\"Negative weights occured in particle approximation. Smallest weight observed == {}. Clipping weights.\".format(np.min(weights)), ApproximationWarning)\n"
     ]
    },
    {
     "name": "stdout",
     "output_type": "stream",
     "text": [
      "Final time selected > 2.20141674454\n",
      "Final Parameters mean and stdev:[ 0.76294117  0.17241754]\n",
      "Batch single time 1 elapsed time: 57.56392532163591\n",
      "\n",
      "\n",
      "Initial time selected > 0.630932207048\n",
      "Final time selected > 1.131345152\n",
      "Final Parameters mean and stdev:[ 0.94749196  0.25087069]\n",
      "Final Parameters mean and stdev:[ 0.13423003  0.23549052]\n",
      "Final Parameters mean and stdev:[ 0.49877075  0.1013926 ]\n",
      "Batch single time 2 elapsed time: 54.181303991150344\n",
      "\n",
      "\n",
      "Initial time selected > 2.30271332236\n",
      "Final time selected > 1.5716137534\n",
      "Final Parameters mean and stdev:[-2.80922142  0.21136595]\n",
      "Final Parameters mean and stdev:[-4.30927345  0.18291659]\n",
      "Final Parameters mean and stdev:[-1.03262022  0.04156296]\n",
      "Batch single time 3 elapsed time: 56.575986696829204\n",
      "\n",
      "\n",
      "Initial time selected > 1.09599672543\n",
      "Final time selected > 1.33582670268\n",
      "Final Parameters mean and stdev:[-4.804321    0.21760752]\n",
      "Final Parameters mean and stdev:[-2.0924452   0.18944295]\n",
      "Final Parameters mean and stdev:[ 7.42583636  0.20981463]\n",
      "Batch single time 4 elapsed time: 57.85178641305538\n",
      "\n",
      "\n",
      "Initial time selected > 0.0989021388633\n",
      "Final time selected > 0.113124098679\n",
      "Final Parameters mean and stdev:[-2.72710218  0.19836583]\n",
      "Final Parameters mean and stdev:[-2.65382515  0.20946531]\n",
      "Final Parameters mean and stdev:[-1.94175186  0.17314285]\n",
      "Final Parameters mean and stdev:[ 3.05829919  2.07535206]\n",
      "Final Parameters mean and stdev:[ 0.05750671  1.94998478]\n",
      "Final Parameters mean and stdev:[-1.06988884  1.97419395]\n",
      "Batch single time 5 elapsed time: 55.0109566402316\n",
      "\n",
      "\n"
     ]
    },
    {
     "name": "stderr",
     "output_type": "stream",
     "text": [
      "C:\\Program Files\\Anaconda3\\lib\\site-packages\\qinfer\\smc.py:429: ApproximationWarning: Negative weights occured in particle approximation. Smallest weight observed == -0.0008965275566599555. Clipping weights.\n",
      "  warnings.warn(\"Negative weights occured in particle approximation. Smallest weight observed == {}. Clipping weights.\".format(np.min(weights)), ApproximationWarning)\n",
      "C:\\Program Files\\Anaconda3\\lib\\site-packages\\qinfer\\smc.py:429: ApproximationWarning: Negative weights occured in particle approximation. Smallest weight observed == -3.0006078879084014e-05. Clipping weights.\n",
      "  warnings.warn(\"Negative weights occured in particle approximation. Smallest weight observed == {}. Clipping weights.\".format(np.min(weights)), ApproximationWarning)\n",
      "C:\\Program Files\\Anaconda3\\lib\\site-packages\\qinfer\\smc.py:285: ApproximationWarning: Extremely small n_ess encountered (9.16903796258049). Resampling is likely to fail. Consider adding particles, or resampling more often.\n",
      "  ApproximationWarning\n"
     ]
    },
    {
     "name": "stdout",
     "output_type": "stream",
     "text": [
      "New LogTotLikelihoods update! Elapsed time : 682.1310363983212\n",
      "Total elapsed time: 1025.6804899236377\n"
     ]
    },
    {
     "name": "stderr",
     "output_type": "stream",
     "text": [
      "C:\\Program Files\\Anaconda3\\lib\\site-packages\\qinfer\\smc.py:285: ApproximationWarning: Extremely small n_ess encountered (6.827285312895417). Resampling is likely to fail. Consider adding particles, or resampling more often.\n",
      "  ApproximationWarning\n"
     ]
    }
   ],
   "source": [
    "start=time.clock()\n",
    "modeltest.UpdateAllActiveModels(expnum=50)\n",
    "modeltest.UpdateAllLogLikelihoods(datalikesize=20)\n",
    "end=time.clock()\n",
    "print('Total elapsed time: ' + str(end-start))"
   ]
  },
  {
   "cell_type": "code",
   "execution_count": 133,
   "metadata": {
    "collapsed": false,
    "scrolled": true
   },
   "outputs": [
    {
     "data": {
      "text/plain": [
       "{'1q_1p VS 1q_full': 3.747896827531684e+272,\n",
       " '1q_1p VS 2qHF_1p': 9.6367358537463588e-14,\n",
       " '1q_1p VS 2qHF_full': 5.0908521970906523e+30,\n",
       " '1q_1p VS 2q_advanced': 3.9523939676655573e-14,\n",
       " '1q_1p VS 2q_full': 0.0,\n",
       " '1q_full VS 1q_1p': 0.0,\n",
       " '1q_full VS 2qHF_1p': 0.0,\n",
       " '1q_full VS 2qHF_full': 0.0,\n",
       " '1q_full VS 2q_advanced': 0.0,\n",
       " '1q_full VS 2q_full': 0.0,\n",
       " '2qHF_1p VS 1q_1p': 10379528527357.596,\n",
       " '2qHF_1p VS 1q_full': 3.8901402038959256e+285,\n",
       " '2qHF_1p VS 2qHF_full': 5.2840645608263524e+43,\n",
       " '2qHF_1p VS 2q_advanced': 0.41021562197565142,\n",
       " '2qHF_1p VS 2q_full': 4.5393739878107908e-09,\n",
       " '2qHF_full VS 1q_1p': 0.0,\n",
       " '2qHF_full VS 1q_full': 7.3620224717458093e+241,\n",
       " '2qHF_full VS 2qHF_1p': 0.0,\n",
       " '2qHF_full VS 2q_advanced': 0.0,\n",
       " '2qHF_full VS 2q_full': 0.0,\n",
       " '2q_advanced VS 1q_1p': 25302616407850.207,\n",
       " '2q_advanced VS 1q_full': 9.4831595763238314e+285,\n",
       " '2q_advanced VS 2qHF_1p': 2.4377423638423878,\n",
       " '2q_advanced VS 2qHF_full': 1.2881188033204622e+44,\n",
       " '2q_advanced VS 2q_full': 1.1065824256917267e-08,\n",
       " '2q_full VS 1q_1p': 2.2865550495709497e+21,\n",
       " '2q_full VS 1q_full': 8.5697724162633928e+293,\n",
       " '2q_full VS 2qHF_1p': 220294692.91829744,\n",
       " '2q_full VS 2qHF_full': 1.1640513797876995e+52,\n",
       " '2q_full VS 2q_advanced': 90368324.473414525}"
      ]
     },
     "execution_count": 133,
     "metadata": {},
     "output_type": "execute_result"
    }
   ],
   "source": [
    "modeltest.ComputeAllBayesFactors(fromLogL = True)"
   ]
  },
  {
   "cell_type": "code",
   "execution_count": 148,
   "metadata": {
    "collapsed": false
   },
   "outputs": [
    {
     "data": {
      "image/png": "[encoded data removed]",
      "text/plain": [
       "<matplotlib.figure.Figure at 0xc200c50>"
      ]
     },
     "metadata": {},
     "output_type": "display_data"
    }
   ],
   "source": [
    "plt.plot(modeltest.ModelsList[5].TrackTime)\n",
    "plt.show()"
   ]
  },
  {
   "cell_type": "markdown",
   "metadata": {},
   "source": [
    "# MULTIPLE testing running"
   ]
  },
  {
   "cell_type": "code",
   "execution_count": 89,
   "metadata": {
    "collapsed": false,
    "scrolled": true
   },
   "outputs": [
    {
     "name": "stdout",
     "output_type": "stream",
     "text": [
      "Remember to adopt the corrct 'pr0fromHahn' definition!!!\n",
      "Initialization Ready\n",
      "Remember to adopt the corrct 'pr0fromHahn' definition!!!\n",
      "Initialization Ready\n",
      "Remember to adopt the corrct 'pr0fromHahn' definition!!!\n",
      "Initialization Ready\n",
      "Remember to adopt the corrct 'pr0fromHahn' definition!!!\n",
      "Initialization Ready\n",
      "Remember to adopt the corrct 'pr0fromHahn' definition!!!\n",
      "Initialization Ready\n",
      "Remember to adopt the corrct 'pr0fromHahn' definition!!!\n",
      "Initialization Ready\n",
      "Initial time selected > 2.41341870378\n",
      "Final time selected > 0.935086134316\n",
      "Final Parameters mean and stdev:[ 0.05048016  0.20570339]\n",
      "Batch single time 0 elapsed time: 34.66650478012525\n",
      "\n",
      "\n",
      "Initial time selected > 10.0650582324\n"
     ]
    },
    {
     "name": "stderr",
     "output_type": "stream",
     "text": [
      "C:\\Program Files\\Anaconda3\\lib\\site-packages\\qinfer\\smc.py:429: ApproximationWarning: Negative weights occured in particle approximation. Smallest weight observed == -0.0017566974088713226. Clipping weights.\n",
      "  warnings.warn(\"Negative weights occured in particle approximation. Smallest weight observed == {}. Clipping weights.\".format(np.min(weights)), ApproximationWarning)\n",
      "C:\\Program Files\\Anaconda3\\lib\\site-packages\\qinfer\\smc.py:429: ApproximationWarning: Negative weights occured in particle approximation. Smallest weight observed == -0.0012517602879048657. Clipping weights.\n",
      "  warnings.warn(\"Negative weights occured in particle approximation. Smallest weight observed == {}. Clipping weights.\".format(np.min(weights)), ApproximationWarning)\n",
      "C:\\Program Files\\Anaconda3\\lib\\site-packages\\qinfer\\smc.py:429: ApproximationWarning: Negative weights occured in particle approximation. Smallest weight observed == -0.0008029118938015197. Clipping weights.\n",
      "  warnings.warn(\"Negative weights occured in particle approximation. Smallest weight observed == {}. Clipping weights.\".format(np.min(weights)), ApproximationWarning)\n",
      "C:\\Program Files\\Anaconda3\\lib\\site-packages\\qinfer\\smc.py:429: ApproximationWarning: Negative weights occured in particle approximation. Smallest weight observed == -0.0008449514152936209. Clipping weights.\n",
      "  warnings.warn(\"Negative weights occured in particle approximation. Smallest weight observed == {}. Clipping weights.\".format(np.min(weights)), ApproximationWarning)\n",
      "C:\\Program Files\\Anaconda3\\lib\\site-packages\\qinfer\\smc.py:429: ApproximationWarning: Negative weights occured in particle approximation. Smallest weight observed == -0.0033406726900007556. Clipping weights.\n",
      "  warnings.warn(\"Negative weights occured in particle approximation. Smallest weight observed == {}. Clipping weights.\".format(np.min(weights)), ApproximationWarning)\n"
     ]
    },
    {
     "name": "stdout",
     "output_type": "stream",
     "text": [
      "Final time selected > 3.72591134139\n",
      "Final Parameters mean and stdev:[ 0.19090293  0.20603459]\n",
      "Batch single time 1 elapsed time: 30.796699964310392\n",
      "\n",
      "\n",
      "Initial time selected > 1.3852050493\n",
      "Final time selected > 0.921537928137\n",
      "Final Parameters mean and stdev:[ 0.38249923  0.16703861]\n",
      "Final Parameters mean and stdev:[ 0.36289034  0.21180432]\n",
      "Final Parameters mean and stdev:[ 0.36024619  0.10362666]\n",
      "Batch single time 2 elapsed time: 31.008563765088184\n",
      "\n",
      "\n",
      "Initial time selected > 1.11443949146\n",
      "Final time selected > 0.740096142291\n",
      "Final Parameters mean and stdev:[-0.51781324  0.10791671]\n",
      "Final Parameters mean and stdev:[-1.28857901  0.19299798]\n",
      "Final Parameters mean and stdev:[-0.30196688  0.11348328]\n",
      "Batch single time 3 elapsed time: 31.89598673655928\n",
      "\n",
      "\n",
      "Initial time selected > 1.09486946133\n",
      "Final time selected > 1.18884967519\n",
      "Final Parameters mean and stdev:[-2.21962925  0.1912256 ]\n",
      "Final Parameters mean and stdev:[-3.70678054  0.22011428]\n",
      "Final Parameters mean and stdev:[ 17.47385854   0.12940038]\n",
      "Batch single time 4 elapsed time: 33.896300577958755\n",
      "\n",
      "\n",
      "Initial time selected > 0.0702770492689\n",
      "Final time selected > 0.187435202828\n",
      "Final Parameters mean and stdev:[-2.55467004  0.1922327 ]\n",
      "Final Parameters mean and stdev:[-2.66583356  0.20061269]\n",
      "Final Parameters mean and stdev:[-2.02929171  0.19969878]\n",
      "Final Parameters mean and stdev:[ 0.04161358  1.8782348 ]\n",
      "Final Parameters mean and stdev:[ 0.6777683   2.09830903]\n",
      "Final Parameters mean and stdev:[-1.66474017  2.00522895]\n",
      "Batch single time 5 elapsed time: 31.027083387132734\n",
      "\n",
      "\n",
      "LogTotLikelihoods updated\n"
     ]
    },
    {
     "name": "stderr",
     "output_type": "stream",
     "text": [
      "C:\\Program Files\\Anaconda3\\lib\\site-packages\\qinfer\\smc.py:429: ApproximationWarning: Negative weights occured in particle approximation. Smallest weight observed == -0.0020110608345902466. Clipping weights.\n",
      "  warnings.warn(\"Negative weights occured in particle approximation. Smallest weight observed == {}. Clipping weights.\".format(np.min(weights)), ApproximationWarning)\n",
      "C:\\Program Files\\Anaconda3\\lib\\site-packages\\qinfer\\smc.py:429: ApproximationWarning: Negative weights occured in particle approximation. Smallest weight observed == -0.0012010409021151634. Clipping weights.\n",
      "  warnings.warn(\"Negative weights occured in particle approximation. Smallest weight observed == {}. Clipping weights.\".format(np.min(weights)), ApproximationWarning)\n",
      "C:\\Program Files\\Anaconda3\\lib\\site-packages\\qinfer\\smc.py:429: ApproximationWarning: Negative weights occured in particle approximation. Smallest weight observed == -0.003595602158295212. Clipping weights.\n",
      "  warnings.warn(\"Negative weights occured in particle approximation. Smallest weight observed == {}. Clipping weights.\".format(np.min(weights)), ApproximationWarning)\n",
      "C:\\Program Files\\Anaconda3\\lib\\site-packages\\qinfer\\smc.py:429: ApproximationWarning: Negative weights occured in particle approximation. Smallest weight observed == -0.0047842763293860285. Clipping weights.\n",
      "  warnings.warn(\"Negative weights occured in particle approximation. Smallest weight observed == {}. Clipping weights.\".format(np.min(weights)), ApproximationWarning)\n",
      "C:\\Program Files\\Anaconda3\\lib\\site-packages\\qinfer\\smc.py:429: ApproximationWarning: Negative weights occured in particle approximation. Smallest weight observed == -0.001127470089617142. Clipping weights.\n",
      "  warnings.warn(\"Negative weights occured in particle approximation. Smallest weight observed == {}. Clipping weights.\".format(np.min(weights)), ApproximationWarning)\n",
      "C:\\Program Files\\Anaconda3\\lib\\site-packages\\qinfer\\smc.py:429: ApproximationWarning: Negative weights occured in particle approximation. Smallest weight observed == -0.0002583371436068669. Clipping weights.\n",
      "  warnings.warn(\"Negative weights occured in particle approximation. Smallest weight observed == {}. Clipping weights.\".format(np.min(weights)), ApproximationWarning)\n",
      "C:\\Program Files\\Anaconda3\\lib\\site-packages\\qinfer\\smc.py:429: ApproximationWarning: Negative weights occured in particle approximation. Smallest weight observed == -0.0039170393384580235. Clipping weights.\n",
      "  warnings.warn(\"Negative weights occured in particle approximation. Smallest weight observed == {}. Clipping weights.\".format(np.min(weights)), ApproximationWarning)\n",
      "C:\\Program Files\\Anaconda3\\lib\\site-packages\\qinfer\\smc.py:429: ApproximationWarning: Negative weights occured in particle approximation. Smallest weight observed == -0.00019097650582048615. Clipping weights.\n",
      "  warnings.warn(\"Negative weights occured in particle approximation. Smallest weight observed == {}. Clipping weights.\".format(np.min(weights)), ApproximationWarning)\n",
      "C:\\Program Files\\Anaconda3\\lib\\site-packages\\qinfer\\smc.py:429: ApproximationWarning: Negative weights occured in particle approximation. Smallest weight observed == -0.007186397092951677. Clipping weights.\n",
      "  warnings.warn(\"Negative weights occured in particle approximation. Smallest weight observed == {}. Clipping weights.\".format(np.min(weights)), ApproximationWarning)\n",
      "C:\\Program Files\\Anaconda3\\lib\\site-packages\\qinfer\\smc.py:429: ApproximationWarning: Negative weights occured in particle approximation. Smallest weight observed == -0.020353833220590624. Clipping weights.\n",
      "  warnings.warn(\"Negative weights occured in particle approximation. Smallest weight observed == {}. Clipping weights.\".format(np.min(weights)), ApproximationWarning)\n",
      "C:\\Program Files\\Anaconda3\\lib\\site-packages\\qinfer\\smc.py:429: ApproximationWarning: Negative weights occured in particle approximation. Smallest weight observed == -4.443990667301909e-05. Clipping weights.\n",
      "  warnings.warn(\"Negative weights occured in particle approximation. Smallest weight observed == {}. Clipping weights.\".format(np.min(weights)), ApproximationWarning)\n",
      "C:\\Program Files\\Anaconda3\\lib\\site-packages\\qinfer\\smc.py:429: ApproximationWarning: Negative weights occured in particle approximation. Smallest weight observed == -0.0001687486167772501. Clipping weights.\n",
      "  warnings.warn(\"Negative weights occured in particle approximation. Smallest weight observed == {}. Clipping weights.\".format(np.min(weights)), ApproximationWarning)\n"
     ]
    },
    {
     "name": "stdout",
     "output_type": "stream",
     "text": [
      "LogTotLikelihoods updated\n",
      "LogTotLikelihoods updated\n",
      "LogTotLikelihoods updated\n",
      "LogTotLikelihoods updated\n"
     ]
    },
    {
     "name": "stderr",
     "output_type": "stream",
     "text": [
      "C:\\Program Files\\Anaconda3\\lib\\site-packages\\qinfer\\smc.py:285: ApproximationWarning: Extremely small n_ess encountered (1.8982919560755904). Resampling is likely to fail. Consider adding particles, or resampling more often.\n",
      "  ApproximationWarning\n"
     ]
    },
    {
     "name": "stdout",
     "output_type": "stream",
     "text": [
      "LogTotLikelihoods updated\n",
      "New Bayes Factor update! Total elapsed time : 642.902543638189\n",
      "Total elapsed time for the learning process: 836.1937692550637\n",
      "Remember to adopt the corrct 'pr0fromHahn' definition!!!\n",
      "Initialization Ready\n",
      "Remember to adopt the corrct 'pr0fromHahn' definition!!!\n",
      "Initialization Ready\n",
      "Remember to adopt the corrct 'pr0fromHahn' definition!!!\n",
      "Initialization Ready\n",
      "Remember to adopt the corrct 'pr0fromHahn' definition!!!\n",
      "Initialization Ready\n",
      "Remember to adopt the corrct 'pr0fromHahn' definition!!!\n",
      "Initialization Ready\n",
      "Remember to adopt the corrct 'pr0fromHahn' definition!!!\n",
      "Initialization Ready\n",
      "Initial time selected > 0.512288206986\n",
      "Final time selected > 5.64653352863\n",
      "Final Parameters mean and stdev:[ 1.30677073  0.09778671]\n",
      "Batch single time 0 elapsed time: 37.7923541878954\n",
      "\n",
      "\n",
      "Initial time selected > 1.62185837362\n"
     ]
    },
    {
     "name": "stderr",
     "output_type": "stream",
     "text": [
      "C:\\Program Files\\Anaconda3\\lib\\site-packages\\qinfer\\smc.py:429: ApproximationWarning: Negative weights occured in particle approximation. Smallest weight observed == -0.0009250693802035154. Clipping weights.\n",
      "  warnings.warn(\"Negative weights occured in particle approximation. Smallest weight observed == {}. Clipping weights.\".format(np.min(weights)), ApproximationWarning)\n",
      "C:\\Program Files\\Anaconda3\\lib\\site-packages\\qinfer\\smc.py:429: ApproximationWarning: Negative weights occured in particle approximation. Smallest weight observed == -0.00190885230255309. Clipping weights.\n",
      "  warnings.warn(\"Negative weights occured in particle approximation. Smallest weight observed == {}. Clipping weights.\".format(np.min(weights)), ApproximationWarning)\n",
      "C:\\Program Files\\Anaconda3\\lib\\site-packages\\qinfer\\smc.py:429: ApproximationWarning: Negative weights occured in particle approximation. Smallest weight observed == -0.0015065913370998125. Clipping weights.\n",
      "  warnings.warn(\"Negative weights occured in particle approximation. Smallest weight observed == {}. Clipping weights.\".format(np.min(weights)), ApproximationWarning)\n",
      "C:\\Program Files\\Anaconda3\\lib\\site-packages\\qinfer\\smc.py:429: ApproximationWarning: Negative weights occured in particle approximation. Smallest weight observed == -0.0008920606601248884. Clipping weights.\n",
      "  warnings.warn(\"Negative weights occured in particle approximation. Smallest weight observed == {}. Clipping weights.\".format(np.min(weights)), ApproximationWarning)\n",
      "C:\\Program Files\\Anaconda3\\lib\\site-packages\\qinfer\\smc.py:429: ApproximationWarning: Negative weights occured in particle approximation. Smallest weight observed == -0.001498913287866297. Clipping weights.\n",
      "  warnings.warn(\"Negative weights occured in particle approximation. Smallest weight observed == {}. Clipping weights.\".format(np.min(weights)), ApproximationWarning)\n",
      "C:\\Program Files\\Anaconda3\\lib\\site-packages\\qinfer\\smc.py:429: ApproximationWarning: Negative weights occured in particle approximation. Smallest weight observed == -0.0012109744560075656. Clipping weights.\n",
      "  warnings.warn(\"Negative weights occured in particle approximation. Smallest weight observed == {}. Clipping weights.\".format(np.min(weights)), ApproximationWarning)\n",
      "C:\\Program Files\\Anaconda3\\lib\\site-packages\\qinfer\\smc.py:429: ApproximationWarning: Negative weights occured in particle approximation. Smallest weight observed == -0.0032857910659340925. Clipping weights.\n",
      "  warnings.warn(\"Negative weights occured in particle approximation. Smallest weight observed == {}. Clipping weights.\".format(np.min(weights)), ApproximationWarning)\n",
      "C:\\Program Files\\Anaconda3\\lib\\site-packages\\qinfer\\smc.py:429: ApproximationWarning: Negative weights occured in particle approximation. Smallest weight observed == -0.0008722197993894463. Clipping weights.\n",
      "  warnings.warn(\"Negative weights occured in particle approximation. Smallest weight observed == {}. Clipping weights.\".format(np.min(weights)), ApproximationWarning)\n",
      "C:\\Program Files\\Anaconda3\\lib\\site-packages\\qinfer\\smc.py:429: ApproximationWarning: Negative weights occured in particle approximation. Smallest weight observed == -0.001817906377821542. Clipping weights.\n",
      "  warnings.warn(\"Negative weights occured in particle approximation. Smallest weight observed == {}. Clipping weights.\".format(np.min(weights)), ApproximationWarning)\n"
     ]
    },
    {
     "name": "stdout",
     "output_type": "stream",
     "text": [
      "Final time selected > 3.76129519366\n",
      "Final Parameters mean and stdev:[ 0.09764909  0.22248065]\n",
      "Batch single time 1 elapsed time: 30.334869103640813\n",
      "\n",
      "\n",
      "Initial time selected > 2.1934895542\n",
      "Final time selected > 4.37411501689\n",
      "Final Parameters mean and stdev:[ 0.76632739  0.19042724]\n",
      "Final Parameters mean and stdev:[ 0.28275456  0.20414136]\n",
      "Final Parameters mean and stdev:[ 0.49310226  0.12009348]\n",
      "Batch single time 2 elapsed time: 31.08851320616668\n",
      "\n",
      "\n",
      "Initial time selected > 1.86557893742\n",
      "Final time selected > 0.962891042974\n",
      "Final Parameters mean and stdev:[-2.58782184  0.16285544]\n",
      "Final Parameters mean and stdev:[-2.59187995  0.40614142]\n",
      "Final Parameters mean and stdev:[-0.4587507   0.06823079]\n",
      "Batch single time 3 elapsed time: 32.83835413360066\n",
      "\n",
      "\n",
      "Initial time selected > 2.22397214344\n",
      "Final time selected > 2.04495313531\n",
      "Final Parameters mean and stdev:[-2.67055782  0.17542796]\n",
      "Final Parameters mean and stdev:[-3.99715955  0.17421419]\n",
      "Final Parameters mean and stdev:[ 4.02011338  0.16469554]\n",
      "Batch single time 4 elapsed time: 33.38096770413176\n",
      "\n",
      "\n",
      "Initial time selected > 0.126345198339\n",
      "Final time selected > 0.0636668273206\n",
      "Final Parameters mean and stdev:[-2.55258948  0.2252561 ]\n",
      "Final Parameters mean and stdev:[-2.64601959  0.1793011 ]\n",
      "Final Parameters mean and stdev:[-2.20709479  0.19209332]\n",
      "Final Parameters mean and stdev:[ 2.67229785  2.01708771]\n",
      "Final Parameters mean and stdev:[-0.1166846   1.36351615]\n",
      "Final Parameters mean and stdev:[-2.68296415  2.41506858]\n",
      "Batch single time 5 elapsed time: 31.092704048223823\n",
      "\n",
      "\n"
     ]
    },
    {
     "name": "stderr",
     "output_type": "stream",
     "text": [
      "C:\\Program Files\\Anaconda3\\lib\\site-packages\\qinfer\\smc.py:285: ApproximationWarning: Extremely small n_ess encountered (1.00000084421266). Resampling is likely to fail. Consider adding particles, or resampling more often.\n",
      "  ApproximationWarning\n"
     ]
    },
    {
     "name": "stdout",
     "output_type": "stream",
     "text": [
      "LogTotLikelihoods updated\n"
     ]
    },
    {
     "name": "stderr",
     "output_type": "stream",
     "text": [
      "C:\\Program Files\\Anaconda3\\lib\\site-packages\\qinfer\\smc.py:429: ApproximationWarning: Negative weights occured in particle approximation. Smallest weight observed == -0.0034328318180599135. Clipping weights.\n",
      "  warnings.warn(\"Negative weights occured in particle approximation. Smallest weight observed == {}. Clipping weights.\".format(np.min(weights)), ApproximationWarning)\n",
      "C:\\Program Files\\Anaconda3\\lib\\site-packages\\qinfer\\smc.py:429: ApproximationWarning: Negative weights occured in particle approximation. Smallest weight observed == -0.003044762770163226. Clipping weights.\n",
      "  warnings.warn(\"Negative weights occured in particle approximation. Smallest weight observed == {}. Clipping weights.\".format(np.min(weights)), ApproximationWarning)\n",
      "C:\\Program Files\\Anaconda3\\lib\\site-packages\\qinfer\\smc.py:429: ApproximationWarning: Negative weights occured in particle approximation. Smallest weight observed == -0.001967181354498748. Clipping weights.\n",
      "  warnings.warn(\"Negative weights occured in particle approximation. Smallest weight observed == {}. Clipping weights.\".format(np.min(weights)), ApproximationWarning)\n",
      "C:\\Program Files\\Anaconda3\\lib\\site-packages\\qinfer\\smc.py:429: ApproximationWarning: Negative weights occured in particle approximation. Smallest weight observed == -0.000961273086043328. Clipping weights.\n",
      "  warnings.warn(\"Negative weights occured in particle approximation. Smallest weight observed == {}. Clipping weights.\".format(np.min(weights)), ApproximationWarning)\n",
      "C:\\Program Files\\Anaconda3\\lib\\site-packages\\qinfer\\smc.py:429: ApproximationWarning: Negative weights occured in particle approximation. Smallest weight observed == -0.0032369120004021147. Clipping weights.\n",
      "  warnings.warn(\"Negative weights occured in particle approximation. Smallest weight observed == {}. Clipping weights.\".format(np.min(weights)), ApproximationWarning)\n",
      "C:\\Program Files\\Anaconda3\\lib\\site-packages\\qinfer\\smc.py:429: ApproximationWarning: Negative weights occured in particle approximation. Smallest weight observed == -0.009675142003165382. Clipping weights.\n",
      "  warnings.warn(\"Negative weights occured in particle approximation. Smallest weight observed == {}. Clipping weights.\".format(np.min(weights)), ApproximationWarning)\n",
      "C:\\Program Files\\Anaconda3\\lib\\site-packages\\qinfer\\smc.py:429: ApproximationWarning: Negative weights occured in particle approximation. Smallest weight observed == -0.0012150385756666837. Clipping weights.\n",
      "  warnings.warn(\"Negative weights occured in particle approximation. Smallest weight observed == {}. Clipping weights.\".format(np.min(weights)), ApproximationWarning)\n",
      "C:\\Program Files\\Anaconda3\\lib\\site-packages\\qinfer\\smc.py:429: ApproximationWarning: Negative weights occured in particle approximation. Smallest weight observed == -0.0028331179459623428. Clipping weights.\n",
      "  warnings.warn(\"Negative weights occured in particle approximation. Smallest weight observed == {}. Clipping weights.\".format(np.min(weights)), ApproximationWarning)\n",
      "C:\\Program Files\\Anaconda3\\lib\\site-packages\\qinfer\\smc.py:429: ApproximationWarning: Negative weights occured in particle approximation. Smallest weight observed == -0.0011105603060992376. Clipping weights.\n",
      "  warnings.warn(\"Negative weights occured in particle approximation. Smallest weight observed == {}. Clipping weights.\".format(np.min(weights)), ApproximationWarning)\n",
      "C:\\Program Files\\Anaconda3\\lib\\site-packages\\qinfer\\smc.py:429: ApproximationWarning: Negative weights occured in particle approximation. Smallest weight observed == -2.2881784408977537e-05. Clipping weights.\n",
      "  warnings.warn(\"Negative weights occured in particle approximation. Smallest weight observed == {}. Clipping weights.\".format(np.min(weights)), ApproximationWarning)\n",
      "C:\\Program Files\\Anaconda3\\lib\\site-packages\\qinfer\\smc.py:429: ApproximationWarning: Negative weights occured in particle approximation. Smallest weight observed == -0.005369724160883233. Clipping weights.\n",
      "  warnings.warn(\"Negative weights occured in particle approximation. Smallest weight observed == {}. Clipping weights.\".format(np.min(weights)), ApproximationWarning)\n",
      "C:\\Program Files\\Anaconda3\\lib\\site-packages\\qinfer\\smc.py:429: ApproximationWarning: Negative weights occured in particle approximation. Smallest weight observed == -0.002326203614735731. Clipping weights.\n",
      "  warnings.warn(\"Negative weights occured in particle approximation. Smallest weight observed == {}. Clipping weights.\".format(np.min(weights)), ApproximationWarning)\n",
      "C:\\Program Files\\Anaconda3\\lib\\site-packages\\qinfer\\smc.py:429: ApproximationWarning: Negative weights occured in particle approximation. Smallest weight observed == -3.317601972229599e-06. Clipping weights.\n",
      "  warnings.warn(\"Negative weights occured in particle approximation. Smallest weight observed == {}. Clipping weights.\".format(np.min(weights)), ApproximationWarning)\n",
      "C:\\Program Files\\Anaconda3\\lib\\site-packages\\qinfer\\smc.py:429: ApproximationWarning: Negative weights occured in particle approximation. Smallest weight observed == -0.015260063722972088. Clipping weights.\n",
      "  warnings.warn(\"Negative weights occured in particle approximation. Smallest weight observed == {}. Clipping weights.\".format(np.min(weights)), ApproximationWarning)\n",
      "C:\\Program Files\\Anaconda3\\lib\\site-packages\\qinfer\\smc.py:285: ApproximationWarning: Extremely small n_ess encountered (7.164434277720616). Resampling is likely to fail. Consider adding particles, or resampling more often.\n",
      "  ApproximationWarning\n"
     ]
    },
    {
     "name": "stdout",
     "output_type": "stream",
     "text": [
      "LogTotLikelihoods updated\n",
      "LogTotLikelihoods updated\n"
     ]
    },
    {
     "name": "stderr",
     "output_type": "stream",
     "text": [
      "C:\\Program Files\\Anaconda3\\lib\\site-packages\\qinfer\\smc.py:285: ApproximationWarning: Extremely small n_ess encountered (3.7604647957221693). Resampling is likely to fail. Consider adding particles, or resampling more often.\n",
      "  ApproximationWarning\n"
     ]
    },
    {
     "name": "stdout",
     "output_type": "stream",
     "text": [
      "LogTotLikelihoods updated\n"
     ]
    },
    {
     "name": "stderr",
     "output_type": "stream",
     "text": [
      "C:\\Program Files\\Anaconda3\\lib\\site-packages\\qinfer\\smc.py:285: ApproximationWarning: Extremely small n_ess encountered (2.9135135552162583). Resampling is likely to fail. Consider adding particles, or resampling more often.\n",
      "  ApproximationWarning\n"
     ]
    },
    {
     "name": "stdout",
     "output_type": "stream",
     "text": [
      "LogTotLikelihoods updated\n"
     ]
    },
    {
     "name": "stderr",
     "output_type": "stream",
     "text": [
      "C:\\Program Files\\Anaconda3\\lib\\site-packages\\qinfer\\smc.py:285: ApproximationWarning: Extremely small n_ess encountered (3.604655762903452). Resampling is likely to fail. Consider adding particles, or resampling more often.\n",
      "  ApproximationWarning\n"
     ]
    },
    {
     "name": "stdout",
     "output_type": "stream",
     "text": [
      "LogTotLikelihoods updated\n",
      "New Bayes Factor update! Total elapsed time : 653.067177950059\n",
      "Total elapsed time for the learning process: 849.5950221046332\n",
      "Remember to adopt the corrct 'pr0fromHahn' definition!!!\n",
      "Initialization Ready\n",
      "Remember to adopt the corrct 'pr0fromHahn' definition!!!\n",
      "Initialization Ready\n",
      "Remember to adopt the corrct 'pr0fromHahn' definition!!!\n",
      "Initialization Ready\n",
      "Remember to adopt the corrct 'pr0fromHahn' definition!!!\n",
      "Initialization Ready\n",
      "Remember to adopt the corrct 'pr0fromHahn' definition!!!\n",
      "Initialization Ready\n",
      "Remember to adopt the corrct 'pr0fromHahn' definition!!!\n",
      "Initialization Ready\n",
      "Initial time selected > 0.279742522898\n",
      "Final time selected > 1.03795968794\n",
      "Final Parameters mean and stdev:[ 0.00924443  0.32442466]\n",
      "Batch single time 0 elapsed time: 34.45650383330212\n",
      "\n",
      "\n",
      "Initial time selected > 2.09269504773\n"
     ]
    },
    {
     "name": "stderr",
     "output_type": "stream",
     "text": [
      "C:\\Program Files\\Anaconda3\\lib\\site-packages\\qinfer\\smc.py:429: ApproximationWarning: Negative weights occured in particle approximation. Smallest weight observed == -0.0016799664006719838. Clipping weights.\n",
      "  warnings.warn(\"Negative weights occured in particle approximation. Smallest weight observed == {}. Clipping weights.\".format(np.min(weights)), ApproximationWarning)\n",
      "C:\\Program Files\\Anaconda3\\lib\\site-packages\\qinfer\\smc.py:429: ApproximationWarning: Negative weights occured in particle approximation. Smallest weight observed == -0.0018005851901868103. Clipping weights.\n",
      "  warnings.warn(\"Negative weights occured in particle approximation. Smallest weight observed == {}. Clipping weights.\".format(np.min(weights)), ApproximationWarning)\n",
      "C:\\Program Files\\Anaconda3\\lib\\site-packages\\qinfer\\smc.py:429: ApproximationWarning: Negative weights occured in particle approximation. Smallest weight observed == -0.0009207749856128911. Clipping weights.\n",
      "  warnings.warn(\"Negative weights occured in particle approximation. Smallest weight observed == {}. Clipping weights.\".format(np.min(weights)), ApproximationWarning)\n",
      "C:\\Program Files\\Anaconda3\\lib\\site-packages\\qinfer\\smc.py:429: ApproximationWarning: Negative weights occured in particle approximation. Smallest weight observed == -0.0017331022530329319. Clipping weights.\n",
      "  warnings.warn(\"Negative weights occured in particle approximation. Smallest weight observed == {}. Clipping weights.\".format(np.min(weights)), ApproximationWarning)\n",
      "C:\\Program Files\\Anaconda3\\lib\\site-packages\\qinfer\\smc.py:429: ApproximationWarning: Negative weights occured in particle approximation. Smallest weight observed == -0.0015384615384615393. Clipping weights.\n",
      "  warnings.warn(\"Negative weights occured in particle approximation. Smallest weight observed == {}. Clipping weights.\".format(np.min(weights)), ApproximationWarning)\n"
     ]
    },
    {
     "name": "stdout",
     "output_type": "stream",
     "text": [
      "Final time selected > 3.56437309346\n",
      "Final Parameters mean and stdev:[ 0.40959475  0.19658513]\n",
      "Batch single time 1 elapsed time: 30.79647617023511\n",
      "\n",
      "\n",
      "Initial time selected > 1.23897432236\n",
      "Final time selected > 1.04616810122\n",
      "Final Parameters mean and stdev:[ 0.66526552  0.18851002]\n",
      "Final Parameters mean and stdev:[ 0.79060697  0.15162356]\n",
      "Final Parameters mean and stdev:[ 0.70963358  0.12664771]\n",
      "Batch single time 2 elapsed time: 31.02008187685351\n",
      "\n",
      "\n",
      "Initial time selected > 0.86864181026\n"
     ]
    },
    {
     "name": "stderr",
     "output_type": "stream",
     "text": [
      "C:\\Program Files\\Anaconda3\\lib\\site-packages\\qinfer\\smc.py:285: ApproximationWarning: Extremely small n_ess encountered (8.192072187180722). Resampling is likely to fail. Consider adding particles, or resampling more often.\n",
      "  ApproximationWarning\n"
     ]
    },
    {
     "name": "stdout",
     "output_type": "stream",
     "text": [
      "Final time selected > 8.58711927908\n",
      "Final Parameters mean and stdev:[-1.81777268  0.0327559 ]\n",
      "Final Parameters mean and stdev:[-3.13111602  0.05577567]\n",
      "Final Parameters mean and stdev:[-3.35520099  0.11299985]\n",
      "Batch single time 3 elapsed time: 33.33376536184005\n",
      "\n",
      "\n",
      "Initial time selected > 0.963306155358\n",
      "Final time selected > 0.830285084068\n",
      "Final Parameters mean and stdev:[-1.75371822  0.21193589]\n",
      "Final Parameters mean and stdev:[-1.96744588  0.25020225]\n",
      "Final Parameters mean and stdev:[ 11.14658638   0.24062527]\n",
      "Batch single time 4 elapsed time: 33.35156758482117\n",
      "\n",
      "\n",
      "Initial time selected > 0.131419499139\n",
      "Final time selected > 0.0937407564957\n",
      "Final Parameters mean and stdev:[-2.83001195  0.20617545]\n",
      "Final Parameters mean and stdev:[-2.68617475  0.20645901]\n",
      "Final Parameters mean and stdev:[-1.99707809  0.1926878 ]\n",
      "Final Parameters mean and stdev:[ 3.97135324  1.90666702]\n",
      "Final Parameters mean and stdev:[-0.38649963  1.86836976]\n",
      "Final Parameters mean and stdev:[-0.39501084  1.87489527]\n",
      "Batch single time 5 elapsed time: 31.08454384079596\n",
      "\n",
      "\n",
      "LogTotLikelihoods updated\n"
     ]
    },
    {
     "name": "stderr",
     "output_type": "stream",
     "text": [
      "C:\\Program Files\\Anaconda3\\lib\\site-packages\\qinfer\\smc.py:429: ApproximationWarning: Negative weights occured in particle approximation. Smallest weight observed == -0.0014938910526596512. Clipping weights.\n",
      "  warnings.warn(\"Negative weights occured in particle approximation. Smallest weight observed == {}. Clipping weights.\".format(np.min(weights)), ApproximationWarning)\n",
      "C:\\Program Files\\Anaconda3\\lib\\site-packages\\qinfer\\smc.py:429: ApproximationWarning: Negative weights occured in particle approximation. Smallest weight observed == -0.00010847972446149888. Clipping weights.\n",
      "  warnings.warn(\"Negative weights occured in particle approximation. Smallest weight observed == {}. Clipping weights.\".format(np.min(weights)), ApproximationWarning)\n",
      "C:\\Program Files\\Anaconda3\\lib\\site-packages\\qinfer\\smc.py:429: ApproximationWarning: Negative weights occured in particle approximation. Smallest weight observed == -0.0002543676755210555. Clipping weights.\n",
      "  warnings.warn(\"Negative weights occured in particle approximation. Smallest weight observed == {}. Clipping weights.\".format(np.min(weights)), ApproximationWarning)\n",
      "C:\\Program Files\\Anaconda3\\lib\\site-packages\\qinfer\\smc.py:429: ApproximationWarning: Negative weights occured in particle approximation. Smallest weight observed == -0.00022741082851754216. Clipping weights.\n",
      "  warnings.warn(\"Negative weights occured in particle approximation. Smallest weight observed == {}. Clipping weights.\".format(np.min(weights)), ApproximationWarning)\n",
      "C:\\Program Files\\Anaconda3\\lib\\site-packages\\qinfer\\smc.py:429: ApproximationWarning: Negative weights occured in particle approximation. Smallest weight observed == -5.120433244643124e-05. Clipping weights.\n",
      "  warnings.warn(\"Negative weights occured in particle approximation. Smallest weight observed == {}. Clipping weights.\".format(np.min(weights)), ApproximationWarning)\n",
      "C:\\Program Files\\Anaconda3\\lib\\site-packages\\qinfer\\smc.py:429: ApproximationWarning: Negative weights occured in particle approximation. Smallest weight observed == -0.0026453844314430677. Clipping weights.\n",
      "  warnings.warn(\"Negative weights occured in particle approximation. Smallest weight observed == {}. Clipping weights.\".format(np.min(weights)), ApproximationWarning)\n",
      "C:\\Program Files\\Anaconda3\\lib\\site-packages\\qinfer\\smc.py:429: ApproximationWarning: Negative weights occured in particle approximation. Smallest weight observed == -0.0001316457606188322. Clipping weights.\n",
      "  warnings.warn(\"Negative weights occured in particle approximation. Smallest weight observed == {}. Clipping weights.\".format(np.min(weights)), ApproximationWarning)\n",
      "C:\\Program Files\\Anaconda3\\lib\\site-packages\\qinfer\\smc.py:429: ApproximationWarning: Negative weights occured in particle approximation. Smallest weight observed == -0.0006238486399030939. Clipping weights.\n",
      "  warnings.warn(\"Negative weights occured in particle approximation. Smallest weight observed == {}. Clipping weights.\".format(np.min(weights)), ApproximationWarning)\n",
      "C:\\Program Files\\Anaconda3\\lib\\site-packages\\qinfer\\smc.py:429: ApproximationWarning: Negative weights occured in particle approximation. Smallest weight observed == -0.000656705901510451. Clipping weights.\n",
      "  warnings.warn(\"Negative weights occured in particle approximation. Smallest weight observed == {}. Clipping weights.\".format(np.min(weights)), ApproximationWarning)\n"
     ]
    },
    {
     "name": "stdout",
     "output_type": "stream",
     "text": [
      "LogTotLikelihoods updated\n",
      "LogTotLikelihoods updated\n",
      "LogTotLikelihoods updated\n"
     ]
    },
    {
     "name": "stderr",
     "output_type": "stream",
     "text": [
      "C:\\Program Files\\Anaconda3\\lib\\site-packages\\qinfer\\smc.py:285: ApproximationWarning: Extremely small n_ess encountered (8.197086982955351). Resampling is likely to fail. Consider adding particles, or resampling more often.\n",
      "  ApproximationWarning\n"
     ]
    },
    {
     "name": "stdout",
     "output_type": "stream",
     "text": [
      "LogTotLikelihoods updated\n"
     ]
    },
    {
     "name": "stderr",
     "output_type": "stream",
     "text": [
      "C:\\Program Files\\Anaconda3\\lib\\site-packages\\qinfer\\smc.py:285: ApproximationWarning: Extremely small n_ess encountered (4.9742390447074465). Resampling is likely to fail. Consider adding particles, or resampling more often.\n",
      "  ApproximationWarning\n"
     ]
    },
    {
     "name": "stdout",
     "output_type": "stream",
     "text": [
      "LogTotLikelihoods updated\n",
      "New Bayes Factor update! Total elapsed time : 654.0373001164662\n",
      "Total elapsed time for the learning process: 848.0803195620538\n",
      "Remember to adopt the corrct 'pr0fromHahn' definition!!!\n",
      "Initialization Ready\n",
      "Remember to adopt the corrct 'pr0fromHahn' definition!!!\n",
      "Initialization Ready\n",
      "Remember to adopt the corrct 'pr0fromHahn' definition!!!\n",
      "Initialization Ready\n",
      "Remember to adopt the corrct 'pr0fromHahn' definition!!!\n",
      "Initialization Ready\n",
      "Remember to adopt the corrct 'pr0fromHahn' definition!!!\n",
      "Initialization Ready\n",
      "Remember to adopt the corrct 'pr0fromHahn' definition!!!\n",
      "Initialization Ready\n",
      "Initial time selected > 1.95823965042\n",
      "Final time selected > 0.994554330146\n",
      "Final Parameters mean and stdev:[ 1.12341189  0.28763173]\n",
      "Batch single time 0 elapsed time: 37.76560847822111\n",
      "\n",
      "\n",
      "Initial time selected > 3.01772166218\n"
     ]
    },
    {
     "name": "stderr",
     "output_type": "stream",
     "text": [
      "C:\\Program Files\\Anaconda3\\lib\\site-packages\\qinfer\\smc.py:429: ApproximationWarning: Negative weights occured in particle approximation. Smallest weight observed == -0.0008547008547008544. Clipping weights.\n",
      "  warnings.warn(\"Negative weights occured in particle approximation. Smallest weight observed == {}. Clipping weights.\".format(np.min(weights)), ApproximationWarning)\n",
      "C:\\Program Files\\Anaconda3\\lib\\site-packages\\qinfer\\smc.py:429: ApproximationWarning: Negative weights occured in particle approximation. Smallest weight observed == -0.01008064516129032. Clipping weights.\n",
      "  warnings.warn(\"Negative weights occured in particle approximation. Smallest weight observed == {}. Clipping weights.\".format(np.min(weights)), ApproximationWarning)\n",
      "C:\\Program Files\\Anaconda3\\lib\\site-packages\\qinfer\\smc.py:429: ApproximationWarning: Negative weights occured in particle approximation. Smallest weight observed == -0.001866716445771887. Clipping weights.\n",
      "  warnings.warn(\"Negative weights occured in particle approximation. Smallest weight observed == {}. Clipping weights.\".format(np.min(weights)), ApproximationWarning)\n",
      "C:\\Program Files\\Anaconda3\\lib\\site-packages\\qinfer\\smc.py:429: ApproximationWarning: Negative weights occured in particle approximation. Smallest weight observed == -0.0025717959708529805. Clipping weights.\n",
      "  warnings.warn(\"Negative weights occured in particle approximation. Smallest weight observed == {}. Clipping weights.\".format(np.min(weights)), ApproximationWarning)\n",
      "C:\\Program Files\\Anaconda3\\lib\\site-packages\\qinfer\\smc.py:429: ApproximationWarning: Negative weights occured in particle approximation. Smallest weight observed == -0.0004684937924572498. Clipping weights.\n",
      "  warnings.warn(\"Negative weights occured in particle approximation. Smallest weight observed == {}. Clipping weights.\".format(np.min(weights)), ApproximationWarning)\n",
      "C:\\Program Files\\Anaconda3\\lib\\site-packages\\qinfer\\smc.py:429: ApproximationWarning: Negative weights occured in particle approximation. Smallest weight observed == -0.003291278113000546. Clipping weights.\n",
      "  warnings.warn(\"Negative weights occured in particle approximation. Smallest weight observed == {}. Clipping weights.\".format(np.min(weights)), ApproximationWarning)\n",
      "C:\\Program Files\\Anaconda3\\lib\\site-packages\\qinfer\\smc.py:429: ApproximationWarning: Negative weights occured in particle approximation. Smallest weight observed == -0.03918872464764523. Clipping weights.\n",
      "  warnings.warn(\"Negative weights occured in particle approximation. Smallest weight observed == {}. Clipping weights.\".format(np.min(weights)), ApproximationWarning)\n",
      "C:\\Program Files\\Anaconda3\\lib\\site-packages\\qinfer\\utils.py:268: ApproximationWarning: Numerical error in covariance estimation causing positive semidefinite violation.\n",
      "  warnings.warn('Numerical error in covariance estimation causing positive semidefinite violation.', ApproximationWarning)\n",
      "C:\\Program Files\\Anaconda3\\lib\\site-packages\\qinfer\\smc.py:429: ApproximationWarning: Negative weights occured in particle approximation. Smallest weight observed == -0.06361520558572537. Clipping weights.\n",
      "  warnings.warn(\"Negative weights occured in particle approximation. Smallest weight observed == {}. Clipping weights.\".format(np.min(weights)), ApproximationWarning)\n",
      "C:\\Program Files\\Anaconda3\\lib\\site-packages\\qinfer\\smc.py:285: ApproximationWarning: Extremely small n_ess encountered (4.85863211423124). Resampling is likely to fail. Consider adding particles, or resampling more often.\n",
      "  ApproximationWarning\n",
      "C:\\Program Files\\Anaconda3\\lib\\site-packages\\qinfer\\smc.py:429: ApproximationWarning: Negative weights occured in particle approximation. Smallest weight observed == -3.2684613058664934e-18. Clipping weights.\n",
      "  warnings.warn(\"Negative weights occured in particle approximation. Smallest weight observed == {}. Clipping weights.\".format(np.min(weights)), ApproximationWarning)\n"
     ]
    },
    {
     "ename": "RuntimeError",
     "evalue": "All particle weights are zero.",
     "output_type": "error",
     "traceback": [
      "\u001b[0;31m---------------------------------------------------------------------------\u001b[0m",
      "\u001b[0;31mRuntimeError\u001b[0m                              Traceback (most recent call last)",
      "\u001b[0;32m<ipython-input-89-e87ea42e3d45>\u001b[0m in \u001b[0;36m<module>\u001b[0;34m()\u001b[0m\n\u001b[1;32m     22\u001b[0m \u001b[1;33m\u001b[0m\u001b[0m\n\u001b[1;32m     23\u001b[0m     \u001b[0mstart\u001b[0m\u001b[1;33m=\u001b[0m\u001b[0mtime\u001b[0m\u001b[1;33m.\u001b[0m\u001b[0mclock\u001b[0m\u001b[1;33m(\u001b[0m\u001b[1;33m)\u001b[0m\u001b[1;33m\u001b[0m\u001b[0m\n\u001b[0;32m---> 24\u001b[0;31m     \u001b[0mmodeltest\u001b[0m\u001b[1;33m.\u001b[0m\u001b[0mUpdateAllActiveModels\u001b[0m\u001b[1;33m(\u001b[0m\u001b[0mexpnum\u001b[0m\u001b[1;33m=\u001b[0m\u001b[0mmax_expnum\u001b[0m\u001b[1;33m)\u001b[0m\u001b[1;33m\u001b[0m\u001b[0m\n\u001b[0m\u001b[1;32m     25\u001b[0m     \u001b[0mend\u001b[0m\u001b[1;33m=\u001b[0m\u001b[0mtime\u001b[0m\u001b[1;33m.\u001b[0m\u001b[0mclock\u001b[0m\u001b[1;33m(\u001b[0m\u001b[1;33m)\u001b[0m\u001b[1;33m\u001b[0m\u001b[0m\n\u001b[1;32m     26\u001b[0m     \u001b[0mprint\u001b[0m\u001b[1;33m(\u001b[0m\u001b[1;34m'Total elapsed time for the learning process: '\u001b[0m \u001b[1;33m+\u001b[0m \u001b[0mstr\u001b[0m\u001b[1;33m(\u001b[0m\u001b[0mend\u001b[0m\u001b[1;33m-\u001b[0m\u001b[0mstart\u001b[0m\u001b[1;33m)\u001b[0m\u001b[1;33m)\u001b[0m\u001b[1;33m\u001b[0m\u001b[0m\n",
      "\u001b[0;32mC:\\Users\\ag15141\\Local Documents\\Cloud\\Dropbox (Qsim)\\QML_share_stateofart\\QMD\\Libraries\\QML_lib\\QMD_Hahn.py\u001b[0m in \u001b[0;36mUpdateAllActiveModels\u001b[0;34m(self, expnum, sigma_threshold, datalikesize)\u001b[0m\n\u001b[1;32m    158\u001b[0m         \u001b[1;32mfor\u001b[0m \u001b[0mi\u001b[0m \u001b[1;32min\u001b[0m \u001b[0mrange\u001b[0m\u001b[1;33m(\u001b[0m\u001b[0mlen\u001b[0m\u001b[1;33m(\u001b[0m\u001b[0mself\u001b[0m\u001b[1;33m.\u001b[0m\u001b[0mModelsList\u001b[0m\u001b[1;33m)\u001b[0m\u001b[1;33m)\u001b[0m\u001b[1;33m:\u001b[0m\u001b[1;33m\u001b[0m\u001b[0m\n\u001b[1;32m    159\u001b[0m             \u001b[0mstart\u001b[0m\u001b[1;33m=\u001b[0m\u001b[0mtime\u001b[0m\u001b[1;33m.\u001b[0m\u001b[0mclock\u001b[0m\u001b[1;33m(\u001b[0m\u001b[1;33m)\u001b[0m\u001b[1;33m\u001b[0m\u001b[0m\n\u001b[0;32m--> 160\u001b[0;31m             \u001b[0mself\u001b[0m\u001b[1;33m.\u001b[0m\u001b[0mModelsList\u001b[0m\u001b[1;33m[\u001b[0m\u001b[0mi\u001b[0m\u001b[1;33m]\u001b[0m\u001b[1;33m.\u001b[0m\u001b[0mUpdateModel\u001b[0m\u001b[1;33m(\u001b[0m\u001b[0mn_experiments\u001b[0m\u001b[1;33m=\u001b[0m\u001b[0mexpnum\u001b[0m\u001b[1;33m,\u001b[0m\u001b[0msigma_threshold\u001b[0m\u001b[1;33m=\u001b[0m\u001b[0msigma_threshold\u001b[0m\u001b[1;33m,\u001b[0m\u001b[0mcheckloss\u001b[0m\u001b[1;33m=\u001b[0m\u001b[0mself\u001b[0m\u001b[1;33m.\u001b[0m\u001b[0mcheckloss\u001b[0m\u001b[1;33m)\u001b[0m\u001b[1;33m\u001b[0m\u001b[0m\n\u001b[0m\u001b[1;32m    161\u001b[0m \u001b[1;33m\u001b[0m\u001b[0m\n\u001b[1;32m    162\u001b[0m             \u001b[0mend\u001b[0m\u001b[1;33m=\u001b[0m\u001b[0mtime\u001b[0m\u001b[1;33m.\u001b[0m\u001b[0mclock\u001b[0m\u001b[1;33m(\u001b[0m\u001b[1;33m)\u001b[0m\u001b[1;33m\u001b[0m\u001b[0m\n",
      "\u001b[0;32mC:\\Users\\ag15141\\Local Documents\\Cloud\\Dropbox (Qsim)\\QML_share_stateofart\\QMD\\Libraries\\QML_lib\\QML_Hahn.py\u001b[0m in \u001b[0;36mUpdateModel\u001b[0;34m(self, n_experiments, sigma_threshold, checkloss)\u001b[0m\n\u001b[1;32m    127\u001b[0m             \u001b[1;31m#print(str(self.GenSimModel.ProbeState))\u001b[0m\u001b[1;33m\u001b[0m\u001b[1;33m\u001b[0m\u001b[0m\n\u001b[1;32m    128\u001b[0m \u001b[1;33m\u001b[0m\u001b[0m\n\u001b[0;32m--> 129\u001b[0;31m             \u001b[0mself\u001b[0m\u001b[1;33m.\u001b[0m\u001b[0mUpdater\u001b[0m\u001b[1;33m.\u001b[0m\u001b[0mupdate\u001b[0m\u001b[1;33m(\u001b[0m\u001b[0mself\u001b[0m\u001b[1;33m.\u001b[0m\u001b[0mDatum\u001b[0m\u001b[1;33m,\u001b[0m \u001b[0mself\u001b[0m\u001b[1;33m.\u001b[0m\u001b[0mExperiment\u001b[0m\u001b[1;33m)\u001b[0m\u001b[1;33m\u001b[0m\u001b[0m\n\u001b[0m\u001b[1;32m    130\u001b[0m \u001b[1;33m\u001b[0m\u001b[0m\n\u001b[1;32m    131\u001b[0m             \u001b[1;32mif\u001b[0m \u001b[0mlen\u001b[0m\u001b[1;33m(\u001b[0m\u001b[0mself\u001b[0m\u001b[1;33m.\u001b[0m\u001b[0mExperiment\u001b[0m\u001b[1;33m[\u001b[0m\u001b[1;36m0\u001b[0m\u001b[1;33m]\u001b[0m\u001b[1;33m)\u001b[0m \u001b[1;33m<\u001b[0m \u001b[1;36m3\u001b[0m\u001b[1;33m:\u001b[0m\u001b[1;33m\u001b[0m\u001b[0m\n",
      "\u001b[0;32mC:\\Program Files\\Anaconda3\\lib\\site-packages\\qinfer\\smc.py\u001b[0m in \u001b[0;36mupdate\u001b[0;34m(self, outcome, expparams, check_for_resample)\u001b[0m\n\u001b[1;32m    441\u001b[0m                 \u001b[0mwarnings\u001b[0m\u001b[1;33m.\u001b[0m\u001b[0mwarn\u001b[0m\u001b[1;33m(\u001b[0m\u001b[1;34m\"All particle weights are zero. This will very likely fail quite badly.\"\u001b[0m\u001b[1;33m,\u001b[0m \u001b[0mApproximationWarning\u001b[0m\u001b[1;33m)\u001b[0m\u001b[1;33m\u001b[0m\u001b[0m\n\u001b[1;32m    442\u001b[0m             \u001b[1;32melif\u001b[0m \u001b[0mself\u001b[0m\u001b[1;33m.\u001b[0m\u001b[0m_zero_weight_policy\u001b[0m \u001b[1;33m==\u001b[0m \u001b[1;34m'error'\u001b[0m\u001b[1;33m:\u001b[0m\u001b[1;33m\u001b[0m\u001b[0m\n\u001b[0;32m--> 443\u001b[0;31m                 \u001b[1;32mraise\u001b[0m \u001b[0mRuntimeError\u001b[0m\u001b[1;33m(\u001b[0m\u001b[1;34m\"All particle weights are zero.\"\u001b[0m\u001b[1;33m)\u001b[0m\u001b[1;33m\u001b[0m\u001b[0m\n\u001b[0m\u001b[1;32m    444\u001b[0m             \u001b[1;32melif\u001b[0m \u001b[0mself\u001b[0m\u001b[1;33m.\u001b[0m\u001b[0m_zero_weight_policy\u001b[0m \u001b[1;33m==\u001b[0m \u001b[1;34m'reset'\u001b[0m\u001b[1;33m:\u001b[0m\u001b[1;33m\u001b[0m\u001b[0m\n\u001b[1;32m    445\u001b[0m                 \u001b[0mwarnings\u001b[0m\u001b[1;33m.\u001b[0m\u001b[0mwarn\u001b[0m\u001b[1;33m(\u001b[0m\u001b[1;34m\"All particle weights are zero. Resetting from initial prior.\"\u001b[0m\u001b[1;33m,\u001b[0m \u001b[0mApproximationWarning\u001b[0m\u001b[1;33m)\u001b[0m\u001b[1;33m\u001b[0m\u001b[0m\n",
      "\u001b[0;31mRuntimeError\u001b[0m: All particle weights are zero."
     ]
    }
   ],
   "source": [
    "nruns = 10\n",
    "pool_len = 20\n",
    "max_expnum = 30\n",
    "\n",
    "collectTrueOpList = []\n",
    "collectTrueNames = []\n",
    "collectTrueParams = []\n",
    "\n",
    "collectEstimParams = []\n",
    "\n",
    "collectKfactorsDict = []\n",
    "collectLogL = []\n",
    "\n",
    "\n",
    "for run in range(nruns):\n",
    "    modeltest = qmd.ModelsDevelopmentClass(HahnTestingList, allnameslist, checkloss=True, gaussian = False, trotter=False, IQLE=False)\n",
    "    collectTrueNames.append(modeltest.TrueNames)\n",
    "    \n",
    "    modeltest.InitialiseAllActiveModels()\n",
    "    \n",
    "    collectTrueParams.append(modeltest.TrueParamsList)\n",
    "    \n",
    "    start=time.clock()\n",
    "    modeltest.UpdateAllActiveModels(expnum=max_expnum)\n",
    "    end=time.clock()\n",
    "    print('Total elapsed time for the learning process: ' + str(end-start))\n",
    "    \n",
    "    collectEstimParams.append([modeltest.ModelsList[i].NewEval for i in range(len(modeltest.ModelsList)) ])\n",
    "    \n",
    "    collectKfactorsDict.append(modeltest.ComputeAllBayesFactors(fromLogL = True))\n",
    "    \n",
    "    collectLogL.append([modeltest.ModelsList[i].KLogTotLikelihood for i in range(len(modeltest.ModelsList)) ])\n",
    "    "
   ]
  },
  {
   "cell_type": "code",
   "execution_count": 95,
   "metadata": {
    "collapsed": false
   },
   "outputs": [
    {
     "data": {
      "text/plain": [
       "[[-70.276623257074107,\n",
       "  -629.99902254401024,\n",
       "  -54.257107987785588,\n",
       "  -75.391614846988929,\n",
       "  -82.429335491594884,\n",
       "  -44.136259552682247],\n",
       " [-144.99761516022195,\n",
       "  -874.48948543902429,\n",
       "  -76.25821743334599,\n",
       "  -105.79005129461859,\n",
       "  -79.70901238685434,\n",
       "  -62.385424071412437],\n",
       " [-120.95883470604647,\n",
       "  -524.74200851584305,\n",
       "  -62.889659490003879,\n",
       "  -118.38672451838589,\n",
       "  -92.45151456616864,\n",
       "  -48.513353610330952]]"
      ]
     },
     "execution_count": 95,
     "metadata": {},
     "output_type": "execute_result"
    }
   ],
   "source": [
    "collectLogL"
   ]
  },
  {
   "cell_type": "markdown",
   "metadata": {},
   "source": [
    "## Data export"
   ]
  },
  {
   "cell_type": "code",
   "execution_count": 45,
   "metadata": {
    "collapsed": true
   },
   "outputs": [],
   "source": [
    "import pickle\n",
    "PIK = \"testQMD_QLE_epochs\"+str(max_expnum)+\"pool\"+str(pool_len)+\".dat\""
   ]
  },
  {
   "cell_type": "code",
   "execution_count": 46,
   "metadata": {
    "collapsed": true
   },
   "outputs": [],
   "source": [
    "data = [collectTrueOpList, collectTrueNames, collectTrueParams, collectEstimParams, collectKfactorsDict, collectLogL]\n",
    "with open(PIK, \"wb\") as f:\n",
    "    pickle.dump(data, f)"
   ]
  },
  {
   "cell_type": "markdown",
   "metadata": {},
   "source": [
    "## Data import"
   ]
  },
  {
   "cell_type": "code",
   "execution_count": 728,
   "metadata": {
    "collapsed": true
   },
   "outputs": [],
   "source": [
    "import pickle\n",
    "\n",
    "with open(PIK, \"rb\") as f:\n",
    "    dataold = pickle.load(f)"
   ]
  },
  {
   "cell_type": "markdown",
   "metadata": {},
   "source": [
    "## Overall results \n",
    "#### applying directly the champion rule as the highest BayesFactor"
   ]
  },
  {
   "cell_type": "code",
   "execution_count": 90,
   "metadata": {
    "collapsed": false
   },
   "outputs": [],
   "source": [
    "myModelNames = modeltest.ModelNames"
   ]
  },
  {
   "cell_type": "code",
   "execution_count": 91,
   "metadata": {
    "collapsed": false
   },
   "outputs": [
    {
     "data": {
      "text/plain": [
       "'2q_full'"
      ]
     },
     "execution_count": 91,
     "metadata": {},
     "output_type": "execute_result"
    }
   ],
   "source": [
    "myModelNames[np.argmax(np.array(collectLogL[0]))]"
   ]
  },
  {
   "cell_type": "code",
   "execution_count": 92,
   "metadata": {
    "collapsed": false
   },
   "outputs": [
    {
     "data": {
      "text/plain": [
       "3"
      ]
     },
     "execution_count": 92,
     "metadata": {},
     "output_type": "execute_result"
    }
   ],
   "source": [
    "len(collectKfactorsDict)"
   ]
  },
  {
   "cell_type": "code",
   "execution_count": 94,
   "metadata": {
    "collapsed": false
   },
   "outputs": [
    {
     "name": "stdout",
     "output_type": "stream",
     "text": [
      "Correctly estimated model in 100.0% of cases\n"
     ]
    }
   ],
   "source": [
    "performance = []\n",
    "for ids in range(3):\n",
    "    performance.append(collectTrueNames[ids]==myModelNames[np.argmax(np.array(collectLogL[ids]))])\n",
    "print(\"Correctly estimated model in \" + str(100*sum(performance)/len(performance)) + \"% of cases\")"
   ]
  },
  {
   "cell_type": "code",
   "execution_count": 400,
   "metadata": {
    "collapsed": false
   },
   "outputs": [
    {
     "data": {
      "text/plain": [
       "'2'"
      ]
     },
     "execution_count": 400,
     "metadata": {},
     "output_type": "execute_result"
    }
   ],
   "source": [
    "collectTrueNames[0][0]"
   ]
  },
  {
   "cell_type": "code",
   "execution_count": 402,
   "metadata": {
    "collapsed": false
   },
   "outputs": [
    {
     "data": {
      "text/plain": [
       "[-42.884404946492481, -123.75660364127944, -48.750543625361544]"
      ]
     },
     "execution_count": 402,
     "metadata": {},
     "output_type": "execute_result"
    }
   ],
   "source": [
    "collectLogL[1]"
   ]
  },
  {
   "cell_type": "markdown",
   "metadata": {},
   "source": [
    "#### check against tournament rule among Bayes Factors"
   ]
  },
  {
   "cell_type": "code",
   "execution_count": 83,
   "metadata": {
    "collapsed": false
   },
   "outputs": [
    {
     "data": {
      "text/plain": [
       "array([ 0.,  1.,  0.,  2.,  0.,  3.,  0.,  4.,  0.,  5.,  0.,  6.,  1.,\n",
       "        0.,  1.,  2.,  1.,  3.,  1.,  4.,  1.,  5.,  1.,  6.,  2.,  0.,\n",
       "        2.,  1.,  2.,  3.,  2.,  4.,  2.,  5.,  2.,  6.,  3.,  0.,  3.,\n",
       "        1.,  3.,  2.,  3.,  4.,  3.,  5.,  3.,  6.,  4.,  0.,  4.,  1.,\n",
       "        4.,  2.,  4.,  3.,  4.,  5.,  4.,  6.,  5.,  0.,  5.,  1.,  5.,\n",
       "        2.,  5.,  3.,  5.,  4.,  5.,  6.,  6.,  0.,  6.,  1.,  6.,  2.,\n",
       "        6.,  3.,  6.,  4.,  6.,  5.])"
      ]
     },
     "execution_count": 83,
     "metadata": {},
     "output_type": "execute_result"
    }
   ],
   "source": [
    "prooutlst = bayf.getProLst(len(modeltest.AvailableModsOpList))"
   ]
  },
  {
   "cell_type": "code",
   "execution_count": 127,
   "metadata": {
    "collapsed": false
   },
   "outputs": [
    {
     "name": "stdout",
     "output_type": "stream",
     "text": [
      "Correctly estimated model in 63.0% of cases\n"
     ]
    }
   ],
   "source": [
    "performance = []\n",
    "for ids in range(100):\n",
    "    performance.append(collectTrueNames[ids][0]== ChampbyTourn(myModelNames, collectLogL[ids]) )\n",
    "print(\"Correctly estimated model in \" + str(100*sum(performance)/len(performance)) + \"% of cases\")"
   ]
  },
  {
   "cell_type": "markdown",
   "metadata": {},
   "source": [
    "### Interpreting failures"
   ]
  },
  {
   "cell_type": "code",
   "execution_count": 368,
   "metadata": {
    "collapsed": false
   },
   "outputs": [
    {
     "data": {
      "text/html": [
       "<div>\n",
       "<table border=\"1\" class=\"dataframe\">\n",
       "  <thead>\n",
       "    <tr style=\"text-align: right;\">\n",
       "      <th></th>\n",
       "      <th>1op</th>\n",
       "      <th>2op</th>\n",
       "      <th>3op</th>\n",
       "    </tr>\n",
       "  </thead>\n",
       "  <tbody>\n",
       "    <tr>\n",
       "      <th>Failure Rate</th>\n",
       "      <td>0.0</td>\n",
       "      <td>0.0</td>\n",
       "      <td>0.0</td>\n",
       "    </tr>\n",
       "    <tr>\n",
       "      <th>Failed with 1 extra operator</th>\n",
       "      <td>0.0</td>\n",
       "      <td>0.0</td>\n",
       "      <td>0.0</td>\n",
       "    </tr>\n",
       "    <tr>\n",
       "      <th>Failed with 1 less operator</th>\n",
       "      <td>0.0</td>\n",
       "      <td>0.0</td>\n",
       "      <td>0.0</td>\n",
       "    </tr>\n",
       "  </tbody>\n",
       "</table>\n",
       "</div>"
      ],
      "text/plain": [
       "                              1op  2op  3op\n",
       "Failure Rate                  0.0  0.0  0.0\n",
       "Failed with 1 extra operator  0.0  0.0  0.0\n",
       "Failed with 1 less operator   0.0  0.0  0.0"
      ]
     },
     "execution_count": 368,
     "metadata": {},
     "output_type": "execute_result"
    }
   ],
   "source": [
    "import pandas as pd\n",
    "perf_metrics=[\"Failure Rate\", \"Failed with 1 extra operator\", \"Failed with 1 less operator\"]\n",
    "n_ops = [\"1op\", \"2op\", \"3op\"]\n",
    "output_df = pd.DataFrame(np.zeros([len(perf_metrics),len(n_ops)],dtype='float32'), index=perf_metrics, columns=n_ops)\n",
    "output_df"
   ]
  },
  {
   "cell_type": "code",
   "execution_count": 369,
   "metadata": {
    "collapsed": false
   },
   "outputs": [
    {
     "data": {
      "text/html": [
       "<div>\n",
       "<table border=\"1\" class=\"dataframe\">\n",
       "  <thead>\n",
       "    <tr style=\"text-align: right;\">\n",
       "      <th></th>\n",
       "      <th>sx_</th>\n",
       "      <th>sy_</th>\n",
       "      <th>sz_</th>\n",
       "      <th>sy_sx_</th>\n",
       "      <th>sz_sx_</th>\n",
       "      <th>sy_sz_</th>\n",
       "      <th>sy_sz_sx_</th>\n",
       "    </tr>\n",
       "  </thead>\n",
       "  <tbody>\n",
       "    <tr>\n",
       "      <th>sx_</th>\n",
       "      <td>0.0</td>\n",
       "      <td>0.0</td>\n",
       "      <td>0.0</td>\n",
       "      <td>0.0</td>\n",
       "      <td>0.0</td>\n",
       "      <td>0.0</td>\n",
       "      <td>0.0</td>\n",
       "    </tr>\n",
       "    <tr>\n",
       "      <th>sy_</th>\n",
       "      <td>0.0</td>\n",
       "      <td>0.0</td>\n",
       "      <td>0.0</td>\n",
       "      <td>0.0</td>\n",
       "      <td>0.0</td>\n",
       "      <td>0.0</td>\n",
       "      <td>0.0</td>\n",
       "    </tr>\n",
       "    <tr>\n",
       "      <th>sz_</th>\n",
       "      <td>0.0</td>\n",
       "      <td>0.0</td>\n",
       "      <td>0.0</td>\n",
       "      <td>0.0</td>\n",
       "      <td>0.0</td>\n",
       "      <td>0.0</td>\n",
       "      <td>0.0</td>\n",
       "    </tr>\n",
       "    <tr>\n",
       "      <th>sy_sx_</th>\n",
       "      <td>0.0</td>\n",
       "      <td>0.0</td>\n",
       "      <td>0.0</td>\n",
       "      <td>0.0</td>\n",
       "      <td>0.0</td>\n",
       "      <td>0.0</td>\n",
       "      <td>0.0</td>\n",
       "    </tr>\n",
       "    <tr>\n",
       "      <th>sz_sx_</th>\n",
       "      <td>0.0</td>\n",
       "      <td>0.0</td>\n",
       "      <td>0.0</td>\n",
       "      <td>0.0</td>\n",
       "      <td>0.0</td>\n",
       "      <td>0.0</td>\n",
       "      <td>0.0</td>\n",
       "    </tr>\n",
       "    <tr>\n",
       "      <th>sy_sz_</th>\n",
       "      <td>0.0</td>\n",
       "      <td>0.0</td>\n",
       "      <td>0.0</td>\n",
       "      <td>0.0</td>\n",
       "      <td>0.0</td>\n",
       "      <td>0.0</td>\n",
       "      <td>0.0</td>\n",
       "    </tr>\n",
       "    <tr>\n",
       "      <th>sy_sz_sx_</th>\n",
       "      <td>0.0</td>\n",
       "      <td>0.0</td>\n",
       "      <td>0.0</td>\n",
       "      <td>0.0</td>\n",
       "      <td>0.0</td>\n",
       "      <td>0.0</td>\n",
       "      <td>0.0</td>\n",
       "    </tr>\n",
       "  </tbody>\n",
       "</table>\n",
       "</div>"
      ],
      "text/plain": [
       "           sx_  sy_  sz_  sy_sx_  sz_sx_  sy_sz_  sy_sz_sx_\n",
       "sx_        0.0  0.0  0.0     0.0     0.0     0.0        0.0\n",
       "sy_        0.0  0.0  0.0     0.0     0.0     0.0        0.0\n",
       "sz_        0.0  0.0  0.0     0.0     0.0     0.0        0.0\n",
       "sy_sx_     0.0  0.0  0.0     0.0     0.0     0.0        0.0\n",
       "sz_sx_     0.0  0.0  0.0     0.0     0.0     0.0        0.0\n",
       "sy_sz_     0.0  0.0  0.0     0.0     0.0     0.0        0.0\n",
       "sy_sz_sx_  0.0  0.0  0.0     0.0     0.0     0.0        0.0"
      ]
     },
     "execution_count": 369,
     "metadata": {},
     "output_type": "execute_result"
    }
   ],
   "source": [
    "true_mods = myModelNames\n",
    "est_mods = myModelNames\n",
    "detail_df = pd.DataFrame(np.zeros([len(est_mods),len(true_mods)],dtype='float32'), index=true_mods, columns=est_mods)\n",
    "detail_df"
   ]
  },
  {
   "cell_type": "code",
   "execution_count": 370,
   "metadata": {
    "collapsed": false,
    "scrolled": true
   },
   "outputs": [
    {
     "name": "stdout",
     "output_type": "stream",
     "text": [
      "True model: sy_sz_sx_\tbut estimated model: sy_sx_\n",
      "True model: sy_sz_sx_\tbut estimated model: sx_\n",
      "True model: sy_sz_sx_\tbut estimated model: sy_sx_\n",
      "True model: sx_\tbut estimated model: sz_sx_\n",
      "True model: sy_sz_\tbut estimated model: sy_sz_sx_\n",
      "True model: sz_\tbut estimated model: sy_sz_\n",
      "True model: sy_sz_sx_\tbut estimated model: sz_sx_\n",
      "True model: sy_sz_sx_\tbut estimated model: sy_sz_\n",
      "True model: sx_\tbut estimated model: sz_sx_\n",
      "True model: sy_sx_\tbut estimated model: sy_sz_sx_\n",
      "True model: sy_sx_\tbut estimated model: sy_sz_sx_\n",
      "True model: sy_sz_sx_\tbut estimated model: sy_sz_\n",
      "True model: sy_sx_\tbut estimated model: sy_sz_sx_\n",
      "True model: sy_sz_sx_\tbut estimated model: sx_\n",
      "True model: sy_sx_\tbut estimated model: sy_sz_sx_\n",
      "True model: sz_sx_\tbut estimated model: sy_sz_sx_\n",
      "True model: sx_\tbut estimated model: sy_sx_\n",
      "True model: sz_\tbut estimated model: sy_sz_\n",
      "True model: sy_sz_sx_\tbut estimated model: sx_\n",
      "True model: sx_\tbut estimated model: sz_sx_\n",
      "True model: sy_sz_sx_\tbut estimated model: sy_sz_\n",
      "True model: sy_sz_sx_\tbut estimated model: sz_sx_\n",
      "True model: sy_sz_sx_\tbut estimated model: sx_\n",
      "True model: sz_sx_\tbut estimated model: sy_sz_\n",
      "True model: sy_sx_\tbut estimated model: sx_\n",
      "True model: sy_sz_sx_\tbut estimated model: sy_sx_\n",
      "True model: sx_\tbut estimated model: sz_sx_\n",
      "True model: sy_sz_sx_\tbut estimated model: sy_sx_\n",
      "True model: sz_sx_\tbut estimated model: sy_sz_sx_\n",
      "True model: sy_sz_sx_\tbut estimated model: sx_\n",
      "True model: sy_sz_sx_\tbut estimated model: sy_\n",
      "True model: sx_\tbut estimated model: sz_sx_\n",
      "True model: sy_sz_sx_\tbut estimated model: sy_sx_\n",
      "True model: sy_sz_sx_\tbut estimated model: sz_\n",
      "True model: sy_sx_\tbut estimated model: sy_sz_\n",
      "True model: sy_sz_sx_\tbut estimated model: sz_sx_\n",
      "True model: sy_sz_sx_\tbut estimated model: sy_sx_\n"
     ]
    }
   ],
   "source": [
    "length_test_mods = []\n",
    "length_fail_mods = []\n",
    "more_complex_fails = []\n",
    "model_lengths = 3\n",
    "\n",
    "for ids in range(100):\n",
    "    est_name = str(myModelNames[np.argmax(np.array(collectLogL[ids]))])\n",
    "    true_name = str(collectTrueNames[ids][0])\n",
    "    est_ops = est_name.split(\"_\")[0:-1]\n",
    "    true_ops = true_name.split(\"_\")[0:-1]\n",
    "    length_test_mods.append(int(len(true_name)/model_lengths))\n",
    "    \n",
    "    detail_df.loc[true_name, est_name] += 1\n",
    "    \n",
    "    if true_name != est_name:\n",
    "        length_fail_mods.append(int(len(true_name)/model_lengths))\n",
    "        \n",
    "        if (set(est_ops)>set(true_ops)) and (len(est_ops)==len(true_ops)+1):\n",
    "            output_df.loc[\"Failed with 1 extra operator\",str(length_fail_mods[-1])+\"op\"] += 1\n",
    "            \n",
    "        if (set(true_ops)>set(est_ops)) and (len(true_ops)==len(est_ops)+1):\n",
    "            output_df.loc[\"Failed with 1 less operator\",str(length_fail_mods[-1])+\"op\"] += 1\n",
    "        \n",
    "        print(\"True model: \" + true_name + \n",
    "              #\"\\twith True params: \" + str(collectTrueParams[ids]) +\n",
    "              \"\\tbut estimated model: \" + est_name)"
   ]
  },
  {
   "cell_type": "code",
   "execution_count": 371,
   "metadata": {
    "collapsed": false
   },
   "outputs": [],
   "source": [
    "for mod_len in range(3):\n",
    "    opstep = str(mod_len+1)+\"op\"\n",
    "    rate = length_fail_mods.count(mod_len+1)\n",
    "    output_df[opstep][0] = rate\n",
    "    output_df[opstep][:] /= length_test_mods.count(mod_len+1)\n",
    "    "
   ]
  },
  {
   "cell_type": "code",
   "execution_count": 372,
   "metadata": {
    "collapsed": false
   },
   "outputs": [
    {
     "data": {
      "text/html": [
       "<div>\n",
       "<table border=\"1\" class=\"dataframe\">\n",
       "  <thead>\n",
       "    <tr style=\"text-align: right;\">\n",
       "      <th></th>\n",
       "      <th>1op</th>\n",
       "      <th>2op</th>\n",
       "      <th>3op</th>\n",
       "    </tr>\n",
       "  </thead>\n",
       "  <tbody>\n",
       "    <tr>\n",
       "      <th>Failure Rate</th>\n",
       "      <td>0.242424</td>\n",
       "      <td>0.285714</td>\n",
       "      <td>0.59375</td>\n",
       "    </tr>\n",
       "    <tr>\n",
       "      <th>Failed with 1 extra operator</th>\n",
       "      <td>0.242424</td>\n",
       "      <td>0.200000</td>\n",
       "      <td>0.00000</td>\n",
       "    </tr>\n",
       "    <tr>\n",
       "      <th>Failed with 1 less operator</th>\n",
       "      <td>0.000000</td>\n",
       "      <td>0.028571</td>\n",
       "      <td>0.37500</td>\n",
       "    </tr>\n",
       "  </tbody>\n",
       "</table>\n",
       "</div>"
      ],
      "text/plain": [
       "                                   1op       2op      3op\n",
       "Failure Rate                  0.242424  0.285714  0.59375\n",
       "Failed with 1 extra operator  0.242424  0.200000  0.00000\n",
       "Failed with 1 less operator   0.000000  0.028571  0.37500"
      ]
     },
     "execution_count": 372,
     "metadata": {},
     "output_type": "execute_result"
    }
   ],
   "source": [
    "output_df"
   ]
  },
  {
   "cell_type": "code",
   "execution_count": 373,
   "metadata": {
    "collapsed": false
   },
   "outputs": [
    {
     "data": {
      "text/html": [
       "<div>\n",
       "<table border=\"1\" class=\"dataframe\">\n",
       "  <thead>\n",
       "    <tr style=\"text-align: right;\">\n",
       "      <th></th>\n",
       "      <th>sx_</th>\n",
       "      <th>sy_</th>\n",
       "      <th>sz_</th>\n",
       "      <th>sy_sx_</th>\n",
       "      <th>sz_sx_</th>\n",
       "      <th>sy_sz_</th>\n",
       "      <th>sy_sz_sx_</th>\n",
       "    </tr>\n",
       "  </thead>\n",
       "  <tbody>\n",
       "    <tr>\n",
       "      <th>sx_</th>\n",
       "      <td>4.0</td>\n",
       "      <td>0.0</td>\n",
       "      <td>0.0</td>\n",
       "      <td>1.0</td>\n",
       "      <td>5.0</td>\n",
       "      <td>0.0</td>\n",
       "      <td>0.0</td>\n",
       "    </tr>\n",
       "    <tr>\n",
       "      <th>sy_</th>\n",
       "      <td>0.0</td>\n",
       "      <td>14.0</td>\n",
       "      <td>0.0</td>\n",
       "      <td>0.0</td>\n",
       "      <td>0.0</td>\n",
       "      <td>0.0</td>\n",
       "      <td>0.0</td>\n",
       "    </tr>\n",
       "    <tr>\n",
       "      <th>sz_</th>\n",
       "      <td>0.0</td>\n",
       "      <td>0.0</td>\n",
       "      <td>7.0</td>\n",
       "      <td>0.0</td>\n",
       "      <td>0.0</td>\n",
       "      <td>2.0</td>\n",
       "      <td>0.0</td>\n",
       "    </tr>\n",
       "    <tr>\n",
       "      <th>sy_sx_</th>\n",
       "      <td>1.0</td>\n",
       "      <td>0.0</td>\n",
       "      <td>0.0</td>\n",
       "      <td>7.0</td>\n",
       "      <td>0.0</td>\n",
       "      <td>1.0</td>\n",
       "      <td>4.0</td>\n",
       "    </tr>\n",
       "    <tr>\n",
       "      <th>sz_sx_</th>\n",
       "      <td>0.0</td>\n",
       "      <td>0.0</td>\n",
       "      <td>0.0</td>\n",
       "      <td>0.0</td>\n",
       "      <td>6.0</td>\n",
       "      <td>1.0</td>\n",
       "      <td>2.0</td>\n",
       "    </tr>\n",
       "    <tr>\n",
       "      <th>sy_sz_</th>\n",
       "      <td>0.0</td>\n",
       "      <td>0.0</td>\n",
       "      <td>0.0</td>\n",
       "      <td>0.0</td>\n",
       "      <td>0.0</td>\n",
       "      <td>12.0</td>\n",
       "      <td>1.0</td>\n",
       "    </tr>\n",
       "    <tr>\n",
       "      <th>sy_sz_sx_</th>\n",
       "      <td>5.0</td>\n",
       "      <td>1.0</td>\n",
       "      <td>1.0</td>\n",
       "      <td>6.0</td>\n",
       "      <td>3.0</td>\n",
       "      <td>3.0</td>\n",
       "      <td>13.0</td>\n",
       "    </tr>\n",
       "  </tbody>\n",
       "</table>\n",
       "</div>"
      ],
      "text/plain": [
       "           sx_   sy_  sz_  sy_sx_  sz_sx_  sy_sz_  sy_sz_sx_\n",
       "sx_        4.0   0.0  0.0     1.0     5.0     0.0        0.0\n",
       "sy_        0.0  14.0  0.0     0.0     0.0     0.0        0.0\n",
       "sz_        0.0   0.0  7.0     0.0     0.0     2.0        0.0\n",
       "sy_sx_     1.0   0.0  0.0     7.0     0.0     1.0        4.0\n",
       "sz_sx_     0.0   0.0  0.0     0.0     6.0     1.0        2.0\n",
       "sy_sz_     0.0   0.0  0.0     0.0     0.0    12.0        1.0\n",
       "sy_sz_sx_  5.0   1.0  1.0     6.0     3.0     3.0       13.0"
      ]
     },
     "execution_count": 373,
     "metadata": {},
     "output_type": "execute_result"
    }
   ],
   "source": [
    "detail_df"
   ]
  },
  {
   "cell_type": "markdown",
   "metadata": {},
   "source": [
    "### Step-by-step checking"
   ]
  },
  {
   "cell_type": "code",
   "execution_count": 128,
   "metadata": {
    "collapsed": false
   },
   "outputs": [
    {
     "name": "stdout",
     "output_type": "stream",
     "text": [
      "True model: 'sz_sx_'\n"
     ]
    }
   ],
   "source": [
    "ids = 0\n",
    "print(\"True model: \" + repr(collectTrueNames[ids][0]))"
   ]
  },
  {
   "cell_type": "code",
   "execution_count": 138,
   "metadata": {
    "collapsed": false
   },
   "outputs": [
    {
     "name": "stdout",
     "output_type": "stream",
     "text": [
      "Best model found by Likelihood Max: 'sz_sx_'\n"
     ]
    }
   ],
   "source": [
    "print(\"Best model found by Likelihood Max: \" + repr(myModelNames[np.argmax(np.array(collectLogL[ids]))]) )"
   ]
  },
  {
   "cell_type": "code",
   "execution_count": 140,
   "metadata": {
    "collapsed": false
   },
   "outputs": [
    {
     "name": "stdout",
     "output_type": "stream",
     "text": [
      "Best model found by Tournament: 'sz_sx_'\n"
     ]
    }
   ],
   "source": [
    "print(\"Best model found by Tournament: \" + repr(ChampbyTourn(myModelNames, collectLogL[ids])))"
   ]
  },
  {
   "cell_type": "code",
   "execution_count": 130,
   "metadata": {
    "collapsed": false
   },
   "outputs": [
    {
     "data": {
      "text/plain": [
       "array([[ 0.51707507,  0.29320623]])"
      ]
     },
     "execution_count": 130,
     "metadata": {},
     "output_type": "execute_result"
    }
   ],
   "source": [
    "collectTrueParams[ids]"
   ]
  },
  {
   "cell_type": "code",
   "execution_count": 134,
   "metadata": {
    "collapsed": false
   },
   "outputs": [
    {
     "data": {
      "text/plain": [
       "[array([ 0.03783763]),\n",
       " array([-0.2476092]),\n",
       " array([ 0.09036134]),\n",
       " array([ 0.31792165,  0.04013711]),\n",
       " array([ 0.82316908,  0.51020887]),\n",
       " array([-0.34350552,  0.28836693]),\n",
       " array([ 0.53932834, -0.17918401,  0.95925429])]"
      ]
     },
     "execution_count": 134,
     "metadata": {},
     "output_type": "execute_result"
    }
   ],
   "source": [
    "collectEstimParams[ids]"
   ]
  },
  {
   "cell_type": "code",
   "execution_count": 135,
   "metadata": {
    "collapsed": false
   },
   "outputs": [
    {
     "data": {
      "text/plain": [
       "array([[ 0.29320623+0.j,  0.51707507+0.j],\n",
       "       [ 0.51707507+0.j, -0.29320623+0.j]])"
      ]
     },
     "execution_count": 135,
     "metadata": {},
     "output_type": "execute_result"
    }
   ],
   "source": [
    "evo.getH(collectTrueParams[ids], collectTrueOpList[ids])"
   ]
  },
  {
   "cell_type": "code",
   "execution_count": 136,
   "metadata": {
    "collapsed": false
   },
   "outputs": [
    {
     "data": {
      "text/plain": [
       "[-400.41067247020612,\n",
       " -425.74206272176707,\n",
       " -1031.3307759135796,\n",
       " -231.21195917491445,\n",
       " -135.32523752936802,\n",
       " -362.08848718087978,\n",
       " -336.58109053962932]"
      ]
     },
     "execution_count": 136,
     "metadata": {},
     "output_type": "execute_result"
    }
   ],
   "source": [
    "collectLogL[ids]"
   ]
  },
  {
   "cell_type": "code",
   "execution_count": 137,
   "metadata": {
    "collapsed": false,
    "scrolled": true
   },
   "outputs": [
    {
     "data": {
      "text/plain": [
       "{\"['sx_']VS['sy_']\": 100295859666.0164,\n",
       " \"['sx_']VS['sy_sx_']\": 0.0,\n",
       " \"['sx_']VS['sy_sz_']\": 0.0,\n",
       " \"['sx_']VS['sy_sz_sx_']\": 0.0,\n",
       " \"['sx_']VS['sz_']\": 1.0118577148488023e+274,\n",
       " \"['sx_']VS['sz_sx_']\": 0.0,\n",
       " \"['sy_']VS['sx_']\": 9.9704688949486808e-12,\n",
       " \"['sy_']VS['sy_sx_']\": 0.0,\n",
       " \"['sy_']VS['sy_sz_']\": 0.0,\n",
       " \"['sy_']VS['sy_sz_sx_']\": 0.0,\n",
       " \"['sy_']VS['sz_']\": 1.0088728669541018e+263,\n",
       " \"['sy_']VS['sz_sx_']\": 0.0,\n",
       " \"['sy_sx_']VS['sx_']\": 3.0343629663868174e+73,\n",
       " \"['sy_sx_']VS['sy_']\": 3.0433404225248947e+84,\n",
       " \"['sy_sx_']VS['sy_sz_']\": 6.901665769238503e+56,\n",
       " \"['sy_sx_']VS['sy_sz_sx_']\": 5.7707507227335888e+45,\n",
       " \"['sy_sx_']VS['sz_']\": inf,\n",
       " \"['sy_sx_']VS['sz_sx_']\": 0.0,\n",
       " \"['sy_sz_']VS['sx_']\": 43965660868587880.0,\n",
       " \"['sy_sz_']VS['sy_']\": 4.409573752599559e+27,\n",
       " \"['sy_sz_']VS['sy_sx_']\": 0.0,\n",
       " \"['sy_sz_']VS['sy_sz_sx_']\": 8.3614226653594415e-12,\n",
       " \"['sy_sz_']VS['sz_']\": 4.4486993138304217e+290,\n",
       " \"['sy_sz_']VS['sz_sx_']\": 0.0,\n",
       " \"['sy_sz_sx_']VS['sx_']\": 5.2581771630389327e+27,\n",
       " \"['sy_sz_sx_']VS['sy_']\": 5.2737339884320509e+38,\n",
       " \"['sy_sz_sx_']VS['sy_sx_']\": 0.0,\n",
       " \"['sy_sz_sx_']VS['sy_sz_']\": 119597364378.42879,\n",
       " \"['sy_sz_sx_']VS['sz_']\": 5.3205271284630354e+301,\n",
       " \"['sy_sz_sx_']VS['sz_sx_']\": 0.0,\n",
       " \"['sz_']VS['sx_']\": 0.0,\n",
       " \"['sz_']VS['sy_']\": 0.0,\n",
       " \"['sz_']VS['sy_sx_']\": 0.0,\n",
       " \"['sz_']VS['sy_sz_']\": 0.0,\n",
       " \"['sz_']VS['sy_sz_sx_']\": 0.0,\n",
       " \"['sz_']VS['sz_sx_']\": 0.0,\n",
       " \"['sz_sx_']VS['sx_']\": 1.3339563776185255e+115,\n",
       " \"['sz_sx_']VS['sy_']\": 1.3379030165021522e+126,\n",
       " \"['sz_sx_']VS['sy_sx_']\": 4.3961661554514114e+41,\n",
       " \"['sz_sx_']VS['sy_sz_']\": 3.0340869470963843e+98,\n",
       " \"['sz_sx_']VS['sy_sz_sx_']\": 2.5369179018828174e+87,\n",
       " \"['sz_sx_']VS['sz_']\": inf}"
      ]
     },
     "execution_count": 137,
     "metadata": {},
     "output_type": "execute_result"
    }
   ],
   "source": [
    "collectKfactorsDict[ids]"
   ]
  }
 ],
 "metadata": {
  "anaconda-cloud": {},
  "kernelspec": {
   "display_name": "Python [conda root]",
   "language": "python",
   "name": "conda-root-py"
  },
  "language_info": {
   "codemirror_mode": {
    "name": "ipython",
    "version": 3
   },
   "file_extension": ".py",
   "mimetype": "text/x-python",
   "name": "python",
   "nbconvert_exporter": "python",
   "pygments_lexer": "ipython3",
   "version": "3.5.2"
  }
 },
 "nbformat": 4,
 "nbformat_minor": 0
}
