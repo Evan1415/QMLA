{
 "cells": [
  {
   "cell_type": "markdown",
   "metadata": {},
   "source": [
    "\n",
    "## Testing the \"joblib\"\n",
    "parallelization library\n",
    "\n",
    "### Test result: FAILED\n",
    "low-level parallelization (i.e. at likelihood stage) do not appear to bring substantial advantages in computational time\n",
    "\n",
    "\n",
    "### Possible improvements:\n",
    "\n",
    "1) try out of Ipynotebook if this is still true?"
   ]
  },
  {
   "cell_type": "code",
   "execution_count": 3,
   "metadata": {
    "collapsed": false
   },
   "outputs": [],
   "source": [
    "%matplotlib inline\n",
    "\n",
    "import qinfer as qi\n",
    "#import qutip as qt\n",
    "import numpy as np\n",
    "import scipy as sp\n",
    "from IPython.display import display, Math, Latex\n",
    "from functools import partial\n",
    "import matplotlib.pyplot as plt\n",
    "import importlib as imp\n",
    "\n",
    "import ipyparallel as ipp"
   ]
  },
  {
   "cell_type": "code",
   "execution_count": 4,
   "metadata": {
    "collapsed": true
   },
   "outputs": [],
   "source": [
    "import datetime\n",
    "import sys, os\n",
    "import time as time"
   ]
  },
  {
   "cell_type": "code",
   "execution_count": 7,
   "metadata": {
    "collapsed": false
   },
   "outputs": [],
   "source": [
    "import logging as logging\n",
    "import sys\n",
    "\n",
    "%run ../LoggingCode.py"
   ]
  },
  {
   "cell_type": "code",
   "execution_count": 8,
   "metadata": {
    "collapsed": false
   },
   "outputs": [
    {
     "name": "stdout",
     "output_type": "stream",
     "text": [
      "Files will be saved in:\n",
      "C:\\Users\\ag15141\\Local Documents\\Cloud\\Dropbox (Qsim)\\QML_share_stateofart\\QMD\\testing_notebooks\\tests\\T\n"
     ]
    }
   ],
   "source": [
    "# tell the user where files will be saved\n",
    "dire = os.getcwd()\n",
    "dire = dire+\"/tests/T\"\n",
    "dire = os.path.normpath(dire)\n",
    "print('Files will be saved in:')\n",
    "print(dire)"
   ]
  },
  {
   "cell_type": "code",
   "execution_count": 9,
   "metadata": {
    "collapsed": true
   },
   "outputs": [],
   "source": [
    "# Add personalized library to PYTHONPATH\n",
    "sys.path.append(os.path.join(\"..\",\"Libraries\",\"QML_lib\"))"
   ]
  },
  {
   "cell_type": "code",
   "execution_count": 10,
   "metadata": {
    "collapsed": false
   },
   "outputs": [],
   "source": [
    "from Norms import *\n",
    "from IOfuncts import *\n",
    "from EvalLoss import *\n",
    "\n",
    "import ProbeStates as pros\n",
    "import multiPGH as mpgh\n",
    "import parGenSim_IQLE as gsi\n",
    "import Evo as evo"
   ]
  },
  {
   "cell_type": "markdown",
   "metadata": {},
   "source": [
    "# Parallelize under n cores"
   ]
  },
  {
   "cell_type": "code",
   "execution_count": 13,
   "metadata": {
    "collapsed": false
   },
   "outputs": [
    {
     "name": "stdout",
     "output_type": "stream",
     "text": [
      "I have found: 8 cores\n",
      "timelapse for initialising parallel:  0.0001976406277606202\n"
     ]
    }
   ],
   "source": [
    "from joblib import Parallel, delayed\n",
    "import multiprocessing\n",
    "\n",
    "\n",
    "num_cores = multiprocessing.cpu_count()\n",
    "print('I have found: '+repr(num_cores)+ ' cores')\n",
    "\n",
    "start = time.clock()\n",
    "Parallel(n_jobs=8)\n",
    "end=time.clock()\n",
    "print('timelapse for initialising parallel: ', end-start)"
   ]
  },
  {
   "cell_type": "markdown",
   "metadata": {},
   "source": [
    "quick test to see if the main function works:\n",
    "sort of does, but the overhead for small tasks seems huge!"
   ]
  },
  {
   "cell_type": "code",
   "execution_count": 25,
   "metadata": {
    "collapsed": false
   },
   "outputs": [
    {
     "name": "stdout",
     "output_type": "stream",
     "text": [
      "serial 0.0006955493449254391\n",
      "parallel 0.10120060887879845\n"
     ]
    }
   ],
   "source": [
    "from math import sqrt\n",
    "\n",
    "start=time.clock()\n",
    "result = list(map(lambda i: sqrt(i ** 2), range(1000) ) )\n",
    "end=time.clock()\n",
    "print('serial', end-start)\n",
    "\n",
    "start=time.clock()\n",
    "result = Parallel(n_jobs=8, backend=\"threading\")(delayed(sqrt)(i ** 2) for i in range(1000))\n",
    "end=time.clock()\n",
    "print('parallel', end-start)\n",
    "#print(result)"
   ]
  },
  {
   "cell_type": "markdown",
   "metadata": {},
   "source": [
    "# Results from Parallelized step-by-step running\n",
    "\n",
    "### parallelization at likelihood stage for each particle evolution"
   ]
  },
  {
   "cell_type": "code",
   "execution_count": 12,
   "metadata": {
    "collapsed": false
   },
   "outputs": [
    {
     "data": {
      "text/plain": [
       "<module 'Evo' from '..\\\\Libraries\\\\QML_lib\\\\Evo.py'>"
      ]
     },
     "execution_count": 12,
     "metadata": {},
     "output_type": "execute_result"
    }
   ],
   "source": [
    "imp.reload(pros)\n",
    "imp.reload(mpgh)\n",
    "imp.reload(gsi)\n",
    "imp.reload(evo)"
   ]
  },
  {
   "cell_type": "code",
   "execution_count": 10,
   "metadata": {
    "collapsed": false
   },
   "outputs": [
    {
     "name": "stdout",
     "output_type": "stream",
     "text": [
      "Oplist: array([[[ 0.+0.j,  0.-1.j],\n",
      "        [ 0.+1.j,  0.+0.j]],\n",
      "\n",
      "       [[ 0.+0.j,  1.+0.j],\n",
      "        [ 1.+0.j,  0.+0.j]]])\n",
      "Chosen true_params: [[ 0.3  0.6]]\n",
      "Chosen probestate: [ 0.9472136+0.2236068j  0.0527864-0.2236068j]\n",
      "Inversion fields are: ['w_1', 'w_2']\n",
      "Heuristic output:array([(1.2084116627328185, 0.8703375649742549, 0.2864076503525312)], \n",
      "      dtype=[('t', '<f8'), ('w_1', '<f8'), ('w_2', '<f8')])\n",
      "\n",
      "Initialization Ready\n"
     ]
    }
   ],
   "source": [
    "probecounter = 0\n",
    "\n",
    "oplist=np.array([evo.sigmay(), evo.sigmax()])\n",
    "#oplist=np.array([evo.sigmaz()])\n",
    "oplist=np.dot(1.0, oplist)\n",
    "print('Oplist: ' + repr(oplist))\n",
    "\n",
    "true_params = np.array([[0.3, 0.6]])\n",
    "#true_params = np.array([[0.7]])\n",
    "print('Chosen true_params: ' + str(true_params))\n",
    "\n",
    "#Listing eigenvectors\n",
    "# eiglist = pros.list_randomeig(oplist)\n",
    "# eiglist = np.append(eiglist, np.array([1, 0]))\n",
    "# eiglist = np.reshape(eiglist, [len(oplist)+1,2])\n",
    "# print('Chosen probestates: ' + repr(eiglist))\n",
    "\n",
    "#eiglist=sp.absolute(sp.linalg.orth(oplist[0]))\n",
    "#print('Chosen probestates: ' + repr(eiglist))\n",
    "\n",
    "# newprobe = list(map(lambda wgts_list: np.sum(wgts_list*eiglist, axis=0), wgts_list))\n",
    "# newprobe\n",
    "\n",
    "probestate=pros.choose_probe(oplist,true_params)\n",
    "print('Chosen probestate: ' + str(probestate))\n",
    "\n",
    "sigw = 0.3\n",
    "siga = 0.3\n",
    "\n",
    "prior = qi.MultivariateNormalDistribution(\n",
    "     [true_params[0, 0] + sigw/3, true_params[0, 1]-siga/3], [[sigw **2, 0], [0, siga **2]])\n",
    "# prior = qi.UniformDistribution([0., 1])\n",
    "\n",
    "\n",
    "model = gsi.parGenSim_IQLE(oplist=oplist, modelparams=true_params, probecounter = 0, probelist= [probestate], solver='scipy', trotter=True)\n",
    "\n",
    "\n",
    "n_particles = 300\n",
    "n_experiments = 100\n",
    "\n",
    "updater = qi.SMCUpdater(model, n_particles, prior, resample_thresh=0.5, resampler = qi.LiuWestResampler(a=0.95), debug_resampling=False)\n",
    "\n",
    "inv_field = [item[0] for item in model.expparams_dtype[1:] ]\n",
    "print('Inversion fields are: ' + str(inv_field))\n",
    "heuristic = mpgh.multiPGH(updater, oplist, inv_field=inv_field)\n",
    "print('Heuristic output:' + repr(heuristic()))\n",
    "\n",
    "expparams = np.empty((1, ), dtype=model.expparams_dtype)\n",
    "\n",
    "print('\\nInitialization Ready')"
   ]
  },
  {
   "cell_type": "code",
   "execution_count": 15,
   "metadata": {
    "collapsed": false
   },
   "outputs": [
    {
     "name": "stdout",
     "output_type": "stream",
     "text": [
      "timelapse as map:  4.100352442566702\n",
      "timelapse as for cycle:  4.385642219481085\n",
      "timelapse as parallel cycle:  6.420795104603869\n"
     ]
    }
   ],
   "source": [
    "modelparams = np.tile(np.array([[0.3, 0.6]]),(5000,1))\n",
    "\n",
    "experiment = heuristic()\n",
    "\n",
    "start = time.clock()\n",
    "evolution = evo.pr0fromScipyNC([10], modelparams[:,], np.array([experiment.item(0)[1:]]), oplist, probestate, trotterize=False)\n",
    "end=time.clock()\n",
    "print('timelapse as map: ', end-start)\n",
    "# print(evolution)\n",
    "\n",
    "\n",
    "start = time.clock()\n",
    "evolution = np.array([evo.pr0fromScipyNCpp([10], modelparams[i,], np.array([experiment.item(0)[1:]]), oplist, probestate, trotterize=False) \n",
    " for i in range(modelparams.shape[0])])\n",
    "end=time.clock()\n",
    "print('timelapse as for cycle: ', end-start)\n",
    "#print(evolution)\n",
    "\n",
    "\n",
    "start = time.clock()\n",
    "evolution = np.array(Parallel(n_jobs=8, backend=\"threading\")\n",
    "(delayed(evo.pr0fromScipyNCpp)([10], modelparams[i,], np.array([experiment.item(0)[1:]]), oplist, probestate, trotterize=False)\n",
    " for i in range(modelparams.shape[0])))\n",
    "end=time.clock()\n",
    "print('timelapse as parallel cycle: ', end-start)\n",
    "#print(evolution)"
   ]
  },
  {
   "cell_type": "code",
   "execution_count": 23,
   "metadata": {
    "collapsed": false
   },
   "outputs": [
    {
     "name": "stdout",
     "output_type": "stream",
     "text": [
      "array([(1.4473016887027013, 0.5739468683810348, 0.0322945862806962)], \n",
      "      dtype=[('t', '<f8'), ('w_1', '<f8'), ('w_2', '<f8')])\n",
      "1\n"
     ]
    }
   ],
   "source": [
    "eps = np.empty((1,), dtype=updater.model.expparams_dtype)\n",
    "\n",
    "experiment = heuristic()\n",
    "print(repr(experiment))\n",
    "\n",
    "datum = model.simulate_experiment(true_params, experiment)\n",
    "print(repr(datum))\n",
    "\n",
    "updater.update(datum, experiment)"
   ]
  },
  {
   "cell_type": "code",
   "execution_count": 25,
   "metadata": {
    "collapsed": false
   },
   "outputs": [
    {
     "name": "stdout",
     "output_type": "stream",
     "text": [
      "elapsed time: 11.060034416615848\n"
     ]
    }
   ],
   "source": [
    "# counter timestamp to avoid replacement\n",
    "timestamp = str(datetime.datetime.now()).split('.')[0]\n",
    "timestamp = \"_\"+timestamp.replace(\" \", \"_\")\n",
    "timestamp = timestamp.replace(\":\", \".\")\n",
    "\n",
    "# probecounter for the choice of the state\n",
    "probecounter = 0\n",
    "\n",
    "track_loss = np.empty(n_experiments)\n",
    "track_cov = np.empty(n_experiments)\n",
    "track_time = np.empty(n_experiments)\n",
    "\n",
    "track_particle_locs = np.empty([n_particles, len(true_params[0]), n_experiments])\n",
    "track_particle_wght = np.empty([n_particles, n_experiments])\n",
    "\n",
    "start=time.clock()\n",
    "\n",
    "\n",
    "for idx_experiment in range(n_experiments):\n",
    "    \n",
    "    experiment = heuristic()\n",
    "    #print('Chosen experiment: ' + repr(experiment))\n",
    "    \n",
    "    track_time[idx_experiment] = experiment[0][0]\n",
    "    \n",
    "    datum = model.simulate_experiment(true_params, experiment)\n",
    "    #print(repr(datum))\n",
    "    updater.update(datum, experiment)\n",
    "    heuristic = mpgh.multiPGH(updater, oplist, inv_field=inv_field)\n",
    "    \n",
    "    track_cov[idx_experiment] = np.linalg.norm(updater.est_covariance_mtx())\n",
    "    \n",
    "    track_particle_locs[:, :, idx_experiment] = updater.particle_locations\n",
    "    track_particle_wght[:, idx_experiment] = updater.particle_weights\n",
    "\n",
    "    new_eval = updater.est_mean()\n",
    "    \n",
    "    new_loss = eval_loss(model, new_eval, true_params)\n",
    "    track_loss[idx_experiment] = new_loss[0]\n",
    "    \n",
    "end=time.clock()\n",
    "print('elapsed time: ' + str(end-start))"
   ]
  },
  {
   "cell_type": "code",
   "execution_count": null,
   "metadata": {
    "collapsed": true
   },
   "outputs": [],
   "source": []
  }
 ],
 "metadata": {
  "anaconda-cloud": {},
  "kernelspec": {
   "display_name": "Python [conda root]",
   "language": "python",
   "name": "conda-root-py"
  },
  "language_info": {
   "codemirror_mode": {
    "name": "ipython",
    "version": 3
   },
   "file_extension": ".py",
   "mimetype": "text/x-python",
   "name": "python",
   "nbconvert_exporter": "python",
   "pygments_lexer": "ipython3",
   "version": "3.5.2"
  }
 },
 "nbformat": 4,
 "nbformat_minor": 0
}
