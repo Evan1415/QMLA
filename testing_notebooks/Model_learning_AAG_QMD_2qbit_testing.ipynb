{
 "cells": [
  {
   "cell_type": "markdown",
   "metadata": {},
   "source": [
    "# QMD class testing\n",
    "## for the QLE algorithm learning a 2 qubit Hamiltonian\n",
    "\n",
    "A. Gentile"
   ]
  },
  {
   "cell_type": "code",
   "execution_count": 1,
   "metadata": {
    "collapsed": false
   },
   "outputs": [],
   "source": [
    "%matplotlib inline\n",
    "import qinfer as qi\n",
    "import qutip as qt\n",
    "import numpy as np\n",
    "import scipy as sp\n",
    "import math as mth\n",
    "from IPython.display import display, Math, Latex\n",
    "from functools import partial\n",
    "import matplotlib.pyplot as plt"
   ]
  },
  {
   "cell_type": "code",
   "execution_count": 2,
   "metadata": {
    "collapsed": false
   },
   "outputs": [],
   "source": [
    "import datetime\n",
    "import os as os\n",
    "import time as time"
   ]
  },
  {
   "cell_type": "code",
   "execution_count": 3,
   "metadata": {
    "collapsed": true
   },
   "outputs": [],
   "source": [
    "import importlib as imp"
   ]
  },
  {
   "cell_type": "code",
   "execution_count": 4,
   "metadata": {
    "collapsed": false
   },
   "outputs": [],
   "source": [
    "import logging as logging\n",
    "import warnings as warnings\n",
    "import sys\n",
    "\n",
    "%run LoggingCode.py"
   ]
  },
  {
   "cell_type": "markdown",
   "metadata": {},
   "source": [
    "Importing Local Function for QML"
   ]
  },
  {
   "cell_type": "code",
   "execution_count": 5,
   "metadata": {
    "collapsed": true
   },
   "outputs": [],
   "source": [
    "# Add personalized library to PYTHONPATH\n",
    "sys.path.append(os.path.join(\"..\",\"Libraries\",\"QML_lib\"))"
   ]
  },
  {
   "cell_type": "code",
   "execution_count": 6,
   "metadata": {
    "collapsed": false
   },
   "outputs": [],
   "source": [
    "from Norms import *\n",
    "from IOfuncts import *\n",
    "from EvalLoss import *\n",
    "\n",
    "import ProbeStates as pros\n",
    "import multiPGH as mpgh\n",
    "import GenSimQMD_IQLE as gsi\n",
    "import Evo as evo"
   ]
  },
  {
   "cell_type": "code",
   "execution_count": 7,
   "metadata": {
    "collapsed": false
   },
   "outputs": [],
   "source": [
    "\"\"\" filter only the Weight Clipping warning \"\"\"\n",
    "#SET LEVEL WARNINGS TO 0 In FINAL VERSION\n",
    "warnings.filterwarnings(\"ignore\", message='Negative weights occured', category=RuntimeWarning)"
   ]
  },
  {
   "cell_type": "markdown",
   "metadata": {
    "collapsed": true
   },
   "source": [
    "# Model learning functions\n"
   ]
  },
  {
   "cell_type": "code",
   "execution_count": 8,
   "metadata": {
    "collapsed": false
   },
   "outputs": [],
   "source": [
    "lst = [evo.sigmax(),evo.sigmay(), evo.sigmaz()]     "
   ]
  },
  {
   "cell_type": "code",
   "execution_count": 9,
   "metadata": {
    "collapsed": false
   },
   "outputs": [],
   "source": [
    "import Utils as uti\n",
    "import Models as mods\n",
    "import BayesF as bayf\n",
    "import ModLearn as mdl\n",
    "# import QMD as qmd\n",
    "# import QML as qml\n",
    "import QMDaag as qmd\n",
    "import QMLaag as qml\n",
    "import QMD_Utils as quti"
   ]
  },
  {
   "cell_type": "markdown",
   "metadata": {},
   "source": [
    "## Reload when needed"
   ]
  },
  {
   "cell_type": "code",
   "execution_count": 246,
   "metadata": {
    "collapsed": false
   },
   "outputs": [
    {
     "data": {
      "text/plain": [
       "<module 'QMLaag' from '..\\\\Libraries\\\\QML_lib\\\\QMLaag.py'>"
      ]
     },
     "execution_count": 246,
     "metadata": {},
     "output_type": "execute_result"
    }
   ],
   "source": [
    "imp.reload(pros)\n",
    "imp.reload(mpgh)\n",
    "imp.reload(gsi)\n",
    "imp.reload(evo)\n",
    "imp.reload(mdl)\n",
    "imp.reload(uti)\n",
    "imp.reload(mods)\n",
    "imp.reload(bayf)\n",
    "imp.reload(qmd)\n",
    "imp.reload(quti)\n",
    "imp.reload(qml)"
   ]
  },
  {
   "cell_type": "markdown",
   "metadata": {},
   "source": [
    "# MODEL LEARNING TEST"
   ]
  },
  {
   "cell_type": "code",
   "execution_count": 33,
   "metadata": {
    "collapsed": false,
    "scrolled": true
   },
   "outputs": [
    {
     "name": "stdout",
     "output_type": "stream",
     "text": [
      "['sy_sz_']\n"
     ]
    }
   ],
   "source": [
    "modeltest = qmd.ModelsDevelopmentClass(6, lst, checkloss=True, trotter=False, IQLE=False)\n",
    "\n",
    "#print(modeltest.TrueOpList)\n",
    "print(uti.ModelNamesPauli([modeltest.TrueOpList], uti.PauliNames() ) )"
   ]
  },
  {
   "cell_type": "code",
   "execution_count": 34,
   "metadata": {
    "collapsed": false
   },
   "outputs": [
    {
     "data": {
      "text/plain": [
       "[<QMLaag.ModelLearningClass at 0xc47d7b8>,\n",
       " <QMLaag.ModelLearningClass at 0xc47d160>,\n",
       " <QMLaag.ModelLearningClass at 0xc47d550>,\n",
       " <QMLaag.ModelLearningClass at 0xc47d908>,\n",
       " <QMLaag.ModelLearningClass at 0xc47d5f8>,\n",
       " <QMLaag.ModelLearningClass at 0xc47ddd8>]"
      ]
     },
     "execution_count": 34,
     "metadata": {},
     "output_type": "execute_result"
    }
   ],
   "source": [
    "modeltest.ModelsList"
   ]
  },
  {
   "cell_type": "code",
   "execution_count": 35,
   "metadata": {
    "collapsed": false
   },
   "outputs": [],
   "source": [
    "#modeltest.ModsOpList"
   ]
  },
  {
   "cell_type": "code",
   "execution_count": 36,
   "metadata": {
    "collapsed": false
   },
   "outputs": [
    {
     "name": "stdout",
     "output_type": "stream",
     "text": [
      "[[ 0.91697546]]\n",
      "Initialization Ready\n",
      "[[ 0.62122339]]\n",
      "Initialization Ready\n",
      "[[ 0.70206751]]\n",
      "Initialization Ready\n",
      "[[ 0.7180996   0.72393693]]\n",
      "Initialization Ready\n",
      "[[ 0.70964551  0.35853828]]\n",
      "Initialization Ready\n",
      "[[ 0.3417658   0.11267666]]\n",
      "Initialization Ready\n"
     ]
    }
   ],
   "source": [
    "modeltest.InitialiseAllActiveModels()"
   ]
  },
  {
   "cell_type": "code",
   "execution_count": 37,
   "metadata": {
    "collapsed": false
   },
   "outputs": [
    {
     "name": "stdout",
     "output_type": "stream",
     "text": [
      "ModelNames: ['sx_', 'sy_', 'sz_', 'sy_sx_', 'sz_sx_', 'sy_sz_']\n"
     ]
    }
   ],
   "source": [
    "print('ModelNames: ' + repr(modeltest.ModelNames))\n",
    "#print('ModelDict: ' + repr(modeltest.ModelDict))"
   ]
  },
  {
   "cell_type": "code",
   "execution_count": 38,
   "metadata": {
    "collapsed": false
   },
   "outputs": [
    {
     "data": {
      "text/plain": [
       "array([[ 0.52323095,  0.26773552]])"
      ]
     },
     "execution_count": 38,
     "metadata": {},
     "output_type": "execute_result"
    }
   ],
   "source": [
    "modeltest.TrueParamsList"
   ]
  },
  {
   "cell_type": "code",
   "execution_count": 39,
   "metadata": {
    "collapsed": false
   },
   "outputs": [
    {
     "name": "stdout",
     "output_type": "stream",
     "text": [
      "Initial time selected > 7.14660214596\n",
      "Final time selected > 5.35745381521\n",
      "Final Parameters mean and stdev:[ 0.53165505  0.4786491 ]\n",
      "Batch single time 0 elapsed time: 17.080034522553888\n",
      "\n",
      "\n",
      "Initial time selected > 2.16955231225\n",
      "Final time selected > 626.390256017\n",
      "Exiting learning for Reaching Cov. Norm. Thrshold of 7.7549117028e-07\n",
      " at Iteration Number 93\n",
      "Final Parameters mean and stdev:[ 0.58585434  0.00184087]\n",
      "Batch single time 1 elapsed time: 17.986299895982086\n",
      "\n",
      "\n",
      "Initial time selected > 0.832041919703\n",
      "Final time selected > 11.1751632758\n",
      "Final Parameters mean and stdev:[ 0.58154912  0.05982531]\n",
      "Batch single time 2 elapsed time: 28.555191393594896\n",
      "\n",
      "\n",
      "Initial time selected > 0.822198077897\n",
      "Final time selected > 6.25836276619\n",
      "Final Parameters mean and stdev:[ 0.33776384  0.11337733]\n",
      "Final Parameters mean and stdev:[ 0.47051222  0.10319024]\n",
      "Batch single time 3 elapsed time: 17.30050280835087\n",
      "\n",
      "\n",
      "Initial time selected > 0.640692246284\n",
      "Final time selected > 0.488993130423\n",
      "Final Parameters mean and stdev:[-0.13240988  0.16749482]\n",
      "Final Parameters mean and stdev:[ 0.40439611  0.46476426]\n",
      "Batch single time 4 elapsed time: 16.18085143714859\n",
      "\n",
      "\n",
      "Initial time selected > 0.433368423263\n",
      "Final time selected > 0.681731834372\n",
      "Final Parameters mean and stdev:[ 0.04563561  0.46161254]\n",
      "Final Parameters mean and stdev:[ 0.10794043  0.46104076]\n",
      "Batch single time 5 elapsed time: 15.898780520910464\n",
      "\n",
      "\n"
     ]
    },
    {
     "name": "stderr",
     "output_type": "stream",
     "text": [
      "C:\\Program Files\\Anaconda3\\lib\\site-packages\\qinfer\\smc.py:285: ApproximationWarning: Extremely small n_ess encountered (7.866127969696507). Resampling is likely to fail. Consider adding particles, or resampling more often.\n",
      "  ApproximationWarning\n"
     ]
    },
    {
     "name": "stdout",
     "output_type": "stream",
     "text": [
      "LogTotLikelihoods updated\n",
      "LogTotLikelihoods updated\n"
     ]
    },
    {
     "name": "stderr",
     "output_type": "stream",
     "text": [
      "C:\\Program Files\\Anaconda3\\lib\\site-packages\\qinfer\\smc.py:285: ApproximationWarning: Extremely small n_ess encountered (5.858255590238398). Resampling is likely to fail. Consider adding particles, or resampling more often.\n",
      "  ApproximationWarning\n"
     ]
    },
    {
     "name": "stdout",
     "output_type": "stream",
     "text": [
      "LogTotLikelihoods updated\n"
     ]
    },
    {
     "name": "stderr",
     "output_type": "stream",
     "text": [
      "C:\\Program Files\\Anaconda3\\lib\\site-packages\\qinfer\\smc.py:285: ApproximationWarning: Extremely small n_ess encountered (1.702956597945898). Resampling is likely to fail. Consider adding particles, or resampling more often.\n",
      "  ApproximationWarning\n"
     ]
    },
    {
     "name": "stdout",
     "output_type": "stream",
     "text": [
      "LogTotLikelihoods updated\n"
     ]
    },
    {
     "name": "stderr",
     "output_type": "stream",
     "text": [
      "C:\\Program Files\\Anaconda3\\lib\\site-packages\\qinfer\\smc.py:285: ApproximationWarning: Extremely small n_ess encountered (2.093701253580045). Resampling is likely to fail. Consider adding particles, or resampling more often.\n",
      "  ApproximationWarning\n"
     ]
    },
    {
     "name": "stdout",
     "output_type": "stream",
     "text": [
      "LogTotLikelihoods updated\n",
      "LogTotLikelihoods updated\n",
      "Total elapsed time: 225.66705665102097\n"
     ]
    },
    {
     "name": "stderr",
     "output_type": "stream",
     "text": [
      "C:\\Program Files\\Anaconda3\\lib\\site-packages\\qinfer\\smc.py:285: ApproximationWarning: Extremely small n_ess encountered (2.372994356868425). Resampling is likely to fail. Consider adding particles, or resampling more often.\n",
      "  ApproximationWarning\n"
     ]
    }
   ],
   "source": [
    "start=time.clock()\n",
    "modeltest.UpdateAllActiveModels(expnum=100)\n",
    "end=time.clock()\n",
    "print('Total elapsed time: ' + str(end-start))"
   ]
  },
  {
   "cell_type": "code",
   "execution_count": 23,
   "metadata": {
    "collapsed": false
   },
   "outputs": [
    {
     "name": "stdout",
     "output_type": "stream",
     "text": [
      "['sx_']\n"
     ]
    }
   ],
   "source": [
    "print(uti.ModelNamesPauli([modeltest.TrueOpList], uti.PauliNames() ) )"
   ]
  },
  {
   "cell_type": "code",
   "execution_count": 24,
   "metadata": {
    "collapsed": false,
    "scrolled": true
   },
   "outputs": [
    {
     "data": {
      "text/plain": [
       "{\"['sx_']VS['sy_']\": 0.56282163628082871,\n",
       " \"['sx_']VS['sz_']\": 7745.8067930908082,\n",
       " \"['sy_']VS['sx_']\": 1.7767618292148142,\n",
       " \"['sy_']VS['sz_']\": 13762.453846436558,\n",
       " \"['sz_']VS['sx_']\": 0.00012910210991734505,\n",
       " \"['sz_']VS['sy_']\": 7.2661460751022311e-05}"
      ]
     },
     "execution_count": 24,
     "metadata": {},
     "output_type": "execute_result"
    }
   ],
   "source": [
    "modeltest.ComputeAllBayesFactors(fromLogL = True)"
   ]
  },
  {
   "cell_type": "markdown",
   "metadata": {},
   "source": [
    "### check QL behaviour"
   ]
  },
  {
   "cell_type": "code",
   "execution_count": 28,
   "metadata": {
    "collapsed": false
   },
   "outputs": [
    {
     "data": {
      "text/plain": [
       "<matplotlib.text.Text at 0xbde0048>"
      ]
     },
     "execution_count": 28,
     "metadata": {},
     "output_type": "execute_result"
    },
    {
     "data": {
      "image/png": "[encoded data removed]",
      "text/plain": [
       "<matplotlib.figure.Figure at 0xc4c6240>"
      ]
     },
     "metadata": {},
     "output_type": "display_data"
    }
   ],
   "source": [
    "track_avg_loss = modeltest.ModelsList[0].QLosses\n",
    "plt.semilogy(track_avg_loss, label='Q.Loss' )\n",
    "plt.legend()\n",
    "plt.xlabel('# of Measurements')\n",
    "plt.ylabel('Q.L.')"
   ]
  },
  {
   "cell_type": "markdown",
   "metadata": {},
   "source": [
    "### saturation"
   ]
  },
  {
   "cell_type": "code",
   "execution_count": 29,
   "metadata": {
    "collapsed": false
   },
   "outputs": [
    {
     "data": {
      "text/plain": [
       "<module 'QMD_Utils' from '..\\\\Libraries\\\\QML_lib\\\\QMD_Utils.py'>"
      ]
     },
     "execution_count": 29,
     "metadata": {},
     "output_type": "execute_result"
    }
   ],
   "source": [
    "imp.reload(quti)"
   ]
  },
  {
   "cell_type": "code",
   "execution_count": 30,
   "metadata": {
    "collapsed": false
   },
   "outputs": [
    {
     "data": {
      "text/plain": [
       "[False, False, False]"
      ]
     },
     "execution_count": 30,
     "metadata": {},
     "output_type": "execute_result"
    }
   ],
   "source": [
    "quti.DetectSaturation(modeltest, use_datalength = 10, saturate_STN=3.)"
   ]
  },
  {
   "cell_type": "code",
   "execution_count": 31,
   "metadata": {
    "collapsed": false
   },
   "outputs": [],
   "source": [
    "volume_list = modeltest.ModelsList[0].VolumeList"
   ]
  },
  {
   "cell_type": "code",
   "execution_count": 32,
   "metadata": {
    "collapsed": false
   },
   "outputs": [
    {
     "data": {
      "image/png": "[encoded data removed]",
      "text/plain": [
       "<matplotlib.figure.Figure at 0xcd1bf60>"
      ]
     },
     "metadata": {},
     "output_type": "display_data"
    }
   ],
   "source": [
    "plt.semilogy(volume_list, label='Region Estimate Volume')\n",
    "plt.legend()\n",
    "plt.xlabel('# of Measurements')\n",
    "\n",
    "plt.show()"
   ]
  },
  {
   "cell_type": "markdown",
   "metadata": {},
   "source": [
    "### pruning"
   ]
  },
  {
   "cell_type": "code",
   "execution_count": 106,
   "metadata": {
    "collapsed": false
   },
   "outputs": [],
   "source": [
    "array_KLogTotLikelihood = np.array(list(map(lambda model: model.KLogTotLikelihood, modeltest.ModelsList)))\n",
    "renorm_KLogTotLikelihood = abs(1/array_KLogTotLikelihood)/abs(sum(1/abs(array_KLogTotLikelihood) ))"
   ]
  },
  {
   "cell_type": "code",
   "execution_count": 107,
   "metadata": {
    "collapsed": false
   },
   "outputs": [
    {
     "data": {
      "text/plain": [
       "array([ 0.17577676,  0.43583814,  0.38838509])"
      ]
     },
     "execution_count": 107,
     "metadata": {},
     "output_type": "execute_result"
    }
   ],
   "source": [
    "renorm_KLogTotLikelihood"
   ]
  },
  {
   "cell_type": "code",
   "execution_count": 112,
   "metadata": {
    "collapsed": false
   },
   "outputs": [],
   "source": [
    "quti.FloorPruningRule(modeltest, floor_thresh=0.5)"
   ]
  },
  {
   "cell_type": "code",
   "execution_count": 113,
   "metadata": {
    "collapsed": false
   },
   "outputs": [
    {
     "data": {
      "text/plain": [
       "['sy_']"
      ]
     },
     "execution_count": 113,
     "metadata": {},
     "output_type": "execute_result"
    }
   ],
   "source": [
    "modeltest.ModelNames"
   ]
  },
  {
   "cell_type": "markdown",
   "metadata": {},
   "source": [
    "# MULTIPLE testing running"
   ]
  },
  {
   "cell_type": "code",
   "execution_count": 43,
   "metadata": {
    "collapsed": false
   },
   "outputs": [
    {
     "name": "stdout",
     "output_type": "stream",
     "text": [
      "[[ 0.28373093]]\n",
      "Initialization Ready\n",
      "[[ 0.79496512]]\n",
      "Initialization Ready\n",
      "[[ 0.65433395]]\n",
      "Initialization Ready\n",
      "[[ 0.59362754  0.57771639]]\n",
      "Initialization Ready\n",
      "[[ 0.93093284  0.78738376]]\n",
      "Initialization Ready\n",
      "[[ 0.10319658  0.47923719]]\n",
      "Initialization Ready\n",
      "[[ 0.49869948  0.64163908  0.27039071]]\n",
      "Initialization Ready\n",
      "Initial time selected > 0.480551797824\n",
      "Final time selected > 12.3957368564\n",
      "Final Parameters mean and stdev:[ 0.04242886  0.18497032]\n",
      "Batch single time 0 elapsed time: 16.016474024989407\n",
      "\n",
      "\n",
      "Initial time selected > 2.81627638157\n",
      "Final time selected > 3.39662970016\n",
      "Final Parameters mean and stdev:[-0.10326969  0.0812248 ]\n",
      "Batch single time 1 elapsed time: 16.130257091723138\n",
      "\n",
      "\n",
      "Initial time selected > 0.445064788318\n",
      "Final time selected > 245.41867263\n",
      "Exiting learning for Reaching Cov. Norm. Thrshold of 9.91590806295e-07\n",
      " at Iteration Number 84\n",
      "Final Parameters mean and stdev:[ 0.09072526  0.00125976]\n",
      "Batch single time 2 elapsed time: 20.09900802281902\n",
      "\n",
      "\n",
      "Initial time selected > 0.532631111012\n",
      "Final time selected > 1.42752976863\n",
      "Final Parameters mean and stdev:[ 0.3343651   0.11915682]\n",
      "Final Parameters mean and stdev:[ 0.08797016  0.19741963]\n",
      "Batch single time 3 elapsed time: 15.384879134645189\n",
      "\n",
      "\n",
      "Initial time selected > 0.345222099953\n",
      "Final time selected > 6.05452435034\n",
      "Final Parameters mean and stdev:[ 0.92466018  0.18603098]\n",
      "Final Parameters mean and stdev:[ 0.48534567  0.08099124]\n",
      "Batch single time 4 elapsed time: 15.51620586936383\n",
      "\n",
      "\n",
      "Initial time selected > 0.850044125676\n",
      "Final time selected > 726.616518685\n",
      "Final Parameters mean and stdev:[-0.34357093  0.0013538 ]\n",
      "Final Parameters mean and stdev:[ 0.28875235  0.00126727]\n",
      "Batch single time 5 elapsed time: 15.684460613235501\n",
      "\n",
      "\n",
      "Initial time selected > 0.464908400089\n",
      "Final time selected > 1.16564831676\n",
      "Final Parameters mean and stdev:[ 0.54067037  0.14017223]\n",
      "Final Parameters mean and stdev:[-0.15434366  0.19976068]\n",
      "Final Parameters mean and stdev:[ 0.96232739  0.14185231]\n",
      "Batch single time 6 elapsed time: 15.48277613242783\n",
      "\n",
      "\n",
      "LogTotLikelihoods updated\n"
     ]
    },
    {
     "name": "stderr",
     "output_type": "stream",
     "text": [
      "C:\\Program Files\\Anaconda3\\lib\\site-packages\\qinfer\\smc.py:285: ApproximationWarning: Extremely small n_ess encountered (1.0000316444640762). Resampling is likely to fail. Consider adding particles, or resampling more often.\n",
      "  ApproximationWarning\n"
     ]
    },
    {
     "name": "stdout",
     "output_type": "stream",
     "text": [
      "LogTotLikelihoods updated\n"
     ]
    },
    {
     "name": "stderr",
     "output_type": "stream",
     "text": [
      "C:\\Program Files\\Anaconda3\\lib\\site-packages\\qinfer\\smc.py:285: ApproximationWarning: Extremely small n_ess encountered (2.2030680725702876). Resampling is likely to fail. Consider adding particles, or resampling more often.\n",
      "  ApproximationWarning\n"
     ]
    },
    {
     "name": "stdout",
     "output_type": "stream",
     "text": [
      "LogTotLikelihoods updated\n"
     ]
    },
    {
     "name": "stderr",
     "output_type": "stream",
     "text": [
      "C:\\Program Files\\Anaconda3\\lib\\site-packages\\qinfer\\smc.py:285: ApproximationWarning: Extremely small n_ess encountered (1.0089141504609553). Resampling is likely to fail. Consider adding particles, or resampling more often.\n",
      "  ApproximationWarning\n"
     ]
    },
    {
     "name": "stdout",
     "output_type": "stream",
     "text": [
      "LogTotLikelihoods updated\n"
     ]
    },
    {
     "name": "stderr",
     "output_type": "stream",
     "text": [
      "C:\\Program Files\\Anaconda3\\lib\\site-packages\\qinfer\\smc.py:285: ApproximationWarning: Extremely small n_ess encountered (7.592754768275632). Resampling is likely to fail. Consider adding particles, or resampling more often.\n",
      "  ApproximationWarning\n"
     ]
    },
    {
     "name": "stdout",
     "output_type": "stream",
     "text": [
      "LogTotLikelihoods updated\n",
      "LogTotLikelihoods updated\n"
     ]
    },
    {
     "name": "stderr",
     "output_type": "stream",
     "text": [
      "C:\\Program Files\\Anaconda3\\lib\\site-packages\\qinfer\\smc.py:285: ApproximationWarning: Extremely small n_ess encountered (1.7104171667753825). Resampling is likely to fail. Consider adding particles, or resampling more often.\n",
      "  ApproximationWarning\n"
     ]
    },
    {
     "name": "stdout",
     "output_type": "stream",
     "text": [
      "LogTotLikelihoods updated\n",
      "Total elapsed time for the learning process: 252.41301362561626\n"
     ]
    },
    {
     "name": "stderr",
     "output_type": "stream",
     "text": [
      "C:\\Program Files\\Anaconda3\\lib\\site-packages\\qinfer\\smc.py:285: ApproximationWarning: Extremely small n_ess encountered (1.0000001983198035). Resampling is likely to fail. Consider adding particles, or resampling more often.\n",
      "  ApproximationWarning\n"
     ]
    },
    {
     "name": "stdout",
     "output_type": "stream",
     "text": [
      "LogTotLikelihoods updated\n",
      "LogTotLikelihoods updated\n",
      "LogTotLikelihoods updated\n"
     ]
    },
    {
     "name": "stderr",
     "output_type": "stream",
     "text": [
      "C:\\Program Files\\Anaconda3\\lib\\site-packages\\qinfer\\smc.py:285: ApproximationWarning: Extremely small n_ess encountered (1.007576551774925). Resampling is likely to fail. Consider adding particles, or resampling more often.\n",
      "  ApproximationWarning\n"
     ]
    },
    {
     "name": "stdout",
     "output_type": "stream",
     "text": [
      "LogTotLikelihoods updated\n"
     ]
    },
    {
     "name": "stderr",
     "output_type": "stream",
     "text": [
      "C:\\Program Files\\Anaconda3\\lib\\site-packages\\qinfer\\smc.py:285: ApproximationWarning: Extremely small n_ess encountered (7.246965204432824). Resampling is likely to fail. Consider adding particles, or resampling more often.\n",
      "  ApproximationWarning\n"
     ]
    },
    {
     "name": "stdout",
     "output_type": "stream",
     "text": [
      "LogTotLikelihoods updated\n"
     ]
    },
    {
     "name": "stderr",
     "output_type": "stream",
     "text": [
      "C:\\Program Files\\Anaconda3\\lib\\site-packages\\qinfer\\smc.py:285: ApproximationWarning: Extremely small n_ess encountered (3.257700752218959). Resampling is likely to fail. Consider adding particles, or resampling more often.\n",
      "  ApproximationWarning\n"
     ]
    },
    {
     "name": "stdout",
     "output_type": "stream",
     "text": [
      "LogTotLikelihoods updated\n"
     ]
    },
    {
     "name": "stderr",
     "output_type": "stream",
     "text": [
      "C:\\Program Files\\Anaconda3\\lib\\site-packages\\qinfer\\smc.py:285: ApproximationWarning: Extremely small n_ess encountered (2.562717708427237). Resampling is likely to fail. Consider adding particles, or resampling more often.\n",
      "  ApproximationWarning\n"
     ]
    },
    {
     "name": "stdout",
     "output_type": "stream",
     "text": [
      "LogTotLikelihoods updated\n",
      "Total elapsed time for Bayes factor update: 212.23037216690273\n",
      "[[ 0.96412618]]\n",
      "Initialization Ready\n",
      "[[ 0.97305838]]\n",
      "Initialization Ready\n",
      "[[ 0.11077308]]\n",
      "Initialization Ready\n",
      "[[ 0.05453993  0.1946145 ]]\n",
      "Initialization Ready\n",
      "[[ 0.82452321  0.79800703]]\n",
      "Initialization Ready\n",
      "[[ 0.86975691  0.13652113]]\n",
      "Initialization Ready\n",
      "[[ 0.13207887  0.42329597  0.1926799 ]]\n",
      "Initialization Ready\n",
      "Initial time selected > 1.04877429469\n",
      "Final time selected > 0.727001095589\n",
      "Final Parameters mean and stdev:[ 0.31103121  0.70177042]\n",
      "Batch single time 0 elapsed time: 15.689647603781168\n",
      "\n",
      "\n",
      "Initial time selected > 0.487001504811\n",
      "Final time selected > 1010.0417339\n",
      "Exiting learning for Reaching Cov. Norm. Thrshold of 6.52586615968e-07\n",
      " at Iteration Number 70\n",
      "Final Parameters mean and stdev:[ 0.55959789  0.00109318]\n",
      "Batch single time 1 elapsed time: 11.138211713169994\n",
      "\n",
      "\n",
      "Initial time selected > 0.559188170094\n",
      "Final time selected > 9.30488491072\n",
      "Final Parameters mean and stdev:[-0.05540852  0.06440426]\n",
      "Batch single time 2 elapsed time: 23.95997826946268\n",
      "\n",
      "\n",
      "Initial time selected > 2.38967113281\n",
      "Final time selected > 10.4110845232\n",
      "Final Parameters mean and stdev:[ 0.39285078  0.10847937]\n",
      "Final Parameters mean and stdev:[ 0.5256195  0.032969 ]\n",
      "Batch single time 3 elapsed time: 15.470700190754542\n",
      "\n",
      "\n",
      "Initial time selected > 1.59877318908\n",
      "Final time selected > 5.19313575639\n",
      "Final Parameters mean and stdev:[ 0.41120069  0.14666598]\n",
      "Final Parameters mean and stdev:[-0.04668087  0.08329292]\n",
      "Batch single time 4 elapsed time: 15.446396683610146\n",
      "\n",
      "\n",
      "Initial time selected > 0.43683020787\n",
      "Final time selected > 10.1761763218\n",
      "Final Parameters mean and stdev:[ 0.5314795   0.00816098]\n",
      "Final Parameters mean and stdev:[-0.1782844   0.02116612]\n",
      "Batch single time 5 elapsed time: 15.501125260458366\n",
      "\n",
      "\n",
      "Initial time selected > 0.483698390483\n",
      "Final time selected > 6.379984106\n",
      "Final Parameters mean and stdev:[ 0.21749055  0.11175908]\n",
      "Final Parameters mean and stdev:[ 0.53136351  0.04897598]\n",
      "Final Parameters mean and stdev:[ 0.1101832   0.05020635]\n",
      "Batch single time 6 elapsed time: 15.701267018778253\n",
      "\n",
      "\n"
     ]
    },
    {
     "name": "stderr",
     "output_type": "stream",
     "text": [
      "C:\\Program Files\\Anaconda3\\lib\\site-packages\\qinfer\\smc.py:285: ApproximationWarning: Extremely small n_ess encountered (6.871768512821702). Resampling is likely to fail. Consider adding particles, or resampling more often.\n",
      "  ApproximationWarning\n"
     ]
    },
    {
     "name": "stdout",
     "output_type": "stream",
     "text": [
      "LogTotLikelihoods updated\n",
      "LogTotLikelihoods updated\n"
     ]
    },
    {
     "name": "stderr",
     "output_type": "stream",
     "text": [
      "C:\\Program Files\\Anaconda3\\lib\\site-packages\\qinfer\\smc.py:285: ApproximationWarning: Extremely small n_ess encountered (3.7650368143834556). Resampling is likely to fail. Consider adding particles, or resampling more often.\n",
      "  ApproximationWarning\n"
     ]
    },
    {
     "name": "stdout",
     "output_type": "stream",
     "text": [
      "LogTotLikelihoods updated\n"
     ]
    },
    {
     "name": "stderr",
     "output_type": "stream",
     "text": [
      "C:\\Program Files\\Anaconda3\\lib\\site-packages\\qinfer\\smc.py:285: ApproximationWarning: Extremely small n_ess encountered (1.0297231817771089). Resampling is likely to fail. Consider adding particles, or resampling more often.\n",
      "  ApproximationWarning\n"
     ]
    },
    {
     "name": "stdout",
     "output_type": "stream",
     "text": [
      "LogTotLikelihoods updated\n"
     ]
    },
    {
     "name": "stderr",
     "output_type": "stream",
     "text": [
      "C:\\Program Files\\Anaconda3\\lib\\site-packages\\qinfer\\smc.py:285: ApproximationWarning: Extremely small n_ess encountered (1.2093744393171855). Resampling is likely to fail. Consider adding particles, or resampling more often.\n",
      "  ApproximationWarning\n"
     ]
    },
    {
     "name": "stdout",
     "output_type": "stream",
     "text": [
      "LogTotLikelihoods updated\n"
     ]
    },
    {
     "name": "stderr",
     "output_type": "stream",
     "text": [
      "C:\\Program Files\\Anaconda3\\lib\\site-packages\\qinfer\\smc.py:285: ApproximationWarning: Extremely small n_ess encountered (1.099023180177157). Resampling is likely to fail. Consider adding particles, or resampling more often.\n",
      "  ApproximationWarning\n"
     ]
    },
    {
     "name": "stdout",
     "output_type": "stream",
     "text": [
      "LogTotLikelihoods updated\n"
     ]
    },
    {
     "name": "stderr",
     "output_type": "stream",
     "text": [
      "C:\\Program Files\\Anaconda3\\lib\\site-packages\\qinfer\\smc.py:285: ApproximationWarning: Extremely small n_ess encountered (1.8495550423105145). Resampling is likely to fail. Consider adding particles, or resampling more often.\n",
      "  ApproximationWarning\n"
     ]
    },
    {
     "name": "stdout",
     "output_type": "stream",
     "text": [
      "LogTotLikelihoods updated\n",
      "Total elapsed time for the learning process: 255.44902394662836\n"
     ]
    },
    {
     "name": "stderr",
     "output_type": "stream",
     "text": [
      "C:\\Program Files\\Anaconda3\\lib\\site-packages\\qinfer\\smc.py:285: ApproximationWarning: Extremely small n_ess encountered (1.987176442141033). Resampling is likely to fail. Consider adding particles, or resampling more often.\n",
      "  ApproximationWarning\n"
     ]
    },
    {
     "name": "stdout",
     "output_type": "stream",
     "text": [
      "LogTotLikelihoods updated\n",
      "LogTotLikelihoods updated\n"
     ]
    },
    {
     "name": "stderr",
     "output_type": "stream",
     "text": [
      "C:\\Program Files\\Anaconda3\\lib\\site-packages\\qinfer\\smc.py:285: ApproximationWarning: Extremely small n_ess encountered (4.722832514616659). Resampling is likely to fail. Consider adding particles, or resampling more often.\n",
      "  ApproximationWarning\n"
     ]
    },
    {
     "name": "stdout",
     "output_type": "stream",
     "text": [
      "LogTotLikelihoods updated\n"
     ]
    },
    {
     "name": "stderr",
     "output_type": "stream",
     "text": [
      "C:\\Program Files\\Anaconda3\\lib\\site-packages\\qinfer\\smc.py:285: ApproximationWarning: Extremely small n_ess encountered (1.7926512045040417). Resampling is likely to fail. Consider adding particles, or resampling more often.\n",
      "  ApproximationWarning\n"
     ]
    },
    {
     "name": "stdout",
     "output_type": "stream",
     "text": [
      "LogTotLikelihoods updated\n"
     ]
    },
    {
     "name": "stderr",
     "output_type": "stream",
     "text": [
      "C:\\Program Files\\Anaconda3\\lib\\site-packages\\qinfer\\smc.py:285: ApproximationWarning: Extremely small n_ess encountered (3.8400093778793476). Resampling is likely to fail. Consider adding particles, or resampling more often.\n",
      "  ApproximationWarning\n"
     ]
    },
    {
     "name": "stdout",
     "output_type": "stream",
     "text": [
      "LogTotLikelihoods updated\n"
     ]
    },
    {
     "name": "stderr",
     "output_type": "stream",
     "text": [
      "C:\\Program Files\\Anaconda3\\lib\\site-packages\\qinfer\\smc.py:285: ApproximationWarning: Extremely small n_ess encountered (2.7250712814626494). Resampling is likely to fail. Consider adding particles, or resampling more often.\n",
      "  ApproximationWarning\n"
     ]
    },
    {
     "name": "stdout",
     "output_type": "stream",
     "text": [
      "LogTotLikelihoods updated\n"
     ]
    },
    {
     "name": "stderr",
     "output_type": "stream",
     "text": [
      "C:\\Program Files\\Anaconda3\\lib\\site-packages\\qinfer\\smc.py:285: ApproximationWarning: Extremely small n_ess encountered (1.0002760085950653). Resampling is likely to fail. Consider adding particles, or resampling more often.\n",
      "  ApproximationWarning\n"
     ]
    },
    {
     "name": "stdout",
     "output_type": "stream",
     "text": [
      "LogTotLikelihoods updated\n",
      "Total elapsed time for Bayes factor update: 220.80510084968932\n",
      "[[ 0.64636396]]\n",
      "Initialization Ready\n",
      "[[ 0.6474706]]\n",
      "Initialization Ready\n",
      "[[ 0.20838629]]\n",
      "Initialization Ready\n",
      "[[ 0.58697777  0.77836278]]\n",
      "Initialization Ready\n",
      "[[ 0.23390234  0.31982155]]\n",
      "Initialization Ready\n",
      "[[ 0.17643554  0.19260914]]\n",
      "Initialization Ready\n",
      "[[ 0.82424513  0.00426596  0.06965208]]\n",
      "Initialization Ready\n",
      "Initial time selected > 1.26334181796\n",
      "Final time selected > 1.05688256279\n",
      "Final Parameters mean and stdev:[ 0.26031926  0.77225458]\n",
      "Batch single time 0 elapsed time: 15.653657477205115\n",
      "\n",
      "\n",
      "Initial time selected > 17.615530036\n",
      "Final time selected > 98.4107845245\n",
      "Final Parameters mean and stdev:[ 0.57045917  0.00802001]\n",
      "Batch single time 1 elapsed time: 15.798375109331346\n",
      "\n",
      "\n",
      "Initial time selected > 1.80257716726\n",
      "Final time selected > 10.7332065149\n",
      "Final Parameters mean and stdev:[ 0.29807621  0.03357556]\n",
      "Batch single time 2 elapsed time: 23.711617494870325\n",
      "\n",
      "\n",
      "Initial time selected > 0.47767592917\n",
      "Final time selected > 2.44963920839\n",
      "Final Parameters mean and stdev:[ 0.3859167   0.04929383]\n",
      "Final Parameters mean and stdev:[ 1.05093823  0.08029538]\n",
      "Batch single time 3 elapsed time: 15.9993299419923\n",
      "\n",
      "\n",
      "Initial time selected > 0.930840671683\n",
      "Final time selected > 1.85949814413\n",
      "Final Parameters mean and stdev:[ 0.93157916  0.08604554]\n",
      "Final Parameters mean and stdev:[ 1.2155278   0.70806375]\n",
      "Batch single time 4 elapsed time: 15.797807347729076\n",
      "\n",
      "\n",
      "Initial time selected > 0.424210055024\n",
      "Final time selected > 64.6422704392\n",
      "Final Parameters mean and stdev:[ 0.62471199  0.02973132]\n",
      "Final Parameters mean and stdev:[ 0.67595052  0.01935013]\n",
      "Batch single time 5 elapsed time: 15.74853060648843\n",
      "\n",
      "\n",
      "Initial time selected > 1.73554631356\n",
      "Final time selected > 12.0454982572\n",
      "Final Parameters mean and stdev:[ 0.57090603  0.11576688]\n",
      "Final Parameters mean and stdev:[ 0.41733935  0.10750964]\n",
      "Final Parameters mean and stdev:[ 0.50833581  0.07604435]\n",
      "Batch single time 6 elapsed time: 15.85310401723632\n",
      "\n",
      "\n"
     ]
    },
    {
     "name": "stderr",
     "output_type": "stream",
     "text": [
      "C:\\Program Files\\Anaconda3\\lib\\site-packages\\qinfer\\smc.py:285: ApproximationWarning: Extremely small n_ess encountered (1.00000804836595). Resampling is likely to fail. Consider adding particles, or resampling more often.\n",
      "  ApproximationWarning\n"
     ]
    },
    {
     "name": "stdout",
     "output_type": "stream",
     "text": [
      "LogTotLikelihoods updated\n"
     ]
    },
    {
     "name": "stderr",
     "output_type": "stream",
     "text": [
      "C:\\Program Files\\Anaconda3\\lib\\site-packages\\qinfer\\smc.py:285: ApproximationWarning: Extremely small n_ess encountered (1.3690811595454353). Resampling is likely to fail. Consider adding particles, or resampling more often.\n",
      "  ApproximationWarning\n"
     ]
    },
    {
     "name": "stdout",
     "output_type": "stream",
     "text": [
      "LogTotLikelihoods updated\n"
     ]
    },
    {
     "name": "stderr",
     "output_type": "stream",
     "text": [
      "C:\\Program Files\\Anaconda3\\lib\\site-packages\\qinfer\\smc.py:285: ApproximationWarning: Extremely small n_ess encountered (1.6279574097466538). Resampling is likely to fail. Consider adding particles, or resampling more often.\n",
      "  ApproximationWarning\n"
     ]
    },
    {
     "name": "stdout",
     "output_type": "stream",
     "text": [
      "LogTotLikelihoods updated\n"
     ]
    },
    {
     "name": "stderr",
     "output_type": "stream",
     "text": [
      "C:\\Program Files\\Anaconda3\\lib\\site-packages\\qinfer\\smc.py:285: ApproximationWarning: Extremely small n_ess encountered (1.83402187851009). Resampling is likely to fail. Consider adding particles, or resampling more often.\n",
      "  ApproximationWarning\n"
     ]
    },
    {
     "name": "stdout",
     "output_type": "stream",
     "text": [
      "LogTotLikelihoods updated\n"
     ]
    },
    {
     "name": "stderr",
     "output_type": "stream",
     "text": [
      "C:\\Program Files\\Anaconda3\\lib\\site-packages\\qinfer\\smc.py:285: ApproximationWarning: Extremely small n_ess encountered (1.1166552074417055). Resampling is likely to fail. Consider adding particles, or resampling more often.\n",
      "  ApproximationWarning\n"
     ]
    },
    {
     "name": "stdout",
     "output_type": "stream",
     "text": [
      "LogTotLikelihoods updated\n"
     ]
    },
    {
     "name": "stderr",
     "output_type": "stream",
     "text": [
      "C:\\Program Files\\Anaconda3\\lib\\site-packages\\qinfer\\smc.py:285: ApproximationWarning: Extremely small n_ess encountered (2.5777827855305233). Resampling is likely to fail. Consider adding particles, or resampling more often.\n",
      "  ApproximationWarning\n"
     ]
    },
    {
     "name": "stdout",
     "output_type": "stream",
     "text": [
      "LogTotLikelihoods updated\n"
     ]
    },
    {
     "name": "stderr",
     "output_type": "stream",
     "text": [
      "C:\\Program Files\\Anaconda3\\lib\\site-packages\\qinfer\\smc.py:285: ApproximationWarning: Extremely small n_ess encountered (3.1566527373493516). Resampling is likely to fail. Consider adding particles, or resampling more often.\n",
      "  ApproximationWarning\n"
     ]
    },
    {
     "name": "stdout",
     "output_type": "stream",
     "text": [
      "LogTotLikelihoods updated\n",
      "Total elapsed time for the learning process: 259.05043312099383\n",
      "LogTotLikelihoods updated\n",
      "LogTotLikelihoods updated\n",
      "LogTotLikelihoods updated\n"
     ]
    },
    {
     "name": "stderr",
     "output_type": "stream",
     "text": [
      "C:\\Program Files\\Anaconda3\\lib\\site-packages\\qinfer\\smc.py:285: ApproximationWarning: Extremely small n_ess encountered (8.90725522016928). Resampling is likely to fail. Consider adding particles, or resampling more often.\n",
      "  ApproximationWarning\n"
     ]
    },
    {
     "name": "stdout",
     "output_type": "stream",
     "text": [
      "LogTotLikelihoods updated\n"
     ]
    },
    {
     "name": "stderr",
     "output_type": "stream",
     "text": [
      "C:\\Program Files\\Anaconda3\\lib\\site-packages\\qinfer\\smc.py:285: ApproximationWarning: Extremely small n_ess encountered (2.915301395380806). Resampling is likely to fail. Consider adding particles, or resampling more often.\n",
      "  ApproximationWarning\n"
     ]
    },
    {
     "name": "stdout",
     "output_type": "stream",
     "text": [
      "LogTotLikelihoods updated\n",
      "LogTotLikelihoods updated\n"
     ]
    },
    {
     "name": "stderr",
     "output_type": "stream",
     "text": [
      "C:\\Program Files\\Anaconda3\\lib\\site-packages\\qinfer\\smc.py:285: ApproximationWarning: Extremely small n_ess encountered (2.589378943634188). Resampling is likely to fail. Consider adding particles, or resampling more often.\n",
      "  ApproximationWarning\n"
     ]
    },
    {
     "name": "stdout",
     "output_type": "stream",
     "text": [
      "LogTotLikelihoods updated\n",
      "Total elapsed time for Bayes factor update: 214.16733506939272\n",
      "[[ 0.67320431]]\n",
      "Initialization Ready\n",
      "[[ 0.4942778]]\n",
      "Initialization Ready\n",
      "[[ 0.86022494]]\n",
      "Initialization Ready\n",
      "[[ 0.38102647  0.3179876 ]]\n",
      "Initialization Ready\n",
      "[[ 0.85597336  0.95644954]]\n",
      "Initialization Ready\n",
      "[[ 0.64848011  0.0940247 ]]\n",
      "Initialization Ready\n",
      "[[ 0.10517935  0.11656591  0.51819709]]\n",
      "Initialization Ready\n",
      "Initial time selected > 26.2685838765\n",
      "Final time selected > 3.062108615\n",
      "Final Parameters mean and stdev:[-0.81963085  0.57943345]\n",
      "Batch single time 0 elapsed time: 15.546241616826137\n",
      "\n",
      "\n",
      "Initial time selected > 1.17621295675\n",
      "Final time selected > 429.556362004\n",
      "Exiting learning for Reaching Cov. Norm. Thrshold of 8.57014023414e-07\n",
      " at Iteration Number 98\n",
      "Final Parameters mean and stdev:[ 0.88192123  0.00233965]\n",
      "Batch single time 1 elapsed time: 15.376076677942365\n",
      "\n",
      "\n",
      "Initial time selected > 0.469925004171\n",
      "Final time selected > 51.0978494435\n",
      "Final Parameters mean and stdev:[ 1.00653812  0.00370015]\n",
      "Batch single time 2 elapsed time: 23.673614214764257\n",
      "\n",
      "\n",
      "Initial time selected > 1.03798282557\n",
      "Final time selected > 39.9700479548\n",
      "Final Parameters mean and stdev:[-0.49398108  0.01082866]\n",
      "Final Parameters mean and stdev:[-0.14565469  0.00721291]\n",
      "Batch single time 3 elapsed time: 15.396116510639786\n",
      "\n",
      "\n",
      "Initial time selected > 0.479382699394\n",
      "Final time selected > 1.56637081645\n",
      "Final Parameters mean and stdev:[ 1.80566723  0.60013454]\n",
      "Final Parameters mean and stdev:[ 1.34426181  0.32009973]\n",
      "Batch single time 4 elapsed time: 15.527417754021371\n",
      "\n",
      "\n",
      "Initial time selected > 0.864993502089\n",
      "Final time selected > 21.511650865\n",
      "Final Parameters mean and stdev:[ 1.23348769  0.02634888]\n",
      "Final Parameters mean and stdev:[ 0.31887952  0.02132862]\n",
      "Batch single time 5 elapsed time: 15.426156561834432\n",
      "\n",
      "\n",
      "Initial time selected > 0.435220646913\n",
      "Final time selected > 5.46400699512\n",
      "Final Parameters mean and stdev:[ 0.17609566  0.10526177]\n",
      "Final Parameters mean and stdev:[ 0.54161354  0.07577938]\n",
      "Final Parameters mean and stdev:[ 0.92671672  0.03668317]\n",
      "Batch single time 6 elapsed time: 15.346747735740337\n",
      "\n",
      "\n"
     ]
    },
    {
     "name": "stderr",
     "output_type": "stream",
     "text": [
      "C:\\Program Files\\Anaconda3\\lib\\site-packages\\qinfer\\smc.py:285: ApproximationWarning: Extremely small n_ess encountered (2.496553801529856). Resampling is likely to fail. Consider adding particles, or resampling more often.\n",
      "  ApproximationWarning\n"
     ]
    },
    {
     "name": "stdout",
     "output_type": "stream",
     "text": [
      "LogTotLikelihoods updated\n"
     ]
    },
    {
     "name": "stderr",
     "output_type": "stream",
     "text": [
      "C:\\Program Files\\Anaconda3\\lib\\site-packages\\qinfer\\smc.py:285: ApproximationWarning: Extremely small n_ess encountered (2.8479471735365993). Resampling is likely to fail. Consider adding particles, or resampling more often.\n",
      "  ApproximationWarning\n"
     ]
    },
    {
     "name": "stdout",
     "output_type": "stream",
     "text": [
      "LogTotLikelihoods updated\n"
     ]
    },
    {
     "name": "stderr",
     "output_type": "stream",
     "text": [
      "C:\\Program Files\\Anaconda3\\lib\\site-packages\\qinfer\\smc.py:285: ApproximationWarning: Extremely small n_ess encountered (1.007058251784969). Resampling is likely to fail. Consider adding particles, or resampling more often.\n",
      "  ApproximationWarning\n"
     ]
    },
    {
     "name": "stdout",
     "output_type": "stream",
     "text": [
      "LogTotLikelihoods updated\n"
     ]
    },
    {
     "name": "stderr",
     "output_type": "stream",
     "text": [
      "C:\\Program Files\\Anaconda3\\lib\\site-packages\\qinfer\\smc.py:285: ApproximationWarning: Extremely small n_ess encountered (1.4652186064755992). Resampling is likely to fail. Consider adding particles, or resampling more often.\n",
      "  ApproximationWarning\n"
     ]
    },
    {
     "name": "stdout",
     "output_type": "stream",
     "text": [
      "LogTotLikelihoods updated\n"
     ]
    },
    {
     "name": "stderr",
     "output_type": "stream",
     "text": [
      "C:\\Program Files\\Anaconda3\\lib\\site-packages\\qinfer\\smc.py:285: ApproximationWarning: Extremely small n_ess encountered (2.9722105307931703). Resampling is likely to fail. Consider adding particles, or resampling more often.\n",
      "  ApproximationWarning\n"
     ]
    },
    {
     "name": "stdout",
     "output_type": "stream",
     "text": [
      "LogTotLikelihoods updated\n"
     ]
    },
    {
     "name": "stderr",
     "output_type": "stream",
     "text": [
      "C:\\Program Files\\Anaconda3\\lib\\site-packages\\qinfer\\smc.py:285: ApproximationWarning: Extremely small n_ess encountered (4.599932667261765). Resampling is likely to fail. Consider adding particles, or resampling more often.\n",
      "  ApproximationWarning\n"
     ]
    },
    {
     "name": "stdout",
     "output_type": "stream",
     "text": [
      "LogTotLikelihoods updated\n"
     ]
    },
    {
     "name": "stderr",
     "output_type": "stream",
     "text": [
      "C:\\Program Files\\Anaconda3\\lib\\site-packages\\qinfer\\smc.py:285: ApproximationWarning: Extremely small n_ess encountered (2.542138228793858). Resampling is likely to fail. Consider adding particles, or resampling more often.\n",
      "  ApproximationWarning\n"
     ]
    },
    {
     "name": "stdout",
     "output_type": "stream",
     "text": [
      "LogTotLikelihoods updated\n",
      "Total elapsed time for the learning process: 255.64678110621844\n"
     ]
    },
    {
     "name": "stderr",
     "output_type": "stream",
     "text": [
      "C:\\Program Files\\Anaconda3\\lib\\site-packages\\qinfer\\smc.py:285: ApproximationWarning: Extremely small n_ess encountered (1.3725212410144791). Resampling is likely to fail. Consider adding particles, or resampling more often.\n",
      "  ApproximationWarning\n"
     ]
    },
    {
     "name": "stdout",
     "output_type": "stream",
     "text": [
      "LogTotLikelihoods updated\n",
      "LogTotLikelihoods updated\n",
      "LogTotLikelihoods updated\n",
      "LogTotLikelihoods updated\n"
     ]
    },
    {
     "name": "stderr",
     "output_type": "stream",
     "text": [
      "C:\\Program Files\\Anaconda3\\lib\\site-packages\\qinfer\\smc.py:285: ApproximationWarning: Extremely small n_ess encountered (3.4954630938623152). Resampling is likely to fail. Consider adding particles, or resampling more often.\n",
      "  ApproximationWarning\n"
     ]
    },
    {
     "name": "stdout",
     "output_type": "stream",
     "text": [
      "LogTotLikelihoods updated\n"
     ]
    },
    {
     "name": "stderr",
     "output_type": "stream",
     "text": [
      "C:\\Program Files\\Anaconda3\\lib\\site-packages\\qinfer\\smc.py:285: ApproximationWarning: Extremely small n_ess encountered (6.807890810102151). Resampling is likely to fail. Consider adding particles, or resampling more often.\n",
      "  ApproximationWarning\n"
     ]
    },
    {
     "name": "stdout",
     "output_type": "stream",
     "text": [
      "LogTotLikelihoods updated\n"
     ]
    },
    {
     "name": "stderr",
     "output_type": "stream",
     "text": [
      "C:\\Program Files\\Anaconda3\\lib\\site-packages\\qinfer\\smc.py:285: ApproximationWarning: Extremely small n_ess encountered (9.024076258201633). Resampling is likely to fail. Consider adding particles, or resampling more often.\n",
      "  ApproximationWarning\n"
     ]
    },
    {
     "name": "stdout",
     "output_type": "stream",
     "text": [
      "LogTotLikelihoods updated\n",
      "Total elapsed time for Bayes factor update: 215.69430490420245\n",
      "[[ 0.15516415]]\n",
      "Initialization Ready\n",
      "[[ 0.44770978]]\n",
      "Initialization Ready\n",
      "[[ 0.78950832]]\n",
      "Initialization Ready\n",
      "[[ 0.62579073  0.21286886]]\n",
      "Initialization Ready\n",
      "[[ 0.71472025  0.17701729]]\n",
      "Initialization Ready\n",
      "[[ 0.03385457  0.81038808]]\n",
      "Initialization Ready\n",
      "[[ 0.84188657  0.57699512  0.69397143]]\n",
      "Initialization Ready\n",
      "Initial time selected > 1.20265805541\n",
      "Final time selected > 3.72458622427\n",
      "Final Parameters mean and stdev:[ 0.97706863  0.08865343]\n",
      "Batch single time 0 elapsed time: 15.499806000992066\n",
      "\n",
      "\n",
      "Initial time selected > 1.05334605573\n",
      "Final time selected > 0.605865275214\n",
      "Final Parameters mean and stdev:[ 0.68225367  0.4376502 ]\n",
      "Batch single time 1 elapsed time: 15.59444010760626\n",
      "\n",
      "\n",
      "Initial time selected > 3.82019950686\n",
      "Final time selected > 22.3909772906\n",
      "Final Parameters mean and stdev:[ 0.61413763  0.02366036]\n",
      "Batch single time 2 elapsed time: 23.561674469664013\n",
      "\n",
      "\n",
      "Initial time selected > 0.896009116856\n",
      "Final time selected > 1.47132169953\n",
      "Final Parameters mean and stdev:[ 0.47747284  0.57612416]\n",
      "Final Parameters mean and stdev:[-0.17569712  0.33363929]\n",
      "Batch single time 3 elapsed time: 15.371229351188958\n",
      "\n",
      "\n",
      "Initial time selected > 0.571409572454\n",
      "Final time selected > 10.1903543094\n",
      "Final Parameters mean and stdev:[ 0.35863239  0.05379227]\n",
      "Final Parameters mean and stdev:[ 0.96163339  0.06908187]\n",
      "Batch single time 4 elapsed time: 15.518890736183494\n",
      "\n",
      "\n",
      "Initial time selected > 0.580992641333\n",
      "Final time selected > 8.11400894746\n",
      "Final Parameters mean and stdev:[-0.82747998  0.04382475]\n",
      "Final Parameters mean and stdev:[ 0.31882522  0.03734936]\n",
      "Batch single time 5 elapsed time: 15.702142331709183\n",
      "\n",
      "\n",
      "Initial time selected > 0.814345365683\n",
      "Final time selected > 3.02212206667\n",
      "Final Parameters mean and stdev:[ 0.28428878  0.07267482]\n",
      "Final Parameters mean and stdev:[ 0.33950689  0.04352046]\n",
      "Final Parameters mean and stdev:[ 0.62164629  0.07011759]\n",
      "Batch single time 6 elapsed time: 15.508868999024799\n",
      "\n",
      "\n"
     ]
    },
    {
     "name": "stderr",
     "output_type": "stream",
     "text": [
      "C:\\Program Files\\Anaconda3\\lib\\site-packages\\qinfer\\smc.py:285: ApproximationWarning: Extremely small n_ess encountered (1.5373092972069382). Resampling is likely to fail. Consider adding particles, or resampling more often.\n",
      "  ApproximationWarning\n"
     ]
    },
    {
     "name": "stdout",
     "output_type": "stream",
     "text": [
      "LogTotLikelihoods updated\n"
     ]
    },
    {
     "name": "stderr",
     "output_type": "stream",
     "text": [
      "C:\\Program Files\\Anaconda3\\lib\\site-packages\\qinfer\\smc.py:285: ApproximationWarning: Extremely small n_ess encountered (2.166971037652497). Resampling is likely to fail. Consider adding particles, or resampling more often.\n",
      "  ApproximationWarning\n"
     ]
    },
    {
     "name": "stdout",
     "output_type": "stream",
     "text": [
      "LogTotLikelihoods updated\n"
     ]
    },
    {
     "name": "stderr",
     "output_type": "stream",
     "text": [
      "C:\\Program Files\\Anaconda3\\lib\\site-packages\\qinfer\\smc.py:285: ApproximationWarning: Extremely small n_ess encountered (4.225920008645487). Resampling is likely to fail. Consider adding particles, or resampling more often.\n",
      "  ApproximationWarning\n"
     ]
    },
    {
     "name": "stdout",
     "output_type": "stream",
     "text": [
      "LogTotLikelihoods updated\n"
     ]
    },
    {
     "name": "stderr",
     "output_type": "stream",
     "text": [
      "C:\\Program Files\\Anaconda3\\lib\\site-packages\\qinfer\\smc.py:285: ApproximationWarning: Extremely small n_ess encountered (1.4395592159187613). Resampling is likely to fail. Consider adding particles, or resampling more often.\n",
      "  ApproximationWarning\n"
     ]
    },
    {
     "name": "stdout",
     "output_type": "stream",
     "text": [
      "LogTotLikelihoods updated\n"
     ]
    },
    {
     "name": "stderr",
     "output_type": "stream",
     "text": [
      "C:\\Program Files\\Anaconda3\\lib\\site-packages\\qinfer\\smc.py:285: ApproximationWarning: Extremely small n_ess encountered (1.011026310067791). Resampling is likely to fail. Consider adding particles, or resampling more often.\n",
      "  ApproximationWarning\n"
     ]
    },
    {
     "name": "stdout",
     "output_type": "stream",
     "text": [
      "LogTotLikelihoods updated\n"
     ]
    },
    {
     "name": "stderr",
     "output_type": "stream",
     "text": [
      "C:\\Program Files\\Anaconda3\\lib\\site-packages\\qinfer\\smc.py:285: ApproximationWarning: Extremely small n_ess encountered (1.4554707559741296). Resampling is likely to fail. Consider adding particles, or resampling more often.\n",
      "  ApproximationWarning\n"
     ]
    },
    {
     "name": "stdout",
     "output_type": "stream",
     "text": [
      "LogTotLikelihoods updated\n"
     ]
    },
    {
     "name": "stderr",
     "output_type": "stream",
     "text": [
      "C:\\Program Files\\Anaconda3\\lib\\site-packages\\qinfer\\smc.py:285: ApproximationWarning: Extremely small n_ess encountered (1.8562911898005166). Resampling is likely to fail. Consider adding particles, or resampling more often.\n",
      "  ApproximationWarning\n"
     ]
    },
    {
     "name": "stdout",
     "output_type": "stream",
     "text": [
      "LogTotLikelihoods updated\n",
      "Total elapsed time for the learning process: 252.7537543442868\n"
     ]
    },
    {
     "name": "stderr",
     "output_type": "stream",
     "text": [
      "C:\\Program Files\\Anaconda3\\lib\\site-packages\\qinfer\\smc.py:285: ApproximationWarning: Extremely small n_ess encountered (5.8229648333054795). Resampling is likely to fail. Consider adding particles, or resampling more often.\n",
      "  ApproximationWarning\n"
     ]
    },
    {
     "name": "stdout",
     "output_type": "stream",
     "text": [
      "LogTotLikelihoods updated\n"
     ]
    },
    {
     "name": "stderr",
     "output_type": "stream",
     "text": [
      "C:\\Program Files\\Anaconda3\\lib\\site-packages\\qinfer\\smc.py:285: ApproximationWarning: Extremely small n_ess encountered (1.0005693691607096). Resampling is likely to fail. Consider adding particles, or resampling more often.\n",
      "  ApproximationWarning\n"
     ]
    },
    {
     "name": "stdout",
     "output_type": "stream",
     "text": [
      "LogTotLikelihoods updated\n"
     ]
    },
    {
     "name": "stderr",
     "output_type": "stream",
     "text": [
      "C:\\Program Files\\Anaconda3\\lib\\site-packages\\qinfer\\smc.py:285: ApproximationWarning: Extremely small n_ess encountered (1.6700290272974971). Resampling is likely to fail. Consider adding particles, or resampling more often.\n",
      "  ApproximationWarning\n"
     ]
    },
    {
     "name": "stdout",
     "output_type": "stream",
     "text": [
      "LogTotLikelihoods updated\n"
     ]
    },
    {
     "name": "stderr",
     "output_type": "stream",
     "text": [
      "C:\\Program Files\\Anaconda3\\lib\\site-packages\\qinfer\\smc.py:285: ApproximationWarning: Extremely small n_ess encountered (1.1465909737324653). Resampling is likely to fail. Consider adding particles, or resampling more often.\n",
      "  ApproximationWarning\n"
     ]
    },
    {
     "name": "stdout",
     "output_type": "stream",
     "text": [
      "LogTotLikelihoods updated\n",
      "LogTotLikelihoods updated\n",
      "LogTotLikelihoods updated\n"
     ]
    },
    {
     "name": "stderr",
     "output_type": "stream",
     "text": [
      "C:\\Program Files\\Anaconda3\\lib\\site-packages\\qinfer\\smc.py:285: ApproximationWarning: Extremely small n_ess encountered (1.3078020115377522). Resampling is likely to fail. Consider adding particles, or resampling more often.\n",
      "  ApproximationWarning\n"
     ]
    },
    {
     "name": "stdout",
     "output_type": "stream",
     "text": [
      "LogTotLikelihoods updated\n",
      "Total elapsed time for Bayes factor update: 212.26314608125313\n",
      "[[ 0.85168314]]\n",
      "Initialization Ready\n",
      "[[ 0.64046809]]\n",
      "Initialization Ready\n",
      "[[ 0.18708991]]\n",
      "Initialization Ready\n",
      "[[ 0.12379067  0.53230989]]\n",
      "Initialization Ready\n",
      "[[ 0.44117815  0.3736116 ]]\n",
      "Initialization Ready\n",
      "[[ 0.5688243   0.06247804]]\n",
      "Initialization Ready\n",
      "[[ 0.22378521  0.36632594  0.15282414]]\n",
      "Initialization Ready\n",
      "Initial time selected > 4.56590789924\n",
      "Final time selected > 1.40435944802\n",
      "Final Parameters mean and stdev:[ 0.07044695  0.28219799]\n",
      "Batch single time 0 elapsed time: 15.849360763336335\n",
      "\n",
      "\n",
      "Initial time selected > 0.40089373643\n",
      "Final time selected > 611.055722614\n",
      "Final Parameters mean and stdev:[ 0.64151617  0.00652017]\n",
      "Batch single time 1 elapsed time: 15.79941495725734\n",
      "\n",
      "\n",
      "Initial time selected > 2.28528067463\n",
      "Final time selected > 48.2595944\n",
      "Final Parameters mean and stdev:[-0.10143095  0.01234106]\n",
      "Batch single time 2 elapsed time: 23.85004505676625\n",
      "\n",
      "\n",
      "Initial time selected > 0.547811771993\n",
      "Final time selected > 26.5581909601\n",
      "Final Parameters mean and stdev:[ 0.22416584  0.03430821]\n",
      "Final Parameters mean and stdev:[ 0.86153195  0.02957305]\n",
      "Batch single time 3 elapsed time: 15.575250758615766\n",
      "\n",
      "\n",
      "Initial time selected > 1.90194140932\n",
      "Final time selected > 20.2363599038\n",
      "Final Parameters mean and stdev:[ 0.37751344  0.01806896]\n",
      "Final Parameters mean and stdev:[-0.20914787  0.04194328]\n",
      "Batch single time 4 elapsed time: 15.635409652410544\n",
      "\n",
      "\n",
      "Initial time selected > 0.682656309025\n",
      "Final time selected > 41.1647202976\n",
      "Final Parameters mean and stdev:[ 0.36251163  0.00918161]\n",
      "Final Parameters mean and stdev:[ 0.05743663  0.01318817]\n",
      "Batch single time 5 elapsed time: 15.321204422647952\n",
      "\n",
      "\n",
      "Initial time selected > 0.785848092533\n",
      "Final time selected > 7.7368387048\n",
      "Final Parameters mean and stdev:[ 0.1282165   0.08295957]\n",
      "Final Parameters mean and stdev:[ 0.52175931  0.03764111]\n",
      "Final Parameters mean and stdev:[ 0.05339494  0.02871071]\n",
      "Batch single time 6 elapsed time: 15.426032084655162\n",
      "\n",
      "\n"
     ]
    },
    {
     "name": "stderr",
     "output_type": "stream",
     "text": [
      "C:\\Program Files\\Anaconda3\\lib\\site-packages\\qinfer\\smc.py:285: ApproximationWarning: Extremely small n_ess encountered (1.0000004972381251). Resampling is likely to fail. Consider adding particles, or resampling more often.\n",
      "  ApproximationWarning\n"
     ]
    },
    {
     "name": "stdout",
     "output_type": "stream",
     "text": [
      "LogTotLikelihoods updated\n"
     ]
    },
    {
     "name": "stderr",
     "output_type": "stream",
     "text": [
      "C:\\Program Files\\Anaconda3\\lib\\site-packages\\qinfer\\smc.py:285: ApproximationWarning: Extremely small n_ess encountered (2.4491224360540325). Resampling is likely to fail. Consider adding particles, or resampling more often.\n",
      "  ApproximationWarning\n"
     ]
    },
    {
     "name": "stdout",
     "output_type": "stream",
     "text": [
      "LogTotLikelihoods updated\n"
     ]
    },
    {
     "name": "stderr",
     "output_type": "stream",
     "text": [
      "C:\\Program Files\\Anaconda3\\lib\\site-packages\\qinfer\\smc.py:285: ApproximationWarning: Extremely small n_ess encountered (2.0920539875563247). Resampling is likely to fail. Consider adding particles, or resampling more often.\n",
      "  ApproximationWarning\n"
     ]
    },
    {
     "name": "stdout",
     "output_type": "stream",
     "text": [
      "LogTotLikelihoods updated\n"
     ]
    },
    {
     "name": "stderr",
     "output_type": "stream",
     "text": [
      "C:\\Program Files\\Anaconda3\\lib\\site-packages\\qinfer\\smc.py:285: ApproximationWarning: Extremely small n_ess encountered (2.0143603869026268). Resampling is likely to fail. Consider adding particles, or resampling more often.\n",
      "  ApproximationWarning\n"
     ]
    },
    {
     "name": "stdout",
     "output_type": "stream",
     "text": [
      "LogTotLikelihoods updated\n"
     ]
    },
    {
     "name": "stderr",
     "output_type": "stream",
     "text": [
      "C:\\Program Files\\Anaconda3\\lib\\site-packages\\qinfer\\smc.py:285: ApproximationWarning: Extremely small n_ess encountered (2.367677144809782). Resampling is likely to fail. Consider adding particles, or resampling more often.\n",
      "  ApproximationWarning\n"
     ]
    },
    {
     "name": "stdout",
     "output_type": "stream",
     "text": [
      "LogTotLikelihoods updated\n",
      "LogTotLikelihoods updated\n"
     ]
    },
    {
     "name": "stderr",
     "output_type": "stream",
     "text": [
      "C:\\Program Files\\Anaconda3\\lib\\site-packages\\qinfer\\smc.py:285: ApproximationWarning: Extremely small n_ess encountered (3.613591465377775). Resampling is likely to fail. Consider adding particles, or resampling more often.\n",
      "  ApproximationWarning\n"
     ]
    },
    {
     "name": "stdout",
     "output_type": "stream",
     "text": [
      "LogTotLikelihoods updated\n",
      "Total elapsed time for the learning process: 254.3134606840813\n",
      "LogTotLikelihoods updated\n",
      "LogTotLikelihoods updated\n"
     ]
    },
    {
     "name": "stderr",
     "output_type": "stream",
     "text": [
      "C:\\Program Files\\Anaconda3\\lib\\site-packages\\qinfer\\smc.py:285: ApproximationWarning: Extremely small n_ess encountered (7.341442739592521). Resampling is likely to fail. Consider adding particles, or resampling more often.\n",
      "  ApproximationWarning\n"
     ]
    },
    {
     "name": "stdout",
     "output_type": "stream",
     "text": [
      "LogTotLikelihoods updated\n"
     ]
    },
    {
     "name": "stderr",
     "output_type": "stream",
     "text": [
      "C:\\Program Files\\Anaconda3\\lib\\site-packages\\qinfer\\smc.py:285: ApproximationWarning: Extremely small n_ess encountered (1.4986076432810715). Resampling is likely to fail. Consider adding particles, or resampling more often.\n",
      "  ApproximationWarning\n"
     ]
    },
    {
     "name": "stdout",
     "output_type": "stream",
     "text": [
      "LogTotLikelihoods updated\n"
     ]
    },
    {
     "name": "stderr",
     "output_type": "stream",
     "text": [
      "C:\\Program Files\\Anaconda3\\lib\\site-packages\\qinfer\\smc.py:285: ApproximationWarning: Extremely small n_ess encountered (1.3993440982312741). Resampling is likely to fail. Consider adding particles, or resampling more often.\n",
      "  ApproximationWarning\n"
     ]
    },
    {
     "name": "stdout",
     "output_type": "stream",
     "text": [
      "LogTotLikelihoods updated\n"
     ]
    },
    {
     "name": "stderr",
     "output_type": "stream",
     "text": [
      "C:\\Program Files\\Anaconda3\\lib\\site-packages\\qinfer\\smc.py:285: ApproximationWarning: Extremely small n_ess encountered (6.848595904280244). Resampling is likely to fail. Consider adding particles, or resampling more often.\n",
      "  ApproximationWarning\n"
     ]
    },
    {
     "name": "stdout",
     "output_type": "stream",
     "text": [
      "LogTotLikelihoods updated\n"
     ]
    },
    {
     "name": "stderr",
     "output_type": "stream",
     "text": [
      "C:\\Program Files\\Anaconda3\\lib\\site-packages\\qinfer\\smc.py:285: ApproximationWarning: Extremely small n_ess encountered (2.902433830818458). Resampling is likely to fail. Consider adding particles, or resampling more often.\n",
      "  ApproximationWarning\n"
     ]
    },
    {
     "name": "stdout",
     "output_type": "stream",
     "text": [
      "LogTotLikelihoods updated\n",
      "Total elapsed time for Bayes factor update: 214.14727769070987\n",
      "[[ 0.87556857]]\n",
      "Initialization Ready\n",
      "[[ 0.89033486]]\n",
      "Initialization Ready\n",
      "[[ 0.50287746]]\n",
      "Initialization Ready\n",
      "[[ 0.52990902  0.42144034]]\n",
      "Initialization Ready\n",
      "[[ 0.09349901  0.01820473]]\n",
      "Initialization Ready\n",
      "[[ 0.82971301  0.35144202]]\n",
      "Initialization Ready\n",
      "[[ 0.25235361  0.88469902  0.13658431]]\n",
      "Initialization Ready\n",
      "Initial time selected > 1.8818221663\n",
      "Final time selected > 2.57122668187\n",
      "Final Parameters mean and stdev:[ 0.94035671  0.12042529]\n",
      "Batch single time 0 elapsed time: 15.791032611035007\n",
      "\n",
      "\n",
      "Initial time selected > 32.1089948284\n",
      "Final time selected > 118.82347317\n",
      "Final Parameters mean and stdev:[ 0.46256537  0.00398178]\n",
      "Batch single time 1 elapsed time: 15.648341043635355\n",
      "\n",
      "\n",
      "Initial time selected > 14.266422269\n",
      "Final time selected > 1.85752836969\n",
      "Final Parameters mean and stdev:[ 1.13520601  0.40482175]\n",
      "Batch single time 2 elapsed time: 24.342755196425514\n",
      "\n",
      "\n",
      "Initial time selected > 2.09037036357\n",
      "Final time selected > 3.78443688383\n",
      "Final Parameters mean and stdev:[ 0.5062238   0.18332872]\n",
      "Final Parameters mean and stdev:[ 0.37296908  0.26482058]\n",
      "Batch single time 3 elapsed time: 15.561819472336083\n",
      "\n",
      "\n",
      "Initial time selected > 0.452520442617\n",
      "Final time selected > 83.7961720833\n",
      "Final Parameters mean and stdev:[-0.09774626  0.03314951]\n",
      "Final Parameters mean and stdev:[-0.09744229  0.02031556]\n",
      "Batch single time 4 elapsed time: 15.490809545281081\n",
      "\n",
      "\n",
      "Initial time selected > 1.12994956185\n",
      "Final time selected > 6.93509179343\n",
      "Final Parameters mean and stdev:[ 0.02088933  0.0664177 ]\n",
      "Final Parameters mean and stdev:[ 0.64115977  0.07644695]\n",
      "Batch single time 5 elapsed time: 15.521220048506166\n",
      "\n",
      "\n",
      "Initial time selected > 0.286524811922\n",
      "Final time selected > 34.4244239279\n",
      "Final Parameters mean and stdev:[ 0.7073812   0.00922492]\n",
      "Final Parameters mean and stdev:[ 0.53846579  0.00870172]\n",
      "Final Parameters mean and stdev:[ 0.57198733  0.01038088]\n",
      "Batch single time 6 elapsed time: 15.489925955941544\n",
      "\n",
      "\n",
      "LogTotLikelihoods updated\n"
     ]
    },
    {
     "name": "stderr",
     "output_type": "stream",
     "text": [
      "C:\\Program Files\\Anaconda3\\lib\\site-packages\\qinfer\\smc.py:285: ApproximationWarning: Extremely small n_ess encountered (1.0). Resampling is likely to fail. Consider adding particles, or resampling more often.\n",
      "  ApproximationWarning\n",
      "C:\\Program Files\\Anaconda3\\lib\\site-packages\\qinfer\\resamplers.py:260: ResamplerWarning: Covariance has zero norm; adding in small covariance in resampler. Consider increasing n_particles to improve covariance estimates.\n",
      "  ResamplerWarning\n"
     ]
    },
    {
     "name": "stdout",
     "output_type": "stream",
     "text": [
      "LogTotLikelihoods updated\n"
     ]
    },
    {
     "name": "stderr",
     "output_type": "stream",
     "text": [
      "C:\\Program Files\\Anaconda3\\lib\\site-packages\\qinfer\\smc.py:285: ApproximationWarning: Extremely small n_ess encountered (1.638665883019949). Resampling is likely to fail. Consider adding particles, or resampling more often.\n",
      "  ApproximationWarning\n"
     ]
    },
    {
     "name": "stdout",
     "output_type": "stream",
     "text": [
      "LogTotLikelihoods updated\n"
     ]
    },
    {
     "name": "stderr",
     "output_type": "stream",
     "text": [
      "C:\\Program Files\\Anaconda3\\lib\\site-packages\\qinfer\\smc.py:285: ApproximationWarning: Extremely small n_ess encountered (1.0000157294083385). Resampling is likely to fail. Consider adding particles, or resampling more often.\n",
      "  ApproximationWarning\n"
     ]
    },
    {
     "name": "stdout",
     "output_type": "stream",
     "text": [
      "LogTotLikelihoods updated\n"
     ]
    },
    {
     "name": "stderr",
     "output_type": "stream",
     "text": [
      "C:\\Program Files\\Anaconda3\\lib\\site-packages\\qinfer\\smc.py:285: ApproximationWarning: Extremely small n_ess encountered (2.0375492106417443). Resampling is likely to fail. Consider adding particles, or resampling more often.\n",
      "  ApproximationWarning\n"
     ]
    },
    {
     "name": "stdout",
     "output_type": "stream",
     "text": [
      "LogTotLikelihoods updated\n"
     ]
    },
    {
     "name": "stderr",
     "output_type": "stream",
     "text": [
      "C:\\Program Files\\Anaconda3\\lib\\site-packages\\qinfer\\smc.py:285: ApproximationWarning: Extremely small n_ess encountered (1.300241383647284). Resampling is likely to fail. Consider adding particles, or resampling more often.\n",
      "  ApproximationWarning\n"
     ]
    },
    {
     "name": "stdout",
     "output_type": "stream",
     "text": [
      "LogTotLikelihoods updated\n"
     ]
    },
    {
     "name": "stderr",
     "output_type": "stream",
     "text": [
      "C:\\Program Files\\Anaconda3\\lib\\site-packages\\qinfer\\smc.py:285: ApproximationWarning: Extremely small n_ess encountered (2.7518920364983877). Resampling is likely to fail. Consider adding particles, or resampling more often.\n",
      "  ApproximationWarning\n"
     ]
    },
    {
     "name": "stdout",
     "output_type": "stream",
     "text": [
      "LogTotLikelihoods updated\n",
      "Total elapsed time for the learning process: 264.2993305378941\n"
     ]
    },
    {
     "name": "stderr",
     "output_type": "stream",
     "text": [
      "C:\\Program Files\\Anaconda3\\lib\\site-packages\\qinfer\\smc.py:285: ApproximationWarning: Extremely small n_ess encountered (4.260104469111632). Resampling is likely to fail. Consider adding particles, or resampling more often.\n",
      "  ApproximationWarning\n"
     ]
    },
    {
     "name": "stdout",
     "output_type": "stream",
     "text": [
      "LogTotLikelihoods updated\n",
      "LogTotLikelihoods updated\n"
     ]
    },
    {
     "name": "stderr",
     "output_type": "stream",
     "text": [
      "C:\\Program Files\\Anaconda3\\lib\\site-packages\\qinfer\\smc.py:285: ApproximationWarning: Extremely small n_ess encountered (1.0151473287858739). Resampling is likely to fail. Consider adding particles, or resampling more often.\n",
      "  ApproximationWarning\n"
     ]
    },
    {
     "name": "stdout",
     "output_type": "stream",
     "text": [
      "LogTotLikelihoods updated\n",
      "LogTotLikelihoods updated\n"
     ]
    },
    {
     "name": "stderr",
     "output_type": "stream",
     "text": [
      "C:\\Program Files\\Anaconda3\\lib\\site-packages\\qinfer\\smc.py:285: ApproximationWarning: Extremely small n_ess encountered (2.699519347628025). Resampling is likely to fail. Consider adding particles, or resampling more often.\n",
      "  ApproximationWarning\n"
     ]
    },
    {
     "name": "stdout",
     "output_type": "stream",
     "text": [
      "LogTotLikelihoods updated\n"
     ]
    },
    {
     "name": "stderr",
     "output_type": "stream",
     "text": [
      "C:\\Program Files\\Anaconda3\\lib\\site-packages\\qinfer\\smc.py:285: ApproximationWarning: Extremely small n_ess encountered (2.189020258437576). Resampling is likely to fail. Consider adding particles, or resampling more often.\n",
      "  ApproximationWarning\n"
     ]
    },
    {
     "name": "stdout",
     "output_type": "stream",
     "text": [
      "LogTotLikelihoods updated\n"
     ]
    },
    {
     "name": "stderr",
     "output_type": "stream",
     "text": [
      "C:\\Program Files\\Anaconda3\\lib\\site-packages\\qinfer\\smc.py:285: ApproximationWarning: Extremely small n_ess encountered (5.821988270774977). Resampling is likely to fail. Consider adding particles, or resampling more often.\n",
      "  ApproximationWarning\n"
     ]
    },
    {
     "name": "stdout",
     "output_type": "stream",
     "text": [
      "LogTotLikelihoods updated\n",
      "Total elapsed time for Bayes factor update: 229.16341569352608\n",
      "[[ 0.28482887]]\n",
      "Initialization Ready\n",
      "[[ 0.51697045]]\n",
      "Initialization Ready\n",
      "[[ 0.60917203]]\n",
      "Initialization Ready\n",
      "[[ 0.40912776  0.96150197]]\n",
      "Initialization Ready\n",
      "[[ 0.99216585  0.5882473 ]]\n",
      "Initialization Ready\n",
      "[[ 0.37172525  0.98061079]]\n",
      "Initialization Ready\n",
      "[[ 0.95642796  0.60351563  0.79382923]]\n",
      "Initialization Ready\n",
      "Initial time selected > 0.505227192846\n",
      "Final time selected > 0.743173536208\n",
      "Final Parameters mean and stdev:[-0.96690306  1.52206386]\n",
      "Batch single time 0 elapsed time: 15.513827229648086\n",
      "\n",
      "\n",
      "Initial time selected > 76.1035308404\n",
      "Final time selected > 9.27231662417\n",
      "Final Parameters mean and stdev:[ 0.43637955  0.03605882]\n",
      "Batch single time 1 elapsed time: 15.697549256216007\n",
      "\n",
      "\n",
      "Initial time selected > 0.908441408152\n",
      "Final time selected > 922.982834039\n",
      "Final Parameters mean and stdev:[-0.34198236  0.00587114]\n",
      "Batch single time 2 elapsed time: 23.987511893198644\n",
      "\n",
      "\n",
      "Initial time selected > 0.435174633611\n",
      "Final time selected > 2.48092942953\n",
      "Final Parameters mean and stdev:[ 0.18907377  0.16071155]\n",
      "Final Parameters mean and stdev:[ 0.7021616   0.12164979]\n",
      "Batch single time 3 elapsed time: 15.32812416201341\n",
      "\n",
      "\n",
      "Initial time selected > 1.59467959644\n",
      "Final time selected > 0.509146313487\n",
      "Final Parameters mean and stdev:[ 0.09869722  0.11220329]\n",
      "Final Parameters mean and stdev:[ 0.52076483  0.43223388]\n",
      "Batch single time 4 elapsed time: 15.494649467627823\n",
      "\n",
      "\n",
      "Initial time selected > 0.913483347995\n",
      "Final time selected > 44.9691656493\n",
      "Final Parameters mean and stdev:[ 0.85294391  0.01765396]\n",
      "Final Parameters mean and stdev:[ 0.04993165  0.02322116]\n",
      "Batch single time 5 elapsed time: 15.754395931449835\n",
      "\n",
      "\n",
      "Initial time selected > 0.713056015802\n",
      "Final time selected > 2.27111328325\n",
      "Final Parameters mean and stdev:[ 0.97942763  0.15167665]\n",
      "Final Parameters mean and stdev:[ 1.04712991  0.22446179]\n",
      "Final Parameters mean and stdev:[-0.29634697  0.14259209]\n",
      "Batch single time 6 elapsed time: 15.428035306495985\n",
      "\n",
      "\n"
     ]
    },
    {
     "name": "stderr",
     "output_type": "stream",
     "text": [
      "C:\\Program Files\\Anaconda3\\lib\\site-packages\\qinfer\\smc.py:285: ApproximationWarning: Extremely small n_ess encountered (1.0023106824878865). Resampling is likely to fail. Consider adding particles, or resampling more often.\n",
      "  ApproximationWarning\n"
     ]
    },
    {
     "name": "stdout",
     "output_type": "stream",
     "text": [
      "LogTotLikelihoods updated\n"
     ]
    },
    {
     "name": "stderr",
     "output_type": "stream",
     "text": [
      "C:\\Program Files\\Anaconda3\\lib\\site-packages\\qinfer\\smc.py:285: ApproximationWarning: Extremely small n_ess encountered (2.1513098447737287). Resampling is likely to fail. Consider adding particles, or resampling more often.\n",
      "  ApproximationWarning\n"
     ]
    },
    {
     "name": "stdout",
     "output_type": "stream",
     "text": [
      "LogTotLikelihoods updated\n"
     ]
    },
    {
     "name": "stderr",
     "output_type": "stream",
     "text": [
      "C:\\Program Files\\Anaconda3\\lib\\site-packages\\qinfer\\smc.py:285: ApproximationWarning: Extremely small n_ess encountered (2.3417741795373526). Resampling is likely to fail. Consider adding particles, or resampling more often.\n",
      "  ApproximationWarning\n"
     ]
    },
    {
     "name": "stdout",
     "output_type": "stream",
     "text": [
      "LogTotLikelihoods updated\n"
     ]
    },
    {
     "name": "stderr",
     "output_type": "stream",
     "text": [
      "C:\\Program Files\\Anaconda3\\lib\\site-packages\\qinfer\\smc.py:285: ApproximationWarning: Extremely small n_ess encountered (3.142814905848634). Resampling is likely to fail. Consider adding particles, or resampling more often.\n",
      "  ApproximationWarning\n"
     ]
    },
    {
     "name": "stdout",
     "output_type": "stream",
     "text": [
      "LogTotLikelihoods updated\n"
     ]
    },
    {
     "name": "stderr",
     "output_type": "stream",
     "text": [
      "C:\\Program Files\\Anaconda3\\lib\\site-packages\\qinfer\\smc.py:285: ApproximationWarning: Extremely small n_ess encountered (1.4445011498216564). Resampling is likely to fail. Consider adding particles, or resampling more often.\n",
      "  ApproximationWarning\n"
     ]
    },
    {
     "name": "stdout",
     "output_type": "stream",
     "text": [
      "LogTotLikelihoods updated\n"
     ]
    },
    {
     "name": "stderr",
     "output_type": "stream",
     "text": [
      "C:\\Program Files\\Anaconda3\\lib\\site-packages\\qinfer\\smc.py:285: ApproximationWarning: Extremely small n_ess encountered (1.0474977824902378). Resampling is likely to fail. Consider adding particles, or resampling more often.\n",
      "  ApproximationWarning\n"
     ]
    },
    {
     "name": "stdout",
     "output_type": "stream",
     "text": [
      "LogTotLikelihoods updated\n"
     ]
    },
    {
     "name": "stderr",
     "output_type": "stream",
     "text": [
      "C:\\Program Files\\Anaconda3\\lib\\site-packages\\qinfer\\smc.py:285: ApproximationWarning: Extremely small n_ess encountered (1.0059527760470137). Resampling is likely to fail. Consider adding particles, or resampling more often.\n",
      "  ApproximationWarning\n"
     ]
    },
    {
     "name": "stdout",
     "output_type": "stream",
     "text": [
      "LogTotLikelihoods updated\n",
      "Total elapsed time for the learning process: 254.66177696470368\n",
      "LogTotLikelihoods updated\n",
      "LogTotLikelihoods updated\n",
      "LogTotLikelihoods updated\n"
     ]
    },
    {
     "name": "stderr",
     "output_type": "stream",
     "text": [
      "C:\\Program Files\\Anaconda3\\lib\\site-packages\\qinfer\\smc.py:285: ApproximationWarning: Extremely small n_ess encountered (1.3486718197666432). Resampling is likely to fail. Consider adding particles, or resampling more often.\n",
      "  ApproximationWarning\n"
     ]
    },
    {
     "name": "stdout",
     "output_type": "stream",
     "text": [
      "LogTotLikelihoods updated\n"
     ]
    },
    {
     "name": "stderr",
     "output_type": "stream",
     "text": [
      "C:\\Program Files\\Anaconda3\\lib\\site-packages\\qinfer\\smc.py:285: ApproximationWarning: Extremely small n_ess encountered (1.7685047634972573). Resampling is likely to fail. Consider adding particles, or resampling more often.\n",
      "  ApproximationWarning\n"
     ]
    },
    {
     "name": "stdout",
     "output_type": "stream",
     "text": [
      "LogTotLikelihoods updated\n"
     ]
    },
    {
     "name": "stderr",
     "output_type": "stream",
     "text": [
      "C:\\Program Files\\Anaconda3\\lib\\site-packages\\qinfer\\smc.py:285: ApproximationWarning: Extremely small n_ess encountered (9.039994849597518). Resampling is likely to fail. Consider adding particles, or resampling more often.\n",
      "  ApproximationWarning\n"
     ]
    },
    {
     "name": "stdout",
     "output_type": "stream",
     "text": [
      "LogTotLikelihoods updated\n"
     ]
    },
    {
     "name": "stderr",
     "output_type": "stream",
     "text": [
      "C:\\Program Files\\Anaconda3\\lib\\site-packages\\qinfer\\smc.py:285: ApproximationWarning: Extremely small n_ess encountered (1.0006358657846561). Resampling is likely to fail. Consider adding particles, or resampling more often.\n",
      "  ApproximationWarning\n",
      "C:\\Program Files\\Anaconda3\\lib\\site-packages\\qinfer\\utils.py:268: ApproximationWarning: Numerical error in covariance estimation causing positive semidefinite violation.\n",
      "  warnings.warn('Numerical error in covariance estimation causing positive semidefinite violation.', ApproximationWarning)\n"
     ]
    },
    {
     "name": "stdout",
     "output_type": "stream",
     "text": [
      "LogTotLikelihoods updated\n",
      "Total elapsed time for Bayes factor update: 216.11186658165116\n",
      "[[ 0.35676942]]\n",
      "Initialization Ready\n",
      "[[ 0.26883578]]\n",
      "Initialization Ready\n",
      "[[ 0.88022616]]\n",
      "Initialization Ready\n",
      "[[ 0.65594963  0.27879987]]\n",
      "Initialization Ready\n",
      "[[ 0.66624887  0.42509352]]\n",
      "Initialization Ready\n",
      "[[ 0.53827139  0.90572795]]\n",
      "Initialization Ready\n",
      "[[ 0.25912996  0.12334544  0.2819924 ]]\n",
      "Initialization Ready\n",
      "Initial time selected > 0.896086092825\n",
      "Final time selected > 21.5655929839\n",
      "Final Parameters mean and stdev:[ 0.20986053  0.0239228 ]\n",
      "Batch single time 0 elapsed time: 15.679505693175088\n",
      "\n",
      "\n",
      "Initial time selected > 0.415993246174\n",
      "Final time selected > 330.766687223\n",
      "Exiting learning for Reaching Cov. Norm. Thrshold of 9.9799668872e-07\n",
      " at Iteration Number 90\n",
      "Final Parameters mean and stdev:[-0.1724889  0.000999 ]\n",
      "Batch single time 1 elapsed time: 14.437578667259913\n",
      "\n",
      "\n",
      "Initial time selected > 3.93485496862\n",
      "Final time selected > 51.7757478484\n",
      "Final Parameters mean and stdev:[ 1.10069642  0.10688718]\n",
      "Batch single time 2 elapsed time: 23.880188066478695\n",
      "\n",
      "\n",
      "Initial time selected > 3.75624578877\n",
      "Final time selected > 444.745666629\n",
      "Final Parameters mean and stdev:[ 0.6687783   0.01082267]\n",
      "Final Parameters mean and stdev:[ 0.53581515  0.01007463]\n",
      "Batch single time 3 elapsed time: 15.59576267763623\n",
      "\n",
      "\n",
      "Initial time selected > 1.12810852518\n",
      "Final time selected > 21.9049799723\n",
      "Final Parameters mean and stdev:[ 0.91924858  0.02553562]\n",
      "Final Parameters mean and stdev:[ 0.26002924  0.03890002]\n",
      "Batch single time 4 elapsed time: 15.699341595174701\n",
      "\n",
      "\n",
      "Initial time selected > 0.568965486172\n",
      "Final time selected > 95.5608053058\n",
      "Final Parameters mean and stdev:[ 1.18627272  0.01856773]\n",
      "Final Parameters mean and stdev:[-0.23265162  0.01568716]\n",
      "Batch single time 5 elapsed time: 15.649087244598377\n",
      "\n",
      "\n",
      "Initial time selected > 0.297148980635\n",
      "Final time selected > 8.40208146444\n",
      "Final Parameters mean and stdev:[ 0.72559091  0.05626796]\n",
      "Final Parameters mean and stdev:[ 0.00284618  0.05735577]\n",
      "Final Parameters mean and stdev:[ 0.02229402  0.07487986]\n",
      "Batch single time 6 elapsed time: 15.548071365150463\n",
      "\n",
      "\n"
     ]
    },
    {
     "name": "stderr",
     "output_type": "stream",
     "text": [
      "C:\\Program Files\\Anaconda3\\lib\\site-packages\\qinfer\\smc.py:285: ApproximationWarning: Extremely small n_ess encountered (1.9446137796719574). Resampling is likely to fail. Consider adding particles, or resampling more often.\n",
      "  ApproximationWarning\n"
     ]
    },
    {
     "name": "stdout",
     "output_type": "stream",
     "text": [
      "LogTotLikelihoods updated\n"
     ]
    },
    {
     "name": "stderr",
     "output_type": "stream",
     "text": [
      "C:\\Program Files\\Anaconda3\\lib\\site-packages\\qinfer\\smc.py:285: ApproximationWarning: Extremely small n_ess encountered (1.3749965784667615). Resampling is likely to fail. Consider adding particles, or resampling more often.\n",
      "  ApproximationWarning\n"
     ]
    },
    {
     "name": "stdout",
     "output_type": "stream",
     "text": [
      "LogTotLikelihoods updated\n"
     ]
    },
    {
     "name": "stderr",
     "output_type": "stream",
     "text": [
      "C:\\Program Files\\Anaconda3\\lib\\site-packages\\qinfer\\smc.py:285: ApproximationWarning: Extremely small n_ess encountered (2.180574758572538). Resampling is likely to fail. Consider adding particles, or resampling more often.\n",
      "  ApproximationWarning\n"
     ]
    },
    {
     "name": "stdout",
     "output_type": "stream",
     "text": [
      "LogTotLikelihoods updated\n"
     ]
    },
    {
     "name": "stderr",
     "output_type": "stream",
     "text": [
      "C:\\Program Files\\Anaconda3\\lib\\site-packages\\qinfer\\smc.py:285: ApproximationWarning: Extremely small n_ess encountered (6.368488195725901). Resampling is likely to fail. Consider adding particles, or resampling more often.\n",
      "  ApproximationWarning\n"
     ]
    },
    {
     "name": "stdout",
     "output_type": "stream",
     "text": [
      "LogTotLikelihoods updated\n"
     ]
    },
    {
     "name": "stderr",
     "output_type": "stream",
     "text": [
      "C:\\Program Files\\Anaconda3\\lib\\site-packages\\qinfer\\smc.py:285: ApproximationWarning: Extremely small n_ess encountered (6.7746741341650605). Resampling is likely to fail. Consider adding particles, or resampling more often.\n",
      "  ApproximationWarning\n"
     ]
    },
    {
     "name": "stdout",
     "output_type": "stream",
     "text": [
      "LogTotLikelihoods updated\n"
     ]
    },
    {
     "name": "stderr",
     "output_type": "stream",
     "text": [
      "C:\\Program Files\\Anaconda3\\lib\\site-packages\\qinfer\\smc.py:285: ApproximationWarning: Extremely small n_ess encountered (3.3643123834562347). Resampling is likely to fail. Consider adding particles, or resampling more often.\n",
      "  ApproximationWarning\n"
     ]
    },
    {
     "name": "stdout",
     "output_type": "stream",
     "text": [
      "LogTotLikelihoods updated\n"
     ]
    },
    {
     "name": "stderr",
     "output_type": "stream",
     "text": [
      "C:\\Program Files\\Anaconda3\\lib\\site-packages\\qinfer\\smc.py:285: ApproximationWarning: Extremely small n_ess encountered (1.9542251421013372). Resampling is likely to fail. Consider adding particles, or resampling more often.\n",
      "  ApproximationWarning\n"
     ]
    },
    {
     "name": "stdout",
     "output_type": "stream",
     "text": [
      "LogTotLikelihoods updated\n",
      "Total elapsed time for the learning process: 257.7448883247689\n",
      "LogTotLikelihoods updated\n",
      "LogTotLikelihoods updated\n"
     ]
    },
    {
     "name": "stderr",
     "output_type": "stream",
     "text": [
      "C:\\Program Files\\Anaconda3\\lib\\site-packages\\qinfer\\smc.py:285: ApproximationWarning: Extremely small n_ess encountered (6.893790660116403). Resampling is likely to fail. Consider adding particles, or resampling more often.\n",
      "  ApproximationWarning\n"
     ]
    },
    {
     "name": "stdout",
     "output_type": "stream",
     "text": [
      "LogTotLikelihoods updated\n"
     ]
    },
    {
     "name": "stderr",
     "output_type": "stream",
     "text": [
      "C:\\Program Files\\Anaconda3\\lib\\site-packages\\qinfer\\smc.py:285: ApproximationWarning: Extremely small n_ess encountered (2.982426145045036). Resampling is likely to fail. Consider adding particles, or resampling more often.\n",
      "  ApproximationWarning\n"
     ]
    },
    {
     "name": "stdout",
     "output_type": "stream",
     "text": [
      "LogTotLikelihoods updated\n"
     ]
    },
    {
     "name": "stderr",
     "output_type": "stream",
     "text": [
      "C:\\Program Files\\Anaconda3\\lib\\site-packages\\qinfer\\smc.py:285: ApproximationWarning: Extremely small n_ess encountered (4.855723130725448). Resampling is likely to fail. Consider adding particles, or resampling more often.\n",
      "  ApproximationWarning\n"
     ]
    },
    {
     "name": "stdout",
     "output_type": "stream",
     "text": [
      "LogTotLikelihoods updated\n"
     ]
    },
    {
     "name": "stderr",
     "output_type": "stream",
     "text": [
      "C:\\Program Files\\Anaconda3\\lib\\site-packages\\qinfer\\smc.py:285: ApproximationWarning: Extremely small n_ess encountered (1.0222901376814106). Resampling is likely to fail. Consider adding particles, or resampling more often.\n",
      "  ApproximationWarning\n"
     ]
    },
    {
     "name": "stdout",
     "output_type": "stream",
     "text": [
      "LogTotLikelihoods updated\n"
     ]
    },
    {
     "name": "stderr",
     "output_type": "stream",
     "text": [
      "C:\\Program Files\\Anaconda3\\lib\\site-packages\\qinfer\\smc.py:285: ApproximationWarning: Extremely small n_ess encountered (2.9146913347180665). Resampling is likely to fail. Consider adding particles, or resampling more often.\n",
      "  ApproximationWarning\n"
     ]
    },
    {
     "name": "stdout",
     "output_type": "stream",
     "text": [
      "LogTotLikelihoods updated\n",
      "Total elapsed time for Bayes factor update: 217.00722530435633\n",
      "[[ 0.35925339]]\n",
      "Initialization Ready\n",
      "[[ 0.58921497]]\n",
      "Initialization Ready\n",
      "[[ 0.44462561]]\n",
      "Initialization Ready\n",
      "[[ 0.86799147  0.48275501]]\n",
      "Initialization Ready\n",
      "[[ 0.05044006  0.14373749]]\n",
      "Initialization Ready\n",
      "[[ 0.17224773  0.79958314]]\n",
      "Initialization Ready\n",
      "[[ 0.76725979  0.55851907  0.43299748]]\n",
      "Initialization Ready\n",
      "Initial time selected > 0.778493253851\n",
      "Final time selected > 8.04268697971\n",
      "Final Parameters mean and stdev:[ 2.03631236  0.26919634]\n",
      "Batch single time 0 elapsed time: 15.762103584876968\n",
      "\n",
      "\n",
      "Initial time selected > 0.56951521476\n",
      "Final time selected > 539.514393048\n",
      "Final Parameters mean and stdev:[ 0.77483848  0.03797012]\n",
      "Batch single time 1 elapsed time: 15.770419719833626\n",
      "\n",
      "\n",
      "Initial time selected > 7.58094300693\n",
      "Final time selected > 714.784925982\n",
      "Exiting learning for Reaching Cov. Norm. Thrshold of 7.67939553281e-07\n",
      " at Iteration Number 80\n",
      "Final Parameters mean and stdev:[ 0.73646207  0.00087632]\n",
      "Batch single time 2 elapsed time: 19.62540082644864\n",
      "\n",
      "\n",
      "Initial time selected > 0.380838608719\n",
      "Final time selected > 3.00584507218\n",
      "Final Parameters mean and stdev:[ 0.1963059   0.19340062]\n",
      "Final Parameters mean and stdev:[ 0.19311183  0.28158086]\n",
      "Batch single time 3 elapsed time: 15.358737271712016\n",
      "\n",
      "\n",
      "Initial time selected > 1.3262314946\n",
      "Final time selected > 69.6092583564\n",
      "Final Parameters mean and stdev:[ 0.96889711  0.01139378]\n",
      "Final Parameters mean and stdev:[ 0.3997869   0.01187522]\n",
      "Batch single time 4 elapsed time: 15.654745328298304\n",
      "\n",
      "\n",
      "Initial time selected > 0.402943757761\n",
      "Final time selected > 33.5359497981\n",
      "Final Parameters mean and stdev:[ 0.7096969   0.01515119]\n",
      "Final Parameters mean and stdev:[ 0.40147193  0.01095789]\n",
      "Batch single time 5 elapsed time: 15.719914097503533\n",
      "\n",
      "\n",
      "Initial time selected > 0.547622116624\n",
      "Final time selected > 2.84115661587\n",
      "Final Parameters mean and stdev:[ 0.55214766  0.10479872]\n",
      "Final Parameters mean and stdev:[ 0.37362603  0.04106042]\n",
      "Final Parameters mean and stdev:[-0.06113216  0.07828986]\n",
      "Batch single time 6 elapsed time: 15.53592457742343\n",
      "\n",
      "\n"
     ]
    },
    {
     "name": "stderr",
     "output_type": "stream",
     "text": [
      "C:\\Program Files\\Anaconda3\\lib\\site-packages\\qinfer\\smc.py:285: ApproximationWarning: Extremely small n_ess encountered (1.7273036530990327). Resampling is likely to fail. Consider adding particles, or resampling more often.\n",
      "  ApproximationWarning\n"
     ]
    },
    {
     "name": "stdout",
     "output_type": "stream",
     "text": [
      "LogTotLikelihoods updated\n",
      "LogTotLikelihoods updated\n"
     ]
    },
    {
     "name": "stderr",
     "output_type": "stream",
     "text": [
      "C:\\Program Files\\Anaconda3\\lib\\site-packages\\qinfer\\smc.py:285: ApproximationWarning: Extremely small n_ess encountered (1.4205552963221955). Resampling is likely to fail. Consider adding particles, or resampling more often.\n",
      "  ApproximationWarning\n"
     ]
    },
    {
     "name": "stdout",
     "output_type": "stream",
     "text": [
      "LogTotLikelihoods updated\n"
     ]
    },
    {
     "name": "stderr",
     "output_type": "stream",
     "text": [
      "C:\\Program Files\\Anaconda3\\lib\\site-packages\\qinfer\\smc.py:285: ApproximationWarning: Extremely small n_ess encountered (1.387597913975241). Resampling is likely to fail. Consider adding particles, or resampling more often.\n",
      "  ApproximationWarning\n"
     ]
    },
    {
     "name": "stdout",
     "output_type": "stream",
     "text": [
      "LogTotLikelihoods updated\n"
     ]
    },
    {
     "name": "stderr",
     "output_type": "stream",
     "text": [
      "C:\\Program Files\\Anaconda3\\lib\\site-packages\\qinfer\\smc.py:285: ApproximationWarning: Extremely small n_ess encountered (1.5670495505134263). Resampling is likely to fail. Consider adding particles, or resampling more often.\n",
      "  ApproximationWarning\n"
     ]
    },
    {
     "name": "stdout",
     "output_type": "stream",
     "text": [
      "LogTotLikelihoods updated\n"
     ]
    },
    {
     "name": "stderr",
     "output_type": "stream",
     "text": [
      "C:\\Program Files\\Anaconda3\\lib\\site-packages\\qinfer\\smc.py:285: ApproximationWarning: Extremely small n_ess encountered (2.083299781561079). Resampling is likely to fail. Consider adding particles, or resampling more often.\n",
      "  ApproximationWarning\n"
     ]
    },
    {
     "name": "stdout",
     "output_type": "stream",
     "text": [
      "LogTotLikelihoods updated\n"
     ]
    },
    {
     "name": "stderr",
     "output_type": "stream",
     "text": [
      "C:\\Program Files\\Anaconda3\\lib\\site-packages\\qinfer\\smc.py:285: ApproximationWarning: Extremely small n_ess encountered (1.516148486887644). Resampling is likely to fail. Consider adding particles, or resampling more often.\n",
      "  ApproximationWarning\n"
     ]
    },
    {
     "name": "stdout",
     "output_type": "stream",
     "text": [
      "LogTotLikelihoods updated\n",
      "Total elapsed time for the learning process: 251.63538316790437\n"
     ]
    },
    {
     "name": "stderr",
     "output_type": "stream",
     "text": [
      "C:\\Program Files\\Anaconda3\\lib\\site-packages\\qinfer\\smc.py:285: ApproximationWarning: Extremely small n_ess encountered (6.359775031721038). Resampling is likely to fail. Consider adding particles, or resampling more often.\n",
      "  ApproximationWarning\n"
     ]
    },
    {
     "name": "stdout",
     "output_type": "stream",
     "text": [
      "LogTotLikelihoods updated\n"
     ]
    },
    {
     "name": "stderr",
     "output_type": "stream",
     "text": [
      "C:\\Program Files\\Anaconda3\\lib\\site-packages\\qinfer\\smc.py:285: ApproximationWarning: Extremely small n_ess encountered (1.0027144723754648). Resampling is likely to fail. Consider adding particles, or resampling more often.\n",
      "  ApproximationWarning\n"
     ]
    },
    {
     "name": "stdout",
     "output_type": "stream",
     "text": [
      "LogTotLikelihoods updated\n",
      "LogTotLikelihoods updated\n"
     ]
    },
    {
     "name": "stderr",
     "output_type": "stream",
     "text": [
      "C:\\Program Files\\Anaconda3\\lib\\site-packages\\qinfer\\smc.py:285: ApproximationWarning: Extremely small n_ess encountered (1.7247715410403666). Resampling is likely to fail. Consider adding particles, or resampling more often.\n",
      "  ApproximationWarning\n"
     ]
    },
    {
     "name": "stdout",
     "output_type": "stream",
     "text": [
      "LogTotLikelihoods updated\n"
     ]
    },
    {
     "name": "stderr",
     "output_type": "stream",
     "text": [
      "C:\\Program Files\\Anaconda3\\lib\\site-packages\\qinfer\\smc.py:285: ApproximationWarning: Extremely small n_ess encountered (4.980410194419479). Resampling is likely to fail. Consider adding particles, or resampling more often.\n",
      "  ApproximationWarning\n"
     ]
    },
    {
     "name": "stdout",
     "output_type": "stream",
     "text": [
      "LogTotLikelihoods updated\n"
     ]
    },
    {
     "name": "stderr",
     "output_type": "stream",
     "text": [
      "C:\\Program Files\\Anaconda3\\lib\\site-packages\\qinfer\\smc.py:285: ApproximationWarning: Extremely small n_ess encountered (6.7348142264028725). Resampling is likely to fail. Consider adding particles, or resampling more often.\n",
      "  ApproximationWarning\n"
     ]
    },
    {
     "name": "stdout",
     "output_type": "stream",
     "text": [
      "LogTotLikelihoods updated\n"
     ]
    },
    {
     "name": "stderr",
     "output_type": "stream",
     "text": [
      "C:\\Program Files\\Anaconda3\\lib\\site-packages\\qinfer\\smc.py:285: ApproximationWarning: Extremely small n_ess encountered (2.1400407992575574). Resampling is likely to fail. Consider adding particles, or resampling more often.\n",
      "  ApproximationWarning\n"
     ]
    },
    {
     "name": "stdout",
     "output_type": "stream",
     "text": [
      "LogTotLikelihoods updated\n",
      "Total elapsed time for Bayes factor update: 212.64255020634755\n",
      "[[ 0.75645572]]\n",
      "Initialization Ready\n",
      "[[ 0.27500256]]\n",
      "Initialization Ready\n",
      "[[ 0.39746787]]\n",
      "Initialization Ready\n",
      "[[ 0.86380249  0.12309203]]\n",
      "Initialization Ready\n",
      "[[ 0.751059    0.08265863]]\n",
      "Initialization Ready\n",
      "[[ 0.40404672  0.35916061]]\n",
      "Initialization Ready\n",
      "[[ 0.5554184   0.07449325  0.61735762]]\n",
      "Initialization Ready\n",
      "Initial time selected > 3.43443522404\n",
      "Final time selected > 4.44537064998\n",
      "Final Parameters mean and stdev:[-1.01832312  0.55586721]\n",
      "Batch single time 0 elapsed time: 15.77490818152819\n",
      "\n",
      "\n",
      "Initial time selected > 0.689356863163\n",
      "Final time selected > 13.973884465\n",
      "Final Parameters mean and stdev:[ 0.73940111  0.01087981]\n",
      "Batch single time 1 elapsed time: 15.831252975368443\n",
      "\n",
      "\n",
      "Initial time selected > 0.511268564852\n",
      "Final time selected > 3072.12073355\n",
      "Final Parameters mean and stdev:[ 0.45955291  0.00427472]\n",
      "Batch single time 2 elapsed time: 23.793472165115418\n",
      "\n",
      "\n",
      "Initial time selected > 1.03561739483\n",
      "Final time selected > 7.66397998484\n",
      "Final Parameters mean and stdev:[ 0.25341963  0.12561651]\n",
      "Final Parameters mean and stdev:[ 0.4303973   0.12694236]\n",
      "Batch single time 3 elapsed time: 15.318346744425071\n",
      "\n",
      "\n",
      "Initial time selected > 0.64820926204\n",
      "Final time selected > 7.46641102241\n",
      "Final Parameters mean and stdev:[-0.630044    0.16573332]\n",
      "Final Parameters mean and stdev:[ 1.374901    0.35807275]\n",
      "Batch single time 4 elapsed time: 15.547975027759094\n",
      "\n",
      "\n",
      "Initial time selected > 0.875661844144\n",
      "Final time selected > 113.475583957\n",
      "Final Parameters mean and stdev:[ 0.47300452  0.00476533]\n",
      "Final Parameters mean and stdev:[ 0.34072285  0.0056519 ]\n",
      "Batch single time 5 elapsed time: 15.69791606662693\n",
      "\n",
      "\n",
      "Initial time selected > 0.785322296423\n",
      "Final time selected > 8.32459118474\n",
      "Final Parameters mean and stdev:[ 0.01138704  0.05644187]\n",
      "Final Parameters mean and stdev:[ 0.53611963  0.04566656]\n",
      "Final Parameters mean and stdev:[ 0.42221514  0.04017847]\n",
      "Batch single time 6 elapsed time: 15.627059418651697\n",
      "\n",
      "\n"
     ]
    },
    {
     "name": "stderr",
     "output_type": "stream",
     "text": [
      "C:\\Program Files\\Anaconda3\\lib\\site-packages\\qinfer\\smc.py:285: ApproximationWarning: Extremely small n_ess encountered (6.762366962217108). Resampling is likely to fail. Consider adding particles, or resampling more often.\n",
      "  ApproximationWarning\n"
     ]
    },
    {
     "name": "stdout",
     "output_type": "stream",
     "text": [
      "LogTotLikelihoods updated\n"
     ]
    },
    {
     "name": "stderr",
     "output_type": "stream",
     "text": [
      "C:\\Program Files\\Anaconda3\\lib\\site-packages\\qinfer\\smc.py:285: ApproximationWarning: Extremely small n_ess encountered (1.6915179800387519). Resampling is likely to fail. Consider adding particles, or resampling more often.\n",
      "  ApproximationWarning\n"
     ]
    },
    {
     "name": "stdout",
     "output_type": "stream",
     "text": [
      "LogTotLikelihoods updated\n"
     ]
    },
    {
     "name": "stderr",
     "output_type": "stream",
     "text": [
      "C:\\Program Files\\Anaconda3\\lib\\site-packages\\qinfer\\smc.py:285: ApproximationWarning: Extremely small n_ess encountered (1.9537931430033293). Resampling is likely to fail. Consider adding particles, or resampling more often.\n",
      "  ApproximationWarning\n"
     ]
    },
    {
     "name": "stdout",
     "output_type": "stream",
     "text": [
      "LogTotLikelihoods updated\n"
     ]
    },
    {
     "name": "stderr",
     "output_type": "stream",
     "text": [
      "C:\\Program Files\\Anaconda3\\lib\\site-packages\\qinfer\\smc.py:285: ApproximationWarning: Extremely small n_ess encountered (1.678647652675723). Resampling is likely to fail. Consider adding particles, or resampling more often.\n",
      "  ApproximationWarning\n"
     ]
    },
    {
     "name": "stdout",
     "output_type": "stream",
     "text": [
      "LogTotLikelihoods updated\n"
     ]
    },
    {
     "name": "stderr",
     "output_type": "stream",
     "text": [
      "C:\\Program Files\\Anaconda3\\lib\\site-packages\\qinfer\\smc.py:285: ApproximationWarning: Extremely small n_ess encountered (1.4477385839935826). Resampling is likely to fail. Consider adding particles, or resampling more often.\n",
      "  ApproximationWarning\n"
     ]
    },
    {
     "name": "stdout",
     "output_type": "stream",
     "text": [
      "LogTotLikelihoods updated\n",
      "LogTotLikelihoods updated\n"
     ]
    },
    {
     "name": "stderr",
     "output_type": "stream",
     "text": [
      "C:\\Program Files\\Anaconda3\\lib\\site-packages\\qinfer\\smc.py:285: ApproximationWarning: Extremely small n_ess encountered (1.7211641118518268). Resampling is likely to fail. Consider adding particles, or resampling more often.\n",
      "  ApproximationWarning\n"
     ]
    },
    {
     "name": "stdout",
     "output_type": "stream",
     "text": [
      "LogTotLikelihoods updated\n",
      "Total elapsed time for the learning process: 257.0105312328469\n"
     ]
    },
    {
     "name": "stderr",
     "output_type": "stream",
     "text": [
      "C:\\Program Files\\Anaconda3\\lib\\site-packages\\qinfer\\smc.py:285: ApproximationWarning: Extremely small n_ess encountered (3.65372614102738). Resampling is likely to fail. Consider adding particles, or resampling more often.\n",
      "  ApproximationWarning\n"
     ]
    },
    {
     "name": "stdout",
     "output_type": "stream",
     "text": [
      "LogTotLikelihoods updated\n",
      "LogTotLikelihoods updated\n",
      "LogTotLikelihoods updated\n"
     ]
    },
    {
     "name": "stderr",
     "output_type": "stream",
     "text": [
      "C:\\Program Files\\Anaconda3\\lib\\site-packages\\qinfer\\smc.py:285: ApproximationWarning: Extremely small n_ess encountered (1.485622390742367). Resampling is likely to fail. Consider adding particles, or resampling more often.\n",
      "  ApproximationWarning\n"
     ]
    },
    {
     "name": "stdout",
     "output_type": "stream",
     "text": [
      "LogTotLikelihoods updated\n"
     ]
    },
    {
     "name": "stderr",
     "output_type": "stream",
     "text": [
      "C:\\Program Files\\Anaconda3\\lib\\site-packages\\qinfer\\smc.py:285: ApproximationWarning: Extremely small n_ess encountered (7.342369417004375). Resampling is likely to fail. Consider adding particles, or resampling more often.\n",
      "  ApproximationWarning\n"
     ]
    },
    {
     "name": "stdout",
     "output_type": "stream",
     "text": [
      "LogTotLikelihoods updated\n",
      "LogTotLikelihoods updated\n"
     ]
    },
    {
     "name": "stderr",
     "output_type": "stream",
     "text": [
      "C:\\Program Files\\Anaconda3\\lib\\site-packages\\qinfer\\smc.py:285: ApproximationWarning: Extremely small n_ess encountered (1.7111490604669515). Resampling is likely to fail. Consider adding particles, or resampling more often.\n",
      "  ApproximationWarning\n"
     ]
    },
    {
     "name": "stdout",
     "output_type": "stream",
     "text": [
      "LogTotLikelihoods updated\n",
      "Total elapsed time for Bayes factor update: 212.6253554717323\n",
      "[[ 0.92297098]]\n",
      "Initialization Ready\n",
      "[[ 0.71446125]]\n",
      "Initialization Ready\n",
      "[[ 0.61429366]]\n",
      "Initialization Ready\n",
      "[[ 0.60347444  0.30923082]]\n",
      "Initialization Ready\n",
      "[[ 0.27259188  0.55278128]]\n",
      "Initialization Ready\n",
      "[[ 0.56521865  0.58055926]]\n",
      "Initialization Ready\n",
      "[[ 0.37347472  0.63473271  0.95393832]]\n",
      "Initialization Ready\n",
      "Initial time selected > 1.77986666743\n",
      "Final time selected > 2.26596692813\n",
      "Final Parameters mean and stdev:[-0.21656391  0.3089341 ]\n",
      "Batch single time 0 elapsed time: 15.640355633949184\n",
      "\n",
      "\n",
      "Initial time selected > 1.26020783463\n",
      "Final time selected > 450.754768352\n",
      "Exiting learning for Reaching Cov. Norm. Thrshold of 9.35234328417e-07\n",
      " at Iteration Number 84\n",
      "Final Parameters mean and stdev:[-0.07430178  0.00130166]\n",
      "Batch single time 1 elapsed time: 13.508266145451671\n",
      "\n",
      "\n",
      "Initial time selected > 131.762971845\n",
      "Final time selected > 891.299845046\n",
      "Final Parameters mean and stdev:[ 0.4027523   0.00245427]\n",
      "Batch single time 2 elapsed time: 24.214740349210842\n",
      "\n",
      "\n",
      "Initial time selected > 0.502697182252\n",
      "Final time selected > 2.7895918581\n",
      "Final Parameters mean and stdev:[-0.44481487  0.13016159]\n",
      "Final Parameters mean and stdev:[ 0.11244624  0.10703422]\n",
      "Batch single time 3 elapsed time: 15.41946558239124\n",
      "\n",
      "\n",
      "Initial time selected > 0.737128159564\n",
      "Final time selected > 84.5728904417\n",
      "Final Parameters mean and stdev:[ 0.10777954  0.00969195]\n",
      "Final Parameters mean and stdev:[ 0.36645103  0.00470614]\n",
      "Batch single time 4 elapsed time: 15.792719011968984\n",
      "\n",
      "\n",
      "Initial time selected > 0.364238422029\n",
      "Final time selected > 352.660743687\n",
      "Final Parameters mean and stdev:[ 0.06436354  0.00212363]\n",
      "Final Parameters mean and stdev:[ 0.48648092  0.00274569]\n",
      "Batch single time 5 elapsed time: 15.598426687907704\n",
      "\n",
      "\n",
      "Initial time selected > 0.764922251093\n",
      "Final time selected > 5.31985490794\n",
      "Final Parameters mean and stdev:[ 1.27904395  0.12452882]\n",
      "Final Parameters mean and stdev:[ 0.08751345  0.03026798]\n",
      "Final Parameters mean and stdev:[ 0.60027621  0.05090306]\n",
      "Batch single time 6 elapsed time: 15.600406404748355\n",
      "\n",
      "\n"
     ]
    },
    {
     "name": "stderr",
     "output_type": "stream",
     "text": [
      "C:\\Program Files\\Anaconda3\\lib\\site-packages\\qinfer\\smc.py:285: ApproximationWarning: Extremely small n_ess encountered (3.8856951024256063). Resampling is likely to fail. Consider adding particles, or resampling more often.\n",
      "  ApproximationWarning\n"
     ]
    },
    {
     "name": "stdout",
     "output_type": "stream",
     "text": [
      "LogTotLikelihoods updated\n"
     ]
    },
    {
     "name": "stderr",
     "output_type": "stream",
     "text": [
      "C:\\Program Files\\Anaconda3\\lib\\site-packages\\qinfer\\smc.py:285: ApproximationWarning: Extremely small n_ess encountered (1.0070068294871235). Resampling is likely to fail. Consider adding particles, or resampling more often.\n",
      "  ApproximationWarning\n"
     ]
    },
    {
     "name": "stdout",
     "output_type": "stream",
     "text": [
      "LogTotLikelihoods updated\n",
      "LogTotLikelihoods updated\n"
     ]
    },
    {
     "name": "stderr",
     "output_type": "stream",
     "text": [
      "C:\\Program Files\\Anaconda3\\lib\\site-packages\\qinfer\\smc.py:285: ApproximationWarning: Extremely small n_ess encountered (1.0335642046832265). Resampling is likely to fail. Consider adding particles, or resampling more often.\n",
      "  ApproximationWarning\n"
     ]
    },
    {
     "name": "stdout",
     "output_type": "stream",
     "text": [
      "LogTotLikelihoods updated\n"
     ]
    },
    {
     "name": "stderr",
     "output_type": "stream",
     "text": [
      "C:\\Program Files\\Anaconda3\\lib\\site-packages\\qinfer\\smc.py:285: ApproximationWarning: Extremely small n_ess encountered (2.823304401067096). Resampling is likely to fail. Consider adding particles, or resampling more often.\n",
      "  ApproximationWarning\n"
     ]
    },
    {
     "name": "stdout",
     "output_type": "stream",
     "text": [
      "LogTotLikelihoods updated\n"
     ]
    },
    {
     "name": "stderr",
     "output_type": "stream",
     "text": [
      "C:\\Program Files\\Anaconda3\\lib\\site-packages\\qinfer\\smc.py:285: ApproximationWarning: Extremely small n_ess encountered (1.9781148287720087). Resampling is likely to fail. Consider adding particles, or resampling more often.\n",
      "  ApproximationWarning\n"
     ]
    },
    {
     "name": "stdout",
     "output_type": "stream",
     "text": [
      "LogTotLikelihoods updated\n"
     ]
    },
    {
     "name": "stderr",
     "output_type": "stream",
     "text": [
      "C:\\Program Files\\Anaconda3\\lib\\site-packages\\qinfer\\smc.py:285: ApproximationWarning: Extremely small n_ess encountered (2.8556268041973563). Resampling is likely to fail. Consider adding particles, or resampling more often.\n",
      "  ApproximationWarning\n"
     ]
    },
    {
     "name": "stdout",
     "output_type": "stream",
     "text": [
      "LogTotLikelihoods updated\n",
      "Total elapsed time for the learning process: 253.49062713324383\n"
     ]
    },
    {
     "name": "stderr",
     "output_type": "stream",
     "text": [
      "C:\\Program Files\\Anaconda3\\lib\\site-packages\\qinfer\\smc.py:285: ApproximationWarning: Extremely small n_ess encountered (1.001590310459922). Resampling is likely to fail. Consider adding particles, or resampling more often.\n",
      "  ApproximationWarning\n"
     ]
    },
    {
     "name": "stdout",
     "output_type": "stream",
     "text": [
      "LogTotLikelihoods updated\n",
      "LogTotLikelihoods updated\n",
      "LogTotLikelihoods updated\n"
     ]
    },
    {
     "name": "stderr",
     "output_type": "stream",
     "text": [
      "C:\\Program Files\\Anaconda3\\lib\\site-packages\\qinfer\\smc.py:285: ApproximationWarning: Extremely small n_ess encountered (1.000037104771547). Resampling is likely to fail. Consider adding particles, or resampling more often.\n",
      "  ApproximationWarning\n"
     ]
    },
    {
     "name": "stdout",
     "output_type": "stream",
     "text": [
      "LogTotLikelihoods updated\n",
      "LogTotLikelihoods updated\n",
      "LogTotLikelihoods updated\n"
     ]
    },
    {
     "name": "stderr",
     "output_type": "stream",
     "text": [
      "C:\\Program Files\\Anaconda3\\lib\\site-packages\\qinfer\\smc.py:285: ApproximationWarning: Extremely small n_ess encountered (4.412409886115633). Resampling is likely to fail. Consider adding particles, or resampling more often.\n",
      "  ApproximationWarning\n"
     ]
    },
    {
     "name": "stdout",
     "output_type": "stream",
     "text": [
      "LogTotLikelihoods updated\n",
      "Total elapsed time for Bayes factor update: 211.02096414196512\n",
      "[[ 0.72149249]]\n",
      "Initialization Ready\n",
      "[[ 0.59007092]]\n",
      "Initialization Ready\n",
      "[[ 0.38952622]]\n",
      "Initialization Ready\n",
      "[[ 0.38596294  0.02605908]]\n",
      "Initialization Ready\n",
      "[[ 0.52501861  0.32327699]]\n",
      "Initialization Ready\n",
      "[[ 0.8350327   0.74755749]]\n",
      "Initialization Ready\n",
      "[[ 0.95290579  0.69433436  0.16059553]]\n",
      "Initialization Ready\n",
      "Initial time selected > 3.45577636084\n",
      "Final time selected > 0.911373239254\n",
      "Final Parameters mean and stdev:[ 0.19766835  0.51674408]\n",
      "Batch single time 0 elapsed time: 15.632612557496032\n",
      "\n",
      "\n",
      "Initial time selected > 1.21845815838\n",
      "Final time selected > 783.284141997\n",
      "Exiting learning for Reaching Cov. Norm. Thrshold of 7.14768245119e-07\n",
      " at Iteration Number 72\n",
      "Final Parameters mean and stdev:[ 0.49103259  0.00124332]\n",
      "Batch single time 1 elapsed time: 11.394049394927606\n",
      "\n",
      "\n",
      "Initial time selected > 0.477319798091\n",
      "Final time selected > 101.050344375\n",
      "Final Parameters mean and stdev:[ 1.15854778  0.00991112]\n",
      "Batch single time 2 elapsed time: 24.02995066598669\n",
      "\n",
      "\n",
      "Initial time selected > 0.56238380515\n",
      "Final time selected > 33.2100318114\n",
      "Final Parameters mean and stdev:[ 1.2449047   0.01331229]\n",
      "Final Parameters mean and stdev:[ 0.63878914  0.01297098]\n",
      "Batch single time 3 elapsed time: 15.618776720383721\n",
      "\n",
      "\n",
      "Initial time selected > 2.54685230963\n",
      "Final time selected > 11.6505241107\n",
      "Final Parameters mean and stdev:[ 0.65011358  0.02561544]\n",
      "Final Parameters mean and stdev:[ 1.3413352   0.02625375]\n",
      "Batch single time 4 elapsed time: 15.661199933523676\n",
      "\n",
      "\n",
      "Initial time selected > 1.19575432304\n",
      "Final time selected > 47.0245703158\n",
      "Final Parameters mean and stdev:[ 0.32561594  0.01134649]\n",
      "Final Parameters mean and stdev:[ 1.4670404  0.0097351]\n",
      "Batch single time 5 elapsed time: 15.655875223545081\n",
      "\n",
      "\n",
      "Initial time selected > 0.348815674908\n",
      "Final time selected > 26.0513742075\n",
      "Final Parameters mean and stdev:[ 0.05684734  0.02450987]\n",
      "Final Parameters mean and stdev:[ 0.49377635  0.01383511]\n",
      "Final Parameters mean and stdev:[-0.00914632  0.01680214]\n",
      "Batch single time 6 elapsed time: 15.510869241357796\n",
      "\n",
      "\n"
     ]
    },
    {
     "name": "stderr",
     "output_type": "stream",
     "text": [
      "C:\\Program Files\\Anaconda3\\lib\\site-packages\\qinfer\\smc.py:285: ApproximationWarning: Extremely small n_ess encountered (1.6767481764273378). Resampling is likely to fail. Consider adding particles, or resampling more often.\n",
      "  ApproximationWarning\n"
     ]
    },
    {
     "name": "stdout",
     "output_type": "stream",
     "text": [
      "LogTotLikelihoods updated\n",
      "LogTotLikelihoods updated\n"
     ]
    },
    {
     "name": "stderr",
     "output_type": "stream",
     "text": [
      "C:\\Program Files\\Anaconda3\\lib\\site-packages\\qinfer\\smc.py:285: ApproximationWarning: Extremely small n_ess encountered (2.7614688351413856). Resampling is likely to fail. Consider adding particles, or resampling more often.\n",
      "  ApproximationWarning\n"
     ]
    },
    {
     "name": "stdout",
     "output_type": "stream",
     "text": [
      "LogTotLikelihoods updated\n",
      "LogTotLikelihoods updated\n"
     ]
    },
    {
     "name": "stderr",
     "output_type": "stream",
     "text": [
      "C:\\Program Files\\Anaconda3\\lib\\site-packages\\qinfer\\smc.py:285: ApproximationWarning: Extremely small n_ess encountered (6.63657801643505). Resampling is likely to fail. Consider adding particles, or resampling more often.\n",
      "  ApproximationWarning\n"
     ]
    },
    {
     "name": "stdout",
     "output_type": "stream",
     "text": [
      "LogTotLikelihoods updated\n"
     ]
    },
    {
     "name": "stderr",
     "output_type": "stream",
     "text": [
      "C:\\Program Files\\Anaconda3\\lib\\site-packages\\qinfer\\smc.py:285: ApproximationWarning: Extremely small n_ess encountered (2.39299524411046). Resampling is likely to fail. Consider adding particles, or resampling more often.\n",
      "  ApproximationWarning\n"
     ]
    },
    {
     "name": "stdout",
     "output_type": "stream",
     "text": [
      "LogTotLikelihoods updated\n"
     ]
    },
    {
     "name": "stderr",
     "output_type": "stream",
     "text": [
      "C:\\Program Files\\Anaconda3\\lib\\site-packages\\qinfer\\smc.py:285: ApproximationWarning: Extremely small n_ess encountered (2.567834683545895). Resampling is likely to fail. Consider adding particles, or resampling more often.\n",
      "  ApproximationWarning\n"
     ]
    },
    {
     "name": "stdout",
     "output_type": "stream",
     "text": [
      "LogTotLikelihoods updated\n",
      "Total elapsed time for the learning process: 249.57670277167017\n"
     ]
    },
    {
     "name": "stderr",
     "output_type": "stream",
     "text": [
      "C:\\Program Files\\Anaconda3\\lib\\site-packages\\qinfer\\smc.py:285: ApproximationWarning: Extremely small n_ess encountered (6.730407054208426). Resampling is likely to fail. Consider adding particles, or resampling more often.\n",
      "  ApproximationWarning\n"
     ]
    },
    {
     "name": "stdout",
     "output_type": "stream",
     "text": [
      "LogTotLikelihoods updated\n",
      "LogTotLikelihoods updated\n",
      "LogTotLikelihoods updated\n"
     ]
    },
    {
     "name": "stderr",
     "output_type": "stream",
     "text": [
      "C:\\Program Files\\Anaconda3\\lib\\site-packages\\qinfer\\smc.py:285: ApproximationWarning: Extremely small n_ess encountered (1.4831735923429492). Resampling is likely to fail. Consider adding particles, or resampling more often.\n",
      "  ApproximationWarning\n"
     ]
    },
    {
     "name": "stdout",
     "output_type": "stream",
     "text": [
      "LogTotLikelihoods updated\n",
      "LogTotLikelihoods updated\n"
     ]
    },
    {
     "name": "stderr",
     "output_type": "stream",
     "text": [
      "C:\\Program Files\\Anaconda3\\lib\\site-packages\\qinfer\\smc.py:285: ApproximationWarning: Extremely small n_ess encountered (6.192885526149865). Resampling is likely to fail. Consider adding particles, or resampling more often.\n",
      "  ApproximationWarning\n"
     ]
    },
    {
     "name": "stdout",
     "output_type": "stream",
     "text": [
      "LogTotLikelihoods updated\n"
     ]
    },
    {
     "name": "stderr",
     "output_type": "stream",
     "text": [
      "C:\\Program Files\\Anaconda3\\lib\\site-packages\\qinfer\\smc.py:285: ApproximationWarning: Extremely small n_ess encountered (6.670050668512383). Resampling is likely to fail. Consider adding particles, or resampling more often.\n",
      "  ApproximationWarning\n"
     ]
    },
    {
     "name": "stdout",
     "output_type": "stream",
     "text": [
      "LogTotLikelihoods updated\n",
      "Total elapsed time for Bayes factor update: 208.15303409813896\n",
      "[[ 0.350326]]\n",
      "Initialization Ready\n",
      "[[ 0.02673655]]\n",
      "Initialization Ready\n",
      "[[ 0.60366833]]\n",
      "Initialization Ready\n",
      "[[ 0.04201641  0.35439289]]\n",
      "Initialization Ready\n",
      "[[ 0.97062144  0.6185552 ]]\n",
      "Initialization Ready\n",
      "[[ 0.01750474  0.66718577]]\n",
      "Initialization Ready\n",
      "[[ 0.99604298  0.33327428  0.2236498 ]]\n",
      "Initialization Ready\n",
      "Initial time selected > 0.573863047543\n",
      "Final time selected > 17.8871848436\n",
      "Final Parameters mean and stdev:[-0.2712902   0.06942927]\n",
      "Batch single time 0 elapsed time: 15.632709225943472\n",
      "\n",
      "\n",
      "Initial time selected > 2.72711764449\n",
      "Final time selected > 459.775996232\n",
      "Final Parameters mean and stdev:[ 0.69380808  0.00343039]\n",
      "Batch single time 1 elapsed time: 15.628139324393487\n",
      "\n",
      "\n",
      "Initial time selected > 2.14951793767\n",
      "Final time selected > 4.3764166626\n",
      "Final Parameters mean and stdev:[-0.06961661  0.10498786]\n",
      "Batch single time 2 elapsed time: 23.732188010861137\n",
      "\n",
      "\n",
      "Initial time selected > 1.01311831911\n",
      "Final time selected > 2.92881171668\n",
      "Final Parameters mean and stdev:[ 0.36261531  0.06207751]\n",
      "Final Parameters mean and stdev:[ 0.75006608  0.03403584]\n",
      "Batch single time 3 elapsed time: 15.23816258441093\n",
      "\n",
      "\n",
      "Initial time selected > 0.487889999851\n",
      "Final time selected > 4.33249566608\n",
      "Final Parameters mean and stdev:[ 0.99806967  0.06951713]\n",
      "Final Parameters mean and stdev:[-0.06261037  0.07527618]\n",
      "Batch single time 4 elapsed time: 15.468789995742554\n",
      "\n",
      "\n",
      "Initial time selected > 0.615563056566\n",
      "Final time selected > 154.622524317\n",
      "Final Parameters mean and stdev:[ 0.69164783  0.00429376]\n",
      "Final Parameters mean and stdev:[ 0.00241469  0.00327171]\n",
      "Batch single time 5 elapsed time: 15.443071884908932\n",
      "\n",
      "\n",
      "Initial time selected > 0.784190265904\n",
      "Final time selected > 49.1819295062\n",
      "Final Parameters mean and stdev:[-0.01270558  0.01382375]\n",
      "Final Parameters mean and stdev:[ 0.67977766  0.01520007]\n",
      "Final Parameters mean and stdev:[-0.00155522  0.0118357 ]\n",
      "Batch single time 6 elapsed time: 15.486343595417566\n",
      "\n",
      "\n"
     ]
    },
    {
     "name": "stderr",
     "output_type": "stream",
     "text": [
      "C:\\Program Files\\Anaconda3\\lib\\site-packages\\qinfer\\smc.py:285: ApproximationWarning: Extremely small n_ess encountered (1.6494076537123539). Resampling is likely to fail. Consider adding particles, or resampling more often.\n",
      "  ApproximationWarning\n"
     ]
    },
    {
     "name": "stdout",
     "output_type": "stream",
     "text": [
      "LogTotLikelihoods updated\n",
      "LogTotLikelihoods updated\n"
     ]
    },
    {
     "name": "stderr",
     "output_type": "stream",
     "text": [
      "C:\\Program Files\\Anaconda3\\lib\\site-packages\\qinfer\\smc.py:285: ApproximationWarning: Extremely small n_ess encountered (1.020504525401419). Resampling is likely to fail. Consider adding particles, or resampling more often.\n",
      "  ApproximationWarning\n"
     ]
    },
    {
     "name": "stdout",
     "output_type": "stream",
     "text": [
      "LogTotLikelihoods updated\n"
     ]
    },
    {
     "name": "stderr",
     "output_type": "stream",
     "text": [
      "C:\\Program Files\\Anaconda3\\lib\\site-packages\\qinfer\\smc.py:285: ApproximationWarning: Extremely small n_ess encountered (1.3639923875574174). Resampling is likely to fail. Consider adding particles, or resampling more often.\n",
      "  ApproximationWarning\n"
     ]
    },
    {
     "name": "stdout",
     "output_type": "stream",
     "text": [
      "LogTotLikelihoods updated\n"
     ]
    },
    {
     "name": "stderr",
     "output_type": "stream",
     "text": [
      "C:\\Program Files\\Anaconda3\\lib\\site-packages\\qinfer\\smc.py:285: ApproximationWarning: Extremely small n_ess encountered (1.1544654637397782). Resampling is likely to fail. Consider adding particles, or resampling more often.\n",
      "  ApproximationWarning\n"
     ]
    },
    {
     "name": "stdout",
     "output_type": "stream",
     "text": [
      "LogTotLikelihoods updated\n"
     ]
    },
    {
     "name": "stderr",
     "output_type": "stream",
     "text": [
      "C:\\Program Files\\Anaconda3\\lib\\site-packages\\qinfer\\smc.py:285: ApproximationWarning: Extremely small n_ess encountered (3.013117045047045). Resampling is likely to fail. Consider adding particles, or resampling more often.\n",
      "  ApproximationWarning\n"
     ]
    },
    {
     "name": "stdout",
     "output_type": "stream",
     "text": [
      "LogTotLikelihoods updated\n"
     ]
    },
    {
     "name": "stderr",
     "output_type": "stream",
     "text": [
      "C:\\Program Files\\Anaconda3\\lib\\site-packages\\qinfer\\smc.py:285: ApproximationWarning: Extremely small n_ess encountered (7.368220727011196). Resampling is likely to fail. Consider adding particles, or resampling more often.\n",
      "  ApproximationWarning\n"
     ]
    },
    {
     "name": "stdout",
     "output_type": "stream",
     "text": [
      "LogTotLikelihoods updated\n",
      "Total elapsed time for the learning process: 258.52754190014457\n",
      "LogTotLikelihoods updated\n",
      "LogTotLikelihoods updated\n",
      "LogTotLikelihoods updated\n"
     ]
    },
    {
     "name": "stderr",
     "output_type": "stream",
     "text": [
      "C:\\Program Files\\Anaconda3\\lib\\site-packages\\qinfer\\smc.py:285: ApproximationWarning: Extremely small n_ess encountered (3.4934429133207456). Resampling is likely to fail. Consider adding particles, or resampling more often.\n",
      "  ApproximationWarning\n"
     ]
    },
    {
     "name": "stdout",
     "output_type": "stream",
     "text": [
      "LogTotLikelihoods updated\n",
      "LogTotLikelihoods updated\n"
     ]
    },
    {
     "name": "stderr",
     "output_type": "stream",
     "text": [
      "C:\\Program Files\\Anaconda3\\lib\\site-packages\\qinfer\\smc.py:285: ApproximationWarning: Extremely small n_ess encountered (5.610451184677069). Resampling is likely to fail. Consider adding particles, or resampling more often.\n",
      "  ApproximationWarning\n"
     ]
    },
    {
     "name": "stdout",
     "output_type": "stream",
     "text": [
      "LogTotLikelihoods updated\n"
     ]
    },
    {
     "name": "stderr",
     "output_type": "stream",
     "text": [
      "C:\\Program Files\\Anaconda3\\lib\\site-packages\\qinfer\\smc.py:285: ApproximationWarning: Extremely small n_ess encountered (1.0547333819850169). Resampling is likely to fail. Consider adding particles, or resampling more often.\n",
      "  ApproximationWarning\n"
     ]
    },
    {
     "name": "stdout",
     "output_type": "stream",
     "text": [
      "LogTotLikelihoods updated\n",
      "Total elapsed time for Bayes factor update: 220.0164700523128\n",
      "[[ 0.70388617]]\n",
      "Initialization Ready\n",
      "[[ 0.93458738]]\n",
      "Initialization Ready\n",
      "[[ 0.15098859]]\n",
      "Initialization Ready\n",
      "[[ 0.43853813  0.42017136]]\n",
      "Initialization Ready\n",
      "[[ 0.3963208   0.96416547]]\n",
      "Initialization Ready\n",
      "[[ 0.55878104  0.15811984]]\n",
      "Initialization Ready\n",
      "[[ 0.44520711  0.37612874  0.76251531]]\n",
      "Initialization Ready\n",
      "Initial time selected > 0.680006040172\n",
      "Final time selected > 0.899317308392\n",
      "Final Parameters mean and stdev:[ 0.23498999  0.62454187]\n",
      "Batch single time 0 elapsed time: 15.646434159186356\n",
      "\n",
      "\n",
      "Initial time selected > 2.59425717651\n",
      "Final time selected > 211.960929417\n",
      "Final Parameters mean and stdev:[ 0.49487191  0.00884405]\n",
      "Batch single time 1 elapsed time: 15.600987739660013\n",
      "\n",
      "\n",
      "Initial time selected > 1.81888874642\n",
      "Final time selected > 1.88589519909\n",
      "Final Parameters mean and stdev:[ 0.2289088   0.57643902]\n",
      "Batch single time 2 elapsed time: 24.061864164940744\n",
      "\n",
      "\n",
      "Initial time selected > 0.460436775922\n",
      "Final time selected > 6.86336260917\n",
      "Final Parameters mean and stdev:[ 0.47588588  0.04557479]\n",
      "Final Parameters mean and stdev:[ 0.50228648  0.0356402 ]\n",
      "Batch single time 3 elapsed time: 15.691723658012961\n",
      "\n",
      "\n",
      "Initial time selected > 0.570370968591\n",
      "Final time selected > 1.21429321498\n",
      "Final Parameters mean and stdev:[ 0.43470378  0.46637497]\n",
      "Final Parameters mean and stdev:[-0.06816986  0.1200588 ]\n",
      "Batch single time 4 elapsed time: 15.468255670829421\n",
      "\n",
      "\n",
      "Initial time selected > 1.12797861327\n",
      "Final time selected > 20.7208340738\n",
      "Final Parameters mean and stdev:[ 0.58747899  0.04611282]\n",
      "Final Parameters mean and stdev:[ 0.24029387  0.01566078]\n",
      "Batch single time 5 elapsed time: 15.437791867535452\n",
      "\n",
      "\n",
      "Initial time selected > 0.607885955836\n",
      "Final time selected > 12.5540618654\n",
      "Final Parameters mean and stdev:[ 0.01933452  0.01734242]\n",
      "Final Parameters mean and stdev:[ 0.53512974  0.02300175]\n",
      "Final Parameters mean and stdev:[ 0.16888886  0.0395099 ]\n",
      "Batch single time 6 elapsed time: 15.323112631322147\n",
      "\n",
      "\n"
     ]
    },
    {
     "name": "stderr",
     "output_type": "stream",
     "text": [
      "C:\\Program Files\\Anaconda3\\lib\\site-packages\\qinfer\\smc.py:285: ApproximationWarning: Extremely small n_ess encountered (1.0167112850609024). Resampling is likely to fail. Consider adding particles, or resampling more often.\n",
      "  ApproximationWarning\n"
     ]
    },
    {
     "name": "stdout",
     "output_type": "stream",
     "text": [
      "LogTotLikelihoods updated\n"
     ]
    },
    {
     "name": "stderr",
     "output_type": "stream",
     "text": [
      "C:\\Program Files\\Anaconda3\\lib\\site-packages\\qinfer\\smc.py:285: ApproximationWarning: Extremely small n_ess encountered (1.0099720627156619). Resampling is likely to fail. Consider adding particles, or resampling more often.\n",
      "  ApproximationWarning\n"
     ]
    },
    {
     "name": "stdout",
     "output_type": "stream",
     "text": [
      "LogTotLikelihoods updated\n"
     ]
    },
    {
     "name": "stderr",
     "output_type": "stream",
     "text": [
      "C:\\Program Files\\Anaconda3\\lib\\site-packages\\qinfer\\smc.py:285: ApproximationWarning: Extremely small n_ess encountered (1.239682552856453). Resampling is likely to fail. Consider adding particles, or resampling more often.\n",
      "  ApproximationWarning\n"
     ]
    },
    {
     "name": "stdout",
     "output_type": "stream",
     "text": [
      "LogTotLikelihoods updated\n"
     ]
    },
    {
     "name": "stderr",
     "output_type": "stream",
     "text": [
      "C:\\Program Files\\Anaconda3\\lib\\site-packages\\qinfer\\smc.py:285: ApproximationWarning: Extremely small n_ess encountered (7.19015906219952). Resampling is likely to fail. Consider adding particles, or resampling more often.\n",
      "  ApproximationWarning\n"
     ]
    },
    {
     "name": "stdout",
     "output_type": "stream",
     "text": [
      "LogTotLikelihoods updated\n"
     ]
    },
    {
     "name": "stderr",
     "output_type": "stream",
     "text": [
      "C:\\Program Files\\Anaconda3\\lib\\site-packages\\qinfer\\smc.py:285: ApproximationWarning: Extremely small n_ess encountered (1.501307259415004). Resampling is likely to fail. Consider adding particles, or resampling more often.\n",
      "  ApproximationWarning\n"
     ]
    },
    {
     "name": "stdout",
     "output_type": "stream",
     "text": [
      "LogTotLikelihoods updated\n",
      "LogTotLikelihoods updated\n",
      "LogTotLikelihoods updated\n",
      "Total elapsed time for the learning process: 260.1581422972795\n",
      "LogTotLikelihoods updated\n",
      "LogTotLikelihoods updated\n",
      "LogTotLikelihoods updated\n",
      "LogTotLikelihoods updated\n",
      "LogTotLikelihoods updated\n",
      "LogTotLikelihoods updated\n"
     ]
    },
    {
     "name": "stderr",
     "output_type": "stream",
     "text": [
      "C:\\Program Files\\Anaconda3\\lib\\site-packages\\qinfer\\smc.py:285: ApproximationWarning: Extremely small n_ess encountered (1.0541756225856735). Resampling is likely to fail. Consider adding particles, or resampling more often.\n",
      "  ApproximationWarning\n"
     ]
    },
    {
     "name": "stdout",
     "output_type": "stream",
     "text": [
      "LogTotLikelihoods updated\n",
      "Total elapsed time for Bayes factor update: 224.15391702536635\n",
      "[[ 0.95744997]]\n",
      "Initialization Ready\n",
      "[[ 0.30048064]]\n",
      "Initialization Ready\n",
      "[[ 0.50175917]]\n",
      "Initialization Ready\n",
      "[[ 0.36738773  0.86690766]]\n",
      "Initialization Ready\n",
      "[[ 0.46076377  0.53483022]]\n",
      "Initialization Ready\n",
      "[[ 0.87471385  0.9438065 ]]\n",
      "Initialization Ready\n",
      "[[ 0.83211217  0.11230278  0.80788811]]\n",
      "Initialization Ready\n",
      "Initial time selected > 0.750110912919\n",
      "Final time selected > 0.795015968162\n",
      "Final Parameters mean and stdev:[-0.10742647  0.8887848 ]\n",
      "Batch single time 0 elapsed time: 15.62965688660006\n",
      "\n",
      "\n",
      "Initial time selected > 5.00817023539\n",
      "Final time selected > 35.0643201197\n",
      "Exiting learning for Reaching Cov. Norm. Thrshold of 5.52954463939e-07\n",
      " at Iteration Number 87\n",
      "Final Parameters mean and stdev:[ 0.5294119   0.00149201]\n",
      "Batch single time 1 elapsed time: 13.822577644295961\n",
      "\n",
      "\n",
      "Initial time selected > 0.969515224948\n",
      "Final time selected > 5.21037675586\n",
      "Final Parameters mean and stdev:[ 0.60000592  0.16249229]\n",
      "Batch single time 2 elapsed time: 23.915503169201656\n",
      "\n",
      "\n",
      "Initial time selected > 0.675545604039\n",
      "Final time selected > 11.0790265106\n",
      "Final Parameters mean and stdev:[-0.05170869  0.02150186]\n",
      "Final Parameters mean and stdev:[ 0.55918778  0.02874714]\n",
      "Batch single time 3 elapsed time: 15.63087153226752\n",
      "\n",
      "\n",
      "Initial time selected > 0.480908670125\n",
      "Final time selected > 6.000379624\n",
      "Final Parameters mean and stdev:[ 0.58571595  0.25573537]\n",
      "Final Parameters mean and stdev:[-0.8825391   0.14135108]\n",
      "Batch single time 4 elapsed time: 15.482414949973645\n",
      "\n",
      "\n",
      "Initial time selected > 0.383833061752\n",
      "Final time selected > 38.514291735\n",
      "Final Parameters mean and stdev:[ 0.53858467  0.00544112]\n",
      "Final Parameters mean and stdev:[-0.00330732  0.0059311 ]\n",
      "Batch single time 5 elapsed time: 15.519188024765754\n",
      "\n",
      "\n",
      "Initial time selected > 0.501783473089\n",
      "Final time selected > 4.39618055067\n",
      "Final Parameters mean and stdev:[ 0.02007689  0.04377422]\n",
      "Final Parameters mean and stdev:[ 0.53760293  0.01818527]\n",
      "Final Parameters mean and stdev:[-0.02248704  0.02254138]\n",
      "Batch single time 6 elapsed time: 15.420237605747388\n",
      "\n",
      "\n"
     ]
    },
    {
     "name": "stderr",
     "output_type": "stream",
     "text": [
      "C:\\Program Files\\Anaconda3\\lib\\site-packages\\qinfer\\smc.py:285: ApproximationWarning: Extremely small n_ess encountered (1.0015020840914768). Resampling is likely to fail. Consider adding particles, or resampling more often.\n",
      "  ApproximationWarning\n"
     ]
    },
    {
     "name": "stdout",
     "output_type": "stream",
     "text": [
      "LogTotLikelihoods updated\n",
      "LogTotLikelihoods updated\n"
     ]
    },
    {
     "name": "stderr",
     "output_type": "stream",
     "text": [
      "C:\\Program Files\\Anaconda3\\lib\\site-packages\\qinfer\\smc.py:285: ApproximationWarning: Extremely small n_ess encountered (2.3659890174343037). Resampling is likely to fail. Consider adding particles, or resampling more often.\n",
      "  ApproximationWarning\n"
     ]
    },
    {
     "name": "stdout",
     "output_type": "stream",
     "text": [
      "LogTotLikelihoods updated\n"
     ]
    },
    {
     "name": "stderr",
     "output_type": "stream",
     "text": [
      "C:\\Program Files\\Anaconda3\\lib\\site-packages\\qinfer\\smc.py:285: ApproximationWarning: Extremely small n_ess encountered (3.592540498463235). Resampling is likely to fail. Consider adding particles, or resampling more often.\n",
      "  ApproximationWarning\n"
     ]
    },
    {
     "name": "stdout",
     "output_type": "stream",
     "text": [
      "LogTotLikelihoods updated\n"
     ]
    },
    {
     "name": "stderr",
     "output_type": "stream",
     "text": [
      "C:\\Program Files\\Anaconda3\\lib\\site-packages\\qinfer\\smc.py:285: ApproximationWarning: Extremely small n_ess encountered (1.1506730513514). Resampling is likely to fail. Consider adding particles, or resampling more often.\n",
      "  ApproximationWarning\n"
     ]
    },
    {
     "name": "stdout",
     "output_type": "stream",
     "text": [
      "LogTotLikelihoods updated\n",
      "LogTotLikelihoods updated\n"
     ]
    },
    {
     "name": "stderr",
     "output_type": "stream",
     "text": [
      "C:\\Program Files\\Anaconda3\\lib\\site-packages\\qinfer\\smc.py:285: ApproximationWarning: Extremely small n_ess encountered (3.7077968989602317). Resampling is likely to fail. Consider adding particles, or resampling more often.\n",
      "  ApproximationWarning\n"
     ]
    },
    {
     "name": "stdout",
     "output_type": "stream",
     "text": [
      "LogTotLikelihoods updated\n",
      "Total elapsed time for the learning process: 256.0090689570461\n",
      "LogTotLikelihoods updated\n",
      "LogTotLikelihoods updated\n"
     ]
    },
    {
     "name": "stderr",
     "output_type": "stream",
     "text": [
      "C:\\Program Files\\Anaconda3\\lib\\site-packages\\qinfer\\smc.py:285: ApproximationWarning: Extremely small n_ess encountered (1.0000000347092468). Resampling is likely to fail. Consider adding particles, or resampling more often.\n",
      "  ApproximationWarning\n"
     ]
    },
    {
     "name": "stdout",
     "output_type": "stream",
     "text": [
      "LogTotLikelihoods updated\n",
      "LogTotLikelihoods updated\n",
      "LogTotLikelihoods updated\n",
      "LogTotLikelihoods updated\n"
     ]
    },
    {
     "name": "stderr",
     "output_type": "stream",
     "text": [
      "C:\\Program Files\\Anaconda3\\lib\\site-packages\\qinfer\\smc.py:285: ApproximationWarning: Extremely small n_ess encountered (6.225718452318852). Resampling is likely to fail. Consider adding particles, or resampling more often.\n",
      "  ApproximationWarning\n"
     ]
    },
    {
     "name": "stdout",
     "output_type": "stream",
     "text": [
      "LogTotLikelihoods updated\n",
      "Total elapsed time for Bayes factor update: 216.7715227995177\n",
      "[[ 0.15102674]]\n",
      "Initialization Ready\n",
      "[[ 0.37550834]]\n",
      "Initialization Ready\n",
      "[[ 0.56196362]]\n",
      "Initialization Ready\n",
      "[[ 0.5546263   0.26386433]]\n",
      "Initialization Ready\n",
      "[[ 0.16356754  0.11971727]]\n",
      "Initialization Ready\n",
      "[[ 0.02202898  0.29231241]]\n",
      "Initialization Ready\n",
      "[[ 0.72641974  0.41698165  0.15227224]]\n",
      "Initialization Ready\n",
      "Initial time selected > 0.493478356799\n",
      "Final time selected > 12.1953818833\n",
      "Final Parameters mean and stdev:[ 0.3615775   0.04892179]\n",
      "Batch single time 0 elapsed time: 15.798070537510284\n",
      "\n",
      "\n",
      "Initial time selected > 0.89514843055\n",
      "Final time selected > 59.5355539128\n",
      "Final Parameters mean and stdev:[ 0.31310614  0.036124  ]\n",
      "Batch single time 1 elapsed time: 15.773311165801715\n",
      "\n",
      "\n",
      "Initial time selected > 8.0156182838\n",
      "Final time selected > 3.11936089646\n",
      "Final Parameters mean and stdev:[-0.10524775  0.11607358]\n",
      "Batch single time 2 elapsed time: 23.412646484148354\n",
      "\n",
      "\n",
      "Initial time selected > 1.03615848123\n",
      "Final time selected > 19.2806193687\n",
      "Final Parameters mean and stdev:[ 0.12474378  0.02003358]\n",
      "Final Parameters mean and stdev:[ 0.09151969  0.01058561]\n",
      "Batch single time 3 elapsed time: 15.564667218868635\n",
      "\n",
      "\n",
      "Initial time selected > 0.602733499758\n",
      "Final time selected > 5.61462031607\n",
      "Final Parameters mean and stdev:[ 0.25493523  0.07984384]\n",
      "Final Parameters mean and stdev:[-0.01516854  0.07398583]\n",
      "Batch single time 4 elapsed time: 15.349991756696909\n",
      "\n",
      "\n",
      "Initial time selected > 0.42383082566\n",
      "Final time selected > 1.41228528725\n",
      "Final Parameters mean and stdev:[ 0.13818308  0.21882528]\n",
      "Final Parameters mean and stdev:[-0.05114396  0.20626111]\n",
      "Batch single time 5 elapsed time: 15.54469856328069\n",
      "\n",
      "\n",
      "Initial time selected > 0.718636386946\n",
      "Final time selected > 1.92567531615\n",
      "Final Parameters mean and stdev:[-0.43522967  0.25509702]\n",
      "Final Parameters mean and stdev:[ 0.36503204  0.35303857]\n",
      "Final Parameters mean and stdev:[ 0.08624283  0.10282459]\n",
      "Batch single time 6 elapsed time: 15.614461070092148\n",
      "\n",
      "\n",
      "LogTotLikelihoods updated\n"
     ]
    },
    {
     "name": "stderr",
     "output_type": "stream",
     "text": [
      "C:\\Program Files\\Anaconda3\\lib\\site-packages\\qinfer\\smc.py:285: ApproximationWarning: Extremely small n_ess encountered (2.0216315470955952). Resampling is likely to fail. Consider adding particles, or resampling more often.\n",
      "  ApproximationWarning\n"
     ]
    },
    {
     "name": "stdout",
     "output_type": "stream",
     "text": [
      "LogTotLikelihoods updated\n"
     ]
    },
    {
     "name": "stderr",
     "output_type": "stream",
     "text": [
      "C:\\Program Files\\Anaconda3\\lib\\site-packages\\qinfer\\smc.py:285: ApproximationWarning: Extremely small n_ess encountered (9.814126389321771). Resampling is likely to fail. Consider adding particles, or resampling more often.\n",
      "  ApproximationWarning\n"
     ]
    },
    {
     "name": "stdout",
     "output_type": "stream",
     "text": [
      "LogTotLikelihoods updated\n"
     ]
    },
    {
     "name": "stderr",
     "output_type": "stream",
     "text": [
      "C:\\Program Files\\Anaconda3\\lib\\site-packages\\qinfer\\smc.py:285: ApproximationWarning: Extremely small n_ess encountered (9.49876446875287). Resampling is likely to fail. Consider adding particles, or resampling more often.\n",
      "  ApproximationWarning\n"
     ]
    },
    {
     "name": "stdout",
     "output_type": "stream",
     "text": [
      "LogTotLikelihoods updated\n"
     ]
    },
    {
     "name": "stderr",
     "output_type": "stream",
     "text": [
      "C:\\Program Files\\Anaconda3\\lib\\site-packages\\qinfer\\smc.py:285: ApproximationWarning: Extremely small n_ess encountered (3.7315769642524996). Resampling is likely to fail. Consider adding particles, or resampling more often.\n",
      "  ApproximationWarning\n"
     ]
    },
    {
     "name": "stdout",
     "output_type": "stream",
     "text": [
      "LogTotLikelihoods updated\n"
     ]
    },
    {
     "name": "stderr",
     "output_type": "stream",
     "text": [
      "C:\\Program Files\\Anaconda3\\lib\\site-packages\\qinfer\\smc.py:285: ApproximationWarning: Extremely small n_ess encountered (2.842842004475677). Resampling is likely to fail. Consider adding particles, or resampling more often.\n",
      "  ApproximationWarning\n"
     ]
    },
    {
     "name": "stdout",
     "output_type": "stream",
     "text": [
      "LogTotLikelihoods updated\n"
     ]
    },
    {
     "name": "stderr",
     "output_type": "stream",
     "text": [
      "C:\\Program Files\\Anaconda3\\lib\\site-packages\\qinfer\\smc.py:285: ApproximationWarning: Extremely small n_ess encountered (1.3981112362608275). Resampling is likely to fail. Consider adding particles, or resampling more often.\n",
      "  ApproximationWarning\n"
     ]
    },
    {
     "name": "stdout",
     "output_type": "stream",
     "text": [
      "LogTotLikelihoods updated\n",
      "Total elapsed time for the learning process: 253.70738262232408\n"
     ]
    },
    {
     "name": "stderr",
     "output_type": "stream",
     "text": [
      "C:\\Program Files\\Anaconda3\\lib\\site-packages\\qinfer\\smc.py:285: ApproximationWarning: Extremely small n_ess encountered (5.694602310343609). Resampling is likely to fail. Consider adding particles, or resampling more often.\n",
      "  ApproximationWarning\n"
     ]
    },
    {
     "name": "stdout",
     "output_type": "stream",
     "text": [
      "LogTotLikelihoods updated\n",
      "LogTotLikelihoods updated\n"
     ]
    },
    {
     "name": "stderr",
     "output_type": "stream",
     "text": [
      "C:\\Program Files\\Anaconda3\\lib\\site-packages\\qinfer\\smc.py:285: ApproximationWarning: Extremely small n_ess encountered (4.009884667333855). Resampling is likely to fail. Consider adding particles, or resampling more often.\n",
      "  ApproximationWarning\n"
     ]
    },
    {
     "name": "stdout",
     "output_type": "stream",
     "text": [
      "LogTotLikelihoods updated\n",
      "LogTotLikelihoods updated\n",
      "LogTotLikelihoods updated\n"
     ]
    },
    {
     "name": "stderr",
     "output_type": "stream",
     "text": [
      "C:\\Program Files\\Anaconda3\\lib\\site-packages\\qinfer\\smc.py:285: ApproximationWarning: Extremely small n_ess encountered (7.209762756142521). Resampling is likely to fail. Consider adding particles, or resampling more often.\n",
      "  ApproximationWarning\n"
     ]
    },
    {
     "name": "stdout",
     "output_type": "stream",
     "text": [
      "LogTotLikelihoods updated\n",
      "LogTotLikelihoods updated\n",
      "Total elapsed time for Bayes factor update: 200.4806229420701\n",
      "[[ 0.97875629]]\n",
      "Initialization Ready\n",
      "[[ 0.37771252]]\n",
      "Initialization Ready\n",
      "[[ 0.83063393]]\n",
      "Initialization Ready\n",
      "[[ 0.61579706  0.79428491]]\n",
      "Initialization Ready\n",
      "[[ 0.08027261  0.34307624]]\n",
      "Initialization Ready\n",
      "[[ 0.00476599  0.6435801 ]]\n",
      "Initialization Ready\n",
      "[[ 0.36652455  0.87908201  0.2667745 ]]\n",
      "Initialization Ready\n",
      "Initial time selected > 0.624921700622\n",
      "Final time selected > 2.39187574183\n",
      "Final Parameters mean and stdev:[-0.17403525  0.84122195]\n",
      "Batch single time 0 elapsed time: 15.999360068119131\n",
      "\n",
      "\n",
      "Initial time selected > 3.48061374188\n",
      "Final time selected > 7.37159171068\n",
      "Final Parameters mean and stdev:[ 0.06253791  0.27588294]\n",
      "Batch single time 1 elapsed time: 15.905399661129195\n",
      "\n",
      "\n",
      "Initial time selected > 0.810089773288\n",
      "Final time selected > 278.279652381\n",
      "Final Parameters mean and stdev:[ 1.1788381  0.0282397]\n",
      "Batch single time 2 elapsed time: 23.64260317535991\n",
      "\n",
      "\n",
      "Initial time selected > 0.465316325362\n",
      "Final time selected > 16.8478210248\n",
      "Final Parameters mean and stdev:[-0.32449682  0.04463601]\n",
      "Final Parameters mean and stdev:[ 0.06525861  0.01675238]\n",
      "Batch single time 3 elapsed time: 15.724556500390463\n",
      "\n",
      "\n",
      "Initial time selected > 0.363994927276\n",
      "Final time selected > 4.22405080389\n",
      "Final Parameters mean and stdev:[ 0.37620296  0.06571112]\n",
      "Final Parameters mean and stdev:[ 1.29382397  0.1380689 ]\n",
      "Batch single time 4 elapsed time: 15.53334564862962\n",
      "\n",
      "\n",
      "Initial time selected > 0.537369998273\n",
      "Final time selected > 3.13547738328\n",
      "Final Parameters mean and stdev:[ 0.36253307  0.08435193]\n",
      "Final Parameters mean and stdev:[ 0.80964209  0.10889557]\n",
      "Batch single time 5 elapsed time: 15.601044019236724\n",
      "\n",
      "\n",
      "Initial time selected > 0.308487811055\n",
      "Final time selected > 30.6265833188\n",
      "Final Parameters mean and stdev:[ 0.69192191  0.02068987]\n",
      "Final Parameters mean and stdev:[ 0.24879305  0.0111877 ]\n",
      "Final Parameters mean and stdev:[ 0.62376309  0.01795858]\n",
      "Batch single time 6 elapsed time: 15.410284397248688\n",
      "\n",
      "\n"
     ]
    },
    {
     "name": "stderr",
     "output_type": "stream",
     "text": [
      "C:\\Program Files\\Anaconda3\\lib\\site-packages\\qinfer\\smc.py:285: ApproximationWarning: Extremely small n_ess encountered (1.0149222583179962). Resampling is likely to fail. Consider adding particles, or resampling more often.\n",
      "  ApproximationWarning\n"
     ]
    },
    {
     "name": "stdout",
     "output_type": "stream",
     "text": [
      "LogTotLikelihoods updated\n"
     ]
    },
    {
     "name": "stderr",
     "output_type": "stream",
     "text": [
      "C:\\Program Files\\Anaconda3\\lib\\site-packages\\qinfer\\smc.py:285: ApproximationWarning: Extremely small n_ess encountered (1.6462132322668095). Resampling is likely to fail. Consider adding particles, or resampling more often.\n",
      "  ApproximationWarning\n"
     ]
    },
    {
     "name": "stdout",
     "output_type": "stream",
     "text": [
      "LogTotLikelihoods updated\n",
      "LogTotLikelihoods updated\n"
     ]
    },
    {
     "name": "stderr",
     "output_type": "stream",
     "text": [
      "C:\\Program Files\\Anaconda3\\lib\\site-packages\\qinfer\\smc.py:285: ApproximationWarning: Extremely small n_ess encountered (1.593298887529329). Resampling is likely to fail. Consider adding particles, or resampling more often.\n",
      "  ApproximationWarning\n"
     ]
    },
    {
     "name": "stdout",
     "output_type": "stream",
     "text": [
      "LogTotLikelihoods updated\n"
     ]
    },
    {
     "name": "stderr",
     "output_type": "stream",
     "text": [
      "C:\\Program Files\\Anaconda3\\lib\\site-packages\\qinfer\\smc.py:285: ApproximationWarning: Extremely small n_ess encountered (4.59940724717827). Resampling is likely to fail. Consider adding particles, or resampling more often.\n",
      "  ApproximationWarning\n"
     ]
    },
    {
     "name": "stdout",
     "output_type": "stream",
     "text": [
      "LogTotLikelihoods updated\n"
     ]
    },
    {
     "name": "stderr",
     "output_type": "stream",
     "text": [
      "C:\\Program Files\\Anaconda3\\lib\\site-packages\\qinfer\\smc.py:285: ApproximationWarning: Extremely small n_ess encountered (1.7142993341395842). Resampling is likely to fail. Consider adding particles, or resampling more often.\n",
      "  ApproximationWarning\n"
     ]
    },
    {
     "name": "stdout",
     "output_type": "stream",
     "text": [
      "LogTotLikelihoods updated\n"
     ]
    },
    {
     "name": "stderr",
     "output_type": "stream",
     "text": [
      "C:\\Program Files\\Anaconda3\\lib\\site-packages\\qinfer\\smc.py:285: ApproximationWarning: Extremely small n_ess encountered (8.488480898275988). Resampling is likely to fail. Consider adding particles, or resampling more often.\n",
      "  ApproximationWarning\n"
     ]
    },
    {
     "name": "stdout",
     "output_type": "stream",
     "text": [
      "LogTotLikelihoods updated\n",
      "Total elapsed time for the learning process: 255.93128793491633\n",
      "LogTotLikelihoods updated\n"
     ]
    },
    {
     "name": "stderr",
     "output_type": "stream",
     "text": [
      "C:\\Program Files\\Anaconda3\\lib\\site-packages\\qinfer\\smc.py:285: ApproximationWarning: Extremely small n_ess encountered (9.451945106107916). Resampling is likely to fail. Consider adding particles, or resampling more often.\n",
      "  ApproximationWarning\n"
     ]
    },
    {
     "name": "stdout",
     "output_type": "stream",
     "text": [
      "LogTotLikelihoods updated\n",
      "LogTotLikelihoods updated\n"
     ]
    },
    {
     "name": "stderr",
     "output_type": "stream",
     "text": [
      "C:\\Program Files\\Anaconda3\\lib\\site-packages\\qinfer\\smc.py:285: ApproximationWarning: Extremely small n_ess encountered (8.837294459139015). Resampling is likely to fail. Consider adding particles, or resampling more often.\n",
      "  ApproximationWarning\n"
     ]
    },
    {
     "name": "stdout",
     "output_type": "stream",
     "text": [
      "LogTotLikelihoods updated\n"
     ]
    },
    {
     "name": "stderr",
     "output_type": "stream",
     "text": [
      "C:\\Program Files\\Anaconda3\\lib\\site-packages\\qinfer\\smc.py:285: ApproximationWarning: Extremely small n_ess encountered (2.4059240535787603). Resampling is likely to fail. Consider adding particles, or resampling more often.\n",
      "  ApproximationWarning\n"
     ]
    },
    {
     "name": "stdout",
     "output_type": "stream",
     "text": [
      "LogTotLikelihoods updated\n"
     ]
    },
    {
     "name": "stderr",
     "output_type": "stream",
     "text": [
      "C:\\Program Files\\Anaconda3\\lib\\site-packages\\qinfer\\smc.py:285: ApproximationWarning: Extremely small n_ess encountered (4.0149340495623065). Resampling is likely to fail. Consider adding particles, or resampling more often.\n",
      "  ApproximationWarning\n"
     ]
    },
    {
     "name": "stdout",
     "output_type": "stream",
     "text": [
      "LogTotLikelihoods updated\n",
      "LogTotLikelihoods updated\n",
      "Total elapsed time for Bayes factor update: 214.31068411465822\n",
      "[[ 0.04254501]]\n",
      "Initialization Ready\n",
      "[[ 0.83347271]]\n",
      "Initialization Ready\n",
      "[[ 0.84852329]]\n",
      "Initialization Ready\n",
      "[[ 0.43680659  0.858487  ]]\n",
      "Initialization Ready\n",
      "[[ 0.7035908   0.44281793]]\n",
      "Initialization Ready\n",
      "[[ 0.00704371  0.43154436]]\n",
      "Initialization Ready\n",
      "[[ 0.35406383  0.56537972  0.6031701 ]]\n",
      "Initialization Ready\n",
      "Initial time selected > 1.13529174612\n",
      "Final time selected > 0.549417521147\n",
      "Final Parameters mean and stdev:[-0.00731765  0.51304438]\n",
      "Batch single time 0 elapsed time: 15.705919022298986\n",
      "\n",
      "\n",
      "Initial time selected > 0.778514919946\n",
      "Final time selected > 337.559167469\n",
      "Final Parameters mean and stdev:[ 0.44213493  0.0138268 ]\n",
      "Batch single time 1 elapsed time: 15.841895112085695\n",
      "\n",
      "\n",
      "Initial time selected > 64.8643416774\n",
      "Final time selected > 108.509237776\n",
      "Final Parameters mean and stdev:[-0.27735793  0.04007786]\n",
      "Batch single time 2 elapsed time: 23.95525343355075\n",
      "\n",
      "\n",
      "Initial time selected > 0.488770610389\n",
      "Final time selected > 10.2188335703\n",
      "Final Parameters mean and stdev:[ 0.11888945  0.14018053]\n",
      "Final Parameters mean and stdev:[ 0.48119772  0.03801874]\n",
      "Batch single time 3 elapsed time: 15.813582512810171\n",
      "\n",
      "\n",
      "Initial time selected > 0.651299774282\n",
      "Final time selected > 4.84318393425\n",
      "Final Parameters mean and stdev:[-0.82604586  0.04634095]\n",
      "Final Parameters mean and stdev:[ 0.3185591   0.04018978]\n",
      "Batch single time 4 elapsed time: 15.693162097757522\n",
      "\n",
      "\n",
      "Initial time selected > 0.361334309404\n",
      "Final time selected > 14.8692977017\n",
      "Final Parameters mean and stdev:[ 0.43959633  0.01814695]\n",
      "Final Parameters mean and stdev:[-0.01900754  0.02171724]\n",
      "Batch single time 5 elapsed time: 15.652512684422618\n",
      "\n",
      "\n",
      "Initial time selected > 0.45088263237\n",
      "Final time selected > 7.85260267784\n",
      "Final Parameters mean and stdev:[ 1.21930811  0.01731639]\n",
      "Final Parameters mean and stdev:[ 0.20869839  0.01157847]\n",
      "Final Parameters mean and stdev:[ 0.31525635  0.01727826]\n",
      "Batch single time 6 elapsed time: 15.56556040884243\n",
      "\n",
      "\n"
     ]
    },
    {
     "name": "stderr",
     "output_type": "stream",
     "text": [
      "C:\\Program Files\\Anaconda3\\lib\\site-packages\\qinfer\\smc.py:285: ApproximationWarning: Extremely small n_ess encountered (1.0800691335267218). Resampling is likely to fail. Consider adding particles, or resampling more often.\n",
      "  ApproximationWarning\n"
     ]
    },
    {
     "name": "stdout",
     "output_type": "stream",
     "text": [
      "LogTotLikelihoods updated\n",
      "LogTotLikelihoods updated\n"
     ]
    },
    {
     "name": "stderr",
     "output_type": "stream",
     "text": [
      "C:\\Program Files\\Anaconda3\\lib\\site-packages\\qinfer\\smc.py:285: ApproximationWarning: Extremely small n_ess encountered (1.2316151498483408). Resampling is likely to fail. Consider adding particles, or resampling more often.\n",
      "  ApproximationWarning\n"
     ]
    },
    {
     "name": "stdout",
     "output_type": "stream",
     "text": [
      "LogTotLikelihoods updated\n"
     ]
    },
    {
     "name": "stderr",
     "output_type": "stream",
     "text": [
      "C:\\Program Files\\Anaconda3\\lib\\site-packages\\qinfer\\smc.py:285: ApproximationWarning: Extremely small n_ess encountered (1.0004059228151418). Resampling is likely to fail. Consider adding particles, or resampling more often.\n",
      "  ApproximationWarning\n"
     ]
    },
    {
     "name": "stdout",
     "output_type": "stream",
     "text": [
      "LogTotLikelihoods updated\n",
      "LogTotLikelihoods updated\n",
      "LogTotLikelihoods updated\n",
      "LogTotLikelihoods updated\n",
      "Total elapsed time for the learning process: 255.92922644716236\n",
      "LogTotLikelihoods updated\n",
      "LogTotLikelihoods updated\n"
     ]
    },
    {
     "name": "stderr",
     "output_type": "stream",
     "text": [
      "C:\\Program Files\\Anaconda3\\lib\\site-packages\\qinfer\\smc.py:285: ApproximationWarning: Extremely small n_ess encountered (2.597899033381875). Resampling is likely to fail. Consider adding particles, or resampling more often.\n",
      "  ApproximationWarning\n"
     ]
    },
    {
     "name": "stdout",
     "output_type": "stream",
     "text": [
      "LogTotLikelihoods updated\n",
      "LogTotLikelihoods updated\n"
     ]
    },
    {
     "name": "stderr",
     "output_type": "stream",
     "text": [
      "C:\\Program Files\\Anaconda3\\lib\\site-packages\\qinfer\\smc.py:285: ApproximationWarning: Extremely small n_ess encountered (5.032794744353045). Resampling is likely to fail. Consider adding particles, or resampling more often.\n",
      "  ApproximationWarning\n"
     ]
    },
    {
     "name": "stdout",
     "output_type": "stream",
     "text": [
      "LogTotLikelihoods updated\n",
      "LogTotLikelihoods updated\n"
     ]
    },
    {
     "name": "stderr",
     "output_type": "stream",
     "text": [
      "C:\\Program Files\\Anaconda3\\lib\\site-packages\\qinfer\\smc.py:285: ApproximationWarning: Extremely small n_ess encountered (3.804667715524387). Resampling is likely to fail. Consider adding particles, or resampling more often.\n",
      "  ApproximationWarning\n"
     ]
    },
    {
     "name": "stdout",
     "output_type": "stream",
     "text": [
      "LogTotLikelihoods updated\n",
      "Total elapsed time for Bayes factor update: 213.79929345958408\n",
      "[[ 0.95480473]]\n",
      "Initialization Ready\n",
      "[[ 0.56520631]]\n",
      "Initialization Ready\n",
      "[[ 0.22972818]]\n",
      "Initialization Ready\n",
      "[[ 0.67561779  0.35416044]]\n",
      "Initialization Ready\n",
      "[[ 0.75819677  0.8200839 ]]\n",
      "Initialization Ready\n",
      "[[ 0.09938665  0.25090134]]\n",
      "Initialization Ready\n",
      "[[ 0.33350765  0.6885723   0.60920452]]\n",
      "Initialization Ready\n",
      "Initial time selected > 0.612796833568\n",
      "Final time selected > 6.61443396482\n",
      "Final Parameters mean and stdev:[ 0.30297368  0.07132478]\n",
      "Batch single time 0 elapsed time: 15.730663827527678\n",
      "\n",
      "\n",
      "Initial time selected > 0.636154070847\n",
      "Final time selected > 2984.78361566\n",
      "Final Parameters mean and stdev:[-0.12658728  0.00264404]\n",
      "Batch single time 1 elapsed time: 15.561956198598637\n",
      "\n",
      "\n",
      "Initial time selected > 2.13118284093\n",
      "Final time selected > 1.62708232052\n",
      "Final Parameters mean and stdev:[-0.25117966  0.0989975 ]\n",
      "Batch single time 2 elapsed time: 23.40936737121956\n",
      "\n",
      "\n",
      "Initial time selected > 0.512482050339\n",
      "Final time selected > 64.5613494249\n",
      "Final Parameters mean and stdev:[ 0.50708634  0.00589234]\n",
      "Final Parameters mean and stdev:[ 0.52816239  0.00615978]\n",
      "Batch single time 3 elapsed time: 15.55220758291216\n",
      "\n",
      "\n",
      "Initial time selected > 1.95590703023\n",
      "Final time selected > 80.9322752228\n",
      "Final Parameters mean and stdev:[ 0.93472508  0.03040707]\n",
      "Final Parameters mean and stdev:[-0.15569639  0.01898721]\n",
      "Batch single time 4 elapsed time: 15.571353563524099\n",
      "\n",
      "\n",
      "Initial time selected > 0.639509310702\n",
      "Final time selected > 22.5983155589\n",
      "Final Parameters mean and stdev:[ 0.57834004  0.00927242]\n",
      "Final Parameters mean and stdev:[ 0.28796199  0.0104066 ]\n",
      "Batch single time 5 elapsed time: 15.612239351077733\n",
      "\n",
      "\n",
      "Initial time selected > 0.880601008487\n",
      "Final time selected > 9.06088291362\n",
      "Final Parameters mean and stdev:[ 1.20439903  0.05312747]\n",
      "Final Parameters mean and stdev:[ 0.70263219  0.31082262]\n",
      "Final Parameters mean and stdev:[ 0.06158832  0.36066089]\n",
      "Batch single time 6 elapsed time: 15.555780673859772\n",
      "\n",
      "\n"
     ]
    },
    {
     "name": "stderr",
     "output_type": "stream",
     "text": [
      "C:\\Program Files\\Anaconda3\\lib\\site-packages\\qinfer\\smc.py:285: ApproximationWarning: Extremely small n_ess encountered (4.5702026652701475). Resampling is likely to fail. Consider adding particles, or resampling more often.\n",
      "  ApproximationWarning\n"
     ]
    },
    {
     "name": "stdout",
     "output_type": "stream",
     "text": [
      "LogTotLikelihoods updated\n",
      "LogTotLikelihoods updated\n"
     ]
    },
    {
     "name": "stderr",
     "output_type": "stream",
     "text": [
      "C:\\Program Files\\Anaconda3\\lib\\site-packages\\qinfer\\smc.py:285: ApproximationWarning: Extremely small n_ess encountered (2.1393460575375722). Resampling is likely to fail. Consider adding particles, or resampling more often.\n",
      "  ApproximationWarning\n"
     ]
    },
    {
     "name": "stdout",
     "output_type": "stream",
     "text": [
      "LogTotLikelihoods updated\n"
     ]
    },
    {
     "name": "stderr",
     "output_type": "stream",
     "text": [
      "C:\\Program Files\\Anaconda3\\lib\\site-packages\\qinfer\\smc.py:285: ApproximationWarning: Extremely small n_ess encountered (2.4599544013526597). Resampling is likely to fail. Consider adding particles, or resampling more often.\n",
      "  ApproximationWarning\n"
     ]
    },
    {
     "name": "stdout",
     "output_type": "stream",
     "text": [
      "LogTotLikelihoods updated\n"
     ]
    },
    {
     "name": "stderr",
     "output_type": "stream",
     "text": [
      "C:\\Program Files\\Anaconda3\\lib\\site-packages\\qinfer\\smc.py:285: ApproximationWarning: Extremely small n_ess encountered (4.370392092351383). Resampling is likely to fail. Consider adding particles, or resampling more often.\n",
      "  ApproximationWarning\n"
     ]
    },
    {
     "name": "stdout",
     "output_type": "stream",
     "text": [
      "LogTotLikelihoods updated\n"
     ]
    },
    {
     "name": "stderr",
     "output_type": "stream",
     "text": [
      "C:\\Program Files\\Anaconda3\\lib\\site-packages\\qinfer\\smc.py:285: ApproximationWarning: Extremely small n_ess encountered (1.0091682685359356). Resampling is likely to fail. Consider adding particles, or resampling more often.\n",
      "  ApproximationWarning\n"
     ]
    },
    {
     "name": "stdout",
     "output_type": "stream",
     "text": [
      "LogTotLikelihoods updated\n"
     ]
    },
    {
     "name": "stderr",
     "output_type": "stream",
     "text": [
      "C:\\Program Files\\Anaconda3\\lib\\site-packages\\qinfer\\smc.py:285: ApproximationWarning: Extremely small n_ess encountered (1.1011080523859877). Resampling is likely to fail. Consider adding particles, or resampling more often.\n",
      "  ApproximationWarning\n"
     ]
    },
    {
     "name": "stdout",
     "output_type": "stream",
     "text": [
      "LogTotLikelihoods updated\n",
      "Total elapsed time for the learning process: 258.09260903505674\n"
     ]
    },
    {
     "name": "stderr",
     "output_type": "stream",
     "text": [
      "C:\\Program Files\\Anaconda3\\lib\\site-packages\\qinfer\\smc.py:285: ApproximationWarning: Extremely small n_ess encountered (4.096314211823599). Resampling is likely to fail. Consider adding particles, or resampling more often.\n",
      "  ApproximationWarning\n"
     ]
    },
    {
     "name": "stdout",
     "output_type": "stream",
     "text": [
      "LogTotLikelihoods updated\n",
      "LogTotLikelihoods updated\n"
     ]
    },
    {
     "name": "stderr",
     "output_type": "stream",
     "text": [
      "C:\\Program Files\\Anaconda3\\lib\\site-packages\\qinfer\\smc.py:285: ApproximationWarning: Extremely small n_ess encountered (8.070074956062522). Resampling is likely to fail. Consider adding particles, or resampling more often.\n",
      "  ApproximationWarning\n"
     ]
    },
    {
     "name": "stdout",
     "output_type": "stream",
     "text": [
      "LogTotLikelihoods updated\n",
      "LogTotLikelihoods updated\n"
     ]
    },
    {
     "name": "stderr",
     "output_type": "stream",
     "text": [
      "C:\\Program Files\\Anaconda3\\lib\\site-packages\\qinfer\\smc.py:285: ApproximationWarning: Extremely small n_ess encountered (3.615019736016865). Resampling is likely to fail. Consider adding particles, or resampling more often.\n",
      "  ApproximationWarning\n"
     ]
    },
    {
     "name": "stdout",
     "output_type": "stream",
     "text": [
      "LogTotLikelihoods updated\n",
      "LogTotLikelihoods updated\n"
     ]
    },
    {
     "name": "stderr",
     "output_type": "stream",
     "text": [
      "C:\\Program Files\\Anaconda3\\lib\\site-packages\\qinfer\\smc.py:285: ApproximationWarning: Extremely small n_ess encountered (1.0144237646680865). Resampling is likely to fail. Consider adding particles, or resampling more often.\n",
      "  ApproximationWarning\n"
     ]
    },
    {
     "name": "stdout",
     "output_type": "stream",
     "text": [
      "LogTotLikelihoods updated\n",
      "Total elapsed time for Bayes factor update: 222.94379822249357\n",
      "[[ 0.00108833]]\n",
      "Initialization Ready\n",
      "[[ 0.84073566]]\n",
      "Initialization Ready\n",
      "[[ 0.26050411]]\n",
      "Initialization Ready\n",
      "[[ 0.53437639  0.6638306 ]]\n",
      "Initialization Ready\n",
      "[[ 0.43132733  0.34959451]]\n",
      "Initialization Ready\n",
      "[[ 0.98298764  0.72523916]]\n",
      "Initialization Ready\n",
      "[[ 0.78119681  0.42571985  0.30817306]]\n",
      "Initialization Ready\n",
      "Initial time selected > 1.01278911394\n",
      "Final time selected > 0.567678006109\n",
      "Final Parameters mean and stdev:[ 0.16569177  0.62530274]\n",
      "Batch single time 0 elapsed time: 15.676112365814333\n",
      "\n",
      "\n",
      "Initial time selected > 14.7493199832\n",
      "Final time selected > 70.5112635201\n",
      "Final Parameters mean and stdev:[ 0.17361618  0.01086713]\n",
      "Batch single time 1 elapsed time: 15.752636036011609\n",
      "\n",
      "\n",
      "Initial time selected > 4.40469744235\n",
      "Final time selected > 5.96285794966\n",
      "Final Parameters mean and stdev:[ 1.40456564  0.08303372]\n",
      "Batch single time 2 elapsed time: 24.581737476304625\n",
      "\n",
      "\n",
      "Initial time selected > 1.3196366362\n",
      "Final time selected > 32.5709954205\n",
      "Final Parameters mean and stdev:[ 0.42343295  0.02547797]\n",
      "Final Parameters mean and stdev:[ 0.58231997  0.02263203]\n",
      "Batch single time 3 elapsed time: 15.582327749736578\n",
      "\n",
      "\n",
      "Initial time selected > 2.59513211639\n",
      "Final time selected > 11.164473845\n",
      "Final Parameters mean and stdev:[ 0.52792784  0.10115608]\n",
      "Final Parameters mean and stdev:[ 0.60021182  0.29586986]\n",
      "Batch single time 4 elapsed time: 15.544394984630344\n",
      "\n",
      "\n",
      "Initial time selected > 0.833710035095\n",
      "Final time selected > 63.3656417684\n",
      "Final Parameters mean and stdev:[ 0.45646073  0.00959291]\n",
      "Final Parameters mean and stdev:[ 0.43882936  0.01288759]\n",
      "Batch single time 5 elapsed time: 15.666289593509646\n",
      "\n",
      "\n",
      "Initial time selected > 0.825877761688\n",
      "Final time selected > 14.8731187726\n",
      "Final Parameters mean and stdev:[-0.17823687  0.02566042]\n",
      "Final Parameters mean and stdev:[ 0.49890118  0.01889697]\n",
      "Final Parameters mean and stdev:[ 0.49073815  0.01793697]\n",
      "Batch single time 6 elapsed time: 15.505378341102187\n",
      "\n",
      "\n"
     ]
    },
    {
     "name": "stderr",
     "output_type": "stream",
     "text": [
      "C:\\Program Files\\Anaconda3\\lib\\site-packages\\qinfer\\smc.py:285: ApproximationWarning: Extremely small n_ess encountered (1.0013107305516795). Resampling is likely to fail. Consider adding particles, or resampling more often.\n",
      "  ApproximationWarning\n"
     ]
    },
    {
     "name": "stdout",
     "output_type": "stream",
     "text": [
      "LogTotLikelihoods updated\n"
     ]
    },
    {
     "name": "stderr",
     "output_type": "stream",
     "text": [
      "C:\\Program Files\\Anaconda3\\lib\\site-packages\\qinfer\\smc.py:285: ApproximationWarning: Extremely small n_ess encountered (1.000004092193331). Resampling is likely to fail. Consider adding particles, or resampling more often.\n",
      "  ApproximationWarning\n"
     ]
    },
    {
     "name": "stdout",
     "output_type": "stream",
     "text": [
      "LogTotLikelihoods updated\n"
     ]
    },
    {
     "name": "stderr",
     "output_type": "stream",
     "text": [
      "C:\\Program Files\\Anaconda3\\lib\\site-packages\\qinfer\\smc.py:285: ApproximationWarning: Extremely small n_ess encountered (1.278267044280122). Resampling is likely to fail. Consider adding particles, or resampling more often.\n",
      "  ApproximationWarning\n"
     ]
    },
    {
     "name": "stdout",
     "output_type": "stream",
     "text": [
      "LogTotLikelihoods updated\n"
     ]
    },
    {
     "name": "stderr",
     "output_type": "stream",
     "text": [
      "C:\\Program Files\\Anaconda3\\lib\\site-packages\\qinfer\\smc.py:285: ApproximationWarning: Extremely small n_ess encountered (1.9557020416097943). Resampling is likely to fail. Consider adding particles, or resampling more often.\n",
      "  ApproximationWarning\n"
     ]
    },
    {
     "name": "stdout",
     "output_type": "stream",
     "text": [
      "LogTotLikelihoods updated\n"
     ]
    },
    {
     "name": "stderr",
     "output_type": "stream",
     "text": [
      "C:\\Program Files\\Anaconda3\\lib\\site-packages\\qinfer\\smc.py:285: ApproximationWarning: Extremely small n_ess encountered (2.527747760465868). Resampling is likely to fail. Consider adding particles, or resampling more often.\n",
      "  ApproximationWarning\n"
     ]
    },
    {
     "name": "stdout",
     "output_type": "stream",
     "text": [
      "LogTotLikelihoods updated\n",
      "LogTotLikelihoods updated\n"
     ]
    },
    {
     "name": "stderr",
     "output_type": "stream",
     "text": [
      "C:\\Program Files\\Anaconda3\\lib\\site-packages\\qinfer\\smc.py:285: ApproximationWarning: Extremely small n_ess encountered (2.038080147693289). Resampling is likely to fail. Consider adding particles, or resampling more often.\n",
      "  ApproximationWarning\n"
     ]
    },
    {
     "name": "stdout",
     "output_type": "stream",
     "text": [
      "LogTotLikelihoods updated\n",
      "Total elapsed time for the learning process: 260.9702936535832\n",
      "LogTotLikelihoods updated\n",
      "LogTotLikelihoods updated\n",
      "LogTotLikelihoods updated\n",
      "LogTotLikelihoods updated\n"
     ]
    },
    {
     "name": "stderr",
     "output_type": "stream",
     "text": [
      "C:\\Program Files\\Anaconda3\\lib\\site-packages\\qinfer\\smc.py:285: ApproximationWarning: Extremely small n_ess encountered (1.8713794901799814). Resampling is likely to fail. Consider adding particles, or resampling more often.\n",
      "  ApproximationWarning\n"
     ]
    },
    {
     "name": "stdout",
     "output_type": "stream",
     "text": [
      "LogTotLikelihoods updated\n",
      "LogTotLikelihoods updated\n"
     ]
    },
    {
     "name": "stderr",
     "output_type": "stream",
     "text": [
      "C:\\Program Files\\Anaconda3\\lib\\site-packages\\qinfer\\smc.py:285: ApproximationWarning: Extremely small n_ess encountered (7.2971566518402975). Resampling is likely to fail. Consider adding particles, or resampling more often.\n",
      "  ApproximationWarning\n"
     ]
    },
    {
     "name": "stdout",
     "output_type": "stream",
     "text": [
      "LogTotLikelihoods updated\n",
      "Total elapsed time for Bayes factor update: 226.8743975602465\n",
      "[[ 0.64918383]]\n",
      "Initialization Ready\n",
      "[[ 0.05950707]]\n",
      "Initialization Ready\n",
      "[[ 0.74064489]]\n",
      "Initialization Ready\n",
      "[[ 0.972541    0.63442096]]\n",
      "Initialization Ready\n",
      "[[ 0.54256031  0.19187485]]\n",
      "Initialization Ready\n",
      "[[ 0.57121711  0.53648545]]\n",
      "Initialization Ready\n",
      "[[ 0.78558571  0.40271684  0.12523126]]\n",
      "Initialization Ready\n",
      "Initial time selected > 0.482769019649\n",
      "Final time selected > 3.70951945101\n",
      "Final Parameters mean and stdev:[-0.06599452  0.5962404 ]\n",
      "Batch single time 0 elapsed time: 15.368455430218091\n",
      "\n",
      "\n",
      "Initial time selected > 4.38328753698\n",
      "Final time selected > 15.042486052\n",
      "Final Parameters mean and stdev:[-0.19446614  0.04455077]\n",
      "Batch single time 1 elapsed time: 15.551994382636622\n",
      "\n",
      "\n",
      "Initial time selected > 7.68208949541\n",
      "Final time selected > 11.4494703239\n",
      "Final Parameters mean and stdev:[ 0.39618533  0.0648557 ]\n",
      "Batch single time 2 elapsed time: 23.637777036210537\n",
      "\n",
      "\n",
      "Initial time selected > 0.496198331363\n",
      "Final time selected > 1.20472451436\n",
      "Final Parameters mean and stdev:[-0.49977154  0.23800549]\n",
      "Final Parameters mean and stdev:[-0.17226364  0.12580867]\n",
      "Batch single time 3 elapsed time: 15.480727886928435\n",
      "\n",
      "\n",
      "Initial time selected > 0.646457224539\n",
      "Final time selected > 41.7534680108\n",
      "Final Parameters mean and stdev:[ 0.00153647  0.02595755]\n",
      "Final Parameters mean and stdev:[ 0.38596183  0.01957907]\n",
      "Batch single time 4 elapsed time: 15.566975343586819\n",
      "\n",
      "\n",
      "Initial time selected > 0.703496556049\n",
      "Final time selected > 58.8704298844\n",
      "Final Parameters mean and stdev:[-0.00136337  0.00390507]\n",
      "Final Parameters mean and stdev:[ 0.3916878   0.00772257]\n",
      "Batch single time 5 elapsed time: 15.57873016062149\n",
      "\n",
      "\n",
      "Initial time selected > 0.69918679202\n",
      "Final time selected > 4.25729866726\n",
      "Final Parameters mean and stdev:[-0.09393155  0.23432641]\n",
      "Final Parameters mean and stdev:[-0.50152165  0.34382418]\n",
      "Final Parameters mean and stdev:[-0.15070452  0.11299343]\n",
      "Batch single time 6 elapsed time: 15.454708183779076\n",
      "\n",
      "\n"
     ]
    },
    {
     "name": "stderr",
     "output_type": "stream",
     "text": [
      "C:\\Program Files\\Anaconda3\\lib\\site-packages\\qinfer\\smc.py:285: ApproximationWarning: Extremely small n_ess encountered (2.891171674393402). Resampling is likely to fail. Consider adding particles, or resampling more often.\n",
      "  ApproximationWarning\n"
     ]
    },
    {
     "name": "stdout",
     "output_type": "stream",
     "text": [
      "LogTotLikelihoods updated\n"
     ]
    },
    {
     "name": "stderr",
     "output_type": "stream",
     "text": [
      "C:\\Program Files\\Anaconda3\\lib\\site-packages\\qinfer\\smc.py:285: ApproximationWarning: Extremely small n_ess encountered (1.9265259878320617). Resampling is likely to fail. Consider adding particles, or resampling more often.\n",
      "  ApproximationWarning\n"
     ]
    },
    {
     "name": "stdout",
     "output_type": "stream",
     "text": [
      "LogTotLikelihoods updated\n",
      "LogTotLikelihoods updated\n"
     ]
    },
    {
     "name": "stderr",
     "output_type": "stream",
     "text": [
      "C:\\Program Files\\Anaconda3\\lib\\site-packages\\qinfer\\smc.py:285: ApproximationWarning: Extremely small n_ess encountered (1.0844979492584965). Resampling is likely to fail. Consider adding particles, or resampling more often.\n",
      "  ApproximationWarning\n"
     ]
    },
    {
     "name": "stdout",
     "output_type": "stream",
     "text": [
      "LogTotLikelihoods updated\n",
      "LogTotLikelihoods updated\n",
      "LogTotLikelihoods updated\n"
     ]
    },
    {
     "name": "stderr",
     "output_type": "stream",
     "text": [
      "C:\\Program Files\\Anaconda3\\lib\\site-packages\\qinfer\\smc.py:285: ApproximationWarning: Extremely small n_ess encountered (1.000044903638524). Resampling is likely to fail. Consider adding particles, or resampling more often.\n",
      "  ApproximationWarning\n"
     ]
    },
    {
     "name": "stdout",
     "output_type": "stream",
     "text": [
      "LogTotLikelihoods updated\n",
      "Total elapsed time for the learning process: 252.35050688034426\n",
      "LogTotLikelihoods updated\n",
      "LogTotLikelihoods updated\n",
      "LogTotLikelihoods updated\n",
      "LogTotLikelihoods updated\n",
      "LogTotLikelihoods updated\n",
      "LogTotLikelihoods updated\n",
      "LogTotLikelihoods updated\n",
      "Total elapsed time for Bayes factor update: 207.60668257061116\n",
      "[[ 0.75423927]]\n",
      "Initialization Ready\n",
      "[[ 0.36262176]]\n",
      "Initialization Ready\n",
      "[[ 0.9596991]]\n",
      "Initialization Ready\n",
      "[[ 0.11755804  0.54910755]]\n",
      "Initialization Ready\n",
      "[[ 0.56229288  0.50951736]]\n",
      "Initialization Ready\n",
      "[[ 0.93942724  0.22519559]]\n",
      "Initialization Ready\n",
      "[[ 0.15694053  0.14211079  0.93276284]]\n",
      "Initialization Ready\n",
      "Initial time selected > 6.75781480532\n",
      "Final time selected > 4.00086741044\n",
      "Final Parameters mean and stdev:[ 1.1384471   0.68259377]\n",
      "Batch single time 0 elapsed time: 15.689704876527685\n",
      "\n",
      "\n",
      "Initial time selected > 0.918610292904\n",
      "Final time selected > 11.1284611392\n",
      "Final Parameters mean and stdev:[ 0.27382425  0.10155118]\n",
      "Batch single time 1 elapsed time: 15.611799377216812\n",
      "\n",
      "\n",
      "Initial time selected > 1.636417223\n",
      "Final time selected > 6.45591661234\n",
      "Final Parameters mean and stdev:[ 1.49332293  0.12351156]\n",
      "Batch single time 2 elapsed time: 24.283111095221102\n",
      "\n",
      "\n",
      "Initial time selected > 0.695491449213\n",
      "Final time selected > 3.14926381564\n",
      "Final Parameters mean and stdev:[-0.88529689  0.53881659]\n",
      "Final Parameters mean and stdev:[ 1.81877997  0.25949591]\n",
      "Batch single time 3 elapsed time: 15.432405581079365\n",
      "\n",
      "\n",
      "Initial time selected > 0.915454160999\n",
      "Final time selected > 10.2227326985\n",
      "Final Parameters mean and stdev:[ 0.9766013   0.02333113]\n",
      "Final Parameters mean and stdev:[ 1.14949858  0.06762067]\n",
      "Batch single time 4 elapsed time: 15.479558595976414\n",
      "\n",
      "\n",
      "Initial time selected > 0.628148253273\n",
      "Final time selected > 3.7475224339\n",
      "Final Parameters mean and stdev:[ 0.031273    0.09079843]\n",
      "Final Parameters mean and stdev:[ 0.15705939  0.22820925]\n",
      "Batch single time 5 elapsed time: 15.6628730922057\n",
      "\n",
      "\n",
      "Initial time selected > 1.30809502929\n",
      "Final time selected > 3.23302452899\n",
      "Final Parameters mean and stdev:[ 0.96209008  0.12089437]\n",
      "Final Parameters mean and stdev:[ 1.65881586  0.11696549]\n",
      "Final Parameters mean and stdev:[ 0.22742144  0.09516762]\n",
      "Batch single time 6 elapsed time: 15.408424191742597\n",
      "\n",
      "\n",
      "LogTotLikelihoods updated\n"
     ]
    },
    {
     "name": "stderr",
     "output_type": "stream",
     "text": [
      "C:\\Program Files\\Anaconda3\\lib\\site-packages\\qinfer\\smc.py:285: ApproximationWarning: Extremely small n_ess encountered (2.9624148322169135). Resampling is likely to fail. Consider adding particles, or resampling more often.\n",
      "  ApproximationWarning\n"
     ]
    },
    {
     "name": "stdout",
     "output_type": "stream",
     "text": [
      "LogTotLikelihoods updated\n"
     ]
    },
    {
     "name": "stderr",
     "output_type": "stream",
     "text": [
      "C:\\Program Files\\Anaconda3\\lib\\site-packages\\qinfer\\smc.py:285: ApproximationWarning: Extremely small n_ess encountered (8.485578694620154). Resampling is likely to fail. Consider adding particles, or resampling more often.\n",
      "  ApproximationWarning\n"
     ]
    },
    {
     "name": "stdout",
     "output_type": "stream",
     "text": [
      "LogTotLikelihoods updated\n"
     ]
    },
    {
     "name": "stderr",
     "output_type": "stream",
     "text": [
      "C:\\Program Files\\Anaconda3\\lib\\site-packages\\qinfer\\smc.py:285: ApproximationWarning: Extremely small n_ess encountered (1.3524590525428626). Resampling is likely to fail. Consider adding particles, or resampling more often.\n",
      "  ApproximationWarning\n"
     ]
    },
    {
     "name": "stdout",
     "output_type": "stream",
     "text": [
      "LogTotLikelihoods updated\n",
      "LogTotLikelihoods updated\n"
     ]
    },
    {
     "name": "stderr",
     "output_type": "stream",
     "text": [
      "C:\\Program Files\\Anaconda3\\lib\\site-packages\\qinfer\\smc.py:285: ApproximationWarning: Extremely small n_ess encountered (1.0001133267699327). Resampling is likely to fail. Consider adding particles, or resampling more often.\n",
      "  ApproximationWarning\n"
     ]
    },
    {
     "name": "stdout",
     "output_type": "stream",
     "text": [
      "LogTotLikelihoods updated\n"
     ]
    },
    {
     "name": "stderr",
     "output_type": "stream",
     "text": [
      "C:\\Program Files\\Anaconda3\\lib\\site-packages\\qinfer\\smc.py:285: ApproximationWarning: Extremely small n_ess encountered (5.656104790513082). Resampling is likely to fail. Consider adding particles, or resampling more often.\n",
      "  ApproximationWarning\n"
     ]
    },
    {
     "name": "stdout",
     "output_type": "stream",
     "text": [
      "LogTotLikelihoods updated\n",
      "Total elapsed time for the learning process: 256.4340009415246\n"
     ]
    },
    {
     "name": "stderr",
     "output_type": "stream",
     "text": [
      "C:\\Program Files\\Anaconda3\\lib\\site-packages\\qinfer\\smc.py:285: ApproximationWarning: Extremely small n_ess encountered (1.0000000000081741). Resampling is likely to fail. Consider adding particles, or resampling more often.\n",
      "  ApproximationWarning\n"
     ]
    },
    {
     "name": "stdout",
     "output_type": "stream",
     "text": [
      "LogTotLikelihoods updated\n",
      "LogTotLikelihoods updated\n"
     ]
    },
    {
     "name": "stderr",
     "output_type": "stream",
     "text": [
      "C:\\Program Files\\Anaconda3\\lib\\site-packages\\qinfer\\smc.py:285: ApproximationWarning: Extremely small n_ess encountered (1.0106225729791305). Resampling is likely to fail. Consider adding particles, or resampling more often.\n",
      "  ApproximationWarning\n"
     ]
    },
    {
     "name": "stdout",
     "output_type": "stream",
     "text": [
      "LogTotLikelihoods updated\n"
     ]
    },
    {
     "name": "stderr",
     "output_type": "stream",
     "text": [
      "C:\\Program Files\\Anaconda3\\lib\\site-packages\\qinfer\\smc.py:285: ApproximationWarning: Extremely small n_ess encountered (1.0450383334205855). Resampling is likely to fail. Consider adding particles, or resampling more often.\n",
      "  ApproximationWarning\n"
     ]
    },
    {
     "name": "stdout",
     "output_type": "stream",
     "text": [
      "LogTotLikelihoods updated\n",
      "LogTotLikelihoods updated\n",
      "LogTotLikelihoods updated\n"
     ]
    },
    {
     "name": "stderr",
     "output_type": "stream",
     "text": [
      "C:\\Program Files\\Anaconda3\\lib\\site-packages\\qinfer\\smc.py:285: ApproximationWarning: Extremely small n_ess encountered (2.320598002420874). Resampling is likely to fail. Consider adding particles, or resampling more often.\n",
      "  ApproximationWarning\n"
     ]
    },
    {
     "name": "stdout",
     "output_type": "stream",
     "text": [
      "LogTotLikelihoods updated\n",
      "Total elapsed time for Bayes factor update: 216.39538057242316\n",
      "[[ 0.66651663]]\n",
      "Initialization Ready\n",
      "[[ 0.88851047]]\n",
      "Initialization Ready\n",
      "[[ 0.49345164]]\n",
      "Initialization Ready\n",
      "[[ 0.86000413  0.18972525]]\n",
      "Initialization Ready\n",
      "[[ 0.38950228  0.16101693]]\n",
      "Initialization Ready\n",
      "[[ 0.20704333  0.6266029 ]]\n",
      "Initialization Ready\n",
      "[[ 0.47092536  0.89718417  0.48166826]]\n",
      "Initialization Ready\n",
      "Initial time selected > 1.94553844438\n",
      "Final time selected > 5.15597690823\n",
      "Final Parameters mean and stdev:[ 1.409685    0.34215134]\n",
      "Batch single time 0 elapsed time: 15.642722024582326\n",
      "\n",
      "\n",
      "Initial time selected > 0.544619528507\n",
      "Final time selected > 23.9613503811\n",
      "Final Parameters mean and stdev:[ 0.01703567  0.02209099]\n",
      "Batch single time 1 elapsed time: 15.787636304166881\n",
      "\n",
      "\n",
      "Initial time selected > 2.8386011312\n",
      "Final time selected > 2312.26062033\n",
      "Final Parameters mean and stdev:[ 0.66223444  0.00447584]\n",
      "Batch single time 2 elapsed time: 24.204078680169914\n",
      "\n",
      "\n",
      "Initial time selected > 1.30891595081\n",
      "Final time selected > 4.2617973476\n",
      "Final Parameters mean and stdev:[ 0.34285679  0.08196073]\n",
      "Final Parameters mean and stdev:[ 0.79627842  0.1491417 ]\n",
      "Batch single time 3 elapsed time: 15.53109413454331\n",
      "\n",
      "\n",
      "Initial time selected > 1.29926288974\n",
      "Final time selected > 1.18032954574\n",
      "Final Parameters mean and stdev:[ 0.3739144   0.28168747]\n",
      "Final Parameters mean and stdev:[ 1.40029045  0.23150238]\n",
      "Batch single time 4 elapsed time: 15.562537202453314\n",
      "\n",
      "\n",
      "Initial time selected > 0.705269409742\n",
      "Final time selected > 2.47140049969\n",
      "Final Parameters mean and stdev:[ 0.55359123  0.20381261]\n",
      "Final Parameters mean and stdev:[ 0.34994853  0.10972375]\n",
      "Batch single time 5 elapsed time: 15.564255715853506\n",
      "\n",
      "\n",
      "Initial time selected > 0.359455748615\n",
      "Final time selected > 3.22039970731\n",
      "Final Parameters mean and stdev:[ 0.71709507  0.10722487]\n",
      "Final Parameters mean and stdev:[ 0.61876225  0.03975223]\n",
      "Final Parameters mean and stdev:[ 0.52051656  0.04232331]\n",
      "Batch single time 6 elapsed time: 15.27909571301825\n",
      "\n",
      "\n"
     ]
    },
    {
     "name": "stderr",
     "output_type": "stream",
     "text": [
      "C:\\Program Files\\Anaconda3\\lib\\site-packages\\qinfer\\smc.py:285: ApproximationWarning: Extremely small n_ess encountered (4.063987551178004). Resampling is likely to fail. Consider adding particles, or resampling more often.\n",
      "  ApproximationWarning\n"
     ]
    },
    {
     "name": "stdout",
     "output_type": "stream",
     "text": [
      "LogTotLikelihoods updated\n"
     ]
    },
    {
     "name": "stderr",
     "output_type": "stream",
     "text": [
      "C:\\Program Files\\Anaconda3\\lib\\site-packages\\qinfer\\smc.py:285: ApproximationWarning: Extremely small n_ess encountered (1.0031316905082828). Resampling is likely to fail. Consider adding particles, or resampling more often.\n",
      "  ApproximationWarning\n"
     ]
    },
    {
     "name": "stdout",
     "output_type": "stream",
     "text": [
      "LogTotLikelihoods updated\n"
     ]
    },
    {
     "name": "stderr",
     "output_type": "stream",
     "text": [
      "C:\\Program Files\\Anaconda3\\lib\\site-packages\\qinfer\\smc.py:285: ApproximationWarning: Extremely small n_ess encountered (1.000000288074532). Resampling is likely to fail. Consider adding particles, or resampling more often.\n",
      "  ApproximationWarning\n"
     ]
    },
    {
     "name": "stdout",
     "output_type": "stream",
     "text": [
      "LogTotLikelihoods updated\n"
     ]
    },
    {
     "name": "stderr",
     "output_type": "stream",
     "text": [
      "C:\\Program Files\\Anaconda3\\lib\\site-packages\\qinfer\\smc.py:285: ApproximationWarning: Extremely small n_ess encountered (1.0358317941546713). Resampling is likely to fail. Consider adding particles, or resampling more often.\n",
      "  ApproximationWarning\n"
     ]
    },
    {
     "name": "stdout",
     "output_type": "stream",
     "text": [
      "LogTotLikelihoods updated\n"
     ]
    },
    {
     "name": "stderr",
     "output_type": "stream",
     "text": [
      "C:\\Program Files\\Anaconda3\\lib\\site-packages\\qinfer\\smc.py:285: ApproximationWarning: Extremely small n_ess encountered (1.9204915524066342). Resampling is likely to fail. Consider adding particles, or resampling more often.\n",
      "  ApproximationWarning\n"
     ]
    },
    {
     "name": "stdout",
     "output_type": "stream",
     "text": [
      "LogTotLikelihoods updated\n"
     ]
    },
    {
     "name": "stderr",
     "output_type": "stream",
     "text": [
      "C:\\Program Files\\Anaconda3\\lib\\site-packages\\qinfer\\smc.py:285: ApproximationWarning: Extremely small n_ess encountered (4.451154592040429). Resampling is likely to fail. Consider adding particles, or resampling more often.\n",
      "  ApproximationWarning\n"
     ]
    },
    {
     "name": "stdout",
     "output_type": "stream",
     "text": [
      "LogTotLikelihoods updated\n",
      "LogTotLikelihoods updated\n",
      "Total elapsed time for the learning process: 255.25567182253872\n"
     ]
    },
    {
     "name": "stderr",
     "output_type": "stream",
     "text": [
      "C:\\Program Files\\Anaconda3\\lib\\site-packages\\qinfer\\smc.py:285: ApproximationWarning: Extremely small n_ess encountered (1.6592351279824686). Resampling is likely to fail. Consider adding particles, or resampling more often.\n",
      "  ApproximationWarning\n"
     ]
    },
    {
     "name": "stdout",
     "output_type": "stream",
     "text": [
      "LogTotLikelihoods updated\n",
      "LogTotLikelihoods updated\n",
      "LogTotLikelihoods updated\n"
     ]
    },
    {
     "name": "stderr",
     "output_type": "stream",
     "text": [
      "C:\\Program Files\\Anaconda3\\lib\\site-packages\\qinfer\\smc.py:285: ApproximationWarning: Extremely small n_ess encountered (8.035211162676372). Resampling is likely to fail. Consider adding particles, or resampling more often.\n",
      "  ApproximationWarning\n"
     ]
    },
    {
     "name": "stdout",
     "output_type": "stream",
     "text": [
      "LogTotLikelihoods updated\n"
     ]
    },
    {
     "name": "stderr",
     "output_type": "stream",
     "text": [
      "C:\\Program Files\\Anaconda3\\lib\\site-packages\\qinfer\\smc.py:285: ApproximationWarning: Extremely small n_ess encountered (4.711647023764897). Resampling is likely to fail. Consider adding particles, or resampling more often.\n",
      "  ApproximationWarning\n"
     ]
    },
    {
     "name": "stdout",
     "output_type": "stream",
     "text": [
      "LogTotLikelihoods updated\n"
     ]
    },
    {
     "name": "stderr",
     "output_type": "stream",
     "text": [
      "C:\\Program Files\\Anaconda3\\lib\\site-packages\\qinfer\\smc.py:285: ApproximationWarning: Extremely small n_ess encountered (4.635912949895742). Resampling is likely to fail. Consider adding particles, or resampling more often.\n",
      "  ApproximationWarning\n"
     ]
    },
    {
     "name": "stdout",
     "output_type": "stream",
     "text": [
      "LogTotLikelihoods updated\n"
     ]
    },
    {
     "name": "stderr",
     "output_type": "stream",
     "text": [
      "C:\\Program Files\\Anaconda3\\lib\\site-packages\\qinfer\\smc.py:285: ApproximationWarning: Extremely small n_ess encountered (1.2166092905950143). Resampling is likely to fail. Consider adding particles, or resampling more often.\n",
      "  ApproximationWarning\n"
     ]
    },
    {
     "name": "stdout",
     "output_type": "stream",
     "text": [
      "LogTotLikelihoods updated\n",
      "Total elapsed time for Bayes factor update: 214.58993674837802\n",
      "[[ 0.66857817]]\n",
      "Initialization Ready\n",
      "[[ 0.65946099]]\n",
      "Initialization Ready\n",
      "[[ 0.59037905]]\n",
      "Initialization Ready\n",
      "[[ 0.83741396  0.58877752]]\n",
      "Initialization Ready\n",
      "[[ 0.83684822  0.48616171]]\n",
      "Initialization Ready\n",
      "[[ 0.02181273  0.80296434]]\n",
      "Initialization Ready\n",
      "[[ 0.57721261  0.06723266  0.49574171]]\n",
      "Initialization Ready\n",
      "Initial time selected > 4.39156361966\n",
      "Final time selected > 64.0491585785\n",
      "Final Parameters mean and stdev:[ 0.62583726  0.01383988]\n",
      "Batch single time 0 elapsed time: 15.71348200411012\n",
      "\n",
      "\n",
      "Initial time selected > 1.16214982498\n",
      "Final time selected > 178.064375362\n",
      "Final Parameters mean and stdev:[ 0.03541897  0.00274935]\n",
      "Batch single time 1 elapsed time: 15.93676459974813\n",
      "\n",
      "\n",
      "Initial time selected > 1.01646373683\n",
      "Final time selected > 42.2852138695\n",
      "Final Parameters mean and stdev:[ 0.24565565  0.00910979]\n",
      "Batch single time 2 elapsed time: 24.256512374555314\n",
      "\n",
      "\n",
      "Initial time selected > 0.502220119354\n",
      "Final time selected > 7.63148982253\n",
      "Final Parameters mean and stdev:[-0.14645576  0.09778705]\n",
      "Final Parameters mean and stdev:[ 0.36486872  0.07719689]\n",
      "Batch single time 3 elapsed time: 15.601760425130124\n",
      "\n",
      "\n",
      "Initial time selected > 2.25093114\n",
      "Final time selected > 15.9149055698\n",
      "Final Parameters mean and stdev:[ 0.45276164  0.00997854]\n",
      "Final Parameters mean and stdev:[-0.21642782  0.01980573]\n",
      "Batch single time 4 elapsed time: 15.58488714620944\n",
      "\n",
      "\n",
      "Initial time selected > 0.721163309738\n",
      "Final time selected > 292.045252148\n",
      "Final Parameters mean and stdev:[ 0.90757102  0.00291571]\n",
      "Final Parameters mean and stdev:[ 0.38727734  0.00496324]\n",
      "Batch single time 5 elapsed time: 15.507382225056062\n",
      "\n",
      "\n",
      "Initial time selected > 1.18104943757\n",
      "Final time selected > 4.05613534129\n",
      "Final Parameters mean and stdev:[ 0.2614139   0.07940372]\n",
      "Final Parameters mean and stdev:[ 0.11213668  0.22108132]\n",
      "Final Parameters mean and stdev:[-0.11581176  0.11475926]\n",
      "Batch single time 6 elapsed time: 15.48800384290189\n",
      "\n",
      "\n",
      "LogTotLikelihoods updated\n",
      "LogTotLikelihoods updated\n",
      "LogTotLikelihoods updated\n",
      "LogTotLikelihoods updated\n"
     ]
    },
    {
     "name": "stderr",
     "output_type": "stream",
     "text": [
      "C:\\Program Files\\Anaconda3\\lib\\site-packages\\qinfer\\smc.py:285: ApproximationWarning: Extremely small n_ess encountered (1.0726428475243435). Resampling is likely to fail. Consider adding particles, or resampling more often.\n",
      "  ApproximationWarning\n"
     ]
    },
    {
     "name": "stdout",
     "output_type": "stream",
     "text": [
      "LogTotLikelihoods updated\n"
     ]
    },
    {
     "name": "stderr",
     "output_type": "stream",
     "text": [
      "C:\\Program Files\\Anaconda3\\lib\\site-packages\\qinfer\\smc.py:285: ApproximationWarning: Extremely small n_ess encountered (8.081914992937305). Resampling is likely to fail. Consider adding particles, or resampling more often.\n",
      "  ApproximationWarning\n"
     ]
    },
    {
     "name": "stdout",
     "output_type": "stream",
     "text": [
      "LogTotLikelihoods updated\n"
     ]
    },
    {
     "name": "stderr",
     "output_type": "stream",
     "text": [
      "C:\\Program Files\\Anaconda3\\lib\\site-packages\\qinfer\\smc.py:285: ApproximationWarning: Extremely small n_ess encountered (1.124809134926747). Resampling is likely to fail. Consider adding particles, or resampling more often.\n",
      "  ApproximationWarning\n"
     ]
    },
    {
     "name": "stdout",
     "output_type": "stream",
     "text": [
      "LogTotLikelihoods updated\n",
      "Total elapsed time for the learning process: 255.5709860909992\n",
      "LogTotLikelihoods updated\n",
      "LogTotLikelihoods updated\n"
     ]
    },
    {
     "name": "stderr",
     "output_type": "stream",
     "text": [
      "C:\\Program Files\\Anaconda3\\lib\\site-packages\\qinfer\\smc.py:285: ApproximationWarning: Extremely small n_ess encountered (1.2263736589378047). Resampling is likely to fail. Consider adding particles, or resampling more often.\n",
      "  ApproximationWarning\n"
     ]
    },
    {
     "name": "stdout",
     "output_type": "stream",
     "text": [
      "LogTotLikelihoods updated\n"
     ]
    },
    {
     "name": "stderr",
     "output_type": "stream",
     "text": [
      "C:\\Program Files\\Anaconda3\\lib\\site-packages\\qinfer\\smc.py:285: ApproximationWarning: Extremely small n_ess encountered (1.5006649839178665). Resampling is likely to fail. Consider adding particles, or resampling more often.\n",
      "  ApproximationWarning\n"
     ]
    },
    {
     "name": "stdout",
     "output_type": "stream",
     "text": [
      "LogTotLikelihoods updated\n"
     ]
    },
    {
     "name": "stderr",
     "output_type": "stream",
     "text": [
      "C:\\Program Files\\Anaconda3\\lib\\site-packages\\qinfer\\smc.py:285: ApproximationWarning: Extremely small n_ess encountered (1.7569365747978742). Resampling is likely to fail. Consider adding particles, or resampling more often.\n",
      "  ApproximationWarning\n"
     ]
    },
    {
     "name": "stdout",
     "output_type": "stream",
     "text": [
      "LogTotLikelihoods updated\n"
     ]
    },
    {
     "name": "stderr",
     "output_type": "stream",
     "text": [
      "C:\\Program Files\\Anaconda3\\lib\\site-packages\\qinfer\\smc.py:285: ApproximationWarning: Extremely small n_ess encountered (1.8874338890518758). Resampling is likely to fail. Consider adding particles, or resampling more often.\n",
      "  ApproximationWarning\n"
     ]
    },
    {
     "name": "stdout",
     "output_type": "stream",
     "text": [
      "LogTotLikelihoods updated\n",
      "LogTotLikelihoods updated\n",
      "Total elapsed time for Bayes factor update: 208.14026260712126\n",
      "[[ 0.20710529]]\n",
      "Initialization Ready\n",
      "[[ 0.83945609]]\n",
      "Initialization Ready\n",
      "[[ 0.36178015]]\n",
      "Initialization Ready\n",
      "[[ 0.4634444   0.94625149]]\n",
      "Initialization Ready\n",
      "[[ 0.95064021  0.30786339]]\n",
      "Initialization Ready\n",
      "[[ 0.91704587  0.54758979]]\n",
      "Initialization Ready\n",
      "[[ 0.15478077  0.37060653  0.9260888 ]]\n",
      "Initialization Ready\n",
      "Initial time selected > 1.73170428742\n",
      "Final time selected > 1.89309356232\n",
      "Final Parameters mean and stdev:[ 0.86944209  0.1664755 ]\n",
      "Batch single time 0 elapsed time: 15.779076180697302\n",
      "\n",
      "\n",
      "Initial time selected > 2.00789582894\n"
     ]
    },
    {
     "name": "stderr",
     "output_type": "stream",
     "text": [
      "C:\\Program Files\\Anaconda3\\lib\\site-packages\\qinfer\\smc.py:285: ApproximationWarning: Extremely small n_ess encountered (8.802995682440319). Resampling is likely to fail. Consider adding particles, or resampling more often.\n",
      "  ApproximationWarning\n"
     ]
    },
    {
     "name": "stdout",
     "output_type": "stream",
     "text": [
      "Final time selected > 334.307181432\n",
      "Final Parameters mean and stdev:[ 0.40494567  0.01435034]\n",
      "Batch single time 1 elapsed time: 15.809116231888765\n",
      "\n",
      "\n",
      "Initial time selected > 1.12207826609\n",
      "Final time selected > 584.692946004\n",
      "Exiting learning for Reaching Cov. Norm. Thrshold of 8.10448473901e-07\n",
      " at Iteration Number 95\n",
      "Final Parameters mean and stdev:[ 0.06870387  0.00117607]\n",
      "Batch single time 2 elapsed time: 23.456065514723377\n",
      "\n",
      "\n",
      "Initial time selected > 1.05513391951\n",
      "Final time selected > 8.18731234453\n",
      "Final Parameters mean and stdev:[ 0.46398568  0.11448255]\n",
      "Final Parameters mean and stdev:[-0.21541471  0.19275106]\n",
      "Batch single time 3 elapsed time: 15.702420087967766\n",
      "\n",
      "\n",
      "Initial time selected > 1.37624637494\n",
      "Final time selected > 76.466062159\n",
      "Final Parameters mean and stdev:[ 0.67023029  0.16323182]\n",
      "Final Parameters mean and stdev:[ 0.25253127  0.16509313]\n",
      "Batch single time 4 elapsed time: 15.756188932520672\n",
      "\n",
      "\n",
      "Initial time selected > 0.447532278114\n",
      "Final time selected > 11.2604473642\n",
      "Final Parameters mean and stdev:[ 0.09960329  0.0291775 ]\n",
      "Final Parameters mean and stdev:[ 0.10043813  0.02634411]\n",
      "Batch single time 5 elapsed time: 15.589358061917665\n",
      "\n",
      "\n",
      "Initial time selected > 0.520073646076\n",
      "Final time selected > 23.136308134\n",
      "Final Parameters mean and stdev:[ 0.51625918  0.03208681]\n",
      "Final Parameters mean and stdev:[ 0.40856418  0.01473815]\n",
      "Final Parameters mean and stdev:[ 0.12209478  0.0091522 ]\n",
      "Batch single time 6 elapsed time: 15.753375284792128\n",
      "\n",
      "\n"
     ]
    },
    {
     "name": "stderr",
     "output_type": "stream",
     "text": [
      "C:\\Program Files\\Anaconda3\\lib\\site-packages\\qinfer\\smc.py:285: ApproximationWarning: Extremely small n_ess encountered (1.1331391114063252). Resampling is likely to fail. Consider adding particles, or resampling more often.\n",
      "  ApproximationWarning\n"
     ]
    },
    {
     "name": "stdout",
     "output_type": "stream",
     "text": [
      "LogTotLikelihoods updated\n",
      "LogTotLikelihoods updated\n"
     ]
    },
    {
     "name": "stderr",
     "output_type": "stream",
     "text": [
      "C:\\Program Files\\Anaconda3\\lib\\site-packages\\qinfer\\smc.py:285: ApproximationWarning: Extremely small n_ess encountered (2.626453186671127). Resampling is likely to fail. Consider adding particles, or resampling more often.\n",
      "  ApproximationWarning\n"
     ]
    },
    {
     "name": "stdout",
     "output_type": "stream",
     "text": [
      "LogTotLikelihoods updated\n"
     ]
    },
    {
     "name": "stderr",
     "output_type": "stream",
     "text": [
      "C:\\Program Files\\Anaconda3\\lib\\site-packages\\qinfer\\smc.py:285: ApproximationWarning: Extremely small n_ess encountered (1.0002511191860362). Resampling is likely to fail. Consider adding particles, or resampling more often.\n",
      "  ApproximationWarning\n"
     ]
    },
    {
     "name": "stdout",
     "output_type": "stream",
     "text": [
      "LogTotLikelihoods updated\n"
     ]
    },
    {
     "name": "stderr",
     "output_type": "stream",
     "text": [
      "C:\\Program Files\\Anaconda3\\lib\\site-packages\\qinfer\\smc.py:285: ApproximationWarning: Extremely small n_ess encountered (1.0000256909621437). Resampling is likely to fail. Consider adding particles, or resampling more often.\n",
      "  ApproximationWarning\n"
     ]
    },
    {
     "name": "stdout",
     "output_type": "stream",
     "text": [
      "LogTotLikelihoods updated\n"
     ]
    },
    {
     "name": "stderr",
     "output_type": "stream",
     "text": [
      "C:\\Program Files\\Anaconda3\\lib\\site-packages\\qinfer\\smc.py:285: ApproximationWarning: Extremely small n_ess encountered (2.53456635398122). Resampling is likely to fail. Consider adding particles, or resampling more often.\n",
      "  ApproximationWarning\n"
     ]
    },
    {
     "name": "stdout",
     "output_type": "stream",
     "text": [
      "LogTotLikelihoods updated\n"
     ]
    },
    {
     "name": "stderr",
     "output_type": "stream",
     "text": [
      "C:\\Program Files\\Anaconda3\\lib\\site-packages\\qinfer\\smc.py:285: ApproximationWarning: Extremely small n_ess encountered (1.0176056077327695). Resampling is likely to fail. Consider adding particles, or resampling more often.\n",
      "  ApproximationWarning\n"
     ]
    },
    {
     "name": "stdout",
     "output_type": "stream",
     "text": [
      "LogTotLikelihoods updated\n",
      "Total elapsed time for the learning process: 256.65427423514484\n"
     ]
    },
    {
     "name": "stderr",
     "output_type": "stream",
     "text": [
      "C:\\Program Files\\Anaconda3\\lib\\site-packages\\qinfer\\smc.py:285: ApproximationWarning: Extremely small n_ess encountered (5.570846141985604). Resampling is likely to fail. Consider adding particles, or resampling more often.\n",
      "  ApproximationWarning\n"
     ]
    },
    {
     "name": "stdout",
     "output_type": "stream",
     "text": [
      "LogTotLikelihoods updated\n"
     ]
    },
    {
     "name": "stderr",
     "output_type": "stream",
     "text": [
      "C:\\Program Files\\Anaconda3\\lib\\site-packages\\qinfer\\smc.py:285: ApproximationWarning: Extremely small n_ess encountered (3.6027799270079592). Resampling is likely to fail. Consider adding particles, or resampling more often.\n",
      "  ApproximationWarning\n"
     ]
    },
    {
     "name": "stdout",
     "output_type": "stream",
     "text": [
      "LogTotLikelihoods updated\n",
      "LogTotLikelihoods updated\n",
      "LogTotLikelihoods updated\n",
      "LogTotLikelihoods updated\n"
     ]
    },
    {
     "name": "stderr",
     "output_type": "stream",
     "text": [
      "C:\\Program Files\\Anaconda3\\lib\\site-packages\\qinfer\\smc.py:285: ApproximationWarning: Extremely small n_ess encountered (1.0520247763291202). Resampling is likely to fail. Consider adding particles, or resampling more often.\n",
      "  ApproximationWarning\n"
     ]
    },
    {
     "name": "stdout",
     "output_type": "stream",
     "text": [
      "LogTotLikelihoods updated\n"
     ]
    },
    {
     "name": "stderr",
     "output_type": "stream",
     "text": [
      "C:\\Program Files\\Anaconda3\\lib\\site-packages\\qinfer\\smc.py:285: ApproximationWarning: Extremely small n_ess encountered (1.919332309185981). Resampling is likely to fail. Consider adding particles, or resampling more often.\n",
      "  ApproximationWarning\n"
     ]
    },
    {
     "name": "stdout",
     "output_type": "stream",
     "text": [
      "LogTotLikelihoods updated\n",
      "Total elapsed time for Bayes factor update: 218.38838568327083\n",
      "[[ 0.65422009]]\n",
      "Initialization Ready\n",
      "[[ 0.68376592]]\n",
      "Initialization Ready\n",
      "[[ 0.75765963]]\n",
      "Initialization Ready\n",
      "[[ 0.16043583  0.39264022]]\n",
      "Initialization Ready\n",
      "[[ 0.73082328  0.30653586]]\n",
      "Initialization Ready\n",
      "[[ 0.53592784  0.03032323]]\n",
      "Initialization Ready\n",
      "[[ 0.51347122  0.33051869  0.92289048]]\n",
      "Initialization Ready\n",
      "Initial time selected > 0.88363645368\n",
      "Final time selected > 1.99693809197\n",
      "Final Parameters mean and stdev:[-0.33674794  0.50205563]\n",
      "Batch single time 0 elapsed time: 16.21741793279216\n",
      "\n",
      "\n",
      "Initial time selected > 0.722464596872\n",
      "Final time selected > 761.565002353\n",
      "Final Parameters mean and stdev:[-0.94260295  0.0141849 ]\n",
      "Batch single time 1 elapsed time: 15.692293074896952\n",
      "\n",
      "\n",
      "Initial time selected > 1.1284669259\n",
      "Final time selected > 605.094643014\n",
      "Exiting learning for Reaching Cov. Norm. Thrshold of 5.77697859327e-07\n",
      " at Iteration Number 87\n",
      "Final Parameters mean and stdev:[ 0.39902563  0.00152795]\n",
      "Batch single time 2 elapsed time: 21.22075464952104\n",
      "\n",
      "\n",
      "Initial time selected > 1.71147651892\n",
      "Final time selected > 7.0579871891\n",
      "Final Parameters mean and stdev:[ 0.37155183  0.2549032 ]\n",
      "Final Parameters mean and stdev:[ 0.26978696  0.15173586]\n",
      "Batch single time 3 elapsed time: 15.694265508500393\n",
      "\n",
      "\n",
      "Initial time selected > 0.584811905695\n",
      "Final time selected > 49.0216969419\n",
      "Final Parameters mean and stdev:[-0.06480453  0.02330659]\n",
      "Final Parameters mean and stdev:[ 0.38944569  0.02321406]\n",
      "Batch single time 4 elapsed time: 15.590921309896657\n",
      "\n",
      "\n",
      "Initial time selected > 0.507610936501\n",
      "Final time selected > 29.8580265823\n",
      "Final Parameters mean and stdev:[ 0.01304671  0.01498064]\n",
      "Final Parameters mean and stdev:[ 0.46383439  0.04068738]\n",
      "Batch single time 5 elapsed time: 15.422941011722287\n",
      "\n",
      "\n",
      "Initial time selected > 1.40631154973\n",
      "Final time selected > 7.63582579828\n",
      "Final Parameters mean and stdev:[ 0.66982396  0.18347059]\n",
      "Final Parameters mean and stdev:[ 0.11343468  0.08293956]\n",
      "Final Parameters mean and stdev:[ 0.29336408  0.03194795]\n",
      "Batch single time 6 elapsed time: 15.555807158365496\n",
      "\n",
      "\n"
     ]
    },
    {
     "name": "stderr",
     "output_type": "stream",
     "text": [
      "C:\\Program Files\\Anaconda3\\lib\\site-packages\\qinfer\\smc.py:285: ApproximationWarning: Extremely small n_ess encountered (1.0079881668674047). Resampling is likely to fail. Consider adding particles, or resampling more often.\n",
      "  ApproximationWarning\n"
     ]
    },
    {
     "name": "stdout",
     "output_type": "stream",
     "text": [
      "LogTotLikelihoods updated\n"
     ]
    },
    {
     "name": "stderr",
     "output_type": "stream",
     "text": [
      "C:\\Program Files\\Anaconda3\\lib\\site-packages\\qinfer\\smc.py:285: ApproximationWarning: Extremely small n_ess encountered (1.1139720252620318). Resampling is likely to fail. Consider adding particles, or resampling more often.\n",
      "  ApproximationWarning\n"
     ]
    },
    {
     "name": "stdout",
     "output_type": "stream",
     "text": [
      "LogTotLikelihoods updated\n",
      "LogTotLikelihoods updated\n"
     ]
    },
    {
     "name": "stderr",
     "output_type": "stream",
     "text": [
      "C:\\Program Files\\Anaconda3\\lib\\site-packages\\qinfer\\smc.py:285: ApproximationWarning: Extremely small n_ess encountered (1.3227376162863573). Resampling is likely to fail. Consider adding particles, or resampling more often.\n",
      "  ApproximationWarning\n"
     ]
    },
    {
     "name": "stdout",
     "output_type": "stream",
     "text": [
      "LogTotLikelihoods updated\n"
     ]
    },
    {
     "name": "stderr",
     "output_type": "stream",
     "text": [
      "C:\\Program Files\\Anaconda3\\lib\\site-packages\\qinfer\\smc.py:285: ApproximationWarning: Extremely small n_ess encountered (4.936043408493565). Resampling is likely to fail. Consider adding particles, or resampling more often.\n",
      "  ApproximationWarning\n"
     ]
    },
    {
     "name": "stdout",
     "output_type": "stream",
     "text": [
      "LogTotLikelihoods updated\n"
     ]
    },
    {
     "name": "stderr",
     "output_type": "stream",
     "text": [
      "C:\\Program Files\\Anaconda3\\lib\\site-packages\\qinfer\\smc.py:285: ApproximationWarning: Extremely small n_ess encountered (2.1265902781065353). Resampling is likely to fail. Consider adding particles, or resampling more often.\n",
      "  ApproximationWarning\n"
     ]
    },
    {
     "name": "stdout",
     "output_type": "stream",
     "text": [
      "LogTotLikelihoods updated\n"
     ]
    },
    {
     "name": "stderr",
     "output_type": "stream",
     "text": [
      "C:\\Program Files\\Anaconda3\\lib\\site-packages\\qinfer\\smc.py:285: ApproximationWarning: Extremely small n_ess encountered (1.0103454226335025). Resampling is likely to fail. Consider adding particles, or resampling more often.\n",
      "  ApproximationWarning\n"
     ]
    },
    {
     "name": "stdout",
     "output_type": "stream",
     "text": [
      "LogTotLikelihoods updated\n",
      "Total elapsed time for the learning process: 254.52137200336074\n",
      "LogTotLikelihoods updated\n"
     ]
    },
    {
     "name": "stderr",
     "output_type": "stream",
     "text": [
      "C:\\Program Files\\Anaconda3\\lib\\site-packages\\qinfer\\smc.py:285: ApproximationWarning: Extremely small n_ess encountered (1.3628653609535457). Resampling is likely to fail. Consider adding particles, or resampling more often.\n",
      "  ApproximationWarning\n"
     ]
    },
    {
     "name": "stdout",
     "output_type": "stream",
     "text": [
      "LogTotLikelihoods updated\n",
      "LogTotLikelihoods updated\n"
     ]
    },
    {
     "name": "stderr",
     "output_type": "stream",
     "text": [
      "C:\\Program Files\\Anaconda3\\lib\\site-packages\\qinfer\\smc.py:285: ApproximationWarning: Extremely small n_ess encountered (1.7950064550172071). Resampling is likely to fail. Consider adding particles, or resampling more often.\n",
      "  ApproximationWarning\n"
     ]
    },
    {
     "name": "stdout",
     "output_type": "stream",
     "text": [
      "LogTotLikelihoods updated\n",
      "LogTotLikelihoods updated\n",
      "LogTotLikelihoods updated\n"
     ]
    },
    {
     "name": "stderr",
     "output_type": "stream",
     "text": [
      "C:\\Program Files\\Anaconda3\\lib\\site-packages\\qinfer\\smc.py:285: ApproximationWarning: Extremely small n_ess encountered (3.746423981235382). Resampling is likely to fail. Consider adding particles, or resampling more often.\n",
      "  ApproximationWarning\n"
     ]
    },
    {
     "name": "stdout",
     "output_type": "stream",
     "text": [
      "LogTotLikelihoods updated\n",
      "Total elapsed time for Bayes factor update: 214.1241835323308\n",
      "[[ 0.33421642]]\n",
      "Initialization Ready\n",
      "[[ 0.1453382]]\n",
      "Initialization Ready\n",
      "[[ 0.98219118]]\n",
      "Initialization Ready\n",
      "[[ 0.25377521  0.56003079]]\n",
      "Initialization Ready\n",
      "[[ 0.68391189  0.21471438]]\n",
      "Initialization Ready\n",
      "[[ 0.52986605  0.89176738]]\n",
      "Initialization Ready\n",
      "[[ 0.60736836  0.19048878  0.53362545]]\n",
      "Initialization Ready\n",
      "Initial time selected > 4.23397395733\n",
      "Final time selected > 19.8762570644\n",
      "Final Parameters mean and stdev:[ 1.06634519  0.16929439]\n",
      "Batch single time 0 elapsed time: 15.572198750327516\n",
      "\n",
      "\n",
      "Initial time selected > 4.78646929188\n",
      "Final time selected > 2.13947846734\n",
      "Final Parameters mean and stdev:[ 1.03611532  0.42626941]\n",
      "Batch single time 1 elapsed time: 15.59565574644148\n",
      "\n",
      "\n",
      "Initial time selected > 0.724969051843\n",
      "Final time selected > 12.7104079679\n",
      "Final Parameters mean and stdev:[ 1.05590672  0.54811738]\n",
      "Batch single time 2 elapsed time: 23.733775757009425\n",
      "\n",
      "\n",
      "Initial time selected > 0.624178843056\n",
      "Final time selected > 2.01420867852\n",
      "Final Parameters mean and stdev:[ 0.6886927   0.11158153]\n",
      "Final Parameters mean and stdev:[ 0.48574033  0.074417  ]\n",
      "Batch single time 3 elapsed time: 15.423427333467771\n",
      "\n",
      "\n",
      "Initial time selected > 0.536447080521\n",
      "Final time selected > 11.2842942099\n",
      "Final Parameters mean and stdev:[-0.56715407  0.04143407]\n",
      "Final Parameters mean and stdev:[ 0.47430626  0.03248203]\n",
      "Batch single time 4 elapsed time: 15.60279100347907\n",
      "\n",
      "\n",
      "Initial time selected > 0.759119783974\n",
      "Final time selected > 88.3303229554\n",
      "Final Parameters mean and stdev:[ 0.42332388  0.00769635]\n",
      "Final Parameters mean and stdev:[ 0.38253542  0.00895027]\n",
      "Batch single time 5 elapsed time: 15.418310526863934\n",
      "\n",
      "\n",
      "Initial time selected > 3.96117152333\n",
      "Final time selected > 3.12199075484\n",
      "Final Parameters mean and stdev:[-0.35201982  0.10963163]\n",
      "Final Parameters mean and stdev:[ 0.29262557  0.07949063]\n",
      "Final Parameters mean and stdev:[ 0.78349923  0.09611142]\n",
      "Batch single time 6 elapsed time: 15.488207773600152\n",
      "\n",
      "\n",
      "LogTotLikelihoods updated\n"
     ]
    },
    {
     "name": "stderr",
     "output_type": "stream",
     "text": [
      "C:\\Program Files\\Anaconda3\\lib\\site-packages\\qinfer\\smc.py:285: ApproximationWarning: Extremely small n_ess encountered (6.287573550302713). Resampling is likely to fail. Consider adding particles, or resampling more often.\n",
      "  ApproximationWarning\n"
     ]
    },
    {
     "name": "stdout",
     "output_type": "stream",
     "text": [
      "LogTotLikelihoods updated\n"
     ]
    },
    {
     "name": "stderr",
     "output_type": "stream",
     "text": [
      "C:\\Program Files\\Anaconda3\\lib\\site-packages\\qinfer\\smc.py:285: ApproximationWarning: Extremely small n_ess encountered (1.5849653767196534). Resampling is likely to fail. Consider adding particles, or resampling more often.\n",
      "  ApproximationWarning\n"
     ]
    },
    {
     "name": "stdout",
     "output_type": "stream",
     "text": [
      "LogTotLikelihoods updated\n"
     ]
    },
    {
     "name": "stderr",
     "output_type": "stream",
     "text": [
      "C:\\Program Files\\Anaconda3\\lib\\site-packages\\qinfer\\smc.py:285: ApproximationWarning: Extremely small n_ess encountered (2.132189358857485). Resampling is likely to fail. Consider adding particles, or resampling more often.\n",
      "  ApproximationWarning\n"
     ]
    },
    {
     "name": "stdout",
     "output_type": "stream",
     "text": [
      "LogTotLikelihoods updated\n",
      "LogTotLikelihoods updated\n",
      "LogTotLikelihoods updated\n"
     ]
    },
    {
     "name": "stderr",
     "output_type": "stream",
     "text": [
      "C:\\Program Files\\Anaconda3\\lib\\site-packages\\qinfer\\smc.py:285: ApproximationWarning: Extremely small n_ess encountered (6.132846820699693). Resampling is likely to fail. Consider adding particles, or resampling more often.\n",
      "  ApproximationWarning\n"
     ]
    },
    {
     "name": "stdout",
     "output_type": "stream",
     "text": [
      "LogTotLikelihoods updated\n",
      "Total elapsed time for the learning process: 259.5716442309804\n"
     ]
    },
    {
     "name": "stderr",
     "output_type": "stream",
     "text": [
      "C:\\Program Files\\Anaconda3\\lib\\site-packages\\qinfer\\smc.py:285: ApproximationWarning: Extremely small n_ess encountered (2.661199809083335). Resampling is likely to fail. Consider adding particles, or resampling more often.\n",
      "  ApproximationWarning\n"
     ]
    },
    {
     "name": "stdout",
     "output_type": "stream",
     "text": [
      "LogTotLikelihoods updated\n",
      "LogTotLikelihoods updated\n",
      "LogTotLikelihoods updated\n"
     ]
    },
    {
     "name": "stderr",
     "output_type": "stream",
     "text": [
      "C:\\Program Files\\Anaconda3\\lib\\site-packages\\qinfer\\smc.py:285: ApproximationWarning: Extremely small n_ess encountered (1.0082960127821878). Resampling is likely to fail. Consider adding particles, or resampling more often.\n",
      "  ApproximationWarning\n"
     ]
    },
    {
     "name": "stdout",
     "output_type": "stream",
     "text": [
      "LogTotLikelihoods updated\n",
      "LogTotLikelihoods updated\n",
      "LogTotLikelihoods updated\n"
     ]
    },
    {
     "name": "stderr",
     "output_type": "stream",
     "text": [
      "C:\\Program Files\\Anaconda3\\lib\\site-packages\\qinfer\\smc.py:285: ApproximationWarning: Extremely small n_ess encountered (1.484639568453262). Resampling is likely to fail. Consider adding particles, or resampling more often.\n",
      "  ApproximationWarning\n"
     ]
    },
    {
     "name": "stdout",
     "output_type": "stream",
     "text": [
      "LogTotLikelihoods updated\n",
      "Total elapsed time for Bayes factor update: 223.3148564175608\n",
      "[[ 0.85438367]]\n",
      "Initialization Ready\n",
      "[[ 0.13954254]]\n",
      "Initialization Ready\n",
      "[[ 0.52361718]]\n",
      "Initialization Ready\n",
      "[[ 0.16445741  0.60234162]]\n",
      "Initialization Ready\n",
      "[[ 0.71746628  0.24979186]]\n",
      "Initialization Ready\n",
      "[[ 0.19763623  0.67944351]]\n",
      "Initialization Ready\n",
      "[[ 0.309989    0.31276968  0.24096957]]\n",
      "Initialization Ready\n",
      "Initial time selected > 0.607983386783\n",
      "Final time selected > 31.6898385764\n",
      "Final Parameters mean and stdev:[ 0.51776534  0.00773318]\n",
      "Batch single time 0 elapsed time: 15.889326214297398\n",
      "\n",
      "\n",
      "Initial time selected > 0.773126960621\n",
      "Final time selected > 71.9112993991\n",
      "Final Parameters mean and stdev:[ 0.20573476  0.0087905 ]\n",
      "Batch single time 1 elapsed time: 15.765534983715042\n",
      "\n",
      "\n",
      "Initial time selected > 5.48197840991\n",
      "Final time selected > 1020.22269278\n",
      "Final Parameters mean and stdev:[ 0.32193902  0.00339361]\n",
      "Batch single time 2 elapsed time: 24.473222508917388\n",
      "\n",
      "\n",
      "Initial time selected > 0.383706763295\n",
      "Final time selected > 55.9727607006\n",
      "Final Parameters mean and stdev:[ 0.54383327  0.0099523 ]\n",
      "Final Parameters mean and stdev:[ 0.00620332  0.00757217]\n",
      "Batch single time 3 elapsed time: 15.618840614255532\n",
      "\n",
      "\n",
      "Initial time selected > 0.482794897168\n",
      "Final time selected > 5.05326940918\n",
      "Final Parameters mean and stdev:[ 0.46098036  0.13304542]\n",
      "Final Parameters mean and stdev:[-0.07557718  0.095541  ]\n",
      "Batch single time 4 elapsed time: 15.540333585599\n",
      "\n",
      "\n",
      "Initial time selected > 0.783702774793\n",
      "Final time selected > 10.799340922\n",
      "Final Parameters mean and stdev:[-0.27653425  0.02420993]\n",
      "Final Parameters mean and stdev:[-0.17484024  0.0130364 ]\n",
      "Batch single time 5 elapsed time: 15.598561758888536\n",
      "\n",
      "\n",
      "Initial time selected > 0.42337776161\n",
      "Final time selected > 1.43920524946\n",
      "Final Parameters mean and stdev:[ 0.75253968  0.17218928]\n",
      "Final Parameters mean and stdev:[-0.00501165  0.2618053 ]\n",
      "Final Parameters mean and stdev:[ 0.19018614  0.25632132]\n",
      "Batch single time 6 elapsed time: 15.343541455204104\n",
      "\n",
      "\n"
     ]
    },
    {
     "name": "stderr",
     "output_type": "stream",
     "text": [
      "C:\\Program Files\\Anaconda3\\lib\\site-packages\\qinfer\\smc.py:285: ApproximationWarning: Extremely small n_ess encountered (2.9650324393385916). Resampling is likely to fail. Consider adding particles, or resampling more often.\n",
      "  ApproximationWarning\n"
     ]
    },
    {
     "name": "stdout",
     "output_type": "stream",
     "text": [
      "LogTotLikelihoods updated\n",
      "LogTotLikelihoods updated\n"
     ]
    },
    {
     "name": "stderr",
     "output_type": "stream",
     "text": [
      "C:\\Program Files\\Anaconda3\\lib\\site-packages\\qinfer\\smc.py:285: ApproximationWarning: Extremely small n_ess encountered (6.850024906170752). Resampling is likely to fail. Consider adding particles, or resampling more often.\n",
      "  ApproximationWarning\n"
     ]
    },
    {
     "name": "stdout",
     "output_type": "stream",
     "text": [
      "LogTotLikelihoods updated\n",
      "LogTotLikelihoods updated\n"
     ]
    },
    {
     "name": "stderr",
     "output_type": "stream",
     "text": [
      "C:\\Program Files\\Anaconda3\\lib\\site-packages\\qinfer\\smc.py:285: ApproximationWarning: Extremely small n_ess encountered (1.086944258512696). Resampling is likely to fail. Consider adding particles, or resampling more often.\n",
      "  ApproximationWarning\n"
     ]
    },
    {
     "name": "stdout",
     "output_type": "stream",
     "text": [
      "LogTotLikelihoods updated\n"
     ]
    },
    {
     "name": "stderr",
     "output_type": "stream",
     "text": [
      "C:\\Program Files\\Anaconda3\\lib\\site-packages\\qinfer\\smc.py:285: ApproximationWarning: Extremely small n_ess encountered (1.9469391831100133). Resampling is likely to fail. Consider adding particles, or resampling more often.\n",
      "  ApproximationWarning\n"
     ]
    },
    {
     "name": "stdout",
     "output_type": "stream",
     "text": [
      "LogTotLikelihoods updated\n"
     ]
    },
    {
     "name": "stderr",
     "output_type": "stream",
     "text": [
      "C:\\Program Files\\Anaconda3\\lib\\site-packages\\qinfer\\smc.py:285: ApproximationWarning: Extremely small n_ess encountered (1.629571972628408). Resampling is likely to fail. Consider adding particles, or resampling more often.\n",
      "  ApproximationWarning\n"
     ]
    },
    {
     "name": "stdout",
     "output_type": "stream",
     "text": [
      "LogTotLikelihoods updated\n",
      "Total elapsed time for the learning process: 257.1867886013333\n",
      "LogTotLikelihoods updated\n"
     ]
    },
    {
     "name": "stderr",
     "output_type": "stream",
     "text": [
      "C:\\Program Files\\Anaconda3\\lib\\site-packages\\qinfer\\smc.py:285: ApproximationWarning: Extremely small n_ess encountered (1.9657610346507186). Resampling is likely to fail. Consider adding particles, or resampling more often.\n",
      "  ApproximationWarning\n"
     ]
    },
    {
     "name": "stdout",
     "output_type": "stream",
     "text": [
      "LogTotLikelihoods updated\n",
      "LogTotLikelihoods updated\n"
     ]
    },
    {
     "name": "stderr",
     "output_type": "stream",
     "text": [
      "C:\\Program Files\\Anaconda3\\lib\\site-packages\\qinfer\\smc.py:285: ApproximationWarning: Extremely small n_ess encountered (1.0383244361480755). Resampling is likely to fail. Consider adding particles, or resampling more often.\n",
      "  ApproximationWarning\n"
     ]
    },
    {
     "name": "stdout",
     "output_type": "stream",
     "text": [
      "LogTotLikelihoods updated\n"
     ]
    },
    {
     "name": "stderr",
     "output_type": "stream",
     "text": [
      "C:\\Program Files\\Anaconda3\\lib\\site-packages\\qinfer\\smc.py:285: ApproximationWarning: Extremely small n_ess encountered (1.0155770678846299). Resampling is likely to fail. Consider adding particles, or resampling more often.\n",
      "  ApproximationWarning\n"
     ]
    },
    {
     "name": "stdout",
     "output_type": "stream",
     "text": [
      "LogTotLikelihoods updated\n",
      "LogTotLikelihoods updated\n"
     ]
    },
    {
     "name": "stderr",
     "output_type": "stream",
     "text": [
      "C:\\Program Files\\Anaconda3\\lib\\site-packages\\qinfer\\smc.py:285: ApproximationWarning: Extremely small n_ess encountered (1.6834284081213546). Resampling is likely to fail. Consider adding particles, or resampling more often.\n",
      "  ApproximationWarning\n"
     ]
    },
    {
     "name": "stdout",
     "output_type": "stream",
     "text": [
      "LogTotLikelihoods updated\n",
      "Total elapsed time for Bayes factor update: 205.63993684769594\n",
      "[[ 0.438955]]\n",
      "Initialization Ready\n",
      "[[ 0.45255938]]\n",
      "Initialization Ready\n",
      "[[ 0.83945838]]\n",
      "Initialization Ready\n",
      "[[ 0.3018196   0.33409107]]\n",
      "Initialization Ready\n",
      "[[ 0.52498691  0.3603758 ]]\n",
      "Initialization Ready\n",
      "[[ 0.83178547  0.98934895]]\n",
      "Initialization Ready\n",
      "[[ 0.81078285  0.42893317  0.4970439 ]]\n",
      "Initialization Ready\n",
      "Initial time selected > 0.390041002506\n",
      "Final time selected > 0.53381988119\n",
      "Final Parameters mean and stdev:[ 0.16445882  0.92638507]\n",
      "Batch single time 0 elapsed time: 15.78912506447341\n",
      "\n",
      "\n",
      "Initial time selected > 0.524356430234\n",
      "Final time selected > 698.752022514\n",
      "Exiting learning for Reaching Cov. Norm. Thrshold of 9.27854904464e-07\n",
      " at Iteration Number 96\n",
      "Final Parameters mean and stdev:[ 1.19966712  0.00186642]\n",
      "Batch single time 1 elapsed time: 15.336281389932992\n",
      "\n",
      "\n",
      "Initial time selected > 0.769218706859\n",
      "Final time selected > 5.92050151934\n",
      "Final Parameters mean and stdev:[ 1.46378672  0.05787881]\n",
      "Batch single time 2 elapsed time: 23.911463288832238\n",
      "\n",
      "\n",
      "Initial time selected > 0.410803626392\n",
      "Final time selected > 15.0942961493\n",
      "Final Parameters mean and stdev:[-0.16762749  0.11680832]\n",
      "Final Parameters mean and stdev:[-0.0140227   0.04135082]\n",
      "Batch single time 3 elapsed time: 15.561935010995512\n",
      "\n",
      "\n",
      "Initial time selected > 1.68027195071\n",
      "Final time selected > 2.24072735408\n",
      "Final Parameters mean and stdev:[ 0.25182533  0.41225793]\n",
      "Final Parameters mean and stdev:[ 0.16501685  0.3569376 ]\n",
      "Batch single time 4 elapsed time: 15.564149777828789\n",
      "\n",
      "\n",
      "Initial time selected > 3.91990893647\n",
      "Final time selected > 3.81974573243\n",
      "Final Parameters mean and stdev:[ 0.23581283  0.09319938]\n",
      "Final Parameters mean and stdev:[-0.39383496  0.0448034 ]\n",
      "Batch single time 5 elapsed time: 15.60416554935\n",
      "\n",
      "\n",
      "Initial time selected > 0.572795186828\n",
      "Final time selected > 0.552598086295\n",
      "Final Parameters mean and stdev:[ 0.64320186  0.21721249]\n",
      "Final Parameters mean and stdev:[ 0.93589246  0.29501325]\n",
      "Final Parameters mean and stdev:[-0.40754741  0.15161595]\n",
      "Batch single time 6 elapsed time: 15.456326387109584\n",
      "\n",
      "\n"
     ]
    },
    {
     "name": "stderr",
     "output_type": "stream",
     "text": [
      "C:\\Program Files\\Anaconda3\\lib\\site-packages\\qinfer\\smc.py:285: ApproximationWarning: Extremely small n_ess encountered (2.200936795073299). Resampling is likely to fail. Consider adding particles, or resampling more often.\n",
      "  ApproximationWarning\n"
     ]
    },
    {
     "name": "stdout",
     "output_type": "stream",
     "text": [
      "LogTotLikelihoods updated\n"
     ]
    },
    {
     "name": "stderr",
     "output_type": "stream",
     "text": [
      "C:\\Program Files\\Anaconda3\\lib\\site-packages\\qinfer\\smc.py:285: ApproximationWarning: Extremely small n_ess encountered (1.66925166091175). Resampling is likely to fail. Consider adding particles, or resampling more often.\n",
      "  ApproximationWarning\n"
     ]
    },
    {
     "name": "stdout",
     "output_type": "stream",
     "text": [
      "LogTotLikelihoods updated\n"
     ]
    },
    {
     "name": "stderr",
     "output_type": "stream",
     "text": [
      "C:\\Program Files\\Anaconda3\\lib\\site-packages\\qinfer\\smc.py:285: ApproximationWarning: Extremely small n_ess encountered (2.2361373123171537). Resampling is likely to fail. Consider adding particles, or resampling more often.\n",
      "  ApproximationWarning\n"
     ]
    },
    {
     "name": "stdout",
     "output_type": "stream",
     "text": [
      "LogTotLikelihoods updated\n"
     ]
    },
    {
     "name": "stderr",
     "output_type": "stream",
     "text": [
      "C:\\Program Files\\Anaconda3\\lib\\site-packages\\qinfer\\smc.py:285: ApproximationWarning: Extremely small n_ess encountered (5.0562663081375465). Resampling is likely to fail. Consider adding particles, or resampling more often.\n",
      "  ApproximationWarning\n"
     ]
    },
    {
     "name": "stdout",
     "output_type": "stream",
     "text": [
      "LogTotLikelihoods updated\n"
     ]
    },
    {
     "name": "stderr",
     "output_type": "stream",
     "text": [
      "C:\\Program Files\\Anaconda3\\lib\\site-packages\\qinfer\\smc.py:285: ApproximationWarning: Extremely small n_ess encountered (1.4443812273753216). Resampling is likely to fail. Consider adding particles, or resampling more often.\n",
      "  ApproximationWarning\n"
     ]
    },
    {
     "name": "stdout",
     "output_type": "stream",
     "text": [
      "LogTotLikelihoods updated\n"
     ]
    },
    {
     "name": "stderr",
     "output_type": "stream",
     "text": [
      "C:\\Program Files\\Anaconda3\\lib\\site-packages\\qinfer\\smc.py:285: ApproximationWarning: Extremely small n_ess encountered (1.0834609515358045). Resampling is likely to fail. Consider adding particles, or resampling more often.\n",
      "  ApproximationWarning\n"
     ]
    },
    {
     "name": "stdout",
     "output_type": "stream",
     "text": [
      "LogTotLikelihoods updated\n"
     ]
    },
    {
     "name": "stderr",
     "output_type": "stream",
     "text": [
      "C:\\Program Files\\Anaconda3\\lib\\site-packages\\qinfer\\smc.py:285: ApproximationWarning: Extremely small n_ess encountered (1.551621733320697). Resampling is likely to fail. Consider adding particles, or resampling more often.\n",
      "  ApproximationWarning\n"
     ]
    },
    {
     "name": "stdout",
     "output_type": "stream",
     "text": [
      "LogTotLikelihoods updated\n",
      "Total elapsed time for the learning process: 258.34788027943796\n"
     ]
    },
    {
     "name": "stderr",
     "output_type": "stream",
     "text": [
      "C:\\Program Files\\Anaconda3\\lib\\site-packages\\qinfer\\smc.py:285: ApproximationWarning: Extremely small n_ess encountered (1.6513299317161623). Resampling is likely to fail. Consider adding particles, or resampling more often.\n",
      "  ApproximationWarning\n"
     ]
    },
    {
     "name": "stdout",
     "output_type": "stream",
     "text": [
      "LogTotLikelihoods updated\n",
      "LogTotLikelihoods updated\n"
     ]
    },
    {
     "name": "stderr",
     "output_type": "stream",
     "text": [
      "C:\\Program Files\\Anaconda3\\lib\\site-packages\\qinfer\\smc.py:285: ApproximationWarning: Extremely small n_ess encountered (1.0847004308926764). Resampling is likely to fail. Consider adding particles, or resampling more often.\n",
      "  ApproximationWarning\n"
     ]
    },
    {
     "name": "stdout",
     "output_type": "stream",
     "text": [
      "LogTotLikelihoods updated\n"
     ]
    },
    {
     "name": "stderr",
     "output_type": "stream",
     "text": [
      "C:\\Program Files\\Anaconda3\\lib\\site-packages\\qinfer\\smc.py:285: ApproximationWarning: Extremely small n_ess encountered (4.8334026890641715). Resampling is likely to fail. Consider adding particles, or resampling more often.\n",
      "  ApproximationWarning\n"
     ]
    },
    {
     "name": "stdout",
     "output_type": "stream",
     "text": [
      "LogTotLikelihoods updated\n"
     ]
    },
    {
     "name": "stderr",
     "output_type": "stream",
     "text": [
      "C:\\Program Files\\Anaconda3\\lib\\site-packages\\qinfer\\smc.py:285: ApproximationWarning: Extremely small n_ess encountered (1.2204328794051407). Resampling is likely to fail. Consider adding particles, or resampling more often.\n",
      "  ApproximationWarning\n"
     ]
    },
    {
     "name": "stdout",
     "output_type": "stream",
     "text": [
      "LogTotLikelihoods updated\n"
     ]
    },
    {
     "name": "stderr",
     "output_type": "stream",
     "text": [
      "C:\\Program Files\\Anaconda3\\lib\\site-packages\\qinfer\\smc.py:285: ApproximationWarning: Extremely small n_ess encountered (1.465207853341153). Resampling is likely to fail. Consider adding particles, or resampling more often.\n",
      "  ApproximationWarning\n"
     ]
    },
    {
     "name": "stdout",
     "output_type": "stream",
     "text": [
      "LogTotLikelihoods updated\n"
     ]
    },
    {
     "name": "stderr",
     "output_type": "stream",
     "text": [
      "C:\\Program Files\\Anaconda3\\lib\\site-packages\\qinfer\\smc.py:285: ApproximationWarning: Extremely small n_ess encountered (1.433310795130892). Resampling is likely to fail. Consider adding particles, or resampling more often.\n",
      "  ApproximationWarning\n"
     ]
    },
    {
     "name": "stdout",
     "output_type": "stream",
     "text": [
      "LogTotLikelihoods updated\n",
      "Total elapsed time for Bayes factor update: 220.39839484028744\n",
      "[[ 0.71871242]]\n",
      "Initialization Ready\n",
      "[[ 0.78544259]]\n",
      "Initialization Ready\n",
      "[[ 0.86268573]]\n",
      "Initialization Ready\n",
      "[[ 0.83236435  0.29966522]]\n",
      "Initialization Ready\n",
      "[[ 0.09400405  0.1353572 ]]\n",
      "Initialization Ready\n",
      "[[ 0.17993885  0.80275726]]\n",
      "Initialization Ready\n",
      "[[ 0.43344546  0.24429403  0.33039503]]\n",
      "Initialization Ready\n",
      "Initial time selected > 1.05157627994\n",
      "Final time selected > 191.296048858\n",
      "Final Parameters mean and stdev:[ 0.05637469  0.00794259]\n",
      "Batch single time 0 elapsed time: 15.81070828177144\n",
      "\n",
      "\n",
      "Initial time selected > 0.94293900555\n",
      "Final time selected > 532.820070671\n",
      "Exiting learning for Reaching Cov. Norm. Thrshold of 6.74281503299e-07\n",
      " at Iteration Number 95\n",
      "Final Parameters mean and stdev:[  1.40319251e+00   1.13815415e-03]\n",
      "Batch single time 1 elapsed time: 14.899710127079743\n",
      "\n",
      "\n",
      "Initial time selected > 8.34267716451\n",
      "Final time selected > 4.48825892847\n",
      "Final Parameters mean and stdev:[ 0.56074129  0.3473053 ]\n",
      "Batch single time 2 elapsed time: 25.109416764824346\n",
      "\n",
      "\n",
      "Initial time selected > 0.836305855334\n",
      "Final time selected > 0.626663167779\n",
      "Final Parameters mean and stdev:[-0.29190383  0.06943497]\n",
      "Final Parameters mean and stdev:[ 1.1083199   0.47377568]\n",
      "Batch single time 3 elapsed time: 15.821665253055471\n",
      "\n",
      "\n",
      "Initial time selected > 0.732790625959\n",
      "Final time selected > 2.85480570463\n",
      "Final Parameters mean and stdev:[ 0.9123739  0.1353526]\n",
      "Final Parameters mean and stdev:[ 1.4201911  0.2664695]\n",
      "Batch single time 4 elapsed time: 15.907985542107781\n",
      "\n",
      "\n",
      "Initial time selected > 0.70791148571\n",
      "Final time selected > 235.671016328\n",
      "Final Parameters mean and stdev:[ 0.49192138  0.00302737]\n",
      "Final Parameters mean and stdev:[ 0.52051916  0.00301126]\n",
      "Batch single time 5 elapsed time: 15.9053910536677\n",
      "\n",
      "\n",
      "Initial time selected > 0.510345114976\n",
      "Final time selected > 24.3220973179\n",
      "Final Parameters mean and stdev:[ 0.09725042  0.0840343 ]\n",
      "Final Parameters mean and stdev:[ 0.52299949  0.05135504]\n",
      "Final Parameters mean and stdev:[ 0.56658005  0.08247284]\n",
      "Batch single time 6 elapsed time: 15.815347374094927\n",
      "\n",
      "\n"
     ]
    },
    {
     "name": "stderr",
     "output_type": "stream",
     "text": [
      "C:\\Program Files\\Anaconda3\\lib\\site-packages\\qinfer\\smc.py:285: ApproximationWarning: Extremely small n_ess encountered (2.424643650161282). Resampling is likely to fail. Consider adding particles, or resampling more often.\n",
      "  ApproximationWarning\n"
     ]
    },
    {
     "name": "stdout",
     "output_type": "stream",
     "text": [
      "LogTotLikelihoods updated\n"
     ]
    },
    {
     "name": "stderr",
     "output_type": "stream",
     "text": [
      "C:\\Program Files\\Anaconda3\\lib\\site-packages\\qinfer\\smc.py:285: ApproximationWarning: Extremely small n_ess encountered (2.6919853493494927). Resampling is likely to fail. Consider adding particles, or resampling more often.\n",
      "  ApproximationWarning\n"
     ]
    },
    {
     "name": "stdout",
     "output_type": "stream",
     "text": [
      "LogTotLikelihoods updated\n"
     ]
    },
    {
     "name": "stderr",
     "output_type": "stream",
     "text": [
      "C:\\Program Files\\Anaconda3\\lib\\site-packages\\qinfer\\smc.py:285: ApproximationWarning: Extremely small n_ess encountered (1.8601895772552293). Resampling is likely to fail. Consider adding particles, or resampling more often.\n",
      "  ApproximationWarning\n"
     ]
    },
    {
     "name": "stdout",
     "output_type": "stream",
     "text": [
      "LogTotLikelihoods updated\n"
     ]
    },
    {
     "name": "stderr",
     "output_type": "stream",
     "text": [
      "C:\\Program Files\\Anaconda3\\lib\\site-packages\\qinfer\\smc.py:285: ApproximationWarning: Extremely small n_ess encountered (1.0000002693334673). Resampling is likely to fail. Consider adding particles, or resampling more often.\n",
      "  ApproximationWarning\n"
     ]
    },
    {
     "name": "stdout",
     "output_type": "stream",
     "text": [
      "LogTotLikelihoods updated\n"
     ]
    },
    {
     "name": "stderr",
     "output_type": "stream",
     "text": [
      "C:\\Program Files\\Anaconda3\\lib\\site-packages\\qinfer\\smc.py:285: ApproximationWarning: Extremely small n_ess encountered (1.5407847866492568). Resampling is likely to fail. Consider adding particles, or resampling more often.\n",
      "  ApproximationWarning\n"
     ]
    },
    {
     "name": "stdout",
     "output_type": "stream",
     "text": [
      "LogTotLikelihoods updated\n",
      "LogTotLikelihoods updated\n"
     ]
    },
    {
     "name": "stderr",
     "output_type": "stream",
     "text": [
      "C:\\Program Files\\Anaconda3\\lib\\site-packages\\qinfer\\smc.py:285: ApproximationWarning: Extremely small n_ess encountered (3.276909927676989). Resampling is likely to fail. Consider adding particles, or resampling more often.\n",
      "  ApproximationWarning\n"
     ]
    },
    {
     "name": "stdout",
     "output_type": "stream",
     "text": [
      "LogTotLikelihoods updated\n",
      "Total elapsed time for the learning process: 264.7218064154731\n",
      "LogTotLikelihoods updated\n",
      "LogTotLikelihoods updated\n"
     ]
    },
    {
     "name": "stderr",
     "output_type": "stream",
     "text": [
      "C:\\Program Files\\Anaconda3\\lib\\site-packages\\qinfer\\smc.py:285: ApproximationWarning: Extremely small n_ess encountered (1.6463934766121877). Resampling is likely to fail. Consider adding particles, or resampling more often.\n",
      "  ApproximationWarning\n"
     ]
    },
    {
     "name": "stdout",
     "output_type": "stream",
     "text": [
      "LogTotLikelihoods updated\n",
      "LogTotLikelihoods updated\n"
     ]
    },
    {
     "name": "stderr",
     "output_type": "stream",
     "text": [
      "C:\\Program Files\\Anaconda3\\lib\\site-packages\\qinfer\\smc.py:285: ApproximationWarning: Extremely small n_ess encountered (8.698908997199053). Resampling is likely to fail. Consider adding particles, or resampling more often.\n",
      "  ApproximationWarning\n"
     ]
    },
    {
     "name": "stdout",
     "output_type": "stream",
     "text": [
      "LogTotLikelihoods updated\n"
     ]
    },
    {
     "name": "stderr",
     "output_type": "stream",
     "text": [
      "C:\\Program Files\\Anaconda3\\lib\\site-packages\\qinfer\\smc.py:285: ApproximationWarning: Extremely small n_ess encountered (1.208518897092012). Resampling is likely to fail. Consider adding particles, or resampling more often.\n",
      "  ApproximationWarning\n"
     ]
    },
    {
     "name": "stdout",
     "output_type": "stream",
     "text": [
      "LogTotLikelihoods updated\n"
     ]
    },
    {
     "name": "stderr",
     "output_type": "stream",
     "text": [
      "C:\\Program Files\\Anaconda3\\lib\\site-packages\\qinfer\\smc.py:285: ApproximationWarning: Extremely small n_ess encountered (1.9956633303284048). Resampling is likely to fail. Consider adding particles, or resampling more often.\n",
      "  ApproximationWarning\n"
     ]
    },
    {
     "name": "stdout",
     "output_type": "stream",
     "text": [
      "LogTotLikelihoods updated\n",
      "Total elapsed time for Bayes factor update: 223.8414461997054\n",
      "[[ 0.70400923]]\n",
      "Initialization Ready\n",
      "[[ 0.41317567]]\n",
      "Initialization Ready\n",
      "[[ 0.82332136]]\n",
      "Initialization Ready\n",
      "[[ 0.03640325  0.73452478]]\n",
      "Initialization Ready\n",
      "[[ 0.10757704  0.80319507]]\n",
      "Initialization Ready\n",
      "[[ 0.58497236  0.51581441]]\n",
      "Initialization Ready\n",
      "[[ 0.22959636  0.83592677  0.4780298 ]]\n",
      "Initialization Ready\n",
      "Initial time selected > 1.22268290228\n",
      "Final time selected > 1.34996466073\n",
      "Final Parameters mean and stdev:[ 0.91107563  0.5131404 ]\n",
      "Batch single time 0 elapsed time: 15.523126932954256\n",
      "\n",
      "\n",
      "Initial time selected > 8.30189357444\n",
      "Final time selected > 341.771892347\n",
      "Final Parameters mean and stdev:[ 1.11603915  0.00652371]\n",
      "Batch single time 1 elapsed time: 16.107398976506374\n",
      "\n",
      "\n",
      "Initial time selected > 6.4178754105\n",
      "Final time selected > 18.0608290381\n",
      "Final Parameters mean and stdev:[-0.11948395  0.17021447]\n",
      "Batch single time 2 elapsed time: 24.38440704832101\n",
      "\n",
      "\n",
      "Initial time selected > 1.5888179795\n",
      "Final time selected > 34.9828175146\n",
      "Final Parameters mean and stdev:[ 0.61581062  0.01711528]\n",
      "Final Parameters mean and stdev:[ 0.39741715  0.01464951]\n",
      "Batch single time 3 elapsed time: 15.595957338757216\n",
      "\n",
      "\n",
      "Initial time selected > 0.360088119994\n",
      "Final time selected > 4.52921191479\n",
      "Final Parameters mean and stdev:[ 0.92890332  0.09040642]\n",
      "Final Parameters mean and stdev:[ 0.63226244  0.08694164]\n",
      "Batch single time 4 elapsed time: 15.534234203812957\n",
      "\n",
      "\n",
      "Initial time selected > 0.504966793904\n",
      "Final time selected > 21.3206535385\n",
      "Final Parameters mean and stdev:[ 0.31164334  0.01406943]\n",
      "Final Parameters mean and stdev:[-0.24928678  0.04705947]\n",
      "Batch single time 5 elapsed time: 15.558688010531114\n",
      "\n",
      "\n",
      "Initial time selected > 0.423049707672\n",
      "Final time selected > 13.1396486248\n",
      "Final Parameters mean and stdev:[ 0.53899792  0.02235634]\n",
      "Final Parameters mean and stdev:[ 0.52159539  0.03447975]\n",
      "Final Parameters mean and stdev:[ 0.04262427  0.0558197 ]\n",
      "Batch single time 6 elapsed time: 15.49082676020953\n",
      "\n",
      "\n"
     ]
    },
    {
     "name": "stderr",
     "output_type": "stream",
     "text": [
      "C:\\Program Files\\Anaconda3\\lib\\site-packages\\qinfer\\smc.py:285: ApproximationWarning: Extremely small n_ess encountered (1.5956081042868784). Resampling is likely to fail. Consider adding particles, or resampling more often.\n",
      "  ApproximationWarning\n"
     ]
    },
    {
     "name": "stdout",
     "output_type": "stream",
     "text": [
      "LogTotLikelihoods updated\n"
     ]
    },
    {
     "name": "stderr",
     "output_type": "stream",
     "text": [
      "C:\\Program Files\\Anaconda3\\lib\\site-packages\\qinfer\\smc.py:285: ApproximationWarning: Extremely small n_ess encountered (1.0008699828317904). Resampling is likely to fail. Consider adding particles, or resampling more often.\n",
      "  ApproximationWarning\n"
     ]
    },
    {
     "name": "stdout",
     "output_type": "stream",
     "text": [
      "LogTotLikelihoods updated\n"
     ]
    },
    {
     "name": "stderr",
     "output_type": "stream",
     "text": [
      "C:\\Program Files\\Anaconda3\\lib\\site-packages\\qinfer\\smc.py:285: ApproximationWarning: Extremely small n_ess encountered (2.2297819549424682). Resampling is likely to fail. Consider adding particles, or resampling more often.\n",
      "  ApproximationWarning\n"
     ]
    },
    {
     "name": "stdout",
     "output_type": "stream",
     "text": [
      "LogTotLikelihoods updated\n"
     ]
    },
    {
     "name": "stderr",
     "output_type": "stream",
     "text": [
      "C:\\Program Files\\Anaconda3\\lib\\site-packages\\qinfer\\smc.py:285: ApproximationWarning: Extremely small n_ess encountered (3.608980080192832). Resampling is likely to fail. Consider adding particles, or resampling more often.\n",
      "  ApproximationWarning\n"
     ]
    },
    {
     "name": "stdout",
     "output_type": "stream",
     "text": [
      "LogTotLikelihoods updated\n"
     ]
    },
    {
     "name": "stderr",
     "output_type": "stream",
     "text": [
      "C:\\Program Files\\Anaconda3\\lib\\site-packages\\qinfer\\smc.py:285: ApproximationWarning: Extremely small n_ess encountered (1.331372727658048). Resampling is likely to fail. Consider adding particles, or resampling more often.\n",
      "  ApproximationWarning\n"
     ]
    },
    {
     "name": "stdout",
     "output_type": "stream",
     "text": [
      "LogTotLikelihoods updated\n"
     ]
    },
    {
     "name": "stderr",
     "output_type": "stream",
     "text": [
      "C:\\Program Files\\Anaconda3\\lib\\site-packages\\qinfer\\smc.py:285: ApproximationWarning: Extremely small n_ess encountered (1.0128563399625787). Resampling is likely to fail. Consider adding particles, or resampling more often.\n",
      "  ApproximationWarning\n"
     ]
    },
    {
     "name": "stdout",
     "output_type": "stream",
     "text": [
      "LogTotLikelihoods updated\n"
     ]
    },
    {
     "name": "stderr",
     "output_type": "stream",
     "text": [
      "C:\\Program Files\\Anaconda3\\lib\\site-packages\\qinfer\\smc.py:285: ApproximationWarning: Extremely small n_ess encountered (8.334510133882599). Resampling is likely to fail. Consider adding particles, or resampling more often.\n",
      "  ApproximationWarning\n"
     ]
    },
    {
     "name": "stdout",
     "output_type": "stream",
     "text": [
      "LogTotLikelihoods updated\n",
      "Total elapsed time for the learning process: 259.75816964253136\n",
      "LogTotLikelihoods updated\n",
      "LogTotLikelihoods updated\n"
     ]
    },
    {
     "name": "stderr",
     "output_type": "stream",
     "text": [
      "C:\\Program Files\\Anaconda3\\lib\\site-packages\\qinfer\\smc.py:285: ApproximationWarning: Extremely small n_ess encountered (6.395640488598584). Resampling is likely to fail. Consider adding particles, or resampling more often.\n",
      "  ApproximationWarning\n"
     ]
    },
    {
     "name": "stdout",
     "output_type": "stream",
     "text": [
      "LogTotLikelihoods updated\n"
     ]
    },
    {
     "name": "stderr",
     "output_type": "stream",
     "text": [
      "C:\\Program Files\\Anaconda3\\lib\\site-packages\\qinfer\\smc.py:285: ApproximationWarning: Extremely small n_ess encountered (7.0957944027250806). Resampling is likely to fail. Consider adding particles, or resampling more often.\n",
      "  ApproximationWarning\n"
     ]
    },
    {
     "name": "stdout",
     "output_type": "stream",
     "text": [
      "LogTotLikelihoods updated\n"
     ]
    },
    {
     "name": "stderr",
     "output_type": "stream",
     "text": [
      "C:\\Program Files\\Anaconda3\\lib\\site-packages\\qinfer\\smc.py:285: ApproximationWarning: Extremely small n_ess encountered (2.121237562906028). Resampling is likely to fail. Consider adding particles, or resampling more often.\n",
      "  ApproximationWarning\n"
     ]
    },
    {
     "name": "stdout",
     "output_type": "stream",
     "text": [
      "LogTotLikelihoods updated\n"
     ]
    },
    {
     "name": "stderr",
     "output_type": "stream",
     "text": [
      "C:\\Program Files\\Anaconda3\\lib\\site-packages\\qinfer\\smc.py:285: ApproximationWarning: Extremely small n_ess encountered (1.5387357555770964). Resampling is likely to fail. Consider adding particles, or resampling more often.\n",
      "  ApproximationWarning\n"
     ]
    },
    {
     "name": "stdout",
     "output_type": "stream",
     "text": [
      "LogTotLikelihoods updated\n"
     ]
    },
    {
     "name": "stderr",
     "output_type": "stream",
     "text": [
      "C:\\Program Files\\Anaconda3\\lib\\site-packages\\qinfer\\smc.py:285: ApproximationWarning: Extremely small n_ess encountered (2.2999894103857845). Resampling is likely to fail. Consider adding particles, or resampling more often.\n",
      "  ApproximationWarning\n"
     ]
    },
    {
     "name": "stdout",
     "output_type": "stream",
     "text": [
      "LogTotLikelihoods updated\n",
      "Total elapsed time for Bayes factor update: 217.27886066302744\n",
      "[[ 0.45947428]]\n",
      "Initialization Ready\n",
      "[[ 0.4173923]]\n",
      "Initialization Ready\n",
      "[[ 0.09523132]]\n",
      "Initialization Ready\n",
      "[[ 0.38054489  0.44953288]]\n",
      "Initialization Ready\n",
      "[[ 0.38287962  0.90067388]]\n",
      "Initialization Ready\n",
      "[[ 0.24082575  0.77328242]]\n",
      "Initialization Ready\n",
      "[[ 0.12678283  0.05975617  0.30656554]]\n",
      "Initialization Ready\n",
      "Initial time selected > 1.59442157445\n",
      "Final time selected > 3.47737648304\n",
      "Final Parameters mean and stdev:[ 1.4841179   0.13861663]\n",
      "Batch single time 0 elapsed time: 16.059173008050493\n",
      "\n",
      "\n",
      "Initial time selected > 0.513732582341\n",
      "Final time selected > 28.3034697301\n",
      "Final Parameters mean and stdev:[-0.09933574  0.01728502]\n",
      "Batch single time 1 elapsed time: 15.802663944059532\n",
      "\n",
      "\n",
      "Initial time selected > 6.03851693694\n",
      "Final time selected > 10.4199724872\n",
      "Final Parameters mean and stdev:[ 0.75970453  0.04719481]\n",
      "Batch single time 2 elapsed time: 24.51141647746772\n",
      "\n",
      "\n",
      "Initial time selected > 1.80937005406\n",
      "Final time selected > 1.99613574565\n",
      "Final Parameters mean and stdev:[ 0.01506789  0.21500359]\n",
      "Final Parameters mean and stdev:[ 0.24296197  0.37390581]\n",
      "Batch single time 3 elapsed time: 15.482093825336051\n",
      "\n",
      "\n",
      "Initial time selected > 0.701377950024\n",
      "Final time selected > 5.77808451428\n",
      "Final Parameters mean and stdev:[-0.66917787  0.09995959]\n",
      "Final Parameters mean and stdev:[ 0.3857986   0.03787941]\n",
      "Batch single time 4 elapsed time: 15.448552853473302\n",
      "\n",
      "\n",
      "Initial time selected > 0.751567844493\n",
      "Final time selected > 2.73913066627\n",
      "Final Parameters mean and stdev:[ 0.63749694  0.15023969]\n",
      "Final Parameters mean and stdev:[ 0.23235701  0.60297033]\n",
      "Batch single time 5 elapsed time: 15.486007242188862\n",
      "\n",
      "\n",
      "Initial time selected > 0.398080387467\n",
      "Final time selected > 2.83436632924\n",
      "Final Parameters mean and stdev:[ 1.0638237   0.12479988]\n",
      "Final Parameters mean and stdev:[ 0.67549737  0.10943775]\n",
      "Final Parameters mean and stdev:[ 0.91894373  0.12305637]\n",
      "Batch single time 6 elapsed time: 15.384452403037358\n",
      "\n",
      "\n"
     ]
    },
    {
     "name": "stderr",
     "output_type": "stream",
     "text": [
      "C:\\Program Files\\Anaconda3\\lib\\site-packages\\qinfer\\smc.py:285: ApproximationWarning: Extremely small n_ess encountered (1.0000458874362723). Resampling is likely to fail. Consider adding particles, or resampling more often.\n",
      "  ApproximationWarning\n"
     ]
    },
    {
     "name": "stdout",
     "output_type": "stream",
     "text": [
      "LogTotLikelihoods updated\n"
     ]
    },
    {
     "name": "stderr",
     "output_type": "stream",
     "text": [
      "C:\\Program Files\\Anaconda3\\lib\\site-packages\\qinfer\\smc.py:285: ApproximationWarning: Extremely small n_ess encountered (1.0003148204597376). Resampling is likely to fail. Consider adding particles, or resampling more often.\n",
      "  ApproximationWarning\n"
     ]
    },
    {
     "name": "stdout",
     "output_type": "stream",
     "text": [
      "LogTotLikelihoods updated\n"
     ]
    },
    {
     "name": "stderr",
     "output_type": "stream",
     "text": [
      "C:\\Program Files\\Anaconda3\\lib\\site-packages\\qinfer\\smc.py:285: ApproximationWarning: Extremely small n_ess encountered (2.1794422922710974). Resampling is likely to fail. Consider adding particles, or resampling more often.\n",
      "  ApproximationWarning\n"
     ]
    },
    {
     "name": "stdout",
     "output_type": "stream",
     "text": [
      "LogTotLikelihoods updated\n"
     ]
    },
    {
     "name": "stderr",
     "output_type": "stream",
     "text": [
      "C:\\Program Files\\Anaconda3\\lib\\site-packages\\qinfer\\smc.py:285: ApproximationWarning: Extremely small n_ess encountered (1.195262712120609). Resampling is likely to fail. Consider adding particles, or resampling more often.\n",
      "  ApproximationWarning\n"
     ]
    },
    {
     "name": "stdout",
     "output_type": "stream",
     "text": [
      "LogTotLikelihoods updated\n"
     ]
    },
    {
     "name": "stderr",
     "output_type": "stream",
     "text": [
      "C:\\Program Files\\Anaconda3\\lib\\site-packages\\qinfer\\smc.py:285: ApproximationWarning: Extremely small n_ess encountered (7.340647725312137). Resampling is likely to fail. Consider adding particles, or resampling more often.\n",
      "  ApproximationWarning\n"
     ]
    },
    {
     "name": "stdout",
     "output_type": "stream",
     "text": [
      "LogTotLikelihoods updated\n"
     ]
    },
    {
     "name": "stderr",
     "output_type": "stream",
     "text": [
      "C:\\Program Files\\Anaconda3\\lib\\site-packages\\qinfer\\smc.py:285: ApproximationWarning: Extremely small n_ess encountered (1.0320459297666191). Resampling is likely to fail. Consider adding particles, or resampling more often.\n",
      "  ApproximationWarning\n"
     ]
    },
    {
     "name": "stdout",
     "output_type": "stream",
     "text": [
      "LogTotLikelihoods updated\n"
     ]
    },
    {
     "name": "stderr",
     "output_type": "stream",
     "text": [
      "C:\\Program Files\\Anaconda3\\lib\\site-packages\\qinfer\\smc.py:285: ApproximationWarning: Extremely small n_ess encountered (1.0017818420725815). Resampling is likely to fail. Consider adding particles, or resampling more often.\n",
      "  ApproximationWarning\n"
     ]
    },
    {
     "name": "stdout",
     "output_type": "stream",
     "text": [
      "LogTotLikelihoods updated\n",
      "Total elapsed time for the learning process: 260.0908276209557\n",
      "LogTotLikelihoods updated\n",
      "LogTotLikelihoods updated\n"
     ]
    },
    {
     "name": "stderr",
     "output_type": "stream",
     "text": [
      "C:\\Program Files\\Anaconda3\\lib\\site-packages\\qinfer\\smc.py:285: ApproximationWarning: Extremely small n_ess encountered (1.7266878596377084). Resampling is likely to fail. Consider adding particles, or resampling more often.\n",
      "  ApproximationWarning\n"
     ]
    },
    {
     "name": "stdout",
     "output_type": "stream",
     "text": [
      "LogTotLikelihoods updated\n",
      "LogTotLikelihoods updated\n"
     ]
    },
    {
     "name": "stderr",
     "output_type": "stream",
     "text": [
      "C:\\Program Files\\Anaconda3\\lib\\site-packages\\qinfer\\smc.py:285: ApproximationWarning: Extremely small n_ess encountered (4.283148188178069). Resampling is likely to fail. Consider adding particles, or resampling more often.\n",
      "  ApproximationWarning\n"
     ]
    },
    {
     "name": "stdout",
     "output_type": "stream",
     "text": [
      "LogTotLikelihoods updated\n"
     ]
    },
    {
     "name": "stderr",
     "output_type": "stream",
     "text": [
      "C:\\Program Files\\Anaconda3\\lib\\site-packages\\qinfer\\smc.py:285: ApproximationWarning: Extremely small n_ess encountered (4.30854940671284). Resampling is likely to fail. Consider adding particles, or resampling more often.\n",
      "  ApproximationWarning\n"
     ]
    },
    {
     "name": "stdout",
     "output_type": "stream",
     "text": [
      "LogTotLikelihoods updated\n",
      "LogTotLikelihoods updated\n",
      "Total elapsed time for Bayes factor update: 228.3777879081008\n",
      "[[ 0.01826896]]\n",
      "Initialization Ready\n",
      "[[ 0.81216964]]\n",
      "Initialization Ready\n",
      "[[ 0.82992927]]\n",
      "Initialization Ready\n",
      "[[ 0.18864664  0.93829844]]\n",
      "Initialization Ready\n",
      "[[ 0.5736259   0.27322584]]\n",
      "Initialization Ready\n",
      "[[ 0.22724101  0.54962921]]\n",
      "Initialization Ready\n",
      "[[ 0.75840162  0.85916838  0.11438387]]\n",
      "Initialization Ready\n",
      "Initial time selected > 1.10523034748\n",
      "Final time selected > 5.78743739449\n",
      "Final Parameters mean and stdev:[ 0.33516077  0.37879202]\n",
      "Batch single time 0 elapsed time: 15.660246160241513\n",
      "\n",
      "\n",
      "Initial time selected > 11.5684762736\n",
      "Final time selected > 18.6649616206\n",
      "Final Parameters mean and stdev:[ 1.12952659  0.09666822]\n",
      "Batch single time 1 elapsed time: 15.718504128602945\n",
      "\n",
      "\n",
      "Initial time selected > 94.8357807203\n",
      "Final time selected > 8.43172985332\n",
      "Final Parameters mean and stdev:[-0.16286186  0.19977721]\n",
      "Batch single time 2 elapsed time: 23.92565335621839\n",
      "\n",
      "\n",
      "Initial time selected > 0.535101148341\n",
      "Final time selected > 1.12757789956\n",
      "Final Parameters mean and stdev:[ 1.63101105  0.11778953]\n",
      "Final Parameters mean and stdev:[ 0.24944921  0.53689431]\n",
      "Batch single time 3 elapsed time: 15.543121741993673\n",
      "\n",
      "\n",
      "Initial time selected > 0.996886048182\n",
      "Final time selected > 19.7110284605\n",
      "Final Parameters mean and stdev:[-0.64691034  0.05796954]\n",
      "Final Parameters mean and stdev:[ 0.36448503  0.01962063]\n",
      "Batch single time 4 elapsed time: 15.771640655570081\n",
      "\n",
      "\n",
      "Initial time selected > 0.966466261342\n",
      "Final time selected > 9.81475351748\n",
      "Final Parameters mean and stdev:[ 0.39111161  0.02067036]\n",
      "Final Parameters mean and stdev:[ 0.25677196  0.02011349]\n",
      "Batch single time 5 elapsed time: 15.577186444967083\n",
      "\n",
      "\n",
      "Initial time selected > 0.760545195476\n",
      "Final time selected > 18.042992066\n",
      "Final Parameters mean and stdev:[ 0.63184681  0.09178799]\n",
      "Final Parameters mean and stdev:[ 0.50263038  0.03466188]\n",
      "Final Parameters mean and stdev:[ 0.26979664  0.07351173]\n",
      "Batch single time 6 elapsed time: 15.328514146367525\n",
      "\n",
      "\n"
     ]
    },
    {
     "name": "stderr",
     "output_type": "stream",
     "text": [
      "C:\\Program Files\\Anaconda3\\lib\\site-packages\\qinfer\\smc.py:285: ApproximationWarning: Extremely small n_ess encountered (3.251180875627188). Resampling is likely to fail. Consider adding particles, or resampling more often.\n",
      "  ApproximationWarning\n"
     ]
    },
    {
     "name": "stdout",
     "output_type": "stream",
     "text": [
      "LogTotLikelihoods updated\n"
     ]
    },
    {
     "name": "stderr",
     "output_type": "stream",
     "text": [
      "C:\\Program Files\\Anaconda3\\lib\\site-packages\\qinfer\\smc.py:285: ApproximationWarning: Extremely small n_ess encountered (1.0000000000001688). Resampling is likely to fail. Consider adding particles, or resampling more often.\n",
      "  ApproximationWarning\n"
     ]
    },
    {
     "name": "stdout",
     "output_type": "stream",
     "text": [
      "LogTotLikelihoods updated\n"
     ]
    },
    {
     "name": "stderr",
     "output_type": "stream",
     "text": [
      "C:\\Program Files\\Anaconda3\\lib\\site-packages\\qinfer\\smc.py:285: ApproximationWarning: Extremely small n_ess encountered (1.237943703385909). Resampling is likely to fail. Consider adding particles, or resampling more often.\n",
      "  ApproximationWarning\n"
     ]
    },
    {
     "name": "stdout",
     "output_type": "stream",
     "text": [
      "LogTotLikelihoods updated\n"
     ]
    },
    {
     "name": "stderr",
     "output_type": "stream",
     "text": [
      "C:\\Program Files\\Anaconda3\\lib\\site-packages\\qinfer\\smc.py:285: ApproximationWarning: Extremely small n_ess encountered (4.716218184463935). Resampling is likely to fail. Consider adding particles, or resampling more often.\n",
      "  ApproximationWarning\n"
     ]
    },
    {
     "name": "stdout",
     "output_type": "stream",
     "text": [
      "LogTotLikelihoods updated\n"
     ]
    },
    {
     "name": "stderr",
     "output_type": "stream",
     "text": [
      "C:\\Program Files\\Anaconda3\\lib\\site-packages\\qinfer\\smc.py:285: ApproximationWarning: Extremely small n_ess encountered (3.7035040383895654). Resampling is likely to fail. Consider adding particles, or resampling more often.\n",
      "  ApproximationWarning\n"
     ]
    },
    {
     "name": "stdout",
     "output_type": "stream",
     "text": [
      "LogTotLikelihoods updated\n"
     ]
    },
    {
     "name": "stderr",
     "output_type": "stream",
     "text": [
      "C:\\Program Files\\Anaconda3\\lib\\site-packages\\qinfer\\smc.py:285: ApproximationWarning: Extremely small n_ess encountered (6.688091527283228). Resampling is likely to fail. Consider adding particles, or resampling more often.\n",
      "  ApproximationWarning\n"
     ]
    },
    {
     "name": "stdout",
     "output_type": "stream",
     "text": [
      "LogTotLikelihoods updated\n",
      "LogTotLikelihoods updated\n",
      "Total elapsed time for the learning process: 256.41129345693844\n",
      "LogTotLikelihoods updated\n",
      "LogTotLikelihoods updated\n",
      "LogTotLikelihoods updated\n"
     ]
    },
    {
     "name": "stderr",
     "output_type": "stream",
     "text": [
      "C:\\Program Files\\Anaconda3\\lib\\site-packages\\qinfer\\smc.py:285: ApproximationWarning: Extremely small n_ess encountered (1.3820182515558819). Resampling is likely to fail. Consider adding particles, or resampling more often.\n",
      "  ApproximationWarning\n"
     ]
    },
    {
     "name": "stdout",
     "output_type": "stream",
     "text": [
      "LogTotLikelihoods updated\n",
      "LogTotLikelihoods updated\n",
      "LogTotLikelihoods updated\n"
     ]
    },
    {
     "name": "stderr",
     "output_type": "stream",
     "text": [
      "C:\\Program Files\\Anaconda3\\lib\\site-packages\\qinfer\\smc.py:285: ApproximationWarning: Extremely small n_ess encountered (9.558453991451177). Resampling is likely to fail. Consider adding particles, or resampling more often.\n",
      "  ApproximationWarning\n"
     ]
    },
    {
     "name": "stdout",
     "output_type": "stream",
     "text": [
      "LogTotLikelihoods updated\n",
      "Total elapsed time for Bayes factor update: 228.91603914939697\n",
      "[[ 0.83299713]]\n",
      "Initialization Ready\n",
      "[[ 0.37786938]]\n",
      "Initialization Ready\n",
      "[[ 0.94040399]]\n",
      "Initialization Ready\n",
      "[[ 0.20677906  0.63950901]]\n",
      "Initialization Ready\n",
      "[[ 0.83068831  0.95216832]]\n",
      "Initialization Ready\n",
      "[[ 0.28597364  0.75689134]]\n",
      "Initialization Ready\n",
      "[[ 0.97472617  0.88713232  0.3989667 ]]\n",
      "Initialization Ready\n",
      "Initial time selected > 1.02687905885\n",
      "Final time selected > 0.672945177357\n",
      "Final Parameters mean and stdev:[-0.56290703  0.52878465]\n",
      "Batch single time 0 elapsed time: 15.49019146311548\n",
      "\n",
      "\n",
      "Initial time selected > 1.0011351203\n",
      "Final time selected > 203.688261415\n",
      "Final Parameters mean and stdev:[ 0.5680052   0.00220138]\n",
      "Batch single time 1 elapsed time: 15.755063672062533\n",
      "\n",
      "\n",
      "Initial time selected > 1.23579121189\n",
      "Final time selected > 11.2342494225\n",
      "Final Parameters mean and stdev:[ 0.2663615   0.28178133]\n",
      "Batch single time 2 elapsed time: 23.64256808338905\n",
      "\n",
      "\n",
      "Initial time selected > 0.510933604754\n",
      "Final time selected > 16.9151380165\n",
      "Final Parameters mean and stdev:[-0.0356833   0.03920427]\n",
      "Final Parameters mean and stdev:[ 0.59509148  0.04462776]\n",
      "Batch single time 3 elapsed time: 15.403073328314349\n",
      "\n",
      "\n",
      "Initial time selected > 1.79518451993\n",
      "Final time selected > 2.13624276598\n",
      "Final Parameters mean and stdev:[ 0.36950394  0.20004632]\n",
      "Final Parameters mean and stdev:[-0.56599166  0.35941284]\n",
      "Batch single time 4 elapsed time: 15.483511739585083\n",
      "\n",
      "\n",
      "Initial time selected > 0.480830601046\n",
      "Final time selected > 16.8166652255\n",
      "Final Parameters mean and stdev:[ 0.58395902  0.01964816]\n",
      "Final Parameters mean and stdev:[ 0.00876611  0.01388386]\n",
      "Batch single time 5 elapsed time: 15.452066023226507\n",
      "\n",
      "\n",
      "Initial time selected > 0.525920855433\n",
      "Final time selected > 4.22178612366\n",
      "Final Parameters mean and stdev:[ 0.22355879  0.13545327]\n",
      "Final Parameters mean and stdev:[ 0.64196135  0.08500796]\n",
      "Final Parameters mean and stdev:[ 0.12464545  0.06882967]\n",
      "Batch single time 6 elapsed time: 15.537564299414953\n",
      "\n",
      "\n"
     ]
    },
    {
     "name": "stderr",
     "output_type": "stream",
     "text": [
      "C:\\Program Files\\Anaconda3\\lib\\site-packages\\qinfer\\smc.py:285: ApproximationWarning: Extremely small n_ess encountered (1.0011325634014159). Resampling is likely to fail. Consider adding particles, or resampling more often.\n",
      "  ApproximationWarning\n"
     ]
    },
    {
     "name": "stdout",
     "output_type": "stream",
     "text": [
      "LogTotLikelihoods updated\n",
      "LogTotLikelihoods updated\n"
     ]
    },
    {
     "name": "stderr",
     "output_type": "stream",
     "text": [
      "C:\\Program Files\\Anaconda3\\lib\\site-packages\\qinfer\\smc.py:285: ApproximationWarning: Extremely small n_ess encountered (1.0246488830122757). Resampling is likely to fail. Consider adding particles, or resampling more often.\n",
      "  ApproximationWarning\n"
     ]
    },
    {
     "name": "stdout",
     "output_type": "stream",
     "text": [
      "LogTotLikelihoods updated\n"
     ]
    },
    {
     "name": "stderr",
     "output_type": "stream",
     "text": [
      "C:\\Program Files\\Anaconda3\\lib\\site-packages\\qinfer\\smc.py:285: ApproximationWarning: Extremely small n_ess encountered (1.6994226088101558). Resampling is likely to fail. Consider adding particles, or resampling more often.\n",
      "  ApproximationWarning\n"
     ]
    },
    {
     "name": "stdout",
     "output_type": "stream",
     "text": [
      "LogTotLikelihoods updated\n"
     ]
    },
    {
     "name": "stderr",
     "output_type": "stream",
     "text": [
      "C:\\Program Files\\Anaconda3\\lib\\site-packages\\qinfer\\smc.py:285: ApproximationWarning: Extremely small n_ess encountered (1.4499158422461198). Resampling is likely to fail. Consider adding particles, or resampling more often.\n",
      "  ApproximationWarning\n"
     ]
    },
    {
     "name": "stdout",
     "output_type": "stream",
     "text": [
      "LogTotLikelihoods updated\n"
     ]
    },
    {
     "name": "stderr",
     "output_type": "stream",
     "text": [
      "C:\\Program Files\\Anaconda3\\lib\\site-packages\\qinfer\\smc.py:285: ApproximationWarning: Extremely small n_ess encountered (5.062311475803135). Resampling is likely to fail. Consider adding particles, or resampling more often.\n",
      "  ApproximationWarning\n"
     ]
    },
    {
     "name": "stdout",
     "output_type": "stream",
     "text": [
      "LogTotLikelihoods updated\n"
     ]
    },
    {
     "name": "stderr",
     "output_type": "stream",
     "text": [
      "C:\\Program Files\\Anaconda3\\lib\\site-packages\\qinfer\\smc.py:285: ApproximationWarning: Extremely small n_ess encountered (2.0258037088068175). Resampling is likely to fail. Consider adding particles, or resampling more often.\n",
      "  ApproximationWarning\n"
     ]
    },
    {
     "name": "stdout",
     "output_type": "stream",
     "text": [
      "LogTotLikelihoods updated\n",
      "Total elapsed time for the learning process: 259.24286358426616\n"
     ]
    },
    {
     "name": "stderr",
     "output_type": "stream",
     "text": [
      "C:\\Program Files\\Anaconda3\\lib\\site-packages\\qinfer\\smc.py:285: ApproximationWarning: Extremely small n_ess encountered (5.756225806339314). Resampling is likely to fail. Consider adding particles, or resampling more often.\n",
      "  ApproximationWarning\n"
     ]
    },
    {
     "name": "stdout",
     "output_type": "stream",
     "text": [
      "LogTotLikelihoods updated\n",
      "LogTotLikelihoods updated\n"
     ]
    },
    {
     "name": "stderr",
     "output_type": "stream",
     "text": [
      "C:\\Program Files\\Anaconda3\\lib\\site-packages\\qinfer\\smc.py:285: ApproximationWarning: Extremely small n_ess encountered (6.812100348874823). Resampling is likely to fail. Consider adding particles, or resampling more often.\n",
      "  ApproximationWarning\n"
     ]
    },
    {
     "name": "stdout",
     "output_type": "stream",
     "text": [
      "LogTotLikelihoods updated\n",
      "LogTotLikelihoods updated\n"
     ]
    },
    {
     "name": "stderr",
     "output_type": "stream",
     "text": [
      "C:\\Program Files\\Anaconda3\\lib\\site-packages\\qinfer\\smc.py:285: ApproximationWarning: Extremely small n_ess encountered (8.244221108702094). Resampling is likely to fail. Consider adding particles, or resampling more often.\n",
      "  ApproximationWarning\n"
     ]
    },
    {
     "name": "stdout",
     "output_type": "stream",
     "text": [
      "LogTotLikelihoods updated\n"
     ]
    },
    {
     "name": "stderr",
     "output_type": "stream",
     "text": [
      "C:\\Program Files\\Anaconda3\\lib\\site-packages\\qinfer\\smc.py:285: ApproximationWarning: Extremely small n_ess encountered (2.36328677553637). Resampling is likely to fail. Consider adding particles, or resampling more often.\n",
      "  ApproximationWarning\n"
     ]
    },
    {
     "name": "stdout",
     "output_type": "stream",
     "text": [
      "LogTotLikelihoods updated\n"
     ]
    },
    {
     "name": "stderr",
     "output_type": "stream",
     "text": [
      "C:\\Program Files\\Anaconda3\\lib\\site-packages\\qinfer\\smc.py:285: ApproximationWarning: Extremely small n_ess encountered (2.7320189045456655). Resampling is likely to fail. Consider adding particles, or resampling more often.\n",
      "  ApproximationWarning\n"
     ]
    },
    {
     "name": "stdout",
     "output_type": "stream",
     "text": [
      "LogTotLikelihoods updated\n",
      "Total elapsed time for Bayes factor update: 219.8873819204855\n",
      "[[ 0.91370322]]\n",
      "Initialization Ready\n",
      "[[ 0.76097823]]\n",
      "Initialization Ready\n",
      "[[ 0.37600649]]\n",
      "Initialization Ready\n",
      "[[ 0.88920926  0.51010744]]\n",
      "Initialization Ready\n",
      "[[ 0.49681717  0.50239225]]\n",
      "Initialization Ready\n",
      "[[ 0.10624713  0.40352378]]\n",
      "Initialization Ready\n",
      "[[ 0.00422198  0.83729649  0.46402952]]\n",
      "Initialization Ready\n",
      "Initial time selected > 5.33659065747\n",
      "Final time selected > 12.8329458702\n",
      "Final Parameters mean and stdev:[-0.49072833  0.09006036]\n",
      "Batch single time 0 elapsed time: 15.879409090939589\n",
      "\n",
      "\n",
      "Initial time selected > 0.495722809382\n",
      "Final time selected > 29.3973120171\n",
      "Final Parameters mean and stdev:[ 0.24403195  0.16614792]\n",
      "Batch single time 1 elapsed time: 15.704507067061058\n",
      "\n",
      "\n",
      "Initial time selected > 3.89455857174\n",
      "Final time selected > 175.984610411\n",
      "Final Parameters mean and stdev:[ 0.70297646  0.0046754 ]\n",
      "Batch single time 2 elapsed time: 24.477472610054974\n",
      "\n",
      "\n",
      "Initial time selected > 0.812167763024\n",
      "Final time selected > 0.910705778365\n",
      "Final Parameters mean and stdev:[ 0.48378963  0.08601106]\n",
      "Final Parameters mean and stdev:[ 0.66332907  0.27966845]\n",
      "Batch single time 3 elapsed time: 15.841697471456428\n",
      "\n",
      "\n",
      "Initial time selected > 0.581918683787\n",
      "Final time selected > 0.598701616392\n",
      "Final Parameters mean and stdev:[ 0.16791987  0.24092057]\n",
      "Final Parameters mean and stdev:[ 0.50795019  0.1751742 ]\n",
      "Batch single time 4 elapsed time: 15.609666712352919\n",
      "\n",
      "\n",
      "Initial time selected > 0.423115521476\n",
      "Final time selected > 141.861674828\n",
      "Final Parameters mean and stdev:[ 0.09340984  0.02491658]\n",
      "Final Parameters mean and stdev:[ 0.53167998  0.01713537]\n",
      "Batch single time 5 elapsed time: 15.611229960330093\n",
      "\n",
      "\n",
      "Initial time selected > 0.931082651838\n",
      "Final time selected > 5.32865922997\n",
      "Final Parameters mean and stdev:[ 0.4824223   0.02413678]\n",
      "Final Parameters mean and stdev:[ 0.58199973  0.03339921]\n",
      "Final Parameters mean and stdev:[ 0.28580379  0.03335407]\n",
      "Batch single time 6 elapsed time: 15.500201282247872\n",
      "\n",
      "\n"
     ]
    },
    {
     "name": "stderr",
     "output_type": "stream",
     "text": [
      "C:\\Program Files\\Anaconda3\\lib\\site-packages\\qinfer\\smc.py:285: ApproximationWarning: Extremely small n_ess encountered (1.2160364214064945). Resampling is likely to fail. Consider adding particles, or resampling more often.\n",
      "  ApproximationWarning\n"
     ]
    },
    {
     "name": "stdout",
     "output_type": "stream",
     "text": [
      "LogTotLikelihoods updated\n"
     ]
    },
    {
     "name": "stderr",
     "output_type": "stream",
     "text": [
      "C:\\Program Files\\Anaconda3\\lib\\site-packages\\qinfer\\smc.py:285: ApproximationWarning: Extremely small n_ess encountered (1.000000000902768). Resampling is likely to fail. Consider adding particles, or resampling more often.\n",
      "  ApproximationWarning\n"
     ]
    },
    {
     "name": "stdout",
     "output_type": "stream",
     "text": [
      "LogTotLikelihoods updated\n"
     ]
    },
    {
     "name": "stderr",
     "output_type": "stream",
     "text": [
      "C:\\Program Files\\Anaconda3\\lib\\site-packages\\qinfer\\smc.py:285: ApproximationWarning: Extremely small n_ess encountered (1.694925043202704). Resampling is likely to fail. Consider adding particles, or resampling more often.\n",
      "  ApproximationWarning\n"
     ]
    },
    {
     "name": "stdout",
     "output_type": "stream",
     "text": [
      "LogTotLikelihoods updated\n"
     ]
    },
    {
     "name": "stderr",
     "output_type": "stream",
     "text": [
      "C:\\Program Files\\Anaconda3\\lib\\site-packages\\qinfer\\smc.py:285: ApproximationWarning: Extremely small n_ess encountered (2.365807580416738). Resampling is likely to fail. Consider adding particles, or resampling more often.\n",
      "  ApproximationWarning\n"
     ]
    },
    {
     "name": "stdout",
     "output_type": "stream",
     "text": [
      "LogTotLikelihoods updated\n"
     ]
    },
    {
     "name": "stderr",
     "output_type": "stream",
     "text": [
      "C:\\Program Files\\Anaconda3\\lib\\site-packages\\qinfer\\smc.py:285: ApproximationWarning: Extremely small n_ess encountered (1.0621928822438502). Resampling is likely to fail. Consider adding particles, or resampling more often.\n",
      "  ApproximationWarning\n"
     ]
    },
    {
     "name": "stdout",
     "output_type": "stream",
     "text": [
      "LogTotLikelihoods updated\n"
     ]
    },
    {
     "name": "stderr",
     "output_type": "stream",
     "text": [
      "C:\\Program Files\\Anaconda3\\lib\\site-packages\\qinfer\\smc.py:285: ApproximationWarning: Extremely small n_ess encountered (1.0625929834719163). Resampling is likely to fail. Consider adding particles, or resampling more often.\n",
      "  ApproximationWarning\n"
     ]
    },
    {
     "name": "stdout",
     "output_type": "stream",
     "text": [
      "LogTotLikelihoods updated\n",
      "LogTotLikelihoods updated\n",
      "Total elapsed time for the learning process: 254.21215479929015\n"
     ]
    },
    {
     "name": "stderr",
     "output_type": "stream",
     "text": [
      "C:\\Program Files\\Anaconda3\\lib\\site-packages\\qinfer\\smc.py:285: ApproximationWarning: Extremely small n_ess encountered (6.004228493215826). Resampling is likely to fail. Consider adding particles, or resampling more often.\n",
      "  ApproximationWarning\n"
     ]
    },
    {
     "name": "stdout",
     "output_type": "stream",
     "text": [
      "LogTotLikelihoods updated\n",
      "LogTotLikelihoods updated\n",
      "LogTotLikelihoods updated\n"
     ]
    },
    {
     "name": "stderr",
     "output_type": "stream",
     "text": [
      "C:\\Program Files\\Anaconda3\\lib\\site-packages\\qinfer\\smc.py:285: ApproximationWarning: Extremely small n_ess encountered (1.1057208406521712). Resampling is likely to fail. Consider adding particles, or resampling more often.\n",
      "  ApproximationWarning\n"
     ]
    },
    {
     "name": "stdout",
     "output_type": "stream",
     "text": [
      "LogTotLikelihoods updated\n"
     ]
    },
    {
     "name": "stderr",
     "output_type": "stream",
     "text": [
      "C:\\Program Files\\Anaconda3\\lib\\site-packages\\qinfer\\smc.py:285: ApproximationWarning: Extremely small n_ess encountered (1.348665922440741). Resampling is likely to fail. Consider adding particles, or resampling more often.\n",
      "  ApproximationWarning\n"
     ]
    },
    {
     "name": "stdout",
     "output_type": "stream",
     "text": [
      "LogTotLikelihoods updated\n",
      "LogTotLikelihoods updated\n"
     ]
    },
    {
     "name": "stderr",
     "output_type": "stream",
     "text": [
      "C:\\Program Files\\Anaconda3\\lib\\site-packages\\qinfer\\smc.py:285: ApproximationWarning: Extremely small n_ess encountered (6.088921551307513). Resampling is likely to fail. Consider adding particles, or resampling more often.\n",
      "  ApproximationWarning\n"
     ]
    },
    {
     "name": "stdout",
     "output_type": "stream",
     "text": [
      "LogTotLikelihoods updated\n",
      "Total elapsed time for Bayes factor update: 212.11583429174425\n",
      "[[ 0.54623462]]\n",
      "Initialization Ready\n",
      "[[ 0.79478438]]\n",
      "Initialization Ready\n",
      "[[ 0.84003225]]\n",
      "Initialization Ready\n",
      "[[ 0.90437814  0.01623064]]\n",
      "Initialization Ready\n",
      "[[ 0.1026      0.61695069]]\n",
      "Initialization Ready\n",
      "[[ 0.86086447  0.5230251 ]]\n",
      "Initialization Ready\n",
      "[[ 0.90217864  0.01056352  0.70564839]]\n",
      "Initialization Ready\n",
      "Initial time selected > 0.527300777146\n",
      "Final time selected > 7.31156878008\n",
      "Final Parameters mean and stdev:[-0.61448768  0.29569508]\n",
      "Batch single time 0 elapsed time: 16.05189506573879\n",
      "\n",
      "\n",
      "Initial time selected > 1.41256341878\n",
      "Final time selected > 3.63327497504\n",
      "Final Parameters mean and stdev:[ 0.77243634  0.09893929]\n",
      "Batch single time 1 elapsed time: 15.782670128191967\n",
      "\n",
      "\n",
      "Initial time selected > 0.411656404639\n",
      "Final time selected > 10017.2911772\n",
      "Final Parameters mean and stdev:[-0.2361233   0.01353567]\n",
      "Batch single time 2 elapsed time: 24.340850960426906\n",
      "\n",
      "\n",
      "Initial time selected > 1.83707626874\n",
      "Final time selected > 1.26165307108\n",
      "Final Parameters mean and stdev:[ 1.22682115  0.24966695]\n",
      "Final Parameters mean and stdev:[-0.26125514  0.04378403]\n",
      "Batch single time 3 elapsed time: 15.77239016709791\n",
      "\n",
      "\n",
      "Initial time selected > 0.427897519177\n",
      "Final time selected > 0.887418537808\n",
      "Final Parameters mean and stdev:[ 0.43402685  0.25818718]\n",
      "Final Parameters mean and stdev:[ 0.14557169  0.45752875]\n",
      "Batch single time 4 elapsed time: 15.699359803275001\n",
      "\n",
      "\n",
      "Initial time selected > 0.597090190842\n",
      "Final time selected > 4.92892415069\n",
      "Final Parameters mean and stdev:[ 0.45094096  0.07243714]\n",
      "Final Parameters mean and stdev:[ 0.13272058  0.15319401]\n",
      "Batch single time 5 elapsed time: 15.922597375254554\n",
      "\n",
      "\n",
      "Initial time selected > 0.447230821994\n",
      "Final time selected > 2.92787014763\n",
      "Final Parameters mean and stdev:[ 0.2769057   0.08159129]\n",
      "Final Parameters mean and stdev:[ 0.53675669  0.09078853]\n",
      "Final Parameters mean and stdev:[ 0.11488178  0.06714944]\n",
      "Batch single time 6 elapsed time: 15.497773646195128\n",
      "\n",
      "\n"
     ]
    },
    {
     "name": "stderr",
     "output_type": "stream",
     "text": [
      "C:\\Program Files\\Anaconda3\\lib\\site-packages\\qinfer\\smc.py:285: ApproximationWarning: Extremely small n_ess encountered (1.0000007361287158). Resampling is likely to fail. Consider adding particles, or resampling more often.\n",
      "  ApproximationWarning\n"
     ]
    },
    {
     "name": "stdout",
     "output_type": "stream",
     "text": [
      "LogTotLikelihoods updated\n"
     ]
    },
    {
     "name": "stderr",
     "output_type": "stream",
     "text": [
      "C:\\Program Files\\Anaconda3\\lib\\site-packages\\qinfer\\smc.py:285: ApproximationWarning: Extremely small n_ess encountered (1.0256036763353737). Resampling is likely to fail. Consider adding particles, or resampling more often.\n",
      "  ApproximationWarning\n"
     ]
    },
    {
     "name": "stdout",
     "output_type": "stream",
     "text": [
      "LogTotLikelihoods updated\n"
     ]
    },
    {
     "name": "stderr",
     "output_type": "stream",
     "text": [
      "C:\\Program Files\\Anaconda3\\lib\\site-packages\\qinfer\\smc.py:285: ApproximationWarning: Extremely small n_ess encountered (1.0007325475170725). Resampling is likely to fail. Consider adding particles, or resampling more often.\n",
      "  ApproximationWarning\n"
     ]
    },
    {
     "name": "stdout",
     "output_type": "stream",
     "text": [
      "LogTotLikelihoods updated\n"
     ]
    },
    {
     "name": "stderr",
     "output_type": "stream",
     "text": [
      "C:\\Program Files\\Anaconda3\\lib\\site-packages\\qinfer\\smc.py:285: ApproximationWarning: Extremely small n_ess encountered (1.5848062916550523). Resampling is likely to fail. Consider adding particles, or resampling more often.\n",
      "  ApproximationWarning\n"
     ]
    },
    {
     "name": "stdout",
     "output_type": "stream",
     "text": [
      "LogTotLikelihoods updated\n"
     ]
    },
    {
     "name": "stderr",
     "output_type": "stream",
     "text": [
      "C:\\Program Files\\Anaconda3\\lib\\site-packages\\qinfer\\smc.py:285: ApproximationWarning: Extremely small n_ess encountered (1.4455790236272457). Resampling is likely to fail. Consider adding particles, or resampling more often.\n",
      "  ApproximationWarning\n"
     ]
    },
    {
     "name": "stdout",
     "output_type": "stream",
     "text": [
      "LogTotLikelihoods updated\n"
     ]
    },
    {
     "name": "stderr",
     "output_type": "stream",
     "text": [
      "C:\\Program Files\\Anaconda3\\lib\\site-packages\\qinfer\\smc.py:285: ApproximationWarning: Extremely small n_ess encountered (1.1694622434267348). Resampling is likely to fail. Consider adding particles, or resampling more often.\n",
      "  ApproximationWarning\n"
     ]
    },
    {
     "name": "stdout",
     "output_type": "stream",
     "text": [
      "LogTotLikelihoods updated\n"
     ]
    },
    {
     "name": "stderr",
     "output_type": "stream",
     "text": [
      "C:\\Program Files\\Anaconda3\\lib\\site-packages\\qinfer\\smc.py:285: ApproximationWarning: Extremely small n_ess encountered (2.262749111689193). Resampling is likely to fail. Consider adding particles, or resampling more often.\n",
      "  ApproximationWarning\n"
     ]
    },
    {
     "name": "stdout",
     "output_type": "stream",
     "text": [
      "LogTotLikelihoods updated\n",
      "Total elapsed time for the learning process: 258.4357138269661\n",
      "LogTotLikelihoods updated\n"
     ]
    },
    {
     "name": "stderr",
     "output_type": "stream",
     "text": [
      "C:\\Program Files\\Anaconda3\\lib\\site-packages\\qinfer\\smc.py:285: ApproximationWarning: Extremely small n_ess encountered (3.2018560537414356). Resampling is likely to fail. Consider adding particles, or resampling more often.\n",
      "  ApproximationWarning\n"
     ]
    },
    {
     "name": "stdout",
     "output_type": "stream",
     "text": [
      "LogTotLikelihoods updated\n",
      "LogTotLikelihoods updated\n",
      "LogTotLikelihoods updated\n",
      "LogTotLikelihoods updated\n",
      "LogTotLikelihoods updated\n"
     ]
    },
    {
     "name": "stderr",
     "output_type": "stream",
     "text": [
      "C:\\Program Files\\Anaconda3\\lib\\site-packages\\qinfer\\smc.py:285: ApproximationWarning: Extremely small n_ess encountered (8.044241045281286). Resampling is likely to fail. Consider adding particles, or resampling more often.\n",
      "  ApproximationWarning\n"
     ]
    },
    {
     "name": "stdout",
     "output_type": "stream",
     "text": [
      "LogTotLikelihoods updated\n",
      "Total elapsed time for Bayes factor update: 222.37570026689718\n",
      "[[ 0.51711266]]\n",
      "Initialization Ready\n",
      "[[ 0.70155323]]\n",
      "Initialization Ready\n",
      "[[ 0.46771268]]\n",
      "Initialization Ready\n",
      "[[ 0.90575025  0.92765977]]\n",
      "Initialization Ready\n",
      "[[ 0.71610552  0.40298042]]\n",
      "Initialization Ready\n",
      "[[ 0.22688813  0.60654017]]\n",
      "Initialization Ready\n",
      "[[ 0.33246098  0.55889207  0.83600914]]\n",
      "Initialization Ready\n",
      "Initial time selected > 7.98239074283\n",
      "Final time selected > 343.175153168\n",
      "Final Parameters mean and stdev:[-0.21284083  0.02994249]\n",
      "Batch single time 0 elapsed time: 15.682577564839448\n",
      "\n",
      "\n",
      "Initial time selected > 1.81581352485\n",
      "Final time selected > 562.808865413\n",
      "Exiting learning for Reaching Cov. Norm. Thrshold of 9.57511469141e-07\n",
      " at Iteration Number 86\n",
      "Final Parameters mean and stdev:[ 0.27594174  0.00130228]\n",
      "Batch single time 1 elapsed time: 13.793711187783629\n",
      "\n",
      "\n",
      "Initial time selected > 205.919938259\n",
      "Final time selected > 289.480978382\n",
      "Final Parameters mean and stdev:[-0.04397539  0.00249306]\n",
      "Batch single time 2 elapsed time: 23.821841706077976\n",
      "\n",
      "\n",
      "Initial time selected > 0.662956577671\n",
      "Final time selected > 9.30592166885\n",
      "Final Parameters mean and stdev:[ 1.09112452  0.18445388]\n",
      "Final Parameters mean and stdev:[ 2.02088143  0.3179474 ]\n",
      "Batch single time 3 elapsed time: 15.726004209711391\n",
      "\n",
      "\n",
      "Initial time selected > 0.424734595167\n",
      "Final time selected > 103.219675596\n",
      "Final Parameters mean and stdev:[ 0.77989927  0.01334966]\n",
      "Final Parameters mean and stdev:[ 1.17752165  0.00809853]\n",
      "Batch single time 4 elapsed time: 15.544488342515251\n",
      "\n",
      "\n",
      "Initial time selected > 0.67275887527\n",
      "Final time selected > 43.4940905435\n",
      "Final Parameters mean and stdev:[ 1.00285374  0.04147347]\n",
      "Final Parameters mean and stdev:[ 0.80537277  0.01596056]\n",
      "Batch single time 5 elapsed time: 15.726404125754925\n",
      "\n",
      "\n",
      "Initial time selected > 0.79319665655\n",
      "Final time selected > 8.92529141509\n",
      "Final Parameters mean and stdev:[ 1.06046578  0.04925028]\n",
      "Final Parameters mean and stdev:[ 0.6700136   0.04991213]\n",
      "Final Parameters mean and stdev:[ 0.58798866  0.07310209]\n",
      "Batch single time 6 elapsed time: 15.299783091893914\n",
      "\n",
      "\n"
     ]
    },
    {
     "name": "stderr",
     "output_type": "stream",
     "text": [
      "C:\\Program Files\\Anaconda3\\lib\\site-packages\\qinfer\\smc.py:285: ApproximationWarning: Extremely small n_ess encountered (1.8123250984890946). Resampling is likely to fail. Consider adding particles, or resampling more often.\n",
      "  ApproximationWarning\n"
     ]
    },
    {
     "name": "stdout",
     "output_type": "stream",
     "text": [
      "LogTotLikelihoods updated\n"
     ]
    },
    {
     "name": "stderr",
     "output_type": "stream",
     "text": [
      "C:\\Program Files\\Anaconda3\\lib\\site-packages\\qinfer\\smc.py:285: ApproximationWarning: Extremely small n_ess encountered (2.473117673572423). Resampling is likely to fail. Consider adding particles, or resampling more often.\n",
      "  ApproximationWarning\n"
     ]
    },
    {
     "name": "stdout",
     "output_type": "stream",
     "text": [
      "LogTotLikelihoods updated\n",
      "LogTotLikelihoods updated\n"
     ]
    },
    {
     "name": "stderr",
     "output_type": "stream",
     "text": [
      "C:\\Program Files\\Anaconda3\\lib\\site-packages\\qinfer\\smc.py:285: ApproximationWarning: Extremely small n_ess encountered (1.1221966737944946). Resampling is likely to fail. Consider adding particles, or resampling more often.\n",
      "  ApproximationWarning\n"
     ]
    },
    {
     "name": "stdout",
     "output_type": "stream",
     "text": [
      "LogTotLikelihoods updated\n"
     ]
    },
    {
     "name": "stderr",
     "output_type": "stream",
     "text": [
      "C:\\Program Files\\Anaconda3\\lib\\site-packages\\qinfer\\smc.py:285: ApproximationWarning: Extremely small n_ess encountered (2.399055208462894). Resampling is likely to fail. Consider adding particles, or resampling more often.\n",
      "  ApproximationWarning\n"
     ]
    },
    {
     "name": "stdout",
     "output_type": "stream",
     "text": [
      "LogTotLikelihoods updated\n"
     ]
    },
    {
     "name": "stderr",
     "output_type": "stream",
     "text": [
      "C:\\Program Files\\Anaconda3\\lib\\site-packages\\qinfer\\smc.py:285: ApproximationWarning: Extremely small n_ess encountered (1.435347330065759). Resampling is likely to fail. Consider adding particles, or resampling more often.\n",
      "  ApproximationWarning\n"
     ]
    },
    {
     "name": "stdout",
     "output_type": "stream",
     "text": [
      "LogTotLikelihoods updated\n"
     ]
    },
    {
     "name": "stderr",
     "output_type": "stream",
     "text": [
      "C:\\Program Files\\Anaconda3\\lib\\site-packages\\qinfer\\smc.py:285: ApproximationWarning: Extremely small n_ess encountered (1.3962637377323242). Resampling is likely to fail. Consider adding particles, or resampling more often.\n",
      "  ApproximationWarning\n"
     ]
    },
    {
     "name": "stdout",
     "output_type": "stream",
     "text": [
      "LogTotLikelihoods updated\n",
      "Total elapsed time for the learning process: 253.63873114054877\n"
     ]
    },
    {
     "name": "stderr",
     "output_type": "stream",
     "text": [
      "C:\\Program Files\\Anaconda3\\lib\\site-packages\\qinfer\\smc.py:285: ApproximationWarning: Extremely small n_ess encountered (2.1755080287367266). Resampling is likely to fail. Consider adding particles, or resampling more often.\n",
      "  ApproximationWarning\n"
     ]
    },
    {
     "name": "stdout",
     "output_type": "stream",
     "text": [
      "LogTotLikelihoods updated\n"
     ]
    },
    {
     "name": "stderr",
     "output_type": "stream",
     "text": [
      "C:\\Program Files\\Anaconda3\\lib\\site-packages\\qinfer\\smc.py:285: ApproximationWarning: Extremely small n_ess encountered (9.053602664443469). Resampling is likely to fail. Consider adding particles, or resampling more often.\n",
      "  ApproximationWarning\n"
     ]
    },
    {
     "name": "stdout",
     "output_type": "stream",
     "text": [
      "LogTotLikelihoods updated\n"
     ]
    },
    {
     "name": "stderr",
     "output_type": "stream",
     "text": [
      "C:\\Program Files\\Anaconda3\\lib\\site-packages\\qinfer\\smc.py:285: ApproximationWarning: Extremely small n_ess encountered (1.2144192508233034). Resampling is likely to fail. Consider adding particles, or resampling more often.\n",
      "  ApproximationWarning\n"
     ]
    },
    {
     "name": "stdout",
     "output_type": "stream",
     "text": [
      "LogTotLikelihoods updated\n"
     ]
    },
    {
     "name": "stderr",
     "output_type": "stream",
     "text": [
      "C:\\Program Files\\Anaconda3\\lib\\site-packages\\qinfer\\smc.py:285: ApproximationWarning: Extremely small n_ess encountered (2.0213609242827406). Resampling is likely to fail. Consider adding particles, or resampling more often.\n",
      "  ApproximationWarning\n"
     ]
    },
    {
     "name": "stdout",
     "output_type": "stream",
     "text": [
      "LogTotLikelihoods updated\n",
      "LogTotLikelihoods updated\n",
      "LogTotLikelihoods updated\n",
      "LogTotLikelihoods updated\n",
      "Total elapsed time for Bayes factor update: 216.12681410591176\n",
      "[[ 0.69872447]]\n",
      "Initialization Ready\n",
      "[[ 0.40868669]]\n",
      "Initialization Ready\n",
      "[[ 0.71140209]]\n",
      "Initialization Ready\n",
      "[[ 0.17511073  0.09115249]]\n",
      "Initialization Ready\n",
      "[[ 0.91914019  0.93927369]]\n",
      "Initialization Ready\n",
      "[[ 0.25639887  0.22604698]]\n",
      "Initialization Ready\n",
      "[[ 0.28186948  0.78004205  0.86272096]]\n",
      "Initialization Ready\n",
      "Initial time selected > 0.822083076619\n",
      "Final time selected > 0.785857569205\n",
      "Final Parameters mean and stdev:[ 0.44341366  2.07494101]\n",
      "Batch single time 0 elapsed time: 15.70169970939969\n",
      "\n",
      "\n",
      "Initial time selected > 8.30106083257\n",
      "Final time selected > 8.43437951946\n",
      "Final Parameters mean and stdev:[-0.15067473  0.30052978]\n",
      "Batch single time 1 elapsed time: 15.790376457392995\n",
      "\n",
      "\n",
      "Initial time selected > 1.9464001898\n",
      "Final time selected > 237.276010006\n",
      "Final Parameters mean and stdev:[ 0.11218947  0.00458026]\n",
      "Batch single time 2 elapsed time: 24.1273676320925\n",
      "\n",
      "\n",
      "Initial time selected > 0.382223694567\n",
      "Final time selected > 27.1608670135\n",
      "Final Parameters mean and stdev:[ 1.11627007  0.02491245]\n",
      "Final Parameters mean and stdev:[ 0.49223998  0.0220226 ]\n",
      "Batch single time 3 elapsed time: 15.46275914261787\n",
      "\n",
      "\n",
      "Initial time selected > 2.18087310738\n",
      "Final time selected > 7.12217940234\n",
      "Final Parameters mean and stdev:[-0.09304925  0.04085898]\n",
      "Final Parameters mean and stdev:[ 1.38852821  0.03125033]\n",
      "Batch single time 4 elapsed time: 15.565086667236756\n",
      "\n",
      "\n",
      "Initial time selected > 0.74080646166\n",
      "Final time selected > 87.0238513222\n",
      "Final Parameters mean and stdev:[ 0.38982726  0.01174122]\n",
      "Final Parameters mean and stdev:[ 0.46553779  0.01743386]\n",
      "Batch single time 5 elapsed time: 15.510254469758365\n",
      "\n",
      "\n",
      "Initial time selected > 0.530480931422\n",
      "Final time selected > 4.76427054526\n",
      "Final Parameters mean and stdev:[ 0.70028075  0.0605193 ]\n",
      "Final Parameters mean and stdev:[-0.13343498  0.0480431 ]\n",
      "Final Parameters mean and stdev:[ 0.4487913   0.07559226]\n",
      "Batch single time 6 elapsed time: 15.412675617106288\n",
      "\n",
      "\n"
     ]
    },
    {
     "name": "stderr",
     "output_type": "stream",
     "text": [
      "C:\\Program Files\\Anaconda3\\lib\\site-packages\\qinfer\\smc.py:285: ApproximationWarning: Extremely small n_ess encountered (1.0003578985270727). Resampling is likely to fail. Consider adding particles, or resampling more often.\n",
      "  ApproximationWarning\n"
     ]
    },
    {
     "name": "stdout",
     "output_type": "stream",
     "text": [
      "LogTotLikelihoods updated\n"
     ]
    },
    {
     "name": "stderr",
     "output_type": "stream",
     "text": [
      "C:\\Program Files\\Anaconda3\\lib\\site-packages\\qinfer\\smc.py:285: ApproximationWarning: Extremely small n_ess encountered (1.1791061769650981). Resampling is likely to fail. Consider adding particles, or resampling more often.\n",
      "  ApproximationWarning\n"
     ]
    },
    {
     "name": "stdout",
     "output_type": "stream",
     "text": [
      "LogTotLikelihoods updated\n"
     ]
    },
    {
     "name": "stderr",
     "output_type": "stream",
     "text": [
      "C:\\Program Files\\Anaconda3\\lib\\site-packages\\qinfer\\smc.py:285: ApproximationWarning: Extremely small n_ess encountered (1.9238305700212197). Resampling is likely to fail. Consider adding particles, or resampling more often.\n",
      "  ApproximationWarning\n"
     ]
    },
    {
     "name": "stdout",
     "output_type": "stream",
     "text": [
      "LogTotLikelihoods updated\n"
     ]
    },
    {
     "name": "stderr",
     "output_type": "stream",
     "text": [
      "C:\\Program Files\\Anaconda3\\lib\\site-packages\\qinfer\\smc.py:285: ApproximationWarning: Extremely small n_ess encountered (1.7159769428689253). Resampling is likely to fail. Consider adding particles, or resampling more often.\n",
      "  ApproximationWarning\n"
     ]
    },
    {
     "name": "stdout",
     "output_type": "stream",
     "text": [
      "LogTotLikelihoods updated\n"
     ]
    },
    {
     "name": "stderr",
     "output_type": "stream",
     "text": [
      "C:\\Program Files\\Anaconda3\\lib\\site-packages\\qinfer\\smc.py:285: ApproximationWarning: Extremely small n_ess encountered (4.203649109785881). Resampling is likely to fail. Consider adding particles, or resampling more often.\n",
      "  ApproximationWarning\n"
     ]
    },
    {
     "name": "stdout",
     "output_type": "stream",
     "text": [
      "LogTotLikelihoods updated\n"
     ]
    },
    {
     "name": "stderr",
     "output_type": "stream",
     "text": [
      "C:\\Program Files\\Anaconda3\\lib\\site-packages\\qinfer\\smc.py:285: ApproximationWarning: Extremely small n_ess encountered (1.1374885531814738). Resampling is likely to fail. Consider adding particles, or resampling more often.\n",
      "  ApproximationWarning\n"
     ]
    },
    {
     "name": "stdout",
     "output_type": "stream",
     "text": [
      "LogTotLikelihoods updated\n"
     ]
    },
    {
     "name": "stderr",
     "output_type": "stream",
     "text": [
      "C:\\Program Files\\Anaconda3\\lib\\site-packages\\qinfer\\smc.py:285: ApproximationWarning: Extremely small n_ess encountered (1.0000008607347546). Resampling is likely to fail. Consider adding particles, or resampling more often.\n",
      "  ApproximationWarning\n"
     ]
    },
    {
     "name": "stdout",
     "output_type": "stream",
     "text": [
      "LogTotLikelihoods updated\n",
      "Total elapsed time for the learning process: 256.5620671024699\n",
      "LogTotLikelihoods updated\n",
      "LogTotLikelihoods updated\n"
     ]
    },
    {
     "name": "stderr",
     "output_type": "stream",
     "text": [
      "C:\\Program Files\\Anaconda3\\lib\\site-packages\\qinfer\\smc.py:285: ApproximationWarning: Extremely small n_ess encountered (2.764916138544511). Resampling is likely to fail. Consider adding particles, or resampling more often.\n",
      "  ApproximationWarning\n"
     ]
    },
    {
     "name": "stdout",
     "output_type": "stream",
     "text": [
      "LogTotLikelihoods updated\n",
      "LogTotLikelihoods updated\n"
     ]
    },
    {
     "name": "stderr",
     "output_type": "stream",
     "text": [
      "C:\\Program Files\\Anaconda3\\lib\\site-packages\\qinfer\\smc.py:285: ApproximationWarning: Extremely small n_ess encountered (3.3082739699521326). Resampling is likely to fail. Consider adding particles, or resampling more often.\n",
      "  ApproximationWarning\n"
     ]
    },
    {
     "name": "stdout",
     "output_type": "stream",
     "text": [
      "LogTotLikelihoods updated\n",
      "LogTotLikelihoods updated\n",
      "LogTotLikelihoods updated\n",
      "Total elapsed time for Bayes factor update: 219.37406782814287\n",
      "[[ 0.02586396]]\n",
      "Initialization Ready\n",
      "[[ 0.13275887]]\n",
      "Initialization Ready\n",
      "[[ 0.63998048]]\n",
      "Initialization Ready\n",
      "[[ 0.15806     0.98884948]]\n",
      "Initialization Ready\n",
      "[[ 0.13572737  0.26790712]]\n",
      "Initialization Ready\n",
      "[[ 0.78253555  0.93126803]]\n",
      "Initialization Ready\n",
      "[[ 0.0073613   0.93763037  0.7866196 ]]\n",
      "Initialization Ready\n",
      "Initial time selected > 0.638795280574\n",
      "Final time selected > 3.41228291376\n",
      "Final Parameters mean and stdev:[-0.98703663  0.30931267]\n",
      "Batch single time 0 elapsed time: 15.695862193169887\n",
      "\n",
      "\n",
      "Initial time selected > 1.03408982839\n",
      "Final time selected > 1232.70215394\n",
      "Exiting learning for Reaching Cov. Norm. Thrshold of 9.81051859417e-07\n",
      " at Iteration Number 85\n",
      "Final Parameters mean and stdev:[ 0.69278629  0.00099048]\n",
      "Batch single time 1 elapsed time: 13.567596405257063\n",
      "\n",
      "\n",
      "Initial time selected > 0.590296167298\n",
      "Final time selected > 2.80985850581\n",
      "Final Parameters mean and stdev:[ 0.07590209  0.52251421]\n",
      "Batch single time 2 elapsed time: 23.95917678209298\n",
      "\n",
      "\n",
      "Initial time selected > 0.767404900708\n",
      "Final time selected > 3.13935384484\n",
      "Final Parameters mean and stdev:[ 0.0909603   0.20266808]\n",
      "Final Parameters mean and stdev:[ 0.35078906  0.07254795]\n",
      "Batch single time 3 elapsed time: 15.718720639441017\n",
      "\n",
      "\n",
      "Initial time selected > 1.68927526531\n",
      "Final time selected > 42.7582727702\n",
      "Final Parameters mean and stdev:[ 0.83932619  0.03143815]\n",
      "Final Parameters mean and stdev:[ 0.30918387  0.01584777]\n",
      "Batch single time 4 elapsed time: 15.466360042293672\n",
      "\n",
      "\n",
      "Initial time selected > 1.31276544183\n",
      "Final time selected > 56.2602122392\n",
      "Final Parameters mean and stdev:[ 0.70680943  0.00858793]\n",
      "Final Parameters mean and stdev:[-0.01118204  0.00666845]\n",
      "Batch single time 5 elapsed time: 15.533102653284004\n",
      "\n",
      "\n",
      "Initial time selected > 0.748656536342\n",
      "Final time selected > 10.3939683334\n",
      "Final Parameters mean and stdev:[ 1.24392723  0.09807049]\n",
      "Final Parameters mean and stdev:[ 0.33901115  0.06291598]\n",
      "Final Parameters mean and stdev:[-0.99042624  0.06949396]\n",
      "Batch single time 6 elapsed time: 15.573422003461019\n",
      "\n",
      "\n"
     ]
    },
    {
     "name": "stderr",
     "output_type": "stream",
     "text": [
      "C:\\Program Files\\Anaconda3\\lib\\site-packages\\qinfer\\smc.py:285: ApproximationWarning: Extremely small n_ess encountered (1.0000141794509307). Resampling is likely to fail. Consider adding particles, or resampling more often.\n",
      "  ApproximationWarning\n"
     ]
    },
    {
     "name": "stdout",
     "output_type": "stream",
     "text": [
      "LogTotLikelihoods updated\n",
      "LogTotLikelihoods updated\n"
     ]
    },
    {
     "name": "stderr",
     "output_type": "stream",
     "text": [
      "C:\\Program Files\\Anaconda3\\lib\\site-packages\\qinfer\\smc.py:285: ApproximationWarning: Extremely small n_ess encountered (1.0000001004344654). Resampling is likely to fail. Consider adding particles, or resampling more often.\n",
      "  ApproximationWarning\n"
     ]
    },
    {
     "name": "stdout",
     "output_type": "stream",
     "text": [
      "LogTotLikelihoods updated\n"
     ]
    },
    {
     "name": "stderr",
     "output_type": "stream",
     "text": [
      "C:\\Program Files\\Anaconda3\\lib\\site-packages\\qinfer\\smc.py:285: ApproximationWarning: Extremely small n_ess encountered (1.0009153988497588). Resampling is likely to fail. Consider adding particles, or resampling more often.\n",
      "  ApproximationWarning\n"
     ]
    },
    {
     "name": "stdout",
     "output_type": "stream",
     "text": [
      "LogTotLikelihoods updated\n"
     ]
    },
    {
     "name": "stderr",
     "output_type": "stream",
     "text": [
      "C:\\Program Files\\Anaconda3\\lib\\site-packages\\qinfer\\smc.py:285: ApproximationWarning: Extremely small n_ess encountered (2.472589354074273). Resampling is likely to fail. Consider adding particles, or resampling more often.\n",
      "  ApproximationWarning\n"
     ]
    },
    {
     "name": "stdout",
     "output_type": "stream",
     "text": [
      "LogTotLikelihoods updated\n",
      "LogTotLikelihoods updated\n"
     ]
    },
    {
     "name": "stderr",
     "output_type": "stream",
     "text": [
      "C:\\Program Files\\Anaconda3\\lib\\site-packages\\qinfer\\smc.py:285: ApproximationWarning: Extremely small n_ess encountered (1.2818103858259946). Resampling is likely to fail. Consider adding particles, or resampling more often.\n",
      "  ApproximationWarning\n"
     ]
    },
    {
     "name": "stdout",
     "output_type": "stream",
     "text": [
      "LogTotLikelihoods updated\n",
      "Total elapsed time for the learning process: 259.9524185982118\n",
      "LogTotLikelihoods updated\n",
      "LogTotLikelihoods updated\n",
      "LogTotLikelihoods updated\n",
      "LogTotLikelihoods updated\n"
     ]
    },
    {
     "name": "stderr",
     "output_type": "stream",
     "text": [
      "C:\\Program Files\\Anaconda3\\lib\\site-packages\\qinfer\\smc.py:285: ApproximationWarning: Extremely small n_ess encountered (1.9660094435170763). Resampling is likely to fail. Consider adding particles, or resampling more often.\n",
      "  ApproximationWarning\n"
     ]
    },
    {
     "name": "stdout",
     "output_type": "stream",
     "text": [
      "LogTotLikelihoods updated\n",
      "LogTotLikelihoods updated\n",
      "LogTotLikelihoods updated\n",
      "Total elapsed time for Bayes factor update: 224.65666479288484\n",
      "[[ 0.03281751]]\n",
      "Initialization Ready\n",
      "[[ 0.43590776]]\n",
      "Initialization Ready\n",
      "[[ 0.42622864]]\n",
      "Initialization Ready\n",
      "[[ 0.61055646  0.59443316]]\n",
      "Initialization Ready\n",
      "[[ 0.791261    0.09690926]]\n",
      "Initialization Ready\n",
      "[[ 0.67072458  0.24051105]]\n",
      "Initialization Ready\n",
      "[[ 0.54610513  0.42507121  0.25308426]]\n",
      "Initialization Ready\n",
      "Initial time selected > 0.600866521419\n",
      "Final time selected > 0.900882779674\n",
      "Final Parameters mean and stdev:[ 0.61263525  0.59099504]\n",
      "Batch single time 0 elapsed time: 15.591446696289495\n",
      "\n",
      "\n",
      "Initial time selected > 10.4170821912\n",
      "Final time selected > 137.825469377\n",
      "Final Parameters mean and stdev:[ 0.67401069  0.01491555]\n",
      "Batch single time 1 elapsed time: 15.662500984893995\n",
      "\n",
      "\n",
      "Initial time selected > 16.3289595788\n",
      "Final time selected > 852.258958592\n",
      "Final Parameters mean and stdev:[-0.57002898  0.00393775]\n",
      "Batch single time 2 elapsed time: 24.292114172058064\n",
      "\n",
      "\n",
      "Initial time selected > 0.436350613216\n",
      "Final time selected > 13.5848713764\n",
      "Final Parameters mean and stdev:[ 0.90859491  0.0337941 ]\n",
      "Final Parameters mean and stdev:[-0.27432854  0.01959503]\n",
      "Batch single time 3 elapsed time: 15.695391100016423\n",
      "\n",
      "\n",
      "Initial time selected > 1.33252706215\n",
      "Final time selected > 6.01319772027\n",
      "Final Parameters mean and stdev:[ 0.18665967  0.18096675]\n",
      "Final Parameters mean and stdev:[ 0.09920328  0.13140029]\n",
      "Batch single time 4 elapsed time: 15.574196013156325\n",
      "\n",
      "\n",
      "Initial time selected > 0.740334730399\n",
      "Final time selected > 6.31325858579\n",
      "Final Parameters mean and stdev:[ 0.5761069   0.18639155]\n",
      "Final Parameters mean and stdev:[-0.05855042  0.09490363]\n",
      "Batch single time 5 elapsed time: 15.472939124698314\n",
      "\n",
      "\n",
      "Initial time selected > 0.510278835448\n",
      "Final time selected > 4.05897644312\n",
      "Final Parameters mean and stdev:[ 0.53970948  0.03751205]\n",
      "Final Parameters mean and stdev:[ 0.51840718  0.04129534]\n",
      "Final Parameters mean and stdev:[ 0.08851022  0.04867411]\n",
      "Batch single time 6 elapsed time: 15.369882282990147\n",
      "\n",
      "\n"
     ]
    },
    {
     "name": "stderr",
     "output_type": "stream",
     "text": [
      "C:\\Program Files\\Anaconda3\\lib\\site-packages\\qinfer\\smc.py:285: ApproximationWarning: Extremely small n_ess encountered (2.292993256572125). Resampling is likely to fail. Consider adding particles, or resampling more often.\n",
      "  ApproximationWarning\n"
     ]
    },
    {
     "name": "stdout",
     "output_type": "stream",
     "text": [
      "LogTotLikelihoods updated\n"
     ]
    },
    {
     "name": "stderr",
     "output_type": "stream",
     "text": [
      "C:\\Program Files\\Anaconda3\\lib\\site-packages\\qinfer\\smc.py:285: ApproximationWarning: Extremely small n_ess encountered (2.14388438317948). Resampling is likely to fail. Consider adding particles, or resampling more often.\n",
      "  ApproximationWarning\n"
     ]
    },
    {
     "name": "stdout",
     "output_type": "stream",
     "text": [
      "LogTotLikelihoods updated\n"
     ]
    },
    {
     "name": "stderr",
     "output_type": "stream",
     "text": [
      "C:\\Program Files\\Anaconda3\\lib\\site-packages\\qinfer\\smc.py:285: ApproximationWarning: Extremely small n_ess encountered (9.958305169941909). Resampling is likely to fail. Consider adding particles, or resampling more often.\n",
      "  ApproximationWarning\n"
     ]
    },
    {
     "name": "stdout",
     "output_type": "stream",
     "text": [
      "LogTotLikelihoods updated\n"
     ]
    },
    {
     "name": "stderr",
     "output_type": "stream",
     "text": [
      "C:\\Program Files\\Anaconda3\\lib\\site-packages\\qinfer\\smc.py:285: ApproximationWarning: Extremely small n_ess encountered (1.1213753221472587). Resampling is likely to fail. Consider adding particles, or resampling more often.\n",
      "  ApproximationWarning\n"
     ]
    },
    {
     "name": "stdout",
     "output_type": "stream",
     "text": [
      "LogTotLikelihoods updated\n"
     ]
    },
    {
     "name": "stderr",
     "output_type": "stream",
     "text": [
      "C:\\Program Files\\Anaconda3\\lib\\site-packages\\qinfer\\smc.py:285: ApproximationWarning: Extremely small n_ess encountered (3.191773689009219). Resampling is likely to fail. Consider adding particles, or resampling more often.\n",
      "  ApproximationWarning\n"
     ]
    },
    {
     "name": "stdout",
     "output_type": "stream",
     "text": [
      "LogTotLikelihoods updated\n"
     ]
    },
    {
     "name": "stderr",
     "output_type": "stream",
     "text": [
      "C:\\Program Files\\Anaconda3\\lib\\site-packages\\qinfer\\smc.py:285: ApproximationWarning: Extremely small n_ess encountered (1.0000000475032398). Resampling is likely to fail. Consider adding particles, or resampling more often.\n",
      "  ApproximationWarning\n"
     ]
    },
    {
     "name": "stdout",
     "output_type": "stream",
     "text": [
      "LogTotLikelihoods updated\n"
     ]
    },
    {
     "name": "stderr",
     "output_type": "stream",
     "text": [
      "C:\\Program Files\\Anaconda3\\lib\\site-packages\\qinfer\\smc.py:285: ApproximationWarning: Extremely small n_ess encountered (2.407091593428889). Resampling is likely to fail. Consider adding particles, or resampling more often.\n",
      "  ApproximationWarning\n"
     ]
    },
    {
     "name": "stdout",
     "output_type": "stream",
     "text": [
      "LogTotLikelihoods updated\n",
      "Total elapsed time for the learning process: 256.25880560173755\n"
     ]
    },
    {
     "name": "stderr",
     "output_type": "stream",
     "text": [
      "C:\\Program Files\\Anaconda3\\lib\\site-packages\\qinfer\\smc.py:285: ApproximationWarning: Extremely small n_ess encountered (6.805275151607579). Resampling is likely to fail. Consider adding particles, or resampling more often.\n",
      "  ApproximationWarning\n"
     ]
    },
    {
     "name": "stdout",
     "output_type": "stream",
     "text": [
      "LogTotLikelihoods updated\n",
      "LogTotLikelihoods updated\n",
      "LogTotLikelihoods updated\n",
      "LogTotLikelihoods updated\n"
     ]
    },
    {
     "name": "stderr",
     "output_type": "stream",
     "text": [
      "C:\\Program Files\\Anaconda3\\lib\\site-packages\\qinfer\\smc.py:285: ApproximationWarning: Extremely small n_ess encountered (5.622469515003114). Resampling is likely to fail. Consider adding particles, or resampling more often.\n",
      "  ApproximationWarning\n"
     ]
    },
    {
     "name": "stdout",
     "output_type": "stream",
     "text": [
      "LogTotLikelihoods updated\n",
      "LogTotLikelihoods updated\n"
     ]
    },
    {
     "name": "stderr",
     "output_type": "stream",
     "text": [
      "C:\\Program Files\\Anaconda3\\lib\\site-packages\\qinfer\\smc.py:285: ApproximationWarning: Extremely small n_ess encountered (6.134359567317828). Resampling is likely to fail. Consider adding particles, or resampling more often.\n",
      "  ApproximationWarning\n"
     ]
    },
    {
     "name": "stdout",
     "output_type": "stream",
     "text": [
      "LogTotLikelihoods updated\n",
      "Total elapsed time for Bayes factor update: 214.71545245137168\n",
      "[[ 0.26102751]]\n",
      "Initialization Ready\n",
      "[[ 0.58754525]]\n",
      "Initialization Ready\n",
      "[[ 0.38643844]]\n",
      "Initialization Ready\n",
      "[[ 0.59404277  0.14746062]]\n",
      "Initialization Ready\n",
      "[[ 0.96338754  0.55503582]]\n",
      "Initialization Ready\n",
      "[[ 0.9141041   0.76905953]]\n",
      "Initialization Ready\n",
      "[[ 0.87425818  0.25839256  0.70179994]]\n",
      "Initialization Ready\n",
      "Initial time selected > 0.949607239532\n",
      "Final time selected > 15.4651066103\n",
      "Final Parameters mean and stdev:[ 0.72017312  0.29676256]\n",
      "Batch single time 0 elapsed time: 15.809677703422494\n",
      "\n",
      "\n",
      "Initial time selected > 0.560741651231\n",
      "Final time selected > 1547.50900897\n",
      "Final Parameters mean and stdev:[ 0.46335413  0.00234923]\n",
      "Batch single time 1 elapsed time: 15.955215693131322\n",
      "\n",
      "\n",
      "Initial time selected > 1.22987479822\n",
      "Final time selected > 20.1060455691\n",
      "Final Parameters mean and stdev:[ 0.7834861   0.05751063]\n",
      "Batch single time 2 elapsed time: 23.895289531934395\n",
      "\n",
      "\n",
      "Initial time selected > 0.418995047731\n",
      "Final time selected > 4.42107558332\n",
      "Final Parameters mean and stdev:[-0.17869311  0.15933071]\n",
      "Final Parameters mean and stdev:[ 0.4813067  0.1062725]\n",
      "Batch single time 3 elapsed time: 15.620577997866349\n",
      "\n",
      "\n",
      "Initial time selected > 4.95966224635\n",
      "Final time selected > 1.30571166678\n",
      "Final Parameters mean and stdev:[ 0.12585858  0.15875558]\n",
      "Final Parameters mean and stdev:[-0.15560715  0.19447478]\n",
      "Batch single time 4 elapsed time: 15.461448490612383\n",
      "\n",
      "\n",
      "Initial time selected > 0.576479204015\n",
      "Final time selected > 16.9147898967\n",
      "Final Parameters mean and stdev:[ 0.44286717  0.0233776 ]\n",
      "Final Parameters mean and stdev:[ 0.00446625  0.01763274]\n",
      "Batch single time 5 elapsed time: 15.607629391710361\n",
      "\n",
      "\n",
      "Initial time selected > 0.605038612915\n",
      "Final time selected > 0.913608269794\n",
      "Final Parameters mean and stdev:[ 0.20187486  0.15479469]\n",
      "Final Parameters mean and stdev:[ 0.26347189  0.15988526]\n",
      "Final Parameters mean and stdev:[-0.27621905  0.20468914]\n",
      "Batch single time 6 elapsed time: 15.358950471985736\n",
      "\n",
      "\n"
     ]
    },
    {
     "name": "stderr",
     "output_type": "stream",
     "text": [
      "C:\\Program Files\\Anaconda3\\lib\\site-packages\\qinfer\\smc.py:285: ApproximationWarning: Extremely small n_ess encountered (7.53514206513796). Resampling is likely to fail. Consider adding particles, or resampling more often.\n",
      "  ApproximationWarning\n"
     ]
    },
    {
     "name": "stdout",
     "output_type": "stream",
     "text": [
      "LogTotLikelihoods updated\n",
      "LogTotLikelihoods updated\n"
     ]
    },
    {
     "name": "stderr",
     "output_type": "stream",
     "text": [
      "C:\\Program Files\\Anaconda3\\lib\\site-packages\\qinfer\\smc.py:285: ApproximationWarning: Extremely small n_ess encountered (1.3918431194811234). Resampling is likely to fail. Consider adding particles, or resampling more often.\n",
      "  ApproximationWarning\n"
     ]
    },
    {
     "name": "stdout",
     "output_type": "stream",
     "text": [
      "LogTotLikelihoods updated\n"
     ]
    },
    {
     "name": "stderr",
     "output_type": "stream",
     "text": [
      "C:\\Program Files\\Anaconda3\\lib\\site-packages\\qinfer\\smc.py:285: ApproximationWarning: Extremely small n_ess encountered (2.2536670090954916). Resampling is likely to fail. Consider adding particles, or resampling more often.\n",
      "  ApproximationWarning\n"
     ]
    },
    {
     "name": "stdout",
     "output_type": "stream",
     "text": [
      "LogTotLikelihoods updated\n"
     ]
    },
    {
     "name": "stderr",
     "output_type": "stream",
     "text": [
      "C:\\Program Files\\Anaconda3\\lib\\site-packages\\qinfer\\smc.py:285: ApproximationWarning: Extremely small n_ess encountered (3.248386197208155). Resampling is likely to fail. Consider adding particles, or resampling more often.\n",
      "  ApproximationWarning\n"
     ]
    },
    {
     "name": "stdout",
     "output_type": "stream",
     "text": [
      "LogTotLikelihoods updated\n"
     ]
    },
    {
     "name": "stderr",
     "output_type": "stream",
     "text": [
      "C:\\Program Files\\Anaconda3\\lib\\site-packages\\qinfer\\smc.py:285: ApproximationWarning: Extremely small n_ess encountered (4.377135564496162). Resampling is likely to fail. Consider adding particles, or resampling more often.\n",
      "  ApproximationWarning\n"
     ]
    },
    {
     "name": "stdout",
     "output_type": "stream",
     "text": [
      "LogTotLikelihoods updated\n"
     ]
    },
    {
     "name": "stderr",
     "output_type": "stream",
     "text": [
      "C:\\Program Files\\Anaconda3\\lib\\site-packages\\qinfer\\smc.py:285: ApproximationWarning: Extremely small n_ess encountered (2.032475773245737). Resampling is likely to fail. Consider adding particles, or resampling more often.\n",
      "  ApproximationWarning\n"
     ]
    },
    {
     "name": "stdout",
     "output_type": "stream",
     "text": [
      "LogTotLikelihoods updated\n",
      "Total elapsed time for the learning process: 258.0718124075938\n"
     ]
    },
    {
     "name": "stderr",
     "output_type": "stream",
     "text": [
      "C:\\Program Files\\Anaconda3\\lib\\site-packages\\qinfer\\smc.py:285: ApproximationWarning: Extremely small n_ess encountered (3.4238065784935623). Resampling is likely to fail. Consider adding particles, or resampling more often.\n",
      "  ApproximationWarning\n"
     ]
    },
    {
     "name": "stdout",
     "output_type": "stream",
     "text": [
      "LogTotLikelihoods updated\n",
      "LogTotLikelihoods updated\n"
     ]
    },
    {
     "name": "stderr",
     "output_type": "stream",
     "text": [
      "C:\\Program Files\\Anaconda3\\lib\\site-packages\\qinfer\\smc.py:285: ApproximationWarning: Extremely small n_ess encountered (2.9668216496721036). Resampling is likely to fail. Consider adding particles, or resampling more often.\n",
      "  ApproximationWarning\n"
     ]
    },
    {
     "name": "stdout",
     "output_type": "stream",
     "text": [
      "LogTotLikelihoods updated\n",
      "LogTotLikelihoods updated\n"
     ]
    },
    {
     "name": "stderr",
     "output_type": "stream",
     "text": [
      "C:\\Program Files\\Anaconda3\\lib\\site-packages\\qinfer\\smc.py:285: ApproximationWarning: Extremely small n_ess encountered (1.6763563155527386). Resampling is likely to fail. Consider adding particles, or resampling more often.\n",
      "  ApproximationWarning\n"
     ]
    },
    {
     "name": "stdout",
     "output_type": "stream",
     "text": [
      "LogTotLikelihoods updated\n",
      "LogTotLikelihoods updated\n"
     ]
    },
    {
     "name": "stderr",
     "output_type": "stream",
     "text": [
      "C:\\Program Files\\Anaconda3\\lib\\site-packages\\qinfer\\smc.py:285: ApproximationWarning: Extremely small n_ess encountered (4.493561018777799). Resampling is likely to fail. Consider adding particles, or resampling more often.\n",
      "  ApproximationWarning\n"
     ]
    },
    {
     "name": "stdout",
     "output_type": "stream",
     "text": [
      "LogTotLikelihoods updated\n",
      "Total elapsed time for Bayes factor update: 214.56443150676205\n",
      "[[ 0.89297867]]\n",
      "Initialization Ready\n",
      "[[ 0.0119487]]\n",
      "Initialization Ready\n",
      "[[ 0.3102656]]\n",
      "Initialization Ready\n",
      "[[ 0.09587184  0.0273719 ]]\n",
      "Initialization Ready\n",
      "[[ 0.61558603  0.14332325]]\n",
      "Initialization Ready\n",
      "[[ 0.1493943   0.41729213]]\n",
      "Initialization Ready\n",
      "[[ 0.24573333  0.55321732  0.11736312]]\n",
      "Initialization Ready\n",
      "Initial time selected > 4.05879297929\n",
      "Final time selected > 7.65581720489\n",
      "Final Parameters mean and stdev:[ 1.40684283  0.67977234]\n",
      "Batch single time 0 elapsed time: 15.846310741388152\n",
      "\n",
      "\n",
      "Initial time selected > 0.551772301122\n",
      "Final time selected > 139.22841473\n",
      "Exiting learning for Reaching Cov. Norm. Thrshold of 9.87318587699e-07\n",
      " at Iteration Number 84\n",
      "Final Parameters mean and stdev:[ 0.20152225  0.00177388]\n",
      "Batch single time 1 elapsed time: 13.436842397986766\n",
      "\n",
      "\n",
      "Initial time selected > 0.778755714402\n",
      "Final time selected > 6.39628109866\n",
      "Final Parameters mean and stdev:[-0.13670092  0.05282178]\n",
      "Batch single time 2 elapsed time: 23.955949976065313\n",
      "\n",
      "\n",
      "Initial time selected > 0.613093268408\n",
      "Final time selected > 14.5448384977\n",
      "Final Parameters mean and stdev:[ 1.41624072  0.06967766]\n",
      "Final Parameters mean and stdev:[ 1.00946575  0.11039493]\n",
      "Batch single time 3 elapsed time: 15.621169264464697\n",
      "\n",
      "\n",
      "Initial time selected > 1.24527522975\n",
      "Final time selected > 9.70443463659\n",
      "Final Parameters mean and stdev:[-0.27716626  0.06353978]\n",
      "Final Parameters mean and stdev:[ 0.64420916  0.02453275]\n",
      "Batch single time 4 elapsed time: 15.576613717516011\n",
      "\n",
      "\n",
      "Initial time selected > 0.551521323862\n",
      "Final time selected > 661.290666431\n",
      "Exiting learning for Reaching Cov. Norm. Thrshold of 7.56297552514e-07\n",
      " at Iteration Number 99\n",
      "Final Parameters mean and stdev:[-0.2263024   0.00057507]\n",
      "Final Parameters mean and stdev:[-0.07437178  0.00082345]\n",
      "Batch single time 5 elapsed time: 15.481446279158263\n",
      "\n",
      "\n",
      "Initial time selected > 0.474601680563\n",
      "Final time selected > 13.1189314893\n",
      "Final Parameters mean and stdev:[ 0.70272187  0.0196817 ]\n",
      "Final Parameters mean and stdev:[-0.03788728  0.02181777]\n",
      "Final Parameters mean and stdev:[ 0.74497481  0.03276413]\n",
      "Batch single time 6 elapsed time: 15.483070441503514\n",
      "\n",
      "\n"
     ]
    },
    {
     "name": "stderr",
     "output_type": "stream",
     "text": [
      "C:\\Program Files\\Anaconda3\\lib\\site-packages\\qinfer\\smc.py:285: ApproximationWarning: Extremely small n_ess encountered (2.6483847880366116). Resampling is likely to fail. Consider adding particles, or resampling more often.\n",
      "  ApproximationWarning\n"
     ]
    },
    {
     "name": "stdout",
     "output_type": "stream",
     "text": [
      "LogTotLikelihoods updated\n"
     ]
    },
    {
     "name": "stderr",
     "output_type": "stream",
     "text": [
      "C:\\Program Files\\Anaconda3\\lib\\site-packages\\qinfer\\smc.py:285: ApproximationWarning: Extremely small n_ess encountered (1.9182028204739237). Resampling is likely to fail. Consider adding particles, or resampling more often.\n",
      "  ApproximationWarning\n"
     ]
    },
    {
     "name": "stdout",
     "output_type": "stream",
     "text": [
      "LogTotLikelihoods updated\n"
     ]
    },
    {
     "name": "stderr",
     "output_type": "stream",
     "text": [
      "C:\\Program Files\\Anaconda3\\lib\\site-packages\\qinfer\\smc.py:285: ApproximationWarning: Extremely small n_ess encountered (7.694790910061639). Resampling is likely to fail. Consider adding particles, or resampling more often.\n",
      "  ApproximationWarning\n"
     ]
    },
    {
     "name": "stdout",
     "output_type": "stream",
     "text": [
      "LogTotLikelihoods updated\n"
     ]
    },
    {
     "name": "stderr",
     "output_type": "stream",
     "text": [
      "C:\\Program Files\\Anaconda3\\lib\\site-packages\\qinfer\\smc.py:285: ApproximationWarning: Extremely small n_ess encountered (1.91671063967861). Resampling is likely to fail. Consider adding particles, or resampling more often.\n",
      "  ApproximationWarning\n"
     ]
    },
    {
     "name": "stdout",
     "output_type": "stream",
     "text": [
      "LogTotLikelihoods updated\n"
     ]
    },
    {
     "name": "stderr",
     "output_type": "stream",
     "text": [
      "C:\\Program Files\\Anaconda3\\lib\\site-packages\\qinfer\\smc.py:285: ApproximationWarning: Extremely small n_ess encountered (2.9115277306818172). Resampling is likely to fail. Consider adding particles, or resampling more often.\n",
      "  ApproximationWarning\n"
     ]
    },
    {
     "name": "stdout",
     "output_type": "stream",
     "text": [
      "LogTotLikelihoods updated\n"
     ]
    },
    {
     "name": "stderr",
     "output_type": "stream",
     "text": [
      "C:\\Program Files\\Anaconda3\\lib\\site-packages\\qinfer\\smc.py:285: ApproximationWarning: Extremely small n_ess encountered (1.9283580297546519). Resampling is likely to fail. Consider adding particles, or resampling more often.\n",
      "  ApproximationWarning\n"
     ]
    },
    {
     "name": "stdout",
     "output_type": "stream",
     "text": [
      "LogTotLikelihoods updated\n"
     ]
    },
    {
     "name": "stderr",
     "output_type": "stream",
     "text": [
      "C:\\Program Files\\Anaconda3\\lib\\site-packages\\qinfer\\smc.py:285: ApproximationWarning: Extremely small n_ess encountered (7.717664327345834). Resampling is likely to fail. Consider adding particles, or resampling more often.\n",
      "  ApproximationWarning\n"
     ]
    },
    {
     "name": "stdout",
     "output_type": "stream",
     "text": [
      "LogTotLikelihoods updated\n",
      "Total elapsed time for the learning process: 254.85981684639773\n"
     ]
    },
    {
     "name": "stderr",
     "output_type": "stream",
     "text": [
      "C:\\Program Files\\Anaconda3\\lib\\site-packages\\qinfer\\smc.py:285: ApproximationWarning: Extremely small n_ess encountered (1.0000000944413479). Resampling is likely to fail. Consider adding particles, or resampling more often.\n",
      "  ApproximationWarning\n"
     ]
    },
    {
     "name": "stdout",
     "output_type": "stream",
     "text": [
      "LogTotLikelihoods updated\n",
      "LogTotLikelihoods updated\n",
      "LogTotLikelihoods updated\n"
     ]
    },
    {
     "name": "stderr",
     "output_type": "stream",
     "text": [
      "C:\\Program Files\\Anaconda3\\lib\\site-packages\\qinfer\\smc.py:285: ApproximationWarning: Extremely small n_ess encountered (3.266050541496205). Resampling is likely to fail. Consider adding particles, or resampling more often.\n",
      "  ApproximationWarning\n"
     ]
    },
    {
     "name": "stdout",
     "output_type": "stream",
     "text": [
      "LogTotLikelihoods updated\n"
     ]
    },
    {
     "name": "stderr",
     "output_type": "stream",
     "text": [
      "C:\\Program Files\\Anaconda3\\lib\\site-packages\\qinfer\\smc.py:285: ApproximationWarning: Extremely small n_ess encountered (8.483188185660497). Resampling is likely to fail. Consider adding particles, or resampling more often.\n",
      "  ApproximationWarning\n"
     ]
    },
    {
     "name": "stdout",
     "output_type": "stream",
     "text": [
      "LogTotLikelihoods updated\n"
     ]
    },
    {
     "name": "stderr",
     "output_type": "stream",
     "text": [
      "C:\\Program Files\\Anaconda3\\lib\\site-packages\\qinfer\\smc.py:285: ApproximationWarning: Extremely small n_ess encountered (3.86312021026042). Resampling is likely to fail. Consider adding particles, or resampling more often.\n",
      "  ApproximationWarning\n"
     ]
    },
    {
     "name": "stdout",
     "output_type": "stream",
     "text": [
      "LogTotLikelihoods updated\n"
     ]
    },
    {
     "name": "stderr",
     "output_type": "stream",
     "text": [
      "C:\\Program Files\\Anaconda3\\lib\\site-packages\\qinfer\\smc.py:285: ApproximationWarning: Extremely small n_ess encountered (1.2077782123970744). Resampling is likely to fail. Consider adding particles, or resampling more often.\n",
      "  ApproximationWarning\n"
     ]
    },
    {
     "name": "stdout",
     "output_type": "stream",
     "text": [
      "LogTotLikelihoods updated\n",
      "Total elapsed time for Bayes factor update: 207.0300231673209\n",
      "[[ 0.05616258]]\n",
      "Initialization Ready\n",
      "[[ 0.6363129]]\n",
      "Initialization Ready\n",
      "[[ 0.35808985]]\n",
      "Initialization Ready\n",
      "[[ 0.95487874  0.88832146]]\n",
      "Initialization Ready\n",
      "[[ 0.4376677   0.76043236]]\n",
      "Initialization Ready\n",
      "[[ 0.8497176   0.89876961]]\n",
      "Initialization Ready\n",
      "[[ 0.49735045  0.28022414  0.67472407]]\n",
      "Initialization Ready\n",
      "Initial time selected > 0.643137970873\n",
      "Final time selected > 88.1841891711\n",
      "Final Parameters mean and stdev:[ 0.57277559  0.04745471]\n",
      "Batch single time 0 elapsed time: 15.80947575906248\n",
      "\n",
      "\n",
      "Initial time selected > 43.8423876736\n",
      "Final time selected > 5.00792724734\n",
      "Final Parameters mean and stdev:[-0.3139307   0.27272877]\n",
      "Batch single time 1 elapsed time: 15.845941282528656\n",
      "\n",
      "\n",
      "Initial time selected > 4.99050934262\n",
      "Final time selected > 5.68425637247\n",
      "Final Parameters mean and stdev:[ 0.22953877  0.07726144]\n",
      "Batch single time 2 elapsed time: 24.348977731166087\n",
      "\n",
      "\n",
      "Initial time selected > 0.410676551742\n",
      "Final time selected > 3.06421178338\n",
      "Final Parameters mean and stdev:[ 0.18915177  0.14295493]\n",
      "Final Parameters mean and stdev:[ 0.11972743  0.06117642]\n",
      "Batch single time 3 elapsed time: 15.607706527833216\n",
      "\n",
      "\n",
      "Initial time selected > 0.591594135262\n",
      "Final time selected > 39.7333335752\n",
      "Final Parameters mean and stdev:[ 0.83711943  0.04720148]\n",
      "Final Parameters mean and stdev:[ 0.65576605  0.04950666]\n",
      "Batch single time 4 elapsed time: 15.7276581671249\n",
      "\n",
      "\n",
      "Initial time selected > 1.45603620637\n",
      "Final time selected > 9.34125787157\n",
      "Final Parameters mean and stdev:[ 0.46809441  0.06620745]\n",
      "Final Parameters mean and stdev:[ 0.09127986  0.08226256]\n",
      "Batch single time 5 elapsed time: 15.637649579526624\n",
      "\n",
      "\n",
      "Initial time selected > 0.418426056609\n",
      "Final time selected > 4.62763321329\n",
      "Final Parameters mean and stdev:[ 0.55947954  0.07502015]\n",
      "Final Parameters mean and stdev:[ 0.01721335  0.04535204]\n",
      "Final Parameters mean and stdev:[ 0.40621246  0.03756226]\n",
      "Batch single time 6 elapsed time: 15.496339510184043\n",
      "\n",
      "\n"
     ]
    },
    {
     "name": "stderr",
     "output_type": "stream",
     "text": [
      "C:\\Program Files\\Anaconda3\\lib\\site-packages\\qinfer\\smc.py:285: ApproximationWarning: Extremely small n_ess encountered (3.490686371159715). Resampling is likely to fail. Consider adding particles, or resampling more often.\n",
      "  ApproximationWarning\n"
     ]
    },
    {
     "name": "stdout",
     "output_type": "stream",
     "text": [
      "LogTotLikelihoods updated\n"
     ]
    },
    {
     "name": "stderr",
     "output_type": "stream",
     "text": [
      "C:\\Program Files\\Anaconda3\\lib\\site-packages\\qinfer\\smc.py:285: ApproximationWarning: Extremely small n_ess encountered (1.001031835504742). Resampling is likely to fail. Consider adding particles, or resampling more often.\n",
      "  ApproximationWarning\n"
     ]
    },
    {
     "name": "stdout",
     "output_type": "stream",
     "text": [
      "LogTotLikelihoods updated\n"
     ]
    },
    {
     "name": "stderr",
     "output_type": "stream",
     "text": [
      "C:\\Program Files\\Anaconda3\\lib\\site-packages\\qinfer\\smc.py:285: ApproximationWarning: Extremely small n_ess encountered (1.0000000000330467). Resampling is likely to fail. Consider adding particles, or resampling more often.\n",
      "  ApproximationWarning\n"
     ]
    },
    {
     "name": "stdout",
     "output_type": "stream",
     "text": [
      "LogTotLikelihoods updated\n"
     ]
    },
    {
     "name": "stderr",
     "output_type": "stream",
     "text": [
      "C:\\Program Files\\Anaconda3\\lib\\site-packages\\qinfer\\smc.py:285: ApproximationWarning: Extremely small n_ess encountered (3.4835396087268906). Resampling is likely to fail. Consider adding particles, or resampling more often.\n",
      "  ApproximationWarning\n"
     ]
    },
    {
     "name": "stdout",
     "output_type": "stream",
     "text": [
      "LogTotLikelihoods updated\n"
     ]
    },
    {
     "name": "stderr",
     "output_type": "stream",
     "text": [
      "C:\\Program Files\\Anaconda3\\lib\\site-packages\\qinfer\\smc.py:285: ApproximationWarning: Extremely small n_ess encountered (1.094915333084256). Resampling is likely to fail. Consider adding particles, or resampling more often.\n",
      "  ApproximationWarning\n"
     ]
    },
    {
     "name": "stdout",
     "output_type": "stream",
     "text": [
      "LogTotLikelihoods updated\n"
     ]
    },
    {
     "name": "stderr",
     "output_type": "stream",
     "text": [
      "C:\\Program Files\\Anaconda3\\lib\\site-packages\\qinfer\\smc.py:285: ApproximationWarning: Extremely small n_ess encountered (2.485428179175876). Resampling is likely to fail. Consider adding particles, or resampling more often.\n",
      "  ApproximationWarning\n"
     ]
    },
    {
     "name": "stdout",
     "output_type": "stream",
     "text": [
      "LogTotLikelihoods updated\n"
     ]
    },
    {
     "name": "stderr",
     "output_type": "stream",
     "text": [
      "C:\\Program Files\\Anaconda3\\lib\\site-packages\\qinfer\\smc.py:285: ApproximationWarning: Extremely small n_ess encountered (2.900687338266308). Resampling is likely to fail. Consider adding particles, or resampling more often.\n",
      "  ApproximationWarning\n"
     ]
    },
    {
     "name": "stdout",
     "output_type": "stream",
     "text": [
      "LogTotLikelihoods updated\n",
      "Total elapsed time for the learning process: 255.21064385821228\n",
      "LogTotLikelihoods updated\n",
      "LogTotLikelihoods updated\n",
      "LogTotLikelihoods updated\n",
      "LogTotLikelihoods updated\n"
     ]
    },
    {
     "name": "stderr",
     "output_type": "stream",
     "text": [
      "C:\\Program Files\\Anaconda3\\lib\\site-packages\\qinfer\\smc.py:285: ApproximationWarning: Extremely small n_ess encountered (3.800662324712634). Resampling is likely to fail. Consider adding particles, or resampling more often.\n",
      "  ApproximationWarning\n"
     ]
    },
    {
     "name": "stdout",
     "output_type": "stream",
     "text": [
      "LogTotLikelihoods updated\n"
     ]
    },
    {
     "name": "stderr",
     "output_type": "stream",
     "text": [
      "C:\\Program Files\\Anaconda3\\lib\\site-packages\\qinfer\\smc.py:285: ApproximationWarning: Extremely small n_ess encountered (1.6980130632557782). Resampling is likely to fail. Consider adding particles, or resampling more often.\n",
      "  ApproximationWarning\n"
     ]
    },
    {
     "name": "stdout",
     "output_type": "stream",
     "text": [
      "LogTotLikelihoods updated\n"
     ]
    },
    {
     "name": "stderr",
     "output_type": "stream",
     "text": [
      "C:\\Program Files\\Anaconda3\\lib\\site-packages\\qinfer\\smc.py:285: ApproximationWarning: Extremely small n_ess encountered (5.784879638798304). Resampling is likely to fail. Consider adding particles, or resampling more often.\n",
      "  ApproximationWarning\n"
     ]
    },
    {
     "name": "stdout",
     "output_type": "stream",
     "text": [
      "LogTotLikelihoods updated\n",
      "Total elapsed time for Bayes factor update: 223.07266289129984\n",
      "[[ 0.13860223]]\n",
      "Initialization Ready\n",
      "[[ 0.38127246]]\n",
      "Initialization Ready\n",
      "[[ 0.96107043]]\n",
      "Initialization Ready\n",
      "[[ 0.54216589  0.41199505]]\n",
      "Initialization Ready\n",
      "[[ 0.19522163  0.37093472]]\n",
      "Initialization Ready\n",
      "[[ 0.09658425  0.24210468]]\n",
      "Initialization Ready\n",
      "[[ 0.3862311   0.61253497  0.27411565]]\n",
      "Initialization Ready\n",
      "Initial time selected > 0.510919867017\n",
      "Final time selected > 1.46347897931\n",
      "Final Parameters mean and stdev:[-0.25514981  0.57445533]\n",
      "Batch single time 0 elapsed time: 15.627645388351084\n",
      "\n",
      "\n",
      "Initial time selected > 1.71773689403\n",
      "Final time selected > 0.295141186166\n",
      "Final Parameters mean and stdev:[-0.43248066  1.10934138]\n",
      "Batch single time 1 elapsed time: 15.844663405099709\n",
      "\n",
      "\n",
      "Initial time selected > 0.93489612637\n",
      "Final time selected > 341.337197632\n",
      "Final Parameters mean and stdev:[ 0.93788434  0.00422381]\n",
      "Batch single time 2 elapsed time: 24.268336051307415\n",
      "\n",
      "\n",
      "Initial time selected > 1.01187868182\n",
      "Final time selected > 70.1631529697\n",
      "Final Parameters mean and stdev:[ 1.08710329  0.03254089]\n",
      "Final Parameters mean and stdev:[ 1.36611687  0.0310281 ]\n",
      "Batch single time 3 elapsed time: 16.234128994114144\n",
      "\n",
      "\n",
      "Initial time selected > 1.04863179828\n",
      "Final time selected > 10.9558117533\n",
      "Final Parameters mean and stdev:[ 1.1714231   0.09817629]\n",
      "Final Parameters mean and stdev:[ 0.78067365  0.08271876]\n",
      "Batch single time 4 elapsed time: 16.001512596361863\n",
      "\n",
      "\n",
      "Initial time selected > 1.96193008454\n",
      "Final time selected > 137.58897767\n",
      "Final Parameters mean and stdev:[-0.00063542  0.00729128]\n",
      "Final Parameters mean and stdev:[ 0.93594818  0.00744744]\n",
      "Batch single time 5 elapsed time: 15.704606052902818\n",
      "\n",
      "\n",
      "Initial time selected > 0.393590110949\n",
      "Final time selected > 29.3470096087\n",
      "Final Parameters mean and stdev:[ 0.05919052  0.0238264 ]\n",
      "Final Parameters mean and stdev:[ 0.62370868  0.01524495]\n",
      "Final Parameters mean and stdev:[ 0.84038084  0.01546463]\n",
      "Batch single time 6 elapsed time: 15.83793998213514\n",
      "\n",
      "\n"
     ]
    },
    {
     "name": "stderr",
     "output_type": "stream",
     "text": [
      "C:\\Program Files\\Anaconda3\\lib\\site-packages\\qinfer\\smc.py:285: ApproximationWarning: Extremely small n_ess encountered (1.000000000182132). Resampling is likely to fail. Consider adding particles, or resampling more often.\n",
      "  ApproximationWarning\n"
     ]
    },
    {
     "name": "stdout",
     "output_type": "stream",
     "text": [
      "LogTotLikelihoods updated\n"
     ]
    },
    {
     "name": "stderr",
     "output_type": "stream",
     "text": [
      "C:\\Program Files\\Anaconda3\\lib\\site-packages\\qinfer\\smc.py:285: ApproximationWarning: Extremely small n_ess encountered (1.599015891403309). Resampling is likely to fail. Consider adding particles, or resampling more often.\n",
      "  ApproximationWarning\n"
     ]
    },
    {
     "name": "stdout",
     "output_type": "stream",
     "text": [
      "LogTotLikelihoods updated\n",
      "LogTotLikelihoods updated\n"
     ]
    },
    {
     "name": "stderr",
     "output_type": "stream",
     "text": [
      "C:\\Program Files\\Anaconda3\\lib\\site-packages\\qinfer\\smc.py:285: ApproximationWarning: Extremely small n_ess encountered (3.7843947792863335). Resampling is likely to fail. Consider adding particles, or resampling more often.\n",
      "  ApproximationWarning\n"
     ]
    },
    {
     "name": "stdout",
     "output_type": "stream",
     "text": [
      "LogTotLikelihoods updated\n"
     ]
    },
    {
     "name": "stderr",
     "output_type": "stream",
     "text": [
      "C:\\Program Files\\Anaconda3\\lib\\site-packages\\qinfer\\smc.py:285: ApproximationWarning: Extremely small n_ess encountered (1.0206793818430808). Resampling is likely to fail. Consider adding particles, or resampling more often.\n",
      "  ApproximationWarning\n"
     ]
    },
    {
     "name": "stdout",
     "output_type": "stream",
     "text": [
      "LogTotLikelihoods updated\n",
      "LogTotLikelihoods updated\n"
     ]
    },
    {
     "name": "stderr",
     "output_type": "stream",
     "text": [
      "C:\\Program Files\\Anaconda3\\lib\\site-packages\\qinfer\\smc.py:285: ApproximationWarning: Extremely small n_ess encountered (4.516971878614515). Resampling is likely to fail. Consider adding particles, or resampling more often.\n",
      "  ApproximationWarning\n"
     ]
    },
    {
     "name": "stdout",
     "output_type": "stream",
     "text": [
      "LogTotLikelihoods updated\n",
      "Total elapsed time for the learning process: 260.2736809557173\n",
      "LogTotLikelihoods updated\n",
      "LogTotLikelihoods updated\n",
      "LogTotLikelihoods updated\n"
     ]
    },
    {
     "name": "stderr",
     "output_type": "stream",
     "text": [
      "C:\\Program Files\\Anaconda3\\lib\\site-packages\\qinfer\\smc.py:285: ApproximationWarning: Extremely small n_ess encountered (3.0564332836343135). Resampling is likely to fail. Consider adding particles, or resampling more often.\n",
      "  ApproximationWarning\n"
     ]
    },
    {
     "name": "stdout",
     "output_type": "stream",
     "text": [
      "LogTotLikelihoods updated\n"
     ]
    },
    {
     "name": "stderr",
     "output_type": "stream",
     "text": [
      "C:\\Program Files\\Anaconda3\\lib\\site-packages\\qinfer\\smc.py:285: ApproximationWarning: Extremely small n_ess encountered (4.23558990201007). Resampling is likely to fail. Consider adding particles, or resampling more often.\n",
      "  ApproximationWarning\n"
     ]
    },
    {
     "name": "stdout",
     "output_type": "stream",
     "text": [
      "LogTotLikelihoods updated\n",
      "LogTotLikelihoods updated\n"
     ]
    },
    {
     "name": "stderr",
     "output_type": "stream",
     "text": [
      "C:\\Program Files\\Anaconda3\\lib\\site-packages\\qinfer\\smc.py:285: ApproximationWarning: Extremely small n_ess encountered (1.3718940106477744). Resampling is likely to fail. Consider adding particles, or resampling more often.\n",
      "  ApproximationWarning\n"
     ]
    },
    {
     "name": "stdout",
     "output_type": "stream",
     "text": [
      "LogTotLikelihoods updated\n",
      "Total elapsed time for Bayes factor update: 216.9898163762955\n",
      "[[ 0.53042874]]\n",
      "Initialization Ready\n",
      "[[ 0.94111013]]\n",
      "Initialization Ready\n",
      "[[ 0.81511985]]\n",
      "Initialization Ready\n",
      "[[ 0.75671696  0.14425366]]\n",
      "Initialization Ready\n",
      "[[ 0.3156057   0.41586182]]\n",
      "Initialization Ready\n",
      "[[ 0.46780473  0.12051537]]\n",
      "Initialization Ready\n",
      "[[ 0.8153491   0.72433549  0.08979383]]\n",
      "Initialization Ready\n",
      "Initial time selected > 1.08624819327\n",
      "Final time selected > 49.582374241\n",
      "Final Parameters mean and stdev:[ 0.53235519  0.05899736]\n",
      "Batch single time 0 elapsed time: 16.29453022114103\n",
      "\n",
      "\n",
      "Initial time selected > 0.618363787052\n",
      "Final time selected > 95.2994914334\n",
      "Final Parameters mean and stdev:[ 0.41930141  0.01206511]\n",
      "Batch single time 1 elapsed time: 16.17013779226545\n",
      "\n",
      "\n",
      "Initial time selected > 1.64858016505\n",
      "Final time selected > 66.4221054942\n",
      "Final Parameters mean and stdev:[ 0.20308525  0.0500829 ]\n",
      "Batch single time 2 elapsed time: 25.230385740211204\n",
      "\n",
      "\n",
      "Initial time selected > 1.44994066663\n",
      "Final time selected > 78.3294953845\n",
      "Final Parameters mean and stdev:[ 0.41208736  0.01895123]\n",
      "Final Parameters mean and stdev:[ 0.55931836  0.01820809]\n",
      "Batch single time 3 elapsed time: 15.862454372159846\n",
      "\n",
      "\n",
      "Initial time selected > 0.454426974227\n",
      "Final time selected > 0.607984303033\n",
      "Final Parameters mean and stdev:[ 0.50588577  0.50646897]\n",
      "Final Parameters mean and stdev:[-0.16689123  0.12562662]\n",
      "Batch single time 4 elapsed time: 15.697393990794808\n",
      "\n",
      "\n",
      "Initial time selected > 1.10157002004\n",
      "Final time selected > 75.4246764311\n",
      "Final Parameters mean and stdev:[ 0.25420586  0.01767723]\n",
      "Final Parameters mean and stdev:[ 0.03651081  0.02217786]\n",
      "Batch single time 5 elapsed time: 15.659255639708135\n",
      "\n",
      "\n",
      "Initial time selected > 0.609845653957\n",
      "Final time selected > 1.67182310908\n",
      "Final Parameters mean and stdev:[-0.02418964  0.26236458]\n",
      "Final Parameters mean and stdev:[ 0.13786879  0.1608712 ]\n",
      "Final Parameters mean and stdev:[ 0.56716223  0.11830071]\n",
      "Batch single time 6 elapsed time: 15.357520639707218\n",
      "\n",
      "\n"
     ]
    },
    {
     "name": "stderr",
     "output_type": "stream",
     "text": [
      "C:\\Program Files\\Anaconda3\\lib\\site-packages\\qinfer\\smc.py:285: ApproximationWarning: Extremely small n_ess encountered (4.022652403708858). Resampling is likely to fail. Consider adding particles, or resampling more often.\n",
      "  ApproximationWarning\n"
     ]
    },
    {
     "name": "stdout",
     "output_type": "stream",
     "text": [
      "LogTotLikelihoods updated\n"
     ]
    },
    {
     "name": "stderr",
     "output_type": "stream",
     "text": [
      "C:\\Program Files\\Anaconda3\\lib\\site-packages\\qinfer\\smc.py:285: ApproximationWarning: Extremely small n_ess encountered (1.0042309547151327). Resampling is likely to fail. Consider adding particles, or resampling more often.\n",
      "  ApproximationWarning\n"
     ]
    },
    {
     "name": "stdout",
     "output_type": "stream",
     "text": [
      "LogTotLikelihoods updated\n"
     ]
    },
    {
     "name": "stderr",
     "output_type": "stream",
     "text": [
      "C:\\Program Files\\Anaconda3\\lib\\site-packages\\qinfer\\smc.py:285: ApproximationWarning: Extremely small n_ess encountered (5.0778908408575605). Resampling is likely to fail. Consider adding particles, or resampling more often.\n",
      "  ApproximationWarning\n"
     ]
    },
    {
     "name": "stdout",
     "output_type": "stream",
     "text": [
      "LogTotLikelihoods updated\n",
      "LogTotLikelihoods updated\n"
     ]
    },
    {
     "name": "stderr",
     "output_type": "stream",
     "text": [
      "C:\\Program Files\\Anaconda3\\lib\\site-packages\\qinfer\\smc.py:285: ApproximationWarning: Extremely small n_ess encountered (1.0047214436443477). Resampling is likely to fail. Consider adding particles, or resampling more often.\n",
      "  ApproximationWarning\n"
     ]
    },
    {
     "name": "stdout",
     "output_type": "stream",
     "text": [
      "LogTotLikelihoods updated\n",
      "LogTotLikelihoods updated\n"
     ]
    },
    {
     "name": "stderr",
     "output_type": "stream",
     "text": [
      "C:\\Program Files\\Anaconda3\\lib\\site-packages\\qinfer\\smc.py:285: ApproximationWarning: Extremely small n_ess encountered (1.0107020502625625). Resampling is likely to fail. Consider adding particles, or resampling more often.\n",
      "  ApproximationWarning\n"
     ]
    },
    {
     "name": "stdout",
     "output_type": "stream",
     "text": [
      "LogTotLikelihoods updated\n",
      "Total elapsed time for the learning process: 261.40492426424316\n"
     ]
    },
    {
     "name": "stderr",
     "output_type": "stream",
     "text": [
      "C:\\Program Files\\Anaconda3\\lib\\site-packages\\qinfer\\smc.py:285: ApproximationWarning: Extremely small n_ess encountered (1.0729867974395837). Resampling is likely to fail. Consider adding particles, or resampling more often.\n",
      "  ApproximationWarning\n"
     ]
    },
    {
     "name": "stdout",
     "output_type": "stream",
     "text": [
      "LogTotLikelihoods updated\n"
     ]
    },
    {
     "name": "stderr",
     "output_type": "stream",
     "text": [
      "C:\\Program Files\\Anaconda3\\lib\\site-packages\\qinfer\\smc.py:285: ApproximationWarning: Extremely small n_ess encountered (2.001590677762226). Resampling is likely to fail. Consider adding particles, or resampling more often.\n",
      "  ApproximationWarning\n"
     ]
    },
    {
     "name": "stdout",
     "output_type": "stream",
     "text": [
      "LogTotLikelihoods updated\n"
     ]
    },
    {
     "name": "stderr",
     "output_type": "stream",
     "text": [
      "C:\\Program Files\\Anaconda3\\lib\\site-packages\\qinfer\\smc.py:285: ApproximationWarning: Extremely small n_ess encountered (1.3385077248582276). Resampling is likely to fail. Consider adding particles, or resampling more often.\n",
      "  ApproximationWarning\n"
     ]
    },
    {
     "name": "stdout",
     "output_type": "stream",
     "text": [
      "LogTotLikelihoods updated\n"
     ]
    },
    {
     "name": "stderr",
     "output_type": "stream",
     "text": [
      "C:\\Program Files\\Anaconda3\\lib\\site-packages\\qinfer\\smc.py:285: ApproximationWarning: Extremely small n_ess encountered (5.228583674054222). Resampling is likely to fail. Consider adding particles, or resampling more often.\n",
      "  ApproximationWarning\n"
     ]
    },
    {
     "name": "stdout",
     "output_type": "stream",
     "text": [
      "LogTotLikelihoods updated\n",
      "LogTotLikelihoods updated\n"
     ]
    },
    {
     "name": "stderr",
     "output_type": "stream",
     "text": [
      "C:\\Program Files\\Anaconda3\\lib\\site-packages\\qinfer\\smc.py:285: ApproximationWarning: Extremely small n_ess encountered (1.6094799976043648). Resampling is likely to fail. Consider adding particles, or resampling more often.\n",
      "  ApproximationWarning\n"
     ]
    },
    {
     "name": "stdout",
     "output_type": "stream",
     "text": [
      "LogTotLikelihoods updated\n"
     ]
    },
    {
     "name": "stderr",
     "output_type": "stream",
     "text": [
      "C:\\Program Files\\Anaconda3\\lib\\site-packages\\qinfer\\smc.py:285: ApproximationWarning: Extremely small n_ess encountered (4.416479212544701). Resampling is likely to fail. Consider adding particles, or resampling more often.\n",
      "  ApproximationWarning\n"
     ]
    },
    {
     "name": "stdout",
     "output_type": "stream",
     "text": [
      "LogTotLikelihoods updated\n",
      "Total elapsed time for Bayes factor update: 221.10538052607808\n",
      "[[ 0.74110659]]\n",
      "Initialization Ready\n",
      "[[ 0.81109831]]\n",
      "Initialization Ready\n",
      "[[ 0.39430247]]\n",
      "Initialization Ready\n",
      "[[ 0.48391746  0.95993713]]\n",
      "Initialization Ready\n",
      "[[ 0.74734169  0.44570469]]\n",
      "Initialization Ready\n",
      "[[ 0.09705392  0.04693064]]\n",
      "Initialization Ready\n",
      "[[ 0.35962089  0.65271131  0.09213558]]\n",
      "Initialization Ready\n",
      "Initial time selected > 0.945826568389\n",
      "Final time selected > 33.4125942182\n",
      "Final Parameters mean and stdev:[ 0.44056179  0.0550401 ]\n",
      "Batch single time 0 elapsed time: 15.983216437343799\n",
      "\n",
      "\n",
      "Initial time selected > 0.485105094474\n",
      "Final time selected > 46.8835086857\n",
      "Final Parameters mean and stdev:[ 0.3005834   0.13575393]\n",
      "Batch single time 1 elapsed time: 15.939028031865746\n",
      "\n",
      "\n",
      "Initial time selected > 1.68623887914\n",
      "Final time selected > 28.9573360398\n",
      "Final Parameters mean and stdev:[-0.09280633  0.05676172]\n",
      "Batch single time 2 elapsed time: 23.9509136161505\n",
      "\n",
      "\n",
      "Initial time selected > 1.48523798251\n",
      "Final time selected > 134.481569693\n",
      "Final Parameters mean and stdev:[ 0.45549415  0.00299178]\n",
      "Final Parameters mean and stdev:[ 0.00208535  0.00301755]\n",
      "Batch single time 3 elapsed time: 15.514757166874915\n",
      "\n",
      "\n",
      "Initial time selected > 0.998601573214\n",
      "Final time selected > 39.8117759729\n",
      "Final Parameters mean and stdev:[ 0.42382358  0.01079301]\n",
      "Final Parameters mean and stdev:[-0.00663854  0.00549241]\n",
      "Batch single time 4 elapsed time: 15.462291028969048\n",
      "\n",
      "\n",
      "Initial time selected > 3.66344770319\n",
      "Final time selected > 70.4599659892\n",
      "Final Parameters mean and stdev:[-0.12408077  0.0168433 ]\n",
      "Final Parameters mean and stdev:[ 0.33256462  0.01940315]\n",
      "Batch single time 5 elapsed time: 15.41015793373299\n",
      "\n",
      "\n",
      "Initial time selected > 0.38707017932\n",
      "Final time selected > 25.7310506111\n",
      "Final Parameters mean and stdev:[ 1.03409997  0.01161722]\n",
      "Final Parameters mean and stdev:[-0.03414871  0.01175968]\n",
      "Final Parameters mean and stdev:[ 0.00354847  0.00967668]\n",
      "Batch single time 6 elapsed time: 15.452260353289603\n",
      "\n",
      "\n",
      "LogTotLikelihoods updated\n"
     ]
    },
    {
     "name": "stderr",
     "output_type": "stream",
     "text": [
      "C:\\Program Files\\Anaconda3\\lib\\site-packages\\qinfer\\smc.py:285: ApproximationWarning: Extremely small n_ess encountered (1.0001956112630845). Resampling is likely to fail. Consider adding particles, or resampling more often.\n",
      "  ApproximationWarning\n"
     ]
    },
    {
     "name": "stdout",
     "output_type": "stream",
     "text": [
      "LogTotLikelihoods updated\n",
      "LogTotLikelihoods updated\n",
      "LogTotLikelihoods updated\n",
      "LogTotLikelihoods updated\n"
     ]
    },
    {
     "name": "stderr",
     "output_type": "stream",
     "text": [
      "C:\\Program Files\\Anaconda3\\lib\\site-packages\\qinfer\\smc.py:285: ApproximationWarning: Extremely small n_ess encountered (1.0047170149416143). Resampling is likely to fail. Consider adding particles, or resampling more often.\n",
      "  ApproximationWarning\n"
     ]
    },
    {
     "name": "stdout",
     "output_type": "stream",
     "text": [
      "LogTotLikelihoods updated\n"
     ]
    },
    {
     "name": "stderr",
     "output_type": "stream",
     "text": [
      "C:\\Program Files\\Anaconda3\\lib\\site-packages\\qinfer\\smc.py:285: ApproximationWarning: Extremely small n_ess encountered (1.5084008703196723). Resampling is likely to fail. Consider adding particles, or resampling more often.\n",
      "  ApproximationWarning\n"
     ]
    },
    {
     "name": "stdout",
     "output_type": "stream",
     "text": [
      "LogTotLikelihoods updated\n",
      "Total elapsed time for the learning process: 255.75596447633143\n",
      "LogTotLikelihoods updated\n",
      "LogTotLikelihoods updated\n"
     ]
    },
    {
     "name": "stderr",
     "output_type": "stream",
     "text": [
      "C:\\Program Files\\Anaconda3\\lib\\site-packages\\qinfer\\smc.py:285: ApproximationWarning: Extremely small n_ess encountered (1.000000000000019). Resampling is likely to fail. Consider adding particles, or resampling more often.\n",
      "  ApproximationWarning\n"
     ]
    },
    {
     "name": "stdout",
     "output_type": "stream",
     "text": [
      "LogTotLikelihoods updated\n",
      "LogTotLikelihoods updated\n"
     ]
    },
    {
     "name": "stderr",
     "output_type": "stream",
     "text": [
      "C:\\Program Files\\Anaconda3\\lib\\site-packages\\qinfer\\smc.py:285: ApproximationWarning: Extremely small n_ess encountered (1.7733370435240885). Resampling is likely to fail. Consider adding particles, or resampling more often.\n",
      "  ApproximationWarning\n"
     ]
    },
    {
     "name": "stdout",
     "output_type": "stream",
     "text": [
      "LogTotLikelihoods updated\n",
      "LogTotLikelihoods updated\n"
     ]
    },
    {
     "name": "stderr",
     "output_type": "stream",
     "text": [
      "C:\\Program Files\\Anaconda3\\lib\\site-packages\\qinfer\\smc.py:285: ApproximationWarning: Extremely small n_ess encountered (9.667740781269215). Resampling is likely to fail. Consider adding particles, or resampling more often.\n",
      "  ApproximationWarning\n"
     ]
    },
    {
     "name": "stdout",
     "output_type": "stream",
     "text": [
      "LogTotLikelihoods updated\n",
      "Total elapsed time for Bayes factor update: 204.7974332540798\n",
      "[[ 0.74455504]]\n",
      "Initialization Ready\n",
      "[[ 0.21146592]]\n",
      "Initialization Ready\n",
      "[[ 0.78604825]]\n",
      "Initialization Ready\n",
      "[[ 0.10433901  0.88129877]]\n",
      "Initialization Ready\n",
      "[[ 0.89192885  0.83542029]]\n",
      "Initialization Ready\n",
      "[[ 0.21585833  0.40872307]]\n",
      "Initialization Ready\n",
      "[[ 0.77912687  0.04406489  0.40028839]]\n",
      "Initialization Ready\n",
      "Initial time selected > 2.1073497241\n",
      "Final time selected > 9.56110348439\n",
      "Final Parameters mean and stdev:[ 0.48454103  0.18103456]\n",
      "Batch single time 0 elapsed time: 15.839727024194872\n",
      "\n",
      "\n",
      "Initial time selected > 1.97730724003\n",
      "Final time selected > 179.027484194\n",
      "Final Parameters mean and stdev:[ 0.29325919  0.0156167 ]\n",
      "Batch single time 1 elapsed time: 15.555888929276989\n",
      "\n",
      "\n",
      "Initial time selected > 4.64791258829\n",
      "Final time selected > 869.534514001\n",
      "Exiting learning for Reaching Cov. Norm. Thrshold of 7.73487200328e-07\n",
      " at Iteration Number 72\n",
      "Final Parameters mean and stdev:[ 0.11482377  0.00169065]\n",
      "Batch single time 2 elapsed time: 17.445227061602054\n",
      "\n",
      "\n",
      "Initial time selected > 0.532372991195\n",
      "Final time selected > 1.38953500818\n",
      "Final Parameters mean and stdev:[-0.21094146  0.10769135]\n",
      "Final Parameters mean and stdev:[ 0.09945135  0.03846675]\n",
      "Batch single time 3 elapsed time: 15.593262871305342\n",
      "\n",
      "\n",
      "Initial time selected > 0.765808764701\n",
      "Final time selected > 1.00755325197\n",
      "Final Parameters mean and stdev:[ 0.94310335  0.36918021]\n",
      "Final Parameters mean and stdev:[-0.31910246  0.1027433 ]\n",
      "Batch single time 4 elapsed time: 15.491407433008135\n",
      "\n",
      "\n",
      "Initial time selected > 0.454145664704\n",
      "Final time selected > 23.5882070878\n",
      "Final Parameters mean and stdev:[ 0.58926066  0.0238732 ]\n",
      "Final Parameters mean and stdev:[ 0.22835431  0.01617254]\n",
      "Batch single time 5 elapsed time: 15.613683087722166\n",
      "\n",
      "\n",
      "Initial time selected > 0.595933298615\n",
      "Final time selected > 5.81545815482\n",
      "Final Parameters mean and stdev:[ 0.90016865  0.06481424]\n",
      "Final Parameters mean and stdev:[ 0.30058147  0.02535941]\n",
      "Final Parameters mean and stdev:[ 0.41671009  0.01829081]\n",
      "Batch single time 6 elapsed time: 15.307313299130328\n",
      "\n",
      "\n"
     ]
    },
    {
     "name": "stderr",
     "output_type": "stream",
     "text": [
      "C:\\Program Files\\Anaconda3\\lib\\site-packages\\qinfer\\smc.py:285: ApproximationWarning: Extremely small n_ess encountered (1.7979418244320151). Resampling is likely to fail. Consider adding particles, or resampling more often.\n",
      "  ApproximationWarning\n"
     ]
    },
    {
     "name": "stdout",
     "output_type": "stream",
     "text": [
      "LogTotLikelihoods updated\n"
     ]
    },
    {
     "name": "stderr",
     "output_type": "stream",
     "text": [
      "C:\\Program Files\\Anaconda3\\lib\\site-packages\\qinfer\\smc.py:285: ApproximationWarning: Extremely small n_ess encountered (2.25649824949452). Resampling is likely to fail. Consider adding particles, or resampling more often.\n",
      "  ApproximationWarning\n"
     ]
    },
    {
     "name": "stdout",
     "output_type": "stream",
     "text": [
      "LogTotLikelihoods updated\n"
     ]
    },
    {
     "name": "stderr",
     "output_type": "stream",
     "text": [
      "C:\\Program Files\\Anaconda3\\lib\\site-packages\\qinfer\\smc.py:285: ApproximationWarning: Extremely small n_ess encountered (1.0000000819171126). Resampling is likely to fail. Consider adding particles, or resampling more often.\n",
      "  ApproximationWarning\n"
     ]
    },
    {
     "name": "stdout",
     "output_type": "stream",
     "text": [
      "LogTotLikelihoods updated\n"
     ]
    },
    {
     "name": "stderr",
     "output_type": "stream",
     "text": [
      "C:\\Program Files\\Anaconda3\\lib\\site-packages\\qinfer\\smc.py:285: ApproximationWarning: Extremely small n_ess encountered (4.546055004533819). Resampling is likely to fail. Consider adding particles, or resampling more often.\n",
      "  ApproximationWarning\n"
     ]
    },
    {
     "name": "stdout",
     "output_type": "stream",
     "text": [
      "LogTotLikelihoods updated\n"
     ]
    },
    {
     "name": "stderr",
     "output_type": "stream",
     "text": [
      "C:\\Program Files\\Anaconda3\\lib\\site-packages\\qinfer\\smc.py:285: ApproximationWarning: Extremely small n_ess encountered (4.3758190070680465). Resampling is likely to fail. Consider adding particles, or resampling more often.\n",
      "  ApproximationWarning\n"
     ]
    },
    {
     "name": "stdout",
     "output_type": "stream",
     "text": [
      "LogTotLikelihoods updated\n"
     ]
    },
    {
     "name": "stderr",
     "output_type": "stream",
     "text": [
      "C:\\Program Files\\Anaconda3\\lib\\site-packages\\qinfer\\smc.py:285: ApproximationWarning: Extremely small n_ess encountered (1.1100998399644268). Resampling is likely to fail. Consider adding particles, or resampling more often.\n",
      "  ApproximationWarning\n"
     ]
    },
    {
     "name": "stdout",
     "output_type": "stream",
     "text": [
      "LogTotLikelihoods updated\n"
     ]
    },
    {
     "name": "stderr",
     "output_type": "stream",
     "text": [
      "C:\\Program Files\\Anaconda3\\lib\\site-packages\\qinfer\\smc.py:285: ApproximationWarning: Extremely small n_ess encountered (3.3615936375873177). Resampling is likely to fail. Consider adding particles, or resampling more often.\n",
      "  ApproximationWarning\n"
     ]
    },
    {
     "name": "stdout",
     "output_type": "stream",
     "text": [
      "LogTotLikelihoods updated\n",
      "Total elapsed time for the learning process: 247.63317005635326\n",
      "LogTotLikelihoods updated\n"
     ]
    },
    {
     "name": "stderr",
     "output_type": "stream",
     "text": [
      "C:\\Program Files\\Anaconda3\\lib\\site-packages\\qinfer\\smc.py:285: ApproximationWarning: Extremely small n_ess encountered (1.819487958023981). Resampling is likely to fail. Consider adding particles, or resampling more often.\n",
      "  ApproximationWarning\n"
     ]
    },
    {
     "name": "stdout",
     "output_type": "stream",
     "text": [
      "LogTotLikelihoods updated\n",
      "LogTotLikelihoods updated\n"
     ]
    },
    {
     "name": "stderr",
     "output_type": "stream",
     "text": [
      "C:\\Program Files\\Anaconda3\\lib\\site-packages\\qinfer\\smc.py:285: ApproximationWarning: Extremely small n_ess encountered (3.8844324719329646). Resampling is likely to fail. Consider adding particles, or resampling more often.\n",
      "  ApproximationWarning\n"
     ]
    },
    {
     "name": "stdout",
     "output_type": "stream",
     "text": [
      "LogTotLikelihoods updated\n"
     ]
    },
    {
     "name": "stderr",
     "output_type": "stream",
     "text": [
      "C:\\Program Files\\Anaconda3\\lib\\site-packages\\qinfer\\smc.py:285: ApproximationWarning: Extremely small n_ess encountered (1.0660918520838802). Resampling is likely to fail. Consider adding particles, or resampling more often.\n",
      "  ApproximationWarning\n"
     ]
    },
    {
     "name": "stdout",
     "output_type": "stream",
     "text": [
      "LogTotLikelihoods updated\n",
      "LogTotLikelihoods updated\n"
     ]
    },
    {
     "name": "stderr",
     "output_type": "stream",
     "text": [
      "C:\\Program Files\\Anaconda3\\lib\\site-packages\\qinfer\\smc.py:285: ApproximationWarning: Extremely small n_ess encountered (2.488574487253855). Resampling is likely to fail. Consider adding particles, or resampling more often.\n",
      "  ApproximationWarning\n"
     ]
    },
    {
     "name": "stdout",
     "output_type": "stream",
     "text": [
      "LogTotLikelihoods updated\n",
      "Total elapsed time for Bayes factor update: 210.89976210292298\n",
      "[[ 0.13163097]]\n",
      "Initialization Ready\n",
      "[[ 0.46791444]]\n",
      "Initialization Ready\n",
      "[[ 0.50434631]]\n",
      "Initialization Ready\n",
      "[[ 0.96904393  0.83820926]]\n",
      "Initialization Ready\n",
      "[[ 0.06198751  0.5772463 ]]\n",
      "Initialization Ready\n",
      "[[ 0.45102372  0.40507497]]\n",
      "Initialization Ready\n",
      "[[ 0.14300744  0.54035183  0.77826939]]\n",
      "Initialization Ready\n",
      "Initial time selected > 0.889896374524\n",
      "Final time selected > 106.175977569\n",
      "Final Parameters mean and stdev:[-0.50102022  0.00187297]\n",
      "Batch single time 0 elapsed time: 15.914486826273787\n",
      "\n",
      "\n",
      "Initial time selected > 1.08565628396\n",
      "Final time selected > 85.7668655625\n",
      "Final Parameters mean and stdev:[ 0.04790239  0.01544476]\n",
      "Batch single time 1 elapsed time: 15.745936780160264\n",
      "\n",
      "\n",
      "Initial time selected > 4.02544603747\n",
      "Final time selected > 114.772023425\n",
      "Final Parameters mean and stdev:[ 0.37097915  0.01065061]\n",
      "Batch single time 2 elapsed time: 24.38619375932467\n",
      "\n",
      "\n",
      "Initial time selected > 0.551672843632\n",
      "Final time selected > 4.40141153572\n",
      "Final Parameters mean and stdev:[ 0.46213939  0.1416568 ]\n",
      "Final Parameters mean and stdev:[ 0.02657508  0.20878695]\n",
      "Batch single time 3 elapsed time: 15.677025419168785\n",
      "\n",
      "\n",
      "Initial time selected > 0.578574459814\n",
      "Final time selected > 11.5407019686\n",
      "Final Parameters mean and stdev:[-0.20160989  0.03559903]\n",
      "Final Parameters mean and stdev:[ 0.26979683  0.06792137]\n",
      "Batch single time 4 elapsed time: 15.665408321565337\n",
      "\n",
      "\n",
      "Initial time selected > 1.16093877568\n",
      "Final time selected > 351.025361192\n",
      "Final Parameters mean and stdev:[  2.15469542e-05   3.20068914e-03]\n",
      "Final Parameters mean and stdev:[ 0.39546637  0.00475248]\n",
      "Batch single time 5 elapsed time: 15.746416811834933\n",
      "\n",
      "\n",
      "Initial time selected > 0.392246626895\n",
      "Final time selected > 8.35916920943\n",
      "Final Parameters mean and stdev:[ 0.44491532  0.08535101]\n",
      "Final Parameters mean and stdev:[-0.14846695  0.12964343]\n",
      "Final Parameters mean and stdev:[ 0.25125686  0.06622034]\n",
      "Batch single time 6 elapsed time: 15.447653704486584\n",
      "\n",
      "\n"
     ]
    },
    {
     "name": "stderr",
     "output_type": "stream",
     "text": [
      "C:\\Program Files\\Anaconda3\\lib\\site-packages\\qinfer\\smc.py:285: ApproximationWarning: Extremely small n_ess encountered (1.0000364129759256). Resampling is likely to fail. Consider adding particles, or resampling more often.\n",
      "  ApproximationWarning\n"
     ]
    },
    {
     "name": "stdout",
     "output_type": "stream",
     "text": [
      "LogTotLikelihoods updated\n"
     ]
    },
    {
     "name": "stderr",
     "output_type": "stream",
     "text": [
      "C:\\Program Files\\Anaconda3\\lib\\site-packages\\qinfer\\smc.py:285: ApproximationWarning: Extremely small n_ess encountered (1.268938785398201). Resampling is likely to fail. Consider adding particles, or resampling more often.\n",
      "  ApproximationWarning\n"
     ]
    },
    {
     "name": "stdout",
     "output_type": "stream",
     "text": [
      "LogTotLikelihoods updated\n"
     ]
    },
    {
     "name": "stderr",
     "output_type": "stream",
     "text": [
      "C:\\Program Files\\Anaconda3\\lib\\site-packages\\qinfer\\smc.py:285: ApproximationWarning: Extremely small n_ess encountered (3.2881404294893253). Resampling is likely to fail. Consider adding particles, or resampling more often.\n",
      "  ApproximationWarning\n"
     ]
    },
    {
     "name": "stdout",
     "output_type": "stream",
     "text": [
      "LogTotLikelihoods updated\n"
     ]
    },
    {
     "name": "stderr",
     "output_type": "stream",
     "text": [
      "C:\\Program Files\\Anaconda3\\lib\\site-packages\\qinfer\\smc.py:285: ApproximationWarning: Extremely small n_ess encountered (4.758754335264363). Resampling is likely to fail. Consider adding particles, or resampling more often.\n",
      "  ApproximationWarning\n"
     ]
    },
    {
     "name": "stdout",
     "output_type": "stream",
     "text": [
      "LogTotLikelihoods updated\n"
     ]
    },
    {
     "name": "stderr",
     "output_type": "stream",
     "text": [
      "C:\\Program Files\\Anaconda3\\lib\\site-packages\\qinfer\\smc.py:285: ApproximationWarning: Extremely small n_ess encountered (1.0006807473703012). Resampling is likely to fail. Consider adding particles, or resampling more often.\n",
      "  ApproximationWarning\n"
     ]
    },
    {
     "name": "stdout",
     "output_type": "stream",
     "text": [
      "LogTotLikelihoods updated\n",
      "LogTotLikelihoods updated\n"
     ]
    },
    {
     "name": "stderr",
     "output_type": "stream",
     "text": [
      "C:\\Program Files\\Anaconda3\\lib\\site-packages\\qinfer\\smc.py:285: ApproximationWarning: Extremely small n_ess encountered (1.1714196931669398). Resampling is likely to fail. Consider adding particles, or resampling more often.\n",
      "  ApproximationWarning\n"
     ]
    },
    {
     "name": "stdout",
     "output_type": "stream",
     "text": [
      "LogTotLikelihoods updated\n",
      "Total elapsed time for the learning process: 257.9282643974766\n",
      "LogTotLikelihoods updated\n",
      "LogTotLikelihoods updated\n",
      "LogTotLikelihoods updated\n"
     ]
    },
    {
     "name": "stderr",
     "output_type": "stream",
     "text": [
      "C:\\Program Files\\Anaconda3\\lib\\site-packages\\qinfer\\smc.py:285: ApproximationWarning: Extremely small n_ess encountered (9.844173844455495). Resampling is likely to fail. Consider adding particles, or resampling more often.\n",
      "  ApproximationWarning\n"
     ]
    },
    {
     "name": "stdout",
     "output_type": "stream",
     "text": [
      "LogTotLikelihoods updated\n",
      "LogTotLikelihoods updated\n"
     ]
    },
    {
     "name": "stderr",
     "output_type": "stream",
     "text": [
      "C:\\Program Files\\Anaconda3\\lib\\site-packages\\qinfer\\smc.py:285: ApproximationWarning: Extremely small n_ess encountered (9.577733163613086). Resampling is likely to fail. Consider adding particles, or resampling more often.\n",
      "  ApproximationWarning\n"
     ]
    },
    {
     "name": "stdout",
     "output_type": "stream",
     "text": [
      "LogTotLikelihoods updated\n"
     ]
    },
    {
     "name": "stderr",
     "output_type": "stream",
     "text": [
      "C:\\Program Files\\Anaconda3\\lib\\site-packages\\qinfer\\smc.py:285: ApproximationWarning: Extremely small n_ess encountered (5.093753493004395). Resampling is likely to fail. Consider adding particles, or resampling more often.\n",
      "  ApproximationWarning\n"
     ]
    },
    {
     "name": "stdout",
     "output_type": "stream",
     "text": [
      "LogTotLikelihoods updated\n",
      "Total elapsed time for Bayes factor update: 220.11647091306077\n",
      "[[ 0.73198613]]\n",
      "Initialization Ready\n",
      "[[ 0.74220014]]\n",
      "Initialization Ready\n",
      "[[ 0.17799471]]\n",
      "Initialization Ready\n",
      "[[ 0.03497238  0.43052924]]\n",
      "Initialization Ready\n",
      "[[ 0.33483545  0.42970257]]\n",
      "Initialization Ready\n",
      "[[ 0.44349017  0.78484746]]\n",
      "Initialization Ready\n",
      "[[ 0.71312381  0.322519    0.87020569]]\n",
      "Initialization Ready\n",
      "Initial time selected > 0.393236964418\n",
      "Final time selected > 114733.385641\n",
      "Final Parameters mean and stdev:[ 0.38478555  0.00120554]\n",
      "Batch single time 0 elapsed time: 15.755489079445397\n",
      "\n",
      "\n",
      "Initial time selected > 0.462071338765\n",
      "Final time selected > 9.63633587457\n",
      "Final Parameters mean and stdev:[ 1.09201257  0.03276851]\n",
      "Batch single time 1 elapsed time: 15.533125496171124\n",
      "\n",
      "\n",
      "Initial time selected > 2.06278195225\n",
      "Final time selected > 1562.10813028\n",
      "Final Parameters mean and stdev:[ 0.12255775  0.0031056 ]\n",
      "Batch single time 2 elapsed time: 23.94081010807713\n",
      "\n",
      "\n",
      "Initial time selected > 0.776198650484\n",
      "Final time selected > 14.8984041895\n",
      "Final Parameters mean and stdev:[ 0.42062375  0.04009648]\n",
      "Final Parameters mean and stdev:[-0.01868721  0.02376426]\n",
      "Batch single time 3 elapsed time: 15.480797408756189\n",
      "\n",
      "\n",
      "Initial time selected > 0.350902309692\n",
      "Final time selected > 3.00061234679\n",
      "Final Parameters mean and stdev:[ 0.67801838  0.09177103]\n",
      "Final Parameters mean and stdev:[ 0.02187544  0.08695222]\n",
      "Batch single time 4 elapsed time: 15.575335840090702\n",
      "\n",
      "\n",
      "Initial time selected > 0.447391358589\n",
      "Final time selected > 11.1766267287\n",
      "Final Parameters mean and stdev:[-0.12748947  0.01368185]\n",
      "Final Parameters mean and stdev:[-0.17983641  0.01243365]\n",
      "Batch single time 5 elapsed time: 15.499501098111068\n",
      "\n",
      "\n",
      "Initial time selected > 0.454976406879\n",
      "Final time selected > 4.15091234988\n",
      "Final Parameters mean and stdev:[ 0.82305534  0.07470644]\n",
      "Final Parameters mean and stdev:[ 2.37045989  0.09768361]\n",
      "Final Parameters mean and stdev:[ 0.21977238  0.08164468]\n",
      "Batch single time 6 elapsed time: 15.40401352828485\n",
      "\n",
      "\n",
      "LogTotLikelihoods updated\n"
     ]
    },
    {
     "name": "stderr",
     "output_type": "stream",
     "text": [
      "C:\\Program Files\\Anaconda3\\lib\\site-packages\\qinfer\\smc.py:285: ApproximationWarning: Extremely small n_ess encountered (6.375621009818286). Resampling is likely to fail. Consider adding particles, or resampling more often.\n",
      "  ApproximationWarning\n"
     ]
    },
    {
     "name": "stdout",
     "output_type": "stream",
     "text": [
      "LogTotLikelihoods updated\n"
     ]
    },
    {
     "name": "stderr",
     "output_type": "stream",
     "text": [
      "C:\\Program Files\\Anaconda3\\lib\\site-packages\\qinfer\\smc.py:285: ApproximationWarning: Extremely small n_ess encountered (1.5253273534003278). Resampling is likely to fail. Consider adding particles, or resampling more often.\n",
      "  ApproximationWarning\n"
     ]
    },
    {
     "name": "stdout",
     "output_type": "stream",
     "text": [
      "LogTotLikelihoods updated\n"
     ]
    },
    {
     "name": "stderr",
     "output_type": "stream",
     "text": [
      "C:\\Program Files\\Anaconda3\\lib\\site-packages\\qinfer\\smc.py:285: ApproximationWarning: Extremely small n_ess encountered (3.0087119879752287). Resampling is likely to fail. Consider adding particles, or resampling more often.\n",
      "  ApproximationWarning\n"
     ]
    },
    {
     "name": "stdout",
     "output_type": "stream",
     "text": [
      "LogTotLikelihoods updated\n"
     ]
    },
    {
     "name": "stderr",
     "output_type": "stream",
     "text": [
      "C:\\Program Files\\Anaconda3\\lib\\site-packages\\qinfer\\smc.py:285: ApproximationWarning: Extremely small n_ess encountered (2.7205835714586213). Resampling is likely to fail. Consider adding particles, or resampling more often.\n",
      "  ApproximationWarning\n"
     ]
    },
    {
     "name": "stdout",
     "output_type": "stream",
     "text": [
      "LogTotLikelihoods updated\n"
     ]
    },
    {
     "name": "stderr",
     "output_type": "stream",
     "text": [
      "C:\\Program Files\\Anaconda3\\lib\\site-packages\\qinfer\\smc.py:285: ApproximationWarning: Extremely small n_ess encountered (1.4742883208632214). Resampling is likely to fail. Consider adding particles, or resampling more often.\n",
      "  ApproximationWarning\n"
     ]
    },
    {
     "name": "stdout",
     "output_type": "stream",
     "text": [
      "LogTotLikelihoods updated\n"
     ]
    },
    {
     "name": "stderr",
     "output_type": "stream",
     "text": [
      "C:\\Program Files\\Anaconda3\\lib\\site-packages\\qinfer\\smc.py:285: ApproximationWarning: Extremely small n_ess encountered (1.6963189388872877). Resampling is likely to fail. Consider adding particles, or resampling more often.\n",
      "  ApproximationWarning\n"
     ]
    },
    {
     "name": "stdout",
     "output_type": "stream",
     "text": [
      "LogTotLikelihoods updated\n",
      "Total elapsed time for the learning process: 255.11886345714083\n",
      "LogTotLikelihoods updated\n"
     ]
    },
    {
     "name": "stderr",
     "output_type": "stream",
     "text": [
      "C:\\Program Files\\Anaconda3\\lib\\site-packages\\qinfer\\smc.py:285: ApproximationWarning: Extremely small n_ess encountered (1.1396518840709184). Resampling is likely to fail. Consider adding particles, or resampling more often.\n",
      "  ApproximationWarning\n"
     ]
    },
    {
     "name": "stdout",
     "output_type": "stream",
     "text": [
      "LogTotLikelihoods updated\n",
      "LogTotLikelihoods updated\n"
     ]
    },
    {
     "name": "stderr",
     "output_type": "stream",
     "text": [
      "C:\\Program Files\\Anaconda3\\lib\\site-packages\\qinfer\\smc.py:285: ApproximationWarning: Extremely small n_ess encountered (1.3189910842808408). Resampling is likely to fail. Consider adding particles, or resampling more often.\n",
      "  ApproximationWarning\n"
     ]
    },
    {
     "name": "stdout",
     "output_type": "stream",
     "text": [
      "LogTotLikelihoods updated\n"
     ]
    },
    {
     "name": "stderr",
     "output_type": "stream",
     "text": [
      "C:\\Program Files\\Anaconda3\\lib\\site-packages\\qinfer\\smc.py:285: ApproximationWarning: Extremely small n_ess encountered (2.4156462379829335). Resampling is likely to fail. Consider adding particles, or resampling more often.\n",
      "  ApproximationWarning\n"
     ]
    },
    {
     "name": "stdout",
     "output_type": "stream",
     "text": [
      "LogTotLikelihoods updated\n"
     ]
    },
    {
     "name": "stderr",
     "output_type": "stream",
     "text": [
      "C:\\Program Files\\Anaconda3\\lib\\site-packages\\qinfer\\smc.py:285: ApproximationWarning: Extremely small n_ess encountered (1.0209861705001855). Resampling is likely to fail. Consider adding particles, or resampling more often.\n",
      "  ApproximationWarning\n"
     ]
    },
    {
     "name": "stdout",
     "output_type": "stream",
     "text": [
      "LogTotLikelihoods updated\n"
     ]
    },
    {
     "name": "stderr",
     "output_type": "stream",
     "text": [
      "C:\\Program Files\\Anaconda3\\lib\\site-packages\\qinfer\\smc.py:285: ApproximationWarning: Extremely small n_ess encountered (1.5294047660019152). Resampling is likely to fail. Consider adding particles, or resampling more often.\n",
      "  ApproximationWarning\n"
     ]
    },
    {
     "name": "stdout",
     "output_type": "stream",
     "text": [
      "LogTotLikelihoods updated\n",
      "Total elapsed time for Bayes factor update: 208.51918041047247\n",
      "[[ 0.11849431]]\n",
      "Initialization Ready\n",
      "[[ 0.25845056]]\n",
      "Initialization Ready\n",
      "[[ 0.42003048]]\n",
      "Initialization Ready\n",
      "[[ 0.93931503  0.23547596]]\n",
      "Initialization Ready\n",
      "[[ 0.57594683  0.62390808]]\n",
      "Initialization Ready\n",
      "[[ 0.14292414  0.66641193]]\n",
      "Initialization Ready\n",
      "[[ 0.88897759  0.43261111  0.70411267]]\n",
      "Initialization Ready\n",
      "Initial time selected > 7.56614534859\n",
      "Final time selected > 12.3399016491\n",
      "Final Parameters mean and stdev:[ 0.39718032  0.1174233 ]\n",
      "Batch single time 0 elapsed time: 15.813721556467499\n",
      "\n",
      "\n",
      "Initial time selected > 0.40649474943\n",
      "Final time selected > 46.0845509808\n",
      "Final Parameters mean and stdev:[ 0.38502539  0.00776609]\n",
      "Batch single time 1 elapsed time: 15.89577287416978\n",
      "\n",
      "\n",
      "Initial time selected > 0.406454772015\n",
      "Final time selected > 65.2535843915\n",
      "Final Parameters mean and stdev:[-0.20361593  0.02864366]\n",
      "Batch single time 2 elapsed time: 23.309169200903852\n",
      "\n",
      "\n",
      "Initial time selected > 0.520269249812\n",
      "Final time selected > 27.8044496274\n",
      "Final Parameters mean and stdev:[ 0.28824548  0.0534963 ]\n",
      "Final Parameters mean and stdev:[ 0.46708359  0.04499617]\n",
      "Batch single time 3 elapsed time: 15.796387778194912\n",
      "\n",
      "\n",
      "Initial time selected > 0.669479172121\n",
      "Final time selected > 4.24198743176\n",
      "Final Parameters mean and stdev:[ 1.23512643  0.10450052]\n",
      "Final Parameters mean and stdev:[-0.25672653  0.11495518]\n",
      "Batch single time 4 elapsed time: 15.709526543105312\n",
      "\n",
      "\n",
      "Initial time selected > 0.552626707744\n",
      "Final time selected > 13.4401606663\n",
      "Final Parameters mean and stdev:[ 0.56928142  0.02612693]\n",
      "Final Parameters mean and stdev:[ 0.33684812  0.02480409]\n",
      "Batch single time 5 elapsed time: 15.573602760214271\n",
      "\n",
      "\n",
      "Initial time selected > 0.470722196461\n",
      "Final time selected > 5.35247896786\n",
      "Final Parameters mean and stdev:[ 0.26099566  0.05369948]\n",
      "Final Parameters mean and stdev:[ 0.46023514  0.0472467 ]\n",
      "Final Parameters mean and stdev:[ 0.03302258  0.04402089]\n",
      "Batch single time 6 elapsed time: 15.616069341733237\n",
      "\n",
      "\n"
     ]
    },
    {
     "name": "stderr",
     "output_type": "stream",
     "text": [
      "C:\\Program Files\\Anaconda3\\lib\\site-packages\\qinfer\\smc.py:285: ApproximationWarning: Extremely small n_ess encountered (1.0667623414261949). Resampling is likely to fail. Consider adding particles, or resampling more often.\n",
      "  ApproximationWarning\n"
     ]
    },
    {
     "name": "stdout",
     "output_type": "stream",
     "text": [
      "LogTotLikelihoods updated\n"
     ]
    },
    {
     "name": "stderr",
     "output_type": "stream",
     "text": [
      "C:\\Program Files\\Anaconda3\\lib\\site-packages\\qinfer\\smc.py:285: ApproximationWarning: Extremely small n_ess encountered (2.2950821520676628). Resampling is likely to fail. Consider adding particles, or resampling more often.\n",
      "  ApproximationWarning\n"
     ]
    },
    {
     "name": "stdout",
     "output_type": "stream",
     "text": [
      "LogTotLikelihoods updated\n"
     ]
    },
    {
     "name": "stderr",
     "output_type": "stream",
     "text": [
      "C:\\Program Files\\Anaconda3\\lib\\site-packages\\qinfer\\smc.py:285: ApproximationWarning: Extremely small n_ess encountered (1.0068255488996185). Resampling is likely to fail. Consider adding particles, or resampling more often.\n",
      "  ApproximationWarning\n"
     ]
    },
    {
     "name": "stdout",
     "output_type": "stream",
     "text": [
      "LogTotLikelihoods updated\n"
     ]
    },
    {
     "name": "stderr",
     "output_type": "stream",
     "text": [
      "C:\\Program Files\\Anaconda3\\lib\\site-packages\\qinfer\\smc.py:285: ApproximationWarning: Extremely small n_ess encountered (5.425671449224309). Resampling is likely to fail. Consider adding particles, or resampling more often.\n",
      "  ApproximationWarning\n"
     ]
    },
    {
     "name": "stdout",
     "output_type": "stream",
     "text": [
      "LogTotLikelihoods updated\n"
     ]
    },
    {
     "name": "stderr",
     "output_type": "stream",
     "text": [
      "C:\\Program Files\\Anaconda3\\lib\\site-packages\\qinfer\\smc.py:285: ApproximationWarning: Extremely small n_ess encountered (1.0079960877911023). Resampling is likely to fail. Consider adding particles, or resampling more often.\n",
      "  ApproximationWarning\n"
     ]
    },
    {
     "name": "stdout",
     "output_type": "stream",
     "text": [
      "LogTotLikelihoods updated\n"
     ]
    },
    {
     "name": "stderr",
     "output_type": "stream",
     "text": [
      "C:\\Program Files\\Anaconda3\\lib\\site-packages\\qinfer\\smc.py:285: ApproximationWarning: Extremely small n_ess encountered (4.882388080001568). Resampling is likely to fail. Consider adding particles, or resampling more often.\n",
      "  ApproximationWarning\n"
     ]
    },
    {
     "name": "stdout",
     "output_type": "stream",
     "text": [
      "LogTotLikelihoods updated\n"
     ]
    },
    {
     "name": "stderr",
     "output_type": "stream",
     "text": [
      "C:\\Program Files\\Anaconda3\\lib\\site-packages\\qinfer\\smc.py:285: ApproximationWarning: Extremely small n_ess encountered (2.1007902354291126). Resampling is likely to fail. Consider adding particles, or resampling more often.\n",
      "  ApproximationWarning\n"
     ]
    },
    {
     "name": "stdout",
     "output_type": "stream",
     "text": [
      "LogTotLikelihoods updated\n",
      "Total elapsed time for the learning process: 256.2593088073554\n",
      "LogTotLikelihoods updated\n",
      "LogTotLikelihoods updated\n",
      "LogTotLikelihoods updated\n"
     ]
    },
    {
     "name": "stderr",
     "output_type": "stream",
     "text": [
      "C:\\Program Files\\Anaconda3\\lib\\site-packages\\qinfer\\smc.py:285: ApproximationWarning: Extremely small n_ess encountered (2.8151102989336496). Resampling is likely to fail. Consider adding particles, or resampling more often.\n",
      "  ApproximationWarning\n"
     ]
    },
    {
     "name": "stdout",
     "output_type": "stream",
     "text": [
      "LogTotLikelihoods updated\n"
     ]
    },
    {
     "name": "stderr",
     "output_type": "stream",
     "text": [
      "C:\\Program Files\\Anaconda3\\lib\\site-packages\\qinfer\\smc.py:285: ApproximationWarning: Extremely small n_ess encountered (6.224928016699816). Resampling is likely to fail. Consider adding particles, or resampling more often.\n",
      "  ApproximationWarning\n"
     ]
    },
    {
     "name": "stdout",
     "output_type": "stream",
     "text": [
      "LogTotLikelihoods updated\n"
     ]
    },
    {
     "name": "stderr",
     "output_type": "stream",
     "text": [
      "C:\\Program Files\\Anaconda3\\lib\\site-packages\\qinfer\\smc.py:285: ApproximationWarning: Extremely small n_ess encountered (1.6100754183529817). Resampling is likely to fail. Consider adding particles, or resampling more often.\n",
      "  ApproximationWarning\n"
     ]
    },
    {
     "name": "stdout",
     "output_type": "stream",
     "text": [
      "LogTotLikelihoods updated\n"
     ]
    },
    {
     "name": "stderr",
     "output_type": "stream",
     "text": [
      "C:\\Program Files\\Anaconda3\\lib\\site-packages\\qinfer\\smc.py:285: ApproximationWarning: Extremely small n_ess encountered (1.000550736905318). Resampling is likely to fail. Consider adding particles, or resampling more often.\n",
      "  ApproximationWarning\n"
     ]
    },
    {
     "name": "stdout",
     "output_type": "stream",
     "text": [
      "LogTotLikelihoods updated\n",
      "Total elapsed time for Bayes factor update: 217.0022210569041\n",
      "[[ 0.73000488]]\n",
      "Initialization Ready\n",
      "[[ 0.71070048]]\n",
      "Initialization Ready\n",
      "[[ 0.38236695]]\n",
      "Initialization Ready\n",
      "[[ 0.58548016  0.73272457]]\n",
      "Initialization Ready\n",
      "[[ 0.71201315  0.2114177 ]]\n",
      "Initialization Ready\n",
      "[[ 0.10139741  0.21446951]]\n",
      "Initialization Ready\n",
      "[[ 0.67797932  0.23477425  0.40923604]]\n",
      "Initialization Ready\n",
      "Initial time selected > 0.903747824929\n",
      "Final time selected > 62.5605418325\n",
      "Final Parameters mean and stdev:[ 2.01295522  0.3354173 ]\n",
      "Batch single time 0 elapsed time: 16.00392864544483\n",
      "\n",
      "\n",
      "Initial time selected > 0.646385326886\n",
      "Final time selected > 24.9415188544\n",
      "Final Parameters mean and stdev:[ 0.82582932  0.02487363]\n",
      "Batch single time 1 elapsed time: 15.94933282218335\n",
      "\n",
      "\n",
      "Initial time selected > 6.84674627035\n",
      "Final time selected > 3.54585832055\n",
      "Final Parameters mean and stdev:[ 0.86757875  0.1865596 ]\n",
      "Batch single time 2 elapsed time: 23.84568239647706\n",
      "\n",
      "\n",
      "Initial time selected > 2.54741344114\n",
      "Final time selected > 1.3042712038\n",
      "Final Parameters mean and stdev:[ 0.27401354  0.21768874]\n",
      "Final Parameters mean and stdev:[ 0.34027546  0.34047592]\n",
      "Batch single time 3 elapsed time: 15.502516359149013\n",
      "\n",
      "\n",
      "Initial time selected > 0.974171117465\n",
      "Final time selected > 5.78616780699\n",
      "Final Parameters mean and stdev:[ 0.2602533   0.18149492]\n",
      "Final Parameters mean and stdev:[ 0.74663496  0.19616242]\n",
      "Batch single time 4 elapsed time: 15.611456733917294\n",
      "\n",
      "\n",
      "Initial time selected > 1.21941940594\n",
      "Final time selected > 143.991788631\n",
      "Final Parameters mean and stdev:[ 0.41826461  0.00505805]\n",
      "Final Parameters mean and stdev:[ 0.65254906  0.00418093]\n",
      "Batch single time 5 elapsed time: 15.606626953151135\n",
      "\n",
      "\n",
      "Initial time selected > 0.551455693734\n",
      "Final time selected > 4.77543876997\n",
      "Final Parameters mean and stdev:[-0.05110379  0.10499154]\n",
      "Final Parameters mean and stdev:[ 0.5049963  0.0950939]\n",
      "Final Parameters mean and stdev:[ 0.3667926   0.08416637]\n",
      "Batch single time 6 elapsed time: 15.327226337252796\n",
      "\n",
      "\n"
     ]
    },
    {
     "name": "stderr",
     "output_type": "stream",
     "text": [
      "C:\\Program Files\\Anaconda3\\lib\\site-packages\\qinfer\\smc.py:285: ApproximationWarning: Extremely small n_ess encountered (3.3578264713541532). Resampling is likely to fail. Consider adding particles, or resampling more often.\n",
      "  ApproximationWarning\n"
     ]
    },
    {
     "name": "stdout",
     "output_type": "stream",
     "text": [
      "LogTotLikelihoods updated\n",
      "LogTotLikelihoods updated\n"
     ]
    },
    {
     "name": "stderr",
     "output_type": "stream",
     "text": [
      "C:\\Program Files\\Anaconda3\\lib\\site-packages\\qinfer\\smc.py:285: ApproximationWarning: Extremely small n_ess encountered (1.9010011001271288). Resampling is likely to fail. Consider adding particles, or resampling more often.\n",
      "  ApproximationWarning\n"
     ]
    },
    {
     "name": "stdout",
     "output_type": "stream",
     "text": [
      "LogTotLikelihoods updated\n"
     ]
    },
    {
     "name": "stderr",
     "output_type": "stream",
     "text": [
      "C:\\Program Files\\Anaconda3\\lib\\site-packages\\qinfer\\smc.py:285: ApproximationWarning: Extremely small n_ess encountered (2.097455046345306). Resampling is likely to fail. Consider adding particles, or resampling more often.\n",
      "  ApproximationWarning\n"
     ]
    },
    {
     "name": "stdout",
     "output_type": "stream",
     "text": [
      "LogTotLikelihoods updated\n"
     ]
    },
    {
     "name": "stderr",
     "output_type": "stream",
     "text": [
      "C:\\Program Files\\Anaconda3\\lib\\site-packages\\qinfer\\smc.py:285: ApproximationWarning: Extremely small n_ess encountered (1.3534453679716882). Resampling is likely to fail. Consider adding particles, or resampling more often.\n",
      "  ApproximationWarning\n"
     ]
    },
    {
     "name": "stdout",
     "output_type": "stream",
     "text": [
      "LogTotLikelihoods updated\n",
      "LogTotLikelihoods updated\n"
     ]
    },
    {
     "name": "stderr",
     "output_type": "stream",
     "text": [
      "C:\\Program Files\\Anaconda3\\lib\\site-packages\\qinfer\\smc.py:285: ApproximationWarning: Extremely small n_ess encountered (1.00176785140309). Resampling is likely to fail. Consider adding particles, or resampling more often.\n",
      "  ApproximationWarning\n"
     ]
    },
    {
     "name": "stdout",
     "output_type": "stream",
     "text": [
      "LogTotLikelihoods updated\n",
      "Total elapsed time for the learning process: 259.959968337771\n"
     ]
    },
    {
     "name": "stderr",
     "output_type": "stream",
     "text": [
      "C:\\Program Files\\Anaconda3\\lib\\site-packages\\qinfer\\smc.py:285: ApproximationWarning: Extremely small n_ess encountered (8.66116708551656). Resampling is likely to fail. Consider adding particles, or resampling more often.\n",
      "  ApproximationWarning\n"
     ]
    },
    {
     "name": "stdout",
     "output_type": "stream",
     "text": [
      "LogTotLikelihoods updated\n"
     ]
    },
    {
     "name": "stderr",
     "output_type": "stream",
     "text": [
      "C:\\Program Files\\Anaconda3\\lib\\site-packages\\qinfer\\smc.py:285: ApproximationWarning: Extremely small n_ess encountered (1.2108382523280652). Resampling is likely to fail. Consider adding particles, or resampling more often.\n",
      "  ApproximationWarning\n"
     ]
    },
    {
     "name": "stdout",
     "output_type": "stream",
     "text": [
      "LogTotLikelihoods updated\n"
     ]
    },
    {
     "name": "stderr",
     "output_type": "stream",
     "text": [
      "C:\\Program Files\\Anaconda3\\lib\\site-packages\\qinfer\\smc.py:285: ApproximationWarning: Extremely small n_ess encountered (5.196797155996689). Resampling is likely to fail. Consider adding particles, or resampling more often.\n",
      "  ApproximationWarning\n"
     ]
    },
    {
     "name": "stdout",
     "output_type": "stream",
     "text": [
      "LogTotLikelihoods updated\n"
     ]
    },
    {
     "name": "stderr",
     "output_type": "stream",
     "text": [
      "C:\\Program Files\\Anaconda3\\lib\\site-packages\\qinfer\\smc.py:285: ApproximationWarning: Extremely small n_ess encountered (6.8652720390373965). Resampling is likely to fail. Consider adding particles, or resampling more often.\n",
      "  ApproximationWarning\n"
     ]
    },
    {
     "name": "stdout",
     "output_type": "stream",
     "text": [
      "LogTotLikelihoods updated\n"
     ]
    },
    {
     "name": "stderr",
     "output_type": "stream",
     "text": [
      "C:\\Program Files\\Anaconda3\\lib\\site-packages\\qinfer\\smc.py:285: ApproximationWarning: Extremely small n_ess encountered (1.458803067219933). Resampling is likely to fail. Consider adding particles, or resampling more often.\n",
      "  ApproximationWarning\n"
     ]
    },
    {
     "name": "stdout",
     "output_type": "stream",
     "text": [
      "LogTotLikelihoods updated\n",
      "LogTotLikelihoods updated\n",
      "LogTotLikelihoods updated\n",
      "Total elapsed time for Bayes factor update: 223.6938811520995\n",
      "[[ 0.7128657]]\n",
      "Initialization Ready\n",
      "[[ 0.64561587]]\n",
      "Initialization Ready\n",
      "[[ 0.65767916]]\n",
      "Initialization Ready\n",
      "[[ 0.67358181  0.33152831]]\n",
      "Initialization Ready\n",
      "[[ 0.4185777   0.36208547]]\n",
      "Initialization Ready\n",
      "[[ 0.21229554  0.18999008]]\n",
      "Initialization Ready\n",
      "[[ 0.16172347  0.00756789  0.19144742]]\n",
      "Initialization Ready\n",
      "Initial time selected > 0.769386974701\n",
      "Final time selected > 207.339135033\n",
      "Final Parameters mean and stdev:[ 0.59651235  0.01483293]\n",
      "Batch single time 0 elapsed time: 15.864058340070187\n",
      "\n",
      "\n",
      "Initial time selected > 0.807444060368\n",
      "Final time selected > 366.778161754\n",
      "Final Parameters mean and stdev:[ 0.23108333  0.00184669]\n",
      "Batch single time 1 elapsed time: 15.619644419020915\n",
      "\n",
      "\n",
      "Initial time selected > 0.702159905697\n",
      "Final time selected > 208.685074655\n",
      "Exiting learning for Reaching Cov. Norm. Thrshold of 9.76153881227e-07\n",
      " at Iteration Number 93\n",
      "Final Parameters mean and stdev:[-0.42191916  0.0021994 ]\n",
      "Batch single time 2 elapsed time: 22.390318721169024\n",
      "\n",
      "\n",
      "Initial time selected > 0.726605409915\n",
      "Final time selected > 149.486872943\n",
      "Final Parameters mean and stdev:[ 1.27351629  0.00877688]\n",
      "Final Parameters mean and stdev:[-0.10633161  0.00952646]\n",
      "Batch single time 3 elapsed time: 15.500799169974925\n",
      "\n",
      "\n",
      "Initial time selected > 1.06227510092\n",
      "Final time selected > 24.175335936\n",
      "Final Parameters mean and stdev:[ 0.5682413   0.01626698]\n",
      "Final Parameters mean and stdev:[-0.01383647  0.00993798]\n",
      "Batch single time 4 elapsed time: 15.449681093439722\n",
      "\n",
      "\n",
      "Initial time selected > 0.481648655146\n",
      "Final time selected > 7.56233452366\n",
      "Final Parameters mean and stdev:[ 0.09490201  0.02571828]\n",
      "Final Parameters mean and stdev:[ 0.30228313  0.06401739]\n",
      "Batch single time 5 elapsed time: 15.525273171129811\n",
      "\n",
      "\n",
      "Initial time selected > 0.356085342947\n",
      "Final time selected > 3.69236454805\n",
      "Final Parameters mean and stdev:[ 0.1758068   0.14631197]\n",
      "Final Parameters mean and stdev:[-0.1074662   0.24062794]\n",
      "Final Parameters mean and stdev:[ 0.23992105  0.1687129 ]\n",
      "Batch single time 6 elapsed time: 15.480117419057933\n",
      "\n",
      "\n",
      "LogTotLikelihoods updated\n"
     ]
    },
    {
     "name": "stderr",
     "output_type": "stream",
     "text": [
      "C:\\Program Files\\Anaconda3\\lib\\site-packages\\qinfer\\smc.py:285: ApproximationWarning: Extremely small n_ess encountered (2.1382610130685324). Resampling is likely to fail. Consider adding particles, or resampling more often.\n",
      "  ApproximationWarning\n"
     ]
    },
    {
     "name": "stdout",
     "output_type": "stream",
     "text": [
      "LogTotLikelihoods updated\n",
      "LogTotLikelihoods updated\n"
     ]
    },
    {
     "name": "stderr",
     "output_type": "stream",
     "text": [
      "C:\\Program Files\\Anaconda3\\lib\\site-packages\\qinfer\\smc.py:285: ApproximationWarning: Extremely small n_ess encountered (3.2076559462416165). Resampling is likely to fail. Consider adding particles, or resampling more often.\n",
      "  ApproximationWarning\n"
     ]
    },
    {
     "name": "stdout",
     "output_type": "stream",
     "text": [
      "LogTotLikelihoods updated\n"
     ]
    },
    {
     "name": "stderr",
     "output_type": "stream",
     "text": [
      "C:\\Program Files\\Anaconda3\\lib\\site-packages\\qinfer\\smc.py:285: ApproximationWarning: Extremely small n_ess encountered (1.000525111138643). Resampling is likely to fail. Consider adding particles, or resampling more often.\n",
      "  ApproximationWarning\n"
     ]
    },
    {
     "name": "stdout",
     "output_type": "stream",
     "text": [
      "LogTotLikelihoods updated\n"
     ]
    },
    {
     "name": "stderr",
     "output_type": "stream",
     "text": [
      "C:\\Program Files\\Anaconda3\\lib\\site-packages\\qinfer\\smc.py:285: ApproximationWarning: Extremely small n_ess encountered (1.4101657354252557). Resampling is likely to fail. Consider adding particles, or resampling more often.\n",
      "  ApproximationWarning\n"
     ]
    },
    {
     "name": "stdout",
     "output_type": "stream",
     "text": [
      "LogTotLikelihoods updated\n",
      "LogTotLikelihoods updated\n",
      "Total elapsed time for the learning process: 252.95232888195096\n",
      "LogTotLikelihoods updated\n"
     ]
    },
    {
     "name": "stderr",
     "output_type": "stream",
     "text": [
      "C:\\Program Files\\Anaconda3\\lib\\site-packages\\qinfer\\smc.py:285: ApproximationWarning: Extremely small n_ess encountered (6.797681457075252). Resampling is likely to fail. Consider adding particles, or resampling more often.\n",
      "  ApproximationWarning\n"
     ]
    },
    {
     "name": "stdout",
     "output_type": "stream",
     "text": [
      "LogTotLikelihoods updated\n"
     ]
    },
    {
     "name": "stderr",
     "output_type": "stream",
     "text": [
      "C:\\Program Files\\Anaconda3\\lib\\site-packages\\qinfer\\smc.py:285: ApproximationWarning: Extremely small n_ess encountered (2.46360429259675). Resampling is likely to fail. Consider adding particles, or resampling more often.\n",
      "  ApproximationWarning\n"
     ]
    },
    {
     "name": "stdout",
     "output_type": "stream",
     "text": [
      "LogTotLikelihoods updated\n"
     ]
    },
    {
     "name": "stderr",
     "output_type": "stream",
     "text": [
      "C:\\Program Files\\Anaconda3\\lib\\site-packages\\qinfer\\smc.py:285: ApproximationWarning: Extremely small n_ess encountered (3.4148452563862004). Resampling is likely to fail. Consider adding particles, or resampling more often.\n",
      "  ApproximationWarning\n"
     ]
    },
    {
     "name": "stdout",
     "output_type": "stream",
     "text": [
      "LogTotLikelihoods updated\n",
      "LogTotLikelihoods updated\n"
     ]
    },
    {
     "name": "stderr",
     "output_type": "stream",
     "text": [
      "C:\\Program Files\\Anaconda3\\lib\\site-packages\\qinfer\\smc.py:285: ApproximationWarning: Extremely small n_ess encountered (4.279635086621255). Resampling is likely to fail. Consider adding particles, or resampling more often.\n",
      "  ApproximationWarning\n"
     ]
    },
    {
     "name": "stdout",
     "output_type": "stream",
     "text": [
      "LogTotLikelihoods updated\n",
      "LogTotLikelihoods updated\n",
      "Total elapsed time for Bayes factor update: 206.20171228954132\n",
      "[[ 0.95701452]]\n",
      "Initialization Ready\n",
      "[[ 0.9437965]]\n",
      "Initialization Ready\n",
      "[[ 0.99875539]]\n",
      "Initialization Ready\n",
      "[[ 0.5199886   0.49251018]]\n",
      "Initialization Ready\n",
      "[[ 0.23658173  0.25784027]]\n",
      "Initialization Ready\n",
      "[[ 0.03748407  0.72493467]]\n",
      "Initialization Ready\n",
      "[[ 0.47649202  0.86542019  0.84173943]]\n",
      "Initialization Ready\n",
      "Initial time selected > 0.630314796219\n",
      "Final time selected > 391.615513619\n",
      "Final Parameters mean and stdev:[-0.45414792  0.0097803 ]\n",
      "Batch single time 0 elapsed time: 15.615260902181035\n",
      "\n",
      "\n",
      "Initial time selected > 6.45251214012\n",
      "Final time selected > 4.12228947591\n",
      "Final Parameters mean and stdev:[ 0.43574744  0.20127374]\n",
      "Batch single time 1 elapsed time: 15.459211211949878\n",
      "\n",
      "\n",
      "Initial time selected > 0.497602192856\n",
      "Final time selected > 1698.19957699\n",
      "Final Parameters mean and stdev:[ 0.55676793  0.00166741]\n",
      "Batch single time 2 elapsed time: 23.935696612035827\n",
      "\n",
      "\n",
      "Initial time selected > 0.761612307666\n",
      "Final time selected > 3.06739685932\n",
      "Final Parameters mean and stdev:[ 1.2391024   0.22150547]\n",
      "Final Parameters mean and stdev:[-0.01083443  0.08490295]\n",
      "Batch single time 3 elapsed time: 15.604782307287678\n",
      "\n",
      "\n",
      "Initial time selected > 0.461039891574\n",
      "Final time selected > 35.5997160176\n",
      "Final Parameters mean and stdev:[ 0.08542399  0.02095138]\n",
      "Final Parameters mean and stdev:[ 0.57482182  0.01529114]\n",
      "Batch single time 4 elapsed time: 15.608505035695998\n",
      "\n",
      "\n",
      "Initial time selected > 0.483781136499\n",
      "Final time selected > 43.6003425085\n",
      "Final Parameters mean and stdev:[-0.00676473  0.00675084]\n",
      "Final Parameters mean and stdev:[ 0.55663837  0.00655046]\n",
      "Batch single time 5 elapsed time: 15.327929831946676\n",
      "\n",
      "\n",
      "Initial time selected > 0.630598814667\n",
      "Final time selected > 4.11510937931\n",
      "Final Parameters mean and stdev:[-0.01051605  0.05884381]\n",
      "Final Parameters mean and stdev:[-0.08805276  0.07076037]\n",
      "Final Parameters mean and stdev:[ 0.4430196   0.04185143]\n",
      "Batch single time 6 elapsed time: 15.466909926857625\n",
      "\n",
      "\n",
      "LogTotLikelihoods updated\n"
     ]
    },
    {
     "name": "stderr",
     "output_type": "stream",
     "text": [
      "C:\\Program Files\\Anaconda3\\lib\\site-packages\\qinfer\\smc.py:285: ApproximationWarning: Extremely small n_ess encountered (1.0002999300663518). Resampling is likely to fail. Consider adding particles, or resampling more often.\n",
      "  ApproximationWarning\n"
     ]
    },
    {
     "name": "stdout",
     "output_type": "stream",
     "text": [
      "LogTotLikelihoods updated\n",
      "LogTotLikelihoods updated\n"
     ]
    },
    {
     "name": "stderr",
     "output_type": "stream",
     "text": [
      "C:\\Program Files\\Anaconda3\\lib\\site-packages\\qinfer\\smc.py:285: ApproximationWarning: Extremely small n_ess encountered (1.0497608052925658). Resampling is likely to fail. Consider adding particles, or resampling more often.\n",
      "  ApproximationWarning\n"
     ]
    },
    {
     "name": "stdout",
     "output_type": "stream",
     "text": [
      "LogTotLikelihoods updated\n"
     ]
    },
    {
     "name": "stderr",
     "output_type": "stream",
     "text": [
      "C:\\Program Files\\Anaconda3\\lib\\site-packages\\qinfer\\smc.py:285: ApproximationWarning: Extremely small n_ess encountered (2.409277239853793). Resampling is likely to fail. Consider adding particles, or resampling more often.\n",
      "  ApproximationWarning\n"
     ]
    },
    {
     "name": "stdout",
     "output_type": "stream",
     "text": [
      "LogTotLikelihoods updated\n"
     ]
    },
    {
     "name": "stderr",
     "output_type": "stream",
     "text": [
      "C:\\Program Files\\Anaconda3\\lib\\site-packages\\qinfer\\smc.py:285: ApproximationWarning: Extremely small n_ess encountered (5.257444427745881). Resampling is likely to fail. Consider adding particles, or resampling more often.\n",
      "  ApproximationWarning\n"
     ]
    },
    {
     "name": "stdout",
     "output_type": "stream",
     "text": [
      "LogTotLikelihoods updated\n"
     ]
    },
    {
     "name": "stderr",
     "output_type": "stream",
     "text": [
      "C:\\Program Files\\Anaconda3\\lib\\site-packages\\qinfer\\smc.py:285: ApproximationWarning: Extremely small n_ess encountered (1.0016224285644502). Resampling is likely to fail. Consider adding particles, or resampling more often.\n",
      "  ApproximationWarning\n"
     ]
    },
    {
     "name": "stdout",
     "output_type": "stream",
     "text": [
      "LogTotLikelihoods updated\n",
      "Total elapsed time for the learning process: 255.0933539117941\n"
     ]
    },
    {
     "name": "stderr",
     "output_type": "stream",
     "text": [
      "C:\\Program Files\\Anaconda3\\lib\\site-packages\\qinfer\\smc.py:285: ApproximationWarning: Extremely small n_ess encountered (1.5230618924250905). Resampling is likely to fail. Consider adding particles, or resampling more often.\n",
      "  ApproximationWarning\n"
     ]
    },
    {
     "name": "stdout",
     "output_type": "stream",
     "text": [
      "LogTotLikelihoods updated\n",
      "LogTotLikelihoods updated\n",
      "LogTotLikelihoods updated\n"
     ]
    },
    {
     "name": "stderr",
     "output_type": "stream",
     "text": [
      "C:\\Program Files\\Anaconda3\\lib\\site-packages\\qinfer\\smc.py:285: ApproximationWarning: Extremely small n_ess encountered (1.395348057575961). Resampling is likely to fail. Consider adding particles, or resampling more often.\n",
      "  ApproximationWarning\n"
     ]
    },
    {
     "name": "stdout",
     "output_type": "stream",
     "text": [
      "LogTotLikelihoods updated\n"
     ]
    },
    {
     "name": "stderr",
     "output_type": "stream",
     "text": [
      "C:\\Program Files\\Anaconda3\\lib\\site-packages\\qinfer\\smc.py:285: ApproximationWarning: Extremely small n_ess encountered (2.8279746715311442). Resampling is likely to fail. Consider adding particles, or resampling more often.\n",
      "  ApproximationWarning\n"
     ]
    },
    {
     "name": "stdout",
     "output_type": "stream",
     "text": [
      "LogTotLikelihoods updated\n",
      "LogTotLikelihoods updated\n",
      "LogTotLikelihoods updated\n",
      "Total elapsed time for Bayes factor update: 212.79098096624875\n",
      "[[ 0.84677249]]\n",
      "Initialization Ready\n",
      "[[ 0.86071006]]\n",
      "Initialization Ready\n",
      "[[ 0.81851103]]\n",
      "Initialization Ready\n",
      "[[ 0.13589854  0.99962695]]\n",
      "Initialization Ready\n",
      "[[ 0.52784061  0.30022794]]\n",
      "Initialization Ready\n",
      "[[ 0.14610679  0.28585782]]\n",
      "Initialization Ready\n",
      "[[ 0.66313447  0.62174123  0.11726445]]\n",
      "Initialization Ready\n",
      "Initial time selected > 14.9326939498\n",
      "Final time selected > 5.71486798975\n",
      "Final Parameters mean and stdev:[ 1.40696965  0.12393577]\n",
      "Batch single time 0 elapsed time: 15.654270924580487\n",
      "\n",
      "\n",
      "Initial time selected > 1.11294757414\n",
      "Final time selected > 2692.87396949\n",
      "Exiting learning for Reaching Cov. Norm. Thrshold of 3.05642825105e-07\n",
      " at Iteration Number 51\n",
      "Final Parameters mean and stdev:[  5.71758627e-01   5.52849731e-04]\n",
      "Batch single time 1 elapsed time: 8.196838147225208\n",
      "\n",
      "\n",
      "Initial time selected > 1.01008296746\n",
      "Final time selected > 16.7442814587\n",
      "Final Parameters mean and stdev:[-0.37256114  0.17615191]\n",
      "Batch single time 2 elapsed time: 23.61040364373912\n",
      "\n",
      "\n",
      "Initial time selected > 1.03251801314\n",
      "Final time selected > 88.7070325693\n",
      "Final Parameters mean and stdev:[ 0.07134832  0.01658182]\n",
      "Final Parameters mean and stdev:[ 0.42604004  0.01529152]\n",
      "Batch single time 3 elapsed time: 15.581600750039797\n",
      "\n",
      "\n",
      "Initial time selected > 0.454334227845\n",
      "Final time selected > 8.57476636446\n",
      "Final Parameters mean and stdev:[ 0.03292277  0.20897489]\n",
      "Final Parameters mean and stdev:[-0.55198563  0.09848512]\n",
      "Batch single time 4 elapsed time: 15.715069419202337\n",
      "\n",
      "\n",
      "Initial time selected > 0.876662098913\n",
      "Final time selected > 67.2622849359\n",
      "Final Parameters mean and stdev:[ 0.5707523   0.00531835]\n",
      "Final Parameters mean and stdev:[-0.00410577  0.0051145 ]\n",
      "Batch single time 5 elapsed time: 15.550388428389851\n",
      "\n",
      "\n",
      "Initial time selected > 0.510296741567\n",
      "Final time selected > 4.33228872065\n",
      "Final Parameters mean and stdev:[ 0.92308143  0.24553625]\n",
      "Final Parameters mean and stdev:[ 0.2121837   0.31111657]\n",
      "Final Parameters mean and stdev:[ 0.25660221  0.16684743]\n",
      "Batch single time 6 elapsed time: 15.667194701509288\n",
      "\n",
      "\n"
     ]
    },
    {
     "name": "stderr",
     "output_type": "stream",
     "text": [
      "C:\\Program Files\\Anaconda3\\lib\\site-packages\\qinfer\\smc.py:285: ApproximationWarning: Extremely small n_ess encountered (1.0364964009128845). Resampling is likely to fail. Consider adding particles, or resampling more often.\n",
      "  ApproximationWarning\n"
     ]
    },
    {
     "name": "stdout",
     "output_type": "stream",
     "text": [
      "LogTotLikelihoods updated\n",
      "LogTotLikelihoods updated\n"
     ]
    },
    {
     "name": "stderr",
     "output_type": "stream",
     "text": [
      "C:\\Program Files\\Anaconda3\\lib\\site-packages\\qinfer\\smc.py:285: ApproximationWarning: Extremely small n_ess encountered (1.000000649370217). Resampling is likely to fail. Consider adding particles, or resampling more often.\n",
      "  ApproximationWarning\n"
     ]
    },
    {
     "name": "stdout",
     "output_type": "stream",
     "text": [
      "LogTotLikelihoods updated\n"
     ]
    },
    {
     "name": "stderr",
     "output_type": "stream",
     "text": [
      "C:\\Program Files\\Anaconda3\\lib\\site-packages\\qinfer\\smc.py:285: ApproximationWarning: Extremely small n_ess encountered (2.8233504741319724). Resampling is likely to fail. Consider adding particles, or resampling more often.\n",
      "  ApproximationWarning\n"
     ]
    },
    {
     "name": "stdout",
     "output_type": "stream",
     "text": [
      "LogTotLikelihoods updated\n"
     ]
    },
    {
     "name": "stderr",
     "output_type": "stream",
     "text": [
      "C:\\Program Files\\Anaconda3\\lib\\site-packages\\qinfer\\smc.py:285: ApproximationWarning: Extremely small n_ess encountered (1.2147985646927282). Resampling is likely to fail. Consider adding particles, or resampling more often.\n",
      "  ApproximationWarning\n"
     ]
    },
    {
     "name": "stdout",
     "output_type": "stream",
     "text": [
      "LogTotLikelihoods updated\n",
      "LogTotLikelihoods updated\n"
     ]
    },
    {
     "name": "stderr",
     "output_type": "stream",
     "text": [
      "C:\\Program Files\\Anaconda3\\lib\\site-packages\\qinfer\\smc.py:285: ApproximationWarning: Extremely small n_ess encountered (2.5913120173100244). Resampling is likely to fail. Consider adding particles, or resampling more often.\n",
      "  ApproximationWarning\n"
     ]
    },
    {
     "name": "stdout",
     "output_type": "stream",
     "text": [
      "LogTotLikelihoods updated\n",
      "Total elapsed time for the learning process: 250.1933991340884\n",
      "LogTotLikelihoods updated\n",
      "LogTotLikelihoods updated\n",
      "LogTotLikelihoods updated\n",
      "LogTotLikelihoods updated\n",
      "LogTotLikelihoods updated\n"
     ]
    },
    {
     "name": "stderr",
     "output_type": "stream",
     "text": [
      "C:\\Program Files\\Anaconda3\\lib\\site-packages\\qinfer\\smc.py:285: ApproximationWarning: Extremely small n_ess encountered (4.982242227650607). Resampling is likely to fail. Consider adding particles, or resampling more often.\n",
      "  ApproximationWarning\n"
     ]
    },
    {
     "name": "stdout",
     "output_type": "stream",
     "text": [
      "LogTotLikelihoods updated\n"
     ]
    },
    {
     "name": "stderr",
     "output_type": "stream",
     "text": [
      "C:\\Program Files\\Anaconda3\\lib\\site-packages\\qinfer\\smc.py:285: ApproximationWarning: Extremely small n_ess encountered (1.4387064887380727). Resampling is likely to fail. Consider adding particles, or resampling more often.\n",
      "  ApproximationWarning\n"
     ]
    },
    {
     "name": "stdout",
     "output_type": "stream",
     "text": [
      "LogTotLikelihoods updated\n",
      "Total elapsed time for Bayes factor update: 221.8838598122129\n",
      "[[ 0.22188765]]\n",
      "Initialization Ready\n",
      "[[ 0.95648421]]\n",
      "Initialization Ready\n",
      "[[ 0.42159063]]\n",
      "Initialization Ready\n",
      "[[ 0.08814556  0.56533942]]\n",
      "Initialization Ready\n",
      "[[ 0.32299728  0.07130878]]\n",
      "Initialization Ready\n",
      "[[ 0.160829    0.97432479]]\n",
      "Initialization Ready\n",
      "[[ 0.0028262   0.46556357  0.87766976]]\n",
      "Initialization Ready\n",
      "Initial time selected > 0.53726514046\n",
      "Final time selected > 50.6283994626\n",
      "Final Parameters mean and stdev:[-0.34226417  0.02016372]\n",
      "Batch single time 0 elapsed time: 15.74656843563207\n",
      "\n",
      "\n",
      "Initial time selected > 0.512865378208\n",
      "Final time selected > 196.804821607\n",
      "Final Parameters mean and stdev:[ 0.32600143  0.00742658]\n",
      "Batch single time 1 elapsed time: 15.57658822618032\n",
      "\n",
      "\n",
      "Initial time selected > 1.77238663956\n",
      "Final time selected > 216.502146737\n",
      "Final Parameters mean and stdev:[ 0.04566742  0.00442047]\n",
      "Batch single time 2 elapsed time: 23.76511752168517\n",
      "\n",
      "\n",
      "Initial time selected > 1.3514102846\n",
      "Final time selected > 15.6899266765\n",
      "Final Parameters mean and stdev:[ 0.58976912  0.08551386]\n",
      "Final Parameters mean and stdev:[ 0.63123406  0.16852855]\n",
      "Batch single time 3 elapsed time: 15.447270341257536\n",
      "\n",
      "\n",
      "Initial time selected > 1.17190268426\n",
      "Final time selected > 0.941913961704\n",
      "Final Parameters mean and stdev:[ 0.66025065  0.32207752]\n",
      "Final Parameters mean and stdev:[ 0.63876891  0.17549519]\n",
      "Batch single time 4 elapsed time: 15.549772001504607\n",
      "\n",
      "\n",
      "Initial time selected > 0.50453851421\n",
      "Final time selected > 11.5829776819\n",
      "Final Parameters mean and stdev:[ 0.40973852  0.13306405]\n",
      "Final Parameters mean and stdev:[ 1.18284575  0.1381454 ]\n",
      "Batch single time 5 elapsed time: 15.524092624262266\n",
      "\n",
      "\n",
      "Initial time selected > 0.421136802099\n",
      "Final time selected > 59.123168323\n",
      "Final Parameters mean and stdev:[ 0.72948296  0.03080493]\n",
      "Final Parameters mean and stdev:[ 0.51463726  0.02037942]\n",
      "Final Parameters mean and stdev:[ 0.30235605  0.01847842]\n",
      "Batch single time 6 elapsed time: 15.391748222395108\n",
      "\n",
      "\n"
     ]
    },
    {
     "name": "stderr",
     "output_type": "stream",
     "text": [
      "C:\\Program Files\\Anaconda3\\lib\\site-packages\\qinfer\\smc.py:285: ApproximationWarning: Extremely small n_ess encountered (1.775029905564874). Resampling is likely to fail. Consider adding particles, or resampling more often.\n",
      "  ApproximationWarning\n"
     ]
    },
    {
     "name": "stdout",
     "output_type": "stream",
     "text": [
      "LogTotLikelihoods updated\n"
     ]
    },
    {
     "name": "stderr",
     "output_type": "stream",
     "text": [
      "C:\\Program Files\\Anaconda3\\lib\\site-packages\\qinfer\\smc.py:285: ApproximationWarning: Extremely small n_ess encountered (3.0341419476315266). Resampling is likely to fail. Consider adding particles, or resampling more often.\n",
      "  ApproximationWarning\n"
     ]
    },
    {
     "name": "stdout",
     "output_type": "stream",
     "text": [
      "LogTotLikelihoods updated\n"
     ]
    },
    {
     "name": "stderr",
     "output_type": "stream",
     "text": [
      "C:\\Program Files\\Anaconda3\\lib\\site-packages\\qinfer\\smc.py:285: ApproximationWarning: Extremely small n_ess encountered (1.6064217626937105). Resampling is likely to fail. Consider adding particles, or resampling more often.\n",
      "  ApproximationWarning\n"
     ]
    },
    {
     "name": "stdout",
     "output_type": "stream",
     "text": [
      "LogTotLikelihoods updated\n"
     ]
    },
    {
     "name": "stderr",
     "output_type": "stream",
     "text": [
      "C:\\Program Files\\Anaconda3\\lib\\site-packages\\qinfer\\smc.py:285: ApproximationWarning: Extremely small n_ess encountered (2.0131217466173217). Resampling is likely to fail. Consider adding particles, or resampling more often.\n",
      "  ApproximationWarning\n"
     ]
    },
    {
     "name": "stdout",
     "output_type": "stream",
     "text": [
      "LogTotLikelihoods updated\n"
     ]
    },
    {
     "name": "stderr",
     "output_type": "stream",
     "text": [
      "C:\\Program Files\\Anaconda3\\lib\\site-packages\\qinfer\\smc.py:285: ApproximationWarning: Extremely small n_ess encountered (1.019951740207915). Resampling is likely to fail. Consider adding particles, or resampling more often.\n",
      "  ApproximationWarning\n"
     ]
    },
    {
     "name": "stdout",
     "output_type": "stream",
     "text": [
      "LogTotLikelihoods updated\n"
     ]
    },
    {
     "name": "stderr",
     "output_type": "stream",
     "text": [
      "C:\\Program Files\\Anaconda3\\lib\\site-packages\\qinfer\\smc.py:285: ApproximationWarning: Extremely small n_ess encountered (1.0301683973130802). Resampling is likely to fail. Consider adding particles, or resampling more often.\n",
      "  ApproximationWarning\n"
     ]
    },
    {
     "name": "stdout",
     "output_type": "stream",
     "text": [
      "LogTotLikelihoods updated\n"
     ]
    },
    {
     "name": "stderr",
     "output_type": "stream",
     "text": [
      "C:\\Program Files\\Anaconda3\\lib\\site-packages\\qinfer\\smc.py:285: ApproximationWarning: Extremely small n_ess encountered (3.2819031280701885). Resampling is likely to fail. Consider adding particles, or resampling more often.\n",
      "  ApproximationWarning\n"
     ]
    },
    {
     "name": "stdout",
     "output_type": "stream",
     "text": [
      "LogTotLikelihoods updated\n",
      "Total elapsed time for the learning process: 254.6973691615749\n",
      "LogTotLikelihoods updated\n",
      "LogTotLikelihoods updated\n",
      "LogTotLikelihoods updated\n",
      "LogTotLikelihoods updated\n"
     ]
    },
    {
     "name": "stderr",
     "output_type": "stream",
     "text": [
      "C:\\Program Files\\Anaconda3\\lib\\site-packages\\qinfer\\smc.py:285: ApproximationWarning: Extremely small n_ess encountered (2.616325297584171). Resampling is likely to fail. Consider adding particles, or resampling more often.\n",
      "  ApproximationWarning\n"
     ]
    },
    {
     "name": "stdout",
     "output_type": "stream",
     "text": [
      "LogTotLikelihoods updated\n",
      "LogTotLikelihoods updated\n"
     ]
    },
    {
     "name": "stderr",
     "output_type": "stream",
     "text": [
      "C:\\Program Files\\Anaconda3\\lib\\site-packages\\qinfer\\smc.py:285: ApproximationWarning: Extremely small n_ess encountered (2.790816405362876). Resampling is likely to fail. Consider adding particles, or resampling more often.\n",
      "  ApproximationWarning\n"
     ]
    },
    {
     "name": "stdout",
     "output_type": "stream",
     "text": [
      "LogTotLikelihoods updated\n",
      "Total elapsed time for Bayes factor update: 215.85296729097172\n",
      "[[ 0.81667781]]\n",
      "Initialization Ready\n",
      "[[ 0.20118775]]\n",
      "Initialization Ready\n",
      "[[ 0.82716976]]\n",
      "Initialization Ready\n",
      "[[ 0.60615929  0.64027574]]\n",
      "Initialization Ready\n",
      "[[ 0.87331798  0.02910539]]\n",
      "Initialization Ready\n",
      "[[ 0.32352421  0.54503866]]\n",
      "Initialization Ready\n",
      "[[ 0.79984188  0.335175    0.60681859]]\n",
      "Initialization Ready\n",
      "Initial time selected > 0.90889650205\n",
      "Final time selected > 1.3137444221\n",
      "Final Parameters mean and stdev:[-0.10629468  0.38104677]\n",
      "Batch single time 0 elapsed time: 15.72429397272208\n",
      "\n",
      "\n",
      "Initial time selected > 0.822923056409\n",
      "Final time selected > 0.78427086302\n",
      "Final Parameters mean and stdev:[ 0.49152942  0.21908377]\n",
      "Batch single time 1 elapsed time: 15.719778695463901\n",
      "\n",
      "\n",
      "Initial time selected > 113.880895911\n",
      "Final time selected > 1073.47184157\n",
      "Final Parameters mean and stdev:[ 0.05025017  0.01422702]\n",
      "Batch single time 2 elapsed time: 23.96369669413616\n",
      "\n",
      "\n",
      "Initial time selected > 1.2804745306\n",
      "Final time selected > 1.97536089115\n",
      "Final Parameters mean and stdev:[ 0.53745286  0.16941255]\n",
      "Final Parameters mean and stdev:[ 0.40109692  0.19350111]\n",
      "Batch single time 3 elapsed time: 15.439825877612748\n",
      "\n",
      "\n",
      "Initial time selected > 0.896574633413\n",
      "Final time selected > 2.19699555346\n",
      "Final Parameters mean and stdev:[ 0.35327543  0.15467907]\n",
      "Final Parameters mean and stdev:[ 0.43134337  0.18188109]\n",
      "Batch single time 4 elapsed time: 15.707315748946712\n",
      "\n",
      "\n",
      "Initial time selected > 0.566781817737\n",
      "Final time selected > 1.44594312297\n",
      "Final Parameters mean and stdev:[ 1.20337994  0.1505134 ]\n",
      "Final Parameters mean and stdev:[ 0.54297754  0.0800509 ]\n",
      "Batch single time 5 elapsed time: 15.559734148526331\n",
      "\n",
      "\n",
      "Initial time selected > 1.00264857901\n",
      "Final time selected > 6.60752749998\n",
      "Final Parameters mean and stdev:[-0.05241787  0.04948736]\n",
      "Final Parameters mean and stdev:[ 0.50205661  0.03094016]\n",
      "Final Parameters mean and stdev:[ 0.64563056  0.02011481]\n",
      "Batch single time 6 elapsed time: 15.502295213522302\n",
      "\n",
      "\n"
     ]
    },
    {
     "name": "stderr",
     "output_type": "stream",
     "text": [
      "C:\\Program Files\\Anaconda3\\lib\\site-packages\\qinfer\\smc.py:285: ApproximationWarning: Extremely small n_ess encountered (1.0099988636889812). Resampling is likely to fail. Consider adding particles, or resampling more often.\n",
      "  ApproximationWarning\n"
     ]
    },
    {
     "name": "stdout",
     "output_type": "stream",
     "text": [
      "LogTotLikelihoods updated\n"
     ]
    },
    {
     "name": "stderr",
     "output_type": "stream",
     "text": [
      "C:\\Program Files\\Anaconda3\\lib\\site-packages\\qinfer\\smc.py:285: ApproximationWarning: Extremely small n_ess encountered (1.113361906372095). Resampling is likely to fail. Consider adding particles, or resampling more often.\n",
      "  ApproximationWarning\n"
     ]
    },
    {
     "name": "stdout",
     "output_type": "stream",
     "text": [
      "LogTotLikelihoods updated\n"
     ]
    },
    {
     "name": "stderr",
     "output_type": "stream",
     "text": [
      "C:\\Program Files\\Anaconda3\\lib\\site-packages\\qinfer\\smc.py:285: ApproximationWarning: Extremely small n_ess encountered (1.058953307412421). Resampling is likely to fail. Consider adding particles, or resampling more often.\n",
      "  ApproximationWarning\n"
     ]
    },
    {
     "name": "stdout",
     "output_type": "stream",
     "text": [
      "LogTotLikelihoods updated\n"
     ]
    },
    {
     "name": "stderr",
     "output_type": "stream",
     "text": [
      "C:\\Program Files\\Anaconda3\\lib\\site-packages\\qinfer\\smc.py:285: ApproximationWarning: Extremely small n_ess encountered (3.3593532955492744). Resampling is likely to fail. Consider adding particles, or resampling more often.\n",
      "  ApproximationWarning\n"
     ]
    },
    {
     "name": "stdout",
     "output_type": "stream",
     "text": [
      "LogTotLikelihoods updated\n"
     ]
    },
    {
     "name": "stderr",
     "output_type": "stream",
     "text": [
      "C:\\Program Files\\Anaconda3\\lib\\site-packages\\qinfer\\smc.py:285: ApproximationWarning: Extremely small n_ess encountered (1.1227868823749538). Resampling is likely to fail. Consider adding particles, or resampling more often.\n",
      "  ApproximationWarning\n"
     ]
    },
    {
     "name": "stdout",
     "output_type": "stream",
     "text": [
      "LogTotLikelihoods updated\n"
     ]
    },
    {
     "name": "stderr",
     "output_type": "stream",
     "text": [
      "C:\\Program Files\\Anaconda3\\lib\\site-packages\\qinfer\\smc.py:285: ApproximationWarning: Extremely small n_ess encountered (2.316790923771384). Resampling is likely to fail. Consider adding particles, or resampling more often.\n",
      "  ApproximationWarning\n"
     ]
    },
    {
     "name": "stdout",
     "output_type": "stream",
     "text": [
      "LogTotLikelihoods updated\n"
     ]
    },
    {
     "name": "stderr",
     "output_type": "stream",
     "text": [
      "C:\\Program Files\\Anaconda3\\lib\\site-packages\\qinfer\\smc.py:285: ApproximationWarning: Extremely small n_ess encountered (4.791078321176885). Resampling is likely to fail. Consider adding particles, or resampling more often.\n",
      "  ApproximationWarning\n"
     ]
    },
    {
     "name": "stdout",
     "output_type": "stream",
     "text": [
      "LogTotLikelihoods updated\n",
      "Total elapsed time for the learning process: 255.53699653781223\n",
      "LogTotLikelihoods updated\n"
     ]
    },
    {
     "name": "stderr",
     "output_type": "stream",
     "text": [
      "C:\\Program Files\\Anaconda3\\lib\\site-packages\\qinfer\\smc.py:285: ApproximationWarning: Extremely small n_ess encountered (9.412796930226468). Resampling is likely to fail. Consider adding particles, or resampling more often.\n",
      "  ApproximationWarning\n"
     ]
    },
    {
     "name": "stdout",
     "output_type": "stream",
     "text": [
      "LogTotLikelihoods updated\n",
      "LogTotLikelihoods updated\n",
      "LogTotLikelihoods updated\n"
     ]
    },
    {
     "name": "stderr",
     "output_type": "stream",
     "text": [
      "C:\\Program Files\\Anaconda3\\lib\\site-packages\\qinfer\\smc.py:285: ApproximationWarning: Extremely small n_ess encountered (8.048535184775435). Resampling is likely to fail. Consider adding particles, or resampling more often.\n",
      "  ApproximationWarning\n"
     ]
    },
    {
     "name": "stdout",
     "output_type": "stream",
     "text": [
      "LogTotLikelihoods updated\n"
     ]
    },
    {
     "name": "stderr",
     "output_type": "stream",
     "text": [
      "C:\\Program Files\\Anaconda3\\lib\\site-packages\\qinfer\\smc.py:285: ApproximationWarning: Extremely small n_ess encountered (1.2188802227462234). Resampling is likely to fail. Consider adding particles, or resampling more often.\n",
      "  ApproximationWarning\n"
     ]
    },
    {
     "name": "stdout",
     "output_type": "stream",
     "text": [
      "LogTotLikelihoods updated\n"
     ]
    },
    {
     "name": "stderr",
     "output_type": "stream",
     "text": [
      "C:\\Program Files\\Anaconda3\\lib\\site-packages\\qinfer\\smc.py:285: ApproximationWarning: Extremely small n_ess encountered (3.0197411068315976). Resampling is likely to fail. Consider adding particles, or resampling more often.\n",
      "  ApproximationWarning\n"
     ]
    },
    {
     "name": "stdout",
     "output_type": "stream",
     "text": [
      "LogTotLikelihoods updated\n",
      "Total elapsed time for Bayes factor update: 217.14849664011126\n",
      "[[ 0.284392]]\n",
      "Initialization Ready\n",
      "[[ 0.33018582]]\n",
      "Initialization Ready\n",
      "[[ 0.15026376]]\n",
      "Initialization Ready\n",
      "[[ 0.99033869  0.68247376]]\n",
      "Initialization Ready\n",
      "[[ 0.47131698  0.44654963]]\n",
      "Initialization Ready\n",
      "[[ 0.76687616  0.9270877 ]]\n",
      "Initialization Ready\n",
      "[[ 0.47483913  0.25385895  0.72704632]]\n",
      "Initialization Ready\n",
      "Initial time selected > 2.13310864214\n",
      "Final time selected > 4.73746741182\n",
      "Final Parameters mean and stdev:[ 0.5272354   0.05814521]\n",
      "Batch single time 0 elapsed time: 15.95273475700742\n",
      "\n",
      "\n",
      "Initial time selected > 1.05205211533\n",
      "Final time selected > 532.574975535\n",
      "Exiting learning for Reaching Cov. Norm. Thrshold of 9.98933197659e-07\n",
      " at Iteration Number 96\n",
      "Final Parameters mean and stdev:[ 0.08573698  0.00127671]\n",
      "Batch single time 1 elapsed time: 15.284402214900183\n",
      "\n",
      "\n",
      "Initial time selected > 0.496797238015\n",
      "Final time selected > 167.19337506\n",
      "Exiting learning for Reaching Cov. Norm. Thrshold of 4.44282355933e-07\n",
      " at Iteration Number 87\n",
      "Final Parameters mean and stdev:[-0.17907649  0.00132425]\n",
      "Batch single time 2 elapsed time: 21.127282881672727\n",
      "\n",
      "\n",
      "Initial time selected > 3.64846994113\n",
      "Final time selected > 53.4235597656\n",
      "Final Parameters mean and stdev:[ 0.60695396  0.00492488]\n",
      "Final Parameters mean and stdev:[ 0.04731346  0.00488753]\n",
      "Batch single time 3 elapsed time: 15.659681709203142\n",
      "\n",
      "\n",
      "Initial time selected > 0.429890836224\n",
      "Final time selected > 9.15201997399\n",
      "Final Parameters mean and stdev:[ 0.1277866   0.13205685]\n",
      "Final Parameters mean and stdev:[ 0.00086915  0.18499881]\n",
      "Batch single time 4 elapsed time: 15.560918999126443\n",
      "\n",
      "\n",
      "Initial time selected > 0.56554253847\n",
      "Final time selected > 369.169379646\n",
      "Final Parameters mean and stdev:[ 0.0030636   0.00417767]\n",
      "Final Parameters mean and stdev:[-0.24652577  0.00956455]\n",
      "Batch single time 5 elapsed time: 15.57245664320726\n",
      "\n",
      "\n",
      "Initial time selected > 0.443189189608\n",
      "Final time selected > 1.29866720048\n",
      "Final Parameters mean and stdev:[ 1.01052481  0.40144553]\n",
      "Final Parameters mean and stdev:[ 0.49716024  0.26792024]\n",
      "Final Parameters mean and stdev:[ 0.40339534  0.22697559]\n",
      "Batch single time 6 elapsed time: 15.32161956728305\n",
      "\n",
      "\n"
     ]
    },
    {
     "name": "stderr",
     "output_type": "stream",
     "text": [
      "C:\\Program Files\\Anaconda3\\lib\\site-packages\\qinfer\\smc.py:285: ApproximationWarning: Extremely small n_ess encountered (6.315011671196583). Resampling is likely to fail. Consider adding particles, or resampling more often.\n",
      "  ApproximationWarning\n"
     ]
    },
    {
     "name": "stdout",
     "output_type": "stream",
     "text": [
      "LogTotLikelihoods updated\n"
     ]
    },
    {
     "name": "stderr",
     "output_type": "stream",
     "text": [
      "C:\\Program Files\\Anaconda3\\lib\\site-packages\\qinfer\\smc.py:285: ApproximationWarning: Extremely small n_ess encountered (1.3970117454763873). Resampling is likely to fail. Consider adding particles, or resampling more often.\n",
      "  ApproximationWarning\n"
     ]
    },
    {
     "name": "stdout",
     "output_type": "stream",
     "text": [
      "LogTotLikelihoods updated\n"
     ]
    },
    {
     "name": "stderr",
     "output_type": "stream",
     "text": [
      "C:\\Program Files\\Anaconda3\\lib\\site-packages\\qinfer\\smc.py:285: ApproximationWarning: Extremely small n_ess encountered (3.1649864122395215). Resampling is likely to fail. Consider adding particles, or resampling more often.\n",
      "  ApproximationWarning\n"
     ]
    },
    {
     "name": "stdout",
     "output_type": "stream",
     "text": [
      "LogTotLikelihoods updated\n"
     ]
    },
    {
     "name": "stderr",
     "output_type": "stream",
     "text": [
      "C:\\Program Files\\Anaconda3\\lib\\site-packages\\qinfer\\smc.py:285: ApproximationWarning: Extremely small n_ess encountered (5.3180322390867385). Resampling is likely to fail. Consider adding particles, or resampling more often.\n",
      "  ApproximationWarning\n"
     ]
    },
    {
     "name": "stdout",
     "output_type": "stream",
     "text": [
      "LogTotLikelihoods updated\n"
     ]
    },
    {
     "name": "stderr",
     "output_type": "stream",
     "text": [
      "C:\\Program Files\\Anaconda3\\lib\\site-packages\\qinfer\\smc.py:285: ApproximationWarning: Extremely small n_ess encountered (1.0616692368927023). Resampling is likely to fail. Consider adding particles, or resampling more often.\n",
      "  ApproximationWarning\n"
     ]
    },
    {
     "name": "stdout",
     "output_type": "stream",
     "text": [
      "LogTotLikelihoods updated\n"
     ]
    },
    {
     "name": "stderr",
     "output_type": "stream",
     "text": [
      "C:\\Program Files\\Anaconda3\\lib\\site-packages\\qinfer\\smc.py:285: ApproximationWarning: Extremely small n_ess encountered (1.2232563672789887). Resampling is likely to fail. Consider adding particles, or resampling more often.\n",
      "  ApproximationWarning\n"
     ]
    },
    {
     "name": "stdout",
     "output_type": "stream",
     "text": [
      "LogTotLikelihoods updated\n"
     ]
    },
    {
     "name": "stderr",
     "output_type": "stream",
     "text": [
      "C:\\Program Files\\Anaconda3\\lib\\site-packages\\qinfer\\smc.py:285: ApproximationWarning: Extremely small n_ess encountered (5.291896297391503). Resampling is likely to fail. Consider adding particles, or resampling more often.\n",
      "  ApproximationWarning\n"
     ]
    },
    {
     "name": "stdout",
     "output_type": "stream",
     "text": [
      "LogTotLikelihoods updated\n",
      "Total elapsed time for the learning process: 251.841182016753\n"
     ]
    },
    {
     "name": "stderr",
     "output_type": "stream",
     "text": [
      "C:\\Program Files\\Anaconda3\\lib\\site-packages\\qinfer\\smc.py:285: ApproximationWarning: Extremely small n_ess encountered (7.626940339661267). Resampling is likely to fail. Consider adding particles, or resampling more often.\n",
      "  ApproximationWarning\n"
     ]
    },
    {
     "name": "stdout",
     "output_type": "stream",
     "text": [
      "LogTotLikelihoods updated\n",
      "LogTotLikelihoods updated\n",
      "LogTotLikelihoods updated\n"
     ]
    },
    {
     "name": "stderr",
     "output_type": "stream",
     "text": [
      "C:\\Program Files\\Anaconda3\\lib\\site-packages\\qinfer\\smc.py:285: ApproximationWarning: Extremely small n_ess encountered (1.6335234802490461). Resampling is likely to fail. Consider adding particles, or resampling more often.\n",
      "  ApproximationWarning\n"
     ]
    },
    {
     "name": "stdout",
     "output_type": "stream",
     "text": [
      "LogTotLikelihoods updated\n",
      "LogTotLikelihoods updated\n",
      "LogTotLikelihoods updated\n"
     ]
    },
    {
     "name": "stderr",
     "output_type": "stream",
     "text": [
      "C:\\Program Files\\Anaconda3\\lib\\site-packages\\qinfer\\smc.py:285: ApproximationWarning: Extremely small n_ess encountered (1.8326012423252434). Resampling is likely to fail. Consider adding particles, or resampling more often.\n",
      "  ApproximationWarning\n"
     ]
    },
    {
     "name": "stdout",
     "output_type": "stream",
     "text": [
      "LogTotLikelihoods updated\n",
      "Total elapsed time for Bayes factor update: 206.26797884152984\n",
      "[[ 0.22197855]]\n",
      "Initialization Ready\n",
      "[[ 0.45562196]]\n",
      "Initialization Ready\n",
      "[[ 0.97090835]]\n",
      "Initialization Ready\n",
      "[[ 0.76835769  0.49584763]]\n",
      "Initialization Ready\n",
      "[[ 0.31783846  0.43552969]]\n",
      "Initialization Ready\n",
      "[[ 0.20872737  0.23180058]]\n",
      "Initialization Ready\n",
      "[[ 0.29258157  0.86175092  0.76144531]]\n",
      "Initialization Ready\n",
      "Initial time selected > 0.754454307761\n",
      "Final time selected > 1.79246573589\n",
      "Final Parameters mean and stdev:[-0.52770913  0.21955477]\n",
      "Batch single time 0 elapsed time: 15.6341751433647\n",
      "\n",
      "\n",
      "Initial time selected > 0.62259101057\n",
      "Final time selected > 65.7956627105\n",
      "Final Parameters mean and stdev:[ 0.9895201   0.05627201]\n",
      "Batch single time 1 elapsed time: 15.539639029422688\n",
      "\n",
      "\n",
      "Initial time selected > 4.88948034081\n",
      "Final time selected > 65.6652031222\n",
      "Final Parameters mean and stdev:[ 0.45968963  0.010246  ]\n",
      "Batch single time 2 elapsed time: 23.92221500519736\n",
      "\n",
      "\n",
      "Initial time selected > 1.10190775629\n",
      "Final time selected > 31.9039649845\n",
      "Final Parameters mean and stdev:[ 1.08255795  0.11568351]\n",
      "Final Parameters mean and stdev:[ 0.50512853  0.04243276]\n",
      "Batch single time 3 elapsed time: 15.407736587749241\n",
      "\n",
      "\n",
      "Initial time selected > 0.893239880025\n",
      "Final time selected > 6.20617315033\n",
      "Final Parameters mean and stdev:[-1.00502402  0.42144383]\n",
      "Final Parameters mean and stdev:[ 0.52214023  0.24018968]\n",
      "Batch single time 4 elapsed time: 15.627338499136386\n",
      "\n",
      "\n",
      "Initial time selected > 1.20397683015\n",
      "Final time selected > 18.6032715343\n",
      "Final Parameters mean and stdev:[ 0.91253874  0.02027968]\n",
      "Final Parameters mean and stdev:[ 0.46610222  0.01785133]\n",
      "Batch single time 5 elapsed time: 15.518893053576903\n",
      "\n",
      "\n",
      "Initial time selected > 0.602079325171\n",
      "Final time selected > 1.38081546228\n",
      "Final Parameters mean and stdev:[-0.48227159  0.56876245]\n",
      "Final Parameters mean and stdev:[ 0.16976202  0.13235872]\n",
      "Final Parameters mean and stdev:[ 0.10306856  0.22116104]\n",
      "Batch single time 6 elapsed time: 15.441281863342738\n",
      "\n",
      "\n"
     ]
    },
    {
     "name": "stderr",
     "output_type": "stream",
     "text": [
      "C:\\Program Files\\Anaconda3\\lib\\site-packages\\qinfer\\smc.py:285: ApproximationWarning: Extremely small n_ess encountered (1.0027682201035455). Resampling is likely to fail. Consider adding particles, or resampling more often.\n",
      "  ApproximationWarning\n"
     ]
    },
    {
     "name": "stdout",
     "output_type": "stream",
     "text": [
      "LogTotLikelihoods updated\n"
     ]
    },
    {
     "name": "stderr",
     "output_type": "stream",
     "text": [
      "C:\\Program Files\\Anaconda3\\lib\\site-packages\\qinfer\\smc.py:285: ApproximationWarning: Extremely small n_ess encountered (2.9150754183833714). Resampling is likely to fail. Consider adding particles, or resampling more often.\n",
      "  ApproximationWarning\n"
     ]
    },
    {
     "name": "stdout",
     "output_type": "stream",
     "text": [
      "LogTotLikelihoods updated\n"
     ]
    },
    {
     "name": "stderr",
     "output_type": "stream",
     "text": [
      "C:\\Program Files\\Anaconda3\\lib\\site-packages\\qinfer\\smc.py:285: ApproximationWarning: Extremely small n_ess encountered (1.0310489080443304). Resampling is likely to fail. Consider adding particles, or resampling more often.\n",
      "  ApproximationWarning\n"
     ]
    },
    {
     "name": "stdout",
     "output_type": "stream",
     "text": [
      "LogTotLikelihoods updated\n"
     ]
    },
    {
     "name": "stderr",
     "output_type": "stream",
     "text": [
      "C:\\Program Files\\Anaconda3\\lib\\site-packages\\qinfer\\smc.py:285: ApproximationWarning: Extremely small n_ess encountered (6.61560159839879). Resampling is likely to fail. Consider adding particles, or resampling more often.\n",
      "  ApproximationWarning\n"
     ]
    },
    {
     "name": "stdout",
     "output_type": "stream",
     "text": [
      "LogTotLikelihoods updated\n"
     ]
    },
    {
     "name": "stderr",
     "output_type": "stream",
     "text": [
      "C:\\Program Files\\Anaconda3\\lib\\site-packages\\qinfer\\smc.py:285: ApproximationWarning: Extremely small n_ess encountered (1.0002255985905573). Resampling is likely to fail. Consider adding particles, or resampling more often.\n",
      "  ApproximationWarning\n"
     ]
    },
    {
     "name": "stdout",
     "output_type": "stream",
     "text": [
      "LogTotLikelihoods updated\n"
     ]
    },
    {
     "name": "stderr",
     "output_type": "stream",
     "text": [
      "C:\\Program Files\\Anaconda3\\lib\\site-packages\\qinfer\\smc.py:285: ApproximationWarning: Extremely small n_ess encountered (8.323967524996378). Resampling is likely to fail. Consider adding particles, or resampling more often.\n",
      "  ApproximationWarning\n"
     ]
    },
    {
     "name": "stdout",
     "output_type": "stream",
     "text": [
      "LogTotLikelihoods updated\n"
     ]
    },
    {
     "name": "stderr",
     "output_type": "stream",
     "text": [
      "C:\\Program Files\\Anaconda3\\lib\\site-packages\\qinfer\\smc.py:285: ApproximationWarning: Extremely small n_ess encountered (1.2813518704625706). Resampling is likely to fail. Consider adding particles, or resampling more often.\n",
      "  ApproximationWarning\n"
     ]
    },
    {
     "name": "stdout",
     "output_type": "stream",
     "text": [
      "LogTotLikelihoods updated\n",
      "Total elapsed time for the learning process: 254.86171777183336\n",
      "LogTotLikelihoods updated\n"
     ]
    },
    {
     "name": "stderr",
     "output_type": "stream",
     "text": [
      "C:\\Program Files\\Anaconda3\\lib\\site-packages\\qinfer\\smc.py:285: ApproximationWarning: Extremely small n_ess encountered (1.315446684678519). Resampling is likely to fail. Consider adding particles, or resampling more often.\n",
      "  ApproximationWarning\n"
     ]
    },
    {
     "name": "stdout",
     "output_type": "stream",
     "text": [
      "LogTotLikelihoods updated\n",
      "LogTotLikelihoods updated\n"
     ]
    },
    {
     "name": "stderr",
     "output_type": "stream",
     "text": [
      "C:\\Program Files\\Anaconda3\\lib\\site-packages\\qinfer\\smc.py:285: ApproximationWarning: Extremely small n_ess encountered (9.315990077682029). Resampling is likely to fail. Consider adding particles, or resampling more often.\n",
      "  ApproximationWarning\n"
     ]
    },
    {
     "name": "stdout",
     "output_type": "stream",
     "text": [
      "LogTotLikelihoods updated\n",
      "LogTotLikelihoods updated\n"
     ]
    },
    {
     "name": "stderr",
     "output_type": "stream",
     "text": [
      "C:\\Program Files\\Anaconda3\\lib\\site-packages\\qinfer\\smc.py:285: ApproximationWarning: Extremely small n_ess encountered (1.0033773764411857). Resampling is likely to fail. Consider adding particles, or resampling more often.\n",
      "  ApproximationWarning\n"
     ]
    },
    {
     "name": "stdout",
     "output_type": "stream",
     "text": [
      "LogTotLikelihoods updated\n",
      "LogTotLikelihoods updated\n",
      "Total elapsed time for Bayes factor update: 216.96523709922985\n",
      "[[ 0.69046832]]\n",
      "Initialization Ready\n",
      "[[ 0.8818227]]\n",
      "Initialization Ready\n",
      "[[ 0.79338713]]\n",
      "Initialization Ready\n",
      "[[ 0.08528433  0.86301126]]\n",
      "Initialization Ready\n",
      "[[ 0.18185641  0.91159531]]\n",
      "Initialization Ready\n",
      "[[ 0.95763484  0.5530291 ]]\n",
      "Initialization Ready\n",
      "[[ 0.63351006  0.03666612  0.00311414]]\n",
      "Initialization Ready\n",
      "Initial time selected > 1.42863933361\n",
      "Final time selected > 0.677015658335\n",
      "Final Parameters mean and stdev:[-0.31121987  0.48476535]\n",
      "Batch single time 0 elapsed time: 15.605927431130112\n",
      "\n",
      "\n",
      "Initial time selected > 6.30515583426\n",
      "Final time selected > 502.254990977\n",
      "Final Parameters mean and stdev:[ 0.09444936  0.00144944]\n",
      "Batch single time 1 elapsed time: 15.570779842906632\n",
      "\n",
      "\n",
      "Initial time selected > 7.54726471745\n",
      "Final time selected > 649.555758537\n",
      "Exiting learning for Reaching Cov. Norm. Thrshold of 7.13645141537e-07\n",
      " at Iteration Number 89\n",
      "Final Parameters mean and stdev:[ 0.62393665  0.00197494]\n",
      "Batch single time 2 elapsed time: 21.666698779128637\n",
      "\n",
      "\n",
      "Initial time selected > 0.473446296664\n",
      "Final time selected > 2.8373390738\n",
      "Final Parameters mean and stdev:[ 0.43146921  0.16776917]\n",
      "Final Parameters mean and stdev:[ 0.49447879  0.03439636]\n",
      "Batch single time 3 elapsed time: 15.671626221515908\n",
      "\n",
      "\n",
      "Initial time selected > 0.729417145963\n",
      "Final time selected > 33.9963354759\n",
      "Final Parameters mean and stdev:[ 0.25446893  0.02342267]\n",
      "Final Parameters mean and stdev:[ 0.56770487  0.03302739]\n",
      "Batch single time 4 elapsed time: 15.367750611298106\n",
      "\n",
      "\n",
      "Initial time selected > 0.431271608632\n",
      "Final time selected > 95.9504109581\n",
      "Final Parameters mean and stdev:[ 0.00630385  0.00877688]\n",
      "Final Parameters mean and stdev:[ 0.62867623  0.00554711]\n",
      "Batch single time 5 elapsed time: 15.553799632791197\n",
      "\n",
      "\n",
      "Initial time selected > 0.585098713243\n",
      "Final time selected > 0.955280826304\n",
      "Final Parameters mean and stdev:[ 1.58853491  0.44798438]\n",
      "Final Parameters mean and stdev:[-0.63333304  0.7400585 ]\n",
      "Final Parameters mean and stdev:[ 0.18116793  0.41087626]\n",
      "Batch single time 6 elapsed time: 15.500001324227924\n",
      "\n",
      "\n"
     ]
    },
    {
     "name": "stderr",
     "output_type": "stream",
     "text": [
      "C:\\Program Files\\Anaconda3\\lib\\site-packages\\qinfer\\smc.py:285: ApproximationWarning: Extremely small n_ess encountered (1.0006096304421532). Resampling is likely to fail. Consider adding particles, or resampling more often.\n",
      "  ApproximationWarning\n"
     ]
    },
    {
     "name": "stdout",
     "output_type": "stream",
     "text": [
      "LogTotLikelihoods updated\n"
     ]
    },
    {
     "name": "stderr",
     "output_type": "stream",
     "text": [
      "C:\\Program Files\\Anaconda3\\lib\\site-packages\\qinfer\\smc.py:285: ApproximationWarning: Extremely small n_ess encountered (1.0059921651397048). Resampling is likely to fail. Consider adding particles, or resampling more often.\n",
      "  ApproximationWarning\n"
     ]
    },
    {
     "name": "stdout",
     "output_type": "stream",
     "text": [
      "LogTotLikelihoods updated\n",
      "LogTotLikelihoods updated\n"
     ]
    },
    {
     "name": "stderr",
     "output_type": "stream",
     "text": [
      "C:\\Program Files\\Anaconda3\\lib\\site-packages\\qinfer\\smc.py:285: ApproximationWarning: Extremely small n_ess encountered (3.4614007576172234). Resampling is likely to fail. Consider adding particles, or resampling more often.\n",
      "  ApproximationWarning\n"
     ]
    },
    {
     "name": "stdout",
     "output_type": "stream",
     "text": [
      "LogTotLikelihoods updated\n"
     ]
    },
    {
     "name": "stderr",
     "output_type": "stream",
     "text": [
      "C:\\Program Files\\Anaconda3\\lib\\site-packages\\qinfer\\smc.py:285: ApproximationWarning: Extremely small n_ess encountered (1.976044812894988). Resampling is likely to fail. Consider adding particles, or resampling more often.\n",
      "  ApproximationWarning\n"
     ]
    },
    {
     "name": "stdout",
     "output_type": "stream",
     "text": [
      "LogTotLikelihoods updated\n"
     ]
    },
    {
     "name": "stderr",
     "output_type": "stream",
     "text": [
      "C:\\Program Files\\Anaconda3\\lib\\site-packages\\qinfer\\smc.py:285: ApproximationWarning: Extremely small n_ess encountered (1.9493848840633934). Resampling is likely to fail. Consider adding particles, or resampling more often.\n",
      "  ApproximationWarning\n"
     ]
    },
    {
     "name": "stdout",
     "output_type": "stream",
     "text": [
      "LogTotLikelihoods updated\n"
     ]
    },
    {
     "name": "stderr",
     "output_type": "stream",
     "text": [
      "C:\\Program Files\\Anaconda3\\lib\\site-packages\\qinfer\\smc.py:285: ApproximationWarning: Extremely small n_ess encountered (1.6990640452789325). Resampling is likely to fail. Consider adding particles, or resampling more often.\n",
      "  ApproximationWarning\n"
     ]
    },
    {
     "name": "stdout",
     "output_type": "stream",
     "text": [
      "LogTotLikelihoods updated\n",
      "Total elapsed time for the learning process: 253.46519174451169\n"
     ]
    },
    {
     "name": "stderr",
     "output_type": "stream",
     "text": [
      "C:\\Program Files\\Anaconda3\\lib\\site-packages\\qinfer\\smc.py:285: ApproximationWarning: Extremely small n_ess encountered (5.274115443387074). Resampling is likely to fail. Consider adding particles, or resampling more often.\n",
      "  ApproximationWarning\n"
     ]
    },
    {
     "name": "stdout",
     "output_type": "stream",
     "text": [
      "LogTotLikelihoods updated\n",
      "LogTotLikelihoods updated\n",
      "LogTotLikelihoods updated\n"
     ]
    },
    {
     "name": "stderr",
     "output_type": "stream",
     "text": [
      "C:\\Program Files\\Anaconda3\\lib\\site-packages\\qinfer\\smc.py:285: ApproximationWarning: Extremely small n_ess encountered (1.0005841889510692). Resampling is likely to fail. Consider adding particles, or resampling more often.\n",
      "  ApproximationWarning\n"
     ]
    },
    {
     "name": "stdout",
     "output_type": "stream",
     "text": [
      "LogTotLikelihoods updated\n",
      "LogTotLikelihoods updated\n",
      "LogTotLikelihoods updated\n"
     ]
    },
    {
     "name": "stderr",
     "output_type": "stream",
     "text": [
      "C:\\Program Files\\Anaconda3\\lib\\site-packages\\qinfer\\smc.py:285: ApproximationWarning: Extremely small n_ess encountered (1.2326081325790454). Resampling is likely to fail. Consider adding particles, or resampling more often.\n",
      "  ApproximationWarning\n"
     ]
    },
    {
     "name": "stdout",
     "output_type": "stream",
     "text": [
      "LogTotLikelihoods updated\n",
      "Total elapsed time for Bayes factor update: 211.45563183093327\n",
      "[[ 0.32433452]]\n",
      "Initialization Ready\n",
      "[[ 0.76748556]]\n",
      "Initialization Ready\n",
      "[[ 0.33703149]]\n",
      "Initialization Ready\n",
      "[[ 0.96239027  0.15324403]]\n",
      "Initialization Ready\n",
      "[[ 0.78368664  0.82594816]]\n",
      "Initialization Ready\n",
      "[[ 0.48850958  0.91215285]]\n",
      "Initialization Ready\n",
      "[[ 0.26311451  0.68051161  0.78875504]]\n",
      "Initialization Ready\n",
      "Initial time selected > 0.460414165952\n",
      "Final time selected > 5.56208668006\n",
      "Final Parameters mean and stdev:[ 1.17969267  0.25705838]\n",
      "Batch single time 0 elapsed time: 15.905338746764755\n",
      "\n",
      "\n",
      "Initial time selected > 0.857036245235\n",
      "Final time selected > 58.7880625876\n",
      "Final Parameters mean and stdev:[ 1.1187118   0.03288764]\n",
      "Batch single time 1 elapsed time: 15.6396991492511\n",
      "\n",
      "\n",
      "Initial time selected > 60.3818963814\n",
      "Final time selected > 2.02938115001\n",
      "Final Parameters mean and stdev:[ 1.10187624  0.17551326]\n",
      "Batch single time 2 elapsed time: 24.845165948605427\n",
      "\n",
      "\n",
      "Initial time selected > 0.723745883993\n",
      "Final time selected > 1.726123477\n",
      "Final Parameters mean and stdev:[ 0.62975853  0.43524334]\n",
      "Final Parameters mean and stdev:[ 0.36323778  0.27151952]\n",
      "Batch single time 3 elapsed time: 15.526675856788643\n",
      "\n",
      "\n",
      "Initial time selected > 5.57779619693\n",
      "Final time selected > 5.40192128609\n",
      "Final Parameters mean and stdev:[ 0.98841797  0.1692091 ]\n",
      "Final Parameters mean and stdev:[ 0.22652796  0.16740935]\n",
      "Batch single time 4 elapsed time: 15.667106971581234\n",
      "\n",
      "\n",
      "Initial time selected > 0.6613952154\n",
      "Final time selected > 75.5928039425\n",
      "Final Parameters mean and stdev:[ 0.56458328  0.0126814 ]\n",
      "Final Parameters mean and stdev:[ 0.56510188  0.01553243]\n",
      "Batch single time 5 elapsed time: 15.571331382750941\n",
      "\n",
      "\n",
      "Initial time selected > 0.421219784487\n",
      "Final time selected > 26.7062282045\n",
      "Final Parameters mean and stdev:[ 0.22315283  0.05627782]\n",
      "Final Parameters mean and stdev:[ 1.45078189  0.07564739]\n",
      "Final Parameters mean and stdev:[ 0.1221866   0.04964559]\n",
      "Batch single time 6 elapsed time: 15.40573667647186\n",
      "\n",
      "\n"
     ]
    },
    {
     "name": "stderr",
     "output_type": "stream",
     "text": [
      "C:\\Program Files\\Anaconda3\\lib\\site-packages\\qinfer\\smc.py:285: ApproximationWarning: Extremely small n_ess encountered (3.2537900997739233). Resampling is likely to fail. Consider adding particles, or resampling more often.\n",
      "  ApproximationWarning\n"
     ]
    },
    {
     "name": "stdout",
     "output_type": "stream",
     "text": [
      "LogTotLikelihoods updated\n"
     ]
    },
    {
     "name": "stderr",
     "output_type": "stream",
     "text": [
      "C:\\Program Files\\Anaconda3\\lib\\site-packages\\qinfer\\smc.py:285: ApproximationWarning: Extremely small n_ess encountered (1.9205561334238723). Resampling is likely to fail. Consider adding particles, or resampling more often.\n",
      "  ApproximationWarning\n"
     ]
    },
    {
     "name": "stdout",
     "output_type": "stream",
     "text": [
      "LogTotLikelihoods updated\n"
     ]
    },
    {
     "name": "stderr",
     "output_type": "stream",
     "text": [
      "C:\\Program Files\\Anaconda3\\lib\\site-packages\\qinfer\\smc.py:285: ApproximationWarning: Extremely small n_ess encountered (1.0036804721915755). Resampling is likely to fail. Consider adding particles, or resampling more often.\n",
      "  ApproximationWarning\n"
     ]
    },
    {
     "name": "stdout",
     "output_type": "stream",
     "text": [
      "LogTotLikelihoods updated\n"
     ]
    },
    {
     "name": "stderr",
     "output_type": "stream",
     "text": [
      "C:\\Program Files\\Anaconda3\\lib\\site-packages\\qinfer\\smc.py:285: ApproximationWarning: Extremely small n_ess encountered (3.7449493133819756). Resampling is likely to fail. Consider adding particles, or resampling more often.\n",
      "  ApproximationWarning\n"
     ]
    },
    {
     "name": "stdout",
     "output_type": "stream",
     "text": [
      "LogTotLikelihoods updated\n"
     ]
    },
    {
     "name": "stderr",
     "output_type": "stream",
     "text": [
      "C:\\Program Files\\Anaconda3\\lib\\site-packages\\qinfer\\smc.py:285: ApproximationWarning: Extremely small n_ess encountered (1.0250076091937421). Resampling is likely to fail. Consider adding particles, or resampling more often.\n",
      "  ApproximationWarning\n"
     ]
    },
    {
     "name": "stdout",
     "output_type": "stream",
     "text": [
      "LogTotLikelihoods updated\n",
      "LogTotLikelihoods updated\n"
     ]
    },
    {
     "name": "stderr",
     "output_type": "stream",
     "text": [
      "C:\\Program Files\\Anaconda3\\lib\\site-packages\\qinfer\\smc.py:285: ApproximationWarning: Extremely small n_ess encountered (1.0389676311214353). Resampling is likely to fail. Consider adding particles, or resampling more often.\n",
      "  ApproximationWarning\n"
     ]
    },
    {
     "name": "stdout",
     "output_type": "stream",
     "text": [
      "LogTotLikelihoods updated\n",
      "Total elapsed time for the learning process: 257.6143428829855\n"
     ]
    },
    {
     "name": "stderr",
     "output_type": "stream",
     "text": [
      "C:\\Program Files\\Anaconda3\\lib\\site-packages\\qinfer\\smc.py:285: ApproximationWarning: Extremely small n_ess encountered (1.8391859015124183). Resampling is likely to fail. Consider adding particles, or resampling more often.\n",
      "  ApproximationWarning\n"
     ]
    },
    {
     "name": "stdout",
     "output_type": "stream",
     "text": [
      "LogTotLikelihoods updated\n",
      "LogTotLikelihoods updated\n",
      "LogTotLikelihoods updated\n"
     ]
    },
    {
     "name": "stderr",
     "output_type": "stream",
     "text": [
      "C:\\Program Files\\Anaconda3\\lib\\site-packages\\qinfer\\smc.py:285: ApproximationWarning: Extremely small n_ess encountered (1.0000110396832746). Resampling is likely to fail. Consider adding particles, or resampling more often.\n",
      "  ApproximationWarning\n"
     ]
    },
    {
     "name": "stdout",
     "output_type": "stream",
     "text": [
      "LogTotLikelihoods updated\n"
     ]
    },
    {
     "name": "stderr",
     "output_type": "stream",
     "text": [
      "C:\\Program Files\\Anaconda3\\lib\\site-packages\\qinfer\\smc.py:285: ApproximationWarning: Extremely small n_ess encountered (1.8608499219901595). Resampling is likely to fail. Consider adding particles, or resampling more often.\n",
      "  ApproximationWarning\n"
     ]
    },
    {
     "name": "stdout",
     "output_type": "stream",
     "text": [
      "LogTotLikelihoods updated\n"
     ]
    },
    {
     "name": "stderr",
     "output_type": "stream",
     "text": [
      "C:\\Program Files\\Anaconda3\\lib\\site-packages\\qinfer\\smc.py:285: ApproximationWarning: Extremely small n_ess encountered (3.5381654370484523). Resampling is likely to fail. Consider adding particles, or resampling more often.\n",
      "  ApproximationWarning\n"
     ]
    },
    {
     "name": "stdout",
     "output_type": "stream",
     "text": [
      "LogTotLikelihoods updated\n",
      "LogTotLikelihoods updated\n",
      "Total elapsed time for Bayes factor update: 223.97335724884033\n",
      "[[ 0.0808226]]\n",
      "Initialization Ready\n",
      "[[ 0.81750925]]\n",
      "Initialization Ready\n",
      "[[ 0.08603935]]\n",
      "Initialization Ready\n",
      "[[ 0.4429958   0.42295254]]\n",
      "Initialization Ready\n",
      "[[ 0.77570659  0.92452014]]\n",
      "Initialization Ready\n",
      "[[ 0.14923954  0.3958193 ]]\n",
      "Initialization Ready\n",
      "[[ 0.57484914  0.86413967  0.50432982]]\n",
      "Initialization Ready\n",
      "Initial time selected > 1.2334898842\n",
      "Final time selected > 1.48159997359\n",
      "Final Parameters mean and stdev:[ 0.04344868  0.53385758]\n",
      "Batch single time 0 elapsed time: 15.579615074188041\n",
      "\n",
      "\n",
      "Initial time selected > 4.53406095651\n",
      "Final time selected > 157.043357792\n",
      "Final Parameters mean and stdev:[ 0.44040013  0.00172688]\n",
      "Batch single time 1 elapsed time: 15.847717068667407\n",
      "\n",
      "\n",
      "Initial time selected > 24.8582686955\n",
      "Final time selected > 280.468732825\n",
      "Final Parameters mean and stdev:[-0.37513144  0.28326443]\n",
      "Batch single time 2 elapsed time: 24.357289562391088\n",
      "\n",
      "\n",
      "Initial time selected > 0.43216866041\n",
      "Final time selected > 76.598832319\n",
      "Final Parameters mean and stdev:[ 0.02197792  0.00943768]\n",
      "Final Parameters mean and stdev:[ 0.44835428  0.00963087]\n",
      "Batch single time 3 elapsed time: 15.594712898022408\n",
      "\n",
      "\n",
      "Initial time selected > 0.510761071519\n",
      "Final time selected > 9.31490505565\n",
      "Final Parameters mean and stdev:[ 1.19131771  0.06215971]\n",
      "Final Parameters mean and stdev:[ 0.14581194  0.03313101]\n",
      "Batch single time 4 elapsed time: 15.616818853261066\n",
      "\n",
      "\n",
      "Initial time selected > 0.784366942235\n",
      "Final time selected > 14.8776436835\n",
      "Final Parameters mean and stdev:[ 0.39412915  0.02507478]\n",
      "Final Parameters mean and stdev:[ 0.01043886  0.07610066]\n",
      "Batch single time 5 elapsed time: 15.617843472595268\n",
      "\n",
      "\n",
      "Initial time selected > 0.438596630887\n",
      "Final time selected > 6.39501044263\n",
      "Final Parameters mean and stdev:[ 0.09603577  0.05346618]\n",
      "Final Parameters mean and stdev:[ 0.34845866  0.09425505]\n",
      "Final Parameters mean and stdev:[ 0.07337784  0.08806902]\n",
      "Batch single time 6 elapsed time: 15.42851136549507\n",
      "\n",
      "\n"
     ]
    },
    {
     "name": "stderr",
     "output_type": "stream",
     "text": [
      "C:\\Program Files\\Anaconda3\\lib\\site-packages\\qinfer\\smc.py:285: ApproximationWarning: Extremely small n_ess encountered (1.02520347849935). Resampling is likely to fail. Consider adding particles, or resampling more often.\n",
      "  ApproximationWarning\n"
     ]
    },
    {
     "name": "stdout",
     "output_type": "stream",
     "text": [
      "LogTotLikelihoods updated\n",
      "LogTotLikelihoods updated\n"
     ]
    },
    {
     "name": "stderr",
     "output_type": "stream",
     "text": [
      "C:\\Program Files\\Anaconda3\\lib\\site-packages\\qinfer\\smc.py:285: ApproximationWarning: Extremely small n_ess encountered (1.2316318754575966). Resampling is likely to fail. Consider adding particles, or resampling more often.\n",
      "  ApproximationWarning\n"
     ]
    },
    {
     "name": "stdout",
     "output_type": "stream",
     "text": [
      "LogTotLikelihoods updated\n",
      "LogTotLikelihoods updated\n"
     ]
    },
    {
     "name": "stderr",
     "output_type": "stream",
     "text": [
      "C:\\Program Files\\Anaconda3\\lib\\site-packages\\qinfer\\smc.py:285: ApproximationWarning: Extremely small n_ess encountered (4.172639061013262). Resampling is likely to fail. Consider adding particles, or resampling more often.\n",
      "  ApproximationWarning\n"
     ]
    },
    {
     "name": "stdout",
     "output_type": "stream",
     "text": [
      "LogTotLikelihoods updated\n"
     ]
    },
    {
     "name": "stderr",
     "output_type": "stream",
     "text": [
      "C:\\Program Files\\Anaconda3\\lib\\site-packages\\qinfer\\smc.py:285: ApproximationWarning: Extremely small n_ess encountered (1.1287586836258126). Resampling is likely to fail. Consider adding particles, or resampling more often.\n",
      "  ApproximationWarning\n"
     ]
    },
    {
     "name": "stdout",
     "output_type": "stream",
     "text": [
      "LogTotLikelihoods updated\n"
     ]
    },
    {
     "name": "stderr",
     "output_type": "stream",
     "text": [
      "C:\\Program Files\\Anaconda3\\lib\\site-packages\\qinfer\\smc.py:285: ApproximationWarning: Extremely small n_ess encountered (1.5011968752703622). Resampling is likely to fail. Consider adding particles, or resampling more often.\n",
      "  ApproximationWarning\n"
     ]
    },
    {
     "name": "stdout",
     "output_type": "stream",
     "text": [
      "LogTotLikelihoods updated\n",
      "Total elapsed time for the learning process: 262.36325685270276\n"
     ]
    },
    {
     "name": "stderr",
     "output_type": "stream",
     "text": [
      "C:\\Program Files\\Anaconda3\\lib\\site-packages\\qinfer\\smc.py:285: ApproximationWarning: Extremely small n_ess encountered (6.938754670862863). Resampling is likely to fail. Consider adding particles, or resampling more often.\n",
      "  ApproximationWarning\n"
     ]
    },
    {
     "name": "stdout",
     "output_type": "stream",
     "text": [
      "LogTotLikelihoods updated\n",
      "LogTotLikelihoods updated\n",
      "LogTotLikelihoods updated\n",
      "LogTotLikelihoods updated\n"
     ]
    },
    {
     "name": "stderr",
     "output_type": "stream",
     "text": [
      "C:\\Program Files\\Anaconda3\\lib\\site-packages\\qinfer\\smc.py:285: ApproximationWarning: Extremely small n_ess encountered (3.8215139050264075). Resampling is likely to fail. Consider adding particles, or resampling more often.\n",
      "  ApproximationWarning\n"
     ]
    },
    {
     "name": "stdout",
     "output_type": "stream",
     "text": [
      "LogTotLikelihoods updated\n",
      "LogTotLikelihoods updated\n"
     ]
    },
    {
     "name": "stderr",
     "output_type": "stream",
     "text": [
      "C:\\Program Files\\Anaconda3\\lib\\site-packages\\qinfer\\smc.py:285: ApproximationWarning: Extremely small n_ess encountered (1.5462931562719904). Resampling is likely to fail. Consider adding particles, or resampling more often.\n",
      "  ApproximationWarning\n"
     ]
    },
    {
     "name": "stdout",
     "output_type": "stream",
     "text": [
      "LogTotLikelihoods updated\n",
      "Total elapsed time for Bayes factor update: 220.67518640126582\n",
      "[[ 0.77602041]]\n",
      "Initialization Ready\n",
      "[[ 0.42216639]]\n",
      "Initialization Ready\n",
      "[[ 0.21599155]]\n",
      "Initialization Ready\n",
      "[[ 0.59264439  0.19460523]]\n",
      "Initialization Ready\n",
      "[[ 0.34439513  0.15880818]]\n",
      "Initialization Ready\n",
      "[[ 0.02776041  0.78037335]]\n",
      "Initialization Ready\n",
      "[[ 0.04049416  0.72673411  0.07345653]]\n",
      "Initialization Ready\n",
      "Initial time selected > 0.634132105363\n",
      "Final time selected > 13.1862313981\n",
      "Final Parameters mean and stdev:[ 0.70735866  0.15562709]\n",
      "Batch single time 0 elapsed time: 15.849870590078353\n",
      "\n",
      "\n",
      "Initial time selected > 3.84462020124\n",
      "Final time selected > 20.6184476507\n",
      "Final Parameters mean and stdev:[ 0.27967906  0.03661236]\n",
      "Batch single time 1 elapsed time: 15.75955776171395\n",
      "\n",
      "\n",
      "Initial time selected > 5.52953137294\n",
      "Final time selected > 463.688923608\n",
      "Final Parameters mean and stdev:[ 0.00874349  0.03095223]\n",
      "Batch single time 2 elapsed time: 24.432291366647405\n",
      "\n",
      "\n",
      "Initial time selected > 0.428596032734\n",
      "Final time selected > 11.6256420708\n",
      "Final Parameters mean and stdev:[ 0.87964745  0.32314436]\n",
      "Final Parameters mean and stdev:[-0.05315338  0.12387534]\n",
      "Batch single time 3 elapsed time: 15.549363146943506\n",
      "\n",
      "\n",
      "Initial time selected > 6.9125591949\n",
      "Final time selected > 1.72879471184\n",
      "Final Parameters mean and stdev:[ 0.85992417  0.20036946]\n",
      "Final Parameters mean and stdev:[ 0.14962187  0.17598457]\n",
      "Batch single time 4 elapsed time: 15.462067234893766\n",
      "\n",
      "\n",
      "Initial time selected > 3.21381731949\n",
      "Final time selected > 2.60666985222\n",
      "Final Parameters mean and stdev:[-0.20701334  0.02168601]\n",
      "Final Parameters mean and stdev:[ 0.47623641  0.07707577]\n",
      "Batch single time 5 elapsed time: 15.701591122924583\n",
      "\n",
      "\n",
      "Initial time selected > 0.476515364575\n",
      "Final time selected > 6.00498327418\n",
      "Final Parameters mean and stdev:[-0.47909117  0.17109227]\n",
      "Final Parameters mean and stdev:[ 0.83074609  0.09993277]\n",
      "Final Parameters mean and stdev:[ 0.5329913   0.08063476]\n",
      "Batch single time 6 elapsed time: 15.399560158562963\n",
      "\n",
      "\n"
     ]
    },
    {
     "name": "stderr",
     "output_type": "stream",
     "text": [
      "C:\\Program Files\\Anaconda3\\lib\\site-packages\\qinfer\\smc.py:285: ApproximationWarning: Extremely small n_ess encountered (1.319844541793858). Resampling is likely to fail. Consider adding particles, or resampling more often.\n",
      "  ApproximationWarning\n"
     ]
    },
    {
     "name": "stdout",
     "output_type": "stream",
     "text": [
      "LogTotLikelihoods updated\n",
      "LogTotLikelihoods updated\n"
     ]
    },
    {
     "name": "stderr",
     "output_type": "stream",
     "text": [
      "C:\\Program Files\\Anaconda3\\lib\\site-packages\\qinfer\\smc.py:285: ApproximationWarning: Extremely small n_ess encountered (1.8503937975328706). Resampling is likely to fail. Consider adding particles, or resampling more often.\n",
      "  ApproximationWarning\n"
     ]
    },
    {
     "name": "stdout",
     "output_type": "stream",
     "text": [
      "LogTotLikelihoods updated\n",
      "LogTotLikelihoods updated\n"
     ]
    },
    {
     "name": "stderr",
     "output_type": "stream",
     "text": [
      "C:\\Program Files\\Anaconda3\\lib\\site-packages\\qinfer\\smc.py:285: ApproximationWarning: Extremely small n_ess encountered (1.9610640972040285). Resampling is likely to fail. Consider adding particles, or resampling more often.\n",
      "  ApproximationWarning\n"
     ]
    },
    {
     "name": "stdout",
     "output_type": "stream",
     "text": [
      "LogTotLikelihoods updated\n"
     ]
    },
    {
     "name": "stderr",
     "output_type": "stream",
     "text": [
      "C:\\Program Files\\Anaconda3\\lib\\site-packages\\qinfer\\smc.py:285: ApproximationWarning: Extremely small n_ess encountered (2.565829771299209). Resampling is likely to fail. Consider adding particles, or resampling more often.\n",
      "  ApproximationWarning\n"
     ]
    },
    {
     "name": "stdout",
     "output_type": "stream",
     "text": [
      "LogTotLikelihoods updated\n"
     ]
    },
    {
     "name": "stderr",
     "output_type": "stream",
     "text": [
      "C:\\Program Files\\Anaconda3\\lib\\site-packages\\qinfer\\smc.py:285: ApproximationWarning: Extremely small n_ess encountered (3.4871148251469846). Resampling is likely to fail. Consider adding particles, or resampling more often.\n",
      "  ApproximationWarning\n"
     ]
    },
    {
     "name": "stdout",
     "output_type": "stream",
     "text": [
      "LogTotLikelihoods updated\n",
      "Total elapsed time for the learning process: 255.45028460912363\n"
     ]
    },
    {
     "name": "stderr",
     "output_type": "stream",
     "text": [
      "C:\\Program Files\\Anaconda3\\lib\\site-packages\\qinfer\\smc.py:285: ApproximationWarning: Extremely small n_ess encountered (2.327957974386427). Resampling is likely to fail. Consider adding particles, or resampling more often.\n",
      "  ApproximationWarning\n"
     ]
    },
    {
     "name": "stdout",
     "output_type": "stream",
     "text": [
      "LogTotLikelihoods updated\n",
      "LogTotLikelihoods updated\n",
      "LogTotLikelihoods updated\n",
      "LogTotLikelihoods updated\n",
      "LogTotLikelihoods updated\n"
     ]
    },
    {
     "name": "stderr",
     "output_type": "stream",
     "text": [
      "C:\\Program Files\\Anaconda3\\lib\\site-packages\\qinfer\\smc.py:285: ApproximationWarning: Extremely small n_ess encountered (7.58377719390151). Resampling is likely to fail. Consider adding particles, or resampling more often.\n",
      "  ApproximationWarning\n"
     ]
    },
    {
     "name": "stdout",
     "output_type": "stream",
     "text": [
      "LogTotLikelihoods updated\n"
     ]
    },
    {
     "name": "stderr",
     "output_type": "stream",
     "text": [
      "C:\\Program Files\\Anaconda3\\lib\\site-packages\\qinfer\\smc.py:285: ApproximationWarning: Extremely small n_ess encountered (1.1235434598495977). Resampling is likely to fail. Consider adding particles, or resampling more often.\n",
      "  ApproximationWarning\n"
     ]
    },
    {
     "name": "stdout",
     "output_type": "stream",
     "text": [
      "LogTotLikelihoods updated\n",
      "Total elapsed time for Bayes factor update: 218.79613021637124\n",
      "[[ 0.01483674]]\n",
      "Initialization Ready\n",
      "[[ 0.23773729]]\n",
      "Initialization Ready\n",
      "[[ 0.86634771]]\n",
      "Initialization Ready\n",
      "[[ 0.72993142  0.25131217]]\n",
      "Initialization Ready\n",
      "[[ 0.46162278  0.80818497]]\n",
      "Initialization Ready\n",
      "[[ 0.98639507  0.43370561]]\n",
      "Initialization Ready\n",
      "[[ 0.34880421  0.06529645  0.78052672]]\n",
      "Initialization Ready\n",
      "Initial time selected > 1.75335584308\n",
      "Final time selected > 68.5582905645\n",
      "Final Parameters mean and stdev:[ 0.51302194  0.01909538]\n",
      "Batch single time 0 elapsed time: 15.866327400141017\n",
      "\n",
      "\n",
      "Initial time selected > 3.84278555012\n",
      "Final time selected > 9903.85757119\n",
      "Exiting learning for Reaching Cov. Norm. Thrshold of 8.15960024908e-07\n",
      " at Iteration Number 79\n",
      "Final Parameters mean and stdev:[ 0.48146558  0.00090331]\n",
      "Batch single time 1 elapsed time: 12.381257378419832\n",
      "\n",
      "\n",
      "Initial time selected > 1.33120845697\n",
      "Final time selected > 4.73975695415\n",
      "Final Parameters mean and stdev:[-0.45571654  0.12101439]\n",
      "Batch single time 2 elapsed time: 23.80405835331112\n",
      "\n",
      "\n",
      "Initial time selected > 0.733023761548\n",
      "Final time selected > 31.8810840401\n",
      "Final Parameters mean and stdev:[ 0.02250975  0.01963136]\n",
      "Final Parameters mean and stdev:[ 0.48476894  0.01058739]\n",
      "Batch single time 3 elapsed time: 15.480994718327565\n",
      "\n",
      "\n",
      "Initial time selected > 0.501693676125\n",
      "Final time selected > 3.90636127813\n",
      "Final Parameters mean and stdev:[ 0.36651843  0.17909753]\n",
      "Final Parameters mean and stdev:[ 0.35668307  0.24167879]\n",
      "Batch single time 4 elapsed time: 15.524712361708225\n",
      "\n",
      "\n",
      "Initial time selected > 1.96562230664\n",
      "Final time selected > 48.9883518485\n",
      "Final Parameters mean and stdev:[ 0.48793265  0.01035108]\n",
      "Final Parameters mean and stdev:[-0.0014686   0.01572854]\n",
      "Batch single time 5 elapsed time: 15.555146700990008\n",
      "\n",
      "\n",
      "Initial time selected > 0.650165487452\n",
      "Final time selected > 1.84920663698\n",
      "Final Parameters mean and stdev:[ 0.31398545  0.19328718]\n",
      "Final Parameters mean and stdev:[ 0.30099362  0.15005074]\n",
      "Final Parameters mean and stdev:[ 0.34186557  0.1753293 ]\n",
      "Batch single time 6 elapsed time: 15.318904574338376\n",
      "\n",
      "\n"
     ]
    },
    {
     "name": "stderr",
     "output_type": "stream",
     "text": [
      "C:\\Program Files\\Anaconda3\\lib\\site-packages\\qinfer\\smc.py:285: ApproximationWarning: Extremely small n_ess encountered (2.5365270083054723). Resampling is likely to fail. Consider adding particles, or resampling more often.\n",
      "  ApproximationWarning\n"
     ]
    },
    {
     "name": "stdout",
     "output_type": "stream",
     "text": [
      "LogTotLikelihoods updated\n",
      "LogTotLikelihoods updated\n"
     ]
    },
    {
     "name": "stderr",
     "output_type": "stream",
     "text": [
      "C:\\Program Files\\Anaconda3\\lib\\site-packages\\qinfer\\smc.py:285: ApproximationWarning: Extremely small n_ess encountered (3.007321759469247). Resampling is likely to fail. Consider adding particles, or resampling more often.\n",
      "  ApproximationWarning\n"
     ]
    },
    {
     "name": "stdout",
     "output_type": "stream",
     "text": [
      "LogTotLikelihoods updated\n",
      "LogTotLikelihoods updated\n"
     ]
    },
    {
     "name": "stderr",
     "output_type": "stream",
     "text": [
      "C:\\Program Files\\Anaconda3\\lib\\site-packages\\qinfer\\smc.py:285: ApproximationWarning: Extremely small n_ess encountered (2.995078673052803). Resampling is likely to fail. Consider adding particles, or resampling more often.\n",
      "  ApproximationWarning\n"
     ]
    },
    {
     "name": "stdout",
     "output_type": "stream",
     "text": [
      "LogTotLikelihoods updated\n"
     ]
    },
    {
     "name": "stderr",
     "output_type": "stream",
     "text": [
      "C:\\Program Files\\Anaconda3\\lib\\site-packages\\qinfer\\smc.py:285: ApproximationWarning: Extremely small n_ess encountered (3.5081126778587297). Resampling is likely to fail. Consider adding particles, or resampling more often.\n",
      "  ApproximationWarning\n"
     ]
    },
    {
     "name": "stdout",
     "output_type": "stream",
     "text": [
      "LogTotLikelihoods updated\n"
     ]
    },
    {
     "name": "stderr",
     "output_type": "stream",
     "text": [
      "C:\\Program Files\\Anaconda3\\lib\\site-packages\\qinfer\\smc.py:285: ApproximationWarning: Extremely small n_ess encountered (1.1144729573637595). Resampling is likely to fail. Consider adding particles, or resampling more often.\n",
      "  ApproximationWarning\n"
     ]
    },
    {
     "name": "stdout",
     "output_type": "stream",
     "text": [
      "LogTotLikelihoods updated\n",
      "Total elapsed time for the learning process: 253.83488267694702\n"
     ]
    },
    {
     "name": "stderr",
     "output_type": "stream",
     "text": [
      "C:\\Program Files\\Anaconda3\\lib\\site-packages\\qinfer\\smc.py:285: ApproximationWarning: Extremely small n_ess encountered (1.0000001102886662). Resampling is likely to fail. Consider adding particles, or resampling more often.\n",
      "  ApproximationWarning\n"
     ]
    },
    {
     "name": "stdout",
     "output_type": "stream",
     "text": [
      "LogTotLikelihoods updated\n",
      "LogTotLikelihoods updated\n"
     ]
    },
    {
     "name": "stderr",
     "output_type": "stream",
     "text": [
      "C:\\Program Files\\Anaconda3\\lib\\site-packages\\qinfer\\smc.py:285: ApproximationWarning: Extremely small n_ess encountered (2.191932581901422). Resampling is likely to fail. Consider adding particles, or resampling more often.\n",
      "  ApproximationWarning\n"
     ]
    },
    {
     "name": "stdout",
     "output_type": "stream",
     "text": [
      "LogTotLikelihoods updated\n",
      "LogTotLikelihoods updated\n"
     ]
    },
    {
     "name": "stderr",
     "output_type": "stream",
     "text": [
      "C:\\Program Files\\Anaconda3\\lib\\site-packages\\qinfer\\smc.py:285: ApproximationWarning: Extremely small n_ess encountered (1.2923999701195876). Resampling is likely to fail. Consider adding particles, or resampling more often.\n",
      "  ApproximationWarning\n"
     ]
    },
    {
     "name": "stdout",
     "output_type": "stream",
     "text": [
      "LogTotLikelihoods updated\n"
     ]
    },
    {
     "name": "stderr",
     "output_type": "stream",
     "text": [
      "C:\\Program Files\\Anaconda3\\lib\\site-packages\\qinfer\\smc.py:285: ApproximationWarning: Extremely small n_ess encountered (1.104093166417441). Resampling is likely to fail. Consider adding particles, or resampling more often.\n",
      "  ApproximationWarning\n"
     ]
    },
    {
     "name": "stdout",
     "output_type": "stream",
     "text": [
      "LogTotLikelihoods updated\n",
      "LogTotLikelihoods updated\n",
      "Total elapsed time for Bayes factor update: 216.5681337096794\n",
      "[[ 0.40678718]]\n",
      "Initialization Ready\n",
      "[[ 0.54142739]]\n",
      "Initialization Ready\n",
      "[[ 0.89937083]]\n",
      "Initialization Ready\n",
      "[[ 0.9203727   0.87913234]]\n",
      "Initialization Ready\n",
      "[[ 0.23747279  0.39464048]]\n",
      "Initialization Ready\n",
      "[[ 0.58864833  0.82415884]]\n",
      "Initialization Ready\n",
      "[[ 0.50372911  0.71599843  0.33767843]]\n",
      "Initialization Ready\n",
      "Initial time selected > 1.09347659172\n",
      "Final time selected > 14.9861425703\n",
      "Final Parameters mean and stdev:[ 0.17890498  0.2201576 ]\n",
      "Batch single time 0 elapsed time: 15.726922228910553\n",
      "\n",
      "\n",
      "Initial time selected > 0.543977039566\n",
      "Final time selected > 1002.59851297\n",
      "Final Parameters mean and stdev:[ 0.75833845  0.00525571]\n",
      "Batch single time 1 elapsed time: 15.679799340137833\n",
      "\n",
      "\n",
      "Initial time selected > 4.15207735764\n",
      "Final time selected > 20.2609870409\n",
      "Final Parameters mean and stdev:[ 0.65688905  0.16832138]\n",
      "Batch single time 2 elapsed time: 23.494266104400594\n",
      "\n",
      "\n",
      "Initial time selected > 0.518816503118\n",
      "Final time selected > 21.2353280699\n",
      "Final Parameters mean and stdev:[ 0.3756873   0.06801118]\n",
      "Final Parameters mean and stdev:[ 0.7444917   0.02213081]\n",
      "Batch single time 3 elapsed time: 15.528357291881548\n",
      "\n",
      "\n",
      "Initial time selected > 0.844198612738\n",
      "Final time selected > 1.37852752868\n",
      "Final Parameters mean and stdev:[ 0.82741216  0.14750907]\n",
      "Final Parameters mean and stdev:[ 0.35546877  0.21000553]\n",
      "Batch single time 4 elapsed time: 15.438641027016274\n",
      "\n",
      "\n",
      "Initial time selected > 1.51454722873\n",
      "Final time selected > 6.50950888007\n",
      "Final Parameters mean and stdev:[ 0.38738637  0.11465347]\n",
      "Final Parameters mean and stdev:[-0.56550925  0.1130349 ]\n",
      "Batch single time 5 elapsed time: 15.593313853976724\n",
      "\n",
      "\n",
      "Initial time selected > 0.425799679151\n",
      "Final time selected > 43.6134969855\n",
      "Final Parameters mean and stdev:[ 0.23272775  0.00892071]\n",
      "Final Parameters mean and stdev:[ 0.15235664  0.0231631 ]\n",
      "Final Parameters mean and stdev:[ 0.06803124  0.01731279]\n",
      "Batch single time 6 elapsed time: 15.367518540806486\n",
      "\n",
      "\n",
      "LogTotLikelihoods updated\n"
     ]
    },
    {
     "name": "stderr",
     "output_type": "stream",
     "text": [
      "C:\\Program Files\\Anaconda3\\lib\\site-packages\\qinfer\\smc.py:285: ApproximationWarning: Extremely small n_ess encountered (1.0001983980395939). Resampling is likely to fail. Consider adding particles, or resampling more often.\n",
      "  ApproximationWarning\n"
     ]
    },
    {
     "name": "stdout",
     "output_type": "stream",
     "text": [
      "LogTotLikelihoods updated\n"
     ]
    },
    {
     "name": "stderr",
     "output_type": "stream",
     "text": [
      "C:\\Program Files\\Anaconda3\\lib\\site-packages\\qinfer\\smc.py:285: ApproximationWarning: Extremely small n_ess encountered (4.07406683525183). Resampling is likely to fail. Consider adding particles, or resampling more often.\n",
      "  ApproximationWarning\n"
     ]
    },
    {
     "name": "stdout",
     "output_type": "stream",
     "text": [
      "LogTotLikelihoods updated\n"
     ]
    },
    {
     "name": "stderr",
     "output_type": "stream",
     "text": [
      "C:\\Program Files\\Anaconda3\\lib\\site-packages\\qinfer\\smc.py:285: ApproximationWarning: Extremely small n_ess encountered (4.810987854442523). Resampling is likely to fail. Consider adding particles, or resampling more often.\n",
      "  ApproximationWarning\n"
     ]
    },
    {
     "name": "stdout",
     "output_type": "stream",
     "text": [
      "LogTotLikelihoods updated\n"
     ]
    },
    {
     "name": "stderr",
     "output_type": "stream",
     "text": [
      "C:\\Program Files\\Anaconda3\\lib\\site-packages\\qinfer\\smc.py:285: ApproximationWarning: Extremely small n_ess encountered (1.5726901573731362). Resampling is likely to fail. Consider adding particles, or resampling more often.\n",
      "  ApproximationWarning\n"
     ]
    },
    {
     "name": "stdout",
     "output_type": "stream",
     "text": [
      "LogTotLikelihoods updated\n"
     ]
    },
    {
     "name": "stderr",
     "output_type": "stream",
     "text": [
      "C:\\Program Files\\Anaconda3\\lib\\site-packages\\qinfer\\smc.py:285: ApproximationWarning: Extremely small n_ess encountered (3.0804123595840713). Resampling is likely to fail. Consider adding particles, or resampling more often.\n",
      "  ApproximationWarning\n"
     ]
    },
    {
     "name": "stdout",
     "output_type": "stream",
     "text": [
      "LogTotLikelihoods updated\n"
     ]
    },
    {
     "name": "stderr",
     "output_type": "stream",
     "text": [
      "C:\\Program Files\\Anaconda3\\lib\\site-packages\\qinfer\\smc.py:285: ApproximationWarning: Extremely small n_ess encountered (1.076423840647725). Resampling is likely to fail. Consider adding particles, or resampling more often.\n",
      "  ApproximationWarning\n"
     ]
    },
    {
     "name": "stdout",
     "output_type": "stream",
     "text": [
      "LogTotLikelihoods updated\n",
      "Total elapsed time for the learning process: 257.2547101039054\n"
     ]
    },
    {
     "name": "stderr",
     "output_type": "stream",
     "text": [
      "C:\\Program Files\\Anaconda3\\lib\\site-packages\\qinfer\\smc.py:285: ApproximationWarning: Extremely small n_ess encountered (3.6991705359890883). Resampling is likely to fail. Consider adding particles, or resampling more often.\n",
      "  ApproximationWarning\n"
     ]
    },
    {
     "name": "stdout",
     "output_type": "stream",
     "text": [
      "LogTotLikelihoods updated\n",
      "LogTotLikelihoods updated\n"
     ]
    },
    {
     "name": "stderr",
     "output_type": "stream",
     "text": [
      "C:\\Program Files\\Anaconda3\\lib\\site-packages\\qinfer\\smc.py:285: ApproximationWarning: Extremely small n_ess encountered (8.010660240869374). Resampling is likely to fail. Consider adding particles, or resampling more often.\n",
      "  ApproximationWarning\n"
     ]
    },
    {
     "name": "stdout",
     "output_type": "stream",
     "text": [
      "LogTotLikelihoods updated\n"
     ]
    },
    {
     "name": "stderr",
     "output_type": "stream",
     "text": [
      "C:\\Program Files\\Anaconda3\\lib\\site-packages\\qinfer\\smc.py:285: ApproximationWarning: Extremely small n_ess encountered (7.112237812797828). Resampling is likely to fail. Consider adding particles, or resampling more often.\n",
      "  ApproximationWarning\n"
     ]
    },
    {
     "name": "stdout",
     "output_type": "stream",
     "text": [
      "LogTotLikelihoods updated\n"
     ]
    },
    {
     "name": "stderr",
     "output_type": "stream",
     "text": [
      "C:\\Program Files\\Anaconda3\\lib\\site-packages\\qinfer\\smc.py:285: ApproximationWarning: Extremely small n_ess encountered (1.5695491042769123). Resampling is likely to fail. Consider adding particles, or resampling more often.\n",
      "  ApproximationWarning\n"
     ]
    },
    {
     "name": "stdout",
     "output_type": "stream",
     "text": [
      "LogTotLikelihoods updated\n",
      "LogTotLikelihoods updated\n",
      "LogTotLikelihoods updated\n",
      "Total elapsed time for Bayes factor update: 217.5024246565481\n",
      "[[ 0.10277817]]\n",
      "Initialization Ready\n",
      "[[ 0.09908499]]\n",
      "Initialization Ready\n",
      "[[ 0.77970421]]\n",
      "Initialization Ready\n",
      "[[ 0.4238527   0.46650942]]\n",
      "Initialization Ready\n",
      "[[ 0.24975084  0.69679336]]\n",
      "Initialization Ready\n",
      "[[ 0.62819734  0.87556858]]\n",
      "Initialization Ready\n",
      "[[ 0.52839958  0.97880257  0.01365096]]\n",
      "Initialization Ready\n",
      "Initial time selected > 6.9419798339\n",
      "Final time selected > 0.553771825142\n",
      "Final Parameters mean and stdev:[ 0.53993269  0.54232082]\n",
      "Batch single time 0 elapsed time: 15.772150482316647\n",
      "\n",
      "\n",
      "Initial time selected > 0.839746911357\n",
      "Final time selected > 25.0864192356\n",
      "Final Parameters mean and stdev:[ 0.22304452  0.02542732]\n",
      "Batch single time 1 elapsed time: 15.821905931006768\n",
      "\n",
      "\n",
      "Initial time selected > 6.88215244221\n",
      "Final time selected > 476.45155531\n",
      "Exiting learning for Reaching Cov. Norm. Thrshold of 6.62906452176e-07\n",
      " at Iteration Number 70\n",
      "Final Parameters mean and stdev:[ 0.85194739  0.00123284]\n",
      "Batch single time 2 elapsed time: 17.079583292779716\n",
      "\n",
      "\n",
      "Initial time selected > 0.359740651013\n",
      "Final time selected > 11.8944599848\n",
      "Final Parameters mean and stdev:[-0.79121442  0.04561604]\n",
      "Final Parameters mean and stdev:[ 0.11206149  0.0535847 ]\n",
      "Batch single time 3 elapsed time: 15.48911453688197\n",
      "\n",
      "\n",
      "Initial time selected > 0.805086583901\n",
      "Final time selected > 8.374703905\n",
      "Final Parameters mean and stdev:[ 0.21707795  0.15855356]\n",
      "Final Parameters mean and stdev:[-0.01512953  0.06072803]\n",
      "Batch single time 4 elapsed time: 15.550823767462134\n",
      "\n",
      "\n",
      "Initial time selected > 0.509341235938\n",
      "Final time selected > 1.873109163\n",
      "Final Parameters mean and stdev:[ 0.01684471  0.26114425]\n",
      "Final Parameters mean and stdev:[ 0.96005221  0.17274964]\n",
      "Batch single time 5 elapsed time: 15.707301844580797\n",
      "\n",
      "\n",
      "Initial time selected > 0.473599935236\n",
      "Final time selected > 1.32792970157\n",
      "Final Parameters mean and stdev:[ 0.96883954  0.22226538]\n",
      "Final Parameters mean and stdev:[ 0.66245901  0.61209781]\n",
      "Final Parameters mean and stdev:[ 1.14677798  0.50263095]\n",
      "Batch single time 6 elapsed time: 15.429645233416522\n",
      "\n",
      "\n"
     ]
    },
    {
     "name": "stderr",
     "output_type": "stream",
     "text": [
      "C:\\Program Files\\Anaconda3\\lib\\site-packages\\qinfer\\smc.py:285: ApproximationWarning: Extremely small n_ess encountered (1.0451931063779287). Resampling is likely to fail. Consider adding particles, or resampling more often.\n",
      "  ApproximationWarning\n"
     ]
    },
    {
     "name": "stdout",
     "output_type": "stream",
     "text": [
      "LogTotLikelihoods updated\n"
     ]
    },
    {
     "name": "stderr",
     "output_type": "stream",
     "text": [
      "C:\\Program Files\\Anaconda3\\lib\\site-packages\\qinfer\\smc.py:285: ApproximationWarning: Extremely small n_ess encountered (1.0004859621714295). Resampling is likely to fail. Consider adding particles, or resampling more often.\n",
      "  ApproximationWarning\n"
     ]
    },
    {
     "name": "stdout",
     "output_type": "stream",
     "text": [
      "LogTotLikelihoods updated\n",
      "LogTotLikelihoods updated\n"
     ]
    },
    {
     "name": "stderr",
     "output_type": "stream",
     "text": [
      "C:\\Program Files\\Anaconda3\\lib\\site-packages\\qinfer\\smc.py:285: ApproximationWarning: Extremely small n_ess encountered (9.02437331495814). Resampling is likely to fail. Consider adding particles, or resampling more often.\n",
      "  ApproximationWarning\n"
     ]
    },
    {
     "name": "stdout",
     "output_type": "stream",
     "text": [
      "LogTotLikelihoods updated\n"
     ]
    },
    {
     "name": "stderr",
     "output_type": "stream",
     "text": [
      "C:\\Program Files\\Anaconda3\\lib\\site-packages\\qinfer\\smc.py:285: ApproximationWarning: Extremely small n_ess encountered (2.694901550394293). Resampling is likely to fail. Consider adding particles, or resampling more often.\n",
      "  ApproximationWarning\n"
     ]
    },
    {
     "name": "stdout",
     "output_type": "stream",
     "text": [
      "LogTotLikelihoods updated\n"
     ]
    },
    {
     "name": "stderr",
     "output_type": "stream",
     "text": [
      "C:\\Program Files\\Anaconda3\\lib\\site-packages\\qinfer\\smc.py:285: ApproximationWarning: Extremely small n_ess encountered (1.0023180848528441). Resampling is likely to fail. Consider adding particles, or resampling more often.\n",
      "  ApproximationWarning\n"
     ]
    },
    {
     "name": "stdout",
     "output_type": "stream",
     "text": [
      "LogTotLikelihoods updated\n"
     ]
    },
    {
     "name": "stderr",
     "output_type": "stream",
     "text": [
      "C:\\Program Files\\Anaconda3\\lib\\site-packages\\qinfer\\smc.py:285: ApproximationWarning: Extremely small n_ess encountered (2.3768688520751495). Resampling is likely to fail. Consider adding particles, or resampling more often.\n",
      "  ApproximationWarning\n"
     ]
    },
    {
     "name": "stdout",
     "output_type": "stream",
     "text": [
      "LogTotLikelihoods updated\n",
      "Total elapsed time for the learning process: 248.77369055635427\n",
      "LogTotLikelihoods updated\n",
      "LogTotLikelihoods updated\n",
      "LogTotLikelihoods updated\n"
     ]
    },
    {
     "name": "stderr",
     "output_type": "stream",
     "text": [
      "C:\\Program Files\\Anaconda3\\lib\\site-packages\\qinfer\\smc.py:285: ApproximationWarning: Extremely small n_ess encountered (1.0092949946106913). Resampling is likely to fail. Consider adding particles, or resampling more often.\n",
      "  ApproximationWarning\n"
     ]
    },
    {
     "name": "stdout",
     "output_type": "stream",
     "text": [
      "LogTotLikelihoods updated\n"
     ]
    },
    {
     "name": "stderr",
     "output_type": "stream",
     "text": [
      "C:\\Program Files\\Anaconda3\\lib\\site-packages\\qinfer\\smc.py:285: ApproximationWarning: Extremely small n_ess encountered (2.303091115532874). Resampling is likely to fail. Consider adding particles, or resampling more often.\n",
      "  ApproximationWarning\n"
     ]
    },
    {
     "name": "stdout",
     "output_type": "stream",
     "text": [
      "LogTotLikelihoods updated\n",
      "LogTotLikelihoods updated\n"
     ]
    },
    {
     "name": "stderr",
     "output_type": "stream",
     "text": [
      "C:\\Program Files\\Anaconda3\\lib\\site-packages\\qinfer\\smc.py:285: ApproximationWarning: Extremely small n_ess encountered (1.343060729674056). Resampling is likely to fail. Consider adding particles, or resampling more often.\n",
      "  ApproximationWarning\n"
     ]
    },
    {
     "name": "stdout",
     "output_type": "stream",
     "text": [
      "LogTotLikelihoods updated\n",
      "Total elapsed time for Bayes factor update: 215.45852658746298\n",
      "[[ 0.52048994]]\n",
      "Initialization Ready\n",
      "[[ 0.66578039]]\n",
      "Initialization Ready\n",
      "[[ 0.00039767]]\n",
      "Initialization Ready\n",
      "[[ 0.84267466  0.04458571]]\n",
      "Initialization Ready\n",
      "[[ 0.30261941  0.02011   ]]\n",
      "Initialization Ready\n",
      "[[ 0.66125027  0.97186591]]\n",
      "Initialization Ready\n",
      "[[ 0.84680707  0.78292832  0.83216076]]\n",
      "Initialization Ready\n",
      "Initial time selected > 0.783537349477\n",
      "Final time selected > 2.71002736852\n",
      "Final Parameters mean and stdev:[-0.07831227  0.41845233]\n",
      "Batch single time 0 elapsed time: 15.58499407740237\n",
      "\n",
      "\n",
      "Initial time selected > 0.589194826888\n",
      "Final time selected > 6777.59877713\n",
      "Final Parameters mean and stdev:[ 1.15176045  0.00454108]\n",
      "Batch single time 1 elapsed time: 15.709892029288312\n",
      "\n",
      "\n",
      "Initial time selected > 1.5829716886\n",
      "Final time selected > 328.499872127\n",
      "Exiting learning for Reaching Cov. Norm. Thrshold of 9.44712942125e-07\n",
      " at Iteration Number 84\n",
      "Final Parameters mean and stdev:[ 0.41244652  0.00109068]\n",
      "Batch single time 2 elapsed time: 20.022743238670955\n",
      "\n",
      "\n",
      "Initial time selected > 0.925106756877\n",
      "Final time selected > 26.3909830291\n",
      "Final Parameters mean and stdev:[ 0.70333454  0.07424817]\n",
      "Final Parameters mean and stdev:[-0.15654185  0.02477662]\n",
      "Batch single time 3 elapsed time: 15.681829708595615\n",
      "\n",
      "\n",
      "Initial time selected > 0.481936373723\n",
      "Final time selected > 315.148120099\n",
      "Final Parameters mean and stdev:[ 0.01927217  0.05129225]\n",
      "Final Parameters mean and stdev:[ 0.39921258  0.05124991]\n",
      "Batch single time 4 elapsed time: 15.739871828231117\n",
      "\n",
      "\n",
      "Initial time selected > 0.604064635243\n",
      "Final time selected > 233.64760661\n",
      "Final Parameters mean and stdev:[-0.00156243  0.00413814]\n",
      "Final Parameters mean and stdev:[ 0.41312771  0.00391623]\n",
      "Batch single time 5 elapsed time: 15.531133199190663\n",
      "\n",
      "\n",
      "Initial time selected > 0.865471166901\n",
      "Final time selected > 6.9213908663\n",
      "Final Parameters mean and stdev:[ 0.3635147   0.05579824]\n",
      "Final Parameters mean and stdev:[ 0.00513496  0.03998051]\n",
      "Final Parameters mean and stdev:[-0.16852237  0.03671574]\n",
      "Batch single time 6 elapsed time: 15.392969820240978\n",
      "\n",
      "\n"
     ]
    },
    {
     "name": "stderr",
     "output_type": "stream",
     "text": [
      "C:\\Program Files\\Anaconda3\\lib\\site-packages\\qinfer\\smc.py:285: ApproximationWarning: Extremely small n_ess encountered (1.368469128553927). Resampling is likely to fail. Consider adding particles, or resampling more often.\n",
      "  ApproximationWarning\n"
     ]
    },
    {
     "name": "stdout",
     "output_type": "stream",
     "text": [
      "LogTotLikelihoods updated\n"
     ]
    },
    {
     "name": "stderr",
     "output_type": "stream",
     "text": [
      "C:\\Program Files\\Anaconda3\\lib\\site-packages\\qinfer\\smc.py:285: ApproximationWarning: Extremely small n_ess encountered (2.4794398708912473). Resampling is likely to fail. Consider adding particles, or resampling more often.\n",
      "  ApproximationWarning\n"
     ]
    },
    {
     "name": "stdout",
     "output_type": "stream",
     "text": [
      "LogTotLikelihoods updated\n",
      "LogTotLikelihoods updated\n"
     ]
    },
    {
     "name": "stderr",
     "output_type": "stream",
     "text": [
      "C:\\Program Files\\Anaconda3\\lib\\site-packages\\qinfer\\smc.py:285: ApproximationWarning: Extremely small n_ess encountered (2.0057462765681167). Resampling is likely to fail. Consider adding particles, or resampling more often.\n",
      "  ApproximationWarning\n"
     ]
    },
    {
     "name": "stdout",
     "output_type": "stream",
     "text": [
      "LogTotLikelihoods updated\n"
     ]
    },
    {
     "name": "stderr",
     "output_type": "stream",
     "text": [
      "C:\\Program Files\\Anaconda3\\lib\\site-packages\\qinfer\\smc.py:285: ApproximationWarning: Extremely small n_ess encountered (1.0694219443575868). Resampling is likely to fail. Consider adding particles, or resampling more often.\n",
      "  ApproximationWarning\n"
     ]
    },
    {
     "name": "stdout",
     "output_type": "stream",
     "text": [
      "LogTotLikelihoods updated\n"
     ]
    },
    {
     "name": "stderr",
     "output_type": "stream",
     "text": [
      "C:\\Program Files\\Anaconda3\\lib\\site-packages\\qinfer\\smc.py:285: ApproximationWarning: Extremely small n_ess encountered (7.001421466124613). Resampling is likely to fail. Consider adding particles, or resampling more often.\n",
      "  ApproximationWarning\n"
     ]
    },
    {
     "name": "stdout",
     "output_type": "stream",
     "text": [
      "LogTotLikelihoods updated\n"
     ]
    },
    {
     "name": "stderr",
     "output_type": "stream",
     "text": [
      "C:\\Program Files\\Anaconda3\\lib\\site-packages\\qinfer\\smc.py:285: ApproximationWarning: Extremely small n_ess encountered (2.1733506594330882). Resampling is likely to fail. Consider adding particles, or resampling more often.\n",
      "  ApproximationWarning\n"
     ]
    },
    {
     "name": "stdout",
     "output_type": "stream",
     "text": [
      "LogTotLikelihoods updated\n",
      "Total elapsed time for the learning process: 250.79559721568512\n",
      "LogTotLikelihoods updated\n",
      "LogTotLikelihoods updated\n",
      "LogTotLikelihoods updated\n",
      "LogTotLikelihoods updated\n",
      "LogTotLikelihoods updated\n",
      "LogTotLikelihoods updated\n"
     ]
    },
    {
     "name": "stderr",
     "output_type": "stream",
     "text": [
      "C:\\Program Files\\Anaconda3\\lib\\site-packages\\qinfer\\smc.py:285: ApproximationWarning: Extremely small n_ess encountered (6.661782271458532). Resampling is likely to fail. Consider adding particles, or resampling more often.\n",
      "  ApproximationWarning\n"
     ]
    },
    {
     "name": "stdout",
     "output_type": "stream",
     "text": [
      "LogTotLikelihoods updated\n",
      "Total elapsed time for Bayes factor update: 206.2427629431404\n",
      "[[ 0.83930721]]\n",
      "Initialization Ready\n",
      "[[ 0.12533493]]\n",
      "Initialization Ready\n",
      "[[ 0.42585417]]\n",
      "Initialization Ready\n",
      "[[ 0.67540934  0.81651722]]\n",
      "Initialization Ready\n",
      "[[ 0.23637779  0.18481261]]\n",
      "Initialization Ready\n",
      "[[ 0.41413011  0.43401632]]\n",
      "Initialization Ready\n",
      "[[ 0.99681655  0.48933684  0.72095669]]\n",
      "Initialization Ready\n",
      "Initial time selected > 0.97220270525\n",
      "Final time selected > 75.0154409756\n",
      "Final Parameters mean and stdev:[-0.11044139  0.4112554 ]\n",
      "Batch single time 0 elapsed time: 15.789138637781434\n",
      "\n",
      "\n",
      "Initial time selected > 4.2259403139\n",
      "Final time selected > 711.806555369\n",
      "Exiting learning for Reaching Cov. Norm. Thrshold of 9.91321890575e-07\n",
      " at Iteration Number 63\n",
      "Final Parameters mean and stdev:[ 0.61549543  0.00197473]\n",
      "Batch single time 1 elapsed time: 10.047994891137932\n",
      "\n",
      "\n",
      "Initial time selected > 0.6788402864\n",
      "Final time selected > 99.7172384889\n",
      "Final Parameters mean and stdev:[ 0.38682845  0.01055572]\n",
      "Batch single time 2 elapsed time: 23.889117648810497\n",
      "\n",
      "\n",
      "Initial time selected > 0.443332209899\n",
      "Final time selected > 13.7795596653\n",
      "Final Parameters mean and stdev:[ 0.00348778  0.01538262]\n",
      "Final Parameters mean and stdev:[ 0.60951273  0.01938871]\n",
      "Batch single time 3 elapsed time: 15.525654216962721\n",
      "\n",
      "\n",
      "Initial time selected > 0.485731444174\n",
      "Final time selected > 1.1440230692\n",
      "Final Parameters mean and stdev:[ 0.23263911  0.16248043]\n",
      "Final Parameters mean and stdev:[ 0.6272904   0.27294983]\n",
      "Batch single time 4 elapsed time: 15.65936621252331\n",
      "\n",
      "\n",
      "Initial time selected > 1.45787491787\n",
      "Final time selected > 30.8943221764\n",
      "Final Parameters mean and stdev:[ 0.61228859  0.01792096]\n",
      "Final Parameters mean and stdev:[-0.03328376  0.02909708]\n",
      "Batch single time 5 elapsed time: 15.630171679193154\n",
      "\n",
      "\n",
      "Initial time selected > 0.458703538052\n",
      "Final time selected > 3.52760122166\n",
      "Final Parameters mean and stdev:[-0.15175341  0.09286012]\n",
      "Final Parameters mean and stdev:[ 1.15347107  0.03328562]\n",
      "Final Parameters mean and stdev:[ 0.16409881  0.03551634]\n",
      "Batch single time 6 elapsed time: 15.381774819459679\n",
      "\n",
      "\n"
     ]
    },
    {
     "name": "stderr",
     "output_type": "stream",
     "text": [
      "C:\\Program Files\\Anaconda3\\lib\\site-packages\\qinfer\\smc.py:285: ApproximationWarning: Extremely small n_ess encountered (1.558506946152499). Resampling is likely to fail. Consider adding particles, or resampling more often.\n",
      "  ApproximationWarning\n"
     ]
    },
    {
     "name": "stdout",
     "output_type": "stream",
     "text": [
      "LogTotLikelihoods updated\n",
      "LogTotLikelihoods updated\n"
     ]
    },
    {
     "name": "stderr",
     "output_type": "stream",
     "text": [
      "C:\\Program Files\\Anaconda3\\lib\\site-packages\\qinfer\\smc.py:285: ApproximationWarning: Extremely small n_ess encountered (1.004264852373349). Resampling is likely to fail. Consider adding particles, or resampling more often.\n",
      "  ApproximationWarning\n"
     ]
    },
    {
     "name": "stdout",
     "output_type": "stream",
     "text": [
      "LogTotLikelihoods updated\n"
     ]
    },
    {
     "name": "stderr",
     "output_type": "stream",
     "text": [
      "C:\\Program Files\\Anaconda3\\lib\\site-packages\\qinfer\\smc.py:285: ApproximationWarning: Extremely small n_ess encountered (7.278855427362162). Resampling is likely to fail. Consider adding particles, or resampling more often.\n",
      "  ApproximationWarning\n"
     ]
    },
    {
     "name": "stdout",
     "output_type": "stream",
     "text": [
      "LogTotLikelihoods updated\n"
     ]
    },
    {
     "name": "stderr",
     "output_type": "stream",
     "text": [
      "C:\\Program Files\\Anaconda3\\lib\\site-packages\\qinfer\\smc.py:285: ApproximationWarning: Extremely small n_ess encountered (1.4017710439035287). Resampling is likely to fail. Consider adding particles, or resampling more often.\n",
      "  ApproximationWarning\n"
     ]
    },
    {
     "name": "stdout",
     "output_type": "stream",
     "text": [
      "LogTotLikelihoods updated\n"
     ]
    },
    {
     "name": "stderr",
     "output_type": "stream",
     "text": [
      "C:\\Program Files\\Anaconda3\\lib\\site-packages\\qinfer\\smc.py:285: ApproximationWarning: Extremely small n_ess encountered (3.7484238105292564). Resampling is likely to fail. Consider adding particles, or resampling more often.\n",
      "  ApproximationWarning\n"
     ]
    },
    {
     "name": "stdout",
     "output_type": "stream",
     "text": [
      "LogTotLikelihoods updated\n"
     ]
    },
    {
     "name": "stderr",
     "output_type": "stream",
     "text": [
      "C:\\Program Files\\Anaconda3\\lib\\site-packages\\qinfer\\smc.py:285: ApproximationWarning: Extremely small n_ess encountered (3.453883066984653). Resampling is likely to fail. Consider adding particles, or resampling more often.\n",
      "  ApproximationWarning\n"
     ]
    },
    {
     "name": "stdout",
     "output_type": "stream",
     "text": [
      "LogTotLikelihoods updated\n",
      "Total elapsed time for the learning process: 250.28438069623735\n"
     ]
    },
    {
     "name": "stderr",
     "output_type": "stream",
     "text": [
      "C:\\Program Files\\Anaconda3\\lib\\site-packages\\qinfer\\smc.py:285: ApproximationWarning: Extremely small n_ess encountered (2.463103360891106). Resampling is likely to fail. Consider adding particles, or resampling more often.\n",
      "  ApproximationWarning\n"
     ]
    },
    {
     "name": "stdout",
     "output_type": "stream",
     "text": [
      "LogTotLikelihoods updated\n",
      "LogTotLikelihoods updated\n",
      "LogTotLikelihoods updated\n",
      "LogTotLikelihoods updated\n",
      "LogTotLikelihoods updated\n"
     ]
    },
    {
     "name": "stderr",
     "output_type": "stream",
     "text": [
      "C:\\Program Files\\Anaconda3\\lib\\site-packages\\qinfer\\smc.py:285: ApproximationWarning: Extremely small n_ess encountered (2.5787368386087635). Resampling is likely to fail. Consider adding particles, or resampling more often.\n",
      "  ApproximationWarning\n"
     ]
    },
    {
     "name": "stdout",
     "output_type": "stream",
     "text": [
      "LogTotLikelihoods updated\n"
     ]
    },
    {
     "name": "stderr",
     "output_type": "stream",
     "text": [
      "C:\\Program Files\\Anaconda3\\lib\\site-packages\\qinfer\\smc.py:285: ApproximationWarning: Extremely small n_ess encountered (1.4863566009952067). Resampling is likely to fail. Consider adding particles, or resampling more often.\n",
      "  ApproximationWarning\n"
     ]
    },
    {
     "name": "stdout",
     "output_type": "stream",
     "text": [
      "LogTotLikelihoods updated\n",
      "Total elapsed time for Bayes factor update: 211.1587547514864\n",
      "[[ 0.48141584]]\n",
      "Initialization Ready\n",
      "[[ 0.51927427]]\n",
      "Initialization Ready\n",
      "[[ 0.69122565]]\n",
      "Initialization Ready\n",
      "[[ 0.50601166  0.83190115]]\n",
      "Initialization Ready\n",
      "[[ 0.71574233  0.52264522]]\n",
      "Initialization Ready\n",
      "[[ 0.1356351  0.2370711]]\n",
      "Initialization Ready\n",
      "[[ 0.01258945  0.97293096  0.13613365]]\n",
      "Initialization Ready\n",
      "Initial time selected > 0.403013288689\n",
      "Final time selected > 8.17065287493\n",
      "Final Parameters mean and stdev:[ 0.9361587   0.16221675]\n",
      "Batch single time 0 elapsed time: 15.933412323378434\n",
      "\n",
      "\n",
      "Initial time selected > 5.97354390045\n",
      "Final time selected > 1090.40987843\n",
      "Final Parameters mean and stdev:[ 1.00997919  0.00721145]\n",
      "Batch single time 1 elapsed time: 15.751465420835302\n",
      "\n",
      "\n",
      "Initial time selected > 0.595503076292\n",
      "Final time selected > 14.8525569297\n",
      "Final Parameters mean and stdev:[-0.88232532  0.02115971]\n",
      "Batch single time 2 elapsed time: 23.71933143836941\n",
      "\n",
      "\n",
      "Initial time selected > 1.24680872861\n",
      "Final time selected > 18.5292710396\n",
      "Final Parameters mean and stdev:[-0.37583996  0.04772447]\n",
      "Final Parameters mean and stdev:[ 0.62877771  0.02555882]\n",
      "Batch single time 3 elapsed time: 15.363255528478476\n",
      "\n",
      "\n",
      "Initial time selected > 0.632172055878\n",
      "Final time selected > 1.446845146\n",
      "Final Parameters mean and stdev:[-0.33943442  0.36880365]\n",
      "Final Parameters mean and stdev:[-0.32566775  0.33174415]\n",
      "Batch single time 4 elapsed time: 15.370116008758487\n",
      "\n",
      "\n",
      "Initial time selected > 0.680171757673\n",
      "Final time selected > 6.11064021005\n",
      "Final Parameters mean and stdev:[ 0.32043816  0.0789567 ]\n",
      "Final Parameters mean and stdev:[ 0.53127876  0.08864015]\n",
      "Batch single time 5 elapsed time: 15.404238977644127\n",
      "\n",
      "\n",
      "Initial time selected > 0.424545488678\n",
      "Final time selected > 2.49182920991\n",
      "Final Parameters mean and stdev:[-0.00854693  0.07249334]\n",
      "Final Parameters mean and stdev:[ 0.06938483  0.07533748]\n",
      "Final Parameters mean and stdev:[-0.36189357  0.0940539 ]\n",
      "Batch single time 6 elapsed time: 15.347740573670308\n",
      "\n",
      "\n"
     ]
    },
    {
     "name": "stderr",
     "output_type": "stream",
     "text": [
      "C:\\Program Files\\Anaconda3\\lib\\site-packages\\qinfer\\smc.py:285: ApproximationWarning: Extremely small n_ess encountered (1.7434528783043646). Resampling is likely to fail. Consider adding particles, or resampling more often.\n",
      "  ApproximationWarning\n"
     ]
    },
    {
     "name": "stdout",
     "output_type": "stream",
     "text": [
      "LogTotLikelihoods updated\n"
     ]
    },
    {
     "name": "stderr",
     "output_type": "stream",
     "text": [
      "C:\\Program Files\\Anaconda3\\lib\\site-packages\\qinfer\\smc.py:285: ApproximationWarning: Extremely small n_ess encountered (3.6491989674259564). Resampling is likely to fail. Consider adding particles, or resampling more often.\n",
      "  ApproximationWarning\n"
     ]
    },
    {
     "name": "stdout",
     "output_type": "stream",
     "text": [
      "LogTotLikelihoods updated\n"
     ]
    },
    {
     "name": "stderr",
     "output_type": "stream",
     "text": [
      "C:\\Program Files\\Anaconda3\\lib\\site-packages\\qinfer\\smc.py:285: ApproximationWarning: Extremely small n_ess encountered (1.0000727336230222). Resampling is likely to fail. Consider adding particles, or resampling more often.\n",
      "  ApproximationWarning\n"
     ]
    },
    {
     "name": "stdout",
     "output_type": "stream",
     "text": [
      "LogTotLikelihoods updated\n"
     ]
    },
    {
     "name": "stderr",
     "output_type": "stream",
     "text": [
      "C:\\Program Files\\Anaconda3\\lib\\site-packages\\qinfer\\smc.py:285: ApproximationWarning: Extremely small n_ess encountered (1.340141873635669). Resampling is likely to fail. Consider adding particles, or resampling more often.\n",
      "  ApproximationWarning\n"
     ]
    },
    {
     "name": "stdout",
     "output_type": "stream",
     "text": [
      "LogTotLikelihoods updated\n"
     ]
    },
    {
     "name": "stderr",
     "output_type": "stream",
     "text": [
      "C:\\Program Files\\Anaconda3\\lib\\site-packages\\qinfer\\smc.py:285: ApproximationWarning: Extremely small n_ess encountered (1.0095477457354656). Resampling is likely to fail. Consider adding particles, or resampling more often.\n",
      "  ApproximationWarning\n"
     ]
    },
    {
     "name": "stdout",
     "output_type": "stream",
     "text": [
      "LogTotLikelihoods updated\n"
     ]
    },
    {
     "name": "stderr",
     "output_type": "stream",
     "text": [
      "C:\\Program Files\\Anaconda3\\lib\\site-packages\\qinfer\\smc.py:285: ApproximationWarning: Extremely small n_ess encountered (1.4123343200118212). Resampling is likely to fail. Consider adding particles, or resampling more often.\n",
      "  ApproximationWarning\n"
     ]
    },
    {
     "name": "stdout",
     "output_type": "stream",
     "text": [
      "LogTotLikelihoods updated\n"
     ]
    },
    {
     "name": "stderr",
     "output_type": "stream",
     "text": [
      "C:\\Program Files\\Anaconda3\\lib\\site-packages\\qinfer\\smc.py:285: ApproximationWarning: Extremely small n_ess encountered (1.5396616394984286). Resampling is likely to fail. Consider adding particles, or resampling more often.\n",
      "  ApproximationWarning\n"
     ]
    },
    {
     "name": "stdout",
     "output_type": "stream",
     "text": [
      "LogTotLikelihoods updated\n",
      "Total elapsed time for the learning process: 255.77780095172056\n"
     ]
    },
    {
     "name": "stderr",
     "output_type": "stream",
     "text": [
      "C:\\Program Files\\Anaconda3\\lib\\site-packages\\qinfer\\smc.py:285: ApproximationWarning: Extremely small n_ess encountered (5.297808279250835). Resampling is likely to fail. Consider adding particles, or resampling more often.\n",
      "  ApproximationWarning\n"
     ]
    },
    {
     "name": "stdout",
     "output_type": "stream",
     "text": [
      "LogTotLikelihoods updated\n"
     ]
    },
    {
     "name": "stderr",
     "output_type": "stream",
     "text": [
      "C:\\Program Files\\Anaconda3\\lib\\site-packages\\qinfer\\smc.py:285: ApproximationWarning: Extremely small n_ess encountered (1.0723415537956698). Resampling is likely to fail. Consider adding particles, or resampling more often.\n",
      "  ApproximationWarning\n"
     ]
    },
    {
     "name": "stdout",
     "output_type": "stream",
     "text": [
      "LogTotLikelihoods updated\n",
      "LogTotLikelihoods updated\n"
     ]
    },
    {
     "name": "stderr",
     "output_type": "stream",
     "text": [
      "C:\\Program Files\\Anaconda3\\lib\\site-packages\\qinfer\\smc.py:285: ApproximationWarning: Extremely small n_ess encountered (5.643898148100289). Resampling is likely to fail. Consider adding particles, or resampling more often.\n",
      "  ApproximationWarning\n"
     ]
    },
    {
     "name": "stdout",
     "output_type": "stream",
     "text": [
      "LogTotLikelihoods updated\n"
     ]
    },
    {
     "name": "stderr",
     "output_type": "stream",
     "text": [
      "C:\\Program Files\\Anaconda3\\lib\\site-packages\\qinfer\\smc.py:285: ApproximationWarning: Extremely small n_ess encountered (5.887819456174231). Resampling is likely to fail. Consider adding particles, or resampling more often.\n",
      "  ApproximationWarning\n"
     ]
    },
    {
     "name": "stdout",
     "output_type": "stream",
     "text": [
      "LogTotLikelihoods updated\n",
      "LogTotLikelihoods updated\n"
     ]
    },
    {
     "name": "stderr",
     "output_type": "stream",
     "text": [
      "C:\\Program Files\\Anaconda3\\lib\\site-packages\\qinfer\\smc.py:285: ApproximationWarning: Extremely small n_ess encountered (1.9166942429119649). Resampling is likely to fail. Consider adding particles, or resampling more often.\n",
      "  ApproximationWarning\n"
     ]
    },
    {
     "name": "stdout",
     "output_type": "stream",
     "text": [
      "LogTotLikelihoods updated\n",
      "Total elapsed time for Bayes factor update: 221.74708951829962\n",
      "[[ 0.57853158]]\n",
      "Initialization Ready\n",
      "[[ 0.98745679]]\n",
      "Initialization Ready\n",
      "[[ 0.05002416]]\n",
      "Initialization Ready\n",
      "[[ 0.8884079   0.20593786]]\n",
      "Initialization Ready\n",
      "[[ 0.46586076  0.33495528]]\n",
      "Initialization Ready\n",
      "[[ 0.69935579  0.01531683]]\n",
      "Initialization Ready\n",
      "[[ 0.1854563   0.64267769  0.97640372]]\n",
      "Initialization Ready\n",
      "Initial time selected > 0.585445545457\n",
      "Final time selected > 16.7341989555\n",
      "Final Parameters mean and stdev:[ 1.26046012  0.12318332]\n",
      "Batch single time 0 elapsed time: 15.926456498862535\n",
      "\n",
      "\n",
      "Initial time selected > 0.665230467403\n",
      "Final time selected > 32.7945023049\n",
      "Final Parameters mean and stdev:[ 0.971191    0.02121343]\n",
      "Batch single time 1 elapsed time: 15.84046792825393\n",
      "\n",
      "\n",
      "Initial time selected > 2.28587162326\n",
      "Final time selected > 13.740760411\n",
      "Final Parameters mean and stdev:[ 0.41510601  0.08698787]\n",
      "Batch single time 2 elapsed time: 23.641435208635812\n",
      "\n",
      "\n",
      "Initial time selected > 0.369373753098\n",
      "Final time selected > 58.3758039024\n",
      "Final Parameters mean and stdev:[ 0.20239815  0.01047177]\n",
      "Final Parameters mean and stdev:[ 0.35622698  0.00598548]\n",
      "Batch single time 3 elapsed time: 15.59134671727952\n",
      "\n",
      "\n",
      "Initial time selected > 0.657377830529\n",
      "Final time selected > 7.9016952767\n",
      "Final Parameters mean and stdev:[-0.32581005  0.17112106]\n",
      "Final Parameters mean and stdev:[ 0.29581592  0.09310029]\n",
      "Batch single time 4 elapsed time: 15.564055426773848\n",
      "\n",
      "\n",
      "Initial time selected > 2.36627104702\n",
      "Final time selected > 20.5844379753\n",
      "Final Parameters mean and stdev:[ 0.50708677  0.03409045]\n",
      "Final Parameters mean and stdev:[-0.30235402  0.01493473]\n",
      "Batch single time 5 elapsed time: 15.41824299137079\n",
      "\n",
      "\n",
      "Initial time selected > 0.362481232719\n",
      "Final time selected > 2.32113215495\n",
      "Final Parameters mean and stdev:[ 0.06943475  0.12428231]\n",
      "Final Parameters mean and stdev:[ 0.66994431  0.1583905 ]\n",
      "Final Parameters mean and stdev:[-0.00057438  0.11157753]\n",
      "Batch single time 6 elapsed time: 15.534077614167472\n",
      "\n",
      "\n",
      "LogTotLikelihoods updated\n"
     ]
    },
    {
     "name": "stderr",
     "output_type": "stream",
     "text": [
      "C:\\Program Files\\Anaconda3\\lib\\site-packages\\qinfer\\smc.py:285: ApproximationWarning: Extremely small n_ess encountered (2.415625899774559). Resampling is likely to fail. Consider adding particles, or resampling more often.\n",
      "  ApproximationWarning\n"
     ]
    },
    {
     "name": "stdout",
     "output_type": "stream",
     "text": [
      "LogTotLikelihoods updated\n"
     ]
    },
    {
     "name": "stderr",
     "output_type": "stream",
     "text": [
      "C:\\Program Files\\Anaconda3\\lib\\site-packages\\qinfer\\smc.py:285: ApproximationWarning: Extremely small n_ess encountered (1.0018096977341695). Resampling is likely to fail. Consider adding particles, or resampling more often.\n",
      "  ApproximationWarning\n"
     ]
    },
    {
     "name": "stdout",
     "output_type": "stream",
     "text": [
      "LogTotLikelihoods updated\n"
     ]
    },
    {
     "name": "stderr",
     "output_type": "stream",
     "text": [
      "C:\\Program Files\\Anaconda3\\lib\\site-packages\\qinfer\\smc.py:285: ApproximationWarning: Extremely small n_ess encountered (2.057617973423045). Resampling is likely to fail. Consider adding particles, or resampling more often.\n",
      "  ApproximationWarning\n"
     ]
    },
    {
     "name": "stdout",
     "output_type": "stream",
     "text": [
      "LogTotLikelihoods updated\n"
     ]
    },
    {
     "name": "stderr",
     "output_type": "stream",
     "text": [
      "C:\\Program Files\\Anaconda3\\lib\\site-packages\\qinfer\\smc.py:285: ApproximationWarning: Extremely small n_ess encountered (1.4480474771407066). Resampling is likely to fail. Consider adding particles, or resampling more often.\n",
      "  ApproximationWarning\n"
     ]
    },
    {
     "name": "stdout",
     "output_type": "stream",
     "text": [
      "LogTotLikelihoods updated\n"
     ]
    },
    {
     "name": "stderr",
     "output_type": "stream",
     "text": [
      "C:\\Program Files\\Anaconda3\\lib\\site-packages\\qinfer\\smc.py:285: ApproximationWarning: Extremely small n_ess encountered (1.3068075157619905). Resampling is likely to fail. Consider adding particles, or resampling more often.\n",
      "  ApproximationWarning\n"
     ]
    },
    {
     "name": "stdout",
     "output_type": "stream",
     "text": [
      "LogTotLikelihoods updated\n"
     ]
    },
    {
     "name": "stderr",
     "output_type": "stream",
     "text": [
      "C:\\Program Files\\Anaconda3\\lib\\site-packages\\qinfer\\smc.py:285: ApproximationWarning: Extremely small n_ess encountered (1.3284312532150864). Resampling is likely to fail. Consider adding particles, or resampling more often.\n",
      "  ApproximationWarning\n"
     ]
    },
    {
     "name": "stdout",
     "output_type": "stream",
     "text": [
      "LogTotLikelihoods updated\n",
      "Total elapsed time for the learning process: 256.1319693150508\n"
     ]
    },
    {
     "name": "stderr",
     "output_type": "stream",
     "text": [
      "C:\\Program Files\\Anaconda3\\lib\\site-packages\\qinfer\\smc.py:285: ApproximationWarning: Extremely small n_ess encountered (1.2692366386655232). Resampling is likely to fail. Consider adding particles, or resampling more often.\n",
      "  ApproximationWarning\n"
     ]
    },
    {
     "name": "stdout",
     "output_type": "stream",
     "text": [
      "LogTotLikelihoods updated\n"
     ]
    },
    {
     "name": "stderr",
     "output_type": "stream",
     "text": [
      "C:\\Program Files\\Anaconda3\\lib\\site-packages\\qinfer\\smc.py:285: ApproximationWarning: Extremely small n_ess encountered (2.0813874943297668). Resampling is likely to fail. Consider adding particles, or resampling more often.\n",
      "  ApproximationWarning\n"
     ]
    },
    {
     "name": "stdout",
     "output_type": "stream",
     "text": [
      "LogTotLikelihoods updated\n",
      "LogTotLikelihoods updated\n",
      "LogTotLikelihoods updated\n"
     ]
    },
    {
     "name": "stderr",
     "output_type": "stream",
     "text": [
      "C:\\Program Files\\Anaconda3\\lib\\site-packages\\qinfer\\smc.py:285: ApproximationWarning: Extremely small n_ess encountered (3.094068100657564). Resampling is likely to fail. Consider adding particles, or resampling more often.\n",
      "  ApproximationWarning\n"
     ]
    },
    {
     "name": "stdout",
     "output_type": "stream",
     "text": [
      "LogTotLikelihoods updated\n"
     ]
    },
    {
     "name": "stderr",
     "output_type": "stream",
     "text": [
      "C:\\Program Files\\Anaconda3\\lib\\site-packages\\qinfer\\smc.py:285: ApproximationWarning: Extremely small n_ess encountered (4.449406801868512). Resampling is likely to fail. Consider adding particles, or resampling more often.\n",
      "  ApproximationWarning\n"
     ]
    },
    {
     "name": "stdout",
     "output_type": "stream",
     "text": [
      "LogTotLikelihoods updated\n"
     ]
    },
    {
     "name": "stderr",
     "output_type": "stream",
     "text": [
      "C:\\Program Files\\Anaconda3\\lib\\site-packages\\qinfer\\smc.py:285: ApproximationWarning: Extremely small n_ess encountered (4.051200107676792). Resampling is likely to fail. Consider adding particles, or resampling more often.\n",
      "  ApproximationWarning\n"
     ]
    },
    {
     "name": "stdout",
     "output_type": "stream",
     "text": [
      "LogTotLikelihoods updated\n",
      "Total elapsed time for Bayes factor update: 226.56938013675244\n",
      "[[ 0.34068758]]\n",
      "Initialization Ready\n",
      "[[ 0.52295216]]\n",
      "Initialization Ready\n",
      "[[ 0.2492908]]\n",
      "Initialization Ready\n",
      "[[ 0.29585452  0.17706436]]\n",
      "Initialization Ready\n",
      "[[ 0.94484543  0.60264432]]\n",
      "Initialization Ready\n",
      "[[ 0.50981601  0.55125705]]\n",
      "Initialization Ready\n",
      "[[ 0.31197149  0.69583632  0.2114544 ]]\n",
      "Initialization Ready\n",
      "Initial time selected > 0.411724479768\n",
      "Final time selected > 4.02211772419\n",
      "Final Parameters mean and stdev:[-0.17377935  0.09161045]\n",
      "Batch single time 0 elapsed time: 15.83540409066336\n",
      "\n",
      "\n",
      "Initial time selected > 4.36837885854\n",
      "Final time selected > 11.2694133427\n",
      "Final Parameters mean and stdev:[ 0.57625844  0.03004301]\n",
      "Batch single time 1 elapsed time: 15.946131176431663\n",
      "\n",
      "\n",
      "Initial time selected > 1.00303537622\n",
      "Final time selected > 6.46201081257\n",
      "Final Parameters mean and stdev:[ 0.79236156  0.14694773]\n",
      "Batch single time 2 elapsed time: 23.929968344389636\n",
      "\n",
      "\n",
      "Initial time selected > 1.12021044145\n",
      "Final time selected > 4.01987727243\n",
      "Final Parameters mean and stdev:[ 0.93164772  0.11108501]\n",
      "Final Parameters mean and stdev:[ 0.0107479   0.07485284]\n",
      "Batch single time 3 elapsed time: 15.517224198629265\n",
      "\n",
      "\n",
      "Initial time selected > 0.461439547157\n",
      "Final time selected > 20.8158910918\n",
      "Final Parameters mean and stdev:[ 0.36229435  0.01139384]\n",
      "Final Parameters mean and stdev:[ 0.58798092  0.01987698]\n",
      "Batch single time 4 elapsed time: 15.70786629561917\n",
      "\n",
      "\n",
      "Initial time selected > 0.407887371174\n",
      "Final time selected > 5.89424076688\n",
      "Final Parameters mean and stdev:[ 0.55406432  0.04257681]\n",
      "Final Parameters mean and stdev:[-0.39288666  0.0337793 ]\n",
      "Batch single time 5 elapsed time: 15.56355089693534\n",
      "\n",
      "\n",
      "Initial time selected > 0.430208895424\n",
      "Final time selected > 15.0258362122\n",
      "Final Parameters mean and stdev:[ 0.38478476  0.01128336]\n",
      "Final Parameters mean and stdev:[-0.02917885  0.03427761]\n",
      "Final Parameters mean and stdev:[ 0.60697648  0.02429598]\n",
      "Batch single time 6 elapsed time: 15.51253180623462\n",
      "\n",
      "\n"
     ]
    },
    {
     "name": "stderr",
     "output_type": "stream",
     "text": [
      "C:\\Program Files\\Anaconda3\\lib\\site-packages\\qinfer\\smc.py:285: ApproximationWarning: Extremely small n_ess encountered (6.822422768711712). Resampling is likely to fail. Consider adding particles, or resampling more often.\n",
      "  ApproximationWarning\n"
     ]
    },
    {
     "name": "stdout",
     "output_type": "stream",
     "text": [
      "LogTotLikelihoods updated\n"
     ]
    },
    {
     "name": "stderr",
     "output_type": "stream",
     "text": [
      "C:\\Program Files\\Anaconda3\\lib\\site-packages\\qinfer\\smc.py:285: ApproximationWarning: Extremely small n_ess encountered (1.8687738988440419). Resampling is likely to fail. Consider adding particles, or resampling more often.\n",
      "  ApproximationWarning\n"
     ]
    },
    {
     "name": "stdout",
     "output_type": "stream",
     "text": [
      "LogTotLikelihoods updated\n"
     ]
    },
    {
     "name": "stderr",
     "output_type": "stream",
     "text": [
      "C:\\Program Files\\Anaconda3\\lib\\site-packages\\qinfer\\smc.py:285: ApproximationWarning: Extremely small n_ess encountered (5.418916541757441). Resampling is likely to fail. Consider adding particles, or resampling more often.\n",
      "  ApproximationWarning\n"
     ]
    },
    {
     "name": "stdout",
     "output_type": "stream",
     "text": [
      "LogTotLikelihoods updated\n"
     ]
    },
    {
     "name": "stderr",
     "output_type": "stream",
     "text": [
      "C:\\Program Files\\Anaconda3\\lib\\site-packages\\qinfer\\smc.py:285: ApproximationWarning: Extremely small n_ess encountered (2.762996463260571). Resampling is likely to fail. Consider adding particles, or resampling more often.\n",
      "  ApproximationWarning\n"
     ]
    },
    {
     "name": "stdout",
     "output_type": "stream",
     "text": [
      "LogTotLikelihoods updated\n",
      "LogTotLikelihoods updated\n"
     ]
    },
    {
     "name": "stderr",
     "output_type": "stream",
     "text": [
      "C:\\Program Files\\Anaconda3\\lib\\site-packages\\qinfer\\smc.py:285: ApproximationWarning: Extremely small n_ess encountered (1.0010860845897924). Resampling is likely to fail. Consider adding particles, or resampling more often.\n",
      "  ApproximationWarning\n"
     ]
    },
    {
     "name": "stdout",
     "output_type": "stream",
     "text": [
      "LogTotLikelihoods updated\n",
      "LogTotLikelihoods updated\n",
      "Total elapsed time for the learning process: 257.2714062676896\n",
      "LogTotLikelihoods updated\n"
     ]
    },
    {
     "name": "stderr",
     "output_type": "stream",
     "text": [
      "C:\\Program Files\\Anaconda3\\lib\\site-packages\\qinfer\\smc.py:285: ApproximationWarning: Extremely small n_ess encountered (1.0025931249568572). Resampling is likely to fail. Consider adding particles, or resampling more often.\n",
      "  ApproximationWarning\n"
     ]
    },
    {
     "name": "stdout",
     "output_type": "stream",
     "text": [
      "LogTotLikelihoods updated\n"
     ]
    },
    {
     "name": "stderr",
     "output_type": "stream",
     "text": [
      "C:\\Program Files\\Anaconda3\\lib\\site-packages\\qinfer\\smc.py:285: ApproximationWarning: Extremely small n_ess encountered (1.0049411892004578). Resampling is likely to fail. Consider adding particles, or resampling more often.\n",
      "  ApproximationWarning\n"
     ]
    },
    {
     "name": "stdout",
     "output_type": "stream",
     "text": [
      "LogTotLikelihoods updated\n"
     ]
    },
    {
     "name": "stderr",
     "output_type": "stream",
     "text": [
      "C:\\Program Files\\Anaconda3\\lib\\site-packages\\qinfer\\smc.py:285: ApproximationWarning: Extremely small n_ess encountered (2.1979897159797925). Resampling is likely to fail. Consider adding particles, or resampling more often.\n",
      "  ApproximationWarning\n"
     ]
    },
    {
     "name": "stdout",
     "output_type": "stream",
     "text": [
      "LogTotLikelihoods updated\n",
      "LogTotLikelihoods updated\n",
      "LogTotLikelihoods updated\n"
     ]
    },
    {
     "name": "stderr",
     "output_type": "stream",
     "text": [
      "C:\\Program Files\\Anaconda3\\lib\\site-packages\\qinfer\\smc.py:285: ApproximationWarning: Extremely small n_ess encountered (3.8600728053056215). Resampling is likely to fail. Consider adding particles, or resampling more often.\n",
      "  ApproximationWarning\n"
     ]
    },
    {
     "name": "stdout",
     "output_type": "stream",
     "text": [
      "LogTotLikelihoods updated\n",
      "Total elapsed time for Bayes factor update: 207.80556068693113\n",
      "[[ 0.47628312]]\n",
      "Initialization Ready\n",
      "[[ 0.23620514]]\n",
      "Initialization Ready\n",
      "[[ 0.65516082]]\n",
      "Initialization Ready\n",
      "[[ 0.9689969   0.15804804]]\n",
      "Initialization Ready\n",
      "[[ 0.73942508  0.28820509]]\n",
      "Initialization Ready\n",
      "[[ 0.72050128  0.49995358]]\n",
      "Initialization Ready\n",
      "[[ 0.95780317  0.698305    0.02005884]]\n",
      "Initialization Ready\n",
      "Initial time selected > 0.87936143276\n",
      "Final time selected > 1.36463825818\n",
      "Final Parameters mean and stdev:[ 1.54701286  1.16757415]\n",
      "Batch single time 0 elapsed time: 15.795592911948916\n",
      "\n",
      "\n",
      "Initial time selected > 0.482141020061\n",
      "Final time selected > 714.642265193\n",
      "Final Parameters mean and stdev:[ 0.78392641  0.0021085 ]\n",
      "Batch single time 1 elapsed time: 15.621390741151117\n",
      "\n",
      "\n",
      "Initial time selected > 2.16690333522\n",
      "Final time selected > 18.8350878251\n",
      "Final Parameters mean and stdev:[ 1.00109495  0.02142824]\n",
      "Batch single time 2 elapsed time: 23.294508371422125\n",
      "\n",
      "\n",
      "Initial time selected > 0.370343847216\n",
      "Final time selected > 47.2828314024\n",
      "Final Parameters mean and stdev:[ 0.5626295   0.01382745]\n",
      "Final Parameters mean and stdev:[ 0.52304092  0.01386209]\n",
      "Batch single time 3 elapsed time: 15.62029891738348\n",
      "\n",
      "\n",
      "Initial time selected > 4.49846904657\n",
      "Final time selected > 2.14072202552\n",
      "Final Parameters mean and stdev:[ 0.59709827  0.29987995]\n",
      "Final Parameters mean and stdev:[-0.38955352  0.48794347]\n",
      "Batch single time 4 elapsed time: 15.485299774816667\n",
      "\n",
      "\n",
      "Initial time selected > 0.573506746141\n",
      "Final time selected > 4.69825717601\n",
      "Final Parameters mean and stdev:[ 0.2965867   0.15015097]\n",
      "Final Parameters mean and stdev:[ 0.2718213   0.21898384]\n",
      "Batch single time 5 elapsed time: 15.520282165925892\n",
      "\n",
      "\n",
      "Initial time selected > 1.28464317847\n",
      "Final time selected > 6.60267727467\n",
      "Final Parameters mean and stdev:[-0.17369347  0.09189263]\n",
      "Final Parameters mean and stdev:[ 0.15946092  0.05414407]\n",
      "Final Parameters mean and stdev:[ 0.16488559  0.05591638]\n",
      "Batch single time 6 elapsed time: 15.34085956789204\n",
      "\n",
      "\n"
     ]
    },
    {
     "name": "stderr",
     "output_type": "stream",
     "text": [
      "C:\\Program Files\\Anaconda3\\lib\\site-packages\\qinfer\\smc.py:285: ApproximationWarning: Extremely small n_ess encountered (1.290762867157736). Resampling is likely to fail. Consider adding particles, or resampling more often.\n",
      "  ApproximationWarning\n"
     ]
    },
    {
     "name": "stdout",
     "output_type": "stream",
     "text": [
      "LogTotLikelihoods updated\n"
     ]
    },
    {
     "name": "stderr",
     "output_type": "stream",
     "text": [
      "C:\\Program Files\\Anaconda3\\lib\\site-packages\\qinfer\\smc.py:285: ApproximationWarning: Extremely small n_ess encountered (1.127061719689917). Resampling is likely to fail. Consider adding particles, or resampling more often.\n",
      "  ApproximationWarning\n"
     ]
    },
    {
     "name": "stdout",
     "output_type": "stream",
     "text": [
      "LogTotLikelihoods updated\n"
     ]
    },
    {
     "name": "stderr",
     "output_type": "stream",
     "text": [
      "C:\\Program Files\\Anaconda3\\lib\\site-packages\\qinfer\\smc.py:285: ApproximationWarning: Extremely small n_ess encountered (1.7619251076833942). Resampling is likely to fail. Consider adding particles, or resampling more often.\n",
      "  ApproximationWarning\n"
     ]
    },
    {
     "name": "stdout",
     "output_type": "stream",
     "text": [
      "LogTotLikelihoods updated\n",
      "LogTotLikelihoods updated\n"
     ]
    },
    {
     "name": "stderr",
     "output_type": "stream",
     "text": [
      "C:\\Program Files\\Anaconda3\\lib\\site-packages\\qinfer\\smc.py:285: ApproximationWarning: Extremely small n_ess encountered (1.0449519075373255). Resampling is likely to fail. Consider adding particles, or resampling more often.\n",
      "  ApproximationWarning\n"
     ]
    },
    {
     "name": "stdout",
     "output_type": "stream",
     "text": [
      "LogTotLikelihoods updated\n"
     ]
    },
    {
     "name": "stderr",
     "output_type": "stream",
     "text": [
      "C:\\Program Files\\Anaconda3\\lib\\site-packages\\qinfer\\smc.py:285: ApproximationWarning: Extremely small n_ess encountered (1.417050423584501). Resampling is likely to fail. Consider adding particles, or resampling more often.\n",
      "  ApproximationWarning\n"
     ]
    },
    {
     "name": "stdout",
     "output_type": "stream",
     "text": [
      "LogTotLikelihoods updated\n"
     ]
    },
    {
     "name": "stderr",
     "output_type": "stream",
     "text": [
      "C:\\Program Files\\Anaconda3\\lib\\site-packages\\qinfer\\smc.py:285: ApproximationWarning: Extremely small n_ess encountered (3.426193002487106). Resampling is likely to fail. Consider adding particles, or resampling more often.\n",
      "  ApproximationWarning\n"
     ]
    },
    {
     "name": "stdout",
     "output_type": "stream",
     "text": [
      "LogTotLikelihoods updated\n",
      "Total elapsed time for the learning process: 256.922435819768\n",
      "LogTotLikelihoods updated\n",
      "LogTotLikelihoods updated\n"
     ]
    },
    {
     "name": "stderr",
     "output_type": "stream",
     "text": [
      "C:\\Program Files\\Anaconda3\\lib\\site-packages\\qinfer\\smc.py:285: ApproximationWarning: Extremely small n_ess encountered (4.5117946658718795). Resampling is likely to fail. Consider adding particles, or resampling more often.\n",
      "  ApproximationWarning\n"
     ]
    },
    {
     "name": "stdout",
     "output_type": "stream",
     "text": [
      "LogTotLikelihoods updated\n"
     ]
    },
    {
     "name": "stderr",
     "output_type": "stream",
     "text": [
      "C:\\Program Files\\Anaconda3\\lib\\site-packages\\qinfer\\smc.py:285: ApproximationWarning: Extremely small n_ess encountered (2.0799340553362216). Resampling is likely to fail. Consider adding particles, or resampling more often.\n",
      "  ApproximationWarning\n"
     ]
    },
    {
     "name": "stdout",
     "output_type": "stream",
     "text": [
      "LogTotLikelihoods updated\n"
     ]
    },
    {
     "name": "stderr",
     "output_type": "stream",
     "text": [
      "C:\\Program Files\\Anaconda3\\lib\\site-packages\\qinfer\\smc.py:285: ApproximationWarning: Extremely small n_ess encountered (1.0000029205686785). Resampling is likely to fail. Consider adding particles, or resampling more often.\n",
      "  ApproximationWarning\n"
     ]
    },
    {
     "name": "stdout",
     "output_type": "stream",
     "text": [
      "LogTotLikelihoods updated\n"
     ]
    },
    {
     "name": "stderr",
     "output_type": "stream",
     "text": [
      "C:\\Program Files\\Anaconda3\\lib\\site-packages\\qinfer\\smc.py:285: ApproximationWarning: Extremely small n_ess encountered (2.4967257364599518). Resampling is likely to fail. Consider adding particles, or resampling more often.\n",
      "  ApproximationWarning\n"
     ]
    },
    {
     "name": "stdout",
     "output_type": "stream",
     "text": [
      "LogTotLikelihoods updated\n"
     ]
    },
    {
     "name": "stderr",
     "output_type": "stream",
     "text": [
      "C:\\Program Files\\Anaconda3\\lib\\site-packages\\qinfer\\smc.py:285: ApproximationWarning: Extremely small n_ess encountered (3.3728241831085723). Resampling is likely to fail. Consider adding particles, or resampling more often.\n",
      "  ApproximationWarning\n"
     ]
    },
    {
     "name": "stdout",
     "output_type": "stream",
     "text": [
      "LogTotLikelihoods updated\n",
      "Total elapsed time for Bayes factor update: 217.00329036884068\n",
      "[[ 0.71611103]]\n",
      "Initialization Ready\n",
      "[[ 0.71119027]]\n",
      "Initialization Ready\n",
      "[[ 0.52367515]]\n",
      "Initialization Ready\n",
      "[[ 0.70258951  0.45862556]]\n",
      "Initialization Ready\n",
      "[[ 0.51367932  0.66775186]]\n",
      "Initialization Ready\n",
      "[[ 0.76212295  0.90149513]]\n",
      "Initialization Ready\n",
      "[[ 0.690861    0.55554877  0.12732647]]\n",
      "Initialization Ready\n",
      "Initial time selected > 0.579266346204\n",
      "Final time selected > 7.21197741209\n",
      "Final Parameters mean and stdev:[-0.56098579  0.03809797]\n",
      "Batch single time 0 elapsed time: 15.688434944451728\n",
      "\n",
      "\n",
      "Initial time selected > 0.981285557434\n",
      "Final time selected > 5.68014177031\n",
      "Final Parameters mean and stdev:[ 0.2956391   0.10111921]\n",
      "Batch single time 1 elapsed time: 15.647906035621418\n",
      "\n",
      "\n",
      "Initial time selected > 0.504593760312\n",
      "Final time selected > 1245.8693518\n",
      "Final Parameters mean and stdev:[ 1.25641649  0.001655  ]\n",
      "Batch single time 2 elapsed time: 23.75650641554239\n",
      "\n",
      "\n",
      "Initial time selected > 0.620547110746\n",
      "Final time selected > 3.05294465285\n",
      "Final Parameters mean and stdev:[ 0.51983527  0.11084696]\n",
      "Final Parameters mean and stdev:[ 0.50005797  0.1941622 ]\n",
      "Batch single time 3 elapsed time: 15.513706725141674\n",
      "\n",
      "\n",
      "Initial time selected > 1.01905621871\n",
      "Final time selected > 5.72792940593\n",
      "Final Parameters mean and stdev:[ 0.23527069  0.05144451]\n",
      "Final Parameters mean and stdev:[-0.45748696  0.04268478]\n",
      "Batch single time 4 elapsed time: 15.53022610485641\n",
      "\n",
      "\n",
      "Initial time selected > 0.685489806191\n",
      "Final time selected > 120.511993656\n",
      "Final Parameters mean and stdev:[ 1.12726114  0.00484715]\n",
      "Final Parameters mean and stdev:[ 0.61540924  0.01758616]\n",
      "Batch single time 5 elapsed time: 15.83350846212852\n",
      "\n",
      "\n",
      "Initial time selected > 0.935421341202\n",
      "Final time selected > 3.02691104287\n",
      "Final Parameters mean and stdev:[ 0.52963314  0.06879677]\n",
      "Final Parameters mean and stdev:[ 0.5804189   0.04770219]\n",
      "Final Parameters mean and stdev:[ 0.46805192  0.06607189]\n",
      "Batch single time 6 elapsed time: 15.511963051467319\n",
      "\n",
      "\n"
     ]
    },
    {
     "name": "stderr",
     "output_type": "stream",
     "text": [
      "C:\\Program Files\\Anaconda3\\lib\\site-packages\\qinfer\\smc.py:285: ApproximationWarning: Extremely small n_ess encountered (1.5883462772038128). Resampling is likely to fail. Consider adding particles, or resampling more often.\n",
      "  ApproximationWarning\n"
     ]
    },
    {
     "name": "stdout",
     "output_type": "stream",
     "text": [
      "LogTotLikelihoods updated\n"
     ]
    },
    {
     "name": "stderr",
     "output_type": "stream",
     "text": [
      "C:\\Program Files\\Anaconda3\\lib\\site-packages\\qinfer\\smc.py:285: ApproximationWarning: Extremely small n_ess encountered (7.581407306779031). Resampling is likely to fail. Consider adding particles, or resampling more often.\n",
      "  ApproximationWarning\n"
     ]
    },
    {
     "name": "stdout",
     "output_type": "stream",
     "text": [
      "LogTotLikelihoods updated\n"
     ]
    },
    {
     "name": "stderr",
     "output_type": "stream",
     "text": [
      "C:\\Program Files\\Anaconda3\\lib\\site-packages\\qinfer\\smc.py:285: ApproximationWarning: Extremely small n_ess encountered (1.7273514120013365). Resampling is likely to fail. Consider adding particles, or resampling more often.\n",
      "  ApproximationWarning\n"
     ]
    },
    {
     "name": "stdout",
     "output_type": "stream",
     "text": [
      "LogTotLikelihoods updated\n"
     ]
    },
    {
     "name": "stderr",
     "output_type": "stream",
     "text": [
      "C:\\Program Files\\Anaconda3\\lib\\site-packages\\qinfer\\smc.py:285: ApproximationWarning: Extremely small n_ess encountered (1.000540227335842). Resampling is likely to fail. Consider adding particles, or resampling more often.\n",
      "  ApproximationWarning\n"
     ]
    },
    {
     "name": "stdout",
     "output_type": "stream",
     "text": [
      "LogTotLikelihoods updated\n"
     ]
    },
    {
     "name": "stderr",
     "output_type": "stream",
     "text": [
      "C:\\Program Files\\Anaconda3\\lib\\site-packages\\qinfer\\smc.py:285: ApproximationWarning: Extremely small n_ess encountered (3.3793046385393515). Resampling is likely to fail. Consider adding particles, or resampling more often.\n",
      "  ApproximationWarning\n"
     ]
    },
    {
     "name": "stdout",
     "output_type": "stream",
     "text": [
      "LogTotLikelihoods updated\n"
     ]
    },
    {
     "name": "stderr",
     "output_type": "stream",
     "text": [
      "C:\\Program Files\\Anaconda3\\lib\\site-packages\\qinfer\\smc.py:285: ApproximationWarning: Extremely small n_ess encountered (1.6314632447300244). Resampling is likely to fail. Consider adding particles, or resampling more often.\n",
      "  ApproximationWarning\n"
     ]
    },
    {
     "name": "stdout",
     "output_type": "stream",
     "text": [
      "LogTotLikelihoods updated\n"
     ]
    },
    {
     "name": "stderr",
     "output_type": "stream",
     "text": [
      "C:\\Program Files\\Anaconda3\\lib\\site-packages\\qinfer\\smc.py:285: ApproximationWarning: Extremely small n_ess encountered (1.5317084112789647). Resampling is likely to fail. Consider adding particles, or resampling more often.\n",
      "  ApproximationWarning\n"
     ]
    },
    {
     "name": "stdout",
     "output_type": "stream",
     "text": [
      "LogTotLikelihoods updated\n",
      "Total elapsed time for the learning process: 255.26155634877068\n"
     ]
    },
    {
     "name": "stderr",
     "output_type": "stream",
     "text": [
      "C:\\Program Files\\Anaconda3\\lib\\site-packages\\qinfer\\smc.py:285: ApproximationWarning: Extremely small n_ess encountered (3.8338686853537007). Resampling is likely to fail. Consider adding particles, or resampling more often.\n",
      "  ApproximationWarning\n"
     ]
    },
    {
     "name": "stdout",
     "output_type": "stream",
     "text": [
      "LogTotLikelihoods updated\n"
     ]
    },
    {
     "name": "stderr",
     "output_type": "stream",
     "text": [
      "C:\\Program Files\\Anaconda3\\lib\\site-packages\\qinfer\\smc.py:285: ApproximationWarning: Extremely small n_ess encountered (1.0017978574319577). Resampling is likely to fail. Consider adding particles, or resampling more often.\n",
      "  ApproximationWarning\n"
     ]
    },
    {
     "name": "stdout",
     "output_type": "stream",
     "text": [
      "LogTotLikelihoods updated\n",
      "LogTotLikelihoods updated\n",
      "LogTotLikelihoods updated\n"
     ]
    },
    {
     "name": "stderr",
     "output_type": "stream",
     "text": [
      "C:\\Program Files\\Anaconda3\\lib\\site-packages\\qinfer\\smc.py:285: ApproximationWarning: Extremely small n_ess encountered (7.692355670743113). Resampling is likely to fail. Consider adding particles, or resampling more often.\n",
      "  ApproximationWarning\n"
     ]
    },
    {
     "name": "stdout",
     "output_type": "stream",
     "text": [
      "LogTotLikelihoods updated\n",
      "LogTotLikelihoods updated\n"
     ]
    },
    {
     "name": "stderr",
     "output_type": "stream",
     "text": [
      "C:\\Program Files\\Anaconda3\\lib\\site-packages\\qinfer\\smc.py:285: ApproximationWarning: Extremely small n_ess encountered (1.5656470374266864). Resampling is likely to fail. Consider adding particles, or resampling more often.\n",
      "  ApproximationWarning\n"
     ]
    },
    {
     "name": "stdout",
     "output_type": "stream",
     "text": [
      "LogTotLikelihoods updated\n",
      "Total elapsed time for Bayes factor update: 208.8420007190507\n",
      "[[ 0.35830416]]\n",
      "Initialization Ready\n",
      "[[ 0.85672686]]\n",
      "Initialization Ready\n",
      "[[ 0.33396956]]\n",
      "Initialization Ready\n",
      "[[ 0.7850427   0.97826802]]\n",
      "Initialization Ready\n",
      "[[ 0.8549902   0.46837484]]\n",
      "Initialization Ready\n",
      "[[ 0.76574801  0.11023854]]\n",
      "Initialization Ready\n",
      "[[ 0.09082723  0.76342834  0.54990288]]\n",
      "Initialization Ready\n",
      "Initial time selected > 2.35833133147\n",
      "Final time selected > 28.4684362315\n",
      "Final Parameters mean and stdev:[ 0.31600455  0.06322988]\n",
      "Batch single time 0 elapsed time: 15.78612403885927\n",
      "\n",
      "\n",
      "Initial time selected > 1.90580011226\n",
      "Final time selected > 396.351060603\n",
      "Exiting learning for Reaching Cov. Norm. Thrshold of 7.98317841165e-07\n",
      " at Iteration Number 92\n",
      "Final Parameters mean and stdev:[-0.11487315  0.00089349]\n",
      "Batch single time 1 elapsed time: 14.539917116737342\n",
      "\n",
      "\n",
      "Initial time selected > 0.929487740977\n",
      "Final time selected > 1406.17637201\n",
      "Final Parameters mean and stdev:[-0.07619409  0.00400526]\n",
      "Batch single time 2 elapsed time: 24.026086576523085\n",
      "\n",
      "\n",
      "Initial time selected > 0.513311299075\n",
      "Final time selected > 10.3498562327\n",
      "Final Parameters mean and stdev:[ 0.14087586  0.02334489]\n",
      "Final Parameters mean and stdev:[-0.0094995   0.01574459]\n",
      "Batch single time 3 elapsed time: 15.658989801479038\n",
      "\n",
      "\n",
      "Initial time selected > 0.931394059992\n",
      "Final time selected > 29.8078897505\n",
      "Final Parameters mean and stdev:[ 0.29041506  0.01770981]\n",
      "Final Parameters mean and stdev:[ 0.01134954  0.015667  ]\n",
      "Batch single time 4 elapsed time: 15.50931228344416\n",
      "\n",
      "\n",
      "Initial time selected > 0.929969166196\n",
      "Final time selected > 86.4670949882\n",
      "Final Parameters mean and stdev:[ 0.91152741  0.00569706]\n",
      "Final Parameters mean and stdev:[-0.02728777  0.00776942]\n",
      "Batch single time 5 elapsed time: 15.42249772730429\n",
      "\n",
      "\n",
      "Initial time selected > 0.598429964102\n",
      "Final time selected > 7.51347761422\n",
      "Final Parameters mean and stdev:[ 1.8802821   0.08244748]\n",
      "Final Parameters mean and stdev:[-0.32348303  0.0319602 ]\n",
      "Final Parameters mean and stdev:[ 0.42518388  0.04546106]\n",
      "Batch single time 6 elapsed time: 15.586496079959034\n",
      "\n",
      "\n",
      "LogTotLikelihoods updated\n"
     ]
    },
    {
     "name": "stderr",
     "output_type": "stream",
     "text": [
      "C:\\Program Files\\Anaconda3\\lib\\site-packages\\qinfer\\smc.py:285: ApproximationWarning: Extremely small n_ess encountered (1.0029801581416904). Resampling is likely to fail. Consider adding particles, or resampling more often.\n",
      "  ApproximationWarning\n"
     ]
    },
    {
     "name": "stdout",
     "output_type": "stream",
     "text": [
      "LogTotLikelihoods updated\n"
     ]
    },
    {
     "name": "stderr",
     "output_type": "stream",
     "text": [
      "C:\\Program Files\\Anaconda3\\lib\\site-packages\\qinfer\\smc.py:285: ApproximationWarning: Extremely small n_ess encountered (2.5978321785382152). Resampling is likely to fail. Consider adding particles, or resampling more often.\n",
      "  ApproximationWarning\n"
     ]
    },
    {
     "name": "stdout",
     "output_type": "stream",
     "text": [
      "LogTotLikelihoods updated\n"
     ]
    },
    {
     "name": "stderr",
     "output_type": "stream",
     "text": [
      "C:\\Program Files\\Anaconda3\\lib\\site-packages\\qinfer\\smc.py:285: ApproximationWarning: Extremely small n_ess encountered (2.174315442234654). Resampling is likely to fail. Consider adding particles, or resampling more often.\n",
      "  ApproximationWarning\n"
     ]
    },
    {
     "name": "stdout",
     "output_type": "stream",
     "text": [
      "LogTotLikelihoods updated\n"
     ]
    },
    {
     "name": "stderr",
     "output_type": "stream",
     "text": [
      "C:\\Program Files\\Anaconda3\\lib\\site-packages\\qinfer\\smc.py:285: ApproximationWarning: Extremely small n_ess encountered (6.37203575415225). Resampling is likely to fail. Consider adding particles, or resampling more often.\n",
      "  ApproximationWarning\n"
     ]
    },
    {
     "name": "stdout",
     "output_type": "stream",
     "text": [
      "LogTotLikelihoods updated\n"
     ]
    },
    {
     "name": "stderr",
     "output_type": "stream",
     "text": [
      "C:\\Program Files\\Anaconda3\\lib\\site-packages\\qinfer\\smc.py:285: ApproximationWarning: Extremely small n_ess encountered (1.1408755938981434). Resampling is likely to fail. Consider adding particles, or resampling more often.\n",
      "  ApproximationWarning\n"
     ]
    },
    {
     "name": "stdout",
     "output_type": "stream",
     "text": [
      "LogTotLikelihoods updated\n"
     ]
    },
    {
     "name": "stderr",
     "output_type": "stream",
     "text": [
      "C:\\Program Files\\Anaconda3\\lib\\site-packages\\qinfer\\smc.py:285: ApproximationWarning: Extremely small n_ess encountered (4.541815337749771). Resampling is likely to fail. Consider adding particles, or resampling more often.\n",
      "  ApproximationWarning\n"
     ]
    },
    {
     "name": "stdout",
     "output_type": "stream",
     "text": [
      "LogTotLikelihoods updated\n",
      "Total elapsed time for the learning process: 251.0167193377274\n"
     ]
    },
    {
     "name": "stderr",
     "output_type": "stream",
     "text": [
      "C:\\Program Files\\Anaconda3\\lib\\site-packages\\qinfer\\smc.py:285: ApproximationWarning: Extremely small n_ess encountered (9.418054238587676). Resampling is likely to fail. Consider adding particles, or resampling more often.\n",
      "  ApproximationWarning\n"
     ]
    },
    {
     "name": "stdout",
     "output_type": "stream",
     "text": [
      "LogTotLikelihoods updated\n",
      "LogTotLikelihoods updated\n",
      "LogTotLikelihoods updated\n"
     ]
    },
    {
     "name": "stderr",
     "output_type": "stream",
     "text": [
      "C:\\Program Files\\Anaconda3\\lib\\site-packages\\qinfer\\smc.py:285: ApproximationWarning: Extremely small n_ess encountered (5.39551746849756). Resampling is likely to fail. Consider adding particles, or resampling more often.\n",
      "  ApproximationWarning\n"
     ]
    },
    {
     "name": "stdout",
     "output_type": "stream",
     "text": [
      "LogTotLikelihoods updated\n",
      "LogTotLikelihoods updated\n"
     ]
    },
    {
     "name": "stderr",
     "output_type": "stream",
     "text": [
      "C:\\Program Files\\Anaconda3\\lib\\site-packages\\qinfer\\smc.py:285: ApproximationWarning: Extremely small n_ess encountered (1.5992027608996537). Resampling is likely to fail. Consider adding particles, or resampling more often.\n",
      "  ApproximationWarning\n"
     ]
    },
    {
     "name": "stdout",
     "output_type": "stream",
     "text": [
      "LogTotLikelihoods updated\n"
     ]
    },
    {
     "name": "stderr",
     "output_type": "stream",
     "text": [
      "C:\\Program Files\\Anaconda3\\lib\\site-packages\\qinfer\\smc.py:285: ApproximationWarning: Extremely small n_ess encountered (5.063989428089139). Resampling is likely to fail. Consider adding particles, or resampling more often.\n",
      "  ApproximationWarning\n"
     ]
    },
    {
     "name": "stdout",
     "output_type": "stream",
     "text": [
      "LogTotLikelihoods updated\n",
      "Total elapsed time for Bayes factor update: 203.48988258755708\n",
      "[[ 0.83735976]]\n",
      "Initialization Ready\n",
      "[[ 0.91320996]]\n",
      "Initialization Ready\n",
      "[[ 0.20499001]]\n",
      "Initialization Ready\n",
      "[[ 0.33331875  0.42002107]]\n",
      "Initialization Ready\n",
      "[[ 0.44601639  0.66868224]]\n",
      "Initialization Ready\n",
      "[[ 0.73487373  0.89924697]]\n",
      "Initialization Ready\n",
      "[[ 0.37439449  0.89482445  0.83492167]]\n",
      "Initialization Ready\n",
      "Initial time selected > 0.887894701743\n",
      "Final time selected > 4.44426306037\n",
      "Final Parameters mean and stdev:[-0.22327784  0.34848242]\n",
      "Batch single time 0 elapsed time: 15.780070342851104\n",
      "\n",
      "\n",
      "Initial time selected > 14.0524305751\n",
      "Final time selected > 48.2005810396\n",
      "Final Parameters mean and stdev:[ 1.54707179  0.12326987]\n",
      "Batch single time 1 elapsed time: 15.99102009710623\n",
      "\n",
      "\n",
      "Initial time selected > 0.926454435387\n",
      "Final time selected > 28.5776014491\n",
      "Final Parameters mean and stdev:[ 0.60126374  0.12535867]\n",
      "Batch single time 2 elapsed time: 24.176181887647544\n",
      "\n",
      "\n",
      "Initial time selected > 1.22114571853\n",
      "Final time selected > 5.18353822474\n",
      "Final Parameters mean and stdev:[-0.21102944  0.1781996 ]\n",
      "Final Parameters mean and stdev:[ 0.69208622  0.01704986]\n",
      "Batch single time 3 elapsed time: 15.63079770670447\n",
      "\n",
      "\n",
      "Initial time selected > 0.578052857788\n",
      "Final time selected > 7.86289198714\n",
      "Final Parameters mean and stdev:[ 1.01018642  0.06823061]\n",
      "Final Parameters mean and stdev:[-0.25545422  0.05354633]\n",
      "Batch single time 4 elapsed time: 15.418003968705307\n",
      "\n",
      "\n",
      "Initial time selected > 0.395372289322\n",
      "Final time selected > 199.526740851\n",
      "Final Parameters mean and stdev:[ 0.80946002  0.01810604]\n",
      "Final Parameters mean and stdev:[ 0.51913581  0.03898466]\n",
      "Batch single time 5 elapsed time: 15.605383174530289\n",
      "\n",
      "\n",
      "Initial time selected > 0.454473242671\n",
      "Final time selected > 4.59819963113\n",
      "Final Parameters mean and stdev:[ 0.57420931  0.08885215]\n",
      "Final Parameters mean and stdev:[ 0.60007311  0.06787641]\n",
      "Final Parameters mean and stdev:[ 0.58311812  0.07674429]\n",
      "Batch single time 6 elapsed time: 15.394056678167544\n",
      "\n",
      "\n"
     ]
    },
    {
     "name": "stderr",
     "output_type": "stream",
     "text": [
      "C:\\Program Files\\Anaconda3\\lib\\site-packages\\qinfer\\smc.py:285: ApproximationWarning: Extremely small n_ess encountered (1.4256844421588937). Resampling is likely to fail. Consider adding particles, or resampling more often.\n",
      "  ApproximationWarning\n"
     ]
    },
    {
     "name": "stdout",
     "output_type": "stream",
     "text": [
      "LogTotLikelihoods updated\n"
     ]
    },
    {
     "name": "stderr",
     "output_type": "stream",
     "text": [
      "C:\\Program Files\\Anaconda3\\lib\\site-packages\\qinfer\\smc.py:285: ApproximationWarning: Extremely small n_ess encountered (1.0029207446057198). Resampling is likely to fail. Consider adding particles, or resampling more often.\n",
      "  ApproximationWarning\n"
     ]
    },
    {
     "name": "stdout",
     "output_type": "stream",
     "text": [
      "LogTotLikelihoods updated\n",
      "LogTotLikelihoods updated\n"
     ]
    },
    {
     "name": "stderr",
     "output_type": "stream",
     "text": [
      "C:\\Program Files\\Anaconda3\\lib\\site-packages\\qinfer\\smc.py:285: ApproximationWarning: Extremely small n_ess encountered (1.1365709106149964). Resampling is likely to fail. Consider adding particles, or resampling more often.\n",
      "  ApproximationWarning\n"
     ]
    },
    {
     "name": "stdout",
     "output_type": "stream",
     "text": [
      "LogTotLikelihoods updated\n"
     ]
    },
    {
     "name": "stderr",
     "output_type": "stream",
     "text": [
      "C:\\Program Files\\Anaconda3\\lib\\site-packages\\qinfer\\smc.py:285: ApproximationWarning: Extremely small n_ess encountered (7.637427090473063). Resampling is likely to fail. Consider adding particles, or resampling more often.\n",
      "  ApproximationWarning\n"
     ]
    },
    {
     "name": "stdout",
     "output_type": "stream",
     "text": [
      "LogTotLikelihoods updated\n"
     ]
    },
    {
     "name": "stderr",
     "output_type": "stream",
     "text": [
      "C:\\Program Files\\Anaconda3\\lib\\site-packages\\qinfer\\smc.py:285: ApproximationWarning: Extremely small n_ess encountered (7.736280903048446). Resampling is likely to fail. Consider adding particles, or resampling more often.\n",
      "  ApproximationWarning\n"
     ]
    },
    {
     "name": "stdout",
     "output_type": "stream",
     "text": [
      "LogTotLikelihoods updated\n"
     ]
    },
    {
     "name": "stderr",
     "output_type": "stream",
     "text": [
      "C:\\Program Files\\Anaconda3\\lib\\site-packages\\qinfer\\smc.py:285: ApproximationWarning: Extremely small n_ess encountered (1.032904276361474). Resampling is likely to fail. Consider adding particles, or resampling more often.\n",
      "  ApproximationWarning\n"
     ]
    },
    {
     "name": "stdout",
     "output_type": "stream",
     "text": [
      "LogTotLikelihoods updated\n",
      "Total elapsed time for the learning process: 258.1067342153983\n",
      "LogTotLikelihoods updated\n"
     ]
    },
    {
     "name": "stderr",
     "output_type": "stream",
     "text": [
      "C:\\Program Files\\Anaconda3\\lib\\site-packages\\qinfer\\smc.py:285: ApproximationWarning: Extremely small n_ess encountered (8.38857556655748). Resampling is likely to fail. Consider adding particles, or resampling more often.\n",
      "  ApproximationWarning\n"
     ]
    },
    {
     "name": "stdout",
     "output_type": "stream",
     "text": [
      "LogTotLikelihoods updated\n",
      "LogTotLikelihoods updated\n"
     ]
    },
    {
     "name": "stderr",
     "output_type": "stream",
     "text": [
      "C:\\Program Files\\Anaconda3\\lib\\site-packages\\qinfer\\smc.py:285: ApproximationWarning: Extremely small n_ess encountered (3.210107197202613). Resampling is likely to fail. Consider adding particles, or resampling more often.\n",
      "  ApproximationWarning\n"
     ]
    },
    {
     "name": "stdout",
     "output_type": "stream",
     "text": [
      "LogTotLikelihoods updated\n",
      "LogTotLikelihoods updated\n"
     ]
    },
    {
     "name": "stderr",
     "output_type": "stream",
     "text": [
      "C:\\Program Files\\Anaconda3\\lib\\site-packages\\qinfer\\smc.py:285: ApproximationWarning: Extremely small n_ess encountered (1.6060956663430874). Resampling is likely to fail. Consider adding particles, or resampling more often.\n",
      "  ApproximationWarning\n"
     ]
    },
    {
     "name": "stdout",
     "output_type": "stream",
     "text": [
      "LogTotLikelihoods updated\n",
      "LogTotLikelihoods updated\n",
      "Total elapsed time for Bayes factor update: 219.96272901649354\n",
      "[[ 0.45079699]]\n",
      "Initialization Ready\n",
      "[[ 0.37553099]]\n",
      "Initialization Ready\n",
      "[[ 0.22706638]]\n",
      "Initialization Ready\n",
      "[[ 0.27046061  0.75151627]]\n",
      "Initialization Ready\n",
      "[[ 0.8136447  0.9877967]]\n",
      "Initialization Ready\n",
      "[[ 0.48350093  0.15641099]]\n",
      "Initialization Ready\n",
      "[[ 0.56266202  0.19522848  0.95772971]]\n",
      "Initialization Ready\n",
      "Initial time selected > 0.502149805512\n",
      "Final time selected > 16.4767115625\n",
      "Final Parameters mean and stdev:[-0.20626783  0.1791899 ]\n",
      "Batch single time 0 elapsed time: 15.786024059852934\n",
      "\n",
      "\n",
      "Initial time selected > 2.07001450239\n",
      "Final time selected > 52.6551489114\n",
      "Final Parameters mean and stdev:[ 1.25660022  0.01318734]\n",
      "Batch single time 1 elapsed time: 15.714433791050396\n",
      "\n",
      "\n",
      "Initial time selected > 4.5780127081\n",
      "Final time selected > 70.3761242756\n",
      "Final Parameters mean and stdev:[ 1.39191073  0.07473646]\n",
      "Batch single time 2 elapsed time: 23.749278462732036\n",
      "\n",
      "\n",
      "Initial time selected > 0.941841698935\n",
      "Final time selected > 52.1853827245\n",
      "Final Parameters mean and stdev:[ 1.1079459  0.0129159]\n",
      "Final Parameters mean and stdev:[ 0.71667185  0.01145736]\n",
      "Batch single time 3 elapsed time: 15.583121953866794\n",
      "\n",
      "\n",
      "Initial time selected > 1.03260784715\n",
      "Final time selected > 7.28626284622\n",
      "Final Parameters mean and stdev:[ 1.17744721  0.07657638]\n",
      "Final Parameters mean and stdev:[-0.13207189  0.12926885]\n",
      "Batch single time 4 elapsed time: 15.446934650142794\n",
      "\n",
      "\n",
      "Initial time selected > 0.755384754705\n",
      "Final time selected > 1.41124257339\n",
      "Final Parameters mean and stdev:[ 0.65551689  0.16532083]\n",
      "Final Parameters mean and stdev:[ 0.39923535  0.16541149]\n",
      "Batch single time 5 elapsed time: 15.556891698892287\n",
      "\n",
      "\n",
      "Initial time selected > 0.590382194737\n",
      "Final time selected > 3.64253515904\n",
      "Final Parameters mean and stdev:[ 0.1706082   0.17011754]\n",
      "Final Parameters mean and stdev:[ 0.93773668  0.09158619]\n",
      "Final Parameters mean and stdev:[-0.18801528  0.11718302]\n",
      "Batch single time 6 elapsed time: 15.430532464379212\n",
      "\n",
      "\n"
     ]
    },
    {
     "name": "stderr",
     "output_type": "stream",
     "text": [
      "C:\\Program Files\\Anaconda3\\lib\\site-packages\\qinfer\\smc.py:285: ApproximationWarning: Extremely small n_ess encountered (1.000000476837579). Resampling is likely to fail. Consider adding particles, or resampling more often.\n",
      "  ApproximationWarning\n"
     ]
    },
    {
     "name": "stdout",
     "output_type": "stream",
     "text": [
      "LogTotLikelihoods updated\n"
     ]
    },
    {
     "name": "stderr",
     "output_type": "stream",
     "text": [
      "C:\\Program Files\\Anaconda3\\lib\\site-packages\\qinfer\\smc.py:285: ApproximationWarning: Extremely small n_ess encountered (1.2911785109327039). Resampling is likely to fail. Consider adding particles, or resampling more often.\n",
      "  ApproximationWarning\n"
     ]
    },
    {
     "name": "stdout",
     "output_type": "stream",
     "text": [
      "LogTotLikelihoods updated\n"
     ]
    },
    {
     "name": "stderr",
     "output_type": "stream",
     "text": [
      "C:\\Program Files\\Anaconda3\\lib\\site-packages\\qinfer\\smc.py:285: ApproximationWarning: Extremely small n_ess encountered (1.0082342666387183). Resampling is likely to fail. Consider adding particles, or resampling more often.\n",
      "  ApproximationWarning\n"
     ]
    },
    {
     "name": "stdout",
     "output_type": "stream",
     "text": [
      "LogTotLikelihoods updated\n"
     ]
    },
    {
     "name": "stderr",
     "output_type": "stream",
     "text": [
      "C:\\Program Files\\Anaconda3\\lib\\site-packages\\qinfer\\smc.py:285: ApproximationWarning: Extremely small n_ess encountered (5.363618742947517). Resampling is likely to fail. Consider adding particles, or resampling more often.\n",
      "  ApproximationWarning\n"
     ]
    },
    {
     "name": "stdout",
     "output_type": "stream",
     "text": [
      "LogTotLikelihoods updated\n"
     ]
    },
    {
     "name": "stderr",
     "output_type": "stream",
     "text": [
      "C:\\Program Files\\Anaconda3\\lib\\site-packages\\qinfer\\smc.py:285: ApproximationWarning: Extremely small n_ess encountered (6.605994192318469). Resampling is likely to fail. Consider adding particles, or resampling more often.\n",
      "  ApproximationWarning\n"
     ]
    },
    {
     "name": "stdout",
     "output_type": "stream",
     "text": [
      "LogTotLikelihoods updated\n"
     ]
    },
    {
     "name": "stderr",
     "output_type": "stream",
     "text": [
      "C:\\Program Files\\Anaconda3\\lib\\site-packages\\qinfer\\smc.py:285: ApproximationWarning: Extremely small n_ess encountered (1.0000284065389606). Resampling is likely to fail. Consider adding particles, or resampling more often.\n",
      "  ApproximationWarning\n"
     ]
    },
    {
     "name": "stdout",
     "output_type": "stream",
     "text": [
      "LogTotLikelihoods updated\n"
     ]
    },
    {
     "name": "stderr",
     "output_type": "stream",
     "text": [
      "C:\\Program Files\\Anaconda3\\lib\\site-packages\\qinfer\\smc.py:285: ApproximationWarning: Extremely small n_ess encountered (2.2911939397657237). Resampling is likely to fail. Consider adding particles, or resampling more often.\n",
      "  ApproximationWarning\n"
     ]
    },
    {
     "name": "stdout",
     "output_type": "stream",
     "text": [
      "LogTotLikelihoods updated\n",
      "Total elapsed time for the learning process: 256.1383232791559\n",
      "LogTotLikelihoods updated\n"
     ]
    },
    {
     "name": "stderr",
     "output_type": "stream",
     "text": [
      "C:\\Program Files\\Anaconda3\\lib\\site-packages\\qinfer\\smc.py:285: ApproximationWarning: Extremely small n_ess encountered (4.336296478478665). Resampling is likely to fail. Consider adding particles, or resampling more often.\n",
      "  ApproximationWarning\n"
     ]
    },
    {
     "name": "stdout",
     "output_type": "stream",
     "text": [
      "LogTotLikelihoods updated\n"
     ]
    },
    {
     "name": "stderr",
     "output_type": "stream",
     "text": [
      "C:\\Program Files\\Anaconda3\\lib\\site-packages\\qinfer\\smc.py:285: ApproximationWarning: Extremely small n_ess encountered (8.064548505669812). Resampling is likely to fail. Consider adding particles, or resampling more often.\n",
      "  ApproximationWarning\n"
     ]
    },
    {
     "name": "stdout",
     "output_type": "stream",
     "text": [
      "LogTotLikelihoods updated\n",
      "LogTotLikelihoods updated\n"
     ]
    },
    {
     "name": "stderr",
     "output_type": "stream",
     "text": [
      "C:\\Program Files\\Anaconda3\\lib\\site-packages\\qinfer\\smc.py:285: ApproximationWarning: Extremely small n_ess encountered (2.0687582483994427). Resampling is likely to fail. Consider adding particles, or resampling more often.\n",
      "  ApproximationWarning\n"
     ]
    },
    {
     "name": "stdout",
     "output_type": "stream",
     "text": [
      "LogTotLikelihoods updated\n",
      "LogTotLikelihoods updated\n"
     ]
    },
    {
     "name": "stderr",
     "output_type": "stream",
     "text": [
      "C:\\Program Files\\Anaconda3\\lib\\site-packages\\qinfer\\smc.py:285: ApproximationWarning: Extremely small n_ess encountered (7.1100410740574). Resampling is likely to fail. Consider adding particles, or resampling more often.\n",
      "  ApproximationWarning\n"
     ]
    },
    {
     "name": "stdout",
     "output_type": "stream",
     "text": [
      "LogTotLikelihoods updated\n",
      "Total elapsed time for Bayes factor update: 220.58926470403094\n",
      "[[ 0.69823922]]\n",
      "Initialization Ready\n",
      "[[ 0.59860315]]\n",
      "Initialization Ready\n",
      "[[ 0.85535923]]\n",
      "Initialization Ready\n",
      "[[ 0.27090607  0.64056206]]\n",
      "Initialization Ready\n",
      "[[ 0.6500865   0.73268313]]\n",
      "Initialization Ready\n",
      "[[ 0.35317316  0.63541   ]]\n",
      "Initialization Ready\n",
      "[[ 0.66602585  0.00516731  0.85955732]]\n",
      "Initialization Ready\n",
      "Initial time selected > 0.894177989129\n",
      "Final time selected > 1.96630718871\n",
      "Final Parameters mean and stdev:[-0.75273309  0.39070583]\n",
      "Batch single time 0 elapsed time: 15.657039879712102\n",
      "\n",
      "\n",
      "Initial time selected > 2.11312532991\n",
      "Final time selected > 1.7787146766\n",
      "Final Parameters mean and stdev:[ 0.67773576  0.21942747]\n",
      "Batch single time 1 elapsed time: 15.958110118604964\n",
      "\n",
      "\n",
      "Initial time selected > 2.07025431535\n",
      "Final time selected > 2.93848734809\n",
      "Final Parameters mean and stdev:[ 0.75261204  0.22672211]\n",
      "Batch single time 2 elapsed time: 23.96424128179933\n",
      "\n",
      "\n",
      "Initial time selected > 0.376993293118\n",
      "Final time selected > 4.45516124577\n",
      "Final Parameters mean and stdev:[ 0.98286416  0.12970837]\n",
      "Final Parameters mean and stdev:[ 0.9994273   0.10036546]\n",
      "Batch single time 3 elapsed time: 15.645578378578648\n",
      "\n",
      "\n",
      "Initial time selected > 0.558534759565\n",
      "Final time selected > 108.202390621\n",
      "Final Parameters mean and stdev:[ 1.00895083  0.00703416]\n",
      "Final Parameters mean and stdev:[ 0.19049807  0.00564159]\n",
      "Batch single time 4 elapsed time: 15.619644087964843\n",
      "\n",
      "\n",
      "Initial time selected > 0.419427752697\n",
      "Final time selected > 110.861747834\n",
      "Final Parameters mean and stdev:[ 0.32628774  0.00602128]\n",
      "Final Parameters mean and stdev:[ 0.53047008  0.0072783 ]\n",
      "Batch single time 5 elapsed time: 15.433566926680214\n",
      "\n",
      "\n",
      "Initial time selected > 0.442354289764\n",
      "Final time selected > 9.06923912681\n",
      "Final Parameters mean and stdev:[ 0.12369431  0.15914583]\n",
      "Final Parameters mean and stdev:[ 0.54657982  0.22888455]\n",
      "Final Parameters mean and stdev:[ 0.59403542  0.12708333]\n",
      "Batch single time 6 elapsed time: 15.622927173564676\n",
      "\n",
      "\n"
     ]
    },
    {
     "name": "stderr",
     "output_type": "stream",
     "text": [
      "C:\\Program Files\\Anaconda3\\lib\\site-packages\\qinfer\\smc.py:285: ApproximationWarning: Extremely small n_ess encountered (1.0045685253726033). Resampling is likely to fail. Consider adding particles, or resampling more often.\n",
      "  ApproximationWarning\n"
     ]
    },
    {
     "name": "stdout",
     "output_type": "stream",
     "text": [
      "LogTotLikelihoods updated\n"
     ]
    },
    {
     "name": "stderr",
     "output_type": "stream",
     "text": [
      "C:\\Program Files\\Anaconda3\\lib\\site-packages\\qinfer\\smc.py:285: ApproximationWarning: Extremely small n_ess encountered (2.4235162436806275). Resampling is likely to fail. Consider adding particles, or resampling more often.\n",
      "  ApproximationWarning\n"
     ]
    },
    {
     "name": "stdout",
     "output_type": "stream",
     "text": [
      "LogTotLikelihoods updated\n"
     ]
    },
    {
     "name": "stderr",
     "output_type": "stream",
     "text": [
      "C:\\Program Files\\Anaconda3\\lib\\site-packages\\qinfer\\smc.py:285: ApproximationWarning: Extremely small n_ess encountered (2.3066145928875867). Resampling is likely to fail. Consider adding particles, or resampling more often.\n",
      "  ApproximationWarning\n"
     ]
    },
    {
     "name": "stdout",
     "output_type": "stream",
     "text": [
      "LogTotLikelihoods updated\n"
     ]
    },
    {
     "name": "stderr",
     "output_type": "stream",
     "text": [
      "C:\\Program Files\\Anaconda3\\lib\\site-packages\\qinfer\\smc.py:285: ApproximationWarning: Extremely small n_ess encountered (3.2941096098814606). Resampling is likely to fail. Consider adding particles, or resampling more often.\n",
      "  ApproximationWarning\n"
     ]
    },
    {
     "name": "stdout",
     "output_type": "stream",
     "text": [
      "LogTotLikelihoods updated\n"
     ]
    },
    {
     "name": "stderr",
     "output_type": "stream",
     "text": [
      "C:\\Program Files\\Anaconda3\\lib\\site-packages\\qinfer\\smc.py:285: ApproximationWarning: Extremely small n_ess encountered (3.7104447570737915). Resampling is likely to fail. Consider adding particles, or resampling more often.\n",
      "  ApproximationWarning\n"
     ]
    },
    {
     "name": "stdout",
     "output_type": "stream",
     "text": [
      "LogTotLikelihoods updated\n",
      "LogTotLikelihoods updated\n"
     ]
    },
    {
     "name": "stderr",
     "output_type": "stream",
     "text": [
      "C:\\Program Files\\Anaconda3\\lib\\site-packages\\qinfer\\smc.py:285: ApproximationWarning: Extremely small n_ess encountered (2.0353255955972065). Resampling is likely to fail. Consider adding particles, or resampling more often.\n",
      "  ApproximationWarning\n"
     ]
    },
    {
     "name": "stdout",
     "output_type": "stream",
     "text": [
      "LogTotLikelihoods updated\n",
      "Total elapsed time for the learning process: 262.1354596419187\n",
      "LogTotLikelihoods updated\n"
     ]
    },
    {
     "name": "stderr",
     "output_type": "stream",
     "text": [
      "C:\\Program Files\\Anaconda3\\lib\\site-packages\\qinfer\\smc.py:285: ApproximationWarning: Extremely small n_ess encountered (6.788923132051663). Resampling is likely to fail. Consider adding particles, or resampling more often.\n",
      "  ApproximationWarning\n"
     ]
    },
    {
     "name": "stdout",
     "output_type": "stream",
     "text": [
      "LogTotLikelihoods updated\n",
      "LogTotLikelihoods updated\n"
     ]
    },
    {
     "name": "stderr",
     "output_type": "stream",
     "text": [
      "C:\\Program Files\\Anaconda3\\lib\\site-packages\\qinfer\\smc.py:285: ApproximationWarning: Extremely small n_ess encountered (2.9765713405467227). Resampling is likely to fail. Consider adding particles, or resampling more often.\n",
      "  ApproximationWarning\n"
     ]
    },
    {
     "name": "stdout",
     "output_type": "stream",
     "text": [
      "LogTotLikelihoods updated\n"
     ]
    },
    {
     "name": "stderr",
     "output_type": "stream",
     "text": [
      "C:\\Program Files\\Anaconda3\\lib\\site-packages\\qinfer\\smc.py:285: ApproximationWarning: Extremely small n_ess encountered (7.956302530822026). Resampling is likely to fail. Consider adding particles, or resampling more often.\n",
      "  ApproximationWarning\n"
     ]
    },
    {
     "name": "stdout",
     "output_type": "stream",
     "text": [
      "LogTotLikelihoods updated\n",
      "LogTotLikelihoods updated\n"
     ]
    },
    {
     "name": "stderr",
     "output_type": "stream",
     "text": [
      "C:\\Program Files\\Anaconda3\\lib\\site-packages\\qinfer\\smc.py:285: ApproximationWarning: Extremely small n_ess encountered (1.0021921253466284). Resampling is likely to fail. Consider adding particles, or resampling more often.\n",
      "  ApproximationWarning\n"
     ]
    },
    {
     "name": "stdout",
     "output_type": "stream",
     "text": [
      "LogTotLikelihoods updated\n",
      "Total elapsed time for Bayes factor update: 221.91586170320807\n",
      "[[ 0.2888918]]\n",
      "Initialization Ready\n",
      "[[ 0.12610567]]\n",
      "Initialization Ready\n",
      "[[ 0.59846826]]\n",
      "Initialization Ready\n",
      "[[ 0.25797617  0.89232026]]\n",
      "Initialization Ready\n",
      "[[ 0.09971174  0.26612043]]\n",
      "Initialization Ready\n",
      "[[ 0.027389    0.90849409]]\n",
      "Initialization Ready\n",
      "[[ 0.34665063  0.58705456  0.94213118]]\n",
      "Initialization Ready\n",
      "Initial time selected > 0.945952421107\n",
      "Final time selected > 18.1620219223\n",
      "Final Parameters mean and stdev:[ 0.55539721  0.22806274]\n",
      "Batch single time 0 elapsed time: 15.537935082502372\n",
      "\n",
      "\n",
      "Initial time selected > 1.7563714745\n",
      "Final time selected > 283.159210229\n",
      "Final Parameters mean and stdev:[ 0.22805205  0.00178484]\n",
      "Batch single time 1 elapsed time: 15.637153657145973\n",
      "\n",
      "\n",
      "Initial time selected > 0.586448829155\n",
      "Final time selected > 8.83305860054\n",
      "Final Parameters mean and stdev:[ 0.52882053  0.07649193]\n",
      "Batch single time 2 elapsed time: 23.863869969020016\n",
      "\n",
      "\n",
      "Initial time selected > 0.858153762991\n",
      "Final time selected > 2.69532417186\n",
      "Final Parameters mean and stdev:[ 0.43777466  0.21551756]\n",
      "Final Parameters mean and stdev:[ 0.11679329  0.41373085]\n",
      "Batch single time 3 elapsed time: 15.394793940613454\n",
      "\n",
      "\n",
      "Initial time selected > 0.957861945257\n",
      "Final time selected > 6.69954449805\n",
      "Final Parameters mean and stdev:[ 0.19247678  0.23044099]\n",
      "Final Parameters mean and stdev:[ 0.15402528  0.13090208]\n",
      "Batch single time 4 elapsed time: 15.610423838174029\n",
      "\n",
      "\n",
      "Initial time selected > 0.533222826529\n",
      "Final time selected > 9.1389996138\n",
      "Final Parameters mean and stdev:[ 0.33671465  0.05911652]\n",
      "Final Parameters mean and stdev:[ 0.73800868  0.0545809 ]\n",
      "Batch single time 5 elapsed time: 15.322359809229965\n",
      "\n",
      "\n",
      "Initial time selected > 0.547499647004\n",
      "Final time selected > 4.37908583926\n",
      "Final Parameters mean and stdev:[-0.20963415  0.49369822]\n",
      "Final Parameters mean and stdev:[ 0.61709008  0.33700095]\n",
      "Final Parameters mean and stdev:[ 0.69056114  0.26085282]\n",
      "Batch single time 6 elapsed time: 15.331032491856604\n",
      "\n",
      "\n",
      "LogTotLikelihoods updated\n"
     ]
    },
    {
     "name": "stderr",
     "output_type": "stream",
     "text": [
      "C:\\Program Files\\Anaconda3\\lib\\site-packages\\qinfer\\smc.py:285: ApproximationWarning: Extremely small n_ess encountered (1.0000093825636092). Resampling is likely to fail. Consider adding particles, or resampling more often.\n",
      "  ApproximationWarning\n"
     ]
    },
    {
     "name": "stdout",
     "output_type": "stream",
     "text": [
      "LogTotLikelihoods updated\n"
     ]
    },
    {
     "name": "stderr",
     "output_type": "stream",
     "text": [
      "C:\\Program Files\\Anaconda3\\lib\\site-packages\\qinfer\\smc.py:285: ApproximationWarning: Extremely small n_ess encountered (1.19017985581256). Resampling is likely to fail. Consider adding particles, or resampling more often.\n",
      "  ApproximationWarning\n"
     ]
    },
    {
     "name": "stdout",
     "output_type": "stream",
     "text": [
      "LogTotLikelihoods updated\n"
     ]
    },
    {
     "name": "stderr",
     "output_type": "stream",
     "text": [
      "C:\\Program Files\\Anaconda3\\lib\\site-packages\\qinfer\\smc.py:285: ApproximationWarning: Extremely small n_ess encountered (4.281417387402874). Resampling is likely to fail. Consider adding particles, or resampling more often.\n",
      "  ApproximationWarning\n"
     ]
    },
    {
     "name": "stdout",
     "output_type": "stream",
     "text": [
      "LogTotLikelihoods updated\n"
     ]
    },
    {
     "name": "stderr",
     "output_type": "stream",
     "text": [
      "C:\\Program Files\\Anaconda3\\lib\\site-packages\\qinfer\\smc.py:285: ApproximationWarning: Extremely small n_ess encountered (1.437080706123781). Resampling is likely to fail. Consider adding particles, or resampling more often.\n",
      "  ApproximationWarning\n"
     ]
    },
    {
     "name": "stdout",
     "output_type": "stream",
     "text": [
      "LogTotLikelihoods updated\n"
     ]
    },
    {
     "name": "stderr",
     "output_type": "stream",
     "text": [
      "C:\\Program Files\\Anaconda3\\lib\\site-packages\\qinfer\\smc.py:285: ApproximationWarning: Extremely small n_ess encountered (1.0133578375145376). Resampling is likely to fail. Consider adding particles, or resampling more often.\n",
      "  ApproximationWarning\n"
     ]
    },
    {
     "name": "stdout",
     "output_type": "stream",
     "text": [
      "LogTotLikelihoods updated\n"
     ]
    },
    {
     "name": "stderr",
     "output_type": "stream",
     "text": [
      "C:\\Program Files\\Anaconda3\\lib\\site-packages\\qinfer\\smc.py:285: ApproximationWarning: Extremely small n_ess encountered (4.82820766631434). Resampling is likely to fail. Consider adding particles, or resampling more often.\n",
      "  ApproximationWarning\n"
     ]
    },
    {
     "name": "stdout",
     "output_type": "stream",
     "text": [
      "LogTotLikelihoods updated\n",
      "Total elapsed time for the learning process: 257.54351470585243\n"
     ]
    },
    {
     "name": "stderr",
     "output_type": "stream",
     "text": [
      "C:\\Program Files\\Anaconda3\\lib\\site-packages\\qinfer\\smc.py:285: ApproximationWarning: Extremely small n_ess encountered (1.3743248226122895). Resampling is likely to fail. Consider adding particles, or resampling more often.\n",
      "  ApproximationWarning\n"
     ]
    },
    {
     "name": "stdout",
     "output_type": "stream",
     "text": [
      "LogTotLikelihoods updated\n",
      "LogTotLikelihoods updated\n"
     ]
    },
    {
     "name": "stderr",
     "output_type": "stream",
     "text": [
      "C:\\Program Files\\Anaconda3\\lib\\site-packages\\qinfer\\smc.py:285: ApproximationWarning: Extremely small n_ess encountered (1.0591850565780907). Resampling is likely to fail. Consider adding particles, or resampling more often.\n",
      "  ApproximationWarning\n"
     ]
    },
    {
     "name": "stdout",
     "output_type": "stream",
     "text": [
      "LogTotLikelihoods updated\n"
     ]
    },
    {
     "name": "stderr",
     "output_type": "stream",
     "text": [
      "C:\\Program Files\\Anaconda3\\lib\\site-packages\\qinfer\\smc.py:285: ApproximationWarning: Extremely small n_ess encountered (1.007676156072175). Resampling is likely to fail. Consider adding particles, or resampling more often.\n",
      "  ApproximationWarning\n"
     ]
    },
    {
     "name": "stdout",
     "output_type": "stream",
     "text": [
      "LogTotLikelihoods updated\n"
     ]
    },
    {
     "name": "stderr",
     "output_type": "stream",
     "text": [
      "C:\\Program Files\\Anaconda3\\lib\\site-packages\\qinfer\\smc.py:285: ApproximationWarning: Extremely small n_ess encountered (1.0182046458284693). Resampling is likely to fail. Consider adding particles, or resampling more often.\n",
      "  ApproximationWarning\n"
     ]
    },
    {
     "name": "stdout",
     "output_type": "stream",
     "text": [
      "LogTotLikelihoods updated\n",
      "LogTotLikelihoods updated\n"
     ]
    },
    {
     "name": "stderr",
     "output_type": "stream",
     "text": [
      "C:\\Program Files\\Anaconda3\\lib\\site-packages\\qinfer\\smc.py:285: ApproximationWarning: Extremely small n_ess encountered (2.0943973726158935). Resampling is likely to fail. Consider adding particles, or resampling more often.\n",
      "  ApproximationWarning\n"
     ]
    },
    {
     "name": "stdout",
     "output_type": "stream",
     "text": [
      "LogTotLikelihoods updated\n",
      "Total elapsed time for Bayes factor update: 225.51452410322236\n",
      "[[ 0.62070184]]\n",
      "Initialization Ready\n",
      "[[ 0.01847603]]\n",
      "Initialization Ready\n",
      "[[ 0.10549093]]\n",
      "Initialization Ready\n",
      "[[ 0.33627418  0.39056241]]\n",
      "Initialization Ready\n",
      "[[ 0.86309912  0.51656142]]\n",
      "Initialization Ready\n",
      "[[ 0.83098723  0.31830809]]\n",
      "Initialization Ready\n",
      "[[ 0.32452399  0.16895845  0.86845499]]\n",
      "Initialization Ready\n",
      "Initial time selected > 0.563924642174\n",
      "Final time selected > 46.3536443933\n",
      "Final Parameters mean and stdev:[ 0.38955059  0.09696394]\n",
      "Batch single time 0 elapsed time: 15.600287555527757\n",
      "\n",
      "\n",
      "Initial time selected > 0.712799191665\n",
      "Final time selected > 35.1135639573\n",
      "Final Parameters mean and stdev:[-0.06648675  0.32447107]\n",
      "Batch single time 1 elapsed time: 15.838609378035471\n",
      "\n",
      "\n",
      "Initial time selected > 1.00531249965\n",
      "Final time selected > 17.5689037648\n",
      "Final Parameters mean and stdev:[ 0.87517197  0.04713546]\n",
      "Batch single time 2 elapsed time: 23.901706065684266\n",
      "\n",
      "\n",
      "Initial time selected > 0.470300661817\n",
      "Final time selected > 4.2121717064\n",
      "Final Parameters mean and stdev:[ 0.61340624  0.08550826]\n",
      "Final Parameters mean and stdev:[-0.38251345  0.10968252]\n",
      "Batch single time 3 elapsed time: 15.72392021012638\n",
      "\n",
      "\n",
      "Initial time selected > 6.56901871135\n",
      "Final time selected > 13.5545143839\n",
      "Final Parameters mean and stdev:[ 0.65196838  0.06697902]\n",
      "Final Parameters mean and stdev:[ 0.37418456  0.05406529]\n",
      "Batch single time 4 elapsed time: 15.773373073338007\n",
      "\n",
      "\n",
      "Initial time selected > 1.52000235489\n",
      "Final time selected > 4.17808232378\n",
      "Final Parameters mean and stdev:[-0.86865872  0.05466896]\n",
      "Final Parameters mean and stdev:[ 0.820196    0.09773703]\n",
      "Batch single time 5 elapsed time: 15.588838965595642\n",
      "\n",
      "\n",
      "Initial time selected > 0.419422100767\n",
      "Final time selected > 32.1549154087\n",
      "Final Parameters mean and stdev:[ 0.75999363  0.02950599]\n",
      "Final Parameters mean and stdev:[ 0.01755715  0.01572633]\n",
      "Final Parameters mean and stdev:[ 0.37859464  0.02686062]\n",
      "Batch single time 6 elapsed time: 15.308884823512926\n",
      "\n",
      "\n"
     ]
    },
    {
     "name": "stderr",
     "output_type": "stream",
     "text": [
      "C:\\Program Files\\Anaconda3\\lib\\site-packages\\qinfer\\smc.py:285: ApproximationWarning: Extremely small n_ess encountered (3.010684124164053). Resampling is likely to fail. Consider adding particles, or resampling more often.\n",
      "  ApproximationWarning\n"
     ]
    },
    {
     "name": "stdout",
     "output_type": "stream",
     "text": [
      "LogTotLikelihoods updated\n"
     ]
    },
    {
     "name": "stderr",
     "output_type": "stream",
     "text": [
      "C:\\Program Files\\Anaconda3\\lib\\site-packages\\qinfer\\smc.py:285: ApproximationWarning: Extremely small n_ess encountered (1.1081950383687973). Resampling is likely to fail. Consider adding particles, or resampling more often.\n",
      "  ApproximationWarning\n"
     ]
    },
    {
     "name": "stdout",
     "output_type": "stream",
     "text": [
      "LogTotLikelihoods updated\n",
      "LogTotLikelihoods updated\n"
     ]
    },
    {
     "name": "stderr",
     "output_type": "stream",
     "text": [
      "C:\\Program Files\\Anaconda3\\lib\\site-packages\\qinfer\\smc.py:285: ApproximationWarning: Extremely small n_ess encountered (1.0527757563042104). Resampling is likely to fail. Consider adding particles, or resampling more often.\n",
      "  ApproximationWarning\n"
     ]
    },
    {
     "name": "stdout",
     "output_type": "stream",
     "text": [
      "LogTotLikelihoods updated\n",
      "LogTotLikelihoods updated\n"
     ]
    },
    {
     "name": "stderr",
     "output_type": "stream",
     "text": [
      "C:\\Program Files\\Anaconda3\\lib\\site-packages\\qinfer\\smc.py:285: ApproximationWarning: Extremely small n_ess encountered (4.95873645551236). Resampling is likely to fail. Consider adding particles, or resampling more often.\n",
      "  ApproximationWarning\n"
     ]
    },
    {
     "name": "stdout",
     "output_type": "stream",
     "text": [
      "LogTotLikelihoods updated\n",
      "LogTotLikelihoods updated\n",
      "Total elapsed time for the learning process: 253.9450373663276\n",
      "LogTotLikelihoods updated\n",
      "LogTotLikelihoods updated\n"
     ]
    },
    {
     "name": "stderr",
     "output_type": "stream",
     "text": [
      "C:\\Program Files\\Anaconda3\\lib\\site-packages\\qinfer\\smc.py:285: ApproximationWarning: Extremely small n_ess encountered (1.453868119811525). Resampling is likely to fail. Consider adding particles, or resampling more often.\n",
      "  ApproximationWarning\n"
     ]
    },
    {
     "name": "stdout",
     "output_type": "stream",
     "text": [
      "LogTotLikelihoods updated\n",
      "LogTotLikelihoods updated\n"
     ]
    },
    {
     "name": "stderr",
     "output_type": "stream",
     "text": [
      "C:\\Program Files\\Anaconda3\\lib\\site-packages\\qinfer\\smc.py:285: ApproximationWarning: Extremely small n_ess encountered (8.785008644691553). Resampling is likely to fail. Consider adding particles, or resampling more often.\n",
      "  ApproximationWarning\n"
     ]
    },
    {
     "name": "stdout",
     "output_type": "stream",
     "text": [
      "LogTotLikelihoods updated\n"
     ]
    },
    {
     "name": "stderr",
     "output_type": "stream",
     "text": [
      "C:\\Program Files\\Anaconda3\\lib\\site-packages\\qinfer\\smc.py:285: ApproximationWarning: Extremely small n_ess encountered (3.384181207055533). Resampling is likely to fail. Consider adding particles, or resampling more often.\n",
      "  ApproximationWarning\n"
     ]
    },
    {
     "name": "stdout",
     "output_type": "stream",
     "text": [
      "LogTotLikelihoods updated\n",
      "LogTotLikelihoods updated\n",
      "Total elapsed time for Bayes factor update: 215.76087470378843\n",
      "[[ 0.49606628]]\n",
      "Initialization Ready\n",
      "[[ 0.43197327]]\n",
      "Initialization Ready\n",
      "[[ 0.72284022]]\n",
      "Initialization Ready\n",
      "[[ 0.29458975  0.09043448]]\n",
      "Initialization Ready\n",
      "[[ 0.53405025  0.23290431]]\n",
      "Initialization Ready\n",
      "[[ 0.07584936  0.38051264]]\n",
      "Initialization Ready\n",
      "[[ 0.64043443  0.23854993  0.26699378]]\n",
      "Initialization Ready\n",
      "Initial time selected > 0.650320436396\n",
      "Final time selected > 1.93558071287\n",
      "Final Parameters mean and stdev:[ 0.55487438  0.96264784]\n",
      "Batch single time 0 elapsed time: 15.647937485970033\n",
      "\n",
      "\n",
      "Initial time selected > 1.35471202015\n",
      "Final time selected > 4.14066965719\n",
      "Final Parameters mean and stdev:[ 0.80954152  0.19110264]\n",
      "Batch single time 1 elapsed time: 16.00132422531169\n",
      "\n",
      "\n",
      "Initial time selected > 0.372675777206\n",
      "Final time selected > 272.117152446\n",
      "Final Parameters mean and stdev:[-0.28629537  0.00306141]\n",
      "Batch single time 2 elapsed time: 24.09180655451928\n",
      "\n",
      "\n",
      "Initial time selected > 4.16444618081\n",
      "Final time selected > 67.3451977504\n",
      "Final Parameters mean and stdev:[ 0.44318713  0.0764749 ]\n",
      "Final Parameters mean and stdev:[ 0.53264999  0.02639794]\n",
      "Batch single time 3 elapsed time: 15.705407871326315\n",
      "\n",
      "\n",
      "Initial time selected > 0.794358108192\n",
      "Final time selected > 0.551171274757\n",
      "Final Parameters mean and stdev:[ 0.50912348  0.20903795]\n",
      "Final Parameters mean and stdev:[ 0.33970157  0.27064144]\n",
      "Batch single time 4 elapsed time: 15.52755381816678\n",
      "\n",
      "\n",
      "Initial time selected > 0.603616146304\n",
      "Final time selected > 32.8047398148\n",
      "Final Parameters mean and stdev:[ 0.3016448   0.01372785]\n",
      "Final Parameters mean and stdev:[-0.54009147  0.02059918]\n",
      "Batch single time 5 elapsed time: 15.536045412984095\n",
      "\n",
      "\n",
      "Initial time selected > 0.544785317976\n",
      "Final time selected > 2.89325815793\n",
      "Final Parameters mean and stdev:[ 0.88728888  0.07450063]\n",
      "Final Parameters mean and stdev:[ 0.48933104  0.14143989]\n",
      "Final Parameters mean and stdev:[-0.04332273  0.10443872]\n",
      "Batch single time 6 elapsed time: 15.414627194164495\n",
      "\n",
      "\n"
     ]
    },
    {
     "name": "stderr",
     "output_type": "stream",
     "text": [
      "C:\\Program Files\\Anaconda3\\lib\\site-packages\\qinfer\\smc.py:285: ApproximationWarning: Extremely small n_ess encountered (1.00001110031943). Resampling is likely to fail. Consider adding particles, or resampling more often.\n",
      "  ApproximationWarning\n"
     ]
    },
    {
     "name": "stdout",
     "output_type": "stream",
     "text": [
      "LogTotLikelihoods updated\n"
     ]
    },
    {
     "name": "stderr",
     "output_type": "stream",
     "text": [
      "C:\\Program Files\\Anaconda3\\lib\\site-packages\\qinfer\\smc.py:285: ApproximationWarning: Extremely small n_ess encountered (1.0741533192475092). Resampling is likely to fail. Consider adding particles, or resampling more often.\n",
      "  ApproximationWarning\n"
     ]
    },
    {
     "name": "stdout",
     "output_type": "stream",
     "text": [
      "LogTotLikelihoods updated\n"
     ]
    },
    {
     "name": "stderr",
     "output_type": "stream",
     "text": [
      "C:\\Program Files\\Anaconda3\\lib\\site-packages\\qinfer\\smc.py:285: ApproximationWarning: Extremely small n_ess encountered (2.0226730269269657). Resampling is likely to fail. Consider adding particles, or resampling more often.\n",
      "  ApproximationWarning\n"
     ]
    },
    {
     "name": "stdout",
     "output_type": "stream",
     "text": [
      "LogTotLikelihoods updated\n"
     ]
    },
    {
     "name": "stderr",
     "output_type": "stream",
     "text": [
      "C:\\Program Files\\Anaconda3\\lib\\site-packages\\qinfer\\smc.py:285: ApproximationWarning: Extremely small n_ess encountered (9.120915640551614). Resampling is likely to fail. Consider adding particles, or resampling more often.\n",
      "  ApproximationWarning\n"
     ]
    },
    {
     "name": "stdout",
     "output_type": "stream",
     "text": [
      "LogTotLikelihoods updated\n"
     ]
    },
    {
     "name": "stderr",
     "output_type": "stream",
     "text": [
      "C:\\Program Files\\Anaconda3\\lib\\site-packages\\qinfer\\smc.py:285: ApproximationWarning: Extremely small n_ess encountered (2.206135212773823). Resampling is likely to fail. Consider adding particles, or resampling more often.\n",
      "  ApproximationWarning\n"
     ]
    },
    {
     "name": "stdout",
     "output_type": "stream",
     "text": [
      "LogTotLikelihoods updated\n"
     ]
    },
    {
     "name": "stderr",
     "output_type": "stream",
     "text": [
      "C:\\Program Files\\Anaconda3\\lib\\site-packages\\qinfer\\smc.py:285: ApproximationWarning: Extremely small n_ess encountered (4.932212702154543). Resampling is likely to fail. Consider adding particles, or resampling more often.\n",
      "  ApproximationWarning\n"
     ]
    },
    {
     "name": "stdout",
     "output_type": "stream",
     "text": [
      "LogTotLikelihoods updated\n"
     ]
    },
    {
     "name": "stderr",
     "output_type": "stream",
     "text": [
      "C:\\Program Files\\Anaconda3\\lib\\site-packages\\qinfer\\smc.py:285: ApproximationWarning: Extremely small n_ess encountered (4.0409115174531065). Resampling is likely to fail. Consider adding particles, or resampling more often.\n",
      "  ApproximationWarning\n"
     ]
    },
    {
     "name": "stdout",
     "output_type": "stream",
     "text": [
      "LogTotLikelihoods updated\n",
      "Total elapsed time for the learning process: 255.72134988880134\n",
      "LogTotLikelihoods updated\n"
     ]
    },
    {
     "name": "stderr",
     "output_type": "stream",
     "text": [
      "C:\\Program Files\\Anaconda3\\lib\\site-packages\\qinfer\\smc.py:285: ApproximationWarning: Extremely small n_ess encountered (1.6492818717432483). Resampling is likely to fail. Consider adding particles, or resampling more often.\n",
      "  ApproximationWarning\n"
     ]
    },
    {
     "name": "stdout",
     "output_type": "stream",
     "text": [
      "LogTotLikelihoods updated\n"
     ]
    },
    {
     "name": "stderr",
     "output_type": "stream",
     "text": [
      "C:\\Program Files\\Anaconda3\\lib\\site-packages\\qinfer\\smc.py:285: ApproximationWarning: Extremely small n_ess encountered (6.487089111242217). Resampling is likely to fail. Consider adding particles, or resampling more often.\n",
      "  ApproximationWarning\n"
     ]
    },
    {
     "name": "stdout",
     "output_type": "stream",
     "text": [
      "LogTotLikelihoods updated\n",
      "LogTotLikelihoods updated\n"
     ]
    },
    {
     "name": "stderr",
     "output_type": "stream",
     "text": [
      "C:\\Program Files\\Anaconda3\\lib\\site-packages\\qinfer\\smc.py:285: ApproximationWarning: Extremely small n_ess encountered (1.3914657563746204). Resampling is likely to fail. Consider adding particles, or resampling more often.\n",
      "  ApproximationWarning\n"
     ]
    },
    {
     "name": "stdout",
     "output_type": "stream",
     "text": [
      "LogTotLikelihoods updated\n"
     ]
    },
    {
     "name": "stderr",
     "output_type": "stream",
     "text": [
      "C:\\Program Files\\Anaconda3\\lib\\site-packages\\qinfer\\smc.py:285: ApproximationWarning: Extremely small n_ess encountered (1.0090733175903395). Resampling is likely to fail. Consider adding particles, or resampling more often.\n",
      "  ApproximationWarning\n"
     ]
    },
    {
     "name": "stdout",
     "output_type": "stream",
     "text": [
      "LogTotLikelihoods updated\n"
     ]
    },
    {
     "name": "stderr",
     "output_type": "stream",
     "text": [
      "C:\\Program Files\\Anaconda3\\lib\\site-packages\\qinfer\\smc.py:285: ApproximationWarning: Extremely small n_ess encountered (1.2414833392522318). Resampling is likely to fail. Consider adding particles, or resampling more often.\n",
      "  ApproximationWarning\n"
     ]
    },
    {
     "name": "stdout",
     "output_type": "stream",
     "text": [
      "LogTotLikelihoods updated\n",
      "Total elapsed time for Bayes factor update: 213.30826839663496\n",
      "[[ 0.52938089]]\n",
      "Initialization Ready\n",
      "[[ 0.2931965]]\n",
      "Initialization Ready\n",
      "[[ 0.96603843]]\n",
      "Initialization Ready\n",
      "[[ 0.28870886  0.04355854]]\n",
      "Initialization Ready\n",
      "[[ 0.1527841   0.08253594]]\n",
      "Initialization Ready\n",
      "[[ 0.53726525  0.06593823]]\n",
      "Initialization Ready\n",
      "[[ 0.30233023  0.83971652  0.98779139]]\n",
      "Initialization Ready\n",
      "Initial time selected > 1.91084291388\n",
      "Final time selected > 2.93430378919\n",
      "Final Parameters mean and stdev:[-0.88211033  0.28192284]\n",
      "Batch single time 0 elapsed time: 15.680882225387904\n",
      "\n",
      "\n",
      "Initial time selected > 1.07065494218\n",
      "Final time selected > 110.801018642\n",
      "Exiting learning for Reaching Cov. Norm. Thrshold of 8.6225051299e-07\n",
      " at Iteration Number 93\n",
      "Final Parameters mean and stdev:[ 0.80233356  0.00143433]\n",
      "Batch single time 1 elapsed time: 14.77329428192752\n",
      "\n",
      "\n",
      "Initial time selected > 0.71044065679\n",
      "Final time selected > 3.6507354964\n",
      "Final Parameters mean and stdev:[ 0.42377354  0.05772575]\n",
      "Batch single time 2 elapsed time: 23.883153338007105\n",
      "\n",
      "\n",
      "Initial time selected > 1.2851946066\n",
      "Final time selected > 3.38471683985\n",
      "Final Parameters mean and stdev:[ 0.71307223  0.1180744 ]\n",
      "Final Parameters mean and stdev:[ 0.24884758  0.06960842]\n",
      "Batch single time 3 elapsed time: 15.762382003245875\n",
      "\n",
      "\n",
      "Initial time selected > 0.460441616564\n",
      "Final time selected > 4.02499502536\n",
      "Final Parameters mean and stdev:[ 0.49934202  0.1595542 ]\n",
      "Final Parameters mean and stdev:[ 0.03310422  0.33602583]\n",
      "Batch single time 4 elapsed time: 16.980526604675106\n",
      "\n",
      "\n",
      "Initial time selected > 0.409180700461\n",
      "Final time selected > 125.580823794\n",
      "Final Parameters mean and stdev:[ 0.45455838  0.01738515]\n",
      "Final Parameters mean and stdev:[ 0.16332389  0.02363636]\n",
      "Batch single time 5 elapsed time: 15.648201337869978\n",
      "\n",
      "\n",
      "Initial time selected > 0.54895019403\n",
      "Final time selected > 2.96849044087\n",
      "Final Parameters mean and stdev:[ 0.07007534  0.22062056]\n",
      "Final Parameters mean and stdev:[ 0.46099162  0.21667674]\n",
      "Final Parameters mean and stdev:[ 0.59594208  0.1337082 ]\n",
      "Batch single time 6 elapsed time: 15.47618844256067\n",
      "\n",
      "\n",
      "LogTotLikelihoods updated\n",
      "LogTotLikelihoods updated\n"
     ]
    },
    {
     "name": "stderr",
     "output_type": "stream",
     "text": [
      "C:\\Program Files\\Anaconda3\\lib\\site-packages\\qinfer\\smc.py:285: ApproximationWarning: Extremely small n_ess encountered (2.031461321861481). Resampling is likely to fail. Consider adding particles, or resampling more often.\n",
      "  ApproximationWarning\n"
     ]
    },
    {
     "name": "stdout",
     "output_type": "stream",
     "text": [
      "LogTotLikelihoods updated\n"
     ]
    },
    {
     "name": "stderr",
     "output_type": "stream",
     "text": [
      "C:\\Program Files\\Anaconda3\\lib\\site-packages\\qinfer\\smc.py:285: ApproximationWarning: Extremely small n_ess encountered (1.024791234955735). Resampling is likely to fail. Consider adding particles, or resampling more often.\n",
      "  ApproximationWarning\n"
     ]
    },
    {
     "name": "stdout",
     "output_type": "stream",
     "text": [
      "LogTotLikelihoods updated\n"
     ]
    },
    {
     "name": "stderr",
     "output_type": "stream",
     "text": [
      "C:\\Program Files\\Anaconda3\\lib\\site-packages\\qinfer\\smc.py:285: ApproximationWarning: Extremely small n_ess encountered (2.673211989810295). Resampling is likely to fail. Consider adding particles, or resampling more often.\n",
      "  ApproximationWarning\n"
     ]
    },
    {
     "name": "stdout",
     "output_type": "stream",
     "text": [
      "LogTotLikelihoods updated\n"
     ]
    },
    {
     "name": "stderr",
     "output_type": "stream",
     "text": [
      "C:\\Program Files\\Anaconda3\\lib\\site-packages\\qinfer\\smc.py:285: ApproximationWarning: Extremely small n_ess encountered (2.280400280898452). Resampling is likely to fail. Consider adding particles, or resampling more often.\n",
      "  ApproximationWarning\n"
     ]
    },
    {
     "name": "stdout",
     "output_type": "stream",
     "text": [
      "LogTotLikelihoods updated\n"
     ]
    },
    {
     "name": "stderr",
     "output_type": "stream",
     "text": [
      "C:\\Program Files\\Anaconda3\\lib\\site-packages\\qinfer\\smc.py:285: ApproximationWarning: Extremely small n_ess encountered (2.2833136304365595). Resampling is likely to fail. Consider adding particles, or resampling more often.\n",
      "  ApproximationWarning\n"
     ]
    },
    {
     "name": "stdout",
     "output_type": "stream",
     "text": [
      "LogTotLikelihoods updated\n",
      "Total elapsed time for the learning process: 259.42406461689825\n"
     ]
    },
    {
     "name": "stderr",
     "output_type": "stream",
     "text": [
      "C:\\Program Files\\Anaconda3\\lib\\site-packages\\qinfer\\smc.py:285: ApproximationWarning: Extremely small n_ess encountered (2.0083027861252316). Resampling is likely to fail. Consider adding particles, or resampling more often.\n",
      "  ApproximationWarning\n"
     ]
    },
    {
     "name": "stdout",
     "output_type": "stream",
     "text": [
      "LogTotLikelihoods updated\n"
     ]
    },
    {
     "name": "stderr",
     "output_type": "stream",
     "text": [
      "C:\\Program Files\\Anaconda3\\lib\\site-packages\\qinfer\\smc.py:285: ApproximationWarning: Extremely small n_ess encountered (1.3815154049760272). Resampling is likely to fail. Consider adding particles, or resampling more often.\n",
      "  ApproximationWarning\n"
     ]
    },
    {
     "name": "stdout",
     "output_type": "stream",
     "text": [
      "LogTotLikelihoods updated\n",
      "LogTotLikelihoods updated\n",
      "LogTotLikelihoods updated\n"
     ]
    },
    {
     "name": "stderr",
     "output_type": "stream",
     "text": [
      "C:\\Program Files\\Anaconda3\\lib\\site-packages\\qinfer\\smc.py:285: ApproximationWarning: Extremely small n_ess encountered (1.017259244633535). Resampling is likely to fail. Consider adding particles, or resampling more often.\n",
      "  ApproximationWarning\n"
     ]
    },
    {
     "name": "stdout",
     "output_type": "stream",
     "text": [
      "LogTotLikelihoods updated\n"
     ]
    },
    {
     "name": "stderr",
     "output_type": "stream",
     "text": [
      "C:\\Program Files\\Anaconda3\\lib\\site-packages\\qinfer\\smc.py:285: ApproximationWarning: Extremely small n_ess encountered (3.3368073715603255). Resampling is likely to fail. Consider adding particles, or resampling more often.\n",
      "  ApproximationWarning\n"
     ]
    },
    {
     "name": "stdout",
     "output_type": "stream",
     "text": [
      "LogTotLikelihoods updated\n"
     ]
    },
    {
     "name": "stderr",
     "output_type": "stream",
     "text": [
      "C:\\Program Files\\Anaconda3\\lib\\site-packages\\qinfer\\smc.py:285: ApproximationWarning: Extremely small n_ess encountered (1.2548553795274018). Resampling is likely to fail. Consider adding particles, or resampling more often.\n",
      "  ApproximationWarning\n"
     ]
    },
    {
     "name": "stdout",
     "output_type": "stream",
     "text": [
      "LogTotLikelihoods updated\n",
      "Total elapsed time for Bayes factor update: 214.01119731817744\n",
      "[[ 0.22055294]]\n",
      "Initialization Ready\n",
      "[[ 0.88788643]]\n",
      "Initialization Ready\n",
      "[[ 0.70946947]]\n",
      "Initialization Ready\n",
      "[[ 0.70980021  0.24987747]]\n",
      "Initialization Ready\n",
      "[[ 0.66771592  0.66432674]]\n",
      "Initialization Ready\n",
      "[[ 0.11018358  0.56258227]]\n",
      "Initialization Ready\n",
      "[[ 0.90486866  0.29439132  0.98648495]]\n",
      "Initialization Ready\n",
      "Initial time selected > 17.3800800298\n",
      "Final time selected > 15.9456924418\n",
      "Final Parameters mean and stdev:[ 1.73537724  0.12066526]\n",
      "Batch single time 0 elapsed time: 15.849223043907841\n",
      "\n",
      "\n",
      "Initial time selected > 4.77366242307\n",
      "Final time selected > 333.918843737\n",
      "Final Parameters mean and stdev:[ 1.87468192  0.00946172]\n",
      "Batch single time 1 elapsed time: 15.6082286036617\n",
      "\n",
      "\n",
      "Initial time selected > 1.45373919157\n",
      "Final time selected > 191.737867447\n",
      "Final Parameters mean and stdev:[ 0.5393222   0.02584443]\n",
      "Batch single time 2 elapsed time: 24.00231474584143\n",
      "\n",
      "\n",
      "Initial time selected > 1.77454758429\n",
      "Final time selected > 0.725885775905\n",
      "Final Parameters mean and stdev:[ 0.03977232  0.2041916 ]\n",
      "Final Parameters mean and stdev:[ 0.22259697  0.32671911]\n",
      "Batch single time 3 elapsed time: 15.642619066064071\n",
      "\n",
      "\n",
      "Initial time selected > 1.1199477457\n",
      "Final time selected > 4.18445108741\n",
      "Final Parameters mean and stdev:[-0.01115896  0.07577003]\n",
      "Final Parameters mean and stdev:[ 1.36957765  0.10363676]\n",
      "Batch single time 4 elapsed time: 15.614388237700041\n",
      "\n",
      "\n",
      "Initial time selected > 0.37644269363\n",
      "Final time selected > 192.919570613\n",
      "Final Parameters mean and stdev:[ 0.480931    0.00671977]\n",
      "Final Parameters mean and stdev:[ 0.70800213  0.00704232]\n",
      "Batch single time 5 elapsed time: 15.5798938236112\n",
      "\n",
      "\n",
      "Initial time selected > 0.80075422614\n",
      "Final time selected > 12.8428558586\n",
      "Final Parameters mean and stdev:[-0.0700299  0.0508984]\n",
      "Final Parameters mean and stdev:[ 0.44586103  0.04326667]\n",
      "Final Parameters mean and stdev:[ 0.84282004  0.06434353]\n",
      "Batch single time 6 elapsed time: 15.368858987887506\n",
      "\n",
      "\n"
     ]
    },
    {
     "name": "stderr",
     "output_type": "stream",
     "text": [
      "C:\\Program Files\\Anaconda3\\lib\\site-packages\\qinfer\\smc.py:285: ApproximationWarning: Extremely small n_ess encountered (4.058562081745295). Resampling is likely to fail. Consider adding particles, or resampling more often.\n",
      "  ApproximationWarning\n"
     ]
    },
    {
     "name": "stdout",
     "output_type": "stream",
     "text": [
      "LogTotLikelihoods updated\n"
     ]
    },
    {
     "name": "stderr",
     "output_type": "stream",
     "text": [
      "C:\\Program Files\\Anaconda3\\lib\\site-packages\\qinfer\\smc.py:285: ApproximationWarning: Extremely small n_ess encountered (1.651962768445559). Resampling is likely to fail. Consider adding particles, or resampling more often.\n",
      "  ApproximationWarning\n"
     ]
    },
    {
     "name": "stdout",
     "output_type": "stream",
     "text": [
      "LogTotLikelihoods updated\n"
     ]
    },
    {
     "name": "stderr",
     "output_type": "stream",
     "text": [
      "C:\\Program Files\\Anaconda3\\lib\\site-packages\\qinfer\\smc.py:285: ApproximationWarning: Extremely small n_ess encountered (1.2111767634593922). Resampling is likely to fail. Consider adding particles, or resampling more often.\n",
      "  ApproximationWarning\n"
     ]
    },
    {
     "name": "stdout",
     "output_type": "stream",
     "text": [
      "LogTotLikelihoods updated\n"
     ]
    },
    {
     "name": "stderr",
     "output_type": "stream",
     "text": [
      "C:\\Program Files\\Anaconda3\\lib\\site-packages\\qinfer\\smc.py:285: ApproximationWarning: Extremely small n_ess encountered (1.9881009705635553). Resampling is likely to fail. Consider adding particles, or resampling more often.\n",
      "  ApproximationWarning\n"
     ]
    },
    {
     "name": "stdout",
     "output_type": "stream",
     "text": [
      "LogTotLikelihoods updated\n"
     ]
    },
    {
     "name": "stderr",
     "output_type": "stream",
     "text": [
      "C:\\Program Files\\Anaconda3\\lib\\site-packages\\qinfer\\smc.py:285: ApproximationWarning: Extremely small n_ess encountered (1.3048634788580031). Resampling is likely to fail. Consider adding particles, or resampling more often.\n",
      "  ApproximationWarning\n"
     ]
    },
    {
     "name": "stdout",
     "output_type": "stream",
     "text": [
      "LogTotLikelihoods updated\n",
      "LogTotLikelihoods updated\n"
     ]
    },
    {
     "name": "stderr",
     "output_type": "stream",
     "text": [
      "C:\\Program Files\\Anaconda3\\lib\\site-packages\\qinfer\\smc.py:285: ApproximationWarning: Extremely small n_ess encountered (5.221820985933133). Resampling is likely to fail. Consider adding particles, or resampling more often.\n",
      "  ApproximationWarning\n"
     ]
    },
    {
     "name": "stdout",
     "output_type": "stream",
     "text": [
      "LogTotLikelihoods updated\n",
      "Total elapsed time for the learning process: 257.14154379511456\n",
      "LogTotLikelihoods updated\n",
      "LogTotLikelihoods updated\n",
      "LogTotLikelihoods updated\n",
      "LogTotLikelihoods updated\n"
     ]
    },
    {
     "name": "stderr",
     "output_type": "stream",
     "text": [
      "C:\\Program Files\\Anaconda3\\lib\\site-packages\\qinfer\\smc.py:285: ApproximationWarning: Extremely small n_ess encountered (1.8005159749081632). Resampling is likely to fail. Consider adding particles, or resampling more often.\n",
      "  ApproximationWarning\n"
     ]
    },
    {
     "name": "stdout",
     "output_type": "stream",
     "text": [
      "LogTotLikelihoods updated\n",
      "LogTotLikelihoods updated\n"
     ]
    },
    {
     "name": "stderr",
     "output_type": "stream",
     "text": [
      "C:\\Program Files\\Anaconda3\\lib\\site-packages\\qinfer\\smc.py:285: ApproximationWarning: Extremely small n_ess encountered (4.228601890616092). Resampling is likely to fail. Consider adding particles, or resampling more often.\n",
      "  ApproximationWarning\n"
     ]
    },
    {
     "name": "stdout",
     "output_type": "stream",
     "text": [
      "LogTotLikelihoods updated\n",
      "Total elapsed time for Bayes factor update: 217.24423879224923\n",
      "[[ 0.73083334]]\n",
      "Initialization Ready\n",
      "[[ 0.18747945]]\n",
      "Initialization Ready\n",
      "[[ 0.20607147]]\n",
      "Initialization Ready\n",
      "[[ 0.18371473  0.4941236 ]]\n",
      "Initialization Ready\n",
      "[[ 0.83978015  0.20575909]]\n",
      "Initialization Ready\n",
      "[[ 0.76762735  0.38450353]]\n",
      "Initialization Ready\n",
      "[[ 0.99042265  0.22102679  0.64728148]]\n",
      "Initialization Ready\n",
      "Initial time selected > 2.74083644253\n",
      "Final time selected > 9.48627368943\n",
      "Final Parameters mean and stdev:[ 1.37121686  0.11684555]\n",
      "Batch single time 0 elapsed time: 15.726561377508915\n",
      "\n",
      "\n",
      "Initial time selected > 3.29466430012\n",
      "Final time selected > 13.8552720672\n",
      "Final Parameters mean and stdev:[-0.02208202  0.1000325 ]\n",
      "Batch single time 1 elapsed time: 15.794320993540168\n",
      "\n",
      "\n",
      "Initial time selected > 0.792014371186\n",
      "Final time selected > 663.192185724\n",
      "Exiting learning for Reaching Cov. Norm. Thrshold of 8.58828403283e-07\n",
      " at Iteration Number 77\n",
      "Final Parameters mean and stdev:[ 0.68611416  0.00108254]\n",
      "Batch single time 2 elapsed time: 18.532413725064544\n",
      "\n",
      "\n",
      "Initial time selected > 0.905695001887\n",
      "Final time selected > 10.7112651669\n",
      "Final Parameters mean and stdev:[ 1.67972606  0.12300326]\n",
      "Final Parameters mean and stdev:[ 1.3873518   0.14038672]\n",
      "Batch single time 3 elapsed time: 15.665570208104327\n",
      "\n",
      "\n",
      "Initial time selected > 0.453167982269\n",
      "Final time selected > 29.8254191768\n",
      "Final Parameters mean and stdev:[ 0.41527112  0.04902142]\n",
      "Final Parameters mean and stdev:[ 0.32005906  0.03368074]\n",
      "Batch single time 4 elapsed time: 15.4696600117677\n",
      "\n",
      "\n",
      "Initial time selected > 0.458272243793\n",
      "Final time selected > 7.89440002629\n",
      "Final Parameters mean and stdev:[-0.00562906  0.02600981]\n",
      "Final Parameters mean and stdev:[ 0.69960918  0.01078877]\n",
      "Batch single time 5 elapsed time: 15.555633022740949\n",
      "\n",
      "\n",
      "Initial time selected > 0.34197027054\n",
      "Final time selected > 5.42520929679\n",
      "Final Parameters mean and stdev:[ 0.0481258  0.1920087]\n",
      "Final Parameters mean and stdev:[-0.30122405  0.07451068]\n",
      "Final Parameters mean and stdev:[ 1.18909211  0.11657434]\n",
      "Batch single time 6 elapsed time: 15.563327764968562\n",
      "\n",
      "\n",
      "LogTotLikelihoods updated\n"
     ]
    },
    {
     "name": "stderr",
     "output_type": "stream",
     "text": [
      "C:\\Program Files\\Anaconda3\\lib\\site-packages\\qinfer\\smc.py:285: ApproximationWarning: Extremely small n_ess encountered (1.1795452129155022). Resampling is likely to fail. Consider adding particles, or resampling more often.\n",
      "  ApproximationWarning\n"
     ]
    },
    {
     "name": "stdout",
     "output_type": "stream",
     "text": [
      "LogTotLikelihoods updated\n",
      "LogTotLikelihoods updated\n"
     ]
    },
    {
     "name": "stderr",
     "output_type": "stream",
     "text": [
      "C:\\Program Files\\Anaconda3\\lib\\site-packages\\qinfer\\smc.py:285: ApproximationWarning: Extremely small n_ess encountered (2.291247407025299). Resampling is likely to fail. Consider adding particles, or resampling more often.\n",
      "  ApproximationWarning\n"
     ]
    },
    {
     "name": "stdout",
     "output_type": "stream",
     "text": [
      "LogTotLikelihoods updated\n"
     ]
    },
    {
     "name": "stderr",
     "output_type": "stream",
     "text": [
      "C:\\Program Files\\Anaconda3\\lib\\site-packages\\qinfer\\smc.py:285: ApproximationWarning: Extremely small n_ess encountered (2.232098427579808). Resampling is likely to fail. Consider adding particles, or resampling more often.\n",
      "  ApproximationWarning\n"
     ]
    },
    {
     "name": "stdout",
     "output_type": "stream",
     "text": [
      "LogTotLikelihoods updated\n"
     ]
    },
    {
     "name": "stderr",
     "output_type": "stream",
     "text": [
      "C:\\Program Files\\Anaconda3\\lib\\site-packages\\qinfer\\smc.py:285: ApproximationWarning: Extremely small n_ess encountered (7.23120680328727). Resampling is likely to fail. Consider adding particles, or resampling more often.\n",
      "  ApproximationWarning\n"
     ]
    },
    {
     "name": "stdout",
     "output_type": "stream",
     "text": [
      "LogTotLikelihoods updated\n"
     ]
    },
    {
     "name": "stderr",
     "output_type": "stream",
     "text": [
      "C:\\Program Files\\Anaconda3\\lib\\site-packages\\qinfer\\smc.py:285: ApproximationWarning: Extremely small n_ess encountered (2.043583043126671). Resampling is likely to fail. Consider adding particles, or resampling more often.\n",
      "  ApproximationWarning\n"
     ]
    },
    {
     "name": "stdout",
     "output_type": "stream",
     "text": [
      "LogTotLikelihoods updated\n",
      "Total elapsed time for the learning process: 249.28337594028562\n"
     ]
    },
    {
     "name": "stderr",
     "output_type": "stream",
     "text": [
      "C:\\Program Files\\Anaconda3\\lib\\site-packages\\qinfer\\smc.py:285: ApproximationWarning: Extremely small n_ess encountered (3.6055171000063986). Resampling is likely to fail. Consider adding particles, or resampling more often.\n",
      "  ApproximationWarning\n"
     ]
    },
    {
     "name": "stdout",
     "output_type": "stream",
     "text": [
      "LogTotLikelihoods updated\n"
     ]
    },
    {
     "name": "stderr",
     "output_type": "stream",
     "text": [
      "C:\\Program Files\\Anaconda3\\lib\\site-packages\\qinfer\\smc.py:285: ApproximationWarning: Extremely small n_ess encountered (3.2454588949206236). Resampling is likely to fail. Consider adding particles, or resampling more often.\n",
      "  ApproximationWarning\n"
     ]
    },
    {
     "name": "stdout",
     "output_type": "stream",
     "text": [
      "LogTotLikelihoods updated\n",
      "LogTotLikelihoods updated\n"
     ]
    },
    {
     "name": "stderr",
     "output_type": "stream",
     "text": [
      "C:\\Program Files\\Anaconda3\\lib\\site-packages\\qinfer\\smc.py:285: ApproximationWarning: Extremely small n_ess encountered (5.846161220649431). Resampling is likely to fail. Consider adding particles, or resampling more often.\n",
      "  ApproximationWarning\n"
     ]
    },
    {
     "name": "stdout",
     "output_type": "stream",
     "text": [
      "LogTotLikelihoods updated\n"
     ]
    },
    {
     "name": "stderr",
     "output_type": "stream",
     "text": [
      "C:\\Program Files\\Anaconda3\\lib\\site-packages\\qinfer\\smc.py:285: ApproximationWarning: Extremely small n_ess encountered (2.5469604292400914). Resampling is likely to fail. Consider adding particles, or resampling more often.\n",
      "  ApproximationWarning\n"
     ]
    },
    {
     "name": "stdout",
     "output_type": "stream",
     "text": [
      "LogTotLikelihoods updated\n",
      "LogTotLikelihoods updated\n",
      "LogTotLikelihoods updated\n",
      "Total elapsed time for Bayes factor update: 209.00121464566473\n",
      "[[ 0.15342311]]\n",
      "Initialization Ready\n",
      "[[ 0.10118966]]\n",
      "Initialization Ready\n",
      "[[ 0.84874817]]\n",
      "Initialization Ready\n",
      "[[ 0.74626496  0.27847092]]\n",
      "Initialization Ready\n",
      "[[ 0.30721092  0.19786476]]\n",
      "Initialization Ready\n",
      "[[ 0.97058758  0.03181016]]\n",
      "Initialization Ready\n",
      "[[ 0.78695083  0.83022348  0.04052292]]\n",
      "Initialization Ready\n",
      "Initial time selected > 20.6754849462\n",
      "Final time selected > 1.14634875592\n",
      "Final Parameters mean and stdev:[-0.11584588  0.82041532]\n",
      "Batch single time 0 elapsed time: 15.86509090475738\n",
      "\n",
      "\n",
      "Initial time selected > 1.51372692523\n",
      "Final time selected > 356.809346261\n",
      "Final Parameters mean and stdev:[ 0.4052506   0.00684453]\n",
      "Batch single time 1 elapsed time: 15.781999077014916\n",
      "\n",
      "\n",
      "Initial time selected > 1.92735952869\n",
      "Final time selected > 1174.4686432\n",
      "Final Parameters mean and stdev:[ 0.23472024  0.0178998 ]\n",
      "Batch single time 2 elapsed time: 24.480306452220248\n",
      "\n",
      "\n",
      "Initial time selected > 0.432601592203\n",
      "Final time selected > 5.28144080712\n",
      "Final Parameters mean and stdev:[ 0.5052226   0.14711843]\n",
      "Final Parameters mean and stdev:[ 0.66307964  0.34277838]\n",
      "Batch single time 3 elapsed time: 15.41494500823319\n",
      "\n",
      "\n",
      "Initial time selected > 0.502857346721\n",
      "Final time selected > 5.9140767531\n",
      "Final Parameters mean and stdev:[-0.11772634  0.04527369]\n",
      "Final Parameters mean and stdev:[ 0.73614998  0.01727739]\n",
      "Batch single time 4 elapsed time: 15.579702142000315\n",
      "\n",
      "\n",
      "Initial time selected > 0.904596923575\n",
      "Final time selected > 45.2936790792\n",
      "Final Parameters mean and stdev:[ 0.54062049  0.01130609]\n",
      "Final Parameters mean and stdev:[ 0.27718675  0.03346484]\n",
      "Batch single time 5 elapsed time: 15.633922878441808\n",
      "\n",
      "\n",
      "Initial time selected > 0.454764385839\n",
      "Final time selected > 8.71462414032\n",
      "Final Parameters mean and stdev:[ 1.08586125  0.07014431]\n",
      "Final Parameters mean and stdev:[ 0.60538975  0.05514209]\n",
      "Final Parameters mean and stdev:[ 1.09650715  0.04098729]\n",
      "Batch single time 6 elapsed time: 15.406693429264124\n",
      "\n",
      "\n"
     ]
    },
    {
     "name": "stderr",
     "output_type": "stream",
     "text": [
      "C:\\Program Files\\Anaconda3\\lib\\site-packages\\qinfer\\smc.py:285: ApproximationWarning: Extremely small n_ess encountered (5.902273396989198). Resampling is likely to fail. Consider adding particles, or resampling more often.\n",
      "  ApproximationWarning\n"
     ]
    },
    {
     "name": "stdout",
     "output_type": "stream",
     "text": [
      "LogTotLikelihoods updated\n",
      "LogTotLikelihoods updated\n"
     ]
    },
    {
     "name": "stderr",
     "output_type": "stream",
     "text": [
      "C:\\Program Files\\Anaconda3\\lib\\site-packages\\qinfer\\smc.py:285: ApproximationWarning: Extremely small n_ess encountered (1.0884163490443723). Resampling is likely to fail. Consider adding particles, or resampling more often.\n",
      "  ApproximationWarning\n"
     ]
    },
    {
     "name": "stdout",
     "output_type": "stream",
     "text": [
      "LogTotLikelihoods updated\n"
     ]
    },
    {
     "name": "stderr",
     "output_type": "stream",
     "text": [
      "C:\\Program Files\\Anaconda3\\lib\\site-packages\\qinfer\\smc.py:285: ApproximationWarning: Extremely small n_ess encountered (1.6745071200816237). Resampling is likely to fail. Consider adding particles, or resampling more often.\n",
      "  ApproximationWarning\n"
     ]
    },
    {
     "name": "stdout",
     "output_type": "stream",
     "text": [
      "LogTotLikelihoods updated\n"
     ]
    },
    {
     "name": "stderr",
     "output_type": "stream",
     "text": [
      "C:\\Program Files\\Anaconda3\\lib\\site-packages\\qinfer\\smc.py:285: ApproximationWarning: Extremely small n_ess encountered (1.3108052440351812). Resampling is likely to fail. Consider adding particles, or resampling more often.\n",
      "  ApproximationWarning\n"
     ]
    },
    {
     "name": "stdout",
     "output_type": "stream",
     "text": [
      "LogTotLikelihoods updated\n"
     ]
    },
    {
     "name": "stderr",
     "output_type": "stream",
     "text": [
      "C:\\Program Files\\Anaconda3\\lib\\site-packages\\qinfer\\smc.py:285: ApproximationWarning: Extremely small n_ess encountered (1.0029366848018246). Resampling is likely to fail. Consider adding particles, or resampling more often.\n",
      "  ApproximationWarning\n"
     ]
    },
    {
     "name": "stdout",
     "output_type": "stream",
     "text": [
      "LogTotLikelihoods updated\n"
     ]
    },
    {
     "name": "stderr",
     "output_type": "stream",
     "text": [
      "C:\\Program Files\\Anaconda3\\lib\\site-packages\\qinfer\\smc.py:285: ApproximationWarning: Extremely small n_ess encountered (5.310397405144177). Resampling is likely to fail. Consider adding particles, or resampling more often.\n",
      "  ApproximationWarning\n"
     ]
    },
    {
     "name": "stdout",
     "output_type": "stream",
     "text": [
      "LogTotLikelihoods updated\n",
      "Total elapsed time for the learning process: 256.8556283217331\n"
     ]
    },
    {
     "name": "stderr",
     "output_type": "stream",
     "text": [
      "C:\\Program Files\\Anaconda3\\lib\\site-packages\\qinfer\\smc.py:285: ApproximationWarning: Extremely small n_ess encountered (3.3539454275381595). Resampling is likely to fail. Consider adding particles, or resampling more often.\n",
      "  ApproximationWarning\n"
     ]
    },
    {
     "name": "stdout",
     "output_type": "stream",
     "text": [
      "LogTotLikelihoods updated\n",
      "LogTotLikelihoods updated\n",
      "LogTotLikelihoods updated\n"
     ]
    },
    {
     "name": "stderr",
     "output_type": "stream",
     "text": [
      "C:\\Program Files\\Anaconda3\\lib\\site-packages\\qinfer\\smc.py:285: ApproximationWarning: Extremely small n_ess encountered (1.011668454156951). Resampling is likely to fail. Consider adding particles, or resampling more often.\n",
      "  ApproximationWarning\n"
     ]
    },
    {
     "name": "stdout",
     "output_type": "stream",
     "text": [
      "LogTotLikelihoods updated\n"
     ]
    },
    {
     "name": "stderr",
     "output_type": "stream",
     "text": [
      "C:\\Program Files\\Anaconda3\\lib\\site-packages\\qinfer\\smc.py:285: ApproximationWarning: Extremely small n_ess encountered (1.228281631262231). Resampling is likely to fail. Consider adding particles, or resampling more often.\n",
      "  ApproximationWarning\n"
     ]
    },
    {
     "name": "stdout",
     "output_type": "stream",
     "text": [
      "LogTotLikelihoods updated\n",
      "LogTotLikelihoods updated\n"
     ]
    },
    {
     "name": "stderr",
     "output_type": "stream",
     "text": [
      "C:\\Program Files\\Anaconda3\\lib\\site-packages\\qinfer\\smc.py:285: ApproximationWarning: Extremely small n_ess encountered (2.181175518278336). Resampling is likely to fail. Consider adding particles, or resampling more often.\n",
      "  ApproximationWarning\n"
     ]
    },
    {
     "name": "stdout",
     "output_type": "stream",
     "text": [
      "LogTotLikelihoods updated\n",
      "Total elapsed time for Bayes factor update: 217.57934923595167\n",
      "[[ 0.82944058]]\n",
      "Initialization Ready\n",
      "[[ 0.37109663]]\n",
      "Initialization Ready\n",
      "[[ 0.09250486]]\n",
      "Initialization Ready\n",
      "[[ 0.13334427  0.39083067]]\n",
      "Initialization Ready\n",
      "[[ 0.97377391  0.5492686 ]]\n",
      "Initialization Ready\n",
      "[[ 0.98148763  0.33254816]]\n",
      "Initialization Ready\n",
      "[[ 0.77895025  0.85248869  0.23037249]]\n",
      "Initialization Ready\n",
      "Initial time selected > 1.78827439524\n",
      "Final time selected > 1.69200013012\n",
      "Final Parameters mean and stdev:[ 0.27462699  0.12892485]\n",
      "Batch single time 0 elapsed time: 15.765954432077706\n",
      "\n",
      "\n",
      "Initial time selected > 44.9707980954\n",
      "Final time selected > 2266.04926677\n",
      "Final Parameters mean and stdev:[ 0.18692192  0.00141436]\n",
      "Batch single time 1 elapsed time: 15.948146978415025\n",
      "\n",
      "\n",
      "Initial time selected > 2.81561045465\n",
      "Final time selected > 270.527162709\n",
      "Final Parameters mean and stdev:[-0.04231724  0.00184802]\n",
      "Batch single time 2 elapsed time: 24.09863657761889\n",
      "\n",
      "\n",
      "Initial time selected > 0.479501277357\n",
      "Final time selected > 33.1162816214\n",
      "Final Parameters mean and stdev:[ 0.43445314  0.01268034]\n",
      "Final Parameters mean and stdev:[ 0.02228723  0.00784298]\n",
      "Batch single time 3 elapsed time: 15.607502597136772\n",
      "\n",
      "\n",
      "Initial time selected > 0.523104057225\n",
      "Final time selected > 30.3909956016\n",
      "Final Parameters mean and stdev:[ 0.38783798  0.03358765]\n",
      "Final Parameters mean and stdev:[ 0.00757254  0.027584  ]\n",
      "Batch single time 4 elapsed time: 15.567169011534133\n",
      "\n",
      "\n",
      "Initial time selected > 0.576341472681\n",
      "Final time selected > 250.846635458\n",
      "Final Parameters mean and stdev:[ 0.14541386  0.0122835 ]\n",
      "Final Parameters mean and stdev:[-0.17609538  0.00772961]\n",
      "Batch single time 5 elapsed time: 15.345453305497358\n",
      "\n",
      "\n",
      "Initial time selected > 0.558540955351\n",
      "Final time selected > 18.6070657926\n",
      "Final Parameters mean and stdev:[ 0.49433137  0.04334015]\n",
      "Final Parameters mean and stdev:[ 0.02665918  0.05604869]\n",
      "Final Parameters mean and stdev:[ 0.05168472  0.03959898]\n",
      "Batch single time 6 elapsed time: 15.47564021328435\n",
      "\n",
      "\n"
     ]
    },
    {
     "name": "stderr",
     "output_type": "stream",
     "text": [
      "C:\\Program Files\\Anaconda3\\lib\\site-packages\\qinfer\\smc.py:285: ApproximationWarning: Extremely small n_ess encountered (1.684853467822295). Resampling is likely to fail. Consider adding particles, or resampling more often.\n",
      "  ApproximationWarning\n"
     ]
    },
    {
     "name": "stdout",
     "output_type": "stream",
     "text": [
      "LogTotLikelihoods updated\n"
     ]
    },
    {
     "name": "stderr",
     "output_type": "stream",
     "text": [
      "C:\\Program Files\\Anaconda3\\lib\\site-packages\\qinfer\\smc.py:285: ApproximationWarning: Extremely small n_ess encountered (1.11538819671113). Resampling is likely to fail. Consider adding particles, or resampling more often.\n",
      "  ApproximationWarning\n"
     ]
    },
    {
     "name": "stdout",
     "output_type": "stream",
     "text": [
      "LogTotLikelihoods updated\n"
     ]
    },
    {
     "name": "stderr",
     "output_type": "stream",
     "text": [
      "C:\\Program Files\\Anaconda3\\lib\\site-packages\\qinfer\\smc.py:285: ApproximationWarning: Extremely small n_ess encountered (5.993775174122752). Resampling is likely to fail. Consider adding particles, or resampling more often.\n",
      "  ApproximationWarning\n"
     ]
    },
    {
     "name": "stdout",
     "output_type": "stream",
     "text": [
      "LogTotLikelihoods updated\n"
     ]
    },
    {
     "name": "stderr",
     "output_type": "stream",
     "text": [
      "C:\\Program Files\\Anaconda3\\lib\\site-packages\\qinfer\\smc.py:285: ApproximationWarning: Extremely small n_ess encountered (1.6288503318175316). Resampling is likely to fail. Consider adding particles, or resampling more often.\n",
      "  ApproximationWarning\n"
     ]
    },
    {
     "name": "stdout",
     "output_type": "stream",
     "text": [
      "LogTotLikelihoods updated\n"
     ]
    },
    {
     "name": "stderr",
     "output_type": "stream",
     "text": [
      "C:\\Program Files\\Anaconda3\\lib\\site-packages\\qinfer\\smc.py:285: ApproximationWarning: Extremely small n_ess encountered (1.3929694899729146). Resampling is likely to fail. Consider adding particles, or resampling more often.\n",
      "  ApproximationWarning\n"
     ]
    },
    {
     "name": "stdout",
     "output_type": "stream",
     "text": [
      "LogTotLikelihoods updated\n"
     ]
    },
    {
     "name": "stderr",
     "output_type": "stream",
     "text": [
      "C:\\Program Files\\Anaconda3\\lib\\site-packages\\qinfer\\smc.py:285: ApproximationWarning: Extremely small n_ess encountered (3.6955420456939563). Resampling is likely to fail. Consider adding particles, or resampling more often.\n",
      "  ApproximationWarning\n"
     ]
    },
    {
     "name": "stdout",
     "output_type": "stream",
     "text": [
      "LogTotLikelihoods updated\n"
     ]
    },
    {
     "name": "stderr",
     "output_type": "stream",
     "text": [
      "C:\\Program Files\\Anaconda3\\lib\\site-packages\\qinfer\\smc.py:285: ApproximationWarning: Extremely small n_ess encountered (6.003457487292915). Resampling is likely to fail. Consider adding particles, or resampling more often.\n",
      "  ApproximationWarning\n"
     ]
    },
    {
     "name": "stdout",
     "output_type": "stream",
     "text": [
      "LogTotLikelihoods updated\n",
      "Total elapsed time for the learning process: 254.6980226667656\n",
      "LogTotLikelihoods updated\n",
      "LogTotLikelihoods updated\n",
      "LogTotLikelihoods updated\n"
     ]
    },
    {
     "name": "stderr",
     "output_type": "stream",
     "text": [
      "C:\\Program Files\\Anaconda3\\lib\\site-packages\\qinfer\\smc.py:285: ApproximationWarning: Extremely small n_ess encountered (1.003341502528172). Resampling is likely to fail. Consider adding particles, or resampling more often.\n",
      "  ApproximationWarning\n"
     ]
    },
    {
     "name": "stdout",
     "output_type": "stream",
     "text": [
      "LogTotLikelihoods updated\n"
     ]
    },
    {
     "name": "stderr",
     "output_type": "stream",
     "text": [
      "C:\\Program Files\\Anaconda3\\lib\\site-packages\\qinfer\\smc.py:285: ApproximationWarning: Extremely small n_ess encountered (1.5733777338264663). Resampling is likely to fail. Consider adding particles, or resampling more often.\n",
      "  ApproximationWarning\n"
     ]
    },
    {
     "name": "stdout",
     "output_type": "stream",
     "text": [
      "LogTotLikelihoods updated\n"
     ]
    },
    {
     "name": "stderr",
     "output_type": "stream",
     "text": [
      "C:\\Program Files\\Anaconda3\\lib\\site-packages\\qinfer\\smc.py:285: ApproximationWarning: Extremely small n_ess encountered (7.785099117806837). Resampling is likely to fail. Consider adding particles, or resampling more often.\n",
      "  ApproximationWarning\n"
     ]
    },
    {
     "name": "stdout",
     "output_type": "stream",
     "text": [
      "LogTotLikelihoods updated\n"
     ]
    },
    {
     "name": "stderr",
     "output_type": "stream",
     "text": [
      "C:\\Program Files\\Anaconda3\\lib\\site-packages\\qinfer\\smc.py:285: ApproximationWarning: Extremely small n_ess encountered (5.929211230938914). Resampling is likely to fail. Consider adding particles, or resampling more often.\n",
      "  ApproximationWarning\n"
     ]
    },
    {
     "name": "stdout",
     "output_type": "stream",
     "text": [
      "LogTotLikelihoods updated\n",
      "Total elapsed time for Bayes factor update: 204.43645804159314\n",
      "[[ 0.29716556]]\n",
      "Initialization Ready\n",
      "[[ 0.81350315]]\n",
      "Initialization Ready\n",
      "[[ 0.47421038]]\n",
      "Initialization Ready\n",
      "[[ 0.27268902  0.95954098]]\n",
      "Initialization Ready\n",
      "[[ 0.2911009   0.33275566]]\n",
      "Initialization Ready\n",
      "[[ 0.6280295   0.08863674]]\n",
      "Initialization Ready\n",
      "[[ 0.84134773  0.39052647  0.31536247]]\n",
      "Initialization Ready\n",
      "Initial time selected > 1.02069566686\n",
      "Final time selected > 11.4348008772\n",
      "Final Parameters mean and stdev:[ 1.62598003  0.42839974]\n",
      "Batch single time 0 elapsed time: 15.807401360114454\n",
      "\n",
      "\n",
      "Initial time selected > 14.5299070659\n",
      "Final time selected > 5.9012847537\n",
      "Final Parameters mean and stdev:[-0.76312901  0.0431438 ]\n",
      "Batch single time 1 elapsed time: 15.82488676218054\n",
      "\n",
      "\n",
      "Initial time selected > 1.29864773282\n",
      "Final time selected > 641.941399955\n",
      "Final Parameters mean and stdev:[ 0.40148008  0.0081107 ]\n",
      "Batch single time 2 elapsed time: 23.98705437335593\n",
      "\n",
      "\n",
      "Initial time selected > 0.987317463574\n",
      "Final time selected > 0.724970187614\n",
      "Final Parameters mean and stdev:[ 0.09122213  0.09792638]\n",
      "Final Parameters mean and stdev:[ 0.0730548   0.37651807]\n",
      "Batch single time 3 elapsed time: 15.400320594948425\n",
      "\n",
      "\n",
      "Initial time selected > 0.690767122911\n",
      "Final time selected > 107.967631846\n",
      "Final Parameters mean and stdev:[ 0.27458381  0.00801102]\n",
      "Final Parameters mean and stdev:[ 0.48313052  0.01118692]\n",
      "Batch single time 4 elapsed time: 15.738229457791022\n",
      "\n",
      "\n",
      "Initial time selected > 1.87354989861\n",
      "Final time selected > 4.05994848571\n",
      "Final Parameters mean and stdev:[ 0.84018382  0.11607055]\n",
      "Final Parameters mean and stdev:[ 0.02984587  0.16479743]\n",
      "Batch single time 5 elapsed time: 15.501854246496805\n",
      "\n",
      "\n",
      "Initial time selected > 0.460430086177\n",
      "Final time selected > 9.61038599052\n",
      "Final Parameters mean and stdev:[ 0.11205338  0.06287286]\n",
      "Final Parameters mean and stdev:[-0.03418808  0.02557498]\n",
      "Final Parameters mean and stdev:[ 0.38408139  0.0501177 ]\n",
      "Batch single time 6 elapsed time: 15.51451946843008\n",
      "\n",
      "\n",
      "LogTotLikelihoods updated\n"
     ]
    },
    {
     "name": "stderr",
     "output_type": "stream",
     "text": [
      "C:\\Program Files\\Anaconda3\\lib\\site-packages\\qinfer\\smc.py:285: ApproximationWarning: Extremely small n_ess encountered (1.3974689460979854). Resampling is likely to fail. Consider adding particles, or resampling more often.\n",
      "  ApproximationWarning\n"
     ]
    },
    {
     "name": "stdout",
     "output_type": "stream",
     "text": [
      "LogTotLikelihoods updated\n"
     ]
    },
    {
     "name": "stderr",
     "output_type": "stream",
     "text": [
      "C:\\Program Files\\Anaconda3\\lib\\site-packages\\qinfer\\smc.py:285: ApproximationWarning: Extremely small n_ess encountered (1.0001240815958548). Resampling is likely to fail. Consider adding particles, or resampling more often.\n",
      "  ApproximationWarning\n"
     ]
    },
    {
     "name": "stdout",
     "output_type": "stream",
     "text": [
      "LogTotLikelihoods updated\n"
     ]
    },
    {
     "name": "stderr",
     "output_type": "stream",
     "text": [
      "C:\\Program Files\\Anaconda3\\lib\\site-packages\\qinfer\\smc.py:285: ApproximationWarning: Extremely small n_ess encountered (2.182226588533262). Resampling is likely to fail. Consider adding particles, or resampling more often.\n",
      "  ApproximationWarning\n"
     ]
    },
    {
     "name": "stdout",
     "output_type": "stream",
     "text": [
      "LogTotLikelihoods updated\n",
      "LogTotLikelihoods updated\n"
     ]
    },
    {
     "name": "stderr",
     "output_type": "stream",
     "text": [
      "C:\\Program Files\\Anaconda3\\lib\\site-packages\\qinfer\\smc.py:285: ApproximationWarning: Extremely small n_ess encountered (1.0426566377936142). Resampling is likely to fail. Consider adding particles, or resampling more often.\n",
      "  ApproximationWarning\n"
     ]
    },
    {
     "name": "stdout",
     "output_type": "stream",
     "text": [
      "LogTotLikelihoods updated\n"
     ]
    },
    {
     "name": "stderr",
     "output_type": "stream",
     "text": [
      "C:\\Program Files\\Anaconda3\\lib\\site-packages\\qinfer\\smc.py:285: ApproximationWarning: Extremely small n_ess encountered (1.3688994304932631). Resampling is likely to fail. Consider adding particles, or resampling more often.\n",
      "  ApproximationWarning\n"
     ]
    },
    {
     "name": "stdout",
     "output_type": "stream",
     "text": [
      "LogTotLikelihoods updated\n",
      "Total elapsed time for the learning process: 256.1218707728185\n"
     ]
    },
    {
     "name": "stderr",
     "output_type": "stream",
     "text": [
      "C:\\Program Files\\Anaconda3\\lib\\site-packages\\qinfer\\smc.py:285: ApproximationWarning: Extremely small n_ess encountered (1.0433239753553183). Resampling is likely to fail. Consider adding particles, or resampling more often.\n",
      "  ApproximationWarning\n"
     ]
    },
    {
     "name": "stdout",
     "output_type": "stream",
     "text": [
      "LogTotLikelihoods updated\n"
     ]
    },
    {
     "name": "stderr",
     "output_type": "stream",
     "text": [
      "C:\\Program Files\\Anaconda3\\lib\\site-packages\\qinfer\\smc.py:285: ApproximationWarning: Extremely small n_ess encountered (7.564319054423639). Resampling is likely to fail. Consider adding particles, or resampling more often.\n",
      "  ApproximationWarning\n"
     ]
    },
    {
     "name": "stdout",
     "output_type": "stream",
     "text": [
      "LogTotLikelihoods updated\n",
      "LogTotLikelihoods updated\n"
     ]
    },
    {
     "name": "stderr",
     "output_type": "stream",
     "text": [
      "C:\\Program Files\\Anaconda3\\lib\\site-packages\\qinfer\\smc.py:285: ApproximationWarning: Extremely small n_ess encountered (5.004924461591536). Resampling is likely to fail. Consider adding particles, or resampling more often.\n",
      "  ApproximationWarning\n"
     ]
    },
    {
     "name": "stdout",
     "output_type": "stream",
     "text": [
      "LogTotLikelihoods updated\n"
     ]
    },
    {
     "name": "stderr",
     "output_type": "stream",
     "text": [
      "C:\\Program Files\\Anaconda3\\lib\\site-packages\\qinfer\\smc.py:285: ApproximationWarning: Extremely small n_ess encountered (2.093555091994011). Resampling is likely to fail. Consider adding particles, or resampling more often.\n",
      "  ApproximationWarning\n"
     ]
    },
    {
     "name": "stdout",
     "output_type": "stream",
     "text": [
      "LogTotLikelihoods updated\n"
     ]
    },
    {
     "name": "stderr",
     "output_type": "stream",
     "text": [
      "C:\\Program Files\\Anaconda3\\lib\\site-packages\\qinfer\\smc.py:285: ApproximationWarning: Extremely small n_ess encountered (7.684243602223267). Resampling is likely to fail. Consider adding particles, or resampling more often.\n",
      "  ApproximationWarning\n"
     ]
    },
    {
     "name": "stdout",
     "output_type": "stream",
     "text": [
      "LogTotLikelihoods updated\n",
      "LogTotLikelihoods updated\n",
      "Total elapsed time for Bayes factor update: 221.04541132756276\n",
      "[[ 0.21595559]]\n",
      "Initialization Ready\n",
      "[[ 0.02464629]]\n",
      "Initialization Ready\n",
      "[[ 0.97343953]]\n",
      "Initialization Ready\n",
      "[[ 0.04530714  0.57249329]]\n",
      "Initialization Ready\n",
      "[[ 0.88094564  0.68593672]]\n",
      "Initialization Ready\n",
      "[[ 0.8195304   0.45833843]]\n",
      "Initialization Ready\n",
      "[[ 0.11835922  0.9868657   0.83562189]]\n",
      "Initialization Ready\n",
      "Initial time selected > 0.592576883669\n",
      "Final time selected > 1.46707315364\n",
      "Final Parameters mean and stdev:[ 1.62743109  0.52920656]\n",
      "Batch single time 0 elapsed time: 15.659053033239616\n",
      "\n",
      "\n",
      "Initial time selected > 1.46402338168\n",
      "Final time selected > 76.7420662946\n",
      "Final Parameters mean and stdev:[-0.6874099   0.03168715]\n",
      "Batch single time 1 elapsed time: 15.702963682459085\n",
      "\n",
      "\n",
      "Initial time selected > 2.88909600655\n",
      "Final time selected > 48.8818424249\n",
      "Final Parameters mean and stdev:[-0.13193803  0.01409824]\n",
      "Batch single time 2 elapsed time: 23.447909279966552\n",
      "\n",
      "\n",
      "Initial time selected > 0.874483927747\n",
      "Final time selected > 2.32267954164\n",
      "Final Parameters mean and stdev:[-0.35842375  1.01458362]\n",
      "Final Parameters mean and stdev:[ 0.27530208  0.26797831]\n",
      "Batch single time 3 elapsed time: 15.59694123816007\n",
      "\n",
      "\n",
      "Initial time selected > 0.335223699484\n",
      "Final time selected > 23.637521177\n",
      "Final Parameters mean and stdev:[ 0.4460518   0.01864994]\n",
      "Final Parameters mean and stdev:[ 0.64299003  0.02463945]\n",
      "Batch single time 4 elapsed time: 15.54094372241525\n",
      "\n",
      "\n",
      "Initial time selected > 0.521234683191\n",
      "Final time selected > 2.66581655103\n",
      "Final Parameters mean and stdev:[ 0.0207739   0.14896661]\n",
      "Final Parameters mean and stdev:[ 0.64375601  0.1392937 ]\n",
      "Batch single time 5 elapsed time: 15.455370958545245\n",
      "\n",
      "\n",
      "Initial time selected > 0.615381817796\n",
      "Final time selected > 1.14468500042\n",
      "Final Parameters mean and stdev:[ 0.15547784  0.19066143]\n",
      "Final Parameters mean and stdev:[-0.1778624   0.29588176]\n",
      "Final Parameters mean and stdev:[ 1.00176222  0.1591487 ]\n",
      "Batch single time 6 elapsed time: 15.383144068429829\n",
      "\n",
      "\n",
      "LogTotLikelihoods updated\n"
     ]
    },
    {
     "name": "stderr",
     "output_type": "stream",
     "text": [
      "C:\\Program Files\\Anaconda3\\lib\\site-packages\\qinfer\\smc.py:285: ApproximationWarning: Extremely small n_ess encountered (3.100114456045853). Resampling is likely to fail. Consider adding particles, or resampling more often.\n",
      "  ApproximationWarning\n"
     ]
    },
    {
     "name": "stdout",
     "output_type": "stream",
     "text": [
      "LogTotLikelihoods updated\n"
     ]
    },
    {
     "name": "stderr",
     "output_type": "stream",
     "text": [
      "C:\\Program Files\\Anaconda3\\lib\\site-packages\\qinfer\\smc.py:285: ApproximationWarning: Extremely small n_ess encountered (1.03276909830026). Resampling is likely to fail. Consider adding particles, or resampling more often.\n",
      "  ApproximationWarning\n"
     ]
    },
    {
     "name": "stdout",
     "output_type": "stream",
     "text": [
      "LogTotLikelihoods updated\n"
     ]
    },
    {
     "name": "stderr",
     "output_type": "stream",
     "text": [
      "C:\\Program Files\\Anaconda3\\lib\\site-packages\\qinfer\\smc.py:285: ApproximationWarning: Extremely small n_ess encountered (2.7758400868805757). Resampling is likely to fail. Consider adding particles, or resampling more often.\n",
      "  ApproximationWarning\n"
     ]
    },
    {
     "name": "stdout",
     "output_type": "stream",
     "text": [
      "LogTotLikelihoods updated\n"
     ]
    },
    {
     "name": "stderr",
     "output_type": "stream",
     "text": [
      "C:\\Program Files\\Anaconda3\\lib\\site-packages\\qinfer\\smc.py:285: ApproximationWarning: Extremely small n_ess encountered (5.703944424433692). Resampling is likely to fail. Consider adding particles, or resampling more often.\n",
      "  ApproximationWarning\n"
     ]
    },
    {
     "name": "stdout",
     "output_type": "stream",
     "text": [
      "LogTotLikelihoods updated\n"
     ]
    },
    {
     "name": "stderr",
     "output_type": "stream",
     "text": [
      "C:\\Program Files\\Anaconda3\\lib\\site-packages\\qinfer\\smc.py:285: ApproximationWarning: Extremely small n_ess encountered (1.9633678281790654). Resampling is likely to fail. Consider adding particles, or resampling more often.\n",
      "  ApproximationWarning\n"
     ]
    },
    {
     "name": "stdout",
     "output_type": "stream",
     "text": [
      "LogTotLikelihoods updated\n"
     ]
    },
    {
     "name": "stderr",
     "output_type": "stream",
     "text": [
      "C:\\Program Files\\Anaconda3\\lib\\site-packages\\qinfer\\smc.py:285: ApproximationWarning: Extremely small n_ess encountered (3.7300753669151763). Resampling is likely to fail. Consider adding particles, or resampling more often.\n",
      "  ApproximationWarning\n"
     ]
    },
    {
     "name": "stdout",
     "output_type": "stream",
     "text": [
      "LogTotLikelihoods updated\n",
      "Total elapsed time for the learning process: 254.1216218184636\n"
     ]
    },
    {
     "name": "stderr",
     "output_type": "stream",
     "text": [
      "C:\\Program Files\\Anaconda3\\lib\\site-packages\\qinfer\\smc.py:285: ApproximationWarning: Extremely small n_ess encountered (3.7486770833503518). Resampling is likely to fail. Consider adding particles, or resampling more often.\n",
      "  ApproximationWarning\n"
     ]
    },
    {
     "name": "stdout",
     "output_type": "stream",
     "text": [
      "LogTotLikelihoods updated\n"
     ]
    },
    {
     "name": "stderr",
     "output_type": "stream",
     "text": [
      "C:\\Program Files\\Anaconda3\\lib\\site-packages\\qinfer\\smc.py:285: ApproximationWarning: Extremely small n_ess encountered (6.480618936642013). Resampling is likely to fail. Consider adding particles, or resampling more often.\n",
      "  ApproximationWarning\n"
     ]
    },
    {
     "name": "stdout",
     "output_type": "stream",
     "text": [
      "LogTotLikelihoods updated\n",
      "LogTotLikelihoods updated\n"
     ]
    },
    {
     "name": "stderr",
     "output_type": "stream",
     "text": [
      "C:\\Program Files\\Anaconda3\\lib\\site-packages\\qinfer\\smc.py:285: ApproximationWarning: Extremely small n_ess encountered (7.395781622529227). Resampling is likely to fail. Consider adding particles, or resampling more often.\n",
      "  ApproximationWarning\n"
     ]
    },
    {
     "name": "stdout",
     "output_type": "stream",
     "text": [
      "LogTotLikelihoods updated\n"
     ]
    },
    {
     "name": "stderr",
     "output_type": "stream",
     "text": [
      "C:\\Program Files\\Anaconda3\\lib\\site-packages\\qinfer\\smc.py:285: ApproximationWarning: Extremely small n_ess encountered (3.0605416656451787). Resampling is likely to fail. Consider adding particles, or resampling more often.\n",
      "  ApproximationWarning\n"
     ]
    },
    {
     "name": "stdout",
     "output_type": "stream",
     "text": [
      "LogTotLikelihoods updated\n"
     ]
    },
    {
     "name": "stderr",
     "output_type": "stream",
     "text": [
      "C:\\Program Files\\Anaconda3\\lib\\site-packages\\qinfer\\smc.py:285: ApproximationWarning: Extremely small n_ess encountered (5.692511626021464). Resampling is likely to fail. Consider adding particles, or resampling more often.\n",
      "  ApproximationWarning\n"
     ]
    },
    {
     "name": "stdout",
     "output_type": "stream",
     "text": [
      "LogTotLikelihoods updated\n"
     ]
    },
    {
     "name": "stderr",
     "output_type": "stream",
     "text": [
      "C:\\Program Files\\Anaconda3\\lib\\site-packages\\qinfer\\smc.py:285: ApproximationWarning: Extremely small n_ess encountered (1.5697730663056066). Resampling is likely to fail. Consider adding particles, or resampling more often.\n",
      "  ApproximationWarning\n"
     ]
    },
    {
     "name": "stdout",
     "output_type": "stream",
     "text": [
      "LogTotLikelihoods updated\n",
      "Total elapsed time for Bayes factor update: 212.8319985142225\n",
      "[[ 0.49998324]]\n",
      "Initialization Ready\n",
      "[[ 0.25462041]]\n",
      "Initialization Ready\n",
      "[[ 0.29424584]]\n",
      "Initialization Ready\n",
      "[[ 0.45438616  0.17665092]]\n",
      "Initialization Ready\n",
      "[[ 0.46889143  0.61496247]]\n",
      "Initialization Ready\n",
      "[[ 0.76174886  0.3857536 ]]\n",
      "Initialization Ready\n",
      "[[ 0.64123787  0.42000649  0.86060038]]\n",
      "Initialization Ready\n",
      "Initial time selected > 2.85970141323\n",
      "Final time selected > 275.4788042\n",
      "Final Parameters mean and stdev:[ 0.39133524  0.12416167]\n",
      "Batch single time 0 elapsed time: 15.69994875248085\n",
      "\n",
      "\n",
      "Initial time selected > 1.30582214855\n",
      "Final time selected > 90.3937375444\n",
      "Final Parameters mean and stdev:[ 0.10310912  0.21128678]\n",
      "Batch single time 1 elapsed time: 15.705277104076231\n",
      "\n",
      "\n",
      "Initial time selected > 0.471402897711\n",
      "Final time selected > 1.48199212407\n",
      "Final Parameters mean and stdev:[ 1.51978487  0.17946904]\n",
      "Batch single time 2 elapsed time: 23.865982439449\n",
      "\n",
      "\n",
      "Initial time selected > 0.669759457639\n",
      "Final time selected > 5.71155375103\n",
      "Final Parameters mean and stdev:[ 0.80724538  0.1116394 ]\n",
      "Final Parameters mean and stdev:[ 0.77929792  0.10399352]\n",
      "Batch single time 3 elapsed time: 15.673237141607387\n",
      "\n",
      "\n",
      "Initial time selected > 0.706709852665\n",
      "Final time selected > 7.147253988\n",
      "Final Parameters mean and stdev:[ 1.11221526  0.07829845]\n",
      "Final Parameters mean and stdev:[-0.31928243  0.05070563]\n",
      "Batch single time 4 elapsed time: 15.432494966291415\n",
      "\n",
      "\n",
      "Initial time selected > 0.719846030889\n",
      "Final time selected > 118.833503019\n",
      "Final Parameters mean and stdev:[ 0.93738335  0.00402314]\n",
      "Final Parameters mean and stdev:[ 1.06120807  0.00375246]\n",
      "Batch single time 5 elapsed time: 15.594046150574286\n",
      "\n",
      "\n",
      "Initial time selected > 0.494815478009\n",
      "Final time selected > 1.95584900407\n",
      "Final Parameters mean and stdev:[ 0.63596029  0.37070956]\n",
      "Final Parameters mean and stdev:[-0.60978228  0.25516515]\n",
      "Final Parameters mean and stdev:[ 1.10272833  0.22928594]\n",
      "Batch single time 6 elapsed time: 15.495945222093724\n",
      "\n",
      "\n"
     ]
    },
    {
     "name": "stderr",
     "output_type": "stream",
     "text": [
      "C:\\Program Files\\Anaconda3\\lib\\site-packages\\qinfer\\smc.py:285: ApproximationWarning: Extremely small n_ess encountered (5.008316411671974). Resampling is likely to fail. Consider adding particles, or resampling more often.\n",
      "  ApproximationWarning\n"
     ]
    },
    {
     "name": "stdout",
     "output_type": "stream",
     "text": [
      "LogTotLikelihoods updated\n"
     ]
    },
    {
     "name": "stderr",
     "output_type": "stream",
     "text": [
      "C:\\Program Files\\Anaconda3\\lib\\site-packages\\qinfer\\smc.py:285: ApproximationWarning: Extremely small n_ess encountered (4.64695461244302). Resampling is likely to fail. Consider adding particles, or resampling more often.\n",
      "  ApproximationWarning\n"
     ]
    },
    {
     "name": "stdout",
     "output_type": "stream",
     "text": [
      "LogTotLikelihoods updated\n"
     ]
    },
    {
     "name": "stderr",
     "output_type": "stream",
     "text": [
      "C:\\Program Files\\Anaconda3\\lib\\site-packages\\qinfer\\smc.py:285: ApproximationWarning: Extremely small n_ess encountered (4.28678687532782). Resampling is likely to fail. Consider adding particles, or resampling more often.\n",
      "  ApproximationWarning\n"
     ]
    },
    {
     "name": "stdout",
     "output_type": "stream",
     "text": [
      "LogTotLikelihoods updated\n"
     ]
    },
    {
     "name": "stderr",
     "output_type": "stream",
     "text": [
      "C:\\Program Files\\Anaconda3\\lib\\site-packages\\qinfer\\smc.py:285: ApproximationWarning: Extremely small n_ess encountered (7.140573433215503). Resampling is likely to fail. Consider adding particles, or resampling more often.\n",
      "  ApproximationWarning\n"
     ]
    },
    {
     "name": "stdout",
     "output_type": "stream",
     "text": [
      "LogTotLikelihoods updated\n"
     ]
    },
    {
     "name": "stderr",
     "output_type": "stream",
     "text": [
      "C:\\Program Files\\Anaconda3\\lib\\site-packages\\qinfer\\smc.py:285: ApproximationWarning: Extremely small n_ess encountered (3.4166899183487). Resampling is likely to fail. Consider adding particles, or resampling more often.\n",
      "  ApproximationWarning\n"
     ]
    },
    {
     "name": "stdout",
     "output_type": "stream",
     "text": [
      "LogTotLikelihoods updated\n",
      "LogTotLikelihoods updated\n"
     ]
    },
    {
     "name": "stderr",
     "output_type": "stream",
     "text": [
      "C:\\Program Files\\Anaconda3\\lib\\site-packages\\qinfer\\smc.py:285: ApproximationWarning: Extremely small n_ess encountered (3.269472954711738). Resampling is likely to fail. Consider adding particles, or resampling more often.\n",
      "  ApproximationWarning\n"
     ]
    },
    {
     "name": "stdout",
     "output_type": "stream",
     "text": [
      "LogTotLikelihoods updated\n",
      "Total elapsed time for the learning process: 256.96882707405166\n",
      "LogTotLikelihoods updated\n",
      "LogTotLikelihoods updated\n",
      "LogTotLikelihoods updated\n",
      "LogTotLikelihoods updated\n"
     ]
    },
    {
     "name": "stderr",
     "output_type": "stream",
     "text": [
      "C:\\Program Files\\Anaconda3\\lib\\site-packages\\qinfer\\smc.py:285: ApproximationWarning: Extremely small n_ess encountered (2.546991653340925). Resampling is likely to fail. Consider adding particles, or resampling more often.\n",
      "  ApproximationWarning\n"
     ]
    },
    {
     "name": "stdout",
     "output_type": "stream",
     "text": [
      "LogTotLikelihoods updated\n",
      "LogTotLikelihoods updated\n"
     ]
    },
    {
     "name": "stderr",
     "output_type": "stream",
     "text": [
      "C:\\Program Files\\Anaconda3\\lib\\site-packages\\qinfer\\smc.py:285: ApproximationWarning: Extremely small n_ess encountered (3.9283083326104724). Resampling is likely to fail. Consider adding particles, or resampling more often.\n",
      "  ApproximationWarning\n"
     ]
    },
    {
     "name": "stdout",
     "output_type": "stream",
     "text": [
      "LogTotLikelihoods updated\n",
      "Total elapsed time for Bayes factor update: 219.62388723691402\n",
      "[[ 0.15111826]]\n",
      "Initialization Ready\n",
      "[[ 0.19501077]]\n",
      "Initialization Ready\n",
      "[[ 0.27566586]]\n",
      "Initialization Ready\n",
      "[[ 0.34906492  0.40989514]]\n",
      "Initialization Ready\n",
      "[[ 0.92088439  0.78402569]]\n",
      "Initialization Ready\n",
      "[[ 0.25873744  0.76953589]]\n",
      "Initialization Ready\n",
      "[[ 0.92747916  0.76202502  0.01115707]]\n",
      "Initialization Ready\n",
      "Initial time selected > 0.826843390975\n",
      "Final time selected > 0.368151577579\n",
      "Final Parameters mean and stdev:[ 0.09040295  0.57763762]\n",
      "Batch single time 0 elapsed time: 15.624258020005072\n",
      "\n",
      "\n",
      "Initial time selected > 0.521182033711\n",
      "Final time selected > 6.73455762106\n",
      "Final Parameters mean and stdev:[-0.01566645  0.12137723]\n",
      "Batch single time 1 elapsed time: 15.881204078345036\n",
      "\n",
      "\n",
      "Initial time selected > 0.841813374743\n",
      "Final time selected > 83.4779801218\n",
      "Final Parameters mean and stdev:[ 0.49790927  0.01803099]\n",
      "Batch single time 2 elapsed time: 23.78451576722\n",
      "\n",
      "\n",
      "Initial time selected > 0.66081393778\n",
      "Final time selected > 54.8614214035\n",
      "Final Parameters mean and stdev:[ 0.22578648  0.02028094]\n",
      "Final Parameters mean and stdev:[ 0.2370098   0.03700446]\n",
      "Batch single time 3 elapsed time: 15.366906086601375\n",
      "\n",
      "\n",
      "Initial time selected > 1.53380285032\n",
      "Final time selected > 406.004124795\n",
      "Final Parameters mean and stdev:[ 1.28130834  0.00432454]\n",
      "Final Parameters mean and stdev:[-0.28286313  0.00499427]\n",
      "Batch single time 4 elapsed time: 15.49515730803978\n",
      "\n",
      "\n",
      "Initial time selected > 1.46162121797\n",
      "Final time selected > 31.6493444289\n",
      "Final Parameters mean and stdev:[ 0.41928482  0.01027224]\n",
      "Final Parameters mean and stdev:[ 0.47607875  0.02874138]\n",
      "Batch single time 5 elapsed time: 15.543680896131264\n",
      "\n",
      "\n",
      "Initial time selected > 0.735342394948\n",
      "Final time selected > 7.85279707643\n",
      "Final Parameters mean and stdev:[ 0.02859363  0.02016244]\n",
      "Final Parameters mean and stdev:[ 0.38571046  0.02622013]\n",
      "Final Parameters mean and stdev:[ 0.4426846   0.01763042]\n",
      "Batch single time 6 elapsed time: 15.384252776071662\n",
      "\n",
      "\n"
     ]
    },
    {
     "name": "stderr",
     "output_type": "stream",
     "text": [
      "C:\\Program Files\\Anaconda3\\lib\\site-packages\\qinfer\\smc.py:285: ApproximationWarning: Extremely small n_ess encountered (1.0463738886443552). Resampling is likely to fail. Consider adding particles, or resampling more often.\n",
      "  ApproximationWarning\n"
     ]
    },
    {
     "name": "stdout",
     "output_type": "stream",
     "text": [
      "LogTotLikelihoods updated\n"
     ]
    },
    {
     "name": "stderr",
     "output_type": "stream",
     "text": [
      "C:\\Program Files\\Anaconda3\\lib\\site-packages\\qinfer\\smc.py:285: ApproximationWarning: Extremely small n_ess encountered (1.0019208801605242). Resampling is likely to fail. Consider adding particles, or resampling more often.\n",
      "  ApproximationWarning\n"
     ]
    },
    {
     "name": "stdout",
     "output_type": "stream",
     "text": [
      "LogTotLikelihoods updated\n"
     ]
    },
    {
     "name": "stderr",
     "output_type": "stream",
     "text": [
      "C:\\Program Files\\Anaconda3\\lib\\site-packages\\qinfer\\smc.py:285: ApproximationWarning: Extremely small n_ess encountered (1.000000000005845). Resampling is likely to fail. Consider adding particles, or resampling more often.\n",
      "  ApproximationWarning\n"
     ]
    },
    {
     "name": "stdout",
     "output_type": "stream",
     "text": [
      "LogTotLikelihoods updated\n"
     ]
    },
    {
     "name": "stderr",
     "output_type": "stream",
     "text": [
      "C:\\Program Files\\Anaconda3\\lib\\site-packages\\qinfer\\smc.py:285: ApproximationWarning: Extremely small n_ess encountered (1.6864484384282699). Resampling is likely to fail. Consider adding particles, or resampling more often.\n",
      "  ApproximationWarning\n"
     ]
    },
    {
     "name": "stdout",
     "output_type": "stream",
     "text": [
      "LogTotLikelihoods updated\n"
     ]
    },
    {
     "name": "stderr",
     "output_type": "stream",
     "text": [
      "C:\\Program Files\\Anaconda3\\lib\\site-packages\\qinfer\\smc.py:285: ApproximationWarning: Extremely small n_ess encountered (1.0644146880703378). Resampling is likely to fail. Consider adding particles, or resampling more often.\n",
      "  ApproximationWarning\n"
     ]
    },
    {
     "name": "stdout",
     "output_type": "stream",
     "text": [
      "LogTotLikelihoods updated\n",
      "LogTotLikelihoods updated\n"
     ]
    },
    {
     "name": "stderr",
     "output_type": "stream",
     "text": [
      "C:\\Program Files\\Anaconda3\\lib\\site-packages\\qinfer\\smc.py:285: ApproximationWarning: Extremely small n_ess encountered (3.4827921519397833). Resampling is likely to fail. Consider adding particles, or resampling more often.\n",
      "  ApproximationWarning\n"
     ]
    },
    {
     "name": "stdout",
     "output_type": "stream",
     "text": [
      "LogTotLikelihoods updated\n",
      "Total elapsed time for the learning process: 256.7593935577752\n",
      "LogTotLikelihoods updated\n",
      "LogTotLikelihoods updated\n",
      "LogTotLikelihoods updated\n",
      "LogTotLikelihoods updated\n",
      "LogTotLikelihoods updated\n",
      "LogTotLikelihoods updated\n"
     ]
    },
    {
     "name": "stderr",
     "output_type": "stream",
     "text": [
      "C:\\Program Files\\Anaconda3\\lib\\site-packages\\qinfer\\smc.py:285: ApproximationWarning: Extremely small n_ess encountered (5.1128662416878505). Resampling is likely to fail. Consider adding particles, or resampling more often.\n",
      "  ApproximationWarning\n"
     ]
    },
    {
     "name": "stdout",
     "output_type": "stream",
     "text": [
      "LogTotLikelihoods updated\n",
      "Total elapsed time for Bayes factor update: 220.3141813937109\n",
      "[[ 0.43826794]]\n",
      "Initialization Ready\n",
      "[[ 0.74246614]]\n",
      "Initialization Ready\n",
      "[[ 0.50049032]]\n",
      "Initialization Ready\n",
      "[[ 0.31169487  0.88491972]]\n",
      "Initialization Ready\n",
      "[[ 0.82133169  0.71623586]]\n",
      "Initialization Ready\n",
      "[[ 0.1455747   0.28451948]]\n",
      "Initialization Ready\n",
      "[[ 0.14926823  0.61151872  0.45861249]]\n",
      "Initialization Ready\n",
      "Initial time selected > 0.810876805037\n",
      "Final time selected > 0.321277508978\n",
      "Final Parameters mean and stdev:[-0.73933103  0.74676862]\n",
      "Batch single time 0 elapsed time: 15.809797545807669\n",
      "\n",
      "\n",
      "Initial time selected > 0.861657698156\n",
      "Final time selected > 132.5027612\n",
      "Final Parameters mean and stdev:[ 0.68019344  0.0026629 ]\n",
      "Batch single time 1 elapsed time: 15.871120764706575\n",
      "\n",
      "\n",
      "Initial time selected > 6.14930866378\n",
      "Final time selected > 79.7599403183\n",
      "Final Parameters mean and stdev:[ 0.10783163  0.08735408]\n",
      "Batch single time 2 elapsed time: 23.78989013564569\n",
      "\n",
      "\n",
      "Initial time selected > 0.71201916149\n",
      "Final time selected > 14.4965972697\n",
      "Final Parameters mean and stdev:[ 0.34876447  0.03411022]\n",
      "Final Parameters mean and stdev:[ 0.65030832  0.03366173]\n",
      "Batch single time 3 elapsed time: 15.546776934912486\n",
      "\n",
      "\n",
      "Initial time selected > 0.630236113273\n",
      "Final time selected > 1.37345819013\n",
      "Final Parameters mean and stdev:[ 0.67113873  0.88306624]\n",
      "Final Parameters mean and stdev:[-0.75329906  0.47052422]\n",
      "Batch single time 4 elapsed time: 15.515613609590218\n",
      "\n",
      "\n",
      "Initial time selected > 1.04072084214\n",
      "Final time selected > 1955.204852\n",
      "Final Parameters mean and stdev:[ 0.68010741  0.00233154]\n",
      "Final Parameters mean and stdev:[-0.0002068   0.00188799]\n",
      "Batch single time 5 elapsed time: 15.547037807300512\n",
      "\n",
      "\n",
      "Initial time selected > 0.351478784286\n",
      "Final time selected > 1.82545121688\n",
      "Final Parameters mean and stdev:[-0.14341338  0.10395766]\n",
      "Final Parameters mean and stdev:[ 0.743586    0.05229066]\n",
      "Final Parameters mean and stdev:[-0.01218653  0.0631485 ]\n",
      "Batch single time 6 elapsed time: 15.388710780585825\n",
      "\n",
      "\n"
     ]
    },
    {
     "name": "stderr",
     "output_type": "stream",
     "text": [
      "C:\\Program Files\\Anaconda3\\lib\\site-packages\\qinfer\\smc.py:285: ApproximationWarning: Extremely small n_ess encountered (1.0002679517261188). Resampling is likely to fail. Consider adding particles, or resampling more often.\n",
      "  ApproximationWarning\n"
     ]
    },
    {
     "name": "stdout",
     "output_type": "stream",
     "text": [
      "LogTotLikelihoods updated\n",
      "LogTotLikelihoods updated\n"
     ]
    },
    {
     "name": "stderr",
     "output_type": "stream",
     "text": [
      "C:\\Program Files\\Anaconda3\\lib\\site-packages\\qinfer\\smc.py:285: ApproximationWarning: Extremely small n_ess encountered (1.0113096027027706). Resampling is likely to fail. Consider adding particles, or resampling more often.\n",
      "  ApproximationWarning\n"
     ]
    },
    {
     "name": "stdout",
     "output_type": "stream",
     "text": [
      "LogTotLikelihoods updated\n"
     ]
    },
    {
     "name": "stderr",
     "output_type": "stream",
     "text": [
      "C:\\Program Files\\Anaconda3\\lib\\site-packages\\qinfer\\smc.py:285: ApproximationWarning: Extremely small n_ess encountered (2.0565822547395025). Resampling is likely to fail. Consider adding particles, or resampling more often.\n",
      "  ApproximationWarning\n"
     ]
    },
    {
     "name": "stdout",
     "output_type": "stream",
     "text": [
      "LogTotLikelihoods updated\n"
     ]
    },
    {
     "name": "stderr",
     "output_type": "stream",
     "text": [
      "C:\\Program Files\\Anaconda3\\lib\\site-packages\\qinfer\\smc.py:285: ApproximationWarning: Extremely small n_ess encountered (2.543734940055479). Resampling is likely to fail. Consider adding particles, or resampling more often.\n",
      "  ApproximationWarning\n"
     ]
    },
    {
     "name": "stdout",
     "output_type": "stream",
     "text": [
      "LogTotLikelihoods updated\n",
      "LogTotLikelihoods updated\n"
     ]
    },
    {
     "name": "stderr",
     "output_type": "stream",
     "text": [
      "C:\\Program Files\\Anaconda3\\lib\\site-packages\\qinfer\\smc.py:285: ApproximationWarning: Extremely small n_ess encountered (2.269602567477572). Resampling is likely to fail. Consider adding particles, or resampling more often.\n",
      "  ApproximationWarning\n"
     ]
    },
    {
     "name": "stdout",
     "output_type": "stream",
     "text": [
      "LogTotLikelihoods updated\n",
      "Total elapsed time for the learning process: 262.3929820693302\n",
      "LogTotLikelihoods updated\n",
      "LogTotLikelihoods updated\n"
     ]
    },
    {
     "name": "stderr",
     "output_type": "stream",
     "text": [
      "C:\\Program Files\\Anaconda3\\lib\\site-packages\\qinfer\\smc.py:285: ApproximationWarning: Extremely small n_ess encountered (1.3641096631582819). Resampling is likely to fail. Consider adding particles, or resampling more often.\n",
      "  ApproximationWarning\n"
     ]
    },
    {
     "name": "stdout",
     "output_type": "stream",
     "text": [
      "LogTotLikelihoods updated\n"
     ]
    },
    {
     "name": "stderr",
     "output_type": "stream",
     "text": [
      "C:\\Program Files\\Anaconda3\\lib\\site-packages\\qinfer\\smc.py:285: ApproximationWarning: Extremely small n_ess encountered (3.6435364197195628). Resampling is likely to fail. Consider adding particles, or resampling more often.\n",
      "  ApproximationWarning\n"
     ]
    },
    {
     "name": "stdout",
     "output_type": "stream",
     "text": [
      "LogTotLikelihoods updated\n"
     ]
    },
    {
     "name": "stderr",
     "output_type": "stream",
     "text": [
      "C:\\Program Files\\Anaconda3\\lib\\site-packages\\qinfer\\smc.py:285: ApproximationWarning: Extremely small n_ess encountered (1.8980926976959396). Resampling is likely to fail. Consider adding particles, or resampling more often.\n",
      "  ApproximationWarning\n"
     ]
    },
    {
     "name": "stdout",
     "output_type": "stream",
     "text": [
      "LogTotLikelihoods updated\n",
      "LogTotLikelihoods updated\n"
     ]
    },
    {
     "name": "stderr",
     "output_type": "stream",
     "text": [
      "C:\\Program Files\\Anaconda3\\lib\\site-packages\\qinfer\\smc.py:285: ApproximationWarning: Extremely small n_ess encountered (1.3167775193149458). Resampling is likely to fail. Consider adding particles, or resampling more often.\n",
      "  ApproximationWarning\n"
     ]
    },
    {
     "name": "stdout",
     "output_type": "stream",
     "text": [
      "LogTotLikelihoods updated\n",
      "Total elapsed time for Bayes factor update: 220.71086864545214\n",
      "[[ 0.99214027]]\n",
      "Initialization Ready\n",
      "[[ 0.80193237]]\n",
      "Initialization Ready\n",
      "[[ 0.12122516]]\n",
      "Initialization Ready\n",
      "[[ 0.97122735  0.55321211]]\n",
      "Initialization Ready\n",
      "[[ 0.99764444  0.7790899 ]]\n",
      "Initialization Ready\n",
      "[[ 0.60597148  0.55221584]]\n",
      "Initialization Ready\n",
      "[[ 0.18903753  0.79259459  0.25195943]]\n",
      "Initialization Ready\n",
      "Initial time selected > 0.982927762197\n",
      "Final time selected > 201.125911166\n",
      "Final Parameters mean and stdev:[ 0.8143318   0.13222567]\n",
      "Batch single time 0 elapsed time: 15.646229566373222\n",
      "\n",
      "\n",
      "Initial time selected > 0.606400269199\n",
      "Final time selected > 43.7074133228\n",
      "Final Parameters mean and stdev:[ 0.16854904  0.02033776]\n",
      "Batch single time 1 elapsed time: 16.02816428604274\n",
      "\n",
      "\n",
      "Initial time selected > 1.33502090375\n",
      "Final time selected > 1501.00774764\n",
      "Exiting learning for Reaching Cov. Norm. Thrshold of 8.58652705715e-07\n",
      " at Iteration Number 94\n",
      "Final Parameters mean and stdev:[ 0.87775004  0.00145547]\n",
      "Batch single time 2 elapsed time: 23.0117932195717\n",
      "\n",
      "\n",
      "Initial time selected > 1.01830399267\n",
      "Final time selected > 41.2965769158\n",
      "Final Parameters mean and stdev:[ 0.48353088  0.01620047]\n",
      "Final Parameters mean and stdev:[ 0.9568518   0.01334523]\n",
      "Batch single time 3 elapsed time: 15.622356763509742\n",
      "\n",
      "\n",
      "Initial time selected > 0.457547375618\n",
      "Final time selected > 0.417531622566\n",
      "Final Parameters mean and stdev:[ 0.32519538  0.07791658]\n",
      "Final Parameters mean and stdev:[ 0.57503792  0.3336083 ]\n",
      "Batch single time 4 elapsed time: 15.476983639862738\n",
      "\n",
      "\n",
      "Initial time selected > 1.1807939376\n",
      "Final time selected > 4.03633395473\n",
      "Final Parameters mean and stdev:[ 1.29768814  0.09755734]\n",
      "Final Parameters mean and stdev:[ 0.18861308  0.01955466]\n",
      "Batch single time 5 elapsed time: 15.583460624489817\n",
      "\n",
      "\n",
      "Initial time selected > 0.31246751812\n",
      "Final time selected > 1.88931816654\n",
      "Final Parameters mean and stdev:[ 0.50358985  0.11051453]\n",
      "Final Parameters mean and stdev:[ 1.16104183  0.36867149]\n",
      "Final Parameters mean and stdev:[-0.10176826  0.11091663]\n",
      "Batch single time 6 elapsed time: 15.4098666041682\n",
      "\n",
      "\n"
     ]
    },
    {
     "name": "stderr",
     "output_type": "stream",
     "text": [
      "C:\\Program Files\\Anaconda3\\lib\\site-packages\\qinfer\\smc.py:285: ApproximationWarning: Extremely small n_ess encountered (3.4817660748522132). Resampling is likely to fail. Consider adding particles, or resampling more often.\n",
      "  ApproximationWarning\n"
     ]
    },
    {
     "name": "stdout",
     "output_type": "stream",
     "text": [
      "LogTotLikelihoods updated\n"
     ]
    },
    {
     "name": "stderr",
     "output_type": "stream",
     "text": [
      "C:\\Program Files\\Anaconda3\\lib\\site-packages\\qinfer\\smc.py:285: ApproximationWarning: Extremely small n_ess encountered (2.0505029515096247). Resampling is likely to fail. Consider adding particles, or resampling more often.\n",
      "  ApproximationWarning\n"
     ]
    },
    {
     "name": "stdout",
     "output_type": "stream",
     "text": [
      "LogTotLikelihoods updated\n"
     ]
    },
    {
     "name": "stderr",
     "output_type": "stream",
     "text": [
      "C:\\Program Files\\Anaconda3\\lib\\site-packages\\qinfer\\smc.py:285: ApproximationWarning: Extremely small n_ess encountered (1.4640672930696825). Resampling is likely to fail. Consider adding particles, or resampling more often.\n",
      "  ApproximationWarning\n"
     ]
    },
    {
     "name": "stdout",
     "output_type": "stream",
     "text": [
      "LogTotLikelihoods updated\n"
     ]
    },
    {
     "name": "stderr",
     "output_type": "stream",
     "text": [
      "C:\\Program Files\\Anaconda3\\lib\\site-packages\\qinfer\\smc.py:285: ApproximationWarning: Extremely small n_ess encountered (1.0794946585184622). Resampling is likely to fail. Consider adding particles, or resampling more often.\n",
      "  ApproximationWarning\n"
     ]
    },
    {
     "name": "stdout",
     "output_type": "stream",
     "text": [
      "LogTotLikelihoods updated\n"
     ]
    },
    {
     "name": "stderr",
     "output_type": "stream",
     "text": [
      "C:\\Program Files\\Anaconda3\\lib\\site-packages\\qinfer\\smc.py:285: ApproximationWarning: Extremely small n_ess encountered (4.26902588776027). Resampling is likely to fail. Consider adding particles, or resampling more often.\n",
      "  ApproximationWarning\n"
     ]
    },
    {
     "name": "stdout",
     "output_type": "stream",
     "text": [
      "LogTotLikelihoods updated\n"
     ]
    },
    {
     "name": "stderr",
     "output_type": "stream",
     "text": [
      "C:\\Program Files\\Anaconda3\\lib\\site-packages\\qinfer\\smc.py:285: ApproximationWarning: Extremely small n_ess encountered (4.674637388825085). Resampling is likely to fail. Consider adding particles, or resampling more often.\n",
      "  ApproximationWarning\n"
     ]
    },
    {
     "name": "stdout",
     "output_type": "stream",
     "text": [
      "LogTotLikelihoods updated\n"
     ]
    },
    {
     "name": "stderr",
     "output_type": "stream",
     "text": [
      "C:\\Program Files\\Anaconda3\\lib\\site-packages\\qinfer\\smc.py:285: ApproximationWarning: Extremely small n_ess encountered (1.396176943893611). Resampling is likely to fail. Consider adding particles, or resampling more often.\n",
      "  ApproximationWarning\n"
     ]
    },
    {
     "name": "stdout",
     "output_type": "stream",
     "text": [
      "LogTotLikelihoods updated\n",
      "Total elapsed time for the learning process: 254.5457298037436\n"
     ]
    },
    {
     "name": "stderr",
     "output_type": "stream",
     "text": [
      "C:\\Program Files\\Anaconda3\\lib\\site-packages\\qinfer\\smc.py:285: ApproximationWarning: Extremely small n_ess encountered (1.003708370722721). Resampling is likely to fail. Consider adding particles, or resampling more often.\n",
      "  ApproximationWarning\n"
     ]
    },
    {
     "name": "stdout",
     "output_type": "stream",
     "text": [
      "LogTotLikelihoods updated\n",
      "LogTotLikelihoods updated\n",
      "LogTotLikelihoods updated\n"
     ]
    },
    {
     "name": "stderr",
     "output_type": "stream",
     "text": [
      "C:\\Program Files\\Anaconda3\\lib\\site-packages\\qinfer\\smc.py:285: ApproximationWarning: Extremely small n_ess encountered (4.39819620045251). Resampling is likely to fail. Consider adding particles, or resampling more often.\n",
      "  ApproximationWarning\n"
     ]
    },
    {
     "name": "stdout",
     "output_type": "stream",
     "text": [
      "LogTotLikelihoods updated\n"
     ]
    },
    {
     "name": "stderr",
     "output_type": "stream",
     "text": [
      "C:\\Program Files\\Anaconda3\\lib\\site-packages\\qinfer\\smc.py:285: ApproximationWarning: Extremely small n_ess encountered (1.1751531886409472). Resampling is likely to fail. Consider adding particles, or resampling more often.\n",
      "  ApproximationWarning\n"
     ]
    },
    {
     "name": "stdout",
     "output_type": "stream",
     "text": [
      "LogTotLikelihoods updated\n"
     ]
    },
    {
     "name": "stderr",
     "output_type": "stream",
     "text": [
      "C:\\Program Files\\Anaconda3\\lib\\site-packages\\qinfer\\smc.py:285: ApproximationWarning: Extremely small n_ess encountered (4.7236210803617995). Resampling is likely to fail. Consider adding particles, or resampling more often.\n",
      "  ApproximationWarning\n"
     ]
    },
    {
     "name": "stdout",
     "output_type": "stream",
     "text": [
      "LogTotLikelihoods updated\n"
     ]
    },
    {
     "name": "stderr",
     "output_type": "stream",
     "text": [
      "C:\\Program Files\\Anaconda3\\lib\\site-packages\\qinfer\\smc.py:285: ApproximationWarning: Extremely small n_ess encountered (1.016648307421414). Resampling is likely to fail. Consider adding particles, or resampling more often.\n",
      "  ApproximationWarning\n"
     ]
    },
    {
     "name": "stdout",
     "output_type": "stream",
     "text": [
      "LogTotLikelihoods updated\n",
      "Total elapsed time for Bayes factor update: 217.92865736133535\n",
      "[[ 0.28781244]]\n",
      "Initialization Ready\n",
      "[[ 0.80091884]]\n",
      "Initialization Ready\n",
      "[[ 0.58606379]]\n",
      "Initialization Ready\n",
      "[[ 0.87120667  0.24392687]]\n",
      "Initialization Ready\n",
      "[[ 0.67697721  0.59255632]]\n",
      "Initialization Ready\n",
      "[[ 0.73633584  0.9693372 ]]\n",
      "Initialization Ready\n",
      "[[ 0.77536015  0.49486562  0.49718792]]\n",
      "Initialization Ready\n",
      "Initial time selected > 0.478360635274\n",
      "Final time selected > 0.583249230972\n",
      "Final Parameters mean and stdev:[-0.26999788  0.98979812]\n",
      "Batch single time 0 elapsed time: 16.140278166771168\n",
      "\n",
      "\n",
      "Initial time selected > 0.426352836471\n",
      "Final time selected > 14.9843601811\n",
      "Final Parameters mean and stdev:[ 0.43058493  0.09191094]\n",
      "Batch single time 1 elapsed time: 15.856839987900457\n",
      "\n",
      "\n",
      "Initial time selected > 1.21702674204\n",
      "Final time selected > 7.2852475529\n",
      "Final Parameters mean and stdev:[-0.4898904   0.05322975]\n",
      "Batch single time 2 elapsed time: 24.68911096147349\n",
      "\n",
      "\n",
      "Initial time selected > 1.25677455731\n",
      "Final time selected > 6.94213113187\n",
      "Final Parameters mean and stdev:[ 0.25840124  0.04356425]\n",
      "Final Parameters mean and stdev:[ 0.30236956  0.04797493]\n",
      "Batch single time 3 elapsed time: 15.957298368492047\n",
      "\n",
      "\n",
      "Initial time selected > 1.15803362766\n",
      "Final time selected > 1.39135499809\n",
      "Final Parameters mean and stdev:[ 0.19769027  0.39770523]\n",
      "Final Parameters mean and stdev:[ 0.26393053  0.24115695]\n",
      "Batch single time 4 elapsed time: 15.935976023574767\n",
      "\n",
      "\n",
      "Initial time selected > 0.885618969761\n",
      "Final time selected > 29.0918732926\n",
      "Final Parameters mean and stdev:[ 0.70915367  0.01224279]\n",
      "Final Parameters mean and stdev:[ 0.35326944  0.01529608]\n",
      "Batch single time 5 elapsed time: 15.724857761648309\n",
      "\n",
      "\n",
      "Initial time selected > 0.413656719346\n",
      "Final time selected > 49.9204709362\n",
      "Final Parameters mean and stdev:[-0.01132709  0.01981477]\n",
      "Final Parameters mean and stdev:[ 0.68256937  0.01900986]\n",
      "Final Parameters mean and stdev:[ 0.31373261  0.01551221]\n",
      "Batch single time 6 elapsed time: 15.695327537192497\n",
      "\n",
      "\n"
     ]
    },
    {
     "name": "stderr",
     "output_type": "stream",
     "text": [
      "C:\\Program Files\\Anaconda3\\lib\\site-packages\\qinfer\\smc.py:285: ApproximationWarning: Extremely small n_ess encountered (3.719872200230803). Resampling is likely to fail. Consider adding particles, or resampling more often.\n",
      "  ApproximationWarning\n"
     ]
    },
    {
     "name": "stdout",
     "output_type": "stream",
     "text": [
      "LogTotLikelihoods updated\n"
     ]
    },
    {
     "name": "stderr",
     "output_type": "stream",
     "text": [
      "C:\\Program Files\\Anaconda3\\lib\\site-packages\\qinfer\\smc.py:285: ApproximationWarning: Extremely small n_ess encountered (1.4187974137160604). Resampling is likely to fail. Consider adding particles, or resampling more often.\n",
      "  ApproximationWarning\n"
     ]
    },
    {
     "name": "stdout",
     "output_type": "stream",
     "text": [
      "LogTotLikelihoods updated\n"
     ]
    },
    {
     "name": "stderr",
     "output_type": "stream",
     "text": [
      "C:\\Program Files\\Anaconda3\\lib\\site-packages\\qinfer\\smc.py:285: ApproximationWarning: Extremely small n_ess encountered (2.228195197601343). Resampling is likely to fail. Consider adding particles, or resampling more often.\n",
      "  ApproximationWarning\n"
     ]
    },
    {
     "name": "stdout",
     "output_type": "stream",
     "text": [
      "LogTotLikelihoods updated\n"
     ]
    },
    {
     "name": "stderr",
     "output_type": "stream",
     "text": [
      "C:\\Program Files\\Anaconda3\\lib\\site-packages\\qinfer\\smc.py:285: ApproximationWarning: Extremely small n_ess encountered (1.0033236977563984). Resampling is likely to fail. Consider adding particles, or resampling more often.\n",
      "  ApproximationWarning\n"
     ]
    },
    {
     "name": "stdout",
     "output_type": "stream",
     "text": [
      "LogTotLikelihoods updated\n"
     ]
    },
    {
     "name": "stderr",
     "output_type": "stream",
     "text": [
      "C:\\Program Files\\Anaconda3\\lib\\site-packages\\qinfer\\smc.py:285: ApproximationWarning: Extremely small n_ess encountered (1.0000000046117652). Resampling is likely to fail. Consider adding particles, or resampling more often.\n",
      "  ApproximationWarning\n"
     ]
    },
    {
     "name": "stdout",
     "output_type": "stream",
     "text": [
      "LogTotLikelihoods updated\n",
      "LogTotLikelihoods updated\n"
     ]
    },
    {
     "name": "stderr",
     "output_type": "stream",
     "text": [
      "C:\\Program Files\\Anaconda3\\lib\\site-packages\\qinfer\\smc.py:285: ApproximationWarning: Extremely small n_ess encountered (4.1807343783879904). Resampling is likely to fail. Consider adding particles, or resampling more often.\n",
      "  ApproximationWarning\n"
     ]
    },
    {
     "name": "stdout",
     "output_type": "stream",
     "text": [
      "LogTotLikelihoods updated\n",
      "Total elapsed time for the learning process: 264.2135339799497\n"
     ]
    },
    {
     "name": "stderr",
     "output_type": "stream",
     "text": [
      "C:\\Program Files\\Anaconda3\\lib\\site-packages\\qinfer\\smc.py:285: ApproximationWarning: Extremely small n_ess encountered (6.026718838934047). Resampling is likely to fail. Consider adding particles, or resampling more often.\n",
      "  ApproximationWarning\n"
     ]
    },
    {
     "name": "stdout",
     "output_type": "stream",
     "text": [
      "LogTotLikelihoods updated\n",
      "LogTotLikelihoods updated\n"
     ]
    },
    {
     "name": "stderr",
     "output_type": "stream",
     "text": [
      "C:\\Program Files\\Anaconda3\\lib\\site-packages\\qinfer\\smc.py:285: ApproximationWarning: Extremely small n_ess encountered (2.1451678198902973). Resampling is likely to fail. Consider adding particles, or resampling more often.\n",
      "  ApproximationWarning\n"
     ]
    },
    {
     "name": "stdout",
     "output_type": "stream",
     "text": [
      "LogTotLikelihoods updated\n",
      "LogTotLikelihoods updated\n",
      "LogTotLikelihoods updated\n",
      "LogTotLikelihoods updated\n",
      "LogTotLikelihoods updated\n",
      "Total elapsed time for Bayes factor update: 221.70623584320856\n",
      "[[ 0.25497416]]\n",
      "Initialization Ready\n",
      "[[ 0.72217245]]\n",
      "Initialization Ready\n",
      "[[ 0.69121776]]\n",
      "Initialization Ready\n",
      "[[ 0.57473471  0.09991319]]\n",
      "Initialization Ready\n",
      "[[ 0.35728521  0.26352508]]\n",
      "Initialization Ready\n",
      "[[ 0.79215861  0.05253173]]\n",
      "Initialization Ready\n",
      "[[ 0.26555412  0.81594704  0.8951159 ]]\n",
      "Initialization Ready\n",
      "Initial time selected > 0.606812306058\n",
      "Final time selected > 6.76575612503\n",
      "Final Parameters mean and stdev:[ 0.39411283  0.02633293]\n",
      "Batch single time 0 elapsed time: 15.583723483214271\n",
      "\n",
      "\n",
      "Initial time selected > 12.1778951393\n",
      "Final time selected > 203.083547003\n",
      "Exiting learning for Reaching Cov. Norm. Thrshold of 5.91146052442e-07\n",
      " at Iteration Number 88\n",
      "Final Parameters mean and stdev:[ 0.90589228  0.00159994]\n",
      "Batch single time 1 elapsed time: 14.046779583361058\n",
      "\n",
      "\n",
      "Initial time selected > 1.84443865467\n",
      "Final time selected > 23.7610363603\n",
      "Final Parameters mean and stdev:[ 1.08525449  0.02006065]\n",
      "Batch single time 2 elapsed time: 23.62828829974751\n",
      "\n",
      "\n",
      "Initial time selected > 0.484052710356\n",
      "Final time selected > 16.6237530281\n",
      "Final Parameters mean and stdev:[ 0.00024927  0.02445244]\n",
      "Final Parameters mean and stdev:[ 0.88227412  0.04924549]\n",
      "Batch single time 3 elapsed time: 15.689820415180293\n",
      "\n",
      "\n",
      "Initial time selected > 0.803481025939\n",
      "Final time selected > 6.29224817769\n",
      "Final Parameters mean and stdev:[-1.06475665  0.10984646]\n",
      "Final Parameters mean and stdev:[ 1.29607679  0.17388705]\n",
      "Batch single time 4 elapsed time: 15.552174146228936\n",
      "\n",
      "\n",
      "Initial time selected > 0.794063293131\n",
      "Final time selected > 20.3873547255\n",
      "Final Parameters mean and stdev:[ 0.80917597  0.03674851]\n",
      "Final Parameters mean and stdev:[ 0.05111671  0.03283746]\n",
      "Batch single time 5 elapsed time: 15.655350830318639\n",
      "\n",
      "\n",
      "Initial time selected > 0.527131484634\n",
      "Final time selected > 48.4951706107\n",
      "Final Parameters mean and stdev:[ 0.37503466  0.02107731]\n",
      "Final Parameters mean and stdev:[ 0.96936584  0.01725861]\n",
      "Final Parameters mean and stdev:[ 0.18474719  0.01718519]\n",
      "Batch single time 6 elapsed time: 15.474593082115462\n",
      "\n",
      "\n"
     ]
    },
    {
     "name": "stderr",
     "output_type": "stream",
     "text": [
      "C:\\Program Files\\Anaconda3\\lib\\site-packages\\qinfer\\smc.py:285: ApproximationWarning: Extremely small n_ess encountered (2.801396614988981). Resampling is likely to fail. Consider adding particles, or resampling more often.\n",
      "  ApproximationWarning\n"
     ]
    },
    {
     "name": "stdout",
     "output_type": "stream",
     "text": [
      "LogTotLikelihoods updated\n",
      "LogTotLikelihoods updated\n"
     ]
    },
    {
     "name": "stderr",
     "output_type": "stream",
     "text": [
      "C:\\Program Files\\Anaconda3\\lib\\site-packages\\qinfer\\smc.py:285: ApproximationWarning: Extremely small n_ess encountered (2.616363534358322). Resampling is likely to fail. Consider adding particles, or resampling more often.\n",
      "  ApproximationWarning\n"
     ]
    },
    {
     "name": "stdout",
     "output_type": "stream",
     "text": [
      "LogTotLikelihoods updated\n"
     ]
    },
    {
     "name": "stderr",
     "output_type": "stream",
     "text": [
      "C:\\Program Files\\Anaconda3\\lib\\site-packages\\qinfer\\smc.py:285: ApproximationWarning: Extremely small n_ess encountered (1.843815008538914). Resampling is likely to fail. Consider adding particles, or resampling more often.\n",
      "  ApproximationWarning\n"
     ]
    },
    {
     "name": "stdout",
     "output_type": "stream",
     "text": [
      "LogTotLikelihoods updated\n"
     ]
    },
    {
     "name": "stderr",
     "output_type": "stream",
     "text": [
      "C:\\Program Files\\Anaconda3\\lib\\site-packages\\qinfer\\smc.py:285: ApproximationWarning: Extremely small n_ess encountered (1.009243178525117). Resampling is likely to fail. Consider adding particles, or resampling more often.\n",
      "  ApproximationWarning\n"
     ]
    },
    {
     "name": "stdout",
     "output_type": "stream",
     "text": [
      "LogTotLikelihoods updated\n"
     ]
    },
    {
     "name": "stderr",
     "output_type": "stream",
     "text": [
      "C:\\Program Files\\Anaconda3\\lib\\site-packages\\qinfer\\smc.py:285: ApproximationWarning: Extremely small n_ess encountered (3.1343484540533666). Resampling is likely to fail. Consider adding particles, or resampling more often.\n",
      "  ApproximationWarning\n"
     ]
    },
    {
     "name": "stdout",
     "output_type": "stream",
     "text": [
      "LogTotLikelihoods updated\n"
     ]
    },
    {
     "name": "stderr",
     "output_type": "stream",
     "text": [
      "C:\\Program Files\\Anaconda3\\lib\\site-packages\\qinfer\\smc.py:285: ApproximationWarning: Extremely small n_ess encountered (1.5691287507237388). Resampling is likely to fail. Consider adding particles, or resampling more often.\n",
      "  ApproximationWarning\n"
     ]
    },
    {
     "name": "stdout",
     "output_type": "stream",
     "text": [
      "LogTotLikelihoods updated\n",
      "Total elapsed time for the learning process: 253.98561096776393\n"
     ]
    },
    {
     "name": "stderr",
     "output_type": "stream",
     "text": [
      "C:\\Program Files\\Anaconda3\\lib\\site-packages\\qinfer\\smc.py:285: ApproximationWarning: Extremely small n_ess encountered (5.6118642216936045). Resampling is likely to fail. Consider adding particles, or resampling more often.\n",
      "  ApproximationWarning\n"
     ]
    },
    {
     "name": "stdout",
     "output_type": "stream",
     "text": [
      "LogTotLikelihoods updated\n",
      "LogTotLikelihoods updated\n",
      "LogTotLikelihoods updated\n"
     ]
    },
    {
     "name": "stderr",
     "output_type": "stream",
     "text": [
      "C:\\Program Files\\Anaconda3\\lib\\site-packages\\qinfer\\smc.py:285: ApproximationWarning: Extremely small n_ess encountered (2.6731854064778853). Resampling is likely to fail. Consider adding particles, or resampling more often.\n",
      "  ApproximationWarning\n"
     ]
    },
    {
     "name": "stdout",
     "output_type": "stream",
     "text": [
      "LogTotLikelihoods updated\n"
     ]
    },
    {
     "name": "stderr",
     "output_type": "stream",
     "text": [
      "C:\\Program Files\\Anaconda3\\lib\\site-packages\\qinfer\\smc.py:285: ApproximationWarning: Extremely small n_ess encountered (6.799767369356479). Resampling is likely to fail. Consider adding particles, or resampling more often.\n",
      "  ApproximationWarning\n"
     ]
    },
    {
     "name": "stdout",
     "output_type": "stream",
     "text": [
      "LogTotLikelihoods updated\n"
     ]
    },
    {
     "name": "stderr",
     "output_type": "stream",
     "text": [
      "C:\\Program Files\\Anaconda3\\lib\\site-packages\\qinfer\\smc.py:285: ApproximationWarning: Extremely small n_ess encountered (1.8985844885087069). Resampling is likely to fail. Consider adding particles, or resampling more often.\n",
      "  ApproximationWarning\n"
     ]
    },
    {
     "name": "stdout",
     "output_type": "stream",
     "text": [
      "LogTotLikelihoods updated\n",
      "LogTotLikelihoods updated\n",
      "Total elapsed time for Bayes factor update: 212.45468832040206\n",
      "[[ 0.07596266]]\n",
      "Initialization Ready\n",
      "[[ 0.26195693]]\n",
      "Initialization Ready\n",
      "[[ 0.34055182]]\n",
      "Initialization Ready\n",
      "[[ 0.12347263  0.38196154]]\n",
      "Initialization Ready\n",
      "[[ 0.92925189  0.28711493]]\n",
      "Initialization Ready\n",
      "[[ 0.69191603  0.01201397]]\n",
      "Initialization Ready\n",
      "[[ 0.11869546  0.68134756  0.8829592 ]]\n",
      "Initialization Ready\n",
      "Initial time selected > 2.27840138382\n",
      "Final time selected > 10.0263177715\n",
      "Final Parameters mean and stdev:[-0.06973168  0.07070126]\n",
      "Batch single time 0 elapsed time: 15.899805471308355\n",
      "\n",
      "\n",
      "Initial time selected > 0.650371487847\n",
      "Final time selected > 10.7776882984\n",
      "Final Parameters mean and stdev:[ 2.26220047  0.03804458]\n",
      "Batch single time 1 elapsed time: 15.819599461567122\n",
      "\n",
      "\n",
      "Initial time selected > 0.589880450636\n",
      "Final time selected > 1460.42222862\n",
      "Final Parameters mean and stdev:[ 0.25764051  0.0035933 ]\n",
      "Batch single time 2 elapsed time: 24.024925893041654\n",
      "\n",
      "\n",
      "Initial time selected > 0.55677783824\n",
      "Final time selected > 2.57958649945\n",
      "Final Parameters mean and stdev:[ 1.06425515  0.14814624]\n",
      "Final Parameters mean and stdev:[ 0.02928125  0.05265152]\n",
      "Batch single time 3 elapsed time: 15.473545950946573\n",
      "\n",
      "\n",
      "Initial time selected > 0.92192760579\n",
      "Final time selected > 7.63212044848\n",
      "Final Parameters mean and stdev:[ 0.88639231  0.07538463]\n",
      "Final Parameters mean and stdev:[ 0.41139476  0.03515599]\n",
      "Batch single time 4 elapsed time: 15.514968380812206\n",
      "\n",
      "\n",
      "Initial time selected > 0.873585765241\n",
      "Final time selected > 1053.64699415\n",
      "Exiting learning for Reaching Cov. Norm. Thrshold of 6.8780603087e-07\n",
      " at Iteration Number 93\n",
      "Final Parameters mean and stdev:[ 0.33813741  0.00060415]\n",
      "Final Parameters mean and stdev:[ 0.57989675  0.00127993]\n",
      "Batch single time 5 elapsed time: 14.656784966333362\n",
      "\n",
      "\n",
      "Initial time selected > 0.509508473974\n",
      "Final time selected > 5.86695797615\n",
      "Final Parameters mean and stdev:[ 0.37016436  0.12628546]\n",
      "Final Parameters mean and stdev:[ 0.47333335  0.15140123]\n",
      "Final Parameters mean and stdev:[ 0.3506637   0.14191135]\n",
      "Batch single time 6 elapsed time: 15.4289890797736\n",
      "\n",
      "\n"
     ]
    },
    {
     "name": "stderr",
     "output_type": "stream",
     "text": [
      "C:\\Program Files\\Anaconda3\\lib\\site-packages\\qinfer\\smc.py:285: ApproximationWarning: Extremely small n_ess encountered (1.5329001515088927). Resampling is likely to fail. Consider adding particles, or resampling more often.\n",
      "  ApproximationWarning\n"
     ]
    },
    {
     "name": "stdout",
     "output_type": "stream",
     "text": [
      "LogTotLikelihoods updated\n"
     ]
    },
    {
     "name": "stderr",
     "output_type": "stream",
     "text": [
      "C:\\Program Files\\Anaconda3\\lib\\site-packages\\qinfer\\smc.py:285: ApproximationWarning: Extremely small n_ess encountered (1.0081718780570579). Resampling is likely to fail. Consider adding particles, or resampling more often.\n",
      "  ApproximationWarning\n"
     ]
    },
    {
     "name": "stdout",
     "output_type": "stream",
     "text": [
      "LogTotLikelihoods updated\n"
     ]
    },
    {
     "name": "stderr",
     "output_type": "stream",
     "text": [
      "C:\\Program Files\\Anaconda3\\lib\\site-packages\\qinfer\\smc.py:285: ApproximationWarning: Extremely small n_ess encountered (1.398244296761412). Resampling is likely to fail. Consider adding particles, or resampling more often.\n",
      "  ApproximationWarning\n"
     ]
    },
    {
     "name": "stdout",
     "output_type": "stream",
     "text": [
      "LogTotLikelihoods updated\n"
     ]
    },
    {
     "name": "stderr",
     "output_type": "stream",
     "text": [
      "C:\\Program Files\\Anaconda3\\lib\\site-packages\\qinfer\\smc.py:285: ApproximationWarning: Extremely small n_ess encountered (1.3100661306386996). Resampling is likely to fail. Consider adding particles, or resampling more often.\n",
      "  ApproximationWarning\n"
     ]
    },
    {
     "name": "stdout",
     "output_type": "stream",
     "text": [
      "LogTotLikelihoods updated\n"
     ]
    },
    {
     "name": "stderr",
     "output_type": "stream",
     "text": [
      "C:\\Program Files\\Anaconda3\\lib\\site-packages\\qinfer\\smc.py:285: ApproximationWarning: Extremely small n_ess encountered (1.1003185466707939). Resampling is likely to fail. Consider adding particles, or resampling more often.\n",
      "  ApproximationWarning\n"
     ]
    },
    {
     "name": "stdout",
     "output_type": "stream",
     "text": [
      "LogTotLikelihoods updated\n"
     ]
    },
    {
     "name": "stderr",
     "output_type": "stream",
     "text": [
      "C:\\Program Files\\Anaconda3\\lib\\site-packages\\qinfer\\smc.py:285: ApproximationWarning: Extremely small n_ess encountered (1.0704942314079486). Resampling is likely to fail. Consider adding particles, or resampling more often.\n",
      "  ApproximationWarning\n"
     ]
    },
    {
     "name": "stdout",
     "output_type": "stream",
     "text": [
      "LogTotLikelihoods updated\n"
     ]
    },
    {
     "name": "stderr",
     "output_type": "stream",
     "text": [
      "C:\\Program Files\\Anaconda3\\lib\\site-packages\\qinfer\\smc.py:285: ApproximationWarning: Extremely small n_ess encountered (5.432330459648986). Resampling is likely to fail. Consider adding particles, or resampling more often.\n",
      "  ApproximationWarning\n"
     ]
    },
    {
     "name": "stdout",
     "output_type": "stream",
     "text": [
      "LogTotLikelihoods updated\n",
      "Total elapsed time for the learning process: 256.335907958397\n"
     ]
    },
    {
     "name": "stderr",
     "output_type": "stream",
     "text": [
      "C:\\Program Files\\Anaconda3\\lib\\site-packages\\qinfer\\smc.py:285: ApproximationWarning: Extremely small n_ess encountered (6.790071162117201). Resampling is likely to fail. Consider adding particles, or resampling more often.\n",
      "  ApproximationWarning\n"
     ]
    },
    {
     "name": "stdout",
     "output_type": "stream",
     "text": [
      "LogTotLikelihoods updated\n",
      "LogTotLikelihoods updated\n",
      "LogTotLikelihoods updated\n",
      "LogTotLikelihoods updated\n"
     ]
    },
    {
     "name": "stderr",
     "output_type": "stream",
     "text": [
      "C:\\Program Files\\Anaconda3\\lib\\site-packages\\qinfer\\smc.py:285: ApproximationWarning: Extremely small n_ess encountered (1.1476003614842474). Resampling is likely to fail. Consider adding particles, or resampling more often.\n",
      "  ApproximationWarning\n"
     ]
    },
    {
     "name": "stdout",
     "output_type": "stream",
     "text": [
      "LogTotLikelihoods updated\n",
      "LogTotLikelihoods updated\n"
     ]
    },
    {
     "name": "stderr",
     "output_type": "stream",
     "text": [
      "C:\\Program Files\\Anaconda3\\lib\\site-packages\\qinfer\\smc.py:285: ApproximationWarning: Extremely small n_ess encountered (3.033800914573809). Resampling is likely to fail. Consider adding particles, or resampling more often.\n",
      "  ApproximationWarning\n"
     ]
    },
    {
     "name": "stdout",
     "output_type": "stream",
     "text": [
      "LogTotLikelihoods updated\n",
      "Total elapsed time for Bayes factor update: 214.21038530321675\n",
      "[[ 0.29519356]]\n",
      "Initialization Ready\n",
      "[[ 0.52100967]]\n",
      "Initialization Ready\n",
      "[[ 0.06999613]]\n",
      "Initialization Ready\n",
      "[[ 0.17499945  0.69112869]]\n",
      "Initialization Ready\n",
      "[[ 0.57452872  0.04125735]]\n",
      "Initialization Ready\n",
      "[[ 0.3176174   0.18723129]]\n",
      "Initialization Ready\n",
      "[[ 0.65520978  0.61490383  0.46539345]]\n",
      "Initialization Ready\n",
      "Initial time selected > 0.856297086994\n",
      "Final time selected > 1.56351935933\n",
      "Final Parameters mean and stdev:[ 0.98669698  0.29901894]\n",
      "Batch single time 0 elapsed time: 15.78812361908058\n",
      "\n",
      "\n",
      "Initial time selected > 0.601101036815\n",
      "Final time selected > 193.354913622\n",
      "Final Parameters mean and stdev:[ 1.42808726  0.0156785 ]\n",
      "Batch single time 1 elapsed time: 16.09319070102356\n",
      "\n",
      "\n",
      "Initial time selected > 2.63986765049\n",
      "Final time selected > 4.99931999778\n",
      "Final Parameters mean and stdev:[ 1.21721634  0.25153813]\n",
      "Batch single time 2 elapsed time: 24.19796704930195\n",
      "\n",
      "\n",
      "Initial time selected > 0.533902458636\n",
      "Final time selected > 20.9696139385\n",
      "Final Parameters mean and stdev:[ 1.00366937  0.08544751]\n",
      "Final Parameters mean and stdev:[ 0.40470858  0.09496462]\n",
      "Batch single time 3 elapsed time: 15.333566396991955\n",
      "\n",
      "\n",
      "Initial time selected > 2.58064879279\n",
      "Final time selected > 4.73121638086\n",
      "Final Parameters mean and stdev:[ 0.66125834  0.0570382 ]\n",
      "Final Parameters mean and stdev:[-0.26536253  0.05244149]\n",
      "Batch single time 4 elapsed time: 15.456707764002203\n",
      "\n",
      "\n",
      "Initial time selected > 0.601677999688\n",
      "Final time selected > 137.785037639\n",
      "Final Parameters mean and stdev:[ 0.38402502  0.00529658]\n",
      "Final Parameters mean and stdev:[-0.4202171   0.00331198]\n",
      "Batch single time 5 elapsed time: 15.424396666392568\n",
      "\n",
      "\n",
      "Initial time selected > 0.411075293979\n",
      "Final time selected > 5.64565475871\n",
      "Final Parameters mean and stdev:[-0.70200114  0.18286085]\n",
      "Final Parameters mean and stdev:[ 0.77541883  0.05660887]\n",
      "Final Parameters mean and stdev:[ 1.04143692  0.122305  ]\n",
      "Batch single time 6 elapsed time: 15.349051225668518\n",
      "\n",
      "\n"
     ]
    },
    {
     "name": "stderr",
     "output_type": "stream",
     "text": [
      "C:\\Program Files\\Anaconda3\\lib\\site-packages\\qinfer\\smc.py:285: ApproximationWarning: Extremely small n_ess encountered (2.77229577966171). Resampling is likely to fail. Consider adding particles, or resampling more often.\n",
      "  ApproximationWarning\n"
     ]
    },
    {
     "name": "stdout",
     "output_type": "stream",
     "text": [
      "LogTotLikelihoods updated\n"
     ]
    },
    {
     "name": "stderr",
     "output_type": "stream",
     "text": [
      "C:\\Program Files\\Anaconda3\\lib\\site-packages\\qinfer\\smc.py:285: ApproximationWarning: Extremely small n_ess encountered (2.7049989664733087). Resampling is likely to fail. Consider adding particles, or resampling more often.\n",
      "  ApproximationWarning\n"
     ]
    },
    {
     "name": "stdout",
     "output_type": "stream",
     "text": [
      "LogTotLikelihoods updated\n"
     ]
    },
    {
     "name": "stderr",
     "output_type": "stream",
     "text": [
      "C:\\Program Files\\Anaconda3\\lib\\site-packages\\qinfer\\smc.py:285: ApproximationWarning: Extremely small n_ess encountered (2.562209494866709). Resampling is likely to fail. Consider adding particles, or resampling more often.\n",
      "  ApproximationWarning\n"
     ]
    },
    {
     "name": "stdout",
     "output_type": "stream",
     "text": [
      "LogTotLikelihoods updated\n"
     ]
    },
    {
     "name": "stderr",
     "output_type": "stream",
     "text": [
      "C:\\Program Files\\Anaconda3\\lib\\site-packages\\qinfer\\smc.py:285: ApproximationWarning: Extremely small n_ess encountered (1.01167025306312). Resampling is likely to fail. Consider adding particles, or resampling more often.\n",
      "  ApproximationWarning\n"
     ]
    },
    {
     "name": "stdout",
     "output_type": "stream",
     "text": [
      "LogTotLikelihoods updated\n"
     ]
    },
    {
     "name": "stderr",
     "output_type": "stream",
     "text": [
      "C:\\Program Files\\Anaconda3\\lib\\site-packages\\qinfer\\smc.py:285: ApproximationWarning: Extremely small n_ess encountered (1.8340673421212843). Resampling is likely to fail. Consider adding particles, or resampling more often.\n",
      "  ApproximationWarning\n"
     ]
    },
    {
     "name": "stdout",
     "output_type": "stream",
     "text": [
      "LogTotLikelihoods updated\n"
     ]
    },
    {
     "name": "stderr",
     "output_type": "stream",
     "text": [
      "C:\\Program Files\\Anaconda3\\lib\\site-packages\\qinfer\\smc.py:285: ApproximationWarning: Extremely small n_ess encountered (1.36957243791992). Resampling is likely to fail. Consider adding particles, or resampling more often.\n",
      "  ApproximationWarning\n"
     ]
    },
    {
     "name": "stdout",
     "output_type": "stream",
     "text": [
      "LogTotLikelihoods updated\n"
     ]
    },
    {
     "name": "stderr",
     "output_type": "stream",
     "text": [
      "C:\\Program Files\\Anaconda3\\lib\\site-packages\\qinfer\\smc.py:285: ApproximationWarning: Extremely small n_ess encountered (1.3724654243422492). Resampling is likely to fail. Consider adding particles, or resampling more often.\n",
      "  ApproximationWarning\n"
     ]
    },
    {
     "name": "stdout",
     "output_type": "stream",
     "text": [
      "LogTotLikelihoods updated\n",
      "Total elapsed time for the learning process: 257.10846663315897\n"
     ]
    },
    {
     "name": "stderr",
     "output_type": "stream",
     "text": [
      "C:\\Program Files\\Anaconda3\\lib\\site-packages\\qinfer\\smc.py:285: ApproximationWarning: Extremely small n_ess encountered (2.0809848466356127). Resampling is likely to fail. Consider adding particles, or resampling more often.\n",
      "  ApproximationWarning\n"
     ]
    },
    {
     "name": "stdout",
     "output_type": "stream",
     "text": [
      "LogTotLikelihoods updated\n",
      "LogTotLikelihoods updated\n",
      "LogTotLikelihoods updated\n",
      "LogTotLikelihoods updated\n",
      "LogTotLikelihoods updated\n",
      "LogTotLikelihoods updated\n"
     ]
    },
    {
     "name": "stderr",
     "output_type": "stream",
     "text": [
      "C:\\Program Files\\Anaconda3\\lib\\site-packages\\qinfer\\smc.py:285: ApproximationWarning: Extremely small n_ess encountered (4.949970021684289). Resampling is likely to fail. Consider adding particles, or resampling more often.\n",
      "  ApproximationWarning\n"
     ]
    },
    {
     "name": "stdout",
     "output_type": "stream",
     "text": [
      "LogTotLikelihoods updated\n",
      "Total elapsed time for Bayes factor update: 223.7944229588902\n",
      "[[ 0.47108904]]\n",
      "Initialization Ready\n",
      "[[ 0.19989205]]\n",
      "Initialization Ready\n",
      "[[ 0.67619849]]\n",
      "Initialization Ready\n",
      "[[ 0.80301574  0.74440345]]\n",
      "Initialization Ready\n",
      "[[ 0.95956644  0.90893137]]\n",
      "Initialization Ready\n",
      "[[ 0.66005121  0.59923604]]\n",
      "Initialization Ready\n",
      "[[ 0.54775827  0.86867067  0.74778647]]\n",
      "Initialization Ready\n",
      "Initial time selected > 3.51448871752\n",
      "Final time selected > 16.4229261323\n",
      "Final Parameters mean and stdev:[ 0.1302386  0.0643196]\n",
      "Batch single time 0 elapsed time: 15.854607675079023\n",
      "\n",
      "\n",
      "Initial time selected > 0.63980265409\n",
      "Final time selected > 196.944204557\n",
      "Final Parameters mean and stdev:[ 0.94682427  0.02587161]\n",
      "Batch single time 1 elapsed time: 15.724043694135617\n",
      "\n",
      "\n",
      "Initial time selected > 0.880200591517\n",
      "Final time selected > 7.51752087071\n",
      "Final Parameters mean and stdev:[ 0.36786896  0.12245237]\n",
      "Batch single time 2 elapsed time: 23.87364573132072\n",
      "\n",
      "\n",
      "Initial time selected > 0.42724037369\n",
      "Final time selected > 68.1537883041\n",
      "Final Parameters mean and stdev:[ 0.57400892  0.01051595]\n",
      "Final Parameters mean and stdev:[ 0.86980588  0.00896864]\n",
      "Batch single time 3 elapsed time: 15.632735048333416\n",
      "\n",
      "\n",
      "Initial time selected > 0.562048815749\n",
      "Final time selected > 2.35144151938\n",
      "Final Parameters mean and stdev:[ 0.76648415  0.44233339]\n",
      "Final Parameters mean and stdev:[ 0.30377567  0.4197848 ]\n",
      "Batch single time 4 elapsed time: 15.551042926752416\n",
      "\n",
      "\n",
      "Initial time selected > 0.788666371812\n",
      "Final time selected > 3.61951895131\n",
      "Final Parameters mean and stdev:[ 1.60855073  0.11827928]\n",
      "Final Parameters mean and stdev:[ 0.49129603  0.28082742]\n",
      "Batch single time 5 elapsed time: 15.466879469677224\n",
      "\n",
      "\n",
      "Initial time selected > 1.14605202699\n",
      "Final time selected > 5.3718848244\n",
      "Final Parameters mean and stdev:[ 0.51096835  0.04347844]\n",
      "Final Parameters mean and stdev:[ 0.78102954  0.05822001]\n",
      "Final Parameters mean and stdev:[ 0.00849668  0.09881689]\n",
      "Batch single time 6 elapsed time: 15.439383917415398\n",
      "\n",
      "\n"
     ]
    },
    {
     "name": "stderr",
     "output_type": "stream",
     "text": [
      "C:\\Program Files\\Anaconda3\\lib\\site-packages\\qinfer\\smc.py:285: ApproximationWarning: Extremely small n_ess encountered (1.0518114587758949). Resampling is likely to fail. Consider adding particles, or resampling more often.\n",
      "  ApproximationWarning\n"
     ]
    },
    {
     "name": "stdout",
     "output_type": "stream",
     "text": [
      "LogTotLikelihoods updated\n"
     ]
    },
    {
     "name": "stderr",
     "output_type": "stream",
     "text": [
      "C:\\Program Files\\Anaconda3\\lib\\site-packages\\qinfer\\smc.py:285: ApproximationWarning: Extremely small n_ess encountered (2.396018013551093). Resampling is likely to fail. Consider adding particles, or resampling more often.\n",
      "  ApproximationWarning\n"
     ]
    },
    {
     "name": "stdout",
     "output_type": "stream",
     "text": [
      "LogTotLikelihoods updated\n"
     ]
    },
    {
     "name": "stderr",
     "output_type": "stream",
     "text": [
      "C:\\Program Files\\Anaconda3\\lib\\site-packages\\qinfer\\smc.py:285: ApproximationWarning: Extremely small n_ess encountered (1.065323160382178). Resampling is likely to fail. Consider adding particles, or resampling more often.\n",
      "  ApproximationWarning\n"
     ]
    },
    {
     "name": "stdout",
     "output_type": "stream",
     "text": [
      "LogTotLikelihoods updated\n"
     ]
    },
    {
     "name": "stderr",
     "output_type": "stream",
     "text": [
      "C:\\Program Files\\Anaconda3\\lib\\site-packages\\qinfer\\smc.py:285: ApproximationWarning: Extremely small n_ess encountered (1.0000749545042253). Resampling is likely to fail. Consider adding particles, or resampling more often.\n",
      "  ApproximationWarning\n"
     ]
    },
    {
     "name": "stdout",
     "output_type": "stream",
     "text": [
      "LogTotLikelihoods updated\n"
     ]
    },
    {
     "name": "stderr",
     "output_type": "stream",
     "text": [
      "C:\\Program Files\\Anaconda3\\lib\\site-packages\\qinfer\\smc.py:285: ApproximationWarning: Extremely small n_ess encountered (1.0011345143449446). Resampling is likely to fail. Consider adding particles, or resampling more often.\n",
      "  ApproximationWarning\n"
     ]
    },
    {
     "name": "stdout",
     "output_type": "stream",
     "text": [
      "LogTotLikelihoods updated\n"
     ]
    },
    {
     "name": "stderr",
     "output_type": "stream",
     "text": [
      "C:\\Program Files\\Anaconda3\\lib\\site-packages\\qinfer\\smc.py:285: ApproximationWarning: Extremely small n_ess encountered (5.087462762620316). Resampling is likely to fail. Consider adding particles, or resampling more often.\n",
      "  ApproximationWarning\n"
     ]
    },
    {
     "name": "stdout",
     "output_type": "stream",
     "text": [
      "LogTotLikelihoods updated\n"
     ]
    },
    {
     "name": "stderr",
     "output_type": "stream",
     "text": [
      "C:\\Program Files\\Anaconda3\\lib\\site-packages\\qinfer\\smc.py:285: ApproximationWarning: Extremely small n_ess encountered (1.0006534379740517). Resampling is likely to fail. Consider adding particles, or resampling more often.\n",
      "  ApproximationWarning\n"
     ]
    },
    {
     "name": "stdout",
     "output_type": "stream",
     "text": [
      "LogTotLikelihoods updated\n",
      "Total elapsed time for the learning process: 258.18918346280407\n"
     ]
    },
    {
     "name": "stderr",
     "output_type": "stream",
     "text": [
      "C:\\Program Files\\Anaconda3\\lib\\site-packages\\qinfer\\smc.py:285: ApproximationWarning: Extremely small n_ess encountered (3.3373037197137543). Resampling is likely to fail. Consider adding particles, or resampling more often.\n",
      "  ApproximationWarning\n"
     ]
    },
    {
     "name": "stdout",
     "output_type": "stream",
     "text": [
      "LogTotLikelihoods updated\n",
      "LogTotLikelihoods updated\n",
      "LogTotLikelihoods updated\n",
      "LogTotLikelihoods updated\n",
      "LogTotLikelihoods updated\n",
      "LogTotLikelihoods updated\n",
      "LogTotLikelihoods updated\n",
      "Total elapsed time for Bayes factor update: 223.26768883618206\n",
      "[[ 0.21034947]]\n",
      "Initialization Ready\n",
      "[[ 0.94433472]]\n",
      "Initialization Ready\n",
      "[[ 0.68360616]]\n",
      "Initialization Ready\n",
      "[[ 0.43827068  0.65106161]]\n",
      "Initialization Ready\n",
      "[[ 0.8783376   0.81112144]]\n",
      "Initialization Ready\n",
      "[[ 0.39202275  0.72288407]]\n",
      "Initialization Ready\n",
      "[[ 0.03622456  0.09863089  0.81819005]]\n",
      "Initialization Ready\n",
      "Initial time selected > 1.19622033079\n",
      "Final time selected > 14.5728226548\n",
      "Final Parameters mean and stdev:[ 1.11056322  0.0427008 ]\n",
      "Batch single time 0 elapsed time: 15.989421426100307\n",
      "\n",
      "\n",
      "Initial time selected > 1.10692155573\n",
      "Final time selected > 139.812113828\n",
      "Final Parameters mean and stdev:[ 0.77830805  0.00937849]\n",
      "Batch single time 1 elapsed time: 15.746913065268018\n",
      "\n",
      "\n",
      "Initial time selected > 0.49142743521\n",
      "Final time selected > 485.196911035\n",
      "Final Parameters mean and stdev:[ 1.37823397  0.00401568]\n",
      "Batch single time 2 elapsed time: 24.106756065113586\n",
      "\n",
      "\n",
      "Initial time selected > 0.887266140306\n",
      "Final time selected > 4.96605136096\n",
      "Final Parameters mean and stdev:[ 0.99631278  0.02892745]\n",
      "Final Parameters mean and stdev:[ 0.05785055  0.02012138]\n",
      "Batch single time 3 elapsed time: 15.65063062919944\n",
      "\n",
      "\n",
      "Initial time selected > 0.824876331609\n",
      "Final time selected > 3.30991070128\n",
      "Final Parameters mean and stdev:[ 0.8775936   0.26554542]\n",
      "Final Parameters mean and stdev:[ 0.43391678  0.45254351]\n",
      "Batch single time 4 elapsed time: 15.399545261032472\n",
      "\n",
      "\n",
      "Initial time selected > 0.793556746878\n",
      "Final time selected > 14.8744576636\n",
      "Final Parameters mean and stdev:[ 0.61904835  0.03153479]\n",
      "Final Parameters mean and stdev:[ 0.33777273  0.02774087]\n",
      "Batch single time 5 elapsed time: 15.717523870815057\n",
      "\n",
      "\n",
      "Initial time selected > 0.331781415471\n",
      "Final time selected > 43.9809033927\n",
      "Final Parameters mean and stdev:[ 0.659375    0.02283786]\n",
      "Final Parameters mean and stdev:[ 0.60349318  0.01474791]\n",
      "Final Parameters mean and stdev:[ 0.65408838  0.02511981]\n",
      "Batch single time 6 elapsed time: 15.398406096202962\n",
      "\n",
      "\n"
     ]
    },
    {
     "name": "stderr",
     "output_type": "stream",
     "text": [
      "C:\\Program Files\\Anaconda3\\lib\\site-packages\\qinfer\\smc.py:285: ApproximationWarning: Extremely small n_ess encountered (2.0234363452090163). Resampling is likely to fail. Consider adding particles, or resampling more often.\n",
      "  ApproximationWarning\n"
     ]
    },
    {
     "name": "stdout",
     "output_type": "stream",
     "text": [
      "LogTotLikelihoods updated\n"
     ]
    },
    {
     "name": "stderr",
     "output_type": "stream",
     "text": [
      "C:\\Program Files\\Anaconda3\\lib\\site-packages\\qinfer\\smc.py:285: ApproximationWarning: Extremely small n_ess encountered (1.7570081152836379). Resampling is likely to fail. Consider adding particles, or resampling more often.\n",
      "  ApproximationWarning\n"
     ]
    },
    {
     "name": "stdout",
     "output_type": "stream",
     "text": [
      "LogTotLikelihoods updated\n",
      "LogTotLikelihoods updated\n"
     ]
    },
    {
     "name": "stderr",
     "output_type": "stream",
     "text": [
      "C:\\Program Files\\Anaconda3\\lib\\site-packages\\qinfer\\smc.py:285: ApproximationWarning: Extremely small n_ess encountered (3.296716164854544). Resampling is likely to fail. Consider adding particles, or resampling more often.\n",
      "  ApproximationWarning\n"
     ]
    },
    {
     "name": "stdout",
     "output_type": "stream",
     "text": [
      "LogTotLikelihoods updated\n"
     ]
    },
    {
     "name": "stderr",
     "output_type": "stream",
     "text": [
      "C:\\Program Files\\Anaconda3\\lib\\site-packages\\qinfer\\smc.py:285: ApproximationWarning: Extremely small n_ess encountered (2.0535114873202542). Resampling is likely to fail. Consider adding particles, or resampling more often.\n",
      "  ApproximationWarning\n"
     ]
    },
    {
     "name": "stdout",
     "output_type": "stream",
     "text": [
      "LogTotLikelihoods updated\n"
     ]
    },
    {
     "name": "stderr",
     "output_type": "stream",
     "text": [
      "C:\\Program Files\\Anaconda3\\lib\\site-packages\\qinfer\\smc.py:285: ApproximationWarning: Extremely small n_ess encountered (3.114734140596306). Resampling is likely to fail. Consider adding particles, or resampling more often.\n",
      "  ApproximationWarning\n"
     ]
    },
    {
     "name": "stdout",
     "output_type": "stream",
     "text": [
      "LogTotLikelihoods updated\n"
     ]
    },
    {
     "name": "stderr",
     "output_type": "stream",
     "text": [
      "C:\\Program Files\\Anaconda3\\lib\\site-packages\\qinfer\\smc.py:285: ApproximationWarning: Extremely small n_ess encountered (2.029514497093005). Resampling is likely to fail. Consider adding particles, or resampling more often.\n",
      "  ApproximationWarning\n"
     ]
    },
    {
     "name": "stdout",
     "output_type": "stream",
     "text": [
      "LogTotLikelihoods updated\n",
      "Total elapsed time for the learning process: 257.5291458680513\n",
      "LogTotLikelihoods updated\n",
      "LogTotLikelihoods updated\n",
      "LogTotLikelihoods updated\n",
      "LogTotLikelihoods updated\n"
     ]
    },
    {
     "name": "stderr",
     "output_type": "stream",
     "text": [
      "C:\\Program Files\\Anaconda3\\lib\\site-packages\\qinfer\\smc.py:285: ApproximationWarning: Extremely small n_ess encountered (1.0001505983939705). Resampling is likely to fail. Consider adding particles, or resampling more often.\n",
      "  ApproximationWarning\n"
     ]
    },
    {
     "name": "stdout",
     "output_type": "stream",
     "text": [
      "LogTotLikelihoods updated\n"
     ]
    },
    {
     "name": "stderr",
     "output_type": "stream",
     "text": [
      "C:\\Program Files\\Anaconda3\\lib\\site-packages\\qinfer\\smc.py:285: ApproximationWarning: Extremely small n_ess encountered (3.425709475054711). Resampling is likely to fail. Consider adding particles, or resampling more often.\n",
      "  ApproximationWarning\n"
     ]
    },
    {
     "name": "stdout",
     "output_type": "stream",
     "text": [
      "LogTotLikelihoods updated\n"
     ]
    },
    {
     "name": "stderr",
     "output_type": "stream",
     "text": [
      "C:\\Program Files\\Anaconda3\\lib\\site-packages\\qinfer\\smc.py:285: ApproximationWarning: Extremely small n_ess encountered (8.751056387095495). Resampling is likely to fail. Consider adding particles, or resampling more often.\n",
      "  ApproximationWarning\n"
     ]
    },
    {
     "name": "stdout",
     "output_type": "stream",
     "text": [
      "LogTotLikelihoods updated\n",
      "Total elapsed time for Bayes factor update: 220.28938924742397\n",
      "[[ 0.17606258]]\n",
      "Initialization Ready\n",
      "[[ 0.71199379]]\n",
      "Initialization Ready\n",
      "[[ 0.44516344]]\n",
      "Initialization Ready\n",
      "[[ 0.780097    0.47725058]]\n",
      "Initialization Ready\n",
      "[[ 0.97431323  0.70756416]]\n",
      "Initialization Ready\n",
      "[[ 0.03746401  0.20144286]]\n",
      "Initialization Ready\n",
      "[[ 0.0926528   0.55709473  0.68068342]]\n",
      "Initialization Ready\n",
      "Initial time selected > 0.749374946406\n",
      "Final time selected > 0.627810969135\n",
      "Final Parameters mean and stdev:[ 0.71163176  0.8838017 ]\n",
      "Batch single time 0 elapsed time: 16.02096579724457\n",
      "\n",
      "\n",
      "Initial time selected > 0.767544976188\n",
      "Final time selected > 25.8312665928\n",
      "Final Parameters mean and stdev:[ 1.22336773  0.26443353]\n",
      "Batch single time 1 elapsed time: 15.582846183948277\n",
      "\n",
      "\n",
      "Initial time selected > 0.624848059372\n",
      "Final time selected > 179.814839896\n",
      "Final Parameters mean and stdev:[ 0.84883825  0.01383856]\n",
      "Batch single time 2 elapsed time: 24.077580070937984\n",
      "\n",
      "\n",
      "Initial time selected > 1.01171712947\n",
      "Final time selected > 239.906712565\n",
      "Final Parameters mean and stdev:[ 0.37231959  0.00646407]\n",
      "Final Parameters mean and stdev:[ 0.43935795  0.01081176]\n",
      "Batch single time 3 elapsed time: 15.592986108211335\n",
      "\n",
      "\n",
      "Initial time selected > 0.908668270005\n",
      "Final time selected > 3.67794332258\n",
      "Final Parameters mean and stdev:[ 1.43310676  0.50129506]\n",
      "Final Parameters mean and stdev:[ 0.44788995  0.21332223]\n",
      "Batch single time 4 elapsed time: 15.510902678048296\n",
      "\n",
      "\n",
      "Initial time selected > 4.01678935108\n",
      "Final time selected > 41.1078554149\n",
      "Final Parameters mean and stdev:[ 0.69125979  0.00598003]\n",
      "Final Parameters mean and stdev:[ 0.72069631  0.00660482]\n",
      "Batch single time 5 elapsed time: 15.455277600660338\n",
      "\n",
      "\n",
      "Initial time selected > 0.398514973442\n",
      "Final time selected > 1.04969940272\n",
      "Final Parameters mean and stdev:[ 0.23120935  0.10469276]\n",
      "Final Parameters mean and stdev:[ 0.78981756  0.0872927 ]\n",
      "Final Parameters mean and stdev:[ 0.32169992  0.09884052]\n",
      "Batch single time 6 elapsed time: 15.519002964283573\n",
      "\n",
      "\n"
     ]
    },
    {
     "name": "stderr",
     "output_type": "stream",
     "text": [
      "C:\\Program Files\\Anaconda3\\lib\\site-packages\\qinfer\\smc.py:285: ApproximationWarning: Extremely small n_ess encountered (1.2164535844595963). Resampling is likely to fail. Consider adding particles, or resampling more often.\n",
      "  ApproximationWarning\n"
     ]
    },
    {
     "name": "stdout",
     "output_type": "stream",
     "text": [
      "LogTotLikelihoods updated\n"
     ]
    },
    {
     "name": "stderr",
     "output_type": "stream",
     "text": [
      "C:\\Program Files\\Anaconda3\\lib\\site-packages\\qinfer\\smc.py:285: ApproximationWarning: Extremely small n_ess encountered (3.732517694426644). Resampling is likely to fail. Consider adding particles, or resampling more often.\n",
      "  ApproximationWarning\n"
     ]
    },
    {
     "name": "stdout",
     "output_type": "stream",
     "text": [
      "LogTotLikelihoods updated\n"
     ]
    },
    {
     "name": "stderr",
     "output_type": "stream",
     "text": [
      "C:\\Program Files\\Anaconda3\\lib\\site-packages\\qinfer\\smc.py:285: ApproximationWarning: Extremely small n_ess encountered (1.0000009469403077). Resampling is likely to fail. Consider adding particles, or resampling more often.\n",
      "  ApproximationWarning\n"
     ]
    },
    {
     "name": "stdout",
     "output_type": "stream",
     "text": [
      "LogTotLikelihoods updated\n"
     ]
    },
    {
     "name": "stderr",
     "output_type": "stream",
     "text": [
      "C:\\Program Files\\Anaconda3\\lib\\site-packages\\qinfer\\smc.py:285: ApproximationWarning: Extremely small n_ess encountered (5.228811084089261). Resampling is likely to fail. Consider adding particles, or resampling more often.\n",
      "  ApproximationWarning\n"
     ]
    },
    {
     "name": "stdout",
     "output_type": "stream",
     "text": [
      "LogTotLikelihoods updated\n"
     ]
    },
    {
     "name": "stderr",
     "output_type": "stream",
     "text": [
      "C:\\Program Files\\Anaconda3\\lib\\site-packages\\qinfer\\smc.py:285: ApproximationWarning: Extremely small n_ess encountered (1.0000000002751723). Resampling is likely to fail. Consider adding particles, or resampling more often.\n",
      "  ApproximationWarning\n"
     ]
    },
    {
     "name": "stdout",
     "output_type": "stream",
     "text": [
      "LogTotLikelihoods updated\n"
     ]
    },
    {
     "name": "stderr",
     "output_type": "stream",
     "text": [
      "C:\\Program Files\\Anaconda3\\lib\\site-packages\\qinfer\\smc.py:285: ApproximationWarning: Extremely small n_ess encountered (1.0019206463396881). Resampling is likely to fail. Consider adding particles, or resampling more often.\n",
      "  ApproximationWarning\n"
     ]
    },
    {
     "name": "stdout",
     "output_type": "stream",
     "text": [
      "LogTotLikelihoods updated\n"
     ]
    },
    {
     "name": "stderr",
     "output_type": "stream",
     "text": [
      "C:\\Program Files\\Anaconda3\\lib\\site-packages\\qinfer\\smc.py:285: ApproximationWarning: Extremely small n_ess encountered (6.86695464512571). Resampling is likely to fail. Consider adding particles, or resampling more often.\n",
      "  ApproximationWarning\n"
     ]
    },
    {
     "name": "stdout",
     "output_type": "stream",
     "text": [
      "LogTotLikelihoods updated\n",
      "Total elapsed time for the learning process: 256.7422186865442\n"
     ]
    },
    {
     "name": "stderr",
     "output_type": "stream",
     "text": [
      "C:\\Program Files\\Anaconda3\\lib\\site-packages\\qinfer\\smc.py:285: ApproximationWarning: Extremely small n_ess encountered (1.2075827809409752). Resampling is likely to fail. Consider adding particles, or resampling more often.\n",
      "  ApproximationWarning\n"
     ]
    },
    {
     "name": "stdout",
     "output_type": "stream",
     "text": [
      "LogTotLikelihoods updated\n"
     ]
    },
    {
     "name": "stderr",
     "output_type": "stream",
     "text": [
      "C:\\Program Files\\Anaconda3\\lib\\site-packages\\qinfer\\smc.py:285: ApproximationWarning: Extremely small n_ess encountered (5.211719128067266). Resampling is likely to fail. Consider adding particles, or resampling more often.\n",
      "  ApproximationWarning\n"
     ]
    },
    {
     "name": "stdout",
     "output_type": "stream",
     "text": [
      "LogTotLikelihoods updated\n",
      "LogTotLikelihoods updated\n",
      "LogTotLikelihoods updated\n",
      "LogTotLikelihoods updated\n",
      "LogTotLikelihoods updated\n"
     ]
    },
    {
     "name": "stderr",
     "output_type": "stream",
     "text": [
      "C:\\Program Files\\Anaconda3\\lib\\site-packages\\qinfer\\smc.py:285: ApproximationWarning: Extremely small n_ess encountered (2.6197446124618433). Resampling is likely to fail. Consider adding particles, or resampling more often.\n",
      "  ApproximationWarning\n"
     ]
    },
    {
     "name": "stdout",
     "output_type": "stream",
     "text": [
      "LogTotLikelihoods updated\n",
      "Total elapsed time for Bayes factor update: 219.53842637009075\n",
      "[[ 0.64491309]]\n",
      "Initialization Ready\n",
      "[[ 0.36239876]]\n",
      "Initialization Ready\n",
      "[[ 0.19930824]]\n",
      "Initialization Ready\n",
      "[[ 0.2579087   0.24696011]]\n",
      "Initialization Ready\n",
      "[[ 0.38541206  0.64784024]]\n",
      "Initialization Ready\n",
      "[[ 0.20068868  0.2061955 ]]\n",
      "Initialization Ready\n",
      "[[ 0.41316308  0.41445555  0.33018994]]\n",
      "Initialization Ready\n",
      "Initial time selected > 1.18713211791\n",
      "Final time selected > 3.19157328201\n",
      "Final Parameters mean and stdev:[ 1.02479438  0.33806348]\n",
      "Batch single time 0 elapsed time: 15.640259627616615\n",
      "\n",
      "\n",
      "Initial time selected > 1.24118668751\n",
      "Final time selected > 35.7355742177\n",
      "Final Parameters mean and stdev:[ 0.30091089  0.04843887]\n",
      "Batch single time 1 elapsed time: 15.749004348093877\n",
      "\n",
      "\n",
      "Initial time selected > 0.841455098613\n",
      "Final time selected > 1.58263226443\n",
      "Final Parameters mean and stdev:[ 1.55111704  0.56194945]\n",
      "Batch single time 2 elapsed time: 24.19606347541412\n",
      "\n",
      "\n",
      "Initial time selected > 0.376660137439\n",
      "Final time selected > 35.6126055165\n",
      "Final Parameters mean and stdev:[ 0.78673062  0.09934927]\n",
      "Final Parameters mean and stdev:[ 0.73386903  0.03900919]\n",
      "Batch single time 3 elapsed time: 15.571386007046385\n",
      "\n",
      "\n",
      "Initial time selected > 0.467295981288\n",
      "Final time selected > 15.6745268562\n",
      "Final Parameters mean and stdev:[ 0.45643776  0.05447925]\n",
      "Final Parameters mean and stdev:[ 0.77687151  0.08572649]\n",
      "Batch single time 4 elapsed time: 15.404075435813866\n",
      "\n",
      "\n",
      "Initial time selected > 0.378222639226\n",
      "Final time selected > 41.7226059649\n",
      "Final Parameters mean and stdev:[-0.55406803  0.01349353]\n",
      "Final Parameters mean and stdev:[-0.91666674  0.0187936 ]\n",
      "Batch single time 5 elapsed time: 15.464810036566632\n",
      "\n",
      "\n",
      "Initial time selected > 0.639085755246\n",
      "Final time selected > 3.52667348187\n",
      "Final Parameters mean and stdev:[ 0.17528048  0.04155802]\n",
      "Final Parameters mean and stdev:[ 0.43927897  0.0409742 ]\n",
      "Final Parameters mean and stdev:[ 0.90482619  0.08682278]\n",
      "Batch single time 6 elapsed time: 15.359329531485855\n",
      "\n",
      "\n"
     ]
    },
    {
     "name": "stderr",
     "output_type": "stream",
     "text": [
      "C:\\Program Files\\Anaconda3\\lib\\site-packages\\qinfer\\smc.py:285: ApproximationWarning: Extremely small n_ess encountered (4.892844011530374). Resampling is likely to fail. Consider adding particles, or resampling more often.\n",
      "  ApproximationWarning\n"
     ]
    },
    {
     "name": "stdout",
     "output_type": "stream",
     "text": [
      "LogTotLikelihoods updated\n"
     ]
    },
    {
     "name": "stderr",
     "output_type": "stream",
     "text": [
      "C:\\Program Files\\Anaconda3\\lib\\site-packages\\qinfer\\smc.py:285: ApproximationWarning: Extremely small n_ess encountered (1.1893265587976174). Resampling is likely to fail. Consider adding particles, or resampling more often.\n",
      "  ApproximationWarning\n"
     ]
    },
    {
     "name": "stdout",
     "output_type": "stream",
     "text": [
      "LogTotLikelihoods updated\n"
     ]
    },
    {
     "name": "stderr",
     "output_type": "stream",
     "text": [
      "C:\\Program Files\\Anaconda3\\lib\\site-packages\\qinfer\\smc.py:285: ApproximationWarning: Extremely small n_ess encountered (1.759333314386833). Resampling is likely to fail. Consider adding particles, or resampling more often.\n",
      "  ApproximationWarning\n"
     ]
    },
    {
     "name": "stdout",
     "output_type": "stream",
     "text": [
      "LogTotLikelihoods updated\n"
     ]
    },
    {
     "name": "stderr",
     "output_type": "stream",
     "text": [
      "C:\\Program Files\\Anaconda3\\lib\\site-packages\\qinfer\\smc.py:285: ApproximationWarning: Extremely small n_ess encountered (1.0002913087200562). Resampling is likely to fail. Consider adding particles, or resampling more often.\n",
      "  ApproximationWarning\n"
     ]
    },
    {
     "name": "stdout",
     "output_type": "stream",
     "text": [
      "LogTotLikelihoods updated\n",
      "LogTotLikelihoods updated\n"
     ]
    },
    {
     "name": "stderr",
     "output_type": "stream",
     "text": [
      "C:\\Program Files\\Anaconda3\\lib\\site-packages\\qinfer\\smc.py:285: ApproximationWarning: Extremely small n_ess encountered (5.4798341186562425). Resampling is likely to fail. Consider adding particles, or resampling more often.\n",
      "  ApproximationWarning\n"
     ]
    },
    {
     "name": "stdout",
     "output_type": "stream",
     "text": [
      "LogTotLikelihoods updated\n"
     ]
    },
    {
     "name": "stderr",
     "output_type": "stream",
     "text": [
      "C:\\Program Files\\Anaconda3\\lib\\site-packages\\qinfer\\smc.py:285: ApproximationWarning: Extremely small n_ess encountered (1.6585089885268862). Resampling is likely to fail. Consider adding particles, or resampling more often.\n",
      "  ApproximationWarning\n"
     ]
    },
    {
     "name": "stdout",
     "output_type": "stream",
     "text": [
      "LogTotLikelihoods updated\n",
      "Total elapsed time for the learning process: 259.28308626599755\n",
      "LogTotLikelihoods updated\n",
      "LogTotLikelihoods updated\n"
     ]
    },
    {
     "name": "stderr",
     "output_type": "stream",
     "text": [
      "C:\\Program Files\\Anaconda3\\lib\\site-packages\\qinfer\\smc.py:285: ApproximationWarning: Extremely small n_ess encountered (4.699581508024665). Resampling is likely to fail. Consider adding particles, or resampling more often.\n",
      "  ApproximationWarning\n"
     ]
    },
    {
     "name": "stdout",
     "output_type": "stream",
     "text": [
      "LogTotLikelihoods updated\n"
     ]
    },
    {
     "name": "stderr",
     "output_type": "stream",
     "text": [
      "C:\\Program Files\\Anaconda3\\lib\\site-packages\\qinfer\\smc.py:285: ApproximationWarning: Extremely small n_ess encountered (8.097912512301662). Resampling is likely to fail. Consider adding particles, or resampling more often.\n",
      "  ApproximationWarning\n"
     ]
    },
    {
     "name": "stdout",
     "output_type": "stream",
     "text": [
      "LogTotLikelihoods updated\n",
      "LogTotLikelihoods updated\n"
     ]
    },
    {
     "name": "stderr",
     "output_type": "stream",
     "text": [
      "C:\\Program Files\\Anaconda3\\lib\\site-packages\\qinfer\\smc.py:285: ApproximationWarning: Extremely small n_ess encountered (2.0850779546940523). Resampling is likely to fail. Consider adding particles, or resampling more often.\n",
      "  ApproximationWarning\n"
     ]
    },
    {
     "name": "stdout",
     "output_type": "stream",
     "text": [
      "LogTotLikelihoods updated\n"
     ]
    },
    {
     "name": "stderr",
     "output_type": "stream",
     "text": [
      "C:\\Program Files\\Anaconda3\\lib\\site-packages\\qinfer\\smc.py:285: ApproximationWarning: Extremely small n_ess encountered (9.790189528469964). Resampling is likely to fail. Consider adding particles, or resampling more often.\n",
      "  ApproximationWarning\n"
     ]
    },
    {
     "name": "stdout",
     "output_type": "stream",
     "text": [
      "LogTotLikelihoods updated\n",
      "Total elapsed time for Bayes factor update: 230.79449678445235\n",
      "[[ 0.63119924]]\n",
      "Initialization Ready\n",
      "[[ 0.88567151]]\n",
      "Initialization Ready\n",
      "[[ 0.24093351]]\n",
      "Initialization Ready\n",
      "[[ 0.96909944  0.82060918]]\n",
      "Initialization Ready\n",
      "[[ 0.00155326  0.60386272]]\n",
      "Initialization Ready\n",
      "[[ 0.33612142  0.6824332 ]]\n",
      "Initialization Ready\n",
      "[[ 0.99812438  0.15003814  0.00798417]]\n",
      "Initialization Ready\n",
      "Initial time selected > 0.732010333107\n",
      "Final time selected > 18.8074680878\n",
      "Final Parameters mean and stdev:[-0.19231212  0.02235948]\n",
      "Batch single time 0 elapsed time: 15.74568683263351\n",
      "\n",
      "\n",
      "Initial time selected > 0.748444281574\n",
      "Final time selected > 122.51318693\n",
      "Final Parameters mean and stdev:[ 1.10082902  0.0110079 ]\n",
      "Batch single time 1 elapsed time: 15.688061512919376\n",
      "\n",
      "\n",
      "Initial time selected > 3.25080357448\n",
      "Final time selected > 473.69618842\n",
      "Final Parameters mean and stdev:[-0.18142621  0.00803398]\n",
      "Batch single time 2 elapsed time: 24.093370133552526\n",
      "\n",
      "\n",
      "Initial time selected > 0.778482513198\n",
      "Final time selected > 3.35033660708\n",
      "Final Parameters mean and stdev:[ 1.08409931  0.11835306]\n",
      "Final Parameters mean and stdev:[ 0.55263716  0.16659489]\n",
      "Batch single time 3 elapsed time: 15.533976973041717\n",
      "\n",
      "\n",
      "Initial time selected > 0.853828049658\n",
      "Final time selected > 2.63074958662\n",
      "Final Parameters mean and stdev:[ 0.5217543   0.24405788]\n",
      "Final Parameters mean and stdev:[ 0.690264    0.16024875]\n",
      "Batch single time 4 elapsed time: 15.264720254097483\n",
      "\n",
      "\n",
      "Initial time selected > 0.501038254551\n",
      "Final time selected > 83.8036922387\n",
      "Final Parameters mean and stdev:[ 0.71107873  0.02138042]\n",
      "Final Parameters mean and stdev:[ 0.4121038  0.0276692]\n",
      "Batch single time 5 elapsed time: 15.660222986298322\n",
      "\n",
      "\n",
      "Initial time selected > 0.54487622269\n",
      "Final time selected > 7.06009313046\n",
      "Final Parameters mean and stdev:[ 1.17062628  0.10938905]\n",
      "Final Parameters mean and stdev:[ 0.43942493  0.12620376]\n",
      "Final Parameters mean and stdev:[ 0.63634392  0.10556045]\n",
      "Batch single time 6 elapsed time: 15.212236901264987\n",
      "\n",
      "\n"
     ]
    },
    {
     "name": "stderr",
     "output_type": "stream",
     "text": [
      "C:\\Program Files\\Anaconda3\\lib\\site-packages\\qinfer\\smc.py:285: ApproximationWarning: Extremely small n_ess encountered (2.9376666911805676). Resampling is likely to fail. Consider adding particles, or resampling more often.\n",
      "  ApproximationWarning\n"
     ]
    },
    {
     "name": "stdout",
     "output_type": "stream",
     "text": [
      "LogTotLikelihoods updated\n"
     ]
    },
    {
     "name": "stderr",
     "output_type": "stream",
     "text": [
      "C:\\Program Files\\Anaconda3\\lib\\site-packages\\qinfer\\smc.py:285: ApproximationWarning: Extremely small n_ess encountered (1.0006247184973331). Resampling is likely to fail. Consider adding particles, or resampling more often.\n",
      "  ApproximationWarning\n"
     ]
    },
    {
     "name": "stdout",
     "output_type": "stream",
     "text": [
      "LogTotLikelihoods updated\n",
      "LogTotLikelihoods updated\n"
     ]
    },
    {
     "name": "stderr",
     "output_type": "stream",
     "text": [
      "C:\\Program Files\\Anaconda3\\lib\\site-packages\\qinfer\\smc.py:285: ApproximationWarning: Extremely small n_ess encountered (1.4842809004021205). Resampling is likely to fail. Consider adding particles, or resampling more often.\n",
      "  ApproximationWarning\n"
     ]
    },
    {
     "name": "stdout",
     "output_type": "stream",
     "text": [
      "LogTotLikelihoods updated\n"
     ]
    },
    {
     "name": "stderr",
     "output_type": "stream",
     "text": [
      "C:\\Program Files\\Anaconda3\\lib\\site-packages\\qinfer\\smc.py:285: ApproximationWarning: Extremely small n_ess encountered (1.9524229951079424). Resampling is likely to fail. Consider adding particles, or resampling more often.\n",
      "  ApproximationWarning\n"
     ]
    },
    {
     "name": "stdout",
     "output_type": "stream",
     "text": [
      "LogTotLikelihoods updated\n"
     ]
    },
    {
     "name": "stderr",
     "output_type": "stream",
     "text": [
      "C:\\Program Files\\Anaconda3\\lib\\site-packages\\qinfer\\smc.py:285: ApproximationWarning: Extremely small n_ess encountered (3.187720214828453). Resampling is likely to fail. Consider adding particles, or resampling more often.\n",
      "  ApproximationWarning\n"
     ]
    },
    {
     "name": "stdout",
     "output_type": "stream",
     "text": [
      "LogTotLikelihoods updated\n"
     ]
    },
    {
     "name": "stderr",
     "output_type": "stream",
     "text": [
      "C:\\Program Files\\Anaconda3\\lib\\site-packages\\qinfer\\smc.py:285: ApproximationWarning: Extremely small n_ess encountered (1.0517627750203142). Resampling is likely to fail. Consider adding particles, or resampling more often.\n",
      "  ApproximationWarning\n"
     ]
    },
    {
     "name": "stdout",
     "output_type": "stream",
     "text": [
      "LogTotLikelihoods updated\n",
      "Total elapsed time for the learning process: 256.51612873323757\n",
      "LogTotLikelihoods updated\n"
     ]
    },
    {
     "name": "stderr",
     "output_type": "stream",
     "text": [
      "C:\\Program Files\\Anaconda3\\lib\\site-packages\\qinfer\\smc.py:285: ApproximationWarning: Extremely small n_ess encountered (1.0256887164313266). Resampling is likely to fail. Consider adding particles, or resampling more often.\n",
      "  ApproximationWarning\n"
     ]
    },
    {
     "name": "stdout",
     "output_type": "stream",
     "text": [
      "LogTotLikelihoods updated\n"
     ]
    },
    {
     "name": "stderr",
     "output_type": "stream",
     "text": [
      "C:\\Program Files\\Anaconda3\\lib\\site-packages\\qinfer\\smc.py:285: ApproximationWarning: Extremely small n_ess encountered (1.0000000000034954). Resampling is likely to fail. Consider adding particles, or resampling more often.\n",
      "  ApproximationWarning\n"
     ]
    },
    {
     "name": "stdout",
     "output_type": "stream",
     "text": [
      "LogTotLikelihoods updated\n",
      "LogTotLikelihoods updated\n"
     ]
    },
    {
     "name": "stderr",
     "output_type": "stream",
     "text": [
      "C:\\Program Files\\Anaconda3\\lib\\site-packages\\qinfer\\smc.py:285: ApproximationWarning: Extremely small n_ess encountered (1.8999842481244977). Resampling is likely to fail. Consider adding particles, or resampling more often.\n",
      "  ApproximationWarning\n"
     ]
    },
    {
     "name": "stdout",
     "output_type": "stream",
     "text": [
      "LogTotLikelihoods updated\n"
     ]
    },
    {
     "name": "stderr",
     "output_type": "stream",
     "text": [
      "C:\\Program Files\\Anaconda3\\lib\\site-packages\\qinfer\\smc.py:285: ApproximationWarning: Extremely small n_ess encountered (1.155089256882974). Resampling is likely to fail. Consider adding particles, or resampling more often.\n",
      "  ApproximationWarning\n"
     ]
    },
    {
     "name": "stdout",
     "output_type": "stream",
     "text": [
      "LogTotLikelihoods updated\n"
     ]
    },
    {
     "name": "stderr",
     "output_type": "stream",
     "text": [
      "C:\\Program Files\\Anaconda3\\lib\\site-packages\\qinfer\\smc.py:285: ApproximationWarning: Extremely small n_ess encountered (6.2595990539629005). Resampling is likely to fail. Consider adding particles, or resampling more often.\n",
      "  ApproximationWarning\n"
     ]
    },
    {
     "name": "stdout",
     "output_type": "stream",
     "text": [
      "LogTotLikelihoods updated\n",
      "Total elapsed time for Bayes factor update: 218.1373062741186\n"
     ]
    }
   ],
   "source": [
    "nruns = 100\n",
    "pool_len = 30\n",
    "max_expnum = 100\n",
    "\n",
    "collectTrueOpList = []\n",
    "collectTrueNames = []\n",
    "collectTrueParams = []\n",
    "\n",
    "collectEstimParams = []\n",
    "\n",
    "collectKfactorsDict = []\n",
    "collectLogL = []\n",
    "\n",
    "\n",
    "for run in range(nruns):\n",
    "    modeltest = qmd.ModelsDevelopmentClass(7, lst)\n",
    "    collectTrueOpList.append(modeltest.TrueOpList)\n",
    "    collectTrueNames.append(modeltest.TrueNames)\n",
    "    \n",
    "    modeltest.InitialiseAllActiveModels()\n",
    "    \n",
    "    collectTrueParams.append(modeltest.TrueParamsList)\n",
    "    \n",
    "    start=time.clock()\n",
    "    modeltest.UpdateAllActiveModels(expnum=max_expnum)\n",
    "    end=time.clock()\n",
    "    print('Total elapsed time for the learning process: ' + str(end-start))\n",
    "    \n",
    "    \n",
    "    collectEstimParams.append([modeltest.ModelsList[i].NewEval for i in range(len(modeltest.ModelsList)) ])\n",
    "    \n",
    "    tpool = modeltest.DataPool(pool_len)\n",
    "    \n",
    "    start=time.clock()\n",
    "    modeltest.UpdateAllLogLikelihoods(tpool)\n",
    "    end=time.clock()\n",
    "    print('Total elapsed time for Bayes factor update: ' + str(end-start))\n",
    "    \n",
    "    collectKfactorsDict.append(modeltest.ComputeAllBayesFactors(fromLogL = True))\n",
    "    \n",
    "    collectLogL.append([modeltest.ModelsList[i].KLogTotLikelihood for i in range(len(modeltest.ModelsList)) ])\n",
    "    "
   ]
  },
  {
   "cell_type": "code",
   "execution_count": 44,
   "metadata": {
    "collapsed": false
   },
   "outputs": [
    {
     "data": {
      "text/plain": [
       "array([[ 0.72882266,  0.19865418]])"
      ]
     },
     "execution_count": 44,
     "metadata": {},
     "output_type": "execute_result"
    }
   ],
   "source": [
    "modeltest = qmd.ModelsDevelopmentClass(7, lst)\n",
    "modeltest.TrueParamsList"
   ]
  },
  {
   "cell_type": "markdown",
   "metadata": {},
   "source": [
    "## Data export"
   ]
  },
  {
   "cell_type": "code",
   "execution_count": 45,
   "metadata": {
    "collapsed": true
   },
   "outputs": [],
   "source": [
    "import pickle\n",
    "PIK = \"testQMD_QLE_epochs\"+str(max_expnum)+\"pool\"+str(pool_len)+\".dat\""
   ]
  },
  {
   "cell_type": "code",
   "execution_count": 46,
   "metadata": {
    "collapsed": true
   },
   "outputs": [],
   "source": [
    "data = [collectTrueOpList, collectTrueNames, collectTrueParams, collectEstimParams, collectKfactorsDict, collectLogL]\n",
    "with open(PIK, \"wb\") as f:\n",
    "    pickle.dump(data, f)"
   ]
  },
  {
   "cell_type": "markdown",
   "metadata": {},
   "source": [
    "## Data import"
   ]
  },
  {
   "cell_type": "code",
   "execution_count": 728,
   "metadata": {
    "collapsed": true
   },
   "outputs": [],
   "source": [
    "import pickle\n",
    "\n",
    "with open(PIK, \"rb\") as f:\n",
    "    dataold = pickle.load(f)"
   ]
  },
  {
   "cell_type": "markdown",
   "metadata": {},
   "source": [
    "## Overall results \n",
    "#### applying directly the champion rule as the highest BayesFactor"
   ]
  },
  {
   "cell_type": "code",
   "execution_count": 73,
   "metadata": {
    "collapsed": false
   },
   "outputs": [],
   "source": [
    "myModelNames=uti.ModelNamesPauli(modeltest.AvailableModsOpList, uti.PauliNames())"
   ]
  },
  {
   "cell_type": "code",
   "execution_count": 81,
   "metadata": {
    "collapsed": false
   },
   "outputs": [
    {
     "name": "stdout",
     "output_type": "stream",
     "text": [
      "Correctly estimated model in 63.0% of cases\n"
     ]
    }
   ],
   "source": [
    "performance = []\n",
    "for ids in range(100):\n",
    "    performance.append(collectTrueNames[ids][0]==myModelNames[np.argmax(np.array(collectLogL[ids]))])\n",
    "print(\"Correctly estimated model in \" + str(100*sum(performance)/len(performance)) + \"% of cases\")"
   ]
  },
  {
   "cell_type": "markdown",
   "metadata": {},
   "source": [
    "#### check against tournament rule among Bayes Factors"
   ]
  },
  {
   "cell_type": "code",
   "execution_count": 83,
   "metadata": {
    "collapsed": false
   },
   "outputs": [
    {
     "data": {
      "text/plain": [
       "array([ 0.,  1.,  0.,  2.,  0.,  3.,  0.,  4.,  0.,  5.,  0.,  6.,  1.,\n",
       "        0.,  1.,  2.,  1.,  3.,  1.,  4.,  1.,  5.,  1.,  6.,  2.,  0.,\n",
       "        2.,  1.,  2.,  3.,  2.,  4.,  2.,  5.,  2.,  6.,  3.,  0.,  3.,\n",
       "        1.,  3.,  2.,  3.,  4.,  3.,  5.,  3.,  6.,  4.,  0.,  4.,  1.,\n",
       "        4.,  2.,  4.,  3.,  4.,  5.,  4.,  6.,  5.,  0.,  5.,  1.,  5.,\n",
       "        2.,  5.,  3.,  5.,  4.,  5.,  6.,  6.,  0.,  6.,  1.,  6.,  2.,\n",
       "        6.,  3.,  6.,  4.,  6.,  5.])"
      ]
     },
     "execution_count": 83,
     "metadata": {},
     "output_type": "execute_result"
    }
   ],
   "source": [
    "prolst=np.arange(len(modeltest.AvailableModsOpList))\n",
    "\n",
    "prooutlst = np.empty(0)\n",
    "for i in range(len(prolst)):\n",
    "    for j in range(len(prolst)):\n",
    "        if i is not j:\n",
    "            prooutlst = np.append(prooutlst, np.array([prolst[i],prolst[j]]) )\n",
    "prooutlst"
   ]
  },
  {
   "cell_type": "code",
   "execution_count": 125,
   "metadata": {
    "collapsed": false
   },
   "outputs": [],
   "source": [
    "threshold = 1 #10**(30)\n",
    "\n",
    "def findWinners(modelNames, proBayesFactorsList):\n",
    "    proBayesFactorNames=[]\n",
    "    for i in range(int(len(prooutlst)/2)):\n",
    "        proBayesFactorNames.append(\"\")\n",
    "        if proBayesFactorsList[i] > threshold:\n",
    "            proBayesFactorNames[-1]= str(modelNames[int(prooutlst[2*i])])\n",
    "        elif proBayesFactorsList[i] < 1/threshold:\n",
    "            proBayesFactorNames[-1]= str(modelNames[int(prooutlst[2*i+1])])\n",
    "            \n",
    "    return(proBayesFactorNames)"
   ]
  },
  {
   "cell_type": "code",
   "execution_count": 126,
   "metadata": {
    "collapsed": true
   },
   "outputs": [],
   "source": [
    "def ChampbyTourn(modelNames, collectLogL_single):\n",
    "    proBayesFactorsList=[]\n",
    "    for i in range(int(len(prooutlst)/2)):\n",
    "        proBayesFactorsList.append(bayf.BayesFactorfromLogL(collectLogL_single[int(prooutlst[2*i])], collectLogL_single[int(prooutlst[2*i+1])] ))\n",
    "    \n",
    "    proBayesFactorNames = findWinners(modelNames, proBayesFactorsList)\n",
    "    \n",
    "    wincount = np.array(list((map(lambda testmodel: proBayesFactorNames.count(testmodel), modelNames))))\n",
    "    winner = modelNames[np.argmax(wincount)]\n",
    "    \n",
    "    return(winner)"
   ]
  },
  {
   "cell_type": "code",
   "execution_count": 127,
   "metadata": {
    "collapsed": false
   },
   "outputs": [
    {
     "name": "stdout",
     "output_type": "stream",
     "text": [
      "Correctly estimated model in 63.0% of cases\n"
     ]
    }
   ],
   "source": [
    "performance = []\n",
    "for ids in range(100):\n",
    "    performance.append(collectTrueNames[ids][0]== ChampbyTourn(myModelNames, collectLogL[ids]) )\n",
    "print(\"Correctly estimated model in \" + str(100*sum(performance)/len(performance)) + \"% of cases\")"
   ]
  },
  {
   "cell_type": "markdown",
   "metadata": {},
   "source": [
    "### Interpreting failures"
   ]
  },
  {
   "cell_type": "code",
   "execution_count": 368,
   "metadata": {
    "collapsed": false
   },
   "outputs": [
    {
     "data": {
      "text/html": [
       "<div>\n",
       "<table border=\"1\" class=\"dataframe\">\n",
       "  <thead>\n",
       "    <tr style=\"text-align: right;\">\n",
       "      <th></th>\n",
       "      <th>1op</th>\n",
       "      <th>2op</th>\n",
       "      <th>3op</th>\n",
       "    </tr>\n",
       "  </thead>\n",
       "  <tbody>\n",
       "    <tr>\n",
       "      <th>Failure Rate</th>\n",
       "      <td>0.0</td>\n",
       "      <td>0.0</td>\n",
       "      <td>0.0</td>\n",
       "    </tr>\n",
       "    <tr>\n",
       "      <th>Failed with 1 extra operator</th>\n",
       "      <td>0.0</td>\n",
       "      <td>0.0</td>\n",
       "      <td>0.0</td>\n",
       "    </tr>\n",
       "    <tr>\n",
       "      <th>Failed with 1 less operator</th>\n",
       "      <td>0.0</td>\n",
       "      <td>0.0</td>\n",
       "      <td>0.0</td>\n",
       "    </tr>\n",
       "  </tbody>\n",
       "</table>\n",
       "</div>"
      ],
      "text/plain": [
       "                              1op  2op  3op\n",
       "Failure Rate                  0.0  0.0  0.0\n",
       "Failed with 1 extra operator  0.0  0.0  0.0\n",
       "Failed with 1 less operator   0.0  0.0  0.0"
      ]
     },
     "execution_count": 368,
     "metadata": {},
     "output_type": "execute_result"
    }
   ],
   "source": [
    "import pandas as pd\n",
    "perf_metrics=[\"Failure Rate\", \"Failed with 1 extra operator\", \"Failed with 1 less operator\"]\n",
    "n_ops = [\"1op\", \"2op\", \"3op\"]\n",
    "output_df = pd.DataFrame(np.zeros([len(perf_metrics),len(n_ops)],dtype='float32'), index=perf_metrics, columns=n_ops)\n",
    "output_df"
   ]
  },
  {
   "cell_type": "code",
   "execution_count": 369,
   "metadata": {
    "collapsed": false
   },
   "outputs": [
    {
     "data": {
      "text/html": [
       "<div>\n",
       "<table border=\"1\" class=\"dataframe\">\n",
       "  <thead>\n",
       "    <tr style=\"text-align: right;\">\n",
       "      <th></th>\n",
       "      <th>sx_</th>\n",
       "      <th>sy_</th>\n",
       "      <th>sz_</th>\n",
       "      <th>sy_sx_</th>\n",
       "      <th>sz_sx_</th>\n",
       "      <th>sy_sz_</th>\n",
       "      <th>sy_sz_sx_</th>\n",
       "    </tr>\n",
       "  </thead>\n",
       "  <tbody>\n",
       "    <tr>\n",
       "      <th>sx_</th>\n",
       "      <td>0.0</td>\n",
       "      <td>0.0</td>\n",
       "      <td>0.0</td>\n",
       "      <td>0.0</td>\n",
       "      <td>0.0</td>\n",
       "      <td>0.0</td>\n",
       "      <td>0.0</td>\n",
       "    </tr>\n",
       "    <tr>\n",
       "      <th>sy_</th>\n",
       "      <td>0.0</td>\n",
       "      <td>0.0</td>\n",
       "      <td>0.0</td>\n",
       "      <td>0.0</td>\n",
       "      <td>0.0</td>\n",
       "      <td>0.0</td>\n",
       "      <td>0.0</td>\n",
       "    </tr>\n",
       "    <tr>\n",
       "      <th>sz_</th>\n",
       "      <td>0.0</td>\n",
       "      <td>0.0</td>\n",
       "      <td>0.0</td>\n",
       "      <td>0.0</td>\n",
       "      <td>0.0</td>\n",
       "      <td>0.0</td>\n",
       "      <td>0.0</td>\n",
       "    </tr>\n",
       "    <tr>\n",
       "      <th>sy_sx_</th>\n",
       "      <td>0.0</td>\n",
       "      <td>0.0</td>\n",
       "      <td>0.0</td>\n",
       "      <td>0.0</td>\n",
       "      <td>0.0</td>\n",
       "      <td>0.0</td>\n",
       "      <td>0.0</td>\n",
       "    </tr>\n",
       "    <tr>\n",
       "      <th>sz_sx_</th>\n",
       "      <td>0.0</td>\n",
       "      <td>0.0</td>\n",
       "      <td>0.0</td>\n",
       "      <td>0.0</td>\n",
       "      <td>0.0</td>\n",
       "      <td>0.0</td>\n",
       "      <td>0.0</td>\n",
       "    </tr>\n",
       "    <tr>\n",
       "      <th>sy_sz_</th>\n",
       "      <td>0.0</td>\n",
       "      <td>0.0</td>\n",
       "      <td>0.0</td>\n",
       "      <td>0.0</td>\n",
       "      <td>0.0</td>\n",
       "      <td>0.0</td>\n",
       "      <td>0.0</td>\n",
       "    </tr>\n",
       "    <tr>\n",
       "      <th>sy_sz_sx_</th>\n",
       "      <td>0.0</td>\n",
       "      <td>0.0</td>\n",
       "      <td>0.0</td>\n",
       "      <td>0.0</td>\n",
       "      <td>0.0</td>\n",
       "      <td>0.0</td>\n",
       "      <td>0.0</td>\n",
       "    </tr>\n",
       "  </tbody>\n",
       "</table>\n",
       "</div>"
      ],
      "text/plain": [
       "           sx_  sy_  sz_  sy_sx_  sz_sx_  sy_sz_  sy_sz_sx_\n",
       "sx_        0.0  0.0  0.0     0.0     0.0     0.0        0.0\n",
       "sy_        0.0  0.0  0.0     0.0     0.0     0.0        0.0\n",
       "sz_        0.0  0.0  0.0     0.0     0.0     0.0        0.0\n",
       "sy_sx_     0.0  0.0  0.0     0.0     0.0     0.0        0.0\n",
       "sz_sx_     0.0  0.0  0.0     0.0     0.0     0.0        0.0\n",
       "sy_sz_     0.0  0.0  0.0     0.0     0.0     0.0        0.0\n",
       "sy_sz_sx_  0.0  0.0  0.0     0.0     0.0     0.0        0.0"
      ]
     },
     "execution_count": 369,
     "metadata": {},
     "output_type": "execute_result"
    }
   ],
   "source": [
    "true_mods = myModelNames\n",
    "est_mods = myModelNames\n",
    "detail_df = pd.DataFrame(np.zeros([len(est_mods),len(true_mods)],dtype='float32'), index=true_mods, columns=est_mods)\n",
    "detail_df"
   ]
  },
  {
   "cell_type": "code",
   "execution_count": 370,
   "metadata": {
    "collapsed": false,
    "scrolled": true
   },
   "outputs": [
    {
     "name": "stdout",
     "output_type": "stream",
     "text": [
      "True model: sy_sz_sx_\tbut estimated model: sy_sx_\n",
      "True model: sy_sz_sx_\tbut estimated model: sx_\n",
      "True model: sy_sz_sx_\tbut estimated model: sy_sx_\n",
      "True model: sx_\tbut estimated model: sz_sx_\n",
      "True model: sy_sz_\tbut estimated model: sy_sz_sx_\n",
      "True model: sz_\tbut estimated model: sy_sz_\n",
      "True model: sy_sz_sx_\tbut estimated model: sz_sx_\n",
      "True model: sy_sz_sx_\tbut estimated model: sy_sz_\n",
      "True model: sx_\tbut estimated model: sz_sx_\n",
      "True model: sy_sx_\tbut estimated model: sy_sz_sx_\n",
      "True model: sy_sx_\tbut estimated model: sy_sz_sx_\n",
      "True model: sy_sz_sx_\tbut estimated model: sy_sz_\n",
      "True model: sy_sx_\tbut estimated model: sy_sz_sx_\n",
      "True model: sy_sz_sx_\tbut estimated model: sx_\n",
      "True model: sy_sx_\tbut estimated model: sy_sz_sx_\n",
      "True model: sz_sx_\tbut estimated model: sy_sz_sx_\n",
      "True model: sx_\tbut estimated model: sy_sx_\n",
      "True model: sz_\tbut estimated model: sy_sz_\n",
      "True model: sy_sz_sx_\tbut estimated model: sx_\n",
      "True model: sx_\tbut estimated model: sz_sx_\n",
      "True model: sy_sz_sx_\tbut estimated model: sy_sz_\n",
      "True model: sy_sz_sx_\tbut estimated model: sz_sx_\n",
      "True model: sy_sz_sx_\tbut estimated model: sx_\n",
      "True model: sz_sx_\tbut estimated model: sy_sz_\n",
      "True model: sy_sx_\tbut estimated model: sx_\n",
      "True model: sy_sz_sx_\tbut estimated model: sy_sx_\n",
      "True model: sx_\tbut estimated model: sz_sx_\n",
      "True model: sy_sz_sx_\tbut estimated model: sy_sx_\n",
      "True model: sz_sx_\tbut estimated model: sy_sz_sx_\n",
      "True model: sy_sz_sx_\tbut estimated model: sx_\n",
      "True model: sy_sz_sx_\tbut estimated model: sy_\n",
      "True model: sx_\tbut estimated model: sz_sx_\n",
      "True model: sy_sz_sx_\tbut estimated model: sy_sx_\n",
      "True model: sy_sz_sx_\tbut estimated model: sz_\n",
      "True model: sy_sx_\tbut estimated model: sy_sz_\n",
      "True model: sy_sz_sx_\tbut estimated model: sz_sx_\n",
      "True model: sy_sz_sx_\tbut estimated model: sy_sx_\n"
     ]
    }
   ],
   "source": [
    "length_test_mods = []\n",
    "length_fail_mods = []\n",
    "more_complex_fails = []\n",
    "model_lengths = 3\n",
    "\n",
    "for ids in range(100):\n",
    "    est_name = str(myModelNames[np.argmax(np.array(collectLogL[ids]))])\n",
    "    true_name = str(collectTrueNames[ids][0])\n",
    "    est_ops = est_name.split(\"_\")[0:-1]\n",
    "    true_ops = true_name.split(\"_\")[0:-1]\n",
    "    length_test_mods.append(int(len(true_name)/model_lengths))\n",
    "    \n",
    "    detail_df.loc[true_name, est_name] += 1\n",
    "    \n",
    "    if true_name != est_name:\n",
    "        length_fail_mods.append(int(len(true_name)/model_lengths))\n",
    "        \n",
    "        if (set(est_ops)>set(true_ops)) and (len(est_ops)==len(true_ops)+1):\n",
    "            output_df.loc[\"Failed with 1 extra operator\",str(length_fail_mods[-1])+\"op\"] += 1\n",
    "            \n",
    "        if (set(true_ops)>set(est_ops)) and (len(true_ops)==len(est_ops)+1):\n",
    "            output_df.loc[\"Failed with 1 less operator\",str(length_fail_mods[-1])+\"op\"] += 1\n",
    "        \n",
    "        print(\"True model: \" + true_name + \n",
    "              #\"\\twith True params: \" + str(collectTrueParams[ids]) +\n",
    "              \"\\tbut estimated model: \" + est_name)"
   ]
  },
  {
   "cell_type": "code",
   "execution_count": 371,
   "metadata": {
    "collapsed": false
   },
   "outputs": [],
   "source": [
    "for mod_len in range(3):\n",
    "    opstep = str(mod_len+1)+\"op\"\n",
    "    rate = length_fail_mods.count(mod_len+1)\n",
    "    output_df[opstep][0] = rate\n",
    "    output_df[opstep][:] /= length_test_mods.count(mod_len+1)\n",
    "    "
   ]
  },
  {
   "cell_type": "code",
   "execution_count": 372,
   "metadata": {
    "collapsed": false
   },
   "outputs": [
    {
     "data": {
      "text/html": [
       "<div>\n",
       "<table border=\"1\" class=\"dataframe\">\n",
       "  <thead>\n",
       "    <tr style=\"text-align: right;\">\n",
       "      <th></th>\n",
       "      <th>1op</th>\n",
       "      <th>2op</th>\n",
       "      <th>3op</th>\n",
       "    </tr>\n",
       "  </thead>\n",
       "  <tbody>\n",
       "    <tr>\n",
       "      <th>Failure Rate</th>\n",
       "      <td>0.242424</td>\n",
       "      <td>0.285714</td>\n",
       "      <td>0.59375</td>\n",
       "    </tr>\n",
       "    <tr>\n",
       "      <th>Failed with 1 extra operator</th>\n",
       "      <td>0.242424</td>\n",
       "      <td>0.200000</td>\n",
       "      <td>0.00000</td>\n",
       "    </tr>\n",
       "    <tr>\n",
       "      <th>Failed with 1 less operator</th>\n",
       "      <td>0.000000</td>\n",
       "      <td>0.028571</td>\n",
       "      <td>0.37500</td>\n",
       "    </tr>\n",
       "  </tbody>\n",
       "</table>\n",
       "</div>"
      ],
      "text/plain": [
       "                                   1op       2op      3op\n",
       "Failure Rate                  0.242424  0.285714  0.59375\n",
       "Failed with 1 extra operator  0.242424  0.200000  0.00000\n",
       "Failed with 1 less operator   0.000000  0.028571  0.37500"
      ]
     },
     "execution_count": 372,
     "metadata": {},
     "output_type": "execute_result"
    }
   ],
   "source": [
    "output_df"
   ]
  },
  {
   "cell_type": "code",
   "execution_count": 373,
   "metadata": {
    "collapsed": false
   },
   "outputs": [
    {
     "data": {
      "text/html": [
       "<div>\n",
       "<table border=\"1\" class=\"dataframe\">\n",
       "  <thead>\n",
       "    <tr style=\"text-align: right;\">\n",
       "      <th></th>\n",
       "      <th>sx_</th>\n",
       "      <th>sy_</th>\n",
       "      <th>sz_</th>\n",
       "      <th>sy_sx_</th>\n",
       "      <th>sz_sx_</th>\n",
       "      <th>sy_sz_</th>\n",
       "      <th>sy_sz_sx_</th>\n",
       "    </tr>\n",
       "  </thead>\n",
       "  <tbody>\n",
       "    <tr>\n",
       "      <th>sx_</th>\n",
       "      <td>4.0</td>\n",
       "      <td>0.0</td>\n",
       "      <td>0.0</td>\n",
       "      <td>1.0</td>\n",
       "      <td>5.0</td>\n",
       "      <td>0.0</td>\n",
       "      <td>0.0</td>\n",
       "    </tr>\n",
       "    <tr>\n",
       "      <th>sy_</th>\n",
       "      <td>0.0</td>\n",
       "      <td>14.0</td>\n",
       "      <td>0.0</td>\n",
       "      <td>0.0</td>\n",
       "      <td>0.0</td>\n",
       "      <td>0.0</td>\n",
       "      <td>0.0</td>\n",
       "    </tr>\n",
       "    <tr>\n",
       "      <th>sz_</th>\n",
       "      <td>0.0</td>\n",
       "      <td>0.0</td>\n",
       "      <td>7.0</td>\n",
       "      <td>0.0</td>\n",
       "      <td>0.0</td>\n",
       "      <td>2.0</td>\n",
       "      <td>0.0</td>\n",
       "    </tr>\n",
       "    <tr>\n",
       "      <th>sy_sx_</th>\n",
       "      <td>1.0</td>\n",
       "      <td>0.0</td>\n",
       "      <td>0.0</td>\n",
       "      <td>7.0</td>\n",
       "      <td>0.0</td>\n",
       "      <td>1.0</td>\n",
       "      <td>4.0</td>\n",
       "    </tr>\n",
       "    <tr>\n",
       "      <th>sz_sx_</th>\n",
       "      <td>0.0</td>\n",
       "      <td>0.0</td>\n",
       "      <td>0.0</td>\n",
       "      <td>0.0</td>\n",
       "      <td>6.0</td>\n",
       "      <td>1.0</td>\n",
       "      <td>2.0</td>\n",
       "    </tr>\n",
       "    <tr>\n",
       "      <th>sy_sz_</th>\n",
       "      <td>0.0</td>\n",
       "      <td>0.0</td>\n",
       "      <td>0.0</td>\n",
       "      <td>0.0</td>\n",
       "      <td>0.0</td>\n",
       "      <td>12.0</td>\n",
       "      <td>1.0</td>\n",
       "    </tr>\n",
       "    <tr>\n",
       "      <th>sy_sz_sx_</th>\n",
       "      <td>5.0</td>\n",
       "      <td>1.0</td>\n",
       "      <td>1.0</td>\n",
       "      <td>6.0</td>\n",
       "      <td>3.0</td>\n",
       "      <td>3.0</td>\n",
       "      <td>13.0</td>\n",
       "    </tr>\n",
       "  </tbody>\n",
       "</table>\n",
       "</div>"
      ],
      "text/plain": [
       "           sx_   sy_  sz_  sy_sx_  sz_sx_  sy_sz_  sy_sz_sx_\n",
       "sx_        4.0   0.0  0.0     1.0     5.0     0.0        0.0\n",
       "sy_        0.0  14.0  0.0     0.0     0.0     0.0        0.0\n",
       "sz_        0.0   0.0  7.0     0.0     0.0     2.0        0.0\n",
       "sy_sx_     1.0   0.0  0.0     7.0     0.0     1.0        4.0\n",
       "sz_sx_     0.0   0.0  0.0     0.0     6.0     1.0        2.0\n",
       "sy_sz_     0.0   0.0  0.0     0.0     0.0    12.0        1.0\n",
       "sy_sz_sx_  5.0   1.0  1.0     6.0     3.0     3.0       13.0"
      ]
     },
     "execution_count": 373,
     "metadata": {},
     "output_type": "execute_result"
    }
   ],
   "source": [
    "detail_df"
   ]
  },
  {
   "cell_type": "markdown",
   "metadata": {},
   "source": [
    "### Step-by-step checking"
   ]
  },
  {
   "cell_type": "code",
   "execution_count": 128,
   "metadata": {
    "collapsed": false
   },
   "outputs": [
    {
     "name": "stdout",
     "output_type": "stream",
     "text": [
      "True model: 'sz_sx_'\n"
     ]
    }
   ],
   "source": [
    "ids = 0\n",
    "print(\"True model: \" + repr(collectTrueNames[ids][0]))"
   ]
  },
  {
   "cell_type": "code",
   "execution_count": 138,
   "metadata": {
    "collapsed": false
   },
   "outputs": [
    {
     "name": "stdout",
     "output_type": "stream",
     "text": [
      "Best model found by Likelihood Max: 'sz_sx_'\n"
     ]
    }
   ],
   "source": [
    "print(\"Best model found by Likelihood Max: \" + repr(myModelNames[np.argmax(np.array(collectLogL[ids]))]) )"
   ]
  },
  {
   "cell_type": "code",
   "execution_count": 140,
   "metadata": {
    "collapsed": false
   },
   "outputs": [
    {
     "name": "stdout",
     "output_type": "stream",
     "text": [
      "Best model found by Tournament: 'sz_sx_'\n"
     ]
    }
   ],
   "source": [
    "print(\"Best model found by Tournament: \" + repr(ChampbyTourn(myModelNames, collectLogL[ids])))"
   ]
  },
  {
   "cell_type": "code",
   "execution_count": 130,
   "metadata": {
    "collapsed": false
   },
   "outputs": [
    {
     "data": {
      "text/plain": [
       "array([[ 0.51707507,  0.29320623]])"
      ]
     },
     "execution_count": 130,
     "metadata": {},
     "output_type": "execute_result"
    }
   ],
   "source": [
    "collectTrueParams[ids]"
   ]
  },
  {
   "cell_type": "code",
   "execution_count": 134,
   "metadata": {
    "collapsed": false
   },
   "outputs": [
    {
     "data": {
      "text/plain": [
       "[array([ 0.03783763]),\n",
       " array([-0.2476092]),\n",
       " array([ 0.09036134]),\n",
       " array([ 0.31792165,  0.04013711]),\n",
       " array([ 0.82316908,  0.51020887]),\n",
       " array([-0.34350552,  0.28836693]),\n",
       " array([ 0.53932834, -0.17918401,  0.95925429])]"
      ]
     },
     "execution_count": 134,
     "metadata": {},
     "output_type": "execute_result"
    }
   ],
   "source": [
    "collectEstimParams[ids]"
   ]
  },
  {
   "cell_type": "code",
   "execution_count": 135,
   "metadata": {
    "collapsed": false
   },
   "outputs": [
    {
     "data": {
      "text/plain": [
       "array([[ 0.29320623+0.j,  0.51707507+0.j],\n",
       "       [ 0.51707507+0.j, -0.29320623+0.j]])"
      ]
     },
     "execution_count": 135,
     "metadata": {},
     "output_type": "execute_result"
    }
   ],
   "source": [
    "evo.getH(collectTrueParams[ids], collectTrueOpList[ids])"
   ]
  },
  {
   "cell_type": "code",
   "execution_count": 136,
   "metadata": {
    "collapsed": false
   },
   "outputs": [
    {
     "data": {
      "text/plain": [
       "[-400.41067247020612,\n",
       " -425.74206272176707,\n",
       " -1031.3307759135796,\n",
       " -231.21195917491445,\n",
       " -135.32523752936802,\n",
       " -362.08848718087978,\n",
       " -336.58109053962932]"
      ]
     },
     "execution_count": 136,
     "metadata": {},
     "output_type": "execute_result"
    }
   ],
   "source": [
    "collectLogL[ids]"
   ]
  },
  {
   "cell_type": "code",
   "execution_count": 137,
   "metadata": {
    "collapsed": false,
    "scrolled": true
   },
   "outputs": [
    {
     "data": {
      "text/plain": [
       "{\"['sx_']VS['sy_']\": 100295859666.0164,\n",
       " \"['sx_']VS['sy_sx_']\": 0.0,\n",
       " \"['sx_']VS['sy_sz_']\": 0.0,\n",
       " \"['sx_']VS['sy_sz_sx_']\": 0.0,\n",
       " \"['sx_']VS['sz_']\": 1.0118577148488023e+274,\n",
       " \"['sx_']VS['sz_sx_']\": 0.0,\n",
       " \"['sy_']VS['sx_']\": 9.9704688949486808e-12,\n",
       " \"['sy_']VS['sy_sx_']\": 0.0,\n",
       " \"['sy_']VS['sy_sz_']\": 0.0,\n",
       " \"['sy_']VS['sy_sz_sx_']\": 0.0,\n",
       " \"['sy_']VS['sz_']\": 1.0088728669541018e+263,\n",
       " \"['sy_']VS['sz_sx_']\": 0.0,\n",
       " \"['sy_sx_']VS['sx_']\": 3.0343629663868174e+73,\n",
       " \"['sy_sx_']VS['sy_']\": 3.0433404225248947e+84,\n",
       " \"['sy_sx_']VS['sy_sz_']\": 6.901665769238503e+56,\n",
       " \"['sy_sx_']VS['sy_sz_sx_']\": 5.7707507227335888e+45,\n",
       " \"['sy_sx_']VS['sz_']\": inf,\n",
       " \"['sy_sx_']VS['sz_sx_']\": 0.0,\n",
       " \"['sy_sz_']VS['sx_']\": 43965660868587880.0,\n",
       " \"['sy_sz_']VS['sy_']\": 4.409573752599559e+27,\n",
       " \"['sy_sz_']VS['sy_sx_']\": 0.0,\n",
       " \"['sy_sz_']VS['sy_sz_sx_']\": 8.3614226653594415e-12,\n",
       " \"['sy_sz_']VS['sz_']\": 4.4486993138304217e+290,\n",
       " \"['sy_sz_']VS['sz_sx_']\": 0.0,\n",
       " \"['sy_sz_sx_']VS['sx_']\": 5.2581771630389327e+27,\n",
       " \"['sy_sz_sx_']VS['sy_']\": 5.2737339884320509e+38,\n",
       " \"['sy_sz_sx_']VS['sy_sx_']\": 0.0,\n",
       " \"['sy_sz_sx_']VS['sy_sz_']\": 119597364378.42879,\n",
       " \"['sy_sz_sx_']VS['sz_']\": 5.3205271284630354e+301,\n",
       " \"['sy_sz_sx_']VS['sz_sx_']\": 0.0,\n",
       " \"['sz_']VS['sx_']\": 0.0,\n",
       " \"['sz_']VS['sy_']\": 0.0,\n",
       " \"['sz_']VS['sy_sx_']\": 0.0,\n",
       " \"['sz_']VS['sy_sz_']\": 0.0,\n",
       " \"['sz_']VS['sy_sz_sx_']\": 0.0,\n",
       " \"['sz_']VS['sz_sx_']\": 0.0,\n",
       " \"['sz_sx_']VS['sx_']\": 1.3339563776185255e+115,\n",
       " \"['sz_sx_']VS['sy_']\": 1.3379030165021522e+126,\n",
       " \"['sz_sx_']VS['sy_sx_']\": 4.3961661554514114e+41,\n",
       " \"['sz_sx_']VS['sy_sz_']\": 3.0340869470963843e+98,\n",
       " \"['sz_sx_']VS['sy_sz_sx_']\": 2.5369179018828174e+87,\n",
       " \"['sz_sx_']VS['sz_']\": inf}"
      ]
     },
     "execution_count": 137,
     "metadata": {},
     "output_type": "execute_result"
    }
   ],
   "source": [
    "collectKfactorsDict[ids]"
   ]
  }
 ],
 "metadata": {
  "anaconda-cloud": {},
  "kernelspec": {
   "display_name": "Python [conda root]",
   "language": "python",
   "name": "conda-root-py"
  },
  "language_info": {
   "codemirror_mode": {
    "name": "ipython",
    "version": 3
   },
   "file_extension": ".py",
   "mimetype": "text/x-python",
   "name": "python",
   "nbconvert_exporter": "python",
   "pygments_lexer": "ipython3",
   "version": "3.5.2"
  }
 },
 "nbformat": 4,
 "nbformat_minor": 0
}
