{
 "cells": [
  {
   "cell_type": "markdown",
   "metadata": {},
   "source": [
    "### Possible improvements:\n",
    "1) check \"choose_prob\" method for useless calls, as they rely on the slow np.linalg library\n",
    "\n",
    "2) consider improving Pr0fromScipy calls (eventually re/move the dimensional check from there)\n",
    "\n",
    "3) performances for 2+ parameters are poor if Trotterization is OFF... reason not yet clear\n",
    "\n",
    "..."
   ]
  },
  {
   "cell_type": "code",
   "execution_count": 18,
   "metadata": {
    "collapsed": false
   },
   "outputs": [],
   "source": [
    "%matplotlib inline\n",
    "\n",
    "import qinfer as qi\n",
    "#import qutip as qt\n",
    "import numpy as np\n",
    "import scipy as sp\n",
    "from IPython.display import display, Math, Latex\n",
    "from functools import partial\n",
    "import matplotlib.pyplot as plt\n",
    "import importlib as imp"
   ]
  },
  {
   "cell_type": "code",
   "execution_count": 19,
   "metadata": {
    "collapsed": true
   },
   "outputs": [],
   "source": [
    "import datetime\n",
    "import os as os\n",
    "import time as time"
   ]
  },
  {
   "cell_type": "code",
   "execution_count": 20,
   "metadata": {
    "collapsed": false
   },
   "outputs": [],
   "source": [
    "import logging as logging\n",
    "import sys\n",
    "\n",
    "%run LoggingCode.py"
   ]
  },
  {
   "cell_type": "code",
   "execution_count": 21,
   "metadata": {
    "collapsed": false
   },
   "outputs": [
    {
     "name": "stdout",
     "output_type": "stream",
     "text": [
      "Files will be saved in:\n",
      "C:\\Users\\ag15141\\Local Documents\\Cloud\\Dropbox (Qsim)\\Projects\\CU4 chip\\QHLandD\\MultiPar_GenSim cleanup\\tests\\T\n"
     ]
    }
   ],
   "source": [
    "# tell the user where files will be saved\n",
    "dire = os.getcwd()\n",
    "dire = dire+\"/tests/T\"\n",
    "dire = os.path.normpath(dire)\n",
    "print('Files will be saved in:')\n",
    "print(dire)"
   ]
  },
  {
   "cell_type": "code",
   "execution_count": 22,
   "metadata": {
    "collapsed": false
   },
   "outputs": [],
   "source": [
    "from Norms import *\n",
    "from IOfuncts import *\n",
    "from EvalLoss import *\n",
    "\n",
    "import ProbeStates as pros\n",
    "import multiPGH as mpgh\n",
    "import GenSim_IQLE as gsi\n",
    "import Evo as evo"
   ]
  },
  {
   "cell_type": "code",
   "execution_count": 23,
   "metadata": {
    "collapsed": false
   },
   "outputs": [
    {
     "data": {
      "text/plain": [
       "<module 'Evo' from 'C:\\\\Users\\\\ag15141\\\\Local Documents\\\\Cloud\\\\Dropbox (Qsim)\\\\Projects\\\\CU4 chip\\\\QHLandD\\\\MultiPar_GenSim cleanup\\\\Evo.py'>"
      ]
     },
     "execution_count": 23,
     "metadata": {},
     "output_type": "execute_result"
    }
   ],
   "source": [
    "imp.reload(pros)\n",
    "imp.reload(mpgh)\n",
    "imp.reload(gsi)\n",
    "imp.reload(evo)"
   ]
  },
  {
   "cell_type": "markdown",
   "metadata": {},
   "source": [
    "# Results from trivial step-by-step implementation in 2 parameters case\n"
   ]
  },
  {
   "cell_type": "code",
   "execution_count": 44,
   "metadata": {
    "collapsed": false
   },
   "outputs": [
    {
     "name": "stdout",
     "output_type": "stream",
     "text": [
      "Oplist: array([[[ 1.,  0.],\n",
      "        [ 0., -1.]]])\n",
      "Chosen true_params: [[ 0.7]]\n",
      "Chosen probestate: [ 0.70710678  0.70710678]\n",
      "Inversion fields are: ['w_1']\n",
      "Heuristic output:array([(6.6531707422227155, 0.4507630698018188)], \n",
      "      dtype=[('t', '<f8'), ('w_1', '<f8')])\n",
      "Initialization Ready\n"
     ]
    }
   ],
   "source": [
    "probecounter = 0\n",
    "\n",
    "#oplist=np.array([evo.sigmay(), evo.sigmax()])\n",
    "oplist=np.array([evo.sigmaz()])\n",
    "oplist=np.dot(1.0, oplist)\n",
    "print('Oplist: ' + repr(oplist))\n",
    "\n",
    "#true_params = np.array([[0.3, 0.6]])\n",
    "true_params = np.array([[0.7]])\n",
    "print('Chosen true_params: ' + str(true_params))\n",
    "\n",
    "#Listing eigenvectors\n",
    "# eiglist = pros.list_randomeig(oplist)\n",
    "# eiglist = np.append(eiglist, np.array([1, 0]))\n",
    "# eiglist = np.reshape(eiglist, [len(oplist)+1,2])\n",
    "# print('Chosen probestates: ' + repr(eiglist))\n",
    "\n",
    "#eiglist=sp.absolute(sp.linalg.orth(oplist[0]))\n",
    "#print('Chosen probestates: ' + repr(eiglist))\n",
    "\n",
    "probestate = evo.plus() # np.array([1, 0])\n",
    "# probestate=pros.choose_probe(oplist,true_params)\n",
    "print('Chosen probestate: ' + str(probestate))\n",
    "\n",
    "sigw = 0.3\n",
    "siga = 0.3\n",
    "\n",
    "# prior = qi.MultivariateNormalDistribution(\n",
    "#      [true_params[0, 0] + sigw/3, true_params[0, 1]-siga/3], [[sigw **2, 0], [0, siga **2]])\n",
    "prior = qi.UniformDistribution([0., 1])\n",
    "\n",
    "\n",
    "model = gsi.GenSim_IQLE(oplist=oplist, modelparams=true_params, probecounter = 0, probelist= [probestate], solver='scipy', trotter=True)\n",
    "\n",
    "\n",
    "n_particles = 300\n",
    "n_experiments = 100\n",
    "\n",
    "updater = qi.SMCUpdater(model, n_particles, prior, resample_thresh=0.5, resampler = qi.LiuWestResampler(a=0.95), debug_resampling=True)\n",
    "\n",
    "inv_field = [item[0] for item in model.expparams_dtype[1:] ]\n",
    "print('Inversion fields are: ' + str(inv_field))\n",
    "heuristic = mpgh.multiPGH(updater, oplist, inv_field=inv_field)\n",
    "print('Heuristic output:' + repr(heuristic()))\n",
    "\n",
    "expparams = np.empty((1, ), dtype=model.expparams_dtype)\n",
    "\n",
    "print('Initialization Ready')"
   ]
  },
  {
   "cell_type": "code",
   "execution_count": 45,
   "metadata": {
    "collapsed": false
   },
   "outputs": [
    {
     "name": "stdout",
     "output_type": "stream",
     "text": [
      "Initial time selected > 2.54918702418\n"
     ]
    },
    {
     "name": "stderr",
     "output_type": "stream",
     "text": [
      "qinfer.smc - DEBUG - Resampling changed mean by [ 0.0064331]. Norm change in cov: 0.000324779401046027.\n",
      "qinfer.smc - DEBUG - Resampling changed mean by [ 0.00907568]. Norm change in cov: 0.003943218567128981.\n",
      "qinfer.smc - DEBUG - Resampling changed mean by [ 0.00224645]. Norm change in cov: 1.2712012110949189e-05.\n",
      "qinfer.smc - DEBUG - Resampling changed mean by [-0.00020617]. Norm change in cov: 1.852941808333508e-05.\n",
      "qinfer.smc - DEBUG - Resampling changed mean by [ 0.00042385]. Norm change in cov: 5.218430597914159e-05.\n",
      "qinfer.smc - DEBUG - Resampling changed mean by [ 0.00045658]. Norm change in cov: 2.107480651974969e-05.\n",
      "qinfer.smc - DEBUG - Resampling changed mean by [ 0.00078017]. Norm change in cov: 9.093491376621632e-06.\n",
      "qinfer.smc - DEBUG - Resampling changed mean by [-0.00082642]. Norm change in cov: 5.90791402399482e-06.\n",
      "qinfer.smc - DEBUG - Resampling changed mean by [ 0.00186866]. Norm change in cov: 7.826082685519209e-05.\n",
      "qinfer.smc - DEBUG - Resampling changed mean by [-0.00032647]. Norm change in cov: 1.67259314787227e-06.\n",
      "qinfer.smc - DEBUG - Resampling changed mean by [ -1.38169778e-05]. Norm change in cov: 2.6408990871917837e-07.\n",
      "qinfer.smc - DEBUG - Resampling changed mean by [ 0.00020208]. Norm change in cov: 2.3874033155402152e-06.\n",
      "qinfer.smc - DEBUG - Resampling changed mean by [-0.00024612]. Norm change in cov: 2.091304548756945e-06.\n",
      "qinfer.smc - DEBUG - Resampling changed mean by [  4.47251198e-06]. Norm change in cov: 1.1502958000009222e-06.\n",
      "qinfer.smc - DEBUG - Resampling changed mean by [  1.15204444e-05]. Norm change in cov: 7.467521295767554e-08.\n",
      "qinfer.smc - DEBUG - Resampling changed mean by [ -9.58347786e-05]. Norm change in cov: 1.425189695702933e-07.\n",
      "qinfer.smc - DEBUG - Resampling changed mean by [-0.00015978]. Norm change in cov: 4.4695149403750634e-07.\n",
      "qinfer.smc - DEBUG - Resampling changed mean by [  4.79627180e-05]. Norm change in cov: 1.0880391415613033e-07.\n",
      "qinfer.smc - DEBUG - Resampling changed mean by [  6.75094825e-06]. Norm change in cov: 1.212466610445162e-08.\n",
      "qinfer.smc - DEBUG - Resampling changed mean by [ -2.70247661e-06]. Norm change in cov: 8.042170596134213e-09.\n",
      "qinfer.smc - DEBUG - Resampling changed mean by [ -2.57093851e-06]. Norm change in cov: 2.4583966529156953e-09.\n",
      "qinfer.smc - DEBUG - Resampling changed mean by [ -7.55413712e-07]. Norm change in cov: 2.4261326281305173e-09.\n",
      "qinfer.smc - DEBUG - Resampling changed mean by [  1.21636035e-11]. Norm change in cov: 8.694905906381223e-11.\n",
      "qinfer.smc - DEBUG - Resampling changed mean by [ -1.10321150e-06]. Norm change in cov: 1.781513769838483e-09.\n",
      "qinfer.smc - DEBUG - Resampling changed mean by [ -6.14897102e-06]. Norm change in cov: 4.731941449787058e-09.\n",
      "qinfer.smc - DEBUG - Resampling changed mean by [ -4.41599719e-07]. Norm change in cov: 5.728502117108292e-10.\n",
      "qinfer.smc - DEBUG - Resampling changed mean by [  2.84508302e-07]. Norm change in cov: 8.35914670815896e-12.\n",
      "qinfer.smc - DEBUG - Resampling changed mean by [ -4.74600811e-07]. Norm change in cov: 3.7442271505483404e-12.\n",
      "qinfer.smc - DEBUG - Resampling changed mean by [ -9.58714889e-07]. Norm change in cov: 3.0804359063552056e-11.\n",
      "qinfer.smc - DEBUG - Resampling changed mean by [ -3.84006314e-07]. Norm change in cov: 9.405864975775557e-12.\n"
     ]
    },
    {
     "name": "stdout",
     "output_type": "stream",
     "text": [
      "Final time selected > 235599.416251\n",
      "elapsed time: 18.844020360025752\n"
     ]
    }
   ],
   "source": [
    "# counter timestamp to avoid replacement\n",
    "timestamp = str(datetime.datetime.now()).split('.')[0]\n",
    "timestamp = \"_\"+timestamp.replace(\" \", \"_\")\n",
    "timestamp = timestamp.replace(\":\", \".\")\n",
    "\n",
    "# probecounter for the choice of the state\n",
    "probecounter = 0\n",
    "\n",
    "track_loss = np.empty(n_experiments)\n",
    "track_cov = np.empty(n_experiments)\n",
    "track_time = np.empty(n_experiments)\n",
    "\n",
    "track_particle_locs = np.empty([n_particles, len(true_params[0]), n_experiments])\n",
    "track_particle_wght = np.empty([n_particles, n_experiments])\n",
    "\n",
    "start=time.clock()\n",
    "\n",
    "\n",
    "for idx_experiment in range(n_experiments):\n",
    "    \n",
    "    experiment = heuristic()\n",
    "    #print('Chosen experiment: ' + repr(experiment))\n",
    "    \n",
    "    if idx_experiment == 0:\n",
    "        print('Initial time selected > ' + str(experiment[0][0]))\n",
    "    if idx_experiment == n_experiments-1:\n",
    "        print('Final time selected > ' + str(experiment[0][0]))\n",
    "    \n",
    "    track_time[idx_experiment] = experiment[0][0]\n",
    "    \n",
    "    datum = model.simulate_experiment(true_params, experiment)\n",
    "    #print(repr(datum))\n",
    "    updater.update(datum, experiment)\n",
    "    #heuristic = mpgh.multiPGH(updater, oplist, inv_field=inv_field)\n",
    "    \n",
    "    track_cov[idx_experiment] = np.linalg.norm(updater.est_covariance_mtx())\n",
    "    \n",
    "    track_particle_locs[:, :, idx_experiment] = updater.particle_locations\n",
    "    track_particle_wght[:, idx_experiment] = updater.particle_weights\n",
    "\n",
    "    new_eval = updater.est_mean()\n",
    "    \n",
    "    new_loss = eval_loss(model, new_eval, true_params)\n",
    "    track_loss[idx_experiment] = new_loss[0]\n",
    "    \n",
    "end=time.clock()\n",
    "print('elapsed time: ' + str(end-start))"
   ]
  },
  {
   "cell_type": "code",
   "execution_count": 46,
   "metadata": {
    "collapsed": false
   },
   "outputs": [
    {
     "name": "stdout",
     "output_type": "stream",
     "text": [
      "Files to output:\n",
      "C:\\Users\\ag15141\\Local Documents\\Cloud\\Dropbox (Qsim)\\Projects\\CU4 chip\\QHLandD\\MultiPar_GenSim cleanup\\tests\\T_2017-05-26_16.00.02_Fig_QL_CovNorm_Npars_1_Nexp_100_Nparts_300.pdf\n"
     ]
    },
    {
     "data": {
      "image/png": "[encoded data removed]",
      "text/plain": [
       "<matplotlib.figure.Figure at 0xc5e8748>"
      ]
     },
     "metadata": {},
     "output_type": "display_data"
    }
   ],
   "source": [
    "plt.semilogy(track_loss, label='Q.L.')\n",
    "plt.semilogy(track_cov, label='Cov. Norm.')\n",
    "plt.legend()\n",
    "plt.xlabel('# of Measurements')\n",
    "\n",
    "filename = dire+str(timestamp)+\"_Fig_QL_CovNorm_Npars_\"+str(len(true_params[0]))+\"_Nexp_\"+str(n_experiments)+\"_Nparts_\"+str(n_particles)+\".pdf\"\n",
    "print(\"Files to output:\\n\" + str(filename))\n",
    "\n",
    "#plt.savefig(filename)\n",
    "\n",
    "plt.show()"
   ]
  },
  {
   "cell_type": "code",
   "execution_count": 47,
   "metadata": {
    "collapsed": false
   },
   "outputs": [
    {
     "data": {
      "image/png": "[encoded data removed]",
      "text/plain": [
       "<matplotlib.figure.Figure at 0xc5255c0>"
      ]
     },
     "metadata": {},
     "output_type": "display_data"
    }
   ],
   "source": [
    "plt.plot(track_time)\n",
    "plt.xlabel('# of Measurements')\n",
    "plt.ylabel('t from PGH')\n",
    "\n",
    "plt.show()"
   ]
  },
  {
   "cell_type": "code",
   "execution_count": 48,
   "metadata": {
    "collapsed": false
   },
   "outputs": [
    {
     "ename": "IndexError",
     "evalue": "index 1 is out of bounds for axis 1 with size 1",
     "output_type": "error",
     "traceback": [
      "\u001b[0;31m---------------------------------------------------------------------------\u001b[0m",
      "\u001b[0;31mIndexError\u001b[0m                                Traceback (most recent call last)",
      "\u001b[0;32m<ipython-input-48-5e2167c989ed>\u001b[0m in \u001b[0;36m<module>\u001b[0;34m()\u001b[0m\n\u001b[1;32m      1\u001b[0m \u001b[0mtimestep\u001b[0m \u001b[1;33m=\u001b[0m \u001b[1;36m0\u001b[0m\u001b[1;33m\u001b[0m\u001b[0m\n\u001b[1;32m      2\u001b[0m \u001b[1;33m\u001b[0m\u001b[0m\n\u001b[0;32m----> 3\u001b[0;31m \u001b[0mplt\u001b[0m\u001b[1;33m.\u001b[0m\u001b[0mscatter\u001b[0m\u001b[1;33m(\u001b[0m\u001b[0mtrack_particle_locs\u001b[0m\u001b[1;33m[\u001b[0m\u001b[1;33m:\u001b[0m\u001b[1;33m,\u001b[0m\u001b[1;36m0\u001b[0m\u001b[1;33m,\u001b[0m\u001b[0mtimestep\u001b[0m\u001b[1;33m]\u001b[0m\u001b[1;33m,\u001b[0m \u001b[0mtrack_particle_locs\u001b[0m\u001b[1;33m[\u001b[0m\u001b[1;33m:\u001b[0m\u001b[1;33m,\u001b[0m\u001b[1;36m1\u001b[0m\u001b[1;33m,\u001b[0m\u001b[0mtimestep\u001b[0m\u001b[1;33m]\u001b[0m\u001b[1;33m,\u001b[0m \u001b[0mc\u001b[0m\u001b[1;33m=\u001b[0m\u001b[0mtrack_particle_wght\u001b[0m\u001b[1;33m[\u001b[0m\u001b[1;33m:\u001b[0m\u001b[1;33m,\u001b[0m\u001b[0mtimestep\u001b[0m\u001b[1;33m]\u001b[0m\u001b[1;33m,\u001b[0m \u001b[0mcmap\u001b[0m\u001b[1;33m=\u001b[0m\u001b[0mplt\u001b[0m\u001b[1;33m.\u001b[0m\u001b[0mcm\u001b[0m\u001b[1;33m.\u001b[0m\u001b[0mRdYlGn\u001b[0m\u001b[1;33m)\u001b[0m\u001b[1;33m\u001b[0m\u001b[0m\n\u001b[0m\u001b[1;32m      4\u001b[0m \u001b[0mfilefigname1\u001b[0m \u001b[1;33m=\u001b[0m \u001b[0mdire\u001b[0m\u001b[1;33m+\u001b[0m\u001b[0mstr\u001b[0m\u001b[1;33m(\u001b[0m\u001b[0mtimestamp\u001b[0m\u001b[1;33m)\u001b[0m\u001b[1;33m+\u001b[0m\u001b[1;34m\"With_Trotter\"\u001b[0m\u001b[1;33m+\u001b[0m\u001b[1;34m\"_Distro_particles\"\u001b[0m\u001b[1;33m+\u001b[0m\u001b[1;34m\"_SteNum_\"\u001b[0m\u001b[1;33m+\u001b[0m\u001b[0mstr\u001b[0m\u001b[1;33m(\u001b[0m\u001b[0mtimestep\u001b[0m\u001b[1;33m)\u001b[0m\u001b[1;33m+\u001b[0m\u001b[1;34m\"_Npars_\"\u001b[0m\u001b[1;33m+\u001b[0m\u001b[0mstr\u001b[0m\u001b[1;33m(\u001b[0m\u001b[0mlen\u001b[0m\u001b[1;33m(\u001b[0m\u001b[0mtrue_params\u001b[0m\u001b[1;33m[\u001b[0m\u001b[1;36m0\u001b[0m\u001b[1;33m]\u001b[0m\u001b[1;33m)\u001b[0m\u001b[1;33m)\u001b[0m\u001b[1;33m+\u001b[0m\u001b[1;34m\"_Nexp_\"\u001b[0m\u001b[1;33m+\u001b[0m\u001b[0mstr\u001b[0m\u001b[1;33m(\u001b[0m\u001b[0mn_experiments\u001b[0m\u001b[1;33m)\u001b[0m\u001b[1;33m+\u001b[0m\u001b[1;34m\"_Nparts_\"\u001b[0m\u001b[1;33m+\u001b[0m\u001b[0mstr\u001b[0m\u001b[1;33m(\u001b[0m\u001b[0mn_particles\u001b[0m\u001b[1;33m)\u001b[0m\u001b[1;33m+\u001b[0m\u001b[1;34m\".pdf\"\u001b[0m\u001b[1;33m\u001b[0m\u001b[0m\n\u001b[1;32m      5\u001b[0m \u001b[0mplt\u001b[0m\u001b[1;33m.\u001b[0m\u001b[0msavefig\u001b[0m\u001b[1;33m(\u001b[0m\u001b[0mfilefigname1\u001b[0m\u001b[1;33m)\u001b[0m\u001b[1;33m\u001b[0m\u001b[0m\n",
      "\u001b[0;31mIndexError\u001b[0m: index 1 is out of bounds for axis 1 with size 1"
     ]
    }
   ],
   "source": [
    "timestep = 0\n",
    "\n",
    "plt.scatter(track_particle_locs[:,0,timestep], track_particle_locs[:,1,timestep], c=track_particle_wght[:,timestep], cmap=plt.cm.RdYlGn)\n",
    "filefigname1 = dire+str(timestamp)+\"With_Trotter\"+\"_Distro_particles\"+\"_SteNum_\"+str(timestep)+\"_Npars_\"+str(len(true_params[0]))+\"_Nexp_\"+str(n_experiments)+\"_Nparts_\"+str(n_particles)+\".pdf\"\n",
    "plt.savefig(filefigname1)\n",
    "plt.show()"
   ]
  },
  {
   "cell_type": "code",
   "execution_count": 18,
   "metadata": {
    "collapsed": false
   },
   "outputs": [
    {
     "name": "stdout",
     "output_type": "stream",
     "text": [
      "Files to output:\n",
      "/Users/raf/Dropbox (Qsim)/Projects/CU4 chip/QHLandD/MultiPar_GenSim cleanup/tests/T_2017-05-14_10.56.28_particles_Npars_2_Nexp_600_Nparts_1000.csv\n",
      "/Users/raf/Dropbox (Qsim)/Projects/CU4 chip/QHLandD/MultiPar_GenSim cleanup/tests/T_2017-05-14_10.56.28_weights_Npars_2_Nexp_600_Nparts_1000.csv\n"
     ]
    }
   ],
   "source": [
    "filename1 = dire+str(timestamp)+\"_particles\"+\"_Npars_\"+str(len(true_params[0]))+\"_Nexp_\"+str(n_experiments)+\"_Nparts_\"+str(n_particles)+\".csv\"\n",
    "filename2 = dire+str(timestamp)+\"_weights\"+\"_Npars_\"+str(len(true_params[0]))+\"_Nexp_\"+str(n_experiments)+\"_Nparts_\"+str(n_particles)+\".csv\"\n",
    "\n",
    "print(\"Files to output:\\n\" + str(filename1) + \"\\n\" + str(filename2))"
   ]
  },
  {
   "cell_type": "code",
   "execution_count": 19,
   "metadata": {
    "collapsed": false
   },
   "outputs": [],
   "source": [
    "writeToFile3d(filename1, track_particle_locs)\n",
    "writeToFile2d(filename2, track_particle_wght)"
   ]
  },
  {
   "cell_type": "code",
   "execution_count": 32,
   "metadata": {
    "collapsed": false
   },
   "outputs": [
    {
     "data": {
      "text/plain": [
       "'/Users/raf/Dropbox (Qsim)/Projects/CU4 chip/QHLandD/MultiPar_GenSim cleanup\\\\tests\\\\T'"
      ]
     },
     "execution_count": 32,
     "metadata": {},
     "output_type": "execute_result"
    }
   ],
   "source": [
    "dire"
   ]
  },
  {
   "cell_type": "markdown",
   "metadata": {},
   "source": [
    "# Results from qi.perftest\n"
   ]
  },
  {
   "cell_type": "code",
   "execution_count": 12,
   "metadata": {
    "collapsed": false
   },
   "outputs": [
    {
     "name": "stdout",
     "output_type": "stream",
     "text": [
      "Oplist: array([[[ 0.+0.j,  0.-1.j],\n",
      "        [ 0.+1.j,  0.+0.j]],\n",
      "\n",
      "       [[ 0.+0.j,  1.+0.j],\n",
      "        [ 1.+0.j,  0.+0.j]]])\n",
      "Chosen true_params: [[ 0.3  0.6]]\n",
      "Chosen probestate: [ 0.9472136+0.2236068j  0.0527864-0.2236068j]\n",
      "Inversion fields are: ['w_1', 'w_2']\n",
      "Heuristic output:array([(1.3268625344344318, 0.7978591672841162, 0.13000019918003491)], \n",
      "      dtype=[('t', '<f8'), ('w_1', '<f8'), ('w_2', '<f8')])\n",
      "Initialization Ready\n"
     ]
    }
   ],
   "source": [
    "probecounter = 0\n",
    "\n",
    "oplist=np.array([evo.sigmay(), evo.sigmax()])\n",
    "#oplist=np.array([evo.sigmaz()])\n",
    "oplist=np.dot(1.0, oplist)\n",
    "print('Oplist: ' + repr(oplist))\n",
    "\n",
    "true_params = np.array([[0.3, 0.6]])\n",
    "#true_params = np.array([[0.7]])\n",
    "print('Chosen true_params: ' + str(true_params))\n",
    "\n",
    "#Listing eigenvectors\n",
    "# eiglist = pros.list_randomeig(oplist)\n",
    "# eiglist = np.append(eiglist, np.array([1, 0]))\n",
    "# eiglist = np.reshape(eiglist, [len(oplist)+1,2])\n",
    "# print('Chosen probestates: ' + repr(eiglist))\n",
    "\n",
    "#eiglist=sp.absolute(sp.linalg.orth(oplist[0]))\n",
    "#print('Chosen probestates: ' + repr(eiglist))\n",
    "\n",
    "probestate=pros.choose_probe(oplist,true_params)\n",
    "print('Chosen probestate: ' + str(probestate))\n",
    "\n",
    "sigw = 0.3\n",
    "siga = 0.3\n",
    "\n",
    "prior = qi.MultivariateNormalDistribution(\n",
    "     [true_params[0, 0] + sigw/3, true_params[0, 1]-siga/3], [[sigw **2, 0], [0, siga **2]])\n",
    "# prior = qi.UniformDistribution([0., 1])\n",
    "\n",
    "\n",
    "model = gsi.GenSim_IQLE(oplist=oplist, modelparams=true_params, probecounter = 0, probelist= [probestate], solver='scipy', trotter=True)\n",
    "\n",
    "\n",
    "n_particles = 300\n",
    "n_experiments = 300\n",
    "\n",
    "\n",
    "extra_updater_args={'resample_thresh': 0.5, 'resampler': qi.LiuWestResampler(a=0.95), 'debug_resampling': True}\n",
    "updater = qi.SMCUpdater(model, n_particles, prior, **extra_updater_args)\n",
    "\n",
    "inv_field = [item[0] for item in model.expparams_dtype[1:] ]\n",
    "print('Inversion fields are: ' + str(inv_field))\n",
    "heuristic = mpgh.multiPGH(updater, oplist, inv_field=inv_field)\n",
    "print('Heuristic output:' + repr(heuristic()))\n",
    "\n",
    "expparams = np.empty((1, ), dtype=model.expparams_dtype)\n",
    "\n",
    "print('Initialization Ready')"
   ]
  },
  {
   "cell_type": "code",
   "execution_count": 13,
   "metadata": {
    "collapsed": false
   },
   "outputs": [
    {
     "name": "stdout",
     "output_type": "stream",
     "text": [
      "Calling the false Hamiltonian\n",
      "Calling the false Hamiltonian\n",
      "Calling the false Hamiltonian\n",
      "Calling the false Hamiltonian\n"
     ]
    },
    {
     "name": "stderr",
     "output_type": "stream",
     "text": [
      "qinfer.smc - DEBUG - Resampling changed mean by [-0.00081456  0.00249908]. Norm change in cov: 0.0055968084372235456.\n"
     ]
    },
    {
     "name": "stdout",
     "output_type": "stream",
     "text": [
      "Calling the false Hamiltonian\n",
      "Calling the false Hamiltonian\n",
      "Calling the false Hamiltonian\n",
      "Calling the false Hamiltonian\n",
      "Calling the false Hamiltonian\n",
      "Calling the false Hamiltonian\n",
      "Calling the false Hamiltonian\n",
      "Calling the false Hamiltonian\n",
      "Calling the false Hamiltonian\n",
      "Calling the false Hamiltonian\n",
      "Calling the false Hamiltonian\n",
      "Calling the false Hamiltonian\n"
     ]
    },
    {
     "name": "stderr",
     "output_type": "stream",
     "text": [
      "qinfer.smc - DEBUG - Resampling changed mean by [-0.03095397  0.01634325]. Norm change in cov: 0.007218519797061875.\n"
     ]
    },
    {
     "name": "stdout",
     "output_type": "stream",
     "text": [
      "Calling the false Hamiltonian\n",
      "Calling the false Hamiltonian\n",
      "Calling the false Hamiltonian\n",
      "Calling the false Hamiltonian\n",
      "Calling the false Hamiltonian\n",
      "Calling the false Hamiltonian\n",
      "Calling the false Hamiltonian\n",
      "Calling the false Hamiltonian\n"
     ]
    },
    {
     "name": "stderr",
     "output_type": "stream",
     "text": [
      "qinfer.smc - DEBUG - Resampling changed mean by [-0.00920709  0.02083949]. Norm change in cov: 0.005600356193710194.\n"
     ]
    },
    {
     "name": "stdout",
     "output_type": "stream",
     "text": [
      "Calling the false Hamiltonian\n",
      "Calling the false Hamiltonian\n",
      "Calling the false Hamiltonian\n",
      "Calling the false Hamiltonian\n",
      "Calling the false Hamiltonian\n",
      "Calling the false Hamiltonian\n",
      "Calling the false Hamiltonian\n",
      "Calling the false Hamiltonian\n"
     ]
    },
    {
     "name": "stderr",
     "output_type": "stream",
     "text": [
      "qinfer.smc - DEBUG - Resampling changed mean by [-0.0258048  -0.01399422]. Norm change in cov: 0.0014771616669812912.\n"
     ]
    },
    {
     "name": "stdout",
     "output_type": "stream",
     "text": [
      "Calling the false Hamiltonian\n",
      "Calling the false Hamiltonian\n",
      "Calling the false Hamiltonian\n",
      "Calling the false Hamiltonian\n",
      "Calling the false Hamiltonian\n",
      "Calling the false Hamiltonian\n",
      "Calling the false Hamiltonian\n",
      "Calling the false Hamiltonian\n",
      "Calling the false Hamiltonian\n",
      "Calling the false Hamiltonian\n",
      "Calling the false Hamiltonian\n",
      "Calling the false Hamiltonian\n"
     ]
    },
    {
     "name": "stderr",
     "output_type": "stream",
     "text": [
      "qinfer.smc - DEBUG - Resampling changed mean by [-0.00184579 -0.00656916]. Norm change in cov: 0.0014185839305345567.\n"
     ]
    },
    {
     "name": "stdout",
     "output_type": "stream",
     "text": [
      "Calling the false Hamiltonian\n",
      "Calling the false Hamiltonian\n",
      "Calling the false Hamiltonian\n",
      "Calling the false Hamiltonian\n",
      "Calling the false Hamiltonian\n",
      "Calling the false Hamiltonian\n",
      "Calling the false Hamiltonian\n",
      "Calling the false Hamiltonian\n"
     ]
    },
    {
     "name": "stderr",
     "output_type": "stream",
     "text": [
      "qinfer.smc - DEBUG - Resampling changed mean by [-0.00714717 -0.00638797]. Norm change in cov: 0.003520297027713937.\n"
     ]
    },
    {
     "name": "stdout",
     "output_type": "stream",
     "text": [
      "Calling the false Hamiltonian\n",
      "Calling the false Hamiltonian\n",
      "Calling the false Hamiltonian\n",
      "Calling the false Hamiltonian\n",
      "Calling the false Hamiltonian\n",
      "Calling the false Hamiltonian\n",
      "Calling the false Hamiltonian\n",
      "Calling the false Hamiltonian\n"
     ]
    },
    {
     "name": "stderr",
     "output_type": "stream",
     "text": [
      "qinfer.smc - DEBUG - Resampling changed mean by [ 0.00242195 -0.00382663]. Norm change in cov: 0.0019354941775681742.\n"
     ]
    },
    {
     "name": "stdout",
     "output_type": "stream",
     "text": [
      "Calling the false Hamiltonian\n",
      "Calling the false Hamiltonian\n",
      "Calling the false Hamiltonian\n",
      "Calling the false Hamiltonian\n"
     ]
    },
    {
     "name": "stderr",
     "output_type": "stream",
     "text": [
      "qinfer.smc - DEBUG - Resampling changed mean by [ 0.00129871 -0.00073769]. Norm change in cov: 0.0009924771008645217.\n"
     ]
    },
    {
     "name": "stdout",
     "output_type": "stream",
     "text": [
      "Calling the false Hamiltonian\n",
      "Calling the false Hamiltonian\n",
      "Calling the false Hamiltonian\n",
      "Calling the false Hamiltonian\n",
      "Calling the false Hamiltonian\n",
      "Calling the false Hamiltonian\n",
      "Calling the false Hamiltonian\n",
      "Calling the false Hamiltonian\n"
     ]
    },
    {
     "name": "stderr",
     "output_type": "stream",
     "text": [
      "qinfer.smc - DEBUG - Resampling changed mean by [-0.00996171 -0.00100685]. Norm change in cov: 0.003421089946056645.\n"
     ]
    },
    {
     "name": "stdout",
     "output_type": "stream",
     "text": [
      "Calling the false Hamiltonian\n",
      "Calling the false Hamiltonian\n",
      "Calling the false Hamiltonian\n",
      "Calling the false Hamiltonian\n",
      "Calling the false Hamiltonian\n",
      "Calling the false Hamiltonian\n",
      "Calling the false Hamiltonian\n",
      "Calling the false Hamiltonian\n"
     ]
    },
    {
     "name": "stderr",
     "output_type": "stream",
     "text": [
      "qinfer.smc - DEBUG - Resampling changed mean by [-0.00515193  0.00352457]. Norm change in cov: 0.00134090368903482.\n"
     ]
    },
    {
     "name": "stdout",
     "output_type": "stream",
     "text": [
      "Calling the false Hamiltonian\n",
      "Calling the false Hamiltonian\n",
      "Calling the false Hamiltonian\n",
      "Calling the false Hamiltonian\n"
     ]
    },
    {
     "name": "stderr",
     "output_type": "stream",
     "text": [
      "qinfer.smc - DEBUG - Resampling changed mean by [ 0.00051994  0.00023535]. Norm change in cov: 0.0012125710767038683.\n"
     ]
    },
    {
     "name": "stdout",
     "output_type": "stream",
     "text": [
      "Calling the false Hamiltonian\n",
      "Calling the false Hamiltonian\n",
      "Calling the false Hamiltonian\n",
      "Calling the false Hamiltonian\n",
      "Calling the false Hamiltonian\n",
      "Calling the false Hamiltonian\n",
      "Calling the false Hamiltonian\n",
      "Calling the false Hamiltonian\n",
      "Calling the false Hamiltonian\n",
      "Calling the false Hamiltonian\n",
      "Calling the false Hamiltonian\n",
      "Calling the false Hamiltonian\n"
     ]
    },
    {
     "name": "stderr",
     "output_type": "stream",
     "text": [
      "qinfer.smc - DEBUG - Resampling changed mean by [  6.10825304e-05   3.69532509e-03]. Norm change in cov: 0.00015721918550818745.\n"
     ]
    },
    {
     "name": "stdout",
     "output_type": "stream",
     "text": [
      "Calling the false Hamiltonian\n",
      "Calling the false Hamiltonian\n",
      "Calling the false Hamiltonian\n",
      "Calling the false Hamiltonian\n",
      "Calling the false Hamiltonian\n",
      "Calling the false Hamiltonian\n",
      "Calling the false Hamiltonian\n",
      "Calling the false Hamiltonian\n",
      "Calling the false Hamiltonian\n",
      "Calling the false Hamiltonian\n",
      "Calling the false Hamiltonian\n",
      "Calling the false Hamiltonian\n",
      "Calling the false Hamiltonian\n",
      "Calling the false Hamiltonian\n",
      "Calling the false Hamiltonian\n",
      "Calling the false Hamiltonian\n"
     ]
    },
    {
     "name": "stderr",
     "output_type": "stream",
     "text": [
      "qinfer.smc - DEBUG - Resampling changed mean by [-0.00041038  0.00046839]. Norm change in cov: 0.0001422422602897999.\n"
     ]
    },
    {
     "name": "stdout",
     "output_type": "stream",
     "text": [
      "Calling the false Hamiltonian\n",
      "Calling the false Hamiltonian\n",
      "Calling the false Hamiltonian\n",
      "Calling the false Hamiltonian\n",
      "Calling the false Hamiltonian\n",
      "Calling the false Hamiltonian\n",
      "Calling the false Hamiltonian\n",
      "Calling the false Hamiltonian\n"
     ]
    },
    {
     "name": "stderr",
     "output_type": "stream",
     "text": [
      "qinfer.smc - DEBUG - Resampling changed mean by [-0.00116985 -0.00074085]. Norm change in cov: 0.00013599359649275422.\n"
     ]
    },
    {
     "name": "stdout",
     "output_type": "stream",
     "text": [
      "Calling the false Hamiltonian\n",
      "Calling the false Hamiltonian\n",
      "Calling the false Hamiltonian\n",
      "Calling the false Hamiltonian\n",
      "Calling the false Hamiltonian\n",
      "Calling the false Hamiltonian\n",
      "Calling the false Hamiltonian\n",
      "Calling the false Hamiltonian\n"
     ]
    },
    {
     "name": "stderr",
     "output_type": "stream",
     "text": [
      "qinfer.smc - DEBUG - Resampling changed mean by [  8.13097264e-05   4.90986830e-04]. Norm change in cov: 0.0001061193374815472.\n"
     ]
    },
    {
     "name": "stdout",
     "output_type": "stream",
     "text": [
      "Calling the false Hamiltonian\n",
      "Calling the false Hamiltonian\n",
      "Calling the false Hamiltonian\n",
      "Calling the false Hamiltonian\n"
     ]
    },
    {
     "name": "stderr",
     "output_type": "stream",
     "text": [
      "qinfer.smc - DEBUG - Resampling changed mean by [ 0.00052745  0.00102322]. Norm change in cov: 0.0001129057683390815.\n"
     ]
    },
    {
     "name": "stdout",
     "output_type": "stream",
     "text": [
      "Calling the false Hamiltonian\n",
      "Calling the false Hamiltonian\n",
      "Calling the false Hamiltonian\n",
      "Calling the false Hamiltonian\n",
      "Calling the false Hamiltonian\n",
      "Calling the false Hamiltonian\n",
      "Calling the false Hamiltonian\n",
      "Calling the false Hamiltonian\n"
     ]
    },
    {
     "name": "stderr",
     "output_type": "stream",
     "text": [
      "qinfer.smc - DEBUG - Resampling changed mean by [-0.00066031 -0.00051913]. Norm change in cov: 1.9474143988482196e-05.\n"
     ]
    },
    {
     "name": "stdout",
     "output_type": "stream",
     "text": [
      "Calling the false Hamiltonian\n",
      "Calling the false Hamiltonian\n",
      "Calling the false Hamiltonian\n",
      "Calling the false Hamiltonian\n",
      "Calling the false Hamiltonian\n",
      "Calling the false Hamiltonian\n",
      "Calling the false Hamiltonian\n",
      "Calling the false Hamiltonian\n",
      "Calling the false Hamiltonian\n",
      "Calling the false Hamiltonian\n",
      "Calling the false Hamiltonian\n",
      "Calling the false Hamiltonian\n"
     ]
    },
    {
     "name": "stderr",
     "output_type": "stream",
     "text": [
      "qinfer.smc - DEBUG - Resampling changed mean by [ -1.06037217e-03  -6.71424402e-05]. Norm change in cov: 0.0001295343746593825.\n"
     ]
    },
    {
     "name": "stdout",
     "output_type": "stream",
     "text": [
      "Calling the false Hamiltonian\n",
      "Calling the false Hamiltonian\n",
      "Calling the false Hamiltonian\n",
      "Calling the false Hamiltonian\n",
      "Calling the false Hamiltonian\n",
      "Calling the false Hamiltonian\n",
      "Calling the false Hamiltonian\n",
      "Calling the false Hamiltonian\n"
     ]
    },
    {
     "name": "stderr",
     "output_type": "stream",
     "text": [
      "qinfer.smc - DEBUG - Resampling changed mean by [ 0.00046367 -0.00067586]. Norm change in cov: 9.400556090546169e-05.\n"
     ]
    },
    {
     "name": "stdout",
     "output_type": "stream",
     "text": [
      "Calling the false Hamiltonian\n",
      "Calling the false Hamiltonian\n",
      "Calling the false Hamiltonian\n",
      "Calling the false Hamiltonian\n",
      "Calling the false Hamiltonian\n",
      "Calling the false Hamiltonian\n",
      "Calling the false Hamiltonian\n",
      "Calling the false Hamiltonian\n"
     ]
    },
    {
     "name": "stderr",
     "output_type": "stream",
     "text": [
      "qinfer.smc - DEBUG - Resampling changed mean by [-0.00095962 -0.00042402]. Norm change in cov: 5.3610174032371945e-05.\n"
     ]
    },
    {
     "name": "stdout",
     "output_type": "stream",
     "text": [
      "Calling the false Hamiltonian\n",
      "Calling the false Hamiltonian\n",
      "Calling the false Hamiltonian\n",
      "Calling the false Hamiltonian\n"
     ]
    },
    {
     "name": "stderr",
     "output_type": "stream",
     "text": [
      "qinfer.smc - DEBUG - Resampling changed mean by [ 0.00033474  0.00026128]. Norm change in cov: 1.1726263469990727e-05.\n"
     ]
    },
    {
     "name": "stdout",
     "output_type": "stream",
     "text": [
      "Calling the false Hamiltonian\n",
      "Calling the false Hamiltonian\n",
      "Calling the false Hamiltonian\n",
      "Calling the false Hamiltonian\n",
      "Calling the false Hamiltonian\n",
      "Calling the false Hamiltonian\n",
      "Calling the false Hamiltonian\n",
      "Calling the false Hamiltonian\n"
     ]
    },
    {
     "name": "stderr",
     "output_type": "stream",
     "text": [
      "qinfer.smc - DEBUG - Resampling changed mean by [-0.00030223 -0.00040582]. Norm change in cov: 1.8779936888376742e-05.\n"
     ]
    },
    {
     "name": "stdout",
     "output_type": "stream",
     "text": [
      "Calling the false Hamiltonian\n",
      "Calling the false Hamiltonian\n",
      "Calling the false Hamiltonian\n",
      "Calling the false Hamiltonian\n",
      "Calling the false Hamiltonian\n",
      "Calling the false Hamiltonian\n",
      "Calling the false Hamiltonian\n",
      "Calling the false Hamiltonian\n"
     ]
    },
    {
     "name": "stderr",
     "output_type": "stream",
     "text": [
      "qinfer.smc - DEBUG - Resampling changed mean by [-0.00023117  0.00016885]. Norm change in cov: 1.5553556745875096e-06.\n"
     ]
    },
    {
     "name": "stdout",
     "output_type": "stream",
     "text": [
      "Calling the false Hamiltonian\n",
      "Calling the false Hamiltonian\n",
      "Calling the false Hamiltonian\n",
      "Calling the false Hamiltonian\n",
      "Calling the false Hamiltonian\n",
      "Calling the false Hamiltonian\n",
      "Calling the false Hamiltonian\n",
      "Calling the false Hamiltonian\n",
      "Calling the false Hamiltonian\n",
      "Calling the false Hamiltonian\n",
      "Calling the false Hamiltonian\n",
      "Calling the false Hamiltonian\n"
     ]
    },
    {
     "name": "stderr",
     "output_type": "stream",
     "text": [
      "qinfer.smc - DEBUG - Resampling changed mean by [  1.93301626e-04  -2.68792907e-05]. Norm change in cov: 2.223091056679283e-06.\n"
     ]
    },
    {
     "name": "stdout",
     "output_type": "stream",
     "text": [
      "Calling the false Hamiltonian\n",
      "Calling the false Hamiltonian\n",
      "Calling the false Hamiltonian\n",
      "Calling the false Hamiltonian\n",
      "Calling the false Hamiltonian\n",
      "Calling the false Hamiltonian\n",
      "Calling the false Hamiltonian\n",
      "Calling the false Hamiltonian\n",
      "Calling the false Hamiltonian\n",
      "Calling the false Hamiltonian\n",
      "Calling the false Hamiltonian\n",
      "Calling the false Hamiltonian\n"
     ]
    },
    {
     "name": "stderr",
     "output_type": "stream",
     "text": [
      "qinfer.smc - DEBUG - Resampling changed mean by [ 0.00018041  0.00018221]. Norm change in cov: 1.2606885490651617e-06.\n"
     ]
    },
    {
     "name": "stdout",
     "output_type": "stream",
     "text": [
      "Calling the false Hamiltonian\n",
      "Calling the false Hamiltonian\n",
      "Calling the false Hamiltonian\n",
      "Calling the false Hamiltonian\n",
      "Calling the false Hamiltonian\n",
      "Calling the false Hamiltonian\n",
      "Calling the false Hamiltonian\n",
      "Calling the false Hamiltonian\n"
     ]
    },
    {
     "name": "stderr",
     "output_type": "stream",
     "text": [
      "qinfer.smc - DEBUG - Resampling changed mean by [-0.00012379  0.00012376]. Norm change in cov: 1.755212537558403e-06.\n"
     ]
    },
    {
     "name": "stdout",
     "output_type": "stream",
     "text": [
      "Calling the false Hamiltonian\n",
      "Calling the false Hamiltonian\n",
      "Calling the false Hamiltonian\n",
      "Calling the false Hamiltonian\n"
     ]
    },
    {
     "name": "stderr",
     "output_type": "stream",
     "text": [
      "qinfer.smc - DEBUG - Resampling changed mean by [ -2.98278165e-04   4.29217450e-06]. Norm change in cov: 3.290643791590942e-07.\n"
     ]
    },
    {
     "name": "stdout",
     "output_type": "stream",
     "text": [
      "Calling the false Hamiltonian\n",
      "Calling the false Hamiltonian\n",
      "Calling the false Hamiltonian\n",
      "Calling the false Hamiltonian\n",
      "Calling the false Hamiltonian\n",
      "Calling the false Hamiltonian\n",
      "Calling the false Hamiltonian\n",
      "Calling the false Hamiltonian\n"
     ]
    },
    {
     "name": "stderr",
     "output_type": "stream",
     "text": [
      "qinfer.smc - DEBUG - Resampling changed mean by [ 0.00011862 -0.00011156]. Norm change in cov: 9.852381119095162e-07.\n"
     ]
    },
    {
     "name": "stdout",
     "output_type": "stream",
     "text": [
      "Calling the false Hamiltonian\n",
      "Calling the false Hamiltonian\n",
      "Calling the false Hamiltonian\n",
      "Calling the false Hamiltonian\n"
     ]
    },
    {
     "name": "stderr",
     "output_type": "stream",
     "text": [
      "qinfer.smc - DEBUG - Resampling changed mean by [  6.77159021e-05   5.74983302e-05]. Norm change in cov: 6.580736510207696e-07.\n"
     ]
    },
    {
     "name": "stdout",
     "output_type": "stream",
     "text": [
      "Calling the false Hamiltonian\n",
      "Calling the false Hamiltonian\n",
      "Calling the false Hamiltonian\n",
      "Calling the false Hamiltonian\n",
      "Calling the false Hamiltonian\n",
      "Calling the false Hamiltonian\n",
      "Calling the false Hamiltonian\n",
      "Calling the false Hamiltonian\n"
     ]
    },
    {
     "name": "stderr",
     "output_type": "stream",
     "text": [
      "qinfer.smc - DEBUG - Resampling changed mean by [ -1.87105892e-04  -3.81297533e-05]. Norm change in cov: 5.777009395873054e-07.\n"
     ]
    },
    {
     "name": "stdout",
     "output_type": "stream",
     "text": [
      "Calling the false Hamiltonian\n",
      "Calling the false Hamiltonian\n",
      "Calling the false Hamiltonian\n",
      "Calling the false Hamiltonian\n"
     ]
    },
    {
     "name": "stderr",
     "output_type": "stream",
     "text": [
      "qinfer.smc - DEBUG - Resampling changed mean by [ -1.34506610e-04   7.31497764e-05]. Norm change in cov: 1.3401164004996021e-06.\n"
     ]
    },
    {
     "name": "stdout",
     "output_type": "stream",
     "text": [
      "Calling the false Hamiltonian\n",
      "Calling the false Hamiltonian\n",
      "Calling the false Hamiltonian\n",
      "Calling the false Hamiltonian\n"
     ]
    },
    {
     "name": "stderr",
     "output_type": "stream",
     "text": [
      "qinfer.smc - DEBUG - Resampling changed mean by [ 0.00020903  0.0001266 ]. Norm change in cov: 5.530476312760705e-07.\n"
     ]
    },
    {
     "name": "stdout",
     "output_type": "stream",
     "text": [
      "Calling the false Hamiltonian\n",
      "Calling the false Hamiltonian\n",
      "Calling the false Hamiltonian\n",
      "Calling the false Hamiltonian\n",
      "Calling the false Hamiltonian\n",
      "Calling the false Hamiltonian\n",
      "Calling the false Hamiltonian\n",
      "Calling the false Hamiltonian\n"
     ]
    },
    {
     "name": "stderr",
     "output_type": "stream",
     "text": [
      "qinfer.smc - DEBUG - Resampling changed mean by [-0.00027013 -0.00010065]. Norm change in cov: 2.00541551107077e-06.\n"
     ]
    },
    {
     "name": "stdout",
     "output_type": "stream",
     "text": [
      "Calling the false Hamiltonian\n",
      "Calling the false Hamiltonian\n",
      "Calling the false Hamiltonian\n",
      "Calling the false Hamiltonian\n",
      "Calling the false Hamiltonian\n",
      "Calling the false Hamiltonian\n",
      "Calling the false Hamiltonian\n",
      "Calling the false Hamiltonian\n",
      "Calling the false Hamiltonian\n",
      "Calling the false Hamiltonian\n",
      "Calling the false Hamiltonian\n",
      "Calling the false Hamiltonian\n"
     ]
    },
    {
     "name": "stderr",
     "output_type": "stream",
     "text": [
      "qinfer.smc - DEBUG - Resampling changed mean by [  1.08279189e-04   3.13677465e-05]. Norm change in cov: 2.758072070155656e-07.\n"
     ]
    },
    {
     "name": "stdout",
     "output_type": "stream",
     "text": [
      "Calling the false Hamiltonian\n",
      "Calling the false Hamiltonian\n",
      "Calling the false Hamiltonian\n",
      "Calling the false Hamiltonian\n",
      "Calling the false Hamiltonian\n",
      "Calling the false Hamiltonian\n",
      "Calling the false Hamiltonian\n",
      "Calling the false Hamiltonian\n",
      "Calling the false Hamiltonian\n",
      "Calling the false Hamiltonian\n",
      "Calling the false Hamiltonian\n",
      "Calling the false Hamiltonian\n"
     ]
    },
    {
     "name": "stderr",
     "output_type": "stream",
     "text": [
      "qinfer.smc - DEBUG - Resampling changed mean by [ -1.39155984e-04   4.41717637e-05]. Norm change in cov: 5.399461524369819e-07.\n"
     ]
    },
    {
     "name": "stdout",
     "output_type": "stream",
     "text": [
      "Calling the false Hamiltonian\n",
      "Calling the false Hamiltonian\n",
      "Calling the false Hamiltonian\n",
      "Calling the false Hamiltonian\n",
      "Calling the false Hamiltonian\n",
      "Calling the false Hamiltonian\n",
      "Calling the false Hamiltonian\n",
      "Calling the false Hamiltonian\n",
      "Calling the false Hamiltonian\n",
      "Calling the false Hamiltonian\n",
      "Calling the false Hamiltonian\n",
      "Calling the false Hamiltonian\n"
     ]
    },
    {
     "name": "stderr",
     "output_type": "stream",
     "text": [
      "qinfer.smc - DEBUG - Resampling changed mean by [ -7.93471972e-05  -2.09189073e-05]. Norm change in cov: 1.0127415610361786e-06.\n"
     ]
    },
    {
     "name": "stdout",
     "output_type": "stream",
     "text": [
      "Calling the false Hamiltonian\n",
      "Calling the false Hamiltonian\n",
      "Calling the false Hamiltonian\n",
      "Calling the false Hamiltonian\n"
     ]
    },
    {
     "name": "stderr",
     "output_type": "stream",
     "text": [
      "qinfer.smc - DEBUG - Resampling changed mean by [  4.96479211e-04   3.12522294e-05]. Norm change in cov: 2.1454882471081452e-06.\n"
     ]
    },
    {
     "name": "stdout",
     "output_type": "stream",
     "text": [
      "Calling the false Hamiltonian\n",
      "Calling the false Hamiltonian\n",
      "Calling the false Hamiltonian\n",
      "Calling the false Hamiltonian\n",
      "Calling the false Hamiltonian\n",
      "Calling the false Hamiltonian\n",
      "Calling the false Hamiltonian\n",
      "Calling the false Hamiltonian\n",
      "Calling the false Hamiltonian\n",
      "Calling the false Hamiltonian\n",
      "Calling the false Hamiltonian\n",
      "Calling the false Hamiltonian\n"
     ]
    },
    {
     "name": "stderr",
     "output_type": "stream",
     "text": [
      "qinfer.smc - DEBUG - Resampling changed mean by [-0.00024623 -0.00019203]. Norm change in cov: 2.612724591706088e-07.\n"
     ]
    },
    {
     "name": "stdout",
     "output_type": "stream",
     "text": [
      "Calling the false Hamiltonian\n",
      "Calling the false Hamiltonian\n",
      "Calling the false Hamiltonian\n",
      "Calling the false Hamiltonian\n",
      "Calling the false Hamiltonian\n",
      "Calling the false Hamiltonian\n",
      "Calling the false Hamiltonian\n",
      "Calling the false Hamiltonian\n",
      "Calling the false Hamiltonian\n",
      "Calling the false Hamiltonian\n",
      "Calling the false Hamiltonian\n",
      "Calling the false Hamiltonian\n"
     ]
    },
    {
     "name": "stderr",
     "output_type": "stream",
     "text": [
      "qinfer.smc - DEBUG - Resampling changed mean by [  1.81927385e-04   7.60068993e-05]. Norm change in cov: 8.452195823826079e-07.\n"
     ]
    },
    {
     "name": "stdout",
     "output_type": "stream",
     "text": [
      "Calling the false Hamiltonian\n",
      "Calling the false Hamiltonian\n",
      "Calling the false Hamiltonian\n",
      "Calling the false Hamiltonian\n",
      "Calling the false Hamiltonian\n",
      "Calling the false Hamiltonian\n",
      "Calling the false Hamiltonian\n",
      "Calling the false Hamiltonian\n"
     ]
    },
    {
     "name": "stderr",
     "output_type": "stream",
     "text": [
      "qinfer.smc - DEBUG - Resampling changed mean by [ -5.70362118e-05  -1.06679468e-04]. Norm change in cov: 4.15515186220473e-07.\n"
     ]
    },
    {
     "name": "stdout",
     "output_type": "stream",
     "text": [
      "Calling the false Hamiltonian\n",
      "Calling the false Hamiltonian\n",
      "Calling the false Hamiltonian\n",
      "Calling the false Hamiltonian\n",
      "Calling the false Hamiltonian\n",
      "Calling the false Hamiltonian\n",
      "Calling the false Hamiltonian\n",
      "Calling the false Hamiltonian\n",
      "Calling the false Hamiltonian\n",
      "Calling the false Hamiltonian\n",
      "Calling the false Hamiltonian\n",
      "Calling the false Hamiltonian\n"
     ]
    },
    {
     "name": "stderr",
     "output_type": "stream",
     "text": [
      "qinfer.smc - DEBUG - Resampling changed mean by [ -4.76970893e-05  -1.04132620e-05]. Norm change in cov: 3.164925066730262e-07.\n"
     ]
    },
    {
     "name": "stdout",
     "output_type": "stream",
     "text": [
      "Calling the false Hamiltonian\n",
      "Calling the false Hamiltonian\n",
      "Calling the false Hamiltonian\n",
      "Calling the false Hamiltonian\n",
      "Calling the false Hamiltonian\n",
      "Calling the false Hamiltonian\n",
      "Calling the false Hamiltonian\n",
      "Calling the false Hamiltonian\n"
     ]
    },
    {
     "name": "stderr",
     "output_type": "stream",
     "text": [
      "qinfer.smc - DEBUG - Resampling changed mean by [  4.13149487e-05   1.07378243e-05]. Norm change in cov: 1.2365233427049467e-07.\n"
     ]
    },
    {
     "name": "stdout",
     "output_type": "stream",
     "text": [
      "Calling the false Hamiltonian\n",
      "Calling the false Hamiltonian\n",
      "Calling the false Hamiltonian\n",
      "Calling the false Hamiltonian\n",
      "Calling the false Hamiltonian\n",
      "Calling the false Hamiltonian\n",
      "Calling the false Hamiltonian\n",
      "Calling the false Hamiltonian\n"
     ]
    },
    {
     "name": "stderr",
     "output_type": "stream",
     "text": [
      "qinfer.smc - DEBUG - Resampling changed mean by [ -7.65157836e-06   4.07356571e-05]. Norm change in cov: 4.901829721256805e-08.\n"
     ]
    },
    {
     "name": "stdout",
     "output_type": "stream",
     "text": [
      "Calling the false Hamiltonian\n",
      "Calling the false Hamiltonian\n",
      "Calling the false Hamiltonian\n",
      "Calling the false Hamiltonian\n"
     ]
    },
    {
     "name": "stderr",
     "output_type": "stream",
     "text": [
      "qinfer.smc - DEBUG - Resampling changed mean by [  1.98391662e-05   6.79831151e-06]. Norm change in cov: 2.5451791480201224e-08.\n"
     ]
    },
    {
     "name": "stdout",
     "output_type": "stream",
     "text": [
      "Calling the false Hamiltonian\n",
      "Calling the false Hamiltonian\n",
      "Calling the false Hamiltonian\n",
      "Calling the false Hamiltonian\n",
      "Calling the false Hamiltonian\n",
      "Calling the false Hamiltonian\n",
      "Calling the false Hamiltonian\n",
      "Calling the false Hamiltonian\n",
      "Calling the false Hamiltonian\n",
      "Calling the false Hamiltonian\n",
      "Calling the false Hamiltonian\n",
      "Calling the false Hamiltonian\n"
     ]
    },
    {
     "name": "stderr",
     "output_type": "stream",
     "text": [
      "qinfer.smc - DEBUG - Resampling changed mean by [  1.63436763e-05   2.18306266e-06]. Norm change in cov: 1.765276002216651e-08.\n"
     ]
    },
    {
     "name": "stdout",
     "output_type": "stream",
     "text": [
      "Calling the false Hamiltonian\n",
      "Calling the false Hamiltonian\n",
      "Calling the false Hamiltonian\n",
      "Calling the false Hamiltonian\n"
     ]
    },
    {
     "name": "stderr",
     "output_type": "stream",
     "text": [
      "qinfer.smc - DEBUG - Resampling changed mean by [  2.63194293e-05  -2.83132720e-05]. Norm change in cov: 1.3592933724377597e-08.\n"
     ]
    },
    {
     "name": "stdout",
     "output_type": "stream",
     "text": [
      "Calling the false Hamiltonian\n",
      "Calling the false Hamiltonian\n",
      "Calling the false Hamiltonian\n",
      "Calling the false Hamiltonian\n",
      "Calling the false Hamiltonian\n",
      "Calling the false Hamiltonian\n",
      "Calling the false Hamiltonian\n",
      "Calling the false Hamiltonian\n"
     ]
    },
    {
     "name": "stderr",
     "output_type": "stream",
     "text": [
      "qinfer.smc - DEBUG - Resampling changed mean by [  8.22398900e-06  -1.02574985e-05]. Norm change in cov: 1.5851110256273484e-08.\n"
     ]
    },
    {
     "name": "stdout",
     "output_type": "stream",
     "text": [
      "Calling the false Hamiltonian\n",
      "Calling the false Hamiltonian\n",
      "Calling the false Hamiltonian\n",
      "Calling the false Hamiltonian\n",
      "Calling the false Hamiltonian\n",
      "Calling the false Hamiltonian\n",
      "Calling the false Hamiltonian\n",
      "Calling the false Hamiltonian\n"
     ]
    },
    {
     "name": "stderr",
     "output_type": "stream",
     "text": [
      "qinfer.smc - DEBUG - Resampling changed mean by [  7.15941983e-06   9.31392524e-06]. Norm change in cov: 4.771766467703968e-09.\n"
     ]
    },
    {
     "name": "stdout",
     "output_type": "stream",
     "text": [
      "Calling the false Hamiltonian\n",
      "Calling the false Hamiltonian\n",
      "Calling the false Hamiltonian\n",
      "Calling the false Hamiltonian\n",
      "Calling the false Hamiltonian\n",
      "Calling the false Hamiltonian\n",
      "Calling the false Hamiltonian\n",
      "Calling the false Hamiltonian\n"
     ]
    },
    {
     "name": "stderr",
     "output_type": "stream",
     "text": [
      "qinfer.smc - DEBUG - Resampling changed mean by [ -1.11770501e-05   3.63609557e-06]. Norm change in cov: 9.451899150733733e-10.\n"
     ]
    },
    {
     "name": "stdout",
     "output_type": "stream",
     "text": [
      "Calling the false Hamiltonian\n",
      "Calling the false Hamiltonian\n",
      "Calling the false Hamiltonian\n",
      "Calling the false Hamiltonian\n"
     ]
    },
    {
     "name": "stderr",
     "output_type": "stream",
     "text": [
      "qinfer.smc - DEBUG - Resampling changed mean by [  2.87427087e-06   4.38387687e-06]. Norm change in cov: 7.201582666160891e-10.\n"
     ]
    },
    {
     "name": "stdout",
     "output_type": "stream",
     "text": [
      "Calling the false Hamiltonian\n",
      "Calling the false Hamiltonian\n",
      "Calling the false Hamiltonian\n",
      "Calling the false Hamiltonian\n",
      "Calling the false Hamiltonian\n",
      "Calling the false Hamiltonian\n",
      "Calling the false Hamiltonian\n",
      "Calling the false Hamiltonian\n",
      "Calling the false Hamiltonian\n",
      "Calling the false Hamiltonian\n",
      "Calling the false Hamiltonian\n",
      "Calling the false Hamiltonian\n"
     ]
    },
    {
     "name": "stderr",
     "output_type": "stream",
     "text": [
      "qinfer.smc - DEBUG - Resampling changed mean by [ -1.45173580e-06   2.73357221e-06]. Norm change in cov: 5.325576414386842e-10.\n"
     ]
    },
    {
     "name": "stdout",
     "output_type": "stream",
     "text": [
      "Calling the false Hamiltonian\n",
      "Calling the false Hamiltonian\n",
      "Calling the false Hamiltonian\n",
      "Calling the false Hamiltonian\n",
      "Calling the false Hamiltonian\n",
      "Calling the false Hamiltonian\n",
      "Calling the false Hamiltonian\n",
      "Calling the false Hamiltonian\n"
     ]
    },
    {
     "name": "stderr",
     "output_type": "stream",
     "text": [
      "qinfer.smc - DEBUG - Resampling changed mean by [ -7.02167038e-06  -1.00234965e-06]. Norm change in cov: 3.318489732570281e-10.\n"
     ]
    },
    {
     "name": "stdout",
     "output_type": "stream",
     "text": [
      "Calling the false Hamiltonian\n",
      "Calling the false Hamiltonian\n",
      "Calling the false Hamiltonian\n",
      "Calling the false Hamiltonian\n",
      "Calling the false Hamiltonian\n",
      "Calling the false Hamiltonian\n",
      "Calling the false Hamiltonian\n",
      "Calling the false Hamiltonian\n"
     ]
    },
    {
     "name": "stderr",
     "output_type": "stream",
     "text": [
      "qinfer.smc - DEBUG - Resampling changed mean by [  9.79495181e-07  -1.65327691e-06]. Norm change in cov: 1.6322888058380426e-10.\n"
     ]
    },
    {
     "name": "stdout",
     "output_type": "stream",
     "text": [
      "Calling the false Hamiltonian\n",
      "Calling the false Hamiltonian\n",
      "Calling the false Hamiltonian\n",
      "Calling the false Hamiltonian\n",
      "Calling the false Hamiltonian\n",
      "Calling the false Hamiltonian\n",
      "Calling the false Hamiltonian\n",
      "Calling the false Hamiltonian\n",
      "Calling the false Hamiltonian\n",
      "Calling the false Hamiltonian\n",
      "Calling the false Hamiltonian\n",
      "Calling the false Hamiltonian\n"
     ]
    },
    {
     "name": "stderr",
     "output_type": "stream",
     "text": [
      "qinfer.smc - DEBUG - Resampling changed mean by [  1.83420537e-06  -2.46939834e-07]. Norm change in cov: 5.4640521765037514e-11.\n"
     ]
    },
    {
     "name": "stdout",
     "output_type": "stream",
     "text": [
      "Calling the false Hamiltonian\n",
      "Calling the false Hamiltonian\n",
      "Calling the false Hamiltonian\n",
      "Calling the false Hamiltonian\n",
      "Calling the false Hamiltonian\n",
      "Calling the false Hamiltonian\n",
      "Calling the false Hamiltonian\n",
      "Calling the false Hamiltonian\n"
     ]
    },
    {
     "name": "stderr",
     "output_type": "stream",
     "text": [
      "qinfer.smc - DEBUG - Resampling changed mean by [ -4.17788672e-07  -2.55683674e-06]. Norm change in cov: 6.950579968418899e-11.\n"
     ]
    },
    {
     "name": "stdout",
     "output_type": "stream",
     "text": [
      "Calling the false Hamiltonian\n",
      "Calling the false Hamiltonian\n",
      "Calling the false Hamiltonian\n",
      "Calling the false Hamiltonian\n",
      "Calling the false Hamiltonian\n",
      "Calling the false Hamiltonian\n",
      "Calling the false Hamiltonian\n",
      "Calling the false Hamiltonian\n"
     ]
    },
    {
     "name": "stderr",
     "output_type": "stream",
     "text": [
      "qinfer.smc - DEBUG - Resampling changed mean by [  8.85104104e-07  -5.90843022e-07]. Norm change in cov: 3.461720144882157e-11.\n"
     ]
    },
    {
     "name": "stdout",
     "output_type": "stream",
     "text": [
      "Calling the false Hamiltonian\n",
      "Calling the false Hamiltonian\n",
      "Calling the false Hamiltonian\n",
      "Calling the false Hamiltonian\n",
      "Calling the false Hamiltonian\n",
      "Calling the false Hamiltonian\n",
      "Calling the false Hamiltonian\n",
      "Calling the false Hamiltonian\n"
     ]
    },
    {
     "name": "stderr",
     "output_type": "stream",
     "text": [
      "qinfer.smc - DEBUG - Resampling changed mean by [  3.26060745e-07  -7.39431503e-07]. Norm change in cov: 1.7984772337879532e-11.\n"
     ]
    },
    {
     "name": "stdout",
     "output_type": "stream",
     "text": [
      "Calling the false Hamiltonian\n",
      "Calling the false Hamiltonian\n",
      "Calling the false Hamiltonian\n",
      "Calling the false Hamiltonian\n"
     ]
    },
    {
     "name": "stderr",
     "output_type": "stream",
     "text": [
      "qinfer.smc - DEBUG - Resampling changed mean by [  4.54348108e-07   4.49330621e-07]. Norm change in cov: 2.0960793579031883e-11.\n"
     ]
    },
    {
     "name": "stdout",
     "output_type": "stream",
     "text": [
      "Calling the false Hamiltonian\n",
      "Calling the false Hamiltonian\n",
      "Calling the false Hamiltonian\n",
      "Calling the false Hamiltonian\n",
      "Calling the false Hamiltonian\n",
      "Calling the false Hamiltonian\n",
      "Calling the false Hamiltonian\n",
      "Calling the false Hamiltonian\n"
     ]
    },
    {
     "name": "stderr",
     "output_type": "stream",
     "text": [
      "qinfer.smc - DEBUG - Resampling changed mean by [ -3.10140384e-07  -1.81706808e-07]. Norm change in cov: 3.052538055745146e-12.\n"
     ]
    },
    {
     "name": "stdout",
     "output_type": "stream",
     "text": [
      "Calling the false Hamiltonian\n",
      "Calling the false Hamiltonian\n",
      "Calling the false Hamiltonian\n",
      "Calling the false Hamiltonian\n",
      "Calling the false Hamiltonian\n",
      "Calling the false Hamiltonian\n",
      "Calling the false Hamiltonian\n",
      "Calling the false Hamiltonian\n",
      "Calling the false Hamiltonian\n",
      "Calling the false Hamiltonian\n",
      "Calling the false Hamiltonian\n",
      "Calling the false Hamiltonian\n"
     ]
    },
    {
     "name": "stderr",
     "output_type": "stream",
     "text": [
      "qinfer.smc - DEBUG - Resampling changed mean by [ -2.27285551e-07   1.17293560e-07]. Norm change in cov: 3.3708769497181634e-12.\n"
     ]
    },
    {
     "name": "stdout",
     "output_type": "stream",
     "text": [
      "Calling the false Hamiltonian\n",
      "Calling the false Hamiltonian\n",
      "Calling the false Hamiltonian\n",
      "Calling the false Hamiltonian\n",
      "Calling the false Hamiltonian\n",
      "Calling the false Hamiltonian\n",
      "Calling the false Hamiltonian\n",
      "Calling the false Hamiltonian\n"
     ]
    },
    {
     "name": "stderr",
     "output_type": "stream",
     "text": [
      "qinfer.smc - DEBUG - Resampling changed mean by [  2.71878070e-09   5.52721763e-08]. Norm change in cov: 5.710921263829758e-13.\n"
     ]
    },
    {
     "name": "stdout",
     "output_type": "stream",
     "text": [
      "Calling the false Hamiltonian\n",
      "Calling the false Hamiltonian\n",
      "Calling the false Hamiltonian\n",
      "Calling the false Hamiltonian\n",
      "Calling the false Hamiltonian\n",
      "Calling the false Hamiltonian\n",
      "Calling the false Hamiltonian\n",
      "Calling the false Hamiltonian\n"
     ]
    },
    {
     "name": "stderr",
     "output_type": "stream",
     "text": [
      "qinfer.smc - DEBUG - Resampling changed mean by [ -6.59675577e-08   5.52989483e-08]. Norm change in cov: 3.264537299300597e-13.\n"
     ]
    },
    {
     "name": "stdout",
     "output_type": "stream",
     "text": [
      "Calling the false Hamiltonian\n",
      "Calling the false Hamiltonian\n",
      "Calling the false Hamiltonian\n",
      "Calling the false Hamiltonian\n",
      "Calling the false Hamiltonian\n",
      "Calling the false Hamiltonian\n",
      "Calling the false Hamiltonian\n",
      "Calling the false Hamiltonian\n"
     ]
    },
    {
     "name": "stderr",
     "output_type": "stream",
     "text": [
      "qinfer.smc - DEBUG - Resampling changed mean by [ -1.05519545e-07   2.65678214e-08]. Norm change in cov: 9.13157618690162e-13.\n"
     ]
    },
    {
     "name": "stdout",
     "output_type": "stream",
     "text": [
      "Calling the false Hamiltonian\n",
      "Calling the false Hamiltonian\n",
      "Calling the false Hamiltonian\n",
      "Calling the false Hamiltonian\n"
     ]
    },
    {
     "name": "stderr",
     "output_type": "stream",
     "text": [
      "qinfer.smc - DEBUG - Resampling changed mean by [ -1.91558043e-07  -2.19025372e-08]. Norm change in cov: 1.1219731913648784e-12.\n"
     ]
    },
    {
     "name": "stdout",
     "output_type": "stream",
     "text": [
      "Calling the false Hamiltonian\n",
      "Calling the false Hamiltonian\n",
      "Calling the false Hamiltonian\n",
      "Calling the false Hamiltonian\n",
      "Calling the false Hamiltonian\n",
      "Calling the false Hamiltonian\n",
      "Calling the false Hamiltonian\n",
      "Calling the false Hamiltonian\n",
      "Calling the false Hamiltonian\n",
      "Calling the false Hamiltonian\n",
      "Calling the false Hamiltonian\n",
      "Calling the false Hamiltonian\n"
     ]
    },
    {
     "name": "stderr",
     "output_type": "stream",
     "text": [
      "qinfer.smc - DEBUG - Resampling changed mean by [ -7.51908592e-08   3.22308034e-08]. Norm change in cov: 1.175014026397302e-13.\n"
     ]
    },
    {
     "name": "stdout",
     "output_type": "stream",
     "text": [
      "Calling the false Hamiltonian\n",
      "Calling the false Hamiltonian\n",
      "Calling the false Hamiltonian\n",
      "Calling the false Hamiltonian\n",
      "Calling the false Hamiltonian\n",
      "Calling the false Hamiltonian\n",
      "Calling the false Hamiltonian\n",
      "Calling the false Hamiltonian\n"
     ]
    },
    {
     "name": "stderr",
     "output_type": "stream",
     "text": [
      "qinfer.smc - DEBUG - Resampling changed mean by [ -3.62476600e-08   8.99382991e-08]. Norm change in cov: 1.0271862026079369e-13.\n"
     ]
    },
    {
     "name": "stdout",
     "output_type": "stream",
     "text": [
      "Calling the false Hamiltonian\n",
      "Calling the false Hamiltonian\n",
      "Calling the false Hamiltonian\n",
      "Calling the false Hamiltonian\n",
      "Calling the false Hamiltonian\n",
      "Calling the false Hamiltonian\n",
      "Calling the false Hamiltonian\n",
      "Calling the false Hamiltonian\n"
     ]
    },
    {
     "name": "stderr",
     "output_type": "stream",
     "text": [
      "qinfer.smc - DEBUG - Resampling changed mean by [  5.60149445e-08   1.65406954e-08]. Norm change in cov: 1.2952170215394533e-13.\n"
     ]
    },
    {
     "name": "stdout",
     "output_type": "stream",
     "text": [
      "Calling the false Hamiltonian\n",
      "Calling the false Hamiltonian\n",
      "Calling the false Hamiltonian\n",
      "Calling the false Hamiltonian\n",
      "Calling the false Hamiltonian\n",
      "Calling the false Hamiltonian\n",
      "Calling the false Hamiltonian\n",
      "Calling the false Hamiltonian\n",
      "Calling the false Hamiltonian\n",
      "Calling the false Hamiltonian\n",
      "Calling the false Hamiltonian\n",
      "Calling the false Hamiltonian\n"
     ]
    },
    {
     "name": "stderr",
     "output_type": "stream",
     "text": [
      "qinfer.smc - DEBUG - Resampling changed mean by [ -7.05227549e-08  -1.22504095e-08]. Norm change in cov: 4.0924599799478955e-13.\n"
     ]
    },
    {
     "name": "stdout",
     "output_type": "stream",
     "text": [
      "Calling the false Hamiltonian\n",
      "Calling the false Hamiltonian\n",
      "Calling the false Hamiltonian\n",
      "Calling the false Hamiltonian\n",
      "Calling the false Hamiltonian\n",
      "Calling the false Hamiltonian\n",
      "Calling the false Hamiltonian\n",
      "Calling the false Hamiltonian\n"
     ]
    },
    {
     "name": "stderr",
     "output_type": "stream",
     "text": [
      "qinfer.smc - DEBUG - Resampling changed mean by [ -1.32522264e-08   1.59494472e-08]. Norm change in cov: 3.3272467300304665e-14.\n"
     ]
    },
    {
     "name": "stdout",
     "output_type": "stream",
     "text": [
      "Calling the false Hamiltonian\n",
      "Calling the false Hamiltonian\n",
      "Calling the false Hamiltonian\n",
      "Calling the false Hamiltonian\n",
      "Calling the false Hamiltonian\n",
      "Calling the false Hamiltonian\n",
      "Calling the false Hamiltonian\n",
      "Calling the false Hamiltonian\n",
      "Calling the false Hamiltonian\n",
      "Calling the false Hamiltonian\n",
      "Calling the false Hamiltonian\n",
      "Calling the false Hamiltonian\n"
     ]
    },
    {
     "name": "stderr",
     "output_type": "stream",
     "text": [
      "qinfer.smc - DEBUG - Resampling changed mean by [  9.53935020e-09   6.02313199e-09]. Norm change in cov: 2.5508812317227402e-14.\n"
     ]
    },
    {
     "name": "stdout",
     "output_type": "stream",
     "text": [
      "Calling the false Hamiltonian\n",
      "Calling the false Hamiltonian\n",
      "Calling the false Hamiltonian\n",
      "Calling the false Hamiltonian\n",
      "Calling the false Hamiltonian\n",
      "Calling the false Hamiltonian\n",
      "Calling the false Hamiltonian\n",
      "Calling the false Hamiltonian\n"
     ]
    },
    {
     "name": "stderr",
     "output_type": "stream",
     "text": [
      "qinfer.smc - DEBUG - Resampling changed mean by [  6.04804040e-09   6.79696033e-09]. Norm change in cov: 2.9590945392394222e-15.\n"
     ]
    },
    {
     "name": "stdout",
     "output_type": "stream",
     "text": [
      "Calling the false Hamiltonian\n",
      "Calling the false Hamiltonian\n",
      "Calling the false Hamiltonian\n",
      "Calling the false Hamiltonian\n"
     ]
    },
    {
     "name": "stderr",
     "output_type": "stream",
     "text": [
      "qinfer.smc - DEBUG - Resampling changed mean by [ -2.08877954e-09  -1.03377938e-08]. Norm change in cov: 2.755780643793651e-15.\n"
     ]
    },
    {
     "name": "stdout",
     "output_type": "stream",
     "text": [
      "Calling the false Hamiltonian\n",
      "Calling the false Hamiltonian\n",
      "Calling the false Hamiltonian\n",
      "Calling the false Hamiltonian\n",
      "elapsed time: 37.18885661080074\n"
     ]
    }
   ],
   "source": [
    "start = time.clock()\n",
    "\n",
    "perf = qi.perf_test(model=model, n_particles=n_particles, prior=prior,\n",
    "        n_exp=n_experiments, true_mps = true_params, heuristic_class=partial(mpgh.multiPGH, inv_field=inv_field, t_field='t'), \n",
    "                    extra_updater_args = extra_updater_args)\n",
    "\n",
    "end=time.clock()\n",
    "print('elapsed time: ' + str(end-start))"
   ]
  },
  {
   "cell_type": "code",
   "execution_count": 17,
   "metadata": {
    "collapsed": false
   },
   "outputs": [
    {
     "data": {
      "text/plain": [
       "<matplotlib.legend.Legend at 0xbef7a90>"
      ]
     },
     "execution_count": 17,
     "metadata": {},
     "output_type": "execute_result"
    },
    {
     "data": {
      "image/png": "[encoded data removed]",
      "text/plain": [
       "<matplotlib.figure.Figure at 0xbef72e8>"
      ]
     },
     "metadata": {},
     "output_type": "display_data"
    }
   ],
   "source": [
    "bayes_risk = perf['loss']\n",
    "\n",
    "plt.semilogy(bayes_risk, label='{} particles'.format(n_particles))\n",
    "\n",
    "plt.xlabel('# of Measurements')\n",
    "plt.ylabel('Bayes Risk')\n",
    "plt.legend()"
   ]
  }
 ],
 "metadata": {
  "anaconda-cloud": {},
  "kernelspec": {
   "display_name": "Python [conda root]",
   "language": "python",
   "name": "conda-root-py"
  },
  "language_info": {
   "codemirror_mode": {
    "name": "ipython",
    "version": 3
   },
   "file_extension": ".py",
   "mimetype": "text/x-python",
   "name": "python",
   "nbconvert_exporter": "python",
   "pygments_lexer": "ipython3",
   "version": "3.5.2"
  }
 },
 "nbformat": 4,
 "nbformat_minor": 0
}
