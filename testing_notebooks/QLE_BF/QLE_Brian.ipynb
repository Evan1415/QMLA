{
 "cells": [
  {
   "cell_type": "markdown",
   "metadata": {},
   "source": [
    "# Simulated Quantum Likelihood Estimation"
   ]
  },
  {
   "cell_type": "markdown",
   "metadata": {},
   "source": [
    "Load libraries"
   ]
  },
  {
   "cell_type": "code",
   "execution_count": 1,
   "metadata": {
    "collapsed": true
   },
   "outputs": [],
   "source": [
    "%matplotlib inline\n",
    "\n",
    "import os as os\n",
    "import time as time\n",
    "import qinfer as qi\n",
    "import numpy as np\n",
    "import importlib as importlib\n",
    "import pickle as pkl\n",
    "import matplotlib.pyplot as plt\n",
    "from IPython.display import display, Math, Latex\n",
    "from functools import partial\n",
    "import importlib as imp\n",
    "import future\n",
    "import numpy as np\n",
    "import scipy as sp\n",
    "from scipy import linalg \n",
    "import time\n",
    "import datetime\n",
    "import sys, os\n",
    "import time as time\n",
    "import matplotlib.mlab as mlab\n",
    "dire = os.getcwd()"
   ]
  },
  {
   "cell_type": "code",
   "execution_count": 2,
   "metadata": {},
   "outputs": [
    {
     "data": {
      "text/plain": [
       "<module 'qinfer' from '/home/brian/.local/lib/python3.5/site-packages/qinfer/__init__.py'>"
      ]
     },
     "execution_count": 2,
     "metadata": {},
     "output_type": "execute_result"
    }
   ],
   "source": [
    "imp.reload(qi)"
   ]
  },
  {
   "cell_type": "code",
   "execution_count": 3,
   "metadata": {
    "collapsed": true
   },
   "outputs": [],
   "source": [
    "sys.path.append(os.path.join(\"..\", \"..\", \"Libraries\",\"QML_lib\"))\n",
    "import Evo as evo"
   ]
  },
  {
   "cell_type": "markdown",
   "metadata": {},
   "source": [
    "## Set up list of probes"
   ]
  },
  {
   "cell_type": "code",
   "execution_count": 4,
   "metadata": {
    "collapsed": true
   },
   "outputs": [],
   "source": [
    "# initialise an array of random probe states\n",
    "# TODO: generalise this to vectors of length 2^n... here n=1\n",
    "global num_probes\n",
    "global probes\n",
    "global probe_counter\n",
    "num_probes = 40\n",
    "probes = np.empty([num_probes,2], dtype=complex)\n",
    "probe_counter = 0\n",
    "\n",
    "random_vectors = np.random.rand(num_probes,2)\n",
    "imaginary = np.random.rand(num_probes,2)\n",
    "\n",
    "# Want: alpha |0> + beta |1>, with alpha & beta complex. \n",
    "# Generate random alpha = alpha_real + j.alpha_imag\n",
    "# normalise those \n",
    "# place in probes array\n",
    "\n",
    "complex_vectors = np.empty([num_probes, 2])\n",
    "complex_vectors = random_vectors +1.j*imaginary\n",
    "alpha = complex_vectors[:,0]\n",
    "beta = complex_vectors[:,1]\n",
    "norm = np.empty([num_probes])\n",
    "for l in range(0, num_probes):\n",
    "    norm[l] = np.sqrt(np.abs(alpha[l])**2 + np.abs(beta[l])**2)\n",
    "    normalised_alpha = alpha[l]/norm[l] \n",
    "    normalised_beta  = beta[l]/norm[l]\n",
    "    probes[l,0] = normalised_alpha\n",
    "    probes[l,1] = normalised_beta"
   ]
  },
  {
   "cell_type": "code",
   "execution_count": 5,
   "metadata": {
    "collapsed": true
   },
   "outputs": [],
   "source": [
    "def eval_loss(\n",
    "        model, est_mean, true_mps=None,\n",
    "        true_model=None, true_prior=None\n",
    "    ):\n",
    "    \n",
    "    if true_model is None:\n",
    "        true_model = model\n",
    "\n",
    "    if true_mps is None:\n",
    "        true_mps = true_model.update_timestep(\n",
    "            promote_dims_left(true_mps, 2), expparams\n",
    "        )[:, :, 0]\n",
    "\n",
    "    if model.n_modelparams != true_model.n_modelparams:\n",
    "        raise RuntimeError(\"The number of Parameters in True and Simulated model are different.\")\n",
    "                           \n",
    "    n_pars = model.n_modelparams\n",
    "\n",
    "    delta = np.subtract(*qi.perf_testing.shorten_right(est_mean, true_mps))\n",
    "    loss = np.dot(delta**2, model.Q[-n_pars:])\n",
    "\n",
    "    return loss\n"
   ]
  },
  {
   "cell_type": "code",
   "execution_count": 6,
   "metadata": {
    "collapsed": true
   },
   "outputs": [],
   "source": [
    "def get_prob(t, op_list, param_list):\n",
    "    probe_preiodicity = 50\n",
    "    num_terms = len(param_list)\n",
    "    hamiltonian = 0\n",
    "    for i in range(num_terms):\n",
    "        hamiltonian += param_list[i]*op_list[i,:,:]\n",
    "    unitary_param = (-1.j)*hamiltonian*t\n",
    "    unitary_mtx = sp.linalg.expm(unitary_param)\n",
    "\n",
    "    normalised_probe = np.array([probes[probe_counter%num_probes]])\n",
    "    probe_bra = normalised_probe\n",
    "    probe_ket = np.transpose(normalised_probe)\n",
    "    u_probe = unitary_mtx @ probe_ket # perform unitary matrix of hamiltonian on ket form of probe state\n",
    "    probe_u_probe = probe_bra @ u_probe # multiply be bra form of probe\n",
    "    probability = abs(probe_u_probe)**2\n",
    "\n",
    "    return float(probability)\n"
   ]
  },
  {
   "cell_type": "code",
   "execution_count": 7,
   "metadata": {
    "collapsed": true
   },
   "outputs": [],
   "source": [
    "class tHeurist(qi.Heuristic):\n",
    "    \n",
    "    def identity(arg): return arg\n",
    "    \n",
    "    def __init__(self, updater, t_field='ts',\n",
    "                 t_func=identity,\n",
    "                 maxiters=10\n",
    "                 ):\n",
    "        super(tHeurist, self).__init__(updater)\n",
    "        self._t = t_field\n",
    "        self._t_func = t_func\n",
    "        self._maxiters = maxiters\n",
    "        \n",
    "    def __call__(self):\n",
    "        idx_iter = 0\n",
    "        while idx_iter < self._maxiters:\n",
    "                \n",
    "            x, xp = self._updater.sample(n=2)[:, np.newaxis, :] \n",
    "            if self._updater.model.distance(x, xp) > 0:\n",
    "                break\n",
    "            else:\n",
    "                idx_iter += 1\n",
    "                \n",
    "        if self._updater.model.distance(x, xp) == 0:\n",
    "            raise RuntimeError(\"PGH did not find distinct particles in {} iterations.\".format(self._maxiters))\n",
    "            \n",
    "#        eps = np.empty((1,), dtype=self._updater.model.expparams_dtype)\n",
    "        eps = np.zeros((1,), dtype=self._updater.model.expparams_dtype)\n",
    "        eps[self._t]  = self._t_func(1 / self._updater.model.distance(x, xp))\n",
    "        # this does not set non-time fields to anything in eps.... do we ever use those fields?\n",
    "        return eps\n"
   ]
  },
  {
   "cell_type": "code",
   "execution_count": 8,
   "metadata": {
    "collapsed": true
   },
   "outputs": [],
   "source": [
    "class simulated_QLE(qi.FiniteOutcomeModel):\n",
    "    \n",
    "    def __init__(self, op_list, param_list): \n",
    "        self._param_list = param_list # Multiplicative parameters for operators\n",
    "        self._op_list = op_list # Operators to form Hamiltonian \n",
    "        # Define Hamiltonian from operators and parameters list\n",
    "        self._num_terms = len(self._param_list[0])\n",
    "        super(simulated_QLE, self).__init__(self._op_list, self._param_list)\n",
    "    \n",
    "    ## Properties\n",
    "    @property    \n",
    "    def n_modelparams(self):\n",
    "        return self._num_terms\n",
    "    \n",
    "    # Modelparams is the list of parameters in the System Hamiltonian - the ones we want to know\n",
    "    # Possibly add a second axis to modelparams.    \n",
    "    @property\n",
    "    def modelparam_names(self):\n",
    "        modnames = ['w0']\n",
    "        for modpar in range(self.n_modelparams-1):\n",
    "            modnames.append('w' + str(modpar+1))\n",
    "        return modnames\n",
    "\n",
    "    # expparams are the {t, w1, w2, ...} guessed parameters, i.e. each element \n",
    "    # is a particle with a specific sampled value of the corresponding parameter\n",
    "  \n",
    "    @property\n",
    "    def expparams_dtype(self):\n",
    "        expnames = [('ts', 'float')]\n",
    "        for exppar in range(self.n_modelparams):\n",
    "            expnames.append(('w' + str(exppar+1), 'float'))\n",
    "        return expnames\n",
    "    \n",
    "    @property\n",
    "    def is_n_outcomes_constant(self):\n",
    "        \"\"\"\n",
    "        Returns ``True`` if and only if the number of outcomes for each\n",
    "        experiment is independent of the experiment being performed.\n",
    "        \n",
    "        This property is assumed by inference engines to be constant for\n",
    "        the lifetime of a Model instance.\n",
    "        \"\"\"\n",
    "        return True\n",
    "\n",
    "    ## Functions which are required to inherit from  FiniteOutcomeModel\n",
    "    ## Currently filler to avoid errors. Will fill in as needed. \n",
    "    def are_models_valid(self, modelparams): \n",
    "        ## TODO: robust method here\n",
    "#         w0, w1 = modelparams.T\n",
    "#         this_thing= np.all(\n",
    "#             [np.logical_and(w0 > 0, w0 <= 1),\n",
    "#             np.logical_and(w1 >= -1, w1 <= 1)],\n",
    "#             axis=0)\n",
    "#         return this_thing\n",
    "       \n",
    "        return np.all(np.logical_and(modelparams > 0, modelparams <= 1), axis=1)        \n",
    "\n",
    "    def n_outcomes(self, exp_params):\n",
    "        return 2\n",
    "        \n",
    "    def likelihood(self, outcome, modelparams, expparams):\n",
    "        if len(modelparams.shape) == 1:\n",
    "            modelparams = modelparams[..., np.newaxis]\n",
    "        \n",
    "        t = expparams['ts']\n",
    "        pr0 = np.zeros((modelparams.shape[0], expparams.shape[0])) \n",
    "        for idx_row in range(0, modelparams.shape[0]):\n",
    "            for idx_col in range(0, expparams.shape[0]):\n",
    "                pr0[idx_row, idx_col] = get_prob(t=t, op_list= self._op_list, param_list = modelparams[idx_row])\n",
    "        likelihood = qi.FiniteOutcomeModel.pr0_to_likelihood_array(outcome, pr0)\n",
    "        return likelihood    \n"
   ]
  },
  {
   "cell_type": "code",
   "execution_count": 9,
   "metadata": {
    "collapsed": true
   },
   "outputs": [],
   "source": [
    "def run_qle(param_list, op_list, n_particles, n_experiments, resample_thresh, resample_a): \n",
    "    # set mean and covariance based on true parameter list\n",
    "    mean = np.zeros((len(param_list[0])))\n",
    "    cov  = np.zeros((len(param_list[0]), len(param_list[0])))\n",
    "    for a in range(len(param_list[0])):\n",
    "        mean[a] = param_list[0,a] + 0.08\n",
    "        cov[a,a] = 0.2\n",
    "#         mean[a] = param_list[0,a] + 0.15\n",
    "#         cov[a,a] = param_list[0,a] + 0.11\n",
    "    prior = qi.MultivariateNormalDistribution(mean, cov)\n",
    "    model = simulated_QLE(op_list=op_list, param_list=param_list)\n",
    "    param_names = model.modelparam_names\n",
    "    updater = qi.SMCUpdater(model, n_particles, prior, resample_thresh=resample_thresh, resample_a=resample_a)\n",
    "    heuristic = tHeurist(updater, t_field='ts')\n",
    "    track_parameters = np.zeros((len(param_list[0]), n_experiments))\n",
    "    track_locations = np.zeros([n_particles, len(param_list[0]), n_experiments])\n",
    "    track_weights = np.empty([n_particles, n_experiments])\n",
    "    track_loss = np.empty(n_experiments)\n",
    "    track_time = np.empty(n_experiments)\n",
    "    resample_points=list()\n",
    "    resample_points.append(0)\n",
    "    \n",
    "    probe_counter=0\n",
    "    for idx in range(n_experiments):\n",
    "        probe_counter+=1\n",
    "        experiment=heuristic()\n",
    "        datum = model.simulate_experiment(param_list, experiment)\n",
    "        updater.update(datum, experiment)\n",
    "        new_eval = updater.est_mean()\n",
    "        for param in range(len(param_list[0])):\n",
    "            track_parameters[param, idx] = new_eval[param]\n",
    "        new_loss = eval_loss(model, new_eval, param_list)\n",
    "        track_loss[idx] = new_loss[0]\n",
    "        track_locations[:, :, idx] = updater.particle_locations\n",
    "        track_weights[:, idx] = updater.particle_weights\n",
    "        track_time[idx] = experiment[0][0] # time given by heuristic\n",
    "        if updater.just_resampled is True:\n",
    "            resample_points.append(idx)\n",
    "    return track_parameters, track_loss, track_locations, track_weights, track_time, param_names, resample_points"
   ]
  },
  {
   "cell_type": "markdown",
   "metadata": {},
   "source": [
    "## Run QLE \n",
    "Outputs of QLE: \n",
    "* Array qle_results with parameter values at each step\n",
    "* loss array: quadratic loss at each experiment\n",
    "* locations array: locations of particles at each experiment\n",
    "* weights: weights at each experiment\n",
    "* names: names of each parameter"
   ]
  },
  {
   "cell_type": "code",
   "execution_count": 10,
   "metadata": {
    "collapsed": true
   },
   "outputs": [],
   "source": [
    "# From loop over thresh = (0.5, 1.0); a=(0.70, 0.95), best found resampling threshold and a are as below.\n",
    "\n",
    "min_thresh = 0.55\n",
    "min_a = 0.7\n",
    "n_particles=30\n",
    "n_experiments=2\n",
    "op_list=np.array([evo.sigmaz()])\n",
    "param_list = np.array([[0.12]])\n",
    "# op_list=np.array([evo.sigmax(), evo.sigmaz(), evo.sigmay()])\n",
    "# param_list = np.array([[0.44, 0.12, 0.67]])\n",
    "resample_thresh=min_thresh\n",
    "resample_a=min_a\n",
    "qle_results, loss, locations, weights, times, names, resample_points = \\\n",
    "    run_qle(param_list=param_list, op_list=op_list, n_particles=n_particles, \\\n",
    "            n_experiments=n_experiments, resample_thresh=resample_thresh, resample_a=resample_a)\n"
   ]
  },
  {
   "cell_type": "code",
   "execution_count": 66,
   "metadata": {},
   "outputs": [
    {
     "name": "stderr",
     "output_type": "stream",
     "text": [
      "/home/brian/.local/lib/python3.5/site-packages/qinfer/smc.py:285: ApproximationWarning: Extremely small n_ess encountered (9.521721554183458). Resampling is likely to fail. Consider adding particles, or resampling more often.\n",
      "  ApproximationWarning\n",
      "/home/brian/.local/lib/python3.5/site-packages/qinfer/resamplers.py:349: ResamplerWarning: Liu-West resampling failed to find valid models for 4 particles within 1000 iterations.\n",
      "  ).format(idxs_to_resample.size, self._maxiter), ResamplerWarning)\n"
     ]
    }
   ],
   "source": [
    "n_particles=20\n",
    "n_experiments=10\n",
    "# op_list=np.array([evo.sigmax()])\n",
    "# param_list = np.array([[0.44]])\n",
    "op_list=np.array([evo.sigmax(), evo.sigmaz()])\n",
    "param_list = np.array([[0.44, 0.12]])\n",
    "resample_thresh=0.5\n",
    "resample_a=0.95\n",
    "qle_results, loss, locations, weights, times, names, resample_points = \\\n",
    "    run_qle(param_list=param_list, op_list=op_list, n_particles=n_particles, \\\n",
    "            n_experiments=n_experiments, resample_thresh=resample_thresh, resample_a=resample_a)\n"
   ]
  },
  {
   "cell_type": "code",
   "execution_count": 43,
   "metadata": {},
   "outputs": [
    {
     "name": "stderr",
     "output_type": "stream",
     "text": [
      "/home/brian/.local/lib/python3.5/site-packages/qinfer/utils.py:268: ApproximationWarning: Numerical error in covariance estimation causing positive semidefinite violation.\n",
      "  warnings.warn('Numerical error in covariance estimation causing positive semidefinite violation.', ApproximationWarning)\n",
      "/home/brian/.local/lib/python3.5/site-packages/qinfer/resamplers.py:349: ResamplerWarning: Liu-West resampling failed to find valid models for 1 particles within 1000 iterations.\n",
      "  ).format(idxs_to_resample.size, self._maxiter), ResamplerWarning)\n",
      "/home/brian/.local/lib/python3.5/site-packages/qinfer/resamplers.py:349: ResamplerWarning: Liu-West resampling failed to find valid models for 2 particles within 1000 iterations.\n",
      "  ).format(idxs_to_resample.size, self._maxiter), ResamplerWarning)\n",
      "/home/brian/.local/lib/python3.5/site-packages/qinfer/resamplers.py:349: ResamplerWarning: Liu-West resampling failed to find valid models for 4 particles within 1000 iterations.\n",
      "  ).format(idxs_to_resample.size, self._maxiter), ResamplerWarning)\n",
      "/home/brian/.local/lib/python3.5/site-packages/qinfer/resamplers.py:349: ResamplerWarning: Liu-West resampling failed to find valid models for 11 particles within 1000 iterations.\n",
      "  ).format(idxs_to_resample.size, self._maxiter), ResamplerWarning)\n",
      "/home/brian/.local/lib/python3.5/site-packages/qinfer/resamplers.py:349: ResamplerWarning: Liu-West resampling failed to find valid models for 6 particles within 1000 iterations.\n",
      "  ).format(idxs_to_resample.size, self._maxiter), ResamplerWarning)\n",
      "/home/brian/.local/lib/python3.5/site-packages/qinfer/resamplers.py:349: ResamplerWarning: Liu-West resampling failed to find valid models for 5 particles within 1000 iterations.\n",
      "  ).format(idxs_to_resample.size, self._maxiter), ResamplerWarning)\n",
      "/home/brian/.local/lib/python3.5/site-packages/qinfer/resamplers.py:349: ResamplerWarning: Liu-West resampling failed to find valid models for 8 particles within 1000 iterations.\n",
      "  ).format(idxs_to_resample.size, self._maxiter), ResamplerWarning)\n",
      "/home/brian/.local/lib/python3.5/site-packages/qinfer/resamplers.py:349: ResamplerWarning: Liu-West resampling failed to find valid models for 7 particles within 1000 iterations.\n",
      "  ).format(idxs_to_resample.size, self._maxiter), ResamplerWarning)\n",
      "/home/brian/.local/lib/python3.5/site-packages/qinfer/resamplers.py:349: ResamplerWarning: Liu-West resampling failed to find valid models for 3 particles within 1000 iterations.\n",
      "  ).format(idxs_to_resample.size, self._maxiter), ResamplerWarning)\n",
      "/home/brian/.local/lib/python3.5/site-packages/qinfer/resamplers.py:349: ResamplerWarning: Liu-West resampling failed to find valid models for 9 particles within 1000 iterations.\n",
      "  ).format(idxs_to_resample.size, self._maxiter), ResamplerWarning)\n",
      "/home/brian/.local/lib/python3.5/site-packages/qinfer/resamplers.py:349: ResamplerWarning: Liu-West resampling failed to find valid models for 14 particles within 1000 iterations.\n",
      "  ).format(idxs_to_resample.size, self._maxiter), ResamplerWarning)\n",
      "/home/brian/.local/lib/python3.5/site-packages/qinfer/resamplers.py:349: ResamplerWarning: Liu-West resampling failed to find valid models for 12 particles within 1000 iterations.\n",
      "  ).format(idxs_to_resample.size, self._maxiter), ResamplerWarning)\n",
      "/home/brian/.local/lib/python3.5/site-packages/qinfer/resamplers.py:349: ResamplerWarning: Liu-West resampling failed to find valid models for 10 particles within 1000 iterations.\n",
      "  ).format(idxs_to_resample.size, self._maxiter), ResamplerWarning)\n",
      "/home/brian/.local/lib/python3.5/site-packages/qinfer/smc.py:429: ApproximationWarning: Negative weights occured in particle approximation. Smallest weight observed == -6.084836343934827e-14. Clipping weights.\n",
      "  warnings.warn(\"Negative weights occured in particle approximation. Smallest weight observed == {}. Clipping weights.\".format(np.min(weights)), ApproximationWarning)\n",
      "/home/brian/.local/lib/python3.5/site-packages/qinfer/smc.py:429: ApproximationWarning: Negative weights occured in particle approximation. Smallest weight observed == -4.5021733632472867e-13. Clipping weights.\n",
      "  warnings.warn(\"Negative weights occured in particle approximation. Smallest weight observed == {}. Clipping weights.\".format(np.min(weights)), ApproximationWarning)\n",
      "/home/brian/.local/lib/python3.5/site-packages/qinfer/resamplers.py:349: ResamplerWarning: Liu-West resampling failed to find valid models for 15 particles within 1000 iterations.\n",
      "  ).format(idxs_to_resample.size, self._maxiter), ResamplerWarning)\n",
      "/home/brian/.local/lib/python3.5/site-packages/qinfer/resamplers.py:349: ResamplerWarning: Liu-West resampling failed to find valid models for 24 particles within 1000 iterations.\n",
      "  ).format(idxs_to_resample.size, self._maxiter), ResamplerWarning)\n",
      "/home/brian/.local/lib/python3.5/site-packages/qinfer/smc.py:429: ApproximationWarning: Negative weights occured in particle approximation. Smallest weight observed == -2.5258345413960188e-11. Clipping weights.\n",
      "  warnings.warn(\"Negative weights occured in particle approximation. Smallest weight observed == {}. Clipping weights.\".format(np.min(weights)), ApproximationWarning)\n",
      "/home/brian/.local/lib/python3.5/site-packages/qinfer/resamplers.py:349: ResamplerWarning: Liu-West resampling failed to find valid models for 23 particles within 1000 iterations.\n",
      "  ).format(idxs_to_resample.size, self._maxiter), ResamplerWarning)\n",
      "/home/brian/.local/lib/python3.5/site-packages/qinfer/resamplers.py:349: ResamplerWarning: Liu-West resampling failed to find valid models for 13 particles within 1000 iterations.\n",
      "  ).format(idxs_to_resample.size, self._maxiter), ResamplerWarning)\n",
      "/home/brian/.local/lib/python3.5/site-packages/qinfer/resamplers.py:349: ResamplerWarning: Liu-West resampling failed to find valid models for 20 particles within 1000 iterations.\n",
      "  ).format(idxs_to_resample.size, self._maxiter), ResamplerWarning)\n",
      "/home/brian/.local/lib/python3.5/site-packages/qinfer/resamplers.py:260: ResamplerWarning: Covariance has zero norm; adding in small covariance in resampler. Consider increasing n_particles to improve covariance estimates.\n",
      "  ResamplerWarning\n",
      "/home/brian/.local/lib/python3.5/site-packages/qinfer/resamplers.py:349: ResamplerWarning: Liu-West resampling failed to find valid models for 16 particles within 1000 iterations.\n",
      "  ).format(idxs_to_resample.size, self._maxiter), ResamplerWarning)\n",
      "/home/brian/.local/lib/python3.5/site-packages/qinfer/resamplers.py:349: ResamplerWarning: Liu-West resampling failed to find valid models for 19 particles within 1000 iterations.\n",
      "  ).format(idxs_to_resample.size, self._maxiter), ResamplerWarning)\n",
      "/home/brian/.local/lib/python3.5/site-packages/qinfer/resamplers.py:349: ResamplerWarning: Liu-West resampling failed to find valid models for 17 particles within 1000 iterations.\n",
      "  ).format(idxs_to_resample.size, self._maxiter), ResamplerWarning)\n"
     ]
    }
   ],
   "source": [
    "# to run QLE\n",
    "# set n_particles, n_experiments, op_list, param_list\n",
    "thresh_min=0.5\n",
    "thresh_max=0.99\n",
    "thresh_diff=0.05\n",
    "resample_thresh_span = np.arange(thresh_min, thresh_max, thresh_diff)\n",
    "num_thresh_vals = len(resample_thresh_span)\n",
    "\n",
    "a_min=0.7\n",
    "a_max=0.95\n",
    "a_diff=0.01\n",
    "resample_a_span=np.arange(a_min, a_max, a_diff)\n",
    "num_a_vals=len(resample_a_span)\n",
    "final_losses = np.zeros((num_thresh_vals*num_a_vals,3))\n",
    "#resample_thresh=0.5\n",
    "#resample_a=0.9\n",
    "\n",
    "n_particles=300\n",
    "n_experiments=250\n",
    "op_list=np.array([evo.sigmax()])\n",
    "param_list = np.array([[0.44]])\n",
    "#op_list=np.array([evo.sigmax(), evo.sigmaz(), evo.sigmay()])\n",
    "#param_list = np.array([[0.44, 0.86, 0.5]])\n",
    "\n",
    "# For loop to calculate quadratic loss for ranges of resampling threshold & a. \n",
    "k=0\n",
    "for i in range(num_thresh_vals):\n",
    "    resample_thresh = resample_thresh=resample_thresh_span[i]\n",
    "    for j in range(num_a_vals):\n",
    "        resample_a = resample_a_span[j]\n",
    "        qle_results, loss, locations, weights, times, names, resample_points = \\\n",
    "            run_qle(param_list=param_list, op_list=op_list, n_particles=n_particles, \\\n",
    "                    n_experiments=n_experiments, resample_thresh=resample_thresh, resample_a=resample_a)\n",
    "        final_losses[k][0]=resample_thresh\n",
    "        final_losses[k][1]=resample_a\n",
    "        final_losses[k][2]=loss[n_experiments-1]\n",
    "        k+=1"
   ]
  },
  {
   "cell_type": "code",
   "execution_count": 81,
   "metadata": {
    "collapsed": true
   },
   "outputs": [],
   "source": [
    "store_losses_array = final_losses\n",
    "min_loss=1\n",
    "min_loc=0\n",
    "for i in range(len(store_losses_array)):\n",
    "    if(store_losses_array[i,2]) < min_loss:\n",
    "        min_loss = store_losses_array[i,2]\n",
    "        min_loc = i\n",
    "        \n",
    "min_thresh = store_losses_array[min_loc,0]\n",
    "min_a = store_losses_array[min_loc,1]\n",
    "n_particles=300\n",
    "n_experiments=200\n",
    "op_list=np.array([evo.sigmaz()])\n",
    "param_list = np.array([[0.12]])\n",
    "# op_list=np.array([evo.sigmax(), evo.sigmaz(), evo.sigmay()])\n",
    "# param_list = np.array([[0.44, 0.12, 0.67]])\n",
    "resample_thresh=min_thresh\n",
    "resample_a=min_a\n",
    "qle_results, loss, locations, weights, times, names, resample_points = \\\n",
    "    run_qle(param_list=param_list, op_list=op_list, n_particles=n_particles, \\\n",
    "            n_experiments=n_experiments, resample_thresh=resample_thresh, resample_a=resample_a)\n"
   ]
  },
  {
   "cell_type": "markdown",
   "metadata": {},
   "source": [
    "## Plots\n",
    "* Plot parameter values Vs experiment number"
   ]
  },
  {
   "cell_type": "code",
   "execution_count": 11,
   "metadata": {},
   "outputs": [
    {
     "name": "stdout",
     "output_type": "stream",
     "text": [
      "i= 0\n",
      "True value for  w0  =  0.12\n",
      "Estimated value for  w0  =  -0.001097182534 \n",
      "\n"
     ]
    },
    {
     "data": {
      "image/png": "[encoded data removed]",
      "text/plain": [
       "<matplotlib.figure.Figure at 0x7f29b163c438>"
      ]
     },
     "metadata": {},
     "output_type": "display_data"
    }
   ],
   "source": [
    "num_params = np.shape(qle_results)[0]\n",
    "num_exps = np.shape(qle_results)[1]\n",
    "colours = np.array(['r','g','b','k','y'])\n",
    "\n",
    "for i in range(num_params):\n",
    "    print('i=', i)\n",
    "    print('True value for ', names[i], ' = ', param_list[0,i])\n",
    "    print('Estimated value for ', names[i], ' = ', qle_results[i, num_exps -1], '\\n')    \n",
    "    plt.axhline(y=param_list[0,i], xmin=0, xmax=n_experiments, hold=None, color=colours[i%len(colours)])\n",
    "    plt.plot(qle_results[i], label=names[i],color=colours[i])\n",
    "    plt.legend(loc='center right')\n",
    "    plt.xlabel('Experiment Number')\n",
    "    plt.ylabel(names[i])"
   ]
  },
  {
   "cell_type": "markdown",
   "metadata": {},
   "source": [
    "* Time chosen by heuristic Vs exeriment number"
   ]
  },
  {
   "cell_type": "markdown",
   "metadata": {},
   "source": [
    "## Plot prior distributions\n",
    "In particular, check distribution before and after resampling (in resample_points). "
   ]
  },
  {
   "cell_type": "code",
   "execution_count": 77,
   "metadata": {},
   "outputs": [
    {
     "data": {
      "image/png": "[encoded data removed]",
      "text/plain": [
       "<matplotlib.figure.Figure at 0x7f19176411d0>"
      ]
     },
     "metadata": {},
     "output_type": "display_data"
    }
   ],
   "source": [
    "timestep=resample_points[len(resample_points)-1]\n",
    "timestep = resample_points[0]\n",
    "mean = np.mean(locations[:,0,timestep])\n",
    "cov = np.std(locations[:,0,timestep])\n",
    "omegaslist = np.linspace(0, 1, 100)\n",
    "plt.plot(omegaslist,mlab.normpdf(omegaslist, mean, cov))\n",
    "plt.show()"
   ]
  },
  {
   "cell_type": "markdown",
   "metadata": {},
   "source": [
    "## Plot log of times Vs epoch"
   ]
  },
  {
   "cell_type": "markdown",
   "metadata": {},
   "source": [
    "plt.semilogy(times)\n",
    "plt.xlabel('# of Measurements')\n",
    "plt.ylabel('t from PGH')\n",
    "\n",
    "plt.show()"
   ]
  },
  {
   "cell_type": "markdown",
   "metadata": {},
   "source": [
    "## Plot log of quadratic loss Vs epoch"
   ]
  },
  {
   "cell_type": "code",
   "execution_count": 78,
   "metadata": {},
   "outputs": [
    {
     "data": {
      "image/png": "[encoded data removed]",
      "text/plain": [
       "<matplotlib.figure.Figure at 0x7f1917898a58>"
      ]
     },
     "metadata": {},
     "output_type": "display_data"
    }
   ],
   "source": [
    "plt.semilogy(loss)\n",
    "plt.xlabel('# of Measurements')\n",
    "plt.ylabel('Loss')\n",
    "\n",
    "plt.show()"
   ]
  },
  {
   "cell_type": "markdown",
   "metadata": {},
   "source": [
    "* Particle locations at each experiment. \n",
    "\n",
    "Timestep = experiment number. Change this to observe how particles (should) converge over experiments"
   ]
  },
  {
   "cell_type": "code",
   "execution_count": 148,
   "metadata": {},
   "outputs": [
    {
     "ename": "ValueError",
     "evalue": "x and y must be the same size",
     "output_type": "error",
     "traceback": [
      "\u001b[0;31m---------------------------------------------------------------------------\u001b[0m",
      "\u001b[0;31mValueError\u001b[0m                                Traceback (most recent call last)",
      "\u001b[0;32m<ipython-input-148-a14279491981>\u001b[0m in \u001b[0;36m<module>\u001b[0;34m()\u001b[0m\n\u001b[1;32m      2\u001b[0m \u001b[0;31m#timestep = n_experiments-1\u001b[0m\u001b[0;34m\u001b[0m\u001b[0;34m\u001b[0m\u001b[0m\n\u001b[1;32m      3\u001b[0m \u001b[0;31m# this is for 2 parameters\u001b[0m\u001b[0;34m\u001b[0m\u001b[0;34m\u001b[0m\u001b[0m\n\u001b[0;32m----> 4\u001b[0;31m \u001b[0mplt\u001b[0m\u001b[0;34m.\u001b[0m\u001b[0mscatter\u001b[0m\u001b[0;34m(\u001b[0m\u001b[0mlocations\u001b[0m\u001b[0;34m[\u001b[0m\u001b[0;34m:\u001b[0m\u001b[0;34m,\u001b[0m\u001b[0;36m0\u001b[0m\u001b[0;34m,\u001b[0m\u001b[0mtimestep\u001b[0m\u001b[0;34m]\u001b[0m\u001b[0;34m,\u001b[0m \u001b[0;36m0\u001b[0m\u001b[0;34m,\u001b[0m \u001b[0mc\u001b[0m\u001b[0;34m=\u001b[0m\u001b[0mweights\u001b[0m\u001b[0;34m[\u001b[0m\u001b[0;34m:\u001b[0m\u001b[0;34m,\u001b[0m\u001b[0mtimestep\u001b[0m\u001b[0;34m]\u001b[0m\u001b[0;34m,\u001b[0m \u001b[0mcmap\u001b[0m\u001b[0;34m=\u001b[0m\u001b[0mplt\u001b[0m\u001b[0;34m.\u001b[0m\u001b[0mcm\u001b[0m\u001b[0;34m.\u001b[0m\u001b[0mRdYlGn\u001b[0m\u001b[0;34m)\u001b[0m\u001b[0;34m\u001b[0m\u001b[0m\n\u001b[0m\u001b[1;32m      5\u001b[0m \u001b[0mplt\u001b[0m\u001b[0;34m.\u001b[0m\u001b[0mshow\u001b[0m\u001b[0;34m(\u001b[0m\u001b[0;34m)\u001b[0m\u001b[0;34m\u001b[0m\u001b[0m\n",
      "\u001b[0;32m/usr/lib/python3/dist-packages/matplotlib/pyplot.py\u001b[0m in \u001b[0;36mscatter\u001b[0;34m(x, y, s, c, marker, cmap, norm, vmin, vmax, alpha, linewidths, verts, edgecolors, hold, data, **kwargs)\u001b[0m\n\u001b[1;32m   3249\u001b[0m                          \u001b[0mvmin\u001b[0m\u001b[0;34m=\u001b[0m\u001b[0mvmin\u001b[0m\u001b[0;34m,\u001b[0m \u001b[0mvmax\u001b[0m\u001b[0;34m=\u001b[0m\u001b[0mvmax\u001b[0m\u001b[0;34m,\u001b[0m \u001b[0malpha\u001b[0m\u001b[0;34m=\u001b[0m\u001b[0malpha\u001b[0m\u001b[0;34m,\u001b[0m\u001b[0;34m\u001b[0m\u001b[0m\n\u001b[1;32m   3250\u001b[0m                          \u001b[0mlinewidths\u001b[0m\u001b[0;34m=\u001b[0m\u001b[0mlinewidths\u001b[0m\u001b[0;34m,\u001b[0m \u001b[0mverts\u001b[0m\u001b[0;34m=\u001b[0m\u001b[0mverts\u001b[0m\u001b[0;34m,\u001b[0m\u001b[0;34m\u001b[0m\u001b[0m\n\u001b[0;32m-> 3251\u001b[0;31m                          edgecolors=edgecolors, data=data, **kwargs)\n\u001b[0m\u001b[1;32m   3252\u001b[0m     \u001b[0;32mfinally\u001b[0m\u001b[0;34m:\u001b[0m\u001b[0;34m\u001b[0m\u001b[0m\n\u001b[1;32m   3253\u001b[0m         \u001b[0max\u001b[0m\u001b[0;34m.\u001b[0m\u001b[0mhold\u001b[0m\u001b[0;34m(\u001b[0m\u001b[0mwashold\u001b[0m\u001b[0;34m)\u001b[0m\u001b[0;34m\u001b[0m\u001b[0m\n",
      "\u001b[0;32m/usr/lib/python3/dist-packages/matplotlib/__init__.py\u001b[0m in \u001b[0;36minner\u001b[0;34m(ax, *args, **kwargs)\u001b[0m\n\u001b[1;32m   1812\u001b[0m                     warnings.warn(msg % (label_namer, func.__name__),\n\u001b[1;32m   1813\u001b[0m                                   RuntimeWarning, stacklevel=2)\n\u001b[0;32m-> 1814\u001b[0;31m             \u001b[0;32mreturn\u001b[0m \u001b[0mfunc\u001b[0m\u001b[0;34m(\u001b[0m\u001b[0max\u001b[0m\u001b[0;34m,\u001b[0m \u001b[0;34m*\u001b[0m\u001b[0margs\u001b[0m\u001b[0;34m,\u001b[0m \u001b[0;34m**\u001b[0m\u001b[0mkwargs\u001b[0m\u001b[0;34m)\u001b[0m\u001b[0;34m\u001b[0m\u001b[0m\n\u001b[0m\u001b[1;32m   1815\u001b[0m         \u001b[0mpre_doc\u001b[0m \u001b[0;34m=\u001b[0m \u001b[0minner\u001b[0m\u001b[0;34m.\u001b[0m\u001b[0m__doc__\u001b[0m\u001b[0;34m\u001b[0m\u001b[0m\n\u001b[1;32m   1816\u001b[0m         \u001b[0;32mif\u001b[0m \u001b[0mpre_doc\u001b[0m \u001b[0;32mis\u001b[0m \u001b[0;32mNone\u001b[0m\u001b[0;34m:\u001b[0m\u001b[0;34m\u001b[0m\u001b[0m\n",
      "\u001b[0;32m/usr/lib/python3/dist-packages/matplotlib/axes/_axes.py\u001b[0m in \u001b[0;36mscatter\u001b[0;34m(self, x, y, s, c, marker, cmap, norm, vmin, vmax, alpha, linewidths, verts, edgecolors, **kwargs)\u001b[0m\n\u001b[1;32m   3838\u001b[0m         \u001b[0my\u001b[0m \u001b[0;34m=\u001b[0m \u001b[0mnp\u001b[0m\u001b[0;34m.\u001b[0m\u001b[0mma\u001b[0m\u001b[0;34m.\u001b[0m\u001b[0mravel\u001b[0m\u001b[0;34m(\u001b[0m\u001b[0my\u001b[0m\u001b[0;34m)\u001b[0m\u001b[0;34m\u001b[0m\u001b[0m\n\u001b[1;32m   3839\u001b[0m         \u001b[0;32mif\u001b[0m \u001b[0mx\u001b[0m\u001b[0;34m.\u001b[0m\u001b[0msize\u001b[0m \u001b[0;34m!=\u001b[0m \u001b[0my\u001b[0m\u001b[0;34m.\u001b[0m\u001b[0msize\u001b[0m\u001b[0;34m:\u001b[0m\u001b[0;34m\u001b[0m\u001b[0m\n\u001b[0;32m-> 3840\u001b[0;31m             \u001b[0;32mraise\u001b[0m \u001b[0mValueError\u001b[0m\u001b[0;34m(\u001b[0m\u001b[0;34m\"x and y must be the same size\"\u001b[0m\u001b[0;34m)\u001b[0m\u001b[0;34m\u001b[0m\u001b[0m\n\u001b[0m\u001b[1;32m   3841\u001b[0m \u001b[0;34m\u001b[0m\u001b[0m\n\u001b[1;32m   3842\u001b[0m         \u001b[0ms\u001b[0m \u001b[0;34m=\u001b[0m \u001b[0mnp\u001b[0m\u001b[0;34m.\u001b[0m\u001b[0mma\u001b[0m\u001b[0;34m.\u001b[0m\u001b[0mravel\u001b[0m\u001b[0;34m(\u001b[0m\u001b[0ms\u001b[0m\u001b[0;34m)\u001b[0m  \u001b[0;31m# This doesn't have to match x, y in size.\u001b[0m\u001b[0;34m\u001b[0m\u001b[0m\n",
      "\u001b[0;31mValueError\u001b[0m: x and y must be the same size"
     ]
    },
    {
     "data": {
      "image/png": "[encoded data removed]",
      "text/plain": [
       "<matplotlib.figure.Figure at 0x7f651eef39e8>"
      ]
     },
     "metadata": {},
     "output_type": "display_data"
    }
   ],
   "source": [
    "timestep=2\n",
    "#timestep = n_experiments-1\n",
    "# this is for 2 parameters\n",
    "plt.scatter(locations[:,0,timestep], locations[:,1,timestep], c=weights[:,timestep], cmap=plt.cm.RdYlGn)\n",
    "plt.show()"
   ]
  },
  {
   "cell_type": "markdown",
   "metadata": {},
   "source": [
    "## Plot weights of each particle at a given timestep"
   ]
  },
  {
   "cell_type": "code",
   "execution_count": 227,
   "metadata": {},
   "outputs": [
    {
     "data": {
      "image/png": "[encoded data removed]",
      "text/plain": [
       "<matplotlib.figure.Figure at 0x7f651ef44780>"
      ]
     },
     "metadata": {},
     "output_type": "display_data"
    }
   ],
   "source": [
    "timestep=42\n",
    "#timestep = n_experiments-1\n",
    "plt.plot(weights[:,timestep])\n",
    "plt.show()"
   ]
  }
 ],
 "metadata": {
  "kernelspec": {
   "display_name": "Python 3",
   "language": "python",
   "name": "python3"
  },
  "language_info": {
   "codemirror_mode": {
    "name": "ipython",
    "version": 3
   },
   "file_extension": ".py",
   "mimetype": "text/x-python",
   "name": "python",
   "nbconvert_exporter": "python",
   "pygments_lexer": "ipython3",
   "version": "3.5.2"
  }
 },
 "nbformat": 4,
 "nbformat_minor": 2
}
