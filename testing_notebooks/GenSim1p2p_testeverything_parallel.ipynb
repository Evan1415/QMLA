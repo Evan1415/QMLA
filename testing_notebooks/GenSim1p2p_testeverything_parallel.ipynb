{
 "cells": [
  {
   "cell_type": "markdown",
   "metadata": {},
   "source": [
    "### Possible improvements:\n",
    "1) attempted the method as in QInfer (DirectViewParallelizedModels) but not even dill nor cloud_pickle seem to handle appropriately the closures - or maybe some other problem?\n",
    "\n",
    "..."
   ]
  },
  {
   "cell_type": "code",
   "execution_count": 1,
   "metadata": {
    "collapsed": false
   },
   "outputs": [],
   "source": [
    "%matplotlib inline\n",
    "\n",
    "import qinfer as qi\n",
    "#import qutip as qt\n",
    "import numpy as np\n",
    "import scipy as sp\n",
    "from IPython.display import display, Math, Latex\n",
    "from functools import partial\n",
    "import matplotlib.pyplot as plt\n",
    "import importlib as imp\n",
    "\n",
    "import ipyparallel as ipp"
   ]
  },
  {
   "cell_type": "code",
   "execution_count": 2,
   "metadata": {
    "collapsed": true
   },
   "outputs": [],
   "source": [
    "import datetime\n",
    "import sys, os\n",
    "import time as time"
   ]
  },
  {
   "cell_type": "code",
   "execution_count": 3,
   "metadata": {
    "collapsed": false
   },
   "outputs": [],
   "source": [
    "import logging as logging\n",
    "import sys\n",
    "\n",
    "%run LoggingCode.py"
   ]
  },
  {
   "cell_type": "code",
   "execution_count": 4,
   "metadata": {
    "collapsed": false
   },
   "outputs": [
    {
     "name": "stdout",
     "output_type": "stream",
     "text": [
      "Files will be saved in:\n",
      "C:\\Users\\ag15141\\Local Documents\\Cloud\\Dropbox (Qsim)\\Projects\\CU4 chip\\QHLandD\\MultiPar_GenSim cleanup\\tests\\T\n"
     ]
    }
   ],
   "source": [
    "# tell the user where files will be saved\n",
    "dire = os.getcwd()\n",
    "dire = dire+\"/tests/T\"\n",
    "dire = os.path.normpath(dire)\n",
    "print('Files will be saved in:')\n",
    "print(dire)"
   ]
  },
  {
   "cell_type": "code",
   "execution_count": 5,
   "metadata": {
    "collapsed": true
   },
   "outputs": [],
   "source": [
    "# Add personalized library to PYTHONPATH\n",
    "sys.path.append(os.path.join(\"..\",\"Libraries\",\"QML_lib\"))"
   ]
  },
  {
   "cell_type": "code",
   "execution_count": 6,
   "metadata": {
    "collapsed": false
   },
   "outputs": [],
   "source": [
    "from Norms import *\n",
    "from IOfuncts import *\n",
    "from EvalLoss import *\n",
    "\n",
    "import ProbeStates as pros\n",
    "import multiPGH as mpgh\n",
    "import GenSim_IQLE as gsi\n",
    "import Evo as evo"
   ]
  },
  {
   "cell_type": "markdown",
   "metadata": {},
   "source": [
    "# Parallelize under n cores"
   ]
  },
  {
   "cell_type": "code",
   "execution_count": 50,
   "metadata": {
    "collapsed": false
   },
   "outputs": [
    {
     "name": "stdout",
     "output_type": "stream",
     "text": [
      "I have found: 4 cores\n"
     ]
    }
   ],
   "source": [
    "c = ipp.Client()\n",
    "#c[:].use_dill()\n",
    "#c[:].use_cloudpickle()\n",
    "dview = c[:].use_dill()\n",
    "print('I have found: '+repr(len(c.ids))+ ' cores')"
   ]
  },
  {
   "cell_type": "code",
   "execution_count": 55,
   "metadata": {
    "collapsed": false
   },
   "outputs": [],
   "source": [
    "\"\"\"We do invoke here parallelization at perf_test_multi stage\"\"\"\n",
    "lbview = c.load_balanced_view()\n"
   ]
  },
  {
   "cell_type": "markdown",
   "metadata": {},
   "source": [
    "# Results from Parallelized step-by-step running\n",
    "\n",
    "### parallelization at likelihood stage"
   ]
  },
  {
   "cell_type": "code",
   "execution_count": 29,
   "metadata": {
    "collapsed": false
   },
   "outputs": [
    {
     "data": {
      "text/plain": [
       "<module 'Evo' from '..\\\\Libraries\\\\QML_lib\\\\Evo.py'>"
      ]
     },
     "execution_count": 29,
     "metadata": {},
     "output_type": "execute_result"
    }
   ],
   "source": [
    "imp.reload(pros)\n",
    "imp.reload(mpgh)\n",
    "imp.reload(gsi)\n",
    "imp.reload(evo)"
   ]
  },
  {
   "cell_type": "code",
   "execution_count": 44,
   "metadata": {
    "collapsed": false
   },
   "outputs": [
    {
     "name": "stdout",
     "output_type": "stream",
     "text": [
      "Oplist: array([[[ 0.+0.j,  0.-1.j],\n",
      "        [ 0.+1.j,  0.+0.j]],\n",
      "\n",
      "       [[ 0.+0.j,  1.+0.j],\n",
      "        [ 1.+0.j,  0.+0.j]]])\n",
      "Chosen true_params: [[ 0.3  0.6]]\n",
      "Chosen probestate: [ 0.9472136+0.2236068j  0.0527864-0.2236068j]\n",
      "Inversion fields are: ['w_1', 'w_2']\n",
      "Heuristic output:array([(1.0520669118999426, 0.1503475530945904, 0.5318068427393856)], \n",
      "      dtype=[('t', '<f8'), ('w_1', '<f8'), ('w_2', '<f8')])\n",
      "\n",
      "Initialization Ready\n"
     ]
    }
   ],
   "source": [
    "probecounter = 0\n",
    "\n",
    "oplist=np.array([evo.sigmay(), evo.sigmax()])\n",
    "#oplist=np.array([evo.sigmaz()])\n",
    "oplist=np.dot(1.0, oplist)\n",
    "print('Oplist: ' + repr(oplist))\n",
    "\n",
    "true_params = np.array([[0.3, 0.6]])\n",
    "#true_params = np.array([[0.7]])\n",
    "print('Chosen true_params: ' + str(true_params))\n",
    "\n",
    "#Listing eigenvectors\n",
    "# eiglist = pros.list_randomeig(oplist)\n",
    "# eiglist = np.append(eiglist, np.array([1, 0]))\n",
    "# eiglist = np.reshape(eiglist, [len(oplist)+1,2])\n",
    "# print('Chosen probestates: ' + repr(eiglist))\n",
    "\n",
    "#eiglist=sp.absolute(sp.linalg.orth(oplist[0]))\n",
    "#print('Chosen probestates: ' + repr(eiglist))\n",
    "\n",
    "# newprobe = list(map(lambda wgts_list: np.sum(wgts_list*eiglist, axis=0), wgts_list))\n",
    "# newprobe\n",
    "\n",
    "probestate=pros.choose_probe(oplist,true_params)\n",
    "print('Chosen probestate: ' + str(probestate))\n",
    "\n",
    "sigw = 0.3\n",
    "siga = 0.3\n",
    "\n",
    "prior = qi.MultivariateNormalDistribution(\n",
    "     [true_params[0, 0] + sigw/3, true_params[0, 1]-siga/3], [[sigw **2, 0], [0, siga **2]])\n",
    "# prior = qi.UniformDistribution([0., 1])\n",
    "\n",
    "\n",
    "model = gsi.GenSim_IQLE(oplist=oplist, modelparams=true_params, probecounter = 0, probelist= [probestate], solver='scipy', trotter=True)\n",
    "\n",
    "\n",
    "par_model = qi.DirectViewParallelizedModel(model, dview )\n",
    "#print('I have found: '+repr(model.n_engines)+ ' cores')\n",
    "\n",
    "n_particles = 300\n",
    "n_experiments = 100\n",
    "\n",
    "updater = qi.SMCUpdater(par_model, n_particles, prior, resample_thresh=0.5, resampler = qi.LiuWestResampler(a=0.95), debug_resampling=False)\n",
    "\n",
    "inv_field = [item[0] for item in model.expparams_dtype[1:] ]\n",
    "print('Inversion fields are: ' + str(inv_field))\n",
    "heuristic = mpgh.multiPGH(updater, oplist, inv_field=inv_field)\n",
    "print('Heuristic output:' + repr(heuristic()))\n",
    "\n",
    "expparams = np.empty((1, ), dtype=model.expparams_dtype)\n",
    "\n",
    "print('\\nInitialization Ready')"
   ]
  },
  {
   "cell_type": "code",
   "execution_count": 45,
   "metadata": {
    "collapsed": false
   },
   "outputs": [
    {
     "name": "stdout",
     "output_type": "stream",
     "text": [
      "array([(1.7810905207361243, 0.02124323743526574, 0.594564896385771)], \n",
      "      dtype=[('t', '<f8'), ('w_1', '<f8'), ('w_2', '<f8')])\n",
      "0\n"
     ]
    },
    {
     "ename": "AttributeError",
     "evalue": "'AsyncResult' object has no attribute 'map_sync'",
     "output_type": "error",
     "traceback": [
      "\u001b[0;31m---------------------------------------------------------------------------\u001b[0m",
      "\u001b[0;31mKeyError\u001b[0m                                  Traceback (most recent call last)",
      "\u001b[0;32mC:\\Program Files\\Anaconda3\\lib\\site-packages\\ipyparallel\\client\\asyncresult.py\u001b[0m in \u001b[0;36m__getattr__\u001b[0;34m(self, key)\u001b[0m\n\u001b[1;32m    366\u001b[0m         \u001b[1;32mtry\u001b[0m\u001b[1;33m:\u001b[0m\u001b[1;33m\u001b[0m\u001b[0m\n\u001b[0;32m--> 367\u001b[0;31m             \u001b[1;32mreturn\u001b[0m \u001b[0mself\u001b[0m\u001b[1;33m.\u001b[0m\u001b[0m__getitem__\u001b[0m\u001b[1;33m(\u001b[0m\u001b[0mkey\u001b[0m\u001b[1;33m)\u001b[0m\u001b[1;33m\u001b[0m\u001b[0m\n\u001b[0m\u001b[1;32m    368\u001b[0m         \u001b[1;32mexcept\u001b[0m \u001b[1;33m(\u001b[0m\u001b[0merror\u001b[0m\u001b[1;33m.\u001b[0m\u001b[0mTimeoutError\u001b[0m\u001b[1;33m,\u001b[0m \u001b[0mKeyError\u001b[0m\u001b[1;33m)\u001b[0m\u001b[1;33m:\u001b[0m\u001b[1;33m\u001b[0m\u001b[0m\n",
      "\u001b[0;32mC:\\Program Files\\Anaconda3\\lib\\site-packages\\ipyparallel\\client\\asyncresult.py\u001b[0m in \u001b[0;36m__getitem__\u001b[0;34m(self, key)\u001b[0m\n\u001b[1;32m    355\u001b[0m             \u001b[0mself\u001b[0m\u001b[1;33m.\u001b[0m\u001b[0mwait_for_output\u001b[0m\u001b[1;33m(\u001b[0m\u001b[1;36m0\u001b[0m\u001b[1;33m)\u001b[0m\u001b[1;33m\u001b[0m\u001b[0m\n\u001b[0;32m--> 356\u001b[0;31m             \u001b[0mvalues\u001b[0m \u001b[1;33m=\u001b[0m \u001b[1;33m[\u001b[0m \u001b[0mmd\u001b[0m\u001b[1;33m[\u001b[0m\u001b[0mkey\u001b[0m\u001b[1;33m]\u001b[0m \u001b[1;32mfor\u001b[0m \u001b[0mmd\u001b[0m \u001b[1;32min\u001b[0m \u001b[0mself\u001b[0m\u001b[1;33m.\u001b[0m\u001b[0m_metadata\u001b[0m \u001b[1;33m]\u001b[0m\u001b[1;33m\u001b[0m\u001b[0m\n\u001b[0m\u001b[1;32m    357\u001b[0m             \u001b[1;32mif\u001b[0m \u001b[0mself\u001b[0m\u001b[1;33m.\u001b[0m\u001b[0m_single_result\u001b[0m\u001b[1;33m:\u001b[0m\u001b[1;33m\u001b[0m\u001b[0m\n",
      "\u001b[0;32mC:\\Program Files\\Anaconda3\\lib\\site-packages\\ipyparallel\\client\\asyncresult.py\u001b[0m in \u001b[0;36m<listcomp>\u001b[0;34m(.0)\u001b[0m\n\u001b[1;32m    355\u001b[0m             \u001b[0mself\u001b[0m\u001b[1;33m.\u001b[0m\u001b[0mwait_for_output\u001b[0m\u001b[1;33m(\u001b[0m\u001b[1;36m0\u001b[0m\u001b[1;33m)\u001b[0m\u001b[1;33m\u001b[0m\u001b[0m\n\u001b[0;32m--> 356\u001b[0;31m             \u001b[0mvalues\u001b[0m \u001b[1;33m=\u001b[0m \u001b[1;33m[\u001b[0m \u001b[0mmd\u001b[0m\u001b[1;33m[\u001b[0m\u001b[0mkey\u001b[0m\u001b[1;33m]\u001b[0m \u001b[1;32mfor\u001b[0m \u001b[0mmd\u001b[0m \u001b[1;32min\u001b[0m \u001b[0mself\u001b[0m\u001b[1;33m.\u001b[0m\u001b[0m_metadata\u001b[0m \u001b[1;33m]\u001b[0m\u001b[1;33m\u001b[0m\u001b[0m\n\u001b[0m\u001b[1;32m    357\u001b[0m             \u001b[1;32mif\u001b[0m \u001b[0mself\u001b[0m\u001b[1;33m.\u001b[0m\u001b[0m_single_result\u001b[0m\u001b[1;33m:\u001b[0m\u001b[1;33m\u001b[0m\u001b[0m\n",
      "\u001b[0;31mKeyError\u001b[0m: 'map_sync'",
      "\nDuring handling of the above exception, another exception occurred:\n",
      "\u001b[0;31mAttributeError\u001b[0m                            Traceback (most recent call last)",
      "\u001b[0;32m<ipython-input-45-24c82a72fc1a>\u001b[0m in \u001b[0;36m<module>\u001b[0;34m()\u001b[0m\n\u001b[1;32m      7\u001b[0m \u001b[0mprint\u001b[0m\u001b[1;33m(\u001b[0m\u001b[0mrepr\u001b[0m\u001b[1;33m(\u001b[0m\u001b[0mdatum\u001b[0m\u001b[1;33m)\u001b[0m\u001b[1;33m)\u001b[0m\u001b[1;33m\u001b[0m\u001b[0m\n\u001b[1;32m      8\u001b[0m \u001b[1;33m\u001b[0m\u001b[0m\n\u001b[0;32m----> 9\u001b[0;31m \u001b[0mupdater\u001b[0m\u001b[1;33m.\u001b[0m\u001b[0mupdate\u001b[0m\u001b[1;33m(\u001b[0m\u001b[0mdatum\u001b[0m\u001b[1;33m,\u001b[0m \u001b[0mexperiment\u001b[0m\u001b[1;33m)\u001b[0m\u001b[1;33m\u001b[0m\u001b[0m\n\u001b[0m",
      "\u001b[0;32mC:\\Program Files\\Anaconda3\\lib\\site-packages\\qinfer\\smc.py\u001b[0m in \u001b[0;36mupdate\u001b[0;34m(self, outcome, expparams, check_for_resample)\u001b[0m\n\u001b[1;32m    423\u001b[0m \u001b[1;33m\u001b[0m\u001b[0m\n\u001b[1;32m    424\u001b[0m         \u001b[1;31m# Perform the update.\u001b[0m\u001b[1;33m\u001b[0m\u001b[1;33m\u001b[0m\u001b[0m\n\u001b[0;32m--> 425\u001b[0;31m         \u001b[0mweights\u001b[0m\u001b[1;33m,\u001b[0m \u001b[0mnorm\u001b[0m \u001b[1;33m=\u001b[0m \u001b[0mself\u001b[0m\u001b[1;33m.\u001b[0m\u001b[0mhypothetical_update\u001b[0m\u001b[1;33m(\u001b[0m\u001b[0moutcome\u001b[0m\u001b[1;33m,\u001b[0m \u001b[0mexpparams\u001b[0m\u001b[1;33m,\u001b[0m \u001b[0mreturn_normalization\u001b[0m\u001b[1;33m=\u001b[0m\u001b[1;32mTrue\u001b[0m\u001b[1;33m)\u001b[0m\u001b[1;33m\u001b[0m\u001b[0m\n\u001b[0m\u001b[1;32m    426\u001b[0m \u001b[1;33m\u001b[0m\u001b[0m\n\u001b[1;32m    427\u001b[0m         \u001b[1;31m# Check for negative weights before applying the update.\u001b[0m\u001b[1;33m\u001b[0m\u001b[1;33m\u001b[0m\u001b[0m\n",
      "\u001b[0;32mC:\\Program Files\\Anaconda3\\lib\\site-packages\\qinfer\\smc.py\u001b[0m in \u001b[0;36mhypothetical_update\u001b[0;34m(self, outcomes, expparams, return_likelihood, return_normalization)\u001b[0m\n\u001b[1;32m    363\u001b[0m         \u001b[1;31m# This makes the multiplication with weights (shape (models,)) make sense,\u001b[0m\u001b[1;33m\u001b[0m\u001b[1;33m\u001b[0m\u001b[0m\n\u001b[1;32m    364\u001b[0m         \u001b[1;31m# since NumPy broadcasting rules align on the right-most index.\u001b[0m\u001b[1;33m\u001b[0m\u001b[1;33m\u001b[0m\u001b[0m\n\u001b[0;32m--> 365\u001b[0;31m         \u001b[0mL\u001b[0m \u001b[1;33m=\u001b[0m \u001b[0mself\u001b[0m\u001b[1;33m.\u001b[0m\u001b[0mmodel\u001b[0m\u001b[1;33m.\u001b[0m\u001b[0mlikelihood\u001b[0m\u001b[1;33m(\u001b[0m\u001b[0moutcomes\u001b[0m\u001b[1;33m,\u001b[0m \u001b[0mlocs\u001b[0m\u001b[1;33m,\u001b[0m \u001b[0mexpparams\u001b[0m\u001b[1;33m)\u001b[0m\u001b[1;33m.\u001b[0m\u001b[0mtranspose\u001b[0m\u001b[1;33m(\u001b[0m\u001b[1;33m[\u001b[0m\u001b[1;36m0\u001b[0m\u001b[1;33m,\u001b[0m \u001b[1;36m2\u001b[0m\u001b[1;33m,\u001b[0m \u001b[1;36m1\u001b[0m\u001b[1;33m]\u001b[0m\u001b[1;33m)\u001b[0m\u001b[1;33m\u001b[0m\u001b[0m\n\u001b[0m\u001b[1;32m    366\u001b[0m         \u001b[0mhyp_weights\u001b[0m \u001b[1;33m=\u001b[0m \u001b[0mweights\u001b[0m \u001b[1;33m*\u001b[0m \u001b[0mL\u001b[0m\u001b[1;33m\u001b[0m\u001b[0m\n\u001b[1;32m    367\u001b[0m \u001b[1;33m\u001b[0m\u001b[0m\n",
      "\u001b[0;32mC:\\Program Files\\Anaconda3\\lib\\site-packages\\qinfer\\parallel.py\u001b[0m in \u001b[0;36mlikelihood\u001b[0;34m(self, outcomes, modelparams, expparams)\u001b[0m\n\u001b[1;32m    204\u001b[0m         \u001b[1;31m# The trick is that serial_likelihood will be pickled, so we need to be\u001b[0m\u001b[1;33m\u001b[0m\u001b[1;33m\u001b[0m\u001b[0m\n\u001b[1;32m    205\u001b[0m         \u001b[1;31m# careful about closures.\u001b[0m\u001b[1;33m\u001b[0m\u001b[1;33m\u001b[0m\u001b[0m\n\u001b[0;32m--> 206\u001b[0;31m         L = self._dv.map_sync(\n\u001b[0m\u001b[1;32m    207\u001b[0m             \u001b[0mserial_likelihood\u001b[0m\u001b[1;33m,\u001b[0m\u001b[1;33m\u001b[0m\u001b[0m\n\u001b[1;32m    208\u001b[0m             \u001b[0mnp\u001b[0m\u001b[1;33m.\u001b[0m\u001b[0marray_split\u001b[0m\u001b[1;33m(\u001b[0m\u001b[0mmodelparams\u001b[0m\u001b[1;33m,\u001b[0m \u001b[0mself\u001b[0m\u001b[1;33m.\u001b[0m\u001b[0mn_engines\u001b[0m\u001b[1;33m,\u001b[0m \u001b[0maxis\u001b[0m\u001b[1;33m=\u001b[0m\u001b[1;36m0\u001b[0m\u001b[1;33m)\u001b[0m\u001b[1;33m,\u001b[0m\u001b[1;33m\u001b[0m\u001b[0m\n",
      "\u001b[0;32mC:\\Program Files\\Anaconda3\\lib\\site-packages\\ipyparallel\\client\\asyncresult.py\u001b[0m in \u001b[0;36m__getattr__\u001b[0;34m(self, key)\u001b[0m\n\u001b[1;32m    368\u001b[0m         \u001b[1;32mexcept\u001b[0m \u001b[1;33m(\u001b[0m\u001b[0merror\u001b[0m\u001b[1;33m.\u001b[0m\u001b[0mTimeoutError\u001b[0m\u001b[1;33m,\u001b[0m \u001b[0mKeyError\u001b[0m\u001b[1;33m)\u001b[0m\u001b[1;33m:\u001b[0m\u001b[1;33m\u001b[0m\u001b[0m\n\u001b[1;32m    369\u001b[0m             raise AttributeError(\"%r object has no attribute %r\"%(\n\u001b[0;32m--> 370\u001b[0;31m                     self.__class__.__name__, key))\n\u001b[0m\u001b[1;32m    371\u001b[0m \u001b[1;33m\u001b[0m\u001b[0m\n\u001b[1;32m    372\u001b[0m     \u001b[1;33m@\u001b[0m\u001b[0mstaticmethod\u001b[0m\u001b[1;33m\u001b[0m\u001b[0m\n",
      "\u001b[0;31mAttributeError\u001b[0m: 'AsyncResult' object has no attribute 'map_sync'"
     ]
    }
   ],
   "source": [
    "eps = np.empty((1,), dtype=updater.model.expparams_dtype)\n",
    "\n",
    "experiment = heuristic()\n",
    "print(repr(experiment))\n",
    "\n",
    "datum = par_model.simulate_experiment(true_params, experiment)\n",
    "print(repr(datum))\n",
    "\n",
    "updater.update(datum, experiment)"
   ]
  },
  {
   "cell_type": "code",
   "execution_count": 23,
   "metadata": {
    "collapsed": false
   },
   "outputs": [
    {
     "name": "stdout",
     "output_type": "stream",
     "text": [
      "elapsed time: 10.891759809364522\n"
     ]
    }
   ],
   "source": [
    "# counter timestamp to avoid replacement\n",
    "timestamp = str(datetime.datetime.now()).split('.')[0]\n",
    "timestamp = \"_\"+timestamp.replace(\" \", \"_\")\n",
    "timestamp = timestamp.replace(\":\", \".\")\n",
    "\n",
    "# probecounter for the choice of the state\n",
    "probecounter = 0\n",
    "\n",
    "track_loss = np.empty(n_experiments)\n",
    "track_cov = np.empty(n_experiments)\n",
    "track_time = np.empty(n_experiments)\n",
    "\n",
    "track_particle_locs = np.empty([n_particles, len(true_params[0]), n_experiments])\n",
    "track_particle_wght = np.empty([n_particles, n_experiments])\n",
    "\n",
    "start=time.clock()\n",
    "\n",
    "\n",
    "for idx_experiment in range(n_experiments):\n",
    "    \n",
    "    experiment = heuristic()\n",
    "    #print('Chosen experiment: ' + repr(experiment))\n",
    "    \n",
    "    track_time[idx_experiment] = experiment[0][0]\n",
    "    \n",
    "    datum = par_model.simulate_experiment(true_params, experiment)\n",
    "    #print(repr(datum))\n",
    "    updater.update(datum, experiment)\n",
    "    heuristic = mpgh.multiPGH(updater, oplist, inv_field=inv_field)\n",
    "    \n",
    "    track_cov[idx_experiment] = np.linalg.norm(updater.est_covariance_mtx())\n",
    "    \n",
    "    track_particle_locs[:, :, idx_experiment] = updater.particle_locations\n",
    "    track_particle_wght[:, idx_experiment] = updater.particle_weights\n",
    "\n",
    "    new_eval = updater.est_mean()\n",
    "    \n",
    "    new_loss = eval_loss(model, new_eval, true_params)\n",
    "    track_loss[idx_experiment] = new_loss[0]\n",
    "    \n",
    "end=time.clock()\n",
    "print('elapsed time: ' + str(end-start))"
   ]
  },
  {
   "cell_type": "markdown",
   "metadata": {},
   "source": [
    "# Results from Parallelized qi.perftestmultiple\n",
    "\n",
    "### parallelization at trial stage"
   ]
  },
  {
   "cell_type": "code",
   "execution_count": 56,
   "metadata": {
    "collapsed": false
   },
   "outputs": [
    {
     "name": "stdout",
     "output_type": "stream",
     "text": [
      "Oplist: array([[[ 0.+0.j,  0.-1.j],\n",
      "        [ 0.+1.j,  0.+0.j]],\n",
      "\n",
      "       [[ 0.+0.j,  1.+0.j],\n",
      "        [ 1.+0.j,  0.+0.j]]])\n",
      "Chosen true_params: [[ 0.3  0.6]]\n",
      "Chosen probestate: [ 0.9472136+0.2236068j  0.0527864-0.2236068j]\n",
      "Inversion fields are: ['w_1', 'w_2']\n",
      "Heuristic output:array([(1.710067274021547, 0.5432482731598641, 0.44569670572272035)], \n",
      "      dtype=[('t', '<f8'), ('w_1', '<f8'), ('w_2', '<f8')])\n",
      "Initialization Ready\n"
     ]
    }
   ],
   "source": [
    "probecounter = 0\n",
    "\n",
    "oplist=np.array([evo.sigmay(), evo.sigmax()])\n",
    "#oplist=np.array([evo.sigmaz()])\n",
    "oplist=np.dot(1.0, oplist)\n",
    "print('Oplist: ' + repr(oplist))\n",
    "\n",
    "true_params = np.array([[0.3, 0.6]])\n",
    "#true_params = np.array([[0.7]])\n",
    "print('Chosen true_params: ' + str(true_params))\n",
    "\n",
    "#Listing eigenvectors\n",
    "# eiglist = pros.list_randomeig(oplist)\n",
    "# eiglist = np.append(eiglist, np.array([1, 0]))\n",
    "# eiglist = np.reshape(eiglist, [len(oplist)+1,2])\n",
    "# print('Chosen probestates: ' + repr(eiglist))\n",
    "\n",
    "#eiglist=sp.absolute(sp.linalg.orth(oplist[0]))\n",
    "#print('Chosen probestates: ' + repr(eiglist))\n",
    "\n",
    "probestate=pros.choose_probe(oplist,true_params)\n",
    "print('Chosen probestate: ' + str(probestate))\n",
    "\n",
    "sigw = 0.3\n",
    "siga = 0.3\n",
    "\n",
    "prior = qi.MultivariateNormalDistribution(\n",
    "     [true_params[0, 0] + sigw/3, true_params[0, 1]-siga/3], [[sigw **2, 0], [0, siga **2]])\n",
    "# prior = qi.UniformDistribution([0., 1])\n",
    "\n",
    "\n",
    "model = gsi.GenSim_IQLE(oplist=oplist, modelparams=true_params, probecounter = 0, probelist= [probestate], solver='scipy', trotter=True)\n",
    "\n",
    "\n",
    "\"\"\"We do NOT invoke here parallelization\"\"\"\n",
    "par_model = qi.DirectViewParallelizedModel(model, c[:] )\n",
    "\n",
    "n_particles = 300\n",
    "n_experiments = 300\n",
    "\n",
    "\n",
    "extra_updater_args={'resample_thresh': 0.5, 'resampler': qi.LiuWestResampler(a=0.95), 'debug_resampling': True}\n",
    "updater = qi.SMCUpdater(model, n_particles, prior, **extra_updater_args)\n",
    "\n",
    "inv_field = [item[0] for item in model.expparams_dtype[1:] ]\n",
    "print('Inversion fields are: ' + str(inv_field))\n",
    "heuristic = mpgh.multiPGH(updater, oplist, inv_field=inv_field)\n",
    "print('Heuristic output:' + repr(heuristic()))\n",
    "\n",
    "expparams = np.empty((1, ), dtype=model.expparams_dtype)\n",
    "\n",
    "print('Initialization Ready')"
   ]
  },
  {
   "cell_type": "code",
   "execution_count": 58,
   "metadata": {
    "collapsed": false
   },
   "outputs": [
    {
     "ename": "RemoteError",
     "evalue": "ImportError(No module named 'GenSim_IQLE')",
     "output_type": "error",
     "traceback": [
      "\u001b[0;31m---------------------------------------------------------------------------\u001b[0m\u001b[0;31mImportError\u001b[0m                               Traceback (most recent call last)\u001b[0;32mc:\\program files\\anaconda3\\lib\\site-packages\\ipyparallel\\serialize\\serialize.py\u001b[0m in \u001b[0;36munpack_apply_message\u001b[0;34m(bufs, g, copy)\u001b[0m",
      "\u001b[1;32m    185\u001b[0m     \u001b[1;32massert\u001b[0m \u001b[0mlen\u001b[0m\u001b[1;33m(\u001b[0m\u001b[0mbufs\u001b[0m\u001b[1;33m)\u001b[0m \u001b[1;33m>=\u001b[0m \u001b[1;36m2\u001b[0m\u001b[1;33m,\u001b[0m \u001b[1;34m\"not enough buffers!\"\u001b[0m\u001b[1;33m\u001b[0m\u001b[0m",
      "\u001b[1;32m    186\u001b[0m     \u001b[0mpf\u001b[0m \u001b[1;33m=\u001b[0m \u001b[0mbuffer_to_bytes_py2\u001b[0m\u001b[1;33m(\u001b[0m\u001b[0mbufs\u001b[0m\u001b[1;33m.\u001b[0m\u001b[0mpop\u001b[0m\u001b[1;33m(\u001b[0m\u001b[1;36m0\u001b[0m\u001b[1;33m)\u001b[0m\u001b[1;33m)\u001b[0m\u001b[1;33m\u001b[0m\u001b[0m",
      "\u001b[0;32m--> 187\u001b[0;31m     \u001b[0mf\u001b[0m \u001b[1;33m=\u001b[0m \u001b[0muncan\u001b[0m\u001b[1;33m(\u001b[0m\u001b[0mpickle\u001b[0m\u001b[1;33m.\u001b[0m\u001b[0mloads\u001b[0m\u001b[1;33m(\u001b[0m\u001b[0mpf\u001b[0m\u001b[1;33m)\u001b[0m\u001b[1;33m,\u001b[0m \u001b[0mg\u001b[0m\u001b[1;33m)\u001b[0m\u001b[1;33m\u001b[0m\u001b[0m",
      "\u001b[0m\u001b[1;32m    188\u001b[0m     \u001b[0mpinfo\u001b[0m \u001b[1;33m=\u001b[0m \u001b[0mbuffer_to_bytes_py2\u001b[0m\u001b[1;33m(\u001b[0m\u001b[0mbufs\u001b[0m\u001b[1;33m.\u001b[0m\u001b[0mpop\u001b[0m\u001b[1;33m(\u001b[0m\u001b[1;36m0\u001b[0m\u001b[1;33m)\u001b[0m\u001b[1;33m)\u001b[0m\u001b[1;33m\u001b[0m\u001b[0m",
      "\u001b[1;32m    189\u001b[0m     \u001b[0minfo\u001b[0m \u001b[1;33m=\u001b[0m \u001b[0mpickle\u001b[0m\u001b[1;33m.\u001b[0m\u001b[0mloads\u001b[0m\u001b[1;33m(\u001b[0m\u001b[0mpinfo\u001b[0m\u001b[1;33m)\u001b[0m\u001b[1;33m\u001b[0m\u001b[0m",
      "\u001b[0;32mc:\\program files\\anaconda3\\lib\\site-packages\\dill\\dill.py\u001b[0m in \u001b[0;36mloads\u001b[0;34m(str)\u001b[0m",
      "\u001b[1;32m    258\u001b[0m     \u001b[1;34m\"\"\"unpickle an object from a string\"\"\"\u001b[0m\u001b[1;33m\u001b[0m\u001b[0m",
      "\u001b[1;32m    259\u001b[0m     \u001b[0mfile\u001b[0m \u001b[1;33m=\u001b[0m \u001b[0mStringIO\u001b[0m\u001b[1;33m(\u001b[0m\u001b[0mstr\u001b[0m\u001b[1;33m)\u001b[0m\u001b[1;33m\u001b[0m\u001b[0m",
      "\u001b[0;32m--> 260\u001b[0;31m     \u001b[1;32mreturn\u001b[0m \u001b[0mload\u001b[0m\u001b[1;33m(\u001b[0m\u001b[0mfile\u001b[0m\u001b[1;33m)\u001b[0m\u001b[1;33m\u001b[0m\u001b[0m",
      "\u001b[0m\u001b[1;32m    261\u001b[0m \u001b[1;33m\u001b[0m\u001b[0m",
      "\u001b[1;32m    262\u001b[0m \u001b[1;31m# def dumpzs(obj, protocol=None):\u001b[0m\u001b[1;33m\u001b[0m\u001b[1;33m\u001b[0m\u001b[0m",
      "\u001b[0;32mc:\\program files\\anaconda3\\lib\\site-packages\\dill\\dill.py\u001b[0m in \u001b[0;36mload\u001b[0;34m(file)\u001b[0m",
      "\u001b[1;32m    248\u001b[0m     \u001b[0mpik\u001b[0m \u001b[1;33m=\u001b[0m \u001b[0mUnpickler\u001b[0m\u001b[1;33m(\u001b[0m\u001b[0mfile\u001b[0m\u001b[1;33m)\u001b[0m\u001b[1;33m\u001b[0m\u001b[0m",
      "\u001b[1;32m    249\u001b[0m     \u001b[0mpik\u001b[0m\u001b[1;33m.\u001b[0m\u001b[0m_main\u001b[0m \u001b[1;33m=\u001b[0m \u001b[0m_main_module\u001b[0m\u001b[1;33m\u001b[0m\u001b[0m",
      "\u001b[0;32m--> 250\u001b[0;31m     \u001b[0mobj\u001b[0m \u001b[1;33m=\u001b[0m \u001b[0mpik\u001b[0m\u001b[1;33m.\u001b[0m\u001b[0mload\u001b[0m\u001b[1;33m(\u001b[0m\u001b[1;33m)\u001b[0m\u001b[1;33m\u001b[0m\u001b[0m",
      "\u001b[0m\u001b[1;32m    251\u001b[0m     \u001b[1;32mif\u001b[0m \u001b[0mtype\u001b[0m\u001b[1;33m(\u001b[0m\u001b[0mobj\u001b[0m\u001b[1;33m)\u001b[0m\u001b[1;33m.\u001b[0m\u001b[0m__module__\u001b[0m \u001b[1;33m==\u001b[0m \u001b[0m_main_module\u001b[0m\u001b[1;33m.\u001b[0m\u001b[0m__name__\u001b[0m\u001b[1;33m:\u001b[0m \u001b[1;31m# point obj class to main\u001b[0m\u001b[1;33m\u001b[0m\u001b[0m",
      "\u001b[1;32m    252\u001b[0m         \u001b[1;32mtry\u001b[0m\u001b[1;33m:\u001b[0m \u001b[0mobj\u001b[0m\u001b[1;33m.\u001b[0m\u001b[0m__class__\u001b[0m \u001b[1;33m==\u001b[0m \u001b[0mgetattr\u001b[0m\u001b[1;33m(\u001b[0m\u001b[0mpik\u001b[0m\u001b[1;33m.\u001b[0m\u001b[0m_main\u001b[0m\u001b[1;33m,\u001b[0m \u001b[0mtype\u001b[0m\u001b[1;33m(\u001b[0m\u001b[0mobj\u001b[0m\u001b[1;33m)\u001b[0m\u001b[1;33m.\u001b[0m\u001b[0m__name__\u001b[0m\u001b[1;33m)\u001b[0m\u001b[1;33m\u001b[0m\u001b[0m",
      "\u001b[0;32mc:\\program files\\anaconda3\\lib\\pickle.py\u001b[0m in \u001b[0;36mload\u001b[0;34m(self)\u001b[0m",
      "\u001b[1;32m   1037\u001b[0m                     \u001b[1;32mraise\u001b[0m \u001b[0mEOFError\u001b[0m\u001b[1;33m\u001b[0m\u001b[0m",
      "\u001b[1;32m   1038\u001b[0m                 \u001b[1;32massert\u001b[0m \u001b[0misinstance\u001b[0m\u001b[1;33m(\u001b[0m\u001b[0mkey\u001b[0m\u001b[1;33m,\u001b[0m \u001b[0mbytes_types\u001b[0m\u001b[1;33m)\u001b[0m\u001b[1;33m\u001b[0m\u001b[0m",
      "\u001b[0;32m-> 1039\u001b[0;31m                 \u001b[0mdispatch\u001b[0m\u001b[1;33m[\u001b[0m\u001b[0mkey\u001b[0m\u001b[1;33m[\u001b[0m\u001b[1;36m0\u001b[0m\u001b[1;33m]\u001b[0m\u001b[1;33m]\u001b[0m\u001b[1;33m(\u001b[0m\u001b[0mself\u001b[0m\u001b[1;33m)\u001b[0m\u001b[1;33m\u001b[0m\u001b[0m",
      "\u001b[0m\u001b[1;32m   1040\u001b[0m         \u001b[1;32mexcept\u001b[0m \u001b[0m_Stop\u001b[0m \u001b[1;32mas\u001b[0m \u001b[0mstopinst\u001b[0m\u001b[1;33m:\u001b[0m\u001b[1;33m\u001b[0m\u001b[0m",
      "\u001b[1;32m   1041\u001b[0m             \u001b[1;32mreturn\u001b[0m \u001b[0mstopinst\u001b[0m\u001b[1;33m.\u001b[0m\u001b[0mvalue\u001b[0m\u001b[1;33m\u001b[0m\u001b[0m",
      "\u001b[0;32mc:\\program files\\anaconda3\\lib\\pickle.py\u001b[0m in \u001b[0;36mload_global\u001b[0;34m(self)\u001b[0m",
      "\u001b[1;32m   1332\u001b[0m         \u001b[0mmodule\u001b[0m \u001b[1;33m=\u001b[0m \u001b[0mself\u001b[0m\u001b[1;33m.\u001b[0m\u001b[0mreadline\u001b[0m\u001b[1;33m(\u001b[0m\u001b[1;33m)\u001b[0m\u001b[1;33m[\u001b[0m\u001b[1;33m:\u001b[0m\u001b[1;33m-\u001b[0m\u001b[1;36m1\u001b[0m\u001b[1;33m]\u001b[0m\u001b[1;33m.\u001b[0m\u001b[0mdecode\u001b[0m\u001b[1;33m(\u001b[0m\u001b[1;34m\"utf-8\"\u001b[0m\u001b[1;33m)\u001b[0m\u001b[1;33m\u001b[0m\u001b[0m",
      "\u001b[1;32m   1333\u001b[0m         \u001b[0mname\u001b[0m \u001b[1;33m=\u001b[0m \u001b[0mself\u001b[0m\u001b[1;33m.\u001b[0m\u001b[0mreadline\u001b[0m\u001b[1;33m(\u001b[0m\u001b[1;33m)\u001b[0m\u001b[1;33m[\u001b[0m\u001b[1;33m:\u001b[0m\u001b[1;33m-\u001b[0m\u001b[1;36m1\u001b[0m\u001b[1;33m]\u001b[0m\u001b[1;33m.\u001b[0m\u001b[0mdecode\u001b[0m\u001b[1;33m(\u001b[0m\u001b[1;34m\"utf-8\"\u001b[0m\u001b[1;33m)\u001b[0m\u001b[1;33m\u001b[0m\u001b[0m",
      "\u001b[0;32m-> 1334\u001b[0;31m         \u001b[0mklass\u001b[0m \u001b[1;33m=\u001b[0m \u001b[0mself\u001b[0m\u001b[1;33m.\u001b[0m\u001b[0mfind_class\u001b[0m\u001b[1;33m(\u001b[0m\u001b[0mmodule\u001b[0m\u001b[1;33m,\u001b[0m \u001b[0mname\u001b[0m\u001b[1;33m)\u001b[0m\u001b[1;33m\u001b[0m\u001b[0m",
      "\u001b[0m\u001b[1;32m   1335\u001b[0m         \u001b[0mself\u001b[0m\u001b[1;33m.\u001b[0m\u001b[0mappend\u001b[0m\u001b[1;33m(\u001b[0m\u001b[0mklass\u001b[0m\u001b[1;33m)\u001b[0m\u001b[1;33m\u001b[0m\u001b[0m",
      "\u001b[1;32m   1336\u001b[0m     \u001b[0mdispatch\u001b[0m\u001b[1;33m[\u001b[0m\u001b[0mGLOBAL\u001b[0m\u001b[1;33m[\u001b[0m\u001b[1;36m0\u001b[0m\u001b[1;33m]\u001b[0m\u001b[1;33m]\u001b[0m \u001b[1;33m=\u001b[0m \u001b[0mload_global\u001b[0m\u001b[1;33m\u001b[0m\u001b[0m",
      "\u001b[0;32mc:\\program files\\anaconda3\\lib\\site-packages\\dill\\dill.py\u001b[0m in \u001b[0;36mfind_class\u001b[0;34m(self, module, name)\u001b[0m",
      "\u001b[1;32m    404\u001b[0m         \u001b[1;32melif\u001b[0m \u001b[1;33m(\u001b[0m\u001b[0mmodule\u001b[0m\u001b[1;33m,\u001b[0m \u001b[0mname\u001b[0m\u001b[1;33m)\u001b[0m \u001b[1;33m==\u001b[0m \u001b[1;33m(\u001b[0m\u001b[1;34m'__builtin__'\u001b[0m\u001b[1;33m,\u001b[0m \u001b[1;34m'NoneType'\u001b[0m\u001b[1;33m)\u001b[0m\u001b[1;33m:\u001b[0m\u001b[1;33m\u001b[0m\u001b[0m",
      "\u001b[1;32m    405\u001b[0m             \u001b[1;32mreturn\u001b[0m \u001b[0mtype\u001b[0m\u001b[1;33m(\u001b[0m\u001b[1;32mNone\u001b[0m\u001b[1;33m)\u001b[0m \u001b[1;31m#XXX: special case: NoneType missing\u001b[0m\u001b[1;33m\u001b[0m\u001b[0m",
      "\u001b[0;32m--> 406\u001b[0;31m         \u001b[1;32mreturn\u001b[0m \u001b[0mStockUnpickler\u001b[0m\u001b[1;33m.\u001b[0m\u001b[0mfind_class\u001b[0m\u001b[1;33m(\u001b[0m\u001b[0mself\u001b[0m\u001b[1;33m,\u001b[0m \u001b[0mmodule\u001b[0m\u001b[1;33m,\u001b[0m \u001b[0mname\u001b[0m\u001b[1;33m)\u001b[0m\u001b[1;33m\u001b[0m\u001b[0m",
      "\u001b[0m\u001b[1;32m    407\u001b[0m \u001b[1;33m\u001b[0m\u001b[0m",
      "\u001b[1;32m    408\u001b[0m     \u001b[1;32mdef\u001b[0m \u001b[0m__init__\u001b[0m\u001b[1;33m(\u001b[0m\u001b[0mself\u001b[0m\u001b[1;33m,\u001b[0m \u001b[1;33m*\u001b[0m\u001b[0margs\u001b[0m\u001b[1;33m,\u001b[0m \u001b[1;33m**\u001b[0m\u001b[0mkwds\u001b[0m\u001b[1;33m)\u001b[0m\u001b[1;33m:\u001b[0m\u001b[1;33m\u001b[0m\u001b[0m",
      "\u001b[0;32mc:\\program files\\anaconda3\\lib\\pickle.py\u001b[0m in \u001b[0;36mfind_class\u001b[0;34m(self, module, name)\u001b[0m",
      "\u001b[1;32m   1382\u001b[0m             \u001b[1;32melif\u001b[0m \u001b[0mmodule\u001b[0m \u001b[1;32min\u001b[0m \u001b[0m_compat_pickle\u001b[0m\u001b[1;33m.\u001b[0m\u001b[0mIMPORT_MAPPING\u001b[0m\u001b[1;33m:\u001b[0m\u001b[1;33m\u001b[0m\u001b[0m",
      "\u001b[1;32m   1383\u001b[0m                 \u001b[0mmodule\u001b[0m \u001b[1;33m=\u001b[0m \u001b[0m_compat_pickle\u001b[0m\u001b[1;33m.\u001b[0m\u001b[0mIMPORT_MAPPING\u001b[0m\u001b[1;33m[\u001b[0m\u001b[0mmodule\u001b[0m\u001b[1;33m]\u001b[0m\u001b[1;33m\u001b[0m\u001b[0m",
      "\u001b[0;32m-> 1384\u001b[0;31m         \u001b[0m__import__\u001b[0m\u001b[1;33m(\u001b[0m\u001b[0mmodule\u001b[0m\u001b[1;33m,\u001b[0m \u001b[0mlevel\u001b[0m\u001b[1;33m=\u001b[0m\u001b[1;36m0\u001b[0m\u001b[1;33m)\u001b[0m\u001b[1;33m\u001b[0m\u001b[0m",
      "\u001b[0m\u001b[1;32m   1385\u001b[0m         \u001b[1;32mif\u001b[0m \u001b[0mself\u001b[0m\u001b[1;33m.\u001b[0m\u001b[0mproto\u001b[0m \u001b[1;33m>=\u001b[0m \u001b[1;36m4\u001b[0m\u001b[1;33m:\u001b[0m\u001b[1;33m\u001b[0m\u001b[0m",
      "\u001b[1;32m   1386\u001b[0m             \u001b[1;32mreturn\u001b[0m \u001b[0m_getattribute\u001b[0m\u001b[1;33m(\u001b[0m\u001b[0msys\u001b[0m\u001b[1;33m.\u001b[0m\u001b[0mmodules\u001b[0m\u001b[1;33m[\u001b[0m\u001b[0mmodule\u001b[0m\u001b[1;33m]\u001b[0m\u001b[1;33m,\u001b[0m \u001b[0mname\u001b[0m\u001b[1;33m)\u001b[0m\u001b[1;33m[\u001b[0m\u001b[1;36m0\u001b[0m\u001b[1;33m]\u001b[0m\u001b[1;33m\u001b[0m\u001b[0m",
      "\u001b[0;31mImportError\u001b[0m: No module named 'GenSim_IQLE'"
     ]
    }
   ],
   "source": [
    "start = time.clock()\n",
    "\n",
    "\n",
    "perf = qi.perf_test_multiple(model=model, n_trials = 2, n_particles=n_particles, prior=prior,\n",
    "        n_exp=n_experiments, true_mps = true_params, heuristic_class=partial(mpgh.multiPGH, inv_field=inv_field, t_field='t'), \n",
    "                    extra_updater_args = extra_updater_args,\n",
    "                   apply=lbview.apply)\n",
    "\n",
    "end=time.clock()\n",
    "print('elapsed time: ' + str(end-start))"
   ]
  },
  {
   "cell_type": "code",
   "execution_count": null,
   "metadata": {
    "collapsed": true
   },
   "outputs": [],
   "source": []
  }
 ],
 "metadata": {
  "anaconda-cloud": {},
  "kernelspec": {
   "display_name": "Python [conda root]",
   "language": "python",
   "name": "conda-root-py"
  },
  "language_info": {
   "codemirror_mode": {
    "name": "ipython",
    "version": 3
   },
   "file_extension": ".py",
   "mimetype": "text/x-python",
   "name": "python",
   "nbconvert_exporter": "python",
   "pygments_lexer": "ipython3",
   "version": "3.5.2"
  }
 },
 "nbformat": 4,
 "nbformat_minor": 0
}
