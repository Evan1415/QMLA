{
 "cells": [
  {
   "cell_type": "markdown",
   "metadata": {},
   "source": [
    "### Possible improvements:\n",
    "1) check \"choose_prob\" method for useless calls, as they rely on the slow np.linalg library\n",
    "\n",
    "2) consider improving Pr0fromScipy calls (eventually re/move the dimensional check from there)\n",
    "\n",
    "3) performances for 2+ parameters are poor if Trotterization is OFF... reason not yet clear\n",
    "\n",
    "..."
   ]
  },
  {
   "cell_type": "code",
   "execution_count": 1,
   "metadata": {
    "collapsed": false
   },
   "outputs": [],
   "source": [
    "%matplotlib inline\n",
    "\n",
    "import qinfer as qi\n",
    "#import qutip as qt\n",
    "import numpy as np\n",
    "import scipy as sp\n",
    "from IPython.display import display, Math, Latex\n",
    "from functools import partial\n",
    "import matplotlib.pyplot as plt\n",
    "import importlib as imp"
   ]
  },
  {
   "cell_type": "code",
   "execution_count": 2,
   "metadata": {
    "collapsed": true
   },
   "outputs": [],
   "source": [
    "import datetime\n",
    "import os as os\n",
    "import time as time"
   ]
  },
  {
   "cell_type": "code",
   "execution_count": 3,
   "metadata": {
    "collapsed": false
   },
   "outputs": [],
   "source": [
    "import logging as logging\n",
    "import sys\n",
    "\n",
    "%run LoggingCode.py"
   ]
  },
  {
   "cell_type": "code",
   "execution_count": 4,
   "metadata": {
    "collapsed": false
   },
   "outputs": [
    {
     "name": "stdout",
     "output_type": "stream",
     "text": [
      "Files will be saved in:\n",
      "C:\\Users\\ag15141\\Local Documents\\Cloud\\Dropbox (Qsim)\\Projects\\CU4 chip\\QHLandD\\MultiPar_GenSim cleanup\\tests\\T\n"
     ]
    }
   ],
   "source": [
    "# tell the user where files will be saved\n",
    "dire = os.getcwd()\n",
    "dire = dire+\"/tests/T\"\n",
    "dire = os.path.normpath(dire)\n",
    "print('Files will be saved in:')\n",
    "print(dire)"
   ]
  },
  {
   "cell_type": "code",
   "execution_count": 5,
   "metadata": {
    "collapsed": false
   },
   "outputs": [],
   "source": [
    "from Norms import *\n",
    "from IOfuncts import *\n",
    "from EvalLoss import *\n",
    "\n",
    "import ProbeStates as pros\n",
    "import multiPGH as mpgh\n",
    "import GenSim_IQLE as gsi\n",
    "import Evo as evo"
   ]
  },
  {
   "cell_type": "code",
   "execution_count": 6,
   "metadata": {
    "collapsed": false
   },
   "outputs": [],
   "source": [
    "length=10\n",
    "a=np.linspace(0.1,0.9,length)\n",
    "a=np.append(a, np.flipud(a[1:-1]))\n",
    "index = range((len(a)))\n",
    "wgts_list = np.asarray(list(map(lambda index: np.roll(a, index), index )))"
   ]
  },
  {
   "cell_type": "code",
   "execution_count": 7,
   "metadata": {
    "collapsed": false
   },
   "outputs": [],
   "source": [
    "# wgts_list"
   ]
  },
  {
   "cell_type": "code",
   "execution_count": 8,
   "metadata": {
    "collapsed": false
   },
   "outputs": [],
   "source": [
    "# newprobe = list(map(lambda wgts_list: np.sum(wgts_list*eiglist, axis=0), wgts_list))\n",
    "# newprobe"
   ]
  },
  {
   "cell_type": "markdown",
   "metadata": {},
   "source": [
    "# Results from trivial step-by-step implementation in 2 parameters case\n"
   ]
  },
  {
   "cell_type": "code",
   "execution_count": 6,
   "metadata": {
    "collapsed": false
   },
   "outputs": [
    {
     "data": {
      "text/plain": [
       "<module 'Evo' from 'C:\\\\Users\\\\ag15141\\\\Local Documents\\\\Cloud\\\\Dropbox (Qsim)\\\\Projects\\\\CU4 chip\\\\QHLandD\\\\MultiPar_GenSim cleanup\\\\Evo.py'>"
      ]
     },
     "execution_count": 6,
     "metadata": {},
     "output_type": "execute_result"
    }
   ],
   "source": [
    "imp.reload(pros)\n",
    "imp.reload(mpgh)\n",
    "imp.reload(gsi)\n",
    "imp.reload(evo)"
   ]
  },
  {
   "cell_type": "code",
   "execution_count": 21,
   "metadata": {
    "collapsed": false
   },
   "outputs": [
    {
     "name": "stdout",
     "output_type": "stream",
     "text": [
      "Oplist: array([[[ 0.+0.j,  0.-1.j],\n",
      "        [ 0.+1.j,  0.+0.j]],\n",
      "\n",
      "       [[ 0.+0.j,  1.+0.j],\n",
      "        [ 1.+0.j,  0.+0.j]]])\n",
      "Chosen true_params: [[ 0.3  0.6]]\n",
      "Chosen probestate: [ 0.9472136+0.2236068j  0.0527864-0.2236068j]\n",
      "Inversion fields are: ['w_1', 'w_2']\n",
      "Heuristic output:array([(2.1267300044261663, 0.8788455354278528, 0.4054414045313468)], \n",
      "      dtype=[('t', '<f8'), ('w_1', '<f8'), ('w_2', '<f8')])\n",
      "Initialization Ready\n"
     ]
    }
   ],
   "source": [
    "probecounter = 0\n",
    "\n",
    "oplist=np.array([evo.sigmay(), evo.sigmax()])\n",
    "#oplist=np.array([evo.sigmaz()])\n",
    "oplist=np.dot(1.0, oplist)\n",
    "print('Oplist: ' + repr(oplist))\n",
    "\n",
    "true_params = np.array([[0.3, 0.6]])\n",
    "#true_params = np.array([[0.7]])\n",
    "print('Chosen true_params: ' + str(true_params))\n",
    "\n",
    "#Listing eigenvectors\n",
    "# eiglist = pros.list_randomeig(oplist)\n",
    "# eiglist = np.append(eiglist, np.array([1, 0]))\n",
    "# eiglist = np.reshape(eiglist, [len(oplist)+1,2])\n",
    "# print('Chosen probestates: ' + repr(eiglist))\n",
    "\n",
    "#eiglist=sp.absolute(sp.linalg.orth(oplist[0]))\n",
    "#print('Chosen probestates: ' + repr(eiglist))\n",
    "\n",
    "probestate=pros.choose_probe(oplist,true_params)\n",
    "print('Chosen probestate: ' + str(probestate))\n",
    "\n",
    "sigw = 0.3\n",
    "siga = 0.3\n",
    "\n",
    "prior = qi.MultivariateNormalDistribution(\n",
    "     [true_params[0, 0] + sigw/3, true_params[0, 1]-siga/3], [[sigw **2, 0], [0, siga **2]])\n",
    "# prior = qi.UniformDistribution([0., 1])\n",
    "\n",
    "\n",
    "model = gsi.GenSim_IQLE(oplist=oplist, modelparams=true_params, probecounter = 0, probelist= [probestate], solver='scipy', trotter=True)\n",
    "\n",
    "\n",
    "n_particles = 300\n",
    "n_experiments = 300\n",
    "\n",
    "updater = qi.SMCUpdater(model, n_particles, prior, resample_thresh=0.5, resampler = qi.LiuWestResampler(a=0.95), debug_resampling=True)\n",
    "\n",
    "inv_field = [item[0] for item in model.expparams_dtype[1:] ]\n",
    "print('Inversion fields are: ' + str(inv_field))\n",
    "heuristic = mpgh.multiPGH(updater, oplist, inv_field=inv_field)\n",
    "print('Heuristic output:' + repr(heuristic()))\n",
    "\n",
    "expparams = np.empty((1, ), dtype=model.expparams_dtype)\n",
    "\n",
    "print('Initialization Ready')"
   ]
  },
  {
   "cell_type": "code",
   "execution_count": 22,
   "metadata": {
    "collapsed": false
   },
   "outputs": [
    {
     "name": "stdout",
     "output_type": "stream",
     "text": [
      "array([(1.4518842824855285, 0.6515449591895366, 0.43136639122749154)], \n",
      "      dtype=[('t', '<f8'), ('w_1', '<f8'), ('w_2', '<f8')])\n"
     ]
    }
   ],
   "source": [
    "eps = np.empty((1,), dtype=updater.model.expparams_dtype)\n",
    "\n",
    "experiment = heuristic()\n",
    "print(repr(experiment))"
   ]
  },
  {
   "cell_type": "code",
   "execution_count": 23,
   "metadata": {
    "collapsed": false
   },
   "outputs": [
    {
     "name": "stdout",
     "output_type": "stream",
     "text": [
      "Initial time selected > 1.48543064908\n"
     ]
    },
    {
     "name": "stderr",
     "output_type": "stream",
     "text": [
      "qinfer.smc - DEBUG - Resampling changed mean by [-0.01461552 -0.00243802]. Norm change in cov: 0.011774933983022167.\n",
      "qinfer.smc - DEBUG - Resampling changed mean by [-0.00746676  0.00904115]. Norm change in cov: 0.002687795740072397.\n",
      "qinfer.smc - DEBUG - Resampling changed mean by [ 0.00663611  0.00740441]. Norm change in cov: 0.0030863508410867804.\n",
      "qinfer.smc - DEBUG - Resampling changed mean by [-0.00590451 -0.00402309]. Norm change in cov: 0.0018596421493368217.\n",
      "qinfer.smc - DEBUG - Resampling changed mean by [-0.00200927  0.00406887]. Norm change in cov: 0.0010793271547489731.\n",
      "qinfer.smc - DEBUG - Resampling changed mean by [-0.00017777 -0.00067558]. Norm change in cov: 0.00033272759876497234.\n",
      "qinfer.smc - DEBUG - Resampling changed mean by [ 0.00574714 -0.00574607]. Norm change in cov: 0.0022371871152864335.\n",
      "qinfer.smc - DEBUG - Resampling changed mean by [ 0.00698144  0.0010794 ]. Norm change in cov: 0.0014369132101247969.\n",
      "qinfer.smc - DEBUG - Resampling changed mean by [-0.0010163   0.00048923]. Norm change in cov: 0.00039363603037278946.\n",
      "qinfer.smc - DEBUG - Resampling changed mean by [-0.00157901  0.00108582]. Norm change in cov: 0.0004486778233415144.\n",
      "qinfer.smc - DEBUG - Resampling changed mean by [ 0.00030852  0.00034981]. Norm change in cov: 0.00016462433041548256.\n",
      "qinfer.smc - DEBUG - Resampling changed mean by [-0.00145805 -0.00031494]. Norm change in cov: 0.00030880548580805686.\n",
      "qinfer.smc - DEBUG - Resampling changed mean by [-0.00237607  0.00049021]. Norm change in cov: 0.00025268795886534577.\n",
      "qinfer.smc - DEBUG - Resampling changed mean by [ -2.84201405e-05  -6.79836770e-06]. Norm change in cov: 8.277063605015888e-06.\n",
      "qinfer.smc - DEBUG - Resampling changed mean by [-0.00029648  0.00022586]. Norm change in cov: 1.3875790365218673e-05.\n",
      "qinfer.smc - DEBUG - Resampling changed mean by [ -2.83733973e-05  -1.13657223e-04]. Norm change in cov: 8.275669001674114e-07.\n",
      "qinfer.smc - DEBUG - Resampling changed mean by [  4.64702653e-05  -1.83917899e-04]. Norm change in cov: 8.561787293060173e-07.\n",
      "qinfer.smc - DEBUG - Resampling changed mean by [-0.00019959  0.00017206]. Norm change in cov: 5.87236927505379e-07.\n",
      "qinfer.smc - DEBUG - Resampling changed mean by [ -2.65125790e-05  -1.15374473e-04]. Norm change in cov: 2.7105784886991456e-07.\n",
      "qinfer.smc - DEBUG - Resampling changed mean by [  1.52461586e-04  -4.73621419e-05]. Norm change in cov: 1.4901914849567378e-07.\n",
      "qinfer.smc - DEBUG - Resampling changed mean by [ -1.12210409e-04  -1.51753464e-05]. Norm change in cov: 2.4813934860973276e-07.\n",
      "qinfer.smc - DEBUG - Resampling changed mean by [ -2.67925436e-05  -5.95256478e-06]. Norm change in cov: 2.631955455895236e-07.\n",
      "qinfer.smc - DEBUG - Resampling changed mean by [ -1.24644999e-04   2.70781998e-05]. Norm change in cov: 3.763339314967597e-07.\n",
      "qinfer.smc - DEBUG - Resampling changed mean by [ -2.15157042e-05   7.29914420e-05]. Norm change in cov: 3.8087178899466615e-07.\n",
      "qinfer.smc - DEBUG - Resampling changed mean by [ -1.37248000e-05  -1.36115029e-05]. Norm change in cov: 1.1266299694568067e-07.\n",
      "qinfer.smc - DEBUG - Resampling changed mean by [  1.33464219e-06  -2.79099129e-05]. Norm change in cov: 6.146523688297302e-08.\n",
      "qinfer.smc - DEBUG - Resampling changed mean by [  3.21001509e-05   2.42948982e-05]. Norm change in cov: 1.1752116715264295e-08.\n",
      "qinfer.smc - DEBUG - Resampling changed mean by [  3.98877492e-05  -1.65817309e-05]. Norm change in cov: 3.5152501580425205e-08.\n",
      "qinfer.smc - DEBUG - Resampling changed mean by [ -2.58686287e-06   1.11266838e-06]. Norm change in cov: 2.53034892936192e-08.\n",
      "qinfer.smc - DEBUG - Resampling changed mean by [  1.86536016e-05   1.80199514e-05]. Norm change in cov: 1.3278624990744836e-08.\n",
      "qinfer.smc - DEBUG - Resampling changed mean by [ -1.64122753e-05   2.05652552e-05]. Norm change in cov: 6.578825019346787e-09.\n",
      "qinfer.smc - DEBUG - Resampling changed mean by [ -1.36498841e-06   1.03352064e-05]. Norm change in cov: 3.6444361192653875e-09.\n",
      "qinfer.smc - DEBUG - Resampling changed mean by [ -3.46688615e-06  -5.38444456e-06]. Norm change in cov: 8.987856150327693e-10.\n",
      "qinfer.smc - DEBUG - Resampling changed mean by [  6.49101043e-06   3.99244821e-06]. Norm change in cov: 1.005449621525072e-09.\n",
      "qinfer.smc - DEBUG - Resampling changed mean by [  2.71527181e-06  -8.18733644e-06]. Norm change in cov: 1.978015044563008e-09.\n",
      "qinfer.smc - DEBUG - Resampling changed mean by [  4.61262122e-06  -2.09555164e-06]. Norm change in cov: 9.160422006136951e-10.\n",
      "qinfer.smc - DEBUG - Resampling changed mean by [ -3.68595805e-07  -2.02118061e-06]. Norm change in cov: 2.0894112336746257e-10.\n",
      "qinfer.smc - DEBUG - Resampling changed mean by [  3.37190224e-06   8.29160709e-08]. Norm change in cov: 2.855124073845806e-11.\n",
      "qinfer.smc - DEBUG - Resampling changed mean by [ -9.79374441e-07  -1.87466504e-06]. Norm change in cov: 2.772554923321754e-11.\n",
      "qinfer.smc - DEBUG - Resampling changed mean by [  4.34479014e-07   4.78054545e-07]. Norm change in cov: 1.2444078963627297e-11.\n",
      "qinfer.smc - DEBUG - Resampling changed mean by [ -4.81090352e-07  -3.42598661e-08]. Norm change in cov: 1.8829034841037978e-11.\n",
      "qinfer.smc - DEBUG - Resampling changed mean by [ -4.69991772e-07  -1.82423492e-07]. Norm change in cov: 1.3846309158774885e-11.\n",
      "qinfer.smc - DEBUG - Resampling changed mean by [ -4.98094650e-07  -1.27292064e-07]. Norm change in cov: 1.3263260643497905e-12.\n",
      "qinfer.smc - DEBUG - Resampling changed mean by [  2.34844749e-07  -1.50429914e-07]. Norm change in cov: 1.136445392341593e-12.\n",
      "qinfer.smc - DEBUG - Resampling changed mean by [ -2.23621696e-07   1.03787622e-07]. Norm change in cov: 5.447901303357123e-13.\n",
      "qinfer.smc - DEBUG - Resampling changed mean by [ -3.13292072e-08  -5.19495725e-08]. Norm change in cov: 6.690524525741971e-13.\n",
      "qinfer.smc - DEBUG - Resampling changed mean by [  9.42335809e-08   2.09422983e-07]. Norm change in cov: 8.503165706960632e-13.\n",
      "qinfer.smc - DEBUG - Resampling changed mean by [  1.99680593e-07   2.74692743e-08]. Norm change in cov: 6.706991147844895e-13.\n",
      "qinfer.smc - DEBUG - Resampling changed mean by [ -8.45400698e-08   7.01532562e-08]. Norm change in cov: 4.0330767662140395e-13.\n",
      "qinfer.smc - DEBUG - Resampling changed mean by [  1.24601380e-07  -1.20417407e-07]. Norm change in cov: 2.1080869835629331e-13.\n",
      "qinfer.smc - DEBUG - Resampling changed mean by [ -1.69107056e-08   5.27197224e-08]. Norm change in cov: 1.4992577278220845e-13.\n",
      "qinfer.smc - DEBUG - Resampling changed mean by [  9.58859454e-08   1.26567389e-07]. Norm change in cov: 1.1737860493061267e-13.\n",
      "qinfer.smc - DEBUG - Resampling changed mean by [ -3.53353768e-09  -5.29791042e-08]. Norm change in cov: 1.052119173664228e-13.\n",
      "qinfer.smc - DEBUG - Resampling changed mean by [ -4.02933041e-08  -3.39289488e-08]. Norm change in cov: 8.431062655430626e-14.\n",
      "qinfer.smc - DEBUG - Resampling changed mean by [ -5.19397773e-08  -9.44210259e-08]. Norm change in cov: 3.058781812495787e-13.\n",
      "qinfer.smc - DEBUG - Resampling changed mean by [  8.45063786e-09   8.50324755e-09]. Norm change in cov: 7.157693840842058e-14.\n",
      "qinfer.smc - DEBUG - Resampling changed mean by [  2.22479660e-08  -4.26539981e-09]. Norm change in cov: 4.6300726164168294e-14.\n",
      "qinfer.smc - DEBUG - Resampling changed mean by [ -2.65572596e-08   8.26266189e-09]. Norm change in cov: 2.280344783414703e-14.\n",
      "qinfer.smc - DEBUG - Resampling changed mean by [ -3.83953357e-08   2.20895799e-08]. Norm change in cov: 1.3140499071113605e-14.\n",
      "qinfer.smc - DEBUG - Resampling changed mean by [ -1.00970788e-08   2.91533686e-09]. Norm change in cov: 8.730452226091366e-15.\n",
      "qinfer.smc - DEBUG - Resampling changed mean by [  8.59736149e-09  -3.08798342e-09]. Norm change in cov: 5.429177894751448e-15.\n",
      "qinfer.smc - DEBUG - Resampling changed mean by [ -4.07917633e-09   6.84023171e-09]. Norm change in cov: 8.941270321184029e-15.\n",
      "qinfer.smc - DEBUG - Resampling changed mean by [  3.08396542e-09  -6.09189399e-09]. Norm change in cov: 5.651463918201602e-15.\n",
      "qinfer.smc - DEBUG - Resampling changed mean by [ -8.52678139e-09  -1.06858777e-09]. Norm change in cov: 1.5204888375921863e-15.\n",
      "qinfer.smc - DEBUG - Resampling changed mean by [ -8.40205416e-09  -3.28293870e-09]. Norm change in cov: 1.681046402512254e-15.\n",
      "qinfer.smc - DEBUG - Resampling changed mean by [ -5.45173945e-09   4.28222968e-09]. Norm change in cov: 2.477253151132417e-15.\n"
     ]
    },
    {
     "name": "stdout",
     "output_type": "stream",
     "text": [
      "Final time selected > 4827120.22943\n",
      "elapsed time: 34.48407233602319\n"
     ]
    }
   ],
   "source": [
    "# counter timestamp to avoid replacement\n",
    "timestamp = str(datetime.datetime.now()).split('.')[0]\n",
    "timestamp = \"_\"+timestamp.replace(\" \", \"_\")\n",
    "timestamp = timestamp.replace(\":\", \".\")\n",
    "\n",
    "# probecounter for the choice of the state\n",
    "probecounter = 0\n",
    "\n",
    "track_loss = np.empty(n_experiments)\n",
    "track_cov = np.empty(n_experiments)\n",
    "track_time = np.empty(n_experiments)\n",
    "\n",
    "track_particle_locs = np.empty([n_particles, len(true_params[0]), n_experiments])\n",
    "track_particle_wght = np.empty([n_particles, n_experiments])\n",
    "\n",
    "start=time.clock()\n",
    "\n",
    "\n",
    "for idx_experiment in range(n_experiments):\n",
    "    \n",
    "    experiment = heuristic()\n",
    "    #print('Chosen experiment: ' + repr(experiment))\n",
    "    \n",
    "    if idx_experiment == 0:\n",
    "        print('Initial time selected > ' + str(experiment[0][0]))\n",
    "    if idx_experiment == n_experiments-1:\n",
    "        print('Final time selected > ' + str(experiment[0][0]))\n",
    "    \n",
    "    track_time[idx_experiment] = experiment[0][0]\n",
    "    \n",
    "    datum = model.simulate_experiment(true_params, experiment)\n",
    "    #print(repr(datum))\n",
    "    updater.update(datum, experiment)\n",
    "    heuristic = mpgh.multiPGH(updater, oplist, inv_field=inv_field)\n",
    "    \n",
    "    track_cov[idx_experiment] = np.linalg.norm(updater.est_covariance_mtx())\n",
    "    \n",
    "    track_particle_locs[:, :, idx_experiment] = updater.particle_locations\n",
    "    track_particle_wght[:, idx_experiment] = updater.particle_weights\n",
    "\n",
    "    new_eval = updater.est_mean()\n",
    "    \n",
    "    new_loss = eval_loss(model, new_eval, true_params)\n",
    "    track_loss[idx_experiment] = new_loss[0]\n",
    "    \n",
    "end=time.clock()\n",
    "print('elapsed time: ' + str(end-start))"
   ]
  },
  {
   "cell_type": "code",
   "execution_count": 24,
   "metadata": {
    "collapsed": false
   },
   "outputs": [
    {
     "name": "stdout",
     "output_type": "stream",
     "text": [
      "Files to output:\n",
      "C:\\Users\\ag15141\\Local Documents\\Cloud\\Dropbox (Qsim)\\Projects\\CU4 chip\\QHLandD\\MultiPar_GenSim cleanup\\tests\\T_2017-05-25_22.40.35_Fig_QL_CovNorm_Npars_2_Nexp_300_Nparts_300.pdf\n"
     ]
    },
    {
     "data": {
      "image/png": "[encoded data removed]",
      "text/plain": [
       "<matplotlib.figure.Figure at 0x73513c8>"
      ]
     },
     "metadata": {},
     "output_type": "display_data"
    }
   ],
   "source": [
    "plt.semilogy(track_loss, label='Q.L.')\n",
    "plt.semilogy(track_cov, label='Cov. Norm.')\n",
    "plt.legend()\n",
    "plt.xlabel('# of Measurements')\n",
    "\n",
    "filename = dire+str(timestamp)+\"_Fig_QL_CovNorm_Npars_\"+str(len(true_params[0]))+\"_Nexp_\"+str(n_experiments)+\"_Nparts_\"+str(n_particles)+\".pdf\"\n",
    "print(\"Files to output:\\n\" + str(filename))\n",
    "\n",
    "plt.savefig(filename)\n",
    "\n",
    "plt.show()"
   ]
  }
 ],
 "metadata": {
  "anaconda-cloud": {},
  "kernelspec": {
   "display_name": "Python [conda root]",
   "language": "python",
   "name": "conda-root-py"
  },
  "language_info": {
   "codemirror_mode": {
    "name": "ipython",
    "version": 3
   },
   "file_extension": ".py",
   "mimetype": "text/x-python",
   "name": "python",
   "nbconvert_exporter": "python",
   "pygments_lexer": "ipython3",
   "version": "3.5.2"
  }
 },
 "nbformat": 4,
 "nbformat_minor": 0
}
