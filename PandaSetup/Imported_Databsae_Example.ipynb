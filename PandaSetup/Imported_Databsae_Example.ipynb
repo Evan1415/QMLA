{
 "cells": [
  {
   "cell_type": "code",
   "execution_count": 5,
   "metadata": {},
   "outputs": [],
   "source": [
    "import numpy as np\n",
    "import itertools as itr\n",
    "\n",
    "import os as os\n",
    "import sys as sys \n",
    "import pandas as pd\n",
    "import warnings\n",
    "sys.path.append(os.path.join(\"..\",\"Libraries\",\"QML_lib\"))\n",
    "import Evo as evo\n",
    "import DataBase "
   ]
  },
  {
   "cell_type": "code",
   "execution_count": 6,
   "metadata": {},
   "outputs": [
    {
     "ename": "AttributeError",
     "evalue": "'module' object has no attribute 'reload'",
     "output_type": "error",
     "traceback": [
      "\u001b[0;31m---------------------------------------------------------------------------\u001b[0m",
      "\u001b[0;31mAttributeError\u001b[0m                            Traceback (most recent call last)",
      "\u001b[0;32m<ipython-input-6-a0f88aebedd9>\u001b[0m in \u001b[0;36m<module>\u001b[0;34m()\u001b[0m\n\u001b[1;32m      1\u001b[0m \u001b[0;32mimport\u001b[0m \u001b[0mimportlib\u001b[0m \u001b[0;32mas\u001b[0m \u001b[0mimp\u001b[0m\u001b[0;34m\u001b[0m\u001b[0m\n\u001b[0;32m----> 2\u001b[0;31m \u001b[0mimp\u001b[0m\u001b[0;34m.\u001b[0m\u001b[0mreload\u001b[0m\u001b[0;34m(\u001b[0m\u001b[0mDataBase\u001b[0m\u001b[0;34m)\u001b[0m\u001b[0;34m\u001b[0m\u001b[0m\n\u001b[0m",
      "\u001b[0;31mAttributeError\u001b[0m: 'module' object has no attribute 'reload'"
     ]
    }
   ],
   "source": [
    "import importlib as imp\n",
    "imp.reload(DataBase)"
   ]
  },
  {
   "cell_type": "markdown",
   "metadata": {},
   "source": [
    "# Usage Examples"
   ]
  },
  {
   "cell_type": "markdown",
   "metadata": {},
   "source": [
    "### Initialise Database\n",
    "* Name some models according to model naming convention\n",
    "* Create list of names\n",
    "* Initialise data base with launch_db"
   ]
  },
  {
   "cell_type": "code",
   "execution_count": 7,
   "metadata": {},
   "outputs": [
    {
     "data": {
      "text/plain": [
       "[1]"
      ]
     },
     "execution_count": 7,
     "metadata": {},
     "output_type": "execute_result"
    }
   ],
   "source": [
    "DataBase.get_acted_on_qubits('y')"
   ]
  },
  {
   "cell_type": "code",
   "execution_count": 8,
   "metadata": {},
   "outputs": [
    {
     "data": {
      "text/plain": [
       "['yTxPPzTi', 'xTyPPyTiTTTiTyPPxTiPPPPxTyPPyTiTTTiTyPPxTi', 'x']"
      ]
     },
     "execution_count": 8,
     "metadata": {},
     "output_type": "execute_result"
    }
   ],
   "source": [
    "gen_list"
   ]
  },
  {
   "cell_type": "code",
   "execution_count": 11,
   "metadata": {},
   "outputs": [],
   "source": [
    "name1 = 'yTxPPzTi'\n",
    "name2 = 'xTyPPyTiTTTiTyPPxTiPPPPxTyPPyTiTTTiTyPPxTi'\n",
    "name3 = 'x'\n",
    "\n",
    "gen_list=[name1, name2]\n",
    "db, model_db, model_lists = DataBase.launch_db(gen_list=gen_list)\n"
   ]
  },
  {
   "cell_type": "code",
   "execution_count": 3,
   "metadata": {},
   "outputs": [
    {
     "data": {
      "text/html": [
       "<div>\n",
       "<style>\n",
       "    .dataframe thead tr:only-child th {\n",
       "        text-align: right;\n",
       "    }\n",
       "\n",
       "    .dataframe thead th {\n",
       "        text-align: left;\n",
       "    }\n",
       "\n",
       "    .dataframe tbody tr th {\n",
       "        vertical-align: top;\n",
       "    }\n",
       "</style>\n",
       "<table border=\"1\" class=\"dataframe\">\n",
       "  <thead>\n",
       "    <tr style=\"text-align: right;\">\n",
       "      <th></th>\n",
       "      <th>&lt;Name&gt;</th>\n",
       "      <th>Alph_Name</th>\n",
       "      <th>DB_location</th>\n",
       "      <th>LogL_Ext</th>\n",
       "      <th>Origin_epoch</th>\n",
       "      <th>QML_Class</th>\n",
       "      <th>Qubits_Acted_On</th>\n",
       "      <th>RootNode</th>\n",
       "      <th>Selected</th>\n",
       "      <th>Status</th>\n",
       "    </tr>\n",
       "  </thead>\n",
       "  <tbody>\n",
       "    <tr>\n",
       "      <th>0</th>\n",
       "      <td>xPy</td>\n",
       "      <td>xPy</td>\n",
       "      <td>0</td>\n",
       "      <td>None</td>\n",
       "      <td>0</td>\n",
       "      <td>None</td>\n",
       "      <td>[1]</td>\n",
       "      <td>NaN</td>\n",
       "      <td>False</td>\n",
       "      <td>Ready</td>\n",
       "    </tr>\n",
       "  </tbody>\n",
       "</table>\n",
       "</div>"
      ],
      "text/plain": [
       "  <Name> Alph_Name  DB_location LogL_Ext  Origin_epoch QML_Class  \\\n",
       "0    xPy       xPy            0     None             0      None   \n",
       "\n",
       "  Qubits_Acted_On RootNode  Selected Status  \n",
       "0             [1]      NaN     False  Ready  "
      ]
     },
     "execution_count": 3,
     "metadata": {},
     "output_type": "execute_result"
    }
   ],
   "source": [
    "db"
   ]
  },
  {
   "cell_type": "markdown",
   "metadata": {},
   "source": [
    "### Check database after initialisation"
   ]
  },
  {
   "cell_type": "code",
   "execution_count": 41,
   "metadata": {},
   "outputs": [
    {
     "data": {
      "text/html": [
       "<div>\n",
       "<style>\n",
       "    .dataframe thead tr:only-child th {\n",
       "        text-align: right;\n",
       "    }\n",
       "\n",
       "    .dataframe thead th {\n",
       "        text-align: left;\n",
       "    }\n",
       "\n",
       "    .dataframe tbody tr th {\n",
       "        vertical-align: top;\n",
       "    }\n",
       "</style>\n",
       "<table border=\"1\" class=\"dataframe\">\n",
       "  <thead>\n",
       "    <tr style=\"text-align: right;\">\n",
       "      <th></th>\n",
       "      <th>&lt;Name&gt;</th>\n",
       "      <th>Alph_Name</th>\n",
       "      <th>DB_location</th>\n",
       "      <th>LogL_Ext</th>\n",
       "      <th>Origin_epoch</th>\n",
       "      <th>QML_Class</th>\n",
       "      <th>Qubits_Acted_On</th>\n",
       "      <th>RootNode</th>\n",
       "      <th>Selected</th>\n",
       "      <th>Status</th>\n",
       "    </tr>\n",
       "  </thead>\n",
       "  <tbody>\n",
       "    <tr>\n",
       "      <th>0</th>\n",
       "      <td>yTxPPzTi</td>\n",
       "      <td>yTxPPzTi</td>\n",
       "      <td>0</td>\n",
       "      <td>None</td>\n",
       "      <td>0</td>\n",
       "      <td>None</td>\n",
       "      <td>[1, 2]</td>\n",
       "      <td>NaN</td>\n",
       "      <td>False</td>\n",
       "      <td>Ready</td>\n",
       "    </tr>\n",
       "    <tr>\n",
       "      <th>1</th>\n",
       "      <td>xTyPPyTiTTTiTyPPxTiPPPPxTyPPyTiTTTiTyPPxTi</td>\n",
       "      <td>xTyPPyTiTTTiTyPPxTiPPPPxTyPPyTiTTTiTyPPxTi</td>\n",
       "      <td>1</td>\n",
       "      <td>None</td>\n",
       "      <td>0</td>\n",
       "      <td>None</td>\n",
       "      <td>[1, 2, 4]</td>\n",
       "      <td>NaN</td>\n",
       "      <td>False</td>\n",
       "      <td>Ready</td>\n",
       "    </tr>\n",
       "    <tr>\n",
       "      <th>2</th>\n",
       "      <td>x</td>\n",
       "      <td>x</td>\n",
       "      <td>2</td>\n",
       "      <td>None</td>\n",
       "      <td>0</td>\n",
       "      <td>None</td>\n",
       "      <td>[1]</td>\n",
       "      <td>NaN</td>\n",
       "      <td>False</td>\n",
       "      <td>Ready</td>\n",
       "    </tr>\n",
       "  </tbody>\n",
       "</table>\n",
       "</div>"
      ],
      "text/plain": [
       "                                       <Name>  \\\n",
       "0                                    yTxPPzTi   \n",
       "1  xTyPPyTiTTTiTyPPxTiPPPPxTyPPyTiTTTiTyPPxTi   \n",
       "2                                           x   \n",
       "\n",
       "                                    Alph_Name  DB_location LogL_Ext  \\\n",
       "0                                    yTxPPzTi            0     None   \n",
       "1  xTyPPyTiTTTiTyPPxTiPPPPxTyPPyTiTTTiTyPPxTi            1     None   \n",
       "2                                           x            2     None   \n",
       "\n",
       "   Origin_epoch QML_Class Qubits_Acted_On RootNode  Selected Status  \n",
       "0             0      None          [1, 2]      NaN     False  Ready  \n",
       "1             0      None       [1, 2, 4]      NaN     False  Ready  \n",
       "2             0      None             [1]      NaN     False  Ready  "
      ]
     },
     "execution_count": 41,
     "metadata": {},
     "output_type": "execute_result"
    }
   ],
   "source": [
    "db"
   ]
  },
  {
   "cell_type": "code",
   "execution_count": 42,
   "metadata": {},
   "outputs": [
    {
     "data": {
      "text/html": [
       "<div>\n",
       "<style>\n",
       "    .dataframe thead tr:only-child th {\n",
       "        text-align: right;\n",
       "    }\n",
       "\n",
       "    .dataframe thead th {\n",
       "        text-align: left;\n",
       "    }\n",
       "\n",
       "    .dataframe tbody tr th {\n",
       "        vertical-align: top;\n",
       "    }\n",
       "</style>\n",
       "<table border=\"1\" class=\"dataframe\">\n",
       "  <thead>\n",
       "    <tr style=\"text-align: right;\">\n",
       "      <th></th>\n",
       "      <th>&lt;Name&gt;</th>\n",
       "      <th>All_Operators_Matrices</th>\n",
       "      <th>All_Operators_Names</th>\n",
       "      <th>Alph_Name</th>\n",
       "      <th>Binary_Sum_Used_Qubits</th>\n",
       "      <th>Matrix</th>\n",
       "      <th>N_params</th>\n",
       "      <th>Num_Qubits</th>\n",
       "    </tr>\n",
       "  </thead>\n",
       "  <tbody>\n",
       "    <tr>\n",
       "      <th>0</th>\n",
       "      <td>yTxPPzTi</td>\n",
       "      <td>[[[0j, 0j, 0j, -1j], [0j, 0j, -1j, 0j], [0j, 1...</td>\n",
       "      <td>[yTx, zTi]</td>\n",
       "      <td>yTxPPzTi</td>\n",
       "      <td>6</td>\n",
       "      <td>[[(1+0j), 0j, 0j, -1j], [0j, (1+0j), -1j, 0j],...</td>\n",
       "      <td>2</td>\n",
       "      <td>2</td>\n",
       "    </tr>\n",
       "    <tr>\n",
       "      <th>1</th>\n",
       "      <td>xTyPPyTiTTTiTyPPxTiPPPPxTyPPyTiTTTiTyPPxTi</td>\n",
       "      <td>[[[0j, 0j, 0j, 0j, 0j, 0j, 0j, 0j, 0j, (-1-0j)...</td>\n",
       "      <td>[xTyPPyTiTTTiTyPPxTi, xTyPPyTiTTTiTyPPxTi]</td>\n",
       "      <td>xTyPPyTiTTTiTyPPxTiPPPPxTyPPyTiTTTiTyPPxTi</td>\n",
       "      <td>22</td>\n",
       "      <td>[[0j, 0j, 0j, 0j, 0j, 0j, 0j, 0j, 0j, (-2+0j),...</td>\n",
       "      <td>2</td>\n",
       "      <td>4</td>\n",
       "    </tr>\n",
       "    <tr>\n",
       "      <th>2</th>\n",
       "      <td>x</td>\n",
       "      <td>[[[0j, (1+0j)], [(1+0j), 0j]]]</td>\n",
       "      <td>[x]</td>\n",
       "      <td>x</td>\n",
       "      <td>2</td>\n",
       "      <td>[[0j, (1+0j)], [(1+0j), 0j]]</td>\n",
       "      <td>1</td>\n",
       "      <td>1</td>\n",
       "    </tr>\n",
       "  </tbody>\n",
       "</table>\n",
       "</div>"
      ],
      "text/plain": [
       "                                       <Name>  \\\n",
       "0                                    yTxPPzTi   \n",
       "1  xTyPPyTiTTTiTyPPxTiPPPPxTyPPyTiTTTiTyPPxTi   \n",
       "2                                           x   \n",
       "\n",
       "                              All_Operators_Matrices  \\\n",
       "0  [[[0j, 0j, 0j, -1j], [0j, 0j, -1j, 0j], [0j, 1...   \n",
       "1  [[[0j, 0j, 0j, 0j, 0j, 0j, 0j, 0j, 0j, (-1-0j)...   \n",
       "2                     [[[0j, (1+0j)], [(1+0j), 0j]]]   \n",
       "\n",
       "                          All_Operators_Names  \\\n",
       "0                                  [yTx, zTi]   \n",
       "1  [xTyPPyTiTTTiTyPPxTi, xTyPPyTiTTTiTyPPxTi]   \n",
       "2                                         [x]   \n",
       "\n",
       "                                    Alph_Name  Binary_Sum_Used_Qubits  \\\n",
       "0                                    yTxPPzTi                       6   \n",
       "1  xTyPPyTiTTTiTyPPxTiPPPPxTyPPyTiTTTiTyPPxTi                      22   \n",
       "2                                           x                       2   \n",
       "\n",
       "                                              Matrix  N_params  Num_Qubits  \n",
       "0  [[(1+0j), 0j, 0j, -1j], [0j, (1+0j), -1j, 0j],...         2           2  \n",
       "1  [[0j, 0j, 0j, 0j, 0j, 0j, 0j, 0j, 0j, (-2+0j),...         2           4  \n",
       "2                       [[0j, (1+0j)], [(1+0j), 0j]]         1           1  "
      ]
     },
     "execution_count": 42,
     "metadata": {},
     "output_type": "execute_result"
    }
   ],
   "source": [
    "model_db"
   ]
  },
  {
   "cell_type": "code",
   "execution_count": 20,
   "metadata": {},
   "outputs": [
    {
     "data": {
      "text/plain": [
       "{1: ['x'],\n",
       " 2: ['yTxPPzTi'],\n",
       " 3: [],\n",
       " 4: ['xTyPPyTiTTTiTyPPxTiPPPPxTyPPyTiTTTiTyPPxTi'],\n",
       " 5: [],\n",
       " 6: [],\n",
       " 7: [],\n",
       " 8: [],\n",
       " 9: [],\n",
       " 10: [],\n",
       " 11: [],\n",
       " 12: []}"
      ]
     },
     "execution_count": 20,
     "metadata": {},
     "output_type": "execute_result"
    }
   ],
   "source": [
    "model_lists"
   ]
  },
  {
   "cell_type": "markdown",
   "metadata": {},
   "source": [
    "### Add a model to database and check database afterwards\n",
    "* Then try to add the same new model -- it shouldn't allow previously considered models to be created"
   ]
  },
  {
   "cell_type": "code",
   "execution_count": 6,
   "metadata": {},
   "outputs": [
    {
     "name": "stdout",
     "output_type": "stream",
     "text": [
      "Model Not previously considered -- adding\n"
     ]
    }
   ],
   "source": [
    "DataBase.add_model(model_name='yPx', running_database=db, model_db=model_db, model_lists=model_lists)"
   ]
  },
  {
   "cell_type": "code",
   "execution_count": 8,
   "metadata": {},
   "outputs": [
    {
     "name": "stdout",
     "output_type": "stream",
     "text": [
      "('Model', 'xTyPPyTiTTTiTyPPxTiPPPPxTyPPyTiTTTiTyPPxTi', ' previously considered at location', 1)\n"
     ]
    }
   ],
   "source": [
    "DataBase.add_model(model_name='xTyPPyTiTTTiTyPPxTiPPPPxTyPPyTiTTTiTyPPxTi', running_database=db, model_db=model_db, model_lists=model_lists)"
   ]
  },
  {
   "cell_type": "code",
   "execution_count": 9,
   "metadata": {},
   "outputs": [
    {
     "data": {
      "text/html": [
       "<div>\n",
       "<table border=\"1\" class=\"dataframe\">\n",
       "  <thead>\n",
       "    <tr style=\"text-align: right;\">\n",
       "      <th></th>\n",
       "      <th>&lt;Name&gt;</th>\n",
       "      <th>Alph_Name</th>\n",
       "      <th>DB_location</th>\n",
       "      <th>LogL_Ext</th>\n",
       "      <th>Origin_epoch</th>\n",
       "      <th>QML_Class</th>\n",
       "      <th>Qubits_Acted_On</th>\n",
       "      <th>RootNode</th>\n",
       "      <th>Selected</th>\n",
       "      <th>Status</th>\n",
       "    </tr>\n",
       "  </thead>\n",
       "  <tbody>\n",
       "    <tr>\n",
       "      <th>0</th>\n",
       "      <td>yTxPPzTi</td>\n",
       "      <td>yTxPPzTi</td>\n",
       "      <td>0</td>\n",
       "      <td>None</td>\n",
       "      <td>0</td>\n",
       "      <td>None</td>\n",
       "      <td>[1, 2]</td>\n",
       "      <td>NaN</td>\n",
       "      <td>False</td>\n",
       "      <td>Ready</td>\n",
       "    </tr>\n",
       "    <tr>\n",
       "      <th>1</th>\n",
       "      <td>xTyPPyTiTTTiTyPPxTiPPPPxTyPPyTiTTTiTyPPxTi</td>\n",
       "      <td>xTyPPyTiTTTiTyPPxTiPPPPxTyPPyTiTTTiTyPPxTi</td>\n",
       "      <td>1</td>\n",
       "      <td>None</td>\n",
       "      <td>0</td>\n",
       "      <td>None</td>\n",
       "      <td>[1, 2, 4]</td>\n",
       "      <td>NaN</td>\n",
       "      <td>False</td>\n",
       "      <td>Ready</td>\n",
       "    </tr>\n",
       "    <tr>\n",
       "      <th>2</th>\n",
       "      <td>xTy</td>\n",
       "      <td>xTy</td>\n",
       "      <td>2</td>\n",
       "      <td>None</td>\n",
       "      <td>0</td>\n",
       "      <td>None</td>\n",
       "      <td>[1, 2]</td>\n",
       "      <td>NaN</td>\n",
       "      <td>False</td>\n",
       "      <td>Ready</td>\n",
       "    </tr>\n",
       "    <tr>\n",
       "      <th>3</th>\n",
       "      <td>yPx</td>\n",
       "      <td>xPy</td>\n",
       "      <td>3</td>\n",
       "      <td>None</td>\n",
       "      <td>0</td>\n",
       "      <td>None</td>\n",
       "      <td>[1]</td>\n",
       "      <td>NaN</td>\n",
       "      <td>False</td>\n",
       "      <td>Ready</td>\n",
       "    </tr>\n",
       "  </tbody>\n",
       "</table>\n",
       "</div>"
      ],
      "text/plain": [
       "                                       <Name>  \\\n",
       "0                                    yTxPPzTi   \n",
       "1  xTyPPyTiTTTiTyPPxTiPPPPxTyPPyTiTTTiTyPPxTi   \n",
       "2                                         xTy   \n",
       "3                                         yPx   \n",
       "\n",
       "                                    Alph_Name  DB_location LogL_Ext  \\\n",
       "0                                    yTxPPzTi            0     None   \n",
       "1  xTyPPyTiTTTiTyPPxTiPPPPxTyPPyTiTTTiTyPPxTi            1     None   \n",
       "2                                         xTy            2     None   \n",
       "3                                         xPy            3     None   \n",
       "\n",
       "   Origin_epoch QML_Class Qubits_Acted_On RootNode Selected Status  \n",
       "0             0      None          [1, 2]      NaN    False  Ready  \n",
       "1             0      None       [1, 2, 4]      NaN    False  Ready  \n",
       "2             0      None          [1, 2]      NaN    False  Ready  \n",
       "3             0      None             [1]      NaN    False  Ready  "
      ]
     },
     "execution_count": 9,
     "metadata": {},
     "output_type": "execute_result"
    }
   ],
   "source": [
    "db"
   ]
  },
  {
   "cell_type": "code",
   "execution_count": 28,
   "metadata": {},
   "outputs": [
    {
     "data": {
      "text/html": [
       "<div>\n",
       "<style>\n",
       "    .dataframe thead tr:only-child th {\n",
       "        text-align: right;\n",
       "    }\n",
       "\n",
       "    .dataframe thead th {\n",
       "        text-align: left;\n",
       "    }\n",
       "\n",
       "    .dataframe tbody tr th {\n",
       "        vertical-align: top;\n",
       "    }\n",
       "</style>\n",
       "<table border=\"1\" class=\"dataframe\">\n",
       "  <thead>\n",
       "    <tr style=\"text-align: right;\">\n",
       "      <th></th>\n",
       "      <th>&lt;Name&gt;</th>\n",
       "      <th>All_Operators_Matrices</th>\n",
       "      <th>All_Operators_Names</th>\n",
       "      <th>Alph_Name</th>\n",
       "      <th>Binary_Sum_Used_Qubits</th>\n",
       "      <th>Matrix</th>\n",
       "      <th>N_params</th>\n",
       "      <th>Num_Qubits</th>\n",
       "    </tr>\n",
       "  </thead>\n",
       "  <tbody>\n",
       "    <tr>\n",
       "      <th>0</th>\n",
       "      <td>yTxPPzTi</td>\n",
       "      <td>[[[0j, 0j, 0j, -1j], [0j, 0j, -1j, 0j], [0j, 1...</td>\n",
       "      <td>[yTx, zTi]</td>\n",
       "      <td>yTxPPzTi</td>\n",
       "      <td>6</td>\n",
       "      <td>[[(1+0j), 0j, 0j, -1j], [0j, (1+0j), -1j, 0j],...</td>\n",
       "      <td>2</td>\n",
       "      <td>2</td>\n",
       "    </tr>\n",
       "    <tr>\n",
       "      <th>1</th>\n",
       "      <td>xTyPPyTiTTTiTyPPxTiPPPPxTyPPyTiTTTiTyPPxTi</td>\n",
       "      <td>[[[0j, 0j, 0j, 0j, 0j, 0j, 0j, 0j, 0j, (-1-0j)...</td>\n",
       "      <td>[xTyPPyTiTTTiTyPPxTi, xTyPPyTiTTTiTyPPxTi]</td>\n",
       "      <td>xTyPPyTiTTTiTyPPxTiPPPPxTyPPyTiTTTiTyPPxTi</td>\n",
       "      <td>22</td>\n",
       "      <td>[[0j, 0j, 0j, 0j, 0j, 0j, 0j, 0j, 0j, (-2+0j),...</td>\n",
       "      <td>2</td>\n",
       "      <td>4</td>\n",
       "    </tr>\n",
       "    <tr>\n",
       "      <th>2</th>\n",
       "      <td>x</td>\n",
       "      <td>[[[0j, (1+0j)], [(1+0j), 0j]]]</td>\n",
       "      <td>[x]</td>\n",
       "      <td>x</td>\n",
       "      <td>2</td>\n",
       "      <td>[[0j, (1+0j)], [(1+0j), 0j]]</td>\n",
       "      <td>1</td>\n",
       "      <td>1</td>\n",
       "    </tr>\n",
       "  </tbody>\n",
       "</table>\n",
       "</div>"
      ],
      "text/plain": [
       "                                       <Name>  \\\n",
       "0                                    yTxPPzTi   \n",
       "1  xTyPPyTiTTTiTyPPxTiPPPPxTyPPyTiTTTiTyPPxTi   \n",
       "2                                           x   \n",
       "\n",
       "                              All_Operators_Matrices  \\\n",
       "0  [[[0j, 0j, 0j, -1j], [0j, 0j, -1j, 0j], [0j, 1...   \n",
       "1  [[[0j, 0j, 0j, 0j, 0j, 0j, 0j, 0j, 0j, (-1-0j)...   \n",
       "2                     [[[0j, (1+0j)], [(1+0j), 0j]]]   \n",
       "\n",
       "                          All_Operators_Names  \\\n",
       "0                                  [yTx, zTi]   \n",
       "1  [xTyPPyTiTTTiTyPPxTi, xTyPPyTiTTTiTyPPxTi]   \n",
       "2                                         [x]   \n",
       "\n",
       "                                    Alph_Name  Binary_Sum_Used_Qubits  \\\n",
       "0                                    yTxPPzTi                       6   \n",
       "1  xTyPPyTiTTTiTyPPxTiPPPPxTyPPyTiTTTiTyPPxTi                      22   \n",
       "2                                           x                       2   \n",
       "\n",
       "                                              Matrix  N_params  Num_Qubits  \n",
       "0  [[(1+0j), 0j, 0j, -1j], [0j, (1+0j), -1j, 0j],...         2           2  \n",
       "1  [[0j, 0j, 0j, 0j, 0j, 0j, 0j, 0j, 0j, (-2+0j),...         2           4  \n",
       "2                       [[0j, (1+0j)], [(1+0j), 0j]]         1           1  "
      ]
     },
     "execution_count": 28,
     "metadata": {},
     "output_type": "execute_result"
    }
   ],
   "source": [
    "model_db"
   ]
  },
  {
   "cell_type": "code",
   "execution_count": 11,
   "metadata": {},
   "outputs": [
    {
     "data": {
      "text/plain": [
       "{1: ['xPy'],\n",
       " 2: ['yTxPPzTi', 'xTy'],\n",
       " 3: [],\n",
       " 4: ['xTyPPyTiTTTiTyPPxTiPPPPxTyPPyTiTTTiTyPPxTi'],\n",
       " 5: [],\n",
       " 6: [],\n",
       " 7: [],\n",
       " 8: [],\n",
       " 9: [],\n",
       " 10: []}"
      ]
     },
     "execution_count": 11,
     "metadata": {},
     "output_type": "execute_result"
    }
   ],
   "source": [
    "model_lists"
   ]
  },
  {
   "cell_type": "markdown",
   "metadata": {},
   "source": [
    "# Operator Class examples"
   ]
  },
  {
   "cell_type": "code",
   "execution_count": 12,
   "metadata": {
    "collapsed": true
   },
   "outputs": [],
   "source": [
    "# Example of operator class instance\n",
    "name='xTyPPiTz'\n",
    "op = DataBase.operator(name)"
   ]
  },
  {
   "cell_type": "code",
   "execution_count": 24,
   "metadata": {},
   "outputs": [
    {
     "data": {
      "text/plain": [
       "2"
      ]
     },
     "execution_count": 24,
     "metadata": {},
     "output_type": "execute_result"
    }
   ],
   "source": [
    "DataBase.operator(name).num_qubits"
   ]
  },
  {
   "cell_type": "markdown",
   "metadata": {},
   "source": [
    "## Methods on operator instance"
   ]
  },
  {
   "cell_type": "markdown",
   "metadata": {},
   "source": [
    "#### Basic info"
   ]
  },
  {
   "cell_type": "code",
   "execution_count": 13,
   "metadata": {},
   "outputs": [
    {
     "data": {
      "text/plain": [
       "'xTyPPiTz'"
      ]
     },
     "execution_count": 13,
     "metadata": {},
     "output_type": "execute_result"
    }
   ],
   "source": [
    "# Name of operator, used to instantiate it. \n",
    "op.name"
   ]
  },
  {
   "cell_type": "code",
   "execution_count": 14,
   "metadata": {},
   "outputs": [
    {
     "data": {
      "text/plain": [
       "2"
      ]
     },
     "execution_count": 14,
     "metadata": {},
     "output_type": "execute_result"
    }
   ],
   "source": [
    "# How many qubits this model acts on.\n",
    "op.num_qubits"
   ]
  },
  {
   "cell_type": "code",
   "execution_count": 15,
   "metadata": {},
   "outputs": [
    {
     "data": {
      "text/plain": [
       "'iTzPPxTy'"
      ]
     },
     "execution_count": 15,
     "metadata": {},
     "output_type": "execute_result"
    }
   ],
   "source": [
    "# alphabetical version of name.\n",
    "op.alph_name"
   ]
  },
  {
   "cell_type": "code",
   "execution_count": 16,
   "metadata": {},
   "outputs": [
    {
     "data": {
      "text/plain": [
       "array([[ 1.+0.j,  0.+0.j,  0.+0.j,  0.-1.j],\n",
       "       [ 0.+0.j, -1.+0.j,  0.+1.j,  0.+0.j],\n",
       "       [ 0.+0.j,  0.-1.j,  1.+0.j,  0.+0.j],\n",
       "       [ 0.+1.j,  0.+0.j,  0.+0.j, -1.+0.j]])"
      ]
     },
     "execution_count": 16,
     "metadata": {},
     "output_type": "execute_result"
    }
   ],
   "source": [
    "# Total matrix of operator.\n",
    "op.matrix"
   ]
  },
  {
   "cell_type": "code",
   "execution_count": 17,
   "metadata": {},
   "outputs": [
    {
     "data": {
      "text/plain": [
       "[1, 2]"
      ]
     },
     "execution_count": 17,
     "metadata": {},
     "output_type": "execute_result"
    }
   ],
   "source": [
    "# List of qubits which are acted on non-trivially.\n",
    "op.qubits_acted_on"
   ]
  },
  {
   "cell_type": "markdown",
   "metadata": {},
   "source": [
    "#### Information about \"constituents\",  which add to give the model."
   ]
  },
  {
   "cell_type": "code",
   "execution_count": 21,
   "metadata": {},
   "outputs": [
    {
     "data": {
      "text/plain": [
       "2"
      ]
     },
     "execution_count": 21,
     "metadata": {},
     "output_type": "execute_result"
    }
   ],
   "source": [
    "# Number of constituents. \n",
    "op.num_constituents"
   ]
  },
  {
   "cell_type": "code",
   "execution_count": 22,
   "metadata": {},
   "outputs": [
    {
     "data": {
      "text/plain": [
       "['xTy', 'iTz']"
      ]
     },
     "execution_count": 22,
     "metadata": {},
     "output_type": "execute_result"
    }
   ],
   "source": [
    "# Names (according to model naming convention) of those constituents.\n",
    "op.constituents_names"
   ]
  },
  {
   "cell_type": "code",
   "execution_count": 23,
   "metadata": {},
   "outputs": [
    {
     "data": {
      "text/plain": [
       "[array([[ 0.+0.j,  0.+0.j,  0.+0.j,  0.-1.j],\n",
       "        [ 0.+0.j,  0.+0.j,  0.+1.j,  0.+0.j],\n",
       "        [ 0.+0.j,  0.-1.j,  0.+0.j,  0.+0.j],\n",
       "        [ 0.+1.j,  0.+0.j,  0.+0.j,  0.+0.j]]),\n",
       " array([[ 1.+0.j,  0.+0.j,  0.+0.j,  0.+0.j],\n",
       "        [ 0.+0.j, -1.+0.j,  0.+0.j, -0.+0.j],\n",
       "        [ 0.+0.j,  0.+0.j,  1.+0.j,  0.+0.j],\n",
       "        [ 0.+0.j, -0.+0.j,  0.+0.j, -1.+0.j]])]"
      ]
     },
     "execution_count": 23,
     "metadata": {},
     "output_type": "execute_result"
    }
   ],
   "source": [
    "# Matrices of constituents.\n",
    "op.constituents_operators"
   ]
  },
  {
   "cell_type": "code",
   "execution_count": 119,
   "metadata": {},
   "outputs": [
    {
     "data": {
      "text/plain": [
       "'yPxPyPy'"
      ]
     },
     "execution_count": 119,
     "metadata": {},
     "output_type": "execute_result"
    }
   ],
   "source": [
    "random_model(num_dimensions=1, num_terms=4)"
   ]
  },
  {
   "cell_type": "code",
   "execution_count": null,
   "metadata": {},
   "outputs": [],
   "source": []
  },
  {
   "cell_type": "code",
   "execution_count": 120,
   "metadata": {},
   "outputs": [],
   "source": [
    "def random_model_name(num_dimensions=1, num_terms=1):\n",
    "    import random\n",
    "    paulis = ['x', 'y', 'z', 'i']\n",
    "    p_str = ''\n",
    "    t_str = ''\n",
    "    \n",
    "    for i in range(num_dimensions):\n",
    "        p_str += 'P'\n",
    "    for j in range(num_dimensions -1):\n",
    "        t_str += 'T'\n",
    "    \n",
    "    \n",
    "    summed_term = ''\n",
    "    for j in range(1, num_terms+1):\n",
    "        this_term = generate_term(num_dimensions)\n",
    "        summed_term += this_term\n",
    "        if(j!=num_terms):\n",
    "            summed_term += p_str\n",
    "            \n",
    "    return summed_term\n",
    "\n",
    "def generate_term(num_dimensions):\n",
    "    import random\n",
    "    paulis = ['x', 'y', 'z', 'i']\n",
    "\n",
    "    t_str = ''\n",
    "    running_str =''\n",
    "    \n",
    "    if num_dimensions == 1:\n",
    "        return random.choice(paulis)\n",
    "    else:\n",
    "        for j in range(num_dimensions):\n",
    "            t_str += 'T'\n",
    "            running_str += random.choice(paulis)\n",
    "            if j != num_dimensions -1:\n",
    "                running_str += t_str\n",
    "\n",
    "        return running_str\n",
    "    "
   ]
  }
 ],
 "metadata": {
  "anaconda-cloud": {},
  "kernelspec": {
   "display_name": "Python 3",
   "language": "python",
   "name": "python3"
  },
  "language_info": {
   "codemirror_mode": {
    "name": "ipython",
    "version": 2
   },
   "file_extension": ".py",
   "mimetype": "text/x-python",
   "name": "python",
   "nbconvert_exporter": "python",
   "pygments_lexer": "ipython2",
   "version": "2.7.12"
  }
 },
 "nbformat": 4,
 "nbformat_minor": 2
}
