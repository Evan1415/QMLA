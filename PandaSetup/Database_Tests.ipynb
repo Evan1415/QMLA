{
 "cells": [
  {
   "cell_type": "code",
   "execution_count": 1,
   "metadata": {},
   "outputs": [],
   "source": [
    "import numpy as np\n",
    "import itertools as itr\n",
    "\n",
    "import os as os\n",
    "import sys as sys \n",
    "import pandas as pd\n",
    "import warnings\n",
    "sys.path.append(os.path.join(\"..\",\"Libraries\",\"QML_lib\"))\n",
    "import Evo as evo"
   ]
  },
  {
   "cell_type": "code",
   "execution_count": 2,
   "metadata": {},
   "outputs": [],
   "source": [
    "import DataBase "
   ]
  },
  {
   "cell_type": "code",
   "execution_count": 3,
   "metadata": {},
   "outputs": [
    {
     "data": {
      "text/plain": [
       "<module 'DataBase' from '../Libraries/QML_lib/DataBase.py'>"
      ]
     },
     "execution_count": 3,
     "metadata": {},
     "output_type": "execute_result"
    }
   ],
   "source": [
    "import importlib as imp\n",
    "imp.reload(DataBase)"
   ]
  },
  {
   "cell_type": "code",
   "execution_count": 4,
   "metadata": {},
   "outputs": [],
   "source": [
    "name1 = 'yTxPPzTi'\n",
    "name2 = 'xTyPPyTiTTTiTyPPxTiPPPPxTyPPyTiTTTiTyPPxTi'\n",
    "name3 = 'xTy'\n",
    "name4 = 'zPx'\n",
    "\n",
    "gen_list=[name1, name2, name3, name4]\n",
    "db, model_db, model_lists = DataBase.launch_db(gen_list=gen_list)\n"
   ]
  },
  {
   "cell_type": "code",
   "execution_count": 5,
   "metadata": {},
   "outputs": [
    {
     "data": {
      "text/html": [
       "<div>\n",
       "<style>\n",
       "    .dataframe thead tr:only-child th {\n",
       "        text-align: right;\n",
       "    }\n",
       "\n",
       "    .dataframe thead th {\n",
       "        text-align: left;\n",
       "    }\n",
       "\n",
       "    .dataframe tbody tr th {\n",
       "        vertical-align: top;\n",
       "    }\n",
       "</style>\n",
       "<table border=\"1\" class=\"dataframe\">\n",
       "  <thead>\n",
       "    <tr style=\"text-align: right;\">\n",
       "      <th></th>\n",
       "      <th>&lt;Name&gt;</th>\n",
       "      <th>Alph_Name</th>\n",
       "      <th>DB_location</th>\n",
       "      <th>LogL_Ext</th>\n",
       "      <th>Origin_epoch</th>\n",
       "      <th>QML_Class</th>\n",
       "      <th>Qubits_Acted_On</th>\n",
       "      <th>RootNode</th>\n",
       "      <th>Selected</th>\n",
       "      <th>Status</th>\n",
       "    </tr>\n",
       "  </thead>\n",
       "  <tbody>\n",
       "    <tr>\n",
       "      <th>0</th>\n",
       "      <td>yTxPPzTi</td>\n",
       "      <td>yTxPPzTi</td>\n",
       "      <td>0</td>\n",
       "      <td>None</td>\n",
       "      <td>0</td>\n",
       "      <td>None</td>\n",
       "      <td>[1, 2]</td>\n",
       "      <td>NaN</td>\n",
       "      <td>False</td>\n",
       "      <td>Ready</td>\n",
       "    </tr>\n",
       "    <tr>\n",
       "      <th>1</th>\n",
       "      <td>xTyPPyTiTTTiTyPPxTiPPPPxTyPPyTiTTTiTyPPxTi</td>\n",
       "      <td>xTyPPyTiTTTiTyPPxTiPPPPxTyPPyTiTTTiTyPPxTi</td>\n",
       "      <td>1</td>\n",
       "      <td>None</td>\n",
       "      <td>0</td>\n",
       "      <td>None</td>\n",
       "      <td>[1, 2, 4]</td>\n",
       "      <td>NaN</td>\n",
       "      <td>False</td>\n",
       "      <td>Ready</td>\n",
       "    </tr>\n",
       "    <tr>\n",
       "      <th>2</th>\n",
       "      <td>xTy</td>\n",
       "      <td>xTy</td>\n",
       "      <td>2</td>\n",
       "      <td>None</td>\n",
       "      <td>0</td>\n",
       "      <td>None</td>\n",
       "      <td>[1, 2]</td>\n",
       "      <td>NaN</td>\n",
       "      <td>False</td>\n",
       "      <td>Ready</td>\n",
       "    </tr>\n",
       "    <tr>\n",
       "      <th>3</th>\n",
       "      <td>zPx</td>\n",
       "      <td>xPz</td>\n",
       "      <td>3</td>\n",
       "      <td>None</td>\n",
       "      <td>0</td>\n",
       "      <td>None</td>\n",
       "      <td>[1]</td>\n",
       "      <td>NaN</td>\n",
       "      <td>False</td>\n",
       "      <td>Ready</td>\n",
       "    </tr>\n",
       "  </tbody>\n",
       "</table>\n",
       "</div>"
      ],
      "text/plain": [
       "                                       <Name>  \\\n",
       "0                                    yTxPPzTi   \n",
       "1  xTyPPyTiTTTiTyPPxTiPPPPxTyPPyTiTTTiTyPPxTi   \n",
       "2                                         xTy   \n",
       "3                                         zPx   \n",
       "\n",
       "                                    Alph_Name  DB_location LogL_Ext  \\\n",
       "0                                    yTxPPzTi            0     None   \n",
       "1  xTyPPyTiTTTiTyPPxTiPPPPxTyPPyTiTTTiTyPPxTi            1     None   \n",
       "2                                         xTy            2     None   \n",
       "3                                         xPz            3     None   \n",
       "\n",
       "   Origin_epoch QML_Class Qubits_Acted_On RootNode  Selected Status  \n",
       "0             0      None          [1, 2]      NaN     False  Ready  \n",
       "1             0      None       [1, 2, 4]      NaN     False  Ready  \n",
       "2             0      None          [1, 2]      NaN     False  Ready  \n",
       "3             0      None             [1]      NaN     False  Ready  "
      ]
     },
     "execution_count": 5,
     "metadata": {},
     "output_type": "execute_result"
    }
   ],
   "source": [
    "db"
   ]
  },
  {
   "cell_type": "code",
   "execution_count": 8,
   "metadata": {},
   "outputs": [
    {
     "data": {
      "text/html": [
       "<div>\n",
       "<style>\n",
       "    .dataframe thead tr:only-child th {\n",
       "        text-align: right;\n",
       "    }\n",
       "\n",
       "    .dataframe thead th {\n",
       "        text-align: left;\n",
       "    }\n",
       "\n",
       "    .dataframe tbody tr th {\n",
       "        vertical-align: top;\n",
       "    }\n",
       "</style>\n",
       "<table border=\"1\" class=\"dataframe\">\n",
       "  <thead>\n",
       "    <tr style=\"text-align: right;\">\n",
       "      <th></th>\n",
       "      <th>&lt;Name&gt;</th>\n",
       "      <th>All_Operators_Matrices</th>\n",
       "      <th>All_Operators_Names</th>\n",
       "      <th>Alph_Name</th>\n",
       "      <th>Binary_Sum_Used_Qubits</th>\n",
       "      <th>Matrix</th>\n",
       "      <th>N_params</th>\n",
       "      <th>Num_Qubits</th>\n",
       "    </tr>\n",
       "  </thead>\n",
       "  <tbody>\n",
       "    <tr>\n",
       "      <th>0</th>\n",
       "      <td>yTxPPzTi</td>\n",
       "      <td>[[[0j, 0j, 0j, -1j], [0j, 0j, -1j, 0j], [0j, 1...</td>\n",
       "      <td>[yTx, zTi]</td>\n",
       "      <td>yTxPPzTi</td>\n",
       "      <td>6</td>\n",
       "      <td>[[(1+0j), 0j, 0j, -1j], [0j, (1+0j), -1j, 0j],...</td>\n",
       "      <td>2</td>\n",
       "      <td>2</td>\n",
       "    </tr>\n",
       "    <tr>\n",
       "      <th>1</th>\n",
       "      <td>xTyPPyTiTTTiTyPPxTiPPPPxTyPPyTiTTTiTyPPxTi</td>\n",
       "      <td>[[[0j, 0j, 0j, 0j, 0j, 0j, 0j, 0j, 0j, (-1-0j)...</td>\n",
       "      <td>[xTyPPyTiTTTiTyPPxTi, xTyPPyTiTTTiTyPPxTi]</td>\n",
       "      <td>xTyPPyTiTTTiTyPPxTiPPPPxTyPPyTiTTTiTyPPxTi</td>\n",
       "      <td>22</td>\n",
       "      <td>[[0j, 0j, 0j, 0j, 0j, 0j, 0j, 0j, 0j, (-2+0j),...</td>\n",
       "      <td>2</td>\n",
       "      <td>4</td>\n",
       "    </tr>\n",
       "    <tr>\n",
       "      <th>2</th>\n",
       "      <td>xTy</td>\n",
       "      <td>[[[0j, 0j, 0j, -1j], [0j, 0j, 1j, 0j], [0j, -1...</td>\n",
       "      <td>[xTy]</td>\n",
       "      <td>xTy</td>\n",
       "      <td>6</td>\n",
       "      <td>[[0j, 0j, 0j, -1j], [0j, 0j, 1j, 0j], [0j, -1j...</td>\n",
       "      <td>1</td>\n",
       "      <td>2</td>\n",
       "    </tr>\n",
       "    <tr>\n",
       "      <th>3</th>\n",
       "      <td>zPx</td>\n",
       "      <td>[[[(1+0j), 0j], [0j, (-1+0j)]], [[0j, (1+0j)],...</td>\n",
       "      <td>[z, x]</td>\n",
       "      <td>xPz</td>\n",
       "      <td>2</td>\n",
       "      <td>[[(1+0j), (1+0j)], [(1+0j), (-1+0j)]]</td>\n",
       "      <td>2</td>\n",
       "      <td>1</td>\n",
       "    </tr>\n",
       "  </tbody>\n",
       "</table>\n",
       "</div>"
      ],
      "text/plain": [
       "                                       <Name>  \\\n",
       "0                                    yTxPPzTi   \n",
       "1  xTyPPyTiTTTiTyPPxTiPPPPxTyPPyTiTTTiTyPPxTi   \n",
       "2                                         xTy   \n",
       "3                                         zPx   \n",
       "\n",
       "                              All_Operators_Matrices  \\\n",
       "0  [[[0j, 0j, 0j, -1j], [0j, 0j, -1j, 0j], [0j, 1...   \n",
       "1  [[[0j, 0j, 0j, 0j, 0j, 0j, 0j, 0j, 0j, (-1-0j)...   \n",
       "2  [[[0j, 0j, 0j, -1j], [0j, 0j, 1j, 0j], [0j, -1...   \n",
       "3  [[[(1+0j), 0j], [0j, (-1+0j)]], [[0j, (1+0j)],...   \n",
       "\n",
       "                          All_Operators_Names  \\\n",
       "0                                  [yTx, zTi]   \n",
       "1  [xTyPPyTiTTTiTyPPxTi, xTyPPyTiTTTiTyPPxTi]   \n",
       "2                                       [xTy]   \n",
       "3                                      [z, x]   \n",
       "\n",
       "                                    Alph_Name  Binary_Sum_Used_Qubits  \\\n",
       "0                                    yTxPPzTi                       6   \n",
       "1  xTyPPyTiTTTiTyPPxTiPPPPxTyPPyTiTTTiTyPPxTi                      22   \n",
       "2                                         xTy                       6   \n",
       "3                                         xPz                       2   \n",
       "\n",
       "                                              Matrix  N_params  Num_Qubits  \n",
       "0  [[(1+0j), 0j, 0j, -1j], [0j, (1+0j), -1j, 0j],...         2           2  \n",
       "1  [[0j, 0j, 0j, 0j, 0j, 0j, 0j, 0j, 0j, (-2+0j),...         2           4  \n",
       "2  [[0j, 0j, 0j, -1j], [0j, 0j, 1j, 0j], [0j, -1j...         1           2  \n",
       "3              [[(1+0j), (1+0j)], [(1+0j), (-1+0j)]]         2           1  "
      ]
     },
     "execution_count": 8,
     "metadata": {},
     "output_type": "execute_result"
    }
   ],
   "source": [
    "model_db"
   ]
  },
  {
   "cell_type": "code",
   "execution_count": 6,
   "metadata": {},
   "outputs": [
    {
     "name": "stdout",
     "output_type": "stream",
     "text": [
      "xPyMzTzMyTTiPxMzPy\n"
     ]
    }
   ],
   "source": [
    "name = 'yMzPxTzMyTTxMzPyPi'\n",
    "print(DataBase.alph(name))"
   ]
  },
  {
   "cell_type": "code",
   "execution_count": 9,
   "metadata": {},
   "outputs": [],
   "source": [
    "test_lists={}"
   ]
  },
  {
   "cell_type": "code",
   "execution_count": 42,
   "metadata": {},
   "outputs": [],
   "source": [
    "rankings={}"
   ]
  },
  {
   "cell_type": "code",
   "execution_count": 43,
   "metadata": {},
   "outputs": [],
   "source": [
    "num_trees = 2\n",
    "for i in range(num_trees):\n",
    "    rankings[i] = []"
   ]
  },
  {
   "cell_type": "code",
   "execution_count": 44,
   "metadata": {},
   "outputs": [],
   "source": [
    "for a in range(10):\n",
    "    rankings[0].append(a)"
   ]
  },
  {
   "cell_type": "code",
   "execution_count": 46,
   "metadata": {},
   "outputs": [],
   "source": [
    "rankings[0].insert(4, 15)"
   ]
  },
  {
   "cell_type": "code",
   "execution_count": 47,
   "metadata": {},
   "outputs": [
    {
     "data": {
      "text/plain": [
       "{0: [0, 1, 2, 3, 15, 4, 5, 6, 7, 8, 9], 1: []}"
      ]
     },
     "execution_count": 47,
     "metadata": {},
     "output_type": "execute_result"
    }
   ],
   "source": [
    "rankings"
   ]
  },
  {
   "cell_type": "code",
   "execution_count": null,
   "metadata": {},
   "outputs": [],
   "source": []
  }
 ],
 "metadata": {
  "anaconda-cloud": {},
  "kernelspec": {
   "display_name": "Python 3",
   "language": "python",
   "name": "python3"
  },
  "language_info": {
   "codemirror_mode": {
    "name": "ipython",
    "version": 3
   },
   "file_extension": ".py",
   "mimetype": "text/x-python",
   "name": "python",
   "nbconvert_exporter": "python",
   "pygments_lexer": "ipython3",
   "version": "3.5.2"
  }
 },
 "nbformat": 4,
 "nbformat_minor": 2
}
