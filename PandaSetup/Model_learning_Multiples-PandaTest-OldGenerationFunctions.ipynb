{
 "cells": [
  {
   "cell_type": "code",
   "execution_count": 206,
   "metadata": {
    "collapsed": false
   },
   "outputs": [],
   "source": [
    "%matplotlib inline\n",
    "import qinfer as qi\n",
    "#import qutip as qt\n",
    "import numpy as np\n",
    "import scipy as sp\n",
    "import math as mth\n",
    "from IPython.display import display, Math, Latex\n",
    "from functools import partial\n",
    "import matplotlib.pyplot as plt\n",
    "import itertools as itr"
   ]
  },
  {
   "cell_type": "code",
   "execution_count": 2,
   "metadata": {
    "collapsed": false
   },
   "outputs": [],
   "source": [
    "import logging, warnings\n",
    "import sys, os\n",
    "\n",
    "import datetime\n",
    "import time\n",
    "\n",
    "import pandas as pd"
   ]
  },
  {
   "cell_type": "code",
   "execution_count": 3,
   "metadata": {
    "collapsed": true
   },
   "outputs": [],
   "source": [
    "import importlib as imp"
   ]
  },
  {
   "cell_type": "code",
   "execution_count": 4,
   "metadata": {
    "collapsed": false
   },
   "outputs": [],
   "source": [
    "# Add personalized library to PYTHONPATH\n",
    "sys.path.append(os.path.join(\"..\",\"Libraries\",\"QML_lib\"))"
   ]
  },
  {
   "cell_type": "code",
   "execution_count": 5,
   "metadata": {
    "collapsed": false
   },
   "outputs": [],
   "source": [
    "%run LoggingCode.py"
   ]
  },
  {
   "cell_type": "markdown",
   "metadata": {},
   "source": [
    "Importing Local Function for Hamiltonian learning"
   ]
  },
  {
   "cell_type": "code",
   "execution_count": 6,
   "metadata": {
    "collapsed": false
   },
   "outputs": [],
   "source": [
    "from Norms import *\n",
    "from IOfuncts import *\n",
    "from EvalLoss import *\n",
    "\n",
    "import ProbeStates as pros\n",
    "import multiPGH as mpgh\n",
    "import GenSimQMD_IQLE as gsi\n",
    "import Evo as evo"
   ]
  },
  {
   "cell_type": "markdown",
   "metadata": {
    "collapsed": true
   },
   "source": [
    "# Model learning functions\n"
   ]
  },
  {
   "cell_type": "code",
   "execution_count": 7,
   "metadata": {
    "collapsed": false
   },
   "outputs": [],
   "source": [
    "import Utils as uti\n",
    "import Models as mods\n",
    "import BayesF as bayf\n",
    "import ModLearn as mdl\n",
    "import QMD as qmd\n",
    "import QML as qml"
   ]
  },
  {
   "cell_type": "code",
   "execution_count": 8,
   "metadata": {
    "collapsed": false
   },
   "outputs": [],
   "source": [
    "lst = [evo.sigmax(),evo.sigmay(), evo.sigmaz()]  "
   ]
  },
  {
   "cell_type": "code",
   "execution_count": 9,
   "metadata": {
    "collapsed": false
   },
   "outputs": [],
   "source": [
    "import TheoMoves2 as mov"
   ]
  },
  {
   "cell_type": "markdown",
   "metadata": {},
   "source": [
    "## Reload when needed"
   ]
  },
  {
   "cell_type": "code",
   "execution_count": 10,
   "metadata": {
    "collapsed": false
   },
   "outputs": [
    {
     "data": {
      "text/plain": [
       "<module 'QML' from '..\\\\Libraries\\\\QML_lib\\\\QML.py'>"
      ]
     },
     "execution_count": 10,
     "metadata": {},
     "output_type": "execute_result"
    }
   ],
   "source": [
    "imp.reload(pros)\n",
    "imp.reload(mpgh)\n",
    "imp.reload(gsi)\n",
    "imp.reload(evo)\n",
    "imp.reload(mdl)\n",
    "imp.reload(uti)\n",
    "imp.reload(mods)\n",
    "imp.reload(bayf)\n",
    "imp.reload(qmd)\n",
    "imp.reload(qml)"
   ]
  },
  {
   "cell_type": "markdown",
   "metadata": {},
   "source": [
    "# MODEL LEARNING TEST"
   ]
  },
  {
   "cell_type": "code",
   "execution_count": 363,
   "metadata": {
    "collapsed": false
   },
   "outputs": [
    {
     "data": {
      "text/plain": [
       "<module 'TheoMoves2' from '..\\\\Libraries\\\\QML_lib\\\\TheoMoves2.py'>"
      ]
     },
     "execution_count": 363,
     "metadata": {},
     "output_type": "execute_result"
    }
   ],
   "source": [
    "imp.reload(mov)"
   ]
  },
  {
   "cell_type": "code",
   "execution_count": 350,
   "metadata": {
    "collapsed": false
   },
   "outputs": [
    {
     "data": {
      "text/html": [
       "<div>\n",
       "<table border=\"1\" class=\"dataframe\">\n",
       "  <thead>\n",
       "    <tr style=\"text-align: right;\">\n",
       "      <th></th>\n",
       "      <th>&lt;Name&gt;</th>\n",
       "      <th>All_Operators</th>\n",
       "      <th>LogL_Ext</th>\n",
       "      <th>N_Qbit</th>\n",
       "      <th>N_params</th>\n",
       "      <th>Origin_epoch</th>\n",
       "      <th>QML_Class</th>\n",
       "      <th>RootNode</th>\n",
       "      <th>Selected</th>\n",
       "      <th>Status</th>\n",
       "    </tr>\n",
       "  </thead>\n",
       "  <tbody>\n",
       "    <tr>\n",
       "      <th>0</th>\n",
       "      <td>[x0]</td>\n",
       "      <td>[[[0j, (1+0j)], [(1+0j), 0j]]]</td>\n",
       "      <td>None</td>\n",
       "      <td>[0]</td>\n",
       "      <td>1</td>\n",
       "      <td>0</td>\n",
       "      <td>None</td>\n",
       "      <td>NaN</td>\n",
       "      <td>False</td>\n",
       "      <td>Ready</td>\n",
       "    </tr>\n",
       "    <tr>\n",
       "      <th>1</th>\n",
       "      <td>[y0]</td>\n",
       "      <td>[[[0j, -1j], [1j, 0j]]]</td>\n",
       "      <td>None</td>\n",
       "      <td>[0]</td>\n",
       "      <td>1</td>\n",
       "      <td>0</td>\n",
       "      <td>None</td>\n",
       "      <td>NaN</td>\n",
       "      <td>False</td>\n",
       "      <td>Ready</td>\n",
       "    </tr>\n",
       "    <tr>\n",
       "      <th>2</th>\n",
       "      <td>[z0]</td>\n",
       "      <td>[[[(1+0j), 0j], [0j, (-1+0j)]]]</td>\n",
       "      <td>None</td>\n",
       "      <td>[0]</td>\n",
       "      <td>1</td>\n",
       "      <td>0</td>\n",
       "      <td>None</td>\n",
       "      <td>NaN</td>\n",
       "      <td>False</td>\n",
       "      <td>Ready</td>\n",
       "    </tr>\n",
       "  </tbody>\n",
       "</table>\n",
       "</div>"
      ],
      "text/plain": [
       "  <Name>                    All_Operators LogL_Ext N_Qbit  N_params  \\\n",
       "0   [x0]   [[[0j, (1+0j)], [(1+0j), 0j]]]     None    [0]         1   \n",
       "1   [y0]          [[[0j, -1j], [1j, 0j]]]     None    [0]         1   \n",
       "2   [z0]  [[[(1+0j), 0j], [0j, (-1+0j)]]]     None    [0]         1   \n",
       "\n",
       "   Origin_epoch QML_Class RootNode Selected Status  \n",
       "0             0      None      NaN    False  Ready  \n",
       "1             0      None      NaN    False  Ready  \n",
       "2             0      None      NaN    False  Ready  "
      ]
     },
     "execution_count": 350,
     "metadata": {},
     "output_type": "execute_result"
    }
   ],
   "source": [
    "DB = mov.InitialiseDB(RootN_Qbit = [0])\n",
    "DB"
   ]
  },
  {
   "cell_type": "code",
   "execution_count": 351,
   "metadata": {
    "collapsed": false
   },
   "outputs": [
    {
     "data": {
      "text/plain": [
       "[array([[[ 0.+0.j,  1.+0.j],\n",
       "         [ 1.+0.j,  0.+0.j]]])]"
      ]
     },
     "execution_count": 351,
     "metadata": {},
     "output_type": "execute_result"
    }
   ],
   "source": [
    "# Use to check correctness of operators and list/array structure\n",
    "mov.Find_OpEXName(DB, ['x0'])"
   ]
  },
  {
   "cell_type": "code",
   "execution_count": 355,
   "metadata": {
    "collapsed": false,
    "scrolled": true
   },
   "outputs": [
    {
     "name": "stdout",
     "output_type": "stream",
     "text": [
      "Max Param being analysed for highest qubit operations: 3\n"
     ]
    },
    {
     "name": "stderr",
     "output_type": "stream",
     "text": [
      "..\\Libraries\\QML_lib\\TheoMoves2.py:294: UserWarning: The tree exploration has reached the highest N_params for [0] qubit\n",
      "  warnings.warn(\"The tree exploration has reached the highest N_params for \" + str(RootN_Qbit) + \" qubit\")\n"
     ]
    },
    {
     "data": {
      "text/html": [
       "<div>\n",
       "<table border=\"1\" class=\"dataframe\">\n",
       "  <thead>\n",
       "    <tr style=\"text-align: right;\">\n",
       "      <th></th>\n",
       "      <th>&lt;Name&gt;</th>\n",
       "      <th>All_Operators</th>\n",
       "      <th>LogL_Ext</th>\n",
       "      <th>N_Qbit</th>\n",
       "      <th>N_params</th>\n",
       "      <th>Origin_epoch</th>\n",
       "      <th>QML_Class</th>\n",
       "      <th>RootNode</th>\n",
       "      <th>Selected</th>\n",
       "      <th>Status</th>\n",
       "    </tr>\n",
       "  </thead>\n",
       "  <tbody>\n",
       "    <tr>\n",
       "      <th>0</th>\n",
       "      <td>[x0]</td>\n",
       "      <td>[[[0j, (1+0j)], [(1+0j), 0j]]]</td>\n",
       "      <td>None</td>\n",
       "      <td>[0]</td>\n",
       "      <td>1</td>\n",
       "      <td>0</td>\n",
       "      <td>None</td>\n",
       "      <td>NaN</td>\n",
       "      <td>False</td>\n",
       "      <td>Ready</td>\n",
       "    </tr>\n",
       "    <tr>\n",
       "      <th>1</th>\n",
       "      <td>[y0]</td>\n",
       "      <td>[[[0j, -1j], [1j, 0j]]]</td>\n",
       "      <td>None</td>\n",
       "      <td>[0]</td>\n",
       "      <td>1</td>\n",
       "      <td>0</td>\n",
       "      <td>None</td>\n",
       "      <td>NaN</td>\n",
       "      <td>False</td>\n",
       "      <td>Ready</td>\n",
       "    </tr>\n",
       "    <tr>\n",
       "      <th>2</th>\n",
       "      <td>[z0]</td>\n",
       "      <td>[[[(1+0j), 0j], [0j, (-1+0j)]]]</td>\n",
       "      <td>None</td>\n",
       "      <td>[0]</td>\n",
       "      <td>1</td>\n",
       "      <td>0</td>\n",
       "      <td>None</td>\n",
       "      <td>NaN</td>\n",
       "      <td>False</td>\n",
       "      <td>Ready</td>\n",
       "    </tr>\n",
       "    <tr>\n",
       "      <th>3</th>\n",
       "      <td>[x0y0]</td>\n",
       "      <td>[[[0j, (1+0j)], [(1+0j), 0j]], [[0j, -1j], [1j...</td>\n",
       "      <td>None</td>\n",
       "      <td>[0]</td>\n",
       "      <td>2</td>\n",
       "      <td>0</td>\n",
       "      <td>None</td>\n",
       "      <td>NaN</td>\n",
       "      <td>False</td>\n",
       "      <td>Ready</td>\n",
       "    </tr>\n",
       "    <tr>\n",
       "      <th>4</th>\n",
       "      <td>[x0z0]</td>\n",
       "      <td>[[[0j, (1+0j)], [(1+0j), 0j]], [[(1+0j), 0j], ...</td>\n",
       "      <td>None</td>\n",
       "      <td>[0]</td>\n",
       "      <td>2</td>\n",
       "      <td>0</td>\n",
       "      <td>None</td>\n",
       "      <td>NaN</td>\n",
       "      <td>False</td>\n",
       "      <td>Ready</td>\n",
       "    </tr>\n",
       "    <tr>\n",
       "      <th>5</th>\n",
       "      <td>[y0z0]</td>\n",
       "      <td>[[[0j, -1j], [1j, 0j]], [[(1+0j), 0j], [0j, (-...</td>\n",
       "      <td>None</td>\n",
       "      <td>[0]</td>\n",
       "      <td>2</td>\n",
       "      <td>0</td>\n",
       "      <td>None</td>\n",
       "      <td>NaN</td>\n",
       "      <td>False</td>\n",
       "      <td>Ready</td>\n",
       "    </tr>\n",
       "    <tr>\n",
       "      <th>6</th>\n",
       "      <td>[x0y0z0]</td>\n",
       "      <td>[[[0j, (1+0j)], [(1+0j), 0j]], [[0j, -1j], [1j...</td>\n",
       "      <td>None</td>\n",
       "      <td>[0]</td>\n",
       "      <td>3</td>\n",
       "      <td>0</td>\n",
       "      <td>None</td>\n",
       "      <td>NaN</td>\n",
       "      <td>False</td>\n",
       "      <td>Ready</td>\n",
       "    </tr>\n",
       "  </tbody>\n",
       "</table>\n",
       "</div>"
      ],
      "text/plain": [
       "     <Name>                                      All_Operators LogL_Ext  \\\n",
       "0      [x0]                     [[[0j, (1+0j)], [(1+0j), 0j]]]     None   \n",
       "1      [y0]                            [[[0j, -1j], [1j, 0j]]]     None   \n",
       "2      [z0]                    [[[(1+0j), 0j], [0j, (-1+0j)]]]     None   \n",
       "3    [x0y0]  [[[0j, (1+0j)], [(1+0j), 0j]], [[0j, -1j], [1j...     None   \n",
       "4    [x0z0]  [[[0j, (1+0j)], [(1+0j), 0j]], [[(1+0j), 0j], ...     None   \n",
       "5    [y0z0]  [[[0j, -1j], [1j, 0j]], [[(1+0j), 0j], [0j, (-...     None   \n",
       "6  [x0y0z0]  [[[0j, (1+0j)], [(1+0j), 0j]], [[0j, -1j], [1j...     None   \n",
       "\n",
       "  N_Qbit  N_params  Origin_epoch QML_Class RootNode Selected Status  \n",
       "0    [0]         1             0      None      NaN    False  Ready  \n",
       "1    [0]         1             0      None      NaN    False  Ready  \n",
       "2    [0]         1             0      None      NaN    False  Ready  \n",
       "3    [0]         2             0      None      NaN    False  Ready  \n",
       "4    [0]         2             0      None      NaN    False  Ready  \n",
       "5    [0]         2             0      None      NaN    False  Ready  \n",
       "6    [0]         3             0      None      NaN    False  Ready  "
      ]
     },
     "execution_count": 355,
     "metadata": {},
     "output_type": "execute_result"
    }
   ],
   "source": [
    "DB = mov.AddDBnewNparam_SameQ(DB, epoch = 0, RootN_Qbit = [0], MaxParamRate =3)\n",
    "DB"
   ]
  },
  {
   "cell_type": "code",
   "execution_count": 362,
   "metadata": {
    "collapsed": false
   },
   "outputs": [
    {
     "name": "stdout",
     "output_type": "stream",
     "text": [
      "New Qbit introduced, expanding Hilbert space for new models\n"
     ]
    },
    {
     "data": {
      "text/html": [
       "<div>\n",
       "<table border=\"1\" class=\"dataframe\">\n",
       "  <thead>\n",
       "    <tr style=\"text-align: right;\">\n",
       "      <th></th>\n",
       "      <th>&lt;Name&gt;</th>\n",
       "      <th>All_Operators</th>\n",
       "      <th>LogL_Ext</th>\n",
       "      <th>N_Qbit</th>\n",
       "      <th>N_params</th>\n",
       "      <th>Origin_epoch</th>\n",
       "      <th>QML_Class</th>\n",
       "      <th>RootNode</th>\n",
       "      <th>Selected</th>\n",
       "      <th>Status</th>\n",
       "    </tr>\n",
       "  </thead>\n",
       "  <tbody>\n",
       "    <tr>\n",
       "      <th>0</th>\n",
       "      <td>[x0]</td>\n",
       "      <td>[[[0j, (1+0j)], [(1+0j), 0j]]]</td>\n",
       "      <td>None</td>\n",
       "      <td>[0]</td>\n",
       "      <td>1</td>\n",
       "      <td>0</td>\n",
       "      <td>None</td>\n",
       "      <td>NaN</td>\n",
       "      <td>False</td>\n",
       "      <td>Ready</td>\n",
       "    </tr>\n",
       "    <tr>\n",
       "      <th>1</th>\n",
       "      <td>[y0]</td>\n",
       "      <td>[[[0j, -1j], [1j, 0j]]]</td>\n",
       "      <td>None</td>\n",
       "      <td>[0]</td>\n",
       "      <td>1</td>\n",
       "      <td>0</td>\n",
       "      <td>None</td>\n",
       "      <td>NaN</td>\n",
       "      <td>False</td>\n",
       "      <td>Ready</td>\n",
       "    </tr>\n",
       "    <tr>\n",
       "      <th>2</th>\n",
       "      <td>[z0]</td>\n",
       "      <td>[[[(1+0j), 0j], [0j, (-1+0j)]]]</td>\n",
       "      <td>None</td>\n",
       "      <td>[0]</td>\n",
       "      <td>1</td>\n",
       "      <td>0</td>\n",
       "      <td>None</td>\n",
       "      <td>NaN</td>\n",
       "      <td>False</td>\n",
       "      <td>Ready</td>\n",
       "    </tr>\n",
       "    <tr>\n",
       "      <th>3</th>\n",
       "      <td>[x0y0]</td>\n",
       "      <td>[[[0j, (1+0j)], [(1+0j), 0j]], [[0j, -1j], [1j...</td>\n",
       "      <td>None</td>\n",
       "      <td>[0]</td>\n",
       "      <td>2</td>\n",
       "      <td>0</td>\n",
       "      <td>None</td>\n",
       "      <td>NaN</td>\n",
       "      <td>False</td>\n",
       "      <td>Ready</td>\n",
       "    </tr>\n",
       "    <tr>\n",
       "      <th>4</th>\n",
       "      <td>[x0z0]</td>\n",
       "      <td>[[[0j, (1+0j)], [(1+0j), 0j]], [[(1+0j), 0j], ...</td>\n",
       "      <td>None</td>\n",
       "      <td>[0]</td>\n",
       "      <td>2</td>\n",
       "      <td>0</td>\n",
       "      <td>None</td>\n",
       "      <td>NaN</td>\n",
       "      <td>False</td>\n",
       "      <td>Ready</td>\n",
       "    </tr>\n",
       "    <tr>\n",
       "      <th>5</th>\n",
       "      <td>[y0z0]</td>\n",
       "      <td>[[[0j, -1j], [1j, 0j]], [[(1+0j), 0j], [0j, (-...</td>\n",
       "      <td>None</td>\n",
       "      <td>[0]</td>\n",
       "      <td>2</td>\n",
       "      <td>0</td>\n",
       "      <td>None</td>\n",
       "      <td>NaN</td>\n",
       "      <td>False</td>\n",
       "      <td>Ready</td>\n",
       "    </tr>\n",
       "    <tr>\n",
       "      <th>6</th>\n",
       "      <td>[x0y0z0]</td>\n",
       "      <td>[[[0j, (1+0j)], [(1+0j), 0j]], [[0j, -1j], [1j...</td>\n",
       "      <td>None</td>\n",
       "      <td>[0]</td>\n",
       "      <td>3</td>\n",
       "      <td>0</td>\n",
       "      <td>None</td>\n",
       "      <td>NaN</td>\n",
       "      <td>False</td>\n",
       "      <td>Ready</td>\n",
       "    </tr>\n",
       "  </tbody>\n",
       "</table>\n",
       "</div>"
      ],
      "text/plain": [
       "     <Name>                                      All_Operators LogL_Ext  \\\n",
       "0      [x0]                     [[[0j, (1+0j)], [(1+0j), 0j]]]     None   \n",
       "1      [y0]                            [[[0j, -1j], [1j, 0j]]]     None   \n",
       "2      [z0]                    [[[(1+0j), 0j], [0j, (-1+0j)]]]     None   \n",
       "3    [x0y0]  [[[0j, (1+0j)], [(1+0j), 0j]], [[0j, -1j], [1j...     None   \n",
       "4    [x0z0]  [[[0j, (1+0j)], [(1+0j), 0j]], [[(1+0j), 0j], ...     None   \n",
       "5    [y0z0]  [[[0j, -1j], [1j, 0j]], [[(1+0j), 0j], [0j, (-...     None   \n",
       "6  [x0y0z0]  [[[0j, (1+0j)], [(1+0j), 0j]], [[0j, -1j], [1j...     None   \n",
       "\n",
       "  N_Qbit  N_params  Origin_epoch QML_Class RootNode Selected Status  \n",
       "0    [0]         1             0      None      NaN    False  Ready  \n",
       "1    [0]         1             0      None      NaN    False  Ready  \n",
       "2    [0]         1             0      None      NaN    False  Ready  \n",
       "3    [0]         2             0      None      NaN    False  Ready  \n",
       "4    [0]         2             0      None      NaN    False  Ready  \n",
       "5    [0]         2             0      None      NaN    False  Ready  \n",
       "6    [0]         3             0      None      NaN    False  Ready  "
      ]
     },
     "execution_count": 362,
     "metadata": {},
     "output_type": "execute_result"
    }
   ],
   "source": [
    "DB = mov.AddSingleInteraction_NewQ(DB, epoch=1, inter_qbits=[0,1], inttype = ['x','x'], start_model = None, dim = None)\n",
    "DB"
   ]
  },
  {
   "cell_type": "code",
   "execution_count": 359,
   "metadata": {
    "collapsed": false
   },
   "outputs": [],
   "source": [
    "NewModels = mov.BuildSingle_Interact(2, [0,1], ['x','x'])"
   ]
  },
  {
   "cell_type": "code",
   "execution_count": 360,
   "metadata": {
    "collapsed": false
   },
   "outputs": [
    {
     "data": {
      "text/plain": [
       "True"
      ]
     },
     "execution_count": 360,
     "metadata": {},
     "output_type": "execute_result"
    }
   ],
   "source": [
    "NewModels[1][0] not in list(DB[\"<Name>\"])"
   ]
  },
  {
   "cell_type": "code",
   "execution_count": 287,
   "metadata": {
    "collapsed": false
   },
   "outputs": [
    {
     "data": {
      "text/plain": [
       "array([[ 0.+0.j,  1.+0.j],\n",
       "       [ 1.+0.j,  0.+0.j]])"
      ]
     },
     "execution_count": 287,
     "metadata": {},
     "output_type": "execute_result"
    }
   ],
   "source": [
    "evo.sigmax()"
   ]
  },
  {
   "cell_type": "code",
   "execution_count": 308,
   "metadata": {
    "collapsed": false
   },
   "outputs": [
    {
     "data": {
      "text/html": [
       "<div>\n",
       "<table border=\"1\" class=\"dataframe\">\n",
       "  <thead>\n",
       "    <tr style=\"text-align: right;\">\n",
       "      <th></th>\n",
       "      <th>&lt;Name&gt;</th>\n",
       "      <th>All_Operators</th>\n",
       "      <th>LogL_Ext</th>\n",
       "      <th>N_Qbit</th>\n",
       "      <th>N_params</th>\n",
       "      <th>Origin_epoch</th>\n",
       "      <th>QML_Class</th>\n",
       "      <th>RootNode</th>\n",
       "      <th>Selected</th>\n",
       "      <th>Status</th>\n",
       "    </tr>\n",
       "  </thead>\n",
       "  <tbody>\n",
       "    <tr>\n",
       "      <th>0</th>\n",
       "      <td>[x0]</td>\n",
       "      <td>[[[0j, (1+0j)], [(1+0j), 0j]]]</td>\n",
       "      <td>None</td>\n",
       "      <td>[0]</td>\n",
       "      <td>1</td>\n",
       "      <td>0</td>\n",
       "      <td>None</td>\n",
       "      <td>NaN</td>\n",
       "      <td>False</td>\n",
       "      <td>Ready</td>\n",
       "    </tr>\n",
       "    <tr>\n",
       "      <th>1</th>\n",
       "      <td>[y0]</td>\n",
       "      <td>[[[0j, -1j], [1j, 0j]]]</td>\n",
       "      <td>None</td>\n",
       "      <td>[0]</td>\n",
       "      <td>1</td>\n",
       "      <td>0</td>\n",
       "      <td>None</td>\n",
       "      <td>NaN</td>\n",
       "      <td>False</td>\n",
       "      <td>Ready</td>\n",
       "    </tr>\n",
       "    <tr>\n",
       "      <th>2</th>\n",
       "      <td>[z0]</td>\n",
       "      <td>[[[(1+0j), 0j], [0j, (-1+0j)]]]</td>\n",
       "      <td>None</td>\n",
       "      <td>[0]</td>\n",
       "      <td>1</td>\n",
       "      <td>0</td>\n",
       "      <td>None</td>\n",
       "      <td>NaN</td>\n",
       "      <td>False</td>\n",
       "      <td>Ready</td>\n",
       "    </tr>\n",
       "    <tr>\n",
       "      <th>3</th>\n",
       "      <td>[x0y0]</td>\n",
       "      <td>[[[0j, (1+0j)], [(1+0j), 0j]], [[0j, -1j], [1j...</td>\n",
       "      <td>None</td>\n",
       "      <td>[0]</td>\n",
       "      <td>2</td>\n",
       "      <td>0</td>\n",
       "      <td>None</td>\n",
       "      <td>NaN</td>\n",
       "      <td>False</td>\n",
       "      <td>Ready</td>\n",
       "    </tr>\n",
       "    <tr>\n",
       "      <th>4</th>\n",
       "      <td>[x0z0]</td>\n",
       "      <td>[[[0j, (1+0j)], [(1+0j), 0j]], [[(1+0j), 0j], ...</td>\n",
       "      <td>None</td>\n",
       "      <td>[0]</td>\n",
       "      <td>2</td>\n",
       "      <td>0</td>\n",
       "      <td>None</td>\n",
       "      <td>NaN</td>\n",
       "      <td>False</td>\n",
       "      <td>Ready</td>\n",
       "    </tr>\n",
       "    <tr>\n",
       "      <th>5</th>\n",
       "      <td>[y0z0]</td>\n",
       "      <td>[[[0j, -1j], [1j, 0j]], [[(1+0j), 0j], [0j, (-...</td>\n",
       "      <td>None</td>\n",
       "      <td>[0]</td>\n",
       "      <td>2</td>\n",
       "      <td>0</td>\n",
       "      <td>None</td>\n",
       "      <td>NaN</td>\n",
       "      <td>False</td>\n",
       "      <td>Ready</td>\n",
       "    </tr>\n",
       "    <tr>\n",
       "      <th>6</th>\n",
       "      <td>[x0y0z0]</td>\n",
       "      <td>[[[0j, (1+0j)], [(1+0j), 0j]], [[0j, -1j], [1j...</td>\n",
       "      <td>None</td>\n",
       "      <td>[0]</td>\n",
       "      <td>3</td>\n",
       "      <td>0</td>\n",
       "      <td>None</td>\n",
       "      <td>NaN</td>\n",
       "      <td>False</td>\n",
       "      <td>Ready</td>\n",
       "    </tr>\n",
       "    <tr>\n",
       "      <th>7</th>\n",
       "      <td>[xTx01]</td>\n",
       "      <td>[[[0j, 0j, 0j, (1+0j)], [0j, 0j, (1+0j), 0j], ...</td>\n",
       "      <td>None</td>\n",
       "      <td>[0, 1]</td>\n",
       "      <td>1</td>\n",
       "      <td>0</td>\n",
       "      <td>None</td>\n",
       "      <td>NaN</td>\n",
       "      <td>False</td>\n",
       "      <td>Ready</td>\n",
       "    </tr>\n",
       "    <tr>\n",
       "      <th>8</th>\n",
       "      <td>[yTy01]</td>\n",
       "      <td>[[[0j, 0j, 0j, (-1-0j)], [0j, 0j, (1+0j), 0j],...</td>\n",
       "      <td>None</td>\n",
       "      <td>[0, 1]</td>\n",
       "      <td>1</td>\n",
       "      <td>0</td>\n",
       "      <td>None</td>\n",
       "      <td>NaN</td>\n",
       "      <td>False</td>\n",
       "      <td>Ready</td>\n",
       "    </tr>\n",
       "    <tr>\n",
       "      <th>9</th>\n",
       "      <td>[zTz01]</td>\n",
       "      <td>[[[(1+0j), 0j, 0j, 0j], [0j, (-1+0j), 0j, (-0+...</td>\n",
       "      <td>None</td>\n",
       "      <td>[0, 1]</td>\n",
       "      <td>1</td>\n",
       "      <td>0</td>\n",
       "      <td>None</td>\n",
       "      <td>NaN</td>\n",
       "      <td>False</td>\n",
       "      <td>Ready</td>\n",
       "    </tr>\n",
       "    <tr>\n",
       "      <th>10</th>\n",
       "      <td>[xTx01]</td>\n",
       "      <td>[[[0j, 0j, 0j, (1+0j)], [0j, 0j, (1+0j), 0j], ...</td>\n",
       "      <td>None</td>\n",
       "      <td>[0, 1]</td>\n",
       "      <td>1</td>\n",
       "      <td>0</td>\n",
       "      <td>None</td>\n",
       "      <td>NaN</td>\n",
       "      <td>False</td>\n",
       "      <td>Ready</td>\n",
       "    </tr>\n",
       "    <tr>\n",
       "      <th>11</th>\n",
       "      <td>[yTy01]</td>\n",
       "      <td>[[[0j, 0j, 0j, (-1-0j)], [0j, 0j, (1+0j), 0j],...</td>\n",
       "      <td>None</td>\n",
       "      <td>[0, 1]</td>\n",
       "      <td>1</td>\n",
       "      <td>0</td>\n",
       "      <td>None</td>\n",
       "      <td>NaN</td>\n",
       "      <td>False</td>\n",
       "      <td>Ready</td>\n",
       "    </tr>\n",
       "    <tr>\n",
       "      <th>12</th>\n",
       "      <td>[zTz01]</td>\n",
       "      <td>[[[(1+0j), 0j, 0j, 0j], [0j, (-1+0j), 0j, (-0+...</td>\n",
       "      <td>None</td>\n",
       "      <td>[0, 1]</td>\n",
       "      <td>1</td>\n",
       "      <td>0</td>\n",
       "      <td>None</td>\n",
       "      <td>NaN</td>\n",
       "      <td>False</td>\n",
       "      <td>Ready</td>\n",
       "    </tr>\n",
       "    <tr>\n",
       "      <th>13</th>\n",
       "      <td>[xTx01]</td>\n",
       "      <td>[[[0j, 0j, 0j, (1+0j)], [0j, 0j, (1+0j), 0j], ...</td>\n",
       "      <td>None</td>\n",
       "      <td>[0, 1]</td>\n",
       "      <td>1</td>\n",
       "      <td>0</td>\n",
       "      <td>None</td>\n",
       "      <td>NaN</td>\n",
       "      <td>False</td>\n",
       "      <td>Ready</td>\n",
       "    </tr>\n",
       "    <tr>\n",
       "      <th>14</th>\n",
       "      <td>[yTy01]</td>\n",
       "      <td>[[[0j, 0j, 0j, (-1-0j)], [0j, 0j, (1+0j), 0j],...</td>\n",
       "      <td>None</td>\n",
       "      <td>[0, 1]</td>\n",
       "      <td>1</td>\n",
       "      <td>0</td>\n",
       "      <td>None</td>\n",
       "      <td>NaN</td>\n",
       "      <td>False</td>\n",
       "      <td>Ready</td>\n",
       "    </tr>\n",
       "    <tr>\n",
       "      <th>15</th>\n",
       "      <td>[zTz01]</td>\n",
       "      <td>[[[(1+0j), 0j, 0j, 0j], [0j, (-1+0j), 0j, (-0+...</td>\n",
       "      <td>None</td>\n",
       "      <td>[0, 1]</td>\n",
       "      <td>1</td>\n",
       "      <td>0</td>\n",
       "      <td>None</td>\n",
       "      <td>NaN</td>\n",
       "      <td>False</td>\n",
       "      <td>Ready</td>\n",
       "    </tr>\n",
       "  </tbody>\n",
       "</table>\n",
       "</div>"
      ],
      "text/plain": [
       "      <Name>                                      All_Operators LogL_Ext  \\\n",
       "0       [x0]                     [[[0j, (1+0j)], [(1+0j), 0j]]]     None   \n",
       "1       [y0]                            [[[0j, -1j], [1j, 0j]]]     None   \n",
       "2       [z0]                    [[[(1+0j), 0j], [0j, (-1+0j)]]]     None   \n",
       "3     [x0y0]  [[[0j, (1+0j)], [(1+0j), 0j]], [[0j, -1j], [1j...     None   \n",
       "4     [x0z0]  [[[0j, (1+0j)], [(1+0j), 0j]], [[(1+0j), 0j], ...     None   \n",
       "5     [y0z0]  [[[0j, -1j], [1j, 0j]], [[(1+0j), 0j], [0j, (-...     None   \n",
       "6   [x0y0z0]  [[[0j, (1+0j)], [(1+0j), 0j]], [[0j, -1j], [1j...     None   \n",
       "7    [xTx01]  [[[0j, 0j, 0j, (1+0j)], [0j, 0j, (1+0j), 0j], ...     None   \n",
       "8    [yTy01]  [[[0j, 0j, 0j, (-1-0j)], [0j, 0j, (1+0j), 0j],...     None   \n",
       "9    [zTz01]  [[[(1+0j), 0j, 0j, 0j], [0j, (-1+0j), 0j, (-0+...     None   \n",
       "10   [xTx01]  [[[0j, 0j, 0j, (1+0j)], [0j, 0j, (1+0j), 0j], ...     None   \n",
       "11   [yTy01]  [[[0j, 0j, 0j, (-1-0j)], [0j, 0j, (1+0j), 0j],...     None   \n",
       "12   [zTz01]  [[[(1+0j), 0j, 0j, 0j], [0j, (-1+0j), 0j, (-0+...     None   \n",
       "13   [xTx01]  [[[0j, 0j, 0j, (1+0j)], [0j, 0j, (1+0j), 0j], ...     None   \n",
       "14   [yTy01]  [[[0j, 0j, 0j, (-1-0j)], [0j, 0j, (1+0j), 0j],...     None   \n",
       "15   [zTz01]  [[[(1+0j), 0j, 0j, 0j], [0j, (-1+0j), 0j, (-0+...     None   \n",
       "\n",
       "    N_Qbit  N_params  Origin_epoch QML_Class RootNode Selected Status  \n",
       "0      [0]         1             0      None      NaN    False  Ready  \n",
       "1      [0]         1             0      None      NaN    False  Ready  \n",
       "2      [0]         1             0      None      NaN    False  Ready  \n",
       "3      [0]         2             0      None      NaN    False  Ready  \n",
       "4      [0]         2             0      None      NaN    False  Ready  \n",
       "5      [0]         2             0      None      NaN    False  Ready  \n",
       "6      [0]         3             0      None      NaN    False  Ready  \n",
       "7   [0, 1]         1             0      None      NaN    False  Ready  \n",
       "8   [0, 1]         1             0      None      NaN    False  Ready  \n",
       "9   [0, 1]         1             0      None      NaN    False  Ready  \n",
       "10  [0, 1]         1             0      None      NaN    False  Ready  \n",
       "11  [0, 1]         1             0      None      NaN    False  Ready  \n",
       "12  [0, 1]         1             0      None      NaN    False  Ready  \n",
       "13  [0, 1]         1             0      None      NaN    False  Ready  \n",
       "14  [0, 1]         1             0      None      NaN    False  Ready  \n",
       "15  [0, 1]         1             0      None      NaN    False  Ready  "
      ]
     },
     "execution_count": 308,
     "metadata": {},
     "output_type": "execute_result"
    }
   ],
   "source": [
    "DB = mov.AddInteraction_NewQ(DB, epoch = 0, dim=2, inter_qbits = [0,1], type = 'scalar')\n",
    "DB"
   ]
  },
  {
   "cell_type": "code",
   "execution_count": 306,
   "metadata": {
    "collapsed": false
   },
   "outputs": [
    {
     "data": {
      "text/plain": [
       "[]"
      ]
     },
     "execution_count": 306,
     "metadata": {},
     "output_type": "execute_result"
    }
   ],
   "source": [
    "# Use to check correctness of operators and list/array structure\n",
    "list(DB.loc[DB['<Name>'] == 'x0z0'][\"All_Operators\"])"
   ]
  },
  {
   "cell_type": "code",
   "execution_count": 44,
   "metadata": {
    "collapsed": false,
    "scrolled": true
   },
   "outputs": [
    {
     "name": "stdout",
     "output_type": "stream",
     "text": [
      "Max Param being analysed for operators combinations: 6\n"
     ]
    },
    {
     "name": "stderr",
     "output_type": "stream",
     "text": [
      "..\\Libraries\\QML_lib\\TheoMoves.py:306: UserWarning: The tree exploration has reached the highest N_params for 2 qubit(s)\n",
      "  NewModels=[]\n"
     ]
    },
    {
     "data": {
      "text/html": [
       "<div>\n",
       "<table border=\"1\" class=\"dataframe\">\n",
       "  <thead>\n",
       "    <tr style=\"text-align: right;\">\n",
       "      <th></th>\n",
       "      <th>&lt;Name&gt;</th>\n",
       "      <th>All_Operators</th>\n",
       "      <th>LogL_Ext</th>\n",
       "      <th>N_Qbit</th>\n",
       "      <th>N_params</th>\n",
       "      <th>Origin_epoch</th>\n",
       "      <th>QML_Class</th>\n",
       "      <th>Selected</th>\n",
       "      <th>Status</th>\n",
       "    </tr>\n",
       "  </thead>\n",
       "  <tbody>\n",
       "    <tr>\n",
       "      <th>0</th>\n",
       "      <td>x0</td>\n",
       "      <td>[[[0j, (1+0j)], [(1+0j), 0j]]]</td>\n",
       "      <td>None</td>\n",
       "      <td>[0]</td>\n",
       "      <td>1</td>\n",
       "      <td>0</td>\n",
       "      <td>None</td>\n",
       "      <td>False</td>\n",
       "      <td>Ready</td>\n",
       "    </tr>\n",
       "    <tr>\n",
       "      <th>1</th>\n",
       "      <td>y0</td>\n",
       "      <td>[[[0j, -1j], [1j, 0j]]]</td>\n",
       "      <td>None</td>\n",
       "      <td>[0]</td>\n",
       "      <td>1</td>\n",
       "      <td>0</td>\n",
       "      <td>None</td>\n",
       "      <td>False</td>\n",
       "      <td>Ready</td>\n",
       "    </tr>\n",
       "    <tr>\n",
       "      <th>2</th>\n",
       "      <td>z0</td>\n",
       "      <td>[[[(1+0j), 0j], [0j, (-1+0j)]]]</td>\n",
       "      <td>None</td>\n",
       "      <td>[0]</td>\n",
       "      <td>1</td>\n",
       "      <td>0</td>\n",
       "      <td>None</td>\n",
       "      <td>False</td>\n",
       "      <td>Ready</td>\n",
       "    </tr>\n",
       "    <tr>\n",
       "      <th>3</th>\n",
       "      <td>x0y0</td>\n",
       "      <td>[[[0j, (1+0j)], [(1+0j), 0j]], [[0j, -1j], [1j...</td>\n",
       "      <td>None</td>\n",
       "      <td>[0]</td>\n",
       "      <td>2</td>\n",
       "      <td>0</td>\n",
       "      <td>None</td>\n",
       "      <td>False</td>\n",
       "      <td>Ready</td>\n",
       "    </tr>\n",
       "    <tr>\n",
       "      <th>4</th>\n",
       "      <td>x0z0</td>\n",
       "      <td>[[[0j, (1+0j)], [(1+0j), 0j]], [[(1+0j), 0j], ...</td>\n",
       "      <td>None</td>\n",
       "      <td>[0]</td>\n",
       "      <td>2</td>\n",
       "      <td>0</td>\n",
       "      <td>None</td>\n",
       "      <td>False</td>\n",
       "      <td>Ready</td>\n",
       "    </tr>\n",
       "    <tr>\n",
       "      <th>5</th>\n",
       "      <td>y0z0</td>\n",
       "      <td>[[[0j, -1j], [1j, 0j]], [[(1+0j), 0j], [0j, (-...</td>\n",
       "      <td>None</td>\n",
       "      <td>[0]</td>\n",
       "      <td>2</td>\n",
       "      <td>0</td>\n",
       "      <td>None</td>\n",
       "      <td>False</td>\n",
       "      <td>Ready</td>\n",
       "    </tr>\n",
       "    <tr>\n",
       "      <th>6</th>\n",
       "      <td>xTx01</td>\n",
       "      <td>[[[0j, 0j, 0j, (1+0j)], [0j, 0j, (1+0j), 0j], ...</td>\n",
       "      <td>None</td>\n",
       "      <td>[0, 1]</td>\n",
       "      <td>1</td>\n",
       "      <td>0</td>\n",
       "      <td>None</td>\n",
       "      <td>False</td>\n",
       "      <td>Ready</td>\n",
       "    </tr>\n",
       "    <tr>\n",
       "      <th>7</th>\n",
       "      <td>yTy01</td>\n",
       "      <td>[[[0j, 0j, 0j, (-1-0j)], [0j, 0j, (1+0j), 0j],...</td>\n",
       "      <td>None</td>\n",
       "      <td>[0, 1]</td>\n",
       "      <td>1</td>\n",
       "      <td>0</td>\n",
       "      <td>None</td>\n",
       "      <td>False</td>\n",
       "      <td>Ready</td>\n",
       "    </tr>\n",
       "    <tr>\n",
       "      <th>8</th>\n",
       "      <td>zTz01</td>\n",
       "      <td>[[[(1+0j), 0j, 0j, 0j], [0j, (-1+0j), 0j, (-0+...</td>\n",
       "      <td>None</td>\n",
       "      <td>[0, 1]</td>\n",
       "      <td>1</td>\n",
       "      <td>0</td>\n",
       "      <td>None</td>\n",
       "      <td>False</td>\n",
       "      <td>Ready</td>\n",
       "    </tr>\n",
       "    <tr>\n",
       "      <th>9</th>\n",
       "      <td>xTx01x0</td>\n",
       "      <td>[[[0j, 0j, 0j, (1+0j)], [0j, 0j, (1+0j), 0j], ...</td>\n",
       "      <td>None</td>\n",
       "      <td>[0, 1]</td>\n",
       "      <td>2</td>\n",
       "      <td>0</td>\n",
       "      <td>None</td>\n",
       "      <td>False</td>\n",
       "      <td>Ready</td>\n",
       "    </tr>\n",
       "    <tr>\n",
       "      <th>10</th>\n",
       "      <td>yTy01y0</td>\n",
       "      <td>[[[0j, 0j, 0j, (-1-0j)], [0j, 0j, (1+0j), 0j],...</td>\n",
       "      <td>None</td>\n",
       "      <td>[0, 1]</td>\n",
       "      <td>2</td>\n",
       "      <td>0</td>\n",
       "      <td>None</td>\n",
       "      <td>False</td>\n",
       "      <td>Ready</td>\n",
       "    </tr>\n",
       "    <tr>\n",
       "      <th>11</th>\n",
       "      <td>zTz01z0</td>\n",
       "      <td>[[[(1+0j), 0j, 0j, 0j], [0j, (-1+0j), 0j, (-0+...</td>\n",
       "      <td>None</td>\n",
       "      <td>[0, 1]</td>\n",
       "      <td>2</td>\n",
       "      <td>0</td>\n",
       "      <td>None</td>\n",
       "      <td>False</td>\n",
       "      <td>Ready</td>\n",
       "    </tr>\n",
       "    <tr>\n",
       "      <th>12</th>\n",
       "      <td>xTx01yTy01x0y0</td>\n",
       "      <td>[[[0j, 0j, 0j, (1+0j)], [0j, 0j, (1+0j), 0j], ...</td>\n",
       "      <td>None</td>\n",
       "      <td>[0, 1]</td>\n",
       "      <td>4</td>\n",
       "      <td>0</td>\n",
       "      <td>None</td>\n",
       "      <td>False</td>\n",
       "      <td>Ready</td>\n",
       "    </tr>\n",
       "    <tr>\n",
       "      <th>13</th>\n",
       "      <td>xTx01zTz01x0z0</td>\n",
       "      <td>[[[0j, 0j, 0j, (1+0j)], [0j, 0j, (1+0j), 0j], ...</td>\n",
       "      <td>None</td>\n",
       "      <td>[0, 1]</td>\n",
       "      <td>4</td>\n",
       "      <td>0</td>\n",
       "      <td>None</td>\n",
       "      <td>False</td>\n",
       "      <td>Ready</td>\n",
       "    </tr>\n",
       "    <tr>\n",
       "      <th>14</th>\n",
       "      <td>yTy01zTz01y0z0</td>\n",
       "      <td>[[[0j, 0j, 0j, (-1-0j)], [0j, 0j, (1+0j), 0j],...</td>\n",
       "      <td>None</td>\n",
       "      <td>[0, 1]</td>\n",
       "      <td>4</td>\n",
       "      <td>0</td>\n",
       "      <td>None</td>\n",
       "      <td>False</td>\n",
       "      <td>Ready</td>\n",
       "    </tr>\n",
       "    <tr>\n",
       "      <th>15</th>\n",
       "      <td>xTx01yTy01zTz01x0y0z0</td>\n",
       "      <td>[[[0j, 0j, 0j, (1+0j)], [0j, 0j, (1+0j), 0j], ...</td>\n",
       "      <td>None</td>\n",
       "      <td>[0, 1]</td>\n",
       "      <td>6</td>\n",
       "      <td>0</td>\n",
       "      <td>None</td>\n",
       "      <td>False</td>\n",
       "      <td>Ready</td>\n",
       "    </tr>\n",
       "  </tbody>\n",
       "</table>\n",
       "</div>"
      ],
      "text/plain": [
       "                   <Name>                                      All_Operators  \\\n",
       "0                      x0                     [[[0j, (1+0j)], [(1+0j), 0j]]]   \n",
       "1                      y0                            [[[0j, -1j], [1j, 0j]]]   \n",
       "2                      z0                    [[[(1+0j), 0j], [0j, (-1+0j)]]]   \n",
       "3                    x0y0  [[[0j, (1+0j)], [(1+0j), 0j]], [[0j, -1j], [1j...   \n",
       "4                    x0z0  [[[0j, (1+0j)], [(1+0j), 0j]], [[(1+0j), 0j], ...   \n",
       "5                    y0z0  [[[0j, -1j], [1j, 0j]], [[(1+0j), 0j], [0j, (-...   \n",
       "6                   xTx01  [[[0j, 0j, 0j, (1+0j)], [0j, 0j, (1+0j), 0j], ...   \n",
       "7                   yTy01  [[[0j, 0j, 0j, (-1-0j)], [0j, 0j, (1+0j), 0j],...   \n",
       "8                   zTz01  [[[(1+0j), 0j, 0j, 0j], [0j, (-1+0j), 0j, (-0+...   \n",
       "9                 xTx01x0  [[[0j, 0j, 0j, (1+0j)], [0j, 0j, (1+0j), 0j], ...   \n",
       "10                yTy01y0  [[[0j, 0j, 0j, (-1-0j)], [0j, 0j, (1+0j), 0j],...   \n",
       "11                zTz01z0  [[[(1+0j), 0j, 0j, 0j], [0j, (-1+0j), 0j, (-0+...   \n",
       "12         xTx01yTy01x0y0  [[[0j, 0j, 0j, (1+0j)], [0j, 0j, (1+0j), 0j], ...   \n",
       "13         xTx01zTz01x0z0  [[[0j, 0j, 0j, (1+0j)], [0j, 0j, (1+0j), 0j], ...   \n",
       "14         yTy01zTz01y0z0  [[[0j, 0j, 0j, (-1-0j)], [0j, 0j, (1+0j), 0j],...   \n",
       "15  xTx01yTy01zTz01x0y0z0  [[[0j, 0j, 0j, (1+0j)], [0j, 0j, (1+0j), 0j], ...   \n",
       "\n",
       "   LogL_Ext  N_Qbit  N_params  Origin_epoch QML_Class Selected Status  \n",
       "0      None     [0]         1             0      None    False  Ready  \n",
       "1      None     [0]         1             0      None    False  Ready  \n",
       "2      None     [0]         1             0      None    False  Ready  \n",
       "3      None     [0]         2             0      None    False  Ready  \n",
       "4      None     [0]         2             0      None    False  Ready  \n",
       "5      None     [0]         2             0      None    False  Ready  \n",
       "6      None  [0, 1]         1             0      None    False  Ready  \n",
       "7      None  [0, 1]         1             0      None    False  Ready  \n",
       "8      None  [0, 1]         1             0      None    False  Ready  \n",
       "9      None  [0, 1]         2             0      None    False  Ready  \n",
       "10     None  [0, 1]         2             0      None    False  Ready  \n",
       "11     None  [0, 1]         2             0      None    False  Ready  \n",
       "12     None  [0, 1]         4             0      None    False  Ready  \n",
       "13     None  [0, 1]         4             0      None    False  Ready  \n",
       "14     None  [0, 1]         4             0      None    False  Ready  \n",
       "15     None  [0, 1]         6             0      None    False  Ready  "
      ]
     },
     "execution_count": 44,
     "metadata": {},
     "output_type": "execute_result"
    }
   ],
   "source": [
    "GlobalDB = mov.AddComboOp_NewQ(GlobalDB, epoch = 0, dim=2, inter_qbits = [0,1], type = 'scalar', symop=False)\n",
    "GlobalDB"
   ]
  },
  {
   "cell_type": "code",
   "execution_count": 100,
   "metadata": {
    "collapsed": false
   },
   "outputs": [
    {
     "data": {
      "text/plain": [
       "[array([[[ 0.+0.j,  0.+0.j,  0.+0.j,  1.+0.j],\n",
       "         [ 0.+0.j,  0.+0.j,  1.+0.j,  0.+0.j],\n",
       "         [ 0.+0.j,  1.+0.j,  0.+0.j,  0.+0.j],\n",
       "         [ 1.+0.j,  0.+0.j,  0.+0.j,  0.+0.j]],\n",
       " \n",
       "        [[ 0.+0.j,  0.+0.j,  1.+0.j,  0.+0.j],\n",
       "         [ 0.+0.j,  0.+0.j,  0.+0.j,  1.+0.j],\n",
       "         [ 1.+0.j,  0.+0.j,  0.+0.j,  0.+0.j],\n",
       "         [ 0.+0.j,  1.+0.j,  0.+0.j,  0.+0.j]]])]"
      ]
     },
     "execution_count": 100,
     "metadata": {},
     "output_type": "execute_result"
    }
   ],
   "source": [
    "# Use to check correctness of operators and list/array structure\n",
    "list(GlobalDB.loc[GlobalDB['<Name>'] == 'xTx01x0'][\"All_Operators\"])"
   ]
  },
  {
   "cell_type": "code",
   "execution_count": 299,
   "metadata": {
    "collapsed": false
   },
   "outputs": [
    {
     "data": {
      "text/plain": [
       "[0, 1]"
      ]
     },
     "execution_count": 299,
     "metadata": {},
     "output_type": "execute_result"
    }
   ],
   "source": [
    "list(set(itr.chain(*list(DB['N_Qbit']))))"
   ]
  },
  {
   "cell_type": "code",
   "execution_count": null,
   "metadata": {
    "collapsed": true
   },
   "outputs": [],
   "source": []
  }
 ],
 "metadata": {
  "anaconda-cloud": {},
  "kernelspec": {
   "display_name": "Python [conda root]",
   "language": "python",
   "name": "conda-root-py"
  },
  "language_info": {
   "codemirror_mode": {
    "name": "ipython",
    "version": 3
   },
   "file_extension": ".py",
   "mimetype": "text/x-python",
   "name": "python",
   "nbconvert_exporter": "python",
   "pygments_lexer": "ipython3",
   "version": "3.5.2"
  }
 },
 "nbformat": 4,
 "nbformat_minor": 0
}
