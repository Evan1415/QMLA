{
 "cells": [
  {
   "cell_type": "code",
   "execution_count": 1,
   "metadata": {},
   "outputs": [
    {
     "name": "stderr",
     "output_type": "stream",
     "text": [
      "/Users/raf/Anaconda/anaconda/lib/python2.7/site-packages/matplotlib/font_manager.py:273: UserWarning: Matplotlib is building the font cache using fc-list. This may take a moment.\n",
      "  warnings.warn('Matplotlib is building the font cache using fc-list. This may take a moment.')\n"
     ]
    }
   ],
   "source": [
    "%matplotlib inline\n",
    "import qinfer as qi\n",
    "#import qutip as qt\n",
    "import numpy as np\n",
    "import scipy as sp\n",
    "import math as mth\n",
    "from IPython.display import display, Math, Latex\n",
    "from functools import partial\n",
    "import matplotlib.pyplot as plt\n",
    "import itertools as itr"
   ]
  },
  {
   "cell_type": "code",
   "execution_count": 2,
   "metadata": {},
   "outputs": [],
   "source": [
    "import logging, warnings\n",
    "import sys, os\n",
    "\n",
    "import datetime\n",
    "import time\n",
    "\n",
    "import pandas as pd"
   ]
  },
  {
   "cell_type": "code",
   "execution_count": 3,
   "metadata": {
    "collapsed": true
   },
   "outputs": [],
   "source": [
    "import importlib as imp"
   ]
  },
  {
   "cell_type": "code",
   "execution_count": 4,
   "metadata": {},
   "outputs": [],
   "source": [
    "# Add personalized library to PYTHONPATH\n",
    "sys.path.append(os.path.join(\"..\",\"Libraries\",\"QML_lib\"))"
   ]
  },
  {
   "cell_type": "code",
   "execution_count": 5,
   "metadata": {},
   "outputs": [],
   "source": [
    "%run LoggingCode.py"
   ]
  },
  {
   "cell_type": "markdown",
   "metadata": {},
   "source": [
    "Importing Local Function for Hamiltonian learning"
   ]
  },
  {
   "cell_type": "code",
   "execution_count": 6,
   "metadata": {},
   "outputs": [],
   "source": [
    "from Norms import *\n",
    "from IOfuncts import *\n",
    "from EvalLoss import *\n",
    "\n",
    "import ProbeStates as pros\n",
    "import multiPGH as mpgh\n",
    "import GenSimQMD_IQLE as gsi\n",
    "import Evo as evo"
   ]
  },
  {
   "cell_type": "markdown",
   "metadata": {
    "collapsed": true
   },
   "source": [
    "# Model learning functions\n"
   ]
  },
  {
   "cell_type": "code",
   "execution_count": 7,
   "metadata": {},
   "outputs": [],
   "source": [
    "import Utils as uti\n",
    "import Models as mods\n",
    "import BayesF as bayf\n",
    "import ModLearn as mdl\n",
    "import QMD as qmd\n",
    "import QML as qml"
   ]
  },
  {
   "cell_type": "code",
   "execution_count": 8,
   "metadata": {},
   "outputs": [],
   "source": [
    "lst = [evo.sigmax(),evo.sigmay(), evo.sigmaz()]  "
   ]
  },
  {
   "cell_type": "code",
   "execution_count": 9,
   "metadata": {},
   "outputs": [],
   "source": [
    "import TheoMoves2 as mov"
   ]
  },
  {
   "cell_type": "markdown",
   "metadata": {},
   "source": [
    "## Reload when needed"
   ]
  },
  {
   "cell_type": "code",
   "execution_count": 10,
   "metadata": {},
   "outputs": [
    {
     "data": {
      "text/plain": [
       "<module 'QML' from '..\\\\Libraries\\\\QML_lib\\\\QML.py'>"
      ]
     },
     "execution_count": 10,
     "metadata": {},
     "output_type": "execute_result"
    }
   ],
   "source": [
    "imp.reload(pros)\n",
    "imp.reload(mpgh)\n",
    "imp.reload(gsi)\n",
    "imp.reload(evo)\n",
    "imp.reload(mdl)\n",
    "imp.reload(uti)\n",
    "imp.reload(mods)\n",
    "imp.reload(bayf)\n",
    "imp.reload(qmd)\n",
    "imp.reload(qml)"
   ]
  },
  {
   "cell_type": "markdown",
   "metadata": {},
   "source": [
    "# MODEL LEARNING TEST"
   ]
  },
  {
   "cell_type": "code",
   "execution_count": 10,
   "metadata": {},
   "outputs": [
    {
     "ename": "AttributeError",
     "evalue": "'module' object has no attribute 'reload'",
     "output_type": "error",
     "traceback": [
      "\u001b[0;31m---------------------------------------------------------------------------\u001b[0m",
      "\u001b[0;31mAttributeError\u001b[0m                            Traceback (most recent call last)",
      "\u001b[0;32m<ipython-input-10-0d7a0bba4069>\u001b[0m in \u001b[0;36m<module>\u001b[0;34m()\u001b[0m\n\u001b[0;32m----> 1\u001b[0;31m \u001b[0mimp\u001b[0m\u001b[0;34m.\u001b[0m\u001b[0mreload\u001b[0m\u001b[0;34m(\u001b[0m\u001b[0mmov\u001b[0m\u001b[0;34m)\u001b[0m\u001b[0;34m\u001b[0m\u001b[0m\n\u001b[0m",
      "\u001b[0;31mAttributeError\u001b[0m: 'module' object has no attribute 'reload'"
     ]
    }
   ],
   "source": [
    "imp.reload(mov)"
   ]
  },
  {
   "cell_type": "code",
   "execution_count": 13,
   "metadata": {},
   "outputs": [
    {
     "data": {
      "text/html": [
       "<div>\n",
       "<table border=\"1\" class=\"dataframe\">\n",
       "  <thead>\n",
       "    <tr style=\"text-align: right;\">\n",
       "      <th></th>\n",
       "      <th>&lt;Name&gt;</th>\n",
       "      <th>All_Operators</th>\n",
       "      <th>LogL_Ext</th>\n",
       "      <th>N_Qbit</th>\n",
       "      <th>N_params</th>\n",
       "      <th>Origin_epoch</th>\n",
       "      <th>QML_Class</th>\n",
       "      <th>RootNode</th>\n",
       "      <th>Selected</th>\n",
       "      <th>Status</th>\n",
       "    </tr>\n",
       "  </thead>\n",
       "  <tbody>\n",
       "    <tr>\n",
       "      <th>0</th>\n",
       "      <td>[x0]</td>\n",
       "      <td>[[[0j, (1+0j)], [(1+0j), 0j]]]</td>\n",
       "      <td>None</td>\n",
       "      <td>[0]</td>\n",
       "      <td>1</td>\n",
       "      <td>0</td>\n",
       "      <td>None</td>\n",
       "      <td>NaN</td>\n",
       "      <td>False</td>\n",
       "      <td>Ready</td>\n",
       "    </tr>\n",
       "    <tr>\n",
       "      <th>1</th>\n",
       "      <td>[y0]</td>\n",
       "      <td>[[[0j, -1j], [1j, 0j]]]</td>\n",
       "      <td>None</td>\n",
       "      <td>[0]</td>\n",
       "      <td>1</td>\n",
       "      <td>0</td>\n",
       "      <td>None</td>\n",
       "      <td>NaN</td>\n",
       "      <td>False</td>\n",
       "      <td>Ready</td>\n",
       "    </tr>\n",
       "    <tr>\n",
       "      <th>2</th>\n",
       "      <td>[z0]</td>\n",
       "      <td>[[[(1+0j), 0j], [0j, (-1+0j)]]]</td>\n",
       "      <td>None</td>\n",
       "      <td>[0]</td>\n",
       "      <td>1</td>\n",
       "      <td>0</td>\n",
       "      <td>None</td>\n",
       "      <td>NaN</td>\n",
       "      <td>False</td>\n",
       "      <td>Ready</td>\n",
       "    </tr>\n",
       "  </tbody>\n",
       "</table>\n",
       "</div>"
      ],
      "text/plain": [
       "  <Name>                    All_Operators LogL_Ext N_Qbit  N_params  \\\n",
       "0   [x0]   [[[0j, (1+0j)], [(1+0j), 0j]]]     None    [0]         1   \n",
       "1   [y0]          [[[0j, -1j], [1j, 0j]]]     None    [0]         1   \n",
       "2   [z0]  [[[(1+0j), 0j], [0j, (-1+0j)]]]     None    [0]         1   \n",
       "\n",
       "   Origin_epoch QML_Class RootNode Selected Status  \n",
       "0             0      None      NaN    False  Ready  \n",
       "1             0      None      NaN    False  Ready  \n",
       "2             0      None      NaN    False  Ready  "
      ]
     },
     "execution_count": 13,
     "metadata": {},
     "output_type": "execute_result"
    }
   ],
   "source": [
    "DB = mov.InitialiseDB(RootN_Qbit = [0])\n",
    "DB"
   ]
  },
  {
   "cell_type": "code",
   "execution_count": 14,
   "metadata": {},
   "outputs": [
    {
     "data": {
      "text/plain": [
       "[array([[[ 0.+0.j,  1.+0.j],\n",
       "         [ 1.+0.j,  0.+0.j]]])]"
      ]
     },
     "execution_count": 14,
     "metadata": {},
     "output_type": "execute_result"
    }
   ],
   "source": [
    "# Use to check correctness of operators and list/array structure\n",
    "mov.Find_OpEXName(DB, ['x0'])"
   ]
  },
  {
   "cell_type": "code",
   "execution_count": 15,
   "metadata": {
    "scrolled": true
   },
   "outputs": [
    {
     "name": "stdout",
     "output_type": "stream",
     "text": [
      "Max Param being analysed for highest qubit operations: 1\n"
     ]
    },
    {
     "data": {
      "text/html": [
       "<div>\n",
       "<table border=\"1\" class=\"dataframe\">\n",
       "  <thead>\n",
       "    <tr style=\"text-align: right;\">\n",
       "      <th></th>\n",
       "      <th>&lt;Name&gt;</th>\n",
       "      <th>All_Operators</th>\n",
       "      <th>LogL_Ext</th>\n",
       "      <th>N_Qbit</th>\n",
       "      <th>N_params</th>\n",
       "      <th>Origin_epoch</th>\n",
       "      <th>QML_Class</th>\n",
       "      <th>RootNode</th>\n",
       "      <th>Selected</th>\n",
       "      <th>Status</th>\n",
       "    </tr>\n",
       "  </thead>\n",
       "  <tbody>\n",
       "    <tr>\n",
       "      <th>0</th>\n",
       "      <td>[x0]</td>\n",
       "      <td>[[[0j, (1+0j)], [(1+0j), 0j]]]</td>\n",
       "      <td>None</td>\n",
       "      <td>[0]</td>\n",
       "      <td>1</td>\n",
       "      <td>0</td>\n",
       "      <td>None</td>\n",
       "      <td>NaN</td>\n",
       "      <td>False</td>\n",
       "      <td>Ready</td>\n",
       "    </tr>\n",
       "    <tr>\n",
       "      <th>1</th>\n",
       "      <td>[y0]</td>\n",
       "      <td>[[[0j, -1j], [1j, 0j]]]</td>\n",
       "      <td>None</td>\n",
       "      <td>[0]</td>\n",
       "      <td>1</td>\n",
       "      <td>0</td>\n",
       "      <td>None</td>\n",
       "      <td>NaN</td>\n",
       "      <td>False</td>\n",
       "      <td>Ready</td>\n",
       "    </tr>\n",
       "    <tr>\n",
       "      <th>2</th>\n",
       "      <td>[z0]</td>\n",
       "      <td>[[[(1+0j), 0j], [0j, (-1+0j)]]]</td>\n",
       "      <td>None</td>\n",
       "      <td>[0]</td>\n",
       "      <td>1</td>\n",
       "      <td>0</td>\n",
       "      <td>None</td>\n",
       "      <td>NaN</td>\n",
       "      <td>False</td>\n",
       "      <td>Ready</td>\n",
       "    </tr>\n",
       "    <tr>\n",
       "      <th>3</th>\n",
       "      <td>[x0y0]</td>\n",
       "      <td>[[[0j, (1+0j)], [(1+0j), 0j]], [[0j, -1j], [1j...</td>\n",
       "      <td>None</td>\n",
       "      <td>[0]</td>\n",
       "      <td>2</td>\n",
       "      <td>0</td>\n",
       "      <td>None</td>\n",
       "      <td>NaN</td>\n",
       "      <td>False</td>\n",
       "      <td>Ready</td>\n",
       "    </tr>\n",
       "    <tr>\n",
       "      <th>4</th>\n",
       "      <td>[x0z0]</td>\n",
       "      <td>[[[0j, (1+0j)], [(1+0j), 0j]], [[(1+0j), 0j], ...</td>\n",
       "      <td>None</td>\n",
       "      <td>[0]</td>\n",
       "      <td>2</td>\n",
       "      <td>0</td>\n",
       "      <td>None</td>\n",
       "      <td>NaN</td>\n",
       "      <td>False</td>\n",
       "      <td>Ready</td>\n",
       "    </tr>\n",
       "    <tr>\n",
       "      <th>5</th>\n",
       "      <td>[y0z0]</td>\n",
       "      <td>[[[0j, -1j], [1j, 0j]], [[(1+0j), 0j], [0j, (-...</td>\n",
       "      <td>None</td>\n",
       "      <td>[0]</td>\n",
       "      <td>2</td>\n",
       "      <td>0</td>\n",
       "      <td>None</td>\n",
       "      <td>NaN</td>\n",
       "      <td>False</td>\n",
       "      <td>Ready</td>\n",
       "    </tr>\n",
       "  </tbody>\n",
       "</table>\n",
       "</div>"
      ],
      "text/plain": [
       "   <Name>                                      All_Operators LogL_Ext N_Qbit  \\\n",
       "0    [x0]                     [[[0j, (1+0j)], [(1+0j), 0j]]]     None    [0]   \n",
       "1    [y0]                            [[[0j, -1j], [1j, 0j]]]     None    [0]   \n",
       "2    [z0]                    [[[(1+0j), 0j], [0j, (-1+0j)]]]     None    [0]   \n",
       "3  [x0y0]  [[[0j, (1+0j)], [(1+0j), 0j]], [[0j, -1j], [1j...     None    [0]   \n",
       "4  [x0z0]  [[[0j, (1+0j)], [(1+0j), 0j]], [[(1+0j), 0j], ...     None    [0]   \n",
       "5  [y0z0]  [[[0j, -1j], [1j, 0j]], [[(1+0j), 0j], [0j, (-...     None    [0]   \n",
       "\n",
       "   N_params  Origin_epoch QML_Class RootNode Selected Status  \n",
       "0         1             0      None      NaN    False  Ready  \n",
       "1         1             0      None      NaN    False  Ready  \n",
       "2         1             0      None      NaN    False  Ready  \n",
       "3         2             0      None      NaN    False  Ready  \n",
       "4         2             0      None      NaN    False  Ready  \n",
       "5         2             0      None      NaN    False  Ready  "
      ]
     },
     "execution_count": 15,
     "metadata": {},
     "output_type": "execute_result"
    }
   ],
   "source": [
    "DB = mov.AddDBnewNparam_SameQ(DB, epoch = 0, RootN_Qbit = [0], MaxParamRate =3)\n",
    "DB"
   ]
  },
  {
   "cell_type": "code",
   "execution_count": 21,
   "metadata": {},
   "outputs": [
    {
     "name": "stderr",
     "output_type": "stream",
     "text": [
      "../Libraries/QML_lib/TheoMoves2.py:365: UserWarning: Aborted: at least one inter_qbit selected yet to initialise, or qbits being skipped\n",
      "  warnings.warn(\"Aborted: at least one inter_qbit selected yet to initialise, or qbits being skipped\")\n"
     ]
    },
    {
     "data": {
      "text/html": [
       "<div>\n",
       "<table border=\"1\" class=\"dataframe\">\n",
       "  <thead>\n",
       "    <tr style=\"text-align: right;\">\n",
       "      <th></th>\n",
       "      <th>&lt;Name&gt;</th>\n",
       "      <th>All_Operators</th>\n",
       "      <th>LogL_Ext</th>\n",
       "      <th>N_Qbit</th>\n",
       "      <th>N_params</th>\n",
       "      <th>Origin_epoch</th>\n",
       "      <th>QML_Class</th>\n",
       "      <th>RootNode</th>\n",
       "      <th>Selected</th>\n",
       "      <th>Status</th>\n",
       "    </tr>\n",
       "  </thead>\n",
       "  <tbody>\n",
       "    <tr>\n",
       "      <th>0</th>\n",
       "      <td>[x0]</td>\n",
       "      <td>[[[0j, (1+0j)], [(1+0j), 0j]]]</td>\n",
       "      <td>None</td>\n",
       "      <td>[0]</td>\n",
       "      <td>1</td>\n",
       "      <td>0</td>\n",
       "      <td>None</td>\n",
       "      <td>NaN</td>\n",
       "      <td>False</td>\n",
       "      <td>Ready</td>\n",
       "    </tr>\n",
       "    <tr>\n",
       "      <th>1</th>\n",
       "      <td>[y0]</td>\n",
       "      <td>[[[0j, -1j], [1j, 0j]]]</td>\n",
       "      <td>None</td>\n",
       "      <td>[0]</td>\n",
       "      <td>1</td>\n",
       "      <td>0</td>\n",
       "      <td>None</td>\n",
       "      <td>NaN</td>\n",
       "      <td>False</td>\n",
       "      <td>Ready</td>\n",
       "    </tr>\n",
       "    <tr>\n",
       "      <th>2</th>\n",
       "      <td>[z0]</td>\n",
       "      <td>[[[(1+0j), 0j], [0j, (-1+0j)]]]</td>\n",
       "      <td>None</td>\n",
       "      <td>[0]</td>\n",
       "      <td>1</td>\n",
       "      <td>0</td>\n",
       "      <td>None</td>\n",
       "      <td>NaN</td>\n",
       "      <td>False</td>\n",
       "      <td>Ready</td>\n",
       "    </tr>\n",
       "    <tr>\n",
       "      <th>3</th>\n",
       "      <td>[x0y0]</td>\n",
       "      <td>[[[0j, (1+0j)], [(1+0j), 0j]], [[0j, -1j], [1j...</td>\n",
       "      <td>None</td>\n",
       "      <td>[0]</td>\n",
       "      <td>2</td>\n",
       "      <td>0</td>\n",
       "      <td>None</td>\n",
       "      <td>NaN</td>\n",
       "      <td>False</td>\n",
       "      <td>Ready</td>\n",
       "    </tr>\n",
       "    <tr>\n",
       "      <th>4</th>\n",
       "      <td>[x0z0]</td>\n",
       "      <td>[[[0j, (1+0j)], [(1+0j), 0j]], [[(1+0j), 0j], ...</td>\n",
       "      <td>None</td>\n",
       "      <td>[0]</td>\n",
       "      <td>2</td>\n",
       "      <td>0</td>\n",
       "      <td>None</td>\n",
       "      <td>NaN</td>\n",
       "      <td>False</td>\n",
       "      <td>Ready</td>\n",
       "    </tr>\n",
       "    <tr>\n",
       "      <th>5</th>\n",
       "      <td>[y0z0]</td>\n",
       "      <td>[[[0j, -1j], [1j, 0j]], [[(1+0j), 0j], [0j, (-...</td>\n",
       "      <td>None</td>\n",
       "      <td>[0]</td>\n",
       "      <td>2</td>\n",
       "      <td>0</td>\n",
       "      <td>None</td>\n",
       "      <td>NaN</td>\n",
       "      <td>False</td>\n",
       "      <td>Ready</td>\n",
       "    </tr>\n",
       "  </tbody>\n",
       "</table>\n",
       "</div>"
      ],
      "text/plain": [
       "   <Name>                                      All_Operators LogL_Ext N_Qbit  \\\n",
       "0    [x0]                     [[[0j, (1+0j)], [(1+0j), 0j]]]     None    [0]   \n",
       "1    [y0]                            [[[0j, -1j], [1j, 0j]]]     None    [0]   \n",
       "2    [z0]                    [[[(1+0j), 0j], [0j, (-1+0j)]]]     None    [0]   \n",
       "3  [x0y0]  [[[0j, (1+0j)], [(1+0j), 0j]], [[0j, -1j], [1j...     None    [0]   \n",
       "4  [x0z0]  [[[0j, (1+0j)], [(1+0j), 0j]], [[(1+0j), 0j], ...     None    [0]   \n",
       "5  [y0z0]  [[[0j, -1j], [1j, 0j]], [[(1+0j), 0j], [0j, (-...     None    [0]   \n",
       "\n",
       "   N_params  Origin_epoch QML_Class RootNode Selected Status  \n",
       "0         1             0      None      NaN    False  Ready  \n",
       "1         1             0      None      NaN    False  Ready  \n",
       "2         1             0      None      NaN    False  Ready  \n",
       "3         2             0      None      NaN    False  Ready  \n",
       "4         2             0      None      NaN    False  Ready  \n",
       "5         2             0      None      NaN    False  Ready  "
      ]
     },
     "execution_count": 21,
     "metadata": {},
     "output_type": "execute_result"
    }
   ],
   "source": [
    "DB = mov.AddSingleInteraction_NewQ(DB, epoch=1, inter_qbits=[1,12], inttype = ['x','y'], start_model = None, dim = None)\n",
    "DB"
   ]
  },
  {
   "cell_type": "code",
   "execution_count": 17,
   "metadata": {},
   "outputs": [
    {
     "data": {
      "text/plain": [
       "[]"
      ]
     },
     "execution_count": 17,
     "metadata": {},
     "output_type": "execute_result"
    }
   ],
   "source": [
    "# Use to check correctness of operators and list/array structure\n",
    "mov.Find_OpEXName(DB, ['xTy13'])"
   ]
  },
  {
   "cell_type": "code",
   "execution_count": 22,
   "metadata": {},
   "outputs": [
    {
     "data": {
      "text/plain": [
       "[]"
      ]
     },
     "execution_count": 22,
     "metadata": {},
     "output_type": "execute_result"
    }
   ],
   "source": [
    "mov.Find_OpEXName(DB, ['x0y0z0'])"
   ]
  },
  {
   "cell_type": "code",
   "execution_count": 23,
   "metadata": {},
   "outputs": [],
   "source": [
    "prova = np.array([[[ 0.+0.j,  1.+0.j],\n",
    "         [ 1.+0.j,  0.+0.j]],\n",
    "          \n",
    "          [[ 0.+0.j,  1.+0.j],\n",
    "         [ 1.+0.j,  0.+0.j]]])"
   ]
  },
  {
   "cell_type": "code",
   "execution_count": 24,
   "metadata": {},
   "outputs": [
    {
     "data": {
      "text/plain": [
       "{((0j, (1+0j)), ((1+0j), 0j))}"
      ]
     },
     "execution_count": 24,
     "metadata": {},
     "output_type": "execute_result"
    }
   ],
   "source": [
    "def tuples(A):\n",
    "    try: return tuple(tuples(a) for a in A)\n",
    "    except TypeError: return A\n",
    "\n",
    "b = set(tuples(prova))\n",
    "b"
   ]
  },
  {
   "cell_type": "code",
   "execution_count": null,
   "metadata": {
    "collapsed": true
   },
   "outputs": [],
   "source": []
  },
  {
   "cell_type": "code",
   "execution_count": 25,
   "metadata": {},
   "outputs": [
    {
     "data": {
      "text/plain": [
       "array([[[ 0.+0.j,  1.+0.j],\n",
       "        [ 1.+0.j,  0.+0.j]]])"
      ]
     },
     "execution_count": 25,
     "metadata": {},
     "output_type": "execute_result"
    }
   ],
   "source": [
    "np.asarray(list(b))"
   ]
  },
  {
   "cell_type": "code",
   "execution_count": 26,
   "metadata": {},
   "outputs": [
    {
     "ename": "SyntaxError",
     "evalue": "invalid syntax (<ipython-input-26-ce037ebba9da>, line 1)",
     "output_type": "error",
     "traceback": [
      "\u001b[0;36m  File \u001b[0;32m\"<ipython-input-26-ce037ebba9da>\"\u001b[0;36m, line \u001b[0;32m1\u001b[0m\n\u001b[0;31m    [print(item) for item in tupla]\u001b[0m\n\u001b[0m         ^\u001b[0m\n\u001b[0;31mSyntaxError\u001b[0m\u001b[0;31m:\u001b[0m invalid syntax\n"
     ]
    }
   ],
   "source": [
    "[print(item) for item in tupla]"
   ]
  },
  {
   "cell_type": "code",
   "execution_count": 27,
   "metadata": {},
   "outputs": [
    {
     "ename": "TypeError",
     "evalue": "unique() got an unexpected keyword argument 'axis'",
     "output_type": "error",
     "traceback": [
      "\u001b[0;31m---------------------------------------------------------------------------\u001b[0m",
      "\u001b[0;31mTypeError\u001b[0m                                 Traceback (most recent call last)",
      "\u001b[0;32m<ipython-input-27-5bba7cbd5ade>\u001b[0m in \u001b[0;36m<module>\u001b[0;34m()\u001b[0m\n\u001b[1;32m      1\u001b[0m \u001b[0ma\u001b[0m \u001b[0;34m=\u001b[0m \u001b[0mnp\u001b[0m\u001b[0;34m.\u001b[0m\u001b[0marray\u001b[0m\u001b[0;34m(\u001b[0m\u001b[0;34m[\u001b[0m\u001b[0;34m[\u001b[0m\u001b[0;36m1\u001b[0m\u001b[0;34m,\u001b[0m \u001b[0;36m0\u001b[0m\u001b[0;34m,\u001b[0m \u001b[0;36m0\u001b[0m\u001b[0;34m]\u001b[0m\u001b[0;34m,\u001b[0m \u001b[0;34m[\u001b[0m\u001b[0;36m1\u001b[0m\u001b[0;34m,\u001b[0m \u001b[0;36m0\u001b[0m\u001b[0;34m,\u001b[0m \u001b[0;36m0\u001b[0m\u001b[0;34m]\u001b[0m\u001b[0;34m,\u001b[0m \u001b[0;34m[\u001b[0m\u001b[0;36m2\u001b[0m\u001b[0;34m,\u001b[0m \u001b[0;36m3\u001b[0m\u001b[0;34m,\u001b[0m \u001b[0;36m4\u001b[0m\u001b[0;34m]\u001b[0m\u001b[0;34m]\u001b[0m\u001b[0;34m)\u001b[0m\u001b[0;34m\u001b[0m\u001b[0m\n\u001b[0;32m----> 2\u001b[0;31m \u001b[0mnp\u001b[0m\u001b[0;34m.\u001b[0m\u001b[0munique\u001b[0m\u001b[0;34m(\u001b[0m\u001b[0ma\u001b[0m\u001b[0;34m,\u001b[0m \u001b[0maxis\u001b[0m\u001b[0;34m=\u001b[0m\u001b[0;36m0\u001b[0m\u001b[0;34m)\u001b[0m\u001b[0;34m\u001b[0m\u001b[0m\n\u001b[0m",
      "\u001b[0;31mTypeError\u001b[0m: unique() got an unexpected keyword argument 'axis'"
     ]
    }
   ],
   "source": [
    "a = np.array([[1, 0, 0], [1, 0, 0], [2, 3, 4]])\n",
    "np.unique(a, axis=0)"
   ]
  },
  {
   "cell_type": "code",
   "execution_count": 28,
   "metadata": {},
   "outputs": [
    {
     "ename": "SyntaxError",
     "evalue": "invalid syntax (<ipython-input-28-ca0a516a9e35>, line 5)",
     "output_type": "error",
     "traceback": [
      "\u001b[0;36m  File \u001b[0;32m\"<ipython-input-28-ca0a516a9e35>\"\u001b[0;36m, line \u001b[0;32m5\u001b[0m\n\u001b[0;31m    >>> map(np.asarray, set(map(tuple, t)))\u001b[0m\n\u001b[0m     ^\u001b[0m\n\u001b[0;31mSyntaxError\u001b[0m\u001b[0;31m:\u001b[0m invalid syntax\n"
     ]
    }
   ],
   "source": [
    "t = [np.asarray([1, 2, 3, 4]), \n",
    "         np.asarray([1, 2, 3, 4]), \n",
    "         np.asarray([1, 1, 3, 4])]\n",
    "\n",
    ">>> map(np.asarray, set(map(tuple, t)))"
   ]
  },
  {
   "cell_type": "code",
   "execution_count": null,
   "metadata": {
    "collapsed": true
   },
   "outputs": [],
   "source": []
  }
 ],
 "metadata": {
  "anaconda-cloud": {},
  "kernelspec": {
   "display_name": "Python 3",
   "language": "python",
   "name": "python3"
  },
  "language_info": {
   "codemirror_mode": {
    "name": "ipython",
    "version": 3
   },
   "file_extension": ".py",
   "mimetype": "text/x-python",
   "name": "python",
   "nbconvert_exporter": "python",
   "pygments_lexer": "ipython3",
   "version": "3.5.2"
  }
 },
 "nbformat": 4,
 "nbformat_minor": 1
}
