{
 "cells": [
  {
   "cell_type": "code",
   "execution_count": 1,
   "metadata": {},
   "outputs": [],
   "source": [
    "%matplotlib inline\n",
    "import qinfer as qi\n",
    "#import qutip as qt\n",
    "import numpy as np\n",
    "import scipy as sp\n",
    "import math as mth\n",
    "from IPython.display import display, Math, Latex\n",
    "from functools import partial\n",
    "import matplotlib.pyplot as plt\n",
    "import itertools as itr"
   ]
  },
  {
   "cell_type": "code",
   "execution_count": 2,
   "metadata": {},
   "outputs": [],
   "source": [
    "import logging, warnings\n",
    "import sys, os\n",
    "\n",
    "import datetime\n",
    "import time\n",
    "\n",
    "import pandas as pd"
   ]
  },
  {
   "cell_type": "code",
   "execution_count": 3,
   "metadata": {},
   "outputs": [],
   "source": [
    "import importlib as imp"
   ]
  },
  {
   "cell_type": "code",
   "execution_count": 4,
   "metadata": {},
   "outputs": [],
   "source": [
    "# Add personalized library to PYTHONPATH\n",
    "sys.path.append(os.path.join(\"..\",\"Libraries\",\"QML_lib\"))"
   ]
  },
  {
   "cell_type": "code",
   "execution_count": 5,
   "metadata": {},
   "outputs": [],
   "source": [
    "%run LoggingCode.py"
   ]
  },
  {
   "cell_type": "markdown",
   "metadata": {},
   "source": [
    "Importing Local Function for Hamiltonian learning"
   ]
  },
  {
   "cell_type": "code",
   "execution_count": 6,
   "metadata": {},
   "outputs": [],
   "source": [
    "from Norms import *\n",
    "from IOfuncts import *\n",
    "from EvalLoss import *\n",
    "\n",
    "import ProbeStates as pros\n",
    "import multiPGH as mpgh\n",
    "import GenSimQMD_IQLE as gsi\n",
    "import Evo as evo"
   ]
  },
  {
   "cell_type": "markdown",
   "metadata": {
    "collapsed": true
   },
   "source": [
    "# Model learning functions\n"
   ]
  },
  {
   "cell_type": "code",
   "execution_count": 7,
   "metadata": {},
   "outputs": [],
   "source": [
    "import Utils as uti\n",
    "import Models as mods\n",
    "import BayesF as bayf\n",
    "import ModLearn as mdl\n",
    "import QMD as qmd\n",
    "import QML as qml"
   ]
  },
  {
   "cell_type": "code",
   "execution_count": 8,
   "metadata": {},
   "outputs": [],
   "source": [
    "lst = [evo.sigmax(),evo.sigmay(), evo.sigmaz()]  "
   ]
  },
  {
   "cell_type": "code",
   "execution_count": 9,
   "metadata": {},
   "outputs": [],
   "source": [
    "import TheoMoves2 as mov"
   ]
  },
  {
   "cell_type": "code",
   "execution_count": null,
   "metadata": {},
   "outputs": [],
   "source": []
  },
  {
   "cell_type": "markdown",
   "metadata": {},
   "source": [
    "## Reload when needed"
   ]
  },
  {
   "cell_type": "code",
   "execution_count": 10,
   "metadata": {},
   "outputs": [
    {
     "ename": "NameError",
     "evalue": "name 'reload' is not defined",
     "output_type": "error",
     "traceback": [
      "\u001b[0;31m---------------------------------------------------------------------------\u001b[0m",
      "\u001b[0;31mNameError\u001b[0m                                 Traceback (most recent call last)",
      "\u001b[0;32m<ipython-input-10-3ad59e8dedfc>\u001b[0m in \u001b[0;36m<module>\u001b[0;34m()\u001b[0m\n\u001b[0;32m----> 1\u001b[0;31m \u001b[0mreload\u001b[0m\u001b[0;34m(\u001b[0m\u001b[0mpros\u001b[0m\u001b[0;34m)\u001b[0m\u001b[0;34m\u001b[0m\u001b[0m\n\u001b[0m\u001b[1;32m      2\u001b[0m \u001b[0mreload\u001b[0m\u001b[0;34m(\u001b[0m\u001b[0mmpgh\u001b[0m\u001b[0;34m)\u001b[0m\u001b[0;34m\u001b[0m\u001b[0m\n\u001b[1;32m      3\u001b[0m \u001b[0mreload\u001b[0m\u001b[0;34m(\u001b[0m\u001b[0mgsi\u001b[0m\u001b[0;34m)\u001b[0m\u001b[0;34m\u001b[0m\u001b[0m\n\u001b[1;32m      4\u001b[0m \u001b[0mreload\u001b[0m\u001b[0;34m(\u001b[0m\u001b[0mevo\u001b[0m\u001b[0;34m)\u001b[0m\u001b[0;34m\u001b[0m\u001b[0m\n\u001b[1;32m      5\u001b[0m \u001b[0mreload\u001b[0m\u001b[0;34m(\u001b[0m\u001b[0mmdl\u001b[0m\u001b[0;34m)\u001b[0m\u001b[0;34m\u001b[0m\u001b[0m\n",
      "\u001b[0;31mNameError\u001b[0m: name 'reload' is not defined"
     ]
    }
   ],
   "source": [
    "reload(pros)\n",
    "reload(mpgh)\n",
    "reload(gsi)\n",
    "reload(evo)\n",
    "reload(mdl)\n",
    "reload(uti)\n",
    "reload(mods)\n",
    "reload(bayf)\n",
    "reload(qmd)\n",
    "reload(qml)"
   ]
  },
  {
   "cell_type": "markdown",
   "metadata": {},
   "source": [
    "# MODEL LEARNING TEST"
   ]
  },
  {
   "cell_type": "code",
   "execution_count": 11,
   "metadata": {},
   "outputs": [
    {
     "ename": "NameError",
     "evalue": "name 'reload' is not defined",
     "output_type": "error",
     "traceback": [
      "\u001b[0;31m---------------------------------------------------------------------------\u001b[0m",
      "\u001b[0;31mNameError\u001b[0m                                 Traceback (most recent call last)",
      "\u001b[0;32m<ipython-input-11-32bb18fcdd99>\u001b[0m in \u001b[0;36m<module>\u001b[0;34m()\u001b[0m\n\u001b[0;32m----> 1\u001b[0;31m \u001b[0mreload\u001b[0m\u001b[0;34m(\u001b[0m\u001b[0mmov\u001b[0m\u001b[0;34m)\u001b[0m\u001b[0;34m\u001b[0m\u001b[0m\n\u001b[0m",
      "\u001b[0;31mNameError\u001b[0m: name 'reload' is not defined"
     ]
    }
   ],
   "source": [
    "reload(mov)"
   ]
  },
  {
   "cell_type": "code",
   "execution_count": 12,
   "metadata": {},
   "outputs": [
    {
     "data": {
      "text/html": [
       "<div>\n",
       "<style>\n",
       "    .dataframe thead tr:only-child th {\n",
       "        text-align: right;\n",
       "    }\n",
       "\n",
       "    .dataframe thead th {\n",
       "        text-align: left;\n",
       "    }\n",
       "\n",
       "    .dataframe tbody tr th {\n",
       "        vertical-align: top;\n",
       "    }\n",
       "</style>\n",
       "<table border=\"1\" class=\"dataframe\">\n",
       "  <thead>\n",
       "    <tr style=\"text-align: right;\">\n",
       "      <th></th>\n",
       "      <th>&lt;Name&gt;</th>\n",
       "      <th>All_Operators</th>\n",
       "      <th>LogL_Ext</th>\n",
       "      <th>N_Qbit</th>\n",
       "      <th>N_params</th>\n",
       "      <th>Origin_epoch</th>\n",
       "      <th>QML_Class</th>\n",
       "      <th>RootNode</th>\n",
       "      <th>Selected</th>\n",
       "      <th>Status</th>\n",
       "    </tr>\n",
       "  </thead>\n",
       "  <tbody>\n",
       "    <tr>\n",
       "      <th>0</th>\n",
       "      <td>[x0]</td>\n",
       "      <td>[[[0j, (1+0j)], [(1+0j), 0j]]]</td>\n",
       "      <td>None</td>\n",
       "      <td>[0]</td>\n",
       "      <td>1</td>\n",
       "      <td>0</td>\n",
       "      <td>None</td>\n",
       "      <td>NaN</td>\n",
       "      <td>False</td>\n",
       "      <td>Ready</td>\n",
       "    </tr>\n",
       "    <tr>\n",
       "      <th>1</th>\n",
       "      <td>[y0]</td>\n",
       "      <td>[[[0j, -1j], [1j, 0j]]]</td>\n",
       "      <td>None</td>\n",
       "      <td>[0]</td>\n",
       "      <td>1</td>\n",
       "      <td>0</td>\n",
       "      <td>None</td>\n",
       "      <td>NaN</td>\n",
       "      <td>False</td>\n",
       "      <td>Ready</td>\n",
       "    </tr>\n",
       "    <tr>\n",
       "      <th>2</th>\n",
       "      <td>[z0]</td>\n",
       "      <td>[[[(1+0j), 0j], [0j, (-1+0j)]]]</td>\n",
       "      <td>None</td>\n",
       "      <td>[0]</td>\n",
       "      <td>1</td>\n",
       "      <td>0</td>\n",
       "      <td>None</td>\n",
       "      <td>NaN</td>\n",
       "      <td>False</td>\n",
       "      <td>Ready</td>\n",
       "    </tr>\n",
       "  </tbody>\n",
       "</table>\n",
       "</div>"
      ],
      "text/plain": [
       "  <Name>                    All_Operators LogL_Ext N_Qbit  N_params  \\\n",
       "0   [x0]   [[[0j, (1+0j)], [(1+0j), 0j]]]     None    [0]         1   \n",
       "1   [y0]          [[[0j, -1j], [1j, 0j]]]     None    [0]         1   \n",
       "2   [z0]  [[[(1+0j), 0j], [0j, (-1+0j)]]]     None    [0]         1   \n",
       "\n",
       "   Origin_epoch QML_Class RootNode  Selected Status  \n",
       "0             0      None      NaN     False  Ready  \n",
       "1             0      None      NaN     False  Ready  \n",
       "2             0      None      NaN     False  Ready  "
      ]
     },
     "execution_count": 12,
     "metadata": {},
     "output_type": "execute_result"
    }
   ],
   "source": [
    "DB = mov.InitialiseDB(RootN_Qbit = [0])\n",
    "DB"
   ]
  },
  {
   "cell_type": "code",
   "execution_count": 13,
   "metadata": {},
   "outputs": [
    {
     "data": {
      "text/plain": [
       "[array([[[ 0.+0.j,  1.+0.j],\n",
       "         [ 1.+0.j,  0.+0.j]]])]"
      ]
     },
     "execution_count": 13,
     "metadata": {},
     "output_type": "execute_result"
    }
   ],
   "source": [
    "# Use to check correctness of operators and list/array structure\n",
    "mov.Find_OpEXName(DB, ['x0'])"
   ]
  },
  {
   "cell_type": "markdown",
   "metadata": {},
   "source": [
    "From the comment in the Move file it seems this function create parameters but is actually creating a new group of models with bigger number of parameters but same number of qubits. "
   ]
  },
  {
   "cell_type": "code",
   "execution_count": 14,
   "metadata": {
    "scrolled": true
   },
   "outputs": [
    {
     "name": "stdout",
     "output_type": "stream",
     "text": [
      "Max Param being analysed for highest qubit operations: 1\n"
     ]
    },
    {
     "data": {
      "text/html": [
       "<div>\n",
       "<style>\n",
       "    .dataframe thead tr:only-child th {\n",
       "        text-align: right;\n",
       "    }\n",
       "\n",
       "    .dataframe thead th {\n",
       "        text-align: left;\n",
       "    }\n",
       "\n",
       "    .dataframe tbody tr th {\n",
       "        vertical-align: top;\n",
       "    }\n",
       "</style>\n",
       "<table border=\"1\" class=\"dataframe\">\n",
       "  <thead>\n",
       "    <tr style=\"text-align: right;\">\n",
       "      <th></th>\n",
       "      <th>&lt;Name&gt;</th>\n",
       "      <th>All_Operators</th>\n",
       "      <th>LogL_Ext</th>\n",
       "      <th>N_Qbit</th>\n",
       "      <th>N_params</th>\n",
       "      <th>Origin_epoch</th>\n",
       "      <th>QML_Class</th>\n",
       "      <th>RootNode</th>\n",
       "      <th>Selected</th>\n",
       "      <th>Status</th>\n",
       "    </tr>\n",
       "  </thead>\n",
       "  <tbody>\n",
       "    <tr>\n",
       "      <th>0</th>\n",
       "      <td>[x0]</td>\n",
       "      <td>[[[0j, (1+0j)], [(1+0j), 0j]]]</td>\n",
       "      <td>None</td>\n",
       "      <td>[0]</td>\n",
       "      <td>1</td>\n",
       "      <td>0</td>\n",
       "      <td>None</td>\n",
       "      <td>NaN</td>\n",
       "      <td>False</td>\n",
       "      <td>Ready</td>\n",
       "    </tr>\n",
       "    <tr>\n",
       "      <th>1</th>\n",
       "      <td>[y0]</td>\n",
       "      <td>[[[0j, -1j], [1j, 0j]]]</td>\n",
       "      <td>None</td>\n",
       "      <td>[0]</td>\n",
       "      <td>1</td>\n",
       "      <td>0</td>\n",
       "      <td>None</td>\n",
       "      <td>NaN</td>\n",
       "      <td>False</td>\n",
       "      <td>Ready</td>\n",
       "    </tr>\n",
       "    <tr>\n",
       "      <th>2</th>\n",
       "      <td>[z0]</td>\n",
       "      <td>[[[(1+0j), 0j], [0j, (-1+0j)]]]</td>\n",
       "      <td>None</td>\n",
       "      <td>[0]</td>\n",
       "      <td>1</td>\n",
       "      <td>0</td>\n",
       "      <td>None</td>\n",
       "      <td>NaN</td>\n",
       "      <td>False</td>\n",
       "      <td>Ready</td>\n",
       "    </tr>\n",
       "    <tr>\n",
       "      <th>3</th>\n",
       "      <td>[x0y0]</td>\n",
       "      <td>[[[0j, (1+0j)], [(1+0j), 0j]], [[0j, -1j], [1j...</td>\n",
       "      <td>None</td>\n",
       "      <td>[0]</td>\n",
       "      <td>2</td>\n",
       "      <td>0</td>\n",
       "      <td>None</td>\n",
       "      <td>NaN</td>\n",
       "      <td>False</td>\n",
       "      <td>Ready</td>\n",
       "    </tr>\n",
       "    <tr>\n",
       "      <th>4</th>\n",
       "      <td>[x0z0]</td>\n",
       "      <td>[[[0j, (1+0j)], [(1+0j), 0j]], [[(1+0j), 0j], ...</td>\n",
       "      <td>None</td>\n",
       "      <td>[0]</td>\n",
       "      <td>2</td>\n",
       "      <td>0</td>\n",
       "      <td>None</td>\n",
       "      <td>NaN</td>\n",
       "      <td>False</td>\n",
       "      <td>Ready</td>\n",
       "    </tr>\n",
       "    <tr>\n",
       "      <th>5</th>\n",
       "      <td>[y0z0]</td>\n",
       "      <td>[[[0j, -1j], [1j, 0j]], [[(1+0j), 0j], [0j, (-...</td>\n",
       "      <td>None</td>\n",
       "      <td>[0]</td>\n",
       "      <td>2</td>\n",
       "      <td>0</td>\n",
       "      <td>None</td>\n",
       "      <td>NaN</td>\n",
       "      <td>False</td>\n",
       "      <td>Ready</td>\n",
       "    </tr>\n",
       "  </tbody>\n",
       "</table>\n",
       "</div>"
      ],
      "text/plain": [
       "   <Name>                                      All_Operators LogL_Ext N_Qbit  \\\n",
       "0    [x0]                     [[[0j, (1+0j)], [(1+0j), 0j]]]     None    [0]   \n",
       "1    [y0]                            [[[0j, -1j], [1j, 0j]]]     None    [0]   \n",
       "2    [z0]                    [[[(1+0j), 0j], [0j, (-1+0j)]]]     None    [0]   \n",
       "3  [x0y0]  [[[0j, (1+0j)], [(1+0j), 0j]], [[0j, -1j], [1j...     None    [0]   \n",
       "4  [x0z0]  [[[0j, (1+0j)], [(1+0j), 0j]], [[(1+0j), 0j], ...     None    [0]   \n",
       "5  [y0z0]  [[[0j, -1j], [1j, 0j]], [[(1+0j), 0j], [0j, (-...     None    [0]   \n",
       "\n",
       "   N_params  Origin_epoch QML_Class RootNode  Selected Status  \n",
       "0         1             0      None      NaN     False  Ready  \n",
       "1         1             0      None      NaN     False  Ready  \n",
       "2         1             0      None      NaN     False  Ready  \n",
       "3         2             0      None      NaN     False  Ready  \n",
       "4         2             0      None      NaN     False  Ready  \n",
       "5         2             0      None      NaN     False  Ready  "
      ]
     },
     "execution_count": 14,
     "metadata": {},
     "output_type": "execute_result"
    }
   ],
   "source": [
    "DB = mov.AddDBnewNparam_SameQ(DB, epoch = 0, RootN_Qbit = [0], MaxParamRate =3)\n",
    "DB"
   ]
  },
  {
   "cell_type": "markdown",
   "metadata": {},
   "source": [
    "add $\\sigma_i \\otimes \\sigma_j$"
   ]
  },
  {
   "cell_type": "markdown",
   "metadata": {},
   "source": [
    "Add single interaction"
   ]
  },
  {
   "cell_type": "code",
   "execution_count": 15,
   "metadata": {},
   "outputs": [
    {
     "name": "stderr",
     "output_type": "stream",
     "text": [
      "../Libraries/QML_lib/TheoMoves2.py:367: UserWarning: Aborted: at least one inter_qbit selected yet to initialise, or qbits being skipped\n",
      "  warnings.warn(\"Aborted: at least one inter_qbit selected yet to initialise, or qbits being skipped\")\n"
     ]
    },
    {
     "data": {
      "text/html": [
       "<div>\n",
       "<style>\n",
       "    .dataframe thead tr:only-child th {\n",
       "        text-align: right;\n",
       "    }\n",
       "\n",
       "    .dataframe thead th {\n",
       "        text-align: left;\n",
       "    }\n",
       "\n",
       "    .dataframe tbody tr th {\n",
       "        vertical-align: top;\n",
       "    }\n",
       "</style>\n",
       "<table border=\"1\" class=\"dataframe\">\n",
       "  <thead>\n",
       "    <tr style=\"text-align: right;\">\n",
       "      <th></th>\n",
       "      <th>&lt;Name&gt;</th>\n",
       "      <th>All_Operators</th>\n",
       "      <th>LogL_Ext</th>\n",
       "      <th>N_Qbit</th>\n",
       "      <th>N_params</th>\n",
       "      <th>Origin_epoch</th>\n",
       "      <th>QML_Class</th>\n",
       "      <th>RootNode</th>\n",
       "      <th>Selected</th>\n",
       "      <th>Status</th>\n",
       "    </tr>\n",
       "  </thead>\n",
       "  <tbody>\n",
       "    <tr>\n",
       "      <th>0</th>\n",
       "      <td>[x0]</td>\n",
       "      <td>[[[0j, (1+0j)], [(1+0j), 0j]]]</td>\n",
       "      <td>None</td>\n",
       "      <td>[0]</td>\n",
       "      <td>1</td>\n",
       "      <td>0</td>\n",
       "      <td>None</td>\n",
       "      <td>NaN</td>\n",
       "      <td>False</td>\n",
       "      <td>Ready</td>\n",
       "    </tr>\n",
       "    <tr>\n",
       "      <th>1</th>\n",
       "      <td>[y0]</td>\n",
       "      <td>[[[0j, -1j], [1j, 0j]]]</td>\n",
       "      <td>None</td>\n",
       "      <td>[0]</td>\n",
       "      <td>1</td>\n",
       "      <td>0</td>\n",
       "      <td>None</td>\n",
       "      <td>NaN</td>\n",
       "      <td>False</td>\n",
       "      <td>Ready</td>\n",
       "    </tr>\n",
       "    <tr>\n",
       "      <th>2</th>\n",
       "      <td>[z0]</td>\n",
       "      <td>[[[(1+0j), 0j], [0j, (-1+0j)]]]</td>\n",
       "      <td>None</td>\n",
       "      <td>[0]</td>\n",
       "      <td>1</td>\n",
       "      <td>0</td>\n",
       "      <td>None</td>\n",
       "      <td>NaN</td>\n",
       "      <td>False</td>\n",
       "      <td>Ready</td>\n",
       "    </tr>\n",
       "    <tr>\n",
       "      <th>3</th>\n",
       "      <td>[x0y0]</td>\n",
       "      <td>[[[0j, (1+0j)], [(1+0j), 0j]], [[0j, -1j], [1j...</td>\n",
       "      <td>None</td>\n",
       "      <td>[0]</td>\n",
       "      <td>2</td>\n",
       "      <td>0</td>\n",
       "      <td>None</td>\n",
       "      <td>NaN</td>\n",
       "      <td>False</td>\n",
       "      <td>Ready</td>\n",
       "    </tr>\n",
       "    <tr>\n",
       "      <th>4</th>\n",
       "      <td>[x0z0]</td>\n",
       "      <td>[[[0j, (1+0j)], [(1+0j), 0j]], [[(1+0j), 0j], ...</td>\n",
       "      <td>None</td>\n",
       "      <td>[0]</td>\n",
       "      <td>2</td>\n",
       "      <td>0</td>\n",
       "      <td>None</td>\n",
       "      <td>NaN</td>\n",
       "      <td>False</td>\n",
       "      <td>Ready</td>\n",
       "    </tr>\n",
       "    <tr>\n",
       "      <th>5</th>\n",
       "      <td>[y0z0]</td>\n",
       "      <td>[[[0j, -1j], [1j, 0j]], [[(1+0j), 0j], [0j, (-...</td>\n",
       "      <td>None</td>\n",
       "      <td>[0]</td>\n",
       "      <td>2</td>\n",
       "      <td>0</td>\n",
       "      <td>None</td>\n",
       "      <td>NaN</td>\n",
       "      <td>False</td>\n",
       "      <td>Ready</td>\n",
       "    </tr>\n",
       "  </tbody>\n",
       "</table>\n",
       "</div>"
      ],
      "text/plain": [
       "   <Name>                                      All_Operators LogL_Ext N_Qbit  \\\n",
       "0    [x0]                     [[[0j, (1+0j)], [(1+0j), 0j]]]     None    [0]   \n",
       "1    [y0]                            [[[0j, -1j], [1j, 0j]]]     None    [0]   \n",
       "2    [z0]                    [[[(1+0j), 0j], [0j, (-1+0j)]]]     None    [0]   \n",
       "3  [x0y0]  [[[0j, (1+0j)], [(1+0j), 0j]], [[0j, -1j], [1j...     None    [0]   \n",
       "4  [x0z0]  [[[0j, (1+0j)], [(1+0j), 0j]], [[(1+0j), 0j], ...     None    [0]   \n",
       "5  [y0z0]  [[[0j, -1j], [1j, 0j]], [[(1+0j), 0j], [0j, (-...     None    [0]   \n",
       "\n",
       "   N_params  Origin_epoch QML_Class RootNode  Selected Status  \n",
       "0         1             0      None      NaN     False  Ready  \n",
       "1         1             0      None      NaN     False  Ready  \n",
       "2         1             0      None      NaN     False  Ready  \n",
       "3         2             0      None      NaN     False  Ready  \n",
       "4         2             0      None      NaN     False  Ready  \n",
       "5         2             0      None      NaN     False  Ready  "
      ]
     },
     "execution_count": 15,
     "metadata": {},
     "output_type": "execute_result"
    }
   ],
   "source": [
    "DB = mov.AddSingleInteraction_NewQ(DB, epoch=1, inter_qbits=[1,2], inttype = ['x','x'], start_model = None, dim = None)\n",
    "DB"
   ]
  },
  {
   "cell_type": "code",
   "execution_count": 16,
   "metadata": {},
   "outputs": [
    {
     "name": "stdout",
     "output_type": "stream",
     "text": [
      "New Qbit introduced, expanding Hilbert space for new models to dim = 2\n"
     ]
    },
    {
     "data": {
      "text/html": [
       "<div>\n",
       "<style>\n",
       "    .dataframe thead tr:only-child th {\n",
       "        text-align: right;\n",
       "    }\n",
       "\n",
       "    .dataframe thead th {\n",
       "        text-align: left;\n",
       "    }\n",
       "\n",
       "    .dataframe tbody tr th {\n",
       "        vertical-align: top;\n",
       "    }\n",
       "</style>\n",
       "<table border=\"1\" class=\"dataframe\">\n",
       "  <thead>\n",
       "    <tr style=\"text-align: right;\">\n",
       "      <th></th>\n",
       "      <th>&lt;Name&gt;</th>\n",
       "      <th>All_Operators</th>\n",
       "      <th>LogL_Ext</th>\n",
       "      <th>N_Qbit</th>\n",
       "      <th>N_params</th>\n",
       "      <th>Origin_epoch</th>\n",
       "      <th>QML_Class</th>\n",
       "      <th>RootNode</th>\n",
       "      <th>Selected</th>\n",
       "      <th>Status</th>\n",
       "    </tr>\n",
       "  </thead>\n",
       "  <tbody>\n",
       "    <tr>\n",
       "      <th>0</th>\n",
       "      <td>[x0]</td>\n",
       "      <td>[[[0j, (1+0j)], [(1+0j), 0j]]]</td>\n",
       "      <td>None</td>\n",
       "      <td>[0]</td>\n",
       "      <td>1</td>\n",
       "      <td>0</td>\n",
       "      <td>None</td>\n",
       "      <td>NaN</td>\n",
       "      <td>False</td>\n",
       "      <td>Ready</td>\n",
       "    </tr>\n",
       "    <tr>\n",
       "      <th>1</th>\n",
       "      <td>[y0]</td>\n",
       "      <td>[[[0j, -1j], [1j, 0j]]]</td>\n",
       "      <td>None</td>\n",
       "      <td>[0]</td>\n",
       "      <td>1</td>\n",
       "      <td>0</td>\n",
       "      <td>None</td>\n",
       "      <td>NaN</td>\n",
       "      <td>False</td>\n",
       "      <td>Ready</td>\n",
       "    </tr>\n",
       "    <tr>\n",
       "      <th>2</th>\n",
       "      <td>[z0]</td>\n",
       "      <td>[[[(1+0j), 0j], [0j, (-1+0j)]]]</td>\n",
       "      <td>None</td>\n",
       "      <td>[0]</td>\n",
       "      <td>1</td>\n",
       "      <td>0</td>\n",
       "      <td>None</td>\n",
       "      <td>NaN</td>\n",
       "      <td>False</td>\n",
       "      <td>Ready</td>\n",
       "    </tr>\n",
       "    <tr>\n",
       "      <th>3</th>\n",
       "      <td>[x0y0]</td>\n",
       "      <td>[[[0j, (1+0j)], [(1+0j), 0j]], [[0j, -1j], [1j...</td>\n",
       "      <td>None</td>\n",
       "      <td>[0]</td>\n",
       "      <td>2</td>\n",
       "      <td>0</td>\n",
       "      <td>None</td>\n",
       "      <td>NaN</td>\n",
       "      <td>False</td>\n",
       "      <td>Ready</td>\n",
       "    </tr>\n",
       "    <tr>\n",
       "      <th>4</th>\n",
       "      <td>[x0z0]</td>\n",
       "      <td>[[[0j, (1+0j)], [(1+0j), 0j]], [[(1+0j), 0j], ...</td>\n",
       "      <td>None</td>\n",
       "      <td>[0]</td>\n",
       "      <td>2</td>\n",
       "      <td>0</td>\n",
       "      <td>None</td>\n",
       "      <td>NaN</td>\n",
       "      <td>False</td>\n",
       "      <td>Ready</td>\n",
       "    </tr>\n",
       "    <tr>\n",
       "      <th>5</th>\n",
       "      <td>[y0z0]</td>\n",
       "      <td>[[[0j, -1j], [1j, 0j]], [[(1+0j), 0j], [0j, (-...</td>\n",
       "      <td>None</td>\n",
       "      <td>[0]</td>\n",
       "      <td>2</td>\n",
       "      <td>0</td>\n",
       "      <td>None</td>\n",
       "      <td>NaN</td>\n",
       "      <td>False</td>\n",
       "      <td>Ready</td>\n",
       "    </tr>\n",
       "    <tr>\n",
       "      <th>6</th>\n",
       "      <td>[xTx01]</td>\n",
       "      <td>[[[0j, 0j, 0j, (1+0j)], [0j, 0j, (1+0j), 0j], ...</td>\n",
       "      <td>None</td>\n",
       "      <td>[0, 1]</td>\n",
       "      <td>1</td>\n",
       "      <td>1</td>\n",
       "      <td>None</td>\n",
       "      <td>NaN</td>\n",
       "      <td>False</td>\n",
       "      <td>Ready</td>\n",
       "    </tr>\n",
       "  </tbody>\n",
       "</table>\n",
       "</div>"
      ],
      "text/plain": [
       "    <Name>                                      All_Operators LogL_Ext  \\\n",
       "0     [x0]                     [[[0j, (1+0j)], [(1+0j), 0j]]]     None   \n",
       "1     [y0]                            [[[0j, -1j], [1j, 0j]]]     None   \n",
       "2     [z0]                    [[[(1+0j), 0j], [0j, (-1+0j)]]]     None   \n",
       "3   [x0y0]  [[[0j, (1+0j)], [(1+0j), 0j]], [[0j, -1j], [1j...     None   \n",
       "4   [x0z0]  [[[0j, (1+0j)], [(1+0j), 0j]], [[(1+0j), 0j], ...     None   \n",
       "5   [y0z0]  [[[0j, -1j], [1j, 0j]], [[(1+0j), 0j], [0j, (-...     None   \n",
       "6  [xTx01]  [[[0j, 0j, 0j, (1+0j)], [0j, 0j, (1+0j), 0j], ...     None   \n",
       "\n",
       "   N_Qbit  N_params  Origin_epoch QML_Class RootNode  Selected Status  \n",
       "0     [0]         1             0      None      NaN     False  Ready  \n",
       "1     [0]         1             0      None      NaN     False  Ready  \n",
       "2     [0]         1             0      None      NaN     False  Ready  \n",
       "3     [0]         2             0      None      NaN     False  Ready  \n",
       "4     [0]         2             0      None      NaN     False  Ready  \n",
       "5     [0]         2             0      None      NaN     False  Ready  \n",
       "6  [0, 1]         1             1      None      NaN     False  Ready  "
      ]
     },
     "execution_count": 16,
     "metadata": {},
     "output_type": "execute_result"
    }
   ],
   "source": [
    "DB = mov.AddSingleInteraction_NewQ(DB, epoch=1, inter_qbits=[0,1], inttype = ['x','x'], start_model = None, dim = None)\n",
    "DB"
   ]
  },
  {
   "cell_type": "markdown",
   "metadata": {},
   "source": [
    "This is adding tensor product components between qubit 0 and 1 so is moving to consider a higher number of qubits"
   ]
  },
  {
   "cell_type": "code",
   "execution_count": null,
   "metadata": {},
   "outputs": [],
   "source": [
    "DB = mov.AddInteraction_NewQ(DB, epoch = 0, dim=2, inter_qbits = [0,1], type = 'scalar')\n",
    "DB"
   ]
  },
  {
   "cell_type": "code",
   "execution_count": null,
   "metadata": {},
   "outputs": [],
   "source": [
    "DB"
   ]
  },
  {
   "cell_type": "code",
   "execution_count": 17,
   "metadata": {},
   "outputs": [
    {
     "data": {
      "text/html": [
       "<div>\n",
       "<style>\n",
       "    .dataframe thead tr:only-child th {\n",
       "        text-align: right;\n",
       "    }\n",
       "\n",
       "    .dataframe thead th {\n",
       "        text-align: left;\n",
       "    }\n",
       "\n",
       "    .dataframe tbody tr th {\n",
       "        vertical-align: top;\n",
       "    }\n",
       "</style>\n",
       "<table border=\"1\" class=\"dataframe\">\n",
       "  <thead>\n",
       "    <tr style=\"text-align: right;\">\n",
       "      <th></th>\n",
       "      <th>&lt;Name&gt;</th>\n",
       "      <th>All_Operators</th>\n",
       "      <th>LogL_Ext</th>\n",
       "      <th>N_Qbit</th>\n",
       "      <th>N_params</th>\n",
       "      <th>Origin_epoch</th>\n",
       "      <th>QML_Class</th>\n",
       "      <th>RootNode</th>\n",
       "      <th>Selected</th>\n",
       "      <th>Status</th>\n",
       "    </tr>\n",
       "  </thead>\n",
       "  <tbody>\n",
       "    <tr>\n",
       "      <th>0</th>\n",
       "      <td>[x0]</td>\n",
       "      <td>[[[0j, (1+0j)], [(1+0j), 0j]]]</td>\n",
       "      <td>None</td>\n",
       "      <td>[0]</td>\n",
       "      <td>1</td>\n",
       "      <td>0</td>\n",
       "      <td>None</td>\n",
       "      <td>NaN</td>\n",
       "      <td>False</td>\n",
       "      <td>Ready</td>\n",
       "    </tr>\n",
       "    <tr>\n",
       "      <th>1</th>\n",
       "      <td>[y0]</td>\n",
       "      <td>[[[0j, -1j], [1j, 0j]]]</td>\n",
       "      <td>None</td>\n",
       "      <td>[0]</td>\n",
       "      <td>1</td>\n",
       "      <td>0</td>\n",
       "      <td>None</td>\n",
       "      <td>NaN</td>\n",
       "      <td>False</td>\n",
       "      <td>Ready</td>\n",
       "    </tr>\n",
       "    <tr>\n",
       "      <th>2</th>\n",
       "      <td>[z0]</td>\n",
       "      <td>[[[(1+0j), 0j], [0j, (-1+0j)]]]</td>\n",
       "      <td>None</td>\n",
       "      <td>[0]</td>\n",
       "      <td>1</td>\n",
       "      <td>0</td>\n",
       "      <td>None</td>\n",
       "      <td>NaN</td>\n",
       "      <td>False</td>\n",
       "      <td>Ready</td>\n",
       "    </tr>\n",
       "    <tr>\n",
       "      <th>3</th>\n",
       "      <td>[x0y0]</td>\n",
       "      <td>[[[0j, (1+0j)], [(1+0j), 0j]], [[0j, -1j], [1j...</td>\n",
       "      <td>None</td>\n",
       "      <td>[0]</td>\n",
       "      <td>2</td>\n",
       "      <td>0</td>\n",
       "      <td>None</td>\n",
       "      <td>NaN</td>\n",
       "      <td>False</td>\n",
       "      <td>Ready</td>\n",
       "    </tr>\n",
       "    <tr>\n",
       "      <th>4</th>\n",
       "      <td>[x0z0]</td>\n",
       "      <td>[[[0j, (1+0j)], [(1+0j), 0j]], [[(1+0j), 0j], ...</td>\n",
       "      <td>None</td>\n",
       "      <td>[0]</td>\n",
       "      <td>2</td>\n",
       "      <td>0</td>\n",
       "      <td>None</td>\n",
       "      <td>NaN</td>\n",
       "      <td>False</td>\n",
       "      <td>Ready</td>\n",
       "    </tr>\n",
       "    <tr>\n",
       "      <th>5</th>\n",
       "      <td>[y0z0]</td>\n",
       "      <td>[[[0j, -1j], [1j, 0j]], [[(1+0j), 0j], [0j, (-...</td>\n",
       "      <td>None</td>\n",
       "      <td>[0]</td>\n",
       "      <td>2</td>\n",
       "      <td>0</td>\n",
       "      <td>None</td>\n",
       "      <td>NaN</td>\n",
       "      <td>False</td>\n",
       "      <td>Ready</td>\n",
       "    </tr>\n",
       "    <tr>\n",
       "      <th>6</th>\n",
       "      <td>[xTx01]</td>\n",
       "      <td>[[[0j, 0j, 0j, (1+0j)], [0j, 0j, (1+0j), 0j], ...</td>\n",
       "      <td>None</td>\n",
       "      <td>[0, 1]</td>\n",
       "      <td>1</td>\n",
       "      <td>1</td>\n",
       "      <td>None</td>\n",
       "      <td>NaN</td>\n",
       "      <td>False</td>\n",
       "      <td>Ready</td>\n",
       "    </tr>\n",
       "  </tbody>\n",
       "</table>\n",
       "</div>"
      ],
      "text/plain": [
       "    <Name>                                      All_Operators LogL_Ext  \\\n",
       "0     [x0]                     [[[0j, (1+0j)], [(1+0j), 0j]]]     None   \n",
       "1     [y0]                            [[[0j, -1j], [1j, 0j]]]     None   \n",
       "2     [z0]                    [[[(1+0j), 0j], [0j, (-1+0j)]]]     None   \n",
       "3   [x0y0]  [[[0j, (1+0j)], [(1+0j), 0j]], [[0j, -1j], [1j...     None   \n",
       "4   [x0z0]  [[[0j, (1+0j)], [(1+0j), 0j]], [[(1+0j), 0j], ...     None   \n",
       "5   [y0z0]  [[[0j, -1j], [1j, 0j]], [[(1+0j), 0j], [0j, (-...     None   \n",
       "6  [xTx01]  [[[0j, 0j, 0j, (1+0j)], [0j, 0j, (1+0j), 0j], ...     None   \n",
       "\n",
       "   N_Qbit  N_params  Origin_epoch QML_Class RootNode  Selected Status  \n",
       "0     [0]         1             0      None      NaN     False  Ready  \n",
       "1     [0]         1             0      None      NaN     False  Ready  \n",
       "2     [0]         1             0      None      NaN     False  Ready  \n",
       "3     [0]         2             0      None      NaN     False  Ready  \n",
       "4     [0]         2             0      None      NaN     False  Ready  \n",
       "5     [0]         2             0      None      NaN     False  Ready  \n",
       "6  [0, 1]         1             1      None      NaN     False  Ready  "
      ]
     },
     "execution_count": 17,
     "metadata": {},
     "output_type": "execute_result"
    }
   ],
   "source": [
    "DB.loc[ [ 0 in DB['N_Qbit'][i] and 'T' not in DB['<Name>'][i] for i in range(len(DB['Status']))] ]"
   ]
  },
  {
   "cell_type": "code",
   "execution_count": null,
   "metadata": {},
   "outputs": [],
   "source": [
    "mov.CheckRootMaxParam(DB, [0])"
   ]
  },
  {
   "cell_type": "code",
   "execution_count": null,
   "metadata": {},
   "outputs": [],
   "source": [
    "# Use to check correctness of operators and list/array structure\n",
    "list(GlobalDB.loc[GlobalDB['<Name>'] == 'zTz12'][\"All_Operators\"])"
   ]
  },
  {
   "cell_type": "code",
   "execution_count": null,
   "metadata": {
    "scrolled": true
   },
   "outputs": [],
   "source": [
    "GlobalDB = mov.AddComboOp_NewQ(GlobalDB, epoch = 0, dim=2, inter_qbits = [0,1], type = 'scalar', symop=False)\n",
    "GlobalDB"
   ]
  },
  {
   "cell_type": "code",
   "execution_count": null,
   "metadata": {},
   "outputs": [],
   "source": [
    "# Use to check correctness of operators and list/array structure\n",
    "list(GlobalDB.loc[GlobalDB['<Name>'] == 'xTx01x0'][\"All_Operators\"])"
   ]
  },
  {
   "cell_type": "code",
   "execution_count": null,
   "metadata": {
    "collapsed": true
   },
   "outputs": [],
   "source": []
  }
 ],
 "metadata": {
  "anaconda-cloud": {},
  "kernelspec": {
   "display_name": "Python 3",
   "language": "python",
   "name": "python3"
  },
  "language_info": {
   "codemirror_mode": {
    "name": "ipython",
    "version": 3
   },
   "file_extension": ".py",
   "mimetype": "text/x-python",
   "name": "python",
   "nbconvert_exporter": "python",
   "pygments_lexer": "ipython3",
   "version": "3.5.2"
  }
 },
 "nbformat": 4,
 "nbformat_minor": 1
}
