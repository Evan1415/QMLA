{
 "cells": [
  {
   "cell_type": "code",
   "execution_count": 879,
   "metadata": {},
   "outputs": [],
   "source": [
    "import numpy as np\n",
    "import itertools as itr\n",
    "\n",
    "import os as os\n",
    "import sys as sys \n",
    "import pandas as pd\n",
    "import warnings\n",
    "sys.path.append(os.path.join(\"..\",\"Libraries\",\"QML_lib\"))\n",
    "import Evo as evo\n",
    "\n",
    "global paulis_list\n",
    "paulis_list = {'i' : np.eye(2), 'x' : evo.sigmax(), 'y' : evo.sigmay(), 'z' : evo.sigmaz()}\n",
    "\n",
    "import hashlib"
   ]
  },
  {
   "cell_type": "markdown",
   "metadata": {},
   "source": [
    "# Naming Convention\n",
    "### Definitions"
   ]
  },
  {
   "cell_type": "code",
   "execution_count": 642,
   "metadata": {},
   "outputs": [],
   "source": [
    "class operator():\n",
    "    # Better to have this info in a DB than recalculating when called?\n",
    "    def __init__(self, name): \n",
    "        self.name = name\n",
    "    \n",
    "    @property\n",
    "    def constituents_names(self):\n",
    "        t_str, p_str, max_t, max_p = get_t_p_strings(self.name)\n",
    "        paulis_list = {'i' : np.eye(2), 'x' : evo.sigmax(), 'y' : evo.sigmay(), 'z' : evo.sigmaz()}\n",
    "        if(max_t >= max_p):\n",
    "            #constituent_names.append(self.name)\n",
    "            return [self.name]\n",
    "        else: \n",
    "            return self.name.split(p_str)\n",
    "            #constituent_names = self.name.split(p_str)\n",
    "        #return constituent_names        \n",
    "\n",
    "    @property\n",
    "    def num_qubits(self):\n",
    "        return get_num_qubits(self.name)\n",
    "        \n",
    "    @property\n",
    "    def constituents_operators(self):\n",
    "        ops = []\n",
    "        for i in self.constituents_names:\n",
    "            ops.append(compute(i))\n",
    "        return ops\n",
    "\n",
    "    @property\n",
    "    def num_constituents(self):\n",
    "        # 1 param per constituent?\n",
    "        return len(self.constituents_names)\n",
    "    \n",
    "    @property \n",
    "    def matrix(self):\n",
    "        mtx = empty_array_of_same_dim(self.name)\n",
    "        #dim = 2**self.num_qubits\n",
    "        #print(\"Constructing matrix of dim: \", dim)\n",
    "        #mtx = np.zeros([dim, dim], np.complex128)\n",
    "        for i in self.constituents_operators:\n",
    "            mtx += i\n",
    "        return mtx\n",
    "    @property\n",
    "    def qubits_acted_on(self):\n",
    "        return list_used_qubits(self.name)\n",
    "   \n",
    "    @property \n",
    "    def two_to_power_used_qubits_sum(self):\n",
    "        running_sum = 0\n",
    "        for x in list_used_qubits(self.name):\n",
    "            running_sum += 2**x\n",
    "        return running_sum\n",
    "\n",
    "    @property\n",
    "    def alph_name(self):\n",
    "        return alph(self.name)\n",
    "    \n",
    "    \n",
    "    def test_const(self):\n",
    "        for i in self.constituents_operators:\n",
    "            print(i)\n",
    "            \n",
    "    \n",
    "    def interactions_on(self):\n",
    "        # work out which qubits have actions; list ?\n",
    "        return 0\n",
    "\n",
    "def get_num_qubits(name):\n",
    "    max_t_found = 0 \n",
    "    t_str=''\n",
    "    while name.count(t_str+'T')>0:\n",
    "        t_str=t_str+'T'\n",
    "\n",
    "    num_qubits = len(t_str) + 1\n",
    "    return num_qubits\n",
    "    \n",
    "\n",
    "def list_used_qubits(name):\n",
    "    max_t, t_str = find_max_letter(name, \"T\")\n",
    "    max_p, p_str = find_max_letter(name, \"P\")\n",
    "    running_list = []\n",
    "\n",
    "    if max_p >= max_t:\n",
    "        list_by_p_sep = []\n",
    "        sep_by_p = name.split(p_str)\n",
    "        for x in sep_by_p:\n",
    "            list_by_p_sep.append(get_acted_on_qubits(x))\n",
    "\n",
    "        for i in range(len(list_by_p_sep)):\n",
    "            to_add= list(set(list_by_p_sep[i]) - set(running_list))\n",
    "            running_list = running_list + to_add\n",
    "\n",
    "    else:\n",
    "        running_list = get_acted_on_qubits(name)\n",
    "    return running_list\n",
    "\n",
    "\n",
    "def get_acted_on_qubits(name):\n",
    "    max_t, t_str = find_max_letter(name, \"T\")\n",
    "    max_p, p_str = find_max_letter(name, \"P\")\n",
    "    if max_p > max_t:\n",
    "        list_by_p_sep = []\n",
    "        sep_by_p = name.split(p_str)\n",
    "        for x in sep_by_p:\n",
    "            list_by_sep.append(fill_qubits_acted_on_list, x)\n",
    "    \n",
    "    \n",
    "    qubits_acted_on = []\n",
    "    fill_qubits_acted_on_list(qubits_acted_on,name)\n",
    "    return sorted(qubits_acted_on)\n",
    "    \n",
    "def fill_qubits_acted_on_list(qubits_acted_on, name):\n",
    "    max_t, t_str = find_max_letter(name, \"T\")\n",
    "    max_p, p_str = find_max_letter(name, \"P\")\n",
    "    if(max_p > max_t):\n",
    "        string_to_analyse = name.split(p_str)[0]\n",
    "    else:\n",
    "        string_to_analyse = name\n",
    "\n",
    "    if max_t == 0:\n",
    "        if string_to_analyse != 'i':\n",
    "            qubits_acted_on.append(1)\n",
    "\n",
    "\n",
    "    else:\n",
    "        i=max_t\n",
    "        this_t_str = t_str\n",
    "        broken_down = string_to_analyse.split(this_t_str)\n",
    "        lhs = broken_down[0]\n",
    "        rhs = broken_down[1]\n",
    "        if rhs !='i':\n",
    "            qubits_acted_on.append(i+1)\n",
    "\n",
    "        if max_t == 1:\n",
    "            if lhs!='i':\n",
    "                qubits_acted_on.append(1)\n",
    "        else: \n",
    "            fill_qubits_acted_on_list(qubits_acted_on, lhs)                \n",
    "    \n",
    "def get_t_p_strings(name):\n",
    "    t_str = ''\n",
    "    p_str = ''\n",
    "    while name.count(t_str+'T')>0:\n",
    "        t_str=t_str+'T'\n",
    "\n",
    "    while name.count(p_str+'P')>0:\n",
    "        p_str=p_str+'P'\n",
    "\n",
    "    max_t = len(t_str)\n",
    "    max_p = len(p_str)\n",
    "\n",
    "    return t_str, p_str, max_t, max_p        \n",
    "    \n",
    "def find_max_letter(string, letter):\n",
    "    letter_str=''\n",
    "    while string.count(letter_str+letter)>0:\n",
    "        letter_str=letter_str+letter\n",
    "\n",
    "    return len(letter_str), letter_str\n",
    "\n",
    "\n",
    "def empty_array_of_same_dim(name):\n",
    "    t_str=''\n",
    "    while name.count(t_str+'T')>0:\n",
    "        t_str=t_str+'T'\n",
    "\n",
    "    num_qubits = len(t_str) +1\n",
    "    dim = 2**num_qubits\n",
    "    #print(\"String: \", name, \" has NQubits: \", num_qubits)\n",
    "    empty_mtx = np.zeros([dim, dim], dtype=np.complex128)\n",
    "    return empty_mtx\n",
    "\n",
    "\n",
    "\n",
    "def alph(name):\n",
    "    t_max, t_str = find_max_letter(name, \"T\")\n",
    "    p_max, p_str = find_max_letter(name, \"P\")\n",
    "    m_max, m_str = find_max_letter(name, \"M\")\n",
    "    \n",
    "    if p_max == 0 and t_max ==0 and p_max ==0 :\n",
    "        return name\n",
    "    \n",
    "    if p_max > t_max and p_max > m_max: \n",
    "        ltr = 'P'\n",
    "        string = p_str\n",
    "    elif t_max >= p_max:\n",
    "        string = t_str\n",
    "        ltr = 'T'\n",
    "    elif m_max >= p_max: \n",
    "        string = m_str\n",
    "        ltr = 'M'\n",
    "    elif t_max > m_max: \n",
    "        string = t_str\n",
    "        ltr = 'T'\n",
    "    else:\n",
    "        ltr = 'M'\n",
    "        string = m_str\n",
    "\n",
    "    spread = name.split(string)\n",
    "    if  p_max==m_max and p_max > t_max:\n",
    "        string = p_str\n",
    "        list_elements = name.split(p_str)\n",
    "        \n",
    "        for i in range(len(list_elements)):\n",
    "            list_elements[i] = alph(list_elements[i])\n",
    "        sorted_list = sorted(list_elements)\n",
    "        linked_sorted_list = p_str.join(sorted_list)\n",
    "        return linked_sorted_list\n",
    "        \n",
    "    if ltr=='P' and p_max==1:\n",
    "        sorted_spread = sorted(spread)\n",
    "        out = string.join(sorted_spread)\n",
    "        return out\n",
    "    elif ltr=='P' and p_max>1:\n",
    "        list_elements = name.split(string)\n",
    "        sorted_list = sorted(list_elements)\n",
    "        for i in range(len(sorted_list)):\n",
    "            sorted_list[i] = alph(sorted_list[i])\n",
    "        linked_sorted_list = string.join(sorted_list)\n",
    "        return linked_sorted_list\n",
    "    else: \n",
    "        for i in range(len(spread)):\n",
    "            spread[i] = alph(spread[i])\n",
    "        out = string.join(spread)\n",
    "        return out\n",
    "\n",
    "\n",
    "def compute_t(inp):\n",
    "   # print(\"Compute t : \", inp)\n",
    "    max_t, t_str = find_max_letter(inp, \"T\")\n",
    "    max_p, p_str = find_max_letter(inp, \"P\")\n",
    "\n",
    "    if(max_p == 0 and max_t==0):\n",
    "        pauli_symbol = inp\n",
    "        return paulis_list[pauli_symbol] \n",
    "\n",
    "    elif(max_t==0):\n",
    "        return compute(inp)\n",
    "    else:\n",
    "        to_tens = inp.split(t_str)\n",
    "        #print(\"To tens: \", to_tens)\n",
    "        running_tens_prod=compute(to_tens[0])\n",
    "        #print(\"Split by \", t_str, \" : \\n\", to_tens)\n",
    "        for i in range(1,len(to_tens)):\n",
    "            max_p, p_str = find_max_letter(to_tens[i], \"P\")\n",
    "            max_t, t_str = find_max_letter(to_tens[i], \"T\")\n",
    "            #print(\"To tens [i=\", i, \"]:\\n\", to_tens[i] )\n",
    "            rhs = compute(to_tens[i])\n",
    "            running_tens_prod = np.kron(running_tens_prod, rhs)\n",
    "        #print(\"RESULT \", t_str, \" : \", inp, \": \\n\", running_tens_prod)\n",
    "        return running_tens_prod\n",
    "\n",
    "def compute_p(inp):\n",
    "    #print(\"Compute p : \", inp)\n",
    "    max_p, p_str = find_max_letter(inp, \"P\")\n",
    "    max_t, t_str = find_max_letter(inp, \"T\")\n",
    "\n",
    "    if(max_p == 0 and max_t==0):\n",
    "        pauli_symbol = inp\n",
    "        return paulis_list[pauli_symbol] \n",
    "\n",
    "    elif max_p==0:\n",
    "        return compute(inp)\n",
    "    else: \n",
    "        to_add = inp.split(p_str)\n",
    "        #print(\"To add : \", to_add)\n",
    "        running_sum = empty_array_of_same_dim(to_add[0])\n",
    "        for i in range(len(to_add)):\n",
    "            max_p, p_str = find_max_letter(to_add[i], \"P\")\n",
    "            max_t, t_str = find_max_letter(to_add[i], \"T\")\n",
    "\n",
    "           # print(\"To add [i=\", i, \"]:\", to_add[i] )\n",
    "            rhs = compute(to_add[i])\n",
    "            #print(\"SUM shape:\", np.shape(running_sum))\n",
    "            #print(\"RHS shape:\", np.shape(rhs))\n",
    "            running_sum += rhs\n",
    "\n",
    "        #print(\"RESULT \", p_str, \" : \", inp, \": \\n\", running_sum)\n",
    "        return running_sum\n",
    "\n",
    "\n",
    "def compute_m(inp):\n",
    "    max_m, m_str = find_max_letter(inp, \"M\")\n",
    "    max_p, p_str = find_max_letter(inp, \"P\")\n",
    "    max_t, t_str = find_max_letter(inp, \"T\")\n",
    "\n",
    "    if(max_m == 0 and max_t==0 and max_p == 0 ):\n",
    "        pauli_symbol = inp\n",
    "        return paulis_list[pauli_symbol] \n",
    "\n",
    "    elif max_m ==0:\n",
    "        return compute(inp)\n",
    "    \n",
    "    else:   \n",
    "        to_mult = inp.split(m_str)\n",
    "        #print(\"To mult : \", to_mult)\n",
    "        t_str=''\n",
    "        while inp.count(t_str+'T')>0:\n",
    "            t_str=t_str+'T'\n",
    "\n",
    "        num_qubits = len(t_str) +1\n",
    "        dim = 2**num_qubits\n",
    "\n",
    "        running_product = np.eye(dim)\n",
    "\n",
    "        for i in range(len(to_mult)):\n",
    "            #print(\"Running product : \\n\", running_product, \"\\n times \\n\", compute(to_mult[i]))\n",
    "            running_product = np.dot(running_product, compute(to_mult[i]))\n",
    "\n",
    "        return running_product    \n",
    "    \n",
    "def compute(inp):\n",
    "    #print(\"Computing \", inp)\n",
    "    max_p, p_str = find_max_letter(inp, \"P\")\n",
    "    max_t, t_str = find_max_letter(inp, \"T\")\n",
    "    max_m, m_str = find_max_letter(inp, \"M\")\n",
    "\n",
    "    if(max_m == 0 and max_t==0 and max_p == 0):\n",
    "        pauli_symbol = inp\n",
    "        return paulis_list[pauli_symbol] \n",
    "    elif max_m > max_t:\n",
    "        return compute_m(inp)\n",
    "    elif max_t >= max_p:\n",
    "       # print(\"Max t=\", max_t, \">= max p=\", max_p)\n",
    "        return compute_t(inp)\n",
    "    else:\n",
    "        return compute_p(inp)    \n"
   ]
  },
  {
   "cell_type": "code",
   "execution_count": 575,
   "metadata": {},
   "outputs": [
    {
     "name": "stdout",
     "output_type": "stream",
     "text": [
      "xPy\n"
     ]
    }
   ],
   "source": [
    "name='yPx'\n",
    "op = operator(name)\n",
    "print(op.alph_name)"
   ]
  },
  {
   "cell_type": "code",
   "execution_count": 573,
   "metadata": {},
   "outputs": [
    {
     "data": {
      "text/plain": [
       "'xTy'"
      ]
     },
     "execution_count": 573,
     "metadata": {},
     "output_type": "execute_result"
    }
   ],
   "source": []
  },
  {
   "cell_type": "code",
   "execution_count": 312,
   "metadata": {},
   "outputs": [
    {
     "name": "stdout",
     "output_type": "stream",
     "text": [
      "i= 1 :  2\n",
      "now =  2\n",
      "i= 2 :  4\n",
      "now =  6\n",
      "6\n"
     ]
    }
   ],
   "source": [
    "running_sum = 0 \n",
    "for i in ls:\n",
    "    print(\"i=\", i, \": \", 2**i)\n",
    "    running_sum += 2**i\n",
    "    print(\"now = \", running_sum)\n",
    "print(running_sum)     "
   ]
  },
  {
   "cell_type": "code",
   "execution_count": 350,
   "metadata": {},
   "outputs": [],
   "source": [
    "def sortmebaby(thestring):\n",
    "    splitted = thestring.split(\"T\")\n",
    "    allsorted = [ \"P\".join(sorted(item.split(\"P\")) ) for item in splitted    ]\n",
    "    thestring = \"T\".join(allsorted)\n",
    "     \n",
    "    return thestring"
   ]
  },
  {
   "cell_type": "code",
   "execution_count": 363,
   "metadata": {},
   "outputs": [
    {
     "data": {
      "text/plain": [
       "'xPyTPzPzTx'"
      ]
     },
     "execution_count": 363,
     "metadata": {},
     "output_type": "execute_result"
    }
   ],
   "source": [
    "sortmebaby('yPxTzPPzTx')"
   ]
  },
  {
   "cell_type": "code",
   "execution_count": 358,
   "metadata": {},
   "outputs": [],
   "source": [
    "name='iTyTTTiTx'\n",
    "splitted = name.split(\"T\")\n",
    "allsorted = [ \"P\".join(sorted(item.split(\"P\")) ) for item in splitted    ]\n",
    "thestring = \"T\".join(allsorted)\n",
    "   "
   ]
  },
  {
   "cell_type": "code",
   "execution_count": 401,
   "metadata": {},
   "outputs": [],
   "source": [
    "def sort_at_p_level(name):\n",
    "    print(\"To sort: \", name)\n",
    "    max_p, p_str = find_max_letter(name, \"P\")\n",
    "    if max_p > 0:\n",
    "        split_by_p = name.split(p_str)\n",
    "        if max_p > 1: \n",
    "            for i in range(len(split_by_p)):\n",
    "                split_by_p[i] = sort_at_p_level(split_by_p[i])\n",
    "        #print(split_by_p)\n",
    "        sorted_around_p = sorted(split_by_p)\n",
    "        sorted_around_p_str = p_str.join(sorted_around_p)\n",
    "        print(\"Sorted : \", sorted_around_p_str)\n",
    "        return sorted_around_p_str\n",
    "    else: \n",
    "        return name"
   ]
  },
  {
   "cell_type": "code",
   "execution_count": 406,
   "metadata": {},
   "outputs": [
    {
     "name": "stdout",
     "output_type": "stream",
     "text": [
      "['y', 'x']\n"
     ]
    }
   ],
   "source": [
    "name='yPx'\n",
    "t_max, t_str = find_max_letter(name, \"T\")\n",
    "p_max, p_str = find_max_letter(name, \"P\")\n",
    "m_max, m_str = find_max_letter(name, \"M\")\n",
    "\n",
    "if p_max >0:\n",
    "    split_p = name.split(p_str)\n",
    "else: \n",
    "    split_p = name\n",
    "print(split_p)"
   ]
  },
  {
   "cell_type": "code",
   "execution_count": 453,
   "metadata": {},
   "outputs": [],
   "source": [
    "def alph_by_str(name, letter):\n",
    "    print(\"alph by string: \", name, \"letter \", letter)\n",
    "    max_letter, letter_str = find_max_letter(name, letter)\n",
    "    \n",
    "    if(max_letter > 0):\n",
    "        broken_down = name.split(letter_str)\n",
    "        alphabetised = sorted(broken_down)\n",
    "        rejoined = letter_str.join(alphabetised)\n",
    "        print(\"sorted:\", rejoined)\n",
    "        return rejoined\n",
    "    else:\n",
    "        print(\"Max letter =0\", max_letter, letter_str)\n",
    "        return name"
   ]
  },
  {
   "cell_type": "code",
   "execution_count": null,
   "metadata": {},
   "outputs": [],
   "source": [
    "def sort_"
   ]
  },
  {
   "cell_type": "code",
   "execution_count": 562,
   "metadata": {},
   "outputs": [],
   "source": [
    "def alph(name):\n",
    "    #print(\"Alph: \", name)\n",
    "    t_max, t_str = find_max_letter(name, \"T\")\n",
    "    p_max, p_str = find_max_letter(name, \"P\")\n",
    "    m_max, m_str = find_max_letter(name, \"M\")\n",
    "    \n",
    "    if p_max == 0 and t_max ==0 and p_max ==0 :\n",
    "        return name\n",
    "    \n",
    "    if p_max > t_max and p_max > m_max: \n",
    "        ltr = 'P'\n",
    "        string = p_str\n",
    "    elif t_max >= p_max:\n",
    "        string = t_str\n",
    "        ltr = 'T'\n",
    "    elif m_max >= p_max: \n",
    "        string = m_str\n",
    "        ltr = 'M'\n",
    "    elif t_max > m_max: \n",
    "        string = t_str\n",
    "        ltr = 'T'\n",
    "    else:\n",
    "        ltr = 'M'\n",
    "        string = m_str\n",
    "\n",
    "    #print(\"letter \", ltr, \" string \", string)\n",
    "    spread = name.split(string)\n",
    "    #print(\"spread : \", spread)\n",
    "    if  p_max==m_max and p_max > t_max:\n",
    "        string = p_str\n",
    "        list_elements = name.split(p_str)\n",
    "        print(\"list\", list_elements)\n",
    "        \n",
    "        for i in range(len(list_elements)):\n",
    "            list_elements[i] = alph(list_elements[i])\n",
    "        sorted_list = sorted(list_elements)\n",
    "        linked_sorted_list = p_str.join(sorted_list)\n",
    "        return linked_sorted_list\n",
    "        \n",
    "    if ltr=='P' and p_max==1:\n",
    "        sorted_spread = sorted(spread)\n",
    "        out = string.join(sorted_spread)\n",
    "        return out\n",
    "    elif ltr=='P' and p_max>1:\n",
    "        list_elements = name.split(string)\n",
    "        sorted_list = sorted(list_elements)\n",
    "        for i in range(len(sorted_list)):\n",
    "            sorted_list[i] = alph(sorted_list[i])\n",
    "        linked_sorted_list = string.join(sorted_list)\n",
    "        return linked_sorted_list\n",
    "    else: \n",
    "        print(\"String \", string, \"Spread: \", spread)\n",
    "        for i in range(len(spread)):\n",
    "            #print(\"Spread [i=\", i, \"] = \", spread[i])\n",
    "            spread[i] = alph(spread[i])\n",
    "            #print(\"After fnc: spread[i]=\", spread[i])\n",
    "        out = string.join(spread)\n",
    "        return out"
   ]
  },
  {
   "cell_type": "code",
   "execution_count": 868,
   "metadata": {},
   "outputs": [
    {
     "name": "stdout",
     "output_type": "stream",
     "text": [
      "In:  xPyPzPiTxPyPzPiPxPyPzPiMMxPyPzPiTxPyPzPiPxPyPzPi\n",
      "Out:  iPxPyPzTiPiPxPxPyPyPzPzMMiPxPyPzTiPiPxPxPyPyPzPz\n"
     ]
    }
   ],
   "source": [
    "test_name = 'xPyPzPiTxPyPzPiPxPyPzPiMMxPyPzPiTxPyPzPiPxPyPzPi'\n",
    "out=alph(test_name)\n",
    "\n",
    "print(\"In: \" ,test_name)\n",
    "print(\"Out: \", out)"
   ]
  },
  {
   "cell_type": "code",
   "execution_count": 429,
   "metadata": {},
   "outputs": [],
   "source": [
    "name = 'yPxTzPi'\n",
    "t_max, t_str = find_max_letter(name, \"T\")\n",
    "p_max, p_str = find_max_letter(name, \"P\")\n",
    "m_max, m_str = find_max_letter(name, \"M\")\n",
    "\n",
    "if m_max == 0:\n",
    "    m_str='M'\n",
    "if t_max == 0:\n",
    "    t_str ='T'\n",
    "if p_max == 0:\n",
    "    p_str='P'\n",
    "\n",
    "split_t = name.split(t_str)\n",
    "for i in range(len(split_t)):\n",
    "    split_t[i] = alph_list_by_str(split_t[i], p_str)\n",
    "    \n",
    "sorted_about_p=t_str.join(split_t)\n",
    "sorted_about_t = alph_list_by_str(sorted_about_p, t_str)"
   ]
  },
  {
   "cell_type": "code",
   "execution_count": 430,
   "metadata": {},
   "outputs": [
    {
     "data": {
      "text/plain": [
       "'iPzTxPy'"
      ]
     },
     "execution_count": 430,
     "metadata": {},
     "output_type": "execute_result"
    }
   ],
   "source": [
    "sorted_about_t"
   ]
  },
  {
   "cell_type": "code",
   "execution_count": 421,
   "metadata": {},
   "outputs": [
    {
     "name": "stdout",
     "output_type": "stream",
     "text": [
      "iPxTyPxPz\n"
     ]
    }
   ],
   "source": [
    "name='yPxPzTiPx'\n",
    "print(alph_list_by_str(name, 'T'))"
   ]
  },
  {
   "cell_type": "code",
   "execution_count": 402,
   "metadata": {},
   "outputs": [
    {
     "name": "stdout",
     "output_type": "stream",
     "text": [
      "To sort:  yPxTzPPzTx\n",
      "To sort:  yPxTz\n",
      "Sorted :  xTzPy\n",
      "To sort:  zTx\n",
      "Sorted :  xTzPyPPzTx\n",
      "input:  yPxTzPPzTx\n",
      "output:  xTzPyPPzTx\n"
     ]
    }
   ],
   "source": [
    "name = 'yPxTzPPzTx'\n",
    "\n",
    "out= sort_at_p_level(name)\n",
    "\n",
    "print(\"input: \", name)\n",
    "print(\"output: \", out)"
   ]
  },
  {
   "cell_type": "code",
   "execution_count": 370,
   "metadata": {},
   "outputs": [],
   "source": [
    "t_max, t_str = find_max_letter(name, \"T\")\n",
    "p_max, p_str = find_max_letter(name, \"P\")\n",
    "m_max, m_str = find_max_letter(name, \"M\")"
   ]
  },
  {
   "cell_type": "code",
   "execution_count": 391,
   "metadata": {},
   "outputs": [
    {
     "name": "stdout",
     "output_type": "stream",
     "text": [
      "['y', 'x', 'z', 'i']\n",
      "['x', 'i']\n",
      "['iPxPyPz', 'iPx']\n"
     ]
    },
    {
     "data": {
      "text/plain": [
       "'iPxPPiPxPyPz'"
      ]
     },
     "execution_count": 391,
     "metadata": {},
     "output_type": "execute_result"
    }
   ],
   "source": [
    "sort_at_p_level('yPxPzPiPPxPi')"
   ]
  },
  {
   "cell_type": "code",
   "execution_count": 367,
   "metadata": {},
   "outputs": [
    {
     "data": {
      "text/plain": [
       "array([[ 0.+0.j,  0.-1.j],\n",
       "       [ 0.+1.j,  0.+0.j]])"
      ]
     },
     "execution_count": 367,
     "metadata": {},
     "output_type": "execute_result"
    }
   ],
   "source": []
  },
  {
   "cell_type": "code",
   "execution_count": 349,
   "metadata": {},
   "outputs": [
    {
     "data": {
      "text/plain": [
       "[2, 4, 1]"
      ]
     },
     "execution_count": 349,
     "metadata": {},
     "output_type": "execute_result"
    }
   ],
   "source": [
    "a.qubits_acted_on"
   ]
  },
  {
   "cell_type": "code",
   "execution_count": 338,
   "metadata": {},
   "outputs": [],
   "source": [
    "my_string = 'hello'"
   ]
  },
  {
   "cell_type": "code",
   "execution_count": 340,
   "metadata": {},
   "outputs": [
    {
     "data": {
      "text/plain": [
       "'b(my_string)'"
      ]
     },
     "execution_count": 340,
     "metadata": {},
     "output_type": "execute_result"
    }
   ],
   "source": [
    "'b(my_string)'"
   ]
  },
  {
   "cell_type": "markdown",
   "metadata": {},
   "source": [
    "# Database"
   ]
  },
  {
   "cell_type": "code",
   "execution_count": 937,
   "metadata": {},
   "outputs": [],
   "source": [
    "def launch_db(RootN_Qbit=[0], N_Qubits=1, gen_list=[]):\n",
    "    \n",
    "    # Create DB using strings of names\n",
    "    generators = []\n",
    "    total_model_list = []\n",
    "    Max_N_Qubits = 11\n",
    "    model_lists = {}\n",
    "    for j in range(1, Max_N_Qubits):\n",
    "        model_lists[j] = []\n",
    "    \n",
    "    for i in gen_list:\n",
    "        generators.append(operator(i))\n",
    "        alph_model_name = alph(i)\n",
    "        num_qubits = get_num_qubits(i)\n",
    "        model_lists[num_qubits].append(alph_model_name)\n",
    "\n",
    "    model_db = pd.DataFrame({\n",
    "        '<Name>' : [ gen.name for gen in generators], \n",
    "        'Alph_Name' :[ gen.alph_name for gen in generators],\n",
    "        'All_Operators_Names': [gen.constituents_names for gen in generators],\n",
    "        'All_Operators_Matrices': [gen.constituents_operators for gen in generators],\n",
    "        'N_params' : [ gen.num_constituents for gen in generators ],\n",
    "        'Num_Qubits' : [ gen.num_qubits for gen in generators ],\n",
    "        'Qubits_Acted_On' : [ gen.qubits_acted_on for gen in generators ],\n",
    "        'Binary_Sum_Used_Qubits' : [ gen.two_to_power_used_qubits_sum for gen in generators ],\n",
    "        'Matrix' : [gen.matrix for gen in generators]\n",
    "    })\n",
    "        \n",
    "    # if N_qubits defined: work out generator list.\n",
    "    # Or should number qubits be implied by gen list?\n",
    "    db = pd.DataFrame({\n",
    "        '<Name>' : [ gen.name for gen in generators], \n",
    "        'Alph_Name' :[ gen.alph_name for gen in generators],\n",
    "        'N_Qbit' : [RootN_Qbit for i in range(len(gen_list))],\n",
    "        'DB_location' : [ get_location(model_db, gen.name) for gen in generators],\n",
    "        'Status' : 'Ready', \n",
    "        'Selected' : False, \n",
    "        'LogL_Ext' : None, \n",
    "        'QML_Class' : None, \n",
    "        'Origin_epoch' : 0, \n",
    "        'RootNode' : 'NaN',\n",
    "        })  \n",
    "        \n",
    "    return db, model_db, model_lists\n",
    "\n",
    "def get_location(db, name):\n",
    "    for i in range(len(db['<Name>'])):\n",
    "        if db['<Name>'][i] == name:\n",
    "            return i\n",
    "\n",
    "def get_location_by_alph_name(db, name):\n",
    "    for i in range(len(db['Alph_Name'])):\n",
    "        if db['Alph_Name'][i] == name:\n",
    "            return i\n",
    "\n",
    "        \n",
    "def consider_new_model(model_lists, name, db):\n",
    "    # Return true indicates it has not been considered and so can be added\n",
    "    al_name = alph(name)\n",
    "    n_qub = get_num_qubits(name)\n",
    "    if al_name not in model_lists[n_qub]:\n",
    "        return 'New'\n",
    "    else: \n",
    "        location = get_location_by_alph_name(db, al_name)\n",
    "        return location\n",
    "        \n",
    "def add_model(model_name, running_database , model_db = model_db, model_lists = model_lists):\n",
    "    ## Alternatively, can use existing model_db and total_model_list\n",
    "    ## What is preferred?\n",
    "    alph_model_name = alph(model_name)\n",
    "    model_num_qubits = get_num_qubits(model_name)\n",
    "    \n",
    "    if consider_new_model(model_lists, model_name, running_database)== 'New':\n",
    "        print(\"Model Not previously considered -- adding\")\n",
    "        op = operator(model_name)\n",
    "        num_rows = len(running_database)\n",
    "\n",
    "        # add model_db_new_row to model_db and running_database\n",
    "        # Note: do NOT use pd.df.append() as this copies total DB,\n",
    "        # appends and returns copy.\n",
    "        \n",
    "        model_db_new_row = pd.Series({\n",
    "            '<Name>': op.name, \n",
    "            'Alph_Name': op.alph_name,\n",
    "            'All_Operators_Names' : op.constituents_names,\n",
    "            'All_Operators_Matrices': op.constituents_operators,\n",
    "            'N_params' : op.num_constituents,\n",
    "            'Num_Qubits' : op.num_qubits,\n",
    "            'Qubits_Acted_On' : op.qubits_acted_on,\n",
    "            'Binary_Sum_Used_Qubits' : op.two_to_power_used_qubits_sum,\n",
    "            'Matrix' : op.matrix\n",
    "            })\n",
    "\n",
    "        model_db.loc[num_rows] = model_db_new_row\n",
    "       # total_model_list.append(alph_model_name)\n",
    "        model_lists[model_num_qubits].append(alph_model_name)\n",
    "        \n",
    "        # Add to running_database too, after adding to model_db\n",
    "        \n",
    "        running_db_new_row = pd.Series({\n",
    "            '<Name>': op.name,\n",
    "            'Alph_Name' : op.alph_name,\n",
    "            'N_Qbit' : None, #TODO TODO\n",
    "            'DB_location' : get_location(model_db, model_name),\n",
    "            'Status' : 'Ready', \n",
    "            'Selected' : False, \n",
    "            'LogL_Ext' : None, \n",
    "            'QML_Class' : None, \n",
    "            'Origin_epoch' : 0, \n",
    "            'RootNode' : 'NaN',\n",
    "        })\n",
    "\n",
    "        running_database.loc[num_rows] = running_db_new_row      \n",
    "        \n",
    "    else:\n",
    "        location = consider_new_model(model_lists, model_name, running_database)\n",
    "        #db_loc = get_location_by_alph_name(model_db, model_name)\n",
    "        print(\"Model\", alph_model_name, \" previously considered at location\", location)  "
   ]
  },
  {
   "cell_type": "markdown",
   "metadata": {},
   "source": [
    "## Example usage of database"
   ]
  },
  {
   "cell_type": "code",
   "execution_count": 938,
   "metadata": {},
   "outputs": [
    {
     "data": {
      "text/plain": [
       "'xTyPPyTiTTTiTyPPxTiPPPPxTyPPyTiTTTiTyPPxTi'"
      ]
     },
     "execution_count": 938,
     "metadata": {},
     "output_type": "execute_result"
    }
   ],
   "source": [
    "alph('xTyPPyTiTTTiTyPPxTiPPPPxTyPPyTiTTTiTyPPxTi')"
   ]
  },
  {
   "cell_type": "code",
   "execution_count": 939,
   "metadata": {},
   "outputs": [],
   "source": [
    "name1 = 'yTxPPzTi'\n",
    "name2 = 'xTyPPyTiTTTiTyPPxTiPPPPxTyPPyTiTTTiTyPPxTi'\n",
    "name3 = 'xTy'\n",
    "\n",
    "gen_list=[name1, name2, name3]\n",
    "db, model_db, model_lists = launch_db(gen_list=gen_list)"
   ]
  },
  {
   "cell_type": "code",
   "execution_count": 940,
   "metadata": {},
   "outputs": [
    {
     "data": {
      "text/html": [
       "<div>\n",
       "<style>\n",
       "    .dataframe thead tr:only-child th {\n",
       "        text-align: right;\n",
       "    }\n",
       "\n",
       "    .dataframe thead th {\n",
       "        text-align: left;\n",
       "    }\n",
       "\n",
       "    .dataframe tbody tr th {\n",
       "        vertical-align: top;\n",
       "    }\n",
       "</style>\n",
       "<table border=\"1\" class=\"dataframe\">\n",
       "  <thead>\n",
       "    <tr style=\"text-align: right;\">\n",
       "      <th></th>\n",
       "      <th>&lt;Name&gt;</th>\n",
       "      <th>Alph_Name</th>\n",
       "      <th>DB_location</th>\n",
       "      <th>LogL_Ext</th>\n",
       "      <th>N_Qbit</th>\n",
       "      <th>Origin_epoch</th>\n",
       "      <th>QML_Class</th>\n",
       "      <th>RootNode</th>\n",
       "      <th>Selected</th>\n",
       "      <th>Status</th>\n",
       "    </tr>\n",
       "  </thead>\n",
       "  <tbody>\n",
       "    <tr>\n",
       "      <th>0</th>\n",
       "      <td>yTxPPzTi</td>\n",
       "      <td>yTxPPzTi</td>\n",
       "      <td>0</td>\n",
       "      <td>None</td>\n",
       "      <td>[0]</td>\n",
       "      <td>0</td>\n",
       "      <td>None</td>\n",
       "      <td>NaN</td>\n",
       "      <td>False</td>\n",
       "      <td>Ready</td>\n",
       "    </tr>\n",
       "    <tr>\n",
       "      <th>1</th>\n",
       "      <td>xTyPPyTiTTTiTyPPxTiPPPPxTyPPyTiTTTiTyPPxTi</td>\n",
       "      <td>xTyPPyTiTTTiTyPPxTiPPPPxTyPPyTiTTTiTyPPxTi</td>\n",
       "      <td>1</td>\n",
       "      <td>None</td>\n",
       "      <td>[0]</td>\n",
       "      <td>0</td>\n",
       "      <td>None</td>\n",
       "      <td>NaN</td>\n",
       "      <td>False</td>\n",
       "      <td>Ready</td>\n",
       "    </tr>\n",
       "    <tr>\n",
       "      <th>2</th>\n",
       "      <td>xTy</td>\n",
       "      <td>xTy</td>\n",
       "      <td>2</td>\n",
       "      <td>None</td>\n",
       "      <td>[0]</td>\n",
       "      <td>0</td>\n",
       "      <td>None</td>\n",
       "      <td>NaN</td>\n",
       "      <td>False</td>\n",
       "      <td>Ready</td>\n",
       "    </tr>\n",
       "  </tbody>\n",
       "</table>\n",
       "</div>"
      ],
      "text/plain": [
       "                                       <Name>  \\\n",
       "0                                    yTxPPzTi   \n",
       "1  xTyPPyTiTTTiTyPPxTiPPPPxTyPPyTiTTTiTyPPxTi   \n",
       "2                                         xTy   \n",
       "\n",
       "                                    Alph_Name  DB_location LogL_Ext N_Qbit  \\\n",
       "0                                    yTxPPzTi            0     None    [0]   \n",
       "1  xTyPPyTiTTTiTyPPxTiPPPPxTyPPyTiTTTiTyPPxTi            1     None    [0]   \n",
       "2                                         xTy            2     None    [0]   \n",
       "\n",
       "   Origin_epoch QML_Class RootNode  Selected Status  \n",
       "0             0      None      NaN     False  Ready  \n",
       "1             0      None      NaN     False  Ready  \n",
       "2             0      None      NaN     False  Ready  "
      ]
     },
     "execution_count": 940,
     "metadata": {},
     "output_type": "execute_result"
    }
   ],
   "source": [
    "db"
   ]
  },
  {
   "cell_type": "code",
   "execution_count": 943,
   "metadata": {},
   "outputs": [
    {
     "name": "stdout",
     "output_type": "stream",
     "text": [
      "Model xTyPPyTiTTTiTyPPxTiPPPPxTyPPyTiTTTiTyPPxTi  previously considered at location 1\n"
     ]
    }
   ],
   "source": [
    "add_model('yTiPPxTyTTTiTyPPxTiPPPPxTyPPyTiTTTiTyPPxTi', db, model_db, model_lists)"
   ]
  },
  {
   "cell_type": "code",
   "execution_count": 915,
   "metadata": {},
   "outputs": [
    {
     "data": {
      "text/plain": [
       "{1: [],\n",
       " 2: ['yTxPPzTi', 'xTy'],\n",
       " 3: ['xPyTzTTi'],\n",
       " 4: ['xTyPPyTiTTTiTyPPxTiPPPPxTyPPyTiTTTiTyPPxTi',\n",
       "  'xTyPPyTiTTTiTyPPxTiPPPPxTyPPyTiTTTiTyPPxTi',\n",
       "  'xTyPPyTiTTTiTyPPxTiPPPPxTyPPyTiTTTiTyPPxTi'],\n",
       " 5: [],\n",
       " 6: [],\n",
       " 7: [],\n",
       " 8: [],\n",
       " 9: [],\n",
       " 10: []}"
      ]
     },
     "execution_count": 915,
     "metadata": {},
     "output_type": "execute_result"
    }
   ],
   "source": [
    "model_lists"
   ]
  },
  {
   "cell_type": "code",
   "execution_count": 913,
   "metadata": {},
   "outputs": [
    {
     "data": {
      "text/html": [
       "<div>\n",
       "<style>\n",
       "    .dataframe thead tr:only-child th {\n",
       "        text-align: right;\n",
       "    }\n",
       "\n",
       "    .dataframe thead th {\n",
       "        text-align: left;\n",
       "    }\n",
       "\n",
       "    .dataframe tbody tr th {\n",
       "        vertical-align: top;\n",
       "    }\n",
       "</style>\n",
       "<table border=\"1\" class=\"dataframe\">\n",
       "  <thead>\n",
       "    <tr style=\"text-align: right;\">\n",
       "      <th></th>\n",
       "      <th>&lt;Name&gt;</th>\n",
       "      <th>All_Operators_Matrices</th>\n",
       "      <th>All_Operators_Names</th>\n",
       "      <th>Alph_Name</th>\n",
       "      <th>Binary_Sum_Used_Qubits</th>\n",
       "      <th>Matrix</th>\n",
       "      <th>N_params</th>\n",
       "      <th>Num_Qubits</th>\n",
       "      <th>Qubits_Acted_On</th>\n",
       "    </tr>\n",
       "  </thead>\n",
       "  <tbody>\n",
       "    <tr>\n",
       "      <th>0</th>\n",
       "      <td>yTxPPzTi</td>\n",
       "      <td>[[[0j, 0j, 0j, -1j], [0j, 0j, -1j, 0j], [0j, 1...</td>\n",
       "      <td>[yTx, zTi]</td>\n",
       "      <td>yTxPPzTi</td>\n",
       "      <td>6</td>\n",
       "      <td>[[(1+0j), 0j, 0j, -1j], [0j, (1+0j), -1j, 0j],...</td>\n",
       "      <td>2</td>\n",
       "      <td>2</td>\n",
       "      <td>[1, 2]</td>\n",
       "    </tr>\n",
       "    <tr>\n",
       "      <th>1</th>\n",
       "      <td>xTyPPyTiTTTiTyPPxTiPPPPxTyPPyTiTTTiTyPPxTi</td>\n",
       "      <td>[[[0j, 0j, 0j, 0j, 0j, 0j, 0j, 0j, 0j, (-1-0j)...</td>\n",
       "      <td>[xTyPPyTiTTTiTyPPxTi, xTyPPyTiTTTiTyPPxTi]</td>\n",
       "      <td>xTyPPyTiTTTiTyPPxTiPPPPxTyPPyTiTTTiTyPPxTi</td>\n",
       "      <td>22</td>\n",
       "      <td>[[0j, 0j, 0j, 0j, 0j, 0j, 0j, 0j, 0j, (-2+0j),...</td>\n",
       "      <td>2</td>\n",
       "      <td>4</td>\n",
       "      <td>[1, 2, 4]</td>\n",
       "    </tr>\n",
       "    <tr>\n",
       "      <th>2</th>\n",
       "      <td>xTy</td>\n",
       "      <td>[[[0j, 0j, 0j, -1j], [0j, 0j, 1j, 0j], [0j, -1...</td>\n",
       "      <td>[xTy]</td>\n",
       "      <td>xTy</td>\n",
       "      <td>6</td>\n",
       "      <td>[[0j, 0j, 0j, -1j], [0j, 0j, 1j, 0j], [0j, -1j...</td>\n",
       "      <td>1</td>\n",
       "      <td>2</td>\n",
       "      <td>[1, 2]</td>\n",
       "    </tr>\n",
       "    <tr>\n",
       "      <th>3</th>\n",
       "      <td>yPxTzTTi</td>\n",
       "      <td>[[[0j, 0j, 0j, 0j, (1-1j), 0j, 0j, 0j], [0j, 0...</td>\n",
       "      <td>[yPxTzTTi]</td>\n",
       "      <td>xPyTzTTi</td>\n",
       "      <td>6</td>\n",
       "      <td>[[0j, 0j, 0j, 0j, (1-1j), 0j, 0j, 0j], [0j, 0j...</td>\n",
       "      <td>1</td>\n",
       "      <td>3</td>\n",
       "      <td>[1, 2]</td>\n",
       "    </tr>\n",
       "    <tr>\n",
       "      <th>4</th>\n",
       "      <td>xTyPPyTiTTTiTyPPxTiPPPPxTyPPyTiTTTiTyPPxTi</td>\n",
       "      <td>[[[0j, 0j, 0j, 0j, 0j, 0j, 0j, 0j, 0j, (-1-0j)...</td>\n",
       "      <td>[xTyPPyTiTTTiTyPPxTi, xTyPPyTiTTTiTyPPxTi]</td>\n",
       "      <td>xTyPPyTiTTTiTyPPxTiPPPPxTyPPyTiTTTiTyPPxTi</td>\n",
       "      <td>22</td>\n",
       "      <td>[[0j, 0j, 0j, 0j, 0j, 0j, 0j, 0j, 0j, (-2+0j),...</td>\n",
       "      <td>2</td>\n",
       "      <td>4</td>\n",
       "      <td>[1, 2, 4]</td>\n",
       "    </tr>\n",
       "  </tbody>\n",
       "</table>\n",
       "</div>"
      ],
      "text/plain": [
       "                                       <Name>  \\\n",
       "0                                    yTxPPzTi   \n",
       "1  xTyPPyTiTTTiTyPPxTiPPPPxTyPPyTiTTTiTyPPxTi   \n",
       "2                                         xTy   \n",
       "3                                    yPxTzTTi   \n",
       "4  xTyPPyTiTTTiTyPPxTiPPPPxTyPPyTiTTTiTyPPxTi   \n",
       "\n",
       "                              All_Operators_Matrices  \\\n",
       "0  [[[0j, 0j, 0j, -1j], [0j, 0j, -1j, 0j], [0j, 1...   \n",
       "1  [[[0j, 0j, 0j, 0j, 0j, 0j, 0j, 0j, 0j, (-1-0j)...   \n",
       "2  [[[0j, 0j, 0j, -1j], [0j, 0j, 1j, 0j], [0j, -1...   \n",
       "3  [[[0j, 0j, 0j, 0j, (1-1j), 0j, 0j, 0j], [0j, 0...   \n",
       "4  [[[0j, 0j, 0j, 0j, 0j, 0j, 0j, 0j, 0j, (-1-0j)...   \n",
       "\n",
       "                          All_Operators_Names  \\\n",
       "0                                  [yTx, zTi]   \n",
       "1  [xTyPPyTiTTTiTyPPxTi, xTyPPyTiTTTiTyPPxTi]   \n",
       "2                                       [xTy]   \n",
       "3                                  [yPxTzTTi]   \n",
       "4  [xTyPPyTiTTTiTyPPxTi, xTyPPyTiTTTiTyPPxTi]   \n",
       "\n",
       "                                    Alph_Name  Binary_Sum_Used_Qubits  \\\n",
       "0                                    yTxPPzTi                       6   \n",
       "1  xTyPPyTiTTTiTyPPxTiPPPPxTyPPyTiTTTiTyPPxTi                      22   \n",
       "2                                         xTy                       6   \n",
       "3                                    xPyTzTTi                       6   \n",
       "4  xTyPPyTiTTTiTyPPxTiPPPPxTyPPyTiTTTiTyPPxTi                      22   \n",
       "\n",
       "                                              Matrix  N_params  Num_Qubits  \\\n",
       "0  [[(1+0j), 0j, 0j, -1j], [0j, (1+0j), -1j, 0j],...         2           2   \n",
       "1  [[0j, 0j, 0j, 0j, 0j, 0j, 0j, 0j, 0j, (-2+0j),...         2           4   \n",
       "2  [[0j, 0j, 0j, -1j], [0j, 0j, 1j, 0j], [0j, -1j...         1           2   \n",
       "3  [[0j, 0j, 0j, 0j, (1-1j), 0j, 0j, 0j], [0j, 0j...         1           3   \n",
       "4  [[0j, 0j, 0j, 0j, 0j, 0j, 0j, 0j, 0j, (-2+0j),...         2           4   \n",
       "\n",
       "  Qubits_Acted_On  \n",
       "0          [1, 2]  \n",
       "1       [1, 2, 4]  \n",
       "2          [1, 2]  \n",
       "3          [1, 2]  \n",
       "4       [1, 2, 4]  "
      ]
     },
     "execution_count": 913,
     "metadata": {},
     "output_type": "execute_result"
    }
   ],
   "source": [
    "model_db"
   ]
  },
  {
   "cell_type": "markdown",
   "metadata": {},
   "source": [
    "\n",
    "# Old Development code "
   ]
  },
  {
   "cell_type": "markdown",
   "metadata": {},
   "source": [
    "### Initialise a database by passing a list of generator names (strings)"
   ]
  },
  {
   "cell_type": "code",
   "execution_count": 873,
   "metadata": {},
   "outputs": [],
   "source": [
    "import hashlib"
   ]
  },
  {
   "cell_type": "code",
   "execution_count": 944,
   "metadata": {},
   "outputs": [],
   "source": [
    "a = 'xTy'\n",
    "a_hash = hashlib.md5(a.encode())\n",
    "b = 'xTy'\n",
    "b_hash = hashlib.md5(b.encode())"
   ]
  },
  {
   "cell_type": "code",
   "execution_count": 945,
   "metadata": {},
   "outputs": [
    {
     "data": {
      "text/plain": [
       "False"
      ]
     },
     "execution_count": 945,
     "metadata": {},
     "output_type": "execute_result"
    }
   ],
   "source": [
    "a_hash==b_hash"
   ]
  },
  {
   "cell_type": "code",
   "execution_count": null,
   "metadata": {},
   "outputs": [],
   "source": []
  },
  {
   "cell_type": "code",
   "execution_count": 877,
   "metadata": {},
   "outputs": [],
   "source": [
    "my_string = 'xTz'\n",
    "#test_list = []\n",
    "\n",
    "\n",
    "test_hash=hashlib.md5(my_string.encode())\n",
    "test_list.append(test_hash)"
   ]
  },
  {
   "cell_type": "code",
   "execution_count": 878,
   "metadata": {},
   "outputs": [
    {
     "data": {
      "text/plain": [
       "[<md5 HASH object @ 0x7f2a5b68cb20>, <md5 HASH object @ 0x7f2a5b66aad0>]"
      ]
     },
     "execution_count": 878,
     "metadata": {},
     "output_type": "execute_result"
    }
   ],
   "source": [
    "test_list"
   ]
  },
  {
   "cell_type": "code",
   "execution_count": 3,
   "metadata": {},
   "outputs": [],
   "source": [
    "def Init_N_Qubit_DB(RootN_Qbit=[0], N_Qubits=1, gen_list=[]):\n",
    "    \n",
    "    # Create DB using strings of names\n",
    "    model_db, total_model_list = launch_model_db(gen_list)    \n",
    "    generators = []\n",
    "   \n",
    "    for i in gen_list:\n",
    "        generators.append(operator(i))\n",
    "    # if N_qubits defined: work out generator list.\n",
    "    # Or should number qubits be implied by gen list?\n",
    "    db = pd.DataFrame({\n",
    "        '<Name>' : [ [gen.name] for gen in generators], \n",
    "        'N_Qbit' : [RootN_Qbit for i in range(len(generators))],\n",
    "        'N_params' : [ gen.num_constituents for gen in generators ],\n",
    "        'Num_Qubits' : [ gen.num_qubits for gen in generators ],\n",
    "        'DB_location' : [ get_location(model_db, gen.name) for gen in generators],\n",
    "        'Status' : 'Ready', \n",
    "        'Selected' : False, \n",
    "        'LogL_Ext' : None, \n",
    "        'QML_Class' : None, \n",
    "        'Origin_epoch' : 0, \n",
    "        'RootNode' : 'NaN',\n",
    "        'All_Operators_Names': [gen.constituents_names for gen in generators],\n",
    "        'All_Operators_Matrices': [gen.constituents_operators for gen in generators]\n",
    "        })  \n",
    "        \n",
    "    return db\n",
    "\n",
    "def get_location(db, name):\n",
    "    for i in range(len(db['<Name>'])):\n",
    "        if db['<Name>'][i] == [name]:\n",
    "            return i"
   ]
  },
  {
   "cell_type": "code",
   "execution_count": 138,
   "metadata": {},
   "outputs": [],
   "source": [
    "def launch_model_db_standalone(model_list):\n",
    "    # List of operatoer class instances\n",
    "    operator_list = []\n",
    "    # List of model names (strings)\n",
    "    total_model_list = []\n",
    "    for model in model_list:\n",
    "        operator_list.append(operator(model))\n",
    "        total_model_list.append(model)\n",
    "   \n",
    "    model_db = pd.DataFrame({\n",
    "        '<Name>' : [   [gen.name] for gen in operator_list], \n",
    "        'All_Operators_Names': [gen.constituents_names for gen in operator_list],\n",
    "        'All_Operators_Matrices': [gen.constituents_operators for gen in operator_list],\n",
    "        'Matrix' : [gen.matrix for gen in operator_list]\n",
    "    })\n",
    "    \n",
    "    return model_db, total_model_list\n",
    "\n",
    "def add_model_to_db_standalone(model_name, model_db, total_model_list):\n",
    "    ## Alternatively, can use existing model_db and total_model_list\n",
    "    ## What is preferred?\n",
    "    \n",
    "    if model_name not in total_model_list:\n",
    "        print(\"Model Not previously considered -- adding\")\n",
    "        op = operator(model_name)\n",
    "        this_row = pd.Series({\n",
    "            '<Name>':op.name, \n",
    "            'All_Operators_Names' : op.constituents_names,\n",
    "            'All_Operators_Matrices': op.constituents_operators,\n",
    "            'Matrix' : op.matrix\n",
    "            })\n",
    "\n",
    "        num_rows = len(total_model_list)\n",
    "        # add this_row to model_db\n",
    "        # Note: do NOT use pd.df.append() as this copies total DB,\n",
    "        # appends and returns copy.\n",
    "        model_db.loc[num_rows] = this_row\n",
    "        total_model_list.append(model_name)\n",
    "    else: \n",
    "        print(\"Model previously considered\")"
   ]
  },
  {
   "cell_type": "code",
   "execution_count": 274,
   "metadata": {},
   "outputs": [],
   "source": [
    "### Development to include multiplication"
   ]
  },
  {
   "cell_type": "code",
   "execution_count": 276,
   "metadata": {},
   "outputs": [
    {
     "name": "stdout",
     "output_type": "stream",
     "text": [
      "To mult :  ['xTyTTzMxTTTi', 'xTyTTzTTTi']\n",
      "To tens:  ['xTyTTzMx', 'i']\n",
      "To tens:  ['xTy', 'zMx']\n",
      "To tens:  ['x', 'y']\n",
      "To mult :  ['z', 'x']\n",
      "To tens:  ['xTyTTz', 'i']\n",
      "To tens:  ['xTy', 'z']\n",
      "To tens:  ['x', 'y']\n",
      "(16, 16)\n"
     ]
    }
   ],
   "source": [
    "name1 = 'xTyTTzMxTTTiMMMMxTyTTzTTTi'\n",
    "print(np.shape(compute(name1)))"
   ]
  },
  {
   "cell_type": "code",
   "execution_count": 250,
   "metadata": {},
   "outputs": [
    {
     "name": "stdout",
     "output_type": "stream",
     "text": [
      "[[ 0.+0.j  1.+0.j  0.+0.j  0.-1.j]\n",
      " [-1.+0.j  0.+0.j  0.+1.j  0.+0.j]\n",
      " [ 0.+0.j  0.-1.j  0.+0.j  1.+0.j]\n",
      " [ 0.+1.j  0.+0.j -1.+0.j  0.+0.j]]\n"
     ]
    }
   ],
   "source": [
    "name = 'xMyMzMiPiMxTy'\n",
    "print(compute(name))"
   ]
  },
  {
   "cell_type": "code",
   "execution_count": 198,
   "metadata": {},
   "outputs": [
    {
     "data": {
      "text/plain": [
       "array([[ 0.+1.j,  0.+0.j],\n",
       "       [ 0.+0.j,  0.-1.j]])"
      ]
     },
     "execution_count": 198,
     "metadata": {},
     "output_type": "execute_result"
    }
   ],
   "source": [
    "np.dot(x,y)"
   ]
  },
  {
   "cell_type": "code",
   "execution_count": 253,
   "metadata": {},
   "outputs": [],
   "source": [
    "new_name = 'xPyMxPzTxPyPzTTxMyPyPzMxTTTxPyPz'\n",
    "name2 = 'xPyMxPzTxPyPzTTxMyPyPzMxTTTxPyPy'\n"
   ]
  },
  {
   "cell_type": "code",
   "execution_count": 256,
   "metadata": {},
   "outputs": [],
   "source": [
    "com1 = compute(new_name)"
   ]
  },
  {
   "cell_type": "code",
   "execution_count": 22,
   "metadata": {},
   "outputs": [],
   "source": [
    "a = operator('xTiTTiTTTiPPPPiTxTTiTTTi')"
   ]
  },
  {
   "cell_type": "code",
   "execution_count": 28,
   "metadata": {},
   "outputs": [
    {
     "data": {
      "text/plain": [
       "(16, 16)"
      ]
     },
     "execution_count": 28,
     "metadata": {},
     "output_type": "execute_result"
    }
   ],
   "source": [
    "np.shape(a.constituents_operators[0])"
   ]
  },
  {
   "cell_type": "code",
   "execution_count": 29,
   "metadata": {},
   "outputs": [
    {
     "data": {
      "text/plain": [
       "(16, 16)"
      ]
     },
     "execution_count": 29,
     "metadata": {},
     "output_type": "execute_result"
    }
   ],
   "source": [
    "np.shape(a.matrix)"
   ]
  },
  {
   "cell_type": "code",
   "execution_count": 273,
   "metadata": {},
   "outputs": [
    {
     "name": "stdout",
     "output_type": "stream",
     "text": [
      "(16, 16)\n"
     ]
    }
   ],
   "source": [
    "a='xMzPyTzTTyTTTz'\n",
    "print(np.shape(compute(a)))"
   ]
  },
  {
   "cell_type": "code",
   "execution_count": 21,
   "metadata": {},
   "outputs": [],
   "source": [
    "def merge(s1, s2):\n",
    "    max_t_1, t_str_1 = find_max_letter(s1, \"T\")\n",
    "    max_t_2, t_str_2 = find_max_letter(s2, \"T\")    \n",
    "\n",
    "    p_str = ''\n",
    "    for i in range(len(t_str_1)):\n",
    "        p_str = p_str+'P'\n",
    "    \n",
    "    print(p_str)\n",
    "    \n",
    "    split_1 = s1.split(t_str_1)\n",
    "    split_2 = s2.split(t_str_2)\n",
    "    \n",
    "    print(\"split 1\", split_1)\n",
    "    print(\"split 2\", split_2)\n",
    "    out_str=[]\n",
    "    \n",
    "    out=''\n",
    "    for i in range(len(split_1)):\n",
    "        if i > 0 :\n",
    "            out += t_str_1\n",
    "        print(\"i=\", i, split_1[i], split_2[i])\n",
    "        out = out+ split_1[i] +p_str + split_2[i]\n",
    "    return out\n"
   ]
  },
  {
   "cell_type": "code",
   "execution_count": 28,
   "metadata": {},
   "outputs": [],
   "source": [
    "s1='xPiTyPz'\n",
    "s2='zTi'"
   ]
  },
  {
   "cell_type": "code",
   "execution_count": 29,
   "metadata": {},
   "outputs": [
    {
     "name": "stdout",
     "output_type": "stream",
     "text": [
      "P\n",
      "split 1 ['xPi', 'yPz']\n",
      "split 2 ['z', 'i']\n",
      "i= 0 xPi z\n",
      "i= 1 yPz i\n"
     ]
    },
    {
     "data": {
      "text/plain": [
       "'xPiPzTyPzPi'"
      ]
     },
     "execution_count": 29,
     "metadata": {},
     "output_type": "execute_result"
    }
   ],
   "source": [
    "merge(s1,s2)"
   ]
  },
  {
   "cell_type": "code",
   "execution_count": 259,
   "metadata": {},
   "outputs": [],
   "source": []
  },
  {
   "cell_type": "code",
   "execution_count": 258,
   "metadata": {},
   "outputs": [
    {
     "data": {
      "text/plain": [
       "[1, 2]"
      ]
     },
     "execution_count": 258,
     "metadata": {},
     "output_type": "execute_result"
    }
   ],
   "source": [
    "find_acted_on('xTyPxTTiPPPzTiTTi')"
   ]
  },
  {
   "cell_type": "code",
   "execution_count": 238,
   "metadata": {},
   "outputs": [],
   "source": [
    "running_list=[]\n",
    "running_list = list_by_p_sep[0]"
   ]
  },
  {
   "cell_type": "code",
   "execution_count": 231,
   "metadata": {},
   "outputs": [],
   "source": []
  },
  {
   "cell_type": "code",
   "execution_count": 232,
   "metadata": {},
   "outputs": [
    {
     "data": {
      "text/plain": [
       "[1, 2]"
      ]
     },
     "execution_count": 232,
     "metadata": {},
     "output_type": "execute_result"
    }
   ],
   "source": [
    "running_list"
   ]
  },
  {
   "cell_type": "code",
   "execution_count": 216,
   "metadata": {},
   "outputs": [
    {
     "data": {
      "text/plain": [
       "[2, 1]"
      ]
     },
     "execution_count": 216,
     "metadata": {},
     "output_type": "execute_result"
    }
   ],
   "source": [
    "p_qubits_list"
   ]
  },
  {
   "cell_type": "code",
   "execution_count": 200,
   "metadata": {},
   "outputs": [],
   "source": []
  },
  {
   "cell_type": "code",
   "execution_count": 205,
   "metadata": {},
   "outputs": [
    {
     "name": "stdout",
     "output_type": "stream",
     "text": [
      "Name:  yTiTTxTTTz\n",
      "String to analyse:  yTiTTxTTTz\n",
      "t_str:  TTT\n",
      "['yTiTTx', 'z']\n",
      "Adding qubit 4 because rhs= z\n",
      "Name:  yTiTTx\n",
      "String to analyse:  yTiTTx\n",
      "t_str:  TT\n",
      "['yTi', 'x']\n",
      "Adding qubit 3 because rhs= x\n",
      "Name:  yTi\n",
      "String to analyse:  yTi\n",
      "t_str:  T\n",
      "['y', 'i']\n",
      "Not adding qubit 2 because rhs =  i\n",
      "Adding qubit  1 because lhs =  y\n",
      "[4, 3, 1]\n",
      "[1, 3, 4]\n"
     ]
    }
   ],
   "source": [
    "name = 'yTiTTxTTTz'\n",
    "a=get_acted_on_qubits(name)\n",
    "print(a)"
   ]
  },
  {
   "cell_type": "code",
   "execution_count": 206,
   "metadata": {},
   "outputs": [
    {
     "data": {
      "text/plain": [
       "[1, 3, 4]"
      ]
     },
     "execution_count": 206,
     "metadata": {},
     "output_type": "execute_result"
    }
   ],
   "source": [
    "a"
   ]
  },
  {
   "cell_type": "code",
   "execution_count": 187,
   "metadata": {},
   "outputs": [
    {
     "name": "stdout",
     "output_type": "stream",
     "text": [
      "Name:  x\n",
      "Adding qubit 1\n"
     ]
    }
   ],
   "source": [
    "a = get_acted_on_qubits('x')"
   ]
  },
  {
   "cell_type": "code",
   "execution_count": 188,
   "metadata": {},
   "outputs": [
    {
     "data": {
      "text/plain": [
       "[]"
      ]
     },
     "execution_count": 188,
     "metadata": {},
     "output_type": "execute_result"
    }
   ],
   "source": [
    "a"
   ]
  },
  {
   "cell_type": "code",
   "execution_count": 62,
   "metadata": {},
   "outputs": [
    {
     "name": "stdout",
     "output_type": "stream",
     "text": [
      "T\n",
      "TT\n"
     ]
    }
   ],
   "source": [
    "this_t_str=''\n",
    "for i in range(max_t):\n",
    "    this_t_str=this_t_str+'T'\n",
    "    print(this_t_str)\n"
   ]
  },
  {
   "cell_type": "code",
   "execution_count": 38,
   "metadata": {},
   "outputs": [],
   "source": [
    "acted_on = []\n",
    "\n",
    "\n",
    "for i in range(len(split_by_t)):\n",
    "    if split_by_t[i]!='i':\n",
    "        acted_on.append(i)\n",
    "\n",
    "        "
   ]
  },
  {
   "cell_type": "code",
   "execution_count": 39,
   "metadata": {},
   "outputs": [
    {
     "data": {
      "text/plain": [
       "[0]"
      ]
     },
     "execution_count": 39,
     "metadata": {},
     "output_type": "execute_result"
    }
   ],
   "source": [
    "acted_on"
   ]
  },
  {
   "cell_type": "code",
   "execution_count": 32,
   "metadata": {},
   "outputs": [],
   "source": [
    "max_t, t_str = find_max_letter(name, \"T\")\n",
    "\n",
    "check_str = ''\n",
    "for i in range(max_t):\n",
    "    check_str += \"T\"\n",
    "    split_list = "
   ]
  },
  {
   "cell_type": "code",
   "execution_count": 92,
   "metadata": {},
   "outputs": [],
   "source": [
    "import locale\n",
    "def reorder(name):\n",
    "    max_t, t_str = find_max_letter(name, \"T\")\n",
    "    max_p, p_str = find_max_letter(name, \"P\")\n",
    "    if max_p==1:\n",
    "        to_add = name.split(p_str)\n",
    "        sorted_to_add = sorted(to_add)\n",
    "        return p_str.join(sorted_to_add)\n",
    "    else:\n",
    "        return name\n",
    "    "
   ]
  },
  {
   "cell_type": "code",
   "execution_count": 94,
   "metadata": {},
   "outputs": [
    {
     "data": {
      "text/plain": [
       "'xPy'"
      ]
     },
     "execution_count": 94,
     "metadata": {},
     "output_type": "execute_result"
    }
   ],
   "source": [
    "reorder('yPx')"
   ]
  },
  {
   "cell_type": "code",
   "execution_count": 107,
   "metadata": {},
   "outputs": [],
   "source": [
    "def split_letter(name, letter):\n",
    "    max_letter, letter_str = find_max_letter(name, letter)\n",
    "    if max_letter > 0:\n",
    "        return name.split(letter_str)\n",
    "    else: \n",
    "        return [name]\n",
    "    "
   ]
  },
  {
   "cell_type": "code",
   "execution_count": 108,
   "metadata": {},
   "outputs": [],
   "source": [
    "name  = 'yPxTz'    "
   ]
  },
  {
   "cell_type": "code",
   "execution_count": 119,
   "metadata": {},
   "outputs": [
    {
     "name": "stdout",
     "output_type": "stream",
     "text": [
      "xPyMz\n"
     ]
    }
   ],
   "source": [
    "\n",
    "split_t  = split_letter(name, \"T\")\n",
    "p_list = []\n",
    "m_str='M'\n",
    "for t_sub in split_t:\n",
    "    split_m = split_letter(t_sub, \"M\")\n",
    "    if len(split_m) >0:\n",
    "        m_list = []\n",
    "    for m_sub in split_m:\n",
    "        split_p = split_letter(m_sub, \"P\")\n",
    "        rearranged_by_p = sorted(split_p)\n",
    "        p_str='P'\n",
    "        \n",
    "        p_list.append(p_str.join(rearranged_by_p))\n",
    "    if len(split_m) >0:\n",
    "        m_list.append(m_str.join(p_list))\n",
    "    else: \n",
    "        m_list =(p_list)\n",
    "out_string = t_str.join(m_list)\n",
    "\n",
    "print(out_string)\n"
   ]
  },
  {
   "cell_type": "code",
   "execution_count": 120,
   "metadata": {},
   "outputs": [
    {
     "ename": "TypeError",
     "evalue": "'list' object is not callable",
     "output_type": "error",
     "traceback": [
      "\u001b[0;31m---------------------------------------------------------------------------\u001b[0m",
      "\u001b[0;31mTypeError\u001b[0m                                 Traceback (most recent call last)",
      "\u001b[0;32m<ipython-input-120-2f6078e4e68c>\u001b[0m in \u001b[0;36m<module>\u001b[0;34m()\u001b[0m\n\u001b[0;32m----> 1\u001b[0;31m \u001b[0msplit_t\u001b[0m\u001b[0;34m(\u001b[0m\u001b[0;34m'yPxTz'\u001b[0m\u001b[0;34m)\u001b[0m\u001b[0;34m\u001b[0m\u001b[0m\n\u001b[0m",
      "\u001b[0;31mTypeError\u001b[0m: 'list' object is not callable"
     ]
    }
   ],
   "source": [
    "split_t('yPxTz')"
   ]
  },
  {
   "cell_type": "code",
   "execution_count": 81,
   "metadata": {},
   "outputs": [],
   "source": [
    "ls = ['x', 'z','y']"
   ]
  },
  {
   "cell_type": "code",
   "execution_count": 74,
   "metadata": {},
   "outputs": [
    {
     "name": "stdout",
     "output_type": "stream",
     "text": [
      "['x', 'y', 'z']\n"
     ]
    }
   ],
   "source": [
    "print(sorted(ls))"
   ]
  },
  {
   "cell_type": "code",
   "execution_count": 89,
   "metadata": {},
   "outputs": [],
   "source": [
    "def do_commute(a,b):\n",
    "    ab = np.dot(a,b)\n",
    "    ba = np.dot(b,a)\n",
    "    diff = ab - ba\n",
    "    if np.max(np.abs(diff)) != 0:\n",
    "        print(\"Do not commute: \")\n",
    "        print(\"Diff: \\n\", diff)\n",
    "    else:\n",
    "        print(\"Commute\")\n",
    "    "
   ]
  },
  {
   "cell_type": "code",
   "execution_count": 90,
   "metadata": {},
   "outputs": [],
   "source": [
    "x = evo.sigmax()\n",
    "y = evo.sigmay()\n",
    "z = evo.sigmaz()\n",
    "i = np.eye(2)"
   ]
  },
  {
   "cell_type": "code",
   "execution_count": 91,
   "metadata": {},
   "outputs": [
    {
     "name": "stdout",
     "output_type": "stream",
     "text": [
      "Do not commute: \n",
      "Diff: \n",
      " [[ 0.+2.j  0.+0.j]\n",
      " [ 0.+0.j  0.-2.j]]\n"
     ]
    }
   ],
   "source": [
    "do_commute(x,y)"
   ]
  },
  {
   "cell_type": "code",
   "execution_count": null,
   "metadata": {},
   "outputs": [],
   "source": []
  }
 ],
 "metadata": {
  "anaconda-cloud": {},
  "kernelspec": {
   "display_name": "Python 3",
   "language": "python",
   "name": "python3"
  },
  "language_info": {
   "codemirror_mode": {
    "name": "ipython",
    "version": 3
   },
   "file_extension": ".py",
   "mimetype": "text/x-python",
   "name": "python",
   "nbconvert_exporter": "python",
   "pygments_lexer": "ipython3",
   "version": "3.5.2"
  }
 },
 "nbformat": 4,
 "nbformat_minor": 2
}
