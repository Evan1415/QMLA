{
 "cells": [
  {
   "cell_type": "code",
   "execution_count": 1,
   "metadata": {
    "collapsed": true
   },
   "outputs": [],
   "source": [
    "import matplotlib.pyplot as plt\n",
    "import networkx as nx\n",
    "%matplotlib inline\n",
    "plt.rcParams['figure.figsize'] = [15, 10]"
   ]
  },
  {
   "cell_type": "code",
   "execution_count": 2,
   "metadata": {
    "collapsed": true
   },
   "outputs": [],
   "source": [
    "from __future__ import print_function # so print doesn't show brackets\n",
    "import numpy as np\n",
    "import itertools as itr\n",
    "\n",
    "import os as os\n",
    "import sys as sys \n",
    "import pandas as pd\n",
    "import warnings\n",
    "import time as time\n",
    "import random\n",
    "import pickle\n",
    "pickle.HIGHEST_PROTOCOL = 2\n",
    "sys.path.append(os.path.join(\"..\", \"Libraries\",\"QML_lib\"))\n",
    "from RedisSettings import *\n",
    "import Evo as evo\n",
    "import DataBase \n",
    "from QMD import QMD #  class moved to QMD in Library\n",
    "import QML\n",
    "import ModelGeneration \n",
    "import BayesF\n",
    "import matplotlib.pyplot as plt\n",
    "import PlotQMD as ptq\n",
    "#from pympler import asizeof\n",
    "import matplotlib.pyplot as plt\n",
    "paulis = ['x', 'y', 'z'] # will be chosen at random. or uncomment below and comment within loop to hard-set\n",
    "\n",
    "import viz_library as v\n",
    "import time as time \n",
    "import argparse\n",
    "\n",
    "parser = argparse.ArgumentParser(description='Pass variables for (I)QLE.')\n",
    "\n",
    "import warnings\n",
    "warnings.filterwarnings(\"ignore\")\n"
   ]
  },
  {
   "cell_type": "code",
   "execution_count": 3,
   "metadata": {
    "collapsed": true
   },
   "outputs": [],
   "source": [
    "qmd=pickle.load(open('Results/13_Apr_18/11_59/qmd_class_001.p', \"rb\"))"
   ]
  },
  {
   "cell_type": "code",
   "execution_count": 4,
   "metadata": {
    "collapsed": true
   },
   "outputs": [],
   "source": [
    "def available_position_list(max_this_branch, max_any_branch):   \n",
    "    # Used to get a list of positions to place nodes centrally \n",
    "    N = 2*max_any_branch - 1\n",
    "    all_nums = list(range(N))\n",
    "    evens = [a for a in all_nums if a%2==0]\n",
    "    odds = [a for a in all_nums if a%2!=0]    \n",
    "    \n",
    "    diff = max_any_branch-max_this_branch \n",
    "    if diff%2==0:\n",
    "        all_positions = evens\n",
    "        even_odd = 'even'\n",
    "    else:\n",
    "        all_positions = odds\n",
    "        even_odd = 'odd'\n",
    "\n",
    "    if diff > 1:\n",
    "        if even_odd=='even':\n",
    "            to_cut = int(diff/2)\n",
    "            available_positions = all_positions[to_cut:-to_cut]\n",
    "        else:\n",
    "            to_cut = int((diff)/2)\n",
    "            available_positions = all_positions[to_cut:-to_cut]\n",
    "    else:\n",
    "        available_positions = all_positions\n",
    "        \n",
    "    return available_positions"
   ]
  },
  {
   "cell_type": "code",
   "execution_count": 5,
   "metadata": {
    "collapsed": false
   },
   "outputs": [
    {
     "data": {
      "text/plain": [
       "{0: {1.0: [0.7955337313663053], 2.0: [0.2903980132301283]},\n",
       " 1: {0.0: [1.2570177235382967], 2.0: [0.009525909042107343]},\n",
       " 2: {0.0: [3.4435497298238804],\n",
       "  1.0: [104.97685791242635],\n",
       "  3.0: [1.6248346863488712, 1.3870457570888366],\n",
       "  5.0: [1.7044561155382454],\n",
       "  7.0: [0.37121082271022976],\n",
       "  10.0: [0.42371925215824413],\n",
       "  11.0: [1.7735718469857231],\n",
       "  14.0: [0.010662144958808331],\n",
       "  15.0: [0.12291015390713826],\n",
       "  17.0: [0.22554606963373436]},\n",
       " 3: {2.0: [0.6154472257402857, 0.7209567491838358],\n",
       "  4.0: [5.740039742492384],\n",
       "  5.0: [123.10875093276975, 80.5983241972118],\n",
       "  7.0: [1.9321626688236746],\n",
       "  10.0: [0.3072778309814406],\n",
       "  11.0: [0.29821963904803683],\n",
       "  14.0: [0.04772057044964844],\n",
       "  15.0: [0.33132473281082164],\n",
       "  17.0: [0.5618247185904156]},\n",
       " 4: {3.0: [0.17421482164961277]},\n",
       " 5: {2.0: [0.5866974167793184],\n",
       "  3.0: [0.008122899407419905, 0.012407205856453699],\n",
       "  7.0: [0.19958173990787068, 25.151768497906396],\n",
       "  10.0: [0.1915533883619143],\n",
       "  11.0: [0.029645982523282224],\n",
       "  14.0: [1.5384702963996137],\n",
       "  15.0: [0.02705365726650557],\n",
       "  17.0: [0.0017858357414087206]},\n",
       " 6: {7.0: [0.06838485565924754], 8.0: [1.2410999973108037]},\n",
       " 7: {2.0: [2.6938869742507703],\n",
       "  3.0: [0.5175547670677297],\n",
       "  5.0: [5.010478415819063, 0.039758635663461946],\n",
       "  6.0: [14.62312072402206],\n",
       "  8.0: [1.0974695352460466],\n",
       "  10.0: [0.25215388871010114, 1.8478357143403752],\n",
       "  11.0: [0.6967465398606439],\n",
       "  14.0: [0.21412697103198144],\n",
       "  15.0: [1.2521797855252785],\n",
       "  17.0: [0.9341357839331794]},\n",
       " 8: {6.0: [0.8057368480918415], 7.0: [0.9111870242264224]},\n",
       " 9: {10.0: [0.5419069095528753]},\n",
       " 10: {2.0: [2.3600532543811235],\n",
       "  3.0: [3.2543838154741445],\n",
       "  5.0: [5.220476696087646],\n",
       "  7.0: [3.965832155575797, 0.5411736510120282],\n",
       "  9.0: [1.8453353931676106],\n",
       "  11.0: [0.58425544387416, 0.22507158023573196],\n",
       "  14.0: [0.13178524785365867],\n",
       "  15.0: [1.9421643938829196],\n",
       "  17.0: [45.60364940562111]},\n",
       " 11: {2.0: [0.5638339386698946],\n",
       "  3.0: [3.3532332182821847],\n",
       "  5.0: [33.73138330681597],\n",
       "  7.0: [1.4352421473094215],\n",
       "  10.0: [1.7115801153157681, 4.443030963538958],\n",
       "  14.0: [0.27260793670704053, 1.4895314172366168],\n",
       "  15.0: [0.3654436230781868],\n",
       "  17.0: [1.71082798271922, 0.5845123005356637]},\n",
       " 12: {13.0: [1.4763836516392153, 0.27009471501144566],\n",
       "  14.0: [0.2776853746029208, 0.29540162356026967]},\n",
       " 13: {12.0: [0.6773307188072079, 3.702404913615668],\n",
       "  14.0: [5.046550053043488, 0.8423367085898634]},\n",
       " 14: {2.0: [93.78975842697287],\n",
       "  3.0: [20.955323680699358],\n",
       "  5.0: [0.6499962997922272],\n",
       "  7.0: [4.670126304876571],\n",
       "  10.0: [7.5881027374964845],\n",
       "  11.0: [3.6682717755010006, 0.671352069804075],\n",
       "  12.0: [3.601197943643812, 3.3852217464064607],\n",
       "  13.0: [0.19815517323501372, 1.1871737154540933],\n",
       "  15.0: [0.42581758381968354, 2.5878060902756017],\n",
       "  17.0: [0.9744487431435405]},\n",
       " 15: {2.0: [8.136024308907182],\n",
       "  3.0: [3.018186995931196],\n",
       "  5.0: [36.96357908836503],\n",
       "  7.0: [0.7986073657789554],\n",
       "  10.0: [0.5148894723585811],\n",
       "  11.0: [2.73640019102495],\n",
       "  14.0: [2.3484234517273, 0.3864277171917081],\n",
       "  16.0: [3.3870719611168503],\n",
       "  17.0: [0.7549727794083891, 0.48596724475471215]},\n",
       " 16: {15.0: [0.2952402580989926]},\n",
       " 17: {2.0: [4.4336839991222465],\n",
       "  3.0: [1.779914565718895],\n",
       "  5.0: [559.961914084646],\n",
       "  7.0: [1.0705081822146876],\n",
       "  10.0: [0.021928069639899034],\n",
       "  11.0: [0.5845123005356637, 1.71082798271922],\n",
       "  14.0: [1.026221242560211],\n",
       "  15.0: [1.324551066309462, 2.057751856310278]}}"
      ]
     },
     "execution_count": 5,
     "metadata": {},
     "output_type": "execute_result"
    }
   ],
   "source": [
    "qmd.AllBayesFactors"
   ]
  },
  {
   "cell_type": "code",
   "execution_count": 7,
   "metadata": {
    "collapsed": true
   },
   "outputs": [],
   "source": [
    "import PlotQMD as pq"
   ]
  },
  {
   "cell_type": "code",
   "execution_count": 9,
   "metadata": {
    "collapsed": true
   },
   "outputs": [],
   "source": [
    "names=qmd.ModelNameIDs"
   ]
  },
  {
   "cell_type": "code",
   "execution_count": 10,
   "metadata": {
    "collapsed": true
   },
   "outputs": [],
   "source": [
    "bf = qmd.AllBayesFactors"
   ]
  },
  {
   "cell_type": "code",
   "execution_count": 11,
   "metadata": {
    "collapsed": false
   },
   "outputs": [
    {
     "data": {
      "text/plain": [
       "array([[  1.00000000e+00,   7.95533731e-01,   2.90398013e-01,\n",
       "          1.00000000e+00,   1.00000000e+00,   1.00000000e+00,\n",
       "          1.00000000e+00,   1.00000000e+00,   1.00000000e+00,\n",
       "          1.00000000e+00,   1.00000000e+00,   1.00000000e+00,\n",
       "          1.00000000e+00,   1.00000000e+00,   1.00000000e+00,\n",
       "          1.00000000e+00,   1.00000000e+00,   1.00000000e+00],\n",
       "       [  1.25701772e+00,   1.00000000e+00,   9.52590904e-03,\n",
       "          1.00000000e+00,   1.00000000e+00,   1.00000000e+00,\n",
       "          1.00000000e+00,   1.00000000e+00,   1.00000000e+00,\n",
       "          1.00000000e+00,   1.00000000e+00,   1.00000000e+00,\n",
       "          1.00000000e+00,   1.00000000e+00,   1.00000000e+00,\n",
       "          1.00000000e+00,   1.00000000e+00,   1.00000000e+00],\n",
       "       [  3.44354973e+00,   1.04976858e+02,   1.00000000e+00,\n",
       "          1.38704576e+00,   1.00000000e+00,   1.70445612e+00,\n",
       "          1.00000000e+00,   3.71210823e-01,   1.00000000e+00,\n",
       "          1.00000000e+00,   4.23719252e-01,   1.77357185e+00,\n",
       "          1.00000000e+00,   1.00000000e+00,   1.06621450e-02,\n",
       "          1.22910154e-01,   1.00000000e+00,   2.25546070e-01],\n",
       "       [  1.00000000e+00,   1.00000000e+00,   7.20956749e-01,\n",
       "          1.00000000e+00,   5.74003974e+00,   8.05983242e+01,\n",
       "          1.00000000e+00,   1.93216267e+00,   1.00000000e+00,\n",
       "          1.00000000e+00,   3.07277831e-01,   2.98219639e-01,\n",
       "          1.00000000e+00,   1.00000000e+00,   4.77205704e-02,\n",
       "          3.31324733e-01,   1.00000000e+00,   5.61824719e-01],\n",
       "       [  1.00000000e+00,   1.00000000e+00,   1.00000000e+00,\n",
       "          1.74214822e-01,   1.00000000e+00,   1.00000000e+00,\n",
       "          1.00000000e+00,   1.00000000e+00,   1.00000000e+00,\n",
       "          1.00000000e+00,   1.00000000e+00,   1.00000000e+00,\n",
       "          1.00000000e+00,   1.00000000e+00,   1.00000000e+00,\n",
       "          1.00000000e+00,   1.00000000e+00,   1.00000000e+00],\n",
       "       [  1.00000000e+00,   1.00000000e+00,   5.86697417e-01,\n",
       "          1.24072059e-02,   1.00000000e+00,   1.00000000e+00,\n",
       "          1.00000000e+00,   2.51517685e+01,   1.00000000e+00,\n",
       "          1.00000000e+00,   1.91553388e-01,   2.96459825e-02,\n",
       "          1.00000000e+00,   1.00000000e+00,   1.53847030e+00,\n",
       "          2.70536573e-02,   1.00000000e+00,   1.78583574e-03],\n",
       "       [  1.00000000e+00,   1.00000000e+00,   1.00000000e+00,\n",
       "          1.00000000e+00,   1.00000000e+00,   1.00000000e+00,\n",
       "          1.00000000e+00,   6.83848557e-02,   1.24110000e+00,\n",
       "          1.00000000e+00,   1.00000000e+00,   1.00000000e+00,\n",
       "          1.00000000e+00,   1.00000000e+00,   1.00000000e+00,\n",
       "          1.00000000e+00,   1.00000000e+00,   1.00000000e+00],\n",
       "       [  1.00000000e+00,   1.00000000e+00,   2.69388697e+00,\n",
       "          5.17554767e-01,   1.00000000e+00,   3.97586357e-02,\n",
       "          1.46231207e+01,   1.00000000e+00,   1.09746954e+00,\n",
       "          1.00000000e+00,   1.84783571e+00,   6.96746540e-01,\n",
       "          1.00000000e+00,   1.00000000e+00,   2.14126971e-01,\n",
       "          1.25217979e+00,   1.00000000e+00,   9.34135784e-01],\n",
       "       [  1.00000000e+00,   1.00000000e+00,   1.00000000e+00,\n",
       "          1.00000000e+00,   1.00000000e+00,   1.00000000e+00,\n",
       "          8.05736848e-01,   9.11187024e-01,   1.00000000e+00,\n",
       "          1.00000000e+00,   1.00000000e+00,   1.00000000e+00,\n",
       "          1.00000000e+00,   1.00000000e+00,   1.00000000e+00,\n",
       "          1.00000000e+00,   1.00000000e+00,   1.00000000e+00],\n",
       "       [  1.00000000e+00,   1.00000000e+00,   1.00000000e+00,\n",
       "          1.00000000e+00,   1.00000000e+00,   1.00000000e+00,\n",
       "          1.00000000e+00,   1.00000000e+00,   1.00000000e+00,\n",
       "          1.00000000e+00,   5.41906910e-01,   1.00000000e+00,\n",
       "          1.00000000e+00,   1.00000000e+00,   1.00000000e+00,\n",
       "          1.00000000e+00,   1.00000000e+00,   1.00000000e+00],\n",
       "       [  1.00000000e+00,   1.00000000e+00,   2.36005325e+00,\n",
       "          3.25438382e+00,   1.00000000e+00,   5.22047670e+00,\n",
       "          1.00000000e+00,   5.41173651e-01,   1.00000000e+00,\n",
       "          1.84533539e+00,   1.00000000e+00,   2.25071580e-01,\n",
       "          1.00000000e+00,   1.00000000e+00,   1.31785248e-01,\n",
       "          1.94216439e+00,   1.00000000e+00,   4.56036494e+01],\n",
       "       [  1.00000000e+00,   1.00000000e+00,   5.63833939e-01,\n",
       "          3.35323322e+00,   1.00000000e+00,   3.37313833e+01,\n",
       "          1.00000000e+00,   1.43524215e+00,   1.00000000e+00,\n",
       "          1.00000000e+00,   4.44303096e+00,   1.00000000e+00,\n",
       "          1.00000000e+00,   1.00000000e+00,   1.48953142e+00,\n",
       "          3.65443623e-01,   1.00000000e+00,   5.84512301e-01],\n",
       "       [  1.00000000e+00,   1.00000000e+00,   1.00000000e+00,\n",
       "          1.00000000e+00,   1.00000000e+00,   1.00000000e+00,\n",
       "          1.00000000e+00,   1.00000000e+00,   1.00000000e+00,\n",
       "          1.00000000e+00,   1.00000000e+00,   1.00000000e+00,\n",
       "          1.00000000e+00,   2.70094715e-01,   2.95401624e-01,\n",
       "          1.00000000e+00,   1.00000000e+00,   1.00000000e+00],\n",
       "       [  1.00000000e+00,   1.00000000e+00,   1.00000000e+00,\n",
       "          1.00000000e+00,   1.00000000e+00,   1.00000000e+00,\n",
       "          1.00000000e+00,   1.00000000e+00,   1.00000000e+00,\n",
       "          1.00000000e+00,   1.00000000e+00,   1.00000000e+00,\n",
       "          3.70240491e+00,   1.00000000e+00,   8.42336709e-01,\n",
       "          1.00000000e+00,   1.00000000e+00,   1.00000000e+00],\n",
       "       [  1.00000000e+00,   1.00000000e+00,   9.37897584e+01,\n",
       "          2.09553237e+01,   1.00000000e+00,   6.49996300e-01,\n",
       "          1.00000000e+00,   4.67012630e+00,   1.00000000e+00,\n",
       "          1.00000000e+00,   7.58810274e+00,   6.71352070e-01,\n",
       "          3.38522175e+00,   1.18717372e+00,   1.00000000e+00,\n",
       "          2.58780609e+00,   1.00000000e+00,   9.74448743e-01],\n",
       "       [  1.00000000e+00,   1.00000000e+00,   8.13602431e+00,\n",
       "          3.01818700e+00,   1.00000000e+00,   3.69635791e+01,\n",
       "          1.00000000e+00,   7.98607366e-01,   1.00000000e+00,\n",
       "          1.00000000e+00,   5.14889472e-01,   2.73640019e+00,\n",
       "          1.00000000e+00,   1.00000000e+00,   3.86427717e-01,\n",
       "          1.00000000e+00,   3.38707196e+00,   4.85967245e-01],\n",
       "       [  1.00000000e+00,   1.00000000e+00,   1.00000000e+00,\n",
       "          1.00000000e+00,   1.00000000e+00,   1.00000000e+00,\n",
       "          1.00000000e+00,   1.00000000e+00,   1.00000000e+00,\n",
       "          1.00000000e+00,   1.00000000e+00,   1.00000000e+00,\n",
       "          1.00000000e+00,   1.00000000e+00,   1.00000000e+00,\n",
       "          2.95240258e-01,   1.00000000e+00,   1.00000000e+00],\n",
       "       [  1.00000000e+00,   1.00000000e+00,   4.43368400e+00,\n",
       "          1.77991457e+00,   1.00000000e+00,   5.59961914e+02,\n",
       "          1.00000000e+00,   1.07050818e+00,   1.00000000e+00,\n",
       "          1.00000000e+00,   2.19280696e-02,   1.71082798e+00,\n",
       "          1.00000000e+00,   1.00000000e+00,   1.02622124e+00,\n",
       "          2.05775186e+00,   1.00000000e+00,   1.00000000e+00]])"
      ]
     },
     "execution_count": 11,
     "metadata": {},
     "output_type": "execute_result"
    }
   ],
   "source": [
    "pq.BayF_IndexDictToMatrix(names, bf)"
   ]
  },
  {
   "cell_type": "code",
   "execution_count": 16,
   "metadata": {
    "collapsed": true
   },
   "outputs": [],
   "source": [
    "def plotTreeDiagram(qmd, modlist=None, save_to_file=None, only_adjacent_branches=True, directed=False):\n",
    "    plt.clf()\n",
    "    plt.figure(figsize=(16,11))\n",
    "    if directed:\n",
    "        G=nx.DiGraph()\n",
    "    else:\n",
    "        G=nx.Graph()\n",
    "    losing_node_colour = 'r'\n",
    "    branch_champ_node_colour = 'b'\n",
    "    overall_champ_node_colour = 'g'\n",
    "    positions = {}\n",
    "    labels = {}\n",
    "    edges_weights = {}\n",
    "    branch_x_filled = {}\n",
    "    branch_mod_count = {}\n",
    "    node_colours = {}\n",
    "    \n",
    "    \n",
    "    max_branch_id = qmd.HighestBranchID\n",
    "    max_mod_id = qmd.HighestModelID\n",
    "    if modlist is None:\n",
    "        modlist = range(max_mod_id)\n",
    "    for i in range(max_branch_id+1):\n",
    "        branch_x_filled[i] = 0\n",
    "        branch_mod_count[i] =  0 \n",
    "\n",
    "    for i in modlist:\n",
    "        G.add_node(i)\n",
    "        node_colours[i] = losing_node_colour\n",
    "        mod = qmd.reducedModelInstanceFromID(i)\n",
    "        name = mod.Name\n",
    "        branch=qmd.pullField(name=name, field='branchID')\n",
    "        branch_mod_count[branch] += 1\n",
    "        latex_term = mod.LatexTerm[1:]\n",
    "        labels[i] = latex_term\n",
    "\n",
    "    # Set x-coordinate for each node based on how many nodes are on that branch (y-coordinate)\n",
    "    most_models_per_branch = max(branch_mod_count.values())\n",
    "    for i in modlist:\n",
    "        mod = qmd.reducedModelInstanceFromID(i)\n",
    "        name = mod.Name\n",
    "        branch=qmd.pullField(name=name, field='branchID')\n",
    "        num_models_this_branch = branch_mod_count[branch]\n",
    "        pos_list = available_position_list(num_models_this_branch, most_models_per_branch)\n",
    "        branch_filled_so_far = branch_x_filled[branch]\n",
    "        branch_x_filled[branch]+=1\n",
    "        \n",
    "        x_pos = pos_list[branch_filled_so_far]\n",
    "        y_pos = branch\n",
    "        positions[i] = (x_pos, y_pos)\n",
    "\n",
    "    # set node colour based on whether that model won a branch \n",
    "    for b in list(qmd.BranchChampions.values()):\n",
    "        node_colours[b] = branch_champ_node_colour\n",
    "    node_colours[qmd.ChampID] = overall_champ_node_colour\n",
    "    \n",
    "    edges = []\n",
    "    for a in modlist:\n",
    "        for b in modlist:\n",
    "            if adjacent_branch_test(qmd, a, b) or only_adjacent_branches==False:\n",
    "                if a!=b:\n",
    "                    unique_pair = DataBase.unique_model_pair_identifier(a,b)\n",
    "                    if unique_pair not in edges and unique_pair in qmd.BayesFactorsComputed:\n",
    "                        edges.append(unique_pair)\n",
    "    edge_tuples = []\n",
    "    weights = []\n",
    "    for pair in edges:\n",
    "        mod_ids = pair.split(\",\")\n",
    "        pair_tuple=tuple([int(s) for s in mod_ids])\n",
    "        pair_bf = qmd.AllBayesFactors[float(mod_ids[0])][float(mod_ids[1])][-1]\n",
    "        weights.append(pair_bf)\n",
    "        edge_tuples.append(pair_tuple)\n",
    "\n",
    "    weights = np.log10(weights)\n",
    "    \n",
    "    print(\"Len weights:\", len(weights))\n",
    "    print(\"Len edge tuples:\", len(edge_tuples))\n",
    "    \n",
    "    flipped=unflipped=0\n",
    "    # flip edges so they point TO winner for directed graph\n",
    "    for i in range(len(weights)):\n",
    "        if weights[i] < 0:\n",
    "            edge_tuples[i] = edge_tuples[i][::-1]\n",
    "\n",
    "    weights = tuple(weights)\n",
    "    edge_tuples = tuple(edge_tuples)\n",
    "    n_colours = tuple(node_colours.values())\n",
    "    \n",
    "    nx.draw_networkx(\n",
    "        G, \n",
    "        labels=labels, \n",
    "        pos=positions, \n",
    "        k=1.5, #node spacing\n",
    "        arrows=True,\n",
    "        width=5,\n",
    "        arrowstyle='->',\n",
    "        head_length=0.9,\n",
    "        head_width=1.8,\n",
    "        node_size=5000,\n",
    "        linewidth=5,\n",
    "        node_shape='8',\n",
    "        node_color=n_colours,\n",
    "        edgelist=edge_tuples,\n",
    "        edge_color=weights, \n",
    "        edge_cmap=plt.cm.Spectral,\n",
    "    )  \n",
    "    \n",
    "    edges_for_cmap = nx.draw_networkx_edges(G, pos=positions, arrows=True, edgelist=edge_tuples, edge_color=weights, edge_cmap=plt.cm.Spectral)\n",
    "    #nx.draw_networkx_edges(G, pos=positions, arrows=True, arrowstyle='->', edgelist=edge_tuples, edge_color=weights)\n",
    "    \n",
    "    plt.tight_layout()\n",
    "    plt.gca().invert_yaxis() # so branch 0 on top\n",
    "    plt.gca().get_xaxis().set_visible(False)\n",
    "    plt.ylabel('Branch')\n",
    "    if not directed:\n",
    "        plt.colorbar(edges_for_cmap) #TODO for some reason this doesn't work for DiGraph so no colorbar shows?\n",
    "    else:\n",
    "        pass\n",
    "        \n",
    "    plt.title('Tree Diagram for QMD')\n",
    "\n",
    "    if save_to_file is not None:\n",
    "        plt.savefig(save_to_file, bbox_inches='tight')\n",
    "    plt.show()"
   ]
  },
  {
   "cell_type": "code",
   "execution_count": 19,
   "metadata": {
    "collapsed": false
   },
   "outputs": [
    {
     "name": "stdout",
     "output_type": "stream",
     "text": [
      "Len weights: 20\n",
      "Len edge tuples: 20\n"
     ]
    },
    {
     "data": {
      "text/plain": [
       "<matplotlib.figure.Figure at 0x7fa9235e8b70>"
      ]
     },
     "metadata": {},
     "output_type": "display_data"
    },
    {
     "data": {
      "image/png": "[encoded data removed]",
      "text/plain": [
       "<matplotlib.figure.Figure at 0x7fa9235e8c88>"
      ]
     },
     "metadata": {},
     "output_type": "display_data"
    }
   ],
   "source": [
    "plotTreeDiagram(qmd, only_adjacent_branches=True, directed=0)"
   ]
  },
  {
   "cell_type": "code",
   "execution_count": 511,
   "metadata": {
    "collapsed": false
   },
   "outputs": [
    {
     "name": "stdout",
     "output_type": "stream",
     "text": [
      "Len weights: 8\n",
      "Len edge tuples: 8\n"
     ]
    },
    {
     "data": {
      "text/plain": [
       "<matplotlib.figure.Figure at 0x7f91410bff60>"
      ]
     },
     "metadata": {},
     "output_type": "display_data"
    },
    {
     "data": {
      "image/png": "[encoded data removed]",
      "text/plain": [
       "<matplotlib.figure.Figure at 0x7f9144e75eb8>"
      ]
     },
     "metadata": {},
     "output_type": "display_data"
    }
   ],
   "source": [
    "plotTreeDiagram(qmd, modlist=list(qmd.BranchChampions.values()) ,only_adjacent_branches=True, directed=0)"
   ]
  },
  {
   "cell_type": "code",
   "execution_count": 18,
   "metadata": {
    "collapsed": true
   },
   "outputs": [],
   "source": [
    "def adjacent_branch_test(qmd, mod1, mod2):\n",
    "    mod_a = qmd.reducedModelInstanceFromID(mod1).Name\n",
    "    mod_b = qmd.reducedModelInstanceFromID(mod2).Name\n",
    "    br_a = qmd.pullField(name=mod_a, field='branchID')\n",
    "    br_b = qmd.pullField(name=mod_b, field='branchID')\n",
    "       \n",
    "    diff = br_a - br_b\n",
    "    if diff in [-1, 0, 1]:\n",
    "        return True\n",
    "    else:\n",
    "        return False"
   ]
  }
 ],
 "metadata": {
  "anaconda-cloud": {},
  "kernelspec": {
   "display_name": "Python [default]",
   "language": "python",
   "name": "python3"
  },
  "language_info": {
   "codemirror_mode": {
    "name": "ipython",
    "version": 3
   },
   "file_extension": ".py",
   "mimetype": "text/x-python",
   "name": "python",
   "nbconvert_exporter": "python",
   "pygments_lexer": "ipython3",
   "version": "3.5.2"
  }
 },
 "nbformat": 4,
 "nbformat_minor": 2
}
