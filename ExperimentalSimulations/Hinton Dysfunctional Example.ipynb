{
 "cells": [
  {
   "cell_type": "code",
   "execution_count": 7,
   "metadata": {},
   "outputs": [],
   "source": [
    "from __future__ import print_function # so print doesn't show brackets\n",
    "import numpy as np\n",
    "import itertools as itr\n",
    "\n",
    "import os as os\n",
    "import sys as sys \n",
    "import pandas as pd\n",
    "import warnings\n",
    "import time as time\n",
    "import random\n",
    "import pickle\n",
    "pickle.HIGHEST_PROTOCOL = 2\n",
    "sys.path.append(os.path.join(\"..\", \"Libraries\",\"QML_lib\"))\n",
    "from RedisSettings import *\n",
    "import Evo as evo\n",
    "import DataBase \n",
    "from QMD import QMD #  class moved to QMD in Library\n",
    "import QML\n",
    "import ModelGeneration \n",
    "import BayesF\n",
    "import matplotlib.pyplot as plt\n",
    "import PlotQMD as ptq\n",
    "#from pympler import asizeof\n",
    "import matplotlib.pyplot as plt\n",
    "paulis = ['x', 'y', 'z'] # will be chosen at random. or uncomment below and comment within loop to hard-set\n",
    "\n",
    "import viz_library as v\n",
    "import time as time \n",
    "import argparse\n",
    "\n",
    "parser = argparse.ArgumentParser(description='Pass variables for (I)QLE.')\n",
    "\n",
    "import warnings\n",
    "warnings.filterwarnings(\"ignore\")\n"
   ]
  },
  {
   "cell_type": "code",
   "execution_count": 5,
   "metadata": {},
   "outputs": [],
   "source": [
    "only_adjacent_branches=True\n",
    "directed = False\n",
    "modlist = None\n",
    "save_to_file = None\n",
    "\n",
    "mydir = 'Results/5particlesTest/'\n",
    "qmd=pickle.load(open(mydir+'qmd_class_001.p', \"rb\"))\n",
    "res=pickle.load(open(mydir+'results_001.p', \"rb\"))\n",
    "global_avgs = pickle.load(open(mydir+'global_bayes_avg.p', 'rb'))\n",
    "global_model_ids = pickle.load(open(mydir+'global_model_ids.p', 'rb'))"
   ]
  },
  {
   "cell_type": "code",
   "execution_count": 6,
   "metadata": {},
   "outputs": [
    {
     "data": {
      "text/plain": [
       "{'xTi': 1,\n",
       " 'xTiPPxTxPPxTyPPxTzPPyTiPPyTyPPyTzPPzTiPPzTz': 18,\n",
       " 'xTiPPxTxPPxTyPPxTzPPyTiPPyTyPPzTiPPzTz': 17,\n",
       " 'xTiPPxTxPPxTyPPyTiPPyTyPPzTiPPzTz': 14,\n",
       " 'xTiPPxTxPPxTzPPyTiPPyTyPPyTzPPzTiPPzTz': 16,\n",
       " 'xTiPPxTxPPxTzPPyTiPPyTyPPzTiPPzTz': 13,\n",
       " 'xTiPPxTxPPyTiPPyTyPPyTzPPzTiPPzTz': 15,\n",
       " 'xTiPPxTxPPyTiPPyTyPPzTi': 10,\n",
       " 'xTiPPxTxPPyTiPPyTyPPzTiPPzTz': 12,\n",
       " 'xTiPPxTxPPyTiPPzTi': 7,\n",
       " 'xTiPPxTxPPyTiPPzTiPPzTz': 11,\n",
       " 'xTiPPyTi': 4,\n",
       " 'xTiPPyTiPPyTyPPzTi': 8,\n",
       " 'xTiPPyTiPPyTyPPzTiPPzTz': 20,\n",
       " 'xTiPPyTiPPzTi': 6,\n",
       " 'xTiPPyTiPPzTiPPzTz': 9,\n",
       " 'xTiPPzTi': 5,\n",
       " 'yTi': 2,\n",
       " 'yTiPPzTi': 19,\n",
       " 'zTi': 3}"
      ]
     },
     "execution_count": 6,
     "metadata": {},
     "output_type": "execute_result"
    }
   ],
   "source": [
    "global_model_ids"
   ]
  },
  {
   "cell_type": "code",
   "execution_count": 9,
   "metadata": {},
   "outputs": [
    {
     "data": {
      "image/png": "[encoded data removed]",
      "text/plain": [
       "<matplotlib.figure.Figure at 0x7f7f60ee7a20>"
      ]
     },
     "metadata": {},
     "output_type": "display_data"
    }
   ],
   "source": [
    "global_names_by_mod = {v:k for k,v in global_model_ids.items()}\n",
    "ptq.plotHinton(global_names_by_mod, global_avgs)"
   ]
  },
  {
   "cell_type": "code",
   "execution_count": 10,
   "metadata": {},
   "outputs": [
    {
     "data": {
      "text/plain": [
       "{1: {2: [0.96516329537577206], 3: [0.41589137126147258]},\n",
       " 2: {1: [1.0360941042734793],\n",
       "  3: [3.9546534197238841],\n",
       "  4: [1.2458884863702808],\n",
       "  6: [0.21781266708799346],\n",
       "  9: [0.1369384827849883],\n",
       "  12: [0.10343130286058874],\n",
       "  13: [0.053156174497781046],\n",
       "  17: [1.6408656082895854],\n",
       "  18: [2.3174619174540725],\n",
       "  20: [0.30670786371315828]},\n",
       " 3: {1: [2.4044740263949742], 2: [0.25286665956932847]},\n",
       " 4: {2: [0.83177337445309574],\n",
       "  6: [10.725196681154955],\n",
       "  9: [0.47392337768192472],\n",
       "  12: [2.3131431520749488],\n",
       "  13: [0.31763080594172205],\n",
       "  17: [0.33045120667194805],\n",
       "  18: [3.689180696656889],\n",
       "  19: [1.9239522598201666],\n",
       "  20: [1.4429350459417165]},\n",
       " 5: {1: [0.76695542056314048],\n",
       "  4: [1.4349460107829963],\n",
       "  6: [0.95549728358247177],\n",
       "  7: [1.1780103816122587],\n",
       "  11: [0.77440870150848151],\n",
       "  12: [1.4827587609637367],\n",
       "  15: [1.5721181714524437],\n",
       "  17: [1.4102936449570873],\n",
       "  18: [3.631182513837353]},\n",
       " 6: {2: [4.5911012126581836],\n",
       "  4: [0.094308271935272497],\n",
       "  9: [1.1691126100928764],\n",
       "  12: [0.3704958468464683],\n",
       "  13: [0.25054537289866124],\n",
       "  17: [0.33106729533887891],\n",
       "  18: [1.0151013650820691],\n",
       "  20: [0.90031129402835208]},\n",
       " 7: {8: [0.40798076715087794], 9: [0.81300653191203864]},\n",
       " 8: {7: [2.4510959351919244], 9: [0.5934010357276347]},\n",
       " 9: {2: [7.3025491422315048],\n",
       "  4: [2.1100457312134395],\n",
       "  6: [0.90387264266040535],\n",
       "  7: [1.2300024178750297],\n",
       "  8: [1.685200968302641],\n",
       "  12: [0.71908861430177273],\n",
       "  13: [0.48291184260860487],\n",
       "  17: [0.6937027871841619],\n",
       "  18: [0.70891267464771823],\n",
       "  20: [0.90767905622674028]},\n",
       " 10: {11: [0.8239494021082705]},\n",
       " 11: {20: [0.97693501882204881]},\n",
       " 12: {2: [9.6682529596273508],\n",
       "  4: [0.43231219784342978],\n",
       "  6: [2.6990855862802565],\n",
       "  9: [1.3906491913670322],\n",
       "  13: [1.0745792157682765],\n",
       "  17: [1.0976102798840177],\n",
       "  18: [0.572642556370624],\n",
       "  20: [0.90331718552033657]},\n",
       " 13: {2: [18.812489977843384],\n",
       "  4: [3.1483092360489651],\n",
       "  6: [3.9912930278080716],\n",
       "  9: [2.0707713329169479],\n",
       "  12: [1.2456701983818161],\n",
       "  14: [0.951572439030684],\n",
       "  15: [2.1031948952420505],\n",
       "  17: [1.3698976002214016],\n",
       "  18: [0.63704948033397868],\n",
       "  20: [1.2413120347954045]},\n",
       " 14: {13: [1.1185836893531178], 15: [0.78022175942316863]},\n",
       " 15: {13: [0.55802340057781108], 14: [1.4505684451960639]},\n",
       " 16: {17: [0.11841808853378166]},\n",
       " 17: {2: [0.6094344320144448],\n",
       "  4: [3.0261653757334877],\n",
       "  6: [3.0205339339737702],\n",
       "  9: [1.4415395447078163],\n",
       "  12: [0.91107018431502662],\n",
       "  13: [0.7329831112739611],\n",
       "  16: [8.4446558155237028],\n",
       "  18: [0.52495986174720499],\n",
       "  20: [0.62585770999534207]},\n",
       " 18: {2: [0.43150655139937938],\n",
       "  4: [0.27106289505043579],\n",
       "  6: [0.98512329349409544],\n",
       "  9: [1.4106109761642116],\n",
       "  12: [1.746290052800028],\n",
       "  13: [1.5697367800625808],\n",
       "  17: [1.9196153271860301],\n",
       "  20: [0.97280710770608747]},\n",
       " 19: {4: [0.51976341663148695]},\n",
       " 20: {2: [3.2604315647258],\n",
       "  4: [0.69303188858883136],\n",
       "  6: [1.1107269303771596],\n",
       "  9: [2.0172581498416302],\n",
       "  11: [1.02360953465028],\n",
       "  12: [1.4562168871728809],\n",
       "  13: [0.8055992143545293],\n",
       "  17: [1.5978072715720677],\n",
       "  18: [1.0279530156374312]}}"
      ]
     },
     "execution_count": 10,
     "metadata": {},
     "output_type": "execute_result"
    }
   ],
   "source": [
    "global_avgs"
   ]
  },
  {
   "cell_type": "code",
   "execution_count": null,
   "metadata": {},
   "outputs": [],
   "source": []
  }
 ],
 "metadata": {
  "kernelspec": {
   "display_name": "Python 3",
   "language": "python",
   "name": "python3"
  },
  "language_info": {
   "codemirror_mode": {
    "name": "ipython",
    "version": 3
   },
   "file_extension": ".py",
   "mimetype": "text/x-python",
   "name": "python",
   "nbconvert_exporter": "python",
   "pygments_lexer": "ipython3",
   "version": "3.5.2"
  }
 },
 "nbformat": 4,
 "nbformat_minor": 2
}
