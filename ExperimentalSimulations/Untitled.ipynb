{
 "cells": [
  {
   "cell_type": "code",
   "execution_count": null,
   "metadata": {},
   "outputs": [],
   "source": [
    "import networkx as nx\n",
    "import numpy as np\n",
    "import matplotlib.pyplot as plt\n",
    "%matplotlib inline\n",
    "import pylab\n",
    "\n",
    "G = nx.DiGraph()\n",
    "\n",
    "G.add_edges_from([('A', 'B'),('C','D'),('G','D')], weight=1)\n",
    "G.add_edges_from([('D','A'),('D','E'),('B','D'),('D','E')], weight=2)\n",
    "G.add_edges_from([('B','C'),('E','F')], weight=3)\n",
    "G.add_edges_from([('C','F')], weight=4)\n",
    "\n",
    "\n",
    "val_map = {'A': 1.0,\n",
    "                   'D': 0.5714285714285714,\n",
    "                              'H': 0.0}\n",
    "\n",
    "values = [val_map.get(node, 0.45) for node in G.nodes()]\n",
    "edge_labels=dict([((u,v,),d['weight'])\n",
    "                 for u,v,d in G.edges(data=True)])\n",
    "red_edges = [('C','D'),('D','A')]\n",
    "edge_colors = ['black' if not edge in red_edges else 'red' for edge in G.edges()]\n",
    "\n",
    "pos=nx.spring_layout(G)\n",
    "nx.draw_networkx_edge_labels(G,pos,edge_labels=edge_labels)\n",
    "nx.draw(G,pos, with_labels=True,  node_color = values, node_size=1500,edge_color=edge_colors,edge_cmap=plt.cm.Reds)\n",
    "pylab.show()"
   ]
  },
  {
   "cell_type": "code",
   "execution_count": 1,
   "metadata": {},
   "outputs": [],
   "source": [
    "import pickle\n",
    "import redis\n",
    "import sys,os\n",
    "sys.path.append(os.path.join(\"..\", \"Libraries\",\"QML_lib\"))\n",
    "from RedisSettings import *\n",
    "import Evo as evo\n",
    "import DataBase \n",
    "from QMD import QMD #  class moved to QMD in Library\n",
    "import QML\n",
    "import ModelGeneration \n",
    "import BayesF\n",
    "import matplotlib.pyplot as plt\n",
    "import PlotQMD as ptq\n",
    "#from pympler import asizeof\n",
    "import matplotlib.pyplot as plt\n",
    "paulis = ['x', 'y', 'z'] # will be chosen at random. or uncomment below and comment within loop to hard-set\n"
   ]
  },
  {
   "cell_type": "code",
   "execution_count": 2,
   "metadata": {},
   "outputs": [
    {
     "name": "stdout",
     "output_type": "stream",
     "text": [
      "No parameters passed, randomising\n",
      "Retrieving databases from redis\n",
      "Databases flushed for id 0\n",
      "QMD: self.RunParallel= False\n",
      "Saving qmd info db to  StrictRedis<ConnectionPool<Connection<host=localhost,port=6379,db=1>>>\n",
      "\n",
      "Running  QLE  for true operator  x  with parameters :  [0.19939478191463056]\n",
      "Model  x  not previously considered -- adding.\n",
      "Term x doesn't belong to rotations, Hartree-Fock or transverse.\n",
      "Given name: x\n"
     ]
    }
   ],
   "source": [
    "q = QMD()"
   ]
  },
  {
   "cell_type": "code",
   "execution_count": 5,
   "metadata": {},
   "outputs": [],
   "source": [
    "pk = pickle.dumps(q)"
   ]
  },
  {
   "cell_type": "code",
   "execution_count": 7,
   "metadata": {},
   "outputs": [],
   "source": [
    "sys.path.append(os.path.join(\"..\", \"Results\",\"14_May_18\"))\n"
   ]
  },
  {
   "cell_type": "code",
   "execution_count": 66,
   "metadata": {},
   "outputs": [],
   "source": [
    "qmd=pickle.load(open('Results/14_May_18/13_31/qmd_class_002.p', \"rb\"))"
   ]
  },
  {
   "cell_type": "code",
   "execution_count": 17,
   "metadata": {},
   "outputs": [
    {
     "data": {
      "text/plain": [
       "{0: 'xTi',\n",
       " 1: 'yTi',\n",
       " 2: 'zTi',\n",
       " 3: 'xTiPPyTi',\n",
       " 4: 'xTiPPzTi',\n",
       " 5: 'xTiPPyTiPPzTi',\n",
       " 6: 'xTiPPyTiPPzTiPPxTx',\n",
       " 7: 'xTiPPyTiPPzTiPPyTy',\n",
       " 8: 'xTiPPyTiPPzTiPPzTz',\n",
       " 9: 'xTiPPyTiPPzTiPPzTzPPxTx',\n",
       " 10: 'xTiPPyTiPPzTiPPzTzPPyTy',\n",
       " 11: 'xTiPPyTiPPzTiPPzTzPPyTyPPxTx',\n",
       " 12: 'xTiPPyTiPPzTiPPzTzPPyTyPPxTxPPxTy',\n",
       " 13: 'xTiPPyTiPPzTiPPzTzPPyTyPPxTxPPyTz',\n",
       " 14: 'xTiPPyTiPPzTiPPzTzPPyTyPPxTxPPxTz',\n",
       " 15: 'xTiPPyTiPPzTiPPzTzPPyTyPPxTxPPxTyPPxTz',\n",
       " 16: 'xTiPPyTiPPzTiPPzTzPPyTyPPxTxPPxTyPPyTz',\n",
       " 17: 'xTiPPyTiPPzTiPPzTzPPyTyPPxTxPPxTyPPxTzPPyTz'}"
      ]
     },
     "execution_count": 17,
     "metadata": {},
     "output_type": "execute_result"
    }
   ],
   "source": [
    "qq.ModelNameIDs"
   ]
  },
  {
   "cell_type": "code",
   "execution_count": 18,
   "metadata": {},
   "outputs": [
    {
     "data": {
      "text/plain": [
       "{0: {1.0: [1.0962872886901285],\n",
       "  2.0: [1.7986397729045454],\n",
       "  3.0: [0.46217282019508266, 0.18088939587344088],\n",
       "  5.0: [8.748666138801577],\n",
       "  8.0: [2.23203690669421],\n",
       "  10.0: [0.7546508504982711],\n",
       "  11.0: [1.3857986634700987],\n",
       "  12.0: [0.514431099525993],\n",
       "  15.0: [1.3637229304861231],\n",
       "  17.0: [0.004980536746393269]},\n",
       " 1: {0.0: [0.9121696569106671], 2.0: [0.08771983238518716]},\n",
       " 2: {0.0: [0.5559756962257892], 1.0: [11.399930583643766]},\n",
       " 3: {0.0: [2.163692792617924, 5.528240034035213],\n",
       "  4.0: [2.1697396500032347],\n",
       "  5.0: [3.6828721226467316, 4.28007910191848],\n",
       "  8.0: [0.11971499148316159],\n",
       "  10.0: [0.05934111182049022],\n",
       "  11.0: [0.03028200109976282],\n",
       "  12.0: [0.16450800106065658],\n",
       "  15.0: [4.010158542937429],\n",
       "  17.0: [15.124381341912967]},\n",
       " 4: {3.0: [0.46088478864204246]},\n",
       " 5: {0.0: [0.11430313880248076],\n",
       "  3.0: [0.27152721210459524, 0.2336405417254474],\n",
       "  8.0: [1.7267247896366942, 2.4923870711454423],\n",
       "  10.0: [3.8908164591122736],\n",
       "  11.0: [0.5620983897113541],\n",
       "  12.0: [0.021702845191679643],\n",
       "  15.0: [1.4142250597023922],\n",
       "  17.0: [46.59828072125674]},\n",
       " 6: {7.0: [0.41165675906446825], 8.0: [0.8966743831158975]},\n",
       " 7: {6.0: [2.4292082614472346], 8.0: [0.014500811494128029]},\n",
       " 8: {0.0: [0.44802126568823825],\n",
       "  3.0: [8.353172711378042],\n",
       "  5.0: [0.5791310844679549, 0.4012217891743531],\n",
       "  6.0: [1.1152320383292889],\n",
       "  7.0: [68.96165779445798],\n",
       "  10.0: [0.05358709930729896, 0.39825864476263695],\n",
       "  11.0: [0.407740765102551],\n",
       "  12.0: [0.09571411100475485],\n",
       "  15.0: [1.1080910306620415],\n",
       "  17.0: [1.011577435982997]},\n",
       " 9: {10.0: [0.481085445903577]},\n",
       " 10: {0.0: [1.325116110767957],\n",
       "  3.0: [16.851723355387225],\n",
       "  5.0: [0.2570154646225999],\n",
       "  8.0: [18.661207882617983, 2.5109310573685155],\n",
       "  9.0: [2.078632826070627],\n",
       "  11.0: [2.1000900992376064, 0.6517060133950151],\n",
       "  12.0: [15.770428421241613],\n",
       "  15.0: [0.8699108972372587],\n",
       "  17.0: [62.031346138962164]},\n",
       " 11: {0.0: [0.7216055451344985],\n",
       "  3.0: [33.02291670572036],\n",
       "  5.0: [1.7790479715010659],\n",
       "  8.0: [2.452538685329856],\n",
       "  10.0: [0.4761700464008801, 1.5344342072134223],\n",
       "  12.0: [1.219390784909515, 2.4295729279193345],\n",
       "  15.0: [1.3528191050203267],\n",
       "  17.0: [6.373418095784936]},\n",
       " 12: {0.0: [1.943894917942208],\n",
       "  3.0: [6.078731694218842],\n",
       "  5.0: [46.076907943082794],\n",
       "  8.0: [10.44778026460824],\n",
       "  10.0: [0.063409818255354],\n",
       "  11.0: [0.8200816443550581, 0.4115949714900682],\n",
       "  13.0: [0.1998278462465826, 6.630895791706079, 2.9434380776473814],\n",
       "  14.0: [11.079424941010505, 0.3829449542357384, 4.063421101556075],\n",
       "  15.0: [0.7100434640966067, 0.6740883416995317],\n",
       "  17.0: [1.4569067965303617]},\n",
       " 13: {12.0: [5.004307551641351, 0.1508091864828881, 0.3397387591042091],\n",
       "  14.0: [0.45973414438273646, 7.839273202876978, 0.47751293341250384]},\n",
       " 14: {12.0: [0.09025739199680832, 2.6113413662695937, 0.24609804768131294],\n",
       "  13.0: [2.175170176543344, 0.1275628459578376, 2.0941841152941945]},\n",
       " 15: {0.0: [0.7332867825603933],\n",
       "  3.0: [0.24936669941919629],\n",
       "  5.0: [0.7071010325686343],\n",
       "  8.0: [0.9024529324116437],\n",
       "  10.0: [1.149543020067791],\n",
       "  11.0: [0.739197130118128],\n",
       "  12.0: [1.408364488323693, 1.483485083689135],\n",
       "  16.0: [1.9813331173922388],\n",
       "  17.0: [0.6637568870183355, 1.6677180132477667]},\n",
       " 16: {15.0: [0.50471068757795]},\n",
       " 17: {0.0: [200.78157253315422],\n",
       "  3.0: [0.06611840692146405],\n",
       "  5.0: [0.021460019222207697],\n",
       "  8.0: [0.9885550669961843],\n",
       "  10.0: [0.016120881816103223],\n",
       "  11.0: [0.15690167896899007],\n",
       "  12.0: [0.6863857059226507],\n",
       "  15.0: [1.5065757049875645, 0.5996217538314936]}}"
      ]
     },
     "execution_count": 18,
     "metadata": {},
     "output_type": "execute_result"
    }
   ],
   "source": [
    "qq.AllBayesFactors"
   ]
  },
  {
   "cell_type": "code",
   "execution_count": 19,
   "metadata": {},
   "outputs": [],
   "source": [
    "import pandas"
   ]
  },
  {
   "cell_type": "code",
   "execution_count": 20,
   "metadata": {},
   "outputs": [],
   "source": [
    "csv_1 = {'this': 1, 'that' : 1}\n",
    "csv_2 = {'this': 4, 'theother' : 23}"
   ]
  },
  {
   "cell_type": "code",
   "execution_count": 24,
   "metadata": {},
   "outputs": [],
   "source": [
    "ds = [csv_1, csv_2]\n",
    "df = pandas.DataFrame(ds)\n",
    "df.to_csv('test.csv', index=True)"
   ]
  },
  {
   "cell_type": "code",
   "execution_count": 25,
   "metadata": {},
   "outputs": [
    {
     "data": {
      "text/html": [
       "<div>\n",
       "<style>\n",
       "    .dataframe thead tr:only-child th {\n",
       "        text-align: right;\n",
       "    }\n",
       "\n",
       "    .dataframe thead th {\n",
       "        text-align: left;\n",
       "    }\n",
       "\n",
       "    .dataframe tbody tr th {\n",
       "        vertical-align: top;\n",
       "    }\n",
       "</style>\n",
       "<table border=\"1\" class=\"dataframe\">\n",
       "  <thead>\n",
       "    <tr style=\"text-align: right;\">\n",
       "      <th></th>\n",
       "      <th>that</th>\n",
       "      <th>theother</th>\n",
       "      <th>this</th>\n",
       "    </tr>\n",
       "  </thead>\n",
       "  <tbody>\n",
       "    <tr>\n",
       "      <th>0</th>\n",
       "      <td>1.0</td>\n",
       "      <td>NaN</td>\n",
       "      <td>1</td>\n",
       "    </tr>\n",
       "    <tr>\n",
       "      <th>1</th>\n",
       "      <td>NaN</td>\n",
       "      <td>23.0</td>\n",
       "      <td>4</td>\n",
       "    </tr>\n",
       "  </tbody>\n",
       "</table>\n",
       "</div>"
      ],
      "text/plain": [
       "   that  theother  this\n",
       "0   1.0       NaN     1\n",
       "1   NaN      23.0     4"
      ]
     },
     "execution_count": 25,
     "metadata": {},
     "output_type": "execute_result"
    }
   ],
   "source": [
    "df"
   ]
  },
  {
   "cell_type": "code",
   "execution_count": 27,
   "metadata": {},
   "outputs": [],
   "source": [
    "import csv"
   ]
  },
  {
   "cell_type": "code",
   "execution_count": 29,
   "metadata": {},
   "outputs": [],
   "source": [
    "import csv\n",
    "\n",
    "with open('names2.csv', 'w') as csvfile:\n",
    "#    fieldnames = ['first_name', 'last_name']\n",
    "    writer = csv.DictWriter(csvfile, fieldnames=fieldnames)\n",
    "\n",
    "    writer.writeheader()\n",
    "    writer.writerow({'first_name': 'Baked', 'last_name': 'Beans'})\n",
    "    writer.writerow({'first_name': 'Lovely', 'last_name': 'Spam'})\n",
    "    writer.writerow({'first_name': 'Wonderful', 'last_name': 'Spam'})"
   ]
  },
  {
   "cell_type": "code",
   "execution_count": 31,
   "metadata": {},
   "outputs": [
    {
     "data": {
      "text/plain": [
       "'xTi'"
      ]
     },
     "execution_count": 31,
     "metadata": {},
     "output_type": "execute_result"
    }
   ],
   "source": [
    "qq.ModelNameIDs[0]"
   ]
  },
  {
   "cell_type": "code",
   "execution_count": 48,
   "metadata": {},
   "outputs": [],
   "source": [
    "qmd = qq"
   ]
  },
  {
   "cell_type": "code",
   "execution_count": 81,
   "metadata": {},
   "outputs": [],
   "source": [
    "\n",
    "def BayesFactorsCSV(qmd, save_to_file, names_ids='latex'):\n",
    "    fields = ['ID', 'Name']\n",
    "    if names_ids=='latex':\n",
    "        names = [DataBase.latex_name_ising(qmd.ModelNameIDs[i]) for i in range(qmd.HighestModelID)]\n",
    "    elif names_ids=='nonlatex':\n",
    "        names = [qmd.ModelNameIDs[i] for i in range(qmd.HighestModelID)]\n",
    "    elif names_ids=='ids':\n",
    "        names=range(qmd.HighestModelID)\n",
    "    else:\n",
    "        print(\"BayesFactorsCSV names_ids must be latex, nonlatex, or ids.\")\n",
    "\n",
    "    fields.extend(names)\n",
    "\n",
    "    with open(save_to_file, 'w') as csvfile:\n",
    "\n",
    "        fieldnames = fields\n",
    "        writer = csv.DictWriter(csvfile, fieldnames=fieldnames)\n",
    "\n",
    "        writer.writeheader()\n",
    "        for i in range(qmd.HighestModelID):\n",
    "            model_bf = {}\n",
    "            for j in qmd.AllBayesFactors[i].keys():\n",
    "                if names_ids=='latex':\n",
    "                    other_model_name = DataBase.latex_name_ising(qmd.ModelNameIDs[j])\n",
    "                elif names_ids=='nonlatex':\n",
    "                    other_model_name = qmd.ModelNameIDs[j]\n",
    "                elif names_ids=='ids':\n",
    "                    other_model_name = j\n",
    "                model_bf[other_model_name] = qmd.AllBayesFactors[i][j][-1]\n",
    "\n",
    "            if names_ids=='latex':\n",
    "                model_bf['Name'] = DataBase.latex_name_ising(qmd.ModelNameIDs[i])\n",
    "            else:\n",
    "                model_bf['Name'] = qmd.ModelNameIDs[i]\n",
    "            model_bf['ID'] = i\n",
    "            writer.writerow(model_bf)\n",
    "    "
   ]
  },
  {
   "cell_type": "code",
   "execution_count": 84,
   "metadata": {},
   "outputs": [],
   "source": [
    "BayesFactorsCSV(qmd, save_to_file='csv_test_latex.csv', names_ids='ids')"
   ]
  },
  {
   "cell_type": "code",
   "execution_count": 57,
   "metadata": {},
   "outputs": [
    {
     "data": {
      "text/plain": [
       "dict_keys([1.0, 2.0, 3.0, 5.0, 'Name', 8.0, 10.0, 11.0, 12.0, 15.0, 17.0, 'ID'])"
      ]
     },
     "execution_count": 57,
     "metadata": {},
     "output_type": "execute_result"
    }
   ],
   "source": [
    "i=0\n",
    "j=1\n",
    "qmd.AllBayesFactors[i].keys()"
   ]
  },
  {
   "cell_type": "code",
   "execution_count": 45,
   "metadata": {},
   "outputs": [],
   "source": [
    "\n",
    "ll=['Name']"
   ]
  },
  {
   "cell_type": "code",
   "execution_count": 46,
   "metadata": {},
   "outputs": [],
   "source": [
    "ll.extend(range(2))"
   ]
  },
  {
   "cell_type": "code",
   "execution_count": 47,
   "metadata": {},
   "outputs": [
    {
     "data": {
      "text/plain": [
       "['Name', 0, 1]"
      ]
     },
     "execution_count": 47,
     "metadata": {},
     "output_type": "execute_result"
    }
   ],
   "source": [
    "ll"
   ]
  },
  {
   "cell_type": "code",
   "execution_count": null,
   "metadata": {},
   "outputs": [],
   "source": []
  }
 ],
 "metadata": {
  "anaconda-cloud": {},
  "kernelspec": {
   "display_name": "Python 3",
   "language": "python",
   "name": "python3"
  },
  "language_info": {
   "codemirror_mode": {
    "name": "ipython",
    "version": 3
   },
   "file_extension": ".py",
   "mimetype": "text/x-python",
   "name": "python",
   "nbconvert_exporter": "python",
   "pygments_lexer": "ipython3",
   "version": "3.5.2"
  }
 },
 "nbformat": 4,
 "nbformat_minor": 2
}
