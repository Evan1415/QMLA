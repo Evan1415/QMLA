{
 "cells": [
  {
   "cell_type": "code",
   "execution_count": 1,
   "metadata": {},
   "outputs": [
    {
     "name": "stderr",
     "output_type": "stream",
     "text": [
      "/usr/local/lib/python2.7/dist-packages/pandas/core/computation/__init__.py:18: UserWarning: The installed version of numexpr 2.4.3 is not supported in pandas and will be not be used\n",
      "The minimum supported version is 2.4.6\n",
      "\n",
      "  ver=ver, min_ver=_MIN_NUMEXPR_VERSION), UserWarning)\n"
     ]
    },
    {
     "name": "stdout",
     "output_type": "stream",
     "text": [
      "\n",
      "Running  QLE  for true operator  x  with parameters :  [0.2730166517163882]\n",
      "probe dict given to add model function\n",
      "Model  x  not previously considered -- adding.\n",
      "Initialization Ready\n",
      "probe dict given to add model function\n",
      "Model  y  not previously considered -- adding.\n",
      "Initialization Ready\n",
      "probe dict given to add model function\n",
      "Model  z  not previously considered -- adding.\n",
      "Initialization Ready\n"
     ]
    }
   ],
   "source": [
    "from __future__ import print_function # so print doesn't show brackets\n",
    "import numpy as np\n",
    "import itertools as itr\n",
    "\n",
    "import os as os\n",
    "import sys as sys \n",
    "import pandas as pd\n",
    "import warnings\n",
    "import time as time\n",
    "import random\n",
    "import pickle\n",
    "pickle.HIGHEST_PROTOCOL = 2\n",
    "sys.path.append(os.path.join(\"..\", \"Libraries\",\"QML_lib\"))\n",
    "import Evo as evo\n",
    "import DataBase \n",
    "from QMD import QMD #  class moved to QMD in Library\n",
    "import QML\n",
    "import ModelGeneration \n",
    "import BayesF\n",
    "import matplotlib.pyplot as plt\n",
    "from pympler import asizeof\n",
    "import matplotlib.pyplot as plt\n",
    "paulis = ['x', 'y', 'z'] # will be chosen at random. or uncomment below and comment within loop to hard-set\n",
    "\n",
    "import time as time \n",
    "import argparse\n",
    "parser = argparse.ArgumentParser(description='Pass variables for (I)QLE.')\n",
    "import redis\n",
    "redis_db = redis.StrictRedis(host=\"localhost\", port=6379, db=0)\n",
    "learned_models_info = redis.StrictRedis(host=\"localhost\", port=6379, db=1)\n",
    "\n",
    "\n",
    "num_particles=50\n",
    "num_experiments = 30\n",
    "qle=True\n",
    "\n",
    "initial_op_list = ['x', 'y', 'z']\n",
    "true_op = random.choice(initial_op_list)\n",
    "global_true_op = true_op\n",
    "\n",
    "op = DataBase.operator(global_true_op)\n",
    "n_pars = op.num_constituents\n",
    "true_params = [np.random.rand() for i in range(n_pars)]\n",
    "\n",
    "qmd = QMD(\n",
    "    initial_op_list=initial_op_list, \n",
    "    true_operator=true_op, \n",
    "    true_param_list=true_params, \n",
    "    num_particles=num_particles,\n",
    "    num_experiments = num_experiments, \n",
    "    qle=qle,\n",
    "    max_num_branches = 0,\n",
    "    max_num_qubits = 2, \n",
    "    parallel = True\n",
    ")"
   ]
  },
  {
   "cell_type": "code",
   "execution_count": 2,
   "metadata": {},
   "outputs": [
    {
     "name": "stdout",
     "output_type": "stream",
     "text": [
      "Model x added to queue.\n"
     ]
    }
   ],
   "source": [
    "qmd.learnModel(model_name = true_op, use_rq=True)"
   ]
  },
  {
   "cell_type": "code",
   "execution_count": null,
   "metadata": {},
   "outputs": [],
   "source": [
    "a=qmd.pullField(true_op, field='Reduced_Model_Class_Instance')"
   ]
  },
  {
   "cell_type": "code",
   "execution_count": null,
   "metadata": {},
   "outputs": [],
   "source": [
    "a.FinalParams"
   ]
  },
  {
   "cell_type": "code",
   "execution_count": null,
   "metadata": {},
   "outputs": [],
   "source": [
    "import redis\n",
    "redis_db = redis.StrictRedis(host=\"localhost\", port=6379, db=0)\n",
    "learned_models_info = redis.StrictRedis(host=\"localhost\", port=6379, db=1)\n"
   ]
  },
  {
   "cell_type": "code",
   "execution_count": 11,
   "metadata": {},
   "outputs": [
    {
     "name": "stdout",
     "output_type": "stream",
     "text": [
      "Time =  0.00101039409637\n"
     ]
    }
   ],
   "source": [
    "a = time.time()\n",
    "for i in range(10):\n",
    "    pickle.loads(learned_models_info['1.0'])\n",
    "b = time.time()\n",
    "print(\"Time = \", (b-a)/10)    "
   ]
  },
  {
   "cell_type": "code",
   "execution_count": 5,
   "metadata": {},
   "outputs": [
    {
     "data": {
      "text/plain": [
       "{'debug_directory': None,\n",
       " 'num_experiments': 30,\n",
       " 'num_particles': 50,\n",
       " 'num_probes': 20,\n",
       " 'pgh_prefactor': 1.0,\n",
       " 'probe_dict': {(0,\n",
       "   0): array([ 0.79689323+0.24145942j,  0.30643444+0.46125531j]),\n",
       "  (0, 1): array([ 0.79689323+0.24145942j,  0.30643444+0.46125531j]),\n",
       "  (0, 2): array([ 0.01535157+0.31402808j,  0.63338383+0.43967839j,\n",
       "         -0.12509525+0.16754495j,  0.13864971+0.49367464j]),\n",
       "  (1, 0): array([ 0.53462877+0.20344984j,  0.77937869+0.2556347j ]),\n",
       "  (1, 1): array([ 0.53462877+0.20344984j,  0.77937869+0.2556347j ]),\n",
       "  (1, 2): array([ 0.21942296+0.16624296j,  0.14503397+0.48000182j,\n",
       "          0.32540996+0.22343305j,  0.23985440+0.67781719j]),\n",
       "  (2, 0): array([ 0.02704372+0.82158708j,  0.24542669+0.51383757j]),\n",
       "  (2, 1): array([ 0.02704372+0.82158708j,  0.24542669+0.51383757j]),\n",
       "  (2, 2): array([-0.22993935+0.36977411j, -0.44044007+0.54050369j,\n",
       "         -0.04317551+0.2985313j , -0.12931745+0.46535497j]),\n",
       "  (3, 0): array([ 0.19766997+0.41050683j,  0.71815461+0.52598925j]),\n",
       "  (3, 1): array([ 0.19766997+0.41050683j,  0.71815461+0.52598925j]),\n",
       "  (3, 2): array([ 0.05827354+0.32179465j, -0.28449159+0.1403788j ,\n",
       "          0.39628557+0.50119719j, -0.36140878+0.503541j  ]),\n",
       "  (4, 0): array([ 0.53105161+0.36604798j,  0.62780351+0.43572447j]),\n",
       "  (4, 1): array([ 0.53105161+0.36604798j,  0.62780351+0.43572447j]),\n",
       "  (4, 2): array([-0.23549072+0.50593077j,  0.02198002+0.3226484j ,\n",
       "         -0.28094223+0.59853764j,  0.02481225+0.38236314j]),\n",
       "  (5, 0): array([ 0.67188701+0.61146329j,  0.34228601+0.23983489j]),\n",
       "  (5, 1): array([ 0.67188701+0.61146329j,  0.34228601+0.23983489j]),\n",
       "  (5, 2): array([-0.17132189+0.81588884j,  0.18967521+0.30711078j,\n",
       "         -0.03057818+0.38231995j,  0.10447514+0.12908085j]),\n",
       "  (6, 0): array([ 0.53902007+0.63184285j,  0.38401373+0.40344198j]),\n",
       "  (6, 1): array([ 0.53902007+0.63184285j,  0.38401373+0.40344198j]),\n",
       "  (6, 2): array([ 0.15430775+0.42192575j,  0.23513736+0.65775849j,\n",
       "          0.11873029+0.27691106j,  0.18146451+0.43188655j]),\n",
       "  (7, 0): array([ 0.07015093+0.64001926j,  0.74625521+0.16898922j]),\n",
       "  (7, 1): array([ 0.07015093+0.64001926j,  0.74625521+0.16898922j]),\n",
       "  (7, 2): array([-0.12684388+0.32544244j, -0.14059806+0.52227946j,\n",
       "          0.31653854+0.26852261j,  0.53236933+0.36018891j]),\n",
       "  (8, 0): array([ 0.31820849+0.74123311j,  0.51974718+0.28138888j]),\n",
       "  (8, 1): array([ 0.31820849+0.74123311j,  0.51974718+0.28138888j]),\n",
       "  (8, 2): array([-0.20685699+0.58771653j, -0.22369356+0.4609163j ,\n",
       "          0.14821176+0.43178383j,  0.08090898+0.36656045j]),\n",
       "  (9, 0): array([ 0.51040267+0.3089259j ,  0.66865415+0.44379672j]),\n",
       "  (9, 1): array([ 0.51040267+0.3089259j ,  0.66865415+0.44379672j]),\n",
       "  (9, 2): array([ 0.24150672+0.39332368j,  0.29523905+0.23611646j,\n",
       "          0.30253391+0.54215399j,  0.38356022+0.33388283j]),\n",
       "  (10, 0): array([ 0.34322953+0.58744861j,  0.15126875+0.71708813j]),\n",
       "  (10, 1): array([ 0.34322953+0.58744861j,  0.15126875+0.71708813j]),\n",
       "  (10, 2): array([-0.11343155+0.65050826j, -0.01966937+0.16275067j,\n",
       "         -0.33694725+0.62640399j, -0.07539752+0.15967912j]),\n",
       "  (11, 0): array([ 0.19631451+0.42439252j,  0.72797183+0.50140663j]),\n",
       "  (11, 1): array([ 0.19631451+0.42439252j,  0.72797183+0.50140663j]),\n",
       "  (11, 2): array([-0.13748318+0.35219445j, -0.23413083+0.14452888j,\n",
       "          0.11542684+0.7053293j , -0.24174109+0.46054324j]),\n",
       "  (12, 0): array([ 0.34197745+0.64561058j,  0.13191719+0.66995243j]),\n",
       "  (12, 1): array([ 0.34197745+0.64561058j,  0.13191719+0.66995243j]),\n",
       "  (12, 2): array([-0.33156004+0.29129608j,  0.24086910+0.53005491j,\n",
       "         -0.37525421+0.17125573j,  0.07260186+0.53928019j]),\n",
       "  (13, 0): array([ 0.28114376+0.53763199j,  0.53145060+0.59116012j]),\n",
       "  (13, 1): array([ 0.28114376+0.53763199j,  0.53145060+0.59116012j]),\n",
       "  (13, 2): array([-0.18911154+0.21010016j, -0.21269002+0.49289723j,\n",
       "         -0.17182921+0.32810094j, -0.10993081+0.69472997j]),\n",
       "  (14, 0): array([ 0.29497113+0.00760483j,  0.79736521+0.52644365j]),\n",
       "  (14, 1): array([ 0.29497113+0.00760483j,  0.79736521+0.52644365j]),\n",
       "  (14, 2): array([ 0.05552634+0.14717185j,  0.19395468+0.15717714j,\n",
       "         -0.09968527+0.49950411j,  0.26348258+0.76424448j]),\n",
       "  (15, 0): array([ 0.25911672+0.34398447j,  0.77341374+0.46514986j]),\n",
       "  (15, 1): array([ 0.25911672+0.34398447j,  0.77341374+0.46514986j]),\n",
       "  (15, 2): array([-0.00681793+0.38069492j, -0.14524346+0.1392696j ,\n",
       "          0.28543805+0.7451355j , -0.17297603+0.38459162j]),\n",
       "  (16, 0): array([ 0.74112086+0.23168696j,  0.10280557+0.62168484j]),\n",
       "  (16, 1): array([ 0.74112086+0.23168696j,  0.10280557+0.62168484j]),\n",
       "  (16, 2): array([ 0.26640058+0.36871009j,  0.25025899+0.57740195j,\n",
       "         -0.16988428+0.32772337j, -0.32701045+0.39225237j]),\n",
       "  (17, 0): array([ 0.12390054+0.27235766j,  0.71828652+0.62811976j]),\n",
       "  (17, 1): array([ 0.12390054+0.27235766j,  0.71828652+0.62811976j]),\n",
       "  (17, 2): array([ 0.00600378+0.09153122j, -0.09237914+0.2694107j ,\n",
       "          0.13787960+0.25798244j,  0.08615364+0.90414699j]),\n",
       "  (18, 0): array([ 0.53338376+0.24098794j,  0.60378582+0.54117398j]),\n",
       "  (18, 1): array([ 0.53338376+0.24098794j,  0.60378582+0.54117398j]),\n",
       "  (18, 2): array([ 0.07424947+0.18121767j,  0.49172236+0.24985937j,\n",
       "          0.02234368+0.27037565j,  0.54505302+0.53548254j]),\n",
       "  (19, 0): array([ 0.55867264+0.19936399j,  0.28253399+0.75386565j]),\n",
       "  (19, 1): array([ 0.55867264+0.19936399j,  0.28253399+0.75386565j]),\n",
       "  (19, 2): array([ 0.46171609+0.203633j  ,  0.29108883+0.1117151j ,\n",
       "          0.19319916+0.65707208j,  0.13908224+0.39965658j])},\n",
       " 'qle': True,\n",
       " 'resampler_a': 0.95,\n",
       " 'resampler_thresh': 0.5,\n",
       " 'sigma_threshold': 1e-13,\n",
       " 'true_oplist': [array([[ 0.+0.j,  1.+0.j],\n",
       "         [ 1.+0.j,  0.+0.j]])],\n",
       " 'true_params': [0.2730166517163882]}"
      ]
     },
     "execution_count": 5,
     "metadata": {},
     "output_type": "execute_result"
    }
   ],
   "source": [
    "\n",
    "pickle.loads(learned_models_info['QMDInfo'])"
   ]
  },
  {
   "cell_type": "code",
   "execution_count": null,
   "metadata": {},
   "outputs": [],
   "source": [
    "from pympler import asizeof\n",
    "\n",
    "asizeof.asizeof(learned_models_info['1.0'])"
   ]
  },
  {
   "cell_type": "code",
   "execution_count": null,
   "metadata": {},
   "outputs": [],
   "source": [
    "myfile=open('../Libraries/QML_lib/test_pickled_model_dict.pkl', 'rb')\n",
    "a=pickle.load(myfile)\n",
    "myfile.close()"
   ]
  },
  {
   "cell_type": "code",
   "execution_count": null,
   "metadata": {},
   "outputs": [],
   "source": [
    "a"
   ]
  },
  {
   "cell_type": "code",
   "execution_count": 4,
   "metadata": {},
   "outputs": [
    {
     "data": {
      "text/plain": [
       "[u'f3c2b374-f269-4c57-96e0-1541e25ee3c4',\n",
       " u'a0a2852f-b375-48ed-99c4-7be0a15e5a70']"
      ]
     },
     "execution_count": 4,
     "metadata": {},
     "output_type": "execute_result"
    }
   ],
   "source": [
    "import rq \n",
    "from redis import Redis\n",
    "red_con = Redis()\n",
    "\n",
    "rq.registry.FinishedJobRegistry('default', connection=red_con).get_job_ids()"
   ]
  },
  {
   "cell_type": "code",
   "execution_count": null,
   "metadata": {},
   "outputs": [],
   "source": [
    "red_con.keys()"
   ]
  },
  {
   "cell_type": "code",
   "execution_count": null,
   "metadata": {},
   "outputs": [],
   "source": [
    "red_con.keys()"
   ]
  },
  {
   "cell_type": "code",
   "execution_count": null,
   "metadata": {},
   "outputs": [],
   "source": [
    "import json"
   ]
  },
  {
   "cell_type": "code",
   "execution_count": null,
   "metadata": {},
   "outputs": [],
   "source": [
    "json.dumps"
   ]
  }
 ],
 "metadata": {
  "kernelspec": {
   "display_name": "Python 2",
   "language": "python",
   "name": "python2"
  },
  "language_info": {
   "codemirror_mode": {
    "name": "ipython",
    "version": 2
   },
   "file_extension": ".py",
   "mimetype": "text/x-python",
   "name": "python",
   "nbconvert_exporter": "python",
   "pygments_lexer": "ipython2",
   "version": "2.7.12"
  }
 },
 "nbformat": 4,
 "nbformat_minor": 2
}
