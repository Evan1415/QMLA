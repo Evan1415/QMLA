{
 "cells": [
  {
   "cell_type": "code",
   "execution_count": 1,
   "metadata": {},
   "outputs": [
    {
     "name": "stderr",
     "output_type": "stream",
     "text": [
      "/usr/local/lib/python2.7/dist-packages/pandas/core/computation/__init__.py:18: UserWarning: The installed version of numexpr 2.4.3 is not supported in pandas and will be not be used\n",
      "The minimum supported version is 2.4.6\n",
      "\n",
      "  ver=ver, min_ver=_MIN_NUMEXPR_VERSION), UserWarning)\n"
     ]
    },
    {
     "name": "stdout",
     "output_type": "stream",
     "text": [
      "\n",
      "Running  QLE  for true operator  y  with parameters :  [0.08214677202459408]\n",
      "probe dict given to add model function\n",
      "Model  x  not previously considered -- adding.\n",
      "Initialization Ready\n",
      "probe dict given to add model function\n",
      "Model  y  not previously considered -- adding.\n",
      "Initialization Ready\n",
      "probe dict given to add model function\n",
      "Model  z  not previously considered -- adding.\n",
      "Initialization Ready\n"
     ]
    }
   ],
   "source": [
    "from __future__ import print_function # so print doesn't show brackets\n",
    "import numpy as np\n",
    "import itertools as itr\n",
    "\n",
    "import os as os\n",
    "import sys as sys \n",
    "import pandas as pd\n",
    "import warnings\n",
    "import time as time\n",
    "import random\n",
    "import pickle\n",
    "pickle.HIGHEST_PROTOCOL = 2\n",
    "sys.path.append(os.path.join(\"..\", \"Libraries\",\"QML_lib\"))\n",
    "from RedisSettings import *\n",
    "import Evo as evo\n",
    "import DataBase \n",
    "from QMD import QMD #  class moved to QMD in Library\n",
    "import QML\n",
    "import ModelGeneration \n",
    "import BayesF\n",
    "import matplotlib.pyplot as plt\n",
    "from pympler import asizeof\n",
    "import matplotlib.pyplot as plt\n",
    "paulis = ['x', 'y', 'z'] # will be chosen at random. or uncomment below and comment within loop to hard-set\n",
    "\n",
    "import time as time \n",
    "import argparse\n",
    "parser = argparse.ArgumentParser(description='Pass variables for (I)QLE.')\n",
    "import redis\n",
    "redis_db = redis.StrictRedis(host=\"localhost\", port=6379, db=0)\n",
    "learned_models_info = redis.StrictRedis(host=\"localhost\", port=6379, db=1)\n",
    "\n",
    "\n",
    "num_particles=50\n",
    "num_experiments = 30\n",
    "qle=True\n",
    "\n",
    "#initial_op_list = ['x', 'y', 'z', 'xTx', 'yTz', 'xTz']\n",
    "initial_op_list = ['x', 'y', 'z']\n",
    "true_op = random.choice(initial_op_list)\n",
    "global_true_op = true_op\n",
    "\n",
    "op = DataBase.operator(global_true_op)\n",
    "n_pars = op.num_constituents\n",
    "true_params = [np.random.rand() for i in range(n_pars)]\n",
    "\n",
    "qmd = QMD(\n",
    "    initial_op_list=initial_op_list, \n",
    "    true_operator=true_op, \n",
    "    true_param_list=true_params, \n",
    "    num_particles=num_particles,\n",
    "    num_experiments = num_experiments, \n",
    "    qle=qle,\n",
    "    max_num_branches = 0,\n",
    "    max_num_qubits = 2, \n",
    "    parallel = True\n",
    ")"
   ]
  },
  {
   "cell_type": "code",
   "execution_count": 2,
   "metadata": {},
   "outputs": [
    {
     "name": "stdout",
     "output_type": "stream",
     "text": [
      "Model x added to queue.\n",
      "Model y added to queue.\n",
      "Model z added to queue.\n"
     ]
    }
   ],
   "source": [
    "qmd.learnModelNameList(model_name_list=initial_op_list, blocking=False)"
   ]
  },
  {
   "cell_type": "code",
   "execution_count": 3,
   "metadata": {},
   "outputs": [
    {
     "name": "stdout",
     "output_type": "stream",
     "text": [
      "Bayes factor calculation queued.\n"
     ]
    }
   ],
   "source": [
    "qmd.remoteBayes(0.0,1.0)"
   ]
  },
  {
   "cell_type": "code",
   "execution_count": 4,
   "metadata": {},
   "outputs": [
    {
     "name": "stdout",
     "output_type": "stream",
     "text": [
      "Bayes factor b/w  x & y  =  1.0\n"
     ]
    }
   ],
   "source": [
    "qmd.compareModels(model_a_id=0.0, model_b_id=1.0 )"
   ]
  },
  {
   "cell_type": "code",
   "execution_count": null,
   "metadata": {},
   "outputs": [],
   "source": [
    "from RemoteBayesFactor import *"
   ]
  },
  {
   "cell_type": "code",
   "execution_count": null,
   "metadata": {},
   "outputs": [],
   "source": [
    "model_a_id='1'\n",
    "modelClassForRemoteBayesFactor('0')"
   ]
  },
  {
   "cell_type": "code",
   "execution_count": null,
   "metadata": {},
   "outputs": [],
   "source": [
    "model_id_str = '0'\n",
    "pickle.loads(learned_models_info['1.0'])"
   ]
  },
  {
   "cell_type": "code",
   "execution_count": null,
   "metadata": {},
   "outputs": [],
   "source": [
    "BayesFactorRemote(0.0,1.0)"
   ]
  },
  {
   "cell_type": "code",
   "execution_count": null,
   "metadata": {},
   "outputs": [],
   "source": [
    "qmd.db"
   ]
  },
  {
   "cell_type": "code",
   "execution_count": null,
   "metadata": {},
   "outputs": [],
   "source": [
    "\n",
    "pl=pickle.loads(qmd_info_db['ProbeDict'])"
   ]
  },
  {
   "cell_type": "code",
   "execution_count": null,
   "metadata": {},
   "outputs": [],
   "source": [
    "import rq"
   ]
  },
  {
   "cell_type": "code",
   "execution_count": null,
   "metadata": {},
   "outputs": [],
   "source": [
    "from redis import Redis\n",
    "a = Redis()\n",
    "rq.Worker.count(connection=a)"
   ]
  },
  {
   "cell_type": "code",
   "execution_count": null,
   "metadata": {},
   "outputs": [],
   "source": [
    "countWorkers()"
   ]
  },
  {
   "cell_type": "code",
   "execution_count": null,
   "metadata": {},
   "outputs": [],
   "source": [
    "39 % 20"
   ]
  },
  {
   "cell_type": "code",
   "execution_count": null,
   "metadata": {},
   "outputs": [],
   "source": [
    "pl[20,1.0]"
   ]
  },
  {
   "cell_type": "code",
   "execution_count": null,
   "metadata": {},
   "outputs": [],
   "source": [
    "a=pickle.loads(qmd_info_db['QMDInfo'])"
   ]
  },
  {
   "cell_type": "code",
   "execution_count": null,
   "metadata": {},
   "outputs": [],
   "source": [
    "a"
   ]
  },
  {
   "cell_type": "code",
   "execution_count": null,
   "metadata": {},
   "outputs": [],
   "source": []
  }
 ],
 "metadata": {
  "kernelspec": {
   "display_name": "Python 2",
   "language": "python",
   "name": "python2"
  },
  "language_info": {
   "codemirror_mode": {
    "name": "ipython",
    "version": 2
   },
   "file_extension": ".py",
   "mimetype": "text/x-python",
   "name": "python",
   "nbconvert_exporter": "python",
   "pygments_lexer": "ipython2",
   "version": "2.7.12"
  }
 },
 "nbformat": 4,
 "nbformat_minor": 2
}
