{
 "cells": [
  {
   "cell_type": "code",
   "execution_count": 1,
   "metadata": {},
   "outputs": [
    {
     "name": "stderr",
     "output_type": "stream",
     "text": [
      "/usr/local/lib/python2.7/dist-packages/pandas/core/computation/__init__.py:18: UserWarning: The installed version of numexpr 2.4.3 is not supported in pandas and will be not be used\n",
      "The minimum supported version is 2.4.6\n",
      "\n",
      "  ver=ver, min_ver=_MIN_NUMEXPR_VERSION), UserWarning)\n"
     ]
    }
   ],
   "source": [
    "from __future__ import print_function # so print doesn't show brackets\n",
    "import numpy as np\n",
    "import itertools as itr\n",
    "\n",
    "import os as os\n",
    "import sys as sys \n",
    "import pandas as pd\n",
    "import warnings\n",
    "import time as time\n",
    "import random\n",
    "import pickle\n",
    "pickle.HIGHEST_PROTOCOL = 2\n",
    "sys.path.append(os.path.join(\"..\", \"Libraries\",\"QML_lib\"))\n",
    "from RedisSettings import *\n",
    "import Evo as evo\n",
    "import DataBase \n",
    "from QMD import QMD #  class moved to QMD in Library\n",
    "import QML\n",
    "import ModelGeneration \n",
    "import BayesF\n",
    "import matplotlib.pyplot as plt\n",
    "%matplotlib inline\n",
    "from pympler import asizeof\n",
    "import matplotlib.pyplot as plt\n",
    "paulis = ['x', 'y', 'z'] # will be chosen at random. or uncomment below and comment within loop to hard-set\n",
    "\n",
    "import time as time \n",
    "import argparse\n",
    "\n",
    "parser = argparse.ArgumentParser(description='Pass variables for (I)QLE.')\n",
    "\n",
    "import warnings\n",
    "warnings.filterwarnings(\"ignore\")"
   ]
  },
  {
   "cell_type": "code",
   "execution_count": 3,
   "metadata": {},
   "outputs": [
    {
     "name": "stdout",
     "output_type": "stream",
     "text": [
      "No parameters passed, randomising\n",
      "\n",
      "Running  QLE  for true operator  xTxTTxTTTx  with parameters :  [0.12938945776643496]\n",
      "Model  x  not previously considered -- adding.\n",
      "Initialization Ready\n",
      "Spawn number 0\n",
      "Model  x being learned\n",
      "QHL for x\n",
      "Initialization Ready\n",
      "Initial time selected > 12.4910989642\n",
      "Final time selected > 2.4505196818\n",
      "Final Parameters mean and stdev:[ 0.00358046  0.11770274]\n",
      "Champion of branch  0  is  x\n",
      "Branches :  [ 0.]\n",
      "Champion of branch  0.0  is  x\n",
      "Overall champion within spawn function: x\n",
      "generating new models according to options: ['x']\n",
      "New models to add to new branch :  ['xTx']\n",
      "Model  xTx  not previously considered -- adding.\n",
      "Initialization Ready\n",
      "Spawn number 1\n",
      "Model  xTx being learned\n",
      "QHL for xTx\n",
      "Initialization Ready\n",
      "Initial time selected > 0.95374142461\n",
      "Final time selected > 11.9436011557\n",
      "Final Parameters mean and stdev:[-0.07764578  0.12202192]\n",
      "Champion of branch  1  is  xTx\n",
      "Branches :  [ 0.  1.]\n",
      "Champion of branch  0.0  is  x\n",
      "Champion of branch  1.0  is  xTx\n",
      "Bayes factor bw x / xTx = 2e-03\n",
      "Overall champion within spawn function: xTx\n",
      "generating new models according to options: ['x']\n",
      "New models to add to new branch :  ['xTxTTx']\n",
      "Model  xTxTTx  not previously considered -- adding.\n",
      "Initialization Ready\n",
      "Spawn number 2\n",
      "Model  xTxTTx being learned\n",
      "QHL for xTxTTx\n",
      "Initialization Ready\n",
      "Initial time selected > 3.22981287435\n",
      "Final time selected > 45.4221381055\n",
      "Final Parameters mean and stdev:[ 0.12535    0.0219198]\n",
      "Champion of branch  2  is  xTxTTx\n",
      "Branches :  [ 0.  1.  2.]\n",
      "Champion of branch  0.0  is  x\n",
      "Champion of branch  1.0  is  xTx\n",
      "Champion of branch  2.0  is  xTxTTx\n",
      "Bayes factor bw x / xTx = 2e-04\n",
      "Bayes factor bw x / xTxTTx = 2e-06\n",
      "Bayes factor bw xTx / xTxTTx = 4e-05\n",
      "Overall champion within spawn function: xTxTTx\n",
      "generating new models according to options: ['x']\n",
      "New models to add to new branch :  ['xTxTTxTTTx']\n",
      "Model  xTxTTxTTTx  not previously considered -- adding.\n",
      "Initialization Ready\n",
      "Spawn number 3\n",
      "Model  xTxTTxTTTx being learned\n",
      "QHL for xTxTTxTTTx\n",
      "Initialization Ready\n",
      "Initial time selected > 1.13916040192\n",
      "Final time selected > 0.972644641439\n",
      "Final Parameters mean and stdev:[ 0.01406094  0.13196668]\n",
      "Champion of branch  3  is  xTxTTxTTTx\n",
      "Branches :  [ 0.  1.  2.  3.]\n",
      "Champion of branch  0.0  is  x\n",
      "Champion of branch  1.0  is  xTx\n",
      "Champion of branch  2.0  is  xTxTTx\n",
      "Champion of branch  3.0  is  xTxTTxTTTx\n",
      "Bayes factor bw x / xTx = 3e+02\n",
      "Bayes factor bw x / xTxTTx = 2e-09\n",
      "Bayes factor bw x / xTxTTxTTTx = 1e-07\n",
      "Bayes factor bw xTx / xTxTTx = 6e-06\n",
      "Bayes factor bw xTx / xTxTTxTTTx = 3e+00\n",
      "Bayes factor bw xTxTTx / xTxTTxTTTx = 3e+02\n",
      "Overall champion within spawn function: xTxTTx\n",
      "generating new models according to options: ['x']\n",
      "New models to add to new branch :  ['xTxTTxTTTx']\n",
      "Model xTxTTxTTTx  previously considered.\n",
      "Spawn number 4\n",
      "New models have already been considered\n",
      "Branches :  [ 0.  1.  2.  3.]\n",
      "Champion of branch  0.0  is  x\n",
      "Champion of branch  1.0  is  xTx\n",
      "Champion of branch  2.0  is  xTxTTx\n",
      "Champion of branch  3.0  is  xTxTTxTTTx\n",
      "Bayes factor bw x / xTx = 8e-03\n",
      "Bayes factor bw x / xTxTTx = 1e-10\n",
      "Bayes factor bw x / xTxTTxTTTx = 2e-06\n",
      "Bayes factor bw xTx / xTxTTx = 6e-02\n",
      "Bayes factor bw xTx / xTxTTxTTTx = 6e-01\n",
      "Bayes factor bw xTxTTx / xTxTTxTTTx = 6e+02\n",
      "Final winner =  xTxTTx\n"
     ]
    }
   ],
   "source": [
    "num_runs=1\n",
    "num_particles=400\n",
    "num_experiments = 100\n",
    "num_times_bayes = 'all'\n",
    "qle=True\n",
    "\n",
    "#initial_op_list = ['x', 'y', 'z', 'xTx', 'yTz', 'xTz']\n",
    "#initial_op_list = ['y', 'xTyPPzTx', 'xTy']\n",
    "#initial_op_list = ['y', 'xTyPPzTx', 'xPy']\n",
    "#initial_op_list = ['xPy', 'y', 'xTyTTx']\n",
    "#true_op = random.choice(initial_op_list)\n",
    "#true_params = [np.random.rand() for i in range(n_pars)]\n",
    "\n",
    "initial_op_list = ['x']\n",
    "\n",
    "\n",
    "num_ops = len(initial_op_list)\n",
    "\n",
    "for i in range(1):\n",
    "#    true_op=initial_op_list[i%2]\n",
    "#    true_op= initial_op_list[-1]\n",
    "    true_op = 'xTxTTxTTTx'\n",
    "    true_params = [np.random.rand()]\n",
    "    qmd = QMD(\n",
    "        initial_op_list=initial_op_list, \n",
    "        true_operator=true_op, \n",
    "        true_param_list=None, \n",
    "        num_particles=num_particles,\n",
    "        num_experiments = num_experiments, \n",
    "        num_times_for_bayes_updates = num_times_bayes,\n",
    "        qle=qle,\n",
    "        num_probes=5,\n",
    "        max_num_branches = 0,\n",
    "        max_num_qubits = 10, \n",
    "        parallel = True\n",
    "    )\n",
    "   # qmd.learnModelNameList(model_name_list=['z'], blocking=True, use_rq=False)\n",
    "    qmd.runRemoteQMD(num_spawns=7)\n"
   ]
  },
  {
   "cell_type": "code",
   "execution_count": null,
   "metadata": {},
   "outputs": [],
   "source": [
    "qmd.db"
   ]
  },
  {
   "cell_type": "code",
   "execution_count": null,
   "metadata": {},
   "outputs": [],
   "source": [
    "qmd.TrueOpName"
   ]
  },
  {
   "cell_type": "code",
   "execution_count": null,
   "metadata": {},
   "outputs": [],
   "source": [
    "qmd.BranchRankings"
   ]
  },
  {
   "cell_type": "code",
   "execution_count": null,
   "metadata": {},
   "outputs": [],
   "source": [
    "qmd.ModelNameIDs"
   ]
  },
  {
   "cell_type": "code",
   "execution_count": null,
   "metadata": {},
   "outputs": [],
   "source": [
    "sorted(bayes_factors_winners_db.keys())"
   ]
  },
  {
   "cell_type": "code",
   "execution_count": null,
   "metadata": {},
   "outputs": [],
   "source": [
    "bayes_factors_winners_db.get('0,3')"
   ]
  },
  {
   "cell_type": "code",
   "execution_count": null,
   "metadata": {},
   "outputs": [],
   "source": [
    "bayes_factors_db.get('0,3')"
   ]
  },
  {
   "cell_type": "code",
   "execution_count": null,
   "metadata": {},
   "outputs": [],
   "source": [
    "y=qmd.reducedModelInstanceFromID(0)"
   ]
  },
  {
   "cell_type": "code",
   "execution_count": null,
   "metadata": {},
   "outputs": [],
   "source": [
    "y.BayesFactors"
   ]
  },
  {
   "cell_type": "code",
   "execution_count": null,
   "metadata": {},
   "outputs": [],
   "source": [
    "for k in sorted(bayes_factors_winners_db.keys()):\n",
    "    print(\"models\", k, bayes_factors_winners_db.get(k))\n",
    "    print(\"models\", k, bayes_factors_db.get(k))    "
   ]
  },
  {
   "cell_type": "code",
   "execution_count": null,
   "metadata": {},
   "outputs": [],
   "source": [
    "zero=qmd.reducedModelInstanceFromID(0)"
   ]
  },
  {
   "cell_type": "code",
   "execution_count": null,
   "metadata": {},
   "outputs": [],
   "source": [
    "zero.Name"
   ]
  },
  {
   "cell_type": "code",
   "execution_count": null,
   "metadata": {},
   "outputs": [],
   "source": [
    "zero.BayesFactors"
   ]
  },
  {
   "cell_type": "code",
   "execution_count": null,
   "metadata": {},
   "outputs": [],
   "source": [
    "qmd.BayesFactorsByBranch"
   ]
  },
  {
   "cell_type": "code",
   "execution_count": null,
   "metadata": {},
   "outputs": [],
   "source": [
    "import time\n",
    "time.sleep(1)"
   ]
  },
  {
   "cell_type": "code",
   "execution_count": null,
   "metadata": {},
   "outputs": [],
   "source": [
    "l1 = ['x', 'y']\n",
    "l2 = ['z', '']"
   ]
  },
  {
   "cell_type": "code",
   "execution_count": null,
   "metadata": {},
   "outputs": [],
   "source": []
  }
 ],
 "metadata": {
  "kernelspec": {
   "display_name": "Python 2",
   "language": "python",
   "name": "python2"
  },
  "language_info": {
   "codemirror_mode": {
    "name": "ipython",
    "version": 2
   },
   "file_extension": ".py",
   "mimetype": "text/x-python",
   "name": "python",
   "nbconvert_exporter": "python",
   "pygments_lexer": "ipython2",
   "version": "2.7.12"
  }
 },
 "nbformat": 4,
 "nbformat_minor": 2
}
