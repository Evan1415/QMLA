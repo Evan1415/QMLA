{
 "cells": [
  {
   "cell_type": "code",
   "execution_count": 1,
   "metadata": {},
   "outputs": [
    {
     "name": "stderr",
     "output_type": "stream",
     "text": [
      "/usr/local/lib/python2.7/dist-packages/pandas/core/computation/__init__.py:18: UserWarning: The installed version of numexpr 2.4.3 is not supported in pandas and will be not be used\n",
      "The minimum supported version is 2.4.6\n",
      "\n",
      "  ver=ver, min_ver=_MIN_NUMEXPR_VERSION), UserWarning)\n"
     ]
    }
   ],
   "source": [
    "from __future__ import print_function # so print doesn't show brackets\n",
    "import numpy as np\n",
    "import itertools as itr\n",
    "\n",
    "import os as os\n",
    "import sys as sys \n",
    "import pandas as pd\n",
    "import warnings\n",
    "import time as time\n",
    "import random\n",
    "import pickle\n",
    "pickle.HIGHEST_PROTOCOL = 2\n",
    "sys.path.append(os.path.join(\"..\", \"Libraries\",\"QML_lib\"))\n",
    "from RedisSettings import *\n",
    "import Evo as evo\n",
    "import DataBase \n",
    "from QMD import QMD #  class moved to QMD in Library\n",
    "import QML\n",
    "import ModelGeneration \n",
    "import BayesF\n",
    "import matplotlib.pyplot as plt\n",
    "%matplotlib inline\n",
    "from pympler import asizeof\n",
    "import matplotlib.pyplot as plt\n",
    "paulis = ['x', 'y', 'z'] # will be chosen at random. or uncomment below and comment within loop to hard-set\n",
    "\n",
    "import time as time \n",
    "import argparse\n",
    "parser = argparse.ArgumentParser(description='Pass variables for (I)QLE.')\n",
    "\n"
   ]
  },
  {
   "cell_type": "code",
   "execution_count": 7,
   "metadata": {},
   "outputs": [
    {
     "name": "stdout",
     "output_type": "stream",
     "text": [
      "\n",
      "Running  QLE  for true operator  x  with parameters :  [0.9977111027916642]\n",
      "Model  x  not previously considered -- adding.\n",
      "Initialization Ready\n",
      "Model  y  not previously considered -- adding.\n",
      "Initialization Ready\n",
      "QHL for x\n",
      "Initialization Ready\n",
      "Initial time selected > 0.779546032058\n",
      "Final time selected > 223.658069888\n",
      "Final Parameters mean and stdev:[ 0.97467332  0.0349326 ]\n",
      "QHL for y\n",
      "Initialization Ready\n",
      "Initial time selected > 0.613384944516\n",
      "Final time selected > 12.9744059188\n",
      "Final Parameters mean and stdev:[ 0.98745209  0.02574767]\n",
      "Loglikelihoods for x\n",
      "Before: -26.9977425392\n",
      "After: -47.6475877562\n",
      "Sum of data: 18  1s out of  50 = 36.0 %\n",
      "Loglikelihoods for y\n",
      "Before: -38.7375906898\n",
      "After: -76.027381452\n",
      "Sum of data: 13  1s out of  50 = 26.0 %\n",
      "Bayes factor bw x / y = 2.11440316214e+12\n",
      "Bayes Correct\n",
      "Bayes already computed bw 1.0 0.0\n"
     ]
    }
   ],
   "source": [
    "num_runs=1\n",
    "num_particles=300\n",
    "num_experiments = 50\n",
    "num_times_bayes = 'all'\n",
    "qle=True\n",
    "\n",
    "#initial_op_list = ['x', 'y', 'z', 'xTx', 'yTz', 'xTz']\n",
    "initial_op_list = ['x', 'y']\n",
    "#true_op = random.choice(initial_op_list)\n",
    "#true_params = [np.random.rand() for i in range(n_pars)]\n",
    "\n",
    "\n",
    "\n",
    "for i in range(num_runs):\n",
    "#    true_op=initial_op_list[i%2]\n",
    "    true_op= 'x'\n",
    "    true_params = [np.random.rand()]\n",
    "    qmd = QMD(\n",
    "        initial_op_list=initial_op_list, \n",
    "        true_operator=true_op, \n",
    "        true_param_list=true_params, \n",
    "        num_particles=num_particles,\n",
    "        num_experiments = num_experiments, \n",
    "        num_times_for_bayes_updates = num_times_bayes,\n",
    "        qle=qle,\n",
    "        num_probes=5,\n",
    "        max_num_branches = 0,\n",
    "        max_num_qubits = 2, \n",
    "        parallel = True\n",
    "    )\n",
    "   # qmd.learnModelNameList(model_name_list=['z'], blocking=True, use_rq=False)\n",
    "    qmd.blockingQMD()"
   ]
  },
  {
   "cell_type": "code",
   "execution_count": null,
   "metadata": {},
   "outputs": [],
   "source": [
    "from QML import modelClassForRemoteBayesFactor"
   ]
  },
  {
   "cell_type": "code",
   "execution_count": null,
   "metadata": {},
   "outputs": [],
   "source": [
    "z=modelClassForRemoteBayesFactor(0)\n",
    "x=modelClassForRemoteBayesFactor(1)"
   ]
  },
  {
   "cell_type": "code",
   "execution_count": null,
   "metadata": {},
   "outputs": [],
   "source": [
    "z.Updater.normalization_record"
   ]
  },
  {
   "cell_type": "code",
   "execution_count": null,
   "metadata": {},
   "outputs": [],
   "source": [
    "x.Updater.normalization_record\n"
   ]
  },
  {
   "cell_type": "code",
   "execution_count": null,
   "metadata": {},
   "outputs": [],
   "source": [
    "x.Updater.log_total_likelihood"
   ]
  },
  {
   "cell_type": "code",
   "execution_count": null,
   "metadata": {},
   "outputs": [],
   "source": [
    "qmd.ProbeDict[1,1]"
   ]
  },
  {
   "cell_type": "code",
   "execution_count": null,
   "metadata": {},
   "outputs": [],
   "source": [
    "def get_exp(model, time):\n",
    "    gen = model.Updater.model # or gen=model.GenSimModel\n",
    "    exp = np.empty(len(time), dtype=gen.expparams_dtype)\n",
    "    exp['t'] = time\n",
    "\n",
    "    for i in range(1, len(gen.expparams_dtype)):\n",
    "        col_name = 'w_'+str(i)\n",
    "        exp[col_name] = model.FinalParams[i-1,0] \n",
    "    return exp\n"
   ]
  },
  {
   "cell_type": "code",
   "execution_count": null,
   "metadata": {},
   "outputs": [],
   "source": [
    "from QML import modelClassForRemoteBayesFactor\n",
    "mod=modelClassForRemoteBayesFactor(0)\n",
    "times=mod.Times\n",
    "min_time = min(mod.Times)\n",
    "max_time  = max(mod.Times)\n",
    "times = np.arange(min_time, max_time, 1)\n",
    "exps= [get_exp(mod, [time]) for time in times]\n",
    "true_params=qmd.TrueParamsList"
   ]
  },
  {
   "cell_type": "code",
   "execution_count": null,
   "metadata": {},
   "outputs": [],
   "source": [
    "sim_times=mod.Updater.model.simulate_experiment(np.array([true_params]), np.array(exps))\n",
    "sim_data = sim_times[0,0]\n",
    "analytical_times_1 =  np.cos(true_params*times)**2"
   ]
  },
  {
   "cell_type": "code",
   "execution_count": null,
   "metadata": {},
   "outputs": [],
   "source": [
    "def analytical_expec_value(param, time):\n",
    "    return (np.cos(param*time))**2\n",
    "    "
   ]
  },
  {
   "cell_type": "code",
   "execution_count": null,
   "metadata": {},
   "outputs": [],
   "source": []
  },
  {
   "cell_type": "code",
   "execution_count": null,
   "metadata": {},
   "outputs": [],
   "source": [
    "analytical_times = []\n",
    "for t in times:\n",
    "    analytical_times.append(analytical_expec_value(true_params[0], t))"
   ]
  },
  {
   "cell_type": "code",
   "execution_count": null,
   "metadata": {},
   "outputs": [],
   "source": [
    "np.all(analytical_times == analytical_times_1)"
   ]
  },
  {
   "cell_type": "code",
   "execution_count": null,
   "metadata": {},
   "outputs": [],
   "source": [
    "import matplotlib.pyplot as plt\n",
    "\n",
    "plt.plot(times, analytical_times)\n",
    "plt.scatter(times, sim_data)\n",
    "\n",
    "\n",
    "plt.xlim(0, 50)\n",
    "\n",
    "plt.show()"
   ]
  },
  {
   "cell_type": "code",
   "execution_count": null,
   "metadata": {},
   "outputs": [],
   "source": [
    "gen = mod.GenSimModel\n",
    "modelparams = np.array([true_params])\n",
    "expparams = exps[0]\n",
    "all_outcomes = gen.domain(expparams)"
   ]
  },
  {
   "cell_type": "code",
   "execution_count": null,
   "metadata": {},
   "outputs": [],
   "source": [
    "gen.likelihood(all_outcomes, modelparams, expparams)"
   ]
  },
  {
   "cell_type": "code",
   "execution_count": null,
   "metadata": {},
   "outputs": [],
   "source": [
    "expparams"
   ]
  },
  {
   "cell_type": "code",
   "execution_count": null,
   "metadata": {},
   "outputs": [],
   "source": [
    "liks = []\n",
    "for exp in exps:\n",
    "    all_outcomes = gen.domain(exp)\n",
    "    liks.append(gen.likelihood(all_outcomes, modelparams, exp))"
   ]
  },
  {
   "cell_type": "code",
   "execution_count": null,
   "metadata": {},
   "outputs": [],
   "source": [
    "len(liks)"
   ]
  },
  {
   "cell_type": "code",
   "execution_count": null,
   "metadata": {},
   "outputs": [],
   "source": [
    "import matplotlib.pyplot as plt\n",
    "\n",
    "plt.plot(times, analytical_times)\n",
    "plt.scatter(times, liks)\n",
    "\n",
    "\n",
    "plt.xlim(0, 50)\n",
    "\n",
    "plt.show()"
   ]
  },
  {
   "cell_type": "code",
   "execution_count": null,
   "metadata": {},
   "outputs": [],
   "source": [
    "from Evo import expectation_value\n",
    "import DataBase as db"
   ]
  },
  {
   "cell_type": "code",
   "execution_count": null,
   "metadata": {},
   "outputs": [],
   "source": [
    "true_params"
   ]
  },
  {
   "cell_type": "code",
   "execution_count": null,
   "metadata": {},
   "outputs": [],
   "source": [
    "trueop = 'z'\n",
    "ham = db.empty_array_of_same_dim(trueop)\n",
    "op = db.operator(trueop)\n",
    "constituents = op.constituents_operators\n",
    "ideal_probe = op.ideal_probe\n",
    "\n",
    "\n",
    "for i in range(len(true_params)):\n",
    "    ham += true_params[i] * constituents[i]\n",
    "    \n",
    "    "
   ]
  },
  {
   "cell_type": "code",
   "execution_count": null,
   "metadata": {},
   "outputs": [],
   "source": [
    "expec_values = []\n",
    "for t in times:\n",
    "    expec_values.append(expectation_value(ham, t, ideal_probe))"
   ]
  },
  {
   "cell_type": "code",
   "execution_count": null,
   "metadata": {},
   "outputs": [],
   "source": [
    "import matplotlib.pyplot as plt\n",
    "\n",
    "plt.plot(times, analytical_times)\n",
    "plt.scatter(times, expec_values)\n",
    "\n",
    "\n",
    "plt.xlim(0, 50)\n",
    "\n",
    "plt.show()"
   ]
  },
  {
   "cell_type": "code",
   "execution_count": null,
   "metadata": {},
   "outputs": [],
   "source": [
    "old_mod._trueparams"
   ]
  },
  {
   "cell_type": "code",
   "execution_count": null,
   "metadata": {},
   "outputs": [],
   "source": [
    "new_mod._trueparams"
   ]
  },
  {
   "cell_type": "code",
   "execution_count": null,
   "metadata": {},
   "outputs": [],
   "source": [
    "for att in dir(old_mod):\n",
    "    equal_check=True\n",
    "    try:\n",
    "        if old_mod.__getattribute__(att) != new_mod.__getattribute__(att) :\n",
    "            equal_check=False\n",
    "        run_check = True\n",
    "    except ValueError:\n",
    "        run_check = False\n",
    "        continue\n",
    "    \n",
    "    if run_check:\n",
    "        if not equal_check:\n",
    "            print(\"Attributes unequal:\", att)"
   ]
  },
  {
   "cell_type": "code",
   "execution_count": null,
   "metadata": {},
   "outputs": [],
   "source": [
    "old_mod.base_model.simulate_experiment()"
   ]
  },
  {
   "cell_type": "code",
   "execution_count": null,
   "metadata": {
    "scrolled": true
   },
   "outputs": [],
   "source": [
    "for att in dir(old):\n",
    "    equal_check=True\n",
    "    try:\n",
    "        if old.__getattribute__(att) != new.__getattribute__(att) :\n",
    "            equal_check=False\n",
    "        run_check = True\n",
    "    except ValueError:\n",
    "        run_check = False\n",
    "        continue\n",
    "    except AttributeError:\n",
    "        run_check = False\n",
    "        continue\n",
    "    \n",
    "    if run_check:\n",
    "        if not equal_check:\n",
    "            print(\"Attributes unequal:\", att)"
   ]
  },
  {
   "cell_type": "code",
   "execution_count": null,
   "metadata": {},
   "outputs": [],
   "source": [
    "old._data_record == new.data_record"
   ]
  },
  {
   "cell_type": "code",
   "execution_count": null,
   "metadata": {},
   "outputs": [],
   "source": [
    "new.plot_posterior_marginal()"
   ]
  },
  {
   "cell_type": "code",
   "execution_count": null,
   "metadata": {},
   "outputs": [],
   "source": [
    "old.plot_posterior_marginal()"
   ]
  },
  {
   "cell_type": "code",
   "execution_count": null,
   "metadata": {},
   "outputs": [],
   "source": [
    "print(old.est_mean())\n",
    "print(new.est_mean())"
   ]
  },
  {
   "cell_type": "code",
   "execution_count": null,
   "metadata": {},
   "outputs": [],
   "source": [
    "new.plot_posterior_marginal()"
   ]
  },
  {
   "cell_type": "code",
   "execution_count": null,
   "metadata": {},
   "outputs": [],
   "source": [
    "old.plot_posterior_marginal()"
   ]
  },
  {
   "cell_type": "code",
   "execution_count": null,
   "metadata": {},
   "outputs": [],
   "source": [
    "x.FinalParams"
   ]
  },
  {
   "cell_type": "code",
   "execution_count": null,
   "metadata": {},
   "outputs": [],
   "source": [
    "dir(new)"
   ]
  },
  {
   "cell_type": "code",
   "execution_count": null,
   "metadata": {},
   "outputs": [],
   "source": [
    "new.log_total_likelihood"
   ]
  },
  {
   "cell_type": "code",
   "execution_count": null,
   "metadata": {},
   "outputs": [],
   "source": [
    "old.log_total_likelihood"
   ]
  },
  {
   "cell_type": "code",
   "execution_count": null,
   "metadata": {},
   "outputs": [],
   "source": [
    "asizeof.asizeof(pickle.dumps(new))"
   ]
  },
  {
   "cell_type": "code",
   "execution_count": null,
   "metadata": {},
   "outputs": [],
   "source": [
    "def analytical_epxec_value(t, param):\n",
    "    # valid only for H=x,y I think\n",
    "    return (np.cos(param*t/2))**2 \n",
    "#+ (np.sin(param*t/2))\n",
    "    "
   ]
  },
  {
   "cell_type": "code",
   "execution_count": null,
   "metadata": {},
   "outputs": [],
   "source": [
    "for t in np.arange(0, 3.14, 0.1):\n",
    "    print(analytical_epxec_value(t, param=2))"
   ]
  },
  {
   "cell_type": "code",
   "execution_count": null,
   "metadata": {},
   "outputs": [],
   "source": [
    "analytical_epxec_value(t=1.67, param=0.4)"
   ]
  },
  {
   "cell_type": "code",
   "execution_count": null,
   "metadata": {},
   "outputs": [],
   "source": [
    "x.FinalParams"
   ]
  },
  {
   "cell_type": "code",
   "execution_count": null,
   "metadata": {},
   "outputs": [],
   "source": [
    "x_db = pickle.loads(learned_models_info.get('0.0'))"
   ]
  },
  {
   "cell_type": "code",
   "execution_count": null,
   "metadata": {},
   "outputs": [],
   "source": [
    "pr=x_db['final_prior']"
   ]
  },
  {
   "cell_type": "code",
   "execution_count": null,
   "metadata": {},
   "outputs": [],
   "source": [
    "pr.sample()"
   ]
  },
  {
   "cell_type": "code",
   "execution_count": null,
   "metadata": {},
   "outputs": [],
   "source": []
  }
 ],
 "metadata": {
  "kernelspec": {
   "display_name": "Python 2",
   "language": "python",
   "name": "python2"
  },
  "language_info": {
   "codemirror_mode": {
    "name": "ipython",
    "version": 2
   },
   "file_extension": ".py",
   "mimetype": "text/x-python",
   "name": "python",
   "nbconvert_exporter": "python",
   "pygments_lexer": "ipython2",
   "version": "2.7.12"
  }
 },
 "nbformat": 4,
 "nbformat_minor": 2
}
