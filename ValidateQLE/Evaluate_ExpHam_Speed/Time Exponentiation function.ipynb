{
 "cells": [
  {
   "cell_type": "code",
   "execution_count": 80,
   "metadata": {},
   "outputs": [],
   "source": [
    "import time \n",
    "import hamiltonian_exponentiation as h\n",
    "import matplotlib.pyplot as plt\n",
    "import sys, os\n",
    "sys.path.append(os.path.join(\"..\", \"..\", \"Libraries\",\"QML_lib\"))\n",
    "from ModelGeneration import random_model_name\n",
    "from DataBase import operator\n",
    "\n",
    "\n",
    "save_plots = False\n",
    "min_qubit = 1\n",
    "max_qubit = 6\n",
    "num_tests = 1\n",
    "qubits = range(min_qubit, max_qubit+1)\n",
    "\n",
    "times = {}\n",
    "minimum_times = []\n",
    "average_times=[]\n",
    "min_times_dict = {}\n",
    "avg_times_dict = {}\n",
    "\n",
    "for num_qubits in range(min_qubit, 1+max_qubit):\n",
    "    times[num_qubits] = 0\n",
    "\n",
    "    \n",
    "for num_qubits in qubits:\n",
    "    min_time = 1\n",
    "    for i in range(num_tests):\n",
    "        mod = random_model_name(num_dimensions=num_qubits)\n",
    "        op = operator(mod)\n",
    "        hamiltonian = op.matrix\n",
    "        before = time.time()\n",
    "        store = h.exp_ham(hamiltonian, 1)\n",
    "        after = time.time()\n",
    "        if after-before < min_time :\n",
    "            min_time = after - before\n",
    "        times[num_qubits] += after - before\n",
    "    minimum_times.append(min_time)\n",
    "\n",
    "for q in qubits: \n",
    "    average_times.append(times[q]/num_tests)\n",
    "    min_times_dict[q] = minimum_times[q-1]\n",
    "    avg_times_dict[q] = average_times[q-1]\n",
    "    "
   ]
  },
  {
   "cell_type": "code",
   "execution_count": 74,
   "metadata": {},
   "outputs": [
    {
     "name": "stderr",
     "output_type": "stream",
     "text": [
      "/usr/local/lib/python3.5/dist-packages/matplotlib/axes/_base.py:3239: UserWarning: Attempting to set identical bottom==top results\n",
      "in singular transformations; automatically expanding.\n",
      "bottom=1.0, top=1.0\n",
      "  'bottom=%s, top=%s') % (bottom, top))\n"
     ]
    },
    {
     "data": {
      "image/png": "[encoded data removed]",
      "text/plain": [
       "<matplotlib.figure.Figure at 0x7f378891b710>"
      ]
     },
     "metadata": {},
     "output_type": "display_data"
    }
   ],
   "source": [
    "description = '_times_local_machine_upto_'+str(max_qubit)+'_qubits'\n",
    "title_description = ' Timings of Custom Exponentiation function (' + str(num_tests) + ' tests)'\n",
    "\n",
    "if save_plots: \n",
    "    plt.clf()\n",
    "    x=qubits\n",
    "    y=average_times\n",
    "    plt.ylabel('Time')\n",
    "    plt.xlabel('Number of Qubits')\n",
    "    plt.title('Average'+title_description)\n",
    "    plt.axhline(y=1, label='1 sec')\n",
    "    plt.legend()\n",
    "    plt.semilogy(x,y, marker='o')\n",
    "    plt.savefig('Avergage'+description)\n",
    "\n",
    "\n",
    "    ## Minumum timings\n",
    "    plt.clf()\n",
    "    x=qubits\n",
    "    y=minimum_times\n",
    "    plt.ylabel('Time')\n",
    "    plt.xlabel('Number of Qubits')\n",
    "    plt.title('Minimum'+title_description)\n",
    "    plt.axhline(y=1, label='1 sec')\n",
    "    plt.legend()\n",
    "    plt.semilogy(x,y, marker='o')\n",
    "    plt.savefig('Minimum'+description)\n",
    "\n",
    "\n"
   ]
  },
  {
   "cell_type": "code",
   "execution_count": 72,
   "metadata": {},
   "outputs": [
    {
     "name": "stderr",
     "output_type": "stream",
     "text": [
      "/usr/local/lib/python3.5/dist-packages/matplotlib/axes/_base.py:3239: UserWarning: Attempting to set identical bottom==top results\n",
      "in singular transformations; automatically expanding.\n",
      "bottom=1.0, top=1.0\n",
      "  'bottom=%s, top=%s') % (bottom, top))\n"
     ]
    },
    {
     "data": {
      "image/png": "[encoded data removed]",
      "text/plain": [
       "<matplotlib.figure.Figure at 0x7f37887b46d8>"
      ]
     },
     "metadata": {},
     "output_type": "display_data"
    }
   ],
   "source": [
    "\n"
   ]
  },
  {
   "cell_type": "code",
   "execution_count": 75,
   "metadata": {},
   "outputs": [
    {
     "data": {
      "text/plain": [
       "[6.818771362304688e-05,\n",
       " 9.322166442871094e-05,\n",
       " 0.00014638900756835938,\n",
       " 0.00026607513427734375,\n",
       " 0.0006506443023681641,\n",
       " 0.0016472339630126953,\n",
       " 0.0040895938873291016,\n",
       " 0.010304450988769531,\n",
       " 0.03287506103515625]"
      ]
     },
     "execution_count": 75,
     "metadata": {},
     "output_type": "execute_result"
    }
   ],
   "source": [
    "minimum_times"
   ]
  },
  {
   "cell_type": "code",
   "execution_count": 77,
   "metadata": {},
   "outputs": [],
   "source": [
    "import numpy as np"
   ]
  },
  {
   "cell_type": "code",
   "execution_count": 81,
   "metadata": {},
   "outputs": [],
   "source": []
  },
  {
   "cell_type": "code",
   "execution_count": 82,
   "metadata": {},
   "outputs": [],
   "source": [
    "reload = np.load('min_times.npy')"
   ]
  },
  {
   "cell_type": "code",
   "execution_count": 83,
   "metadata": {},
   "outputs": [
    {
     "data": {
      "text/plain": [
       "array({1: 0.00012636184692382812, 2: 0.0001010894775390625, 3: 0.00017404556274414062, 4: 0.00035119056701660156, 5: 0.0010120868682861328, 6: 0.003027200698852539}, dtype=object)"
      ]
     },
     "execution_count": 83,
     "metadata": {},
     "output_type": "execute_result"
    }
   ],
   "source": [
    "reload"
   ]
  },
  {
   "cell_type": "code",
   "execution_count": 85,
   "metadata": {},
   "outputs": [
    {
     "name": "stderr",
     "output_type": "stream",
     "text": [
      "usage: ipykernel_launcher.py [-h] [-p PLOTS] [-m MACHINE_TYPE] [-min MIN]\n",
      "                             [-max MAX] [-tests TESTS]\n",
      "ipykernel_launcher.py: error: unrecognized arguments: -f /run/user/317852/jupyter/kernel-1d53eb48-eba1-4979-a5c7-981358760f9d.json\n"
     ]
    },
    {
     "ename": "SystemExit",
     "evalue": "2",
     "output_type": "error",
     "traceback": [
      "An exception has occurred, use %tb to see the full traceback.\n",
      "\u001b[0;31mSystemExit\u001b[0m\u001b[0;31m:\u001b[0m 2\n"
     ]
    },
    {
     "name": "stderr",
     "output_type": "stream",
     "text": [
      "/home/bf16951/.local/lib/python3.5/site-packages/IPython/core/interactiveshell.py:2918: UserWarning: To exit: use 'exit', 'quit', or Ctrl-D.\n",
      "  warn(\"To exit: use 'exit', 'quit', or Ctrl-D.\", stacklevel=1)\n"
     ]
    }
   ],
   "source": [
    "import time \n",
    "import hamiltonian_exponentiation as h\n",
    "import matplotlib.pyplot as plt\n",
    "import numpy as np\n",
    "import sys, os\n",
    "sys.path.append(os.path.join(\"..\", \"..\", \"Libraries\",\"QML_lib\"))\n",
    "from ModelGeneration import random_model_name\n",
    "from DataBase import operator\n",
    "\n",
    "\n",
    "import argparse\n",
    "parser = argparse.ArgumentParser(description='Evaluate timings for exp_ham function.')\n",
    "\n",
    "\n",
    "parser.add_argument(\n",
    "  '-p', '--plots', \n",
    "  help=\"Save plots: True or False\",\n",
    "  type=bool,\n",
    "  default=False\n",
    ")\n",
    "\n",
    "parser.add_argument(\n",
    "  '-m', '--machine_type', \n",
    "  help=\"Describe machine. i.e. Local, Cluster_Backend, Cluster_Frontend, etc.\",\n",
    "  type=str,\n",
    "  default='Local'\n",
    ")\n",
    "\n",
    "parser.add_argument(\n",
    "  '-min',\n",
    "  help=\"Minimum qubit number to test.\",\n",
    "  type=int,\n",
    "  default=1\n",
    ")\n",
    "parser.add_argument(\n",
    "  '-max',\n",
    "  help=\"Minimum qubit number to test.\",\n",
    "  type=int,\n",
    "  default=10\n",
    ")\n",
    "parser.add_argument(\n",
    "  '-tests',\n",
    "  help=\"Number of tests to run.\",\n",
    "  type=int,\n",
    "  default=10\n",
    ")\n",
    "\n",
    "\n",
    "\n",
    "\n",
    "arguments = parser.parse_args()\n",
    "machine_type = arguments.machine_type\n",
    "save_plots = arguments.plots\n",
    "min_qubit = arguments.min\n",
    "max_qubit = arguments.max\n",
    "num_tests = arguments.tests\n",
    "qubits = range(min_qubit, max_qubit+1)\n",
    "\n",
    "times = {}\n",
    "min_times_dict=[]\n",
    "avg_times_dict=[]\n",
    "minimum_times = []\n",
    "average_times=[]\n",
    "\n",
    "for num_qubits in range(min_qubit, 1+max_qubit):\n",
    "    times[num_qubits] = 0\n",
    "\n",
    "    \n",
    "for num_qubits in qubits:\n",
    "    min_time = 1\n",
    "    for i in range(num_tests):\n",
    "        mod = random_model_name(num_dimensions=num_qubits)\n",
    "        op = operator(mod)\n",
    "        hamiltonian = op.matrix\n",
    "        before = time.time()\n",
    "        store = h.exp_ham(hamiltonian, 1)\n",
    "        after = time.time()\n",
    "        if after-before < min_time :\n",
    "            min_time = after - before\n",
    "        times[num_qubits] += after - before\n",
    "    minimum_times.append(min_time)\n",
    "\n",
    "\n",
    "for q in qubits: \n",
    "    average_times.append(times[q]/num_tests)\n",
    "\n",
    "for qub in qubits:\n",
    "    q = int(qub)\n",
    "    avg_times_dict[q] = average_times[q-1]\n",
    "    min_times_dict[q] = minimum_times[q-1]\n",
    "\n",
    "\n",
    "\n",
    "# Plots\n",
    "\n",
    "\n",
    "\n",
    "\n",
    "\n",
    "description = '_times_'+machine_type+'_machine_upto_'+str(max_qubit)+'_qubits'\n",
    "title_description = ' Timings of Custom Exponentiation function (' + str(num_tests) + ' tests; ', machine_type, ')'\n",
    "\n",
    "if save_plots:\n",
    "    # Average timings\n",
    "    method='Average'\n",
    "    plt.clf()\n",
    "    x=qubits\n",
    "    y=average_times\n",
    "    plt.ylabel('Time')\n",
    "    plt.xlabel('Number of Qubits')\n",
    "    plt.title(str(method)+str(title_description))\n",
    "    plt.axhline(y=1, label='1 sec')\n",
    "    plt.legend()\n",
    "    plt.semilogy(x,y, marker='o')\n",
    "    plt.savefig('Avergage'+description)\n",
    "\n",
    "\n",
    "    ## Minumum timings\n",
    "    method='Minimum'\n",
    "    plt.clf()\n",
    "    x=qubits\n",
    "    y=minimum_times\n",
    "    plt.ylabel('Time')\n",
    "    plt.xlabel('Number of Qubits')\n",
    "    plt.title(str(method)+str(title_description))\n",
    "    plt.axhline(y=1, label='1 sec')\n",
    "    plt.legend()\n",
    "    plt.semilogy(x,y, marker='o')\n",
    "    plt.savefig('Minimum'+description)\n",
    "\n",
    "    np.save(\"times_\"+machine_type+\"_\"+str(method)+\".npy\", min_times_dict)\n",
    "    np.save(\"avg_times_\"+machine_type+\"_\"+str(method)+\".npy\", avg_times_dict)    \n",
    "\n",
    "\n",
    "    "
   ]
  },
  {
   "cell_type": "code",
   "execution_count": null,
   "metadata": {},
   "outputs": [],
   "source": []
  }
 ],
 "metadata": {
  "kernelspec": {
   "display_name": "Python 3",
   "language": "python",
   "name": "python3"
  },
  "language_info": {
   "codemirror_mode": {
    "name": "ipython",
    "version": 3
   },
   "file_extension": ".py",
   "mimetype": "text/x-python",
   "name": "python",
   "nbconvert_exporter": "python",
   "pygments_lexer": "ipython3",
   "version": "3.5.2"
  }
 },
 "nbformat": 4,
 "nbformat_minor": 2
}
