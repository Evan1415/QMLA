{
 "cells": [
  {
   "cell_type": "code",
   "execution_count": 14,
   "metadata": {},
   "outputs": [],
   "source": [
    "import pickle\n",
    "pickle.HIGHEST_PROTOCOL = 2\n",
    "from pympler import asizeof\n",
    "\n",
    "import sys, os\n",
    "sys.path.append(os.path.join(\"..\", \"Libraries\",\"QML_lib\"))\n",
    "import Evo as evo\n",
    "import DataBase \n",
    "from QMD import QMD #  class moved to QMD in Library\n",
    "from QML import *"
   ]
  },
  {
   "cell_type": "code",
   "execution_count": 2,
   "metadata": {},
   "outputs": [],
   "source": [
    "qmd=pickle.load(open(\"qmd_class.npy\", \"rb\"))"
   ]
  },
  {
   "cell_type": "code",
   "execution_count": 3,
   "metadata": {},
   "outputs": [
    {
     "data": {
      "text/html": [
       "<div>\n",
       "<style>\n",
       "    .dataframe thead tr:only-child th {\n",
       "        text-align: right;\n",
       "    }\n",
       "\n",
       "    .dataframe thead th {\n",
       "        text-align: left;\n",
       "    }\n",
       "\n",
       "    .dataframe tbody tr th {\n",
       "        vertical-align: top;\n",
       "    }\n",
       "</style>\n",
       "<table border=\"1\" class=\"dataframe\">\n",
       "  <thead>\n",
       "    <tr style=\"text-align: right;\">\n",
       "      <th></th>\n",
       "      <th>&lt;Name&gt;</th>\n",
       "      <th>Completed</th>\n",
       "      <th>Epoch_Start</th>\n",
       "      <th>ModelID</th>\n",
       "      <th>Model_Class_Instance</th>\n",
       "      <th>Operator_Instance</th>\n",
       "      <th>Reduced_Model_Class_Instance</th>\n",
       "      <th>Status</th>\n",
       "      <th>branchID</th>\n",
       "    </tr>\n",
       "  </thead>\n",
       "  <tbody>\n",
       "    <tr>\n",
       "      <th>0</th>\n",
       "      <td>x</td>\n",
       "      <td>0.0</td>\n",
       "      <td>0.0</td>\n",
       "      <td>0.0</td>\n",
       "      <td>&lt;QML.ModelLearningClass object at 0x7f8943382518&gt;</td>\n",
       "      <td>&lt;DataBase.operator object at 0x7f8943329198&gt;</td>\n",
       "      <td>&lt;QML.learnedQML object at 0x7f89433292e8&gt;</td>\n",
       "      <td>Active</td>\n",
       "      <td>0.0</td>\n",
       "    </tr>\n",
       "    <tr>\n",
       "      <th>1</th>\n",
       "      <td>y</td>\n",
       "      <td>0.0</td>\n",
       "      <td>0.0</td>\n",
       "      <td>1.0</td>\n",
       "      <td>&lt;QML.ModelLearningClass object at 0x7f894338b390&gt;</td>\n",
       "      <td>&lt;DataBase.operator object at 0x7f89433291d0&gt;</td>\n",
       "      <td>&lt;QML.learnedQML object at 0x7f8943329390&gt;</td>\n",
       "      <td>Active</td>\n",
       "      <td>0.0</td>\n",
       "    </tr>\n",
       "    <tr>\n",
       "      <th>2</th>\n",
       "      <td>z</td>\n",
       "      <td>0.0</td>\n",
       "      <td>0.0</td>\n",
       "      <td>2.0</td>\n",
       "      <td>&lt;QML.ModelLearningClass object at 0x7f8943391978&gt;</td>\n",
       "      <td>&lt;DataBase.operator object at 0x7f8943329208&gt;</td>\n",
       "      <td>&lt;QML.learnedQML object at 0x7f89433293c8&gt;</td>\n",
       "      <td>Active</td>\n",
       "      <td>0.0</td>\n",
       "    </tr>\n",
       "    <tr>\n",
       "      <th>3</th>\n",
       "      <td>xTy</td>\n",
       "      <td>0.0</td>\n",
       "      <td>0.0</td>\n",
       "      <td>3.0</td>\n",
       "      <td>&lt;QML.ModelLearningClass object at 0x7f8943394f60&gt;</td>\n",
       "      <td>&lt;DataBase.operator object at 0x7f8943329240&gt;</td>\n",
       "      <td>&lt;QML.learnedQML object at 0x7f8943329438&gt;</td>\n",
       "      <td>Active</td>\n",
       "      <td>0.0</td>\n",
       "    </tr>\n",
       "    <tr>\n",
       "      <th>4</th>\n",
       "      <td>xTz</td>\n",
       "      <td>0.0</td>\n",
       "      <td>0.0</td>\n",
       "      <td>4.0</td>\n",
       "      <td>&lt;QML.ModelLearningClass object at 0x7f894331e588&gt;</td>\n",
       "      <td>&lt;DataBase.operator object at 0x7f8943329278&gt;</td>\n",
       "      <td>&lt;QML.learnedQML object at 0x7f89433294a8&gt;</td>\n",
       "      <td>Active</td>\n",
       "      <td>0.0</td>\n",
       "    </tr>\n",
       "    <tr>\n",
       "      <th>5</th>\n",
       "      <td>yTz</td>\n",
       "      <td>0.0</td>\n",
       "      <td>0.0</td>\n",
       "      <td>5.0</td>\n",
       "      <td>&lt;QML.ModelLearningClass object at 0x7f8943322b70&gt;</td>\n",
       "      <td>&lt;DataBase.operator object at 0x7f89433292b0&gt;</td>\n",
       "      <td>&lt;QML.learnedQML object at 0x7f8943329518&gt;</td>\n",
       "      <td>Active</td>\n",
       "      <td>0.0</td>\n",
       "    </tr>\n",
       "  </tbody>\n",
       "</table>\n",
       "</div>"
      ],
      "text/plain": [
       "  <Name>  Completed  Epoch_Start  ModelID  \\\n",
       "0      x        0.0          0.0      0.0   \n",
       "1      y        0.0          0.0      1.0   \n",
       "2      z        0.0          0.0      2.0   \n",
       "3    xTy        0.0          0.0      3.0   \n",
       "4    xTz        0.0          0.0      4.0   \n",
       "5    yTz        0.0          0.0      5.0   \n",
       "\n",
       "                                Model_Class_Instance  \\\n",
       "0  <QML.ModelLearningClass object at 0x7f8943382518>   \n",
       "1  <QML.ModelLearningClass object at 0x7f894338b390>   \n",
       "2  <QML.ModelLearningClass object at 0x7f8943391978>   \n",
       "3  <QML.ModelLearningClass object at 0x7f8943394f60>   \n",
       "4  <QML.ModelLearningClass object at 0x7f894331e588>   \n",
       "5  <QML.ModelLearningClass object at 0x7f8943322b70>   \n",
       "\n",
       "                              Operator_Instance  \\\n",
       "0  <DataBase.operator object at 0x7f8943329198>   \n",
       "1  <DataBase.operator object at 0x7f89433291d0>   \n",
       "2  <DataBase.operator object at 0x7f8943329208>   \n",
       "3  <DataBase.operator object at 0x7f8943329240>   \n",
       "4  <DataBase.operator object at 0x7f8943329278>   \n",
       "5  <DataBase.operator object at 0x7f89433292b0>   \n",
       "\n",
       "                Reduced_Model_Class_Instance  Status  branchID  \n",
       "0  <QML.learnedQML object at 0x7f89433292e8>  Active       0.0  \n",
       "1  <QML.learnedQML object at 0x7f8943329390>  Active       0.0  \n",
       "2  <QML.learnedQML object at 0x7f89433293c8>  Active       0.0  \n",
       "3  <QML.learnedQML object at 0x7f8943329438>  Active       0.0  \n",
       "4  <QML.learnedQML object at 0x7f89433294a8>  Active       0.0  \n",
       "5  <QML.learnedQML object at 0x7f8943329518>  Active       0.0  "
      ]
     },
     "execution_count": 3,
     "metadata": {},
     "output_type": "execute_result"
    }
   ],
   "source": [
    "qmd.db"
   ]
  },
  {
   "cell_type": "code",
   "execution_count": 4,
   "metadata": {},
   "outputs": [],
   "source": [
    "y = qmd.getModelInstance('y')"
   ]
  },
  {
   "cell_type": "code",
   "execution_count": 23,
   "metadata": {},
   "outputs": [
    {
     "data": {
      "text/plain": [
       "array([ 2.07539134,  2.51934911])"
      ]
     },
     "execution_count": 23,
     "metadata": {},
     "output_type": "execute_result"
    }
   ],
   "source": [
    "y.TrackTime"
   ]
  },
  {
   "cell_type": "code",
   "execution_count": 25,
   "metadata": {},
   "outputs": [
    {
     "data": {
      "text/plain": [
       "[<matplotlib.lines.Line2D at 0x7f8942be00f0>]"
      ]
     },
     "execution_count": 25,
     "metadata": {},
     "output_type": "execute_result"
    },
    {
     "data": {
      "image/png": "[encoded data removed]",
      "text/plain": [
       "<matplotlib.figure.Figure at 0x7f8942e3d828>"
      ]
     },
     "metadata": {},
     "output_type": "display_data"
    }
   ],
   "source": [
    "y.Updater.plot_posterior_marginal()"
   ]
  },
  {
   "cell_type": "code",
   "execution_count": 20,
   "metadata": {},
   "outputs": [
    {
     "data": {
      "text/plain": [
       "128"
      ]
     },
     "execution_count": 20,
     "metadata": {},
     "output_type": "execute_result"
    }
   ],
   "source": [
    "asizeof.asizeof(info['final_params'])"
   ]
  },
  {
   "cell_type": "code",
   "execution_count": 5,
   "metadata": {},
   "outputs": [],
   "source": [
    "info = y.learned_info_dict()"
   ]
  },
  {
   "cell_type": "code",
   "execution_count": 6,
   "metadata": {},
   "outputs": [],
   "source": [
    "l = learnedQML(model_name = 'y', \n",
    "           sim_oplist = y.SimOpList, \n",
    "           true_oplist=y.TrueOpList,\n",
    "           true_params = y.TrueParams,\n",
    "           numparticles = y.NumParticles,\n",
    "           qle=y.QLE,\n",
    "           modelID = y.ModelID,\n",
    "           resample_thresh = 0.5, \n",
    "           resample_a = 0.9\n",
    "          )"
   ]
  },
  {
   "cell_type": "code",
   "execution_count": 7,
   "metadata": {},
   "outputs": [],
   "source": [
    "l.updateLearnedValues(info)"
   ]
  },
  {
   "cell_type": "code",
   "execution_count": 27,
   "metadata": {},
   "outputs": [
    {
     "data": {
      "text/plain": [
       "[<matplotlib.lines.Line2D at 0x7f893f34a4a8>]"
      ]
     },
     "execution_count": 27,
     "metadata": {},
     "output_type": "execute_result"
    },
    {
     "data": {
      "image/png": "[encoded data removed]",
      "text/plain": [
       "<matplotlib.figure.Figure at 0x7f893f39a940>"
      ]
     },
     "metadata": {},
     "output_type": "display_data"
    }
   ],
   "source": [
    "l.Updater.plot_posterior_marginal()"
   ]
  },
  {
   "cell_type": "code",
   "execution_count": null,
   "metadata": {},
   "outputs": [],
   "source": [
    "from pympler import asizeof"
   ]
  },
  {
   "cell_type": "code",
   "execution_count": null,
   "metadata": {},
   "outputs": [],
   "source": [
    "asizeof.asizeof(essential_model_info)"
   ]
  },
  {
   "cell_type": "code",
   "execution_count": null,
   "metadata": {},
   "outputs": [],
   "source": [
    "y.SimParams"
   ]
  },
  {
   "cell_type": "code",
   "execution_count": null,
   "metadata": {},
   "outputs": [],
   "source": [
    "y.FinalParams"
   ]
  },
  {
   "cell_type": "code",
   "execution_count": null,
   "metadata": {},
   "outputs": [],
   "source": [
    "import numpy as np\n",
    "np.array([[y.FinalParams[0,0]]])"
   ]
  },
  {
   "cell_type": "code",
   "execution_count": null,
   "metadata": {},
   "outputs": [],
   "source": [
    "asizeof.asizeof(y.Updater.prior)"
   ]
  },
  {
   "cell_type": "code",
   "execution_count": null,
   "metadata": {},
   "outputs": [],
   "source": [
    "asizeof.asizeof(y.Updater)"
   ]
  },
  {
   "cell_type": "code",
   "execution_count": null,
   "metadata": {},
   "outputs": [],
   "source": [
    "essential_model_info = {}\n",
    "mod = y\n",
    "\n",
    "essential_model_info['name'] = mod.Name\n",
    "essential_model_info['times'] = mod.TrackTime\n",
    "essential_model_info['FinalParams'] = mod.FinalParams\n",
    "essential_model_info['normalization_record'] = mod.Updater.normalization_record\n",
    "essential_model_info['ModelID'] = mod.ModelID\n",
    "essential_model_info['final_prior'] = "
   ]
  },
  {
   "cell_type": "code",
   "execution_count": null,
   "metadata": {},
   "outputs": [],
   "source": [
    "pickle.dump(essential_model_info, open(\"test_essential_size\", \"wb\"))"
   ]
  },
  {
   "cell_type": "code",
   "execution_count": null,
   "metadata": {},
   "outputs": [],
   "source": [
    "u=y.Updater"
   ]
  },
  {
   "cell_type": "code",
   "execution_count": null,
   "metadata": {},
   "outputs": [],
   "source": [
    "pickle.dump(u, open(\"test_updater_size\", \"wb\"))"
   ]
  },
  {
   "cell_type": "code",
   "execution_count": null,
   "metadata": {},
   "outputs": [],
   "source": [
    "model = u.model\n",
    "n_p=u.n_particles\n",
    "pr = u.prior\n",
    "nm = u.normalization_record"
   ]
  },
  {
   "cell_type": "code",
   "execution_count": null,
   "metadata": {},
   "outputs": [],
   "source": [
    "import qinfer\n",
    "newupd = qinfer.SMCUpdater(model, n_p, pr)"
   ]
  },
  {
   "cell_type": "code",
   "execution_count": null,
   "metadata": {},
   "outputs": [],
   "source": [
    "newupd.normalization_record.__setattr__(normalization_record)"
   ]
  },
  {
   "cell_type": "code",
   "execution_count": null,
   "metadata": {},
   "outputs": [],
   "source": [
    "newupd._normalization_record =nm"
   ]
  },
  {
   "cell_type": "code",
   "execution_count": null,
   "metadata": {},
   "outputs": [],
   "source": [
    "newupd.normalization_record"
   ]
  },
  {
   "cell_type": "code",
   "execution_count": null,
   "metadata": {},
   "outputs": [],
   "source": [
    "setattr(newupd, 'normalization_record', nm)"
   ]
  },
  {
   "cell_type": "code",
   "execution_count": null,
   "metadata": {},
   "outputs": [],
   "source": [
    "y.QLE"
   ]
  },
  {
   "cell_type": "code",
   "execution_count": null,
   "metadata": {},
   "outputs": [],
   "source": [
    "setattr(y, )"
   ]
  },
  {
   "cell_type": "code",
   "execution_count": null,
   "metadata": {},
   "outputs": [],
   "source": [
    "qmd.compareModels(name_a='x', name_b='y')"
   ]
  },
  {
   "cell_type": "code",
   "execution_count": null,
   "metadata": {},
   "outputs": [],
   "source": [
    "qmd.TrueOpName"
   ]
  },
  {
   "cell_type": "code",
   "execution_count": null,
   "metadata": {},
   "outputs": [],
   "source": [
    "x = qmd.getModelInstance('x')"
   ]
  },
  {
   "cell_type": "code",
   "execution_count": null,
   "metadata": {},
   "outputs": [],
   "source": [
    "x.BayesFactors"
   ]
  },
  {
   "cell_type": "code",
   "execution_count": null,
   "metadata": {},
   "outputs": [],
   "source": [
    "y = qmd.getModelInstance('y')\n",
    "y.BayesFactors"
   ]
  },
  {
   "cell_type": "code",
   "execution_count": null,
   "metadata": {},
   "outputs": [],
   "source": [
    "z = qmd.getModelInstance('z')\n",
    "a = z.BayesFactors"
   ]
  },
  {
   "cell_type": "code",
   "execution_count": null,
   "metadata": {},
   "outputs": [],
   "source": [
    "import numpy as np"
   ]
  },
  {
   "cell_type": "code",
   "execution_count": null,
   "metadata": {},
   "outputs": [],
   "source": [
    "np.sum( np.array(a[0]) < 1)"
   ]
  },
  {
   "cell_type": "code",
   "execution_count": null,
   "metadata": {},
   "outputs": [],
   "source": [
    "qmd.BranchRankings"
   ]
  },
  {
   "cell_type": "code",
   "execution_count": null,
   "metadata": {},
   "outputs": [],
   "source": [
    "qmd.BayesFactorsByBranch"
   ]
  },
  {
   "cell_type": "code",
   "execution_count": null,
   "metadata": {},
   "outputs": [],
   "source": [
    "scores = {}\n",
    "mods = ['x', 'y', 'z']\n",
    "for name in mods:\n",
    "    mod = qmd.getModelInstance(name)\n",
    "    "
   ]
  },
  {
   "cell_type": "code",
   "execution_count": null,
   "metadata": {},
   "outputs": [],
   "source": [
    "mod_ids = DataBase.list_model_id_in_branch(qmd.db, 0)\n",
    "#tally = np.zeros(len(mod_ids))\n",
    "\n",
    "tally = {}\n",
    "\n",
    "for i in mod_ids:\n",
    "    tally[int(i)] = 0\n",
    "    mod = qmd.getModelInstanceFromID(i)\n",
    "    scores = mod.BayesFactors\n",
    "    for j in mod_ids:\n",
    "        if i != j:\n",
    "            #tally[i]\n",
    "            comparison = np.array(scores[j]) > 1\n",
    "            points = np.sum(comparison)\n",
    "            tally[int(i)] += points\n",
    "           # tally_dict[int(i)] += points"
   ]
  },
  {
   "cell_type": "code",
   "execution_count": null,
   "metadata": {},
   "outputs": [],
   "source": [
    "tally"
   ]
  },
  {
   "cell_type": "code",
   "execution_count": null,
   "metadata": {},
   "outputs": [],
   "source": [
    "tally_dict"
   ]
  },
  {
   "cell_type": "code",
   "execution_count": null,
   "metadata": {},
   "outputs": [],
   "source": [
    "tally[0] += 10"
   ]
  },
  {
   "cell_type": "code",
   "execution_count": null,
   "metadata": {},
   "outputs": [],
   "source": [
    "tally"
   ]
  },
  {
   "cell_type": "code",
   "execution_count": null,
   "metadata": {},
   "outputs": [],
   "source": [
    "mylist = np.array([1,2,3])\n",
    "v=np.sum(mylist)"
   ]
  },
  {
   "cell_type": "code",
   "execution_count": null,
   "metadata": {},
   "outputs": [],
   "source": [
    "type(v)"
   ]
  },
  {
   "cell_type": "code",
   "execution_count": null,
   "metadata": {},
   "outputs": [],
   "source": [
    "tally[1]+=v"
   ]
  },
  {
   "cell_type": "code",
   "execution_count": null,
   "metadata": {},
   "outputs": [],
   "source": [
    "x.Updater"
   ]
  },
  {
   "cell_type": "code",
   "execution_count": null,
   "metadata": {},
   "outputs": [],
   "source": []
  }
 ],
 "metadata": {
  "kernelspec": {
   "display_name": "Python 3",
   "language": "python",
   "name": "python3"
  },
  "language_info": {
   "codemirror_mode": {
    "name": "ipython",
    "version": 3
   },
   "file_extension": ".py",
   "mimetype": "text/x-python",
   "name": "python",
   "nbconvert_exporter": "python",
   "pygments_lexer": "ipython3",
   "version": "3.5.2"
  }
 },
 "nbformat": 4,
 "nbformat_minor": 2
}
