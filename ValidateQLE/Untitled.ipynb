{
 "cells": [
  {
   "cell_type": "code",
   "execution_count": 3,
   "metadata": {
    "collapsed": true
   },
   "outputs": [],
   "source": [
    "import numpy as np"
   ]
  },
  {
   "cell_type": "code",
   "execution_count": 46,
   "metadata": {},
   "outputs": [],
   "source": []
  },
  {
   "cell_type": "code",
   "execution_count": 47,
   "metadata": {},
   "outputs": [
    {
     "data": {
      "text/plain": [
       "1.0000000058129042"
      ]
     },
     "execution_count": 47,
     "metadata": {},
     "output_type": "execute_result"
    }
   ],
   "source": [
    "np.linalg.norm(vec)"
   ]
  },
  {
   "cell_type": "code",
   "execution_count": 48,
   "metadata": {},
   "outputs": [],
   "source": []
  },
  {
   "cell_type": "code",
   "execution_count": 49,
   "metadata": {},
   "outputs": [],
   "source": [
    "from scipy import linalg\n"
   ]
  },
  {
   "cell_type": "code",
   "execution_count": 52,
   "metadata": {},
   "outputs": [],
   "source": [
    "#scipy\n",
    "u = linalg.expm(ham)\n",
    "u_v=np.dot(u,vec)\n",
    "bra = vec.T\n",
    "exp_val_lin=np.abs(np.dot(bra, u_v))"
   ]
  },
  {
   "cell_type": "code",
   "execution_count": 1,
   "metadata": {},
   "outputs": [
    {
     "ename": "ImportError",
     "evalue": "No module named hamiltonian_exponentiation",
     "output_type": "error",
     "traceback": [
      "\u001b[0;31m---------------------------------------------------------------------------\u001b[0m",
      "\u001b[0;31mImportError\u001b[0m                               Traceback (most recent call last)",
      "\u001b[0;32m<ipython-input-1-736471cc8112>\u001b[0m in \u001b[0;36m<module>\u001b[0;34m()\u001b[0m\n\u001b[0;32m----> 1\u001b[0;31m \u001b[0;32mimport\u001b[0m \u001b[0mhamiltonian_exponentiation\u001b[0m \u001b[0;32mas\u001b[0m \u001b[0mh\u001b[0m\u001b[0;34m\u001b[0m\u001b[0m\n\u001b[0m",
      "\u001b[0;31mImportError\u001b[0m: No module named hamiltonian_exponentiation"
     ]
    }
   ],
   "source": [
    "import hamiltonian_exponentiation as h"
   ]
  },
  {
   "cell_type": "code",
   "execution_count": 25,
   "metadata": {
    "collapsed": true
   },
   "outputs": [],
   "source": [
    "\n",
    "def random_probe(num_qubits):\n",
    "    dim = 2**num_qubits\n",
    "    real = []\n",
    "    imaginary = []\n",
    "    complex_vectors = []\n",
    "    for i in range(dim):\n",
    "        real.append(np.random.uniform(low=-1, high=1))\n",
    "        imaginary.append(np.random.uniform(low=-1, high=1))\n",
    "        complex_vectors.append(real[i] + 1j*imaginary[i])\n",
    "\n",
    "    a=np.array(complex_vectors)\n",
    "    norm_factor = np.linalg.norm(a)\n",
    "    probe = complex_vectors/norm_factor\n",
    "    if np.linalg.norm(probe) -1  > 1e-10:\n",
    "        print(\"Probe not normalised. Norm factor=\", np.linalg.norm(probe)-1)\n",
    "       # return random_probe(num_qubits)\n",
    "\n",
    "    return probe"
   ]
  },
  {
   "cell_type": "code",
   "execution_count": 29,
   "metadata": {},
   "outputs": [],
   "source": [
    "for i in range(100000):\n",
    "    a=random_probe(1)\n",
    "    if np.linalg.norm(a)-1.0 > 1e-14:\n",
    "        print(np.linalg.norm(a)-1)"
   ]
  },
  {
   "cell_type": "code",
   "execution_count": 39,
   "metadata": {
    "collapsed": true
   },
   "outputs": [],
   "source": [
    "def separable_probe_dict(max_num_qubits, num_probes):\n",
    "    seperable_probes = {}\n",
    "    for i in range(num_probes):\n",
    "        seperable_probes[i,0] = random_probe(1)\n",
    "        for j in range(1, 1+max_num_qubits):\n",
    "            if j==1:\n",
    "                seperable_probes[i,j] = seperable_probes[i,0]\n",
    "            else: \n",
    "                seperable_probes[i,j] = np.tensordot(seperable_probes[i,j-1], random_probe(1), axes=0).flatten(order='c')\n",
    "            if np.linalg.norm(seperable_probes[i,j]) < 0.999999999 or np.linalg.norm(seperable_probes[i,j]) > 1.0000000000001:\n",
    "                print(\"non-unit norm: \", np.linalg.norm(seperable_probes[i,j]))\n",
    "#                seperable_probes[i,j] = np.tensordot(seperable_probes[i,j-1], random_probe(1), axes=0).flatten(order='c')\n",
    "    return seperable_probes\n"
   ]
  },
  {
   "cell_type": "code",
   "execution_count": 41,
   "metadata": {},
   "outputs": [],
   "source": [
    "for i in range(100):\n",
    "    a=separable_probe_dict(max_num_qubits=5, num_probes=40)"
   ]
  },
  {
   "cell_type": "code",
   "execution_count": 44,
   "metadata": {},
   "outputs": [
    {
     "data": {
      "text/plain": [
       "True"
      ]
     },
     "execution_count": 44,
     "metadata": {},
     "output_type": "execute_result"
    }
   ],
   "source": [
    "\n",
    "np.isclose(0,1e-13, atol=1e-11)"
   ]
  },
  {
   "cell_type": "code",
   "execution_count": null,
   "metadata": {
    "collapsed": true
   },
   "outputs": [],
   "source": []
  }
 ],
 "metadata": {
  "kernelspec": {
   "display_name": "python2.7",
   "language": "python",
   "name": "python2.7"
  },
  "language_info": {
   "codemirror_mode": {
    "name": "ipython",
    "version": 2
   },
   "file_extension": ".py",
   "mimetype": "text/x-python",
   "name": "python",
   "nbconvert_exporter": "python",
   "pygments_lexer": "ipython2",
   "version": "2.7.13"
  }
 },
 "nbformat": 4,
 "nbformat_minor": 2
}
