{
 "cells": [
  {
   "cell_type": "code",
   "execution_count": 1,
   "metadata": {
    "collapsed": true
   },
   "outputs": [],
   "source": [
    "import matplotlib.pyplot as plt\n",
    "import os, pickle\n",
    "from matplotlib.ticker import FuncFormatter, MaxNLocator"
   ]
  },
  {
   "cell_type": "code",
   "execution_count": 4,
   "metadata": {
    "collapsed": false
   },
   "outputs": [],
   "source": [
    "%run plottingextravaganza.py"
   ]
  },
  {
   "cell_type": "code",
   "execution_count": 5,
   "metadata": {
    "collapsed": false
   },
   "outputs": [],
   "source": [
    "resultdir = os.path.normpath(os.getcwd() + \"\\\\plot_dev\")\n",
    "resultfiles = os.listdir(resultdir)\n",
    "\n",
    "theeverything = []\n",
    "\n",
    "for file in resultfiles:\n",
    "    if file.endswith(\".p\"):\n",
    "        theeverything.append( pickle.load(open(resultdir+\"\\\\\"+file, 'rb')) )"
   ]
  },
  {
   "cell_type": "code",
   "execution_count": 6,
   "metadata": {
    "collapsed": false
   },
   "outputs": [
    {
     "name": "stdout",
     "output_type": "stream",
     "text": [
      "$R_{x}$\n",
      "$R_{y}$\n",
      "$R_{z}$\n",
      "$R_{xy}$\n",
      "$R_{xz}$\n",
      "$R_{xyz}$\n",
      "$R_{xyz}HF_{x}$\n",
      "$R_{xyz}HF_{y}$\n",
      "$R_{xyz}HF_{z}$\n",
      "$R_{xyz}HF_{xy}$\n",
      "$R_{xyz}HF_{xz}$\n",
      "$R_{xyz}HF_{xyz}$\n",
      "Term zTx doesn't belong to rotations, Hartree-Fock or transverse.\n",
      "$R_{xyz}HF_{xyz}$\n",
      "$R_{xyz}HF_{xyz}T_{xy}$\n",
      "$R_{xyz}HF_{xyz}T_{xz}$\n",
      "$R_{xyz}HF_{xyz}T_{xy,xz}$\n",
      "Term yTx doesn't belong to rotations, Hartree-Fock or transverse.\n",
      "$R_{xyz}HF_{xyz}T_{xz}$\n",
      "$R_{xyz}HF_{xyz}T_{xz,yz}$\n",
      "Term yTx doesn't belong to rotations, Hartree-Fock or transverse.\n",
      "$R_{xyz}HF_{xyz}T_{xy,xz}$\n",
      "$R_{xyz}HF_{xyz}T_{xy,xz,yz}$\n",
      "Term zTx doesn't belong to rotations, Hartree-Fock or transverse.\n",
      "$R_{xyz}HF_{xyz}T_{xy,xz}$\n"
     ]
    }
   ],
   "source": [
    "for name in theeverything[1].values():\n",
    "    print(latex_processing (ising_name_processing (name) ))"
   ]
  },
  {
   "cell_type": "code",
   "execution_count": null,
   "metadata": {
    "collapsed": true
   },
   "outputs": [],
   "source": []
  },
  {
   "cell_type": "code",
   "execution_count": 7,
   "metadata": {
    "collapsed": false,
    "scrolled": true
   },
   "outputs": [
    {
     "data": {
      "text/plain": [
       "{0: {1.0: [3.527246461067839],\n",
       "  2.0: [3.0263210486715355],\n",
       "  4.0: [0.6777750571934382, 0.38582627861212515],\n",
       "  5.0: [2.4906833222865274],\n",
       "  6.0: [0.990409746858398],\n",
       "  9.0: [1.8233750167696199],\n",
       "  11.0: [0.48703649472292954],\n",
       "  14.0: [6.537770396961559],\n",
       "  15.0: [8.412266174972729],\n",
       "  19.0: [0.3714512238095762]},\n",
       " 1: {0.0: [0.28350726580565055], 2.0: [0.051793404764221444]},\n",
       " 2: {0.0: [0.3304342083728923], 1.0: [19.307477555342984]},\n",
       " 3: {4.0: [0.12760796887271877]},\n",
       " 4: {0.0: [1.4754157583503376, 2.591840046761847],\n",
       "  3.0: [7.836501190591314],\n",
       "  5.0: [1.1350051438754571, 2.3776702229490936],\n",
       "  6.0: [0.5671741659825383],\n",
       "  9.0: [0.15976808424339375],\n",
       "  11.0: [0.33697797496483006],\n",
       "  14.0: [0.2025097840734212],\n",
       "  15.0: [16.062164166712645],\n",
       "  19.0: [0.3538868792562836]},\n",
       " 5: {0.0: [0.4014962444450657],\n",
       "  4.0: [0.8810532757459723, 0.4205797718910198],\n",
       "  6.0: [0.09522312129397376, 1.4521809879431342],\n",
       "  9.0: [0.48483356911220854],\n",
       "  11.0: [0.07000645735649817],\n",
       "  14.0: [0.6013830550062577],\n",
       "  15.0: [2.5880082977404792],\n",
       "  19.0: [3.764877412729689]},\n",
       " 6: {0.0: [1.00968311668178],\n",
       "  4.0: [1.7631268488184053],\n",
       "  5.0: [10.501651136941733, 0.6886193995807628],\n",
       "  7.0: [5.961203270636091, 6.475621262725095],\n",
       "  8.0: [0.40880581645882635, 1.3363679564947677],\n",
       "  9.0: [4.048019066025768, 0.4612414352624375],\n",
       "  11.0: [1.1245447739803598],\n",
       "  14.0: [0.339035239197982],\n",
       "  15.0: [1.2365231076928647],\n",
       "  19.0: [0.1776268193322567]},\n",
       " 7: {6.0: [0.16775136740024216, 0.15442533765156863],\n",
       "  8.0: [8.159862027855912, 5.317398638087193]},\n",
       " 8: {6.0: [2.4461491489094724, 0.7482969006701975],\n",
       "  7.0: [0.1225510917447167, 0.1880618828983877]},\n",
       " 9: {0.0: [0.5484335316668146],\n",
       "  4.0: [6.259072359386753],\n",
       "  5.0: [2.062563452095791],\n",
       "  6.0: [0.24703440959377004, 2.1680619379545103],\n",
       "  10.0: [1.8640636517678877],\n",
       "  11.0: [0.25422199410662477, 7.662619800173735],\n",
       "  14.0: [0.09833487910602011],\n",
       "  15.0: [0.4419525421663713],\n",
       "  19.0: [2.7697521164891983]},\n",
       " 10: {9.0: [0.5364623676083136]},\n",
       " 11: {0.0: [2.0532342254329228],\n",
       "  4.0: [2.9675529983951283],\n",
       "  5.0: [14.28439657941322],\n",
       "  6.0: [0.8892487192488301],\n",
       "  9.0: [3.933569963189668, 0.1305036692512562],\n",
       "  14.0: [1.9045763184069864, 0.4974406859480138],\n",
       "  15.0: [1.427720182334001],\n",
       "  19.0: [0.305268595015564]},\n",
       " 12: {13.0: [0.06919039337461298], 14.0: [0.1998632488249236]},\n",
       " 13: {12.0: [14.45287345868618], 14.0: [0.623130119645041]},\n",
       " 14: {0.0: [0.1529573446728493],\n",
       "  4.0: [4.938033016900771],\n",
       "  5.0: [1.662833682584546],\n",
       "  6.0: [2.9495459007906932],\n",
       "  9.0: [10.169331666354584],\n",
       "  11.0: [0.5250511572234677, 2.010289926514992],\n",
       "  12.0: [5.003421118586845],\n",
       "  13.0: [1.604801258153977],\n",
       "  15.0: [4.100365844953823, 0.3768216077343965],\n",
       "  19.0: [2.986327185208264]},\n",
       " 15: {0.0: [0.11887403218113719],\n",
       "  4.0: [0.062258111025437525],\n",
       "  5.0: [0.3863975246420474],\n",
       "  6.0: [0.808719217440121],\n",
       "  9.0: [2.2626863850543346],\n",
       "  11.0: [0.7004173593492424],\n",
       "  14.0: [0.24388067743532324, 2.653775631425181],\n",
       "  16.0: [0.2155180446971331, 2.490398376162954],\n",
       "  17.0: [2.9640365088502945, 4.596964918388513],\n",
       "  19.0: [0.09549034814700473, 0.38353411481789457]},\n",
       " 16: {15.0: [4.639982704953069, 0.4015421827975715],\n",
       "  17.0: [0.7662705509397729, 1.0918619712039608]},\n",
       " 17: {15.0: [0.3373777607037253, 0.21753483390744574],\n",
       "  16.0: [1.3050220953598903, 0.9158666812961096]},\n",
       " 18: {19.0: [0.7325792479188127, 0.5239569971590713],\n",
       "  20.0: [1.553185163674072, 0.6473856269841861]},\n",
       " 19: {0.0: [2.6921435060681027],\n",
       "  4.0: [2.8257617295717923],\n",
       "  5.0: [0.2656128979442546],\n",
       "  6.0: [5.629780478867144],\n",
       "  9.0: [0.36104313958158496],\n",
       "  11.0: [3.2758037227806396],\n",
       "  14.0: [0.3348594905987372],\n",
       "  15.0: [10.472262583654297, 2.607329990644532],\n",
       "  18.0: [1.3650400319704714, 1.9085535748583655],\n",
       "  20.0: [0.18709087558744783, 1.11963754055641]},\n",
       " 20: {18.0: [0.6438382386002787, 1.5446743923841042],\n",
       "  19.0: [5.344996098073162, 0.8931461868481513]}}"
      ]
     },
     "execution_count": 7,
     "metadata": {},
     "output_type": "execute_result"
    }
   ],
   "source": [
    "theeverything[0]"
   ]
  },
  {
   "cell_type": "code",
   "execution_count": 12,
   "metadata": {
    "collapsed": false
   },
   "outputs": [],
   "source": [
    "BFmatrix = BayF_IndexDictToMatrix(theeverything[1], theeverything[0])"
   ]
  },
  {
   "cell_type": "code",
   "execution_count": 13,
   "metadata": {
    "collapsed": false
   },
   "outputs": [
    {
     "name": "stdout",
     "output_type": "stream",
     "text": [
      "[6.537770396961559]\n",
      "6.53777039696\n"
     ]
    }
   ],
   "source": [
    "checkcouple = (0,14)\n",
    "try:\n",
    "    print(theeverything[0][checkcouple[0]][checkcouple[1]])\n",
    "except:\n",
    "    print(\"missing\")\n",
    "print(BFmatrix[checkcouple])"
   ]
  },
  {
   "cell_type": "code",
   "execution_count": 14,
   "metadata": {
    "collapsed": false
   },
   "outputs": [],
   "source": [
    "X = np.log10(BFmatrix)"
   ]
  },
  {
   "cell_type": "code",
   "execution_count": 15,
   "metadata": {
    "collapsed": false
   },
   "outputs": [
    {
     "name": "stdout",
     "output_type": "stream",
     "text": [
      "Term zTx doesn't belong to rotations, Hartree-Fock or transverse.\n",
      "Term yTx doesn't belong to rotations, Hartree-Fock or transverse.\n",
      "Term yTx doesn't belong to rotations, Hartree-Fock or transverse.\n",
      "Term zTx doesn't belong to rotations, Hartree-Fock or transverse.\n"
     ]
    }
   ],
   "source": [
    "labels = list( map(lambda name: latex_processing (ising_name_processing (name) ), list(theeverything[1].values()) ))"
   ]
  },
  {
   "cell_type": "markdown",
   "metadata": {},
   "source": [
    "def format_fn(tick_val, tick_pos):\n",
    "    \n",
    "    if int(tick_val) in range(len(labels)):\n",
    "        return labels[int(tick_val)]\n",
    "    else:\n",
    "        return ''"
   ]
  },
  {
   "cell_type": "code",
   "execution_count": 104,
   "metadata": {
    "collapsed": false
   },
   "outputs": [
    {
     "data": {
      "image/png": "[encoded data removed]",
      "text/plain": [
       "<matplotlib.figure.Figure at 0x7519160>"
      ]
     },
     "metadata": {},
     "output_type": "display_data"
    }
   ],
   "source": [
    "fig, ax = plt.subplots(figsize=(7,7))\n",
    "\n",
    "hinton(X, use_default_ticks=True, skip_diagonal=True, skip_which = 'upper', where_labels = 'bottomleft', white_half = 1.5)\n",
    "\n",
    "ax.xaxis.set_major_formatter(QMDFuncFormatter(format_fn, labels) )\n",
    "ax.yaxis.set_major_formatter(QMDFuncFormatter(format_fn, labels ))\n",
    "\n",
    "# ax.xaxis.tick_top()\n",
    "# ax.yaxis.tick_right()\n",
    "\n",
    "plt.xticks(rotation=90)\n",
    "\n",
    "# savefigs(expdire, \"EXP_CompareModels_BFhinton\"+mytimestamp+\".pdf\")\n",
    "\n",
    "plt.show()"
   ]
  },
  {
   "cell_type": "code",
   "execution_count": 96,
   "metadata": {
    "collapsed": true
   },
   "outputs": [],
   "source": [
    "%run plottingextravaganza.py"
   ]
  },
  {
   "cell_type": "code",
   "execution_count": null,
   "metadata": {
    "collapsed": true
   },
   "outputs": [],
   "source": []
  },
  {
   "cell_type": "code",
   "execution_count": null,
   "metadata": {
    "collapsed": true
   },
   "outputs": [],
   "source": []
  },
  {
   "cell_type": "code",
   "execution_count": 98,
   "metadata": {
    "collapsed": true
   },
   "outputs": [],
   "source": [
    "mydearones = [0, 11, 15]"
   ]
  },
  {
   "cell_type": "code",
   "execution_count": 100,
   "metadata": {
    "collapsed": true
   },
   "outputs": [],
   "source": [
    "import itertools"
   ]
  },
  {
   "cell_type": "code",
   "execution_count": 117,
   "metadata": {
    "collapsed": false
   },
   "outputs": [
    {
     "data": {
      "text/plain": [
       "0.0"
      ]
     },
     "execution_count": 117,
     "metadata": {},
     "output_type": "execute_result"
    }
   ],
   "source": [
    "X[pair]"
   ]
  },
  {
   "cell_type": "code",
   "execution_count": 118,
   "metadata": {
    "collapsed": false
   },
   "outputs": [],
   "source": [
    "Y = np.zeros([len(mydearones), len(mydearones)])\n",
    "\n",
    "pairs = list(itertools.product(mydearones, repeat=2))\n",
    "    \n",
    "for long_index in range(len(pairs)):\n",
    "    Y[ int(long_index/len(Y)) , long_index%len(Y) ] = X[pairs[long_index]]"
   ]
  },
  {
   "cell_type": "code",
   "execution_count": 119,
   "metadata": {
    "collapsed": false
   },
   "outputs": [
    {
     "data": {
      "text/plain": [
       "array([[ 0.        , -0.31243849,  0.92491301],\n",
       "       [ 0.31243849,  0.        ,  0.1546431 ],\n",
       "       [-0.92491301, -0.1546431 ,  0.        ]])"
      ]
     },
     "execution_count": 119,
     "metadata": {},
     "output_type": "execute_result"
    }
   ],
   "source": [
    "Y"
   ]
  },
  {
   "cell_type": "code",
   "execution_count": 122,
   "metadata": {
    "collapsed": true
   },
   "outputs": [],
   "source": [
    "upind = np.triu_indices(len(Y))\n",
    "loind = np.tril_indices(len(Y))\n",
    "\n",
    "diagindu = [len(X)-i for i in range(len(Y))]\n",
    "diagindu = [int(np.sum(diagindu[0:i])) for i in range(len(diagindu))]\n",
    "\n",
    "diagindl = [i+2 for i in range(len(Y))]\n",
    "diagindl = [int(np.sum(diagindl[0:i])) for i in range(len(diagindl))]\n",
    "\n",
    "ndupind = []\n",
    "ndloind = []\n",
    "\n",
    "for dimension in range(2):\n",
    "    ndupind.append(np.delete(upind[dimension], diagindu))\n",
    "    ndloind.append(np.delete(loind[dimension], diagindl))\n",
    "    \n",
    "histpos = [tuple(ndupind)]"
   ]
  },
  {
   "cell_type": "code",
   "execution_count": 125,
   "metadata": {
    "collapsed": false
   },
   "outputs": [
    {
     "data": {
      "text/plain": [
       "[(array([0, 0, 1, 1, 2], dtype=int64), array([1, 2, 1, 2, 2], dtype=int64))]"
      ]
     },
     "execution_count": 125,
     "metadata": {},
     "output_type": "execute_result"
    }
   ],
   "source": [
    "histpos"
   ]
  },
  {
   "cell_type": "code",
   "execution_count": 123,
   "metadata": {
    "collapsed": true
   },
   "outputs": [],
   "source": [
    "from mpl_toolkits.mplot3d import Axes3D"
   ]
  },
  {
   "cell_type": "code",
   "execution_count": 124,
   "metadata": {
    "collapsed": false
   },
   "outputs": [
    {
     "name": "stdout",
     "output_type": "stream",
     "text": [
      "30 -60 10\n"
     ]
    },
    {
     "data": {
      "image/png": "[encoded data removed]",
      "text/plain": [
       "<matplotlib.figure.Figure at 0xb72de48>"
      ]
     },
     "metadata": {},
     "output_type": "display_data"
    }
   ],
   "source": [
    "# setup the figure and axes\n",
    "fig = plt.figure(figsize = (6, 6*3/4))\n",
    "ax1 = fig.add_subplot(111, projection='3d')\n",
    "\n",
    "poses = list(range(len(histpos)))\n",
    "\n",
    "for pose, indices in zip(poses, histpos):\n",
    "    top = Y[indices]\n",
    "    bottom = np.zeros_like(top)\n",
    "    width = depth = 1\n",
    "    \n",
    "    myalpha = 0.5 if pose is 1 else 0.8\n",
    "    ax1.bar3d(indices[0], indices[1], bottom, width, depth, top, alpha= myalpha)\n",
    "\n",
    "azm=ax1.azim\n",
    "ele=ax1.elev\n",
    "dst=ax1.dist \n",
    "print(ele, azm, dst)\n",
    "ax1.set_zlim(-5,3)    \n",
    "ax1.view_init(elev=20, azim=-65)\n",
    "\n",
    "ax1.grid(False)\n",
    "\n",
    "# ax1.xaxis.set_major_formatter(QMDFuncFormatter(format_fn, labels))\n",
    "# ax1.yaxis.set_major_formatter(QMDFuncFormatter(format_fn, labels))\n",
    "\n",
    "plt.xticks(rotation=30)\n",
    "plt.yticks(rotation=-30)\n",
    "# ax1.set_ylim(-1,5)   \n",
    "\n",
    "plt.tight_layout()\n",
    "\n",
    "# savefigs(expdire, \"EXP_CompareModels_3D\"+mytimestamp+\".pdf\")\n",
    "\n",
    "plt.show()"
   ]
  },
  {
   "cell_type": "code",
   "execution_count": null,
   "metadata": {
    "collapsed": true
   },
   "outputs": [],
   "source": []
  }
 ],
 "metadata": {
  "anaconda-cloud": {},
  "kernelspec": {
   "display_name": "Python [conda root]",
   "language": "python",
   "name": "conda-root-py"
  },
  "language_info": {
   "codemirror_mode": {
    "name": "ipython",
    "version": 3
   },
   "file_extension": ".py",
   "mimetype": "text/x-python",
   "name": "python",
   "nbconvert_exporter": "python",
   "pygments_lexer": "ipython3",
   "version": "3.5.2"
  }
 },
 "nbformat": 4,
 "nbformat_minor": 1
}
