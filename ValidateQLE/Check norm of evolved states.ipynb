{
 "cells": [
  {
   "cell_type": "code",
   "execution_count": 1,
   "metadata": {},
   "outputs": [],
   "source": [
    "import hamiltonian_exponentiation as h\n",
    "import numpy as np\n",
    "from scipy import linalg\n",
    "\n",
    "import sys, os\n",
    "sys.path.append(os.path.join(\"..\", \"Libraries\",\"QML_lib\"))\n",
    "from RedisSettings import *\n",
    "import Evo as evo\n",
    "import DataBase \n"
   ]
  },
  {
   "cell_type": "code",
   "execution_count": null,
   "metadata": {},
   "outputs": [],
   "source": [
    "#tol_list=[1e-14 , 1e-12, 1e-8, 1e-6, 1e-2, 1e-1]\n",
    "#tol_list=[1e-10, 1e-8, 1e-6, 1e-2, 1e-1]\n",
    "tol_list = [1e-5, 1e-4, 1e-3]\n",
    "\n",
    "min_scalar=1\n",
    "max_scalar=20\n",
    "\n",
    "min_time=7\n",
    "max_time=10\n",
    "time_list = range(min_time, max_time)\n",
    "scalar_list = range(min_scalar, max_scalar)\n",
    "\n",
    "num_equal=0\n",
    "num_unequal=0\n",
    "for t in time_list:\n",
    "    \n",
    "    l = linalg.expm(-1j*ham*t)\n",
    "    for s in scalar_list:\n",
    "        e = h.exp_ham(ham,t, scalar_cutoff=s)\n",
    "        for tol in tol_list:\n",
    "            close = np.all(np.isclose(l,e, atol=tol))\n",
    "            if close == False:\n",
    "                print(\"not equal for t=\",t ,\"and scalar=\", s, \"tol=\", tol)\n",
    "                num_unequal+=1\n",
    "            else:\n",
    "                num_equal+=1\n",
    "\n",
    "print(\"Num equal:\", num_equal)\n",
    "print(\"Num unequal:\", num_unequal)"
   ]
  },
  {
   "cell_type": "code",
   "execution_count": null,
   "metadata": {},
   "outputs": [],
   "source": [
    "tol_list = [1e-5, 1e-4, 1e-3, 1e-2]\n",
    "\n",
    "min_scalar=5\n",
    "max_scalar=100\n",
    "\n",
    "min_time=6\n",
    "max_time=80\n",
    "time_list = range(min_time, max_time)\n",
    "scalar_list = range(min_scalar, max_scalar)\n",
    "\n",
    "num_equal=0\n",
    "num_unequal=0\n",
    "for t in time_list:\n",
    "    val = np.max(np.abs(ham))\n",
    "    l = evo.expectation_value(ham,t,state, use_exp_custom=False)\n",
    "    for s in scalar_list:\n",
    "        #s=10\n",
    "        e = evo.expectation_value(ham,t,state, exp_fnc_cutoff=s, print_exp_details=False)\n",
    "        for tol in tol_list:\n",
    "            close = np.all(np.isclose(l,e, atol=tol))\n",
    "            if close == False:\n",
    "                print(\"not equal for t=\",t ,\"and scalar=\", s, \"i.e. factor=\",val*t, \"tol=\", tol)\n",
    "                evo.expectation_value(ham,t,state, use_exp_custom=True, print_exp_details=False, exp_fnc_cutoff=s)\n",
    "                num_unequal+=1\n",
    "            else:\n",
    "                num_equal+=1\n",
    "\n",
    "print(\"Num equal:\", num_equal)\n",
    "print(\"Num unequal:\", num_unequal)"
   ]
  },
  {
   "cell_type": "code",
   "execution_count": 2,
   "metadata": {},
   "outputs": [],
   "source": [
    "ham = np.array(\n",
    "  [[ 0.77652550+0.j ,        0.00000000+0.j,         0.33913847-0.7115294j,\n",
    "  -0.76106768+0.j       ],\n",
    " [ 0.00000000+0.j    ,     0.77652550+0.j ,        0.76106768+0.j,\n",
    "   0.33913847-0.7115294j],\n",
    " [ 0.33913847+0.7115294j,  0.76106768+0.j  ,      -0.77652550+0.j,\n",
    "   0.00000000+0.j       ],\n",
    " [-0.76106768+0.j ,        0.33913847+0.7115294j,  0.00000000+0.j,\n",
    "  -0.77652550+0.j       ]] )\n",
    "\n",
    "\n",
    "probe = np.array([-0.41488223+0.08991393j, -0.34993698-0.59499667j,  0.02695301+0.305756j,\n",
    " -0.45849477+0.19718178j])\n",
    "\n",
    "t=21"
   ]
  },
  {
   "cell_type": "code",
   "execution_count": 3,
   "metadata": {},
   "outputs": [
    {
     "name": "stdout",
     "output_type": "stream",
     "text": [
      "0\n",
      "1\n",
      "2\n",
      "3\n",
      "4\n",
      "5\n",
      "6\n",
      "7\n",
      "Note: C++ function diverged; using linalg.\n",
      "8\n",
      "Note: C++ function diverged; using linalg.\n",
      "9\n",
      "Note: C++ function diverged; using linalg.\n",
      "10\n",
      "Note: C++ function diverged; using linalg.\n",
      "11\n",
      "Note: C++ function diverged; using linalg.\n",
      "12\n",
      "Note: C++ function diverged; using linalg.\n",
      "13\n",
      "Note: C++ function diverged; using linalg.\n",
      "14\n",
      "Note: C++ function diverged; using linalg.\n",
      "15\n",
      "Note: C++ function diverged; using linalg.\n",
      "16\n",
      "Note: C++ function diverged; using linalg.\n",
      "17\n",
      "Note: C++ function diverged; using linalg.\n",
      "18\n",
      "Note: C++ function diverged; using linalg.\n",
      "19\n",
      "Note: C++ function diverged; using linalg.\n",
      "20\n",
      "Note: C++ function diverged; using linalg.\n",
      "21\n",
      "Note: C++ function diverged; using linalg.\n",
      "22\n",
      "Note: C++ function diverged; using linalg.\n",
      "23\n",
      "Note: C++ function diverged; using linalg.\n",
      "24\n",
      "Note: C++ function diverged; using linalg.\n",
      "25\n",
      "Note: C++ function diverged; using linalg.\n",
      "26\n",
      "Note: C++ function diverged; using linalg.\n",
      "27\n",
      "Note: C++ function diverged; using linalg.\n",
      "28\n",
      "Note: C++ function diverged; using linalg.\n",
      "29\n",
      "Note: C++ function diverged; using linalg.\n",
      "30\n",
      "Note: C++ function diverged; using linalg.\n",
      "31\n",
      "Note: C++ function diverged; using linalg.\n",
      "32\n",
      "Note: C++ function diverged; using linalg.\n",
      "33\n",
      "Note: C++ function diverged; using linalg.\n",
      "34\n",
      "Note: C++ function diverged; using linalg.\n",
      "35\n",
      "Note: C++ function diverged; using linalg.\n",
      "36\n",
      "Note: C++ function diverged; using linalg.\n",
      "37\n",
      "Note: C++ function diverged; using linalg.\n",
      "38\n",
      "Note: C++ function diverged; using linalg.\n",
      "39\n",
      "Note: C++ function diverged; using linalg.\n"
     ]
    }
   ],
   "source": [
    "t=1\n",
    "for t in range(40):\n",
    "    print(t)\n",
    "    evo.expectation_value(ham,t,probe, use_exp_custom=True, compare_exp_fncs_tol=1e-20, print_exp_details=False, exp_fnc_cutoff=t+1)"
   ]
  },
  {
   "cell_type": "code",
   "execution_count": null,
   "metadata": {},
   "outputs": [],
   "source": [
    "t=30\n",
    "h.exp_ham(ham,t, scalar_cutoff=t+1)"
   ]
  },
  {
   "cell_type": "code",
   "execution_count": null,
   "metadata": {},
   "outputs": [],
   "source": [
    "a=evo.expectation_value(ham=ham,t=t,state=state, use_exp_custom=True, print_exp_details=False, exp_fnc_cutoff=10, compare_exp_fncs_tol=1e-25)"
   ]
  },
  {
   "cell_type": "code",
   "execution_count": null,
   "metadata": {},
   "outputs": [],
   "source": [
    "a"
   ]
  },
  {
   "cell_type": "code",
   "execution_count": null,
   "metadata": {},
   "outputs": [],
   "source": [
    "lin = [-0.07871657-0.41758095j, -0.06935458+0.1990016j,  -0.77663823-0.13733783j,\n",
    "  0.29999039+0.25098866j]\n",
    "\n",
    "exp = [-0.07871657-0.41758095j ,-0.06935458+0.1990016j , -0.77663823-0.13733783j,\n",
    "  0.29999039+0.25098866j]"
   ]
  },
  {
   "cell_type": "code",
   "execution_count": null,
   "metadata": {},
   "outputs": [],
   "source": [
    "np.all(np.isclose(lin,exp, atol=1e-20))"
   ]
  },
  {
   "cell_type": "code",
   "execution_count": null,
   "metadata": {},
   "outputs": [],
   "source": [
    "diff=[]\n",
    "for i in range(len(lin)):\n",
    "    diff.append(exp[i]-lin[i])\n"
   ]
  },
  {
   "cell_type": "code",
   "execution_count": null,
   "metadata": {},
   "outputs": [],
   "source": [
    "diff"
   ]
  },
  {
   "cell_type": "code",
   "execution_count": null,
   "metadata": {
    "scrolled": false
   },
   "outputs": [],
   "source": [
    "val = np.max(np.abs(ham))\n",
    "num_equal = num_unequal=0\n",
    "for t in range(1,1000):\n",
    "    scalar = t*val\n",
    "    cut = np.ceil(scalar)\n",
    "    #print(\"Scalar\", scalar, \"cut\", cut, \"t=\",t)\n",
    "    a=evo.expectation_value(ham=ham,t=t,state=state, use_exp_custom=True, print_exp_details=False, exp_fnc_cutoff=cut)\n",
    "    b=evo.expectation_value(ham=ham,t=t,state=state, use_exp_custom=False, print_exp_details=False, exp_fnc_cutoff=cut)\n",
    "    if np.isclose(a,b,atol=1e-16) is False:\n",
    "        #print(\"t=\",t,\"Scalar:\", scalar, \"\\t cutoff:\", cut, \"\\t Diff:\", np.abs(a-b))\n",
    "        num_unequal+=1\n",
    "    else:\n",
    "        num_equal+=1\n",
    "        #print(\"okay for scalar\", scalar, \"at t=\",t)"
   ]
  },
  {
   "cell_type": "code",
   "execution_count": null,
   "metadata": {},
   "outputs": [],
   "source": [
    "num_equal"
   ]
  },
  {
   "cell_type": "code",
   "execution_count": null,
   "metadata": {},
   "outputs": [],
   "source": [
    "num_unequal"
   ]
  },
  {
   "cell_type": "code",
   "execution_count": null,
   "metadata": {},
   "outputs": [],
   "source": [
    "import math\n",
    "from decimal import Decimal\n",
    "\n",
    "fail_vals =[5.5, 6.3, 7.09, 7.88, 8.67, 9.45]\n",
    "\n",
    "for alpha in fail_vals:\n",
    "    print(\"\\nalpha=\",alpha)\n",
    "    for k in range(30):\n",
    "        a=alpha**k\n",
    "        b=math.factorial(k)\n",
    "        c = a/b\n",
    "        print('%.2E'%a, '\\t %.2E'%b, '\\t %.2E'%c)"
   ]
  },
  {
   "cell_type": "code",
   "execution_count": null,
   "metadata": {},
   "outputs": [],
   "source": [
    "import random\n",
    "a=random.random()"
   ]
  },
  {
   "cell_type": "code",
   "execution_count": null,
   "metadata": {},
   "outputs": [],
   "source": [
    "1.0/a"
   ]
  },
  {
   "cell_type": "code",
   "execution_count": null,
   "metadata": {},
   "outputs": [],
   "source": [
    "val"
   ]
  },
  {
   "cell_type": "code",
   "execution_count": null,
   "metadata": {},
   "outputs": [],
   "source": [
    "ham = np.array([[ 1.04945390+0.j   ,       0.00000000+0.j  ,        0.00000000-1.03704842j,\n",
    "   1.03267381+0.j        ],\n",
    " [ 0.00000000+0.j   ,      -0.51922418+0.j  ,       -1.03267381+0.j,\n",
    "   0.00000000-1.03704842j],\n",
    " [ 0.00000000+1.03704842j, -1.03267381+0.j  ,       -1.04945390+0.j,\n",
    "   0.00000000+0.j        ],\n",
    " [ 1.03267381+0.j      ,    0.00000000+1.03704842j , 0.00000000+0.j,\n",
    "   0.51922418+0.j        ]] )\n",
    "\n",
    "t = 9.38\n",
    "\n",
    "probe = np.array([-0.41103850-0.423944j  ,  0.52026775-0.46038058j ,-0.03140191-0.26413738j,\n",
    "  0.31211760-0.02275955j])"
   ]
  },
  {
   "cell_type": "code",
   "execution_count": null,
   "metadata": {},
   "outputs": [],
   "source": [
    "u1=h.exp_ham(ham,t, scalar_cutoff=10)\n",
    "u2 = linalg.expm(-1j*ham*t)"
   ]
  },
  {
   "cell_type": "code",
   "execution_count": null,
   "metadata": {},
   "outputs": [],
   "source": [
    "u1-u2"
   ]
  },
  {
   "cell_type": "code",
   "execution_count": null,
   "metadata": {},
   "outputs": [],
   "source": [
    "scaled=ham/np.max(np.abs(ham))"
   ]
  },
  {
   "cell_type": "code",
   "execution_count": null,
   "metadata": {},
   "outputs": [],
   "source": [
    "np.max(np.abs(ham)) * 9.38"
   ]
  },
  {
   "cell_type": "code",
   "execution_count": null,
   "metadata": {},
   "outputs": [],
   "source": [
    "np.max(np.abs(diff))"
   ]
  },
  {
   "cell_type": "code",
   "execution_count": null,
   "metadata": {},
   "outputs": [],
   "source": [
    "import hamiltonian_exponentiation as h\n",
    "from scipy import linalg"
   ]
  },
  {
   "cell_type": "code",
   "execution_count": null,
   "metadata": {},
   "outputs": [],
   "source": [
    "h.test_exp_ham_function()"
   ]
  },
  {
   "cell_type": "code",
   "execution_count": null,
   "metadata": {},
   "outputs": [],
   "source": []
  }
 ],
 "metadata": {
  "kernelspec": {
   "display_name": "Python 3",
   "language": "python",
   "name": "python3"
  },
  "language_info": {
   "codemirror_mode": {
    "name": "ipython",
    "version": 3
   },
   "file_extension": ".py",
   "mimetype": "text/x-python",
   "name": "python",
   "nbconvert_exporter": "python",
   "pygments_lexer": "ipython3",
   "version": "3.5.2"
  }
 },
 "nbformat": 4,
 "nbformat_minor": 2
}
