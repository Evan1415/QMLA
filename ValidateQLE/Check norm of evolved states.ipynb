{
 "cells": [
  {
   "cell_type": "code",
   "execution_count": 1,
   "metadata": {},
   "outputs": [],
   "source": [
    "import hamiltonian_exponentiation as h\n",
    "import numpy as np\n",
    "from scipy import linalg\n",
    "\n",
    "import sys, os\n",
    "sys.path.append(os.path.join(\"..\", \"Libraries\",\"QML_lib\"))\n",
    "from RedisSettings import *\n",
    "import Evo as evo\n",
    "import DataBase \n"
   ]
  },
  {
   "cell_type": "code",
   "execution_count": 2,
   "metadata": {},
   "outputs": [],
   "source": [
    "\n",
    "state = np.array([-0.41488223+0.08991393j, -0.34993698-0.59499667j,  0.02695301+0.305756j,\n",
    " -0.45849477+0.19718178j] )\n",
    "\n",
    "ham = np.array(   [[ 0.77652550+0.j  ,       0.00000000+0.j  ,       0.33913847-0.7115294j,\n",
    "  -0.76106768+0.j       ],\n",
    " [ 0.00000000+0.j   ,      0.77652550+0.j  ,       0.76106768+0.j,\n",
    "   0.33913847-0.7115294j],\n",
    " [ 0.33913847+0.7115294j , 0.76106768+0.j ,       -0.77652550+0.j,\n",
    "   0.00000000+0.j       ],\n",
    " [-0.76106768+0.j  ,       0.33913847+0.7115294j,  0.00000000+0.j,\n",
    "  -0.77652550+0.j       ]] \n",
    "\n",
    "              )\n",
    "\n",
    "\n",
    "t=12.6156543934"
   ]
  },
  {
   "cell_type": "code",
   "execution_count": 3,
   "metadata": {},
   "outputs": [
    {
     "name": "stdout",
     "output_type": "stream",
     "text": [
      "not equal for t= 8 and scalar= 7 tol= 1e-05\n",
      "not equal for t= 8 and scalar= 8 tol= 1e-05\n",
      "not equal for t= 8 and scalar= 9 tol= 1e-05\n",
      "not equal for t= 8 and scalar= 10 tol= 1e-05\n",
      "not equal for t= 8 and scalar= 11 tol= 1e-05\n",
      "not equal for t= 8 and scalar= 12 tol= 1e-05\n",
      "not equal for t= 8 and scalar= 13 tol= 1e-05\n",
      "not equal for t= 8 and scalar= 14 tol= 1e-05\n",
      "not equal for t= 8 and scalar= 15 tol= 1e-05\n",
      "not equal for t= 8 and scalar= 16 tol= 1e-05\n",
      "not equal for t= 8 and scalar= 17 tol= 1e-05\n",
      "not equal for t= 8 and scalar= 18 tol= 1e-05\n",
      "not equal for t= 8 and scalar= 19 tol= 1e-05\n",
      "not equal for t= 9 and scalar= 8 tol= 1e-05\n",
      "not equal for t= 9 and scalar= 8 tol= 0.0001\n",
      "not equal for t= 9 and scalar= 9 tol= 1e-05\n",
      "not equal for t= 9 and scalar= 9 tol= 0.0001\n",
      "not equal for t= 9 and scalar= 10 tol= 1e-05\n",
      "not equal for t= 9 and scalar= 10 tol= 0.0001\n",
      "not equal for t= 9 and scalar= 11 tol= 1e-05\n",
      "not equal for t= 9 and scalar= 11 tol= 0.0001\n",
      "not equal for t= 9 and scalar= 12 tol= 1e-05\n",
      "not equal for t= 9 and scalar= 12 tol= 0.0001\n",
      "not equal for t= 9 and scalar= 13 tol= 1e-05\n",
      "not equal for t= 9 and scalar= 13 tol= 0.0001\n",
      "not equal for t= 9 and scalar= 14 tol= 1e-05\n",
      "not equal for t= 9 and scalar= 14 tol= 0.0001\n",
      "not equal for t= 9 and scalar= 15 tol= 1e-05\n",
      "not equal for t= 9 and scalar= 15 tol= 0.0001\n",
      "not equal for t= 9 and scalar= 16 tol= 1e-05\n",
      "not equal for t= 9 and scalar= 16 tol= 0.0001\n",
      "not equal for t= 9 and scalar= 17 tol= 1e-05\n",
      "not equal for t= 9 and scalar= 17 tol= 0.0001\n",
      "not equal for t= 9 and scalar= 18 tol= 1e-05\n",
      "not equal for t= 9 and scalar= 18 tol= 0.0001\n",
      "not equal for t= 9 and scalar= 19 tol= 1e-05\n",
      "not equal for t= 9 and scalar= 19 tol= 0.0001\n",
      "Num equal: 134\n",
      "Num unequal: 37\n"
     ]
    }
   ],
   "source": [
    "#tol_list=[1e-14 , 1e-12, 1e-8, 1e-6, 1e-2, 1e-1]\n",
    "#tol_list=[1e-10, 1e-8, 1e-6, 1e-2, 1e-1]\n",
    "tol_list = [1e-5, 1e-4, 1e-3]\n",
    "\n",
    "min_scalar=1\n",
    "max_scalar=20\n",
    "\n",
    "min_time=7\n",
    "max_time=10\n",
    "time_list = range(min_time, max_time)\n",
    "scalar_list = range(min_scalar, max_scalar)\n",
    "\n",
    "num_equal=0\n",
    "num_unequal=0\n",
    "for t in time_list:\n",
    "    \n",
    "    l = linalg.expm(-1j*ham*t)\n",
    "    for s in scalar_list:\n",
    "        e = h.exp_ham(ham,t, scalar_cutoff=s)\n",
    "        for tol in tol_list:\n",
    "            close = np.all(np.isclose(l,e, atol=tol))\n",
    "            if close == False:\n",
    "                print(\"not equal for t=\",t ,\"and scalar=\", s, \"tol=\", tol)\n",
    "                num_unequal+=1\n",
    "            else:\n",
    "                num_equal+=1\n",
    "\n",
    "print(\"Num equal:\", num_equal)\n",
    "print(\"Num unequal:\", num_unequal)"
   ]
  },
  {
   "cell_type": "code",
   "execution_count": 4,
   "metadata": {},
   "outputs": [
    {
     "data": {
      "text/plain": [
       "9"
      ]
     },
     "execution_count": 4,
     "metadata": {},
     "output_type": "execute_result"
    }
   ],
   "source": [
    "t"
   ]
  },
  {
   "cell_type": "code",
   "execution_count": 5,
   "metadata": {},
   "outputs": [
    {
     "name": "stdout",
     "output_type": "stream",
     "text": [
      "Note: using linalg for exponentiating Hamiltonian.\n"
     ]
    }
   ],
   "source": [
    "state = evo.random_probe(2)\n",
    "\n",
    "\n",
    "evolved = evo.evolved_state(ham=ham,t=16,state=state, use_exp_custom=False)"
   ]
  },
  {
   "cell_type": "code",
   "execution_count": 18,
   "metadata": {},
   "outputs": [
    {
     "name": "stdout",
     "output_type": "stream",
     "text": [
      "Note: using linalg for exponentiating Hamiltonian.\n",
      "Note: using linalg for exponentiating Hamiltonian.\n",
      "Note: using linalg for exponentiating Hamiltonian.\n",
      "not equal for t= 9 and scalar= 1 tol= 1e-05\n",
      "not equal for t= 9 and scalar= 2 tol= 1e-05\n",
      "not equal for t= 9 and scalar= 3 tol= 1e-05\n",
      "not equal for t= 9 and scalar= 4 tol= 1e-05\n",
      "not equal for t= 9 and scalar= 5 tol= 1e-05\n",
      "not equal for t= 9 and scalar= 6 tol= 1e-05\n",
      "not equal for t= 9 and scalar= 7 tol= 1e-05\n",
      "not equal for t= 9 and scalar= 8 tol= 1e-05\n",
      "not equal for t= 9 and scalar= 9 tol= 1e-05\n",
      "not equal for t= 9 and scalar= 10 tol= 1e-05\n",
      "not equal for t= 9 and scalar= 11 tol= 1e-05\n",
      "not equal for t= 9 and scalar= 12 tol= 1e-05\n",
      "not equal for t= 9 and scalar= 13 tol= 1e-05\n",
      "not equal for t= 9 and scalar= 14 tol= 1e-05\n",
      "not equal for t= 9 and scalar= 15 tol= 1e-05\n",
      "not equal for t= 9 and scalar= 16 tol= 1e-05\n",
      "not equal for t= 9 and scalar= 17 tol= 1e-05\n",
      "not equal for t= 9 and scalar= 18 tol= 1e-05\n",
      "not equal for t= 9 and scalar= 19 tol= 1e-05\n",
      "Num equal: 152\n",
      "Num unequal: 19\n"
     ]
    }
   ],
   "source": [
    "tol_list = [1e-5, 1e-4, 1e-3]\n",
    "\n",
    "min_scalar=1\n",
    "max_scalar=20\n",
    "\n",
    "min_time=7\n",
    "max_time=10\n",
    "time_list = range(min_time, max_time)\n",
    "scalar_list = range(min_scalar, max_scalar)\n",
    "\n",
    "num_equal=0\n",
    "num_unequal=0\n",
    "for t in time_list:\n",
    "    \n",
    "    l = evo.expectation_value(ham,t,state, use_exp_custom=False)\n",
    "    for s in scalar_list:\n",
    "        e = evo.expectation_value(ham,t,state)\n",
    "        for tol in tol_list:\n",
    "            close = np.all(np.isclose(l,e, atol=tol))\n",
    "            if close == False:\n",
    "                print(\"not equal for t=\",t ,\"and scalar=\", s, \"tol=\", tol)\n",
    "                num_unequal+=1\n",
    "            else:\n",
    "                num_equal+=1\n",
    "\n",
    "print(\"Num equal:\", num_equal)\n",
    "print(\"Num unequal:\", num_unequal)"
   ]
  },
  {
   "cell_type": "code",
   "execution_count": 13,
   "metadata": {},
   "outputs": [
    {
     "name": "stdout",
     "output_type": "stream",
     "text": [
      "Note: using linalg for exponentiating Hamiltonian.\n"
     ]
    }
   ],
   "source": [
    "a=evo.evolved_state(ham=ham,t=9,state=state, use_exp_custom=False)"
   ]
  },
  {
   "cell_type": "code",
   "execution_count": 14,
   "metadata": {},
   "outputs": [],
   "source": [
    "b=evo.evolved_state(ham=ham, t=9, state=state)"
   ]
  },
  {
   "cell_type": "code",
   "execution_count": 17,
   "metadata": {},
   "outputs": [
    {
     "data": {
      "text/plain": [
       "True"
      ]
     },
     "execution_count": 17,
     "metadata": {},
     "output_type": "execute_result"
    }
   ],
   "source": [
    "np.all(np.isclose(a,b,atol=1e-3))"
   ]
  },
  {
   "cell_type": "code",
   "execution_count": 8,
   "metadata": {},
   "outputs": [],
   "source": [
    "#scipy\n",
    "from scipy import linalg\n",
    "u_lin = linalg.expm(-1j*ham*t)\n",
    "u_v=np.dot(u_lin,state)\n",
    "bra = state.T\n",
    "#exp_val_lin=np.abs(np.dot(bra, u_v))"
   ]
  },
  {
   "cell_type": "code",
   "execution_count": 9,
   "metadata": {},
   "outputs": [
    {
     "ename": "NameError",
     "evalue": "name 'u_psi' is not defined",
     "output_type": "error",
     "traceback": [
      "\u001b[0;31m---------------------------------------------------------------------------\u001b[0m",
      "\u001b[0;31mNameError\u001b[0m                                 Traceback (most recent call last)",
      "\u001b[0;32m<ipython-input-9-c43bd09c50a8>\u001b[0m in \u001b[0;36m<module>\u001b[0;34m()\u001b[0m\n\u001b[0;32m----> 1\u001b[0;31m \u001b[0mnp\u001b[0m\u001b[0;34m.\u001b[0m\u001b[0mlinalg\u001b[0m\u001b[0;34m.\u001b[0m\u001b[0mnorm\u001b[0m\u001b[0;34m(\u001b[0m\u001b[0mu_psi\u001b[0m\u001b[0;34m)\u001b[0m\u001b[0;34m\u001b[0m\u001b[0m\n\u001b[0m",
      "\u001b[0;31mNameError\u001b[0m: name 'u_psi' is not defined"
     ]
    }
   ],
   "source": [
    "np.linalg.norm(u_psi)"
   ]
  },
  {
   "cell_type": "code",
   "execution_count": null,
   "metadata": {},
   "outputs": [],
   "source": [
    "np.linalg.norm(u_v)"
   ]
  },
  {
   "cell_type": "code",
   "execution_count": null,
   "metadata": {},
   "outputs": [],
   "source": [
    "print(exp_val_lin)"
   ]
  },
  {
   "cell_type": "code",
   "execution_count": null,
   "metadata": {},
   "outputs": [],
   "source": [
    "#exp ham\n",
    "t=1\n",
    "u_psi = h.unitary_evolve(ham, t, vec)\n",
    "#u_psi = np.dot(u, vec)\n",
    "exp_val_ham = np.abs(np.dot(bra, u_psi))"
   ]
  },
  {
   "cell_type": "code",
   "execution_count": null,
   "metadata": {},
   "outputs": [],
   "source": [
    "print(exp_val_ham)"
   ]
  },
  {
   "cell_type": "code",
   "execution_count": null,
   "metadata": {},
   "outputs": [],
   "source": [
    "print(t)"
   ]
  },
  {
   "cell_type": "code",
   "execution_count": null,
   "metadata": {},
   "outputs": [],
   "source": [
    "u_exp=h.exp_ham(ham,t)"
   ]
  },
  {
   "cell_type": "code",
   "execution_count": null,
   "metadata": {},
   "outputs": [],
   "source": [
    "np.all(np.isclose(u_exp, u_lin, atol=1e-10))"
   ]
  },
  {
   "cell_type": "code",
   "execution_count": null,
   "metadata": {},
   "outputs": [],
   "source": [
    "u_lin"
   ]
  },
  {
   "cell_type": "code",
   "execution_count": null,
   "metadata": {},
   "outputs": [],
   "source": [
    "u_exp"
   ]
  },
  {
   "cell_type": "code",
   "execution_count": null,
   "metadata": {},
   "outputs": [],
   "source": [
    "ham"
   ]
  },
  {
   "cell_type": "code",
   "execution_count": null,
   "metadata": {},
   "outputs": [],
   "source": [
    "mtx=np.matrix(ham)"
   ]
  },
  {
   "cell_type": "code",
   "execution_count": null,
   "metadata": {},
   "outputs": [],
   "source": [
    "mtx.H == mtx"
   ]
  },
  {
   "cell_type": "code",
   "execution_count": null,
   "metadata": {},
   "outputs": [],
   "source": [
    "u_lin_m = np.matrix(u_lin)"
   ]
  },
  {
   "cell_type": "code",
   "execution_count": null,
   "metadata": {},
   "outputs": [],
   "source": [
    "u_exp_m = np.matrix(u_exp)"
   ]
  },
  {
   "cell_type": "code",
   "execution_count": null,
   "metadata": {},
   "outputs": [],
   "source": [
    "u_lin_m.H == u_lin_m"
   ]
  },
  {
   "cell_type": "code",
   "execution_count": null,
   "metadata": {},
   "outputs": [],
   "source": [
    "u_exp_m.H == u_exp_m"
   ]
  },
  {
   "cell_type": "code",
   "execution_count": null,
   "metadata": {},
   "outputs": [],
   "source": []
  }
 ],
 "metadata": {
  "kernelspec": {
   "display_name": "Python 3",
   "language": "python",
   "name": "python3"
  },
  "language_info": {
   "codemirror_mode": {
    "name": "ipython",
    "version": 3
   },
   "file_extension": ".py",
   "mimetype": "text/x-python",
   "name": "python",
   "nbconvert_exporter": "python",
   "pygments_lexer": "ipython3",
   "version": "3.5.2"
  }
 },
 "nbformat": 4,
 "nbformat_minor": 2
}
