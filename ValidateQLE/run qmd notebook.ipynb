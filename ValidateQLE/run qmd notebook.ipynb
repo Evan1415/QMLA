{
 "cells": [
  {
   "cell_type": "code",
   "execution_count": 3,
   "metadata": {},
   "outputs": [],
   "source": [
    "import pickle\n",
    "pickle.HIGHEST_PROTOCOL = 2\n",
    "\n",
    "import sys, os\n",
    "sys.path.append(os.path.join(\"..\", \"Libraries\",\"QML_lib\"))\n",
    "import Evo as evo\n",
    "import DataBase \n",
    "from QMD import QMD #  class moved to QMD in Library"
   ]
  },
  {
   "cell_type": "code",
   "execution_count": 4,
   "metadata": {},
   "outputs": [],
   "source": [
    "qmd=pickle.load(open(\"qmd_class.npy\", \"rb\"))"
   ]
  },
  {
   "cell_type": "code",
   "execution_count": 5,
   "metadata": {},
   "outputs": [
    {
     "data": {
      "text/html": [
       "<div>\n",
       "<style>\n",
       "    .dataframe thead tr:only-child th {\n",
       "        text-align: right;\n",
       "    }\n",
       "\n",
       "    .dataframe thead th {\n",
       "        text-align: left;\n",
       "    }\n",
       "\n",
       "    .dataframe tbody tr th {\n",
       "        vertical-align: top;\n",
       "    }\n",
       "</style>\n",
       "<table border=\"1\" class=\"dataframe\">\n",
       "  <thead>\n",
       "    <tr style=\"text-align: right;\">\n",
       "      <th></th>\n",
       "      <th>&lt;Name&gt;</th>\n",
       "      <th>Completed</th>\n",
       "      <th>Epoch_Start</th>\n",
       "      <th>ModelID</th>\n",
       "      <th>Model_Class_Instance</th>\n",
       "      <th>Operator_Instance</th>\n",
       "      <th>Reduced_Model_Class_Instance</th>\n",
       "      <th>Status</th>\n",
       "      <th>branchID</th>\n",
       "    </tr>\n",
       "  </thead>\n",
       "  <tbody>\n",
       "    <tr>\n",
       "      <th>0</th>\n",
       "      <td>x</td>\n",
       "      <td>0.0</td>\n",
       "      <td>0.0</td>\n",
       "      <td>0.0</td>\n",
       "      <td>&lt;QML.ModelLearningClass object at 0x7f43851c9cf8&gt;</td>\n",
       "      <td>&lt;DataBase.operator object at 0x7f43850e4d68&gt;</td>\n",
       "      <td>&lt;QML.learnedQML object at 0x7f43850e4eb8&gt;</td>\n",
       "      <td>Active</td>\n",
       "      <td>0.0</td>\n",
       "    </tr>\n",
       "    <tr>\n",
       "      <th>1</th>\n",
       "      <td>y</td>\n",
       "      <td>0.0</td>\n",
       "      <td>0.0</td>\n",
       "      <td>1.0</td>\n",
       "      <td>&lt;QML.ModelLearningClass object at 0x7f4385166080&gt;</td>\n",
       "      <td>&lt;DataBase.operator object at 0x7f43850e4da0&gt;</td>\n",
       "      <td>&lt;QML.learnedQML object at 0x7f43850e4f28&gt;</td>\n",
       "      <td>Active</td>\n",
       "      <td>0.0</td>\n",
       "    </tr>\n",
       "    <tr>\n",
       "      <th>2</th>\n",
       "      <td>z</td>\n",
       "      <td>0.0</td>\n",
       "      <td>0.0</td>\n",
       "      <td>2.0</td>\n",
       "      <td>&lt;QML.ModelLearningClass object at 0x7f438517cc88&gt;</td>\n",
       "      <td>&lt;DataBase.operator object at 0x7f43850e4dd8&gt;</td>\n",
       "      <td>&lt;QML.learnedQML object at 0x7f43850e4f60&gt;</td>\n",
       "      <td>Active</td>\n",
       "      <td>0.0</td>\n",
       "    </tr>\n",
       "    <tr>\n",
       "      <th>3</th>\n",
       "      <td>xTy</td>\n",
       "      <td>0.0</td>\n",
       "      <td>0.0</td>\n",
       "      <td>3.0</td>\n",
       "      <td>&lt;QML.ModelLearningClass object at 0x7f43851178d0&gt;</td>\n",
       "      <td>&lt;DataBase.operator object at 0x7f43850e4e10&gt;</td>\n",
       "      <td>&lt;QML.learnedQML object at 0x7f43850e4fd0&gt;</td>\n",
       "      <td>Active</td>\n",
       "      <td>0.0</td>\n",
       "    </tr>\n",
       "    <tr>\n",
       "      <th>4</th>\n",
       "      <td>xTz</td>\n",
       "      <td>0.0</td>\n",
       "      <td>0.0</td>\n",
       "      <td>4.0</td>\n",
       "      <td>&lt;QML.ModelLearningClass object at 0x7f4385131518&gt;</td>\n",
       "      <td>&lt;DataBase.operator object at 0x7f43850e4e48&gt;</td>\n",
       "      <td>&lt;QML.learnedQML object at 0x7f43850e9080&gt;</td>\n",
       "      <td>Active</td>\n",
       "      <td>0.0</td>\n",
       "    </tr>\n",
       "    <tr>\n",
       "      <th>5</th>\n",
       "      <td>yTz</td>\n",
       "      <td>0.0</td>\n",
       "      <td>0.0</td>\n",
       "      <td>5.0</td>\n",
       "      <td>&lt;QML.ModelLearningClass object at 0x7f438514b160&gt;</td>\n",
       "      <td>&lt;DataBase.operator object at 0x7f43850e4e80&gt;</td>\n",
       "      <td>&lt;QML.learnedQML object at 0x7f43850e90f0&gt;</td>\n",
       "      <td>Active</td>\n",
       "      <td>0.0</td>\n",
       "    </tr>\n",
       "  </tbody>\n",
       "</table>\n",
       "</div>"
      ],
      "text/plain": [
       "  <Name>  Completed  Epoch_Start  ModelID  \\\n",
       "0      x        0.0          0.0      0.0   \n",
       "1      y        0.0          0.0      1.0   \n",
       "2      z        0.0          0.0      2.0   \n",
       "3    xTy        0.0          0.0      3.0   \n",
       "4    xTz        0.0          0.0      4.0   \n",
       "5    yTz        0.0          0.0      5.0   \n",
       "\n",
       "                                Model_Class_Instance  \\\n",
       "0  <QML.ModelLearningClass object at 0x7f43851c9cf8>   \n",
       "1  <QML.ModelLearningClass object at 0x7f4385166080>   \n",
       "2  <QML.ModelLearningClass object at 0x7f438517cc88>   \n",
       "3  <QML.ModelLearningClass object at 0x7f43851178d0>   \n",
       "4  <QML.ModelLearningClass object at 0x7f4385131518>   \n",
       "5  <QML.ModelLearningClass object at 0x7f438514b160>   \n",
       "\n",
       "                              Operator_Instance  \\\n",
       "0  <DataBase.operator object at 0x7f43850e4d68>   \n",
       "1  <DataBase.operator object at 0x7f43850e4da0>   \n",
       "2  <DataBase.operator object at 0x7f43850e4dd8>   \n",
       "3  <DataBase.operator object at 0x7f43850e4e10>   \n",
       "4  <DataBase.operator object at 0x7f43850e4e48>   \n",
       "5  <DataBase.operator object at 0x7f43850e4e80>   \n",
       "\n",
       "                Reduced_Model_Class_Instance  Status  branchID  \n",
       "0  <QML.learnedQML object at 0x7f43850e4eb8>  Active       0.0  \n",
       "1  <QML.learnedQML object at 0x7f43850e4f28>  Active       0.0  \n",
       "2  <QML.learnedQML object at 0x7f43850e4f60>  Active       0.0  \n",
       "3  <QML.learnedQML object at 0x7f43850e4fd0>  Active       0.0  \n",
       "4  <QML.learnedQML object at 0x7f43850e9080>  Active       0.0  \n",
       "5  <QML.learnedQML object at 0x7f43850e90f0>  Active       0.0  "
      ]
     },
     "execution_count": 5,
     "metadata": {},
     "output_type": "execute_result"
    }
   ],
   "source": [
    "qmd.db"
   ]
  },
  {
   "cell_type": "code",
   "execution_count": 9,
   "metadata": {},
   "outputs": [
    {
     "data": {
      "text/plain": [
       "{'x': 50, 'xTy': 17, 'xTz': 16, 'y': 25, 'yTz': 22, 'z': 20}"
      ]
     },
     "execution_count": 9,
     "metadata": {},
     "output_type": "execute_result"
    }
   ],
   "source": [
    "qmd.MajorityVotingScores"
   ]
  },
  {
   "cell_type": "code",
   "execution_count": 10,
   "metadata": {},
   "outputs": [
    {
     "data": {
      "text/plain": [
       "'y'"
      ]
     },
     "execution_count": 10,
     "metadata": {},
     "output_type": "execute_result"
    }
   ],
   "source": [
    "qmd.TrueOpName"
   ]
  },
  {
   "cell_type": "code",
   "execution_count": 11,
   "metadata": {},
   "outputs": [
    {
     "data": {
      "text/plain": [
       "{0.0: [7.9490238779611473e-09,\n",
       "  4.7872901466192172e-18,\n",
       "  3.3753235412445829e-08,\n",
       "  1.2728555611350712e-17,\n",
       "  1.0739591208016e-18,\n",
       "  3.8743018733932683e-12,\n",
       "  3.7756013418373633e-22,\n",
       "  1.5801244866432074e-20,\n",
       "  9.0977738987096527e-15,\n",
       "  1.4455155651474577e-17],\n",
       " 2.0: [0.14237027963156279,\n",
       "  729898.57721110911,\n",
       "  3982865.0258400142,\n",
       "  274.21659243604182,\n",
       "  0.002366924035790959,\n",
       "  104.09007997561712,\n",
       "  3.1599402607945533,\n",
       "  0.00024459379665150191,\n",
       "  0.20978017478137553,\n",
       "  0.016308497032235244],\n",
       " 3.0: [114039.48413485808,\n",
       "  138528.20665072685,\n",
       "  5133.8110506343692,\n",
       "  20.690711344690133,\n",
       "  204.02352238021135,\n",
       "  1.8358688568121355,\n",
       "  1.6169995994728888e-06,\n",
       "  0.00093408458967519762,\n",
       "  1.8732207124788784,\n",
       "  50.666112685075888],\n",
       " 4.0: [296.69879732622582,\n",
       "  5120.8369790448896,\n",
       "  0.023119411519414098,\n",
       "  147.56562971011388,\n",
       "  268.48704499466265,\n",
       "  767.25335219869885,\n",
       "  0.0070722694426249089,\n",
       "  0.011190809672855366,\n",
       "  33.9948489206961,\n",
       "  53.964385377732725],\n",
       " 5.0: [2466.5547135398019,\n",
       "  21517.646878533571,\n",
       "  475.19067295338675,\n",
       "  0.31855194662272907,\n",
       "  0.0005724619593337108,\n",
       "  0.022397156461299812,\n",
       "  14.444954920848783,\n",
       "  0.15181787824314597,\n",
       "  515.95362790440799,\n",
       "  0.015186125215672266]}"
      ]
     },
     "execution_count": 11,
     "metadata": {},
     "output_type": "execute_result"
    }
   ],
   "source": [
    "y = qmd.getModelInstance('y')\n",
    "y.BayesFactors"
   ]
  },
  {
   "cell_type": "code",
   "execution_count": 14,
   "metadata": {},
   "outputs": [],
   "source": [
    "x = qmd.getModelInstance('x')"
   ]
  },
  {
   "cell_type": "code",
   "execution_count": 34,
   "metadata": {},
   "outputs": [
    {
     "data": {
      "text/plain": [
       "<qinfer.distributions.ProductDistribution at 0x7f438514b518>"
      ]
     },
     "execution_count": 34,
     "metadata": {},
     "output_type": "execute_result"
    }
   ],
   "source": [
    "x.Prior"
   ]
  },
  {
   "cell_type": "code",
   "execution_count": 39,
   "metadata": {},
   "outputs": [
    {
     "ename": "TypeError",
     "evalue": "bayes_risk() missing 1 required positional argument: 'expparams'",
     "output_type": "error",
     "traceback": [
      "\u001b[0;31m---------------------------------------------------------------------------\u001b[0m",
      "\u001b[0;31mTypeError\u001b[0m                                 Traceback (most recent call last)",
      "\u001b[0;32m<ipython-input-39-9ba74ba622f4>\u001b[0m in \u001b[0;36m<module>\u001b[0;34m()\u001b[0m\n\u001b[0;32m----> 1\u001b[0;31m \u001b[0mx\u001b[0m\u001b[0;34m.\u001b[0m\u001b[0mUpdater\u001b[0m\u001b[0;34m.\u001b[0m\u001b[0mbayes_risk\u001b[0m\u001b[0;34m(\u001b[0m\u001b[0;34m)\u001b[0m\u001b[0;34m\u001b[0m\u001b[0m\n\u001b[0m",
      "\u001b[0;31mTypeError\u001b[0m: bayes_risk() missing 1 required positional argument: 'expparams'"
     ]
    }
   ],
   "source": [
    "x.Updater."
   ]
  },
  {
   "cell_type": "code",
   "execution_count": 18,
   "metadata": {},
   "outputs": [
    {
     "data": {
      "text/plain": [
       "{(0, 0): array([ 0.42442403+0.52781154j,  0.61155004+0.40900583j]),\n",
       " (0, 1): array([ 0.42442403+0.52781154j,  0.61155004+0.40900583j]),\n",
       " (0, 2): array([ 0.15656492+0.64616361j,  0.05411499+0.11727046j,\n",
       "         0.37242337+0.61878682j,  0.09422696+0.10394328j]),\n",
       " (1, 0): array([ 0.57403474+0.46435006j,  0.27115440+0.61752605j]),\n",
       " (1, 1): array([ 0.57403474+0.46435006j,  0.27115440+0.61752605j]),\n",
       " (1, 2): array([-0.10352830+0.53365822j, -0.12276537+0.48431015j,\n",
       "        -0.30777530+0.38967647j, -0.30269577+0.34156261j]),\n",
       " (2, 0): array([ 0.98635575+0.12650282j,  0.07397924+0.07500962j]),\n",
       " (2, 1): array([ 0.98635575+0.12650282j,  0.07397924+0.07500962j]),\n",
       " (2, 2): array([ 0.07395075+0.13426387j,  0.79962897+0.57096291j,\n",
       "        -0.00260821+0.0160284j ,  0.02936238+0.09986746j]),\n",
       " (3, 0): array([ 0.39627721+0.80544312j,  0.41994023+0.13370098j]),\n",
       " (3, 1): array([ 0.39627721+0.80544312j,  0.41994023+0.13370098j]),\n",
       " (3, 2): array([-0.12066059+0.37062956j, -0.29479159+0.75295878j,\n",
       "         0.09016276+0.16879307j,  0.16627827+0.3604953j ]),\n",
       " (4, 0): array([ 0.76257057+0.0827601j ,  0.14634415+0.62467615j]),\n",
       " (4, 1): array([ 0.76257057+0.0827601j ,  0.14634415+0.62467615j]),\n",
       " (4, 2): array([ 0.31636209+0.25159611j,  0.36171375+0.54234739j,\n",
       "        -0.11071798+0.31945437j, -0.32754838+0.43593508j]),\n",
       " (5, 0): array([ 0.12670753+0.64822069j,  0.34816255+0.66523528j]),\n",
       " (5, 1): array([ 0.12670753+0.64822069j,  0.34816255+0.66523528j]),\n",
       " (5, 2): array([-0.09742597+0.49434181j, -0.29310375+0.31059523j,\n",
       "         0.05407054+0.5702145j , -0.21869674+0.43342667j]),\n",
       " (6, 0): array([ 0.29121292+0.40674845j,  0.66689958+0.55226414j]),\n",
       " (6, 1): array([ 0.29121292+0.40674845j,  0.66689958+0.55226414j]),\n",
       " (6, 2): array([-0.09952915+0.38501513j, -0.13377760+0.27241536j,\n",
       "         0.00332350+0.68832184j, -0.10368794+0.51497722j]),\n",
       " (7, 0): array([ 0.61227274+0.16252787j,  0.57622738+0.51639984j]),\n",
       " (7, 1): array([ 0.61227274+0.16252787j,  0.57622738+0.51639984j]),\n",
       " (7, 2): array([ 0.36085171+0.1561347j ,  0.14871707+0.47390341j,\n",
       "         0.30614457+0.37002436j, -0.10093564+0.59822759j]),\n",
       " (8, 0): array([ 0.62697497+0.38619409j,  0.61718234+0.27720473j]),\n",
       " (8, 1): array([ 0.62697497+0.38619409j,  0.61718234+0.27720473j]),\n",
       " (8, 2): array([ 0.32768787+0.30446723j,  0.37100796+0.45223551j,\n",
       "         0.33478662+0.23837604j,  0.39184470+0.36784374j]),\n",
       " (9, 0): array([ 0.92470879+0.12714946j,  0.14394406+0.32867428j]),\n",
       " (9, 1): array([ 0.92470879+0.12714946j,  0.14394406+0.32867428j]),\n",
       " (9, 2): array([ 0.51754649+0.47079437j,  0.24325741+0.56795903j,\n",
       "        -0.05044863+0.26417699j, -0.13736374+0.193761j  ]),\n",
       " (10, 0): array([ 0.21491424+0.57711614j,  0.72283114+0.31347084j]),\n",
       " (10, 1): array([ 0.21491424+0.57711614j,  0.72283114+0.31347084j]),\n",
       " (10, 2): array([-0.26145414+0.33152592j, -0.36020329+0.26690271j,\n",
       "         0.07395727+0.53508358j, -0.07319958+0.56886425j]),\n",
       " (11, 0): array([ 0.07198304+0.38788953j,  0.51384661+0.76178856j]),\n",
       " (11, 1): array([ 0.07198304+0.38788953j,  0.51384661+0.76178856j]),\n",
       " (11, 2): array([-0.00344947+0.30530207j, -0.01657984+0.24928638j,\n",
       "         0.27604196+0.65538883j,  0.19599370+0.54791692j]),\n",
       " (12, 0): array([ 0.54535133+0.29644718j,  0.43596252+0.65164997j]),\n",
       " (12, 1): array([ 0.54535133+0.29644718j,  0.43596252+0.65164997j]),\n",
       " (12, 2): array([ 0.27511388+0.20020224j,  0.22736379+0.46671846j,\n",
       "         0.19020041+0.3853924j , -0.01963324+0.6554556j ]),\n",
       " (13, 0): array([ 0.12442729+0.6813188j ,  0.72099916+0.02197162j]),\n",
       " (13, 1): array([ 0.12442729+0.6813188j ,  0.72099916+0.02197162j]),\n",
       " (13, 2): array([-0.12825529+0.57860238j, -0.20962445+0.29069729j,\n",
       "         0.56125049+0.25688366j,  0.25029475+0.2769183j ]),\n",
       " (14, 0): array([ 0.70631327+0.56734521j,  0.37634872+0.19391392j]),\n",
       " (14, 1): array([ 0.70631327+0.56734521j,  0.37634872+0.19391392j]),\n",
       " (14, 2): array([ 0.31036232+0.25126784j, -0.16334652+0.7966283j ,\n",
       "         0.16555576+0.08611j   , -0.00049360+0.38002248j]),\n",
       " (15, 0): array([ 0.51059126+0.70406555j,  0.47928112+0.11780439j]),\n",
       " (15, 1): array([ 0.51059126+0.70406555j,  0.47928112+0.11780439j]),\n",
       " (15, 2): array([-0.35825622+0.44285417j,  0.06736318+0.65376342j,\n",
       "         0.00715965+0.32316773j,  0.26884530+0.25849918j]),\n",
       " (16, 0): array([ 0.56785774+0.58152866j,  0.35712698+0.4602416j ]),\n",
       " (16, 1): array([ 0.56785774+0.58152866j,  0.35712698+0.4602416j ]),\n",
       " (16, 2): array([-0.03016061+0.60827584j,  0.01549536+0.53804157j,\n",
       "        -0.07089553+0.43070352j, -0.03267783+0.38439885j]),\n",
       " (17, 0): array([ 0.28424930+0.75225964j,  0.58196529+0.12093045j]),\n",
       " (17, 1): array([ 0.28424930+0.75225964j,  0.58196529+0.12093045j]),\n",
       " (17, 2): array([ 0.10269974+0.38929065j, -0.35898115+0.59643132j,\n",
       "         0.28356173+0.09027685j,  0.22973583+0.46040423j]),\n",
       " (18, 0): array([ 0.06035544+0.3900431j ,  0.44412319+0.80434954j]),\n",
       " (18, 1): array([ 0.06035544+0.3900431j ,  0.44412319+0.80434954j]),\n",
       " (18, 2): array([-0.08808693+0.27908304j, -0.25085758+0.08485415j,\n",
       "         0.03080934+0.68059471j, -0.48047365+0.38627749j]),\n",
       " (19, 0): array([ 0.23762943+0.85365808j,  0.10378494+0.45169549j]),\n",
       " (19, 1): array([ 0.23762943+0.85365808j,  0.10378494+0.45169549j]),\n",
       " (19, 2): array([-0.10975131+0.57151279j,  0.11614642+0.65805597j,\n",
       "        -0.07098302+0.29598809j,  0.04497995+0.34659687j]),\n",
       " (20, 0): array([ 0.42695644+0.71174815j,  0.11476064+0.54585049j]),\n",
       " (20, 1): array([ 0.42695644+0.71174815j,  0.11476064+0.54585049j]),\n",
       " (20, 2): array([-0.11377193+0.56131353j, -0.31862252+0.50925435j,\n",
       "        -0.19559944+0.33148996j, -0.31426056+0.25341336j]),\n",
       " (21, 0): array([ 0.29597104+0.05306373j,  0.62831261+0.71750167j]),\n",
       " (21, 1): array([ 0.29597104+0.05306373j,  0.62831261+0.71750167j]),\n",
       " (21, 2): array([ 0.11090324+0.19222725j,  0.02267329+0.20161769j,\n",
       "        -0.10580227+0.69590028j, -0.34301749+0.54447504j]),\n",
       " (22, 0): array([ 0.07539752+0.61256627j,  0.13702912+0.77479081j]),\n",
       " (22, 1): array([ 0.07539752+0.61256627j,  0.13702912+0.77479081j]),\n",
       " (22, 2): array([-0.26438068+0.35368841j, -0.27925086+0.32855524j,\n",
       "        -0.31287888+0.46798543j, -0.33349368+0.43698534j]),\n",
       " (23, 0): array([ 0.31354895+0.5965817j ,  0.53861659+0.50563772j]),\n",
       " (23, 1): array([ 0.31354895+0.5965817j ,  0.53861659+0.50563772j]),\n",
       " (23, 2): array([-0.36399820+0.43043077j,  0.08891020+0.35854191j,\n",
       "        -0.22281187+0.57634198j,  0.22059964+0.33955549j]),\n",
       " (24, 0): array([ 0.50930011+0.61342027j,  0.19493519+0.57125234j]),\n",
       " (24, 1): array([ 0.50930011+0.61342027j,  0.19493519+0.57125234j]),\n",
       " (24, 2): array([ 0.03051721+0.63006316j, -0.31359195+0.37339019j,\n",
       "        -0.14826088+0.45395777j, -0.32250413+0.17961379j]),\n",
       " (25, 0): array([ 0.19727707+0.35043591j,  0.44551652+0.79986965j]),\n",
       " (25, 1): array([ 0.19727707+0.35043591j,  0.44551652+0.79986965j]),\n",
       " (25, 2): array([ 0.02131505+0.37466237j, -0.00984503+0.1442235j ,\n",
       "         0.04465655+0.85320755j, -0.02390414+0.32824943j]),\n",
       " (26, 0): array([ 0.30486588+0.33970296j,  0.48870078+0.74352555j]),\n",
       " (26, 1): array([ 0.30486588+0.33970296j,  0.48870078+0.74352555j]),\n",
       " (26, 2): array([ 0.15259250+0.22860391j, -0.04119019+0.36207796j,\n",
       "         0.22755106+0.48505121j, -0.18481753+0.68589141j]),\n",
       " (27, 0): array([ 0.60939783+0.48842778j,  0.56448714+0.26725804j]),\n",
       " (27, 1): array([ 0.60939783+0.48842778j,  0.56448714+0.26725804j]),\n",
       " (27, 2): array([-0.04004624+0.36181892j, -0.09946584+0.68375239j,\n",
       "         0.03578470+0.28891012j,  0.04911728+0.55037304j]),\n",
       " (28, 0): array([ 0.71847618+0.30219757j,  0.38215543+0.49641297j]),\n",
       " (28, 1): array([ 0.71847618+0.30219757j,  0.38215543+0.49641297j]),\n",
       " (28, 2): array([ 0.29803838+0.45987041j,  0.28335129+0.47637776j,\n",
       "         0.02573273+0.43970243j,  0.00891539+0.44540849j]),\n",
       " (29, 0): array([ 0.12561001+0.44431201j,  0.29205867+0.83756236j]),\n",
       " (29, 1): array([ 0.12561001+0.44431201j,  0.29205867+0.83756236j]),\n",
       " (29, 2): array([-0.19642623+0.20559267j, -0.16200524+0.32572032j,\n",
       "        -0.35299193+0.41688125j, -0.27314637+0.64327813j]),\n",
       " (30, 0): array([ 0.54523904+0.64221584j,  0.05687949+0.53575921j]),\n",
       " (30, 1): array([ 0.54523904+0.64221584j,  0.05687949+0.53575921j]),\n",
       " (30, 2): array([-0.19324535+0.47883942j,  0.04119583+0.66437846j,\n",
       "        -0.27456931+0.18347168j, -0.21748529+0.36595518j]),\n",
       " (31, 0): array([ 0.29200148+0.44189911j,  0.06950980+0.84535714j]),\n",
       " (31, 1): array([ 0.29200148+0.44189911j,  0.06950980+0.84535714j]),\n",
       " (31, 2): array([-0.11116923+0.51086829j, -0.05103630+0.06774939j,\n",
       "        -0.54964995+0.6315806j , -0.12384614+0.05579713j]),\n",
       " (32, 0): array([ 0.29947445+0.1289828j ,  0.68682639+0.64957525j]),\n",
       " (32, 1): array([ 0.29947445+0.1289828j ,  0.68682639+0.64957525j]),\n",
       " (32, 2): array([ 0.20338940+0.14704223j,  0.09462428+0.18541598j,\n",
       "         0.40723017+0.60300143j,  0.07286929+0.59910051j]),\n",
       " (33, 0): array([ 0.52012524+0.57312624j,  0.22631653+0.59141937j]),\n",
       " (33, 1): array([ 0.52012524+0.57312624j,  0.22631653+0.59141937j]),\n",
       " (33, 2): array([-0.11583422+0.5754607j , -0.09754057+0.4948911j ,\n",
       "        -0.25922199+0.40431914j, -0.22134603+0.3483274j ]),\n",
       " (34, 0): array([ 0.61307875+0.07052762j,  0.72810160+0.29837621j]),\n",
       " (34, 1): array([ 0.61307875+0.07052762j,  0.72810160+0.29837621j]),\n",
       " (34, 2): array([-0.03847946+0.44892995j,  0.39618762+0.14441709j,\n",
       "        -0.20232960+0.53770431j,  0.43636994+0.31413117j]),\n",
       " (35, 0): array([ 0.66861776+0.11509897j,  0.17972956+0.71232002j]),\n",
       " (35, 1): array([ 0.66861776+0.11509897j,  0.17972956+0.71232002j]),\n",
       " (35, 2): array([ 0.43424905+0.25389087j,  0.03803650+0.45367156j,\n",
       "        -0.06057304+0.54130762j, -0.43231985+0.23689457j]),\n",
       " (36, 0): array([ 0.01930642+0.78503651j,  0.59551283+0.16943851j]),\n",
       " (36, 1): array([ 0.01930642+0.78503651j,  0.59551283+0.16943851j]),\n",
       " (36, 2): array([-0.65641981+0.13270784j, -0.06520457+0.40485193j,\n",
       "        -0.05392683+0.5252636j ,  0.28949855+0.1439638j ]),\n",
       " (37, 0): array([ 0.64018856+0.4911625j ,  0.45710249+0.37413274j]),\n",
       " (37, 1): array([ 0.64018856+0.4911625j ,  0.45710249+0.37413274j]),\n",
       " (37, 2): array([-0.38577505+0.5646488j ,  0.10577043+0.41502284j,\n",
       "        -0.29528076+0.40425923j,  0.06782740+0.3061065j ]),\n",
       " (38, 0): array([ 0.39173092+0.16839613j,  0.28431374+0.85869396j]),\n",
       " (38, 1): array([ 0.39173092+0.16839613j,  0.28431374+0.85869396j]),\n",
       " (38, 2): array([ 0.11562344+0.2325386j , -0.00339980+0.33816539j,\n",
       "        -0.20620699+0.51086987j, -0.54139298+0.47071639j]),\n",
       " (39, 0): array([ 0.16922184+0.53783587j,  0.34040132+0.75247823j]),\n",
       " (39, 1): array([ 0.16922184+0.53783587j,  0.34040132+0.75247823j]),\n",
       " (39, 2): array([-0.31308231+0.28594325j, -0.33791137+0.15471033j,\n",
       "        -0.40516186+0.4707337j , -0.46428135+0.28424115j])}"
      ]
     },
     "execution_count": 18,
     "metadata": {},
     "output_type": "execute_result"
    }
   ],
   "source": [
    "x.GenSimModel._probelist"
   ]
  },
  {
   "cell_type": "code",
   "execution_count": 22,
   "metadata": {},
   "outputs": [
    {
     "data": {
      "text/plain": [
       "True"
      ]
     },
     "execution_count": 22,
     "metadata": {},
     "output_type": "execute_result"
    }
   ],
   "source": [
    "x = qmd.getModelInstance('yTz')\n",
    "y.GenSimModel._probelist == x.GenSimModel._probelist"
   ]
  },
  {
   "cell_type": "code",
   "execution_count": 26,
   "metadata": {},
   "outputs": [
    {
     "data": {
      "text/html": [
       "\n",
       "        <strong>SMCUpdater</strong> for model of type <strong>GenSimQMD_IQLE</strong>:\n",
       "        <table>\n",
       "            <caption>Current estimated parameters</caption>\n",
       "            <thead>\n",
       "                <tr>\n",
       "                    <td>$w0$</td>\n",
       "                </tr>\n",
       "            </thead>\n",
       "            <tbody>\n",
       "                <tr>\n",
       "                    <td>$0 \\pm 1$</td>\n",
       "                </tr>\n",
       "            </tbody>\n",
       "        </table>\n",
       "        <em>Resample count:</em> 0\n",
       "        "
      ],
      "text/plain": [
       "<qinfer.smc.SMCUpdater at 0x7f438514b2b0>"
      ]
     },
     "execution_count": 26,
     "metadata": {},
     "output_type": "execute_result"
    }
   ],
   "source": [
    "x.Updater"
   ]
  },
  {
   "cell_type": "code",
   "execution_count": 33,
   "metadata": {},
   "outputs": [
    {
     "data": {
      "text/plain": [
       "array([[  5.77785021e-01,   2.54306376e-07],\n",
       "       [  5.77785025e-01,   2.61320615e-07]])"
      ]
     },
     "execution_count": 33,
     "metadata": {},
     "output_type": "execute_result"
    }
   ],
   "source": [
    "mod =  'yPz'\n",
    "qmd.getModelInstance(mod).FinalParams"
   ]
  },
  {
   "cell_type": "code",
   "execution_count": 36,
   "metadata": {},
   "outputs": [
    {
     "data": {
      "text/plain": [
       "array([[[ 0.+0.j,  0.-1.j],\n",
       "        [ 0.+1.j,  0.+0.j]],\n",
       "\n",
       "       [[ 1.+0.j,  0.+0.j],\n",
       "        [ 0.+0.j, -1.+0.j]]])"
      ]
     },
     "execution_count": 36,
     "metadata": {},
     "output_type": "execute_result"
    }
   ],
   "source": [
    "x.TrueOpList"
   ]
  },
  {
   "cell_type": "code",
   "execution_count": 28,
   "metadata": {},
   "outputs": [
    {
     "ename": "NameError",
     "evalue": "name 'u' is not defined",
     "output_type": "error",
     "traceback": [
      "\u001b[0;31m---------------------------------------------------------------------------\u001b[0m",
      "\u001b[0;31mNameError\u001b[0m                                 Traceback (most recent call last)",
      "\u001b[0;32m<ipython-input-28-2f2b6b5ec74f>\u001b[0m in \u001b[0;36m<module>\u001b[0;34m()\u001b[0m\n\u001b[0;32m----> 1\u001b[0;31m \u001b[0mgen\u001b[0m \u001b[0;34m=\u001b[0m \u001b[0mu\u001b[0m\u001b[0;34m.\u001b[0m\u001b[0mmodel\u001b[0m\u001b[0;34m\u001b[0m\u001b[0m\n\u001b[0m\u001b[1;32m      2\u001b[0m \u001b[0mpart\u001b[0m \u001b[0;34m=\u001b[0m \u001b[0mu\u001b[0m\u001b[0;34m.\u001b[0m\u001b[0mn_particles\u001b[0m\u001b[0;34m\u001b[0m\u001b[0m\n\u001b[1;32m      3\u001b[0m \u001b[0mprior\u001b[0m \u001b[0;34m=\u001b[0m \u001b[0mu\u001b[0m\u001b[0;34m.\u001b[0m\u001b[0mprior\u001b[0m\u001b[0;34m\u001b[0m\u001b[0m\n",
      "\u001b[0;31mNameError\u001b[0m: name 'u' is not defined"
     ]
    }
   ],
   "source": [
    "\n",
    "gen = u.model\n",
    "part = u.n_particles\n",
    "prior = u.prior"
   ]
  },
  {
   "cell_type": "code",
   "execution_count": 27,
   "metadata": {},
   "outputs": [
    {
     "ename": "NameError",
     "evalue": "name 'gen' is not defined",
     "output_type": "error",
     "traceback": [
      "\u001b[0;31m---------------------------------------------------------------------------\u001b[0m",
      "\u001b[0;31mNameError\u001b[0m                                 Traceback (most recent call last)",
      "\u001b[0;32m<ipython-input-27-fdd0269c7c34>\u001b[0m in \u001b[0;36m<module>\u001b[0;34m()\u001b[0m\n\u001b[1;32m      1\u001b[0m \u001b[0;32mimport\u001b[0m \u001b[0mqinfer\u001b[0m\u001b[0;34m\u001b[0m\u001b[0m\n\u001b[0;32m----> 2\u001b[0;31m \u001b[0mnew_upd\u001b[0m \u001b[0;34m=\u001b[0m \u001b[0mqinfer\u001b[0m\u001b[0;34m.\u001b[0m\u001b[0mSMCUpdater\u001b[0m\u001b[0;34m(\u001b[0m\u001b[0mgen\u001b[0m\u001b[0;34m,\u001b[0m \u001b[0mpart\u001b[0m\u001b[0;34m,\u001b[0m \u001b[0mprior\u001b[0m\u001b[0;34m)\u001b[0m\u001b[0;34m\u001b[0m\u001b[0m\n\u001b[0m",
      "\u001b[0;31mNameError\u001b[0m: name 'gen' is not defined"
     ]
    }
   ],
   "source": [
    "import qinfer\n",
    "new_upd = qinfer.SMCUpdater(gen, part, prior)"
   ]
  },
  {
   "cell_type": "code",
   "execution_count": null,
   "metadata": {},
   "outputs": [],
   "source": [
    "new_upd.normalization_record = norm_rec"
   ]
  },
  {
   "cell_type": "code",
   "execution_count": null,
   "metadata": {},
   "outputs": [],
   "source": [
    "\n",
    "norm_rec = u.normalization_record"
   ]
  },
  {
   "cell_type": "code",
   "execution_count": 1,
   "metadata": {},
   "outputs": [],
   "source": [
    "mydict = {}"
   ]
  },
  {
   "cell_type": "code",
   "execution_count": 2,
   "metadata": {},
   "outputs": [],
   "source": [
    "seconddict = {'a':10, 'c':34, 'd':'fsda' }"
   ]
  },
  {
   "cell_type": "code",
   "execution_count": 3,
   "metadata": {},
   "outputs": [
    {
     "data": {
      "text/plain": [
       "{'a': 10, 'c': 34, 'd': 'fsda'}"
      ]
     },
     "execution_count": 3,
     "metadata": {},
     "output_type": "execute_result"
    }
   ],
   "source": [
    "seconddict"
   ]
  },
  {
   "cell_type": "code",
   "execution_count": 5,
   "metadata": {},
   "outputs": [],
   "source": [
    "\n",
    "mydict['test'] = seconddict"
   ]
  },
  {
   "cell_type": "code",
   "execution_count": 6,
   "metadata": {},
   "outputs": [
    {
     "data": {
      "text/plain": [
       "{'test': {'a': 10, 'c': 34, 'd': 'fsda'}}"
      ]
     },
     "execution_count": 6,
     "metadata": {},
     "output_type": "execute_result"
    }
   ],
   "source": [
    "mydict"
   ]
  },
  {
   "cell_type": "code",
   "execution_count": null,
   "metadata": {},
   "outputs": [],
   "source": []
  }
 ],
 "metadata": {
  "kernelspec": {
   "display_name": "Python 3",
   "language": "python",
   "name": "python3"
  },
  "language_info": {
   "codemirror_mode": {
    "name": "ipython",
    "version": 3
   },
   "file_extension": ".py",
   "mimetype": "text/x-python",
   "name": "python",
   "nbconvert_exporter": "python",
   "pygments_lexer": "ipython3",
   "version": "3.5.2"
  }
 },
 "nbformat": 4,
 "nbformat_minor": 2
}
