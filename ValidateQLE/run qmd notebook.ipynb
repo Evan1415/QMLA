{
 "cells": [
  {
   "cell_type": "code",
   "execution_count": 1,
   "metadata": {},
   "outputs": [],
   "source": [
    "import pickle\n",
    "import sys, os\n",
    "sys.path.append(os.path.join(\"..\", \"Libraries\",\"QML_lib\"))\n",
    "import Evo as evo\n",
    "import DataBase \n",
    "from QMD import QMD #  class moved to QMD in Library"
   ]
  },
  {
   "cell_type": "code",
   "execution_count": 2,
   "metadata": {},
   "outputs": [],
   "source": [
    "qmd=  pickle.load(open(\"qmd_class.npy\", \"rb\"))"
   ]
  },
  {
   "cell_type": "code",
   "execution_count": 3,
   "metadata": {},
   "outputs": [
    {
     "data": {
      "text/html": [
       "<div>\n",
       "<style>\n",
       "    .dataframe thead tr:only-child th {\n",
       "        text-align: right;\n",
       "    }\n",
       "\n",
       "    .dataframe thead th {\n",
       "        text-align: left;\n",
       "    }\n",
       "\n",
       "    .dataframe tbody tr th {\n",
       "        vertical-align: top;\n",
       "    }\n",
       "</style>\n",
       "<table border=\"1\" class=\"dataframe\">\n",
       "  <thead>\n",
       "    <tr style=\"text-align: right;\">\n",
       "      <th></th>\n",
       "      <th>&lt;Name&gt;</th>\n",
       "      <th>Completed</th>\n",
       "      <th>Epoch_Start</th>\n",
       "      <th>ModelID</th>\n",
       "      <th>Model_Class_Instance</th>\n",
       "      <th>Operator_Instance</th>\n",
       "      <th>Status</th>\n",
       "      <th>branchID</th>\n",
       "    </tr>\n",
       "  </thead>\n",
       "  <tbody>\n",
       "    <tr>\n",
       "      <th>0</th>\n",
       "      <td>x</td>\n",
       "      <td>True</td>\n",
       "      <td>0.0</td>\n",
       "      <td>0.0</td>\n",
       "      <td>&lt;QML.ModelLearningClass object at 0x7fb3f9bb6470&gt;</td>\n",
       "      <td>&lt;DataBase.operator object at 0x7fb3f9aa1f28&gt;</td>\n",
       "      <td>Active</td>\n",
       "      <td>0.0</td>\n",
       "    </tr>\n",
       "    <tr>\n",
       "      <th>1</th>\n",
       "      <td>y</td>\n",
       "      <td>True</td>\n",
       "      <td>0.0</td>\n",
       "      <td>1.0</td>\n",
       "      <td>&lt;QML.ModelLearningClass object at 0x7fb3f9b6d898&gt;</td>\n",
       "      <td>&lt;DataBase.operator object at 0x7fb3f9aa1f60&gt;</td>\n",
       "      <td>Deactivated</td>\n",
       "      <td>0.0</td>\n",
       "    </tr>\n",
       "    <tr>\n",
       "      <th>2</th>\n",
       "      <td>z</td>\n",
       "      <td>True</td>\n",
       "      <td>0.0</td>\n",
       "      <td>2.0</td>\n",
       "      <td>&lt;QML.ModelLearningClass object at 0x7fb3f9b26518&gt;</td>\n",
       "      <td>&lt;DataBase.operator object at 0x7fb3f9aa1f98&gt;</td>\n",
       "      <td>Deactivated</td>\n",
       "      <td>0.0</td>\n",
       "    </tr>\n",
       "    <tr>\n",
       "      <th>3</th>\n",
       "      <td>xTx</td>\n",
       "      <td>True</td>\n",
       "      <td>0.0</td>\n",
       "      <td>3.0</td>\n",
       "      <td>&lt;QML.ModelLearningClass object at 0x7fb3f9ae7240&gt;</td>\n",
       "      <td>&lt;DataBase.operator object at 0x7fb3f9aa1fd0&gt;</td>\n",
       "      <td>Active</td>\n",
       "      <td>1.0</td>\n",
       "    </tr>\n",
       "  </tbody>\n",
       "</table>\n",
       "</div>"
      ],
      "text/plain": [
       "  <Name> Completed  Epoch_Start  ModelID  \\\n",
       "0      x      True          0.0      0.0   \n",
       "1      y      True          0.0      1.0   \n",
       "2      z      True          0.0      2.0   \n",
       "3    xTx      True          0.0      3.0   \n",
       "\n",
       "                                Model_Class_Instance  \\\n",
       "0  <QML.ModelLearningClass object at 0x7fb3f9bb6470>   \n",
       "1  <QML.ModelLearningClass object at 0x7fb3f9b6d898>   \n",
       "2  <QML.ModelLearningClass object at 0x7fb3f9b26518>   \n",
       "3  <QML.ModelLearningClass object at 0x7fb3f9ae7240>   \n",
       "\n",
       "                              Operator_Instance       Status  branchID  \n",
       "0  <DataBase.operator object at 0x7fb3f9aa1f28>       Active       0.0  \n",
       "1  <DataBase.operator object at 0x7fb3f9aa1f60>  Deactivated       0.0  \n",
       "2  <DataBase.operator object at 0x7fb3f9aa1f98>  Deactivated       0.0  \n",
       "3  <DataBase.operator object at 0x7fb3f9aa1fd0>       Active       1.0  "
      ]
     },
     "execution_count": 3,
     "metadata": {},
     "output_type": "execute_result"
    }
   ],
   "source": [
    "qmd.db"
   ]
  },
  {
   "cell_type": "code",
   "execution_count": 4,
   "metadata": {},
   "outputs": [],
   "source": [
    "x = qmd.getModelInstance('x')"
   ]
  },
  {
   "cell_type": "code",
   "execution_count": 5,
   "metadata": {},
   "outputs": [],
   "source": [
    "import copy\n",
    "\n",
    "upd = copy.deepcopy(x.Updater)"
   ]
  },
  {
   "cell_type": "code",
   "execution_count": 8,
   "metadata": {},
   "outputs": [
    {
     "data": {
      "text/plain": [
       "54"
      ]
     },
     "execution_count": 8,
     "metadata": {},
     "output_type": "execute_result"
    }
   ],
   "source": [
    "upd.model._a"
   ]
  },
  {
   "cell_type": "code",
   "execution_count": 9,
   "metadata": {},
   "outputs": [
    {
     "data": {
      "text/plain": [
       "<QML.ModelLearningClass at 0x7fb3f9bb6470>"
      ]
     },
     "execution_count": 9,
     "metadata": {},
     "output_type": "execute_result"
    }
   ],
   "source": [
    "x"
   ]
  },
  {
   "cell_type": "code",
   "execution_count": 12,
   "metadata": {},
   "outputs": [
    {
     "data": {
      "text/html": [
       "\n",
       "            <strong>GenSimQMD_IQLE</strong> at 0x7fb3f9bb6c88: 1 model parameter\n",
       "        "
      ],
      "text/plain": [
       "<GenSimQMD_IQLE.GenSimQMD_IQLE at 0x7fb3f9bb6c88>"
      ]
     },
     "execution_count": 12,
     "metadata": {},
     "output_type": "execute_result"
    }
   ],
   "source": [
    "upd.model"
   ]
  },
  {
   "cell_type": "code",
   "execution_count": null,
   "metadata": {},
   "outputs": [],
   "source": []
  }
 ],
 "metadata": {
  "kernelspec": {
   "display_name": "Python 3",
   "language": "python",
   "name": "python3"
  },
  "language_info": {
   "codemirror_mode": {
    "name": "ipython",
    "version": 3
   },
   "file_extension": ".py",
   "mimetype": "text/x-python",
   "name": "python",
   "nbconvert_exporter": "python",
   "pygments_lexer": "ipython3",
   "version": "3.5.2"
  }
 },
 "nbformat": 4,
 "nbformat_minor": 2
}
