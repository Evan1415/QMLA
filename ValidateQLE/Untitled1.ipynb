{
 "cells": [
  {
   "cell_type": "code",
   "execution_count": 1,
   "metadata": {},
   "outputs": [
    {
     "name": "stdout",
     "output_type": "stream",
     "text": [
      "\n",
      "\n",
      "Test  0\n",
      "\n",
      " 1  qubits.\n",
      "\n",
      " 2  qubits.\n",
      "\n",
      " 3  qubits.\n",
      "\n",
      " 4  qubits.\n",
      "\n",
      " 5  qubits.\n",
      "\n",
      " 6  qubits.\n",
      "\n",
      " 7  qubits.\n",
      "\n",
      " 8  qubits.\n",
      "\n",
      " 9  qubits.\n",
      "\n",
      "\n",
      "Checked  9  random Hamiltonians.\n",
      "---- ---- All matrix elements equal ---- ----\n"
     ]
    }
   ],
   "source": [
    "import hamiltonian_exponentiation as h\n",
    "from scipy import linalg\n",
    "\n",
    "h.test_exp_ham_function()"
   ]
  },
  {
   "cell_type": "code",
   "execution_count": 2,
   "metadata": {},
   "outputs": [],
   "source": [
    "mtx = h.random_hamiltonian(1)\n",
    "t=1"
   ]
  },
  {
   "cell_type": "code",
   "execution_count": 6,
   "metadata": {},
   "outputs": [
    {
     "data": {
      "text/plain": [
       "array([[ 1.+0.j,  0.+0.j],\n",
       "       [ 0.+0.j,  1.+0.j]])"
      ]
     },
     "execution_count": 6,
     "metadata": {},
     "output_type": "execute_result"
    }
   ],
   "source": [
    "h.exponentiate_ham(mtx,t)"
   ]
  },
  {
   "cell_type": "code",
   "execution_count": 8,
   "metadata": {},
   "outputs": [
    {
     "name": "stdout",
     "output_type": "stream",
     "text": [
      "k= 0\n",
      "1.0\n",
      "k= 1\n",
      "0.199333\n",
      "k= 2\n",
      "0.019866822444500002\n",
      "k= 3\n",
      "0.0013200377727765064\n",
      "k= 4\n",
      "6.578177234021484e-05\n",
      "k= 5\n",
      "2.6224956051784088e-06\n",
      "k= 6\n",
      "8.712498607783797e-08\n",
      "k= 7\n",
      "2.4809835499790965e-09\n",
      "k= 8\n",
      "6.181773674599793e-11\n",
      "k= 9\n",
      "1.3691461020877783e-12\n"
     ]
    }
   ],
   "source": [
    "import math\n",
    "scale =0.199333\n",
    "for k in range(10):\n",
    "    print(\"k=\",k)\n",
    "    print(scale**k/math.factorial(k))"
   ]
  },
  {
   "cell_type": "code",
   "execution_count": null,
   "metadata": {},
   "outputs": [],
   "source": []
  }
 ],
 "metadata": {
  "kernelspec": {
   "display_name": "Python 3",
   "language": "python",
   "name": "python3"
  },
  "language_info": {
   "codemirror_mode": {
    "name": "ipython",
    "version": 3
   },
   "file_extension": ".py",
   "mimetype": "text/x-python",
   "name": "python",
   "nbconvert_exporter": "python",
   "pygments_lexer": "ipython3",
   "version": "3.5.2"
  }
 },
 "nbformat": 4,
 "nbformat_minor": 2
}
