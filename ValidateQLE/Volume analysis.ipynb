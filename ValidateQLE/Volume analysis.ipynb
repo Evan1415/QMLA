{
 "cells": [
  {
   "cell_type": "code",
   "execution_count": 1,
   "metadata": {},
   "outputs": [
    {
     "name": "stdout",
     "output_type": "stream",
     "text": [
      "Using host name  localhost\n"
     ]
    }
   ],
   "source": [
    "from __future__ import print_function # so print doesn't show brackets\n",
    "import numpy as np\n",
    "import itertools as itr\n",
    "\n",
    "import os as os\n",
    "import sys as sys \n",
    "import pandas as pd\n",
    "import warnings\n",
    "import time as time\n",
    "import random\n",
    "import pickle\n",
    "pickle.HIGHEST_PROTOCOL = 2\n",
    "sys.path.append(os.path.join(\"..\", \"Libraries\",\"QML_lib\"))\n",
    "from RedisSettings import *\n",
    "import Evo as evo\n",
    "import DataBase \n",
    "from QMD import QMD #  class moved to QMD in Library\n",
    "import QML\n",
    "import ModelGeneration \n",
    "import BayesF\n",
    "import matplotlib.pyplot as plt\n",
    "#from pympler import asizeof\n",
    "import matplotlib.pyplot as plt\n",
    "paulis = ['x', 'y', 'z'] # will be chosen at random. or uncomment below and comment within loop to hard-set\n",
    "\n",
    "import viz_library as v\n",
    "import time as time \n",
    "import argparse\n",
    "\n",
    "parser = argparse.ArgumentParser(description='Pass variables for (I)QLE.')\n",
    "\n",
    "import warnings\n",
    "warnings.filterwarnings(\"ignore\")\n"
   ]
  },
  {
   "cell_type": "code",
   "execution_count": 2,
   "metadata": {},
   "outputs": [],
   "source": [
    "qmd=pickle.load(open('qmd_class.p', \"rb\"))"
   ]
  },
  {
   "cell_type": "code",
   "execution_count": 2,
   "metadata": {},
   "outputs": [],
   "source": [
    "prior=pickle.load(open('prior.p', \"rb\"))"
   ]
  },
  {
   "cell_type": "code",
   "execution_count": 3,
   "metadata": {},
   "outputs": [
    {
     "ename": "ValueError",
     "evalue": "operands could not be broadcast together with remapped shapes [original->remapped]: (7,7)->(7,7) (1,6)->(1,newaxis,6) ",
     "output_type": "error",
     "traceback": [
      "\u001b[0;31m---------------------------------------------------------------------------\u001b[0m",
      "\u001b[0;31mValueError\u001b[0m                                Traceback (most recent call last)",
      "\u001b[0;32m<ipython-input-3-2641762497cc>\u001b[0m in \u001b[0;36m<module>\u001b[0;34m()\u001b[0m\n\u001b[0;32m----> 1\u001b[0;31m \u001b[0mprior\u001b[0m\u001b[0;34m.\u001b[0m\u001b[0msample\u001b[0m\u001b[0;34m(\u001b[0m\u001b[0;34m)\u001b[0m\u001b[0;34m\u001b[0m\u001b[0m\n\u001b[0m",
      "\u001b[0;32m/usr/local/lib/python3.5/dist-packages/qinfer/distributions.py\u001b[0m in \u001b[0;36msample\u001b[0;34m(self, n)\u001b[0m\n\u001b[1;32m    395\u001b[0m         \u001b[0;32mreturn\u001b[0m \u001b[0mself\u001b[0m\u001b[0;34m.\u001b[0m\u001b[0mmean\u001b[0m\u001b[0;34m.\u001b[0m\u001b[0mshape\u001b[0m\u001b[0;34m[\u001b[0m\u001b[0;36m0\u001b[0m\u001b[0;34m]\u001b[0m\u001b[0;34m\u001b[0m\u001b[0m\n\u001b[1;32m    396\u001b[0m     \u001b[0;32mdef\u001b[0m \u001b[0msample\u001b[0m\u001b[0;34m(\u001b[0m\u001b[0mself\u001b[0m\u001b[0;34m,\u001b[0m \u001b[0mn\u001b[0m\u001b[0;34m=\u001b[0m\u001b[0;36m1\u001b[0m\u001b[0;34m)\u001b[0m\u001b[0;34m:\u001b[0m\u001b[0;34m\u001b[0m\u001b[0m\n\u001b[0;32m--> 397\u001b[0;31m         \u001b[0;32mreturn\u001b[0m \u001b[0mnp\u001b[0m\u001b[0;34m.\u001b[0m\u001b[0meinsum\u001b[0m\u001b[0;34m(\u001b[0m\u001b[0;34m\"ij,nj->ni\"\u001b[0m\u001b[0;34m,\u001b[0m \u001b[0mla\u001b[0m\u001b[0;34m.\u001b[0m\u001b[0msqrtm\u001b[0m\u001b[0;34m(\u001b[0m\u001b[0mself\u001b[0m\u001b[0;34m.\u001b[0m\u001b[0mcov\u001b[0m\u001b[0;34m)\u001b[0m\u001b[0;34m,\u001b[0m \u001b[0mnp\u001b[0m\u001b[0;34m.\u001b[0m\u001b[0mrandom\u001b[0m\u001b[0;34m.\u001b[0m\u001b[0mrandn\u001b[0m\u001b[0;34m(\u001b[0m\u001b[0mn\u001b[0m\u001b[0;34m,\u001b[0m \u001b[0mself\u001b[0m\u001b[0;34m.\u001b[0m\u001b[0mn_rvs\u001b[0m\u001b[0;34m)\u001b[0m\u001b[0;34m)\u001b[0m \u001b[0;34m+\u001b[0m \u001b[0mself\u001b[0m\u001b[0;34m.\u001b[0m\u001b[0mmean\u001b[0m\u001b[0;34m\u001b[0m\u001b[0m\n\u001b[0m\u001b[1;32m    398\u001b[0m \u001b[0;34m\u001b[0m\u001b[0m\n\u001b[1;32m    399\u001b[0m     \u001b[0;32mdef\u001b[0m \u001b[0mgrad_log_pdf\u001b[0m\u001b[0;34m(\u001b[0m\u001b[0mself\u001b[0m\u001b[0;34m,\u001b[0m \u001b[0mx\u001b[0m\u001b[0;34m)\u001b[0m\u001b[0;34m:\u001b[0m\u001b[0;34m\u001b[0m\u001b[0m\n",
      "\u001b[0;32m~/.local/lib/python3.5/site-packages/numpy/core/einsumfunc.py\u001b[0m in \u001b[0;36meinsum\u001b[0;34m(*operands, **kwargs)\u001b[0m\n\u001b[1;32m    946\u001b[0m     \u001b[0;31m# If no optimization, run pure einsum\u001b[0m\u001b[0;34m\u001b[0m\u001b[0;34m\u001b[0m\u001b[0m\n\u001b[1;32m    947\u001b[0m     \u001b[0;32mif\u001b[0m \u001b[0moptimize_arg\u001b[0m \u001b[0;32mis\u001b[0m \u001b[0;32mFalse\u001b[0m\u001b[0;34m:\u001b[0m\u001b[0;34m\u001b[0m\u001b[0m\n\u001b[0;32m--> 948\u001b[0;31m         \u001b[0;32mreturn\u001b[0m \u001b[0mc_einsum\u001b[0m\u001b[0;34m(\u001b[0m\u001b[0;34m*\u001b[0m\u001b[0moperands\u001b[0m\u001b[0;34m,\u001b[0m \u001b[0;34m**\u001b[0m\u001b[0mkwargs\u001b[0m\u001b[0;34m)\u001b[0m\u001b[0;34m\u001b[0m\u001b[0m\n\u001b[0m\u001b[1;32m    949\u001b[0m \u001b[0;34m\u001b[0m\u001b[0m\n\u001b[1;32m    950\u001b[0m     \u001b[0mvalid_einsum_kwargs\u001b[0m \u001b[0;34m=\u001b[0m \u001b[0;34m[\u001b[0m\u001b[0;34m'out'\u001b[0m\u001b[0;34m,\u001b[0m \u001b[0;34m'dtype'\u001b[0m\u001b[0;34m,\u001b[0m \u001b[0;34m'order'\u001b[0m\u001b[0;34m,\u001b[0m \u001b[0;34m'casting'\u001b[0m\u001b[0;34m]\u001b[0m\u001b[0;34m\u001b[0m\u001b[0m\n",
      "\u001b[0;31mValueError\u001b[0m: operands could not be broadcast together with remapped shapes [original->remapped]: (7,7)->(7,7) (1,6)->(1,newaxis,6) "
     ]
    }
   ],
   "source": [
    "prior.sample()"
   ]
  },
  {
   "cell_type": "code",
   "execution_count": null,
   "metadata": {},
   "outputs": [],
   "source": [
    "test_mtx = [[10, 3], [4,3]]"
   ]
  },
  {
   "cell_type": "code",
   "execution_count": null,
   "metadata": {},
   "outputs": [],
   "source": [
    "v.hinton(test_mtx, grid=True , skip_diagonal=False, max_value=4)"
   ]
  },
  {
   "cell_type": "code",
   "execution_count": null,
   "metadata": {},
   "outputs": [],
   "source": [
    "qmd.BranchRankings"
   ]
  },
  {
   "cell_type": "code",
   "execution_count": null,
   "metadata": {},
   "outputs": [],
   "source": [
    "qmd.reducedModelInstanceFromID(9).BayesFactors"
   ]
  },
  {
   "cell_type": "code",
   "execution_count": null,
   "metadata": {},
   "outputs": [],
   "source": [
    "all_bayes_factors = {}\n",
    "for i in range(qmd.HighestModelID):\n",
    "    all_bayes_factors[i] = qmd.reducedModelInstanceFromID(i).BayesFactors\n",
    "    \n",
    "    "
   ]
  },
  {
   "cell_type": "code",
   "execution_count": null,
   "metadata": {},
   "outputs": [],
   "source": [
    "all_bayes_factors"
   ]
  },
  {
   "cell_type": "code",
   "execution_count": 3,
   "metadata": {},
   "outputs": [
    {
     "data": {
      "text/html": [
       "<div>\n",
       "<style>\n",
       "    .dataframe thead tr:only-child th {\n",
       "        text-align: right;\n",
       "    }\n",
       "\n",
       "    .dataframe thead th {\n",
       "        text-align: left;\n",
       "    }\n",
       "\n",
       "    .dataframe tbody tr th {\n",
       "        vertical-align: top;\n",
       "    }\n",
       "</style>\n",
       "<table border=\"1\" class=\"dataframe\">\n",
       "  <thead>\n",
       "    <tr style=\"text-align: right;\">\n",
       "      <th></th>\n",
       "      <th>&lt;Name&gt;</th>\n",
       "      <th>Completed</th>\n",
       "      <th>Epoch_Start</th>\n",
       "      <th>ModelID</th>\n",
       "      <th>Operator_Instance</th>\n",
       "      <th>Reduced_Model_Class_Instance</th>\n",
       "      <th>Status</th>\n",
       "      <th>branchID</th>\n",
       "    </tr>\n",
       "  </thead>\n",
       "  <tbody>\n",
       "    <tr>\n",
       "      <th>0</th>\n",
       "      <td>xTi</td>\n",
       "      <td>True</td>\n",
       "      <td>0.0</td>\n",
       "      <td>0.0</td>\n",
       "      <td>&lt;DataBase.operator object at 0x7fe5b4525320&gt;</td>\n",
       "      <td>&lt;QML.reducedModel object at 0x7fe5b45255c0&gt;</td>\n",
       "      <td>Deactivated</td>\n",
       "      <td>0.0</td>\n",
       "    </tr>\n",
       "    <tr>\n",
       "      <th>1</th>\n",
       "      <td>yTi</td>\n",
       "      <td>True</td>\n",
       "      <td>0.0</td>\n",
       "      <td>1.0</td>\n",
       "      <td>&lt;DataBase.operator object at 0x7fe5b4525358&gt;</td>\n",
       "      <td>&lt;QML.reducedModel object at 0x7fe5b4533400&gt;</td>\n",
       "      <td>Deactivated</td>\n",
       "      <td>0.0</td>\n",
       "    </tr>\n",
       "    <tr>\n",
       "      <th>2</th>\n",
       "      <td>zTi</td>\n",
       "      <td>True</td>\n",
       "      <td>0.0</td>\n",
       "      <td>2.0</td>\n",
       "      <td>&lt;DataBase.operator object at 0x7fe5b4525390&gt;</td>\n",
       "      <td>&lt;QML.reducedModel object at 0x7fe5b453a0b8&gt;</td>\n",
       "      <td>Active</td>\n",
       "      <td>0.0</td>\n",
       "    </tr>\n",
       "    <tr>\n",
       "      <th>3</th>\n",
       "      <td>zTiPPxTi</td>\n",
       "      <td>True</td>\n",
       "      <td>0.0</td>\n",
       "      <td>3.0</td>\n",
       "      <td>&lt;DataBase.operator object at 0x7fe5b45253c8&gt;</td>\n",
       "      <td>&lt;QML.reducedModel object at 0x7fe5b4540d30&gt;</td>\n",
       "      <td>Deactivated</td>\n",
       "      <td>1.0</td>\n",
       "    </tr>\n",
       "    <tr>\n",
       "      <th>4</th>\n",
       "      <td>zTiPPyTi</td>\n",
       "      <td>True</td>\n",
       "      <td>0.0</td>\n",
       "      <td>4.0</td>\n",
       "      <td>&lt;DataBase.operator object at 0x7fe5b4525400&gt;</td>\n",
       "      <td>&lt;QML.reducedModel object at 0x7fe5b454aa20&gt;</td>\n",
       "      <td>Active</td>\n",
       "      <td>1.0</td>\n",
       "    </tr>\n",
       "    <tr>\n",
       "      <th>5</th>\n",
       "      <td>zTiPPyTiPPxTi</td>\n",
       "      <td>True</td>\n",
       "      <td>0.0</td>\n",
       "      <td>5.0</td>\n",
       "      <td>&lt;DataBase.operator object at 0x7fe5b4525438&gt;</td>\n",
       "      <td>&lt;QML.reducedModel object at 0x7fe5b44d6710&gt;</td>\n",
       "      <td>Active</td>\n",
       "      <td>2.0</td>\n",
       "    </tr>\n",
       "    <tr>\n",
       "      <th>6</th>\n",
       "      <td>zTiPPyTiPPxTiPPxTx</td>\n",
       "      <td>True</td>\n",
       "      <td>0.0</td>\n",
       "      <td>6.0</td>\n",
       "      <td>&lt;DataBase.operator object at 0x7fe5b4525470&gt;</td>\n",
       "      <td>&lt;QML.reducedModel object at 0x7fe5b44e43c8&gt;</td>\n",
       "      <td>Deactivated</td>\n",
       "      <td>3.0</td>\n",
       "    </tr>\n",
       "    <tr>\n",
       "      <th>7</th>\n",
       "      <td>zTiPPyTiPPxTiPPyTy</td>\n",
       "      <td>True</td>\n",
       "      <td>0.0</td>\n",
       "      <td>7.0</td>\n",
       "      <td>&lt;DataBase.operator object at 0x7fe5b45254a8&gt;</td>\n",
       "      <td>&lt;QML.reducedModel object at 0x7fe5b44ec0f0&gt;</td>\n",
       "      <td>Deactivated</td>\n",
       "      <td>3.0</td>\n",
       "    </tr>\n",
       "    <tr>\n",
       "      <th>8</th>\n",
       "      <td>zTiPPyTiPPxTiPPzTz</td>\n",
       "      <td>True</td>\n",
       "      <td>0.0</td>\n",
       "      <td>8.0</td>\n",
       "      <td>&lt;DataBase.operator object at 0x7fe5b45254e0&gt;</td>\n",
       "      <td>&lt;QML.reducedModel object at 0x7fe5b44f5dd8&gt;</td>\n",
       "      <td>Active</td>\n",
       "      <td>3.0</td>\n",
       "    </tr>\n",
       "    <tr>\n",
       "      <th>9</th>\n",
       "      <td>zTiPPyTiPPxTiPPzTzPPxTx</td>\n",
       "      <td>True</td>\n",
       "      <td>0.0</td>\n",
       "      <td>9.0</td>\n",
       "      <td>&lt;DataBase.operator object at 0x7fe5b4525518&gt;</td>\n",
       "      <td>&lt;QML.reducedModel object at 0x7fe5b4502b00&gt;</td>\n",
       "      <td>Deactivated</td>\n",
       "      <td>4.0</td>\n",
       "    </tr>\n",
       "    <tr>\n",
       "      <th>10</th>\n",
       "      <td>zTiPPyTiPPxTiPPzTzPPyTy</td>\n",
       "      <td>True</td>\n",
       "      <td>0.0</td>\n",
       "      <td>10.0</td>\n",
       "      <td>&lt;DataBase.operator object at 0x7fe5b4525550&gt;</td>\n",
       "      <td>&lt;QML.reducedModel object at 0x7fe5b4490860&gt;</td>\n",
       "      <td>Active</td>\n",
       "      <td>4.0</td>\n",
       "    </tr>\n",
       "    <tr>\n",
       "      <th>11</th>\n",
       "      <td>zTiPPyTiPPxTiPPzTzPPyTyPPxTx</td>\n",
       "      <td>True</td>\n",
       "      <td>0.0</td>\n",
       "      <td>11.0</td>\n",
       "      <td>&lt;DataBase.operator object at 0x7fe5b4525588&gt;</td>\n",
       "      <td>&lt;QML.reducedModel object at 0x7fe5b449e5c0&gt;</td>\n",
       "      <td>Active</td>\n",
       "      <td>5.0</td>\n",
       "    </tr>\n",
       "  </tbody>\n",
       "</table>\n",
       "</div>"
      ],
      "text/plain": [
       "                          <Name> Completed  Epoch_Start  ModelID  \\\n",
       "0                            xTi      True          0.0      0.0   \n",
       "1                            yTi      True          0.0      1.0   \n",
       "2                            zTi      True          0.0      2.0   \n",
       "3                       zTiPPxTi      True          0.0      3.0   \n",
       "4                       zTiPPyTi      True          0.0      4.0   \n",
       "5                  zTiPPyTiPPxTi      True          0.0      5.0   \n",
       "6             zTiPPyTiPPxTiPPxTx      True          0.0      6.0   \n",
       "7             zTiPPyTiPPxTiPPyTy      True          0.0      7.0   \n",
       "8             zTiPPyTiPPxTiPPzTz      True          0.0      8.0   \n",
       "9        zTiPPyTiPPxTiPPzTzPPxTx      True          0.0      9.0   \n",
       "10       zTiPPyTiPPxTiPPzTzPPyTy      True          0.0     10.0   \n",
       "11  zTiPPyTiPPxTiPPzTzPPyTyPPxTx      True          0.0     11.0   \n",
       "\n",
       "                               Operator_Instance  \\\n",
       "0   <DataBase.operator object at 0x7fe5b4525320>   \n",
       "1   <DataBase.operator object at 0x7fe5b4525358>   \n",
       "2   <DataBase.operator object at 0x7fe5b4525390>   \n",
       "3   <DataBase.operator object at 0x7fe5b45253c8>   \n",
       "4   <DataBase.operator object at 0x7fe5b4525400>   \n",
       "5   <DataBase.operator object at 0x7fe5b4525438>   \n",
       "6   <DataBase.operator object at 0x7fe5b4525470>   \n",
       "7   <DataBase.operator object at 0x7fe5b45254a8>   \n",
       "8   <DataBase.operator object at 0x7fe5b45254e0>   \n",
       "9   <DataBase.operator object at 0x7fe5b4525518>   \n",
       "10  <DataBase.operator object at 0x7fe5b4525550>   \n",
       "11  <DataBase.operator object at 0x7fe5b4525588>   \n",
       "\n",
       "                   Reduced_Model_Class_Instance       Status  branchID  \n",
       "0   <QML.reducedModel object at 0x7fe5b45255c0>  Deactivated       0.0  \n",
       "1   <QML.reducedModel object at 0x7fe5b4533400>  Deactivated       0.0  \n",
       "2   <QML.reducedModel object at 0x7fe5b453a0b8>       Active       0.0  \n",
       "3   <QML.reducedModel object at 0x7fe5b4540d30>  Deactivated       1.0  \n",
       "4   <QML.reducedModel object at 0x7fe5b454aa20>       Active       1.0  \n",
       "5   <QML.reducedModel object at 0x7fe5b44d6710>       Active       2.0  \n",
       "6   <QML.reducedModel object at 0x7fe5b44e43c8>  Deactivated       3.0  \n",
       "7   <QML.reducedModel object at 0x7fe5b44ec0f0>  Deactivated       3.0  \n",
       "8   <QML.reducedModel object at 0x7fe5b44f5dd8>       Active       3.0  \n",
       "9   <QML.reducedModel object at 0x7fe5b4502b00>  Deactivated       4.0  \n",
       "10  <QML.reducedModel object at 0x7fe5b4490860>       Active       4.0  \n",
       "11  <QML.reducedModel object at 0x7fe5b449e5c0>       Active       5.0  "
      ]
     },
     "execution_count": 3,
     "metadata": {},
     "output_type": "execute_result"
    }
   ],
   "source": [
    "qmd.db"
   ]
  },
  {
   "cell_type": "code",
   "execution_count": null,
   "metadata": {},
   "outputs": [],
   "source": []
  }
 ],
 "metadata": {
  "anaconda-cloud": {},
  "kernelspec": {
   "display_name": "Python 3",
   "language": "python",
   "name": "python3"
  },
  "language_info": {
   "codemirror_mode": {
    "name": "ipython",
    "version": 3
   },
   "file_extension": ".py",
   "mimetype": "text/x-python",
   "name": "python",
   "nbconvert_exporter": "python",
   "pygments_lexer": "ipython3",
   "version": "3.5.2"
  }
 },
 "nbformat": 4,
 "nbformat_minor": 2
}
