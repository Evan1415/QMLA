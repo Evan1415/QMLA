{
 "cells": [
  {
   "cell_type": "code",
   "execution_count": 1,
   "metadata": {},
   "outputs": [
    {
     "name": "stdout",
     "output_type": "stream",
     "text": [
      "Redis settings\n",
      "in redis settings, parent pid: 20054\n",
      "Reading from environment_variables pickled object.\n",
      "test workers: True\n",
      "host name localhost\n",
      "port number 6379\n"
     ]
    }
   ],
   "source": [
    "from __future__ import print_function # so print doesn't show brackets\n",
    "import numpy as np\n",
    "import itertools as itr\n",
    "\n",
    "import os as os\n",
    "import sys as sys \n",
    "import pandas as pd\n",
    "import warnings\n",
    "import time as time\n",
    "import random\n",
    "import pickle\n",
    "pickle.HIGHEST_PROTOCOL = 2\n",
    "sys.path.append(os.path.join(\"..\", \"Libraries\",\"QML_lib\"))\n",
    "from RedisSettings import *\n",
    "import Evo as evo\n",
    "import DataBase \n",
    "from QMD import QMD #  class moved to QMD in Library\n",
    "import QML\n",
    "import ModelGeneration \n",
    "import BayesF\n",
    "import matplotlib.pyplot as plt\n",
    "#from pympler import asizeof\n",
    "import matplotlib.pyplot as plt\n",
    "paulis = ['x', 'y', 'z'] # will be chosen at random. or uncomment below and comment within loop to hard-set\n",
    "\n",
    "import viz_library as v\n",
    "import time as time \n",
    "import argparse\n",
    "\n",
    "parser = argparse.ArgumentParser(description='Pass variables for (I)QLE.')\n",
    "\n",
    "import warnings\n",
    "warnings.filterwarnings(\"ignore\")\n"
   ]
  },
  {
   "cell_type": "code",
   "execution_count": 3,
   "metadata": {},
   "outputs": [
    {
     "data": {
      "text/plain": [
       "{'host': 'localhost', 'port': 6379, 'use_rq': False}"
      ]
     },
     "execution_count": 3,
     "metadata": {},
     "output_type": "execute_result"
    }
   ],
   "source": [
    "pickle.load(open('environment_variables.p', 'rb'))"
   ]
  },
  {
   "cell_type": "code",
   "execution_count": 2,
   "metadata": {},
   "outputs": [],
   "source": [
    "qmd=pickle.load(open('qmd_class.p', \"rb\"))"
   ]
  },
  {
   "cell_type": "code",
   "execution_count": 21,
   "metadata": {},
   "outputs": [],
   "source": [
    "champid = qmd.pullField(name=qmd.ChampionName, field='ModelID')"
   ]
  },
  {
   "cell_type": "code",
   "execution_count": 24,
   "metadata": {},
   "outputs": [
    {
     "data": {
      "text/plain": [
       "array([ 0.27253401,  0.06571283])"
      ]
     },
     "execution_count": 24,
     "metadata": {},
     "output_type": "execute_result"
    }
   ],
   "source": [
    "qmd.reducedModelInstanceFromID(champid).FinalParams"
   ]
  },
  {
   "cell_type": "code",
   "execution_count": 19,
   "metadata": {},
   "outputs": [],
   "source": [
    "a=40\n",
    "b= \n",
    "'{0:03d}'.format(a)"
   ]
  },
  {
   "cell_type": "code",
   "execution_count": 20,
   "metadata": {},
   "outputs": [
    {
     "data": {
      "text/plain": [
       "'040'"
      ]
     },
     "execution_count": 20,
     "metadata": {},
     "output_type": "execute_result"
    }
   ],
   "source": [
    "b"
   ]
  },
  {
   "cell_type": "code",
   "execution_count": 15,
   "metadata": {},
   "outputs": [],
   "source": [
    "if test[-1] != 'a':\n",
    "    test += 'a'"
   ]
  },
  {
   "cell_type": "code",
   "execution_count": 16,
   "metadata": {},
   "outputs": [
    {
     "data": {
      "text/plain": [
       "'this testa'"
      ]
     },
     "execution_count": 16,
     "metadata": {},
     "output_type": "execute_result"
    }
   ],
   "source": [
    "test"
   ]
  },
  {
   "cell_type": "code",
   "execution_count": 17,
   "metadata": {},
   "outputs": [
    {
     "name": "stdout",
     "output_type": "stream",
     "text": [
      "\n",
      "/usr/lib/python35.zip\n",
      "/usr/lib/python3.5\n",
      "/usr/lib/python3.5/plat-x86_64-linux-gnu\n",
      "/usr/lib/python3.5/lib-dynload\n",
      "/home/bf16951/.local/lib/python3.5/site-packages\n",
      "/usr/local/lib/python3.5/dist-packages\n",
      "/usr/lib/python3/dist-packages\n",
      "/home/bf16951/.local/lib/python3.5/site-packages/IPython/extensions\n",
      "/home/bf16951/.ipython\n",
      "../Libraries/QML_lib\n"
     ]
    }
   ],
   "source": [
    "for p in sys.path:\n",
    "    print(p)"
   ]
  },
  {
   "cell_type": "code",
   "execution_count": 21,
   "metadata": {},
   "outputs": [
    {
     "data": {
      "text/plain": [
       "['Evo.py',\n",
       " 'ProbeStates.py',\n",
       " 'rq_worker_launch.sh~',\n",
       " 'BayesF.py',\n",
       " 'Moves.py',\n",
       " 'QMD.py',\n",
       " 'Test evo import.ipynb',\n",
       " 'viz_library.py',\n",
       " 'GenSim_IQLE.pyc',\n",
       " 'RedisSettings.pyc',\n",
       " 'Norms.py',\n",
       " 'Distrib.py',\n",
       " 'GlobalVariables.py',\n",
       " 'HahnSimQMD.py',\n",
       " 'dump.rdb',\n",
       " 'ModelDevClassLegacy.py',\n",
       " 'multiPGH.pyc',\n",
       " 'ModLearn.py',\n",
       " 'IOfuncts.py',\n",
       " 'QMD.pyc',\n",
       " 'RemoteModelLearning.pyc',\n",
       " 'MemoryTest.py',\n",
       " 'IOfuncts.pyc',\n",
       " 'ProbeStates.pyc',\n",
       " 'ModelGeneration.pyc',\n",
       " 'logs',\n",
       " 'Evo.py~',\n",
       " 'QML_Hahn.py',\n",
       " 'QMLaag.py',\n",
       " 'Utils.py',\n",
       " 'AnalyticalModels.py',\n",
       " 'GlobalVariables.pyc',\n",
       " 'Utils.pyc',\n",
       " 'ModelGeneration.py',\n",
       " 'test_evo.py',\n",
       " 'Distrib.pyc',\n",
       " 'ModelLearningFunction.pyc',\n",
       " 'QML.pyc',\n",
       " 'RedisSettings.py~',\n",
       " 'RemoteBayesFactor.py',\n",
       " 'rq_worker_launch.sh',\n",
       " 'BayesF.pyc',\n",
       " '__pycache__',\n",
       " 'QMD_Utils.py',\n",
       " 'EvoLegacy.py',\n",
       " 'DataBase.pyc',\n",
       " 'multiPGH.py',\n",
       " 'MemoryTest.pyc',\n",
       " 'GenSimQMD_IQLE.pyc',\n",
       " 'RemoteModelLearning.py',\n",
       " 'QML.py',\n",
       " 'Norms.pyc',\n",
       " 'QMDaag.py',\n",
       " 'GenSim_IQLE.py',\n",
       " 'RedisSettings.py',\n",
       " 'Naming_Convention.pdf',\n",
       " 'TheoMoves.py',\n",
       " 'Models.py',\n",
       " 'RemoteBayesFactor.pyc',\n",
       " '.ipynb_checkpoints',\n",
       " 'TheoMoves2.py',\n",
       " 'GenSimQMD_IQLE.py',\n",
       " 'DataBase.py',\n",
       " 'QMDgraph.py',\n",
       " 'EvalLoss.pyc',\n",
       " 'GenSimQMD.py',\n",
       " 'Evo.pyc',\n",
       " 'parGenSim_IQLE.py',\n",
       " 'HahnTheoModels.py',\n",
       " 'test_pickled_model_dict.pkl',\n",
       " 'EvalLoss.py',\n",
       " 'QMD_Hahn.py',\n",
       " 'redis_test.py',\n",
       " 'test_pickled_model_dict.npy']"
      ]
     },
     "execution_count": 21,
     "metadata": {},
     "output_type": "execute_result"
    }
   ],
   "source": [
    "os.listdir('../Libraries/QML_lib')"
   ]
  },
  {
   "cell_type": "code",
   "execution_count": 3,
   "metadata": {},
   "outputs": [
    {
     "data": {
      "text/html": [
       "<div>\n",
       "<style>\n",
       "    .dataframe thead tr:only-child th {\n",
       "        text-align: right;\n",
       "    }\n",
       "\n",
       "    .dataframe thead th {\n",
       "        text-align: left;\n",
       "    }\n",
       "\n",
       "    .dataframe tbody tr th {\n",
       "        vertical-align: top;\n",
       "    }\n",
       "</style>\n",
       "<table border=\"1\" class=\"dataframe\">\n",
       "  <thead>\n",
       "    <tr style=\"text-align: right;\">\n",
       "      <th></th>\n",
       "      <th>&lt;Name&gt;</th>\n",
       "      <th>Completed</th>\n",
       "      <th>Epoch_Start</th>\n",
       "      <th>ModelID</th>\n",
       "      <th>Operator_Instance</th>\n",
       "      <th>Reduced_Model_Class_Instance</th>\n",
       "      <th>Status</th>\n",
       "      <th>branchID</th>\n",
       "    </tr>\n",
       "  </thead>\n",
       "  <tbody>\n",
       "    <tr>\n",
       "      <th>0</th>\n",
       "      <td>xTi</td>\n",
       "      <td>True</td>\n",
       "      <td>0.0</td>\n",
       "      <td>0.0</td>\n",
       "      <td>&lt;DataBase.operator object at 0x7f94149e05f8&gt;</td>\n",
       "      <td>&lt;QML.reducedModel object at 0x7f93e284a668&gt;</td>\n",
       "      <td>Active</td>\n",
       "      <td>0.0</td>\n",
       "    </tr>\n",
       "    <tr>\n",
       "      <th>1</th>\n",
       "      <td>yTi</td>\n",
       "      <td>True</td>\n",
       "      <td>0.0</td>\n",
       "      <td>1.0</td>\n",
       "      <td>&lt;DataBase.operator object at 0x7f94149e0518&gt;</td>\n",
       "      <td>&lt;QML.reducedModel object at 0x7f93d261d0b8&gt;</td>\n",
       "      <td>Deactivated</td>\n",
       "      <td>0.0</td>\n",
       "    </tr>\n",
       "    <tr>\n",
       "      <th>2</th>\n",
       "      <td>zTi</td>\n",
       "      <td>True</td>\n",
       "      <td>0.0</td>\n",
       "      <td>2.0</td>\n",
       "      <td>&lt;DataBase.operator object at 0x7f94149e0630&gt;</td>\n",
       "      <td>&lt;QML.reducedModel object at 0x7f93d2627198&gt;</td>\n",
       "      <td>Deactivated</td>\n",
       "      <td>0.0</td>\n",
       "    </tr>\n",
       "    <tr>\n",
       "      <th>3</th>\n",
       "      <td>xTiPPyTi</td>\n",
       "      <td>True</td>\n",
       "      <td>0.0</td>\n",
       "      <td>3.0</td>\n",
       "      <td>&lt;DataBase.operator object at 0x7f94149e0668&gt;</td>\n",
       "      <td>&lt;QML.reducedModel object at 0x7f93d26312b0&gt;</td>\n",
       "      <td>Deactivated</td>\n",
       "      <td>1.0</td>\n",
       "    </tr>\n",
       "    <tr>\n",
       "      <th>4</th>\n",
       "      <td>xTiPPzTi</td>\n",
       "      <td>True</td>\n",
       "      <td>0.0</td>\n",
       "      <td>4.0</td>\n",
       "      <td>&lt;DataBase.operator object at 0x7f94149e06a0&gt;</td>\n",
       "      <td>&lt;QML.reducedModel object at 0x7f93d263e400&gt;</td>\n",
       "      <td>Active</td>\n",
       "      <td>1.0</td>\n",
       "    </tr>\n",
       "    <tr>\n",
       "      <th>5</th>\n",
       "      <td>xTiPPzTiPPyTi</td>\n",
       "      <td>True</td>\n",
       "      <td>0.0</td>\n",
       "      <td>5.0</td>\n",
       "      <td>&lt;DataBase.operator object at 0x7f94149e06d8&gt;</td>\n",
       "      <td>&lt;QML.reducedModel object at 0x7f93d25c8518&gt;</td>\n",
       "      <td>Active</td>\n",
       "      <td>2.0</td>\n",
       "    </tr>\n",
       "    <tr>\n",
       "      <th>6</th>\n",
       "      <td>xTiPPzTiPPyTiPPxTx</td>\n",
       "      <td>True</td>\n",
       "      <td>0.0</td>\n",
       "      <td>6.0</td>\n",
       "      <td>&lt;DataBase.operator object at 0x7f94149e0710&gt;</td>\n",
       "      <td>&lt;QML.reducedModel object at 0x7f93d25d4668&gt;</td>\n",
       "      <td>Active</td>\n",
       "      <td>3.0</td>\n",
       "    </tr>\n",
       "    <tr>\n",
       "      <th>7</th>\n",
       "      <td>xTiPPzTiPPyTiPPyTy</td>\n",
       "      <td>True</td>\n",
       "      <td>0.0</td>\n",
       "      <td>7.0</td>\n",
       "      <td>&lt;DataBase.operator object at 0x7f94149e0748&gt;</td>\n",
       "      <td>&lt;QML.reducedModel object at 0x7f93d25dd7f0&gt;</td>\n",
       "      <td>Deactivated</td>\n",
       "      <td>3.0</td>\n",
       "    </tr>\n",
       "    <tr>\n",
       "      <th>8</th>\n",
       "      <td>xTiPPzTiPPyTiPPzTz</td>\n",
       "      <td>True</td>\n",
       "      <td>0.0</td>\n",
       "      <td>8.0</td>\n",
       "      <td>&lt;DataBase.operator object at 0x7f94149e0780&gt;</td>\n",
       "      <td>&lt;QML.reducedModel object at 0x7f93d25eb9b0&gt;</td>\n",
       "      <td>Deactivated</td>\n",
       "      <td>3.0</td>\n",
       "    </tr>\n",
       "    <tr>\n",
       "      <th>9</th>\n",
       "      <td>xTiPPzTiPPyTiPPxTxPPyTy</td>\n",
       "      <td>True</td>\n",
       "      <td>0.0</td>\n",
       "      <td>9.0</td>\n",
       "      <td>&lt;DataBase.operator object at 0x7f94149e07f0&gt;</td>\n",
       "      <td>&lt;QML.reducedModel object at 0x7f93d25f7b00&gt;</td>\n",
       "      <td>Active</td>\n",
       "      <td>4.0</td>\n",
       "    </tr>\n",
       "    <tr>\n",
       "      <th>10</th>\n",
       "      <td>xTiPPzTiPPyTiPPxTxPPzTz</td>\n",
       "      <td>True</td>\n",
       "      <td>0.0</td>\n",
       "      <td>10.0</td>\n",
       "      <td>&lt;DataBase.operator object at 0x7f94149e0828&gt;</td>\n",
       "      <td>&lt;QML.reducedModel object at 0x7f93d2585cc0&gt;</td>\n",
       "      <td>Deactivated</td>\n",
       "      <td>4.0</td>\n",
       "    </tr>\n",
       "    <tr>\n",
       "      <th>11</th>\n",
       "      <td>xTiPPzTiPPyTiPPxTxPPyTyPPzTz</td>\n",
       "      <td>True</td>\n",
       "      <td>0.0</td>\n",
       "      <td>11.0</td>\n",
       "      <td>&lt;DataBase.operator object at 0x7f94149e0860&gt;</td>\n",
       "      <td>&lt;QML.reducedModel object at 0x7f93d2592e80&gt;</td>\n",
       "      <td>Active</td>\n",
       "      <td>5.0</td>\n",
       "    </tr>\n",
       "    <tr>\n",
       "      <th>12</th>\n",
       "      <td>xTiPPzTiPPyTiPPxTxPPyTyPPzTzPPzTx</td>\n",
       "      <td>True</td>\n",
       "      <td>0.0</td>\n",
       "      <td>12.0</td>\n",
       "      <td>&lt;DataBase.operator object at 0x7f94149e07b8&gt;</td>\n",
       "      <td>&lt;QML.reducedModel object at 0x7f93d25a40b8&gt;</td>\n",
       "      <td>Deactivated</td>\n",
       "      <td>6.0</td>\n",
       "    </tr>\n",
       "    <tr>\n",
       "      <th>13</th>\n",
       "      <td>xTiPPzTiPPyTiPPxTxPPyTyPPzTzPPxTy</td>\n",
       "      <td>True</td>\n",
       "      <td>0.0</td>\n",
       "      <td>13.0</td>\n",
       "      <td>&lt;DataBase.operator object at 0x7f94149e0908&gt;</td>\n",
       "      <td>&lt;QML.reducedModel object at 0x7f93d25b22e8&gt;</td>\n",
       "      <td>Deactivated</td>\n",
       "      <td>6.0</td>\n",
       "    </tr>\n",
       "    <tr>\n",
       "      <th>14</th>\n",
       "      <td>xTiPPzTiPPyTiPPxTxPPyTyPPzTzPPxTz</td>\n",
       "      <td>True</td>\n",
       "      <td>0.0</td>\n",
       "      <td>14.0</td>\n",
       "      <td>&lt;DataBase.operator object at 0x7f94149e0940&gt;</td>\n",
       "      <td>&lt;QML.reducedModel object at 0x7f93d2541518&gt;</td>\n",
       "      <td>Active</td>\n",
       "      <td>6.0</td>\n",
       "    </tr>\n",
       "    <tr>\n",
       "      <th>15</th>\n",
       "      <td>xTiPPzTiPPyTiPPxTxPPyTyPPzTzPPxTzPPxTy</td>\n",
       "      <td>True</td>\n",
       "      <td>0.0</td>\n",
       "      <td>15.0</td>\n",
       "      <td>&lt;DataBase.operator object at 0x7f94149e0978&gt;</td>\n",
       "      <td>&lt;QML.reducedModel object at 0x7f93d254e780&gt;</td>\n",
       "      <td>Active</td>\n",
       "      <td>7.0</td>\n",
       "    </tr>\n",
       "    <tr>\n",
       "      <th>16</th>\n",
       "      <td>xTiPPzTiPPyTiPPxTxPPyTyPPzTzPPxTzPPyTx</td>\n",
       "      <td>True</td>\n",
       "      <td>0.0</td>\n",
       "      <td>16.0</td>\n",
       "      <td>&lt;DataBase.operator object at 0x7f94149e09b0&gt;</td>\n",
       "      <td>&lt;QML.reducedModel object at 0x7f93d25609b0&gt;</td>\n",
       "      <td>Deactivated</td>\n",
       "      <td>7.0</td>\n",
       "    </tr>\n",
       "    <tr>\n",
       "      <th>17</th>\n",
       "      <td>xTiPPzTiPPyTiPPxTxPPyTyPPzTzPPxTzPPyTz</td>\n",
       "      <td>True</td>\n",
       "      <td>0.0</td>\n",
       "      <td>17.0</td>\n",
       "      <td>&lt;DataBase.operator object at 0x7f94149e09e8&gt;</td>\n",
       "      <td>&lt;QML.reducedModel object at 0x7f93d256fc18&gt;</td>\n",
       "      <td>Deactivated</td>\n",
       "      <td>7.0</td>\n",
       "    </tr>\n",
       "    <tr>\n",
       "      <th>18</th>\n",
       "      <td>xTiPPzTiPPyTiPPxTxPPyTyPPzTzPPxTzPPxTyPPyTx</td>\n",
       "      <td>True</td>\n",
       "      <td>0.0</td>\n",
       "      <td>18.0</td>\n",
       "      <td>&lt;DataBase.operator object at 0x7f94149e0a20&gt;</td>\n",
       "      <td>&lt;QML.reducedModel object at 0x7f93d257ce80&gt;</td>\n",
       "      <td>Deactivated</td>\n",
       "      <td>8.0</td>\n",
       "    </tr>\n",
       "    <tr>\n",
       "      <th>19</th>\n",
       "      <td>xTiPPzTiPPyTiPPxTxPPyTyPPzTzPPxTzPPxTyPPyTz</td>\n",
       "      <td>True</td>\n",
       "      <td>0.0</td>\n",
       "      <td>19.0</td>\n",
       "      <td>&lt;DataBase.operator object at 0x7f94149e0a58&gt;</td>\n",
       "      <td>&lt;QML.reducedModel object at 0x7f93d250f160&gt;</td>\n",
       "      <td>Active</td>\n",
       "      <td>8.0</td>\n",
       "    </tr>\n",
       "    <tr>\n",
       "      <th>20</th>\n",
       "      <td>xTiPPzTiPPyTiPPxTxPPyTyPPzTzPPxTzPPxTyPPzTx</td>\n",
       "      <td>True</td>\n",
       "      <td>0.0</td>\n",
       "      <td>20.0</td>\n",
       "      <td>&lt;DataBase.operator object at 0x7f94149e0b00&gt;</td>\n",
       "      <td>&lt;QML.reducedModel object at 0x7f93d251e400&gt;</td>\n",
       "      <td>Deactivated</td>\n",
       "      <td>8.0</td>\n",
       "    </tr>\n",
       "  </tbody>\n",
       "</table>\n",
       "</div>"
      ],
      "text/plain": [
       "                                         <Name> Completed  Epoch_Start  \\\n",
       "0                                           xTi      True          0.0   \n",
       "1                                           yTi      True          0.0   \n",
       "2                                           zTi      True          0.0   \n",
       "3                                      xTiPPyTi      True          0.0   \n",
       "4                                      xTiPPzTi      True          0.0   \n",
       "5                                 xTiPPzTiPPyTi      True          0.0   \n",
       "6                            xTiPPzTiPPyTiPPxTx      True          0.0   \n",
       "7                            xTiPPzTiPPyTiPPyTy      True          0.0   \n",
       "8                            xTiPPzTiPPyTiPPzTz      True          0.0   \n",
       "9                       xTiPPzTiPPyTiPPxTxPPyTy      True          0.0   \n",
       "10                      xTiPPzTiPPyTiPPxTxPPzTz      True          0.0   \n",
       "11                 xTiPPzTiPPyTiPPxTxPPyTyPPzTz      True          0.0   \n",
       "12            xTiPPzTiPPyTiPPxTxPPyTyPPzTzPPzTx      True          0.0   \n",
       "13            xTiPPzTiPPyTiPPxTxPPyTyPPzTzPPxTy      True          0.0   \n",
       "14            xTiPPzTiPPyTiPPxTxPPyTyPPzTzPPxTz      True          0.0   \n",
       "15       xTiPPzTiPPyTiPPxTxPPyTyPPzTzPPxTzPPxTy      True          0.0   \n",
       "16       xTiPPzTiPPyTiPPxTxPPyTyPPzTzPPxTzPPyTx      True          0.0   \n",
       "17       xTiPPzTiPPyTiPPxTxPPyTyPPzTzPPxTzPPyTz      True          0.0   \n",
       "18  xTiPPzTiPPyTiPPxTxPPyTyPPzTzPPxTzPPxTyPPyTx      True          0.0   \n",
       "19  xTiPPzTiPPyTiPPxTxPPyTyPPzTzPPxTzPPxTyPPyTz      True          0.0   \n",
       "20  xTiPPzTiPPyTiPPxTxPPyTyPPzTzPPxTzPPxTyPPzTx      True          0.0   \n",
       "\n",
       "    ModelID                             Operator_Instance  \\\n",
       "0       0.0  <DataBase.operator object at 0x7f94149e05f8>   \n",
       "1       1.0  <DataBase.operator object at 0x7f94149e0518>   \n",
       "2       2.0  <DataBase.operator object at 0x7f94149e0630>   \n",
       "3       3.0  <DataBase.operator object at 0x7f94149e0668>   \n",
       "4       4.0  <DataBase.operator object at 0x7f94149e06a0>   \n",
       "5       5.0  <DataBase.operator object at 0x7f94149e06d8>   \n",
       "6       6.0  <DataBase.operator object at 0x7f94149e0710>   \n",
       "7       7.0  <DataBase.operator object at 0x7f94149e0748>   \n",
       "8       8.0  <DataBase.operator object at 0x7f94149e0780>   \n",
       "9       9.0  <DataBase.operator object at 0x7f94149e07f0>   \n",
       "10     10.0  <DataBase.operator object at 0x7f94149e0828>   \n",
       "11     11.0  <DataBase.operator object at 0x7f94149e0860>   \n",
       "12     12.0  <DataBase.operator object at 0x7f94149e07b8>   \n",
       "13     13.0  <DataBase.operator object at 0x7f94149e0908>   \n",
       "14     14.0  <DataBase.operator object at 0x7f94149e0940>   \n",
       "15     15.0  <DataBase.operator object at 0x7f94149e0978>   \n",
       "16     16.0  <DataBase.operator object at 0x7f94149e09b0>   \n",
       "17     17.0  <DataBase.operator object at 0x7f94149e09e8>   \n",
       "18     18.0  <DataBase.operator object at 0x7f94149e0a20>   \n",
       "19     19.0  <DataBase.operator object at 0x7f94149e0a58>   \n",
       "20     20.0  <DataBase.operator object at 0x7f94149e0b00>   \n",
       "\n",
       "                   Reduced_Model_Class_Instance       Status  branchID  \n",
       "0   <QML.reducedModel object at 0x7f93e284a668>       Active       0.0  \n",
       "1   <QML.reducedModel object at 0x7f93d261d0b8>  Deactivated       0.0  \n",
       "2   <QML.reducedModel object at 0x7f93d2627198>  Deactivated       0.0  \n",
       "3   <QML.reducedModel object at 0x7f93d26312b0>  Deactivated       1.0  \n",
       "4   <QML.reducedModel object at 0x7f93d263e400>       Active       1.0  \n",
       "5   <QML.reducedModel object at 0x7f93d25c8518>       Active       2.0  \n",
       "6   <QML.reducedModel object at 0x7f93d25d4668>       Active       3.0  \n",
       "7   <QML.reducedModel object at 0x7f93d25dd7f0>  Deactivated       3.0  \n",
       "8   <QML.reducedModel object at 0x7f93d25eb9b0>  Deactivated       3.0  \n",
       "9   <QML.reducedModel object at 0x7f93d25f7b00>       Active       4.0  \n",
       "10  <QML.reducedModel object at 0x7f93d2585cc0>  Deactivated       4.0  \n",
       "11  <QML.reducedModel object at 0x7f93d2592e80>       Active       5.0  \n",
       "12  <QML.reducedModel object at 0x7f93d25a40b8>  Deactivated       6.0  \n",
       "13  <QML.reducedModel object at 0x7f93d25b22e8>  Deactivated       6.0  \n",
       "14  <QML.reducedModel object at 0x7f93d2541518>       Active       6.0  \n",
       "15  <QML.reducedModel object at 0x7f93d254e780>       Active       7.0  \n",
       "16  <QML.reducedModel object at 0x7f93d25609b0>  Deactivated       7.0  \n",
       "17  <QML.reducedModel object at 0x7f93d256fc18>  Deactivated       7.0  \n",
       "18  <QML.reducedModel object at 0x7f93d257ce80>  Deactivated       8.0  \n",
       "19  <QML.reducedModel object at 0x7f93d250f160>       Active       8.0  \n",
       "20  <QML.reducedModel object at 0x7f93d251e400>  Deactivated       8.0  "
      ]
     },
     "execution_count": 3,
     "metadata": {},
     "output_type": "execute_result"
    }
   ],
   "source": [
    "qmd.db"
   ]
  },
  {
   "cell_type": "code",
   "execution_count": 7,
   "metadata": {},
   "outputs": [],
   "source": [
    "pickle.dump(qmd.AllBayesFactors, open('sample_bayes_factors.p', 'wb'))"
   ]
  },
  {
   "cell_type": "code",
   "execution_count": 8,
   "metadata": {},
   "outputs": [],
   "source": [
    "pickle.dump(qmd.ModelNameIDs, open('sample_model_name_ids.p', 'wb'))"
   ]
  },
  {
   "cell_type": "code",
   "execution_count": null,
   "metadata": {},
   "outputs": [],
   "source": [
    "qmd.remoteBayes(model_a_id=11, mod_b_id=)"
   ]
  },
  {
   "cell_type": "code",
   "execution_count": null,
   "metadata": {},
   "outputs": [],
   "source": [
    "qmd.BranchChampions"
   ]
  },
  {
   "cell_type": "code",
   "execution_count": null,
   "metadata": {},
   "outputs": [],
   "source": [
    "test_mtx = [[10, 3], [4,3]]"
   ]
  },
  {
   "cell_type": "code",
   "execution_count": null,
   "metadata": {},
   "outputs": [],
   "source": [
    "v.hinton(test_mtx, grid=True , skip_diagonal=False, max_value=4)"
   ]
  },
  {
   "cell_type": "code",
   "execution_count": null,
   "metadata": {},
   "outputs": [],
   "source": [
    "list(qmd.BranchChampions.values())"
   ]
  },
  {
   "cell_type": "code",
   "execution_count": null,
   "metadata": {},
   "outputs": [],
   "source": [
    "mod=qmd.reducedModelInstanceFromID(0)"
   ]
  },
  {
   "cell_type": "code",
   "execution_count": null,
   "metadata": {},
   "outputs": [],
   "source": [
    "mod.VolumeList"
   ]
  },
  {
   "cell_type": "code",
   "execution_count": null,
   "metadata": {},
   "outputs": [],
   "source": [
    "all_bayes_factors = {}\n",
    "for i in range(qmd.HighestModelID):\n",
    "    all_bayes_factors[i] = qmd.reducedModelInstanceFromID(i).BayesFactors\n",
    "    \n",
    "    "
   ]
  },
  {
   "cell_type": "code",
   "execution_count": null,
   "metadata": {},
   "outputs": [],
   "source": [
    "for k in sorted(bayes_factors_db.keys()):\n",
    "    print(k, \"\\t\", bayes_factors_db.get(k))"
   ]
  },
  {
   "cell_type": "code",
   "execution_count": null,
   "metadata": {},
   "outputs": [],
   "source": [
    "float(bayes_factors_db.get('10,11'))"
   ]
  },
  {
   "cell_type": "code",
   "execution_count": null,
   "metadata": {},
   "outputs": [],
   "source": [
    "1e4"
   ]
  },
  {
   "cell_type": "code",
   "execution_count": null,
   "metadata": {},
   "outputs": [],
   "source": [
    "t=30000\n",
    "np=3000\n",
    "ne=350\n",
    "nb=70"
   ]
  },
  {
   "cell_type": "code",
   "execution_count": null,
   "metadata": {},
   "outputs": [],
   "source": [
    "t/(np * ne + np*nb)"
   ]
  },
  {
   "cell_type": "code",
   "execution_count": null,
   "metadata": {},
   "outputs": [],
   "source": [
    "DataBase.alph(qmd.ChampionName)==DataBase.alph(qmd.TrueOpName)"
   ]
  },
  {
   "cell_type": "code",
   "execution_count": null,
   "metadata": {},
   "outputs": [],
   "source": [
    "qmd.TrueOpName"
   ]
  },
  {
   "cell_type": "code",
   "execution_count": null,
   "metadata": {},
   "outputs": [],
   "source": [
    "qmd."
   ]
  },
  {
   "cell_type": "code",
   "execution_count": null,
   "metadata": {},
   "outputs": [],
   "source": [
    "ModelID=2"
   ]
  },
  {
   "cell_type": "code",
   "execution_count": null,
   "metadata": {},
   "outputs": [],
   "source": [
    "model_id_float = float(ModelID)\n",
    "model_id_str = str(model_id_float)"
   ]
  },
  {
   "cell_type": "code",
   "execution_count": null,
   "metadata": {},
   "outputs": [],
   "source": [
    "pickled_obj = learned_models_info.get(model_id_str)"
   ]
  },
  {
   "cell_type": "code",
   "execution_count": null,
   "metadata": {},
   "outputs": [],
   "source": [
    "learned_info = pickle.loads(pickled_obj, encoding='latin1')        "
   ]
  },
  {
   "cell_type": "code",
   "execution_count": null,
   "metadata": {},
   "outputs": [],
   "source": [
    "learned_info"
   ]
  },
  {
   "cell_type": "code",
   "execution_count": null,
   "metadata": {},
   "outputs": [],
   "source": [
    "learned_info.keys()"
   ]
  },
  {
   "cell_type": "code",
   "execution_count": null,
   "metadata": {},
   "outputs": [],
   "source": [
    "pickle.loads(learned_info['updater'])"
   ]
  },
  {
   "cell_type": "code",
   "execution_count": null,
   "metadata": {},
   "outputs": [],
   "source": [
    "mystring=learned_models_info.get(model_id_str)"
   ]
  },
  {
   "cell_type": "code",
   "execution_count": null,
   "metadata": {},
   "outputs": [],
   "source": [
    "pickle.loads(mystring)"
   ]
  },
  {
   "cell_type": "code",
   "execution_count": null,
   "metadata": {},
   "outputs": [],
   "source": [
    "model_id_str"
   ]
  },
  {
   "cell_type": "code",
   "execution_count": null,
   "metadata": {},
   "outputs": [],
   "source": [
    "learned_models_ids.keys()"
   ]
  },
  {
   "cell_type": "code",
   "execution_count": null,
   "metadata": {},
   "outputs": [],
   "source": []
  }
 ],
 "metadata": {
  "anaconda-cloud": {},
  "kernelspec": {
   "display_name": "Python 3",
   "language": "python",
   "name": "python3"
  },
  "language_info": {
   "codemirror_mode": {
    "name": "ipython",
    "version": 3
   },
   "file_extension": ".py",
   "mimetype": "text/x-python",
   "name": "python",
   "nbconvert_exporter": "python",
   "pygments_lexer": "ipython3",
   "version": "3.5.2"
  }
 },
 "nbformat": 4,
 "nbformat_minor": 2
}
