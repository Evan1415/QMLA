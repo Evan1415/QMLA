{
 "cells": [
  {
   "cell_type": "code",
   "execution_count": 1,
   "metadata": {},
   "outputs": [
    {
     "name": "stdout",
     "output_type": "stream",
     "text": [
      "Using host name  localhost\n"
     ]
    }
   ],
   "source": [
    "from __future__ import print_function # so print doesn't show brackets\n",
    "import numpy as np\n",
    "import itertools as itr\n",
    "\n",
    "import os as os\n",
    "import sys as sys \n",
    "import pandas as pd\n",
    "import warnings\n",
    "import time as time\n",
    "import random\n",
    "import pickle\n",
    "pickle.HIGHEST_PROTOCOL = 2\n",
    "sys.path.append(os.path.join(\"..\", \"Libraries\",\"QML_lib\"))\n",
    "from RedisSettings import *\n",
    "import Evo as evo\n",
    "import DataBase \n",
    "from QMD import QMD #  class moved to QMD in Library\n",
    "import QML\n",
    "import ModelGeneration \n",
    "import BayesF\n",
    "import matplotlib.pyplot as plt\n",
    "#from pympler import asizeof\n",
    "import matplotlib.pyplot as plt\n",
    "paulis = ['x', 'y', 'z'] # will be chosen at random. or uncomment below and comment within loop to hard-set\n",
    "\n",
    "import time as time \n",
    "import argparse\n",
    "\n",
    "parser = argparse.ArgumentParser(description='Pass variables for (I)QLE.')\n",
    "\n",
    "import warnings\n",
    "warnings.filterwarnings(\"ignore\")\n"
   ]
  },
  {
   "cell_type": "code",
   "execution_count": 2,
   "metadata": {},
   "outputs": [],
   "source": [
    "qmd=pickle.load(open('qmd_class.p', \"rb\"))"
   ]
  },
  {
   "cell_type": "code",
   "execution_count": 3,
   "metadata": {},
   "outputs": [
    {
     "data": {
      "text/plain": [
       "{0: 'xTi',\n",
       " 1: 'yTi',\n",
       " 2: 'zTi',\n",
       " 3: 'yTiPPxTi',\n",
       " 4: 'yTiPPzTi',\n",
       " 5: 'yTiPPzTiPPxTi',\n",
       " 6: 'yTiPPzTiPPxTiPPxTx',\n",
       " 7: 'yTiPPzTiPPxTiPPyTy',\n",
       " 8: 'yTiPPzTiPPxTiPPzTz',\n",
       " 9: 'yTiPPzTiPPxTiPPyTyPPxTx',\n",
       " 10: 'yTiPPzTiPPxTiPPyTyPPzTz',\n",
       " 11: 'yTiPPzTiPPxTiPPyTyPPzTzPPxTx'}"
      ]
     },
     "execution_count": 3,
     "metadata": {},
     "output_type": "execute_result"
    }
   ],
   "source": [
    "qmd.ModelNameIDs"
   ]
  },
  {
   "cell_type": "code",
   "execution_count": null,
   "metadata": {},
   "outputs": [],
   "source": []
  }
 ],
 "metadata": {
  "anaconda-cloud": {},
  "kernelspec": {
   "display_name": "Python 3",
   "language": "python",
   "name": "python3"
  },
  "language_info": {
   "codemirror_mode": {
    "name": "ipython",
    "version": 3
   },
   "file_extension": ".py",
   "mimetype": "text/x-python",
   "name": "python",
   "nbconvert_exporter": "python",
   "pygments_lexer": "ipython3",
   "version": "3.5.2"
  }
 },
 "nbformat": 4,
 "nbformat_minor": 2
}
