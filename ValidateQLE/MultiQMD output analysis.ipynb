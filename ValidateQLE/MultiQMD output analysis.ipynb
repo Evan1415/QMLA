{
 "cells": [
  {
   "cell_type": "code",
   "execution_count": null,
   "metadata": {},
   "outputs": [],
   "source": [
    "scores = {}"
   ]
  },
  {
   "cell_type": "code",
   "execution_count": null,
   "metadata": {},
   "outputs": [],
   "source": []
  },
  {
   "cell_type": "code",
   "execution_count": null,
   "metadata": {},
   "outputs": [],
   "source": [
    "from os import listdir\n",
    "import sys, os\n",
    "from os.path import isfile, join\n"
   ]
  },
  {
   "cell_type": "code",
   "execution_count": null,
   "metadata": {},
   "outputs": [],
   "source": [
    "onlyfiles"
   ]
  },
  {
   "cell_type": "code",
   "execution_count": null,
   "metadata": {},
   "outputs": [],
   "source": [
    "mypath = '../ExperimentalSimulations/Results/09_Apr_18/14_3'\n",
    "sys.path.append(mypath)\n",
    "onlyfiles = [f for f in listdir(mypath) if isfile(join(mypath, f))]"
   ]
  },
  {
   "cell_type": "code",
   "execution_count": null,
   "metadata": {},
   "outputs": [],
   "source": [
    "sys.path"
   ]
  },
  {
   "cell_type": "code",
   "execution_count": null,
   "metadata": {},
   "outputs": [],
   "source": [
    "for file in onlyfiles:\n",
    "    print(\"file name :\", file)\n",
    "    fname = '../ExperimentalSimulations/Results/09_Apr_18/14_3/'+str(file)\n",
    "    results = pickle.load(open(fname, 'rb'))\n",
    "    print(results['NameNonAlph'])"
   ]
  },
  {
   "cell_type": "code",
   "execution_count": null,
   "metadata": {},
   "outputs": [],
   "source": [
    "mydir = '../ExperimentalSimulations/Results/09_Apr_18/14_3/'\n",
    "import os\n"
   ]
  },
  {
   "cell_type": "code",
   "execution_count": null,
   "metadata": {},
   "outputs": [],
   "source": [
    "pickled_files"
   ]
  },
  {
   "cell_type": "code",
   "execution_count": null,
   "metadata": {},
   "outputs": [],
   "source": [
    "os.listdir()"
   ]
  },
  {
   "cell_type": "code",
   "execution_count": 9,
   "metadata": {},
   "outputs": [],
   "source": [
    "import sys, os\n",
    "import pickle\n",
    "\n",
    "def process_results_in_dir(mydir):\n",
    "    sys.path.append(mydir)\n",
    "    scores = {}\n",
    "\n",
    "    pickled_files = []\n",
    "    for file in os.listdir(mydir):\n",
    "        if file.endswith(\".p\"):\n",
    "            pickled_files.append(file)\n",
    "    \n",
    "    for f in pickled_files:\n",
    "        fname = mydir+'/'+str(f)\n",
    "        result = pickle.load(open(fname, 'rb'))\n",
    "        alph = result['NameAlphabetical']\n",
    "\n",
    "        if alph in scores.keys():\n",
    "            scores[alph] += 1\n",
    "        else:\n",
    "            scores[alph] = 1\n",
    "    return scores"
   ]
  },
  {
   "cell_type": "code",
   "execution_count": 10,
   "metadata": {},
   "outputs": [
    {
     "name": "stdout",
     "output_type": "stream",
     "text": [
      "/home/bf16951/Dropbox/QML_share_stateofart/QMD/ValidateQLE\n",
      "['results_001.p', 'results_002.p', 'results_003.p']\n"
     ]
    }
   ],
   "source": [
    "a=process_results_in_dir('../ExperimentalSimulations/Results/testAnalysis')"
   ]
  },
  {
   "cell_type": "code",
   "execution_count": 12,
   "metadata": {},
   "outputs": [],
   "source": [
    "scores  =a"
   ]
  },
  {
   "cell_type": "code",
   "execution_count": 15,
   "metadata": {},
   "outputs": [
    {
     "data": {
      "text/plain": [
       "['xTiPPyTiPPyTyPPzTiPPzTz',\n",
       " 'xTiPPxTxPPyTiPPyTxPPyTyPPzTiPPzTz',\n",
       " 'xTiPPxTxPPxTzPPyTiPPyTyPPzTiPPzTz']"
      ]
     },
     "execution_count": 15,
     "metadata": {},
     "output_type": "execute_result"
    }
   ],
   "source": []
  },
  {
   "cell_type": "code",
   "execution_count": 17,
   "metadata": {},
   "outputs": [],
   "source": [
    "k=list(scores.keys())\n",
    "v=list(scores.values())"
   ]
  },
  {
   "cell_type": "code",
   "execution_count": 19,
   "metadata": {},
   "outputs": [],
   "source": [
    "import matplotlib.pyplot as plt\n",
    "%matplotlib inline"
   ]
  },
  {
   "cell_type": "code",
   "execution_count": 22,
   "metadata": {},
   "outputs": [
    {
     "data": {
      "text/plain": [
       "<Container object of 3 artists>"
      ]
     },
     "execution_count": 22,
     "metadata": {},
     "output_type": "execute_result"
    },
    {
     "data": {
      "image/png": "[encoded data removed]",
      "text/plain": [
       "<matplotlib.figure.Figure at 0x7ff33210fb70>"
      ]
     },
     "metadata": {},
     "output_type": "display_data"
    }
   ],
   "source": [
    "plt.clf()\n",
    "plt.title('Number of QMD instances won by models')\n",
    "plt.xlabel('Model')\n",
    "plt.ylabel('Number of wins')\n",
    "plt.bar(k,v)\n"
   ]
  },
  {
   "cell_type": "code",
   "execution_count": null,
   "metadata": {},
   "outputs": [],
   "source": []
  }
 ],
 "metadata": {
  "kernelspec": {
   "display_name": "Python 3",
   "language": "python",
   "name": "python3"
  },
  "language_info": {
   "codemirror_mode": {
    "name": "ipython",
    "version": 3
   },
   "file_extension": ".py",
   "mimetype": "text/x-python",
   "name": "python",
   "nbconvert_exporter": "python",
   "pygments_lexer": "ipython3",
   "version": "3.5.2"
  }
 },
 "nbformat": 4,
 "nbformat_minor": 2
}
