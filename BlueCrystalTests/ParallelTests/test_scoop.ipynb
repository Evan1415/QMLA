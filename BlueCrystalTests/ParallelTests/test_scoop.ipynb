{
 "cells": [
  {
   "cell_type": "code",
   "execution_count": 2,
   "metadata": {},
   "outputs": [
    {
     "name": "stdout",
     "output_type": "stream",
     "text": [
      "[2018-01-17 11:08:50,150] launcher  INFO    SCOOP 0.7 1.1 on linux2 using Python 2.7.12 (default, Nov 20 2017, 18:23:56) [GCC 5.4.0 20160609], API: 1013\n",
      "[2018-01-17 11:08:50,150] launcher  INFO    Deploying 8 worker(s) over 1 host(s).\n",
      "[2018-01-17 11:08:50,150] launcher  INFO    Worker distribution: \n",
      "[2018-01-17 11:08:50,150] launcher  INFO       127.0.0.1:\t7 + origin\n",
      "[2018-01-17 11:08:50,262] __init__  (127.0.0.1:40831) INFO    Launching advertiser...\n",
      "[2018-01-17 11:08:50,263] __init__  (127.0.0.1:40831) INFO    Advertiser launched.\n",
      "^C\n",
      "[2018-01-17 11:08:59,595] launcher  (127.0.0.1:40831) INFO    Finished cleaning spawned subprocesses.\n",
      "Traceback (most recent call last):\n",
      "  File \"/usr/lib/python2.7/runpy.py\", line 174, in _run_module_as_main\n",
      "    \"__main__\", fname, loader, pkg_name)\n",
      "  File \"/usr/lib/python2.7/runpy.py\", line 72, in _run_code\n",
      "    exec code in run_globals\n",
      "  File \"/usr/local/lib/python2.7/dist-packages/scoop/__main__.py\", line 21, in <module>\n",
      "    main()\n",
      "  File \"/usr/local/lib/python2.7/dist-packages/scoop/launcher.py\", line 479, in main\n",
      "    rootTaskExitCode = thisScoopApp.run()\n",
      "  File \"/usr/local/lib/python2.7/dist-packages/scoop/launcher.py\", line 311, in run\n",
      "    self.errors = self.workers[-1].subprocesses[-1].wait()\n",
      "  File \"/usr/lib/python2.7/subprocess.py\", line 1392, in wait\n",
      "    pid, sts = _eintr_retry_call(os.waitpid, self.pid, 0)\n",
      "  File \"/usr/lib/python2.7/subprocess.py\", line 476, in _eintr_retry_call\n",
      "    return func(*args)\n",
      "KeyboardInterrupt\n"
     ]
    }
   ],
   "source": [
    "!python -m scoop -n 8"
   ]
  },
  {
   "cell_type": "code",
   "execution_count": 3,
   "metadata": {},
   "outputs": [
    {
     "name": "stdout",
     "output_type": "stream",
     "text": [
      "Hello World from Future #0\n",
      "Hello World from Future #1\n",
      "Hello World from Future #2\n",
      "Hello World from Future #3\n",
      "Hello World from Future #4\n",
      "Hello World from Future #5\n",
      "Hello World from Future #6\n",
      "Hello World from Future #7\n",
      "Hello World from Future #8\n",
      "Hello World from Future #9\n",
      "Hello World from Future #10\n",
      "Hello World from Future #11\n",
      "Hello World from Future #12\n",
      "Hello World from Future #13\n",
      "Hello World from Future #14\n",
      "Hello World from Future #15\n"
     ]
    }
   ],
   "source": [
    "from __future__ import print_function\n",
    "from scoop import futures\n",
    "\n",
    "def helloWorld(value):\n",
    "    return \"Hello World from Future #{0}\".format(value)\n",
    "\n",
    "if __name__ == \"__main__\":\n",
    "    returnValues = list(futures.map(helloWorld, range(16)))\n",
    "    print(\"\\n\".join(returnValues))"
   ]
  },
  {
   "cell_type": "code",
   "execution_count": null,
   "metadata": {},
   "outputs": [],
   "source": []
  }
 ],
 "metadata": {
  "kernelspec": {
   "display_name": "Python 3",
   "language": "python",
   "name": "python3"
  },
  "language_info": {
   "codemirror_mode": {
    "name": "ipython",
    "version": 2
   },
   "file_extension": ".py",
   "mimetype": "text/x-python",
   "name": "python",
   "nbconvert_exporter": "python",
   "pygments_lexer": "ipython2",
   "version": "2.7.12"
  }
 },
 "nbformat": 4,
 "nbformat_minor": 2
}
