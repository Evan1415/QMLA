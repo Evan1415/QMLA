{
 "cells": [
  {
   "cell_type": "code",
   "execution_count": 1,
   "metadata": {},
   "outputs": [],
   "source": [
    "import ipyparallel as ipp"
   ]
  },
  {
   "cell_type": "code",
   "execution_count": 2,
   "metadata": {},
   "outputs": [],
   "source": [
    "c=ipp.Client(profile='QMD')"
   ]
  },
  {
   "cell_type": "code",
   "execution_count": 3,
   "metadata": {},
   "outputs": [
    {
     "data": {
      "text/plain": [
       "[0, 1, 2, 3]"
      ]
     },
     "execution_count": 3,
     "metadata": {},
     "output_type": "execute_result"
    }
   ],
   "source": [
    "c.ids"
   ]
  },
  {
   "cell_type": "code",
   "execution_count": 4,
   "metadata": {},
   "outputs": [
    {
     "name": "stdout",
     "output_type": "stream",
     "text": [
      "['Hello, World', 'Hello, World', 'Hello, World', 'Hello, World']\n"
     ]
    }
   ],
   "source": [
    "print(c[:].apply_sync(lambda : \"Hello, World\"))"
   ]
  },
  {
   "cell_type": "code",
   "execution_count": 5,
   "metadata": {},
   "outputs": [],
   "source": [
    "a0 = c[0]\n",
    "a1 = c[1]\n",
    "a2 = c[2]\n",
    "a3 = c[3]"
   ]
  },
  {
   "cell_type": "code",
   "execution_count": 6,
   "metadata": {},
   "outputs": [],
   "source": [
    "dview = c[:]"
   ]
  },
  {
   "cell_type": "code",
   "execution_count": 7,
   "metadata": {},
   "outputs": [
    {
     "data": {
      "text/plain": [
       "['test', 'test', 'test', 'test']"
      ]
     },
     "execution_count": 7,
     "metadata": {},
     "output_type": "execute_result"
    }
   ],
   "source": [
    "dview.apply_sync(lambda: \"test\")"
   ]
  },
  {
   "cell_type": "code",
   "execution_count": 8,
   "metadata": {},
   "outputs": [
    {
     "data": {
      "text/plain": [
       "[0,\n",
       " 1,\n",
       " 1024,\n",
       " 59049,\n",
       " 1048576,\n",
       " 9765625,\n",
       " 60466176,\n",
       " 282475249,\n",
       " 1073741824,\n",
       " 3486784401,\n",
       " 10000000000,\n",
       " 25937424601,\n",
       " 61917364224,\n",
       " 137858491849,\n",
       " 289254654976,\n",
       " 576650390625,\n",
       " 1099511627776,\n",
       " 2015993900449,\n",
       " 3570467226624,\n",
       " 6131066257801,\n",
       " 10240000000000,\n",
       " 16679880978201,\n",
       " 26559922791424,\n",
       " 41426511213649,\n",
       " 63403380965376,\n",
       " 95367431640625,\n",
       " 141167095653376,\n",
       " 205891132094649,\n",
       " 296196766695424,\n",
       " 420707233300201,\n",
       " 590490000000000,\n",
       " 819628286980801]"
      ]
     },
     "execution_count": 8,
     "metadata": {},
     "output_type": "execute_result"
    }
   ],
   "source": [
    "list(map(lambda x:x**10, range(32)))"
   ]
  },
  {
   "cell_type": "code",
   "execution_count": 9,
   "metadata": {},
   "outputs": [
    {
     "name": "stdout",
     "output_type": "stream",
     "text": [
      "got unknown result: 31a8dbb9-cb677f9dc6d572ada3059efa\n",
      "got unknown result: 98a2dd25-6d8f91c36998d46ff1471dde\n"
     ]
    },
    {
     "data": {
      "text/plain": [
       "[0,\n",
       " 1,\n",
       " 1024,\n",
       " 59049,\n",
       " 1048576,\n",
       " 9765625,\n",
       " 60466176,\n",
       " 282475249,\n",
       " 1073741824,\n",
       " 3486784401,\n",
       " 10000000000,\n",
       " 25937424601,\n",
       " 61917364224,\n",
       " 137858491849,\n",
       " 289254654976,\n",
       " 576650390625,\n",
       " 1099511627776,\n",
       " 2015993900449,\n",
       " 3570467226624,\n",
       " 6131066257801,\n",
       " 10240000000000,\n",
       " 16679880978201,\n",
       " 26559922791424,\n",
       " 41426511213649,\n",
       " 63403380965376,\n",
       " 95367431640625,\n",
       " 141167095653376,\n",
       " 205891132094649,\n",
       " 296196766695424,\n",
       " 420707233300201,\n",
       " 590490000000000,\n",
       " 819628286980801]"
      ]
     },
     "execution_count": 9,
     "metadata": {},
     "output_type": "execute_result"
    }
   ],
   "source": [
    "dview.map_sync(lambda x: x**10, range(32))\n"
   ]
  },
  {
   "cell_type": "code",
   "execution_count": 23,
   "metadata": {},
   "outputs": [],
   "source": [
    "a3['test_a']=40"
   ]
  },
  {
   "cell_type": "code",
   "execution_count": 34,
   "metadata": {},
   "outputs": [],
   "source": [
    "\n",
    "res=dview.apply(lambda x:test_a*x, 2)"
   ]
  },
  {
   "cell_type": "code",
   "execution_count": 36,
   "metadata": {},
   "outputs": [
    {
     "data": {
      "text/plain": [
       "<enumerate at 0x7fd2b7b49480>"
      ]
     },
     "execution_count": 36,
     "metadata": {},
     "output_type": "execute_result"
    }
   ],
   "source": [
    "enumerate(res)"
   ]
  },
  {
   "cell_type": "code",
   "execution_count": 38,
   "metadata": {},
   "outputs": [
    {
     "data": {
      "text/plain": [
       "10"
      ]
     },
     "execution_count": 38,
     "metadata": {},
     "output_type": "execute_result"
    }
   ],
   "source": [
    "a1['test_a']"
   ]
  },
  {
   "cell_type": "code",
   "execution_count": 40,
   "metadata": {},
   "outputs": [
    {
     "data": {
      "text/plain": [
       "[10, 10, 30, 40]"
      ]
     },
     "execution_count": 40,
     "metadata": {},
     "output_type": "execute_result"
    }
   ],
   "source": [
    "dview.gather('test_a').get()"
   ]
  },
  {
   "cell_type": "code",
   "execution_count": 42,
   "metadata": {},
   "outputs": [],
   "source": [
    "def get_pid():\n",
    "    import os \n",
    "    return os.getpid()"
   ]
  },
  {
   "cell_type": "code",
   "execution_count": 43,
   "metadata": {},
   "outputs": [
    {
     "ename": "AttributeError",
     "evalue": "'DirectView' object has no attribute 'get_pid'",
     "output_type": "error",
     "traceback": [
      "\u001b[0;31m---------------------------------------------------------------------------\u001b[0m",
      "\u001b[0;31mAttributeError\u001b[0m                            Traceback (most recent call last)",
      "\u001b[0;32m<ipython-input-43-2cbb6b993387>\u001b[0m in \u001b[0;36m<module>\u001b[0;34m()\u001b[0m\n\u001b[0;32m----> 1\u001b[0;31m \u001b[0mdview\u001b[0m\u001b[0;34m.\u001b[0m\u001b[0mget_pid\u001b[0m\u001b[0;34m(\u001b[0m\u001b[0;34m)\u001b[0m\u001b[0;34m\u001b[0m\u001b[0m\n\u001b[0m",
      "\u001b[0;31mAttributeError\u001b[0m: 'DirectView' object has no attribute 'get_pid'"
     ]
    }
   ],
   "source": [
    "dview.get_pid()"
   ]
  },
  {
   "cell_type": "code",
   "execution_count": null,
   "metadata": {},
   "outputs": [],
   "source": []
  }
 ],
 "metadata": {
  "kernelspec": {
   "display_name": "Python 3",
   "language": "python",
   "name": "python3"
  },
  "language_info": {
   "codemirror_mode": {
    "name": "ipython",
    "version": 3
   },
   "file_extension": ".py",
   "mimetype": "text/x-python",
   "name": "python",
   "nbconvert_exporter": "python",
   "pygments_lexer": "ipython3",
   "version": "3.5.2"
  }
 },
 "nbformat": 4,
 "nbformat_minor": 2
}
