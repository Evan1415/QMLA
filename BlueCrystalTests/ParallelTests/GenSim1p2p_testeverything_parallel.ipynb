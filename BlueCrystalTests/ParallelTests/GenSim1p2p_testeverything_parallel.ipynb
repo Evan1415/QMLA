{
 "cells": [
  {
   "cell_type": "markdown",
   "metadata": {},
   "source": [
    "\n",
    "## Testing the \"ipyparallel\"\n",
    "parallelization library\n",
    "\n",
    "### Test result: FAILED\n",
    "both high-level (i.e. instance parallelization) as well as low-level (i.e. at likelihood stage) do not appear to work in this implementation.\n",
    "Only exception the SimplePrecession model, which also does not appear to always work\n",
    "\n",
    "### Possible improvements:\n",
    "\n",
    "..."
   ]
  },
  {
   "cell_type": "code",
   "execution_count": 1,
   "metadata": {},
   "outputs": [],
   "source": [
    "%matplotlib inline\n",
    "\n",
    "import qinfer as qi\n",
    "#import qutip as qt\n",
    "import numpy as np\n",
    "import scipy as sp\n",
    "from IPython.display import display, Math, Latex\n",
    "from functools import partial\n",
    "import matplotlib.pyplot as plt\n",
    "import importlib as imp\n",
    "\n",
    "import ipyparallel as ipp"
   ]
  },
  {
   "cell_type": "code",
   "execution_count": 2,
   "metadata": {},
   "outputs": [],
   "source": [
    "import datetime\n",
    "import sys, os\n",
    "import time as time"
   ]
  },
  {
   "cell_type": "code",
   "execution_count": 3,
   "metadata": {},
   "outputs": [
    {
     "name": "stderr",
     "output_type": "stream",
     "text": [
      "ERROR:root:File `u'../LoggingCode.py'` not found.\n"
     ]
    }
   ],
   "source": [
    "import logging as logging\n",
    "import sys\n",
    "\n",
    "%run ../LoggingCode.py"
   ]
  },
  {
   "cell_type": "code",
   "execution_count": 4,
   "metadata": {},
   "outputs": [],
   "source": [
    "# Add personalized library to PYTHONPATH\n",
    "sys.path.append(os.path.join(\"..\", \"..\",\"Libraries\",\"QML_lib\"))"
   ]
  },
  {
   "cell_type": "code",
   "execution_count": 5,
   "metadata": {},
   "outputs": [],
   "source": [
    "from Norms import *\n",
    "from IOfuncts import *\n",
    "from EvalLoss import *\n",
    "\n",
    "import ProbeStates as pros\n",
    "import multiPGH as mpgh\n",
    "import GenSim_IQLE as gsi\n",
    "import Evo as evo"
   ]
  },
  {
   "cell_type": "markdown",
   "metadata": {},
   "source": [
    "# Parallelize under n cores"
   ]
  },
  {
   "cell_type": "code",
   "execution_count": 6,
   "metadata": {},
   "outputs": [],
   "source": [
    "c = ipp.Client()"
   ]
  },
  {
   "cell_type": "code",
   "execution_count": 7,
   "metadata": {},
   "outputs": [
    {
     "name": "stdout",
     "output_type": "stream",
     "text": [
      "I have found: 4 cores\n"
     ]
    }
   ],
   "source": [
    "dview = c[:]#.use_cloudpickle()\n",
    "\"\"\"could be replaced with:\"\"\"\n",
    "#c[:].use_dill()\n",
    "#c[:].use_cloudpickle()\n",
    "\n",
    "print('I have found: '+repr(len(c.ids))+ ' cores')"
   ]
  },
  {
   "cell_type": "code",
   "execution_count": 8,
   "metadata": {},
   "outputs": [],
   "source": [
    "\"\"\"We do invoke here parallelization at perf_test_multi stage\"\"\"\n",
    "lbview = c.load_balanced_view()\n"
   ]
  },
  {
   "cell_type": "code",
   "execution_count": 9,
   "metadata": {},
   "outputs": [
    {
     "data": {
      "text/plain": [
       "<LoadBalancedView None>"
      ]
     },
     "execution_count": 9,
     "metadata": {},
     "output_type": "execute_result"
    }
   ],
   "source": []
  },
  {
   "cell_type": "markdown",
   "metadata": {},
   "source": [
    "# Results from Parallelized step-by-step running\n",
    "\n",
    "### parallelization at likelihood stage\n",
    "\n",
    "using different job-wrapping methods for the clients fails at different stages.\n",
    "cloudpickle and dill appear not to fully solve the issue"
   ]
  },
  {
   "cell_type": "code",
   "execution_count": 10,
   "metadata": {},
   "outputs": [
    {
     "ename": "AttributeError",
     "evalue": "'module' object has no attribute 'reload'",
     "output_type": "error",
     "traceback": [
      "\u001b[0;31m---------------------------------------------------------------------------\u001b[0m",
      "\u001b[0;31mAttributeError\u001b[0m                            Traceback (most recent call last)",
      "\u001b[0;32m<ipython-input-10-c8f8cf25bd75>\u001b[0m in \u001b[0;36m<module>\u001b[0;34m()\u001b[0m\n\u001b[0;32m----> 1\u001b[0;31m \u001b[0mimp\u001b[0m\u001b[0;34m.\u001b[0m\u001b[0mreload\u001b[0m\u001b[0;34m(\u001b[0m\u001b[0mpros\u001b[0m\u001b[0;34m)\u001b[0m\u001b[0;34m\u001b[0m\u001b[0m\n\u001b[0m\u001b[1;32m      2\u001b[0m \u001b[0mimp\u001b[0m\u001b[0;34m.\u001b[0m\u001b[0mreload\u001b[0m\u001b[0;34m(\u001b[0m\u001b[0mmpgh\u001b[0m\u001b[0;34m)\u001b[0m\u001b[0;34m\u001b[0m\u001b[0m\n\u001b[1;32m      3\u001b[0m \u001b[0mimp\u001b[0m\u001b[0;34m.\u001b[0m\u001b[0mreload\u001b[0m\u001b[0;34m(\u001b[0m\u001b[0mgsi\u001b[0m\u001b[0;34m)\u001b[0m\u001b[0;34m\u001b[0m\u001b[0m\n\u001b[1;32m      4\u001b[0m \u001b[0mimp\u001b[0m\u001b[0;34m.\u001b[0m\u001b[0mreload\u001b[0m\u001b[0;34m(\u001b[0m\u001b[0mevo\u001b[0m\u001b[0;34m)\u001b[0m\u001b[0;34m\u001b[0m\u001b[0m\n",
      "\u001b[0;31mAttributeError\u001b[0m: 'module' object has no attribute 'reload'"
     ]
    }
   ],
   "source": [
    "imp.reload(pros)\n",
    "imp.reload(mpgh)\n",
    "imp.reload(gsi)\n",
    "imp.reload(evo)"
   ]
  },
  {
   "cell_type": "code",
   "execution_count": 11,
   "metadata": {},
   "outputs": [
    {
     "name": "stdout",
     "output_type": "stream",
     "text": [
      "Oplist: array([[[ 0.+0.j,  0.-1.j],\n",
      "        [ 0.+1.j,  0.+0.j]],\n",
      "\n",
      "       [[ 0.+0.j,  1.+0.j],\n",
      "        [ 1.+0.j,  0.+0.j]]])\n",
      "Chosen true_params: [[ 0.3  0.6]]\n",
      "Chosen probestate: [ 0.9472136+0.2236068j  0.0527864-0.2236068j]\n",
      "Inversion fields are: ['w_1', 'w_2']\n",
      "Heuristic output:array([( 1.4951837,  0.43019117,  0.16520113)],\n",
      "      dtype=[('t', '<f8'), ('w_1', '<f8'), ('w_2', '<f8')])\n",
      "\n",
      "Initialization Ready\n"
     ]
    }
   ],
   "source": [
    "probecounter = 0\n",
    "\n",
    "oplist=np.array([evo.sigmay(), evo.sigmax()])\n",
    "#oplist=np.array([evo.sigmaz()])\n",
    "oplist=np.dot(1.0, oplist)\n",
    "print('Oplist: ' + repr(oplist))\n",
    "\n",
    "true_params = np.array([[0.3, 0.6]])\n",
    "#true_params = np.array([[0.7]])\n",
    "print('Chosen true_params: ' + str(true_params))\n",
    "\n",
    "#Listing eigenvectors\n",
    "# eiglist = pros.list_randomeig(oplist)\n",
    "# eiglist = np.append(eiglist, np.array([1, 0]))\n",
    "# eiglist = np.reshape(eiglist, [len(oplist)+1,2])\n",
    "# print('Chosen probestates: ' + repr(eiglist))\n",
    "\n",
    "#eiglist=sp.absolute(sp.linalg.orth(oplist[0]))\n",
    "#print('Chosen probestates: ' + repr(eiglist))\n",
    "\n",
    "# newprobe = list(map(lambda wgts_list: np.sum(wgts_list*eiglist, axis=0), wgts_list))\n",
    "# newprobe\n",
    "\n",
    "probestate=pros.choose_probe(oplist,true_params)\n",
    "print('Chosen probestate: ' + str(probestate))\n",
    "\n",
    "sigw = 0.3\n",
    "siga = 0.3\n",
    "\n",
    "prior = qi.MultivariateNormalDistribution(\n",
    "     [true_params[0, 0] + sigw/3, true_params[0, 1]-siga/3], [[sigw **2, 0], [0, siga **2]])\n",
    "# prior = qi.UniformDistribution([0., 1])\n",
    "\n",
    "\n",
    "model = gsi.GenSim_IQLE(oplist=oplist, modelparams=true_params, probecounter = 0, probelist= [probestate], solver='scipy', trotter=True)\n",
    "\n",
    "\n",
    "par_model = qi.DirectViewParallelizedModel(model, dview )\n",
    "#print('I have found: '+repr(model.n_engines)+ ' cores')\n",
    "\n",
    "n_particles = 300\n",
    "n_experiments = 100\n",
    "\n",
    "updater = qi.SMCUpdater(par_model, n_particles, prior, resample_thresh=0.5, resampler = qi.LiuWestResampler(a=0.95), debug_resampling=False)\n",
    "\n",
    "inv_field = [item[0] for item in model.expparams_dtype[1:] ]\n",
    "print('Inversion fields are: ' + str(inv_field))\n",
    "heuristic = mpgh.multiPGH(updater, oplist, inv_field=inv_field)\n",
    "print('Heuristic output:' + repr(heuristic()))\n",
    "\n",
    "expparams = np.empty((1, ), dtype=model.expparams_dtype)\n",
    "\n",
    "print('\\nInitialization Ready')"
   ]
  },
  {
   "cell_type": "code",
   "execution_count": 12,
   "metadata": {},
   "outputs": [
    {
     "name": "stdout",
     "output_type": "stream",
     "text": [
      "array([( 1.01964351, -0.09978762,  0.73616495)],\n",
      "      dtype=[('t', '<f8'), ('w_1', '<f8'), ('w_2', '<f8')])\n",
      "evo has shape :  (1, 1)\n",
      "Evo has shape :  (1, 1)\n",
      "modpar has shape :  (1, 2)\n",
      "modpar sampling :  [[ 0.3  0.6]]\n",
      "Pr0 = [[ 0.85696628]]\n",
      "likelihoods: [[[ 0.85696628]]\n",
      "\n",
      " [[ 0.14303372]]]\n",
      "1\n"
     ]
    },
    {
     "ename": "CompositeError",
     "evalue": "one or more exceptions from call to method: serial_likelihood\n[0:apply]: UnicodeDecodeError: 'ascii' codec can't decode byte 0x83 in position 15: ordinal not in range(128)\n[1:apply]: UnicodeDecodeError: 'ascii' codec can't decode byte 0x83 in position 15: ordinal not in range(128)\n[2:apply]: UnicodeDecodeError: 'ascii' codec can't decode byte 0x83 in position 15: ordinal not in range(128)\n[3:apply]: UnicodeDecodeError: 'ascii' codec can't decode byte 0x83 in position 15: ordinal not in range(128)",
     "output_type": "error",
     "traceback": [
      "[0:apply]: ",
      "\u001b[0;31m---------------------------------------------------------------------------\u001b[0m\u001b[0;31mUnicodeDecodeError\u001b[0m                        Traceback (most recent call last)\u001b[0;32m~/.local/lib/python3.5/site-packages/ipyparallel/serialize/serialize.py\u001b[0m in \u001b[0;36munpack_apply_message\u001b[0;34m(bufs, g, copy)\u001b[0m",
      "\u001b[1;32m    192\u001b[0m     \u001b[0margs\u001b[0m \u001b[0;34m=\u001b[0m \u001b[0;34m[\u001b[0m\u001b[0;34m]\u001b[0m\u001b[0;34m\u001b[0m\u001b[0m",
      "\u001b[1;32m    193\u001b[0m     \u001b[0;32mfor\u001b[0m \u001b[0mi\u001b[0m \u001b[0;32min\u001b[0m \u001b[0mrange\u001b[0m\u001b[0;34m(\u001b[0m\u001b[0minfo\u001b[0m\u001b[0;34m[\u001b[0m\u001b[0;34m'nargs'\u001b[0m\u001b[0;34m]\u001b[0m\u001b[0;34m)\u001b[0m\u001b[0;34m:\u001b[0m\u001b[0;34m\u001b[0m\u001b[0m",
      "\u001b[0;32m--> 194\u001b[0;31m         \u001b[0marg\u001b[0m\u001b[0;34m,\u001b[0m \u001b[0marg_bufs\u001b[0m \u001b[0;34m=\u001b[0m \u001b[0mdeserialize_object\u001b[0m\u001b[0;34m(\u001b[0m\u001b[0marg_bufs\u001b[0m\u001b[0;34m,\u001b[0m \u001b[0mg\u001b[0m\u001b[0;34m)\u001b[0m\u001b[0;34m\u001b[0m\u001b[0m",
      "\u001b[0m\u001b[1;32m    195\u001b[0m         \u001b[0margs\u001b[0m\u001b[0;34m.\u001b[0m\u001b[0mappend\u001b[0m\u001b[0;34m(\u001b[0m\u001b[0marg\u001b[0m\u001b[0;34m)\u001b[0m\u001b[0;34m\u001b[0m\u001b[0m",
      "\u001b[1;32m    196\u001b[0m     \u001b[0margs\u001b[0m \u001b[0;34m=\u001b[0m \u001b[0mtuple\u001b[0m\u001b[0;34m(\u001b[0m\u001b[0margs\u001b[0m\u001b[0;34m)\u001b[0m\u001b[0;34m\u001b[0m\u001b[0m",
      "\u001b[0;32m~/.local/lib/python3.5/site-packages/ipyparallel/serialize/serialize.py\u001b[0m in \u001b[0;36mdeserialize_object\u001b[0;34m(buffers, g)\u001b[0m",
      "\u001b[1;32m    130\u001b[0m     \u001b[0mbufs\u001b[0m \u001b[0;34m=\u001b[0m \u001b[0mlist\u001b[0m\u001b[0;34m(\u001b[0m\u001b[0mbuffers\u001b[0m\u001b[0;34m)\u001b[0m\u001b[0;34m\u001b[0m\u001b[0m",
      "\u001b[1;32m    131\u001b[0m     \u001b[0mpobj\u001b[0m \u001b[0;34m=\u001b[0m \u001b[0mbuffer_to_bytes_py2\u001b[0m\u001b[0;34m(\u001b[0m\u001b[0mbufs\u001b[0m\u001b[0;34m.\u001b[0m\u001b[0mpop\u001b[0m\u001b[0;34m(\u001b[0m\u001b[0;36m0\u001b[0m\u001b[0;34m)\u001b[0m\u001b[0;34m)\u001b[0m\u001b[0;34m\u001b[0m\u001b[0m",
      "\u001b[0;32m--> 132\u001b[0;31m     \u001b[0mcanned\u001b[0m \u001b[0;34m=\u001b[0m \u001b[0mpickle\u001b[0m\u001b[0;34m.\u001b[0m\u001b[0mloads\u001b[0m\u001b[0;34m(\u001b[0m\u001b[0mpobj\u001b[0m\u001b[0;34m)\u001b[0m\u001b[0;34m\u001b[0m\u001b[0m",
      "\u001b[0m\u001b[1;32m    133\u001b[0m     \u001b[0;32mif\u001b[0m \u001b[0mistype\u001b[0m\u001b[0;34m(\u001b[0m\u001b[0mcanned\u001b[0m\u001b[0;34m,\u001b[0m \u001b[0msequence_types\u001b[0m\u001b[0;34m)\u001b[0m \u001b[0;32mand\u001b[0m \u001b[0mlen\u001b[0m\u001b[0;34m(\u001b[0m\u001b[0mcanned\u001b[0m\u001b[0;34m)\u001b[0m \u001b[0;34m<\u001b[0m \u001b[0mMAX_ITEMS\u001b[0m\u001b[0;34m:\u001b[0m\u001b[0;34m\u001b[0m\u001b[0m",
      "\u001b[1;32m    134\u001b[0m         \u001b[0;32mfor\u001b[0m \u001b[0mc\u001b[0m \u001b[0;32min\u001b[0m \u001b[0mcanned\u001b[0m\u001b[0;34m:\u001b[0m\u001b[0;34m\u001b[0m\u001b[0m",
      "\u001b[0;31mUnicodeDecodeError\u001b[0m: 'ascii' codec can't decode byte 0x83 in position 15: ordinal not in range(128)",
      "",
      "[1:apply]: ",
      "\u001b[0;31m---------------------------------------------------------------------------\u001b[0m\u001b[0;31mUnicodeDecodeError\u001b[0m                        Traceback (most recent call last)\u001b[0;32m~/.local/lib/python3.5/site-packages/ipyparallel/serialize/serialize.py\u001b[0m in \u001b[0;36munpack_apply_message\u001b[0;34m(bufs, g, copy)\u001b[0m",
      "\u001b[1;32m    192\u001b[0m     \u001b[0margs\u001b[0m \u001b[0;34m=\u001b[0m \u001b[0;34m[\u001b[0m\u001b[0;34m]\u001b[0m\u001b[0;34m\u001b[0m\u001b[0m",
      "\u001b[1;32m    193\u001b[0m     \u001b[0;32mfor\u001b[0m \u001b[0mi\u001b[0m \u001b[0;32min\u001b[0m \u001b[0mrange\u001b[0m\u001b[0;34m(\u001b[0m\u001b[0minfo\u001b[0m\u001b[0;34m[\u001b[0m\u001b[0;34m'nargs'\u001b[0m\u001b[0;34m]\u001b[0m\u001b[0;34m)\u001b[0m\u001b[0;34m:\u001b[0m\u001b[0;34m\u001b[0m\u001b[0m",
      "\u001b[0;32m--> 194\u001b[0;31m         \u001b[0marg\u001b[0m\u001b[0;34m,\u001b[0m \u001b[0marg_bufs\u001b[0m \u001b[0;34m=\u001b[0m \u001b[0mdeserialize_object\u001b[0m\u001b[0;34m(\u001b[0m\u001b[0marg_bufs\u001b[0m\u001b[0;34m,\u001b[0m \u001b[0mg\u001b[0m\u001b[0;34m)\u001b[0m\u001b[0;34m\u001b[0m\u001b[0m",
      "\u001b[0m\u001b[1;32m    195\u001b[0m         \u001b[0margs\u001b[0m\u001b[0;34m.\u001b[0m\u001b[0mappend\u001b[0m\u001b[0;34m(\u001b[0m\u001b[0marg\u001b[0m\u001b[0;34m)\u001b[0m\u001b[0;34m\u001b[0m\u001b[0m",
      "\u001b[1;32m    196\u001b[0m     \u001b[0margs\u001b[0m \u001b[0;34m=\u001b[0m \u001b[0mtuple\u001b[0m\u001b[0;34m(\u001b[0m\u001b[0margs\u001b[0m\u001b[0;34m)\u001b[0m\u001b[0;34m\u001b[0m\u001b[0m",
      "\u001b[0;32m~/.local/lib/python3.5/site-packages/ipyparallel/serialize/serialize.py\u001b[0m in \u001b[0;36mdeserialize_object\u001b[0;34m(buffers, g)\u001b[0m",
      "\u001b[1;32m    130\u001b[0m     \u001b[0mbufs\u001b[0m \u001b[0;34m=\u001b[0m \u001b[0mlist\u001b[0m\u001b[0;34m(\u001b[0m\u001b[0mbuffers\u001b[0m\u001b[0;34m)\u001b[0m\u001b[0;34m\u001b[0m\u001b[0m",
      "\u001b[1;32m    131\u001b[0m     \u001b[0mpobj\u001b[0m \u001b[0;34m=\u001b[0m \u001b[0mbuffer_to_bytes_py2\u001b[0m\u001b[0;34m(\u001b[0m\u001b[0mbufs\u001b[0m\u001b[0;34m.\u001b[0m\u001b[0mpop\u001b[0m\u001b[0;34m(\u001b[0m\u001b[0;36m0\u001b[0m\u001b[0;34m)\u001b[0m\u001b[0;34m)\u001b[0m\u001b[0;34m\u001b[0m\u001b[0m",
      "\u001b[0;32m--> 132\u001b[0;31m     \u001b[0mcanned\u001b[0m \u001b[0;34m=\u001b[0m \u001b[0mpickle\u001b[0m\u001b[0;34m.\u001b[0m\u001b[0mloads\u001b[0m\u001b[0;34m(\u001b[0m\u001b[0mpobj\u001b[0m\u001b[0;34m)\u001b[0m\u001b[0;34m\u001b[0m\u001b[0m",
      "\u001b[0m\u001b[1;32m    133\u001b[0m     \u001b[0;32mif\u001b[0m \u001b[0mistype\u001b[0m\u001b[0;34m(\u001b[0m\u001b[0mcanned\u001b[0m\u001b[0;34m,\u001b[0m \u001b[0msequence_types\u001b[0m\u001b[0;34m)\u001b[0m \u001b[0;32mand\u001b[0m \u001b[0mlen\u001b[0m\u001b[0;34m(\u001b[0m\u001b[0mcanned\u001b[0m\u001b[0;34m)\u001b[0m \u001b[0;34m<\u001b[0m \u001b[0mMAX_ITEMS\u001b[0m\u001b[0;34m:\u001b[0m\u001b[0;34m\u001b[0m\u001b[0m",
      "\u001b[1;32m    134\u001b[0m         \u001b[0;32mfor\u001b[0m \u001b[0mc\u001b[0m \u001b[0;32min\u001b[0m \u001b[0mcanned\u001b[0m\u001b[0;34m:\u001b[0m\u001b[0;34m\u001b[0m\u001b[0m",
      "\u001b[0;31mUnicodeDecodeError\u001b[0m: 'ascii' codec can't decode byte 0x83 in position 15: ordinal not in range(128)",
      "",
      "[2:apply]: ",
      "\u001b[0;31m---------------------------------------------------------------------------\u001b[0m\u001b[0;31mUnicodeDecodeError\u001b[0m                        Traceback (most recent call last)\u001b[0;32m~/.local/lib/python3.5/site-packages/ipyparallel/serialize/serialize.py\u001b[0m in \u001b[0;36munpack_apply_message\u001b[0;34m(bufs, g, copy)\u001b[0m",
      "\u001b[1;32m    192\u001b[0m     \u001b[0margs\u001b[0m \u001b[0;34m=\u001b[0m \u001b[0;34m[\u001b[0m\u001b[0;34m]\u001b[0m\u001b[0;34m\u001b[0m\u001b[0m",
      "\u001b[1;32m    193\u001b[0m     \u001b[0;32mfor\u001b[0m \u001b[0mi\u001b[0m \u001b[0;32min\u001b[0m \u001b[0mrange\u001b[0m\u001b[0;34m(\u001b[0m\u001b[0minfo\u001b[0m\u001b[0;34m[\u001b[0m\u001b[0;34m'nargs'\u001b[0m\u001b[0;34m]\u001b[0m\u001b[0;34m)\u001b[0m\u001b[0;34m:\u001b[0m\u001b[0;34m\u001b[0m\u001b[0m",
      "\u001b[0;32m--> 194\u001b[0;31m         \u001b[0marg\u001b[0m\u001b[0;34m,\u001b[0m \u001b[0marg_bufs\u001b[0m \u001b[0;34m=\u001b[0m \u001b[0mdeserialize_object\u001b[0m\u001b[0;34m(\u001b[0m\u001b[0marg_bufs\u001b[0m\u001b[0;34m,\u001b[0m \u001b[0mg\u001b[0m\u001b[0;34m)\u001b[0m\u001b[0;34m\u001b[0m\u001b[0m",
      "\u001b[0m\u001b[1;32m    195\u001b[0m         \u001b[0margs\u001b[0m\u001b[0;34m.\u001b[0m\u001b[0mappend\u001b[0m\u001b[0;34m(\u001b[0m\u001b[0marg\u001b[0m\u001b[0;34m)\u001b[0m\u001b[0;34m\u001b[0m\u001b[0m",
      "\u001b[1;32m    196\u001b[0m     \u001b[0margs\u001b[0m \u001b[0;34m=\u001b[0m \u001b[0mtuple\u001b[0m\u001b[0;34m(\u001b[0m\u001b[0margs\u001b[0m\u001b[0;34m)\u001b[0m\u001b[0;34m\u001b[0m\u001b[0m",
      "\u001b[0;32m~/.local/lib/python3.5/site-packages/ipyparallel/serialize/serialize.py\u001b[0m in \u001b[0;36mdeserialize_object\u001b[0;34m(buffers, g)\u001b[0m",
      "\u001b[1;32m    130\u001b[0m     \u001b[0mbufs\u001b[0m \u001b[0;34m=\u001b[0m \u001b[0mlist\u001b[0m\u001b[0;34m(\u001b[0m\u001b[0mbuffers\u001b[0m\u001b[0;34m)\u001b[0m\u001b[0;34m\u001b[0m\u001b[0m",
      "\u001b[1;32m    131\u001b[0m     \u001b[0mpobj\u001b[0m \u001b[0;34m=\u001b[0m \u001b[0mbuffer_to_bytes_py2\u001b[0m\u001b[0;34m(\u001b[0m\u001b[0mbufs\u001b[0m\u001b[0;34m.\u001b[0m\u001b[0mpop\u001b[0m\u001b[0;34m(\u001b[0m\u001b[0;36m0\u001b[0m\u001b[0;34m)\u001b[0m\u001b[0;34m)\u001b[0m\u001b[0;34m\u001b[0m\u001b[0m",
      "\u001b[0;32m--> 132\u001b[0;31m     \u001b[0mcanned\u001b[0m \u001b[0;34m=\u001b[0m \u001b[0mpickle\u001b[0m\u001b[0;34m.\u001b[0m\u001b[0mloads\u001b[0m\u001b[0;34m(\u001b[0m\u001b[0mpobj\u001b[0m\u001b[0;34m)\u001b[0m\u001b[0;34m\u001b[0m\u001b[0m",
      "\u001b[0m\u001b[1;32m    133\u001b[0m     \u001b[0;32mif\u001b[0m \u001b[0mistype\u001b[0m\u001b[0;34m(\u001b[0m\u001b[0mcanned\u001b[0m\u001b[0;34m,\u001b[0m \u001b[0msequence_types\u001b[0m\u001b[0;34m)\u001b[0m \u001b[0;32mand\u001b[0m \u001b[0mlen\u001b[0m\u001b[0;34m(\u001b[0m\u001b[0mcanned\u001b[0m\u001b[0;34m)\u001b[0m \u001b[0;34m<\u001b[0m \u001b[0mMAX_ITEMS\u001b[0m\u001b[0;34m:\u001b[0m\u001b[0;34m\u001b[0m\u001b[0m",
      "\u001b[1;32m    134\u001b[0m         \u001b[0;32mfor\u001b[0m \u001b[0mc\u001b[0m \u001b[0;32min\u001b[0m \u001b[0mcanned\u001b[0m\u001b[0;34m:\u001b[0m\u001b[0;34m\u001b[0m\u001b[0m",
      "\u001b[0;31mUnicodeDecodeError\u001b[0m: 'ascii' codec can't decode byte 0x83 in position 15: ordinal not in range(128)",
      "",
      "[3:apply]: ",
      "\u001b[0;31m---------------------------------------------------------------------------\u001b[0m\u001b[0;31mUnicodeDecodeError\u001b[0m                        Traceback (most recent call last)\u001b[0;32m~/.local/lib/python3.5/site-packages/ipyparallel/serialize/serialize.py\u001b[0m in \u001b[0;36munpack_apply_message\u001b[0;34m(bufs, g, copy)\u001b[0m",
      "\u001b[1;32m    192\u001b[0m     \u001b[0margs\u001b[0m \u001b[0;34m=\u001b[0m \u001b[0;34m[\u001b[0m\u001b[0;34m]\u001b[0m\u001b[0;34m\u001b[0m\u001b[0m",
      "\u001b[1;32m    193\u001b[0m     \u001b[0;32mfor\u001b[0m \u001b[0mi\u001b[0m \u001b[0;32min\u001b[0m \u001b[0mrange\u001b[0m\u001b[0;34m(\u001b[0m\u001b[0minfo\u001b[0m\u001b[0;34m[\u001b[0m\u001b[0;34m'nargs'\u001b[0m\u001b[0;34m]\u001b[0m\u001b[0;34m)\u001b[0m\u001b[0;34m:\u001b[0m\u001b[0;34m\u001b[0m\u001b[0m",
      "\u001b[0;32m--> 194\u001b[0;31m         \u001b[0marg\u001b[0m\u001b[0;34m,\u001b[0m \u001b[0marg_bufs\u001b[0m \u001b[0;34m=\u001b[0m \u001b[0mdeserialize_object\u001b[0m\u001b[0;34m(\u001b[0m\u001b[0marg_bufs\u001b[0m\u001b[0;34m,\u001b[0m \u001b[0mg\u001b[0m\u001b[0;34m)\u001b[0m\u001b[0;34m\u001b[0m\u001b[0m",
      "\u001b[0m\u001b[1;32m    195\u001b[0m         \u001b[0margs\u001b[0m\u001b[0;34m.\u001b[0m\u001b[0mappend\u001b[0m\u001b[0;34m(\u001b[0m\u001b[0marg\u001b[0m\u001b[0;34m)\u001b[0m\u001b[0;34m\u001b[0m\u001b[0m",
      "\u001b[1;32m    196\u001b[0m     \u001b[0margs\u001b[0m \u001b[0;34m=\u001b[0m \u001b[0mtuple\u001b[0m\u001b[0;34m(\u001b[0m\u001b[0margs\u001b[0m\u001b[0;34m)\u001b[0m\u001b[0;34m\u001b[0m\u001b[0m",
      "\u001b[0;32m~/.local/lib/python3.5/site-packages/ipyparallel/serialize/serialize.py\u001b[0m in \u001b[0;36mdeserialize_object\u001b[0;34m(buffers, g)\u001b[0m",
      "\u001b[1;32m    130\u001b[0m     \u001b[0mbufs\u001b[0m \u001b[0;34m=\u001b[0m \u001b[0mlist\u001b[0m\u001b[0;34m(\u001b[0m\u001b[0mbuffers\u001b[0m\u001b[0;34m)\u001b[0m\u001b[0;34m\u001b[0m\u001b[0m",
      "\u001b[1;32m    131\u001b[0m     \u001b[0mpobj\u001b[0m \u001b[0;34m=\u001b[0m \u001b[0mbuffer_to_bytes_py2\u001b[0m\u001b[0;34m(\u001b[0m\u001b[0mbufs\u001b[0m\u001b[0;34m.\u001b[0m\u001b[0mpop\u001b[0m\u001b[0;34m(\u001b[0m\u001b[0;36m0\u001b[0m\u001b[0;34m)\u001b[0m\u001b[0;34m)\u001b[0m\u001b[0;34m\u001b[0m\u001b[0m",
      "\u001b[0;32m--> 132\u001b[0;31m     \u001b[0mcanned\u001b[0m \u001b[0;34m=\u001b[0m \u001b[0mpickle\u001b[0m\u001b[0;34m.\u001b[0m\u001b[0mloads\u001b[0m\u001b[0;34m(\u001b[0m\u001b[0mpobj\u001b[0m\u001b[0;34m)\u001b[0m\u001b[0;34m\u001b[0m\u001b[0m",
      "\u001b[0m\u001b[1;32m    133\u001b[0m     \u001b[0;32mif\u001b[0m \u001b[0mistype\u001b[0m\u001b[0;34m(\u001b[0m\u001b[0mcanned\u001b[0m\u001b[0;34m,\u001b[0m \u001b[0msequence_types\u001b[0m\u001b[0;34m)\u001b[0m \u001b[0;32mand\u001b[0m \u001b[0mlen\u001b[0m\u001b[0;34m(\u001b[0m\u001b[0mcanned\u001b[0m\u001b[0;34m)\u001b[0m \u001b[0;34m<\u001b[0m \u001b[0mMAX_ITEMS\u001b[0m\u001b[0;34m:\u001b[0m\u001b[0;34m\u001b[0m\u001b[0m",
      "\u001b[1;32m    134\u001b[0m         \u001b[0;32mfor\u001b[0m \u001b[0mc\u001b[0m \u001b[0;32min\u001b[0m \u001b[0mcanned\u001b[0m\u001b[0;34m:\u001b[0m\u001b[0;34m\u001b[0m\u001b[0m",
      "\u001b[0;31mUnicodeDecodeError\u001b[0m: 'ascii' codec can't decode byte 0x83 in position 15: ordinal not in range(128)",
      ""
     ]
    }
   ],
   "source": [
    "eps = np.empty((1,), dtype=updater.model.expparams_dtype)\n",
    "\n",
    "experiment = heuristic()\n",
    "print(repr(experiment))\n",
    "\n",
    "datum = par_model.simulate_experiment(true_params, experiment)\n",
    "print(repr(datum))\n",
    "\n",
    "updater.update(datum, experiment)"
   ]
  },
  {
   "cell_type": "code",
   "execution_count": 13,
   "metadata": {},
   "outputs": [
    {
     "name": "stdout",
     "output_type": "stream",
     "text": [
      "evo has shape :  (1, 1)\n",
      "Evo has shape :  (1, 1)\n",
      "modpar has shape :  (1, 2)\n",
      "modpar sampling :  [[ 0.3  0.6]]\n",
      "Pr0 = [[ 0.60685928]]\n",
      "likelihoods: [[[ 0.60685928]]\n",
      "\n",
      " [[ 0.39314072]]]\n"
     ]
    },
    {
     "ename": "CompositeError",
     "evalue": "one or more exceptions from call to method: serial_likelihood\n[0:apply]: UnicodeDecodeError: 'ascii' codec can't decode byte 0x83 in position 15: ordinal not in range(128)\n[1:apply]: UnicodeDecodeError: 'ascii' codec can't decode byte 0x83 in position 15: ordinal not in range(128)\n[2:apply]: UnicodeDecodeError: 'ascii' codec can't decode byte 0x83 in position 15: ordinal not in range(128)\n[3:apply]: UnicodeDecodeError: 'ascii' codec can't decode byte 0x83 in position 15: ordinal not in range(128)",
     "output_type": "error",
     "traceback": [
      "[0:apply]: ",
      "\u001b[0;31m---------------------------------------------------------------------------\u001b[0m\u001b[0;31mUnicodeDecodeError\u001b[0m                        Traceback (most recent call last)\u001b[0;32m~/.local/lib/python3.5/site-packages/ipyparallel/serialize/serialize.py\u001b[0m in \u001b[0;36munpack_apply_message\u001b[0;34m(bufs, g, copy)\u001b[0m",
      "\u001b[1;32m    192\u001b[0m     \u001b[0margs\u001b[0m \u001b[0;34m=\u001b[0m \u001b[0;34m[\u001b[0m\u001b[0;34m]\u001b[0m\u001b[0;34m\u001b[0m\u001b[0m",
      "\u001b[1;32m    193\u001b[0m     \u001b[0;32mfor\u001b[0m \u001b[0mi\u001b[0m \u001b[0;32min\u001b[0m \u001b[0mrange\u001b[0m\u001b[0;34m(\u001b[0m\u001b[0minfo\u001b[0m\u001b[0;34m[\u001b[0m\u001b[0;34m'nargs'\u001b[0m\u001b[0;34m]\u001b[0m\u001b[0;34m)\u001b[0m\u001b[0;34m:\u001b[0m\u001b[0;34m\u001b[0m\u001b[0m",
      "\u001b[0;32m--> 194\u001b[0;31m         \u001b[0marg\u001b[0m\u001b[0;34m,\u001b[0m \u001b[0marg_bufs\u001b[0m \u001b[0;34m=\u001b[0m \u001b[0mdeserialize_object\u001b[0m\u001b[0;34m(\u001b[0m\u001b[0marg_bufs\u001b[0m\u001b[0;34m,\u001b[0m \u001b[0mg\u001b[0m\u001b[0;34m)\u001b[0m\u001b[0;34m\u001b[0m\u001b[0m",
      "\u001b[0m\u001b[1;32m    195\u001b[0m         \u001b[0margs\u001b[0m\u001b[0;34m.\u001b[0m\u001b[0mappend\u001b[0m\u001b[0;34m(\u001b[0m\u001b[0marg\u001b[0m\u001b[0;34m)\u001b[0m\u001b[0;34m\u001b[0m\u001b[0m",
      "\u001b[1;32m    196\u001b[0m     \u001b[0margs\u001b[0m \u001b[0;34m=\u001b[0m \u001b[0mtuple\u001b[0m\u001b[0;34m(\u001b[0m\u001b[0margs\u001b[0m\u001b[0;34m)\u001b[0m\u001b[0;34m\u001b[0m\u001b[0m",
      "\u001b[0;32m~/.local/lib/python3.5/site-packages/ipyparallel/serialize/serialize.py\u001b[0m in \u001b[0;36mdeserialize_object\u001b[0;34m(buffers, g)\u001b[0m",
      "\u001b[1;32m    130\u001b[0m     \u001b[0mbufs\u001b[0m \u001b[0;34m=\u001b[0m \u001b[0mlist\u001b[0m\u001b[0;34m(\u001b[0m\u001b[0mbuffers\u001b[0m\u001b[0;34m)\u001b[0m\u001b[0;34m\u001b[0m\u001b[0m",
      "\u001b[1;32m    131\u001b[0m     \u001b[0mpobj\u001b[0m \u001b[0;34m=\u001b[0m \u001b[0mbuffer_to_bytes_py2\u001b[0m\u001b[0;34m(\u001b[0m\u001b[0mbufs\u001b[0m\u001b[0;34m.\u001b[0m\u001b[0mpop\u001b[0m\u001b[0;34m(\u001b[0m\u001b[0;36m0\u001b[0m\u001b[0;34m)\u001b[0m\u001b[0;34m)\u001b[0m\u001b[0;34m\u001b[0m\u001b[0m",
      "\u001b[0;32m--> 132\u001b[0;31m     \u001b[0mcanned\u001b[0m \u001b[0;34m=\u001b[0m \u001b[0mpickle\u001b[0m\u001b[0;34m.\u001b[0m\u001b[0mloads\u001b[0m\u001b[0;34m(\u001b[0m\u001b[0mpobj\u001b[0m\u001b[0;34m)\u001b[0m\u001b[0;34m\u001b[0m\u001b[0m",
      "\u001b[0m\u001b[1;32m    133\u001b[0m     \u001b[0;32mif\u001b[0m \u001b[0mistype\u001b[0m\u001b[0;34m(\u001b[0m\u001b[0mcanned\u001b[0m\u001b[0;34m,\u001b[0m \u001b[0msequence_types\u001b[0m\u001b[0;34m)\u001b[0m \u001b[0;32mand\u001b[0m \u001b[0mlen\u001b[0m\u001b[0;34m(\u001b[0m\u001b[0mcanned\u001b[0m\u001b[0;34m)\u001b[0m \u001b[0;34m<\u001b[0m \u001b[0mMAX_ITEMS\u001b[0m\u001b[0;34m:\u001b[0m\u001b[0;34m\u001b[0m\u001b[0m",
      "\u001b[1;32m    134\u001b[0m         \u001b[0;32mfor\u001b[0m \u001b[0mc\u001b[0m \u001b[0;32min\u001b[0m \u001b[0mcanned\u001b[0m\u001b[0;34m:\u001b[0m\u001b[0;34m\u001b[0m\u001b[0m",
      "\u001b[0;31mUnicodeDecodeError\u001b[0m: 'ascii' codec can't decode byte 0x83 in position 15: ordinal not in range(128)",
      "",
      "[1:apply]: ",
      "\u001b[0;31m---------------------------------------------------------------------------\u001b[0m\u001b[0;31mUnicodeDecodeError\u001b[0m                        Traceback (most recent call last)\u001b[0;32m~/.local/lib/python3.5/site-packages/ipyparallel/serialize/serialize.py\u001b[0m in \u001b[0;36munpack_apply_message\u001b[0;34m(bufs, g, copy)\u001b[0m",
      "\u001b[1;32m    192\u001b[0m     \u001b[0margs\u001b[0m \u001b[0;34m=\u001b[0m \u001b[0;34m[\u001b[0m\u001b[0;34m]\u001b[0m\u001b[0;34m\u001b[0m\u001b[0m",
      "\u001b[1;32m    193\u001b[0m     \u001b[0;32mfor\u001b[0m \u001b[0mi\u001b[0m \u001b[0;32min\u001b[0m \u001b[0mrange\u001b[0m\u001b[0;34m(\u001b[0m\u001b[0minfo\u001b[0m\u001b[0;34m[\u001b[0m\u001b[0;34m'nargs'\u001b[0m\u001b[0;34m]\u001b[0m\u001b[0;34m)\u001b[0m\u001b[0;34m:\u001b[0m\u001b[0;34m\u001b[0m\u001b[0m",
      "\u001b[0;32m--> 194\u001b[0;31m         \u001b[0marg\u001b[0m\u001b[0;34m,\u001b[0m \u001b[0marg_bufs\u001b[0m \u001b[0;34m=\u001b[0m \u001b[0mdeserialize_object\u001b[0m\u001b[0;34m(\u001b[0m\u001b[0marg_bufs\u001b[0m\u001b[0;34m,\u001b[0m \u001b[0mg\u001b[0m\u001b[0;34m)\u001b[0m\u001b[0;34m\u001b[0m\u001b[0m",
      "\u001b[0m\u001b[1;32m    195\u001b[0m         \u001b[0margs\u001b[0m\u001b[0;34m.\u001b[0m\u001b[0mappend\u001b[0m\u001b[0;34m(\u001b[0m\u001b[0marg\u001b[0m\u001b[0;34m)\u001b[0m\u001b[0;34m\u001b[0m\u001b[0m",
      "\u001b[1;32m    196\u001b[0m     \u001b[0margs\u001b[0m \u001b[0;34m=\u001b[0m \u001b[0mtuple\u001b[0m\u001b[0;34m(\u001b[0m\u001b[0margs\u001b[0m\u001b[0;34m)\u001b[0m\u001b[0;34m\u001b[0m\u001b[0m",
      "\u001b[0;32m~/.local/lib/python3.5/site-packages/ipyparallel/serialize/serialize.py\u001b[0m in \u001b[0;36mdeserialize_object\u001b[0;34m(buffers, g)\u001b[0m",
      "\u001b[1;32m    130\u001b[0m     \u001b[0mbufs\u001b[0m \u001b[0;34m=\u001b[0m \u001b[0mlist\u001b[0m\u001b[0;34m(\u001b[0m\u001b[0mbuffers\u001b[0m\u001b[0;34m)\u001b[0m\u001b[0;34m\u001b[0m\u001b[0m",
      "\u001b[1;32m    131\u001b[0m     \u001b[0mpobj\u001b[0m \u001b[0;34m=\u001b[0m \u001b[0mbuffer_to_bytes_py2\u001b[0m\u001b[0;34m(\u001b[0m\u001b[0mbufs\u001b[0m\u001b[0;34m.\u001b[0m\u001b[0mpop\u001b[0m\u001b[0;34m(\u001b[0m\u001b[0;36m0\u001b[0m\u001b[0;34m)\u001b[0m\u001b[0;34m)\u001b[0m\u001b[0;34m\u001b[0m\u001b[0m",
      "\u001b[0;32m--> 132\u001b[0;31m     \u001b[0mcanned\u001b[0m \u001b[0;34m=\u001b[0m \u001b[0mpickle\u001b[0m\u001b[0;34m.\u001b[0m\u001b[0mloads\u001b[0m\u001b[0;34m(\u001b[0m\u001b[0mpobj\u001b[0m\u001b[0;34m)\u001b[0m\u001b[0;34m\u001b[0m\u001b[0m",
      "\u001b[0m\u001b[1;32m    133\u001b[0m     \u001b[0;32mif\u001b[0m \u001b[0mistype\u001b[0m\u001b[0;34m(\u001b[0m\u001b[0mcanned\u001b[0m\u001b[0;34m,\u001b[0m \u001b[0msequence_types\u001b[0m\u001b[0;34m)\u001b[0m \u001b[0;32mand\u001b[0m \u001b[0mlen\u001b[0m\u001b[0;34m(\u001b[0m\u001b[0mcanned\u001b[0m\u001b[0;34m)\u001b[0m \u001b[0;34m<\u001b[0m \u001b[0mMAX_ITEMS\u001b[0m\u001b[0;34m:\u001b[0m\u001b[0;34m\u001b[0m\u001b[0m",
      "\u001b[1;32m    134\u001b[0m         \u001b[0;32mfor\u001b[0m \u001b[0mc\u001b[0m \u001b[0;32min\u001b[0m \u001b[0mcanned\u001b[0m\u001b[0;34m:\u001b[0m\u001b[0;34m\u001b[0m\u001b[0m",
      "\u001b[0;31mUnicodeDecodeError\u001b[0m: 'ascii' codec can't decode byte 0x83 in position 15: ordinal not in range(128)",
      "",
      "[2:apply]: ",
      "\u001b[0;31m---------------------------------------------------------------------------\u001b[0m\u001b[0;31mUnicodeDecodeError\u001b[0m                        Traceback (most recent call last)\u001b[0;32m~/.local/lib/python3.5/site-packages/ipyparallel/serialize/serialize.py\u001b[0m in \u001b[0;36munpack_apply_message\u001b[0;34m(bufs, g, copy)\u001b[0m",
      "\u001b[1;32m    192\u001b[0m     \u001b[0margs\u001b[0m \u001b[0;34m=\u001b[0m \u001b[0;34m[\u001b[0m\u001b[0;34m]\u001b[0m\u001b[0;34m\u001b[0m\u001b[0m",
      "\u001b[1;32m    193\u001b[0m     \u001b[0;32mfor\u001b[0m \u001b[0mi\u001b[0m \u001b[0;32min\u001b[0m \u001b[0mrange\u001b[0m\u001b[0;34m(\u001b[0m\u001b[0minfo\u001b[0m\u001b[0;34m[\u001b[0m\u001b[0;34m'nargs'\u001b[0m\u001b[0;34m]\u001b[0m\u001b[0;34m)\u001b[0m\u001b[0;34m:\u001b[0m\u001b[0;34m\u001b[0m\u001b[0m",
      "\u001b[0;32m--> 194\u001b[0;31m         \u001b[0marg\u001b[0m\u001b[0;34m,\u001b[0m \u001b[0marg_bufs\u001b[0m \u001b[0;34m=\u001b[0m \u001b[0mdeserialize_object\u001b[0m\u001b[0;34m(\u001b[0m\u001b[0marg_bufs\u001b[0m\u001b[0;34m,\u001b[0m \u001b[0mg\u001b[0m\u001b[0;34m)\u001b[0m\u001b[0;34m\u001b[0m\u001b[0m",
      "\u001b[0m\u001b[1;32m    195\u001b[0m         \u001b[0margs\u001b[0m\u001b[0;34m.\u001b[0m\u001b[0mappend\u001b[0m\u001b[0;34m(\u001b[0m\u001b[0marg\u001b[0m\u001b[0;34m)\u001b[0m\u001b[0;34m\u001b[0m\u001b[0m",
      "\u001b[1;32m    196\u001b[0m     \u001b[0margs\u001b[0m \u001b[0;34m=\u001b[0m \u001b[0mtuple\u001b[0m\u001b[0;34m(\u001b[0m\u001b[0margs\u001b[0m\u001b[0;34m)\u001b[0m\u001b[0;34m\u001b[0m\u001b[0m",
      "\u001b[0;32m~/.local/lib/python3.5/site-packages/ipyparallel/serialize/serialize.py\u001b[0m in \u001b[0;36mdeserialize_object\u001b[0;34m(buffers, g)\u001b[0m",
      "\u001b[1;32m    130\u001b[0m     \u001b[0mbufs\u001b[0m \u001b[0;34m=\u001b[0m \u001b[0mlist\u001b[0m\u001b[0;34m(\u001b[0m\u001b[0mbuffers\u001b[0m\u001b[0;34m)\u001b[0m\u001b[0;34m\u001b[0m\u001b[0m",
      "\u001b[1;32m    131\u001b[0m     \u001b[0mpobj\u001b[0m \u001b[0;34m=\u001b[0m \u001b[0mbuffer_to_bytes_py2\u001b[0m\u001b[0;34m(\u001b[0m\u001b[0mbufs\u001b[0m\u001b[0;34m.\u001b[0m\u001b[0mpop\u001b[0m\u001b[0;34m(\u001b[0m\u001b[0;36m0\u001b[0m\u001b[0;34m)\u001b[0m\u001b[0;34m)\u001b[0m\u001b[0;34m\u001b[0m\u001b[0m",
      "\u001b[0;32m--> 132\u001b[0;31m     \u001b[0mcanned\u001b[0m \u001b[0;34m=\u001b[0m \u001b[0mpickle\u001b[0m\u001b[0;34m.\u001b[0m\u001b[0mloads\u001b[0m\u001b[0;34m(\u001b[0m\u001b[0mpobj\u001b[0m\u001b[0;34m)\u001b[0m\u001b[0;34m\u001b[0m\u001b[0m",
      "\u001b[0m\u001b[1;32m    133\u001b[0m     \u001b[0;32mif\u001b[0m \u001b[0mistype\u001b[0m\u001b[0;34m(\u001b[0m\u001b[0mcanned\u001b[0m\u001b[0;34m,\u001b[0m \u001b[0msequence_types\u001b[0m\u001b[0;34m)\u001b[0m \u001b[0;32mand\u001b[0m \u001b[0mlen\u001b[0m\u001b[0;34m(\u001b[0m\u001b[0mcanned\u001b[0m\u001b[0;34m)\u001b[0m \u001b[0;34m<\u001b[0m \u001b[0mMAX_ITEMS\u001b[0m\u001b[0;34m:\u001b[0m\u001b[0;34m\u001b[0m\u001b[0m",
      "\u001b[1;32m    134\u001b[0m         \u001b[0;32mfor\u001b[0m \u001b[0mc\u001b[0m \u001b[0;32min\u001b[0m \u001b[0mcanned\u001b[0m\u001b[0;34m:\u001b[0m\u001b[0;34m\u001b[0m\u001b[0m",
      "\u001b[0;31mUnicodeDecodeError\u001b[0m: 'ascii' codec can't decode byte 0x83 in position 15: ordinal not in range(128)",
      "",
      "[3:apply]: ",
      "\u001b[0;31m---------------------------------------------------------------------------\u001b[0m\u001b[0;31mUnicodeDecodeError\u001b[0m                        Traceback (most recent call last)\u001b[0;32m~/.local/lib/python3.5/site-packages/ipyparallel/serialize/serialize.py\u001b[0m in \u001b[0;36munpack_apply_message\u001b[0;34m(bufs, g, copy)\u001b[0m",
      "\u001b[1;32m    192\u001b[0m     \u001b[0margs\u001b[0m \u001b[0;34m=\u001b[0m \u001b[0;34m[\u001b[0m\u001b[0;34m]\u001b[0m\u001b[0;34m\u001b[0m\u001b[0m",
      "\u001b[1;32m    193\u001b[0m     \u001b[0;32mfor\u001b[0m \u001b[0mi\u001b[0m \u001b[0;32min\u001b[0m \u001b[0mrange\u001b[0m\u001b[0;34m(\u001b[0m\u001b[0minfo\u001b[0m\u001b[0;34m[\u001b[0m\u001b[0;34m'nargs'\u001b[0m\u001b[0;34m]\u001b[0m\u001b[0;34m)\u001b[0m\u001b[0;34m:\u001b[0m\u001b[0;34m\u001b[0m\u001b[0m",
      "\u001b[0;32m--> 194\u001b[0;31m         \u001b[0marg\u001b[0m\u001b[0;34m,\u001b[0m \u001b[0marg_bufs\u001b[0m \u001b[0;34m=\u001b[0m \u001b[0mdeserialize_object\u001b[0m\u001b[0;34m(\u001b[0m\u001b[0marg_bufs\u001b[0m\u001b[0;34m,\u001b[0m \u001b[0mg\u001b[0m\u001b[0;34m)\u001b[0m\u001b[0;34m\u001b[0m\u001b[0m",
      "\u001b[0m\u001b[1;32m    195\u001b[0m         \u001b[0margs\u001b[0m\u001b[0;34m.\u001b[0m\u001b[0mappend\u001b[0m\u001b[0;34m(\u001b[0m\u001b[0marg\u001b[0m\u001b[0;34m)\u001b[0m\u001b[0;34m\u001b[0m\u001b[0m",
      "\u001b[1;32m    196\u001b[0m     \u001b[0margs\u001b[0m \u001b[0;34m=\u001b[0m \u001b[0mtuple\u001b[0m\u001b[0;34m(\u001b[0m\u001b[0margs\u001b[0m\u001b[0;34m)\u001b[0m\u001b[0;34m\u001b[0m\u001b[0m",
      "\u001b[0;32m~/.local/lib/python3.5/site-packages/ipyparallel/serialize/serialize.py\u001b[0m in \u001b[0;36mdeserialize_object\u001b[0;34m(buffers, g)\u001b[0m",
      "\u001b[1;32m    130\u001b[0m     \u001b[0mbufs\u001b[0m \u001b[0;34m=\u001b[0m \u001b[0mlist\u001b[0m\u001b[0;34m(\u001b[0m\u001b[0mbuffers\u001b[0m\u001b[0;34m)\u001b[0m\u001b[0;34m\u001b[0m\u001b[0m",
      "\u001b[1;32m    131\u001b[0m     \u001b[0mpobj\u001b[0m \u001b[0;34m=\u001b[0m \u001b[0mbuffer_to_bytes_py2\u001b[0m\u001b[0;34m(\u001b[0m\u001b[0mbufs\u001b[0m\u001b[0;34m.\u001b[0m\u001b[0mpop\u001b[0m\u001b[0;34m(\u001b[0m\u001b[0;36m0\u001b[0m\u001b[0;34m)\u001b[0m\u001b[0;34m)\u001b[0m\u001b[0;34m\u001b[0m\u001b[0m",
      "\u001b[0;32m--> 132\u001b[0;31m     \u001b[0mcanned\u001b[0m \u001b[0;34m=\u001b[0m \u001b[0mpickle\u001b[0m\u001b[0;34m.\u001b[0m\u001b[0mloads\u001b[0m\u001b[0;34m(\u001b[0m\u001b[0mpobj\u001b[0m\u001b[0;34m)\u001b[0m\u001b[0;34m\u001b[0m\u001b[0m",
      "\u001b[0m\u001b[1;32m    133\u001b[0m     \u001b[0;32mif\u001b[0m \u001b[0mistype\u001b[0m\u001b[0;34m(\u001b[0m\u001b[0mcanned\u001b[0m\u001b[0;34m,\u001b[0m \u001b[0msequence_types\u001b[0m\u001b[0;34m)\u001b[0m \u001b[0;32mand\u001b[0m \u001b[0mlen\u001b[0m\u001b[0;34m(\u001b[0m\u001b[0mcanned\u001b[0m\u001b[0;34m)\u001b[0m \u001b[0;34m<\u001b[0m \u001b[0mMAX_ITEMS\u001b[0m\u001b[0;34m:\u001b[0m\u001b[0;34m\u001b[0m\u001b[0m",
      "\u001b[1;32m    134\u001b[0m         \u001b[0;32mfor\u001b[0m \u001b[0mc\u001b[0m \u001b[0;32min\u001b[0m \u001b[0mcanned\u001b[0m\u001b[0;34m:\u001b[0m\u001b[0;34m\u001b[0m\u001b[0m",
      "\u001b[0;31mUnicodeDecodeError\u001b[0m: 'ascii' codec can't decode byte 0x83 in position 15: ordinal not in range(128)",
      ""
     ]
    }
   ],
   "source": [
    "# counter timestamp to avoid replacement\n",
    "timestamp = str(datetime.datetime.now()).split('.')[0]\n",
    "timestamp = \"_\"+timestamp.replace(\" \", \"_\")\n",
    "timestamp = timestamp.replace(\":\", \".\")\n",
    "\n",
    "# probecounter for the choice of the state\n",
    "probecounter = 0\n",
    "\n",
    "track_loss = np.empty(n_experiments)\n",
    "track_cov = np.empty(n_experiments)\n",
    "track_time = np.empty(n_experiments)\n",
    "\n",
    "track_particle_locs = np.empty([n_particles, len(true_params[0]), n_experiments])\n",
    "track_particle_wght = np.empty([n_particles, n_experiments])\n",
    "\n",
    "start=time.clock()\n",
    "\n",
    "\n",
    "for idx_experiment in range(n_experiments):\n",
    "    \n",
    "    experiment = heuristic()\n",
    "    #print('Chosen experiment: ' + repr(experiment))\n",
    "    \n",
    "    track_time[idx_experiment] = experiment[0][0]\n",
    "    \n",
    "    datum = par_model.simulate_experiment(true_params, experiment)\n",
    "    #print(repr(datum))\n",
    "    updater.update(datum, experiment)\n",
    "    heuristic = mpgh.multiPGH(updater, oplist, inv_field=inv_field)\n",
    "    \n",
    "    track_cov[idx_experiment] = np.linalg.norm(updater.est_covariance_mtx())\n",
    "    \n",
    "    track_particle_locs[:, :, idx_experiment] = updater.particle_locations\n",
    "    track_particle_wght[:, idx_experiment] = updater.particle_weights\n",
    "\n",
    "    new_eval = updater.est_mean()\n",
    "    \n",
    "    new_loss = eval_loss(model, new_eval, true_params)\n",
    "    track_loss[idx_experiment] = new_loss[0]\n",
    "    \n",
    "end=time.clock()\n",
    "print('elapsed time: ' + str(end-start))"
   ]
  },
  {
   "cell_type": "markdown",
   "metadata": {},
   "source": [
    "# Results from Parallelized qi.perftestmultiple\n",
    "\n",
    "### parallelization at trial stage\n",
    "\n",
    "appears to work only using SimplePrecession Model, and not on all versions of Python :("
   ]
  },
  {
   "cell_type": "code",
   "execution_count": 14,
   "metadata": {},
   "outputs": [
    {
     "ename": "ImportError",
     "evalue": "No module named dill",
     "output_type": "error",
     "traceback": [
      "\u001b[0;31m---------------------------------------------------------------------------\u001b[0m",
      "\u001b[0;31mImportError\u001b[0m                               Traceback (most recent call last)",
      "\u001b[0;32m<ipython-input-14-4a50b7761902>\u001b[0m in \u001b[0;36m<module>\u001b[0;34m()\u001b[0m\n\u001b[1;32m      1\u001b[0m \u001b[0mc\u001b[0m \u001b[0;34m=\u001b[0m \u001b[0mipp\u001b[0m\u001b[0;34m.\u001b[0m\u001b[0mClient\u001b[0m\u001b[0;34m(\u001b[0m\u001b[0;34m)\u001b[0m\u001b[0;34m\u001b[0m\u001b[0m\n\u001b[0;32m----> 2\u001b[0;31m \u001b[0mdview\u001b[0m \u001b[0;34m=\u001b[0m \u001b[0mc\u001b[0m\u001b[0;34m[\u001b[0m\u001b[0;34m:\u001b[0m\u001b[0;34m]\u001b[0m\u001b[0;34m.\u001b[0m\u001b[0muse_dill\u001b[0m\u001b[0;34m(\u001b[0m\u001b[0;34m)\u001b[0m\u001b[0;34m\u001b[0m\u001b[0m\n\u001b[0m\u001b[1;32m      3\u001b[0m \u001b[0;34m\"\"\"remember to try replacing:\"\"\"\u001b[0m\u001b[0;34m\u001b[0m\u001b[0m\n\u001b[1;32m      4\u001b[0m \u001b[0;31m#c[:].use_dill()\u001b[0m\u001b[0;34m\u001b[0m\u001b[0;34m\u001b[0m\u001b[0m\n\u001b[1;32m      5\u001b[0m \u001b[0;31m#c[:].use_cloudpickle()\u001b[0m\u001b[0;34m\u001b[0m\u001b[0;34m\u001b[0m\u001b[0m\n",
      "\u001b[0;32m/usr/local/lib/python2.7/dist-packages/ipyparallel/client/view.pyc\u001b[0m in \u001b[0;36muse_dill\u001b[0;34m(self)\u001b[0m\n\u001b[1;32m    492\u001b[0m         \u001b[0mThis\u001b[0m \u001b[0mcalls\u001b[0m \u001b[0mipyparallel\u001b[0m\u001b[0;34m.\u001b[0m\u001b[0mserialize\u001b[0m\u001b[0;34m.\u001b[0m\u001b[0muse_dill\u001b[0m\u001b[0;34m(\u001b[0m\u001b[0;34m)\u001b[0m \u001b[0mhere\u001b[0m \u001b[0;32mand\u001b[0m \u001b[0mon\u001b[0m \u001b[0meach\u001b[0m \u001b[0mengine\u001b[0m\u001b[0;34m.\u001b[0m\u001b[0;34m\u001b[0m\u001b[0m\n\u001b[1;32m    493\u001b[0m         \"\"\"\n\u001b[0;32m--> 494\u001b[0;31m         \u001b[0mserialize\u001b[0m\u001b[0;34m.\u001b[0m\u001b[0muse_dill\u001b[0m\u001b[0;34m(\u001b[0m\u001b[0;34m)\u001b[0m\u001b[0;34m\u001b[0m\u001b[0m\n\u001b[0m\u001b[1;32m    495\u001b[0m         \u001b[0;32mreturn\u001b[0m \u001b[0mself\u001b[0m\u001b[0;34m.\u001b[0m\u001b[0mapply\u001b[0m\u001b[0;34m(\u001b[0m\u001b[0mserialize\u001b[0m\u001b[0;34m.\u001b[0m\u001b[0muse_dill\u001b[0m\u001b[0;34m)\u001b[0m\u001b[0;34m\u001b[0m\u001b[0m\n\u001b[1;32m    496\u001b[0m \u001b[0;34m\u001b[0m\u001b[0m\n",
      "\u001b[0;32m/usr/local/lib/python2.7/dist-packages/ipyparallel/serialize/canning.pyc\u001b[0m in \u001b[0;36muse_dill\u001b[0;34m()\u001b[0m\n\u001b[1;32m     62\u001b[0m     \u001b[0madds\u001b[0m \u001b[0msupport\u001b[0m \u001b[0;32mfor\u001b[0m \u001b[0mobject\u001b[0m \u001b[0mmethods\u001b[0m \u001b[0;32mand\u001b[0m \u001b[0mclosures\u001b[0m \u001b[0mto\u001b[0m \u001b[0mserialization\u001b[0m\u001b[0;34m.\u001b[0m\u001b[0;34m\u001b[0m\u001b[0m\n\u001b[1;32m     63\u001b[0m     \"\"\"\n\u001b[0;32m---> 64\u001b[0;31m     \u001b[0;32mimport\u001b[0m \u001b[0mdill\u001b[0m\u001b[0;34m\u001b[0m\u001b[0m\n\u001b[0m\u001b[1;32m     65\u001b[0m \u001b[0;34m\u001b[0m\u001b[0m\n\u001b[1;32m     66\u001b[0m     \u001b[0;32mfrom\u001b[0m \u001b[0;34m.\u001b[0m \u001b[0;32mimport\u001b[0m \u001b[0mserialize\u001b[0m\u001b[0;34m\u001b[0m\u001b[0m\n",
      "\u001b[0;31mImportError\u001b[0m: No module named dill"
     ]
    }
   ],
   "source": [
    "c = ipp.Client()\n",
    "dview = c[:].use_dill()\n",
    "\"\"\"remember to try replacing:\"\"\"\n",
    "#c[:].use_dill()\n",
    "#c[:].use_cloudpickle()"
   ]
  },
  {
   "cell_type": "code",
   "execution_count": 57,
   "metadata": {},
   "outputs": [
    {
     "name": "stdout",
     "output_type": "stream",
     "text": [
      "Oplist: array([[[ 1.,  0.],\n",
      "        [ 0., -1.]]])\n",
      "Chosen true_params: [[ 0.7]]\n",
      "Chosen probestate: [ 0.70710678  0.70710678]\n",
      "Inversion fields are: ['l', 'o', 'a', 't']\n",
      "Heuristic output:array([ 1.])\n",
      "Initialization Ready\n"
     ]
    }
   ],
   "source": [
    "probecounter = 0\n",
    "\n",
    "oplist=np.array([evo.sigmaz()])\n",
    "#oplist=np.array([evo.sigmay(), evo.sigmax()])\n",
    "oplist=np.dot(1.0, oplist)\n",
    "print('Oplist: ' + repr(oplist))\n",
    "\n",
    "true_params = np.array([[0.7]])\n",
    "#true_params = np.array([[0.3, 0.6]])\n",
    "print('Chosen true_params: ' + str(true_params))\n",
    "\n",
    "#Listing eigenvectors\n",
    "# eiglist = pros.list_randomeig(oplist)\n",
    "# eiglist = np.append(eiglist, np.array([1, 0]))\n",
    "# eiglist = np.reshape(eiglist, [len(oplist)+1,2])\n",
    "# print('Chosen probestates: ' + repr(eiglist))\n",
    "\n",
    "#eiglist=sp.absolute(sp.linalg.orth(oplist[0]))\n",
    "#print('Chosen probestates: ' + repr(eiglist))\n",
    "\n",
    "probestate=pros.choose_probe(oplist,true_params)\n",
    "print('Chosen probestate: ' + str(probestate))\n",
    "\n",
    "\n",
    "\"\"\"Standard model\"\"\"\n",
    "prior = qi.UniformDistribution([0., 1])\n",
    "model = qi.SimplePrecessionModel()\n",
    "\n",
    "\n",
    "\"\"\"Customised model\"\"\"\n",
    "# sigw = 0.3\n",
    "# siga = 0.3\n",
    "\n",
    "# prior = qi.MultivariateNormalDistribution(\n",
    "#      [true_params[0, 0] + sigw/3, true_params[0, 1]-siga/3], [[sigw **2, 0], [0, siga **2]])\n",
    "\n",
    "# model = gsi.GenSim_IQLE(oplist=oplist, modelparams=true_params, probecounter = 0, probelist= [probestate], solver='scipy', trotter=True)\n",
    "\n",
    "\n",
    "\"\"\"We do NOT invoke here parallelization\"\"\"\n",
    "par_model = qi.DirectViewParallelizedModel(model, dview)\n",
    "\n",
    "n_particles = 300\n",
    "n_experiments = 300\n",
    "\n",
    "\n",
    "extra_updater_args={'resample_thresh': 0.5, 'resampler': qi.LiuWestResampler(a=0.95), 'debug_resampling': True}\n",
    "updater = qi.SMCUpdater(model, n_particles, prior, **extra_updater_args)\n",
    "\n",
    "inv_field = [item[0] for item in model.expparams_dtype[1:] ]\n",
    "print('Inversion fields are: ' + str(inv_field))\n",
    "\n",
    "\n",
    "\n",
    "heuristic = qi.ExpSparseHeuristic(updater)\n",
    "# heuristic = mpgh.multiPGH(updater, oplist, inv_field=inv_field)\n",
    "print('Heuristic output:' + repr(heuristic()))\n",
    "\n",
    "\n",
    "\n",
    "\n",
    "expparams = np.empty((1, ), dtype=model.expparams_dtype)\n",
    "\n",
    "print('Initialization Ready')"
   ]
  },
  {
   "cell_type": "code",
   "execution_count": 58,
   "metadata": {},
   "outputs": [
    {
     "ename": "RemoteError",
     "evalue": "RuntimeError(No direct view provided; this may be because the instance was loaded from a pickle or NumPy saved array without providing a new direct view.)",
     "output_type": "error",
     "traceback": [
      "\u001b[0;31m---------------------------------------------------------------------------\u001b[0m\u001b[0;31mRuntimeError\u001b[0m                              Traceback (most recent call last)\u001b[0;32m<string>\u001b[0m in \u001b[0;36m<module>\u001b[0;34m()\u001b[0m",
      "\u001b[0;32mc:\\program files\\anaconda3\\lib\\site-packages\\qinfer\\perf_testing.py\u001b[0m in \u001b[0;36mperf_test\u001b[0;34m(model, n_particles, prior, n_exp, heuristic_class, true_model, true_prior, true_mps, extra_updater_args)\u001b[0m",
      "\u001b[1;32m    235\u001b[0m \u001b[1;33m\u001b[0m\u001b[0m",
      "\u001b[1;32m    236\u001b[0m         \u001b[0mexpparams\u001b[0m \u001b[1;33m=\u001b[0m \u001b[0mheuristic\u001b[0m\u001b[1;33m(\u001b[0m\u001b[1;33m)\u001b[0m\u001b[1;33m\u001b[0m\u001b[0m",
      "\u001b[0;32m--> 237\u001b[0;31m         \u001b[0mdatum\u001b[0m \u001b[1;33m=\u001b[0m \u001b[0mtrue_model\u001b[0m\u001b[1;33m.\u001b[0m\u001b[0msimulate_experiment\u001b[0m\u001b[1;33m(\u001b[0m\u001b[0mtrue_mps\u001b[0m\u001b[1;33m,\u001b[0m \u001b[0mexpparams\u001b[0m\u001b[1;33m)\u001b[0m\u001b[1;33m\u001b[0m\u001b[0m",
      "\u001b[0m\u001b[1;32m    238\u001b[0m \u001b[1;33m\u001b[0m\u001b[0m",
      "\u001b[1;32m    239\u001b[0m         \u001b[1;32mwith\u001b[0m \u001b[0mtiming\u001b[0m\u001b[1;33m(\u001b[0m\u001b[1;33m)\u001b[0m \u001b[1;32mas\u001b[0m \u001b[0mt\u001b[0m\u001b[1;33m:\u001b[0m\u001b[1;33m\u001b[0m\u001b[0m",
      "\u001b[0;32mc:\\program files\\anaconda3\\lib\\site-packages\\qinfer\\parallel.py\u001b[0m in \u001b[0;36msimulate_experiment\u001b[0;34m(self, modelparams, expparams, repeat, split_by_modelparams)\u001b[0m",
      "\u001b[1;32m    230\u001b[0m         \u001b[1;32mif\u001b[0m \u001b[0mself\u001b[0m\u001b[1;33m.\u001b[0m\u001b[0m_dv\u001b[0m \u001b[1;32mis\u001b[0m \u001b[1;32mNone\u001b[0m\u001b[1;33m:\u001b[0m\u001b[1;33m\u001b[0m\u001b[0m",
      "\u001b[1;32m    231\u001b[0m                 raise RuntimeError(",
      "\u001b[0;32m--> 232\u001b[0;31m                     \u001b[1;34m\"No direct view provided; this may be because the instance was \"\u001b[0m\u001b[1;33m\u001b[0m\u001b[0m",
      "\u001b[0m\u001b[1;32m    233\u001b[0m                     \u001b[1;34m\"loaded from a pickle or NumPy saved array without providing a \"\u001b[0m\u001b[1;33m\u001b[0m\u001b[0m",
      "\u001b[1;32m    234\u001b[0m                     \u001b[1;34m\"new direct view.\"\u001b[0m\u001b[1;33m\u001b[0m\u001b[0m",
      "\u001b[0;31mRuntimeError\u001b[0m: No direct view provided; this may be because the instance was loaded from a pickle or NumPy saved array without providing a new direct view."
     ]
    }
   ],
   "source": [
    "start = time.clock()\n",
    "\n",
    "\n",
    "perf = qi.perf_test_multiple(model=par_model, n_trials = 100, n_particles=n_particles, prior=prior,\n",
    "        n_exp=n_experiments, true_mps = true_params, heuristic_class=qi.ExpSparseHeuristic,\n",
    "                   apply=lbview.apply)\n",
    "\n",
    "# perf = qi.perf_test_multiple(model=model, n_trials = 100, n_particles=n_particles, prior=prior,\n",
    "#         n_exp=n_experiments, true_mps = true_params, heuristic_class=partial(mpgh.multiPGH, inv_field=inv_field, t_field='t'), \n",
    "#                     extra_updater_args = extra_updater_args,\n",
    "#                    apply=lbview.apply)\n",
    "\n",
    "end=time.clock()\n",
    "print('elapsed time: ' + str(end-start))"
   ]
  }
 ],
 "metadata": {
  "anaconda-cloud": {},
  "kernelspec": {
   "display_name": "Python 3",
   "language": "python",
   "name": "python3"
  },
  "language_info": {
   "codemirror_mode": {
    "name": "ipython",
    "version": 2
   },
   "file_extension": ".py",
   "mimetype": "text/x-python",
   "name": "python",
   "nbconvert_exporter": "python",
   "pygments_lexer": "ipython2",
   "version": "2.7.12"
  }
 },
 "nbformat": 4,
 "nbformat_minor": 1
}
