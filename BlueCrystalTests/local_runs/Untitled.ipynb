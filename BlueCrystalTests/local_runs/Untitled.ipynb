{
 "cells": [
  {
   "cell_type": "code",
   "execution_count": 17,
   "metadata": {},
   "outputs": [],
   "source": [
    "from __future__ import print_function # so print doesn't show brackets\n",
    "import numpy as np\n",
    "import itertools as itr\n",
    "\n",
    "import os as os\n",
    "import sys as sys \n",
    "import pandas as pd\n",
    "import warnings\n",
    "import time as time\n",
    "import random\n",
    "\n",
    "sys.path.append(os.path.join(\"..\", \"..\",\"Libraries\",\"QML_lib\"))\n",
    "import Evo as evo\n",
    "import DataBase \n",
    "import QMD\n",
    "import QML\n",
    "import ModelGeneration\n",
    "import BayesF\n",
    "import matplotlib\n",
    "\n",
    "import matplotlib.pyplot as plt\n",
    "plt.switch_backend('agg')\n",
    "\n",
    "import hamiltonian_exponentiation as h\n",
    "\n",
    "def random_probe(num_qubits):\n",
    "    dim = 2**num_qubits\n",
    "    real = np.random.rand(1,dim)\n",
    "    imaginary = np.random.rand(1,dim)\n",
    "    complex_vectors = np.empty([1, dim])\n",
    "    complex_vectors = real +1.j*imaginary\n",
    "    norm_factor = np.linalg.norm(complex_vectors)\n",
    "    probe = complex_vectors/norm_factor\n",
    "    return probe[0][:]"
   ]
  },
  {
   "cell_type": "code",
   "execution_count": 83,
   "metadata": {},
   "outputs": [],
   "source": [
    "op_name = 'xTxTTxTTTxTTTTxTTTTTx'\n",
    "#op_name = 'x'\n",
    "op = DataBase.operator(op_name)\n",
    "dim=op.num_qubits\n",
    "probe = random_probe(dim)\n",
    "ham = op.matrix\n",
    "t=11\n",
    "u = h.exp_ham(ham,t)\n",
    "ev_state = np.dot(u, probe)"
   ]
  },
  {
   "cell_type": "code",
   "execution_count": 84,
   "metadata": {},
   "outputs": [
    {
     "data": {
      "text/plain": [
       "(1, 64)"
      ]
     },
     "execution_count": 84,
     "metadata": {},
     "output_type": "execute_result"
    }
   ],
   "source": [
    "np.shape(ev_state)"
   ]
  },
  {
   "cell_type": "code",
   "execution_count": 85,
   "metadata": {},
   "outputs": [
    {
     "data": {
      "text/plain": [
       "(64, 64)"
      ]
     },
     "execution_count": 85,
     "metadata": {},
     "output_type": "execute_result"
    }
   ],
   "source": [
    "np.shape(u)"
   ]
  },
  {
   "cell_type": "code",
   "execution_count": 86,
   "metadata": {},
   "outputs": [
    {
     "data": {
      "text/plain": [
       "matrix([[ 0.0044257+0.j        ,  0.0000000+0.j        ,\n",
       "          0.0000000+0.j        , ...,  0.0000000+0.j        ,\n",
       "          0.0000000+0.j        ,  0.0000000+0.99999021j],\n",
       "        [ 0.0000000+0.j        ,  0.0044257+0.j        ,\n",
       "          0.0000000+0.j        , ...,  0.0000000+0.j        ,\n",
       "          0.0000000+0.99999021j,  0.0000000+0.j        ],\n",
       "        [ 0.0000000+0.j        ,  0.0000000+0.j        ,\n",
       "          0.0044257+0.j        , ...,  0.0000000+0.99999021j,\n",
       "          0.0000000+0.j        ,  0.0000000+0.j        ],\n",
       "        ..., \n",
       "        [ 0.0000000+0.j        ,  0.0000000+0.j        ,\n",
       "          0.0000000+0.99999021j, ...,  0.0044257+0.j        ,\n",
       "          0.0000000+0.j        ,  0.0000000+0.j        ],\n",
       "        [ 0.0000000+0.j        ,  0.0000000+0.99999021j,\n",
       "          0.0000000+0.j        , ...,  0.0000000+0.j        ,\n",
       "          0.0044257+0.j        ,  0.0000000+0.j        ],\n",
       "        [ 0.0000000+0.99999021j,  0.0000000+0.j        ,\n",
       "          0.0000000+0.j        , ...,  0.0000000+0.j        ,\n",
       "          0.0000000+0.j        ,  0.0044257+0.j        ]])"
      ]
     },
     "execution_count": 86,
     "metadata": {},
     "output_type": "execute_result"
    }
   ],
   "source": [
    "u"
   ]
  },
  {
   "cell_type": "code",
   "execution_count": 88,
   "metadata": {},
   "outputs": [
    {
     "data": {
      "text/plain": [
       "(0.0044256979880509251+0j)"
      ]
     },
     "execution_count": 88,
     "metadata": {},
     "output_type": "execute_result"
    }
   ],
   "source": [
    "\n",
    "np.max(u)"
   ]
  },
  {
   "cell_type": "code",
   "execution_count": 91,
   "metadata": {},
   "outputs": [],
   "source": [
    "\n",
    "a=np.array(u)"
   ]
  },
  {
   "cell_type": "code",
   "execution_count": 93,
   "metadata": {},
   "outputs": [
    {
     "data": {
      "text/plain": [
       "0j"
      ]
     },
     "execution_count": 93,
     "metadata": {},
     "output_type": "execute_result"
    }
   ],
   "source": [
    "np.max(a-u)"
   ]
  },
  {
   "cell_type": "code",
   "execution_count": null,
   "metadata": {},
   "outputs": [],
   "source": []
  }
 ],
 "metadata": {
  "kernelspec": {
   "display_name": "Python 3",
   "language": "python",
   "name": "python3"
  },
  "language_info": {
   "codemirror_mode": {
    "name": "ipython",
    "version": 3
   },
   "file_extension": ".py",
   "mimetype": "text/x-python",
   "name": "python",
   "nbconvert_exporter": "python",
   "pygments_lexer": "ipython3",
   "version": "3.5.2"
  }
 },
 "nbformat": 4,
 "nbformat_minor": 2
}
