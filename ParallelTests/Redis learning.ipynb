{
 "cells": [
  {
   "cell_type": "code",
   "execution_count": 2,
   "metadata": {},
   "outputs": [
    {
     "data": {
      "text/plain": [
       "{'channel': b'x_learned', 'data': 1, 'pattern': None, 'type': 'subscribe'}"
      ]
     },
     "execution_count": 2,
     "metadata": {},
     "output_type": "execute_result"
    }
   ],
   "source": [
    "from learn_model import *\n",
    "from rq import Connection, Queue\n",
    "import redis\n",
    "import pickle\n",
    "\n",
    "sys.path.append(os.path.join(\"..\", \"Libraries\",\"QML_lib\"))\n",
    "import Evo as evo\n",
    "import DataBase \n",
    "from QMD import QMD #  class moved to QMD in Library\n",
    "import QML\n",
    "import ModelGeneration \n",
    "import BayesF\n",
    "import matplotlib.pyplot as plt\n",
    "\n",
    "\n",
    "\n",
    "\n",
    "redis_conn = redis.Redis()\n",
    "rds = redis.StrictRedis(host='localhost', port=6379, db=0)\n",
    "q = Queue(connection=redis_conn)\n",
    "\n",
    "\n",
    "name = 'x'\n",
    "num_particles = 100\n",
    "num_exp = 30\n",
    "\n",
    "\n",
    "q.enqueue(LearnModel, 'x', num_particles=num_particles, num_exp=num_exp)\n",
    "\n",
    "# LearnModel('x', num_particles=num_particles, num_exp=num_exp)\n",
    "\n",
    "redis_db_name = str(name)+'_learned'\n",
    "redis_updater_name = str(name)+'_updater'\n",
    "\n",
    "p = rds.pubsub()\n",
    "p.subscribe(redis_db_name)\n",
    "p.get_message()\n",
    "\n",
    "\n",
    "#mod = pickle.loads(rds.get(redis_db_name))\n",
    "#print(\"Mod loaded has name : \", mod.Name)"
   ]
  },
  {
   "cell_type": "code",
   "execution_count": 6,
   "metadata": {},
   "outputs": [],
   "source": [
    "p = rds.pubsub()\n",
    "p.subscribe('test_new_channel')"
   ]
  },
  {
   "cell_type": "code",
   "execution_count": 7,
   "metadata": {},
   "outputs": [
    {
     "data": {
      "text/plain": [
       "1"
      ]
     },
     "execution_count": 7,
     "metadata": {},
     "output_type": "execute_result"
    }
   ],
   "source": [
    "rds.publish('test_new_channel', {'message':'my message'})"
   ]
  },
  {
   "cell_type": "code",
   "execution_count": 10,
   "metadata": {},
   "outputs": [
    {
     "data": {
      "text/plain": [
       "{'channel': b'test_new_channel',\n",
       " 'data': b\"{'message': 'my message'}\",\n",
       " 'pattern': None,\n",
       " 'type': 'message'}"
      ]
     },
     "execution_count": 10,
     "metadata": {},
     "output_type": "execute_result"
    }
   ],
   "source": [
    "p.get_message('test_new_channel')"
   ]
  },
  {
   "cell_type": "code",
   "execution_count": 9,
   "metadata": {},
   "outputs": [
    {
     "data": {
      "text/plain": [
       "[b'test_this_channel', b'test_new_channel', b'x_learned']"
      ]
     },
     "execution_count": 9,
     "metadata": {},
     "output_type": "execute_result"
    }
   ],
   "source": [
    "rds.pubsub_channels()"
   ]
  },
  {
   "cell_type": "code",
   "execution_count": 11,
   "metadata": {},
   "outputs": [
    {
     "data": {
      "text/plain": [
       "0"
      ]
     },
     "execution_count": 11,
     "metadata": {},
     "output_type": "execute_result"
    }
   ],
   "source": [
    "rds.publish('delayed', {'message': 'delayed msg'})"
   ]
  },
  {
   "cell_type": "code",
   "execution_count": 12,
   "metadata": {},
   "outputs": [],
   "source": [
    "p.subscribe('delayed')"
   ]
  },
  {
   "cell_type": "code",
   "execution_count": 19,
   "metadata": {},
   "outputs": [],
   "source": [
    "p.get_message('delayed')"
   ]
  },
  {
   "cell_type": "code",
   "execution_count": 15,
   "metadata": {},
   "outputs": [],
   "source": [
    "p.subscribe('delayed_publish_first')"
   ]
  },
  {
   "cell_type": "code",
   "execution_count": 16,
   "metadata": {},
   "outputs": [
    {
     "data": {
      "text/plain": [
       "1"
      ]
     },
     "execution_count": 16,
     "metadata": {},
     "output_type": "execute_result"
    }
   ],
   "source": [
    "rds.publish('delayed_publish_first', {'test':'this'} )"
   ]
  },
  {
   "cell_type": "code",
   "execution_count": 18,
   "metadata": {},
   "outputs": [
    {
     "data": {
      "text/plain": [
       "{'channel': b'delayed_publish_first',\n",
       " 'data': b\"{'test': 'this'}\",\n",
       " 'pattern': None,\n",
       " 'type': 'message'}"
      ]
     },
     "execution_count": 18,
     "metadata": {},
     "output_type": "execute_result"
    }
   ],
   "source": [
    "p.get_message('delayed_publish_first')"
   ]
  },
  {
   "cell_type": "code",
   "execution_count": null,
   "metadata": {},
   "outputs": [],
   "source": [
    "# need to be subscribed to channel before publish"
   ]
  },
  {
   "cell_type": "code",
   "execution_count": 24,
   "metadata": {},
   "outputs": [],
   "source": [
    "tst = 'my_new_channel_2'\n",
    "dt = {'x': 'asdf'}\n",
    "\n",
    "p.subscribe(tst)\n",
    "rds.publish(tst, dt)\n",
    "\n",
    "a = p.get_message(tst)\n",
    "b = p.get_message(tst)\n",
    "c = p.get_message(tst)\n",
    "d = p.get_message(tst)\n",
    "\n"
   ]
  },
  {
   "cell_type": "code",
   "execution_count": 39,
   "metadata": {},
   "outputs": [],
   "source": [
    "p.get_message()"
   ]
  },
  {
   "cell_type": "code",
   "execution_count": 38,
   "metadata": {},
   "outputs": [
    {
     "data": {
      "text/plain": [
       "[b'test_this_channel',\n",
       " b'x_learned',\n",
       " b'test_new_channel',\n",
       " b'delayed',\n",
       " b'my_new_channel',\n",
       " b'my_new_channel_2',\n",
       " b'delayed_publish_first']"
      ]
     },
     "execution_count": 38,
     "metadata": {},
     "output_type": "execute_result"
    }
   ],
   "source": [
    "rds.pubsub_channels()"
   ]
  },
  {
   "cell_type": "code",
   "execution_count": 41,
   "metadata": {},
   "outputs": [
    {
     "data": {
      "text/plain": [
       "[]"
      ]
     },
     "execution_count": 41,
     "metadata": {},
     "output_type": "execute_result"
    }
   ],
   "source": [
    "rds.pubsub_numsub()"
   ]
  },
  {
   "cell_type": "code",
   "execution_count": null,
   "metadata": {},
   "outputs": [],
   "source": []
  }
 ],
 "metadata": {
  "kernelspec": {
   "display_name": "Python 3",
   "language": "python",
   "name": "python3"
  },
  "language_info": {
   "codemirror_mode": {
    "name": "ipython",
    "version": 3
   },
   "file_extension": ".py",
   "mimetype": "text/x-python",
   "name": "python",
   "nbconvert_exporter": "python",
   "pygments_lexer": "ipython3",
   "version": "3.5.2"
  }
 },
 "nbformat": 4,
 "nbformat_minor": 2
}
