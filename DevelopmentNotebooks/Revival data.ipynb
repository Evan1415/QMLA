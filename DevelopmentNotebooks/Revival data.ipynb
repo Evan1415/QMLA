{
 "cells": [
  {
   "cell_type": "code",
   "execution_count": 13,
   "metadata": {},
   "outputs": [],
   "source": [
    "import sys, os, time, pickle, sklearn\n",
    "import numpy as np\n",
    "import scipy as sp\n",
    "import pandas as pd\n",
    "import seaborn as sns\n",
    "import matplotlib.pyplot as plt\n",
    "from matplotlib.lines import Line2D\n",
    "import qinfer as qi\n",
    "import importlib as imp"
   ]
  },
  {
   "cell_type": "code",
   "execution_count": 14,
   "metadata": {},
   "outputs": [],
   "source": [
    "%matplotlib inline"
   ]
  },
  {
   "cell_type": "code",
   "execution_count": 15,
   "metadata": {},
   "outputs": [],
   "source": [
    "sys.path.append(os.path.abspath(\"..\"))\n",
    "import qmla"
   ]
  },
  {
   "cell_type": "code",
   "execution_count": 16,
   "metadata": {},
   "outputs": [
    {
     "name": "stderr",
     "output_type": "stream",
     "text": [
      "ERROR:root:File `'revival_data_lib.py'` not found.\n"
     ]
    }
   ],
   "source": [
    "%run revival_data_lib.py"
   ]
  },
  {
   "cell_type": "markdown",
   "metadata": {},
   "source": [
    "# Data import"
   ]
  },
  {
   "cell_type": "code",
   "execution_count": 11,
   "metadata": {},
   "outputs": [],
   "source": [
    "# directory = os.path.abspath(\"C:/Users/AAG/OneDrive/Work @OneDrive/@Bristol OneDrive/QMLA project/QML_share_stateofart/RawSebData_QML/NV05_HahnEcho01_highres\")\n",
    "\n",
    "directory = os.path.abspath(\"~Dropbox/QML_share_stateofart/RawSebData_QML/NV05_HahnEcho01_highres\")\n"
   ]
  },
  {
   "cell_type": "code",
   "execution_count": 12,
   "metadata": {},
   "outputs": [
    {
     "ename": "NameError",
     "evalue": "name 'obtaindata' is not defined",
     "output_type": "error",
     "traceback": [
      "\u001b[0;31m---------------------------------------------------------------------------\u001b[0m",
      "\u001b[0;31mNameError\u001b[0m                                 Traceback (most recent call last)",
      "\u001b[0;32m<ipython-input-12-319679c04c26>\u001b[0m in \u001b[0;36m<module>\u001b[0;34m()\u001b[0m\n\u001b[0;32m----> 1\u001b[0;31m \u001b[0mxdata\u001b[0m\u001b[0;34m,\u001b[0m \u001b[0mydata\u001b[0m \u001b[0;34m=\u001b[0m \u001b[0mobtaindata\u001b[0m\u001b[0;34m(\u001b[0m\u001b[0mdirectory\u001b[0m\u001b[0;34m)\u001b[0m\u001b[0;34m\u001b[0m\u001b[0m\n\u001b[0m",
      "\u001b[0;31mNameError\u001b[0m: name 'obtaindata' is not defined"
     ]
    }
   ],
   "source": [
    "%%capture\n",
    "xdata, ydata = obtaindata(directory)"
   ]
  },
  {
   "cell_type": "code",
   "execution_count": 19,
   "metadata": {},
   "outputs": [
    {
     "data": {
      "text/plain": [
       "'/home/bf16951/QMD/DevelopmentNotebooks/qmla/growth_rules/nv_centre_spin_characterisation/data'"
      ]
     },
     "execution_count": 19,
     "metadata": {},
     "output_type": "execute_result"
    }
   ],
   "source": [
    "os.path.abspath( \"qmla/growth_rules/nv_centre_spin_characterisation/data/NV05_\" )"
   ]
  },
  {
   "cell_type": "code",
   "execution_count": 466,
   "metadata": {},
   "outputs": [
    {
     "data": {
      "text/plain": [
       "0.1"
      ]
     },
     "execution_count": 466,
     "metadata": {},
     "output_type": "execute_result"
    }
   ],
   "source": [
    "increment = np.round(np.mean(xdata[1:]-xdata[:-1]), 1)\n",
    "increment"
   ]
  },
  {
   "cell_type": "code",
   "execution_count": 106,
   "metadata": {},
   "outputs": [
    {
     "data": {
      "image/png": "[encoded data removed]",
      "text/plain": [
       "<Figure size 432x288 with 1 Axes>"
      ]
     },
     "metadata": {
      "needs_background": "light"
     },
     "output_type": "display_data"
    }
   ],
   "source": [
    "plt.plot(xdata, ydata, \"r.\", label=\"Exp. Data\")\n",
    "\n",
    "plt.show()"
   ]
  },
  {
   "cell_type": "markdown",
   "metadata": {},
   "source": [
    "# Dynamic analysis for Hahn echo experiments"
   ]
  },
  {
   "cell_type": "code",
   "execution_count": 2178,
   "metadata": {},
   "outputs": [],
   "source": [
    "n_qubits = 2\n",
    "true_model_terms_params = {\n",
    "    # spin\n",
    "#     'pauliSet_1_x_d{}'.format(n_qubits) : 1.94e9,\n",
    "#     'pauliSet_1_y_d{}'.format(n_qubits) : 1.94e9,\n",
    "    'pauliSet_1_z_d{}'.format(n_qubits) : 2e9,\n",
    "    \n",
    "    'pauliSet_1J2_zJz_d{}'.format(n_qubits) : 0.2e6, \n",
    "#     'pauliSet_1J3_zJz_d{}'.format(n_qubits) : 2.4e6, \n",
    "#     'pauliSet_1J4_zJz_d{}'.format(n_qubits) : 2.14e6, \n",
    "#     'pauliSet_1J5_zJz_d{}'.format(n_qubits) : 2.14e6, \n",
    "# #     'pauliSet_1J6_zJz_d{}'.format(n_qubits) : 2.14e6, \n",
    "\n",
    "    'pauliSet_1J2_yJy_d{}'.format(n_qubits) : 0.4e6, \n",
    "#     'pauliSet_1J3_yJy_d{}'.format(n_qubits) : 2.4e6, \n",
    "#     'pauliSet_1J4_yJy_d{}'.format(n_qubits) : 2.14e6, \n",
    "#     'pauliSet_1J5_yJy_d{}'.format(n_qubits) : 2.14e6, \n",
    "# #     'pauliSet_1J6_yJy_d{}'.format(n_qubits) : 2.14e6, \n",
    "\n",
    "    'pauliSet_1J2_xJx_d{}'.format(n_qubits) : 0.2e6, \n",
    "#     'pauliSet_1J3_xJx_d{}'.format(n_qubits) : 2.4e6, \n",
    "#     'pauliSet_1J4_xJx_d{}'.format(n_qubits) : 2.14e6, \n",
    "#     'pauliSet_1J5_xJx_d{}'.format(n_qubits) : 2.14e6, \n",
    "# #     'pauliSet_1J6_xJx_d{}'.format(n_qubits) : 2.14e6, \n",
    "\n",
    "#     # carbon nuclei - 2nd qubit\n",
    "    'pauliSet_2_x_d{}'.format(n_qubits) : 66e3,\n",
    "    'pauliSet_2_y_d{}'.format(n_qubits) : 66e3,\n",
    "    'pauliSet_2_z_d{}'.format(n_qubits) : 15e3,\n",
    "\n",
    "#     # carbon nuclei - 3rd qubit\n",
    "#     'pauliSet_3_x_d{}'.format(n_qubits) : 117e3,\n",
    "#     'pauliSet_3_y_d{}'.format(n_qubits) : 117e3,\n",
    "#     'pauliSet_3_z_d{}'.format(n_qubits) : 117e3,\n",
    "\n",
    "#     # carbon nuclei - 4th qubit\n",
    "#     'pauliSet_4_x_d{}'.format(n_qubits) : 117e3,\n",
    "#     'pauliSet_4_y_d{}'.format(n_qubits) : 117e3,\n",
    "#     'pauliSet_4_z_d{}'.format(n_qubits) : 117e3,\n",
    "\n",
    "#     # carbon nuclei - 5th qubit\n",
    "#     'pauliSet_5_x_d{}'.format(n_qubits) : 117e3,\n",
    "#     'pauliSet_5_y_d{}'.format(n_qubits) : 117e3,\n",
    "#     'pauliSet_5_z_d{}'.format(n_qubits) : 117e3,\n",
    "\n",
    "    # carbon nuclei - 6th qubit\n",
    "#     'pauliSet_6_x_d{}'.format(n_qubits) : 117e3,\n",
    "#     'pauliSet_6_y_d{}'.format(n_qubits) : 117e3,\n",
    "#     'pauliSet_6_z_d{}'.format(n_qubits) : 117e3,\n",
    "    \n",
    "    # nitrogen nuclei // NEGLECTED\n",
    "}"
   ]
  },
  {
   "cell_type": "code",
   "execution_count": 2179,
   "metadata": {},
   "outputs": [
    {
     "data": {
      "text/plain": [
       "'pauliSet_1J2_xJx_d2+pauliSet_1J2_yJy_d2+pauliSet_1J2_zJz_d2+pauliSet_1_z_d2+pauliSet_2_x_d2+pauliSet_2_y_d2+pauliSet_2_z_d2'"
      ]
     },
     "execution_count": 2179,
     "metadata": {},
     "output_type": "execute_result"
    }
   ],
   "source": [
    "true_model = '+'.join(\n",
    "    (true_model_terms_params.keys())\n",
    ")\n",
    "true_model = qmla.construct_models.alph(true_model)\n",
    "true_model"
   ]
  },
  {
   "cell_type": "code",
   "execution_count": 2180,
   "metadata": {},
   "outputs": [],
   "source": [
    "hamiltonian = None\n",
    "for k in true_model_terms_params:\n",
    "    \n",
    "    param = true_model_terms_params[k]\n",
    "    mtx = qmla.construct_models.compute(k)\n",
    "    \n",
    "    if hamiltonian is None: \n",
    "        hamiltonian = param * mtx\n",
    "    else:\n",
    "        hamiltonian += param * mtx"
   ]
  },
  {
   "cell_type": "code",
   "execution_count": 2181,
   "metadata": {},
   "outputs": [
    {
     "name": "stdout",
     "output_type": "stream",
     "text": [
      "[|++'> probes] Noise factor: 0.01\n"
     ]
    },
    {
     "data": {
      "text/plain": [
       "array([ 0.49840374+0.00607048j, -0.18091421+0.46873623j,\n",
       "        0.49755675-0.00087249j, -0.17405709+0.47037635j])"
      ]
     },
     "execution_count": 2181,
     "metadata": {},
     "output_type": "execute_result"
    }
   ],
   "source": [
    "num_qubits = int(np.log2(np.shape(hamiltonian))[0])\n",
    "probe_set = qmla.shared_functionality.probe_set_generation.plus_plus_with_phase_difference(\n",
    "    num_probes=1, \n",
    "    max_num_qubits=num_qubits,\n",
    "    noise_level=0\n",
    ")\n",
    "probe = probe_set[(0,num_qubits)]\n",
    "probe"
   ]
  },
  {
   "cell_type": "code",
   "execution_count": 20,
   "metadata": {},
   "outputs": [
    {
     "ename": "NameError",
     "evalue": "name 'I2d' is not defined",
     "output_type": "error",
     "traceback": [
      "\u001b[0;31m---------------------------------------------------------------------------\u001b[0m",
      "\u001b[0;31mNameError\u001b[0m                                 Traceback (most recent call last)",
      "\u001b[0;32m<ipython-input-20-a7f289d3d73d>\u001b[0m in \u001b[0;36m<module>\u001b[0;34m()\u001b[0m\n\u001b[0;32m----> 1\u001b[0;31m \u001b[0mmyham\u001b[0m \u001b[0;34m=\u001b[0m \u001b[0;36m2.87e9\u001b[0m\u001b[0;34m*\u001b[0m\u001b[0mnp\u001b[0m\u001b[0;34m.\u001b[0m\u001b[0mkron\u001b[0m\u001b[0;34m(\u001b[0m\u001b[0mI2d\u001b[0m\u001b[0;34m(\u001b[0m\u001b[0;34m)\u001b[0m\u001b[0;34m,\u001b[0m \u001b[0mI2d\u001b[0m\u001b[0;34m(\u001b[0m\u001b[0;34m)\u001b[0m\u001b[0;34m)\u001b[0m \u001b[0;34m+\u001b[0m         \u001b[0mtrue_model_terms_params\u001b[0m\u001b[0;34m[\u001b[0m\u001b[0;34m'pauliSet_1_z_d2'\u001b[0m\u001b[0;34m]\u001b[0m\u001b[0;34m*\u001b[0m\u001b[0mnp\u001b[0m\u001b[0;34m.\u001b[0m\u001b[0mkron\u001b[0m\u001b[0;34m(\u001b[0m\u001b[0msigmaz\u001b[0m\u001b[0;34m(\u001b[0m\u001b[0;34m)\u001b[0m\u001b[0;34m,\u001b[0m \u001b[0mI2d\u001b[0m\u001b[0;34m(\u001b[0m\u001b[0;34m)\u001b[0m\u001b[0;34m)\u001b[0m \u001b[0;34m+\u001b[0m         \u001b[0mtrue_model_terms_params\u001b[0m\u001b[0;34m[\u001b[0m\u001b[0;34m'pauliSet_1J2_zJz_d2'\u001b[0m\u001b[0;34m]\u001b[0m\u001b[0;34m*\u001b[0m\u001b[0mnp\u001b[0m\u001b[0;34m.\u001b[0m\u001b[0mkron\u001b[0m\u001b[0;34m(\u001b[0m\u001b[0msigmaz\u001b[0m\u001b[0;34m(\u001b[0m\u001b[0;34m)\u001b[0m\u001b[0;34m,\u001b[0m \u001b[0msigmaz\u001b[0m\u001b[0;34m(\u001b[0m\u001b[0;34m)\u001b[0m\u001b[0;34m)\u001b[0m \u001b[0;34m+\u001b[0m         \u001b[0mtrue_model_terms_params\u001b[0m\u001b[0;34m[\u001b[0m\u001b[0;34m'pauliSet_2_x_d2'\u001b[0m\u001b[0;34m]\u001b[0m\u001b[0;34m*\u001b[0m\u001b[0mnp\u001b[0m\u001b[0;34m.\u001b[0m\u001b[0mkron\u001b[0m\u001b[0;34m(\u001b[0m\u001b[0mI2d\u001b[0m\u001b[0;34m(\u001b[0m\u001b[0;34m)\u001b[0m\u001b[0;34m,\u001b[0m \u001b[0msigmax\u001b[0m\u001b[0;34m(\u001b[0m\u001b[0;34m)\u001b[0m\u001b[0;34m)\u001b[0m \u001b[0;34m+\u001b[0m         \u001b[0mtrue_model_terms_params\u001b[0m\u001b[0;34m[\u001b[0m\u001b[0;34m'pauliSet_2_y_d2'\u001b[0m\u001b[0;34m]\u001b[0m\u001b[0;34m*\u001b[0m\u001b[0mnp\u001b[0m\u001b[0;34m.\u001b[0m\u001b[0mkron\u001b[0m\u001b[0;34m(\u001b[0m\u001b[0mI2d\u001b[0m\u001b[0;34m(\u001b[0m\u001b[0;34m)\u001b[0m\u001b[0;34m,\u001b[0m \u001b[0msigmay\u001b[0m\u001b[0;34m(\u001b[0m\u001b[0;34m)\u001b[0m\u001b[0;34m)\u001b[0m \u001b[0;34m+\u001b[0m         \u001b[0mtrue_model_terms_params\u001b[0m\u001b[0;34m[\u001b[0m\u001b[0;34m'pauliSet_2_z_d2'\u001b[0m\u001b[0;34m]\u001b[0m\u001b[0;34m*\u001b[0m\u001b[0mnp\u001b[0m\u001b[0;34m.\u001b[0m\u001b[0mkron\u001b[0m\u001b[0;34m(\u001b[0m\u001b[0mI2d\u001b[0m\u001b[0;34m(\u001b[0m\u001b[0;34m)\u001b[0m\u001b[0;34m,\u001b[0m \u001b[0msigmaz\u001b[0m\u001b[0;34m(\u001b[0m\u001b[0;34m)\u001b[0m\u001b[0;34m)\u001b[0m\u001b[0;34m\u001b[0m\u001b[0m\n\u001b[0m\u001b[1;32m      2\u001b[0m \u001b[0mmyham\u001b[0m\u001b[0;34m\u001b[0m\u001b[0m\n",
      "\u001b[0;31mNameError\u001b[0m: name 'I2d' is not defined"
     ]
    }
   ],
   "source": [
    "myham = 2.87e9*np.kron(I2d(), I2d()) + \\\n",
    "        true_model_terms_params['pauliSet_1_z_d2']*np.kron(sigmaz(), I2d()) + \\\n",
    "        true_model_terms_params['pauliSet_1J2_zJz_d2']*np.kron(sigmaz(), sigmaz()) + \\\n",
    "        true_model_terms_params['pauliSet_2_x_d2']*np.kron(I2d(), sigmax()) + \\\n",
    "        true_model_terms_params['pauliSet_2_y_d2']*np.kron(I2d(), sigmay()) + \\\n",
    "        true_model_terms_params['pauliSet_2_z_d2']*np.kron(I2d(), sigmaz())\n",
    "myham"
   ]
  },
  {
   "cell_type": "code",
   "execution_count": null,
   "metadata": {},
   "outputs": [],
   "source": []
  },
  {
   "cell_type": "code",
   "execution_count": 2183,
   "metadata": {},
   "outputs": [],
   "source": [
    "ex_val_list_check = []\n",
    "\n",
    "for t in times:\n",
    "    ex_val_list_check.append(1-likelihood_fromevo(myham, t, probe))"
   ]
  },
  {
   "cell_type": "code",
   "execution_count": 2184,
   "metadata": {},
   "outputs": [],
   "source": [
    "start = time.time()\n",
    "\n",
    "max_time = 60e-6\n",
    "time_increment = increment*10**-6\n",
    "# max_time = 500e-6\n",
    "# time_increment = 5e-6\n",
    "times = np.arange(0, max_time, time_increment)\n",
    "\n",
    "expectation_values = {\n",
    "    t : qmla.shared_functionality.n_qubit_hahn_evolution(\n",
    "        ham = hamiltonian, \n",
    "        t = t,\n",
    "        state = probe\n",
    "    )\n",
    "    for t in times\n",
    "}\n",
    "\n",
    "ex_val_list = [expectation_values[t] for t in times]"
   ]
  },
  {
   "cell_type": "code",
   "execution_count": 2185,
   "metadata": {},
   "outputs": [],
   "source": [
    "%matplotlib inline"
   ]
  },
  {
   "cell_type": "code",
   "execution_count": 2186,
   "metadata": {},
   "outputs": [
    {
     "name": "stdout",
     "output_type": "stream",
     "text": [
      "Model: pauliSet_1J2_xJx_d2+pauliSet_1J2_yJy_d2+pauliSet_1J2_zJz_d2+pauliSet_1_z_d2+pauliSet_2_x_d2+pauliSet_2_y_d2+pauliSet_2_z_d2\n"
     ]
    },
    {
     "data": {
      "text/plain": [
       "Text(0.5, 0, 'Time $s$')"
      ]
     },
     "execution_count": 2186,
     "metadata": {},
     "output_type": "execute_result"
    },
    {
     "data": {
      "image/png": "[encoded data removed]",
      "text/plain": [
       "<Figure size 432x288 with 1 Axes>"
      ]
     },
     "metadata": {
      "needs_background": "light"
     },
     "output_type": "display_data"
    }
   ],
   "source": [
    "print(\"Model:\", true_model)\n",
    "plt.plot(\n",
    "    times*10**6,\n",
    "    ex_val_list, \n",
    "    color='r',\n",
    "    ms = 40, \n",
    "    markevery=10\n",
    ")\n",
    "\n",
    "plt.plot(\n",
    "    times*10**6,\n",
    "    ex_val_list_check, \n",
    "    color='b'\n",
    ")\n",
    "\n",
    "plt.plot(xdata, ydata, \"g.\", label=\"Exp. Data\")\n",
    "\n",
    "plt.figsize=(15, 10)\n",
    "plt.ylabel('Expectation value')\n",
    "plt.xlabel('Time $s$')"
   ]
  },
  {
   "cell_type": "code",
   "execution_count": null,
   "metadata": {},
   "outputs": [],
   "source": []
  },
  {
   "cell_type": "code",
   "execution_count": null,
   "metadata": {},
   "outputs": [],
   "source": []
  }
 ],
 "metadata": {
  "kernelspec": {
   "display_name": "Python 3",
   "language": "python",
   "name": "python3"
  },
  "language_info": {
   "codemirror_mode": {
    "name": "ipython",
    "version": 3
   },
   "file_extension": ".py",
   "mimetype": "text/x-python",
   "name": "python",
   "nbconvert_exporter": "python",
   "pygments_lexer": "ipython3",
   "version": "3.5.2"
  }
 },
 "nbformat": 4,
 "nbformat_minor": 4
}
