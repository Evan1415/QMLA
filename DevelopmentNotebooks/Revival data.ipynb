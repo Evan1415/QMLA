{
 "cells": [
  {
   "cell_type": "code",
   "execution_count": 1,
   "metadata": {},
   "outputs": [],
   "source": [
    "import sys\n",
    "import os\n",
    "import numpy as np\n",
    "import pickle\n",
    "import pandas as pd\n",
    "import seaborn as sns\n",
    "import sklearn\n",
    "import matplotlib.pyplot as plt\n",
    "from matplotlib.lines import Line2D\n",
    "import qinfer as qi"
   ]
  },
  {
   "cell_type": "code",
   "execution_count": 2,
   "metadata": {},
   "outputs": [],
   "source": [
    "sys.path.append(\"/home/bf16951/QMD\")\n",
    "import qmla"
   ]
  },
  {
   "cell_type": "markdown",
   "metadata": {},
   "source": [
    "# Quickly construct models and plot dynamics"
   ]
  },
  {
   "cell_type": "code",
   "execution_count": 68,
   "metadata": {},
   "outputs": [
    {
     "name": "stdout",
     "output_type": "stream",
     "text": [
      "[|++'> probes] Noise factor: 0\n",
      "Model: xTi+xTx+zTi+zTz\n"
     ]
    },
    {
     "data": {
      "text/plain": [
       "(-0.1, 1.1)"
      ]
     },
     "execution_count": 68,
     "metadata": {},
     "output_type": "execute_result"
    },
    {
     "data": {
      "image/png": "[encoded data removed]",
      "text/plain": [
       "<Figure size 432x288 with 1 Axes>"
      ]
     },
     "metadata": {},
     "output_type": "display_data"
    }
   ],
   "source": [
    "n_qubits = 4\n",
    "true_model_terms_params = {\n",
    "    # spin\n",
    "    'pauliSet_1_x_d{}'.format(n_qubits) : 1.94e9,\n",
    "    'pauliSet_1_y_d{}'.format(n_qubits) : 1.94e9,\n",
    "    'pauliSet_1_z_d{}'.format(n_qubits) : 1.94e9,\n",
    "    \n",
    "    'pauliSet_1J2_zJz_d{}'.format(n_qubits) : 2.14e6, \n",
    "    'pauliSet_1J3_zJz_d{}'.format(n_qubits) : 2.4e6, \n",
    "    'pauliSet_1J4_zJz_d{}'.format(n_qubits) : 2.14e6, \n",
    "#     'pauliSet_1J5_zJz_d{}'.format(n_qubits) : 2.14e6, \n",
    "#     'pauliSet_1J6_zJz_d{}'.format(n_qubits) : 2.14e6, \n",
    "\n",
    "    'pauliSet_1J2_yJy_d{}'.format(n_qubits) : 2.7e9, \n",
    "    'pauliSet_1J3_yJy_d{}'.format(n_qubits) : 2.4e9, \n",
    "    'pauliSet_1J4_yJy_d{}'.format(n_qubits) : 2.14e9, \n",
    "#     'pauliSet_1J5_yJy_d{}'.format(n_qubits) : 2.14e6, \n",
    "#     'pauliSet_1J6_yJy_d{}'.format(n_qubits) : 2.14e6, \n",
    "\n",
    "    'pauliSet_1J2_xJx_d{}'.format(n_qubits) : 2.7e9, \n",
    "    'pauliSet_1J3_xJx_d{}'.format(n_qubits) : 2.4e9, \n",
    "    'pauliSet_1J4_xJx_d{}'.format(n_qubits) : 2.14e9, \n",
    "#     'pauliSet_1J5_xJx_d{}'.format(n_qubits) : 2.14e6, \n",
    "#     'pauliSet_1J6_xJx_d{}'.format(n_qubits) : 2.14e6, \n",
    "\n",
    "    # nitrogen nuclei \n",
    "    'pauliSet_2_x_d{}'.format(n_qubits) : 3.37e9,\n",
    "    'pauliSet_2_y_d{}'.format(n_qubits) : 3.37e9,\n",
    "    'pauliSet_2_z_d{}'.format(n_qubits) : 3.37e9,\n",
    "\n",
    "    # carbon nuclei - 3rd qubit\n",
    "    'pauliSet_3_x_d{}'.format(n_qubits) : 117e9,\n",
    "    'pauliSet_3_y_d{}'.format(n_qubits) : 117e9,\n",
    "    'pauliSet_3_z_d{}'.format(n_qubits) : 117e9,\n",
    "\n",
    "    # carbon nuclei - 4th qubit\n",
    "    'pauliSet_4_x_d{}'.format(n_qubits) : 117e9,\n",
    "    'pauliSet_4_y_d{}'.format(n_qubits) : 117e9,\n",
    "    'pauliSet_4_z_d{}'.format(n_qubits) : 117e9,\n",
    "\n",
    "#     # carbon nuclei - 5th qubit\n",
    "    'pauliSet_5_x_d{}'.format(n_qubits) : 117e9,\n",
    "    'pauliSet_5_y_d{}'.format(n_qubits) : 117e9,\n",
    "    'pauliSet_5_z_d{}'.format(n_qubits) : 117e9,\n",
    "\n",
    "#     # carbon nuclei - 6th qubit\n",
    "#     'pauliSet_6_x_d{}'.format(n_qubits) : 117e3,\n",
    "#     'pauliSet_6_y_d{}'.format(n_qubits) : 117e3,\n",
    "#     'pauliSet_6_z_d{}'.format(n_qubits) : 117e3,\n",
    "}\n",
    "\n",
    "true_model_terms_params = {\n",
    "    'xTi' : 5e9,\n",
    "    'zTi' : 5e9,    \n",
    "    'xTx' : 5e9,    \n",
    "    'zTz' : 5e9,\n",
    "    \n",
    "}\n",
    "true_model = '+'.join(\n",
    "    (true_model_terms_params.keys())\n",
    ")\n",
    "true_model = qmla.construct_models.alph(true_model)\n",
    "\n",
    "# Construct Hamiltonian\n",
    "hamiltonian = None\n",
    "for k in true_model_terms_params:\n",
    "    \n",
    "    param = true_model_terms_params[k]\n",
    "    mtx = qmla.construct_models.compute(k)\n",
    "    \n",
    "    if hamiltonian is None: \n",
    "        hamiltonian = param * mtx\n",
    "    else:\n",
    "        hamiltonian += param * mtx\n",
    "\n",
    "# Configuration        \n",
    "num_qubits = int(np.log2(np.shape(hamiltonian))[0])\n",
    "probe_set = qmla.shared_functionality.probe_set_generation.plus_plus_with_phase_difference(\n",
    "    num_probes=1, \n",
    "    max_num_qubits=num_qubits,\n",
    "    noise_level=0\n",
    ")\n",
    "probe = probe_set[(0,num_qubits)]\n",
    "\n",
    "max_time = 200e-6\n",
    "time_increment = 1e-6\n",
    "times = np.arange(0, max_time, time_increment)\n",
    "\n",
    "# Compute expectation values\n",
    "expectation_values = {\n",
    "    t : qmla.shared_functionality.n_qubit_hahn_evolution(\n",
    "        ham = hamiltonian, \n",
    "        t = t,\n",
    "        state = probe\n",
    "    )\n",
    "    for t in times\n",
    "}\n",
    "ex_val_list = [expectation_values[t] for t in times]\n",
    "\n",
    "# Plot results\n",
    "print(\"Model:\", true_model)\n",
    "plt.plot(\n",
    "    times,\n",
    "    ex_val_list, \n",
    "    color='red',\n",
    "    ms = 40, \n",
    "    markevery=10\n",
    ")\n",
    "\n",
    "plt.figsize=(15, 10)\n",
    "plt.ylabel('Expectation value')\n",
    "plt.xlabel('Time $s$')\n",
    "plt.ylim(-0.1,1.1)"
   ]
  },
  {
   "cell_type": "code",
   "execution_count": 69,
   "metadata": {},
   "outputs": [],
   "source": [
    "l1 = [1,2,3,4]\n",
    "l2 = [5,6,7,8]"
   ]
  },
  {
   "cell_type": "code",
   "execution_count": 70,
   "metadata": {},
   "outputs": [
    {
     "data": {
      "text/plain": [
       "[1, 2, 3, 4, 5, 6, 7, 8]"
      ]
     },
     "execution_count": 70,
     "metadata": {},
     "output_type": "execute_result"
    }
   ],
   "source": [
    "l1 + l2"
   ]
  },
  {
   "cell_type": "code",
   "execution_count": 14,
   "metadata": {},
   "outputs": [],
   "source": [
    "%matplotlib inline\n"
   ]
  },
  {
   "cell_type": "code",
   "execution_count": 27,
   "metadata": {},
   "outputs": [],
   "source": [
    "precomputed_hahn_y_inversion_gates = {\n",
    "    i : qmla.shared_functionality.expectation_values.make_inversion_gate_rotate_y(i)\n",
    "    for i in range(1, 8)\n",
    "}"
   ]
  },
  {
   "cell_type": "code",
   "execution_count": 42,
   "metadata": {},
   "outputs": [],
   "source": [
    "from qmla.shared_functionality.hahn_inversion_gates import precomputed_hahn_z_inversion_gates as hig"
   ]
  },
  {
   "cell_type": "code",
   "execution_count": 43,
   "metadata": {},
   "outputs": [
    {
     "data": {
      "text/plain": [
       "array([[0.-1.j, 0.+0.j, 0.+0.j, 0.+0.j],\n",
       "       [0.+0.j, 0.-1.j, 0.+0.j, 0.+0.j],\n",
       "       [0.+0.j, 0.+0.j, 0.+1.j, 0.+0.j],\n",
       "       [0.+0.j, 0.+0.j, 0.+0.j, 0.+1.j]])"
      ]
     },
     "execution_count": 43,
     "metadata": {},
     "output_type": "execute_result"
    }
   ],
   "source": [
    "hig[2]"
   ]
  },
  {
   "cell_type": "code",
   "execution_count": 46,
   "metadata": {},
   "outputs": [
    {
     "data": {
      "text/plain": [
       "array([[0.+0.j, 0.+0.j, 0.+0.j, ..., 0.+0.j, 0.+0.j, 0.+0.j],\n",
       "       [0.+0.j, 0.+0.j, 0.+0.j, ..., 0.+0.j, 0.+0.j, 0.+0.j],\n",
       "       [0.+0.j, 0.+0.j, 0.+0.j, ..., 0.+0.j, 0.+0.j, 0.+0.j],\n",
       "       ...,\n",
       "       [0.+0.j, 0.+0.j, 0.+0.j, ..., 0.+0.j, 0.+0.j, 0.+0.j],\n",
       "       [0.+0.j, 0.+0.j, 0.+0.j, ..., 0.+0.j, 0.+0.j, 0.+0.j],\n",
       "       [0.+0.j, 0.+0.j, 0.+0.j, ..., 0.+0.j, 0.+0.j, 0.+0.j]])"
      ]
     },
     "execution_count": 46,
     "metadata": {},
     "output_type": "execute_result"
    }
   ],
   "source": [
    "precomputed_hahn_y_inversion_gates[5]"
   ]
  },
  {
   "cell_type": "code",
   "execution_count": 52,
   "metadata": {},
   "outputs": [],
   "source": [
    "fp = open('hahn_gate.py', 'a+')\n",
    "np.set_printoptions(threshold=np.inf)\n",
    "print(precomputed_hahn_y_inversion_gates, file=fp)"
   ]
  },
  {
   "cell_type": "code",
   "execution_count": null,
   "metadata": {},
   "outputs": [],
   "source": []
  }
 ],
 "metadata": {
  "kernelspec": {
   "display_name": "Python 3",
   "language": "python",
   "name": "python3"
  },
  "language_info": {
   "codemirror_mode": {
    "name": "ipython",
    "version": 3
   },
   "file_extension": ".py",
   "mimetype": "text/x-python",
   "name": "python",
   "nbconvert_exporter": "python",
   "pygments_lexer": "ipython3",
   "version": "3.5.2"
  }
 },
 "nbformat": 4,
 "nbformat_minor": 2
}
