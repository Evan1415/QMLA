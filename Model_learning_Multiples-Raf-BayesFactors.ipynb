{
 "cells": [
  {
   "cell_type": "markdown",
   "metadata": {},
   "source": [
    "# WARNING: debugged, yet to tune-up\n",
    "\n",
    "### Possible improvements:\n",
    "1) check \"choose_prob\" method for useless calls, as they rely on the slow np.linalg library\n",
    "\n",
    "2) consider improving Pr0fromScipy calls (eventually re/move the dimensional check from there)\n",
    "\n",
    "3) performances for 2+ parameters are poor especially if the true parameters differ a lot. the choice of the probe_state for mixed operators may not be efficient. I have impression that without bootstrapping the model from single operators, the learning process is almost uneffective\n",
    "\n",
    "..."
   ]
  },
  {
   "cell_type": "code",
   "execution_count": 1,
   "metadata": {
    "collapsed": false
   },
   "outputs": [],
   "source": [
    "%matplotlib inline\n",
    "import qinfer as qi\n",
    "import qutip as qt\n",
    "import numpy as np\n",
    "import scipy as sp\n",
    "import math as mth\n",
    "from IPython.display import display, Math, Latex\n",
    "from functools import partial\n",
    "import matplotlib.pyplot as plt"
   ]
  },
  {
   "cell_type": "code",
   "execution_count": 2,
   "metadata": {
    "collapsed": false
   },
   "outputs": [],
   "source": [
    "import datetime\n",
    "import os as os\n",
    "import time as time"
   ]
  },
  {
   "cell_type": "code",
   "execution_count": 3,
   "metadata": {
    "collapsed": true
   },
   "outputs": [],
   "source": [
    "import importlib as imp"
   ]
  },
  {
   "cell_type": "code",
   "execution_count": 4,
   "metadata": {
    "collapsed": false
   },
   "outputs": [],
   "source": [
    "import logging as logging\n",
    "import warnings as warnings\n",
    "import sys\n",
    "\n",
    "%run LoggingCode.py"
   ]
  },
  {
   "cell_type": "markdown",
   "metadata": {},
   "source": [
    "Importing Local Function for Hamiltonian learning"
   ]
  },
  {
   "cell_type": "code",
   "execution_count": 5,
   "metadata": {
    "collapsed": true
   },
   "outputs": [],
   "source": [
    "# Add personalized library to PYTHONPATH\n",
    "sys.path.append(os.path.join(\"..\",\"Libraries\",\"QML_lib\"))"
   ]
  },
  {
   "cell_type": "code",
   "execution_count": 6,
   "metadata": {
    "collapsed": false
   },
   "outputs": [],
   "source": [
    "from Norms import *\n",
    "from IOfuncts import *\n",
    "from EvalLoss import *\n",
    "\n",
    "import ProbeStates as pros\n",
    "import multiPGH as mpgh\n",
    "import GenSimQMD_IQLE as gsi\n",
    "import Evo as evo"
   ]
  },
  {
   "cell_type": "code",
   "execution_count": 7,
   "metadata": {
    "collapsed": false
   },
   "outputs": [],
   "source": [
    "\"\"\" filter only the Weight Clipping warning \"\"\"\n",
    "#SET LEVEL WARNINGS TO 0 In FINAL VERSION\n",
    "warnings.filterwarnings(\"ignore\", message='Negative weights occured', category=RuntimeWarning)"
   ]
  },
  {
   "cell_type": "markdown",
   "metadata": {
    "collapsed": true
   },
   "source": [
    "# Model learning functions\n"
   ]
  },
  {
   "cell_type": "markdown",
   "metadata": {
    "collapsed": false
   },
   "source": [
    "#ChosenOpList = np.array([evo.sigmaz(), evo.sigmax()])\n",
    "\n",
    "\n",
    "TrueOpList is the array of the Operators which compose the TRUE Hamiltonian  of the system\n",
    "TrueParams (array) are the corresponding True values which together with OpList let us write the true Hamiltonian of the system\n",
    "\n",
    "Hsys= Sum TrueOpList[i].TrueParams[i]\n",
    "\n",
    "\n",
    "SimParams list of parameters tried for the simulator which will be used as centre of the distribution for the particles\n",
    "OpList list of the operators tried for the quantum simulator i.e. of the model we are testing\n",
    "\n",
    "Hsim= Sum OpList[i].SimParams[i]\n",
    "\n",
    "Particles is the array with all the particles contained in this model, each element of this array is an array\n",
    "with length equal to the number of operators/Trueparams in the Hamiltonian\n",
    "\n",
    "Weights are the weights of the particles\n",
    "    \n",
    "BayesFactorList is the list with all the BayesFactors of this model\n",
    "    \n",
    "VolumeList array containing Volume vs number of experiments\n",
    "    \n",
    "NumParticles is the number of particles\n",
    "\n",
    "    "
   ]
  },
  {
   "cell_type": "code",
   "execution_count": 8,
   "metadata": {
    "collapsed": false
   },
   "outputs": [],
   "source": [
    "lst = [evo.sigmax(),evo.sigmay(), evo.sigmaz()]     "
   ]
  },
  {
   "cell_type": "code",
   "execution_count": 9,
   "metadata": {
    "collapsed": false
   },
   "outputs": [],
   "source": [
    "import Utils as uti\n",
    "import Models as mods\n",
    "import BayesF as bayf\n",
    "import ModLearn as mdl\n",
    "import QMD as qmd\n",
    "import QML as qml"
   ]
  },
  {
   "cell_type": "markdown",
   "metadata": {},
   "source": [
    "## Reload when needed"
   ]
  },
  {
   "cell_type": "code",
   "execution_count": 48,
   "metadata": {
    "collapsed": false
   },
   "outputs": [
    {
     "data": {
      "text/plain": [
       "<module 'QML' from '..\\\\Libraries\\\\QML_lib\\\\QML.py'>"
      ]
     },
     "execution_count": 48,
     "metadata": {},
     "output_type": "execute_result"
    }
   ],
   "source": [
    "imp.reload(pros)\n",
    "imp.reload(mpgh)\n",
    "imp.reload(gsi)\n",
    "imp.reload(evo)\n",
    "imp.reload(mdl)\n",
    "imp.reload(uti)\n",
    "imp.reload(mods)\n",
    "imp.reload(bayf)\n",
    "imp.reload(qmd)\n",
    "imp.reload(qml)"
   ]
  },
  {
   "cell_type": "code",
   "execution_count": 49,
   "metadata": {
    "collapsed": false
   },
   "outputs": [],
   "source": [
    "# reload(pros)\n",
    "# reload(mpgh)\n",
    "# reload(gsi)\n",
    "# reload(evo)\n",
    "# reload(mdl)\n",
    "# reload(uti)\n",
    "# reload(mods)\n",
    "# reload(bayf)\n",
    "# reload(qmd)\n",
    "# reload(qml)"
   ]
  },
  {
   "cell_type": "markdown",
   "metadata": {},
   "source": [
    "# MODEL LEARNING TEST"
   ]
  },
  {
   "cell_type": "code",
   "execution_count": 62,
   "metadata": {
    "collapsed": false,
    "scrolled": true
   },
   "outputs": [
    {
     "name": "stdout",
     "output_type": "stream",
     "text": [
      "[[[ 0.+0.j  1.+0.j]\n",
      "  [ 1.+0.j  0.+0.j]]]\n",
      "[[ 0.47081445]]\n",
      "['sx_']\n"
     ]
    }
   ],
   "source": [
    "modeltest = qmd.ModelsDevelopmentClass()\n",
    "\n",
    "print(modeltest.TrueOpList)\n",
    "print(modeltest.TrueParamsList)\n",
    "print(uti.ModelNamesPauli([modeltest.TrueOpList], uti.PauliNames() ) )"
   ]
  },
  {
   "cell_type": "code",
   "execution_count": 63,
   "metadata": {
    "collapsed": false
   },
   "outputs": [
    {
     "name": "stdout",
     "output_type": "stream",
     "text": [
      "[[ 0.47081445]]\n"
     ]
    }
   ],
   "source": [
    "print(modeltest.TrueParamsList)"
   ]
  },
  {
   "cell_type": "code",
   "execution_count": 64,
   "metadata": {
    "collapsed": false
   },
   "outputs": [
    {
     "name": "stdout",
     "output_type": "stream",
     "text": [
      "[[[ 0.+0.j  1.+0.j]\n",
      "  [ 1.+0.j  0.+0.j]]]\n",
      "[[[ 0.+0.j -0.-1.j]\n",
      "  [ 0.+1.j  0.+0.j]]]\n",
      "[[[ 1.+0.j  0.+0.j]\n",
      "  [ 0.+0.j -1.+0.j]]]\n"
     ]
    }
   ],
   "source": [
    " for i in range(0, modeltest.MaxModNum):\n",
    "            print(modeltest.AvailableModsOpList[i])"
   ]
  },
  {
   "cell_type": "code",
   "execution_count": 65,
   "metadata": {
    "collapsed": false
   },
   "outputs": [
    {
     "name": "stdout",
     "output_type": "stream",
     "text": [
      "ModelNames: ['sx_', 'sy_', 'sz_', 'sy_sx_', 'sz_sx_', 'sz_sy_', 'sz_sy_sx_']\n"
     ]
    }
   ],
   "source": [
    "print('ModelNames: ' + repr(modeltest.ModelNames))\n",
    "# print('ModelDict: ' + repr(modeltest.ModelDict))"
   ]
  },
  {
   "cell_type": "code",
   "execution_count": 66,
   "metadata": {
    "collapsed": false
   },
   "outputs": [
    {
     "name": "stdout",
     "output_type": "stream",
     "text": [
      "[[ 0.85126395]]\n",
      "Initialization Ready\n",
      "[[ 0.68291124]]\n",
      "Initialization Ready\n",
      "[[ 0.24397817]]\n",
      "Initialization Ready\n"
     ]
    }
   ],
   "source": [
    "modeltest.InitialiseAllActiveModels()"
   ]
  },
  {
   "cell_type": "code",
   "execution_count": 67,
   "metadata": {
    "collapsed": false
   },
   "outputs": [
    {
     "name": "stdout",
     "output_type": "stream",
     "text": [
      "Initial time selected > 10.1346215522\n",
      "Final time selected > 2.94264588982\n",
      "Final Parameters mean and stdev:[ 0.52185753  0.17739955]\n",
      "Batch single time 0 elapsed time: 5.1459327354587\n",
      "Initial time selected > 1.13014864957\n",
      "Final time selected > 109.911988157\n",
      "Final Parameters mean and stdev:[-0.12973979  0.03034559]\n",
      "Batch single time 1 elapsed time: 5.18456105223413\n",
      "Initial time selected > 7.45999724312\n",
      "Final time selected > 15.7573692848\n",
      "Final Parameters mean and stdev:[ 0.07940611  0.02550491]\n",
      "Batch single time 2 elapsed time: 7.068690523978148\n",
      "LogTotLikelihoods updated\n",
      "LogTotLikelihoods updated\n",
      "LogTotLikelihoods updated\n",
      "Total elapsed time: 30.493884440747934\n"
     ]
    }
   ],
   "source": [
    "start=time.clock()\n",
    "modeltest.UpdateAllActiveModels(expnum=50)\n",
    "end=time.clock()\n",
    "print('Total elapsed time: ' + str(end-start))\n"
   ]
  },
  {
   "cell_type": "code",
   "execution_count": 70,
   "metadata": {
    "collapsed": false
   },
   "outputs": [
    {
     "data": {
      "text/plain": [
       "{\"['sx_']VS['sy_']\": 38517998387403864.0,\n",
       " \"['sx_']VS['sz_']\": 3.4210592069075635e+22,\n",
       " \"['sy_']VS['sx_']\": 0.0,\n",
       " \"['sy_']VS['sz_']\": 888171.59513312532,\n",
       " \"['sz_']VS['sx_']\": 0.0,\n",
       " \"['sz_']VS['sy_']\": 1.125908558052835e-06}"
      ]
     },
     "execution_count": 70,
     "metadata": {},
     "output_type": "execute_result"
    }
   ],
   "source": [
    "modeltest.ComputeAllBayesFactors()"
   ]
  },
  {
   "cell_type": "code",
   "execution_count": 71,
   "metadata": {
    "collapsed": false
   },
   "outputs": [
    {
     "data": {
      "text/plain": [
       "[0]"
      ]
     },
     "execution_count": 71,
     "metadata": {},
     "output_type": "execute_result"
    }
   ],
   "source": [
    "modeltest.ChampionPosition()"
   ]
  },
  {
   "cell_type": "code",
   "execution_count": 72,
   "metadata": {
    "collapsed": false
   },
   "outputs": [
    {
     "data": {
      "text/plain": [
       "'sy_'"
      ]
     },
     "execution_count": 72,
     "metadata": {},
     "output_type": "execute_result"
    }
   ],
   "source": [
    "modeltest.ModelNames[1]"
   ]
  },
  {
   "cell_type": "code",
   "execution_count": 73,
   "metadata": {
    "collapsed": false
   },
   "outputs": [],
   "source": [
    "modeltest.ChampionPruning()"
   ]
  },
  {
   "cell_type": "code",
   "execution_count": 74,
   "metadata": {
    "collapsed": false
   },
   "outputs": [
    {
     "data": {
      "text/plain": [
       "[<QML.ModelLearningClass at 0xc4d9828>]"
      ]
     },
     "execution_count": 74,
     "metadata": {},
     "output_type": "execute_result"
    }
   ],
   "source": [
    "modeltest.ModelsList"
   ]
  },
  {
   "cell_type": "code",
   "execution_count": 19,
   "metadata": {
    "collapsed": true
   },
   "outputs": [],
   "source": [
    "bayesllocal=np.array(modeltest.BayesFactorsList)\n",
    "# np.max(bayesllocal)\n",
    "lengthlsit=int(bayesllocal.size)"
   ]
  },
  {
   "cell_type": "code",
   "execution_count": 21,
   "metadata": {
    "collapsed": false
   },
   "outputs": [],
   "source": [
    "xsize = int(len(modeltest.ModelsList))\n",
    "ysize = int(lengthlsit/len(modeltest.ModelsList))\n",
    "\n",
    "bayessorted=np.reshape(bayesllocal, (xsize,ysize) )\n",
    "champion = []\n",
    "champ_threshold=1000\n",
    "\n",
    "for i in range( ysize ):\n",
    "    if np.all(bayessorted[i,:] > champ_threshold):\n",
    "        champion.append(i)\n",
    "        \n",
    "    "
   ]
  },
  {
   "cell_type": "code",
   "execution_count": 20,
   "metadata": {
    "collapsed": false
   },
   "outputs": [
    {
     "data": {
      "text/plain": [
       "array([  4.31817547e+09,   4.60841254e-10,   2.31579311e-10,\n",
       "         0.00000000e+00,   2.16994451e+09,   9.37020116e+18])"
      ]
     },
     "execution_count": 20,
     "metadata": {},
     "output_type": "execute_result"
    }
   ],
   "source": [
    "bayesllocal"
   ]
  },
  {
   "cell_type": "code",
   "execution_count": 23,
   "metadata": {
    "collapsed": false
   },
   "outputs": [
    {
     "data": {
      "text/plain": [
       "[4318175472.0639925,\n",
       " 4.6084125404632914e-10,\n",
       " 2.3157931128281461e-10,\n",
       " 0.0,\n",
       " 2169944509.6501694,\n",
       " 9.3702011573112893e+18,\n",
       " 4318175472.0639925,\n",
       " 4.6084125404632914e-10,\n",
       " 2.3157931128281461e-10,\n",
       " 0.0,\n",
       " 2169944509.6501694,\n",
       " 9.3702011573112893e+18]"
      ]
     },
     "execution_count": 23,
     "metadata": {},
     "output_type": "execute_result"
    }
   ],
   "source": [
    "modeltest.BayesFactorsList"
   ]
  },
  {
   "cell_type": "code",
   "execution_count": 22,
   "metadata": {
    "collapsed": false
   },
   "outputs": [
    {
     "ename": "IndexError",
     "evalue": "index 3 is out of bounds for axis 0 with size 3",
     "output_type": "error",
     "traceback": [
      "\u001b[0;31m---------------------------------------------------------------------------\u001b[0m",
      "\u001b[0;31mIndexError\u001b[0m                                Traceback (most recent call last)",
      "\u001b[0;32m<ipython-input-22-6e5893e3c569>\u001b[0m in \u001b[0;36m<module>\u001b[0;34m()\u001b[0m\n\u001b[0;32m----> 1\u001b[0;31m \u001b[0mmodeltest\u001b[0m\u001b[1;33m.\u001b[0m\u001b[0mChampionPosition\u001b[0m\u001b[1;33m(\u001b[0m\u001b[1;33m)\u001b[0m\u001b[1;33m\u001b[0m\u001b[0m\n\u001b[0m",
      "\u001b[0;32mC:\\Local Documents\\Dropbox (Qsim)\\Projects\\CU4 chip\\QHLandD\\Libraries\\QML_lib\\QMD.py\u001b[0m in \u001b[0;36mChampionPosition\u001b[0;34m(self)\u001b[0m\n\u001b[1;32m    239\u001b[0m \u001b[1;33m\u001b[0m\u001b[0m\n\u001b[1;32m    240\u001b[0m         \u001b[1;32mfor\u001b[0m \u001b[0mi\u001b[0m \u001b[1;32min\u001b[0m \u001b[0mrange\u001b[0m\u001b[1;33m(\u001b[0m \u001b[0mysize\u001b[0m \u001b[1;33m)\u001b[0m\u001b[1;33m:\u001b[0m\u001b[1;33m\u001b[0m\u001b[0m\n\u001b[0;32m--> 241\u001b[0;31m             \u001b[1;32mif\u001b[0m \u001b[0mnp\u001b[0m\u001b[1;33m.\u001b[0m\u001b[0mall\u001b[0m\u001b[1;33m(\u001b[0m\u001b[0mbayessorted\u001b[0m\u001b[1;33m[\u001b[0m\u001b[0mi\u001b[0m\u001b[1;33m,\u001b[0m\u001b[1;33m:\u001b[0m\u001b[1;33m]\u001b[0m \u001b[1;33m>\u001b[0m \u001b[0mchamp_threshold\u001b[0m\u001b[1;33m)\u001b[0m\u001b[1;33m:\u001b[0m\u001b[1;33m\u001b[0m\u001b[0m\n\u001b[0m\u001b[1;32m    242\u001b[0m                 \u001b[0mchampion\u001b[0m\u001b[1;33m.\u001b[0m\u001b[0mappend\u001b[0m\u001b[1;33m(\u001b[0m\u001b[0mi\u001b[0m\u001b[1;33m)\u001b[0m\u001b[1;33m\u001b[0m\u001b[0m\n\u001b[1;32m    243\u001b[0m         \u001b[1;32mreturn\u001b[0m\u001b[1;33m(\u001b[0m\u001b[0mchampion\u001b[0m\u001b[1;33m)\u001b[0m\u001b[1;33m\u001b[0m\u001b[0m\n",
      "\u001b[0;31mIndexError\u001b[0m: index 3 is out of bounds for axis 0 with size 3"
     ]
    }
   ],
   "source": [
    "modeltest.ChampionPosition()"
   ]
  },
  {
   "cell_type": "code",
   "execution_count": 90,
   "metadata": {
    "collapsed": false
   },
   "outputs": [
    {
     "name": "stderr",
     "output_type": "stream",
     "text": [
      "C:\\Anaconda\\lib\\site-packages\\ipykernel\\__main__.py:2: ComplexWarning: Casting complex values to real discards the imaginary part\n",
      "  from ipykernel import kernelapp as app\n"
     ]
    },
    {
     "data": {
      "text/plain": [
       "5.2586846003288557e-06"
      ]
     },
     "execution_count": 90,
     "metadata": {},
     "output_type": "execute_result"
    }
   ],
   "source": [
    "i=0\n",
    "bayf.BayesFactorfromLogL(modeltest.ModelsList[int(outlst[2*i])].KLogTotLikelihood, modeltest.ModelsList[int(outlst[2*i+1])].KLogTotLikelihood)"
   ]
  },
  {
   "cell_type": "code",
   "execution_count": 82,
   "metadata": {
    "collapsed": false
   },
   "outputs": [
    {
     "data": {
      "text/plain": [
       "array([], dtype=float64)"
      ]
     },
     "execution_count": 82,
     "metadata": {},
     "output_type": "execute_result"
    }
   ],
   "source": [
    "modeltest.ModelsList[0].KLogTotLikelihood"
   ]
  },
  {
   "cell_type": "code",
   "execution_count": 73,
   "metadata": {
    "collapsed": false
   },
   "outputs": [
    {
     "name": "stdout",
     "output_type": "stream",
     "text": [
      "[ 1.12591301]\n",
      "[ 0.33413277]\n",
      "[ 0.05238769]\n"
     ]
    }
   ],
   "source": [
    "for i in range(len(modeltest.ModelsList)):\n",
    "    print(modeltest.ModelsList[i].NewEval)"
   ]
  },
  {
   "cell_type": "code",
   "execution_count": 29,
   "metadata": {
    "collapsed": false
   },
   "outputs": [
    {
     "name": "stdout",
     "output_type": "stream",
     "text": [
      "['sy_sx_']\n"
     ]
    }
   ],
   "source": [
    "print(uti.ModelNamesPauli([modeltest.TrueOpList], uti.PauliNames() ) )"
   ]
  },
  {
   "cell_type": "code",
   "execution_count": 35,
   "metadata": {
    "collapsed": false
   },
   "outputs": [
    {
     "data": {
      "text/plain": [
       "{\"['sx_']VS['sx_sy_']\": 3325025988887.5322,\n",
       " \"['sx_']VS['sx_sy_sz_']\": 0.14551132638824071,\n",
       " \"['sx_']VS['sx_sz_']\": 3.0034087843989771e+25,\n",
       " \"['sx_']VS['sy_']\": 2.0923602628286631e-08,\n",
       " \"['sx_']VS['sy_sz_']\": 2.6497049245066684e-05,\n",
       " \"['sx_']VS['sz_']\": 3.5052248674050073e+27,\n",
       " \"['sx_sy_']VS['sx_']\": 3.0075941737095491e-13,\n",
       " \"['sx_sy_']VS['sx_sy_sz_']\": 4.3742787170231168e-14,\n",
       " \"['sx_sy_']VS['sx_sz_']\": 9032737772386.0742,\n",
       " \"['sx_sy_']VS['sy_']\": 0.0,\n",
       " \"['sx_sy_']VS['sy_sz_']\": 0.0,\n",
       " \"['sx_sy_']VS['sz_']\": 1054194727836628.1,\n",
       " \"['sx_sy_sz_']VS['sx_']\": 6.8723172609387548,\n",
       " \"['sx_sy_sz_']VS['sx_sy_']\": 22850633496501.742,\n",
       " \"['sx_sy_sz_']VS['sx_sz_']\": 2.0640378030680175e+26,\n",
       " \"['sx_sy_sz_']VS['sy_']\": 1.4379363577621262e-07,\n",
       " \"['sx_sy_sz_']VS['sy_sz_']\": 0.00018209612889097393,\n",
       " \"['sx_sy_sz_']VS['sz_']\": 2.4089017359739192e+28,\n",
       " \"['sx_sz_']VS['sx_']\": 0.0,\n",
       " \"['sx_sz_']VS['sx_sy_']\": 1.1068923555512811e-13,\n",
       " \"['sx_sz_']VS['sx_sy_sz_']\": 0.0,\n",
       " \"['sx_sz_']VS['sy_']\": 0.0,\n",
       " \"['sx_sz_']VS['sy_sz_']\": 0.0,\n",
       " \"['sx_sz_']VS['sz_']\": 116.70821786273926,\n",
       " \"['sy_']VS['sx_']\": 47792916.724605821,\n",
       " \"['sy_']VS['sx_sy_']\": 1.5891269019405192e+20,\n",
       " \"['sy_']VS['sx_sy_sz_']\": 6954410.704560128,\n",
       " \"['sy_']VS['sx_sz_']\": 1.4354166592272992e+33,\n",
       " \"['sy_']VS['sy_sz_']\": 1266.3712680184831,\n",
       " \"['sy_']VS['sz_']\": 1.6752492018890498e+35,\n",
       " \"['sy_sz_']VS['sx_']\": 37740.051382710517,\n",
       " \"['sy_sz_']VS['sx_sy_']\": 1.2548665166946331e+17,\n",
       " \"['sy_sz_']VS['sx_sy_sz_']\": 5491.6049346585678,\n",
       " \"['sy_sz_']VS['sx_sz_']\": 1.1334880184650154e+30,\n",
       " \"['sy_sz_']VS['sy_']\": 0.00078965783988826921,\n",
       " \"['sy_sz_']VS['sz_']\": 1.3228736660381964e+32,\n",
       " \"['sz_']VS['sx_']\": 0.0,\n",
       " \"['sz_']VS['sx_sy_']\": 9.9920072216264089e-16,\n",
       " \"['sz_']VS['sx_sy_sz_']\": 0.0,\n",
       " \"['sz_']VS['sx_sz_']\": 0.0085683769173486857,\n",
       " \"['sz_']VS['sy_']\": 0.0,\n",
       " \"['sz_']VS['sy_sz_']\": 0.0}"
      ]
     },
     "execution_count": 35,
     "metadata": {},
     "output_type": "execute_result"
    }
   ],
   "source": [
    "modeltest.ComputeAllBayesFactors(fromLogL = False)"
   ]
  },
  {
   "cell_type": "code",
   "execution_count": 36,
   "metadata": {
    "collapsed": true
   },
   "outputs": [],
   "source": [
    "tpool = modeltest.DataPool(20)"
   ]
  },
  {
   "cell_type": "code",
   "execution_count": 37,
   "metadata": {
    "collapsed": false
   },
   "outputs": [
    {
     "name": "stderr",
     "output_type": "stream",
     "text": [
      "/Users/raf/Anaconda/anaconda/lib/python2.7/site-packages/qinfer/smc.py:285: ApproximationWarning: Extremely small n_ess encountered (5.76431259964). Resampling is likely to fail. Consider adding particles, or resampling more often.\n",
      "  ApproximationWarning\n"
     ]
    },
    {
     "name": "stdout",
     "output_type": "stream",
     "text": [
      "LogTotLikelihoods updated\n",
      "LogTotLikelihoods updated\n",
      "LogTotLikelihoods updated\n"
     ]
    },
    {
     "name": "stderr",
     "output_type": "stream",
     "text": [
      "/Users/raf/Anaconda/anaconda/lib/python2.7/site-packages/qinfer/smc.py:285: ApproximationWarning: Extremely small n_ess encountered (2.60077288946). Resampling is likely to fail. Consider adding particles, or resampling more often.\n",
      "  ApproximationWarning\n"
     ]
    },
    {
     "name": "stdout",
     "output_type": "stream",
     "text": [
      "LogTotLikelihoods updated\n"
     ]
    },
    {
     "name": "stderr",
     "output_type": "stream",
     "text": [
      "/Users/raf/Anaconda/anaconda/lib/python2.7/site-packages/qinfer/smc.py:285: ApproximationWarning: Extremely small n_ess encountered (1.00314974513). Resampling is likely to fail. Consider adding particles, or resampling more often.\n",
      "  ApproximationWarning\n"
     ]
    },
    {
     "name": "stdout",
     "output_type": "stream",
     "text": [
      "LogTotLikelihoods updated\n"
     ]
    },
    {
     "name": "stderr",
     "output_type": "stream",
     "text": [
      "/Users/raf/Anaconda/anaconda/lib/python2.7/site-packages/qinfer/smc.py:285: ApproximationWarning: Extremely small n_ess encountered (1.99079302933). Resampling is likely to fail. Consider adding particles, or resampling more often.\n",
      "  ApproximationWarning\n"
     ]
    },
    {
     "name": "stdout",
     "output_type": "stream",
     "text": [
      "LogTotLikelihoods updated\n"
     ]
    },
    {
     "name": "stderr",
     "output_type": "stream",
     "text": [
      "/Users/raf/Anaconda/anaconda/lib/python2.7/site-packages/qinfer/smc.py:285: ApproximationWarning: Extremely small n_ess encountered (2.68904305164). Resampling is likely to fail. Consider adding particles, or resampling more often.\n",
      "  ApproximationWarning\n"
     ]
    },
    {
     "name": "stdout",
     "output_type": "stream",
     "text": [
      "LogTotLikelihoods updated\n"
     ]
    }
   ],
   "source": [
    "modeltest.UpdateAllLogLikelihoods(tpool)"
   ]
  },
  {
   "cell_type": "code",
   "execution_count": 39,
   "metadata": {
    "collapsed": false
   },
   "outputs": [
    {
     "data": {
      "text/plain": [
       "{\"['sx_']VS['sx_sy_']\": 2.2204460492503131e-15,\n",
       " \"['sx_']VS['sx_sy_sz_']\": 0.0,\n",
       " \"['sx_']VS['sx_sz_']\": 0.14502613261285879,\n",
       " \"['sx_']VS['sy_']\": 0.0,\n",
       " \"['sx_']VS['sy_sz_']\": 0.0,\n",
       " \"['sx_']VS['sz_']\": 2.3079013834153211e+21,\n",
       " \"['sx_sy_']VS['sx_']\": 450645707361296.94,\n",
       " \"['sx_sy_']VS['sx_sy_sz_']\": 1.6082749950685482e-06,\n",
       " \"['sx_sy_']VS['sx_sz_']\": 65355404117195.0,\n",
       " \"['sx_sy_']VS['sy_']\": 0.0,\n",
       " \"['sx_sy_']VS['sy_sz_']\": 0.0,\n",
       " \"['sx_sy_']VS['sz_']\": 1.0400458514493131e+36,\n",
       " \"['sx_sy_sz_']VS['sx_']\": 2.8020438591178857e+20,\n",
       " \"['sx_sy_sz_']VS['sx_sy_']\": 621784.21170922159,\n",
       " \"['sx_sy_sz_']VS['sx_sz_']\": 4.0636958429947707e+19,\n",
       " \"['sx_sy_sz_']VS['sy_']\": 0.0,\n",
       " \"['sx_sy_sz_']VS['sy_sz_']\": 0.0,\n",
       " \"['sx_sy_sz_']VS['sz_']\": 6.4668408988485734e+41,\n",
       " \"['sx_sz_']VS['sx_']\": 6.8953090176475866,\n",
       " \"['sx_sz_']VS['sx_sy_']\": 1.532107773982716e-14,\n",
       " \"['sx_sz_']VS['sx_sy_sz_']\": 0.0,\n",
       " \"['sx_sz_']VS['sy_']\": 0.0,\n",
       " \"['sx_sz_']VS['sy_sz_']\": 0.0,\n",
       " \"['sx_sz_']VS['sz_']\": 1.5913693220905004e+22,\n",
       " \"['sy_']VS['sx_']\": 1.5257773913367743e+45,\n",
       " \"['sy_']VS['sx_sy_']\": 3.3857581830098523e+30,\n",
       " \"['sy_']VS['sx_sy_sz_']\": 5.4452302249726589e+24,\n",
       " \"['sy_']VS['sx_sz_']\": 2.2127759429370878e+44,\n",
       " \"['sy_']VS['sy_sz_']\": 325508.06028596824,\n",
       " \"['sy_']VS['sz_']\": 3.5213437522499612e+66,\n",
       " \"['sy_sz_']VS['sx_']\": 4.6873720730489275e+39,\n",
       " \"['sy_sz_']VS['sx_sy_']\": 1.0401457278923801e+25,\n",
       " \"['sy_sz_']VS['sx_sy_sz_']\": 1.6728403653626479e+19,\n",
       " \"['sy_sz_']VS['sx_sz_']\": 6.7979144387180457e+38,\n",
       " \"['sy_sz_']VS['sy_']\": 3.0721205462880263e-06,\n",
       " \"['sy_sz_']VS['sz_']\": 1.0817992491971961e+61,\n",
       " \"['sz_']VS['sx_']\": 0.0,\n",
       " \"['sz_']VS['sx_sy_']\": 0.0,\n",
       " \"['sz_']VS['sx_sy_sz_']\": 0.0,\n",
       " \"['sz_']VS['sx_sz_']\": 0.0,\n",
       " \"['sz_']VS['sy_']\": 0.0,\n",
       " \"['sz_']VS['sy_sz_']\": 0.0}"
      ]
     },
     "execution_count": 39,
     "metadata": {},
     "output_type": "execute_result"
    }
   ],
   "source": [
    "modeltest.ComputeAllBayesFactors(fromLogL = True)"
   ]
  },
  {
   "cell_type": "markdown",
   "metadata": {},
   "source": [
    "# On a Single pair"
   ]
  },
  {
   "cell_type": "code",
   "execution_count": 56,
   "metadata": {
    "collapsed": false
   },
   "outputs": [],
   "source": [
    "tpoolpair=modeltest.DataPairPool(5,6, 30)"
   ]
  },
  {
   "cell_type": "code",
   "execution_count": 57,
   "metadata": {
    "collapsed": false
   },
   "outputs": [
    {
     "name": "stdout",
     "output_type": "stream",
     "text": [
      "LogTotLikelihoods updated\n"
     ]
    }
   ],
   "source": [
    "modeltest.UpdatePairModelLogLikelihoods(5,6, tpoolpair)"
   ]
  },
  {
   "cell_type": "code",
   "execution_count": 58,
   "metadata": {
    "collapsed": false
   },
   "outputs": [
    {
     "data": {
      "text/plain": [
       "-223.29621241307598"
      ]
     },
     "execution_count": 58,
     "metadata": {},
     "output_type": "execute_result"
    }
   ],
   "source": [
    "modeltest.ModelsList[5].KLogTotLikelihood"
   ]
  },
  {
   "cell_type": "code",
   "execution_count": 60,
   "metadata": {
    "collapsed": false
   },
   "outputs": [
    {
     "data": {
      "text/plain": [
       "-210.83476612936602"
      ]
     },
     "execution_count": 60,
     "metadata": {},
     "output_type": "execute_result"
    }
   ],
   "source": [
    "modeltest.ModelsList[6].KLogTotLikelihood"
   ]
  },
  {
   "cell_type": "code",
   "execution_count": 63,
   "metadata": {
    "collapsed": false
   },
   "outputs": [
    {
     "data": {
      "text/plain": [
       "3.8731350683329779e-06"
      ]
     },
     "execution_count": 63,
     "metadata": {},
     "output_type": "execute_result"
    }
   ],
   "source": [
    "bayf.BayesFactorfromLogL(modeltest.ModelsList[5].KLogTotLikelihood, modeltest.ModelsList[6].KLogTotLikelihood)"
   ]
  },
  {
   "cell_type": "code",
   "execution_count": 64,
   "metadata": {
    "collapsed": false
   },
   "outputs": [
    {
     "data": {
      "text/plain": [
       "258188.7753385962"
      ]
     },
     "execution_count": 64,
     "metadata": {},
     "output_type": "execute_result"
    }
   ],
   "source": [
    "bayf.BayesFactorfromLogL(modeltest.ModelsList[6].KLogTotLikelihood, modeltest.ModelsList[5].KLogTotLikelihood)"
   ]
  },
  {
   "cell_type": "code",
   "execution_count": 33,
   "metadata": {
    "collapsed": false,
    "scrolled": false
   },
   "outputs": [
    {
     "data": {
      "text/plain": [
       "{\"['sx_']VS['sx_sy_']\": 3.2904721885472413e+84,\n",
       " \"['sx_']VS['sy_']\": 3.4397133939597899e+35,\n",
       " \"['sx_']VS['sz_']\": 2.7678165852015967e+43,\n",
       " \"['sx_']VS['sz_sx_']\": 1.280510537376759e+63,\n",
       " \"['sx_']VS['sz_sy_']\": 1.9707159097095937e+59,\n",
       " \"['sx_sy_']VS['sx_']\": 0.0,\n",
       " \"['sx_sy_']VS['sy_']\": 0.0,\n",
       " \"['sx_sy_']VS['sz_']\": 0.0,\n",
       " \"['sx_sy_']VS['sz_sx_']\": 0.0,\n",
       " \"['sx_sy_']VS['sz_sy_']\": 0.0,\n",
       " \"['sy_']VS['sx_']\": 0.0,\n",
       " \"['sy_']VS['sx_sy_']\": 9.566123137832882e+48,\n",
       " \"['sy_']VS['sz_']\": 80466488.576110482,\n",
       " \"['sy_']VS['sz_sx_']\": 3.7227245142730871e+27,\n",
       " \"['sy_']VS['sz_sy_']\": 5.7293026598384997e+23,\n",
       " \"['sz_']VS['sx_']\": 0.0,\n",
       " \"['sz_']VS['sx_sy_']\": 1.1888331785205981e+41,\n",
       " \"['sz_']VS['sy_']\": 1.2427533668812885e-08,\n",
       " \"['sz_']VS['sz_sx_']\": 4.6264284426328482e+19,\n",
       " \"['sz_']VS['sz_sy_']\": 7120110198942444.0,\n",
       " \"['sz_sx_']VS['sx_']\": 0.0,\n",
       " \"['sz_sx_']VS['sx_sy_']\": 2.5696564709948187e+21,\n",
       " \"['sz_sx_']VS['sy_']\": 0.0,\n",
       " \"['sz_sx_']VS['sz_']\": 0.0,\n",
       " \"['sz_sx_']VS['sz_sy_']\": 0.00015390079598620598,\n",
       " \"['sz_sy_']VS['sx_']\": 0.0,\n",
       " \"['sz_sy_']VS['sx_sy_']\": 1.6696836780660731e+25,\n",
       " \"['sz_sy_']VS['sy_']\": 0.0,\n",
       " \"['sz_sy_']VS['sz_']\": 1.1102230246251565e-16,\n",
       " \"['sz_sy_']VS['sz_sx_']\": 6497.6921892585524}"
      ]
     },
     "execution_count": 33,
     "metadata": {},
     "output_type": "execute_result"
    }
   ],
   "source": [
    "modeltest.ComputeAllBayesFactors(fromLogL = True)"
   ]
  },
  {
   "cell_type": "markdown",
   "metadata": {},
   "source": [
    "## Preliminary trials"
   ]
  },
  {
   "cell_type": "code",
   "execution_count": 27,
   "metadata": {
    "collapsed": true
   },
   "outputs": [],
   "source": [
    "tpool = modeltest.DataPool(10)"
   ]
  },
  {
   "cell_type": "code",
   "execution_count": 33,
   "metadata": {
    "collapsed": false
   },
   "outputs": [
    {
     "name": "stdout",
     "output_type": "stream",
     "text": [
      "mytpool len:  60\n"
     ]
    },
    {
     "data": {
      "text/plain": [
       "array([  3.56836995e-01,   1.58083401e+00,   1.09448136e+00,\n",
       "         1.86424750e+00,   3.57263671e-01,   1.42073129e+00,\n",
       "         5.29827653e-01,   1.20131291e+00,   8.55761623e-01,\n",
       "         1.72847692e+00,   2.64867230e+02,   3.19450833e+02,\n",
       "         1.13337158e+03,   1.54666241e+02,   1.31289569e+03,\n",
       "         9.10214242e+02,   4.02381052e+02,   8.83574274e+02,\n",
       "         7.75353685e+03,   2.84264037e+03,   1.71698284e+02,\n",
       "         6.53238557e+01,   2.73964323e+02,   6.66713766e+02,\n",
       "         1.76138709e+02,   3.66000634e+02,   1.15482096e+03,\n",
       "         3.45467819e+03,   3.95268035e+04,   7.40191641e+02,\n",
       "         7.33844757e+01,   2.16545898e+02,   4.49400050e+01,\n",
       "         7.63788501e+01,   3.16963256e+02,   3.33724672e+01,\n",
       "         5.26799673e+01,   5.25487900e+01,   4.91751693e+02,\n",
       "         8.48642342e+01,   1.73361067e+02,   6.74491520e+02,\n",
       "         2.16729790e+02,   2.99624902e+02,   7.71997715e+02,\n",
       "         3.02992719e+02,   2.51454786e+02,   6.19146652e+02,\n",
       "         8.39861351e+02,   6.51046235e+02,   3.68192847e+02,\n",
       "         3.48814712e+02,   5.24651724e+02,   2.32634592e+02,\n",
       "         7.04268104e+02,   5.36278454e+02,   7.45233711e+02,\n",
       "         2.87715627e+02,   3.25712868e+02,   6.25778162e+02])"
      ]
     },
     "execution_count": 33,
     "metadata": {},
     "output_type": "execute_result"
    }
   ],
   "source": [
    "idMod=3\n",
    "\n",
    "mymodel = modeltest.ModelsList[idMod]\n",
    "\n",
    "mytpool = np.empty(0)\n",
    "for j in range( len(tpool) ):\n",
    "    if idMod is not j:\n",
    "        mytpool=np.append(mytpool, tpool[j])\n",
    "print('mytpool len: ', len(mytpool))\n",
    "mytpool"
   ]
  },
  {
   "cell_type": "code",
   "execution_count": 34,
   "metadata": {
    "collapsed": false
   },
   "outputs": [],
   "source": [
    "\"\"\"This can be adopted alternatively to sample the frequencies\"\"\"\n",
    "#myexperiments = np.array(list(map(lambda x: Kmodel.Heuristic(), range(len(tpool))) ) )\n",
    "\n",
    "myexperiments = np.empty((len(mytpool), ), dtype=mymodel.GenSimModel.expparams_dtype)       #initialises the experiments to perform for the update\n",
    "\n",
    "myexperiments['t']  = mytpool"
   ]
  },
  {
   "cell_type": "code",
   "execution_count": 35,
   "metadata": {
    "collapsed": false
   },
   "outputs": [
    {
     "data": {
      "text/plain": [
       "array([(0.35683699543121394, 9.46765942e-315, 6.917e-321),\n",
       "       (1.5808340135250298, 0.6154953177229143, 0.0),\n",
       "       (1.0944813590553506, 8.60973318409419e-67, 9.462515493683218e-96),\n",
       "       (1.864247502033219, 5.937421302973274e-38, 5.981490944369225e-154),\n",
       "       (0.3572636712171276, 7.128903417486503e-67, 2.2137974609192766e-52),\n",
       "       (1.4207312855098175, 3.221777067163919e-57, 2.440043148419846e-154),\n",
       "       (0.5298276533358683, 1.7973950845951164e-52, 1.6584870046017555e-76),\n",
       "       (1.2013129096038775, 4.0139765785239013e-57, 1.1447266613021176e-259),\n",
       "       (0.8557616232532389, 8.238801249426261e-67, 8.232977426101218e-67),\n",
       "       (1.728476919127297, 3.507440597248618e-33, 5.90255903737772e-96),\n",
       "       (264.86723025964, 4.6569859217993704e-33, 1.0860392870200448e-42),\n",
       "       (319.45083288907455, 8.230073927580902e-67, 3.856824477342548e-110),\n",
       "       (1133.3715763774308, 1.0289754681224096e-71, 2.175299784204236e-76),\n",
       "       (154.66624113126255, 8.230073927580902e-67, 3.856824477342548e-110),\n",
       "       (1312.8956920887006, 5.63662862879879e-38, 7.491158791289353e-67),\n",
       "       (910.2142421090025, 8.230073927580902e-67, 3.856824477342548e-110),\n",
       "       (402.3810515242566, 9.497650800733272e-43, 9.949562606189485e-43),\n",
       "       (883.5742742067063, 8.230073927580902e-67, 3.856824477342548e-110),\n",
       "       (7753.536850059881, 1.5765151650544767e-52, 4.080705739923337e-33),\n",
       "       (2842.640366564863, 8.230073927580902e-67, 3.856824477342548e-110),\n",
       "       (171.6982840250611, 1.0330508203095702e-47, 3.537915966851914e-57),\n",
       "       (65.3238556892419, 8.230073927580902e-67, 3.856824477342548e-110),\n",
       "       (273.96432317414667, 4.271797062971403e-33, 1.830526435269629e-76),\n",
       "       (666.7137655942632, 8.230073927580902e-67, 3.856824477342548e-110),\n",
       "       (176.1387092130441, 4.4241564072191705e-62, 2.903173270315674e-57),\n",
       "       (366.0006344480956, 3.507440597248618e-33, 5.90255903737772e-96),\n",
       "       (1154.8209644004432, 3.540385697702263e-57, 2.740750093145695e-57),\n",
       "       (3454.6781919277882, 8.230073927580902e-67, 3.856824477342548e-110),\n",
       "       (39526.80351889482, 1.311970637864861e-71, 7.50130124038073e-67),\n",
       "       (740.1916405469702, 8.230073927580902e-67, 3.856824477342548e-110),\n",
       "       (73.384475710025, 4.176351791399228e-62, 1.657468374960362e-76),\n",
       "       (216.54589818604714, 8.230073927580902e-67, 3.856824477342548e-110),\n",
       "       (44.94000497425029, 1.3973765230204147e-76, 2.090291463589574e-76),\n",
       "       (76.37885010461945, 8.230073927580902e-67, 3.856824477342548e-110),\n",
       "       (316.9632557555483, 4.438069612774075e-38, 1.399397989597309e-76),\n",
       "       (33.37246723940814, 1.1076461316416828e-47, 7.262613854202232e-43),\n",
       "       (52.67996730747688, 4.063318638013455e-86, 9.344335597439601e-67),\n",
       "       (52.54879004592035, 1.3987298829508414e-76, 1.5734707517409745e-76),\n",
       "       (491.7516930057663, 7.872210246531193e-67, 5.056921543731874e-38),\n",
       "       (84.86423424367003, 1.3987298829508414e-76, 1.5734707517409745e-76),\n",
       "       (173.3610672087853, 3.258236382044335e-86, 3.3754904062961706e-57),\n",
       "       (674.4915198801164, 1.3987298829508414e-76, 1.5734707517409745e-76),\n",
       "       (216.72979003169735, 5.605245061175224e-67, 1.65949641502775e-76),\n",
       "       (299.62490194242946, 1.573812081116751e-76, 8.977733585681791e-67),\n",
       "       (771.997715395926, 3.661914109998451e-86, 6.384198417537159e-67),\n",
       "       (302.9927191323439, 1.573812081116751e-76, 8.977733585681791e-67),\n",
       "       (251.4547860506577, 8.976216205159347e-67, 1.199437029975034e-71),\n",
       "       (619.1466521399319, 9.353029203249408e-67, 5.937421302973274e-38),\n",
       "       (839.8613514365009, 7.105629856241507e-67, 6.759459899179083e-67),\n",
       "       (651.0462345924512, 9.353029203249408e-67, 5.937421302973274e-38),\n",
       "       (368.1928473497413, 4.074639946924853e-33, 4.908467512273438e-62),\n",
       "       (348.81471211578906, 4.472686005429887e-33, 3.221777067163919e-57),\n",
       "       (524.6517236644089, 6.827271776095825e-72, 1.1766096967627025e-47),\n",
       "       (232.63459212103427, 4.472686005429887e-33, 3.221777067163919e-57),\n",
       "       (704.2681042528467, 1.9217061641738914e-57, 4.854848161455794e-33),\n",
       "       (536.2784541378389, 4.472686005429887e-33, 3.221777067163919e-57),\n",
       "       (745.2337108690706, 8.25366512764847e-48, 1.0294228317480301e-71),\n",
       "       (287.7156269112609, 4.472686005429887e-33, 3.221777067163919e-57),\n",
       "       (325.7128675221013, 6.827271776095825e-72, 4.426073993902863e-62),\n",
       "       (625.7781617475598, 1.1308794638159578e-42, 4.0139765785239013e-57)], \n",
       "      dtype=[('t', '<f8'), ('w_1', '<f8'), ('w_2', '<f8')])"
      ]
     },
     "execution_count": 35,
     "metadata": {},
     "output_type": "execute_result"
    }
   ],
   "source": [
    "myexperiments"
   ]
  },
  {
   "cell_type": "code",
   "execution_count": null,
   "metadata": {
    "collapsed": true
   },
   "outputs": [],
   "source": [
    "myexperiments[field_i]"
   ]
  },
  {
   "cell_type": "code",
   "execution_count": 43,
   "metadata": {
    "collapsed": false
   },
   "outputs": [
    {
     "name": "stdout",
     "output_type": "stream",
     "text": [
      "inv_field:  ['w_1', 'w_2']\n",
      "[(0.35683699543121394, 0.4867189654629474, 0.728015489734225)\n",
      " (1.5808340135250298, 0.4867189654629474, 0.728015489734225)\n",
      " (1.0944813590553506, 0.4867189654629474, 0.728015489734225)\n",
      " (1.864247502033219, 0.4867189654629474, 0.728015489734225)\n",
      " (0.3572636712171276, 0.4867189654629474, 0.728015489734225)\n",
      " (1.4207312855098175, 0.4867189654629474, 0.728015489734225)\n",
      " (0.5298276533358683, 0.4867189654629474, 0.728015489734225)\n",
      " (1.2013129096038775, 0.4867189654629474, 0.728015489734225)\n",
      " (0.8557616232532389, 0.4867189654629474, 0.728015489734225)\n",
      " (1.728476919127297, 0.4867189654629474, 0.728015489734225)\n",
      " (264.86723025964, 0.4867189654629474, 0.728015489734225)\n",
      " (319.45083288907455, 0.4867189654629474, 0.728015489734225)\n",
      " (1133.3715763774308, 0.4867189654629474, 0.728015489734225)\n",
      " (154.66624113126255, 0.4867189654629474, 0.728015489734225)\n",
      " (1312.8956920887006, 0.4867189654629474, 0.728015489734225)\n",
      " (910.2142421090025, 0.4867189654629474, 0.728015489734225)\n",
      " (402.3810515242566, 0.4867189654629474, 0.728015489734225)\n",
      " (883.5742742067063, 0.4867189654629474, 0.728015489734225)\n",
      " (7753.536850059881, 0.4867189654629474, 0.728015489734225)\n",
      " (2842.640366564863, 0.4867189654629474, 0.728015489734225)\n",
      " (171.6982840250611, 0.4867189654629474, 0.728015489734225)\n",
      " (65.3238556892419, 0.4867189654629474, 0.728015489734225)\n",
      " (273.96432317414667, 0.4867189654629474, 0.728015489734225)\n",
      " (666.7137655942632, 0.4867189654629474, 0.728015489734225)\n",
      " (176.1387092130441, 0.4867189654629474, 0.728015489734225)\n",
      " (366.0006344480956, 0.4867189654629474, 0.728015489734225)\n",
      " (1154.8209644004432, 0.4867189654629474, 0.728015489734225)\n",
      " (3454.6781919277882, 0.4867189654629474, 0.728015489734225)\n",
      " (39526.80351889482, 0.4867189654629474, 0.728015489734225)\n",
      " (740.1916405469702, 0.4867189654629474, 0.728015489734225)\n",
      " (73.384475710025, 0.4867189654629474, 0.728015489734225)\n",
      " (216.54589818604714, 0.4867189654629474, 0.728015489734225)\n",
      " (44.94000497425029, 0.4867189654629474, 0.728015489734225)\n",
      " (76.37885010461945, 0.4867189654629474, 0.728015489734225)\n",
      " (316.9632557555483, 0.4867189654629474, 0.728015489734225)\n",
      " (33.37246723940814, 0.4867189654629474, 0.728015489734225)\n",
      " (52.67996730747688, 0.4867189654629474, 0.728015489734225)\n",
      " (52.54879004592035, 0.4867189654629474, 0.728015489734225)\n",
      " (491.7516930057663, 0.4867189654629474, 0.728015489734225)\n",
      " (84.86423424367003, 0.4867189654629474, 0.728015489734225)\n",
      " (173.3610672087853, 0.4867189654629474, 0.728015489734225)\n",
      " (674.4915198801164, 0.4867189654629474, 0.728015489734225)\n",
      " (216.72979003169735, 0.4867189654629474, 0.728015489734225)\n",
      " (299.62490194242946, 0.4867189654629474, 0.728015489734225)\n",
      " (771.997715395926, 0.4867189654629474, 0.728015489734225)\n",
      " (302.9927191323439, 0.4867189654629474, 0.728015489734225)\n",
      " (251.4547860506577, 0.4867189654629474, 0.728015489734225)\n",
      " (619.1466521399319, 0.4867189654629474, 0.728015489734225)\n",
      " (839.8613514365009, 0.4867189654629474, 0.728015489734225)\n",
      " (651.0462345924512, 0.4867189654629474, 0.728015489734225)\n",
      " (368.1928473497413, 0.4867189654629474, 0.728015489734225)\n",
      " (348.81471211578906, 0.4867189654629474, 0.728015489734225)\n",
      " (524.6517236644089, 0.4867189654629474, 0.728015489734225)\n",
      " (232.63459212103427, 0.4867189654629474, 0.728015489734225)\n",
      " (704.2681042528467, 0.4867189654629474, 0.728015489734225)\n",
      " (536.2784541378389, 0.4867189654629474, 0.728015489734225)\n",
      " (745.2337108690706, 0.4867189654629474, 0.728015489734225)\n",
      " (287.7156269112609, 0.4867189654629474, 0.728015489734225)\n",
      " (325.7128675221013, 0.4867189654629474, 0.728015489734225)\n",
      " (625.7781617475598, 0.4867189654629474, 0.728015489734225)]\n"
     ]
    }
   ],
   "source": [
    "inv_field = [item[0] for item in mymodel.GenSimModel.expparams_dtype[1:] ]\n",
    "print('inv_field: ', inv_field)\n",
    "for i in range(len(inv_field)):\n",
    "    myexperiments[inv_field[i]] = mymodel.NewEval[i]\n",
    "print(myexperiments)"
   ]
  },
  {
   "cell_type": "code",
   "execution_count": 47,
   "metadata": {
    "collapsed": false
   },
   "outputs": [],
   "source": [
    "mysimparams = mymodel.SimParams\n",
    "\n",
    "mydata = mymodel.GenSimModel.simulate_experiment(mymodel.SimParams, myexperiments)[0][0]\n",
    "\n",
    "Kupdater=mymodel.Updater\n",
    "Kupdater.batch_update(mydata, myexperiments, resample_interval=100)\n",
    "\n",
    "LogLikelihood = np.sum(Kupdater.log_total_likelihood)"
   ]
  },
  {
   "cell_type": "markdown",
   "metadata": {},
   "source": [
    "# MULTIPLE testing running"
   ]
  },
  {
   "cell_type": "code",
   "execution_count": 10,
   "metadata": {
    "collapsed": false
   },
   "outputs": [
    {
     "name": "stdout",
     "output_type": "stream",
     "text": [
      "[[ 0.5860098]]\n",
      "Initialization Ready\n",
      "[[ 0.15836811]]\n",
      "Initialization Ready\n",
      "[[ 0.4279087]]\n",
      "Initialization Ready\n",
      "[[ 0.15672626  0.97625095]]\n",
      "Initialization Ready\n",
      "[[ 0.46922643  0.24787462]]\n",
      "Initialization Ready\n",
      "[[ 0.6439683   0.20564304]]\n",
      "Initialization Ready\n",
      "[[ 0.63293011  0.85017443  0.10804446]]\n",
      "Initialization Ready\n",
      "Initial time selected > 1.29106627735\n",
      "Final time selected > 1.40759000391\n",
      "Final Parameters mean and stdev:[-0.01985354  0.51262223]\n",
      "True model was: [[[ 0.+0.j  1.+0.j]\n",
      "  [ 1.+0.j  0.+0.j]]\n",
      "\n",
      " [[ 0.+0.j -0.-1.j]\n",
      "  [ 0.+1.j  0.+0.j]]\n",
      "\n",
      " [[ 1.+0.j  0.+0.j]\n",
      "  [ 0.+0.j -1.+0.j]]]\n",
      "True parameters were: [[ 0.43405429  0.77906936  0.83532925]]\n",
      "Single iteration 0 elapsed time: 52.20132462257923\n",
      "Initial time selected > 6.72291585205\n",
      "Final time selected > 1284.91366825\n",
      "Exiting learning for Reaching Cov. Norm. Thrshold of 4.24891691164e-07\n",
      " at Iteration Number 188\n",
      "Final Parameters mean and stdev:[  1.67007387e+00   6.51837166e-04]\n",
      "True model was: [[[ 0.+0.j  1.+0.j]\n",
      "  [ 1.+0.j  0.+0.j]]\n",
      "\n",
      " [[ 0.+0.j -0.-1.j]\n",
      "  [ 0.+1.j  0.+0.j]]\n",
      "\n",
      " [[ 1.+0.j  0.+0.j]\n",
      "  [ 0.+0.j -1.+0.j]]]\n",
      "True parameters were: [[ 0.43405429  0.77906936  0.83532925]]\n",
      "Single iteration 1 elapsed time: 27.88749381752308\n",
      "Initial time selected > 5.53223543449\n",
      "Final time selected > 399.233293647\n",
      "Exiting learning for Reaching Cov. Norm. Thrshold of 6.26441068755e-07\n",
      " at Iteration Number 193\n",
      "Final Parameters mean and stdev:[ 0.34466202  0.00107813]\n",
      "True model was: [[[ 0.+0.j  1.+0.j]\n",
      "  [ 1.+0.j  0.+0.j]]\n",
      "\n",
      " [[ 0.+0.j -0.-1.j]\n",
      "  [ 0.+1.j  0.+0.j]]\n",
      "\n",
      " [[ 1.+0.j  0.+0.j]\n",
      "  [ 0.+0.j -1.+0.j]]]\n",
      "True parameters were: [[ 0.43405429  0.77906936  0.83532925]]\n",
      "Single iteration 2 elapsed time: 43.879749747900604\n",
      "Initial time selected > 0.819850514135\n"
     ]
    },
    {
     "ename": "KeyboardInterrupt",
     "evalue": "",
     "output_type": "error",
     "traceback": [
      "\u001b[0;31m---------------------------------------------------------------------------\u001b[0m",
      "\u001b[0;31mKeyboardInterrupt\u001b[0m                         Traceback (most recent call last)",
      "\u001b[0;32m<ipython-input-10-a80c831ca366>\u001b[0m in \u001b[0;36m<module>\u001b[0;34m()\u001b[0m\n\u001b[1;32m     22\u001b[0m \u001b[1;33m\u001b[0m\u001b[0m\n\u001b[1;32m     23\u001b[0m     \u001b[0mstart\u001b[0m\u001b[1;33m=\u001b[0m\u001b[0mtime\u001b[0m\u001b[1;33m.\u001b[0m\u001b[0mclock\u001b[0m\u001b[1;33m(\u001b[0m\u001b[1;33m)\u001b[0m\u001b[1;33m\u001b[0m\u001b[0m\n\u001b[0;32m---> 24\u001b[0;31m     \u001b[0mmodeltest\u001b[0m\u001b[1;33m.\u001b[0m\u001b[0mUpdateAllModels\u001b[0m\u001b[1;33m(\u001b[0m\u001b[0mexpnum\u001b[0m\u001b[1;33m=\u001b[0m\u001b[1;36m350\u001b[0m\u001b[1;33m)\u001b[0m\u001b[1;33m\u001b[0m\u001b[0m\n\u001b[0m\u001b[1;32m     25\u001b[0m     \u001b[0mend\u001b[0m\u001b[1;33m=\u001b[0m\u001b[0mtime\u001b[0m\u001b[1;33m.\u001b[0m\u001b[0mclock\u001b[0m\u001b[1;33m(\u001b[0m\u001b[1;33m)\u001b[0m\u001b[1;33m\u001b[0m\u001b[0m\n\u001b[1;32m     26\u001b[0m     \u001b[0mprint\u001b[0m\u001b[1;33m(\u001b[0m\u001b[1;34m'Total elapsed time for the learning process: '\u001b[0m \u001b[1;33m+\u001b[0m \u001b[0mstr\u001b[0m\u001b[1;33m(\u001b[0m\u001b[0mend\u001b[0m\u001b[1;33m-\u001b[0m\u001b[0mstart\u001b[0m\u001b[1;33m)\u001b[0m\u001b[1;33m)\u001b[0m\u001b[1;33m\u001b[0m\u001b[0m\n",
      "\u001b[0;32mC:\\Users\\ag15141\\Local Documents\\Cloud\\Dropbox (Qsim)\\Projects\\CU4 chip\\QHLandD\\Libraries\\QML_lib\\QMD.py\u001b[0m in \u001b[0;36mUpdateAllModels\u001b[0;34m(self, expnum, sigma_threshold)\u001b[0m\n\u001b[1;32m    119\u001b[0m         \u001b[1;32mfor\u001b[0m \u001b[0mi\u001b[0m \u001b[1;32min\u001b[0m \u001b[0mrange\u001b[0m\u001b[1;33m(\u001b[0m\u001b[0mlen\u001b[0m\u001b[1;33m(\u001b[0m\u001b[0mself\u001b[0m\u001b[1;33m.\u001b[0m\u001b[0mModelsList\u001b[0m\u001b[1;33m)\u001b[0m\u001b[1;33m)\u001b[0m\u001b[1;33m:\u001b[0m\u001b[1;33m\u001b[0m\u001b[0m\n\u001b[1;32m    120\u001b[0m             \u001b[0mstart\u001b[0m\u001b[1;33m=\u001b[0m\u001b[0mtime\u001b[0m\u001b[1;33m.\u001b[0m\u001b[0mclock\u001b[0m\u001b[1;33m(\u001b[0m\u001b[1;33m)\u001b[0m\u001b[1;33m\u001b[0m\u001b[0m\n\u001b[0;32m--> 121\u001b[0;31m             \u001b[0mself\u001b[0m\u001b[1;33m.\u001b[0m\u001b[0mModelsList\u001b[0m\u001b[1;33m[\u001b[0m\u001b[0mi\u001b[0m\u001b[1;33m]\u001b[0m\u001b[1;33m.\u001b[0m\u001b[0mUpdateModel\u001b[0m\u001b[1;33m(\u001b[0m\u001b[0mn_experiments\u001b[0m\u001b[1;33m=\u001b[0m\u001b[0mexpnum\u001b[0m\u001b[1;33m,\u001b[0m\u001b[0msigma_threshold\u001b[0m\u001b[1;33m=\u001b[0m\u001b[0msigma_threshold\u001b[0m\u001b[1;33m)\u001b[0m\u001b[1;33m\u001b[0m\u001b[0m\n\u001b[0m\u001b[1;32m    122\u001b[0m             \u001b[0mend\u001b[0m\u001b[1;33m=\u001b[0m\u001b[0mtime\u001b[0m\u001b[1;33m.\u001b[0m\u001b[0mclock\u001b[0m\u001b[1;33m(\u001b[0m\u001b[1;33m)\u001b[0m\u001b[1;33m\u001b[0m\u001b[0m\n\u001b[1;32m    123\u001b[0m             \u001b[0mprint\u001b[0m\u001b[1;33m(\u001b[0m\u001b[1;34m'True model was: '\u001b[0m\u001b[1;33m+\u001b[0m \u001b[0mstr\u001b[0m\u001b[1;33m(\u001b[0m\u001b[0mself\u001b[0m\u001b[1;33m.\u001b[0m\u001b[0mTrueOpList\u001b[0m\u001b[1;33m)\u001b[0m\u001b[1;33m)\u001b[0m\u001b[1;33m\u001b[0m\u001b[0m\n",
      "\u001b[0;32mC:\\Users\\ag15141\\Local Documents\\Cloud\\Dropbox (Qsim)\\Projects\\CU4 chip\\QHLandD\\Libraries\\QML_lib\\QML.py\u001b[0m in \u001b[0;36mUpdateModel\u001b[0;34m(self, n_experiments, sigma_threshold, checkloss)\u001b[0m\n\u001b[1;32m    162\u001b[0m             \u001b[1;31m#print(str(self.GenSimModel.ProbeState))\u001b[0m\u001b[1;33m\u001b[0m\u001b[1;33m\u001b[0m\u001b[0m\n\u001b[1;32m    163\u001b[0m \u001b[1;33m\u001b[0m\u001b[0m\n\u001b[0;32m--> 164\u001b[0;31m             \u001b[0mself\u001b[0m\u001b[1;33m.\u001b[0m\u001b[0mUpdater\u001b[0m\u001b[1;33m.\u001b[0m\u001b[0mupdate\u001b[0m\u001b[1;33m(\u001b[0m\u001b[0mself\u001b[0m\u001b[1;33m.\u001b[0m\u001b[0mDatum\u001b[0m\u001b[1;33m,\u001b[0m \u001b[0mself\u001b[0m\u001b[1;33m.\u001b[0m\u001b[0mExperiment\u001b[0m\u001b[1;33m)\u001b[0m\u001b[1;33m\u001b[0m\u001b[0m\n\u001b[0m\u001b[1;32m    165\u001b[0m \u001b[1;33m\u001b[0m\u001b[0m\n\u001b[1;32m    166\u001b[0m \u001b[1;33m\u001b[0m\u001b[0m\n",
      "\u001b[0;32mC:\\Program Files\\Anaconda3\\lib\\site-packages\\qinfer\\smc.py\u001b[0m in \u001b[0;36mupdate\u001b[0;34m(self, outcome, expparams, check_for_resample)\u001b[0m\n\u001b[1;32m    423\u001b[0m \u001b[1;33m\u001b[0m\u001b[0m\n\u001b[1;32m    424\u001b[0m         \u001b[1;31m# Perform the update.\u001b[0m\u001b[1;33m\u001b[0m\u001b[1;33m\u001b[0m\u001b[0m\n\u001b[0;32m--> 425\u001b[0;31m         \u001b[0mweights\u001b[0m\u001b[1;33m,\u001b[0m \u001b[0mnorm\u001b[0m \u001b[1;33m=\u001b[0m \u001b[0mself\u001b[0m\u001b[1;33m.\u001b[0m\u001b[0mhypothetical_update\u001b[0m\u001b[1;33m(\u001b[0m\u001b[0moutcome\u001b[0m\u001b[1;33m,\u001b[0m \u001b[0mexpparams\u001b[0m\u001b[1;33m,\u001b[0m \u001b[0mreturn_normalization\u001b[0m\u001b[1;33m=\u001b[0m\u001b[1;32mTrue\u001b[0m\u001b[1;33m)\u001b[0m\u001b[1;33m\u001b[0m\u001b[0m\n\u001b[0m\u001b[1;32m    426\u001b[0m \u001b[1;33m\u001b[0m\u001b[0m\n\u001b[1;32m    427\u001b[0m         \u001b[1;31m# Check for negative weights before applying the update.\u001b[0m\u001b[1;33m\u001b[0m\u001b[1;33m\u001b[0m\u001b[0m\n",
      "\u001b[0;32mC:\\Program Files\\Anaconda3\\lib\\site-packages\\qinfer\\smc.py\u001b[0m in \u001b[0;36mhypothetical_update\u001b[0;34m(self, outcomes, expparams, return_likelihood, return_normalization)\u001b[0m\n\u001b[1;32m    363\u001b[0m         \u001b[1;31m# This makes the multiplication with weights (shape (models,)) make sense,\u001b[0m\u001b[1;33m\u001b[0m\u001b[1;33m\u001b[0m\u001b[0m\n\u001b[1;32m    364\u001b[0m         \u001b[1;31m# since NumPy broadcasting rules align on the right-most index.\u001b[0m\u001b[1;33m\u001b[0m\u001b[1;33m\u001b[0m\u001b[0m\n\u001b[0;32m--> 365\u001b[0;31m         \u001b[0mL\u001b[0m \u001b[1;33m=\u001b[0m \u001b[0mself\u001b[0m\u001b[1;33m.\u001b[0m\u001b[0mmodel\u001b[0m\u001b[1;33m.\u001b[0m\u001b[0mlikelihood\u001b[0m\u001b[1;33m(\u001b[0m\u001b[0moutcomes\u001b[0m\u001b[1;33m,\u001b[0m \u001b[0mlocs\u001b[0m\u001b[1;33m,\u001b[0m \u001b[0mexpparams\u001b[0m\u001b[1;33m)\u001b[0m\u001b[1;33m.\u001b[0m\u001b[0mtranspose\u001b[0m\u001b[1;33m(\u001b[0m\u001b[1;33m[\u001b[0m\u001b[1;36m0\u001b[0m\u001b[1;33m,\u001b[0m \u001b[1;36m2\u001b[0m\u001b[1;33m,\u001b[0m \u001b[1;36m1\u001b[0m\u001b[1;33m]\u001b[0m\u001b[1;33m)\u001b[0m\u001b[1;33m\u001b[0m\u001b[0m\n\u001b[0m\u001b[1;32m    366\u001b[0m         \u001b[0mhyp_weights\u001b[0m \u001b[1;33m=\u001b[0m \u001b[0mweights\u001b[0m \u001b[1;33m*\u001b[0m \u001b[0mL\u001b[0m\u001b[1;33m\u001b[0m\u001b[0m\n\u001b[1;32m    367\u001b[0m \u001b[1;33m\u001b[0m\u001b[0m\n",
      "\u001b[0;32mC:\\Users\\ag15141\\Local Documents\\Cloud\\Dropbox (Qsim)\\Projects\\CU4 chip\\QHLandD\\Libraries\\QML_lib\\GenSimQMD_IQLE.py\u001b[0m in \u001b[0;36mlikelihood\u001b[0;34m(self, outcomes, modelparams, expparams)\u001b[0m\n\u001b[1;32m    184\u001b[0m             \u001b[1;31m#pr0[:, :] = pr0fromScipy(t, dw, self._oplist, probestate)\u001b[0m\u001b[1;33m\u001b[0m\u001b[1;33m\u001b[0m\u001b[0m\n\u001b[1;32m    185\u001b[0m             \u001b[1;31m#for all other models\u001b[0m\u001b[1;33m\u001b[0m\u001b[1;33m\u001b[0m\u001b[0m\n\u001b[0;32m--> 186\u001b[0;31m             \u001b[0mpr0\u001b[0m\u001b[1;33m[\u001b[0m\u001b[1;33m:\u001b[0m\u001b[1;33m,\u001b[0m \u001b[1;33m:\u001b[0m\u001b[1;33m]\u001b[0m \u001b[1;33m=\u001b[0m \u001b[0mpr0fromScipyNC\u001b[0m\u001b[1;33m(\u001b[0m\u001b[0mt\u001b[0m\u001b[1;33m,\u001b[0m \u001b[0mmodelparams\u001b[0m\u001b[1;33m[\u001b[0m\u001b[1;33m:\u001b[0m\u001b[1;33m,\u001b[0m\u001b[1;33m]\u001b[0m\u001b[1;33m,\u001b[0m \u001b[0mnp\u001b[0m\u001b[1;33m.\u001b[0m\u001b[0marray\u001b[0m\u001b[1;33m(\u001b[0m\u001b[1;33m[\u001b[0m\u001b[0mexpparams\u001b[0m\u001b[1;33m.\u001b[0m\u001b[0mitem\u001b[0m\u001b[1;33m(\u001b[0m\u001b[1;36m0\u001b[0m\u001b[1;33m)\u001b[0m\u001b[1;33m[\u001b[0m\u001b[1;36m1\u001b[0m\u001b[1;33m:\u001b[0m\u001b[1;33m]\u001b[0m\u001b[1;33m]\u001b[0m\u001b[1;33m)\u001b[0m\u001b[1;33m,\u001b[0m \u001b[0mself\u001b[0m\u001b[1;33m.\u001b[0m\u001b[0m_oplist\u001b[0m\u001b[1;33m,\u001b[0m \u001b[0mprobestate\u001b[0m\u001b[1;33m,\u001b[0m \u001b[0mHp\u001b[0m\u001b[1;33m=\u001b[0m\u001b[0mself\u001b[0m\u001b[1;33m.\u001b[0m\u001b[0m_trueHam\u001b[0m\u001b[1;33m,\u001b[0m \u001b[0mtrotterize\u001b[0m\u001b[1;33m=\u001b[0m\u001b[0mself\u001b[0m\u001b[1;33m.\u001b[0m\u001b[0m_trotter\u001b[0m\u001b[1;33m)\u001b[0m\u001b[1;33m\u001b[0m\u001b[0m\n\u001b[0m\u001b[1;32m    187\u001b[0m         \u001b[1;32melse\u001b[0m\u001b[1;33m:\u001b[0m\u001b[1;33m\u001b[0m\u001b[0m\n\u001b[1;32m    188\u001b[0m             \u001b[1;32mif\u001b[0m \u001b[1;33m(\u001b[0m\u001b[0mself\u001b[0m\u001b[1;33m.\u001b[0m\u001b[0m_solver\u001b[0m \u001b[1;33m==\u001b[0m \u001b[1;34m'qutip'\u001b[0m\u001b[1;33m)\u001b[0m\u001b[1;33m:\u001b[0m\u001b[1;33m\u001b[0m\u001b[0m\n",
      "\u001b[0;32mC:\\Users\\ag15141\\Local Documents\\Cloud\\Dropbox (Qsim)\\Projects\\CU4 chip\\QHLandD\\Libraries\\QML_lib\\Evo.py\u001b[0m in \u001b[0;36mpr0fromScipyNC\u001b[0;34m(tvec, modpar, exppar, oplist, probestate, Hp, trotterize)\u001b[0m\n\u001b[1;32m     92\u001b[0m         \u001b[1;31m#evolution for the system and particles in the simulator, assuming trueHam = simHam\u001b[0m\u001b[1;33m\u001b[0m\u001b[1;33m\u001b[0m\u001b[0m\n\u001b[1;32m     93\u001b[0m         \u001b[1;32mif\u001b[0m \u001b[1;32mnot\u001b[0m \u001b[0mtrueEvo\u001b[0m\u001b[1;33m:\u001b[0m\u001b[1;33m\u001b[0m\u001b[0m\n\u001b[0;32m---> 94\u001b[0;31m             \u001b[0mHp\u001b[0m \u001b[1;33m=\u001b[0m \u001b[0mgetH\u001b[0m\u001b[1;33m(\u001b[0m\u001b[0mmodpar\u001b[0m\u001b[1;33m[\u001b[0m\u001b[0mevoidx\u001b[0m\u001b[1;33m,\u001b[0m \u001b[0mnp\u001b[0m\u001b[1;33m.\u001b[0m\u001b[0mnewaxis\u001b[0m\u001b[1;33m]\u001b[0m\u001b[1;33m,\u001b[0m \u001b[0moplist\u001b[0m\u001b[1;33m)\u001b[0m\u001b[1;33m\u001b[0m\u001b[0m\n\u001b[0m\u001b[1;32m     95\u001b[0m         \u001b[1;31m#print(Hp)\u001b[0m\u001b[1;33m\u001b[0m\u001b[1;33m\u001b[0m\u001b[0m\n\u001b[1;32m     96\u001b[0m \u001b[1;33m\u001b[0m\u001b[0m\n",
      "\u001b[0;32mC:\\Users\\ag15141\\Local Documents\\Cloud\\Dropbox (Qsim)\\Projects\\CU4 chip\\QHLandD\\Libraries\\QML_lib\\Evo.py\u001b[0m in \u001b[0;36mgetH\u001b[0;34m(_pars, _ops)\u001b[0m\n\u001b[1;32m     40\u001b[0m \u001b[1;32mdef\u001b[0m \u001b[0mgetH\u001b[0m\u001b[1;33m(\u001b[0m\u001b[0m_pars\u001b[0m\u001b[1;33m,\u001b[0m \u001b[0m_ops\u001b[0m\u001b[1;33m)\u001b[0m\u001b[1;33m:\u001b[0m\u001b[1;33m\u001b[0m\u001b[0m\n\u001b[1;32m     41\u001b[0m     \u001b[1;31m#return np.sum(pars*ops, axis=0)\u001b[0m\u001b[1;33m\u001b[0m\u001b[1;33m\u001b[0m\u001b[0m\n\u001b[0;32m---> 42\u001b[0;31m     \u001b[1;32mreturn\u001b[0m \u001b[1;33m(\u001b[0m\u001b[0mnp\u001b[0m\u001b[1;33m.\u001b[0m\u001b[0mtensordot\u001b[0m\u001b[1;33m(\u001b[0m\u001b[0m_pars\u001b[0m\u001b[1;33m,\u001b[0m \u001b[0m_ops\u001b[0m\u001b[1;33m,\u001b[0m \u001b[0maxes\u001b[0m\u001b[1;33m=\u001b[0m\u001b[1;36m1\u001b[0m\u001b[1;33m)\u001b[0m\u001b[1;33m)\u001b[0m\u001b[1;33m[\u001b[0m\u001b[1;36m0\u001b[0m\u001b[1;33m]\u001b[0m\u001b[1;33m\u001b[0m\u001b[0m\n\u001b[0m\u001b[1;32m     43\u001b[0m \u001b[1;33m\u001b[0m\u001b[0m\n\u001b[1;32m     44\u001b[0m \u001b[1;32mdef\u001b[0m \u001b[0mpr0fromScipy\u001b[0m\u001b[1;33m(\u001b[0m\u001b[0mtvec\u001b[0m\u001b[1;33m,\u001b[0m \u001b[0mdw\u001b[0m\u001b[1;33m,\u001b[0m \u001b[0moplist\u001b[0m\u001b[1;33m,\u001b[0m \u001b[0mprobestate\u001b[0m\u001b[1;33m)\u001b[0m\u001b[1;33m:\u001b[0m\u001b[1;33m\u001b[0m\u001b[0m\n",
      "\u001b[0;32mC:\\Program Files\\Anaconda3\\lib\\site-packages\\numpy\\core\\numeric.py\u001b[0m in \u001b[0;36mtensordot\u001b[0;34m(a, b, axes)\u001b[0m\n\u001b[1;32m   1330\u001b[0m     \u001b[0mat\u001b[0m \u001b[1;33m=\u001b[0m \u001b[0ma\u001b[0m\u001b[1;33m.\u001b[0m\u001b[0mtranspose\u001b[0m\u001b[1;33m(\u001b[0m\u001b[0mnewaxes_a\u001b[0m\u001b[1;33m)\u001b[0m\u001b[1;33m.\u001b[0m\u001b[0mreshape\u001b[0m\u001b[1;33m(\u001b[0m\u001b[0mnewshape_a\u001b[0m\u001b[1;33m)\u001b[0m\u001b[1;33m\u001b[0m\u001b[0m\n\u001b[1;32m   1331\u001b[0m     \u001b[0mbt\u001b[0m \u001b[1;33m=\u001b[0m \u001b[0mb\u001b[0m\u001b[1;33m.\u001b[0m\u001b[0mtranspose\u001b[0m\u001b[1;33m(\u001b[0m\u001b[0mnewaxes_b\u001b[0m\u001b[1;33m)\u001b[0m\u001b[1;33m.\u001b[0m\u001b[0mreshape\u001b[0m\u001b[1;33m(\u001b[0m\u001b[0mnewshape_b\u001b[0m\u001b[1;33m)\u001b[0m\u001b[1;33m\u001b[0m\u001b[0m\n\u001b[0;32m-> 1332\u001b[0;31m     \u001b[0mres\u001b[0m \u001b[1;33m=\u001b[0m \u001b[0mdot\u001b[0m\u001b[1;33m(\u001b[0m\u001b[0mat\u001b[0m\u001b[1;33m,\u001b[0m \u001b[0mbt\u001b[0m\u001b[1;33m)\u001b[0m\u001b[1;33m\u001b[0m\u001b[0m\n\u001b[0m\u001b[1;32m   1333\u001b[0m     \u001b[1;32mreturn\u001b[0m \u001b[0mres\u001b[0m\u001b[1;33m.\u001b[0m\u001b[0mreshape\u001b[0m\u001b[1;33m(\u001b[0m\u001b[0molda\u001b[0m \u001b[1;33m+\u001b[0m \u001b[0moldb\u001b[0m\u001b[1;33m)\u001b[0m\u001b[1;33m\u001b[0m\u001b[0m\n\u001b[1;32m   1334\u001b[0m \u001b[1;33m\u001b[0m\u001b[0m\n",
      "\u001b[0;31mKeyboardInterrupt\u001b[0m: "
     ]
    }
   ],
   "source": [
    "nruns = 100\n",
    "pool_len = 50\n",
    "\n",
    "collectTrueOpList = []\n",
    "collectTrueNames = []\n",
    "collectTrueParams = []\n",
    "\n",
    "collectEstimParams = []\n",
    "\n",
    "collectKfactorsDict = []\n",
    "collectLogL = []\n",
    "\n",
    "\n",
    "for run in range(nruns):\n",
    "    modeltest = qmd.ModelsDevelopmentClass(7, lst)\n",
    "    collectTrueOpList.append(modeltest.TrueOpList)\n",
    "    collectTrueNames.append(modeltest.TrueNames)\n",
    "    \n",
    "    modeltest.InitiliaseAllModels()\n",
    "    \n",
    "    collectTrueParams.append(modeltest.TrueParamsList)\n",
    "    \n",
    "    start=time.clock()\n",
    "    modeltest.UpdateAllModels(expnum=350)\n",
    "    end=time.clock()\n",
    "    print('Total elapsed time for the learning process: ' + str(end-start))\n",
    "    \n",
    "    \n",
    "    collectEstimParams.append([modeltest.ModelsList[i].NewEval for i in range(len(modeltest.ModelsList)) ])\n",
    "    \n",
    "    tpool = modeltest.DataPool(pool_len)\n",
    "    \n",
    "    start=time.clock()\n",
    "    modeltest.UpdateAllLogLikelihoods(tpool)\n",
    "    end=time.clock()\n",
    "    print('Total elapsed time for Bayes factor update: ' + str(end-start))\n",
    "    \n",
    "    collectKfactorsDict.append(modeltest.ComputeAllBayesFactors(fromLogL = True))\n",
    "    \n",
    "    collectLogL.append([modeltest.ModelsList[i].KLogTotLikelihood for i in range(len(modeltest.ModelsList)) ])\n",
    "    "
   ]
  },
  {
   "cell_type": "code",
   "execution_count": 25,
   "metadata": {
    "collapsed": false
   },
   "outputs": [
    {
     "data": {
      "text/plain": [
       "array([[ 0.50250749]])"
      ]
     },
     "execution_count": 25,
     "metadata": {},
     "output_type": "execute_result"
    }
   ],
   "source": [
    "modeltest = qmd.ModelsDevelopmentClass(7, lst)\n",
    "modeltest.TrueParamsList"
   ]
  },
  {
   "cell_type": "markdown",
   "metadata": {},
   "source": [
    "## Data export"
   ]
  },
  {
   "cell_type": "code",
   "execution_count": null,
   "metadata": {
    "collapsed": true
   },
   "outputs": [],
   "source": [
    "import pickle\n",
    "PIK = \"testQMD_pool\"+str(pool_len)+\".dat\""
   ]
  },
  {
   "cell_type": "code",
   "execution_count": 514,
   "metadata": {
    "collapsed": true
   },
   "outputs": [],
   "source": [
    "data = [collectTrueOpList, collectTrueNames, collectTrueParams, collectEstimParams, collectKfactorsDict, collectLogL]\n",
    "with open(PIK, \"wb\") as f:\n",
    "    pickle.dump(data, f)"
   ]
  },
  {
   "cell_type": "markdown",
   "metadata": {},
   "source": [
    "## Data import"
   ]
  },
  {
   "cell_type": "code",
   "execution_count": 728,
   "metadata": {
    "collapsed": true
   },
   "outputs": [],
   "source": [
    "import pickle\n",
    "pool_len = 20\n",
    "PIK = \"testQMD_pool\"+str(pool_len)+\".dat\"\n",
    "\n",
    "with open(PIK, \"rb\") as f:\n",
    "    dataold = pickle.load(f)"
   ]
  },
  {
   "cell_type": "markdown",
   "metadata": {},
   "source": [
    "## Step-by-step checking"
   ]
  },
  {
   "cell_type": "code",
   "execution_count": 413,
   "metadata": {
    "collapsed": false
   },
   "outputs": [
    {
     "name": "stdout",
     "output_type": "stream",
     "text": [
      "ModelNames: ['sx_', 'sy_', 'sz_', 'sy_sx_', 'sz_sx_', 'sy_sz_', 'sy_sz_sx_']\n"
     ]
    }
   ],
   "source": [
    "print('ModelNames: ' + repr(modeltest.ModelNames))"
   ]
  },
  {
   "cell_type": "code",
   "execution_count": 414,
   "metadata": {
    "collapsed": false
   },
   "outputs": [
    {
     "name": "stdout",
     "output_type": "stream",
     "text": [
      "True model: 'sz_sx_'\n"
     ]
    }
   ],
   "source": [
    "ids = 99\n",
    "print(\"True model: \" + repr(collectTrueNames[ids][0]))"
   ]
  },
  {
   "cell_type": "code",
   "execution_count": 409,
   "metadata": {
    "collapsed": false
   },
   "outputs": [
    {
     "name": "stdout",
     "output_type": "stream",
     "text": [
      "Best model found: 'sy_sz_'\n"
     ]
    }
   ],
   "source": [
    "print(\"Best model found: \" + repr(modeltest.ModelNames[np.argmax(np.array(collectLogL[ids]))]) )"
   ]
  },
  {
   "cell_type": "code",
   "execution_count": 353,
   "metadata": {
    "collapsed": false
   },
   "outputs": [
    {
     "data": {
      "text/plain": [
       "array([[ 0.63612677,  0.41478088]])"
      ]
     },
     "execution_count": 353,
     "metadata": {},
     "output_type": "execute_result"
    }
   ],
   "source": [
    "collectTrueParams[ids]"
   ]
  },
  {
   "cell_type": "code",
   "execution_count": 163,
   "metadata": {
    "collapsed": false
   },
   "outputs": [
    {
     "data": {
      "text/plain": [
       "array([[ 0.18774291+0.j        ,  0.00000000-0.46414783j],\n",
       "       [ 0.00000000+0.46414783j, -0.18774291+0.j        ]])"
      ]
     },
     "execution_count": 163,
     "metadata": {},
     "output_type": "execute_result"
    }
   ],
   "source": [
    "evo.getH(collectTrueParams[ids], collectTrueOpList[ids])"
   ]
  },
  {
   "cell_type": "code",
   "execution_count": 203,
   "metadata": {
    "collapsed": false
   },
   "outputs": [
    {
     "data": {
      "text/plain": [
       "[-356.34959552749945,\n",
       " -309.98335005268302,\n",
       " -329.44589238992444,\n",
       " -371.01231960058362,\n",
       " -266.04046756817871,\n",
       " -109.89148827249306,\n",
       " -304.02204699679373]"
      ]
     },
     "execution_count": 203,
     "metadata": {},
     "output_type": "execute_result"
    }
   ],
   "source": [
    "collectLogL[ids]"
   ]
  },
  {
   "cell_type": "code",
   "execution_count": 165,
   "metadata": {
    "collapsed": false
   },
   "outputs": [
    {
     "data": {
      "text/plain": [
       "{\"['sx_']VS['sy_']\": 2.466545003709314e+50,\n",
       " \"['sx_']VS['sy_sx_']\": 0.0,\n",
       " \"['sx_']VS['sy_sz_']\": 1.1102230246251565e-16,\n",
       " \"['sx_']VS['sy_sz_sx_']\": 1.2325626075337937e-09,\n",
       " \"['sx_']VS['sz_']\": 1437094397674.96,\n",
       " \"['sx_']VS['sz_sx_']\": 1.0136122796027082e+43,\n",
       " \"['sy_']VS['sx_']\": 0.0,\n",
       " \"['sy_']VS['sy_sx_']\": 0.0,\n",
       " \"['sy_']VS['sy_sz_']\": 0.0,\n",
       " \"['sy_']VS['sy_sz_sx_']\": 0.0,\n",
       " \"['sy_']VS['sz_']\": 0.0,\n",
       " \"['sy_']VS['sz_sx_']\": 4.1094416647347032e-08,\n",
       " \"['sy_sx_']VS['sx_']\": 8.2851831811340211e+37,\n",
       " \"['sy_sx_']VS['sy_']\": 2.0435777180242562e+88,\n",
       " \"['sy_sx_']VS['sy_sz_']\": 9.5849849787552692e+21,\n",
       " \"['sy_sx_']VS['sy_sz_sx_']\": 1.021200708430138e+29,\n",
       " \"['sy_sx_']VS['sz_']\": 1.1906590333318505e+50,\n",
       " \"['sy_sx_']VS['sz_sx_']\": 8.3979634111552724e+80,\n",
       " \"['sy_sz_']VS['sx_']\": 8643918795384441.0,\n",
       " \"['sy_sz_']VS['sy_']\": 2.1320614717224526e+66,\n",
       " \"['sy_sz_']VS['sy_sx_']\": 0.0,\n",
       " \"['sy_sz_']VS['sy_sz_sx_']\": 10654171.192689272,\n",
       " \"['sy_sz_']VS['sz_']\": 1.2422127274804269e+28,\n",
       " \"['sy_sz_']VS['sz_sx_']\": 8.7615822348903182e+58,\n",
       " \"['sy_sz_sx_']VS['sx_']\": 811317805.86703587,\n",
       " \"['sy_sz_sx_']VS['sy_']\": 2.0011518804817405e+59,\n",
       " \"['sy_sz_sx_']VS['sy_sx_']\": 0.0,\n",
       " \"['sy_sz_sx_']VS['sy_sz_']\": 9.3859952254859991e-08,\n",
       " \"['sy_sz_sx_']VS['sz_']\": 1.165940273545458e+21,\n",
       " \"['sy_sz_sx_']VS['sz_sx_']\": 8.2236169068715369e+51,\n",
       " \"['sz_']VS['sx_']\": 6.9588779183504812e-13,\n",
       " \"['sz_']VS['sy_']\": 1.7163416736575391e+38,\n",
       " \"['sz_']VS['sy_sx_']\": 0.0,\n",
       " \"['sz_']VS['sy_sz_']\": 0.0,\n",
       " \"['sz_']VS['sy_sz_sx_']\": 0.0,\n",
       " \"['sz_']VS['sz_sx_']\": 7.053205977579529e+30,\n",
       " \"['sz_sx_']VS['sx_']\": 0.0,\n",
       " \"['sz_sx_']VS['sy_']\": 24334206.020827729,\n",
       " \"['sz_sx_']VS['sy_sx_']\": 0.0,\n",
       " \"['sz_sx_']VS['sy_sz_']\": 0.0,\n",
       " \"['sz_sx_']VS['sy_sz_sx_']\": 0.0,\n",
       " \"['sz_sx_']VS['sz_']\": 0.0}"
      ]
     },
     "execution_count": 165,
     "metadata": {},
     "output_type": "execute_result"
    }
   ],
   "source": [
    "collectKfactorsDict[ids]"
   ]
  },
  {
   "cell_type": "markdown",
   "metadata": {},
   "source": [
    "### applying directly the champion rule as the highest BayesFactor"
   ]
  },
  {
   "cell_type": "code",
   "execution_count": 417,
   "metadata": {
    "collapsed": false
   },
   "outputs": [
    {
     "name": "stdout",
     "output_type": "stream",
     "text": [
      "Correctly estimated model in 64.0% of cases\n"
     ]
    }
   ],
   "source": [
    "performance = []\n",
    "for ids in range(100):\n",
    "    performance.append(collectTrueNames[ids][0]==modeltest.ModelNames[np.argmax(np.array(collectLogL[ids]))])\n",
    "print(\"Correctly estimated model in \" + str(100*sum(performance)/len(performance)) + \"% of cases\")"
   ]
  },
  {
   "cell_type": "markdown",
   "metadata": {},
   "source": [
    "### tournament rule among Bayes Factors"
   ]
  },
  {
   "cell_type": "code",
   "execution_count": 610,
   "metadata": {
    "collapsed": false
   },
   "outputs": [
    {
     "data": {
      "text/plain": [
       "array([ 0.,  1.,  0.,  2.,  0.,  3.,  0.,  4.,  0.,  5.,  0.,  6.,  1.,\n",
       "        0.,  1.,  2.,  1.,  3.,  1.,  4.,  1.,  5.,  1.,  6.,  2.,  0.,\n",
       "        2.,  1.,  2.,  3.,  2.,  4.,  2.,  5.,  2.,  6.,  3.,  0.,  3.,\n",
       "        1.,  3.,  2.,  3.,  4.,  3.,  5.,  3.,  6.,  4.,  0.,  4.,  1.,\n",
       "        4.,  2.,  4.,  3.,  4.,  5.,  4.,  6.,  5.,  0.,  5.,  1.,  5.,\n",
       "        2.,  5.,  3.,  5.,  4.,  5.,  6.,  6.,  0.,  6.,  1.,  6.,  2.,\n",
       "        6.,  3.,  6.,  4.,  6.,  5.])"
      ]
     },
     "execution_count": 610,
     "metadata": {},
     "output_type": "execute_result"
    }
   ],
   "source": [
    "prolst=np.arange(len(modeltest.ModsOpList))\n",
    "\n",
    "prooutlst = np.empty(0)\n",
    "for i in range(len(prolst)):\n",
    "    for j in range(len(prolst)):\n",
    "        if i is not j:\n",
    "            prooutlst = np.append(prooutlst, np.array([prolst[i],prolst[j]]) )\n",
    "prooutlst"
   ]
  },
  {
   "cell_type": "code",
   "execution_count": 611,
   "metadata": {
    "collapsed": false
   },
   "outputs": [
    {
     "data": {
      "text/plain": [
       "['sx_', 'sy_', 'sz_', 'sy_sx_', 'sz_sx_', 'sy_sz_', 'sy_sz_sx_']"
      ]
     },
     "execution_count": 611,
     "metadata": {},
     "output_type": "execute_result"
    }
   ],
   "source": [
    "modelNames = modeltest.ModelNames\n",
    "modelNames"
   ]
  },
  {
   "cell_type": "code",
   "execution_count": 642,
   "metadata": {
    "collapsed": false
   },
   "outputs": [],
   "source": [
    "threshold = 1\n",
    "\n",
    "def findWinners(modelNames, proBayesFactorsList):\n",
    "    proBayesFactorNames=[]\n",
    "    for i in range(int(len(prooutlst)/2)):\n",
    "        proBayesFactorNames.append(\"\")\n",
    "        if proBayesFactorsList[i] > threshold:\n",
    "            proBayesFactorNames[-1]= str(modelNames[int(prooutlst[2*i])])\n",
    "        elif proBayesFactorsList[i] < 1/threshold:\n",
    "            proBayesFactorNames[-1]= str(modelNames[int(prooutlst[2*i+1])])\n",
    "            \n",
    "    return(proBayesFactorNames)"
   ]
  },
  {
   "cell_type": "code",
   "execution_count": 643,
   "metadata": {
    "collapsed": true
   },
   "outputs": [],
   "source": [
    "def ChampbyTourn(modelNames, collectLogL_single):\n",
    "    proBayesFactorsList=[]\n",
    "    for i in range(int(len(prooutlst)/2)):\n",
    "        proBayesFactorsList.append(bayf.BayesFactorfromLogL(collectLogL_single[int(prooutlst[2*i])], collectLogL_single[int(prooutlst[2*i+1])] ))\n",
    "    \n",
    "    proBayesFactorNames = findWinners(modelNames, proBayesFactorsList)\n",
    "    \n",
    "    wincount = np.array(list((map(lambda testmodel: proBayesFactorNames.count(testmodel),  modeltest.ModelNames))))\n",
    "    winner = modeltest.ModelNames[np.argmax(wincount)]\n",
    "    \n",
    "    return(winner)"
   ]
  },
  {
   "cell_type": "code",
   "execution_count": 644,
   "metadata": {
    "collapsed": false
   },
   "outputs": [
    {
     "name": "stdout",
     "output_type": "stream",
     "text": [
      "Correctly estimated model in 64.0% of cases\n"
     ]
    }
   ],
   "source": [
    "performance = []\n",
    "for ids in range(100):\n",
    "    performance.append(collectTrueNames[ids][0]== ChampbyTourn(modelNames, collectLogL[ids]) )\n",
    "print(\"Correctly estimated model in \" + str(100*sum(performance)/len(performance)) + \"% of cases\")"
   ]
  },
  {
   "cell_type": "markdown",
   "metadata": {},
   "source": [
    "#### Breakdown of the comparisons"
   ]
  },
  {
   "cell_type": "code",
   "execution_count": 718,
   "metadata": {
    "collapsed": true
   },
   "outputs": [],
   "source": [
    "ids = 25"
   ]
  },
  {
   "cell_type": "code",
   "execution_count": 719,
   "metadata": {
    "collapsed": false
   },
   "outputs": [
    {
     "data": {
      "text/plain": [
       "'sy_sz_'"
      ]
     },
     "execution_count": 719,
     "metadata": {},
     "output_type": "execute_result"
    }
   ],
   "source": [
    "collectTrueNames[ids][0]"
   ]
  },
  {
   "cell_type": "code",
   "execution_count": 720,
   "metadata": {
    "collapsed": false
   },
   "outputs": [
    {
     "data": {
      "text/plain": [
       "'sy_sx_'"
      ]
     },
     "execution_count": 720,
     "metadata": {},
     "output_type": "execute_result"
    }
   ],
   "source": [
    "modeltest.ModelNames[np.argmax(np.array(collectLogL[ids]))]"
   ]
  },
  {
   "cell_type": "code",
   "execution_count": 721,
   "metadata": {
    "collapsed": false
   },
   "outputs": [
    {
     "data": {
      "text/plain": [
       "'sy_sx_'"
      ]
     },
     "execution_count": 721,
     "metadata": {},
     "output_type": "execute_result"
    }
   ],
   "source": [
    "ChampbyTourn(modelNames, collectLogL[ids])"
   ]
  },
  {
   "cell_type": "code",
   "execution_count": 722,
   "metadata": {
    "collapsed": false
   },
   "outputs": [
    {
     "data": {
      "text/plain": [
       "array([ 6,  0,  4, 12,  2, 10,  8])"
      ]
     },
     "execution_count": 722,
     "metadata": {},
     "output_type": "execute_result"
    }
   ],
   "source": [
    "proBayesFactorsList=[]\n",
    "for i in range(int(len(prooutlst)/2)):\n",
    "    proBayesFactorsList.append(bayf.BayesFactorfromLogL(collectLogL[ids][int(prooutlst[2*i])], collectLogL[ids][int(prooutlst[2*i+1])] ))\n",
    "\n",
    "proBayesFactorNames = findWinners(modelNames, proBayesFactorsList)\n",
    "    \n",
    "wincount = np.array(list((map(lambda testmodel: proBayesFactorNames.count(testmodel),  modeltest.ModelNames))))\n",
    "\n",
    "wincount"
   ]
  },
  {
   "cell_type": "code",
   "execution_count": 662,
   "metadata": {
    "collapsed": false
   },
   "outputs": [
    {
     "data": {
      "text/plain": [
       "['sx_', 'sy_', 'sz_', 'sy_sx_', 'sz_sx_', 'sy_sz_', 'sy_sz_sx_']"
      ]
     },
     "execution_count": 662,
     "metadata": {},
     "output_type": "execute_result"
    }
   ],
   "source": [
    "modelNames"
   ]
  },
  {
   "cell_type": "code",
   "execution_count": 663,
   "metadata": {
    "collapsed": false
   },
   "outputs": [
    {
     "data": {
      "text/plain": [
       "{\"['sx_']VS['sy_']\": 0.0,\n",
       " \"['sx_']VS['sy_sx_']\": 6.6871167139478769e+45,\n",
       " \"['sx_']VS['sy_sz_']\": 0.0,\n",
       " \"['sx_']VS['sy_sz_sx_']\": 0.0,\n",
       " \"['sx_']VS['sz_']\": 0.034020909321501924,\n",
       " \"['sx_']VS['sz_sx_']\": 0.0,\n",
       " \"['sy_']VS['sx_']\": 3.6125900373512685e+65,\n",
       " \"['sy_']VS['sy_sx_']\": 2.4157811219413252e+111,\n",
       " \"['sy_']VS['sy_sz_']\": 0.0,\n",
       " \"['sy_']VS['sy_sz_sx_']\": 2.0817747791228504e+39,\n",
       " \"['sy_']VS['sz_']\": 1.2290359807648863e+64,\n",
       " \"['sy_']VS['sz_sx_']\": 0.0,\n",
       " \"['sy_sx_']VS['sx_']\": 0.0,\n",
       " \"['sy_sx_']VS['sy_']\": 0.0,\n",
       " \"['sy_sx_']VS['sy_sz_']\": 0.0,\n",
       " \"['sy_sx_']VS['sy_sz_sx_']\": 0.0,\n",
       " \"['sy_sx_']VS['sz_']\": 0.0,\n",
       " \"['sy_sx_']VS['sz_sx_']\": 0.0,\n",
       " \"['sy_sz_']VS['sx_']\": 1.2745003492793297e+94,\n",
       " \"['sy_sz_']VS['sy_']\": 3.5279407187142895e+28,\n",
       " \"['sy_sz_']VS['sy_sx_']\": 8.5227325875982124e+139,\n",
       " \"['sy_sz_']VS['sy_sz_sx_']\": 7.3443780104600535e+67,\n",
       " \"['sy_sz_']VS['sz_']\": 4.3359660813054559e+92,\n",
       " \"['sy_sz_']VS['sz_sx_']\": 1811744.1069892626,\n",
       " \"['sy_sz_sx_']VS['sx_']\": 1.7353414373064039e+26,\n",
       " \"['sy_sz_sx_']VS['sy_']\": 0.0,\n",
       " \"['sy_sz_sx_']VS['sy_sx_']\": 1.1604430729817986e+72,\n",
       " \"['sy_sz_sx_']VS['sy_sz_']\": 0.0,\n",
       " \"['sy_sz_sx_']VS['sz_']\": 5.9037893680445917e+24,\n",
       " \"['sy_sz_sx_']VS['sz_sx_']\": 0.0,\n",
       " \"['sz_']VS['sx_']\": 29.393688174230551,\n",
       " \"['sz_']VS['sy_']\": 0.0,\n",
       " \"['sz_']VS['sy_sx_']\": 1.9655902347446919e+47,\n",
       " \"['sz_']VS['sy_sz_']\": 0.0,\n",
       " \"['sz_']VS['sy_sz_sx_']\": 0.0,\n",
       " \"['sz_']VS['sz_sx_']\": 0.0,\n",
       " \"['sz_sx_']VS['sx_']\": 7.0346598306162722e+87,\n",
       " \"['sz_sx_']VS['sy_']\": 1.9472621465163664e+22,\n",
       " \"['sz_sx_']VS['sy_sx_']\": 4.704159133025182e+133,\n",
       " \"['sz_sx_']VS['sy_sz_']\": 5.5195432735466454e-07,\n",
       " \"['sz_sx_']VS['sy_sz_sx_']\": 4.0537612249583966e+61,\n",
       " \"['sz_sx_']VS['sz_']\": 2.3932552420500804e+86}"
      ]
     },
     "execution_count": 663,
     "metadata": {},
     "output_type": "execute_result"
    }
   ],
   "source": [
    "(collectKfactorsDict[ids])"
   ]
  },
  {
   "cell_type": "code",
   "execution_count": null,
   "metadata": {
    "collapsed": true
   },
   "outputs": [],
   "source": []
  }
 ],
 "metadata": {
  "anaconda-cloud": {},
  "kernelspec": {
   "display_name": "Python 3",
   "language": "python",
   "name": "python3"
  },
  "language_info": {
   "codemirror_mode": {
    "name": "ipython",
    "version": 3
   },
   "file_extension": ".py",
   "mimetype": "text/x-python",
   "name": "python",
   "nbconvert_exporter": "python",
   "pygments_lexer": "ipython3",
   "version": "3.6.1"
  }
 },
 "nbformat": 4,
 "nbformat_minor": 0
}
